{
 "cells": [
  {
   "cell_type": "markdown",
   "metadata": {},
   "source": [
    "# Implementação e Exemplos"
   ]
  },
  {
   "cell_type": "markdown",
   "metadata": {},
   "source": [
    "## Função Custo (Erro)\n",
    "\n",
    "### EQM - Erro Quadrático Médio\n",
    "\n",
    "$$\n",
    "EQM = \\frac{1}{n} \\sum_{i} (y_{esperado} - y_{estimado})^2\n",
    "$$\n",
    "$$\n",
    "\\frac{\\partial EQM}{\\partial Y} = \\frac{2}{n} (y_{estimado} - y_{esperado})\n",
    "$$"
   ]
  },
  {
   "cell_type": "code",
   "execution_count": 26,
   "metadata": {},
   "outputs": [],
   "source": [
    "import numpy as np\n",
    "\n",
    "def erro_quadratico_medio(y_esperado: np.ndarray, y_calculado: np.ndarray) -> np.ndarray:\n",
    "    return np.mean(np.power(y_esperado-y_calculado, 2))\n",
    "\n",
    "def derivada_erro_quadratico_medio(y_esperado: np.ndarray, y_calculado: np.ndarray) -> np.ndarray:\n",
    "    n = y_esperado.size\n",
    "    return 2*(y_calculado - y_esperado)/n"
   ]
  },
  {
   "cell_type": "markdown",
   "metadata": {},
   "source": [
    "### Outras opções\n",
    "\n",
    "https://www.tensorflow.org/api_docs/python/tf/keras/losses"
   ]
  },
  {
   "cell_type": "markdown",
   "metadata": {},
   "source": [
    "## Uso em uma Rede Neural\n",
    "\n",
    "https://towardsdatascience.com/math-neural-network-from-scratch-in-python-d6da9f29ce65\n",
    "\n",
    "### Rede Neural - Camadas"
   ]
  },
  {
   "cell_type": "code",
   "execution_count": 27,
   "metadata": {},
   "outputs": [],
   "source": [
    "from abc import ABC\n",
    "import numpy as np\n",
    "from utils import array_to_latex\n",
    "\n",
    "\n",
    "class Camada(ABC):\n",
    "    def __init__(self):\n",
    "        self.entrada: np.ndarray = None\n",
    "        self.saida: np.ndarray = None\n",
    "\n",
    "    def forward_propagation(self, input, logs: list):\n",
    "        raise NotImplementedError\n",
    "\n",
    "    def backward_propagation(\n",
    "        self, output_error, taxa_aprendizado: np.number, logs: list\n",
    "    ):\n",
    "        raise NotImplementedError\n",
    "\n",
    "\n",
    "class FCLayer(Camada):\n",
    "    def __init__(self, tamanho_entrada: int, tamanho_saida: int):\n",
    "        self.pesos = np.random.rand(tamanho_entrada, tamanho_saida)\n",
    "        self.bias = np.random.rand(1, tamanho_saida)\n",
    "\n",
    "    def forward_propagation(self, entrada: np.ndarray, logs: list) -> np.ndarray:\n",
    "        self.entrada = entrada\n",
    "        self.saida = np.dot(self.entrada, self.pesos) + self.bias\n",
    "\n",
    "        logs.append(r\"Y = Xw + b\")\n",
    "        logs.append(\n",
    "            r\"\\begin{gather}\"\n",
    "            + array_to_latex(self.saida, \"\")\n",
    "            + r\" = \"\n",
    "            + array_to_latex(self.entrada, \"\")\n",
    "            + r\" \\cdot \"\n",
    "            + array_to_latex(self.pesos, \"\")\n",
    "            + r\" + \"\n",
    "            + array_to_latex(self.bias, \"\")\n",
    "            + r\"\\end{gather}\"\n",
    "        )\n",
    "\n",
    "        return self.saida\n",
    "\n",
    "    # computes dE/dW, dE/dB for a given output_error=dE/dY. Returns input_error=dE/dX.\n",
    "    def backward_propagation(\n",
    "        self, derivada_erro: np.ndarray, taxa_aprendizado: np.number, logs: list\n",
    "    ) -> np.ndarray:\n",
    "        derivada_erro_entrada = np.dot(derivada_erro, self.pesos.T)\n",
    "\n",
    "        logs.append(r\"\\frac{\\partial E}{\\partial X} = \\frac{\\partial E}{\\partial Y} W^T\")\n",
    "        logs.append(\n",
    "            array_to_latex(derivada_erro_entrada, \"\")\n",
    "            + r\" = \"\n",
    "            + array_to_latex(derivada_erro, \"\")\n",
    "            + r\" \\cdot \"\n",
    "            + array_to_latex(self.pesos.T, \"\")\n",
    "        )\n",
    "\n",
    "        pesos_erro = np.dot(self.entrada.T, derivada_erro)\n",
    "        pesos_atualizados = self.pesos - taxa_aprendizado * pesos_erro\n",
    "        bias_atualizados = self.bias - taxa_aprendizado * derivada_erro\n",
    "\n",
    "        logs.append(r\"W = W - \\lambda (X^T \\cdot \\nabla f_{custo})\")\n",
    "        logs.append(\n",
    "            r\"\\begin{gather}\"\n",
    "            + array_to_latex(pesos_atualizados, \"\")\n",
    "            + r\" = \"\n",
    "            + array_to_latex(self.pesos, \"\")\n",
    "            + f\" - {taxa_aprendizado}\"\n",
    "            + array_to_latex(self.entrada.T, \"\")\n",
    "            + r\" \\cdot \"\n",
    "            + array_to_latex(derivada_erro, \"\")\n",
    "            + r\"\\end{gather}\"\n",
    "        )\n",
    "\n",
    "        logs.append(r\"B = B - \\lambda (\\nabla f_{custo})\")\n",
    "        logs.append(\n",
    "            r\"\\begin{gather}\"\n",
    "            + array_to_latex(bias_atualizados, \"\")\n",
    "            + r\" = \"\n",
    "            + array_to_latex(self.bias, \"\")\n",
    "            + f\" - {taxa_aprendizado}\"\n",
    "            + array_to_latex(derivada_erro, \"\")\n",
    "            + r\"\\end{gather}\"\n",
    "        )\n",
    "\n",
    "        self.pesos = pesos_atualizados\n",
    "        self.bias = bias_atualizados\n",
    "\n",
    "        return derivada_erro_entrada\n",
    "\n",
    "\n",
    "class ActivationLayer(Camada):\n",
    "    def __init__(self, fn_de_ativacao, derivada_fn_de_ativacao):\n",
    "        self.fn_de_ativacao = fn_de_ativacao\n",
    "        self.derivada_fn_de_ativacao = derivada_fn_de_ativacao\n",
    "\n",
    "    def forward_propagation(self, entrada: np.ndarray, logs: list):\n",
    "        self.entrada = entrada\n",
    "        self.saida = self.fn_de_ativacao(self.entrada)\n",
    "\n",
    "        logs.append(r\"Y = \\sigma(X)\")\n",
    "        logs.append(\n",
    "            r\"\\begin{gather}\"\n",
    "            + array_to_latex(self.saida, \"\")\n",
    "            + r\" = \\sigma(\"\n",
    "            + array_to_latex(self.entrada, \"\")\n",
    "            + r\") \"\n",
    "            + r\"\\end{gather}\"\n",
    "        )\n",
    "\n",
    "        return self.saida\n",
    "\n",
    "    # Returns input_error=dE/dX for a given output_error=dE/dY.\n",
    "    # regra da cadeia\n",
    "    def backward_propagation(\n",
    "        self, derivada_erro: np.ndarray, taxa_aprendizado: np.number, logs: list\n",
    "    ):\n",
    "        derivada_erro_entrada = derivada_erro * self.derivada_fn_de_ativacao(\n",
    "            self.entrada\n",
    "        )\n",
    "\n",
    "        logs.append(\n",
    "            r\"\\frac{\\partial E}{\\partial X} = \\frac{\\partial E}{\\partial Y} \\sigma^{'}(X)\"\n",
    "        )\n",
    "        logs.append(\n",
    "            r\"\\begin{gather}\"\n",
    "            + array_to_latex(derivada_erro_entrada, \"\")\n",
    "            + r\" = \"\n",
    "            + array_to_latex(derivada_erro, \"\")\n",
    "            + r\" \\cdot \"\n",
    "            + r\" \\sigma^{'}(\"\n",
    "            + array_to_latex(self.entrada, \"\")\n",
    "            + r\") \\end{gather}\"\n",
    "        )\n",
    "\n",
    "        return derivada_erro_entrada\n"
   ]
  },
  {
   "cell_type": "markdown",
   "metadata": {},
   "source": [
    "### Rede Neural - Rede"
   ]
  },
  {
   "cell_type": "code",
   "execution_count": 28,
   "metadata": {},
   "outputs": [],
   "source": [
    "class RedeNeural:\n",
    "    def __init__(self, fn_custo: callable, derivada_fn_custo: callable):\n",
    "        self.camadas = []\n",
    "        self.logs = []\n",
    "        self.fn_custo = fn_custo\n",
    "        self.derivada_fn_custo = derivada_fn_custo\n",
    "\n",
    "    def add(self, camada):\n",
    "        self.camadas.append(camada)\n",
    "\n",
    "    def predict(self, entrada: np.ndarray) -> np.ndarray:\n",
    "        n_entradas = len(entrada)\n",
    "        resultado = []\n",
    "\n",
    "        for n in range(n_entradas):\n",
    "            saida = entrada[n]\n",
    "            for camada in self.camadas:\n",
    "                saida = camada.forward_propagation(saida, [])\n",
    "            resultado.append(saida)\n",
    "\n",
    "        return resultado\n",
    "\n",
    "    def treinar(\n",
    "        self,\n",
    "        vetor_x: np.ndarray,\n",
    "        y_esperado: np.ndarray,\n",
    "        max_n_iteracoes: int,\n",
    "        taxa_aprendizado: np.number,\n",
    "    ):\n",
    "        n_amostras = len(vetor_x)\n",
    "        for iteracao in range(max_n_iteracoes):\n",
    "            self.logs.append([])\n",
    "            soma_erros = 0\n",
    "            for n in range(n_amostras):\n",
    "\n",
    "                output = vetor_x[n]\n",
    "                for indice_camada, camada in enumerate(self.camadas):\n",
    "                    self.logs[iteracao].append(f\"Camada: {indice_camada}\")\n",
    "                    output = camada.forward_propagation(output, self.logs[iteracao])\n",
    "\n",
    "                erro = self.fn_custo(y_esperado[n], output)\n",
    "                soma_erros += erro\n",
    "                self.logs[iteracao].append(\n",
    "                    r\"f_{custo}(\"\n",
    "                    + array_to_latex(y_esperado[n], \"\")\n",
    "                    + r\",\"\n",
    "                    + array_to_latex(output, \"\")\n",
    "                    + r\") = \"\n",
    "                    + array_to_latex(erro, \"\")\n",
    "                )\n",
    "\n",
    "                valor_derivada_erro = self.derivada_fn_custo(y_esperado[n], output)\n",
    "                self.logs[iteracao].append(\n",
    "                    r\"\\nabla = \\frac{\\partial E}{\\partial Y} = \"\n",
    "                    + array_to_latex(valor_derivada_erro, \"\")\n",
    "                )\n",
    "                for indice_camada, camada in enumerate(reversed(self.camadas)):\n",
    "                    self.logs[iteracao].append(\n",
    "                        f\"Camada: {len(self.camadas) - indice_camada -1}\"\n",
    "                    )\n",
    "                    valor_derivada_erro = camada.backward_propagation(\n",
    "                        valor_derivada_erro, taxa_aprendizado, self.logs[iteracao]\n",
    "                    )\n",
    "\n",
    "            media_erros = soma_erros / n_amostras\n",
    "            if iteracao < 5 or np.log10(iteracao + 1).is_integer():\n",
    "                print(\n",
    "                    \"Iteração %d/%d   MédiaErro=%f\"\n",
    "                    % (iteracao + 1, max_n_iteracoes, media_erros)\n",
    "                )\n",
    "            if media_erros < 0.01:\n",
    "                print(\n",
    "                    \"Iteração %d/%d MédiaErro=%f\"\n",
    "                    % (iteracao + 1, max_n_iteracoes, media_erros)\n",
    "                )\n",
    "                break\n"
   ]
  },
  {
   "cell_type": "markdown",
   "metadata": {},
   "source": [
    "### Rede Neural - Função de Ativação (Sigmóide)\n",
    "\n",
    "$$\n",
    "\\sigma(x) = \\frac{1}{1 + e^{-x}} \n",
    "$$\n",
    "\n",
    "$$\n",
    "\\frac{d \\sigma}{dx} = \\sigma(x) (1 - \\sigma(x))\n",
    "$$\n",
    "\n",
    "Sobre sigmóide: https://towardsdatascience.com/derivative-of-the-sigmoid-function-536880cf918e\n",
    "\n",
    "Outras opções:https://www.tensorflow.org/api_docs/python/tf/keras/activations\n",
    "\n",
    "Sobre algumas práticas: https://mlfromscratch.com/activation-functions-explained/#/"
   ]
  },
  {
   "cell_type": "code",
   "execution_count": 29,
   "metadata": {},
   "outputs": [],
   "source": [
    "import numpy as np\n",
    "\n",
    "\n",
    "def sigmoide(x: np.ndarray) -> np.ndarray:\n",
    "    return 1 / (1 + np.exp(-x))\n",
    "\n",
    "\n",
    "def derivada_sigmoide(x: np.number) -> np.number:\n",
    "    sigmoide_x = sigmoide(x)\n",
    "    return sigmoide_x * (1 - sigmoide_x)\n"
   ]
  },
  {
   "cell_type": "markdown",
   "metadata": {},
   "source": [
    "## Exemplo: Ou Exclusivo (XOR)\n",
    "\n",
    "Operador retorna verdadeiro apenas caso entradas A ou B {(verdadeiro, falso) ou (falso, verdadeiro)} sejam verdadeiras, retornando falso caso ambas sejam verdadeiras ou ainda caso nenhuma seja.\n",
    "\n",
    "### Entradas e Saídas Esperadas"
   ]
  },
  {
   "cell_type": "code",
   "execution_count": 30,
   "metadata": {},
   "outputs": [],
   "source": [
    "vetor_x_exemplo_XOR = np.array([[[0, 0]], [[0, 1]], [[1, 0]], [[1, 1]]])\n",
    "vetor_y_esperado_exemplo_XOR = np.array([[[0]], [[1]], [[1]], [[0]]])\n"
   ]
  },
  {
   "cell_type": "markdown",
   "metadata": {},
   "source": [
    "### Rede\n",
    "\n"
   ]
  },
  {
   "cell_type": "code",
   "execution_count": 31,
   "metadata": {},
   "outputs": [],
   "source": [
    "rede_exemplo_XOR = RedeNeural(erro_quadratico_medio, derivada_erro_quadratico_medio)\n",
    "rede_exemplo_XOR.add(FCLayer(2, 2))\n",
    "rede_exemplo_XOR.add(ActivationLayer(sigmoide, derivada_sigmoide))\n",
    "rede_exemplo_XOR.add(FCLayer(2, 1))\n"
   ]
  },
  {
   "cell_type": "markdown",
   "metadata": {},
   "source": [
    "### Treinamento"
   ]
  },
  {
   "cell_type": "code",
   "execution_count": 32,
   "metadata": {},
   "outputs": [
    {
     "name": "stdout",
     "output_type": "stream",
     "text": [
      "Iteração 1/1000   MédiaErro=0.976234\n",
      "Iteração 2/1000   MédiaErro=0.469033\n",
      "Iteração 3/1000   MédiaErro=0.406864\n",
      "Iteração 4/1000   MédiaErro=0.464590\n",
      "Iteração 5/1000   MédiaErro=0.503500\n",
      "Iteração 10/1000   MédiaErro=1.033505\n",
      "Iteração 90/1000 MédiaErro=0.008662\n"
     ]
    },
    {
     "data": {
      "text/latex": [
       "Camada: 0"
      ],
      "text/plain": [
       "<IPython.core.display.Latex object>"
      ]
     },
     "metadata": {},
     "output_type": "display_data"
    },
    {
     "data": {
      "text/latex": [
       "Y = Xw + b"
      ],
      "text/plain": [
       "<IPython.core.display.Latex object>"
      ]
     },
     "metadata": {},
     "output_type": "display_data"
    },
    {
     "data": {
      "text/latex": [
       "\\begin{gather}\n",
       "\\begin{bmatrix}\n",
       "  0.51111023 & 0.23491962\\\\\n",
       "\\end{bmatrix} = \n",
       "\\begin{bmatrix}\n",
       "  0 & 0\\\\\n",
       "\\end{bmatrix} \\cdot \n",
       "\\begin{bmatrix}\n",
       "  0.11860247 & 0.99172209\\\\\n",
       "  0.42233942 & 0.00533199\\\\\n",
       "\\end{bmatrix} + \n",
       "\\begin{bmatrix}\n",
       "  0.51111023 & 0.23491962\\\\\n",
       "\\end{bmatrix}\\end{gather}"
      ],
      "text/plain": [
       "<IPython.core.display.Latex object>"
      ]
     },
     "metadata": {},
     "output_type": "display_data"
    },
    {
     "data": {
      "text/latex": [
       "Camada: 1"
      ],
      "text/plain": [
       "<IPython.core.display.Latex object>"
      ]
     },
     "metadata": {},
     "output_type": "display_data"
    },
    {
     "data": {
      "text/latex": [
       "Y = \\sigma(X)"
      ],
      "text/plain": [
       "<IPython.core.display.Latex object>"
      ]
     },
     "metadata": {},
     "output_type": "display_data"
    },
    {
     "data": {
      "text/latex": [
       "\\begin{gather}\n",
       "\\begin{bmatrix}\n",
       "  0.6250667 & 0.55846129\\\\\n",
       "\\end{bmatrix} = \\sigma(\n",
       "\\begin{bmatrix}\n",
       "  0.51111023 & 0.23491962\\\\\n",
       "\\end{bmatrix}) \\end{gather}"
      ],
      "text/plain": [
       "<IPython.core.display.Latex object>"
      ]
     },
     "metadata": {},
     "output_type": "display_data"
    },
    {
     "data": {
      "text/latex": [
       "Camada: 2"
      ],
      "text/plain": [
       "<IPython.core.display.Latex object>"
      ]
     },
     "metadata": {},
     "output_type": "display_data"
    },
    {
     "data": {
      "text/latex": [
       "Y = Xw + b"
      ],
      "text/plain": [
       "<IPython.core.display.Latex object>"
      ]
     },
     "metadata": {},
     "output_type": "display_data"
    },
    {
     "data": {
      "text/latex": [
       "\\begin{gather}\n",
       "\\begin{bmatrix}\n",
       "  0.61273943\\\\\n",
       "\\end{bmatrix} = \n",
       "\\begin{bmatrix}\n",
       "  0.6250667 & 0.55846129\\\\\n",
       "\\end{bmatrix} \\cdot \n",
       "\\begin{bmatrix}\n",
       "  0.30445378\\\\\n",
       "  0.04938572\\\\\n",
       "\\end{bmatrix} + \n",
       "\\begin{bmatrix}\n",
       "  0.3948555\\\\\n",
       "\\end{bmatrix}\\end{gather}"
      ],
      "text/plain": [
       "<IPython.core.display.Latex object>"
      ]
     },
     "metadata": {},
     "output_type": "display_data"
    },
    {
     "data": {
      "text/latex": [
       "f_{custo}(\n",
       "\\begin{bmatrix}\n",
       "  0\\\\\n",
       "\\end{bmatrix},\n",
       "\\begin{bmatrix}\n",
       "  0.61273943\\\\\n",
       "\\end{bmatrix}) = \n",
       "\\begin{bmatrix}\n",
       "  0.3754496085479387\\\\\n",
       "\\end{bmatrix}"
      ],
      "text/plain": [
       "<IPython.core.display.Latex object>"
      ]
     },
     "metadata": {},
     "output_type": "display_data"
    },
    {
     "data": {
      "text/latex": [
       "\\nabla = \\frac{\\partial E}{\\partial Y} = \n",
       "\\begin{bmatrix}\n",
       "  1.22547886\\\\\n",
       "\\end{bmatrix}"
      ],
      "text/plain": [
       "<IPython.core.display.Latex object>"
      ]
     },
     "metadata": {},
     "output_type": "display_data"
    },
    {
     "data": {
      "text/latex": [
       "Camada: 2"
      ],
      "text/plain": [
       "<IPython.core.display.Latex object>"
      ]
     },
     "metadata": {},
     "output_type": "display_data"
    },
    {
     "data": {
      "text/latex": [
       "\\frac{\\partial E}{\\partial X} = \\frac{\\partial E}{\\partial Y} W^T"
      ],
      "text/plain": [
       "<IPython.core.display.Latex object>"
      ]
     },
     "metadata": {},
     "output_type": "display_data"
    },
    {
     "data": {
      "text/latex": [
       "\n",
       "\\begin{bmatrix}\n",
       "  0.37310167 & 0.06052115\\\\\n",
       "\\end{bmatrix} = \n",
       "\\begin{bmatrix}\n",
       "  1.22547886\\\\\n",
       "\\end{bmatrix} \\cdot \n",
       "\\begin{bmatrix}\n",
       "  0.30445378 & 0.04938572\\\\\n",
       "\\end{bmatrix}"
      ],
      "text/plain": [
       "<IPython.core.display.Latex object>"
      ]
     },
     "metadata": {},
     "output_type": "display_data"
    },
    {
     "data": {
      "text/latex": [
       "W = W - \\lambda (X^T \\cdot \\nabla f_{custo})"
      ],
      "text/plain": [
       "<IPython.core.display.Latex object>"
      ]
     },
     "metadata": {},
     "output_type": "display_data"
    },
    {
     "data": {
      "text/latex": [
       "\\begin{gather}\n",
       "\\begin{bmatrix}\n",
       "  -0.07854924\\\\\n",
       "  -0.29280554\\\\\n",
       "\\end{bmatrix} = \n",
       "\\begin{bmatrix}\n",
       "  0.30445378\\\\\n",
       "  0.04938572\\\\\n",
       "\\end{bmatrix} - 0.5\n",
       "\\begin{bmatrix}\n",
       "  0.6250667\\\\\n",
       "  0.55846129\\\\\n",
       "\\end{bmatrix} \\cdot \n",
       "\\begin{bmatrix}\n",
       "  1.22547886\\\\\n",
       "\\end{bmatrix}\\end{gather}"
      ],
      "text/plain": [
       "<IPython.core.display.Latex object>"
      ]
     },
     "metadata": {},
     "output_type": "display_data"
    },
    {
     "data": {
      "text/latex": [
       "B = B - \\lambda (\\nabla f_{custo})"
      ],
      "text/plain": [
       "<IPython.core.display.Latex object>"
      ]
     },
     "metadata": {},
     "output_type": "display_data"
    },
    {
     "data": {
      "text/latex": [
       "\\begin{gather}\n",
       "\\begin{bmatrix}\n",
       "  -0.21788393\\\\\n",
       "\\end{bmatrix} = \n",
       "\\begin{bmatrix}\n",
       "  0.3948555\\\\\n",
       "\\end{bmatrix} - 0.5\n",
       "\\begin{bmatrix}\n",
       "  1.22547886\\\\\n",
       "\\end{bmatrix}\\end{gather}"
      ],
      "text/plain": [
       "<IPython.core.display.Latex object>"
      ]
     },
     "metadata": {},
     "output_type": "display_data"
    },
    {
     "data": {
      "text/latex": [
       "Camada: 1"
      ],
      "text/plain": [
       "<IPython.core.display.Latex object>"
      ]
     },
     "metadata": {},
     "output_type": "display_data"
    },
    {
     "data": {
      "text/latex": [
       "\\frac{\\partial E}{\\partial X} = \\frac{\\partial E}{\\partial Y} \\sigma^{'}(X)"
      ],
      "text/plain": [
       "<IPython.core.display.Latex object>"
      ]
     },
     "metadata": {},
     "output_type": "display_data"
    },
    {
     "data": {
      "text/latex": [
       "\\begin{gather}\n",
       "\\begin{bmatrix}\n",
       "  0.08743948 & 0.01492344\\\\\n",
       "\\end{bmatrix} = \n",
       "\\begin{bmatrix}\n",
       "  0.37310167 & 0.06052115\\\\\n",
       "\\end{bmatrix} \\cdot  \\sigma^{'}(\n",
       "\\begin{bmatrix}\n",
       "  0.51111023 & 0.23491962\\\\\n",
       "\\end{bmatrix}) \\end{gather}"
      ],
      "text/plain": [
       "<IPython.core.display.Latex object>"
      ]
     },
     "metadata": {},
     "output_type": "display_data"
    },
    {
     "data": {
      "text/latex": [
       "Camada: 0"
      ],
      "text/plain": [
       "<IPython.core.display.Latex object>"
      ]
     },
     "metadata": {},
     "output_type": "display_data"
    },
    {
     "data": {
      "text/latex": [
       "\\frac{\\partial E}{\\partial X} = \\frac{\\partial E}{\\partial Y} W^T"
      ],
      "text/plain": [
       "<IPython.core.display.Latex object>"
      ]
     },
     "metadata": {},
     "output_type": "display_data"
    },
    {
     "data": {
      "text/latex": [
       "\n",
       "\\begin{bmatrix}\n",
       "  0.02517045 & 0.03700871\\\\\n",
       "\\end{bmatrix} = \n",
       "\\begin{bmatrix}\n",
       "  0.08743948 & 0.01492344\\\\\n",
       "\\end{bmatrix} \\cdot \n",
       "\\begin{bmatrix}\n",
       "  0.11860247 & 0.42233942\\\\\n",
       "  0.99172209 & 0.00533199\\\\\n",
       "\\end{bmatrix}"
      ],
      "text/plain": [
       "<IPython.core.display.Latex object>"
      ]
     },
     "metadata": {},
     "output_type": "display_data"
    },
    {
     "data": {
      "text/latex": [
       "W = W - \\lambda (X^T \\cdot \\nabla f_{custo})"
      ],
      "text/plain": [
       "<IPython.core.display.Latex object>"
      ]
     },
     "metadata": {},
     "output_type": "display_data"
    },
    {
     "data": {
      "text/latex": [
       "\\begin{gather}\n",
       "\\begin{bmatrix}\n",
       "  0.11860247 & 0.99172209\\\\\n",
       "  0.42233942 & 0.00533199\\\\\n",
       "\\end{bmatrix} = \n",
       "\\begin{bmatrix}\n",
       "  0.11860247 & 0.99172209\\\\\n",
       "  0.42233942 & 0.00533199\\\\\n",
       "\\end{bmatrix} - 0.5\n",
       "\\begin{bmatrix}\n",
       "  0\\\\\n",
       "  0\\\\\n",
       "\\end{bmatrix} \\cdot \n",
       "\\begin{bmatrix}\n",
       "  0.08743948 & 0.01492344\\\\\n",
       "\\end{bmatrix}\\end{gather}"
      ],
      "text/plain": [
       "<IPython.core.display.Latex object>"
      ]
     },
     "metadata": {},
     "output_type": "display_data"
    },
    {
     "data": {
      "text/latex": [
       "B = B - \\lambda (\\nabla f_{custo})"
      ],
      "text/plain": [
       "<IPython.core.display.Latex object>"
      ]
     },
     "metadata": {},
     "output_type": "display_data"
    },
    {
     "data": {
      "text/latex": [
       "\\begin{gather}\n",
       "\\begin{bmatrix}\n",
       "  0.46739049 & 0.2274579\\\\\n",
       "\\end{bmatrix} = \n",
       "\\begin{bmatrix}\n",
       "  0.51111023 & 0.23491962\\\\\n",
       "\\end{bmatrix} - 0.5\n",
       "\\begin{bmatrix}\n",
       "  0.08743948 & 0.01492344\\\\\n",
       "\\end{bmatrix}\\end{gather}"
      ],
      "text/plain": [
       "<IPython.core.display.Latex object>"
      ]
     },
     "metadata": {},
     "output_type": "display_data"
    },
    {
     "data": {
      "text/latex": [
       "Camada: 0"
      ],
      "text/plain": [
       "<IPython.core.display.Latex object>"
      ]
     },
     "metadata": {},
     "output_type": "display_data"
    },
    {
     "data": {
      "text/latex": [
       "Y = Xw + b"
      ],
      "text/plain": [
       "<IPython.core.display.Latex object>"
      ]
     },
     "metadata": {},
     "output_type": "display_data"
    },
    {
     "data": {
      "text/latex": [
       "\\begin{gather}\n",
       "\\begin{bmatrix}\n",
       "  0.88972991 & 0.23278989\\\\\n",
       "\\end{bmatrix} = \n",
       "\\begin{bmatrix}\n",
       "  0 & 1\\\\\n",
       "\\end{bmatrix} \\cdot \n",
       "\\begin{bmatrix}\n",
       "  0.11860247 & 0.99172209\\\\\n",
       "  0.42233942 & 0.00533199\\\\\n",
       "\\end{bmatrix} + \n",
       "\\begin{bmatrix}\n",
       "  0.46739049 & 0.2274579\\\\\n",
       "\\end{bmatrix}\\end{gather}"
      ],
      "text/plain": [
       "<IPython.core.display.Latex object>"
      ]
     },
     "metadata": {},
     "output_type": "display_data"
    },
    {
     "data": {
      "text/latex": [
       "Camada: 1"
      ],
      "text/plain": [
       "<IPython.core.display.Latex object>"
      ]
     },
     "metadata": {},
     "output_type": "display_data"
    },
    {
     "data": {
      "text/latex": [
       "Y = \\sigma(X)"
      ],
      "text/plain": [
       "<IPython.core.display.Latex object>"
      ]
     },
     "metadata": {},
     "output_type": "display_data"
    },
    {
     "data": {
      "text/latex": [
       "\\begin{gather}\n",
       "\\begin{bmatrix}\n",
       "  0.70883443 & 0.55793607\\\\\n",
       "\\end{bmatrix} = \\sigma(\n",
       "\\begin{bmatrix}\n",
       "  0.88972991 & 0.23278989\\\\\n",
       "\\end{bmatrix}) \\end{gather}"
      ],
      "text/plain": [
       "<IPython.core.display.Latex object>"
      ]
     },
     "metadata": {},
     "output_type": "display_data"
    },
    {
     "data": {
      "text/latex": [
       "Camada: 2"
      ],
      "text/plain": [
       "<IPython.core.display.Latex object>"
      ]
     },
     "metadata": {},
     "output_type": "display_data"
    },
    {
     "data": {
      "text/latex": [
       "Y = Xw + b"
      ],
      "text/plain": [
       "<IPython.core.display.Latex object>"
      ]
     },
     "metadata": {},
     "output_type": "display_data"
    },
    {
     "data": {
      "text/latex": [
       "\\begin{gather}\n",
       "\\begin{bmatrix}\n",
       "  -0.4369291\\\\\n",
       "\\end{bmatrix} = \n",
       "\\begin{bmatrix}\n",
       "  0.70883443 & 0.55793607\\\\\n",
       "\\end{bmatrix} \\cdot \n",
       "\\begin{bmatrix}\n",
       "  -0.07854924\\\\\n",
       "  -0.29280554\\\\\n",
       "\\end{bmatrix} + \n",
       "\\begin{bmatrix}\n",
       "  -0.21788393\\\\\n",
       "\\end{bmatrix}\\end{gather}"
      ],
      "text/plain": [
       "<IPython.core.display.Latex object>"
      ]
     },
     "metadata": {},
     "output_type": "display_data"
    },
    {
     "data": {
      "text/latex": [
       "f_{custo}(\n",
       "\\begin{bmatrix}\n",
       "  1\\\\\n",
       "\\end{bmatrix},\n",
       "\\begin{bmatrix}\n",
       "  -0.4369291\\\\\n",
       "\\end{bmatrix}) = \n",
       "\\begin{bmatrix}\n",
       "  2.0647652527578146\\\\\n",
       "\\end{bmatrix}"
      ],
      "text/plain": [
       "<IPython.core.display.Latex object>"
      ]
     },
     "metadata": {},
     "output_type": "display_data"
    },
    {
     "data": {
      "text/latex": [
       "\\nabla = \\frac{\\partial E}{\\partial Y} = \n",
       "\\begin{bmatrix}\n",
       "  -2.87385821\\\\\n",
       "\\end{bmatrix}"
      ],
      "text/plain": [
       "<IPython.core.display.Latex object>"
      ]
     },
     "metadata": {},
     "output_type": "display_data"
    },
    {
     "data": {
      "text/latex": [
       "Camada: 2"
      ],
      "text/plain": [
       "<IPython.core.display.Latex object>"
      ]
     },
     "metadata": {},
     "output_type": "display_data"
    },
    {
     "data": {
      "text/latex": [
       "\\frac{\\partial E}{\\partial X} = \\frac{\\partial E}{\\partial Y} W^T"
      ],
      "text/plain": [
       "<IPython.core.display.Latex object>"
      ]
     },
     "metadata": {},
     "output_type": "display_data"
    },
    {
     "data": {
      "text/latex": [
       "\n",
       "\\begin{bmatrix}\n",
       "  0.22573937 & 0.84148159\\\\\n",
       "\\end{bmatrix} = \n",
       "\\begin{bmatrix}\n",
       "  -2.87385821\\\\\n",
       "\\end{bmatrix} \\cdot \n",
       "\\begin{bmatrix}\n",
       "  -0.07854924 & -0.29280554\\\\\n",
       "\\end{bmatrix}"
      ],
      "text/plain": [
       "<IPython.core.display.Latex object>"
      ]
     },
     "metadata": {},
     "output_type": "display_data"
    },
    {
     "data": {
      "text/latex": [
       "W = W - \\lambda (X^T \\cdot \\nabla f_{custo})"
      ],
      "text/plain": [
       "<IPython.core.display.Latex object>"
      ]
     },
     "metadata": {},
     "output_type": "display_data"
    },
    {
     "data": {
      "text/latex": [
       "\\begin{gather}\n",
       "\\begin{bmatrix}\n",
       "  0.93999559\\\\\n",
       "  0.50890905\\\\\n",
       "\\end{bmatrix} = \n",
       "\\begin{bmatrix}\n",
       "  -0.07854924\\\\\n",
       "  -0.29280554\\\\\n",
       "\\end{bmatrix} - 0.5\n",
       "\\begin{bmatrix}\n",
       "  0.70883443\\\\\n",
       "  0.55793607\\\\\n",
       "\\end{bmatrix} \\cdot \n",
       "\\begin{bmatrix}\n",
       "  -2.87385821\\\\\n",
       "\\end{bmatrix}\\end{gather}"
      ],
      "text/plain": [
       "<IPython.core.display.Latex object>"
      ]
     },
     "metadata": {},
     "output_type": "display_data"
    },
    {
     "data": {
      "text/latex": [
       "B = B - \\lambda (\\nabla f_{custo})"
      ],
      "text/plain": [
       "<IPython.core.display.Latex object>"
      ]
     },
     "metadata": {},
     "output_type": "display_data"
    },
    {
     "data": {
      "text/latex": [
       "\\begin{gather}\n",
       "\\begin{bmatrix}\n",
       "  1.21904517\\\\\n",
       "\\end{bmatrix} = \n",
       "\\begin{bmatrix}\n",
       "  -0.21788393\\\\\n",
       "\\end{bmatrix} - 0.5\n",
       "\\begin{bmatrix}\n",
       "  -2.87385821\\\\\n",
       "\\end{bmatrix}\\end{gather}"
      ],
      "text/plain": [
       "<IPython.core.display.Latex object>"
      ]
     },
     "metadata": {},
     "output_type": "display_data"
    },
    {
     "data": {
      "text/latex": [
       "Camada: 1"
      ],
      "text/plain": [
       "<IPython.core.display.Latex object>"
      ]
     },
     "metadata": {},
     "output_type": "display_data"
    },
    {
     "data": {
      "text/latex": [
       "\\frac{\\partial E}{\\partial X} = \\frac{\\partial E}{\\partial Y} \\sigma^{'}(X)"
      ],
      "text/plain": [
       "<IPython.core.display.Latex object>"
      ]
     },
     "metadata": {},
     "output_type": "display_data"
    },
    {
     "data": {
      "text/latex": [
       "\\begin{gather}\n",
       "\\begin{bmatrix}\n",
       "  0.04658994 & 0.20754589\\\\\n",
       "\\end{bmatrix} = \n",
       "\\begin{bmatrix}\n",
       "  0.22573937 & 0.84148159\\\\\n",
       "\\end{bmatrix} \\cdot  \\sigma^{'}(\n",
       "\\begin{bmatrix}\n",
       "  0.88972991 & 0.23278989\\\\\n",
       "\\end{bmatrix}) \\end{gather}"
      ],
      "text/plain": [
       "<IPython.core.display.Latex object>"
      ]
     },
     "metadata": {},
     "output_type": "display_data"
    },
    {
     "data": {
      "text/latex": [
       "Camada: 0"
      ],
      "text/plain": [
       "<IPython.core.display.Latex object>"
      ]
     },
     "metadata": {},
     "output_type": "display_data"
    },
    {
     "data": {
      "text/latex": [
       "\\frac{\\partial E}{\\partial X} = \\frac{\\partial E}{\\partial Y} W^T"
      ],
      "text/plain": [
       "<IPython.core.display.Latex object>"
      ]
     },
     "metadata": {},
     "output_type": "display_data"
    },
    {
     "data": {
      "text/latex": [
       "\n",
       "\\begin{bmatrix}\n",
       "  0.21135353 & 0.0207834\\\\\n",
       "\\end{bmatrix} = \n",
       "\\begin{bmatrix}\n",
       "  0.04658994 & 0.20754589\\\\\n",
       "\\end{bmatrix} \\cdot \n",
       "\\begin{bmatrix}\n",
       "  0.11860247 & 0.42233942\\\\\n",
       "  0.99172209 & 0.00533199\\\\\n",
       "\\end{bmatrix}"
      ],
      "text/plain": [
       "<IPython.core.display.Latex object>"
      ]
     },
     "metadata": {},
     "output_type": "display_data"
    },
    {
     "data": {
      "text/latex": [
       "W = W - \\lambda (X^T \\cdot \\nabla f_{custo})"
      ],
      "text/plain": [
       "<IPython.core.display.Latex object>"
      ]
     },
     "metadata": {},
     "output_type": "display_data"
    },
    {
     "data": {
      "text/latex": [
       "\\begin{gather}\n",
       "\\begin{bmatrix}\n",
       "  0.11860247 & 0.99172209\\\\\n",
       "  0.39904445 & -0.09844095\\\\\n",
       "\\end{bmatrix} = \n",
       "\\begin{bmatrix}\n",
       "  0.11860247 & 0.99172209\\\\\n",
       "  0.42233942 & 0.00533199\\\\\n",
       "\\end{bmatrix} - 0.5\n",
       "\\begin{bmatrix}\n",
       "  0\\\\\n",
       "  1\\\\\n",
       "\\end{bmatrix} \\cdot \n",
       "\\begin{bmatrix}\n",
       "  0.04658994 & 0.20754589\\\\\n",
       "\\end{bmatrix}\\end{gather}"
      ],
      "text/plain": [
       "<IPython.core.display.Latex object>"
      ]
     },
     "metadata": {},
     "output_type": "display_data"
    },
    {
     "data": {
      "text/latex": [
       "B = B - \\lambda (\\nabla f_{custo})"
      ],
      "text/plain": [
       "<IPython.core.display.Latex object>"
      ]
     },
     "metadata": {},
     "output_type": "display_data"
    },
    {
     "data": {
      "text/latex": [
       "\\begin{gather}\n",
       "\\begin{bmatrix}\n",
       "  0.44409552 & 0.12368495\\\\\n",
       "\\end{bmatrix} = \n",
       "\\begin{bmatrix}\n",
       "  0.46739049 & 0.2274579\\\\\n",
       "\\end{bmatrix} - 0.5\n",
       "\\begin{bmatrix}\n",
       "  0.04658994 & 0.20754589\\\\\n",
       "\\end{bmatrix}\\end{gather}"
      ],
      "text/plain": [
       "<IPython.core.display.Latex object>"
      ]
     },
     "metadata": {},
     "output_type": "display_data"
    },
    {
     "data": {
      "text/latex": [
       "Camada: 0"
      ],
      "text/plain": [
       "<IPython.core.display.Latex object>"
      ]
     },
     "metadata": {},
     "output_type": "display_data"
    },
    {
     "data": {
      "text/latex": [
       "Y = Xw + b"
      ],
      "text/plain": [
       "<IPython.core.display.Latex object>"
      ]
     },
     "metadata": {},
     "output_type": "display_data"
    },
    {
     "data": {
      "text/latex": [
       "\\begin{gather}\n",
       "\\begin{bmatrix}\n",
       "  0.56269798 & 1.11540704\\\\\n",
       "\\end{bmatrix} = \n",
       "\\begin{bmatrix}\n",
       "  1 & 0\\\\\n",
       "\\end{bmatrix} \\cdot \n",
       "\\begin{bmatrix}\n",
       "  0.11860247 & 0.99172209\\\\\n",
       "  0.39904445 & -0.09844095\\\\\n",
       "\\end{bmatrix} + \n",
       "\\begin{bmatrix}\n",
       "  0.44409552 & 0.12368495\\\\\n",
       "\\end{bmatrix}\\end{gather}"
      ],
      "text/plain": [
       "<IPython.core.display.Latex object>"
      ]
     },
     "metadata": {},
     "output_type": "display_data"
    },
    {
     "data": {
      "text/latex": [
       "Camada: 1"
      ],
      "text/plain": [
       "<IPython.core.display.Latex object>"
      ]
     },
     "metadata": {},
     "output_type": "display_data"
    },
    {
     "data": {
      "text/latex": [
       "Y = \\sigma(X)"
      ],
      "text/plain": [
       "<IPython.core.display.Latex object>"
      ]
     },
     "metadata": {},
     "output_type": "display_data"
    },
    {
     "data": {
      "text/latex": [
       "\\begin{gather}\n",
       "\\begin{bmatrix}\n",
       "  0.63707657 & 0.75313578\\\\\n",
       "\\end{bmatrix} = \\sigma(\n",
       "\\begin{bmatrix}\n",
       "  0.56269798 & 1.11540704\\\\\n",
       "\\end{bmatrix}) \\end{gather}"
      ],
      "text/plain": [
       "<IPython.core.display.Latex object>"
      ]
     },
     "metadata": {},
     "output_type": "display_data"
    },
    {
     "data": {
      "text/latex": [
       "Camada: 2"
      ],
      "text/plain": [
       "<IPython.core.display.Latex object>"
      ]
     },
     "metadata": {},
     "output_type": "display_data"
    },
    {
     "data": {
      "text/latex": [
       "Y = Xw + b"
      ],
      "text/plain": [
       "<IPython.core.display.Latex object>"
      ]
     },
     "metadata": {},
     "output_type": "display_data"
    },
    {
     "data": {
      "text/latex": [
       "\\begin{gather}\n",
       "\\begin{bmatrix}\n",
       "  2.20117195\\\\\n",
       "\\end{bmatrix} = \n",
       "\\begin{bmatrix}\n",
       "  0.63707657 & 0.75313578\\\\\n",
       "\\end{bmatrix} \\cdot \n",
       "\\begin{bmatrix}\n",
       "  0.93999559\\\\\n",
       "  0.50890905\\\\\n",
       "\\end{bmatrix} + \n",
       "\\begin{bmatrix}\n",
       "  1.21904517\\\\\n",
       "\\end{bmatrix}\\end{gather}"
      ],
      "text/plain": [
       "<IPython.core.display.Latex object>"
      ]
     },
     "metadata": {},
     "output_type": "display_data"
    },
    {
     "data": {
      "text/latex": [
       "f_{custo}(\n",
       "\\begin{bmatrix}\n",
       "  1\\\\\n",
       "\\end{bmatrix},\n",
       "\\begin{bmatrix}\n",
       "  2.20117195\\\\\n",
       "\\end{bmatrix}) = \n",
       "\\begin{bmatrix}\n",
       "  1.4428140603944233\\\\\n",
       "\\end{bmatrix}"
      ],
      "text/plain": [
       "<IPython.core.display.Latex object>"
      ]
     },
     "metadata": {},
     "output_type": "display_data"
    },
    {
     "data": {
      "text/latex": [
       "\\nabla = \\frac{\\partial E}{\\partial Y} = \n",
       "\\begin{bmatrix}\n",
       "  2.40234391\\\\\n",
       "\\end{bmatrix}"
      ],
      "text/plain": [
       "<IPython.core.display.Latex object>"
      ]
     },
     "metadata": {},
     "output_type": "display_data"
    },
    {
     "data": {
      "text/latex": [
       "Camada: 2"
      ],
      "text/plain": [
       "<IPython.core.display.Latex object>"
      ]
     },
     "metadata": {},
     "output_type": "display_data"
    },
    {
     "data": {
      "text/latex": [
       "\\frac{\\partial E}{\\partial X} = \\frac{\\partial E}{\\partial Y} W^T"
      ],
      "text/plain": [
       "<IPython.core.display.Latex object>"
      ]
     },
     "metadata": {},
     "output_type": "display_data"
    },
    {
     "data": {
      "text/latex": [
       "\n",
       "\\begin{bmatrix}\n",
       "  2.25819268 & 1.22257455\\\\\n",
       "\\end{bmatrix} = \n",
       "\\begin{bmatrix}\n",
       "  2.40234391\\\\\n",
       "\\end{bmatrix} \\cdot \n",
       "\\begin{bmatrix}\n",
       "  0.93999559 & 0.50890905\\\\\n",
       "\\end{bmatrix}"
      ],
      "text/plain": [
       "<IPython.core.display.Latex object>"
      ]
     },
     "metadata": {},
     "output_type": "display_data"
    },
    {
     "data": {
      "text/latex": [
       "W = W - \\lambda (X^T \\cdot \\nabla f_{custo})"
      ],
      "text/plain": [
       "<IPython.core.display.Latex object>"
      ]
     },
     "metadata": {},
     "output_type": "display_data"
    },
    {
     "data": {
      "text/latex": [
       "\\begin{gather}\n",
       "\\begin{bmatrix}\n",
       "  0.17475708\\\\\n",
       "  -0.39573652\\\\\n",
       "\\end{bmatrix} = \n",
       "\\begin{bmatrix}\n",
       "  0.93999559\\\\\n",
       "  0.50890905\\\\\n",
       "\\end{bmatrix} - 0.5\n",
       "\\begin{bmatrix}\n",
       "  0.63707657\\\\\n",
       "  0.75313578\\\\\n",
       "\\end{bmatrix} \\cdot \n",
       "\\begin{bmatrix}\n",
       "  2.40234391\\\\\n",
       "\\end{bmatrix}\\end{gather}"
      ],
      "text/plain": [
       "<IPython.core.display.Latex object>"
      ]
     },
     "metadata": {},
     "output_type": "display_data"
    },
    {
     "data": {
      "text/latex": [
       "B = B - \\lambda (\\nabla f_{custo})"
      ],
      "text/plain": [
       "<IPython.core.display.Latex object>"
      ]
     },
     "metadata": {},
     "output_type": "display_data"
    },
    {
     "data": {
      "text/latex": [
       "\\begin{gather}\n",
       "\\begin{bmatrix}\n",
       "  0.01787322\\\\\n",
       "\\end{bmatrix} = \n",
       "\\begin{bmatrix}\n",
       "  1.21904517\\\\\n",
       "\\end{bmatrix} - 0.5\n",
       "\\begin{bmatrix}\n",
       "  2.40234391\\\\\n",
       "\\end{bmatrix}\\end{gather}"
      ],
      "text/plain": [
       "<IPython.core.display.Latex object>"
      ]
     },
     "metadata": {},
     "output_type": "display_data"
    },
    {
     "data": {
      "text/latex": [
       "Camada: 1"
      ],
      "text/plain": [
       "<IPython.core.display.Latex object>"
      ]
     },
     "metadata": {},
     "output_type": "display_data"
    },
    {
     "data": {
      "text/latex": [
       "\\frac{\\partial E}{\\partial X} = \\frac{\\partial E}{\\partial Y} \\sigma^{'}(X)"
      ],
      "text/plain": [
       "<IPython.core.display.Latex object>"
      ]
     },
     "metadata": {},
     "output_type": "display_data"
    },
    {
     "data": {
      "text/latex": [
       "\\begin{gather}\n",
       "\\begin{bmatrix}\n",
       "  0.52211676 & 0.22730385\\\\\n",
       "\\end{bmatrix} = \n",
       "\\begin{bmatrix}\n",
       "  2.25819268 & 1.22257455\\\\\n",
       "\\end{bmatrix} \\cdot  \\sigma^{'}(\n",
       "\\begin{bmatrix}\n",
       "  0.56269798 & 1.11540704\\\\\n",
       "\\end{bmatrix}) \\end{gather}"
      ],
      "text/plain": [
       "<IPython.core.display.Latex object>"
      ]
     },
     "metadata": {},
     "output_type": "display_data"
    },
    {
     "data": {
      "text/latex": [
       "Camada: 0"
      ],
      "text/plain": [
       "<IPython.core.display.Latex object>"
      ]
     },
     "metadata": {},
     "output_type": "display_data"
    },
    {
     "data": {
      "text/latex": [
       "\\frac{\\partial E}{\\partial X} = \\frac{\\partial E}{\\partial Y} W^T"
      ],
      "text/plain": [
       "<IPython.core.display.Latex object>"
      ]
     },
     "metadata": {},
     "output_type": "display_data"
    },
    {
     "data": {
      "text/latex": [
       "\n",
       "\\begin{bmatrix}\n",
       "  0.28734658 & 0.18597179\\\\\n",
       "\\end{bmatrix} = \n",
       "\\begin{bmatrix}\n",
       "  0.52211676 & 0.22730385\\\\\n",
       "\\end{bmatrix} \\cdot \n",
       "\\begin{bmatrix}\n",
       "  0.11860247 & 0.39904445\\\\\n",
       "  0.99172209 & -0.09844095\\\\\n",
       "\\end{bmatrix}"
      ],
      "text/plain": [
       "<IPython.core.display.Latex object>"
      ]
     },
     "metadata": {},
     "output_type": "display_data"
    },
    {
     "data": {
      "text/latex": [
       "W = W - \\lambda (X^T \\cdot \\nabla f_{custo})"
      ],
      "text/plain": [
       "<IPython.core.display.Latex object>"
      ]
     },
     "metadata": {},
     "output_type": "display_data"
    },
    {
     "data": {
      "text/latex": [
       "\\begin{gather}\n",
       "\\begin{bmatrix}\n",
       "  -0.14245591 & 0.87807016\\\\\n",
       "  0.39904445 & -0.09844095\\\\\n",
       "\\end{bmatrix} = \n",
       "\\begin{bmatrix}\n",
       "  0.11860247 & 0.99172209\\\\\n",
       "  0.39904445 & -0.09844095\\\\\n",
       "\\end{bmatrix} - 0.5\n",
       "\\begin{bmatrix}\n",
       "  1\\\\\n",
       "  0\\\\\n",
       "\\end{bmatrix} \\cdot \n",
       "\\begin{bmatrix}\n",
       "  0.52211676 & 0.22730385\\\\\n",
       "\\end{bmatrix}\\end{gather}"
      ],
      "text/plain": [
       "<IPython.core.display.Latex object>"
      ]
     },
     "metadata": {},
     "output_type": "display_data"
    },
    {
     "data": {
      "text/latex": [
       "B = B - \\lambda (\\nabla f_{custo})"
      ],
      "text/plain": [
       "<IPython.core.display.Latex object>"
      ]
     },
     "metadata": {},
     "output_type": "display_data"
    },
    {
     "data": {
      "text/latex": [
       "\\begin{gather}\n",
       "\\begin{bmatrix}\n",
       "  0.18303714 & 0.01003303\\\\\n",
       "\\end{bmatrix} = \n",
       "\\begin{bmatrix}\n",
       "  0.44409552 & 0.12368495\\\\\n",
       "\\end{bmatrix} - 0.5\n",
       "\\begin{bmatrix}\n",
       "  0.52211676 & 0.22730385\\\\\n",
       "\\end{bmatrix}\\end{gather}"
      ],
      "text/plain": [
       "<IPython.core.display.Latex object>"
      ]
     },
     "metadata": {},
     "output_type": "display_data"
    },
    {
     "data": {
      "text/latex": [
       "Camada: 0"
      ],
      "text/plain": [
       "<IPython.core.display.Latex object>"
      ]
     },
     "metadata": {},
     "output_type": "display_data"
    },
    {
     "data": {
      "text/latex": [
       "Y = Xw + b"
      ],
      "text/plain": [
       "<IPython.core.display.Latex object>"
      ]
     },
     "metadata": {},
     "output_type": "display_data"
    },
    {
     "data": {
      "text/latex": [
       "\\begin{gather}\n",
       "\\begin{bmatrix}\n",
       "  0.43962568 & 0.78966224\\\\\n",
       "\\end{bmatrix} = \n",
       "\\begin{bmatrix}\n",
       "  1 & 1\\\\\n",
       "\\end{bmatrix} \\cdot \n",
       "\\begin{bmatrix}\n",
       "  -0.14245591 & 0.87807016\\\\\n",
       "  0.39904445 & -0.09844095\\\\\n",
       "\\end{bmatrix} + \n",
       "\\begin{bmatrix}\n",
       "  0.18303714 & 0.01003303\\\\\n",
       "\\end{bmatrix}\\end{gather}"
      ],
      "text/plain": [
       "<IPython.core.display.Latex object>"
      ]
     },
     "metadata": {},
     "output_type": "display_data"
    },
    {
     "data": {
      "text/latex": [
       "Camada: 1"
      ],
      "text/plain": [
       "<IPython.core.display.Latex object>"
      ]
     },
     "metadata": {},
     "output_type": "display_data"
    },
    {
     "data": {
      "text/latex": [
       "Y = \\sigma(X)"
      ],
      "text/plain": [
       "<IPython.core.display.Latex object>"
      ]
     },
     "metadata": {},
     "output_type": "display_data"
    },
    {
     "data": {
      "text/latex": [
       "\\begin{gather}\n",
       "\\begin{bmatrix}\n",
       "  0.60816983 & 0.6877588\\\\\n",
       "\\end{bmatrix} = \\sigma(\n",
       "\\begin{bmatrix}\n",
       "  0.43962568 & 0.78966224\\\\\n",
       "\\end{bmatrix}) \\end{gather}"
      ],
      "text/plain": [
       "<IPython.core.display.Latex object>"
      ]
     },
     "metadata": {},
     "output_type": "display_data"
    },
    {
     "data": {
      "text/latex": [
       "Camada: 2"
      ],
      "text/plain": [
       "<IPython.core.display.Latex object>"
      ]
     },
     "metadata": {},
     "output_type": "display_data"
    },
    {
     "data": {
      "text/latex": [
       "Y = Xw + b"
      ],
      "text/plain": [
       "<IPython.core.display.Latex object>"
      ]
     },
     "metadata": {},
     "output_type": "display_data"
    },
    {
     "data": {
      "text/latex": [
       "\\begin{gather}\n",
       "\\begin{bmatrix}\n",
       "  -0.14801607\\\\\n",
       "\\end{bmatrix} = \n",
       "\\begin{bmatrix}\n",
       "  0.60816983 & 0.6877588\\\\\n",
       "\\end{bmatrix} \\cdot \n",
       "\\begin{bmatrix}\n",
       "  0.17475708\\\\\n",
       "  -0.39573652\\\\\n",
       "\\end{bmatrix} + \n",
       "\\begin{bmatrix}\n",
       "  0.01787322\\\\\n",
       "\\end{bmatrix}\\end{gather}"
      ],
      "text/plain": [
       "<IPython.core.display.Latex object>"
      ]
     },
     "metadata": {},
     "output_type": "display_data"
    },
    {
     "data": {
      "text/latex": [
       "f_{custo}(\n",
       "\\begin{bmatrix}\n",
       "  0\\\\\n",
       "\\end{bmatrix},\n",
       "\\begin{bmatrix}\n",
       "  -0.14801607\\\\\n",
       "\\end{bmatrix}) = \n",
       "\\begin{bmatrix}\n",
       "  0.021908757432939192\\\\\n",
       "\\end{bmatrix}"
      ],
      "text/plain": [
       "<IPython.core.display.Latex object>"
      ]
     },
     "metadata": {},
     "output_type": "display_data"
    },
    {
     "data": {
      "text/latex": [
       "\\nabla = \\frac{\\partial E}{\\partial Y} = \n",
       "\\begin{bmatrix}\n",
       "  -0.29603214\\\\\n",
       "\\end{bmatrix}"
      ],
      "text/plain": [
       "<IPython.core.display.Latex object>"
      ]
     },
     "metadata": {},
     "output_type": "display_data"
    },
    {
     "data": {
      "text/latex": [
       "Camada: 2"
      ],
      "text/plain": [
       "<IPython.core.display.Latex object>"
      ]
     },
     "metadata": {},
     "output_type": "display_data"
    },
    {
     "data": {
      "text/latex": [
       "\\frac{\\partial E}{\\partial X} = \\frac{\\partial E}{\\partial Y} W^T"
      ],
      "text/plain": [
       "<IPython.core.display.Latex object>"
      ]
     },
     "metadata": {},
     "output_type": "display_data"
    },
    {
     "data": {
      "text/latex": [
       "\n",
       "\\begin{bmatrix}\n",
       "  -0.05173371 & 0.11715073\\\\\n",
       "\\end{bmatrix} = \n",
       "\\begin{bmatrix}\n",
       "  -0.29603214\\\\\n",
       "\\end{bmatrix} \\cdot \n",
       "\\begin{bmatrix}\n",
       "  0.17475708 & -0.39573652\\\\\n",
       "\\end{bmatrix}"
      ],
      "text/plain": [
       "<IPython.core.display.Latex object>"
      ]
     },
     "metadata": {},
     "output_type": "display_data"
    },
    {
     "data": {
      "text/latex": [
       "W = W - \\lambda (X^T \\cdot \\nabla f_{custo})"
      ],
      "text/plain": [
       "<IPython.core.display.Latex object>"
      ]
     },
     "metadata": {},
     "output_type": "display_data"
    },
    {
     "data": {
      "text/latex": [
       "\\begin{gather}\n",
       "\\begin{bmatrix}\n",
       "  0.26477599\\\\\n",
       "  -0.29393717\\\\\n",
       "\\end{bmatrix} = \n",
       "\\begin{bmatrix}\n",
       "  0.17475708\\\\\n",
       "  -0.39573652\\\\\n",
       "\\end{bmatrix} - 0.5\n",
       "\\begin{bmatrix}\n",
       "  0.60816983\\\\\n",
       "  0.6877588\\\\\n",
       "\\end{bmatrix} \\cdot \n",
       "\\begin{bmatrix}\n",
       "  -0.29603214\\\\\n",
       "\\end{bmatrix}\\end{gather}"
      ],
      "text/plain": [
       "<IPython.core.display.Latex object>"
      ]
     },
     "metadata": {},
     "output_type": "display_data"
    },
    {
     "data": {
      "text/latex": [
       "B = B - \\lambda (\\nabla f_{custo})"
      ],
      "text/plain": [
       "<IPython.core.display.Latex object>"
      ]
     },
     "metadata": {},
     "output_type": "display_data"
    },
    {
     "data": {
      "text/latex": [
       "\\begin{gather}\n",
       "\\begin{bmatrix}\n",
       "  0.16588929\\\\\n",
       "\\end{bmatrix} = \n",
       "\\begin{bmatrix}\n",
       "  0.01787322\\\\\n",
       "\\end{bmatrix} - 0.5\n",
       "\\begin{bmatrix}\n",
       "  -0.29603214\\\\\n",
       "\\end{bmatrix}\\end{gather}"
      ],
      "text/plain": [
       "<IPython.core.display.Latex object>"
      ]
     },
     "metadata": {},
     "output_type": "display_data"
    },
    {
     "data": {
      "text/latex": [
       "Camada: 1"
      ],
      "text/plain": [
       "<IPython.core.display.Latex object>"
      ]
     },
     "metadata": {},
     "output_type": "display_data"
    },
    {
     "data": {
      "text/latex": [
       "\\frac{\\partial E}{\\partial X} = \\frac{\\partial E}{\\partial Y} \\sigma^{'}(X)"
      ],
      "text/plain": [
       "<IPython.core.display.Latex object>"
      ]
     },
     "metadata": {},
     "output_type": "display_data"
    },
    {
     "data": {
      "text/latex": [
       "\\begin{gather}\n",
       "\\begin{bmatrix}\n",
       "  -0.01232811 & 0.02515772\\\\\n",
       "\\end{bmatrix} = \n",
       "\\begin{bmatrix}\n",
       "  -0.05173371 & 0.11715073\\\\\n",
       "\\end{bmatrix} \\cdot  \\sigma^{'}(\n",
       "\\begin{bmatrix}\n",
       "  0.43962568 & 0.78966224\\\\\n",
       "\\end{bmatrix}) \\end{gather}"
      ],
      "text/plain": [
       "<IPython.core.display.Latex object>"
      ]
     },
     "metadata": {},
     "output_type": "display_data"
    },
    {
     "data": {
      "text/latex": [
       "Camada: 0"
      ],
      "text/plain": [
       "<IPython.core.display.Latex object>"
      ]
     },
     "metadata": {},
     "output_type": "display_data"
    },
    {
     "data": {
      "text/latex": [
       "\\frac{\\partial E}{\\partial X} = \\frac{\\partial E}{\\partial Y} W^T"
      ],
      "text/plain": [
       "<IPython.core.display.Latex object>"
      ]
     },
     "metadata": {},
     "output_type": "display_data"
    },
    {
     "data": {
      "text/latex": [
       "\n",
       "\\begin{bmatrix}\n",
       "  0.02384646 & -0.00739601\\\\\n",
       "\\end{bmatrix} = \n",
       "\\begin{bmatrix}\n",
       "  -0.01232811 & 0.02515772\\\\\n",
       "\\end{bmatrix} \\cdot \n",
       "\\begin{bmatrix}\n",
       "  -0.14245591 & 0.39904445\\\\\n",
       "  0.87807016 & -0.09844095\\\\\n",
       "\\end{bmatrix}"
      ],
      "text/plain": [
       "<IPython.core.display.Latex object>"
      ]
     },
     "metadata": {},
     "output_type": "display_data"
    },
    {
     "data": {
      "text/latex": [
       "W = W - \\lambda (X^T \\cdot \\nabla f_{custo})"
      ],
      "text/plain": [
       "<IPython.core.display.Latex object>"
      ]
     },
     "metadata": {},
     "output_type": "display_data"
    },
    {
     "data": {
      "text/latex": [
       "\\begin{gather}\n",
       "\\begin{bmatrix}\n",
       "  -0.13629186 & 0.8654913\\\\\n",
       "  0.40520851 & -0.11101981\\\\\n",
       "\\end{bmatrix} = \n",
       "\\begin{bmatrix}\n",
       "  -0.14245591 & 0.87807016\\\\\n",
       "  0.39904445 & -0.09844095\\\\\n",
       "\\end{bmatrix} - 0.5\n",
       "\\begin{bmatrix}\n",
       "  1\\\\\n",
       "  1\\\\\n",
       "\\end{bmatrix} \\cdot \n",
       "\\begin{bmatrix}\n",
       "  -0.01232811 & 0.02515772\\\\\n",
       "\\end{bmatrix}\\end{gather}"
      ],
      "text/plain": [
       "<IPython.core.display.Latex object>"
      ]
     },
     "metadata": {},
     "output_type": "display_data"
    },
    {
     "data": {
      "text/latex": [
       "B = B - \\lambda (\\nabla f_{custo})"
      ],
      "text/plain": [
       "<IPython.core.display.Latex object>"
      ]
     },
     "metadata": {},
     "output_type": "display_data"
    },
    {
     "data": {
      "text/latex": [
       "\\begin{gather}\n",
       "\\begin{bmatrix}\n",
       "  0.18920119 & -0.00254583\\\\\n",
       "\\end{bmatrix} = \n",
       "\\begin{bmatrix}\n",
       "  0.18303714 & 0.01003303\\\\\n",
       "\\end{bmatrix} - 0.5\n",
       "\\begin{bmatrix}\n",
       "  -0.01232811 & 0.02515772\\\\\n",
       "\\end{bmatrix}\\end{gather}"
      ],
      "text/plain": [
       "<IPython.core.display.Latex object>"
      ]
     },
     "metadata": {},
     "output_type": "display_data"
    },
    {
     "data": {
      "text/markdown": [
       "---"
      ],
      "text/plain": [
       "<IPython.core.display.Markdown object>"
      ]
     },
     "metadata": {},
     "output_type": "display_data"
    },
    {
     "data": {
      "text/latex": [
       "Última \\quad iteração:"
      ],
      "text/plain": [
       "<IPython.core.display.Latex object>"
      ]
     },
     "metadata": {},
     "output_type": "display_data"
    },
    {
     "data": {
      "text/markdown": [
       "---"
      ],
      "text/plain": [
       "<IPython.core.display.Markdown object>"
      ]
     },
     "metadata": {},
     "output_type": "display_data"
    },
    {
     "data": {
      "text/latex": [
       "Camada: 0"
      ],
      "text/plain": [
       "<IPython.core.display.Latex object>"
      ]
     },
     "metadata": {},
     "output_type": "display_data"
    },
    {
     "data": {
      "text/latex": [
       "Y = Xw + b"
      ],
      "text/plain": [
       "<IPython.core.display.Latex object>"
      ]
     },
     "metadata": {},
     "output_type": "display_data"
    },
    {
     "data": {
      "text/latex": [
       "\\begin{gather}\n",
       "\\begin{bmatrix}\n",
       "  -2.70200878 & -2.01317565\\\\\n",
       "\\end{bmatrix} = \n",
       "\\begin{bmatrix}\n",
       "  0 & 0\\\\\n",
       "\\end{bmatrix} \\cdot \n",
       "\\begin{bmatrix}\n",
       "  -5.29230689 & 2.26400784\\\\\n",
       "  2.7795378 & -2.26924243\\\\\n",
       "\\end{bmatrix} + \n",
       "\\begin{bmatrix}\n",
       "  -2.70200878 & -2.01317565\\\\\n",
       "\\end{bmatrix}\\end{gather}"
      ],
      "text/plain": [
       "<IPython.core.display.Latex object>"
      ]
     },
     "metadata": {},
     "output_type": "display_data"
    },
    {
     "data": {
      "text/latex": [
       "Camada: 1"
      ],
      "text/plain": [
       "<IPython.core.display.Latex object>"
      ]
     },
     "metadata": {},
     "output_type": "display_data"
    },
    {
     "data": {
      "text/latex": [
       "Y = \\sigma(X)"
      ],
      "text/plain": [
       "<IPython.core.display.Latex object>"
      ]
     },
     "metadata": {},
     "output_type": "display_data"
    },
    {
     "data": {
      "text/latex": [
       "\\begin{gather}\n",
       "\\begin{bmatrix}\n",
       "  0.06285493 & 0.11782649\\\\\n",
       "\\end{bmatrix} = \\sigma(\n",
       "\\begin{bmatrix}\n",
       "  -2.70200878 & -2.01317565\\\\\n",
       "\\end{bmatrix}) \\end{gather}"
      ],
      "text/plain": [
       "<IPython.core.display.Latex object>"
      ]
     },
     "metadata": {},
     "output_type": "display_data"
    },
    {
     "data": {
      "text/latex": [
       "Camada: 2"
      ],
      "text/plain": [
       "<IPython.core.display.Latex object>"
      ]
     },
     "metadata": {},
     "output_type": "display_data"
    },
    {
     "data": {
      "text/latex": [
       "Y = Xw + b"
      ],
      "text/plain": [
       "<IPython.core.display.Latex object>"
      ]
     },
     "metadata": {},
     "output_type": "display_data"
    },
    {
     "data": {
      "text/latex": [
       "\\begin{gather}\n",
       "\\begin{bmatrix}\n",
       "  0.12358845\\\\\n",
       "\\end{bmatrix} = \n",
       "\\begin{bmatrix}\n",
       "  0.06285493 & 0.11782649\\\\\n",
       "\\end{bmatrix} \\cdot \n",
       "\\begin{bmatrix}\n",
       "  2.67949361\\\\\n",
       "  2.31421649\\\\\n",
       "\\end{bmatrix} + \n",
       "\\begin{bmatrix}\n",
       "  -0.31750692\\\\\n",
       "\\end{bmatrix}\\end{gather}"
      ],
      "text/plain": [
       "<IPython.core.display.Latex object>"
      ]
     },
     "metadata": {},
     "output_type": "display_data"
    },
    {
     "data": {
      "text/latex": [
       "f_{custo}(\n",
       "\\begin{bmatrix}\n",
       "  0\\\\\n",
       "\\end{bmatrix},\n",
       "\\begin{bmatrix}\n",
       "  0.12358845\\\\\n",
       "\\end{bmatrix}) = \n",
       "\\begin{bmatrix}\n",
       "  0.015274105449482732\\\\\n",
       "\\end{bmatrix}"
      ],
      "text/plain": [
       "<IPython.core.display.Latex object>"
      ]
     },
     "metadata": {},
     "output_type": "display_data"
    },
    {
     "data": {
      "text/latex": [
       "\\nabla = \\frac{\\partial E}{\\partial Y} = \n",
       "\\begin{bmatrix}\n",
       "  0.2471769\\\\\n",
       "\\end{bmatrix}"
      ],
      "text/plain": [
       "<IPython.core.display.Latex object>"
      ]
     },
     "metadata": {},
     "output_type": "display_data"
    },
    {
     "data": {
      "text/latex": [
       "Camada: 2"
      ],
      "text/plain": [
       "<IPython.core.display.Latex object>"
      ]
     },
     "metadata": {},
     "output_type": "display_data"
    },
    {
     "data": {
      "text/latex": [
       "\\frac{\\partial E}{\\partial X} = \\frac{\\partial E}{\\partial Y} W^T"
      ],
      "text/plain": [
       "<IPython.core.display.Latex object>"
      ]
     },
     "metadata": {},
     "output_type": "display_data"
    },
    {
     "data": {
      "text/latex": [
       "\n",
       "\\begin{bmatrix}\n",
       "  0.66230894 & 0.57202087\\\\\n",
       "\\end{bmatrix} = \n",
       "\\begin{bmatrix}\n",
       "  0.2471769\\\\\n",
       "\\end{bmatrix} \\cdot \n",
       "\\begin{bmatrix}\n",
       "  2.67949361 & 2.31421649\\\\\n",
       "\\end{bmatrix}"
      ],
      "text/plain": [
       "<IPython.core.display.Latex object>"
      ]
     },
     "metadata": {},
     "output_type": "display_data"
    },
    {
     "data": {
      "text/latex": [
       "W = W - \\lambda (X^T \\cdot \\nabla f_{custo})"
      ],
      "text/plain": [
       "<IPython.core.display.Latex object>"
      ]
     },
     "metadata": {},
     "output_type": "display_data"
    },
    {
     "data": {
      "text/latex": [
       "\\begin{gather}\n",
       "\\begin{bmatrix}\n",
       "  2.67172547\\\\\n",
       "  2.29965449\\\\\n",
       "\\end{bmatrix} = \n",
       "\\begin{bmatrix}\n",
       "  2.67949361\\\\\n",
       "  2.31421649\\\\\n",
       "\\end{bmatrix} - 0.5\n",
       "\\begin{bmatrix}\n",
       "  0.06285493\\\\\n",
       "  0.11782649\\\\\n",
       "\\end{bmatrix} \\cdot \n",
       "\\begin{bmatrix}\n",
       "  0.2471769\\\\\n",
       "\\end{bmatrix}\\end{gather}"
      ],
      "text/plain": [
       "<IPython.core.display.Latex object>"
      ]
     },
     "metadata": {},
     "output_type": "display_data"
    },
    {
     "data": {
      "text/latex": [
       "B = B - \\lambda (\\nabla f_{custo})"
      ],
      "text/plain": [
       "<IPython.core.display.Latex object>"
      ]
     },
     "metadata": {},
     "output_type": "display_data"
    },
    {
     "data": {
      "text/latex": [
       "\\begin{gather}\n",
       "\\begin{bmatrix}\n",
       "  -0.44109538\\\\\n",
       "\\end{bmatrix} = \n",
       "\\begin{bmatrix}\n",
       "  -0.31750692\\\\\n",
       "\\end{bmatrix} - 0.5\n",
       "\\begin{bmatrix}\n",
       "  0.2471769\\\\\n",
       "\\end{bmatrix}\\end{gather}"
      ],
      "text/plain": [
       "<IPython.core.display.Latex object>"
      ]
     },
     "metadata": {},
     "output_type": "display_data"
    },
    {
     "data": {
      "text/latex": [
       "Camada: 1"
      ],
      "text/plain": [
       "<IPython.core.display.Latex object>"
      ]
     },
     "metadata": {},
     "output_type": "display_data"
    },
    {
     "data": {
      "text/latex": [
       "\\frac{\\partial E}{\\partial X} = \\frac{\\partial E}{\\partial Y} \\sigma^{'}(X)"
      ],
      "text/plain": [
       "<IPython.core.display.Latex object>"
      ]
     },
     "metadata": {},
     "output_type": "display_data"
    },
    {
     "data": {
      "text/latex": [
       "\\begin{gather}\n",
       "\\begin{bmatrix}\n",
       "  0.03901277 & 0.0594578\\\\\n",
       "\\end{bmatrix} = \n",
       "\\begin{bmatrix}\n",
       "  0.66230894 & 0.57202087\\\\\n",
       "\\end{bmatrix} \\cdot  \\sigma^{'}(\n",
       "\\begin{bmatrix}\n",
       "  -2.70200878 & -2.01317565\\\\\n",
       "\\end{bmatrix}) \\end{gather}"
      ],
      "text/plain": [
       "<IPython.core.display.Latex object>"
      ]
     },
     "metadata": {},
     "output_type": "display_data"
    },
    {
     "data": {
      "text/latex": [
       "Camada: 0"
      ],
      "text/plain": [
       "<IPython.core.display.Latex object>"
      ]
     },
     "metadata": {},
     "output_type": "display_data"
    },
    {
     "data": {
      "text/latex": [
       "\\frac{\\partial E}{\\partial X} = \\frac{\\partial E}{\\partial Y} W^T"
      ],
      "text/plain": [
       "<IPython.core.display.Latex object>"
      ]
     },
     "metadata": {},
     "output_type": "display_data"
    },
    {
     "data": {
      "text/latex": [
       "\n",
       "\\begin{bmatrix}\n",
       "  -0.07185462 & -0.02648669\\\\\n",
       "\\end{bmatrix} = \n",
       "\\begin{bmatrix}\n",
       "  0.03901277 & 0.0594578\\\\\n",
       "\\end{bmatrix} \\cdot \n",
       "\\begin{bmatrix}\n",
       "  -5.29230689 & 2.7795378\\\\\n",
       "  2.26400784 & -2.26924243\\\\\n",
       "\\end{bmatrix}"
      ],
      "text/plain": [
       "<IPython.core.display.Latex object>"
      ]
     },
     "metadata": {},
     "output_type": "display_data"
    },
    {
     "data": {
      "text/latex": [
       "W = W - \\lambda (X^T \\cdot \\nabla f_{custo})"
      ],
      "text/plain": [
       "<IPython.core.display.Latex object>"
      ]
     },
     "metadata": {},
     "output_type": "display_data"
    },
    {
     "data": {
      "text/latex": [
       "\\begin{gather}\n",
       "\\begin{bmatrix}\n",
       "  -5.29230689 & 2.26400784\\\\\n",
       "  2.7795378 & -2.26924243\\\\\n",
       "\\end{bmatrix} = \n",
       "\\begin{bmatrix}\n",
       "  -5.29230689 & 2.26400784\\\\\n",
       "  2.7795378 & -2.26924243\\\\\n",
       "\\end{bmatrix} - 0.5\n",
       "\\begin{bmatrix}\n",
       "  0\\\\\n",
       "  0\\\\\n",
       "\\end{bmatrix} \\cdot \n",
       "\\begin{bmatrix}\n",
       "  0.03901277 & 0.0594578\\\\\n",
       "\\end{bmatrix}\\end{gather}"
      ],
      "text/plain": [
       "<IPython.core.display.Latex object>"
      ]
     },
     "metadata": {},
     "output_type": "display_data"
    },
    {
     "data": {
      "text/latex": [
       "B = B - \\lambda (\\nabla f_{custo})"
      ],
      "text/plain": [
       "<IPython.core.display.Latex object>"
      ]
     },
     "metadata": {},
     "output_type": "display_data"
    },
    {
     "data": {
      "text/latex": [
       "\\begin{gather}\n",
       "\\begin{bmatrix}\n",
       "  -2.72151516 & -2.04290455\\\\\n",
       "\\end{bmatrix} = \n",
       "\\begin{bmatrix}\n",
       "  -2.70200878 & -2.01317565\\\\\n",
       "\\end{bmatrix} - 0.5\n",
       "\\begin{bmatrix}\n",
       "  0.03901277 & 0.0594578\\\\\n",
       "\\end{bmatrix}\\end{gather}"
      ],
      "text/plain": [
       "<IPython.core.display.Latex object>"
      ]
     },
     "metadata": {},
     "output_type": "display_data"
    },
    {
     "data": {
      "text/latex": [
       "Camada: 0"
      ],
      "text/plain": [
       "<IPython.core.display.Latex object>"
      ]
     },
     "metadata": {},
     "output_type": "display_data"
    },
    {
     "data": {
      "text/latex": [
       "Y = Xw + b"
      ],
      "text/plain": [
       "<IPython.core.display.Latex object>"
      ]
     },
     "metadata": {},
     "output_type": "display_data"
    },
    {
     "data": {
      "text/latex": [
       "\\begin{gather}\n",
       "\\begin{bmatrix}\n",
       "  0.05802264 & -4.31214698\\\\\n",
       "\\end{bmatrix} = \n",
       "\\begin{bmatrix}\n",
       "  0 & 1\\\\\n",
       "\\end{bmatrix} \\cdot \n",
       "\\begin{bmatrix}\n",
       "  -5.29230689 & 2.26400784\\\\\n",
       "  2.7795378 & -2.26924243\\\\\n",
       "\\end{bmatrix} + \n",
       "\\begin{bmatrix}\n",
       "  -2.72151516 & -2.04290455\\\\\n",
       "\\end{bmatrix}\\end{gather}"
      ],
      "text/plain": [
       "<IPython.core.display.Latex object>"
      ]
     },
     "metadata": {},
     "output_type": "display_data"
    },
    {
     "data": {
      "text/latex": [
       "Camada: 1"
      ],
      "text/plain": [
       "<IPython.core.display.Latex object>"
      ]
     },
     "metadata": {},
     "output_type": "display_data"
    },
    {
     "data": {
      "text/latex": [
       "Y = \\sigma(X)"
      ],
      "text/plain": [
       "<IPython.core.display.Latex object>"
      ]
     },
     "metadata": {},
     "output_type": "display_data"
    },
    {
     "data": {
      "text/latex": [
       "\\begin{gather}\n",
       "\\begin{bmatrix}\n",
       "  0.51450159 & 0.01322743\\\\\n",
       "\\end{bmatrix} = \\sigma(\n",
       "\\begin{bmatrix}\n",
       "  0.05802264 & -4.31214698\\\\\n",
       "\\end{bmatrix}) \\end{gather}"
      ],
      "text/plain": [
       "<IPython.core.display.Latex object>"
      ]
     },
     "metadata": {},
     "output_type": "display_data"
    },
    {
     "data": {
      "text/latex": [
       "Camada: 2"
      ],
      "text/plain": [
       "<IPython.core.display.Latex object>"
      ]
     },
     "metadata": {},
     "output_type": "display_data"
    },
    {
     "data": {
      "text/latex": [
       "Y = Xw + b"
      ],
      "text/plain": [
       "<IPython.core.display.Latex object>"
      ]
     },
     "metadata": {},
     "output_type": "display_data"
    },
    {
     "data": {
      "text/latex": [
       "\\begin{gather}\n",
       "\\begin{bmatrix}\n",
       "  0.96393014\\\\\n",
       "\\end{bmatrix} = \n",
       "\\begin{bmatrix}\n",
       "  0.51450159 & 0.01322743\\\\\n",
       "\\end{bmatrix} \\cdot \n",
       "\\begin{bmatrix}\n",
       "  2.67172547\\\\\n",
       "  2.29965449\\\\\n",
       "\\end{bmatrix} + \n",
       "\\begin{bmatrix}\n",
       "  -0.44109538\\\\\n",
       "\\end{bmatrix}\\end{gather}"
      ],
      "text/plain": [
       "<IPython.core.display.Latex object>"
      ]
     },
     "metadata": {},
     "output_type": "display_data"
    },
    {
     "data": {
      "text/latex": [
       "f_{custo}(\n",
       "\\begin{bmatrix}\n",
       "  1\\\\\n",
       "\\end{bmatrix},\n",
       "\\begin{bmatrix}\n",
       "  0.96393014\\\\\n",
       "\\end{bmatrix}) = \n",
       "\\begin{bmatrix}\n",
       "  0.0013010345127916286\\\\\n",
       "\\end{bmatrix}"
      ],
      "text/plain": [
       "<IPython.core.display.Latex object>"
      ]
     },
     "metadata": {},
     "output_type": "display_data"
    },
    {
     "data": {
      "text/latex": [
       "\\nabla = \\frac{\\partial E}{\\partial Y} = \n",
       "\\begin{bmatrix}\n",
       "  -0.07213971\\\\\n",
       "\\end{bmatrix}"
      ],
      "text/plain": [
       "<IPython.core.display.Latex object>"
      ]
     },
     "metadata": {},
     "output_type": "display_data"
    },
    {
     "data": {
      "text/latex": [
       "Camada: 2"
      ],
      "text/plain": [
       "<IPython.core.display.Latex object>"
      ]
     },
     "metadata": {},
     "output_type": "display_data"
    },
    {
     "data": {
      "text/latex": [
       "\\frac{\\partial E}{\\partial X} = \\frac{\\partial E}{\\partial Y} W^T"
      ],
      "text/plain": [
       "<IPython.core.display.Latex object>"
      ]
     },
     "metadata": {},
     "output_type": "display_data"
    },
    {
     "data": {
      "text/latex": [
       "\n",
       "\\begin{bmatrix}\n",
       "  -0.19273751 & -0.16589641\\\\\n",
       "\\end{bmatrix} = \n",
       "\\begin{bmatrix}\n",
       "  -0.07213971\\\\\n",
       "\\end{bmatrix} \\cdot \n",
       "\\begin{bmatrix}\n",
       "  2.67172547 & 2.29965449\\\\\n",
       "\\end{bmatrix}"
      ],
      "text/plain": [
       "<IPython.core.display.Latex object>"
      ]
     },
     "metadata": {},
     "output_type": "display_data"
    },
    {
     "data": {
      "text/latex": [
       "W = W - \\lambda (X^T \\cdot \\nabla f_{custo})"
      ],
      "text/plain": [
       "<IPython.core.display.Latex object>"
      ]
     },
     "metadata": {},
     "output_type": "display_data"
    },
    {
     "data": {
      "text/latex": [
       "\\begin{gather}\n",
       "\\begin{bmatrix}\n",
       "  2.69028347\\\\\n",
       "  2.3001316\\\\\n",
       "\\end{bmatrix} = \n",
       "\\begin{bmatrix}\n",
       "  2.67172547\\\\\n",
       "  2.29965449\\\\\n",
       "\\end{bmatrix} - 0.5\n",
       "\\begin{bmatrix}\n",
       "  0.51450159\\\\\n",
       "  0.01322743\\\\\n",
       "\\end{bmatrix} \\cdot \n",
       "\\begin{bmatrix}\n",
       "  -0.07213971\\\\\n",
       "\\end{bmatrix}\\end{gather}"
      ],
      "text/plain": [
       "<IPython.core.display.Latex object>"
      ]
     },
     "metadata": {},
     "output_type": "display_data"
    },
    {
     "data": {
      "text/latex": [
       "B = B - \\lambda (\\nabla f_{custo})"
      ],
      "text/plain": [
       "<IPython.core.display.Latex object>"
      ]
     },
     "metadata": {},
     "output_type": "display_data"
    },
    {
     "data": {
      "text/latex": [
       "\\begin{gather}\n",
       "\\begin{bmatrix}\n",
       "  -0.40502552\\\\\n",
       "\\end{bmatrix} = \n",
       "\\begin{bmatrix}\n",
       "  -0.44109538\\\\\n",
       "\\end{bmatrix} - 0.5\n",
       "\\begin{bmatrix}\n",
       "  -0.07213971\\\\\n",
       "\\end{bmatrix}\\end{gather}"
      ],
      "text/plain": [
       "<IPython.core.display.Latex object>"
      ]
     },
     "metadata": {},
     "output_type": "display_data"
    },
    {
     "data": {
      "text/latex": [
       "Camada: 1"
      ],
      "text/plain": [
       "<IPython.core.display.Latex object>"
      ]
     },
     "metadata": {},
     "output_type": "display_data"
    },
    {
     "data": {
      "text/latex": [
       "\\frac{\\partial E}{\\partial X} = \\frac{\\partial E}{\\partial Y} \\sigma^{'}(X)"
      ],
      "text/plain": [
       "<IPython.core.display.Latex object>"
      ]
     },
     "metadata": {},
     "output_type": "display_data"
    },
    {
     "data": {
      "text/latex": [
       "\\begin{gather}\n",
       "\\begin{bmatrix}\n",
       "  -0.04814384 & -0.00216536\\\\\n",
       "\\end{bmatrix} = \n",
       "\\begin{bmatrix}\n",
       "  -0.19273751 & -0.16589641\\\\\n",
       "\\end{bmatrix} \\cdot  \\sigma^{'}(\n",
       "\\begin{bmatrix}\n",
       "  0.05802264 & -4.31214698\\\\\n",
       "\\end{bmatrix}) \\end{gather}"
      ],
      "text/plain": [
       "<IPython.core.display.Latex object>"
      ]
     },
     "metadata": {},
     "output_type": "display_data"
    },
    {
     "data": {
      "text/latex": [
       "Camada: 0"
      ],
      "text/plain": [
       "<IPython.core.display.Latex object>"
      ]
     },
     "metadata": {},
     "output_type": "display_data"
    },
    {
     "data": {
      "text/latex": [
       "\\frac{\\partial E}{\\partial X} = \\frac{\\partial E}{\\partial Y} W^T"
      ],
      "text/plain": [
       "<IPython.core.display.Latex object>"
      ]
     },
     "metadata": {},
     "output_type": "display_data"
    },
    {
     "data": {
      "text/latex": [
       "\n",
       "\\begin{bmatrix}\n",
       "  0.24988962 & -0.12890392\\\\\n",
       "\\end{bmatrix} = \n",
       "\\begin{bmatrix}\n",
       "  -0.04814384 & -0.00216536\\\\\n",
       "\\end{bmatrix} \\cdot \n",
       "\\begin{bmatrix}\n",
       "  -5.29230689 & 2.7795378\\\\\n",
       "  2.26400784 & -2.26924243\\\\\n",
       "\\end{bmatrix}"
      ],
      "text/plain": [
       "<IPython.core.display.Latex object>"
      ]
     },
     "metadata": {},
     "output_type": "display_data"
    },
    {
     "data": {
      "text/latex": [
       "W = W - \\lambda (X^T \\cdot \\nabla f_{custo})"
      ],
      "text/plain": [
       "<IPython.core.display.Latex object>"
      ]
     },
     "metadata": {},
     "output_type": "display_data"
    },
    {
     "data": {
      "text/latex": [
       "\\begin{gather}\n",
       "\\begin{bmatrix}\n",
       "  -5.29230689 & 2.26400784\\\\\n",
       "  2.80360972 & -2.26815975\\\\\n",
       "\\end{bmatrix} = \n",
       "\\begin{bmatrix}\n",
       "  -5.29230689 & 2.26400784\\\\\n",
       "  2.7795378 & -2.26924243\\\\\n",
       "\\end{bmatrix} - 0.5\n",
       "\\begin{bmatrix}\n",
       "  0\\\\\n",
       "  1\\\\\n",
       "\\end{bmatrix} \\cdot \n",
       "\\begin{bmatrix}\n",
       "  -0.04814384 & -0.00216536\\\\\n",
       "\\end{bmatrix}\\end{gather}"
      ],
      "text/plain": [
       "<IPython.core.display.Latex object>"
      ]
     },
     "metadata": {},
     "output_type": "display_data"
    },
    {
     "data": {
      "text/latex": [
       "B = B - \\lambda (\\nabla f_{custo})"
      ],
      "text/plain": [
       "<IPython.core.display.Latex object>"
      ]
     },
     "metadata": {},
     "output_type": "display_data"
    },
    {
     "data": {
      "text/latex": [
       "\\begin{gather}\n",
       "\\begin{bmatrix}\n",
       "  -2.69744324 & -2.04182187\\\\\n",
       "\\end{bmatrix} = \n",
       "\\begin{bmatrix}\n",
       "  -2.72151516 & -2.04290455\\\\\n",
       "\\end{bmatrix} - 0.5\n",
       "\\begin{bmatrix}\n",
       "  -0.04814384 & -0.00216536\\\\\n",
       "\\end{bmatrix}\\end{gather}"
      ],
      "text/plain": [
       "<IPython.core.display.Latex object>"
      ]
     },
     "metadata": {},
     "output_type": "display_data"
    },
    {
     "data": {
      "text/latex": [
       "Camada: 0"
      ],
      "text/plain": [
       "<IPython.core.display.Latex object>"
      ]
     },
     "metadata": {},
     "output_type": "display_data"
    },
    {
     "data": {
      "text/latex": [
       "Y = Xw + b"
      ],
      "text/plain": [
       "<IPython.core.display.Latex object>"
      ]
     },
     "metadata": {},
     "output_type": "display_data"
    },
    {
     "data": {
      "text/latex": [
       "\\begin{gather}\n",
       "\\begin{bmatrix}\n",
       "  -7.98975014 & 0.22218596\\\\\n",
       "\\end{bmatrix} = \n",
       "\\begin{bmatrix}\n",
       "  1 & 0\\\\\n",
       "\\end{bmatrix} \\cdot \n",
       "\\begin{bmatrix}\n",
       "  -5.29230689 & 2.26400784\\\\\n",
       "  2.80360972 & -2.26815975\\\\\n",
       "\\end{bmatrix} + \n",
       "\\begin{bmatrix}\n",
       "  -2.69744324 & -2.04182187\\\\\n",
       "\\end{bmatrix}\\end{gather}"
      ],
      "text/plain": [
       "<IPython.core.display.Latex object>"
      ]
     },
     "metadata": {},
     "output_type": "display_data"
    },
    {
     "data": {
      "text/latex": [
       "Camada: 1"
      ],
      "text/plain": [
       "<IPython.core.display.Latex object>"
      ]
     },
     "metadata": {},
     "output_type": "display_data"
    },
    {
     "data": {
      "text/latex": [
       "Y = \\sigma(X)"
      ],
      "text/plain": [
       "<IPython.core.display.Latex object>"
      ]
     },
     "metadata": {},
     "output_type": "display_data"
    },
    {
     "data": {
      "text/latex": [
       "\\begin{gather}\n",
       "\\begin{bmatrix}\n",
       "  3.38803929e-04 & 5.55319102e-01\\\\\n",
       "\\end{bmatrix} = \\sigma(\n",
       "\\begin{bmatrix}\n",
       "  -7.98975014 & 0.22218596\\\\\n",
       "\\end{bmatrix}) \\end{gather}"
      ],
      "text/plain": [
       "<IPython.core.display.Latex object>"
      ]
     },
     "metadata": {},
     "output_type": "display_data"
    },
    {
     "data": {
      "text/latex": [
       "Camada: 2"
      ],
      "text/plain": [
       "<IPython.core.display.Latex object>"
      ]
     },
     "metadata": {},
     "output_type": "display_data"
    },
    {
     "data": {
      "text/latex": [
       "Y = Xw + b"
      ],
      "text/plain": [
       "<IPython.core.display.Latex object>"
      ]
     },
     "metadata": {},
     "output_type": "display_data"
    },
    {
     "data": {
      "text/latex": [
       "\\begin{gather}\n",
       "\\begin{bmatrix}\n",
       "  0.87319297\\\\\n",
       "\\end{bmatrix} = \n",
       "\\begin{bmatrix}\n",
       "  3.38803929e-04 & 5.55319102e-01\\\\\n",
       "\\end{bmatrix} \\cdot \n",
       "\\begin{bmatrix}\n",
       "  2.69028347\\\\\n",
       "  2.3001316\\\\\n",
       "\\end{bmatrix} + \n",
       "\\begin{bmatrix}\n",
       "  -0.40502552\\\\\n",
       "\\end{bmatrix}\\end{gather}"
      ],
      "text/plain": [
       "<IPython.core.display.Latex object>"
      ]
     },
     "metadata": {},
     "output_type": "display_data"
    },
    {
     "data": {
      "text/latex": [
       "f_{custo}(\n",
       "\\begin{bmatrix}\n",
       "  1\\\\\n",
       "\\end{bmatrix},\n",
       "\\begin{bmatrix}\n",
       "  0.87319297\\\\\n",
       "\\end{bmatrix}) = \n",
       "\\begin{bmatrix}\n",
       "  0.016080021964870694\\\\\n",
       "\\end{bmatrix}"
      ],
      "text/plain": [
       "<IPython.core.display.Latex object>"
      ]
     },
     "metadata": {},
     "output_type": "display_data"
    },
    {
     "data": {
      "text/latex": [
       "\\nabla = \\frac{\\partial E}{\\partial Y} = \n",
       "\\begin{bmatrix}\n",
       "  -0.25361405\\\\\n",
       "\\end{bmatrix}"
      ],
      "text/plain": [
       "<IPython.core.display.Latex object>"
      ]
     },
     "metadata": {},
     "output_type": "display_data"
    },
    {
     "data": {
      "text/latex": [
       "Camada: 2"
      ],
      "text/plain": [
       "<IPython.core.display.Latex object>"
      ]
     },
     "metadata": {},
     "output_type": "display_data"
    },
    {
     "data": {
      "text/latex": [
       "\\frac{\\partial E}{\\partial X} = \\frac{\\partial E}{\\partial Y} W^T"
      ],
      "text/plain": [
       "<IPython.core.display.Latex object>"
      ]
     },
     "metadata": {},
     "output_type": "display_data"
    },
    {
     "data": {
      "text/latex": [
       "\n",
       "\\begin{bmatrix}\n",
       "  -0.68229369 & -0.5833457\\\\\n",
       "\\end{bmatrix} = \n",
       "\\begin{bmatrix}\n",
       "  -0.25361405\\\\\n",
       "\\end{bmatrix} \\cdot \n",
       "\\begin{bmatrix}\n",
       "  2.69028347 & 2.3001316\\\\\n",
       "\\end{bmatrix}"
      ],
      "text/plain": [
       "<IPython.core.display.Latex object>"
      ]
     },
     "metadata": {},
     "output_type": "display_data"
    },
    {
     "data": {
      "text/latex": [
       "W = W - \\lambda (X^T \\cdot \\nabla f_{custo})"
      ],
      "text/plain": [
       "<IPython.core.display.Latex object>"
      ]
     },
     "metadata": {},
     "output_type": "display_data"
    },
    {
     "data": {
      "text/latex": [
       "\\begin{gather}\n",
       "\\begin{bmatrix}\n",
       "  2.69032643\\\\\n",
       "  2.37054997\\\\\n",
       "\\end{bmatrix} = \n",
       "\\begin{bmatrix}\n",
       "  2.69028347\\\\\n",
       "  2.3001316\\\\\n",
       "\\end{bmatrix} - 0.5\n",
       "\\begin{bmatrix}\n",
       "  3.38803929e-04\\\\\n",
       "  5.55319102e-01\\\\\n",
       "\\end{bmatrix} \\cdot \n",
       "\\begin{bmatrix}\n",
       "  -0.25361405\\\\\n",
       "\\end{bmatrix}\\end{gather}"
      ],
      "text/plain": [
       "<IPython.core.display.Latex object>"
      ]
     },
     "metadata": {},
     "output_type": "display_data"
    },
    {
     "data": {
      "text/latex": [
       "B = B - \\lambda (\\nabla f_{custo})"
      ],
      "text/plain": [
       "<IPython.core.display.Latex object>"
      ]
     },
     "metadata": {},
     "output_type": "display_data"
    },
    {
     "data": {
      "text/latex": [
       "\\begin{gather}\n",
       "\\begin{bmatrix}\n",
       "  -0.27821849\\\\\n",
       "\\end{bmatrix} = \n",
       "\\begin{bmatrix}\n",
       "  -0.40502552\\\\\n",
       "\\end{bmatrix} - 0.5\n",
       "\\begin{bmatrix}\n",
       "  -0.25361405\\\\\n",
       "\\end{bmatrix}\\end{gather}"
      ],
      "text/plain": [
       "<IPython.core.display.Latex object>"
      ]
     },
     "metadata": {},
     "output_type": "display_data"
    },
    {
     "data": {
      "text/latex": [
       "Camada: 1"
      ],
      "text/plain": [
       "<IPython.core.display.Latex object>"
      ]
     },
     "metadata": {},
     "output_type": "display_data"
    },
    {
     "data": {
      "text/latex": [
       "\\frac{\\partial E}{\\partial X} = \\frac{\\partial E}{\\partial Y} \\sigma^{'}(X)"
      ],
      "text/plain": [
       "<IPython.core.display.Latex object>"
      ]
     },
     "metadata": {},
     "output_type": "display_data"
    },
    {
     "data": {
      "text/latex": [
       "\\begin{gather}\n",
       "\\begin{bmatrix}\n",
       "  -0.00023109 & -0.14405127\\\\\n",
       "\\end{bmatrix} = \n",
       "\\begin{bmatrix}\n",
       "  -0.68229369 & -0.5833457\\\\\n",
       "\\end{bmatrix} \\cdot  \\sigma^{'}(\n",
       "\\begin{bmatrix}\n",
       "  -7.98975014 & 0.22218596\\\\\n",
       "\\end{bmatrix}) \\end{gather}"
      ],
      "text/plain": [
       "<IPython.core.display.Latex object>"
      ]
     },
     "metadata": {},
     "output_type": "display_data"
    },
    {
     "data": {
      "text/latex": [
       "Camada: 0"
      ],
      "text/plain": [
       "<IPython.core.display.Latex object>"
      ]
     },
     "metadata": {},
     "output_type": "display_data"
    },
    {
     "data": {
      "text/latex": [
       "\\frac{\\partial E}{\\partial X} = \\frac{\\partial E}{\\partial Y} W^T"
      ],
      "text/plain": [
       "<IPython.core.display.Latex object>"
      ]
     },
     "metadata": {},
     "output_type": "display_data"
    },
    {
     "data": {
      "text/latex": [
       "\n",
       "\\begin{bmatrix}\n",
       "  -0.32491023 & 0.32608341\\\\\n",
       "\\end{bmatrix} = \n",
       "\\begin{bmatrix}\n",
       "  -0.00023109 & -0.14405127\\\\\n",
       "\\end{bmatrix} \\cdot \n",
       "\\begin{bmatrix}\n",
       "  -5.29230689 & 2.80360972\\\\\n",
       "  2.26400784 & -2.26815975\\\\\n",
       "\\end{bmatrix}"
      ],
      "text/plain": [
       "<IPython.core.display.Latex object>"
      ]
     },
     "metadata": {},
     "output_type": "display_data"
    },
    {
     "data": {
      "text/latex": [
       "W = W - \\lambda (X^T \\cdot \\nabla f_{custo})"
      ],
      "text/plain": [
       "<IPython.core.display.Latex object>"
      ]
     },
     "metadata": {},
     "output_type": "display_data"
    },
    {
     "data": {
      "text/latex": [
       "\\begin{gather}\n",
       "\\begin{bmatrix}\n",
       "  -5.29219135 & 2.33603347\\\\\n",
       "  2.80360972 & -2.26815975\\\\\n",
       "\\end{bmatrix} = \n",
       "\\begin{bmatrix}\n",
       "  -5.29230689 & 2.26400784\\\\\n",
       "  2.80360972 & -2.26815975\\\\\n",
       "\\end{bmatrix} - 0.5\n",
       "\\begin{bmatrix}\n",
       "  1\\\\\n",
       "  0\\\\\n",
       "\\end{bmatrix} \\cdot \n",
       "\\begin{bmatrix}\n",
       "  -0.00023109 & -0.14405127\\\\\n",
       "\\end{bmatrix}\\end{gather}"
      ],
      "text/plain": [
       "<IPython.core.display.Latex object>"
      ]
     },
     "metadata": {},
     "output_type": "display_data"
    },
    {
     "data": {
      "text/latex": [
       "B = B - \\lambda (\\nabla f_{custo})"
      ],
      "text/plain": [
       "<IPython.core.display.Latex object>"
      ]
     },
     "metadata": {},
     "output_type": "display_data"
    },
    {
     "data": {
      "text/latex": [
       "\\begin{gather}\n",
       "\\begin{bmatrix}\n",
       "  -2.6973277 & -1.96979624\\\\\n",
       "\\end{bmatrix} = \n",
       "\\begin{bmatrix}\n",
       "  -2.69744324 & -2.04182187\\\\\n",
       "\\end{bmatrix} - 0.5\n",
       "\\begin{bmatrix}\n",
       "  -0.00023109 & -0.14405127\\\\\n",
       "\\end{bmatrix}\\end{gather}"
      ],
      "text/plain": [
       "<IPython.core.display.Latex object>"
      ]
     },
     "metadata": {},
     "output_type": "display_data"
    },
    {
     "data": {
      "text/latex": [
       "Camada: 0"
      ],
      "text/plain": [
       "<IPython.core.display.Latex object>"
      ]
     },
     "metadata": {},
     "output_type": "display_data"
    },
    {
     "data": {
      "text/latex": [
       "Y = Xw + b"
      ],
      "text/plain": [
       "<IPython.core.display.Latex object>"
      ]
     },
     "metadata": {},
     "output_type": "display_data"
    },
    {
     "data": {
      "text/latex": [
       "\\begin{gather}\n",
       "\\begin{bmatrix}\n",
       "  -5.18590933 & -1.90192252\\\\\n",
       "\\end{bmatrix} = \n",
       "\\begin{bmatrix}\n",
       "  1 & 1\\\\\n",
       "\\end{bmatrix} \\cdot \n",
       "\\begin{bmatrix}\n",
       "  -5.29219135 & 2.33603347\\\\\n",
       "  2.80360972 & -2.26815975\\\\\n",
       "\\end{bmatrix} + \n",
       "\\begin{bmatrix}\n",
       "  -2.6973277 & -1.96979624\\\\\n",
       "\\end{bmatrix}\\end{gather}"
      ],
      "text/plain": [
       "<IPython.core.display.Latex object>"
      ]
     },
     "metadata": {},
     "output_type": "display_data"
    },
    {
     "data": {
      "text/latex": [
       "Camada: 1"
      ],
      "text/plain": [
       "<IPython.core.display.Latex object>"
      ]
     },
     "metadata": {},
     "output_type": "display_data"
    },
    {
     "data": {
      "text/latex": [
       "Y = \\sigma(X)"
      ],
      "text/plain": [
       "<IPython.core.display.Latex object>"
      ]
     },
     "metadata": {},
     "output_type": "display_data"
    },
    {
     "data": {
      "text/latex": [
       "\\begin{gather}\n",
       "\\begin{bmatrix}\n",
       "  0.00556372 & 0.12989104\\\\\n",
       "\\end{bmatrix} = \\sigma(\n",
       "\\begin{bmatrix}\n",
       "  -5.18590933 & -1.90192252\\\\\n",
       "\\end{bmatrix}) \\end{gather}"
      ],
      "text/plain": [
       "<IPython.core.display.Latex object>"
      ]
     },
     "metadata": {},
     "output_type": "display_data"
    },
    {
     "data": {
      "text/latex": [
       "Camada: 2"
      ],
      "text/plain": [
       "<IPython.core.display.Latex object>"
      ]
     },
     "metadata": {},
     "output_type": "display_data"
    },
    {
     "data": {
      "text/latex": [
       "Y = Xw + b"
      ],
      "text/plain": [
       "<IPython.core.display.Latex object>"
      ]
     },
     "metadata": {},
     "output_type": "display_data"
    },
    {
     "data": {
      "text/latex": [
       "\\begin{gather}\n",
       "\\begin{bmatrix}\n",
       "  0.04466292\\\\\n",
       "\\end{bmatrix} = \n",
       "\\begin{bmatrix}\n",
       "  0.00556372 & 0.12989104\\\\\n",
       "\\end{bmatrix} \\cdot \n",
       "\\begin{bmatrix}\n",
       "  2.69032643\\\\\n",
       "  2.37054997\\\\\n",
       "\\end{bmatrix} + \n",
       "\\begin{bmatrix}\n",
       "  -0.27821849\\\\\n",
       "\\end{bmatrix}\\end{gather}"
      ],
      "text/plain": [
       "<IPython.core.display.Latex object>"
      ]
     },
     "metadata": {},
     "output_type": "display_data"
    },
    {
     "data": {
      "text/latex": [
       "f_{custo}(\n",
       "\\begin{bmatrix}\n",
       "  0\\\\\n",
       "\\end{bmatrix},\n",
       "\\begin{bmatrix}\n",
       "  0.04466292\\\\\n",
       "\\end{bmatrix}) = \n",
       "\\begin{bmatrix}\n",
       "  0.001994776566282343\\\\\n",
       "\\end{bmatrix}"
      ],
      "text/plain": [
       "<IPython.core.display.Latex object>"
      ]
     },
     "metadata": {},
     "output_type": "display_data"
    },
    {
     "data": {
      "text/latex": [
       "\\nabla = \\frac{\\partial E}{\\partial Y} = \n",
       "\\begin{bmatrix}\n",
       "  0.08932584\\\\\n",
       "\\end{bmatrix}"
      ],
      "text/plain": [
       "<IPython.core.display.Latex object>"
      ]
     },
     "metadata": {},
     "output_type": "display_data"
    },
    {
     "data": {
      "text/latex": [
       "Camada: 2"
      ],
      "text/plain": [
       "<IPython.core.display.Latex object>"
      ]
     },
     "metadata": {},
     "output_type": "display_data"
    },
    {
     "data": {
      "text/latex": [
       "\\frac{\\partial E}{\\partial X} = \\frac{\\partial E}{\\partial Y} W^T"
      ],
      "text/plain": [
       "<IPython.core.display.Latex object>"
      ]
     },
     "metadata": {},
     "output_type": "display_data"
    },
    {
     "data": {
      "text/latex": [
       "\n",
       "\\begin{bmatrix}\n",
       "  0.24031568 & 0.21175137\\\\\n",
       "\\end{bmatrix} = \n",
       "\\begin{bmatrix}\n",
       "  0.08932584\\\\\n",
       "\\end{bmatrix} \\cdot \n",
       "\\begin{bmatrix}\n",
       "  2.69032643 & 2.37054997\\\\\n",
       "\\end{bmatrix}"
      ],
      "text/plain": [
       "<IPython.core.display.Latex object>"
      ]
     },
     "metadata": {},
     "output_type": "display_data"
    },
    {
     "data": {
      "text/latex": [
       "W = W - \\lambda (X^T \\cdot \\nabla f_{custo})"
      ],
      "text/plain": [
       "<IPython.core.display.Latex object>"
      ]
     },
     "metadata": {},
     "output_type": "display_data"
    },
    {
     "data": {
      "text/latex": [
       "\\begin{gather}\n",
       "\\begin{bmatrix}\n",
       "  2.69007794\\\\\n",
       "  2.36474865\\\\\n",
       "\\end{bmatrix} = \n",
       "\\begin{bmatrix}\n",
       "  2.69032643\\\\\n",
       "  2.37054997\\\\\n",
       "\\end{bmatrix} - 0.5\n",
       "\\begin{bmatrix}\n",
       "  0.00556372\\\\\n",
       "  0.12989104\\\\\n",
       "\\end{bmatrix} \\cdot \n",
       "\\begin{bmatrix}\n",
       "  0.08932584\\\\\n",
       "\\end{bmatrix}\\end{gather}"
      ],
      "text/plain": [
       "<IPython.core.display.Latex object>"
      ]
     },
     "metadata": {},
     "output_type": "display_data"
    },
    {
     "data": {
      "text/latex": [
       "B = B - \\lambda (\\nabla f_{custo})"
      ],
      "text/plain": [
       "<IPython.core.display.Latex object>"
      ]
     },
     "metadata": {},
     "output_type": "display_data"
    },
    {
     "data": {
      "text/latex": [
       "\\begin{gather}\n",
       "\\begin{bmatrix}\n",
       "  -0.32288142\\\\\n",
       "\\end{bmatrix} = \n",
       "\\begin{bmatrix}\n",
       "  -0.27821849\\\\\n",
       "\\end{bmatrix} - 0.5\n",
       "\\begin{bmatrix}\n",
       "  0.08932584\\\\\n",
       "\\end{bmatrix}\\end{gather}"
      ],
      "text/plain": [
       "<IPython.core.display.Latex object>"
      ]
     },
     "metadata": {},
     "output_type": "display_data"
    },
    {
     "data": {
      "text/latex": [
       "Camada: 1"
      ],
      "text/plain": [
       "<IPython.core.display.Latex object>"
      ]
     },
     "metadata": {},
     "output_type": "display_data"
    },
    {
     "data": {
      "text/latex": [
       "\\frac{\\partial E}{\\partial X} = \\frac{\\partial E}{\\partial Y} \\sigma^{'}(X)"
      ],
      "text/plain": [
       "<IPython.core.display.Latex object>"
      ]
     },
     "metadata": {},
     "output_type": "display_data"
    },
    {
     "data": {
      "text/latex": [
       "\\begin{gather}\n",
       "\\begin{bmatrix}\n",
       "  0.00132961 & 0.023932\\\\\n",
       "\\end{bmatrix} = \n",
       "\\begin{bmatrix}\n",
       "  0.24031568 & 0.21175137\\\\\n",
       "\\end{bmatrix} \\cdot  \\sigma^{'}(\n",
       "\\begin{bmatrix}\n",
       "  -5.18590933 & -1.90192252\\\\\n",
       "\\end{bmatrix}) \\end{gather}"
      ],
      "text/plain": [
       "<IPython.core.display.Latex object>"
      ]
     },
     "metadata": {},
     "output_type": "display_data"
    },
    {
     "data": {
      "text/latex": [
       "Camada: 0"
      ],
      "text/plain": [
       "<IPython.core.display.Latex object>"
      ]
     },
     "metadata": {},
     "output_type": "display_data"
    },
    {
     "data": {
      "text/latex": [
       "\\frac{\\partial E}{\\partial X} = \\frac{\\partial E}{\\partial Y} W^T"
      ],
      "text/plain": [
       "<IPython.core.display.Latex object>"
      ]
     },
     "metadata": {},
     "output_type": "display_data"
    },
    {
     "data": {
      "text/latex": [
       "\n",
       "\\begin{bmatrix}\n",
       "  0.04886941 & -0.0505539\\\\\n",
       "\\end{bmatrix} = \n",
       "\\begin{bmatrix}\n",
       "  0.00132961 & 0.023932\\\\\n",
       "\\end{bmatrix} \\cdot \n",
       "\\begin{bmatrix}\n",
       "  -5.29219135 & 2.80360972\\\\\n",
       "  2.33603347 & -2.26815975\\\\\n",
       "\\end{bmatrix}"
      ],
      "text/plain": [
       "<IPython.core.display.Latex object>"
      ]
     },
     "metadata": {},
     "output_type": "display_data"
    },
    {
     "data": {
      "text/latex": [
       "W = W - \\lambda (X^T \\cdot \\nabla f_{custo})"
      ],
      "text/plain": [
       "<IPython.core.display.Latex object>"
      ]
     },
     "metadata": {},
     "output_type": "display_data"
    },
    {
     "data": {
      "text/latex": [
       "\\begin{gather}\n",
       "\\begin{bmatrix}\n",
       "  -5.29285616 & 2.32406747\\\\\n",
       "  2.80294492 & -2.28012575\\\\\n",
       "\\end{bmatrix} = \n",
       "\\begin{bmatrix}\n",
       "  -5.29219135 & 2.33603347\\\\\n",
       "  2.80360972 & -2.26815975\\\\\n",
       "\\end{bmatrix} - 0.5\n",
       "\\begin{bmatrix}\n",
       "  1\\\\\n",
       "  1\\\\\n",
       "\\end{bmatrix} \\cdot \n",
       "\\begin{bmatrix}\n",
       "  0.00132961 & 0.023932\\\\\n",
       "\\end{bmatrix}\\end{gather}"
      ],
      "text/plain": [
       "<IPython.core.display.Latex object>"
      ]
     },
     "metadata": {},
     "output_type": "display_data"
    },
    {
     "data": {
      "text/latex": [
       "B = B - \\lambda (\\nabla f_{custo})"
      ],
      "text/plain": [
       "<IPython.core.display.Latex object>"
      ]
     },
     "metadata": {},
     "output_type": "display_data"
    },
    {
     "data": {
      "text/latex": [
       "\\begin{gather}\n",
       "\\begin{bmatrix}\n",
       "  -2.6979925 & -1.98176224\\\\\n",
       "\\end{bmatrix} = \n",
       "\\begin{bmatrix}\n",
       "  -2.6973277 & -1.96979624\\\\\n",
       "\\end{bmatrix} - 0.5\n",
       "\\begin{bmatrix}\n",
       "  0.00132961 & 0.023932\\\\\n",
       "\\end{bmatrix}\\end{gather}"
      ],
      "text/plain": [
       "<IPython.core.display.Latex object>"
      ]
     },
     "metadata": {},
     "output_type": "display_data"
    }
   ],
   "source": [
    "from IPython.display import Latex, Markdown\n",
    "\n",
    "rede_exemplo_XOR.treinar(\n",
    "    vetor_x_exemplo_XOR,\n",
    "    vetor_y_esperado_exemplo_XOR,\n",
    "    max_n_iteracoes=1000,\n",
    "    taxa_aprendizado=0.5,\n",
    ")\n",
    "\n",
    "\n",
    "for iteracao_log in rede_exemplo_XOR.logs[0:1]:\n",
    "    for log in iteracao_log:\n",
    "        display(Latex(log))\n",
    "\n",
    "display(Markdown('---'))\n",
    "display(Latex(r'Última \\quad iteração:'))\n",
    "display(Markdown('---'))\n",
    "\n",
    "for log in rede_exemplo_XOR.logs[-1]:\n",
    "    display(Latex(log))"
   ]
  },
  {
   "cell_type": "markdown",
   "metadata": {},
   "source": [
    "### Validação"
   ]
  },
  {
   "cell_type": "code",
   "execution_count": 33,
   "metadata": {},
   "outputs": [
    {
     "data": {
      "text/latex": [
       "\\begin{gather}X=\n",
       "\\begin{bmatrix}\n",
       "  0 & 0\\\\\n",
       "  0 & 1\\\\\n",
       "  1 & 0\\\\\n",
       "  1 & 1\\\\\n",
       "\\end{bmatrix}\\rightarrow\n",
       "\\begin{bmatrix}\n",
       "  0.13328538\\\\\n",
       "  1.12554477\\\\\n",
       "  1.06081667\\\\\n",
       "  -0.01025196\\\\\n",
       "\\end{bmatrix}\\end{gather}"
      ],
      "text/plain": [
       "<IPython.core.display.Latex object>"
      ]
     },
     "execution_count": 33,
     "metadata": {},
     "output_type": "execute_result"
    }
   ],
   "source": [
    "from utils import array_to_latex\n",
    "from IPython.display import Latex\n",
    "\n",
    "validacao_exemplo_XOR = rede_exemplo_XOR.predict(vetor_x_exemplo_XOR)\n",
    "validacao_exemplo_XOR = np.asarray(validacao_exemplo_XOR) \\\n",
    "                          .reshape(4, 1)\n",
    "\n",
    "Latex(r'\\begin{gather}' +\n",
    "      array_to_latex(vetor_x_exemplo_XOR.reshape(4,2), 'X=') +\n",
    "      r'\\rightarrow' +\n",
    "      array_to_latex(validacao_exemplo_XOR, '') +\n",
    "      r'\\end{gather}')"
   ]
  },
  {
   "cell_type": "markdown",
   "metadata": {},
   "source": [
    "## Exemplo: Display de 7 Segmentos\n",
    "\n",
    "### Entradas e Saídas Esperadas"
   ]
  },
  {
   "cell_type": "code",
   "execution_count": 34,
   "metadata": {},
   "outputs": [
    {
     "data": {
      "text/html": [
       "<div>\n",
       "<style scoped>\n",
       "    .dataframe tbody tr th:only-of-type {\n",
       "        vertical-align: middle;\n",
       "    }\n",
       "\n",
       "    .dataframe tbody tr th {\n",
       "        vertical-align: top;\n",
       "    }\n",
       "\n",
       "    .dataframe thead th {\n",
       "        text-align: right;\n",
       "    }\n",
       "</style>\n",
       "<table border=\"1\" class=\"dataframe\">\n",
       "  <thead>\n",
       "    <tr style=\"text-align: right;\">\n",
       "      <th></th>\n",
       "      <th>A</th>\n",
       "      <th>B</th>\n",
       "      <th>C</th>\n",
       "      <th>D</th>\n",
       "      <th>E</th>\n",
       "      <th>F</th>\n",
       "      <th>G</th>\n",
       "    </tr>\n",
       "  </thead>\n",
       "  <tbody>\n",
       "    <tr>\n",
       "      <th>0</th>\n",
       "      <td>1</td>\n",
       "      <td>1</td>\n",
       "      <td>1</td>\n",
       "      <td>1</td>\n",
       "      <td>1</td>\n",
       "      <td>1</td>\n",
       "      <td>0</td>\n",
       "    </tr>\n",
       "    <tr>\n",
       "      <th>1</th>\n",
       "      <td>0</td>\n",
       "      <td>1</td>\n",
       "      <td>1</td>\n",
       "      <td>0</td>\n",
       "      <td>0</td>\n",
       "      <td>0</td>\n",
       "      <td>0</td>\n",
       "    </tr>\n",
       "    <tr>\n",
       "      <th>2</th>\n",
       "      <td>1</td>\n",
       "      <td>1</td>\n",
       "      <td>0</td>\n",
       "      <td>1</td>\n",
       "      <td>1</td>\n",
       "      <td>0</td>\n",
       "      <td>1</td>\n",
       "    </tr>\n",
       "    <tr>\n",
       "      <th>3</th>\n",
       "      <td>1</td>\n",
       "      <td>1</td>\n",
       "      <td>1</td>\n",
       "      <td>1</td>\n",
       "      <td>0</td>\n",
       "      <td>0</td>\n",
       "      <td>1</td>\n",
       "    </tr>\n",
       "    <tr>\n",
       "      <th>4</th>\n",
       "      <td>0</td>\n",
       "      <td>1</td>\n",
       "      <td>1</td>\n",
       "      <td>0</td>\n",
       "      <td>0</td>\n",
       "      <td>1</td>\n",
       "      <td>1</td>\n",
       "    </tr>\n",
       "    <tr>\n",
       "      <th>5</th>\n",
       "      <td>1</td>\n",
       "      <td>0</td>\n",
       "      <td>1</td>\n",
       "      <td>1</td>\n",
       "      <td>0</td>\n",
       "      <td>1</td>\n",
       "      <td>1</td>\n",
       "    </tr>\n",
       "    <tr>\n",
       "      <th>6</th>\n",
       "      <td>0</td>\n",
       "      <td>0</td>\n",
       "      <td>1</td>\n",
       "      <td>1</td>\n",
       "      <td>1</td>\n",
       "      <td>1</td>\n",
       "      <td>1</td>\n",
       "    </tr>\n",
       "    <tr>\n",
       "      <th>7</th>\n",
       "      <td>1</td>\n",
       "      <td>1</td>\n",
       "      <td>1</td>\n",
       "      <td>0</td>\n",
       "      <td>0</td>\n",
       "      <td>0</td>\n",
       "      <td>0</td>\n",
       "    </tr>\n",
       "    <tr>\n",
       "      <th>8</th>\n",
       "      <td>1</td>\n",
       "      <td>1</td>\n",
       "      <td>1</td>\n",
       "      <td>1</td>\n",
       "      <td>1</td>\n",
       "      <td>1</td>\n",
       "      <td>1</td>\n",
       "    </tr>\n",
       "    <tr>\n",
       "      <th>9</th>\n",
       "      <td>1</td>\n",
       "      <td>1</td>\n",
       "      <td>0</td>\n",
       "      <td>0</td>\n",
       "      <td>1</td>\n",
       "      <td>1</td>\n",
       "      <td>1</td>\n",
       "    </tr>\n",
       "  </tbody>\n",
       "</table>\n",
       "</div>"
      ],
      "text/plain": [
       "   A  B  C  D  E  F  G\n",
       "0  1  1  1  1  1  1  0\n",
       "1  0  1  1  0  0  0  0\n",
       "2  1  1  0  1  1  0  1\n",
       "3  1  1  1  1  0  0  1\n",
       "4  0  1  1  0  0  1  1\n",
       "5  1  0  1  1  0  1  1\n",
       "6  0  0  1  1  1  1  1\n",
       "7  1  1  1  0  0  0  0\n",
       "8  1  1  1  1  1  1  1\n",
       "9  1  1  0  0  1  1  1"
      ]
     },
     "metadata": {},
     "output_type": "display_data"
    },
    {
     "data": {
      "text/latex": [
       "\\begin{gather}Y_{esperado}=\n",
       "\\begin{bmatrix}\n",
       "  1 & 0 & 0 & 0 & 0 & 0 & 0 & 0 & 0 & 0\\\\\n",
       "  0 & 1 & 0 & 0 & 0 & 0 & 0 & 0 & 0 & 0\\\\\n",
       "  0 & 0 & 1 & 0 & 0 & 0 & 0 & 0 & 0 & 0\\\\\n",
       "  0 & 0 & 0 & 1 & 0 & 0 & 0 & 0 & 0 & 0\\\\\n",
       "  0 & 0 & 0 & 0 & 1 & 0 & 0 & 0 & 0 & 0\\\\\n",
       "  0 & 0 & 0 & 0 & 0 & 1 & 0 & 0 & 0 & 0\\\\\n",
       "  0 & 0 & 0 & 0 & 0 & 0 & 1 & 0 & 0 & 0\\\\\n",
       "  0 & 0 & 0 & 0 & 0 & 0 & 0 & 1 & 0 & 0\\\\\n",
       "  0 & 0 & 0 & 0 & 0 & 0 & 0 & 0 & 1 & 0\\\\\n",
       "  0 & 0 & 0 & 0 & 0 & 0 & 0 & 0 & 0 & 1\\\\\n",
       "\\end{bmatrix}\\end{gather}"
      ],
      "text/plain": [
       "<IPython.core.display.Latex object>"
      ]
     },
     "execution_count": 34,
     "metadata": {},
     "output_type": "execute_result"
    }
   ],
   "source": [
    "import pandas as pd\n",
    "from IPython.display import display, Latex\n",
    "\n",
    "segmentos = ['A', 'B', 'C', 'D', 'E', 'F', 'G']\n",
    "\n",
    "tabela_segmentos_digitos = pd.DataFrame([\n",
    "    #A, B, C, D, E, F, G\n",
    "    [1, 1, 1, 1, 1, 1, 0],\n",
    "    [0, 1, 1, 0, 0, 0, 0],\n",
    "    [1, 1, 0, 1, 1, 0, 1],\n",
    "    [1, 1, 1, 1, 0, 0, 1],\n",
    "    [0, 1, 1, 0, 0, 1, 1],\n",
    "    [1, 0, 1, 1, 0, 1, 1],\n",
    "    [0, 0, 1, 1, 1, 1, 1],\n",
    "    [1, 1, 1, 0, 0, 0, 0],\n",
    "    [1, 1, 1, 1, 1, 1, 1],\n",
    "    [1, 1, 0, 0, 1, 1, 1],\n",
    "], columns=segmentos)\n",
    "\n",
    "display(tabela_segmentos_digitos)\n",
    "\n",
    "vetor_y_esperado_exemplo_segmentos = np.array(\n",
    "    [\n",
    "        [[1, 0, 0, 0, 0, 0, 0, 0, 0, 0]],\n",
    "        [[0, 1, 0, 0, 0, 0, 0, 0, 0, 0]],\n",
    "        [[0, 0, 1, 0, 0, 0, 0, 0, 0, 0]],\n",
    "        [[0, 0, 0, 1, 0, 0, 0, 0, 0, 0]],\n",
    "        [[0, 0, 0, 0, 1, 0, 0, 0, 0, 0]],\n",
    "        [[0, 0, 0, 0, 0, 1, 0, 0, 0, 0]],\n",
    "        [[0, 0, 0, 0, 0, 0, 1, 0, 0, 0]],\n",
    "        [[0, 0, 0, 0, 0, 0, 0, 1, 0, 0]],\n",
    "        [[0, 0, 0, 0, 0, 0, 0, 0, 1, 0]],\n",
    "        [[0, 0, 0, 0, 0, 0, 0, 0, 0, 1]],\n",
    "    ]\n",
    ")\n",
    "\n",
    "Latex(r\"\\begin{gather}\" +\n",
    "      array_to_latex(vetor_y_esperado_exemplo_segmentos.reshape(10, 10), r\"Y_{esperado}=\") +\n",
    "      r\"\\end{gather}\")"
   ]
  },
  {
   "cell_type": "markdown",
   "metadata": {},
   "source": [
    "### Rede"
   ]
  },
  {
   "cell_type": "code",
   "execution_count": 35,
   "metadata": {},
   "outputs": [],
   "source": [
    "vetor_x_exemplo_segmentos = tabela_segmentos_digitos.values.reshape((10, 1, 7))\n",
    "\n",
    "rede_exemplo_display = RedeNeural(erro_quadratico_medio, derivada_erro_quadratico_medio)\n",
    "rede_exemplo_display.add(FCLayer(7, 14))\n",
    "rede_exemplo_display.add(ActivationLayer(sigmoide, derivada_sigmoide))\n",
    "rede_exemplo_display.add(FCLayer(14, 10))\n"
   ]
  },
  {
   "cell_type": "markdown",
   "metadata": {},
   "source": [
    "### Treinamento"
   ]
  },
  {
   "cell_type": "code",
   "execution_count": 36,
   "metadata": {},
   "outputs": [
    {
     "name": "stdout",
     "output_type": "stream",
     "text": [
      "Iteração 1/1000   MédiaErro=8.211530\n",
      "Iteração 2/1000   MédiaErro=0.214382\n",
      "Iteração 3/1000   MédiaErro=0.180192\n",
      "Iteração 4/1000   MédiaErro=0.159188\n",
      "Iteração 5/1000   MédiaErro=0.144674\n",
      "Iteração 10/1000   MédiaErro=0.106426\n",
      "Iteração 100/1000   MédiaErro=0.032932\n",
      "Iteração 230/1000 MédiaErro=0.009904\n"
     ]
    },
    {
     "data": {
      "text/latex": [
       "Camada: 0"
      ],
      "text/plain": [
       "<IPython.core.display.Latex object>"
      ]
     },
     "metadata": {},
     "output_type": "display_data"
    },
    {
     "data": {
      "text/latex": [
       "Y = Xw + b"
      ],
      "text/plain": [
       "<IPython.core.display.Latex object>"
      ]
     },
     "metadata": {},
     "output_type": "display_data"
    },
    {
     "data": {
      "text/latex": [
       "\\begin{gather}\n",
       "\\begin{bmatrix}\n",
       "  3.76978074 & 2.93971222 & 3.4185035 & 2.98926583 & 3.94576825 & 3.65212103\\\\\n",
       "  3.98203904 & 3.4187838 & 3.30845029 & 4.30852638 & 4.11591475 & 3.33575565\\\\\n",
       "  3.48402263 & 3.08220343\\\\\n",
       "\\end{bmatrix} = \n",
       "\\begin{bmatrix}\n",
       "  1 & 1 & 1 & 1 & 1 & 1 & 0\\\\\n",
       "\\end{bmatrix} \\cdot \n",
       "\\begin{bmatrix}\n",
       "  0.04670265 & 0.80528434 & 0.38470678 & 0.139663 & 0.48388757 & 0.63141753\\\\\n",
       "  0.2039914 & 0.16964298 & 0.01100854 & 0.87364797 & 0.67287393 & 0.90535437\\\\\n",
       "  0.78873207 & 0.79580601\\\\\n",
       "  0.88040246 & 0.059684 & 0.37073551 & 0.01596452 & 0.64648071 & 0.73621367\\\\\n",
       "  0.76554901 & 0.95908603 & 0.97707847 & 0.79298182 & 0.82060609 & 0.40984329\\\\\n",
       "  0.35536857 & 0.30884919\\\\\n",
       "  0.58600752 & 0.65383605 & 0.02139857 & 0.51327176 & 0.48385975 & 0.04950203\\\\\n",
       "  0.40099056 & 0.34604465 & 0.75603039 & 0.6992738 & 0.97362408 & 0.57612339\\\\\n",
       "  0.33440316 & 0.09582367\\\\\n",
       "  0.68561348 & 0.40443715 & 0.56811803 & 0.43918252 & 0.64053697 & 0.46534569\\\\\n",
       "  0.79521607 & 0.72259471 & 0.46854379 & 0.95060714 & 0.17811715 & 0.23722551\\\\\n",
       "  0.47219313 & 0.54915011\\\\\n",
       "  0.31284285 & 0.11024985 & 0.70319547 & 0.93429491 & 0.11143729 & 0.70718781\\\\\n",
       "  0.34759186 & 0.29880385 & 0.41784829 & 0.01155229 & 0.12036856 & 0.60070564\\\\\n",
       "  0.90460124 & 0.44414515\\\\\n",
       "  0.98400995 & 0.18129491 & 0.87928911 & 0.56425845 & 0.67939561 & 0.88973093\\\\\n",
       "  0.67121883 & 0.74319654 & 0.28283118 & 0.57853812 & 0.81942602 & 0.48590303\\\\\n",
       "  0.02209802 & 0.8160978\\\\\n",
       "  0.97716528 & 0.86341309 & 0.61969285 & 0.99704147 & 0.41353985 & 0.43485885\\\\\n",
       "  0.20940839 & 0.89915965 & 0.05737182 & 0.95425114 & 0.01486062 & 0.1086166\\\\\n",
       "  0.51366224 & 0.42564855\\\\\n",
       "\\end{bmatrix} + \n",
       "\\begin{bmatrix}\n",
       "  0.27420183 & 0.72492592 & 0.49106003 & 0.38263067 & 0.90017036 & 0.17272338\\\\\n",
       "  0.79748132 & 0.17941504 & 0.39510962 & 0.40192524 & 0.53089892 & 0.12060042\\\\\n",
       "  0.60662643 & 0.07233149\\\\\n",
       "\\end{bmatrix}\\end{gather}"
      ],
      "text/plain": [
       "<IPython.core.display.Latex object>"
      ]
     },
     "metadata": {},
     "output_type": "display_data"
    },
    {
     "data": {
      "text/latex": [
       "Camada: 1"
      ],
      "text/plain": [
       "<IPython.core.display.Latex object>"
      ]
     },
     "metadata": {},
     "output_type": "display_data"
    },
    {
     "data": {
      "text/latex": [
       "Y = \\sigma(X)"
      ],
      "text/plain": [
       "<IPython.core.display.Latex object>"
      ]
     },
     "metadata": {},
     "output_type": "display_data"
    },
    {
     "data": {
      "text/latex": [
       "\\begin{gather}\n",
       "\\begin{bmatrix}\n",
       "  0.97746253 & 0.949775 & 0.96827784 & 0.95208683 & 0.98103045 & 0.97471961\\\\\n",
       "  0.98169379 & 0.96828645 & 0.96471757 & 0.98672523 & 0.98395077 & 0.96563528\\\\\n",
       "  0.97022973 & 0.95615266\\\\\n",
       "\\end{bmatrix} = \\sigma(\n",
       "\\begin{bmatrix}\n",
       "  3.76978074 & 2.93971222 & 3.4185035 & 2.98926583 & 3.94576825 & 3.65212103\\\\\n",
       "  3.98203904 & 3.4187838 & 3.30845029 & 4.30852638 & 4.11591475 & 3.33575565\\\\\n",
       "  3.48402263 & 3.08220343\\\\\n",
       "\\end{bmatrix}) \\end{gather}"
      ],
      "text/plain": [
       "<IPython.core.display.Latex object>"
      ]
     },
     "metadata": {},
     "output_type": "display_data"
    },
    {
     "data": {
      "text/latex": [
       "Camada: 2"
      ],
      "text/plain": [
       "<IPython.core.display.Latex object>"
      ]
     },
     "metadata": {},
     "output_type": "display_data"
    },
    {
     "data": {
      "text/latex": [
       "Y = Xw + b"
      ],
      "text/plain": [
       "<IPython.core.display.Latex object>"
      ]
     },
     "metadata": {},
     "output_type": "display_data"
    },
    {
     "data": {
      "text/latex": [
       "\\begin{gather}\n",
       "\\begin{bmatrix}\n",
       "  6.05088062 & 5.48976927 & 8.11448717 & 6.98115088 & 7.30294907 & 7.62474667\\\\\n",
       "  8.88570083 & 5.72028914 & 5.55692398 & 8.76249018\\\\\n",
       "\\end{bmatrix} = \n",
       "\\begin{bmatrix}\n",
       "  0.97746253 & 0.949775 & 0.96827784 & 0.95208683 & 0.98103045 & 0.97471961\\\\\n",
       "  0.98169379 & 0.96828645 & 0.96471757 & 0.98672523 & 0.98395077 & 0.96563528\\\\\n",
       "  0.97022973 & 0.95615266\\\\\n",
       "\\end{bmatrix} \\cdot \n",
       "\\begin{bmatrix}\n",
       "  0.28473551 & 0.02952874 & 0.8665623 & 0.99650129 & 0.21217316 & 0.25977206\\\\\n",
       "  0.90795793 & 0.37282653 & 0.40083622 & 0.80711779\\\\\n",
       "  0.56799697 & 0.13721192 & 0.83208225 & 0.71409755 & 0.60044417 & 0.48170815\\\\\n",
       "  0.39227434 & 0.34507846 & 0.12078848 & 0.46389355\\\\\n",
       "  0.48918167 & 0.20092861 & 0.9064202 & 0.92624875 & 0.13184851 & 0.13879434\\\\\n",
       "  0.67805445 & 0.4797264 & 0.88728502 & 0.41798421\\\\\n",
       "  0.69951249 & 0.12583896 & 0.09875471 & 0.35214801 & 0.50220025 & 0.36703619\\\\\n",
       "  0.0763863 & 0.09021214 & 0.09952544 & 0.46690861\\\\\n",
       "  0.75736073 & 0.07895152 & 0.0273832 & 0.57215706 & 0.33773616 & 0.77943917\\\\\n",
       "  0.24256157 & 0.84839416 & 0.13917843 & 0.12508467\\\\\n",
       "  0.13439341 & 0.6395941 & 0.87265935 & 0.69594259 & 0.82566915 & 0.65387581\\\\\n",
       "  0.74295726 & 0.34471046 & 0.46319978 & 0.58630444\\\\\n",
       "  0.5920826 & 0.01526338 & 0.979397 & 0.08744499 & 0.879409 & 0.44839626\\\\\n",
       "  0.90200258 & 0.30109108 & 0.42121158 & 0.76908909\\\\\n",
       "  0.36463346 & 0.7838111 & 0.34151494 & 0.24703875 & 0.42761208 & 0.89004211\\\\\n",
       "  0.89876119 & 0.67725849 & 0.15238157 & 0.6051966\\\\\n",
       "  0.38055769 & 0.96815211 & 0.10322266 & 0.75912622 & 0.96582609 & 0.86172717\\\\\n",
       "  0.77575894 & 0.17683806 & 0.58521031 & 0.99744039\\\\\n",
       "  0.03952675 & 0.27538384 & 0.51923763 & 0.00691871 & 0.41598814 & 0.51224474\\\\\n",
       "  0.36203141 & 0.10008018 & 0.72547538 & 0.07434216\\\\\n",
       "  0.14143252 & 0.42294547 & 0.10047843 & 0.3910563 & 0.37400609 & 0.92178344\\\\\n",
       "  0.49953644 & 0.29259844 & 0.16380002 & 0.79082331\\\\\n",
       "  0.1489418 & 0.05363143 & 0.65462386 & 0.60759231 & 0.59420008 & 0.13538163\\\\\n",
       "  0.7238846 & 0.87558791 & 0.07884522 & 0.711017\\\\\n",
       "  0.02244623 & 0.74503919 & 0.76465782 & 0.19391453 & 0.72273935 & 0.9670116\\\\\n",
       "  0.27820436 & 0.14172223 & 0.50836106 & 0.83754682\\\\\n",
       "  0.77555626 & 0.24349331 & 0.65085909 & 0.5974623 & 0.10486653 & 0.17186508\\\\\n",
       "  0.74675757 & 0.18172904 & 0.92528258 & 0.63685107\\\\\n",
       "\\end{bmatrix} + \n",
       "\\begin{bmatrix}\n",
       "  0.83268231 & 0.91206144 & 0.62872653 & 0.06196492 & 0.42048878 & 0.24843077\\\\\n",
       "  0.89840028 & 0.64404876 & 0.05177361 & 0.72664042\\\\\n",
       "\\end{bmatrix}\\end{gather}"
      ],
      "text/plain": [
       "<IPython.core.display.Latex object>"
      ]
     },
     "metadata": {},
     "output_type": "display_data"
    },
    {
     "data": {
      "text/latex": [
       "f_{custo}(\n",
       "\\begin{bmatrix}\n",
       "  1 & 0 & 0 & 0 & 0 & 0 & 0 & 0 & 0 & 0\\\\\n",
       "\\end{bmatrix},\n",
       "\\begin{bmatrix}\n",
       "  6.05088062 & 5.48976927 & 8.11448717 & 6.98115088 & 7.30294907 & 7.62474667\\\\\n",
       "  8.88570083 & 5.72028914 & 5.55692398 & 8.76249018\\\\\n",
       "\\end{bmatrix}) = \n",
       "\\begin{bmatrix}\n",
       "  50.10381835463781\\\\\n",
       "\\end{bmatrix}"
      ],
      "text/plain": [
       "<IPython.core.display.Latex object>"
      ]
     },
     "metadata": {},
     "output_type": "display_data"
    },
    {
     "data": {
      "text/latex": [
       "\\nabla = \\frac{\\partial E}{\\partial Y} = \n",
       "\\begin{bmatrix}\n",
       "  1.01017612 & 1.09795385 & 1.62289743 & 1.39623018 & 1.46058981 & 1.52494933\\\\\n",
       "  1.77714017 & 1.14405783 & 1.1113848 & 1.75249804\\\\\n",
       "\\end{bmatrix}"
      ],
      "text/plain": [
       "<IPython.core.display.Latex object>"
      ]
     },
     "metadata": {},
     "output_type": "display_data"
    },
    {
     "data": {
      "text/latex": [
       "Camada: 2"
      ],
      "text/plain": [
       "<IPython.core.display.Latex object>"
      ]
     },
     "metadata": {},
     "output_type": "display_data"
    },
    {
     "data": {
      "text/latex": [
       "\\frac{\\partial E}{\\partial X} = \\frac{\\partial E}{\\partial Y} W^T"
      ],
      "text/plain": [
       "<IPython.core.display.Latex object>"
      ]
     },
     "metadata": {},
     "output_type": "display_data"
    },
    {
     "data": {
      "text/latex": [
       "\n",
       "\\begin{bmatrix}\n",
       "  7.72383755 & 6.7225724 & 7.35574852 & 3.95778932 & 5.15252449 & 8.68602837\\\\\n",
       "  8.05806372 & 7.711942 & 9.37896887 & 4.27779743 & 6.05871666 & 6.81625199\\\\\n",
       "  7.57200376 & 7.03594447\\\\\n",
       "\\end{bmatrix} = \n",
       "\\begin{bmatrix}\n",
       "  1.01017612 & 1.09795385 & 1.62289743 & 1.39623018 & 1.46058981 & 1.52494933\\\\\n",
       "  1.77714017 & 1.14405783 & 1.1113848 & 1.75249804\\\\\n",
       "\\end{bmatrix} \\cdot \n",
       "\\begin{bmatrix}\n",
       "  0.28473551 & 0.56799697 & 0.48918167 & 0.69951249 & 0.75736073 & 0.13439341\\\\\n",
       "  0.5920826 & 0.36463346 & 0.38055769 & 0.03952675 & 0.14143252 & 0.1489418\\\\\n",
       "  0.02244623 & 0.77555626\\\\\n",
       "  0.02952874 & 0.13721192 & 0.20092861 & 0.12583896 & 0.07895152 & 0.6395941\\\\\n",
       "  0.01526338 & 0.7838111 & 0.96815211 & 0.27538384 & 0.42294547 & 0.05363143\\\\\n",
       "  0.74503919 & 0.24349331\\\\\n",
       "  0.8665623 & 0.83208225 & 0.9064202 & 0.09875471 & 0.0273832 & 0.87265935\\\\\n",
       "  0.979397 & 0.34151494 & 0.10322266 & 0.51923763 & 0.10047843 & 0.65462386\\\\\n",
       "  0.76465782 & 0.65085909\\\\\n",
       "  0.99650129 & 0.71409755 & 0.92624875 & 0.35214801 & 0.57215706 & 0.69594259\\\\\n",
       "  0.08744499 & 0.24703875 & 0.75912622 & 0.00691871 & 0.3910563 & 0.60759231\\\\\n",
       "  0.19391453 & 0.5974623\\\\\n",
       "  0.21217316 & 0.60044417 & 0.13184851 & 0.50220025 & 0.33773616 & 0.82566915\\\\\n",
       "  0.879409 & 0.42761208 & 0.96582609 & 0.41598814 & 0.37400609 & 0.59420008\\\\\n",
       "  0.72273935 & 0.10486653\\\\\n",
       "  0.25977206 & 0.48170815 & 0.13879434 & 0.36703619 & 0.77943917 & 0.65387581\\\\\n",
       "  0.44839626 & 0.89004211 & 0.86172717 & 0.51224474 & 0.92178344 & 0.13538163\\\\\n",
       "  0.9670116 & 0.17186508\\\\\n",
       "  0.90795793 & 0.39227434 & 0.67805445 & 0.0763863 & 0.24256157 & 0.74295726\\\\\n",
       "  0.90200258 & 0.89876119 & 0.77575894 & 0.36203141 & 0.49953644 & 0.7238846\\\\\n",
       "  0.27820436 & 0.74675757\\\\\n",
       "  0.37282653 & 0.34507846 & 0.4797264 & 0.09021214 & 0.84839416 & 0.34471046\\\\\n",
       "  0.30109108 & 0.67725849 & 0.17683806 & 0.10008018 & 0.29259844 & 0.87558791\\\\\n",
       "  0.14172223 & 0.18172904\\\\\n",
       "  0.40083622 & 0.12078848 & 0.88728502 & 0.09952544 & 0.13917843 & 0.46319978\\\\\n",
       "  0.42121158 & 0.15238157 & 0.58521031 & 0.72547538 & 0.16380002 & 0.07884522\\\\\n",
       "  0.50836106 & 0.92528258\\\\\n",
       "  0.80711779 & 0.46389355 & 0.41798421 & 0.46690861 & 0.12508467 & 0.58630444\\\\\n",
       "  0.76908909 & 0.6051966 & 0.99744039 & 0.07434216 & 0.79082331 & 0.711017\\\\\n",
       "  0.83754682 & 0.63685107\\\\\n",
       "\\end{bmatrix}"
      ],
      "text/plain": [
       "<IPython.core.display.Latex object>"
      ]
     },
     "metadata": {},
     "output_type": "display_data"
    },
    {
     "data": {
      "text/latex": [
       "W = W - \\lambda (X^T \\cdot \\nabla f_{custo})"
      ],
      "text/plain": [
       "<IPython.core.display.Latex object>"
      ]
     },
     "metadata": {},
     "output_type": "display_data"
    },
    {
     "data": {
      "text/latex": [
       "\\begin{gather}\n",
       "\\begin{bmatrix}\n",
       "  -4.06451011e-01 & -7.21717383e-01 & -2.43862705e-01 & 4.11674152e-02\\\\\n",
       "  -7.87197107e-01 & -7.83634521e-01 & -3.08003619e-01 & -4.09965033e-01\\\\\n",
       "  -3.59599675e-01 & -3.91983023e-01\\\\\n",
       "  -1.03611049e-01 & -5.92754465e-01 & -2.46888939e-01 & -2.14175611e-01\\\\\n",
       "  -3.70618016e-01 & -5.32142980e-01 & -7.89243968e-01 & -4.15539808e-01\\\\\n",
       "  -6.18107365e-01 & -7.01241628e-01\\\\\n",
       "  -1.95510133e-01 & -5.43258461e-01 & -1.93570730e-01 & -2.01083630e-02\\\\\n",
       "  -8.58131211e-01 & -8.94807906e-01 & -5.26481360e-01 & -2.95709689e-01\\\\\n",
       "  1.33994530e-01 & -7.69849297e-01\\\\\n",
       "  2.62697213e-02 & -6.05904227e-01 & -9.82842781e-01 & -5.78384640e-01\\\\\n",
       "  -4.71225582e-01 & -6.49282736e-01 & -1.10800793e+00 & -6.72257535e-01\\\\\n",
       "  -6.41168939e-01 & -7.01062603e-01\\\\\n",
       "  6.36512607e-02 & -6.75036787e-01 & -1.08709506e+00 & -3.86663960e-01\\\\\n",
       "  -6.65281992e-01 & -2.67776039e-01 & -9.77838463e-01 & 6.27452701e-02\\\\\n",
       "  -6.24033193e-01 & -1.07839308e+00\\\\\n",
       "  -5.54853531e-01 & -1.09543905e-01 & -2.34649621e-01 & -2.56710470e-01\\\\\n",
       "  -1.70896725e-01 & -3.86602810e-01 & -4.69592104e-01 & -4.35884463e-01\\\\\n",
       "  -2.95102215e-01 & -6.09431510e-01\\\\\n",
       "  -1.02095934e-01 & -7.39234754e-01 & -1.35834827e-01 & -8.72024357e-01\\\\\n",
       "  -1.24287360e-01 & -5.99527041e-01 & -3.19222647e-01 & -4.85089046e-01\\\\\n",
       "  -3.42516107e-01 & -4.35202412e-01\\\\\n",
       "  -3.20064432e-01 & 3.96174188e-02 & -7.58485769e-01 & -6.99326775e-01\\\\\n",
       "  -5.62376442e-01 & -1.43569332e-01 & -3.05785324e-01 & -9.81844936e-02\\\\\n",
       "  -6.00915613e-01 & -5.82647463e-01\\\\\n",
       "  -3.01616566e-01 & 2.26701346e-01 & -9.92723712e-01 & -1.83751228e-01\\\\\n",
       "  -2.05135699e-02 & -1.68074622e-01 & -4.24347904e-01 & -5.95746818e-01\\\\\n",
       "  -1.65310395e-01 & -1.86025568e-01\\\\\n",
       "  -6.58209638e-01 & -4.82981301e-01 & -6.01710058e-01 & -9.57468167e-01\\\\\n",
       "  -5.92852435e-01 & -5.41049451e-01 & -8.65452923e-01 & -6.90129328e-01\\\\\n",
       "  -4.21666138e-02 & -1.13612166e+00\\\\\n",
       "  -5.54341979e-01 & -3.33287299e-01 & -1.01731739e+00 & -5.70618928e-01\\\\\n",
       "  -6.31997833e-01 & -1.28549103e-01 & -7.24496457e-01 & -4.95389165e-01\\\\\n",
       "  -6.01683523e-01 & -4.16236940e-01\\\\\n",
       "  -5.33881392e-01 & -6.88524650e-01 & -4.42365050e-01 & -3.36182066e-01\\\\\n",
       "  -3.93077853e-01 & -8.95399776e-01 & -4.77363862e-01 & 1.02268093e-01\\\\\n",
       "  -6.72389430e-01 & -4.73574752e-01\\\\\n",
       "  -6.63625804e-01 & -6.48034200e-04 & -3.37550513e-01 & -7.54350286e-01\\\\\n",
       "  -2.69236011e-01 & -6.86742299e-02 & -9.28759593e-01 & -6.35277007e-01\\\\\n",
       "  -2.46447938e-01 & -3.52681165e-01\\\\\n",
       "  9.94384522e-02 & -4.91374735e-01 & -4.35357292e-01 & -3.37044129e-01\\\\\n",
       "  -8.72716246e-01 & -8.48793964e-01 & -4.42694533e-01 & -5.83996708e-01\\\\\n",
       "  1.81425113e-01 & -5.36107886e-01\\\\\n",
       "\\end{bmatrix} = \n",
       "\\begin{bmatrix}\n",
       "  0.28473551 & 0.02952874 & 0.8665623 & 0.99650129 & 0.21217316 & 0.25977206\\\\\n",
       "  0.90795793 & 0.37282653 & 0.40083622 & 0.80711779\\\\\n",
       "  0.56799697 & 0.13721192 & 0.83208225 & 0.71409755 & 0.60044417 & 0.48170815\\\\\n",
       "  0.39227434 & 0.34507846 & 0.12078848 & 0.46389355\\\\\n",
       "  0.48918167 & 0.20092861 & 0.9064202 & 0.92624875 & 0.13184851 & 0.13879434\\\\\n",
       "  0.67805445 & 0.4797264 & 0.88728502 & 0.41798421\\\\\n",
       "  0.69951249 & 0.12583896 & 0.09875471 & 0.35214801 & 0.50220025 & 0.36703619\\\\\n",
       "  0.0763863 & 0.09021214 & 0.09952544 & 0.46690861\\\\\n",
       "  0.75736073 & 0.07895152 & 0.0273832 & 0.57215706 & 0.33773616 & 0.77943917\\\\\n",
       "  0.24256157 & 0.84839416 & 0.13917843 & 0.12508467\\\\\n",
       "  0.13439341 & 0.6395941 & 0.87265935 & 0.69594259 & 0.82566915 & 0.65387581\\\\\n",
       "  0.74295726 & 0.34471046 & 0.46319978 & 0.58630444\\\\\n",
       "  0.5920826 & 0.01526338 & 0.979397 & 0.08744499 & 0.879409 & 0.44839626\\\\\n",
       "  0.90200258 & 0.30109108 & 0.42121158 & 0.76908909\\\\\n",
       "  0.36463346 & 0.7838111 & 0.34151494 & 0.24703875 & 0.42761208 & 0.89004211\\\\\n",
       "  0.89876119 & 0.67725849 & 0.15238157 & 0.6051966\\\\\n",
       "  0.38055769 & 0.96815211 & 0.10322266 & 0.75912622 & 0.96582609 & 0.86172717\\\\\n",
       "  0.77575894 & 0.17683806 & 0.58521031 & 0.99744039\\\\\n",
       "  0.03952675 & 0.27538384 & 0.51923763 & 0.00691871 & 0.41598814 & 0.51224474\\\\\n",
       "  0.36203141 & 0.10008018 & 0.72547538 & 0.07434216\\\\\n",
       "  0.14143252 & 0.42294547 & 0.10047843 & 0.3910563 & 0.37400609 & 0.92178344\\\\\n",
       "  0.49953644 & 0.29259844 & 0.16380002 & 0.79082331\\\\\n",
       "  0.1489418 & 0.05363143 & 0.65462386 & 0.60759231 & 0.59420008 & 0.13538163\\\\\n",
       "  0.7238846 & 0.87558791 & 0.07884522 & 0.711017\\\\\n",
       "  0.02244623 & 0.74503919 & 0.76465782 & 0.19391453 & 0.72273935 & 0.9670116\\\\\n",
       "  0.27820436 & 0.14172223 & 0.50836106 & 0.83754682\\\\\n",
       "  0.77555626 & 0.24349331 & 0.65085909 & 0.5974623 & 0.10486653 & 0.17186508\\\\\n",
       "  0.74675757 & 0.18172904 & 0.92528258 & 0.63685107\\\\\n",
       "\\end{bmatrix} - 0.7\n",
       "\\begin{bmatrix}\n",
       "  0.97746253\\\\\n",
       "  0.949775\\\\\n",
       "  0.96827784\\\\\n",
       "  0.95208683\\\\\n",
       "  0.98103045\\\\\n",
       "  0.97471961\\\\\n",
       "  0.98169379\\\\\n",
       "  0.96828645\\\\\n",
       "  0.96471757\\\\\n",
       "  0.98672523\\\\\n",
       "  0.98395077\\\\\n",
       "  0.96563528\\\\\n",
       "  0.97022973\\\\\n",
       "  0.95615266\\\\\n",
       "\\end{bmatrix} \\cdot \n",
       "\\begin{bmatrix}\n",
       "  1.01017612 & 1.09795385 & 1.62289743 & 1.39623018 & 1.46058981 & 1.52494933\\\\\n",
       "  1.77714017 & 1.14405783 & 1.1113848 & 1.75249804\\\\\n",
       "\\end{bmatrix}\\end{gather}"
      ],
      "text/plain": [
       "<IPython.core.display.Latex object>"
      ]
     },
     "metadata": {},
     "output_type": "display_data"
    },
    {
     "data": {
      "text/latex": [
       "B = B - \\lambda (\\nabla f_{custo})"
      ],
      "text/plain": [
       "<IPython.core.display.Latex object>"
      ]
     },
     "metadata": {},
     "output_type": "display_data"
    },
    {
     "data": {
      "text/latex": [
       "\\begin{gather}\n",
       "\\begin{bmatrix}\n",
       "  0.12555903 & 0.14349374 & -0.50730167 & -0.9153962 & -0.60192409 & -0.81903377\\\\\n",
       "  -0.34559784 & -0.15679172 & -0.72619574 & -0.5001082\\\\\n",
       "\\end{bmatrix} = \n",
       "\\begin{bmatrix}\n",
       "  0.83268231 & 0.91206144 & 0.62872653 & 0.06196492 & 0.42048878 & 0.24843077\\\\\n",
       "  0.89840028 & 0.64404876 & 0.05177361 & 0.72664042\\\\\n",
       "\\end{bmatrix} - 0.7\n",
       "\\begin{bmatrix}\n",
       "  1.01017612 & 1.09795385 & 1.62289743 & 1.39623018 & 1.46058981 & 1.52494933\\\\\n",
       "  1.77714017 & 1.14405783 & 1.1113848 & 1.75249804\\\\\n",
       "\\end{bmatrix}\\end{gather}"
      ],
      "text/plain": [
       "<IPython.core.display.Latex object>"
      ]
     },
     "metadata": {},
     "output_type": "display_data"
    },
    {
     "data": {
      "text/latex": [
       "Camada: 1"
      ],
      "text/plain": [
       "<IPython.core.display.Latex object>"
      ]
     },
     "metadata": {},
     "output_type": "display_data"
    },
    {
     "data": {
      "text/latex": [
       "\\frac{\\partial E}{\\partial X} = \\frac{\\partial E}{\\partial Y} \\sigma^{'}(X)"
      ],
      "text/plain": [
       "<IPython.core.display.Latex object>"
      ]
     },
     "metadata": {},
     "output_type": "display_data"
    },
    {
     "data": {
      "text/latex": [
       "\\begin{gather}\n",
       "\\begin{bmatrix}\n",
       "  0.17015252 & 0.32068317 & 0.22593819 & 0.18054445 & 0.09588698 & 0.21403493\\\\\n",
       "  0.14481222 & 0.23681681 & 0.3192374 & 0.05603294 & 0.09567717 & 0.22618907\\\\\n",
       "  0.21870977 & 0.29498025\\\\\n",
       "\\end{bmatrix} = \n",
       "\\begin{bmatrix}\n",
       "  7.72383755 & 6.7225724 & 7.35574852 & 3.95778932 & 5.15252449 & 8.68602837\\\\\n",
       "  8.05806372 & 7.711942 & 9.37896887 & 4.27779743 & 6.05871666 & 6.81625199\\\\\n",
       "  7.57200376 & 7.03594447\\\\\n",
       "\\end{bmatrix} \\cdot  \\sigma^{'}(\n",
       "\\begin{bmatrix}\n",
       "  3.76978074 & 2.93971222 & 3.4185035 & 2.98926583 & 3.94576825 & 3.65212103\\\\\n",
       "  3.98203904 & 3.4187838 & 3.30845029 & 4.30852638 & 4.11591475 & 3.33575565\\\\\n",
       "  3.48402263 & 3.08220343\\\\\n",
       "\\end{bmatrix}) \\end{gather}"
      ],
      "text/plain": [
       "<IPython.core.display.Latex object>"
      ]
     },
     "metadata": {},
     "output_type": "display_data"
    },
    {
     "data": {
      "text/latex": [
       "Camada: 0"
      ],
      "text/plain": [
       "<IPython.core.display.Latex object>"
      ]
     },
     "metadata": {},
     "output_type": "display_data"
    },
    {
     "data": {
      "text/latex": [
       "\\frac{\\partial E}{\\partial X} = \\frac{\\partial E}{\\partial Y} W^T"
      ],
      "text/plain": [
       "<IPython.core.display.Latex object>"
      ]
     },
     "metadata": {},
     "output_type": "display_data"
    },
    {
     "data": {
      "text/latex": [
       "\n",
       "\\begin{bmatrix}\n",
       "  1.35845952 & 1.50953646 & 1.20930181 & 1.4401088 & 1.30958119 & 1.61146912\\\\\n",
       "  1.47483615\\\\\n",
       "\\end{bmatrix} = \n",
       "\\begin{bmatrix}\n",
       "  0.17015252 & 0.32068317 & 0.22593819 & 0.18054445 & 0.09588698 & 0.21403493\\\\\n",
       "  0.14481222 & 0.23681681 & 0.3192374 & 0.05603294 & 0.09567717 & 0.22618907\\\\\n",
       "  0.21870977 & 0.29498025\\\\\n",
       "\\end{bmatrix} \\cdot \n",
       "\\begin{bmatrix}\n",
       "  0.04670265 & 0.88040246 & 0.58600752 & 0.68561348 & 0.31284285 & 0.98400995\\\\\n",
       "  0.97716528\\\\\n",
       "  0.80528434 & 0.059684 & 0.65383605 & 0.40443715 & 0.11024985 & 0.18129491\\\\\n",
       "  0.86341309\\\\\n",
       "  0.38470678 & 0.37073551 & 0.02139857 & 0.56811803 & 0.70319547 & 0.87928911\\\\\n",
       "  0.61969285\\\\\n",
       "  0.139663 & 0.01596452 & 0.51327176 & 0.43918252 & 0.93429491 & 0.56425845\\\\\n",
       "  0.99704147\\\\\n",
       "  0.48388757 & 0.64648071 & 0.48385975 & 0.64053697 & 0.11143729 & 0.67939561\\\\\n",
       "  0.41353985\\\\\n",
       "  0.63141753 & 0.73621367 & 0.04950203 & 0.46534569 & 0.70718781 & 0.88973093\\\\\n",
       "  0.43485885\\\\\n",
       "  0.2039914 & 0.76554901 & 0.40099056 & 0.79521607 & 0.34759186 & 0.67121883\\\\\n",
       "  0.20940839\\\\\n",
       "  0.16964298 & 0.95908603 & 0.34604465 & 0.72259471 & 0.29880385 & 0.74319654\\\\\n",
       "  0.89915965\\\\\n",
       "  0.01100854 & 0.97707847 & 0.75603039 & 0.46854379 & 0.41784829 & 0.28283118\\\\\n",
       "  0.05737182\\\\\n",
       "  0.87364797 & 0.79298182 & 0.6992738 & 0.95060714 & 0.01155229 & 0.57853812\\\\\n",
       "  0.95425114\\\\\n",
       "  0.67287393 & 0.82060609 & 0.97362408 & 0.17811715 & 0.12036856 & 0.81942602\\\\\n",
       "  0.01486062\\\\\n",
       "  0.90535437 & 0.40984329 & 0.57612339 & 0.23722551 & 0.60070564 & 0.48590303\\\\\n",
       "  0.1086166\\\\\n",
       "  0.78873207 & 0.35536857 & 0.33440316 & 0.47219313 & 0.90460124 & 0.02209802\\\\\n",
       "  0.51366224\\\\\n",
       "  0.79580601 & 0.30884919 & 0.09582367 & 0.54915011 & 0.44414515 & 0.8160978\\\\\n",
       "  0.42564855\\\\\n",
       "\\end{bmatrix}"
      ],
      "text/plain": [
       "<IPython.core.display.Latex object>"
      ]
     },
     "metadata": {},
     "output_type": "display_data"
    },
    {
     "data": {
      "text/latex": [
       "W = W - \\lambda (X^T \\cdot \\nabla f_{custo})"
      ],
      "text/plain": [
       "<IPython.core.display.Latex object>"
      ]
     },
     "metadata": {},
     "output_type": "display_data"
    },
    {
     "data": {
      "text/latex": [
       "\\begin{gather}\n",
       "\\begin{bmatrix}\n",
       "  -0.07240412 & 0.58080612 & 0.22655005 & 0.01328189 & 0.41676668 & 0.48159308\\\\\n",
       "  0.10262285 & 0.00387122 & -0.21245764 & 0.83442491 & 0.60589991 & 0.74702203\\\\\n",
       "  0.63563523 & 0.58931984\\\\\n",
       "  0.7612957 & -0.16479422 & 0.21257878 & -0.1104166 & 0.57935982 & 0.58638922\\\\\n",
       "  0.66418045 & 0.79331426 & 0.75361229 & 0.75375876 & 0.75363208 & 0.25151094\\\\\n",
       "  0.20227173 & 0.10236302\\\\\n",
       "  0.46690076 & 0.42935783 & -0.13675816 & 0.38689065 & 0.41673886 & -0.10032242\\\\\n",
       "  0.299622 & 0.18027289 & 0.53256421 & 0.66005074 & 0.90665006 & 0.41779104\\\\\n",
       "  0.18130632 & -0.1106625\\\\\n",
       "  0.56650671 & 0.17995893 & 0.4099613 & 0.3128014 & 0.57341608 & 0.31552124\\\\\n",
       "  0.69384752 & 0.55682294 & 0.24507761 & 0.91138408 & 0.11114313 & 0.07889316\\\\\n",
       "  0.3190963 & 0.34266394\\\\\n",
       "  0.19373608 & -0.11422837 & 0.54503873 & 0.8079138 & 0.0443164 & 0.55736336\\\\\n",
       "  0.24622331 & 0.13303208 & 0.19438211 & -0.02767077 & 0.05339454 & 0.44237329\\\\\n",
       "  0.75150441 & 0.23765897\\\\\n",
       "  0.86490318 & -0.0431833 & 0.72113238 & 0.43787734 & 0.61227472 & 0.73990648\\\\\n",
       "  0.56985028 & 0.57742478 & 0.059365 & 0.53931506 & 0.752452 & 0.32757068\\\\\n",
       "  -0.13099881 & 0.60961162\\\\\n",
       "  0.97716528 & 0.86341309 & 0.61969285 & 0.99704147 & 0.41353985 & 0.43485885\\\\\n",
       "  0.20940839 & 0.89915965 & 0.05737182 & 0.95425114 & 0.01486062 & 0.1086166\\\\\n",
       "  0.51366224 & 0.42564855\\\\\n",
       "\\end{bmatrix} = \n",
       "\\begin{bmatrix}\n",
       "  0.04670265 & 0.80528434 & 0.38470678 & 0.139663 & 0.48388757 & 0.63141753\\\\\n",
       "  0.2039914 & 0.16964298 & 0.01100854 & 0.87364797 & 0.67287393 & 0.90535437\\\\\n",
       "  0.78873207 & 0.79580601\\\\\n",
       "  0.88040246 & 0.059684 & 0.37073551 & 0.01596452 & 0.64648071 & 0.73621367\\\\\n",
       "  0.76554901 & 0.95908603 & 0.97707847 & 0.79298182 & 0.82060609 & 0.40984329\\\\\n",
       "  0.35536857 & 0.30884919\\\\\n",
       "  0.58600752 & 0.65383605 & 0.02139857 & 0.51327176 & 0.48385975 & 0.04950203\\\\\n",
       "  0.40099056 & 0.34604465 & 0.75603039 & 0.6992738 & 0.97362408 & 0.57612339\\\\\n",
       "  0.33440316 & 0.09582367\\\\\n",
       "  0.68561348 & 0.40443715 & 0.56811803 & 0.43918252 & 0.64053697 & 0.46534569\\\\\n",
       "  0.79521607 & 0.72259471 & 0.46854379 & 0.95060714 & 0.17811715 & 0.23722551\\\\\n",
       "  0.47219313 & 0.54915011\\\\\n",
       "  0.31284285 & 0.11024985 & 0.70319547 & 0.93429491 & 0.11143729 & 0.70718781\\\\\n",
       "  0.34759186 & 0.29880385 & 0.41784829 & 0.01155229 & 0.12036856 & 0.60070564\\\\\n",
       "  0.90460124 & 0.44414515\\\\\n",
       "  0.98400995 & 0.18129491 & 0.87928911 & 0.56425845 & 0.67939561 & 0.88973093\\\\\n",
       "  0.67121883 & 0.74319654 & 0.28283118 & 0.57853812 & 0.81942602 & 0.48590303\\\\\n",
       "  0.02209802 & 0.8160978\\\\\n",
       "  0.97716528 & 0.86341309 & 0.61969285 & 0.99704147 & 0.41353985 & 0.43485885\\\\\n",
       "  0.20940839 & 0.89915965 & 0.05737182 & 0.95425114 & 0.01486062 & 0.1086166\\\\\n",
       "  0.51366224 & 0.42564855\\\\\n",
       "\\end{bmatrix} - 0.7\n",
       "\\begin{bmatrix}\n",
       "  1\\\\\n",
       "  1\\\\\n",
       "  1\\\\\n",
       "  1\\\\\n",
       "  1\\\\\n",
       "  1\\\\\n",
       "  0\\\\\n",
       "\\end{bmatrix} \\cdot \n",
       "\\begin{bmatrix}\n",
       "  0.17015252 & 0.32068317 & 0.22593819 & 0.18054445 & 0.09588698 & 0.21403493\\\\\n",
       "  0.14481222 & 0.23681681 & 0.3192374 & 0.05603294 & 0.09567717 & 0.22618907\\\\\n",
       "  0.21870977 & 0.29498025\\\\\n",
       "\\end{bmatrix}\\end{gather}"
      ],
      "text/plain": [
       "<IPython.core.display.Latex object>"
      ]
     },
     "metadata": {},
     "output_type": "display_data"
    },
    {
     "data": {
      "text/latex": [
       "B = B - \\lambda (\\nabla f_{custo})"
      ],
      "text/plain": [
       "<IPython.core.display.Latex object>"
      ]
     },
     "metadata": {},
     "output_type": "display_data"
    },
    {
     "data": {
      "text/latex": [
       "\\begin{gather}\n",
       "\\begin{bmatrix}\n",
       "  0.15509506 & 0.50044771 & 0.33290329 & 0.25624956 & 0.83304947 & 0.02289893\\\\\n",
       "  0.69611276 & 0.01364328 & 0.17164344 & 0.36270218 & 0.46392491 & -0.03773193\\\\\n",
       "  0.4535296 & -0.13415468\\\\\n",
       "\\end{bmatrix} = \n",
       "\\begin{bmatrix}\n",
       "  0.27420183 & 0.72492592 & 0.49106003 & 0.38263067 & 0.90017036 & 0.17272338\\\\\n",
       "  0.79748132 & 0.17941504 & 0.39510962 & 0.40192524 & 0.53089892 & 0.12060042\\\\\n",
       "  0.60662643 & 0.07233149\\\\\n",
       "\\end{bmatrix} - 0.7\n",
       "\\begin{bmatrix}\n",
       "  0.17015252 & 0.32068317 & 0.22593819 & 0.18054445 & 0.09588698 & 0.21403493\\\\\n",
       "  0.14481222 & 0.23681681 & 0.3192374 & 0.05603294 & 0.09567717 & 0.22618907\\\\\n",
       "  0.21870977 & 0.29498025\\\\\n",
       "\\end{bmatrix}\\end{gather}"
      ],
      "text/plain": [
       "<IPython.core.display.Latex object>"
      ]
     },
     "metadata": {},
     "output_type": "display_data"
    },
    {
     "data": {
      "text/latex": [
       "Camada: 0"
      ],
      "text/plain": [
       "<IPython.core.display.Latex object>"
      ]
     },
     "metadata": {},
     "output_type": "display_data"
    },
    {
     "data": {
      "text/latex": [
       "Y = Xw + b"
      ],
      "text/plain": [
       "<IPython.core.display.Latex object>"
      ]
     },
     "metadata": {},
     "output_type": "display_data"
    },
    {
     "data": {
      "text/latex": [
       "\\begin{gather}\n",
       "\\begin{bmatrix}\n",
       "  1.38329151 & 0.76501132 & 0.40872391 & 0.53272361 & 1.82914815 & 0.50896573\\\\\n",
       "  1.65991522 & 0.98723042 & 1.45781993 & 1.77651168 & 2.12420704 & 0.63157006\\\\\n",
       "  0.83710765 & -0.14245416\\\\\n",
       "\\end{bmatrix} = \n",
       "\\begin{bmatrix}\n",
       "  0 & 1 & 1 & 0 & 0 & 0 & 0\\\\\n",
       "\\end{bmatrix} \\cdot \n",
       "\\begin{bmatrix}\n",
       "  -0.07240412 & 0.58080612 & 0.22655005 & 0.01328189 & 0.41676668 & 0.48159308\\\\\n",
       "  0.10262285 & 0.00387122 & -0.21245764 & 0.83442491 & 0.60589991 & 0.74702203\\\\\n",
       "  0.63563523 & 0.58931984\\\\\n",
       "  0.7612957 & -0.16479422 & 0.21257878 & -0.1104166 & 0.57935982 & 0.58638922\\\\\n",
       "  0.66418045 & 0.79331426 & 0.75361229 & 0.75375876 & 0.75363208 & 0.25151094\\\\\n",
       "  0.20227173 & 0.10236302\\\\\n",
       "  0.46690076 & 0.42935783 & -0.13675816 & 0.38689065 & 0.41673886 & -0.10032242\\\\\n",
       "  0.299622 & 0.18027289 & 0.53256421 & 0.66005074 & 0.90665006 & 0.41779104\\\\\n",
       "  0.18130632 & -0.1106625\\\\\n",
       "  0.56650671 & 0.17995893 & 0.4099613 & 0.3128014 & 0.57341608 & 0.31552124\\\\\n",
       "  0.69384752 & 0.55682294 & 0.24507761 & 0.91138408 & 0.11114313 & 0.07889316\\\\\n",
       "  0.3190963 & 0.34266394\\\\\n",
       "  0.19373608 & -0.11422837 & 0.54503873 & 0.8079138 & 0.0443164 & 0.55736336\\\\\n",
       "  0.24622331 & 0.13303208 & 0.19438211 & -0.02767077 & 0.05339454 & 0.44237329\\\\\n",
       "  0.75150441 & 0.23765897\\\\\n",
       "  0.86490318 & -0.0431833 & 0.72113238 & 0.43787734 & 0.61227472 & 0.73990648\\\\\n",
       "  0.56985028 & 0.57742478 & 0.059365 & 0.53931506 & 0.752452 & 0.32757068\\\\\n",
       "  -0.13099881 & 0.60961162\\\\\n",
       "  0.97716528 & 0.86341309 & 0.61969285 & 0.99704147 & 0.41353985 & 0.43485885\\\\\n",
       "  0.20940839 & 0.89915965 & 0.05737182 & 0.95425114 & 0.01486062 & 0.1086166\\\\\n",
       "  0.51366224 & 0.42564855\\\\\n",
       "\\end{bmatrix} + \n",
       "\\begin{bmatrix}\n",
       "  0.15509506 & 0.50044771 & 0.33290329 & 0.25624956 & 0.83304947 & 0.02289893\\\\\n",
       "  0.69611276 & 0.01364328 & 0.17164344 & 0.36270218 & 0.46392491 & -0.03773193\\\\\n",
       "  0.4535296 & -0.13415468\\\\\n",
       "\\end{bmatrix}\\end{gather}"
      ],
      "text/plain": [
       "<IPython.core.display.Latex object>"
      ]
     },
     "metadata": {},
     "output_type": "display_data"
    },
    {
     "data": {
      "text/latex": [
       "Camada: 1"
      ],
      "text/plain": [
       "<IPython.core.display.Latex object>"
      ]
     },
     "metadata": {},
     "output_type": "display_data"
    },
    {
     "data": {
      "text/latex": [
       "Y = \\sigma(X)"
      ],
      "text/plain": [
       "<IPython.core.display.Latex object>"
      ]
     },
     "metadata": {},
     "output_type": "display_data"
    },
    {
     "data": {
      "text/latex": [
       "\\begin{gather}\n",
       "\\begin{bmatrix}\n",
       "  0.79951911 & 0.68244076 & 0.60078186 & 0.63011813 & 0.86166022 & 0.62456399\\\\\n",
       "  0.84022662 & 0.72854053 & 0.81119901 & 0.85526559 & 0.89323381 & 0.65284538\\\\\n",
       "  0.6978557 & 0.46444656\\\\\n",
       "\\end{bmatrix} = \\sigma(\n",
       "\\begin{bmatrix}\n",
       "  1.38329151 & 0.76501132 & 0.40872391 & 0.53272361 & 1.82914815 & 0.50896573\\\\\n",
       "  1.65991522 & 0.98723042 & 1.45781993 & 1.77651168 & 2.12420704 & 0.63157006\\\\\n",
       "  0.83710765 & -0.14245416\\\\\n",
       "\\end{bmatrix}) \\end{gather}"
      ],
      "text/plain": [
       "<IPython.core.display.Latex object>"
      ]
     },
     "metadata": {},
     "output_type": "display_data"
    },
    {
     "data": {
      "text/latex": [
       "Camada: 2"
      ],
      "text/plain": [
       "<IPython.core.display.Latex object>"
      ]
     },
     "metadata": {},
     "output_type": "display_data"
    },
    {
     "data": {
      "text/latex": [
       "Y = Xw + b"
      ],
      "text/plain": [
       "<IPython.core.display.Latex object>"
      ]
     },
     "metadata": {},
     "output_type": "display_data"
    },
    {
     "data": {
      "text/latex": [
       "\\begin{gather}\n",
       "\\begin{bmatrix}\n",
       "  -3.04992537 & -3.99360586 & -6.31152082 & -5.52095273 & -5.42887776 & -5.57656369\\\\\n",
       "  -6.66875275 & -4.23050847 & -4.44092873 & -6.59498561\\\\\n",
       "\\end{bmatrix} = \n",
       "\\begin{bmatrix}\n",
       "  0.79951911 & 0.68244076 & 0.60078186 & 0.63011813 & 0.86166022 & 0.62456399\\\\\n",
       "  0.84022662 & 0.72854053 & 0.81119901 & 0.85526559 & 0.89323381 & 0.65284538\\\\\n",
       "  0.6978557 & 0.46444656\\\\\n",
       "\\end{bmatrix} \\cdot \n",
       "\\begin{bmatrix}\n",
       "  -4.06451011e-01 & -7.21717383e-01 & -2.43862705e-01 & 4.11674152e-02\\\\\n",
       "  -7.87197107e-01 & -7.83634521e-01 & -3.08003619e-01 & -4.09965033e-01\\\\\n",
       "  -3.59599675e-01 & -3.91983023e-01\\\\\n",
       "  -1.03611049e-01 & -5.92754465e-01 & -2.46888939e-01 & -2.14175611e-01\\\\\n",
       "  -3.70618016e-01 & -5.32142980e-01 & -7.89243968e-01 & -4.15539808e-01\\\\\n",
       "  -6.18107365e-01 & -7.01241628e-01\\\\\n",
       "  -1.95510133e-01 & -5.43258461e-01 & -1.93570730e-01 & -2.01083630e-02\\\\\n",
       "  -8.58131211e-01 & -8.94807906e-01 & -5.26481360e-01 & -2.95709689e-01\\\\\n",
       "  1.33994530e-01 & -7.69849297e-01\\\\\n",
       "  2.62697213e-02 & -6.05904227e-01 & -9.82842781e-01 & -5.78384640e-01\\\\\n",
       "  -4.71225582e-01 & -6.49282736e-01 & -1.10800793e+00 & -6.72257535e-01\\\\\n",
       "  -6.41168939e-01 & -7.01062603e-01\\\\\n",
       "  6.36512607e-02 & -6.75036787e-01 & -1.08709506e+00 & -3.86663960e-01\\\\\n",
       "  -6.65281992e-01 & -2.67776039e-01 & -9.77838463e-01 & 6.27452701e-02\\\\\n",
       "  -6.24033193e-01 & -1.07839308e+00\\\\\n",
       "  -5.54853531e-01 & -1.09543905e-01 & -2.34649621e-01 & -2.56710470e-01\\\\\n",
       "  -1.70896725e-01 & -3.86602810e-01 & -4.69592104e-01 & -4.35884463e-01\\\\\n",
       "  -2.95102215e-01 & -6.09431510e-01\\\\\n",
       "  -1.02095934e-01 & -7.39234754e-01 & -1.35834827e-01 & -8.72024357e-01\\\\\n",
       "  -1.24287360e-01 & -5.99527041e-01 & -3.19222647e-01 & -4.85089046e-01\\\\\n",
       "  -3.42516107e-01 & -4.35202412e-01\\\\\n",
       "  -3.20064432e-01 & 3.96174188e-02 & -7.58485769e-01 & -6.99326775e-01\\\\\n",
       "  -5.62376442e-01 & -1.43569332e-01 & -3.05785324e-01 & -9.81844936e-02\\\\\n",
       "  -6.00915613e-01 & -5.82647463e-01\\\\\n",
       "  -3.01616566e-01 & 2.26701346e-01 & -9.92723712e-01 & -1.83751228e-01\\\\\n",
       "  -2.05135699e-02 & -1.68074622e-01 & -4.24347904e-01 & -5.95746818e-01\\\\\n",
       "  -1.65310395e-01 & -1.86025568e-01\\\\\n",
       "  -6.58209638e-01 & -4.82981301e-01 & -6.01710058e-01 & -9.57468167e-01\\\\\n",
       "  -5.92852435e-01 & -5.41049451e-01 & -8.65452923e-01 & -6.90129328e-01\\\\\n",
       "  -4.21666138e-02 & -1.13612166e+00\\\\\n",
       "  -5.54341979e-01 & -3.33287299e-01 & -1.01731739e+00 & -5.70618928e-01\\\\\n",
       "  -6.31997833e-01 & -1.28549103e-01 & -7.24496457e-01 & -4.95389165e-01\\\\\n",
       "  -6.01683523e-01 & -4.16236940e-01\\\\\n",
       "  -5.33881392e-01 & -6.88524650e-01 & -4.42365050e-01 & -3.36182066e-01\\\\\n",
       "  -3.93077853e-01 & -8.95399776e-01 & -4.77363862e-01 & 1.02268093e-01\\\\\n",
       "  -6.72389430e-01 & -4.73574752e-01\\\\\n",
       "  -6.63625804e-01 & -6.48034200e-04 & -3.37550513e-01 & -7.54350286e-01\\\\\n",
       "  -2.69236011e-01 & -6.86742299e-02 & -9.28759593e-01 & -6.35277007e-01\\\\\n",
       "  -2.46447938e-01 & -3.52681165e-01\\\\\n",
       "  9.94384522e-02 & -4.91374735e-01 & -4.35357292e-01 & -3.37044129e-01\\\\\n",
       "  -8.72716246e-01 & -8.48793964e-01 & -4.42694533e-01 & -5.83996708e-01\\\\\n",
       "  1.81425113e-01 & -5.36107886e-01\\\\\n",
       "\\end{bmatrix} + \n",
       "\\begin{bmatrix}\n",
       "  0.12555903 & 0.14349374 & -0.50730167 & -0.9153962 & -0.60192409 & -0.81903377\\\\\n",
       "  -0.34559784 & -0.15679172 & -0.72619574 & -0.5001082\\\\\n",
       "\\end{bmatrix}\\end{gather}"
      ],
      "text/plain": [
       "<IPython.core.display.Latex object>"
      ]
     },
     "metadata": {},
     "output_type": "display_data"
    },
    {
     "data": {
      "text/latex": [
       "f_{custo}(\n",
       "\\begin{bmatrix}\n",
       "  0 & 1 & 0 & 0 & 0 & 0 & 0 & 0 & 0 & 0\\\\\n",
       "\\end{bmatrix},\n",
       "\\begin{bmatrix}\n",
       "  -3.04992537 & -3.99360586 & -6.31152082 & -5.52095273 & -5.42887776 & -5.57656369\\\\\n",
       "  -6.66875275 & -4.23050847 & -4.44092873 & -6.59498561\\\\\n",
       "\\end{bmatrix}) = \n",
       "\\begin{bmatrix}\n",
       "  29.071028292252766\\\\\n",
       "\\end{bmatrix}"
      ],
      "text/plain": [
       "<IPython.core.display.Latex object>"
      ]
     },
     "metadata": {},
     "output_type": "display_data"
    },
    {
     "data": {
      "text/latex": [
       "\\nabla = \\frac{\\partial E}{\\partial Y} = \n",
       "\\begin{bmatrix}\n",
       "  -0.60998507 & -0.99872117 & -1.26230416 & -1.10419055 & -1.08577555 & -1.11531274\\\\\n",
       "  -1.33375055 & -0.84610169 & -0.88818575 & -1.31899712\\\\\n",
       "\\end{bmatrix}"
      ],
      "text/plain": [
       "<IPython.core.display.Latex object>"
      ]
     },
     "metadata": {},
     "output_type": "display_data"
    },
    {
     "data": {
      "text/latex": [
       "Camada: 2"
      ],
      "text/plain": [
       "<IPython.core.display.Latex object>"
      ]
     },
     "metadata": {},
     "output_type": "display_data"
    },
    {
     "data": {
      "text/latex": [
       "\\frac{\\partial E}{\\partial X} = \\frac{\\partial E}{\\partial Y} W^T"
      ],
      "text/plain": [
       "<IPython.core.display.Latex object>"
      ]
     },
     "metadata": {},
     "output_type": "display_data"
    },
    {
     "data": {
      "text/latex": [
       "\n",
       "\\begin{bmatrix}\n",
       "  4.55390054 & 5.07742442 & 4.70691138 & 7.24497824 & 6.68330193 & 3.70531648\\\\\n",
       "  4.45296733 & 4.44918725 & 3.08554488 & 7.22198503 & 5.88368688 & 5.14036278\\\\\n",
       "  4.49372959 & 4.87659957\\\\\n",
       "\\end{bmatrix} = \n",
       "\\begin{bmatrix}\n",
       "  -0.60998507 & -0.99872117 & -1.26230416 & -1.10419055 & -1.08577555 & -1.11531274\\\\\n",
       "  -1.33375055 & -0.84610169 & -0.88818575 & -1.31899712\\\\\n",
       "\\end{bmatrix} \\cdot \n",
       "\\begin{bmatrix}\n",
       "  -4.06451011e-01 & -1.03611049e-01 & -1.95510133e-01 & 2.62697213e-02\\\\\n",
       "  6.36512607e-02 & -5.54853531e-01 & -1.02095934e-01 & -3.20064432e-01\\\\\n",
       "  -3.01616566e-01 & -6.58209638e-01 & -5.54341979e-01 & -5.33881392e-01\\\\\n",
       "  -6.63625804e-01 & 9.94384522e-02\\\\\n",
       "  -7.21717383e-01 & -5.92754465e-01 & -5.43258461e-01 & -6.05904227e-01\\\\\n",
       "  -6.75036787e-01 & -1.09543905e-01 & -7.39234754e-01 & 3.96174188e-02\\\\\n",
       "  2.26701346e-01 & -4.82981301e-01 & -3.33287299e-01 & -6.88524650e-01\\\\\n",
       "  -6.48034200e-04 & -4.91374735e-01\\\\\n",
       "  -2.43862705e-01 & -2.46888939e-01 & -1.93570730e-01 & -9.82842781e-01\\\\\n",
       "  -1.08709506e+00 & -2.34649621e-01 & -1.35834827e-01 & -7.58485769e-01\\\\\n",
       "  -9.92723712e-01 & -6.01710058e-01 & -1.01731739e+00 & -4.42365050e-01\\\\\n",
       "  -3.37550513e-01 & -4.35357292e-01\\\\\n",
       "  4.11674152e-02 & -2.14175611e-01 & -2.01083630e-02 & -5.78384640e-01\\\\\n",
       "  -3.86663960e-01 & -2.56710470e-01 & -8.72024357e-01 & -6.99326775e-01\\\\\n",
       "  -1.83751228e-01 & -9.57468167e-01 & -5.70618928e-01 & -3.36182066e-01\\\\\n",
       "  -7.54350286e-01 & -3.37044129e-01\\\\\n",
       "  -7.87197107e-01 & -3.70618016e-01 & -8.58131211e-01 & -4.71225582e-01\\\\\n",
       "  -6.65281992e-01 & -1.70896725e-01 & -1.24287360e-01 & -5.62376442e-01\\\\\n",
       "  -2.05135699e-02 & -5.92852435e-01 & -6.31997833e-01 & -3.93077853e-01\\\\\n",
       "  -2.69236011e-01 & -8.72716246e-01\\\\\n",
       "  -7.83634521e-01 & -5.32142980e-01 & -8.94807906e-01 & -6.49282736e-01\\\\\n",
       "  -2.67776039e-01 & -3.86602810e-01 & -5.99527041e-01 & -1.43569332e-01\\\\\n",
       "  -1.68074622e-01 & -5.41049451e-01 & -1.28549103e-01 & -8.95399776e-01\\\\\n",
       "  -6.86742299e-02 & -8.48793964e-01\\\\\n",
       "  -3.08003619e-01 & -7.89243968e-01 & -5.26481360e-01 & -1.10800793e+00\\\\\n",
       "  -9.77838463e-01 & -4.69592104e-01 & -3.19222647e-01 & -3.05785324e-01\\\\\n",
       "  -4.24347904e-01 & -8.65452923e-01 & -7.24496457e-01 & -4.77363862e-01\\\\\n",
       "  -9.28759593e-01 & -4.42694533e-01\\\\\n",
       "  -4.09965033e-01 & -4.15539808e-01 & -2.95709689e-01 & -6.72257535e-01\\\\\n",
       "  6.27452701e-02 & -4.35884463e-01 & -4.85089046e-01 & -9.81844936e-02\\\\\n",
       "  -5.95746818e-01 & -6.90129328e-01 & -4.95389165e-01 & 1.02268093e-01\\\\\n",
       "  -6.35277007e-01 & -5.83996708e-01\\\\\n",
       "  -3.59599675e-01 & -6.18107365e-01 & 1.33994530e-01 & -6.41168939e-01\\\\\n",
       "  -6.24033193e-01 & -2.95102215e-01 & -3.42516107e-01 & -6.00915613e-01\\\\\n",
       "  -1.65310395e-01 & -4.21666138e-02 & -6.01683523e-01 & -6.72389430e-01\\\\\n",
       "  -2.46447938e-01 & 1.81425113e-01\\\\\n",
       "  -3.91983023e-01 & -7.01241628e-01 & -7.69849297e-01 & -7.01062603e-01\\\\\n",
       "  -1.07839308e+00 & -6.09431510e-01 & -4.35202412e-01 & -5.82647463e-01\\\\\n",
       "  -1.86025568e-01 & -1.13612166e+00 & -4.16236940e-01 & -4.73574752e-01\\\\\n",
       "  -3.52681165e-01 & -5.36107886e-01\\\\\n",
       "\\end{bmatrix}"
      ],
      "text/plain": [
       "<IPython.core.display.Latex object>"
      ]
     },
     "metadata": {},
     "output_type": "display_data"
    },
    {
     "data": {
      "text/latex": [
       "W = W - \\lambda (X^T \\cdot \\nabla f_{custo})"
      ],
      "text/plain": [
       "<IPython.core.display.Latex object>"
      ]
     },
     "metadata": {},
     "output_type": "display_data"
    },
    {
     "data": {
      "text/latex": [
       "\\begin{gather}\n",
       "\\begin{bmatrix}\n",
       "  -6.50647047e-02 & -1.62769718e-01 & 4.62602707e-01 & 6.59142426e-01\\\\\n",
       "  -1.79528294e-01 & -1.59434827e-01 & 4.38447719e-01 & 6.35670987e-02\\\\\n",
       "  1.37485360e-01 & 3.46211362e-01\\\\\n",
       "  1.87784023e-01 & -1.15656844e-01 & 3.56124526e-01 & 3.13305630e-01\\\\\n",
       "  1.48066225e-01 & 6.51426600e-04 & -1.52099955e-01 & -1.13498126e-02\\\\\n",
       "  -1.93813459e-01 & -7.11454538e-02\\\\\n",
       "  6.10174423e-02 & -1.23248969e-01 & 3.37287878e-01 & 4.44255989e-01\\\\\n",
       "  -4.01511234e-01 & -4.25766145e-01 & 3.44238320e-02 & 6.01160938e-02\\\\\n",
       "  5.07518648e-01 & -2.15148619e-01\\\\\n",
       "  2.95323577e-01 & -1.65385608e-01 & -4.26062267e-01 & -9.13453062e-02\\\\\n",
       "  7.69121724e-03 & -1.57337595e-01 & -5.19713649e-01 & -2.99056725e-01\\\\\n",
       "  -2.49405582e-01 & -1.19275807e-01\\\\\n",
       "  4.31571170e-01 & -7.26459766e-02 & -3.25720965e-01 & 2.79341985e-01\\\\\n",
       "  -1.03832741e-02 & 4.04938391e-01 & -1.73370612e-01 & 5.73081788e-01\\\\\n",
       "  -8.83131677e-02 & -2.82823938e-01\\\\\n",
       "  -2.88171234e-01 & 3.27091789e-01 & 3.17223184e-01 & 2.26035884e-01\\\\\n",
       "  3.03798690e-01 & 1.01006108e-01 & 1.13516688e-01 & -6.59732105e-02\\\\\n",
       "  9.32079664e-02 & -3.27728397e-02\\\\\n",
       "  2.56672055e-01 & -1.51828272e-01 & 6.06600268e-01 & -2.22585152e-01\\\\\n",
       "  5.14320907e-01 & 5.64537775e-02 & 4.65234256e-01 & 1.25529720e-02\\\\\n",
       "  1.79878011e-01 & 3.40577136e-01\\\\\n",
       "  -8.98523742e-03 & 5.48943617e-01 & -1.14737946e-01 & -1.36213478e-01\\\\\n",
       "  -8.65439266e-03 & 4.25216043e-01 & 3.74398611e-01 & 3.33309071e-01\\\\\n",
       "  -1.47960091e-01 & 9.00125426e-02\\\\\n",
       "  4.47569368e-02 & 7.93814486e-01 & -2.75937788e-01 & 4.43251568e-01\\\\\n",
       "  5.96032469e-01 & 4.65243792e-01 & 3.33008086e-01 & -1.15297017e-01\\\\\n",
       "  3.39036386e-01 & 5.62952846e-01\\\\\n",
       "  -2.93020166e-01 & 1.14938999e-01 & 1.54013666e-01 & -2.96404839e-01\\\\\n",
       "  5.71860957e-02 & 1.26672577e-01 & -6.69552540e-02 & -1.83580161e-01\\\\\n",
       "  4.89577683e-01 & -3.46456660e-01\\\\\n",
       "  -1.72940476e-01 & 2.91176761e-01 & -2.28044460e-01 & 1.19791299e-01\\\\\n",
       "  4.68981686e-02 & 5.68815427e-01 & 1.09449299e-01 & 3.36474811e-02\\\\\n",
       "  -4.63332473e-02 & 4.08484035e-01\\\\\n",
       "  -2.55123235e-01 & -2.32117297e-01 & 1.34497562e-01 & 1.68423924e-01\\\\\n",
       "  1.03112636e-01 & -3.85711036e-01 & 1.32149159e-01 & 4.88929602e-01\\\\\n",
       "  -2.66495856e-01 & 1.29196074e-01\\\\\n",
       "  -3.65648710e-01 & 4.87226252e-01 & 2.79083800e-01 & -2.14954317e-01\\\\\n",
       "  2.61164253e-01 & 4.76154919e-01 & -2.77223793e-01 & -2.21957182e-01\\\\\n",
       "  1.87429905e-01 & 2.91647601e-01\\\\\n",
       "  2.97752282e-01 & -1.66677904e-01 & -2.49663101e-02 & 2.19421237e-02\\\\\n",
       "  -5.19716940e-01 & -4.86191747e-01 & -9.07543124e-03 & -3.08918392e-01\\\\\n",
       "  4.70185486e-01 & -1.07285309e-01\\\\\n",
       "\\end{bmatrix} = \n",
       "\\begin{bmatrix}\n",
       "  -4.06451011e-01 & -7.21717383e-01 & -2.43862705e-01 & 4.11674152e-02\\\\\n",
       "  -7.87197107e-01 & -7.83634521e-01 & -3.08003619e-01 & -4.09965033e-01\\\\\n",
       "  -3.59599675e-01 & -3.91983023e-01\\\\\n",
       "  -1.03611049e-01 & -5.92754465e-01 & -2.46888939e-01 & -2.14175611e-01\\\\\n",
       "  -3.70618016e-01 & -5.32142980e-01 & -7.89243968e-01 & -4.15539808e-01\\\\\n",
       "  -6.18107365e-01 & -7.01241628e-01\\\\\n",
       "  -1.95510133e-01 & -5.43258461e-01 & -1.93570730e-01 & -2.01083630e-02\\\\\n",
       "  -8.58131211e-01 & -8.94807906e-01 & -5.26481360e-01 & -2.95709689e-01\\\\\n",
       "  1.33994530e-01 & -7.69849297e-01\\\\\n",
       "  2.62697213e-02 & -6.05904227e-01 & -9.82842781e-01 & -5.78384640e-01\\\\\n",
       "  -4.71225582e-01 & -6.49282736e-01 & -1.10800793e+00 & -6.72257535e-01\\\\\n",
       "  -6.41168939e-01 & -7.01062603e-01\\\\\n",
       "  6.36512607e-02 & -6.75036787e-01 & -1.08709506e+00 & -3.86663960e-01\\\\\n",
       "  -6.65281992e-01 & -2.67776039e-01 & -9.77838463e-01 & 6.27452701e-02\\\\\n",
       "  -6.24033193e-01 & -1.07839308e+00\\\\\n",
       "  -5.54853531e-01 & -1.09543905e-01 & -2.34649621e-01 & -2.56710470e-01\\\\\n",
       "  -1.70896725e-01 & -3.86602810e-01 & -4.69592104e-01 & -4.35884463e-01\\\\\n",
       "  -2.95102215e-01 & -6.09431510e-01\\\\\n",
       "  -1.02095934e-01 & -7.39234754e-01 & -1.35834827e-01 & -8.72024357e-01\\\\\n",
       "  -1.24287360e-01 & -5.99527041e-01 & -3.19222647e-01 & -4.85089046e-01\\\\\n",
       "  -3.42516107e-01 & -4.35202412e-01\\\\\n",
       "  -3.20064432e-01 & 3.96174188e-02 & -7.58485769e-01 & -6.99326775e-01\\\\\n",
       "  -5.62376442e-01 & -1.43569332e-01 & -3.05785324e-01 & -9.81844936e-02\\\\\n",
       "  -6.00915613e-01 & -5.82647463e-01\\\\\n",
       "  -3.01616566e-01 & 2.26701346e-01 & -9.92723712e-01 & -1.83751228e-01\\\\\n",
       "  -2.05135699e-02 & -1.68074622e-01 & -4.24347904e-01 & -5.95746818e-01\\\\\n",
       "  -1.65310395e-01 & -1.86025568e-01\\\\\n",
       "  -6.58209638e-01 & -4.82981301e-01 & -6.01710058e-01 & -9.57468167e-01\\\\\n",
       "  -5.92852435e-01 & -5.41049451e-01 & -8.65452923e-01 & -6.90129328e-01\\\\\n",
       "  -4.21666138e-02 & -1.13612166e+00\\\\\n",
       "  -5.54341979e-01 & -3.33287299e-01 & -1.01731739e+00 & -5.70618928e-01\\\\\n",
       "  -6.31997833e-01 & -1.28549103e-01 & -7.24496457e-01 & -4.95389165e-01\\\\\n",
       "  -6.01683523e-01 & -4.16236940e-01\\\\\n",
       "  -5.33881392e-01 & -6.88524650e-01 & -4.42365050e-01 & -3.36182066e-01\\\\\n",
       "  -3.93077853e-01 & -8.95399776e-01 & -4.77363862e-01 & 1.02268093e-01\\\\\n",
       "  -6.72389430e-01 & -4.73574752e-01\\\\\n",
       "  -6.63625804e-01 & -6.48034200e-04 & -3.37550513e-01 & -7.54350286e-01\\\\\n",
       "  -2.69236011e-01 & -6.86742299e-02 & -9.28759593e-01 & -6.35277007e-01\\\\\n",
       "  -2.46447938e-01 & -3.52681165e-01\\\\\n",
       "  9.94384522e-02 & -4.91374735e-01 & -4.35357292e-01 & -3.37044129e-01\\\\\n",
       "  -8.72716246e-01 & -8.48793964e-01 & -4.42694533e-01 & -5.83996708e-01\\\\\n",
       "  1.81425113e-01 & -5.36107886e-01\\\\\n",
       "\\end{bmatrix} - 0.7\n",
       "\\begin{bmatrix}\n",
       "  0.79951911\\\\\n",
       "  0.68244076\\\\\n",
       "  0.60078186\\\\\n",
       "  0.63011813\\\\\n",
       "  0.86166022\\\\\n",
       "  0.62456399\\\\\n",
       "  0.84022662\\\\\n",
       "  0.72854053\\\\\n",
       "  0.81119901\\\\\n",
       "  0.85526559\\\\\n",
       "  0.89323381\\\\\n",
       "  0.65284538\\\\\n",
       "  0.6978557\\\\\n",
       "  0.46444656\\\\\n",
       "\\end{bmatrix} \\cdot \n",
       "\\begin{bmatrix}\n",
       "  -0.60998507 & -0.99872117 & -1.26230416 & -1.10419055 & -1.08577555 & -1.11531274\\\\\n",
       "  -1.33375055 & -0.84610169 & -0.88818575 & -1.31899712\\\\\n",
       "\\end{bmatrix}\\end{gather}"
      ],
      "text/plain": [
       "<IPython.core.display.Latex object>"
      ]
     },
     "metadata": {},
     "output_type": "display_data"
    },
    {
     "data": {
      "text/latex": [
       "B = B - \\lambda (\\nabla f_{custo})"
      ],
      "text/plain": [
       "<IPython.core.display.Latex object>"
      ]
     },
     "metadata": {},
     "output_type": "display_data"
    },
    {
     "data": {
      "text/latex": [
       "\\begin{gather}\n",
       "\\begin{bmatrix}\n",
       "  0.55254858 & 0.84259856 & 0.37631124 & -0.14246282 & 0.1581188 & -0.03831485\\\\\n",
       "  0.58802755 & 0.43547946 & -0.10446572 & 0.42318978\\\\\n",
       "\\end{bmatrix} = \n",
       "\\begin{bmatrix}\n",
       "  0.12555903 & 0.14349374 & -0.50730167 & -0.9153962 & -0.60192409 & -0.81903377\\\\\n",
       "  -0.34559784 & -0.15679172 & -0.72619574 & -0.5001082\\\\\n",
       "\\end{bmatrix} - 0.7\n",
       "\\begin{bmatrix}\n",
       "  -0.60998507 & -0.99872117 & -1.26230416 & -1.10419055 & -1.08577555 & -1.11531274\\\\\n",
       "  -1.33375055 & -0.84610169 & -0.88818575 & -1.31899712\\\\\n",
       "\\end{bmatrix}\\end{gather}"
      ],
      "text/plain": [
       "<IPython.core.display.Latex object>"
      ]
     },
     "metadata": {},
     "output_type": "display_data"
    },
    {
     "data": {
      "text/latex": [
       "Camada: 1"
      ],
      "text/plain": [
       "<IPython.core.display.Latex object>"
      ]
     },
     "metadata": {},
     "output_type": "display_data"
    },
    {
     "data": {
      "text/latex": [
       "\\frac{\\partial E}{\\partial X} = \\frac{\\partial E}{\\partial Y} \\sigma^{'}(X)"
      ],
      "text/plain": [
       "<IPython.core.display.Latex object>"
      ]
     },
     "metadata": {},
     "output_type": "display_data"
    },
    {
     "data": {
      "text/latex": [
       "\\begin{gather}\n",
       "\\begin{bmatrix}\n",
       "  0.72993699 & 1.10035592 & 1.12891983 & 1.68858181 & 0.79666221 & 0.86883674\\\\\n",
       "  0.59779236 & 0.87991231 & 0.47256716 & 0.89398322 & 0.56111058 & 1.16500303\\\\\n",
       "  0.94751691 & 1.21298564\\\\\n",
       "\\end{bmatrix} = \n",
       "\\begin{bmatrix}\n",
       "  4.55390054 & 5.07742442 & 4.70691138 & 7.24497824 & 6.68330193 & 3.70531648\\\\\n",
       "  4.45296733 & 4.44918725 & 3.08554488 & 7.22198503 & 5.88368688 & 5.14036278\\\\\n",
       "  4.49372959 & 4.87659957\\\\\n",
       "\\end{bmatrix} \\cdot  \\sigma^{'}(\n",
       "\\begin{bmatrix}\n",
       "  1.38329151 & 0.76501132 & 0.40872391 & 0.53272361 & 1.82914815 & 0.50896573\\\\\n",
       "  1.65991522 & 0.98723042 & 1.45781993 & 1.77651168 & 2.12420704 & 0.63157006\\\\\n",
       "  0.83710765 & -0.14245416\\\\\n",
       "\\end{bmatrix}) \\end{gather}"
      ],
      "text/plain": [
       "<IPython.core.display.Latex object>"
      ]
     },
     "metadata": {},
     "output_type": "display_data"
    },
    {
     "data": {
      "text/latex": [
       "Camada: 0"
      ],
      "text/plain": [
       "<IPython.core.display.Latex object>"
      ]
     },
     "metadata": {},
     "output_type": "display_data"
    },
    {
     "data": {
      "text/latex": [
       "\\frac{\\partial E}{\\partial X} = \\frac{\\partial E}{\\partial Y} W^T"
      ],
      "text/plain": [
       "<IPython.core.display.Latex object>"
      ]
     },
     "metadata": {},
     "output_type": "display_data"
    },
    {
     "data": {
      "text/latex": [
       "\n",
       "\\begin{bmatrix}\n",
       "  4.8525617 & 4.55570491 & 3.76949863 & 5.0410724 & 4.39185472 & 6.04601828\\\\\n",
       "  7.68822063\\\\\n",
       "\\end{bmatrix} = \n",
       "\\begin{bmatrix}\n",
       "  0.72993699 & 1.10035592 & 1.12891983 & 1.68858181 & 0.79666221 & 0.86883674\\\\\n",
       "  0.59779236 & 0.87991231 & 0.47256716 & 0.89398322 & 0.56111058 & 1.16500303\\\\\n",
       "  0.94751691 & 1.21298564\\\\\n",
       "\\end{bmatrix} \\cdot \n",
       "\\begin{bmatrix}\n",
       "  -0.07240412 & 0.7612957 & 0.46690076 & 0.56650671 & 0.19373608 & 0.86490318\\\\\n",
       "  0.97716528\\\\\n",
       "  0.58080612 & -0.16479422 & 0.42935783 & 0.17995893 & -0.11422837 & -0.0431833\\\\\n",
       "  0.86341309\\\\\n",
       "  0.22655005 & 0.21257878 & -0.13675816 & 0.4099613 & 0.54503873 & 0.72113238\\\\\n",
       "  0.61969285\\\\\n",
       "  0.01328189 & -0.1104166 & 0.38689065 & 0.3128014 & 0.8079138 & 0.43787734\\\\\n",
       "  0.99704147\\\\\n",
       "  0.41676668 & 0.57935982 & 0.41673886 & 0.57341608 & 0.0443164 & 0.61227472\\\\\n",
       "  0.41353985\\\\\n",
       "  0.48159308 & 0.58638922 & -0.10032242 & 0.31552124 & 0.55736336 & 0.73990648\\\\\n",
       "  0.43485885\\\\\n",
       "  0.10262285 & 0.66418045 & 0.299622 & 0.69384752 & 0.24622331 & 0.56985028\\\\\n",
       "  0.20940839\\\\\n",
       "  0.00387122 & 0.79331426 & 0.18027289 & 0.55682294 & 0.13303208 & 0.57742478\\\\\n",
       "  0.89915965\\\\\n",
       "  -0.21245764 & 0.75361229 & 0.53256421 & 0.24507761 & 0.19438211 & 0.059365\\\\\n",
       "  0.05737182\\\\\n",
       "  0.83442491 & 0.75375876 & 0.66005074 & 0.91138408 & -0.02767077 & 0.53931506\\\\\n",
       "  0.95425114\\\\\n",
       "  0.60589991 & 0.75363208 & 0.90665006 & 0.11114313 & 0.05339454 & 0.752452\\\\\n",
       "  0.01486062\\\\\n",
       "  0.74702203 & 0.25151094 & 0.41779104 & 0.07889316 & 0.44237329 & 0.32757068\\\\\n",
       "  0.1086166\\\\\n",
       "  0.63563523 & 0.20227173 & 0.18130632 & 0.3190963 & 0.75150441 & -0.13099881\\\\\n",
       "  0.51366224\\\\\n",
       "  0.58931984 & 0.10236302 & -0.1106625 & 0.34266394 & 0.23765897 & 0.60961162\\\\\n",
       "  0.42564855\\\\\n",
       "\\end{bmatrix}"
      ],
      "text/plain": [
       "<IPython.core.display.Latex object>"
      ]
     },
     "metadata": {},
     "output_type": "display_data"
    },
    {
     "data": {
      "text/latex": [
       "W = W - \\lambda (X^T \\cdot \\nabla f_{custo})"
      ],
      "text/plain": [
       "<IPython.core.display.Latex object>"
      ]
     },
     "metadata": {},
     "output_type": "display_data"
    },
    {
     "data": {
      "text/latex": [
       "\\begin{gather}\n",
       "\\begin{bmatrix}\n",
       "  -0.07240412 & 0.58080612 & 0.22655005 & 0.01328189 & 0.41676668 & 0.48159308\\\\\n",
       "  0.10262285 & 0.00387122 & -0.21245764 & 0.83442491 & 0.60589991 & 0.74702203\\\\\n",
       "  0.63563523 & 0.58931984\\\\\n",
       "  0.25033981 & -0.93504336 & -0.5776651 & -1.29242387 & 0.02169627 & -0.02179649\\\\\n",
       "  0.2457258 & 0.17737564 & 0.42281527 & 0.1279705 & 0.36085467 & -0.56399117\\\\\n",
       "  -0.4609901 & -0.74672693\\\\\n",
       "  -0.04405513 & -0.34089131 & -0.92700204 & -0.79511662 & -0.14092469 & -0.70850814\\\\\n",
       "  -0.11883265 & -0.43566573 & 0.20176719 & 0.03426248 & 0.51387265 & -0.39771108\\\\\n",
       "  -0.48195551 & -0.95975245\\\\\n",
       "  0.56650671 & 0.17995893 & 0.4099613 & 0.3128014 & 0.57341608 & 0.31552124\\\\\n",
       "  0.69384752 & 0.55682294 & 0.24507761 & 0.91138408 & 0.11114313 & 0.07889316\\\\\n",
       "  0.3190963 & 0.34266394\\\\\n",
       "  0.19373608 & -0.11422837 & 0.54503873 & 0.8079138 & 0.0443164 & 0.55736336\\\\\n",
       "  0.24622331 & 0.13303208 & 0.19438211 & -0.02767077 & 0.05339454 & 0.44237329\\\\\n",
       "  0.75150441 & 0.23765897\\\\\n",
       "  0.86490318 & -0.0431833 & 0.72113238 & 0.43787734 & 0.61227472 & 0.73990648\\\\\n",
       "  0.56985028 & 0.57742478 & 0.059365 & 0.53931506 & 0.752452 & 0.32757068\\\\\n",
       "  -0.13099881 & 0.60961162\\\\\n",
       "  0.97716528 & 0.86341309 & 0.61969285 & 0.99704147 & 0.41353985 & 0.43485885\\\\\n",
       "  0.20940839 & 0.89915965 & 0.05737182 & 0.95425114 & 0.01486062 & 0.1086166\\\\\n",
       "  0.51366224 & 0.42564855\\\\\n",
       "\\end{bmatrix} = \n",
       "\\begin{bmatrix}\n",
       "  -0.07240412 & 0.58080612 & 0.22655005 & 0.01328189 & 0.41676668 & 0.48159308\\\\\n",
       "  0.10262285 & 0.00387122 & -0.21245764 & 0.83442491 & 0.60589991 & 0.74702203\\\\\n",
       "  0.63563523 & 0.58931984\\\\\n",
       "  0.7612957 & -0.16479422 & 0.21257878 & -0.1104166 & 0.57935982 & 0.58638922\\\\\n",
       "  0.66418045 & 0.79331426 & 0.75361229 & 0.75375876 & 0.75363208 & 0.25151094\\\\\n",
       "  0.20227173 & 0.10236302\\\\\n",
       "  0.46690076 & 0.42935783 & -0.13675816 & 0.38689065 & 0.41673886 & -0.10032242\\\\\n",
       "  0.299622 & 0.18027289 & 0.53256421 & 0.66005074 & 0.90665006 & 0.41779104\\\\\n",
       "  0.18130632 & -0.1106625\\\\\n",
       "  0.56650671 & 0.17995893 & 0.4099613 & 0.3128014 & 0.57341608 & 0.31552124\\\\\n",
       "  0.69384752 & 0.55682294 & 0.24507761 & 0.91138408 & 0.11114313 & 0.07889316\\\\\n",
       "  0.3190963 & 0.34266394\\\\\n",
       "  0.19373608 & -0.11422837 & 0.54503873 & 0.8079138 & 0.0443164 & 0.55736336\\\\\n",
       "  0.24622331 & 0.13303208 & 0.19438211 & -0.02767077 & 0.05339454 & 0.44237329\\\\\n",
       "  0.75150441 & 0.23765897\\\\\n",
       "  0.86490318 & -0.0431833 & 0.72113238 & 0.43787734 & 0.61227472 & 0.73990648\\\\\n",
       "  0.56985028 & 0.57742478 & 0.059365 & 0.53931506 & 0.752452 & 0.32757068\\\\\n",
       "  -0.13099881 & 0.60961162\\\\\n",
       "  0.97716528 & 0.86341309 & 0.61969285 & 0.99704147 & 0.41353985 & 0.43485885\\\\\n",
       "  0.20940839 & 0.89915965 & 0.05737182 & 0.95425114 & 0.01486062 & 0.1086166\\\\\n",
       "  0.51366224 & 0.42564855\\\\\n",
       "\\end{bmatrix} - 0.7\n",
       "\\begin{bmatrix}\n",
       "  0\\\\\n",
       "  1\\\\\n",
       "  1\\\\\n",
       "  0\\\\\n",
       "  0\\\\\n",
       "  0\\\\\n",
       "  0\\\\\n",
       "\\end{bmatrix} \\cdot \n",
       "\\begin{bmatrix}\n",
       "  0.72993699 & 1.10035592 & 1.12891983 & 1.68858181 & 0.79666221 & 0.86883674\\\\\n",
       "  0.59779236 & 0.87991231 & 0.47256716 & 0.89398322 & 0.56111058 & 1.16500303\\\\\n",
       "  0.94751691 & 1.21298564\\\\\n",
       "\\end{bmatrix}\\end{gather}"
      ],
      "text/plain": [
       "<IPython.core.display.Latex object>"
      ]
     },
     "metadata": {},
     "output_type": "display_data"
    },
    {
     "data": {
      "text/latex": [
       "B = B - \\lambda (\\nabla f_{custo})"
      ],
      "text/plain": [
       "<IPython.core.display.Latex object>"
      ]
     },
     "metadata": {},
     "output_type": "display_data"
    },
    {
     "data": {
      "text/latex": [
       "\\begin{gather}\n",
       "\\begin{bmatrix}\n",
       "  -0.35586083 & -0.26980144 & -0.45734059 & -0.92575771 & 0.27538592 & -0.58528679\\\\\n",
       "  0.27765811 & -0.60229534 & -0.15915358 & -0.26308608 & 0.0711475 & -0.85323405\\\\\n",
       "  -0.20973224 & -0.98324463\\\\\n",
       "\\end{bmatrix} = \n",
       "\\begin{bmatrix}\n",
       "  0.15509506 & 0.50044771 & 0.33290329 & 0.25624956 & 0.83304947 & 0.02289893\\\\\n",
       "  0.69611276 & 0.01364328 & 0.17164344 & 0.36270218 & 0.46392491 & -0.03773193\\\\\n",
       "  0.4535296 & -0.13415468\\\\\n",
       "\\end{bmatrix} - 0.7\n",
       "\\begin{bmatrix}\n",
       "  0.72993699 & 1.10035592 & 1.12891983 & 1.68858181 & 0.79666221 & 0.86883674\\\\\n",
       "  0.59779236 & 0.87991231 & 0.47256716 & 0.89398322 & 0.56111058 & 1.16500303\\\\\n",
       "  0.94751691 & 1.21298564\\\\\n",
       "\\end{bmatrix}\\end{gather}"
      ],
      "text/plain": [
       "<IPython.core.display.Latex object>"
      ]
     },
     "metadata": {},
     "output_type": "display_data"
    },
    {
     "data": {
      "text/latex": [
       "Camada: 0"
      ],
      "text/plain": [
       "<IPython.core.display.Latex object>"
      ]
     },
     "metadata": {},
     "output_type": "display_data"
    },
    {
     "data": {
      "text/latex": [
       "Y = Xw + b"
      ],
      "text/plain": [
       "<IPython.core.display.Latex object>"
      ]
     },
     "metadata": {},
     "output_type": "display_data"
    },
    {
     "data": {
      "text/latex": [
       "\\begin{gather}\n",
       "\\begin{bmatrix}\n",
       "  1.55948294 & 0.30510498 & 0.76623724 & -0.08714301 & 1.74512121 & 1.18225325\\\\\n",
       "  1.77548598 & 1.16796619 & 0.5480356 & 2.53727379 & 1.21730037 & -0.04032014\\\\\n",
       "  1.54917584 & -0.13468026\\\\\n",
       "\\end{bmatrix} = \n",
       "\\begin{bmatrix}\n",
       "  1 & 1 & 0 & 1 & 1 & 0 & 1\\\\\n",
       "\\end{bmatrix} \\cdot \n",
       "\\begin{bmatrix}\n",
       "  -0.07240412 & 0.58080612 & 0.22655005 & 0.01328189 & 0.41676668 & 0.48159308\\\\\n",
       "  0.10262285 & 0.00387122 & -0.21245764 & 0.83442491 & 0.60589991 & 0.74702203\\\\\n",
       "  0.63563523 & 0.58931984\\\\\n",
       "  0.25033981 & -0.93504336 & -0.5776651 & -1.29242387 & 0.02169627 & -0.02179649\\\\\n",
       "  0.2457258 & 0.17737564 & 0.42281527 & 0.1279705 & 0.36085467 & -0.56399117\\\\\n",
       "  -0.4609901 & -0.74672693\\\\\n",
       "  -0.04405513 & -0.34089131 & -0.92700204 & -0.79511662 & -0.14092469 & -0.70850814\\\\\n",
       "  -0.11883265 & -0.43566573 & 0.20176719 & 0.03426248 & 0.51387265 & -0.39771108\\\\\n",
       "  -0.48195551 & -0.95975245\\\\\n",
       "  0.56650671 & 0.17995893 & 0.4099613 & 0.3128014 & 0.57341608 & 0.31552124\\\\\n",
       "  0.69384752 & 0.55682294 & 0.24507761 & 0.91138408 & 0.11114313 & 0.07889316\\\\\n",
       "  0.3190963 & 0.34266394\\\\\n",
       "  0.19373608 & -0.11422837 & 0.54503873 & 0.8079138 & 0.0443164 & 0.55736336\\\\\n",
       "  0.24622331 & 0.13303208 & 0.19438211 & -0.02767077 & 0.05339454 & 0.44237329\\\\\n",
       "  0.75150441 & 0.23765897\\\\\n",
       "  0.86490318 & -0.0431833 & 0.72113238 & 0.43787734 & 0.61227472 & 0.73990648\\\\\n",
       "  0.56985028 & 0.57742478 & 0.059365 & 0.53931506 & 0.752452 & 0.32757068\\\\\n",
       "  -0.13099881 & 0.60961162\\\\\n",
       "  0.97716528 & 0.86341309 & 0.61969285 & 0.99704147 & 0.41353985 & 0.43485885\\\\\n",
       "  0.20940839 & 0.89915965 & 0.05737182 & 0.95425114 & 0.01486062 & 0.1086166\\\\\n",
       "  0.51366224 & 0.42564855\\\\\n",
       "\\end{bmatrix} + \n",
       "\\begin{bmatrix}\n",
       "  -0.35586083 & -0.26980144 & -0.45734059 & -0.92575771 & 0.27538592 & -0.58528679\\\\\n",
       "  0.27765811 & -0.60229534 & -0.15915358 & -0.26308608 & 0.0711475 & -0.85323405\\\\\n",
       "  -0.20973224 & -0.98324463\\\\\n",
       "\\end{bmatrix}\\end{gather}"
      ],
      "text/plain": [
       "<IPython.core.display.Latex object>"
      ]
     },
     "metadata": {},
     "output_type": "display_data"
    },
    {
     "data": {
      "text/latex": [
       "Camada: 1"
      ],
      "text/plain": [
       "<IPython.core.display.Latex object>"
      ]
     },
     "metadata": {},
     "output_type": "display_data"
    },
    {
     "data": {
      "text/latex": [
       "Y = \\sigma(X)"
      ],
      "text/plain": [
       "<IPython.core.display.Latex object>"
      ]
     },
     "metadata": {},
     "output_type": "display_data"
    },
    {
     "data": {
      "text/latex": [
       "\\begin{gather}\n",
       "\\begin{bmatrix}\n",
       "  0.82627915 & 0.57568999 & 0.68270637 & 0.47822802 & 0.85133639 & 0.7653527\\\\\n",
       "  0.85513858 & 0.7627772 & 0.63367971 & 0.92671389 & 0.77158812 & 0.48992133\\\\\n",
       "  0.82479467 & 0.46638074\\\\\n",
       "\\end{bmatrix} = \\sigma(\n",
       "\\begin{bmatrix}\n",
       "  1.55948294 & 0.30510498 & 0.76623724 & -0.08714301 & 1.74512121 & 1.18225325\\\\\n",
       "  1.77548598 & 1.16796619 & 0.5480356 & 2.53727379 & 1.21730037 & -0.04032014\\\\\n",
       "  1.54917584 & -0.13468026\\\\\n",
       "\\end{bmatrix}) \\end{gather}"
      ],
      "text/plain": [
       "<IPython.core.display.Latex object>"
      ]
     },
     "metadata": {},
     "output_type": "display_data"
    },
    {
     "data": {
      "text/latex": [
       "Camada: 2"
      ],
      "text/plain": [
       "<IPython.core.display.Latex object>"
      ]
     },
     "metadata": {},
     "output_type": "display_data"
    },
    {
     "data": {
      "text/latex": [
       "Y = Xw + b"
      ],
      "text/plain": [
       "<IPython.core.display.Latex object>"
      ]
     },
     "metadata": {},
     "output_type": "display_data"
    },
    {
     "data": {
      "text/latex": [
       "\\begin{gather}\n",
       "\\begin{bmatrix}\n",
       "  0.48494481 & 2.00028511 & 1.4631288 & 0.972803 & 0.9718831 & 1.0871785\\\\\n",
       "  1.32569041 & 0.77703037 & 1.03798874 & 1.16307051\\\\\n",
       "\\end{bmatrix} = \n",
       "\\begin{bmatrix}\n",
       "  0.82627915 & 0.57568999 & 0.68270637 & 0.47822802 & 0.85133639 & 0.7653527\\\\\n",
       "  0.85513858 & 0.7627772 & 0.63367971 & 0.92671389 & 0.77158812 & 0.48992133\\\\\n",
       "  0.82479467 & 0.46638074\\\\\n",
       "\\end{bmatrix} \\cdot \n",
       "\\begin{bmatrix}\n",
       "  -6.50647047e-02 & -1.62769718e-01 & 4.62602707e-01 & 6.59142426e-01\\\\\n",
       "  -1.79528294e-01 & -1.59434827e-01 & 4.38447719e-01 & 6.35670987e-02\\\\\n",
       "  1.37485360e-01 & 3.46211362e-01\\\\\n",
       "  1.87784023e-01 & -1.15656844e-01 & 3.56124526e-01 & 3.13305630e-01\\\\\n",
       "  1.48066225e-01 & 6.51426600e-04 & -1.52099955e-01 & -1.13498126e-02\\\\\n",
       "  -1.93813459e-01 & -7.11454538e-02\\\\\n",
       "  6.10174423e-02 & -1.23248969e-01 & 3.37287878e-01 & 4.44255989e-01\\\\\n",
       "  -4.01511234e-01 & -4.25766145e-01 & 3.44238320e-02 & 6.01160938e-02\\\\\n",
       "  5.07518648e-01 & -2.15148619e-01\\\\\n",
       "  2.95323577e-01 & -1.65385608e-01 & -4.26062267e-01 & -9.13453062e-02\\\\\n",
       "  7.69121724e-03 & -1.57337595e-01 & -5.19713649e-01 & -2.99056725e-01\\\\\n",
       "  -2.49405582e-01 & -1.19275807e-01\\\\\n",
       "  4.31571170e-01 & -7.26459766e-02 & -3.25720965e-01 & 2.79341985e-01\\\\\n",
       "  -1.03832741e-02 & 4.04938391e-01 & -1.73370612e-01 & 5.73081788e-01\\\\\n",
       "  -8.83131677e-02 & -2.82823938e-01\\\\\n",
       "  -2.88171234e-01 & 3.27091789e-01 & 3.17223184e-01 & 2.26035884e-01\\\\\n",
       "  3.03798690e-01 & 1.01006108e-01 & 1.13516688e-01 & -6.59732105e-02\\\\\n",
       "  9.32079664e-02 & -3.27728397e-02\\\\\n",
       "  2.56672055e-01 & -1.51828272e-01 & 6.06600268e-01 & -2.22585152e-01\\\\\n",
       "  5.14320907e-01 & 5.64537775e-02 & 4.65234256e-01 & 1.25529720e-02\\\\\n",
       "  1.79878011e-01 & 3.40577136e-01\\\\\n",
       "  -8.98523742e-03 & 5.48943617e-01 & -1.14737946e-01 & -1.36213478e-01\\\\\n",
       "  -8.65439266e-03 & 4.25216043e-01 & 3.74398611e-01 & 3.33309071e-01\\\\\n",
       "  -1.47960091e-01 & 9.00125426e-02\\\\\n",
       "  4.47569368e-02 & 7.93814486e-01 & -2.75937788e-01 & 4.43251568e-01\\\\\n",
       "  5.96032469e-01 & 4.65243792e-01 & 3.33008086e-01 & -1.15297017e-01\\\\\n",
       "  3.39036386e-01 & 5.62952846e-01\\\\\n",
       "  -2.93020166e-01 & 1.14938999e-01 & 1.54013666e-01 & -2.96404839e-01\\\\\n",
       "  5.71860957e-02 & 1.26672577e-01 & -6.69552540e-02 & -1.83580161e-01\\\\\n",
       "  4.89577683e-01 & -3.46456660e-01\\\\\n",
       "  -1.72940476e-01 & 2.91176761e-01 & -2.28044460e-01 & 1.19791299e-01\\\\\n",
       "  4.68981686e-02 & 5.68815427e-01 & 1.09449299e-01 & 3.36474811e-02\\\\\n",
       "  -4.63332473e-02 & 4.08484035e-01\\\\\n",
       "  -2.55123235e-01 & -2.32117297e-01 & 1.34497562e-01 & 1.68423924e-01\\\\\n",
       "  1.03112636e-01 & -3.85711036e-01 & 1.32149159e-01 & 4.88929602e-01\\\\\n",
       "  -2.66495856e-01 & 1.29196074e-01\\\\\n",
       "  -3.65648710e-01 & 4.87226252e-01 & 2.79083800e-01 & -2.14954317e-01\\\\\n",
       "  2.61164253e-01 & 4.76154919e-01 & -2.77223793e-01 & -2.21957182e-01\\\\\n",
       "  1.87429905e-01 & 2.91647601e-01\\\\\n",
       "  2.97752282e-01 & -1.66677904e-01 & -2.49663101e-02 & 2.19421237e-02\\\\\n",
       "  -5.19716940e-01 & -4.86191747e-01 & -9.07543124e-03 & -3.08918392e-01\\\\\n",
       "  4.70185486e-01 & -1.07285309e-01\\\\\n",
       "\\end{bmatrix} + \n",
       "\\begin{bmatrix}\n",
       "  0.55254858 & 0.84259856 & 0.37631124 & -0.14246282 & 0.1581188 & -0.03831485\\\\\n",
       "  0.58802755 & 0.43547946 & -0.10446572 & 0.42318978\\\\\n",
       "\\end{bmatrix}\\end{gather}"
      ],
      "text/plain": [
       "<IPython.core.display.Latex object>"
      ]
     },
     "metadata": {},
     "output_type": "display_data"
    },
    {
     "data": {
      "text/latex": [
       "f_{custo}(\n",
       "\\begin{bmatrix}\n",
       "  0 & 0 & 1 & 0 & 0 & 0 & 0 & 0 & 0 & 0\\\\\n",
       "\\end{bmatrix},\n",
       "\\begin{bmatrix}\n",
       "  0.48494481 & 2.00028511 & 1.4631288 & 0.972803 & 0.9718831 & 1.0871785\\\\\n",
       "  1.32569041 & 0.77703037 & 1.03798874 & 1.16307051\\\\\n",
       "\\end{bmatrix}) = \n",
       "\\begin{bmatrix}\n",
       "  1.2315044722636894\\\\\n",
       "\\end{bmatrix}"
      ],
      "text/plain": [
       "<IPython.core.display.Latex object>"
      ]
     },
     "metadata": {},
     "output_type": "display_data"
    },
    {
     "data": {
      "text/latex": [
       "\\nabla = \\frac{\\partial E}{\\partial Y} = \n",
       "\\begin{bmatrix}\n",
       "  0.09698896 & 0.40005702 & 0.09262576 & 0.1945606 & 0.19437662 & 0.2174357\\\\\n",
       "  0.26513808 & 0.15540607 & 0.20759775 & 0.2326141\\\\\n",
       "\\end{bmatrix}"
      ],
      "text/plain": [
       "<IPython.core.display.Latex object>"
      ]
     },
     "metadata": {},
     "output_type": "display_data"
    },
    {
     "data": {
      "text/latex": [
       "Camada: 2"
      ],
      "text/plain": [
       "<IPython.core.display.Latex object>"
      ]
     },
     "metadata": {},
     "output_type": "display_data"
    },
    {
     "data": {
      "text/latex": [
       "\\frac{\\partial E}{\\partial X} = \\frac{\\partial E}{\\partial Y} W^T"
      ],
      "text/plain": [
       "<IPython.core.display.Latex object>"
      ]
     },
     "metadata": {},
     "output_type": "display_data"
    },
    {
     "data": {
      "text/latex": [
       "\n",
       "\\begin{bmatrix}\n",
       "  0.26530462 & -0.00406686 & -0.0225509 & -0.39126529 & 0.08197448 & 0.28885165\\\\\n",
       "  0.33114937 & 0.41367034 & 0.87131695 & -0.0124192 & 0.35434322 & -0.05045306\\\\\n",
       "  0.2965357 & -0.22034236\\\\\n",
       "\\end{bmatrix} = \n",
       "\\begin{bmatrix}\n",
       "  0.09698896 & 0.40005702 & 0.09262576 & 0.1945606 & 0.19437662 & 0.2174357\\\\\n",
       "  0.26513808 & 0.15540607 & 0.20759775 & 0.2326141\\\\\n",
       "\\end{bmatrix} \\cdot \n",
       "\\begin{bmatrix}\n",
       "  -6.50647047e-02 & 1.87784023e-01 & 6.10174423e-02 & 2.95323577e-01\\\\\n",
       "  4.31571170e-01 & -2.88171234e-01 & 2.56672055e-01 & -8.98523742e-03\\\\\n",
       "  4.47569368e-02 & -2.93020166e-01 & -1.72940476e-01 & -2.55123235e-01\\\\\n",
       "  -3.65648710e-01 & 2.97752282e-01\\\\\n",
       "  -1.62769718e-01 & -1.15656844e-01 & -1.23248969e-01 & -1.65385608e-01\\\\\n",
       "  -7.26459766e-02 & 3.27091789e-01 & -1.51828272e-01 & 5.48943617e-01\\\\\n",
       "  7.93814486e-01 & 1.14938999e-01 & 2.91176761e-01 & -2.32117297e-01\\\\\n",
       "  4.87226252e-01 & -1.66677904e-01\\\\\n",
       "  4.62602707e-01 & 3.56124526e-01 & 3.37287878e-01 & -4.26062267e-01\\\\\n",
       "  -3.25720965e-01 & 3.17223184e-01 & 6.06600268e-01 & -1.14737946e-01\\\\\n",
       "  -2.75937788e-01 & 1.54013666e-01 & -2.28044460e-01 & 1.34497562e-01\\\\\n",
       "  2.79083800e-01 & -2.49663101e-02\\\\\n",
       "  6.59142426e-01 & 3.13305630e-01 & 4.44255989e-01 & -9.13453062e-02\\\\\n",
       "  2.79341985e-01 & 2.26035884e-01 & -2.22585152e-01 & -1.36213478e-01\\\\\n",
       "  4.43251568e-01 & -2.96404839e-01 & 1.19791299e-01 & 1.68423924e-01\\\\\n",
       "  -2.14954317e-01 & 2.19421237e-02\\\\\n",
       "  -1.79528294e-01 & 1.48066225e-01 & -4.01511234e-01 & 7.69121724e-03\\\\\n",
       "  -1.03832741e-02 & 3.03798690e-01 & 5.14320907e-01 & -8.65439266e-03\\\\\n",
       "  5.96032469e-01 & 5.71860957e-02 & 4.68981686e-02 & 1.03112636e-01\\\\\n",
       "  2.61164253e-01 & -5.19716940e-01\\\\\n",
       "  -1.59434827e-01 & 6.51426600e-04 & -4.25766145e-01 & -1.57337595e-01\\\\\n",
       "  4.04938391e-01 & 1.01006108e-01 & 5.64537775e-02 & 4.25216043e-01\\\\\n",
       "  4.65243792e-01 & 1.26672577e-01 & 5.68815427e-01 & -3.85711036e-01\\\\\n",
       "  4.76154919e-01 & -4.86191747e-01\\\\\n",
       "  4.38447719e-01 & -1.52099955e-01 & 3.44238320e-02 & -5.19713649e-01\\\\\n",
       "  -1.73370612e-01 & 1.13516688e-01 & 4.65234256e-01 & 3.74398611e-01\\\\\n",
       "  3.33008086e-01 & -6.69552540e-02 & 1.09449299e-01 & 1.32149159e-01\\\\\n",
       "  -2.77223793e-01 & -9.07543124e-03\\\\\n",
       "  6.35670987e-02 & -1.13498126e-02 & 6.01160938e-02 & -2.99056725e-01\\\\\n",
       "  5.73081788e-01 & -6.59732105e-02 & 1.25529720e-02 & 3.33309071e-01\\\\\n",
       "  -1.15297017e-01 & -1.83580161e-01 & 3.36474811e-02 & 4.88929602e-01\\\\\n",
       "  -2.21957182e-01 & -3.08918392e-01\\\\\n",
       "  1.37485360e-01 & -1.93813459e-01 & 5.07518648e-01 & -2.49405582e-01\\\\\n",
       "  -8.83131677e-02 & 9.32079664e-02 & 1.79878011e-01 & -1.47960091e-01\\\\\n",
       "  3.39036386e-01 & 4.89577683e-01 & -4.63332473e-02 & -2.66495856e-01\\\\\n",
       "  1.87429905e-01 & 4.70185486e-01\\\\\n",
       "  3.46211362e-01 & -7.11454538e-02 & -2.15148619e-01 & -1.19275807e-01\\\\\n",
       "  -2.82823938e-01 & -3.27728397e-02 & 3.40577136e-01 & 9.00125426e-02\\\\\n",
       "  5.62952846e-01 & -3.46456660e-01 & 4.08484035e-01 & 1.29196074e-01\\\\\n",
       "  2.91647601e-01 & -1.07285309e-01\\\\\n",
       "\\end{bmatrix}"
      ],
      "text/plain": [
       "<IPython.core.display.Latex object>"
      ]
     },
     "metadata": {},
     "output_type": "display_data"
    },
    {
     "data": {
      "text/latex": [
       "W = W - \\lambda (X^T \\cdot \\nabla f_{custo})"
      ],
      "text/plain": [
       "<IPython.core.display.Latex object>"
      ]
     },
     "metadata": {},
     "output_type": "display_data"
    },
    {
     "data": {
      "text/latex": [
       "\\begin{gather}\n",
       "\\begin{bmatrix}\n",
       "  -0.12116267 & -0.39416086 & 0.40902839 & 0.54660947 & -0.29195484 & -0.28519864\\\\\n",
       "  0.28509307 & -0.02631906 & 0.01741178 & 0.21166843\\\\\n",
       "  0.14869912 & -0.27687302 & 0.31879792 & 0.23490102 & 0.06973575 & -0.08697146\\\\\n",
       "  -0.25894609 & -0.07397582 & -0.27747182 & -0.16488498\\\\\n",
       "  0.01466695 & -0.314434 & 0.29302254 & 0.35127656 & -0.49440274 & -0.52967746\\\\\n",
       "  -0.09228419 & -0.01415161 & 0.40830883 & -0.32631361\\\\\n",
       "  0.26285559 & -0.29930854 & -0.45706963 & -0.15647634 & -0.05737823 & -0.23012629\\\\\n",
       "  -0.60847117 & -0.3510804 & -0.31890093 & -0.19714561\\\\\n",
       "  0.37377201 & -0.31105415 & -0.38091994 & 0.16339642 & -0.1262192 & 0.27536074\\\\\n",
       "  -0.3313758 & 0.4804698 & -0.21202803 & -0.42144693\\\\\n",
       "  -0.34013277 & 0.11276248 & 0.26759922 & 0.12180065 & 0.19966202 & -0.01548439\\\\\n",
       "  -0.02853022 & -0.14923153 & -0.01801188 & -0.15739512\\\\\n",
       "  0.19861475 & -0.39130121 & 0.55115477 & -0.33904854 & 0.39796764 & -0.07370258\\\\\n",
       "  0.30652339 & -0.08047264 & 0.05561062 & 0.20133503\\\\\n",
       "  -0.06077192 & 0.33533555 & -0.16419492 & -0.24009795 & -0.11244063 & 0.30911755\\\\\n",
       "  0.23282971 & 0.25033092 & -0.25880567 & -0.03419037\\\\\n",
       "  0.00173498 & 0.61635887 & -0.31702433 & 0.35694919 & 0.5098117 & 0.36879458\\\\\n",
       "  0.21539925 & -0.18423139 & 0.24695105 & 0.45977086\\\\\n",
       "  -0.35593688 & -0.14457788 & 0.09392736 & -0.42261625 & -0.06890596 & -0.0143779\\\\\n",
       "  -0.23895025 & -0.28439204 & 0.35490908 & -0.49735336\\\\\n",
       "  -0.22532535 & 0.07510129 & -0.27807272 & 0.01470685 & -0.05808691 & 0.45137586\\\\\n",
       "  -0.03375488 & -0.05028915 & -0.15845922 & 0.28284644\\\\\n",
       "  -0.28838511 & -0.36931482 & 0.10273203 & 0.10170035 & 0.03645216 & -0.46027951\\\\\n",
       "  0.0412214 & 0.43563388 & -0.33769045 & 0.04942225\\\\\n",
       "  -0.42164589 & 0.25625082 & 0.22560574 & -0.3272851 & 0.14893969 & 0.35061706\\\\\n",
       "  -0.43030293 & -0.31168185 & 0.06757204 & 0.15734639\\\\\n",
       "  0.26608863 & -0.29728313 & -0.05520552 & -0.0415754 & -0.5831744 & -0.55717722\\\\\n",
       "  -0.09563414 & -0.35965327 & 0.40241177 & -0.18322603\\\\\n",
       "\\end{bmatrix} = \n",
       "\\begin{bmatrix}\n",
       "  -6.50647047e-02 & -1.62769718e-01 & 4.62602707e-01 & 6.59142426e-01\\\\\n",
       "  -1.79528294e-01 & -1.59434827e-01 & 4.38447719e-01 & 6.35670987e-02\\\\\n",
       "  1.37485360e-01 & 3.46211362e-01\\\\\n",
       "  1.87784023e-01 & -1.15656844e-01 & 3.56124526e-01 & 3.13305630e-01\\\\\n",
       "  1.48066225e-01 & 6.51426600e-04 & -1.52099955e-01 & -1.13498126e-02\\\\\n",
       "  -1.93813459e-01 & -7.11454538e-02\\\\\n",
       "  6.10174423e-02 & -1.23248969e-01 & 3.37287878e-01 & 4.44255989e-01\\\\\n",
       "  -4.01511234e-01 & -4.25766145e-01 & 3.44238320e-02 & 6.01160938e-02\\\\\n",
       "  5.07518648e-01 & -2.15148619e-01\\\\\n",
       "  2.95323577e-01 & -1.65385608e-01 & -4.26062267e-01 & -9.13453062e-02\\\\\n",
       "  7.69121724e-03 & -1.57337595e-01 & -5.19713649e-01 & -2.99056725e-01\\\\\n",
       "  -2.49405582e-01 & -1.19275807e-01\\\\\n",
       "  4.31571170e-01 & -7.26459766e-02 & -3.25720965e-01 & 2.79341985e-01\\\\\n",
       "  -1.03832741e-02 & 4.04938391e-01 & -1.73370612e-01 & 5.73081788e-01\\\\\n",
       "  -8.83131677e-02 & -2.82823938e-01\\\\\n",
       "  -2.88171234e-01 & 3.27091789e-01 & 3.17223184e-01 & 2.26035884e-01\\\\\n",
       "  3.03798690e-01 & 1.01006108e-01 & 1.13516688e-01 & -6.59732105e-02\\\\\n",
       "  9.32079664e-02 & -3.27728397e-02\\\\\n",
       "  2.56672055e-01 & -1.51828272e-01 & 6.06600268e-01 & -2.22585152e-01\\\\\n",
       "  5.14320907e-01 & 5.64537775e-02 & 4.65234256e-01 & 1.25529720e-02\\\\\n",
       "  1.79878011e-01 & 3.40577136e-01\\\\\n",
       "  -8.98523742e-03 & 5.48943617e-01 & -1.14737946e-01 & -1.36213478e-01\\\\\n",
       "  -8.65439266e-03 & 4.25216043e-01 & 3.74398611e-01 & 3.33309071e-01\\\\\n",
       "  -1.47960091e-01 & 9.00125426e-02\\\\\n",
       "  4.47569368e-02 & 7.93814486e-01 & -2.75937788e-01 & 4.43251568e-01\\\\\n",
       "  5.96032469e-01 & 4.65243792e-01 & 3.33008086e-01 & -1.15297017e-01\\\\\n",
       "  3.39036386e-01 & 5.62952846e-01\\\\\n",
       "  -2.93020166e-01 & 1.14938999e-01 & 1.54013666e-01 & -2.96404839e-01\\\\\n",
       "  5.71860957e-02 & 1.26672577e-01 & -6.69552540e-02 & -1.83580161e-01\\\\\n",
       "  4.89577683e-01 & -3.46456660e-01\\\\\n",
       "  -1.72940476e-01 & 2.91176761e-01 & -2.28044460e-01 & 1.19791299e-01\\\\\n",
       "  4.68981686e-02 & 5.68815427e-01 & 1.09449299e-01 & 3.36474811e-02\\\\\n",
       "  -4.63332473e-02 & 4.08484035e-01\\\\\n",
       "  -2.55123235e-01 & -2.32117297e-01 & 1.34497562e-01 & 1.68423924e-01\\\\\n",
       "  1.03112636e-01 & -3.85711036e-01 & 1.32149159e-01 & 4.88929602e-01\\\\\n",
       "  -2.66495856e-01 & 1.29196074e-01\\\\\n",
       "  -3.65648710e-01 & 4.87226252e-01 & 2.79083800e-01 & -2.14954317e-01\\\\\n",
       "  2.61164253e-01 & 4.76154919e-01 & -2.77223793e-01 & -2.21957182e-01\\\\\n",
       "  1.87429905e-01 & 2.91647601e-01\\\\\n",
       "  2.97752282e-01 & -1.66677904e-01 & -2.49663101e-02 & 2.19421237e-02\\\\\n",
       "  -5.19716940e-01 & -4.86191747e-01 & -9.07543124e-03 & -3.08918392e-01\\\\\n",
       "  4.70185486e-01 & -1.07285309e-01\\\\\n",
       "\\end{bmatrix} - 0.7\n",
       "\\begin{bmatrix}\n",
       "  0.82627915\\\\\n",
       "  0.57568999\\\\\n",
       "  0.68270637\\\\\n",
       "  0.47822802\\\\\n",
       "  0.85133639\\\\\n",
       "  0.7653527\\\\\n",
       "  0.85513858\\\\\n",
       "  0.7627772\\\\\n",
       "  0.63367971\\\\\n",
       "  0.92671389\\\\\n",
       "  0.77158812\\\\\n",
       "  0.48992133\\\\\n",
       "  0.82479467\\\\\n",
       "  0.46638074\\\\\n",
       "\\end{bmatrix} \\cdot \n",
       "\\begin{bmatrix}\n",
       "  0.09698896 & 0.40005702 & 0.09262576 & 0.1945606 & 0.19437662 & 0.2174357\\\\\n",
       "  0.26513808 & 0.15540607 & 0.20759775 & 0.2326141\\\\\n",
       "\\end{bmatrix}\\end{gather}"
      ],
      "text/plain": [
       "<IPython.core.display.Latex object>"
      ]
     },
     "metadata": {},
     "output_type": "display_data"
    },
    {
     "data": {
      "text/latex": [
       "B = B - \\lambda (\\nabla f_{custo})"
      ],
      "text/plain": [
       "<IPython.core.display.Latex object>"
      ]
     },
     "metadata": {},
     "output_type": "display_data"
    },
    {
     "data": {
      "text/latex": [
       "\\begin{gather}\n",
       "\\begin{bmatrix}\n",
       "  0.48465631 & 0.56255864 & 0.31147321 & -0.27865524 & 0.02205517 & -0.19051984\\\\\n",
       "  0.40243089 & 0.32669521 & -0.24978414 & 0.26035991\\\\\n",
       "\\end{bmatrix} = \n",
       "\\begin{bmatrix}\n",
       "  0.55254858 & 0.84259856 & 0.37631124 & -0.14246282 & 0.1581188 & -0.03831485\\\\\n",
       "  0.58802755 & 0.43547946 & -0.10446572 & 0.42318978\\\\\n",
       "\\end{bmatrix} - 0.7\n",
       "\\begin{bmatrix}\n",
       "  0.09698896 & 0.40005702 & 0.09262576 & 0.1945606 & 0.19437662 & 0.2174357\\\\\n",
       "  0.26513808 & 0.15540607 & 0.20759775 & 0.2326141\\\\\n",
       "\\end{bmatrix}\\end{gather}"
      ],
      "text/plain": [
       "<IPython.core.display.Latex object>"
      ]
     },
     "metadata": {},
     "output_type": "display_data"
    },
    {
     "data": {
      "text/latex": [
       "Camada: 1"
      ],
      "text/plain": [
       "<IPython.core.display.Latex object>"
      ]
     },
     "metadata": {},
     "output_type": "display_data"
    },
    {
     "data": {
      "text/latex": [
       "\\frac{\\partial E}{\\partial X} = \\frac{\\partial E}{\\partial Y} \\sigma^{'}(X)"
      ],
      "text/plain": [
       "<IPython.core.display.Latex object>"
      ]
     },
     "metadata": {},
     "output_type": "display_data"
    },
    {
     "data": {
      "text/latex": [
       "\\begin{gather}\n",
       "\\begin{bmatrix}\n",
       "  0.03808233 & -0.00099342 & -0.00488494 & -0.09763085 & 0.01037492 & 0.05187427\\\\\n",
       "  0.04102165 & 0.07485288 & 0.20225857 & -0.00084345 & 0.06244941 & -0.01260814\\\\\n",
       "  0.04285191 & -0.05483655\\\\\n",
       "\\end{bmatrix} = \n",
       "\\begin{bmatrix}\n",
       "  0.26530462 & -0.00406686 & -0.0225509 & -0.39126529 & 0.08197448 & 0.28885165\\\\\n",
       "  0.33114937 & 0.41367034 & 0.87131695 & -0.0124192 & 0.35434322 & -0.05045306\\\\\n",
       "  0.2965357 & -0.22034236\\\\\n",
       "\\end{bmatrix} \\cdot  \\sigma^{'}(\n",
       "\\begin{bmatrix}\n",
       "  1.55948294 & 0.30510498 & 0.76623724 & -0.08714301 & 1.74512121 & 1.18225325\\\\\n",
       "  1.77548598 & 1.16796619 & 0.5480356 & 2.53727379 & 1.21730037 & -0.04032014\\\\\n",
       "  1.54917584 & -0.13468026\\\\\n",
       "\\end{bmatrix}) \\end{gather}"
      ],
      "text/plain": [
       "<IPython.core.display.Latex object>"
      ]
     },
     "metadata": {},
     "output_type": "display_data"
    },
    {
     "data": {
      "text/latex": [
       "Camada: 0"
      ],
      "text/plain": [
       "<IPython.core.display.Latex object>"
      ]
     },
     "metadata": {},
     "output_type": "display_data"
    },
    {
     "data": {
      "text/latex": [
       "\\frac{\\partial E}{\\partial X} = \\frac{\\partial E}{\\partial Y} W^T"
      ],
      "text/plain": [
       "<IPython.core.display.Latex object>"
      ]
     },
     "metadata": {},
     "output_type": "display_data"
    },
    {
     "data": {
      "text/latex": [
       "\n",
       "\\begin{bmatrix}\n",
       "  0.00773431 & 0.29816603 & 0.1149787 & 0.13094241 & 0.03164926 & 0.1134097\\\\\n",
       "  0.0477572\\\\\n",
       "\\end{bmatrix} = \n",
       "\\begin{bmatrix}\n",
       "  0.03808233 & -0.00099342 & -0.00488494 & -0.09763085 & 0.01037492 & 0.05187427\\\\\n",
       "  0.04102165 & 0.07485288 & 0.20225857 & -0.00084345 & 0.06244941 & -0.01260814\\\\\n",
       "  0.04285191 & -0.05483655\\\\\n",
       "\\end{bmatrix} \\cdot \n",
       "\\begin{bmatrix}\n",
       "  -0.07240412 & 0.25033981 & -0.04405513 & 0.56650671 & 0.19373608 & 0.86490318\\\\\n",
       "  0.97716528\\\\\n",
       "  0.58080612 & -0.93504336 & -0.34089131 & 0.17995893 & -0.11422837 & -0.0431833\\\\\n",
       "  0.86341309\\\\\n",
       "  0.22655005 & -0.5776651 & -0.92700204 & 0.4099613 & 0.54503873 & 0.72113238\\\\\n",
       "  0.61969285\\\\\n",
       "  0.01328189 & -1.29242387 & -0.79511662 & 0.3128014 & 0.8079138 & 0.43787734\\\\\n",
       "  0.99704147\\\\\n",
       "  0.41676668 & 0.02169627 & -0.14092469 & 0.57341608 & 0.0443164 & 0.61227472\\\\\n",
       "  0.41353985\\\\\n",
       "  0.48159308 & -0.02179649 & -0.70850814 & 0.31552124 & 0.55736336 & 0.73990648\\\\\n",
       "  0.43485885\\\\\n",
       "  0.10262285 & 0.2457258 & -0.11883265 & 0.69384752 & 0.24622331 & 0.56985028\\\\\n",
       "  0.20940839\\\\\n",
       "  0.00387122 & 0.17737564 & -0.43566573 & 0.55682294 & 0.13303208 & 0.57742478\\\\\n",
       "  0.89915965\\\\\n",
       "  -0.21245764 & 0.42281527 & 0.20176719 & 0.24507761 & 0.19438211 & 0.059365\\\\\n",
       "  0.05737182\\\\\n",
       "  0.83442491 & 0.1279705 & 0.03426248 & 0.91138408 & -0.02767077 & 0.53931506\\\\\n",
       "  0.95425114\\\\\n",
       "  0.60589991 & 0.36085467 & 0.51387265 & 0.11114313 & 0.05339454 & 0.752452\\\\\n",
       "  0.01486062\\\\\n",
       "  0.74702203 & -0.56399117 & -0.39771108 & 0.07889316 & 0.44237329 & 0.32757068\\\\\n",
       "  0.1086166\\\\\n",
       "  0.63563523 & -0.4609901 & -0.48195551 & 0.3190963 & 0.75150441 & -0.13099881\\\\\n",
       "  0.51366224\\\\\n",
       "  0.58931984 & -0.74672693 & -0.95975245 & 0.34266394 & 0.23765897 & 0.60961162\\\\\n",
       "  0.42564855\\\\\n",
       "\\end{bmatrix}"
      ],
      "text/plain": [
       "<IPython.core.display.Latex object>"
      ]
     },
     "metadata": {},
     "output_type": "display_data"
    },
    {
     "data": {
      "text/latex": [
       "W = W - \\lambda (X^T \\cdot \\nabla f_{custo})"
      ],
      "text/plain": [
       "<IPython.core.display.Latex object>"
      ]
     },
     "metadata": {},
     "output_type": "display_data"
    },
    {
     "data": {
      "text/latex": [
       "\\begin{gather}\n",
       "\\begin{bmatrix}\n",
       "  -0.09906175 & 0.58150151 & 0.2299695 & 0.08162349 & 0.40950424 & 0.44528109\\\\\n",
       "  0.07390769 & -0.0485258 & -0.35403864 & 0.83501533 & 0.56218532 & 0.75584772\\\\\n",
       "  0.6056389 & 0.62770542\\\\\n",
       "  0.22368217 & -0.93434797 & -0.57424564 & -1.22408227 & 0.01443383 & -0.05810848\\\\\n",
       "  0.21701064 & 0.12497863 & 0.28123427 & 0.12856092 & 0.31714008 & -0.55516548\\\\\n",
       "  -0.49098644 & -0.70834135\\\\\n",
       "  -0.04405513 & -0.34089131 & -0.92700204 & -0.79511662 & -0.14092469 & -0.70850814\\\\\n",
       "  -0.11883265 & -0.43566573 & 0.20176719 & 0.03426248 & 0.51387265 & -0.39771108\\\\\n",
       "  -0.48195551 & -0.95975245\\\\\n",
       "  0.53984908 & 0.18065432 & 0.41338075 & 0.381143 & 0.56615364 & 0.27920925\\\\\n",
       "  0.66513237 & 0.50442592 & 0.10349661 & 0.91197449 & 0.06742854 & 0.08771886\\\\\n",
       "  0.28909996 & 0.38104952\\\\\n",
       "  0.16707845 & -0.11353298 & 0.54845819 & 0.8762554 & 0.03705396 & 0.52105137\\\\\n",
       "  0.21750816 & 0.08063507 & 0.05280111 & -0.02708035 & 0.00967995 & 0.45119899\\\\\n",
       "  0.72150807 & 0.27604456\\\\\n",
       "  0.86490318 & -0.0431833 & 0.72113238 & 0.43787734 & 0.61227472 & 0.73990648\\\\\n",
       "  0.56985028 & 0.57742478 & 0.059365 & 0.53931506 & 0.752452 & 0.32757068\\\\\n",
       "  -0.13099881 & 0.60961162\\\\\n",
       "  0.95050765 & 0.86410848 & 0.62311231 & 1.06538307 & 0.40627741 & 0.39854686\\\\\n",
       "  0.18069323 & 0.84676263 & -0.08420918 & 0.95484156 & -0.02885396 & 0.1174423\\\\\n",
       "  0.48366591 & 0.46403413\\\\\n",
       "\\end{bmatrix} = \n",
       "\\begin{bmatrix}\n",
       "  -0.07240412 & 0.58080612 & 0.22655005 & 0.01328189 & 0.41676668 & 0.48159308\\\\\n",
       "  0.10262285 & 0.00387122 & -0.21245764 & 0.83442491 & 0.60589991 & 0.74702203\\\\\n",
       "  0.63563523 & 0.58931984\\\\\n",
       "  0.25033981 & -0.93504336 & -0.5776651 & -1.29242387 & 0.02169627 & -0.02179649\\\\\n",
       "  0.2457258 & 0.17737564 & 0.42281527 & 0.1279705 & 0.36085467 & -0.56399117\\\\\n",
       "  -0.4609901 & -0.74672693\\\\\n",
       "  -0.04405513 & -0.34089131 & -0.92700204 & -0.79511662 & -0.14092469 & -0.70850814\\\\\n",
       "  -0.11883265 & -0.43566573 & 0.20176719 & 0.03426248 & 0.51387265 & -0.39771108\\\\\n",
       "  -0.48195551 & -0.95975245\\\\\n",
       "  0.56650671 & 0.17995893 & 0.4099613 & 0.3128014 & 0.57341608 & 0.31552124\\\\\n",
       "  0.69384752 & 0.55682294 & 0.24507761 & 0.91138408 & 0.11114313 & 0.07889316\\\\\n",
       "  0.3190963 & 0.34266394\\\\\n",
       "  0.19373608 & -0.11422837 & 0.54503873 & 0.8079138 & 0.0443164 & 0.55736336\\\\\n",
       "  0.24622331 & 0.13303208 & 0.19438211 & -0.02767077 & 0.05339454 & 0.44237329\\\\\n",
       "  0.75150441 & 0.23765897\\\\\n",
       "  0.86490318 & -0.0431833 & 0.72113238 & 0.43787734 & 0.61227472 & 0.73990648\\\\\n",
       "  0.56985028 & 0.57742478 & 0.059365 & 0.53931506 & 0.752452 & 0.32757068\\\\\n",
       "  -0.13099881 & 0.60961162\\\\\n",
       "  0.97716528 & 0.86341309 & 0.61969285 & 0.99704147 & 0.41353985 & 0.43485885\\\\\n",
       "  0.20940839 & 0.89915965 & 0.05737182 & 0.95425114 & 0.01486062 & 0.1086166\\\\\n",
       "  0.51366224 & 0.42564855\\\\\n",
       "\\end{bmatrix} - 0.7\n",
       "\\begin{bmatrix}\n",
       "  1\\\\\n",
       "  1\\\\\n",
       "  0\\\\\n",
       "  1\\\\\n",
       "  1\\\\\n",
       "  0\\\\\n",
       "  1\\\\\n",
       "\\end{bmatrix} \\cdot \n",
       "\\begin{bmatrix}\n",
       "  0.03808233 & -0.00099342 & -0.00488494 & -0.09763085 & 0.01037492 & 0.05187427\\\\\n",
       "  0.04102165 & 0.07485288 & 0.20225857 & -0.00084345 & 0.06244941 & -0.01260814\\\\\n",
       "  0.04285191 & -0.05483655\\\\\n",
       "\\end{bmatrix}\\end{gather}"
      ],
      "text/plain": [
       "<IPython.core.display.Latex object>"
      ]
     },
     "metadata": {},
     "output_type": "display_data"
    },
    {
     "data": {
      "text/latex": [
       "B = B - \\lambda (\\nabla f_{custo})"
      ],
      "text/plain": [
       "<IPython.core.display.Latex object>"
      ]
     },
     "metadata": {},
     "output_type": "display_data"
    },
    {
     "data": {
      "text/latex": [
       "\\begin{gather}\n",
       "\\begin{bmatrix}\n",
       "  -0.38251846 & -0.26910604 & -0.45392113 & -0.85741611 & 0.26812348 & -0.62159878\\\\\n",
       "  0.24894295 & -0.65469236 & -0.30073458 & -0.26249566 & 0.02743291 & -0.84440835\\\\\n",
       "  -0.23972857 & -0.94485905\\\\\n",
       "\\end{bmatrix} = \n",
       "\\begin{bmatrix}\n",
       "  -0.35586083 & -0.26980144 & -0.45734059 & -0.92575771 & 0.27538592 & -0.58528679\\\\\n",
       "  0.27765811 & -0.60229534 & -0.15915358 & -0.26308608 & 0.0711475 & -0.85323405\\\\\n",
       "  -0.20973224 & -0.98324463\\\\\n",
       "\\end{bmatrix} - 0.7\n",
       "\\begin{bmatrix}\n",
       "  0.03808233 & -0.00099342 & -0.00488494 & -0.09763085 & 0.01037492 & 0.05187427\\\\\n",
       "  0.04102165 & 0.07485288 & 0.20225857 & -0.00084345 & 0.06244941 & -0.01260814\\\\\n",
       "  0.04285191 & -0.05483655\\\\\n",
       "\\end{bmatrix}\\end{gather}"
      ],
      "text/plain": [
       "<IPython.core.display.Latex object>"
      ]
     },
     "metadata": {},
     "output_type": "display_data"
    },
    {
     "data": {
      "text/latex": [
       "Camada: 0"
      ],
      "text/plain": [
       "<IPython.core.display.Latex object>"
      ]
     },
     "metadata": {},
     "output_type": "display_data"
    },
    {
     "data": {
      "text/latex": [
       "Y = Xw + b"
      ],
      "text/plain": [
       "<IPython.core.display.Latex object>"
      ]
     },
     "metadata": {},
     "output_type": "display_data"
    },
    {
     "data": {
      "text/latex": [
       "\\begin{gather}\n",
       "\\begin{bmatrix}\n",
       "  1.18840355 & 0.08191899 & -0.68870625 & -1.34846544 & 1.52356792 & -0.2651782\\\\\n",
       "  1.26685423 & 0.33728329 & -0.15248432 & 2.60215912 & 1.45920554 & -0.83627602\\\\\n",
       "  0.16573425 & -1.14016376\\\\\n",
       "\\end{bmatrix} = \n",
       "\\begin{bmatrix}\n",
       "  1 & 1 & 1 & 1 & 0 & 0 & 1\\\\\n",
       "\\end{bmatrix} \\cdot \n",
       "\\begin{bmatrix}\n",
       "  -0.09906175 & 0.58150151 & 0.2299695 & 0.08162349 & 0.40950424 & 0.44528109\\\\\n",
       "  0.07390769 & -0.0485258 & -0.35403864 & 0.83501533 & 0.56218532 & 0.75584772\\\\\n",
       "  0.6056389 & 0.62770542\\\\\n",
       "  0.22368217 & -0.93434797 & -0.57424564 & -1.22408227 & 0.01443383 & -0.05810848\\\\\n",
       "  0.21701064 & 0.12497863 & 0.28123427 & 0.12856092 & 0.31714008 & -0.55516548\\\\\n",
       "  -0.49098644 & -0.70834135\\\\\n",
       "  -0.04405513 & -0.34089131 & -0.92700204 & -0.79511662 & -0.14092469 & -0.70850814\\\\\n",
       "  -0.11883265 & -0.43566573 & 0.20176719 & 0.03426248 & 0.51387265 & -0.39771108\\\\\n",
       "  -0.48195551 & -0.95975245\\\\\n",
       "  0.53984908 & 0.18065432 & 0.41338075 & 0.381143 & 0.56615364 & 0.27920925\\\\\n",
       "  0.66513237 & 0.50442592 & 0.10349661 & 0.91197449 & 0.06742854 & 0.08771886\\\\\n",
       "  0.28909996 & 0.38104952\\\\\n",
       "  0.16707845 & -0.11353298 & 0.54845819 & 0.8762554 & 0.03705396 & 0.52105137\\\\\n",
       "  0.21750816 & 0.08063507 & 0.05280111 & -0.02708035 & 0.00967995 & 0.45119899\\\\\n",
       "  0.72150807 & 0.27604456\\\\\n",
       "  0.86490318 & -0.0431833 & 0.72113238 & 0.43787734 & 0.61227472 & 0.73990648\\\\\n",
       "  0.56985028 & 0.57742478 & 0.059365 & 0.53931506 & 0.752452 & 0.32757068\\\\\n",
       "  -0.13099881 & 0.60961162\\\\\n",
       "  0.95050765 & 0.86410848 & 0.62311231 & 1.06538307 & 0.40627741 & 0.39854686\\\\\n",
       "  0.18069323 & 0.84676263 & -0.08420918 & 0.95484156 & -0.02885396 & 0.1174423\\\\\n",
       "  0.48366591 & 0.46403413\\\\\n",
       "\\end{bmatrix} + \n",
       "\\begin{bmatrix}\n",
       "  -0.38251846 & -0.26910604 & -0.45392113 & -0.85741611 & 0.26812348 & -0.62159878\\\\\n",
       "  0.24894295 & -0.65469236 & -0.30073458 & -0.26249566 & 0.02743291 & -0.84440835\\\\\n",
       "  -0.23972857 & -0.94485905\\\\\n",
       "\\end{bmatrix}\\end{gather}"
      ],
      "text/plain": [
       "<IPython.core.display.Latex object>"
      ]
     },
     "metadata": {},
     "output_type": "display_data"
    },
    {
     "data": {
      "text/latex": [
       "Camada: 1"
      ],
      "text/plain": [
       "<IPython.core.display.Latex object>"
      ]
     },
     "metadata": {},
     "output_type": "display_data"
    },
    {
     "data": {
      "text/latex": [
       "Y = \\sigma(X)"
      ],
      "text/plain": [
       "<IPython.core.display.Latex object>"
      ]
     },
     "metadata": {},
     "output_type": "display_data"
    },
    {
     "data": {
      "text/latex": [
       "\\begin{gather}\n",
       "\\begin{bmatrix}\n",
       "  0.76645542 & 0.5204683 & 0.33432094 & 0.20612137 & 0.82106327 & 0.43409122\\\\\n",
       "  0.78020377 & 0.58353045 & 0.46195261 & 0.93100041 & 0.81141113 & 0.30231968\\\\\n",
       "  0.54133898 & 0.2422903\\\\\n",
       "\\end{bmatrix} = \\sigma(\n",
       "\\begin{bmatrix}\n",
       "  1.18840355 & 0.08191899 & -0.68870625 & -1.34846544 & 1.52356792 & -0.2651782\\\\\n",
       "  1.26685423 & 0.33728329 & -0.15248432 & 2.60215912 & 1.45920554 & -0.83627602\\\\\n",
       "  0.16573425 & -1.14016376\\\\\n",
       "\\end{bmatrix}) \\end{gather}"
      ],
      "text/plain": [
       "<IPython.core.display.Latex object>"
      ]
     },
     "metadata": {},
     "output_type": "display_data"
    },
    {
     "data": {
      "text/latex": [
       "Camada: 2"
      ],
      "text/plain": [
       "<IPython.core.display.Latex object>"
      ]
     },
     "metadata": {},
     "output_type": "display_data"
    },
    {
     "data": {
      "text/latex": [
       "Y = Xw + b"
      ],
      "text/plain": [
       "<IPython.core.display.Latex object>"
      ]
     },
     "metadata": {},
     "output_type": "display_data"
    },
    {
     "data": {
      "text/latex": [
       "\\begin{gather}\n",
       "\\begin{bmatrix}\n",
       "  0.0426323 & -0.20042642 & 0.78743082 & -0.24298742 & -0.04004054 & 0.10223313\\\\\n",
       "  0.02644951 & 0.08908528 & -0.2517068 & -0.0555936\\\\\n",
       "\\end{bmatrix} = \n",
       "\\begin{bmatrix}\n",
       "  0.76645542 & 0.5204683 & 0.33432094 & 0.20612137 & 0.82106327 & 0.43409122\\\\\n",
       "  0.78020377 & 0.58353045 & 0.46195261 & 0.93100041 & 0.81141113 & 0.30231968\\\\\n",
       "  0.54133898 & 0.2422903\\\\\n",
       "\\end{bmatrix} \\cdot \n",
       "\\begin{bmatrix}\n",
       "  -0.12116267 & -0.39416086 & 0.40902839 & 0.54660947 & -0.29195484 & -0.28519864\\\\\n",
       "  0.28509307 & -0.02631906 & 0.01741178 & 0.21166843\\\\\n",
       "  0.14869912 & -0.27687302 & 0.31879792 & 0.23490102 & 0.06973575 & -0.08697146\\\\\n",
       "  -0.25894609 & -0.07397582 & -0.27747182 & -0.16488498\\\\\n",
       "  0.01466695 & -0.314434 & 0.29302254 & 0.35127656 & -0.49440274 & -0.52967746\\\\\n",
       "  -0.09228419 & -0.01415161 & 0.40830883 & -0.32631361\\\\\n",
       "  0.26285559 & -0.29930854 & -0.45706963 & -0.15647634 & -0.05737823 & -0.23012629\\\\\n",
       "  -0.60847117 & -0.3510804 & -0.31890093 & -0.19714561\\\\\n",
       "  0.37377201 & -0.31105415 & -0.38091994 & 0.16339642 & -0.1262192 & 0.27536074\\\\\n",
       "  -0.3313758 & 0.4804698 & -0.21202803 & -0.42144693\\\\\n",
       "  -0.34013277 & 0.11276248 & 0.26759922 & 0.12180065 & 0.19966202 & -0.01548439\\\\\n",
       "  -0.02853022 & -0.14923153 & -0.01801188 & -0.15739512\\\\\n",
       "  0.19861475 & -0.39130121 & 0.55115477 & -0.33904854 & 0.39796764 & -0.07370258\\\\\n",
       "  0.30652339 & -0.08047264 & 0.05561062 & 0.20133503\\\\\n",
       "  -0.06077192 & 0.33533555 & -0.16419492 & -0.24009795 & -0.11244063 & 0.30911755\\\\\n",
       "  0.23282971 & 0.25033092 & -0.25880567 & -0.03419037\\\\\n",
       "  0.00173498 & 0.61635887 & -0.31702433 & 0.35694919 & 0.5098117 & 0.36879458\\\\\n",
       "  0.21539925 & -0.18423139 & 0.24695105 & 0.45977086\\\\\n",
       "  -0.35593688 & -0.14457788 & 0.09392736 & -0.42261625 & -0.06890596 & -0.0143779\\\\\n",
       "  -0.23895025 & -0.28439204 & 0.35490908 & -0.49735336\\\\\n",
       "  -0.22532535 & 0.07510129 & -0.27807272 & 0.01470685 & -0.05808691 & 0.45137586\\\\\n",
       "  -0.03375488 & -0.05028915 & -0.15845922 & 0.28284644\\\\\n",
       "  -0.28838511 & -0.36931482 & 0.10273203 & 0.10170035 & 0.03645216 & -0.46027951\\\\\n",
       "  0.0412214 & 0.43563388 & -0.33769045 & 0.04942225\\\\\n",
       "  -0.42164589 & 0.25625082 & 0.22560574 & -0.3272851 & 0.14893969 & 0.35061706\\\\\n",
       "  -0.43030293 & -0.31168185 & 0.06757204 & 0.15734639\\\\\n",
       "  0.26608863 & -0.29728313 & -0.05520552 & -0.0415754 & -0.5831744 & -0.55717722\\\\\n",
       "  -0.09563414 & -0.35965327 & 0.40241177 & -0.18322603\\\\\n",
       "\\end{bmatrix} + \n",
       "\\begin{bmatrix}\n",
       "  0.48465631 & 0.56255864 & 0.31147321 & -0.27865524 & 0.02205517 & -0.19051984\\\\\n",
       "  0.40243089 & 0.32669521 & -0.24978414 & 0.26035991\\\\\n",
       "\\end{bmatrix}\\end{gather}"
      ],
      "text/plain": [
       "<IPython.core.display.Latex object>"
      ]
     },
     "metadata": {},
     "output_type": "display_data"
    },
    {
     "data": {
      "text/latex": [
       "f_{custo}(\n",
       "\\begin{bmatrix}\n",
       "  0 & 0 & 0 & 1 & 0 & 0 & 0 & 0 & 0 & 0\\\\\n",
       "\\end{bmatrix},\n",
       "\\begin{bmatrix}\n",
       "  0.0426323 & -0.20042642 & 0.78743082 & -0.24298742 & -0.04004054 & 0.10223313\\\\\n",
       "  0.02644951 & 0.08908528 & -0.2517068 & -0.0555936\\\\\n",
       "\\end{bmatrix}) = \n",
       "\\begin{bmatrix}\n",
       "  0.2294190865206151\\\\\n",
       "\\end{bmatrix}"
      ],
      "text/plain": [
       "<IPython.core.display.Latex object>"
      ]
     },
     "metadata": {},
     "output_type": "display_data"
    },
    {
     "data": {
      "text/latex": [
       "\\nabla = \\frac{\\partial E}{\\partial Y} = \n",
       "\\begin{bmatrix}\n",
       "  0.00852646 & -0.04008528 & 0.15748616 & -0.24859748 & -0.00800811 & 0.02044663\\\\\n",
       "  0.0052899 & 0.01781706 & -0.05034136 & -0.01111872\\\\\n",
       "\\end{bmatrix}"
      ],
      "text/plain": [
       "<IPython.core.display.Latex object>"
      ]
     },
     "metadata": {},
     "output_type": "display_data"
    },
    {
     "data": {
      "text/latex": [
       "Camada: 2"
      ],
      "text/plain": [
       "<IPython.core.display.Latex object>"
      ]
     },
     "metadata": {},
     "output_type": "display_data"
    },
    {
     "data": {
      "text/latex": [
       "\\frac{\\partial E}{\\partial X} = \\frac{\\partial E}{\\partial Y} W^T"
      ],
      "text/plain": [
       "<IPython.core.display.Latex object>"
      ]
     },
     "metadata": {},
     "output_type": "display_data"
    },
    {
     "data": {
      "text/latex": [
       "\n",
       "\\begin{bmatrix}\n",
       "  -0.06238664 & 0.01495393 & -0.05298807 & -0.0143173 & -0.0561456 & 0.00237506\\\\\n",
       "  0.17892042 & 0.04619056 & -0.1795847 & 0.10420426 & -0.0389285 & 0.01796859\\\\\n",
       "  0.09602054 & -0.01602994\\\\\n",
       "\\end{bmatrix} = \n",
       "\\begin{bmatrix}\n",
       "  0.00852646 & -0.04008528 & 0.15748616 & -0.24859748 & -0.00800811 & 0.02044663\\\\\n",
       "  0.0052899 & 0.01781706 & -0.05034136 & -0.01111872\\\\\n",
       "\\end{bmatrix} \\cdot \n",
       "\\begin{bmatrix}\n",
       "  -0.12116267 & 0.14869912 & 0.01466695 & 0.26285559 & 0.37377201 & -0.34013277\\\\\n",
       "  0.19861475 & -0.06077192 & 0.00173498 & -0.35593688 & -0.22532535 & -0.28838511\\\\\n",
       "  -0.42164589 & 0.26608863\\\\\n",
       "  -0.39416086 & -0.27687302 & -0.314434 & -0.29930854 & -0.31105415 & 0.11276248\\\\\n",
       "  -0.39130121 & 0.33533555 & 0.61635887 & -0.14457788 & 0.07510129 & -0.36931482\\\\\n",
       "  0.25625082 & -0.29728313\\\\\n",
       "  0.40902839 & 0.31879792 & 0.29302254 & -0.45706963 & -0.38091994 & 0.26759922\\\\\n",
       "  0.55115477 & -0.16419492 & -0.31702433 & 0.09392736 & -0.27807272 & 0.10273203\\\\\n",
       "  0.22560574 & -0.05520552\\\\\n",
       "  0.54660947 & 0.23490102 & 0.35127656 & -0.15647634 & 0.16339642 & 0.12180065\\\\\n",
       "  -0.33904854 & -0.24009795 & 0.35694919 & -0.42261625 & 0.01470685 & 0.10170035\\\\\n",
       "  -0.3272851 & -0.0415754\\\\\n",
       "  -0.29195484 & 0.06973575 & -0.49440274 & -0.05737823 & -0.1262192 & 0.19966202\\\\\n",
       "  0.39796764 & -0.11244063 & 0.5098117 & -0.06890596 & -0.05808691 & 0.03645216\\\\\n",
       "  0.14893969 & -0.5831744\\\\\n",
       "  -0.28519864 & -0.08697146 & -0.52967746 & -0.23012629 & 0.27536074 & -0.01548439\\\\\n",
       "  -0.07370258 & 0.30911755 & 0.36879458 & -0.0143779 & 0.45137586 & -0.46027951\\\\\n",
       "  0.35061706 & -0.55717722\\\\\n",
       "  0.28509307 & -0.25894609 & -0.09228419 & -0.60847117 & -0.3313758 & -0.02853022\\\\\n",
       "  0.30652339 & 0.23282971 & 0.21539925 & -0.23895025 & -0.03375488 & 0.0412214\\\\\n",
       "  -0.43030293 & -0.09563414\\\\\n",
       "  -0.02631906 & -0.07397582 & -0.01415161 & -0.3510804 & 0.4804698 & -0.14923153\\\\\n",
       "  -0.08047264 & 0.25033092 & -0.18423139 & -0.28439204 & -0.05028915 & 0.43563388\\\\\n",
       "  -0.31168185 & -0.35965327\\\\\n",
       "  0.01741178 & -0.27747182 & 0.40830883 & -0.31890093 & -0.21202803 & -0.01801188\\\\\n",
       "  0.05561062 & -0.25880567 & 0.24695105 & 0.35490908 & -0.15845922 & -0.33769045\\\\\n",
       "  0.06757204 & 0.40241177\\\\\n",
       "  0.21166843 & -0.16488498 & -0.32631361 & -0.19714561 & -0.42144693 & -0.15739512\\\\\n",
       "  0.20133503 & -0.03419037 & 0.45977086 & -0.49735336 & 0.28284644 & 0.04942225\\\\\n",
       "  0.15734639 & -0.18322603\\\\\n",
       "\\end{bmatrix}"
      ],
      "text/plain": [
       "<IPython.core.display.Latex object>"
      ]
     },
     "metadata": {},
     "output_type": "display_data"
    },
    {
     "data": {
      "text/latex": [
       "W = W - \\lambda (X^T \\cdot \\nabla f_{custo})"
      ],
      "text/plain": [
       "<IPython.core.display.Latex object>"
      ]
     },
     "metadata": {},
     "output_type": "display_data"
    },
    {
     "data": {
      "text/latex": [
       "\\begin{gather}\n",
       "\\begin{bmatrix}\n",
       "  -1.25737280e-01 & -3.72654352e-01 & 3.24534107e-01 & 6.79986691e-01\\\\\n",
       "  -2.87658336e-01 & -2.96168635e-01 & 2.82254940e-01 & -3.58782452e-02\\\\\n",
       "  4.44208624e-02 & 2.17633837e-01\\\\\n",
       "  1.45592694e-01 & -2.62268837e-01 & 2.61421330e-01 & 3.25471994e-01\\\\\n",
       "  7.26533293e-02 & -9.44207377e-02 & -2.60873352e-01 & -8.04670667e-02\\\\\n",
       "  -2.59131064e-01 & -1.60834123e-01\\\\\n",
       "  1.26715528e-02 & -3.05053059e-01 & 2.56166895e-01 & 4.09454497e-01\\\\\n",
       "  -4.92528649e-01 & -5.34462477e-01 & -9.35221560e-02 & -1.83212384e-02\\\\\n",
       "  4.20089953e-01 & -3.23711555e-01\\\\\n",
       "  2.61625350e-01 & -2.93524840e-01 & -4.79792515e-01 & -1.20607461e-01\\\\\n",
       "  -5.62227759e-02 & -2.33076427e-01 & -6.09234425e-01 & -3.53651136e-01\\\\\n",
       "  -3.11637424e-01 & -1.95541350e-01\\\\\n",
       "  3.68871473e-01 & -2.88015358e-01 & -4.71434215e-01 & 3.06276407e-01\\\\\n",
       "  -1.21616582e-01 & 2.63609163e-01 & -3.34416141e-01 & 4.70229545e-01\\\\\n",
       "  -1.83094621e-01 & -4.15056511e-01\\\\\n",
       "  -3.42723652e-01 & 1.24942952e-01 & 2.19744868e-01 & 1.97340437e-01\\\\\n",
       "  2.02095395e-01 & -2.16973827e-02 & -3.01376251e-02 & -1.54645491e-01\\\\\n",
       "  -2.71496260e-03 & -1.54016545e-01\\\\\n",
       "  1.93958089e-01 & -3.69408925e-01 & 4.65144857e-01 & -2.03278860e-01\\\\\n",
       "  4.02341214e-01 & -8.48693558e-02 & 3.03634353e-01 & -9.02032924e-02\\\\\n",
       "  8.31041827e-02 & 2.07407437e-01\\\\\n",
       "  -6.42547298e-02 & 3.51709243e-01 & -2.28523499e-01 & -1.38553009e-01\\\\\n",
       "  -1.09169548e-01 & 3.00765687e-01 & 2.30668939e-01 & 2.43053168e-01\\\\\n",
       "  -2.38242670e-01 & -2.96486926e-02\\\\\n",
       "  -1.02219394e-03 & 6.29321123e-01 & -3.67950135e-01 & 4.37337375e-01\\\\\n",
       "  5.12401261e-01 & 3.62182817e-01 & 2.13688671e-01 & -1.89992835e-01\\\\\n",
       "  2.63229774e-01 & 4.63366284e-01\\\\\n",
       "  -3.61493575e-01 & -1.18454290e-01 & -8.70641660e-03 & -2.60605195e-01\\\\\n",
       "  -6.36870773e-02 & -2.77029735e-02 & -2.42397685e-01 & -2.96003418e-01\\\\\n",
       "  3.87716560e-01 & -4.90107291e-01\\\\\n",
       "  -2.30168273e-01 & 9.78692420e-02 & -3.67522934e-01 & 1.55907182e-01\\\\\n",
       "  -5.35384065e-02 & 4.39762431e-01 & -3.67594751e-02 & -6.04090249e-02\\\\\n",
       "  -1.29865938e-01 & 2.89161738e-01\\\\\n",
       "  -2.90189510e-01 & -3.60831825e-01 & 6.94042105e-02 & 1.54309490e-01\\\\\n",
       "  3.81468653e-02 & -4.64606499e-01 & 4.01019286e-02 & 4.31863364e-01\\\\\n",
       "  -3.27037023e-01 & 5.17752318e-02\\\\\n",
       "  -4.24876888e-01 & 2.71440633e-01 & 1.65928357e-01 & -2.33082242e-01\\\\\n",
       "  1.51974264e-01 & 3.42869066e-01 & -4.32307467e-01 & -3.18433399e-01\\\\\n",
       "  8.66482622e-02 & 1.61559689e-01\\\\\n",
       "  2.64642518e-01 & -2.90484534e-01 & -8.19156778e-02 & 5.87532814e-04\\\\\n",
       "  -5.81816197e-01 & -5.60645036e-01 & -9.65313216e-02 & -3.62675101e-01\\\\\n",
       "  4.10949828e-01 & -1.81340255e-01\\\\\n",
       "\\end{bmatrix} = \n",
       "\\begin{bmatrix}\n",
       "  -0.12116267 & -0.39416086 & 0.40902839 & 0.54660947 & -0.29195484 & -0.28519864\\\\\n",
       "  0.28509307 & -0.02631906 & 0.01741178 & 0.21166843\\\\\n",
       "  0.14869912 & -0.27687302 & 0.31879792 & 0.23490102 & 0.06973575 & -0.08697146\\\\\n",
       "  -0.25894609 & -0.07397582 & -0.27747182 & -0.16488498\\\\\n",
       "  0.01466695 & -0.314434 & 0.29302254 & 0.35127656 & -0.49440274 & -0.52967746\\\\\n",
       "  -0.09228419 & -0.01415161 & 0.40830883 & -0.32631361\\\\\n",
       "  0.26285559 & -0.29930854 & -0.45706963 & -0.15647634 & -0.05737823 & -0.23012629\\\\\n",
       "  -0.60847117 & -0.3510804 & -0.31890093 & -0.19714561\\\\\n",
       "  0.37377201 & -0.31105415 & -0.38091994 & 0.16339642 & -0.1262192 & 0.27536074\\\\\n",
       "  -0.3313758 & 0.4804698 & -0.21202803 & -0.42144693\\\\\n",
       "  -0.34013277 & 0.11276248 & 0.26759922 & 0.12180065 & 0.19966202 & -0.01548439\\\\\n",
       "  -0.02853022 & -0.14923153 & -0.01801188 & -0.15739512\\\\\n",
       "  0.19861475 & -0.39130121 & 0.55115477 & -0.33904854 & 0.39796764 & -0.07370258\\\\\n",
       "  0.30652339 & -0.08047264 & 0.05561062 & 0.20133503\\\\\n",
       "  -0.06077192 & 0.33533555 & -0.16419492 & -0.24009795 & -0.11244063 & 0.30911755\\\\\n",
       "  0.23282971 & 0.25033092 & -0.25880567 & -0.03419037\\\\\n",
       "  0.00173498 & 0.61635887 & -0.31702433 & 0.35694919 & 0.5098117 & 0.36879458\\\\\n",
       "  0.21539925 & -0.18423139 & 0.24695105 & 0.45977086\\\\\n",
       "  -0.35593688 & -0.14457788 & 0.09392736 & -0.42261625 & -0.06890596 & -0.0143779\\\\\n",
       "  -0.23895025 & -0.28439204 & 0.35490908 & -0.49735336\\\\\n",
       "  -0.22532535 & 0.07510129 & -0.27807272 & 0.01470685 & -0.05808691 & 0.45137586\\\\\n",
       "  -0.03375488 & -0.05028915 & -0.15845922 & 0.28284644\\\\\n",
       "  -0.28838511 & -0.36931482 & 0.10273203 & 0.10170035 & 0.03645216 & -0.46027951\\\\\n",
       "  0.0412214 & 0.43563388 & -0.33769045 & 0.04942225\\\\\n",
       "  -0.42164589 & 0.25625082 & 0.22560574 & -0.3272851 & 0.14893969 & 0.35061706\\\\\n",
       "  -0.43030293 & -0.31168185 & 0.06757204 & 0.15734639\\\\\n",
       "  0.26608863 & -0.29728313 & -0.05520552 & -0.0415754 & -0.5831744 & -0.55717722\\\\\n",
       "  -0.09563414 & -0.35965327 & 0.40241177 & -0.18322603\\\\\n",
       "\\end{bmatrix} - 0.7\n",
       "\\begin{bmatrix}\n",
       "  0.76645542\\\\\n",
       "  0.5204683\\\\\n",
       "  0.33432094\\\\\n",
       "  0.20612137\\\\\n",
       "  0.82106327\\\\\n",
       "  0.43409122\\\\\n",
       "  0.78020377\\\\\n",
       "  0.58353045\\\\\n",
       "  0.46195261\\\\\n",
       "  0.93100041\\\\\n",
       "  0.81141113\\\\\n",
       "  0.30231968\\\\\n",
       "  0.54133898\\\\\n",
       "  0.2422903\\\\\n",
       "\\end{bmatrix} \\cdot \n",
       "\\begin{bmatrix}\n",
       "  0.00852646 & -0.04008528 & 0.15748616 & -0.24859748 & -0.00800811 & 0.02044663\\\\\n",
       "  0.0052899 & 0.01781706 & -0.05034136 & -0.01111872\\\\\n",
       "\\end{bmatrix}\\end{gather}"
      ],
      "text/plain": [
       "<IPython.core.display.Latex object>"
      ]
     },
     "metadata": {},
     "output_type": "display_data"
    },
    {
     "data": {
      "text/latex": [
       "B = B - \\lambda (\\nabla f_{custo})"
      ],
      "text/plain": [
       "<IPython.core.display.Latex object>"
      ]
     },
     "metadata": {},
     "output_type": "display_data"
    },
    {
     "data": {
      "text/latex": [
       "\\begin{gather}\n",
       "\\begin{bmatrix}\n",
       "  0.47868778 & 0.59061834 & 0.2012329 & -0.104637 & 0.02766084 & -0.20483248\\\\\n",
       "  0.39872796 & 0.31422327 & -0.21454519 & 0.26814302\\\\\n",
       "\\end{bmatrix} = \n",
       "\\begin{bmatrix}\n",
       "  0.48465631 & 0.56255864 & 0.31147321 & -0.27865524 & 0.02205517 & -0.19051984\\\\\n",
       "  0.40243089 & 0.32669521 & -0.24978414 & 0.26035991\\\\\n",
       "\\end{bmatrix} - 0.7\n",
       "\\begin{bmatrix}\n",
       "  0.00852646 & -0.04008528 & 0.15748616 & -0.24859748 & -0.00800811 & 0.02044663\\\\\n",
       "  0.0052899 & 0.01781706 & -0.05034136 & -0.01111872\\\\\n",
       "\\end{bmatrix}\\end{gather}"
      ],
      "text/plain": [
       "<IPython.core.display.Latex object>"
      ]
     },
     "metadata": {},
     "output_type": "display_data"
    },
    {
     "data": {
      "text/latex": [
       "Camada: 1"
      ],
      "text/plain": [
       "<IPython.core.display.Latex object>"
      ]
     },
     "metadata": {},
     "output_type": "display_data"
    },
    {
     "data": {
      "text/latex": [
       "\\frac{\\partial E}{\\partial X} = \\frac{\\partial E}{\\partial Y} \\sigma^{'}(X)"
      ],
      "text/plain": [
       "<IPython.core.display.Latex object>"
      ]
     },
     "metadata": {},
     "output_type": "display_data"
    },
    {
     "data": {
      "text/latex": [
       "\\begin{gather}\n",
       "\\begin{bmatrix}\n",
       "  -0.0111673 & 0.00373222 & -0.01179252 & -0.00234282 & -0.00824882 & 0.00058345\\\\\n",
       "  0.03068232 & 0.01122535 & -0.04463621 & 0.00669394 & -0.00595696 & 0.00378998\\\\\n",
       "  0.02384104 & -0.00294287\\\\\n",
       "\\end{bmatrix} = \n",
       "\\begin{bmatrix}\n",
       "  -0.06238664 & 0.01495393 & -0.05298807 & -0.0143173 & -0.0561456 & 0.00237506\\\\\n",
       "  0.17892042 & 0.04619056 & -0.1795847 & 0.10420426 & -0.0389285 & 0.01796859\\\\\n",
       "  0.09602054 & -0.01602994\\\\\n",
       "\\end{bmatrix} \\cdot  \\sigma^{'}(\n",
       "\\begin{bmatrix}\n",
       "  1.18840355 & 0.08191899 & -0.68870625 & -1.34846544 & 1.52356792 & -0.2651782\\\\\n",
       "  1.26685423 & 0.33728329 & -0.15248432 & 2.60215912 & 1.45920554 & -0.83627602\\\\\n",
       "  0.16573425 & -1.14016376\\\\\n",
       "\\end{bmatrix}) \\end{gather}"
      ],
      "text/plain": [
       "<IPython.core.display.Latex object>"
      ]
     },
     "metadata": {},
     "output_type": "display_data"
    },
    {
     "data": {
      "text/latex": [
       "Camada: 0"
      ],
      "text/plain": [
       "<IPython.core.display.Latex object>"
      ]
     },
     "metadata": {},
     "output_type": "display_data"
    },
    {
     "data": {
      "text/latex": [
       "\\frac{\\partial E}{\\partial X} = \\frac{\\partial E}{\\partial Y} W^T"
      ],
      "text/plain": [
       "<IPython.core.display.Latex object>"
      ]
     },
     "metadata": {},
     "output_type": "display_data"
    },
    {
     "data": {
      "text/latex": [
       "\n",
       "\\begin{bmatrix}\n",
       "  0.03247823 & -0.01374414 & -0.01778439 & 0.01762766 & 0.01227041 & -0.00720004\\\\\n",
       "  0.01562982\\\\\n",
       "\\end{bmatrix} = \n",
       "\\begin{bmatrix}\n",
       "  -0.0111673 & 0.00373222 & -0.01179252 & -0.00234282 & -0.00824882 & 0.00058345\\\\\n",
       "  0.03068232 & 0.01122535 & -0.04463621 & 0.00669394 & -0.00595696 & 0.00378998\\\\\n",
       "  0.02384104 & -0.00294287\\\\\n",
       "\\end{bmatrix} \\cdot \n",
       "\\begin{bmatrix}\n",
       "  -0.09906175 & 0.22368217 & -0.04405513 & 0.53984908 & 0.16707845 & 0.86490318\\\\\n",
       "  0.95050765\\\\\n",
       "  0.58150151 & -0.93434797 & -0.34089131 & 0.18065432 & -0.11353298 & -0.0431833\\\\\n",
       "  0.86410848\\\\\n",
       "  0.2299695 & -0.57424564 & -0.92700204 & 0.41338075 & 0.54845819 & 0.72113238\\\\\n",
       "  0.62311231\\\\\n",
       "  0.08162349 & -1.22408227 & -0.79511662 & 0.381143 & 0.8762554 & 0.43787734\\\\\n",
       "  1.06538307\\\\\n",
       "  0.40950424 & 0.01443383 & -0.14092469 & 0.56615364 & 0.03705396 & 0.61227472\\\\\n",
       "  0.40627741\\\\\n",
       "  0.44528109 & -0.05810848 & -0.70850814 & 0.27920925 & 0.52105137 & 0.73990648\\\\\n",
       "  0.39854686\\\\\n",
       "  0.07390769 & 0.21701064 & -0.11883265 & 0.66513237 & 0.21750816 & 0.56985028\\\\\n",
       "  0.18069323\\\\\n",
       "  -0.0485258 & 0.12497863 & -0.43566573 & 0.50442592 & 0.08063507 & 0.57742478\\\\\n",
       "  0.84676263\\\\\n",
       "  -0.35403864 & 0.28123427 & 0.20176719 & 0.10349661 & 0.05280111 & 0.059365\\\\\n",
       "  -0.08420918\\\\\n",
       "  0.83501533 & 0.12856092 & 0.03426248 & 0.91197449 & -0.02708035 & 0.53931506\\\\\n",
       "  0.95484156\\\\\n",
       "  0.56218532 & 0.31714008 & 0.51387265 & 0.06742854 & 0.00967995 & 0.752452\\\\\n",
       "  -0.02885396\\\\\n",
       "  0.75584772 & -0.55516548 & -0.39771108 & 0.08771886 & 0.45119899 & 0.32757068\\\\\n",
       "  0.1174423\\\\\n",
       "  0.6056389 & -0.49098644 & -0.48195551 & 0.28909996 & 0.72150807 & -0.13099881\\\\\n",
       "  0.48366591\\\\\n",
       "  0.62770542 & -0.70834135 & -0.95975245 & 0.38104952 & 0.27604456 & 0.60961162\\\\\n",
       "  0.46403413\\\\\n",
       "\\end{bmatrix}"
      ],
      "text/plain": [
       "<IPython.core.display.Latex object>"
      ]
     },
     "metadata": {},
     "output_type": "display_data"
    },
    {
     "data": {
      "text/latex": [
       "W = W - \\lambda (X^T \\cdot \\nabla f_{custo})"
      ],
      "text/plain": [
       "<IPython.core.display.Latex object>"
      ]
     },
     "metadata": {},
     "output_type": "display_data"
    },
    {
     "data": {
      "text/latex": [
       "\\begin{gather}\n",
       "\\begin{bmatrix}\n",
       "  -0.09124464 & 0.57888896 & 0.23822427 & 0.08326346 & 0.41527842 & 0.44487267\\\\\n",
       "  0.05243006 & -0.05638354 & -0.32279329 & 0.83032957 & 0.5663552 & 0.75319474\\\\\n",
       "  0.58895017 & 0.62976543\\\\\n",
       "  0.23149928 & -0.93696053 & -0.56599088 & -1.2224423 & 0.020208 & -0.0585169\\\\\n",
       "  0.19553302 & 0.11712088 & 0.31247962 & 0.12387516 & 0.32130995 & -0.55781846\\\\\n",
       "  -0.50767517 & -0.70628134\\\\\n",
       "  -0.03623802 & -0.34350386 & -0.91874728 & -0.79347665 & -0.13515052 & -0.70891655\\\\\n",
       "  -0.14031027 & -0.44352348 & 0.23301254 & 0.02957672 & 0.51804252 & -0.40036406\\\\\n",
       "  -0.49864424 & -0.95769244\\\\\n",
       "  0.54766619 & 0.17804177 & 0.42163552 & 0.38278297 & 0.57192781 & 0.27880083\\\\\n",
       "  0.64365474 & 0.49656818 & 0.13474196 & 0.90728874 & 0.07159841 & 0.08506587\\\\\n",
       "  0.27241123 & 0.38310953\\\\\n",
       "  0.16707845 & -0.11353298 & 0.54845819 & 0.8762554 & 0.03705396 & 0.52105137\\\\\n",
       "  0.21750816 & 0.08063507 & 0.05280111 & -0.02708035 & 0.00967995 & 0.45119899\\\\\n",
       "  0.72150807 & 0.27604456\\\\\n",
       "  0.86490318 & -0.0431833 & 0.72113238 & 0.43787734 & 0.61227472 & 0.73990648\\\\\n",
       "  0.56985028 & 0.57742478 & 0.059365 & 0.53931506 & 0.752452 & 0.32757068\\\\\n",
       "  -0.13099881 & 0.60961162\\\\\n",
       "  0.95832476 & 0.86149593 & 0.63136707 & 1.06702304 & 0.41205159 & 0.39813845\\\\\n",
       "  0.1592156 & 0.83890489 & -0.05296383 & 0.9501558 & -0.02468409 & 0.11478932\\\\\n",
       "  0.46697718 & 0.46609414\\\\\n",
       "\\end{bmatrix} = \n",
       "\\begin{bmatrix}\n",
       "  -0.09906175 & 0.58150151 & 0.2299695 & 0.08162349 & 0.40950424 & 0.44528109\\\\\n",
       "  0.07390769 & -0.0485258 & -0.35403864 & 0.83501533 & 0.56218532 & 0.75584772\\\\\n",
       "  0.6056389 & 0.62770542\\\\\n",
       "  0.22368217 & -0.93434797 & -0.57424564 & -1.22408227 & 0.01443383 & -0.05810848\\\\\n",
       "  0.21701064 & 0.12497863 & 0.28123427 & 0.12856092 & 0.31714008 & -0.55516548\\\\\n",
       "  -0.49098644 & -0.70834135\\\\\n",
       "  -0.04405513 & -0.34089131 & -0.92700204 & -0.79511662 & -0.14092469 & -0.70850814\\\\\n",
       "  -0.11883265 & -0.43566573 & 0.20176719 & 0.03426248 & 0.51387265 & -0.39771108\\\\\n",
       "  -0.48195551 & -0.95975245\\\\\n",
       "  0.53984908 & 0.18065432 & 0.41338075 & 0.381143 & 0.56615364 & 0.27920925\\\\\n",
       "  0.66513237 & 0.50442592 & 0.10349661 & 0.91197449 & 0.06742854 & 0.08771886\\\\\n",
       "  0.28909996 & 0.38104952\\\\\n",
       "  0.16707845 & -0.11353298 & 0.54845819 & 0.8762554 & 0.03705396 & 0.52105137\\\\\n",
       "  0.21750816 & 0.08063507 & 0.05280111 & -0.02708035 & 0.00967995 & 0.45119899\\\\\n",
       "  0.72150807 & 0.27604456\\\\\n",
       "  0.86490318 & -0.0431833 & 0.72113238 & 0.43787734 & 0.61227472 & 0.73990648\\\\\n",
       "  0.56985028 & 0.57742478 & 0.059365 & 0.53931506 & 0.752452 & 0.32757068\\\\\n",
       "  -0.13099881 & 0.60961162\\\\\n",
       "  0.95050765 & 0.86410848 & 0.62311231 & 1.06538307 & 0.40627741 & 0.39854686\\\\\n",
       "  0.18069323 & 0.84676263 & -0.08420918 & 0.95484156 & -0.02885396 & 0.1174423\\\\\n",
       "  0.48366591 & 0.46403413\\\\\n",
       "\\end{bmatrix} - 0.7\n",
       "\\begin{bmatrix}\n",
       "  1\\\\\n",
       "  1\\\\\n",
       "  1\\\\\n",
       "  1\\\\\n",
       "  0\\\\\n",
       "  0\\\\\n",
       "  1\\\\\n",
       "\\end{bmatrix} \\cdot \n",
       "\\begin{bmatrix}\n",
       "  -0.0111673 & 0.00373222 & -0.01179252 & -0.00234282 & -0.00824882 & 0.00058345\\\\\n",
       "  0.03068232 & 0.01122535 & -0.04463621 & 0.00669394 & -0.00595696 & 0.00378998\\\\\n",
       "  0.02384104 & -0.00294287\\\\\n",
       "\\end{bmatrix}\\end{gather}"
      ],
      "text/plain": [
       "<IPython.core.display.Latex object>"
      ]
     },
     "metadata": {},
     "output_type": "display_data"
    },
    {
     "data": {
      "text/latex": [
       "B = B - \\lambda (\\nabla f_{custo})"
      ],
      "text/plain": [
       "<IPython.core.display.Latex object>"
      ]
     },
     "metadata": {},
     "output_type": "display_data"
    },
    {
     "data": {
      "text/latex": [
       "\\begin{gather}\n",
       "\\begin{bmatrix}\n",
       "  -0.37470135 & -0.2717186 & -0.44566636 & -0.85577614 & 0.27389766 & -0.62200719\\\\\n",
       "  0.22746533 & -0.66255011 & -0.26948923 & -0.26718142 & 0.03160278 & -0.84706133\\\\\n",
       "  -0.2564173 & -0.94279904\\\\\n",
       "\\end{bmatrix} = \n",
       "\\begin{bmatrix}\n",
       "  -0.38251846 & -0.26910604 & -0.45392113 & -0.85741611 & 0.26812348 & -0.62159878\\\\\n",
       "  0.24894295 & -0.65469236 & -0.30073458 & -0.26249566 & 0.02743291 & -0.84440835\\\\\n",
       "  -0.23972857 & -0.94485905\\\\\n",
       "\\end{bmatrix} - 0.7\n",
       "\\begin{bmatrix}\n",
       "  -0.0111673 & 0.00373222 & -0.01179252 & -0.00234282 & -0.00824882 & 0.00058345\\\\\n",
       "  0.03068232 & 0.01122535 & -0.04463621 & 0.00669394 & -0.00595696 & 0.00378998\\\\\n",
       "  0.02384104 & -0.00294287\\\\\n",
       "\\end{bmatrix}\\end{gather}"
      ],
      "text/plain": [
       "<IPython.core.display.Latex object>"
      ]
     },
     "metadata": {},
     "output_type": "display_data"
    },
    {
     "data": {
      "text/latex": [
       "Camada: 0"
      ],
      "text/plain": [
       "<IPython.core.display.Latex object>"
      ]
     },
     "metadata": {},
     "output_type": "display_data"
    },
    {
     "data": {
      "text/latex": [
       "Y = Xw + b"
      ],
      "text/plain": [
       "<IPython.core.display.Latex object>"
      ]
     },
     "metadata": {},
     "output_type": "display_data"
    },
    {
     "data": {
      "text/latex": [
       "\\begin{gather}\n",
       "\\begin{bmatrix}\n",
       "  1.64378785 & -0.73387036 & -0.57790508 & -1.36679472 & 1.18328145 & -0.25139571\\\\\n",
       "  1.01175396 & 0.42737695 & 0.28240409 & 1.37574132 & 1.59872316 & -1.36288386\\\\\n",
       "  -0.92675835 & -1.53106706\\\\\n",
       "\\end{bmatrix} = \n",
       "\\begin{bmatrix}\n",
       "  0 & 1 & 1 & 0 & 0 & 1 & 1\\\\\n",
       "\\end{bmatrix} \\cdot \n",
       "\\begin{bmatrix}\n",
       "  -0.09124464 & 0.57888896 & 0.23822427 & 0.08326346 & 0.41527842 & 0.44487267\\\\\n",
       "  0.05243006 & -0.05638354 & -0.32279329 & 0.83032957 & 0.5663552 & 0.75319474\\\\\n",
       "  0.58895017 & 0.62976543\\\\\n",
       "  0.23149928 & -0.93696053 & -0.56599088 & -1.2224423 & 0.020208 & -0.0585169\\\\\n",
       "  0.19553302 & 0.11712088 & 0.31247962 & 0.12387516 & 0.32130995 & -0.55781846\\\\\n",
       "  -0.50767517 & -0.70628134\\\\\n",
       "  -0.03623802 & -0.34350386 & -0.91874728 & -0.79347665 & -0.13515052 & -0.70891655\\\\\n",
       "  -0.14031027 & -0.44352348 & 0.23301254 & 0.02957672 & 0.51804252 & -0.40036406\\\\\n",
       "  -0.49864424 & -0.95769244\\\\\n",
       "  0.54766619 & 0.17804177 & 0.42163552 & 0.38278297 & 0.57192781 & 0.27880083\\\\\n",
       "  0.64365474 & 0.49656818 & 0.13474196 & 0.90728874 & 0.07159841 & 0.08506587\\\\\n",
       "  0.27241123 & 0.38310953\\\\\n",
       "  0.16707845 & -0.11353298 & 0.54845819 & 0.8762554 & 0.03705396 & 0.52105137\\\\\n",
       "  0.21750816 & 0.08063507 & 0.05280111 & -0.02708035 & 0.00967995 & 0.45119899\\\\\n",
       "  0.72150807 & 0.27604456\\\\\n",
       "  0.86490318 & -0.0431833 & 0.72113238 & 0.43787734 & 0.61227472 & 0.73990648\\\\\n",
       "  0.56985028 & 0.57742478 & 0.059365 & 0.53931506 & 0.752452 & 0.32757068\\\\\n",
       "  -0.13099881 & 0.60961162\\\\\n",
       "  0.95832476 & 0.86149593 & 0.63136707 & 1.06702304 & 0.41205159 & 0.39813845\\\\\n",
       "  0.1592156 & 0.83890489 & -0.05296383 & 0.9501558 & -0.02468409 & 0.11478932\\\\\n",
       "  0.46697718 & 0.46609414\\\\\n",
       "\\end{bmatrix} + \n",
       "\\begin{bmatrix}\n",
       "  -0.37470135 & -0.2717186 & -0.44566636 & -0.85577614 & 0.27389766 & -0.62200719\\\\\n",
       "  0.22746533 & -0.66255011 & -0.26948923 & -0.26718142 & 0.03160278 & -0.84706133\\\\\n",
       "  -0.2564173 & -0.94279904\\\\\n",
       "\\end{bmatrix}\\end{gather}"
      ],
      "text/plain": [
       "<IPython.core.display.Latex object>"
      ]
     },
     "metadata": {},
     "output_type": "display_data"
    },
    {
     "data": {
      "text/latex": [
       "Camada: 1"
      ],
      "text/plain": [
       "<IPython.core.display.Latex object>"
      ]
     },
     "metadata": {},
     "output_type": "display_data"
    },
    {
     "data": {
      "text/latex": [
       "Y = \\sigma(X)"
      ],
      "text/plain": [
       "<IPython.core.display.Latex object>"
      ]
     },
     "metadata": {},
     "output_type": "display_data"
    },
    {
     "data": {
      "text/latex": [
       "\\begin{gather}\n",
       "\\begin{bmatrix}\n",
       "  0.83804969 & 0.32434598 & 0.35941478 & 0.2031382 & 0.7655373 & 0.43748\\\\\n",
       "  0.73336326 & 0.60524713 & 0.57013552 & 0.79830617 & 0.83183985 & 0.203772\\\\\n",
       "  0.28358284 & 0.17783762\\\\\n",
       "\\end{bmatrix} = \\sigma(\n",
       "\\begin{bmatrix}\n",
       "  1.64378785 & -0.73387036 & -0.57790508 & -1.36679472 & 1.18328145 & -0.25139571\\\\\n",
       "  1.01175396 & 0.42737695 & 0.28240409 & 1.37574132 & 1.59872316 & -1.36288386\\\\\n",
       "  -0.92675835 & -1.53106706\\\\\n",
       "\\end{bmatrix}) \\end{gather}"
      ],
      "text/plain": [
       "<IPython.core.display.Latex object>"
      ]
     },
     "metadata": {},
     "output_type": "display_data"
    },
    {
     "data": {
      "text/latex": [
       "Camada: 2"
      ],
      "text/plain": [
       "<IPython.core.display.Latex object>"
      ]
     },
     "metadata": {},
     "output_type": "display_data"
    },
    {
     "data": {
      "text/latex": [
       "Y = Xw + b"
      ],
      "text/plain": [
       "<IPython.core.display.Latex object>"
      ]
     },
     "metadata": {},
     "output_type": "display_data"
    },
    {
     "data": {
      "text/latex": [
       "\\begin{gather}\n",
       "\\begin{bmatrix}\n",
       "  0.10085305 & 0.09755305 & 0.01482333 & 0.91775659 & -0.00982828 & 0.04205\\\\\n",
       "  0.25253544 & 0.09123926 & -0.01571018 & 0.1289152\\\\\n",
       "\\end{bmatrix} = \n",
       "\\begin{bmatrix}\n",
       "  0.83804969 & 0.32434598 & 0.35941478 & 0.2031382 & 0.7655373 & 0.43748\\\\\n",
       "  0.73336326 & 0.60524713 & 0.57013552 & 0.79830617 & 0.83183985 & 0.203772\\\\\n",
       "  0.28358284 & 0.17783762\\\\\n",
       "\\end{bmatrix} \\cdot \n",
       "\\begin{bmatrix}\n",
       "  -1.25737280e-01 & -3.72654352e-01 & 3.24534107e-01 & 6.79986691e-01\\\\\n",
       "  -2.87658336e-01 & -2.96168635e-01 & 2.82254940e-01 & -3.58782452e-02\\\\\n",
       "  4.44208624e-02 & 2.17633837e-01\\\\\n",
       "  1.45592694e-01 & -2.62268837e-01 & 2.61421330e-01 & 3.25471994e-01\\\\\n",
       "  7.26533293e-02 & -9.44207377e-02 & -2.60873352e-01 & -8.04670667e-02\\\\\n",
       "  -2.59131064e-01 & -1.60834123e-01\\\\\n",
       "  1.26715528e-02 & -3.05053059e-01 & 2.56166895e-01 & 4.09454497e-01\\\\\n",
       "  -4.92528649e-01 & -5.34462477e-01 & -9.35221560e-02 & -1.83212384e-02\\\\\n",
       "  4.20089953e-01 & -3.23711555e-01\\\\\n",
       "  2.61625350e-01 & -2.93524840e-01 & -4.79792515e-01 & -1.20607461e-01\\\\\n",
       "  -5.62227759e-02 & -2.33076427e-01 & -6.09234425e-01 & -3.53651136e-01\\\\\n",
       "  -3.11637424e-01 & -1.95541350e-01\\\\\n",
       "  3.68871473e-01 & -2.88015358e-01 & -4.71434215e-01 & 3.06276407e-01\\\\\n",
       "  -1.21616582e-01 & 2.63609163e-01 & -3.34416141e-01 & 4.70229545e-01\\\\\n",
       "  -1.83094621e-01 & -4.15056511e-01\\\\\n",
       "  -3.42723652e-01 & 1.24942952e-01 & 2.19744868e-01 & 1.97340437e-01\\\\\n",
       "  2.02095395e-01 & -2.16973827e-02 & -3.01376251e-02 & -1.54645491e-01\\\\\n",
       "  -2.71496260e-03 & -1.54016545e-01\\\\\n",
       "  1.93958089e-01 & -3.69408925e-01 & 4.65144857e-01 & -2.03278860e-01\\\\\n",
       "  4.02341214e-01 & -8.48693558e-02 & 3.03634353e-01 & -9.02032924e-02\\\\\n",
       "  8.31041827e-02 & 2.07407437e-01\\\\\n",
       "  -6.42547298e-02 & 3.51709243e-01 & -2.28523499e-01 & -1.38553009e-01\\\\\n",
       "  -1.09169548e-01 & 3.00765687e-01 & 2.30668939e-01 & 2.43053168e-01\\\\\n",
       "  -2.38242670e-01 & -2.96486926e-02\\\\\n",
       "  -1.02219394e-03 & 6.29321123e-01 & -3.67950135e-01 & 4.37337375e-01\\\\\n",
       "  5.12401261e-01 & 3.62182817e-01 & 2.13688671e-01 & -1.89992835e-01\\\\\n",
       "  2.63229774e-01 & 4.63366284e-01\\\\\n",
       "  -3.61493575e-01 & -1.18454290e-01 & -8.70641660e-03 & -2.60605195e-01\\\\\n",
       "  -6.36870773e-02 & -2.77029735e-02 & -2.42397685e-01 & -2.96003418e-01\\\\\n",
       "  3.87716560e-01 & -4.90107291e-01\\\\\n",
       "  -2.30168273e-01 & 9.78692420e-02 & -3.67522934e-01 & 1.55907182e-01\\\\\n",
       "  -5.35384065e-02 & 4.39762431e-01 & -3.67594751e-02 & -6.04090249e-02\\\\\n",
       "  -1.29865938e-01 & 2.89161738e-01\\\\\n",
       "  -2.90189510e-01 & -3.60831825e-01 & 6.94042105e-02 & 1.54309490e-01\\\\\n",
       "  3.81468653e-02 & -4.64606499e-01 & 4.01019286e-02 & 4.31863364e-01\\\\\n",
       "  -3.27037023e-01 & 5.17752318e-02\\\\\n",
       "  -4.24876888e-01 & 2.71440633e-01 & 1.65928357e-01 & -2.33082242e-01\\\\\n",
       "  1.51974264e-01 & 3.42869066e-01 & -4.32307467e-01 & -3.18433399e-01\\\\\n",
       "  8.66482622e-02 & 1.61559689e-01\\\\\n",
       "  2.64642518e-01 & -2.90484534e-01 & -8.19156778e-02 & 5.87532814e-04\\\\\n",
       "  -5.81816197e-01 & -5.60645036e-01 & -9.65313216e-02 & -3.62675101e-01\\\\\n",
       "  4.10949828e-01 & -1.81340255e-01\\\\\n",
       "\\end{bmatrix} + \n",
       "\\begin{bmatrix}\n",
       "  0.47868778 & 0.59061834 & 0.2012329 & -0.104637 & 0.02766084 & -0.20483248\\\\\n",
       "  0.39872796 & 0.31422327 & -0.21454519 & 0.26814302\\\\\n",
       "\\end{bmatrix}\\end{gather}"
      ],
      "text/plain": [
       "<IPython.core.display.Latex object>"
      ]
     },
     "metadata": {},
     "output_type": "display_data"
    },
    {
     "data": {
      "text/latex": [
       "f_{custo}(\n",
       "\\begin{bmatrix}\n",
       "  0 & 0 & 0 & 0 & 1 & 0 & 0 & 0 & 0 & 0\\\\\n",
       "\\end{bmatrix},\n",
       "\\begin{bmatrix}\n",
       "  0.10085305 & 0.09755305 & 0.01482333 & 0.91775659 & -0.00982828 & 0.04205\\\\\n",
       "  0.25253544 & 0.09123926 & -0.01571018 & 0.1289152\\\\\n",
       "\\end{bmatrix}) = \n",
       "\\begin{bmatrix}\n",
       "  0.19726708617828015\\\\\n",
       "\\end{bmatrix}"
      ],
      "text/plain": [
       "<IPython.core.display.Latex object>"
      ]
     },
     "metadata": {},
     "output_type": "display_data"
    },
    {
     "data": {
      "text/latex": [
       "\\nabla = \\frac{\\partial E}{\\partial Y} = \n",
       "\\begin{bmatrix}\n",
       "  0.02017061 & 0.01951061 & 0.00296467 & 0.18355132 & -0.20196566 & 0.00841\\\\\n",
       "  0.05050709 & 0.01824785 & -0.00314204 & 0.02578304\\\\\n",
       "\\end{bmatrix}"
      ],
      "text/plain": [
       "<IPython.core.display.Latex object>"
      ]
     },
     "metadata": {},
     "output_type": "display_data"
    },
    {
     "data": {
      "text/latex": [
       "Camada: 2"
      ],
      "text/plain": [
       "<IPython.core.display.Latex object>"
      ]
     },
     "metadata": {},
     "output_type": "display_data"
    },
    {
     "data": {
      "text/latex": [
       "\\frac{\\partial E}{\\partial X} = \\frac{\\partial E}{\\partial Y} W^T"
      ],
      "text/plain": [
       "<IPython.core.display.Latex object>"
      ]
     },
     "metadata": {},
     "output_type": "display_data"
    },
    {
     "data": {
      "text/latex": [
       "\n",
       "\\begin{bmatrix}\n",
       "  0.19064687 & 0.02489106 & 0.15047416 & -0.0559014 & 0.06498429 & -0.01690706\\\\\n",
       "  -0.10242495 & 0.02010461 & 0.00944507 & -0.07633218 & 0.04421013 & 0.01629292\\\\\n",
       "  -0.09712681 & 0.09486704\\\\\n",
       "\\end{bmatrix} = \n",
       "\\begin{bmatrix}\n",
       "  0.02017061 & 0.01951061 & 0.00296467 & 0.18355132 & -0.20196566 & 0.00841\\\\\n",
       "  0.05050709 & 0.01824785 & -0.00314204 & 0.02578304\\\\\n",
       "\\end{bmatrix} \\cdot \n",
       "\\begin{bmatrix}\n",
       "  -1.25737280e-01 & 1.45592694e-01 & 1.26715528e-02 & 2.61625350e-01\\\\\n",
       "  3.68871473e-01 & -3.42723652e-01 & 1.93958089e-01 & -6.42547298e-02\\\\\n",
       "  -1.02219394e-03 & -3.61493575e-01 & -2.30168273e-01 & -2.90189510e-01\\\\\n",
       "  -4.24876888e-01 & 2.64642518e-01\\\\\n",
       "  -3.72654352e-01 & -2.62268837e-01 & -3.05053059e-01 & -2.93524840e-01\\\\\n",
       "  -2.88015358e-01 & 1.24942952e-01 & -3.69408925e-01 & 3.51709243e-01\\\\\n",
       "  6.29321123e-01 & -1.18454290e-01 & 9.78692420e-02 & -3.60831825e-01\\\\\n",
       "  2.71440633e-01 & -2.90484534e-01\\\\\n",
       "  3.24534107e-01 & 2.61421330e-01 & 2.56166895e-01 & -4.79792515e-01\\\\\n",
       "  -4.71434215e-01 & 2.19744868e-01 & 4.65144857e-01 & -2.28523499e-01\\\\\n",
       "  -3.67950135e-01 & -8.70641660e-03 & -3.67522934e-01 & 6.94042105e-02\\\\\n",
       "  1.65928357e-01 & -8.19156778e-02\\\\\n",
       "  6.79986691e-01 & 3.25471994e-01 & 4.09454497e-01 & -1.20607461e-01\\\\\n",
       "  3.06276407e-01 & 1.97340437e-01 & -2.03278860e-01 & -1.38553009e-01\\\\\n",
       "  4.37337375e-01 & -2.60605195e-01 & 1.55907182e-01 & 1.54309490e-01\\\\\n",
       "  -2.33082242e-01 & 5.87532814e-04\\\\\n",
       "  -2.87658336e-01 & 7.26533293e-02 & -4.92528649e-01 & -5.62227759e-02\\\\\n",
       "  -1.21616582e-01 & 2.02095395e-01 & 4.02341214e-01 & -1.09169548e-01\\\\\n",
       "  5.12401261e-01 & -6.36870773e-02 & -5.35384065e-02 & 3.81468653e-02\\\\\n",
       "  1.51974264e-01 & -5.81816197e-01\\\\\n",
       "  -2.96168635e-01 & -9.44207377e-02 & -5.34462477e-01 & -2.33076427e-01\\\\\n",
       "  2.63609163e-01 & -2.16973827e-02 & -8.48693558e-02 & 3.00765687e-01\\\\\n",
       "  3.62182817e-01 & -2.77029735e-02 & 4.39762431e-01 & -4.64606499e-01\\\\\n",
       "  3.42869066e-01 & -5.60645036e-01\\\\\n",
       "  2.82254940e-01 & -2.60873352e-01 & -9.35221560e-02 & -6.09234425e-01\\\\\n",
       "  -3.34416141e-01 & -3.01376251e-02 & 3.03634353e-01 & 2.30668939e-01\\\\\n",
       "  2.13688671e-01 & -2.42397685e-01 & -3.67594751e-02 & 4.01019286e-02\\\\\n",
       "  -4.32307467e-01 & -9.65313216e-02\\\\\n",
       "  -3.58782452e-02 & -8.04670667e-02 & -1.83212384e-02 & -3.53651136e-01\\\\\n",
       "  4.70229545e-01 & -1.54645491e-01 & -9.02032924e-02 & 2.43053168e-01\\\\\n",
       "  -1.89992835e-01 & -2.96003418e-01 & -6.04090249e-02 & 4.31863364e-01\\\\\n",
       "  -3.18433399e-01 & -3.62675101e-01\\\\\n",
       "  4.44208624e-02 & -2.59131064e-01 & 4.20089953e-01 & -3.11637424e-01\\\\\n",
       "  -1.83094621e-01 & -2.71496260e-03 & 8.31041827e-02 & -2.38242670e-01\\\\\n",
       "  2.63229774e-01 & 3.87716560e-01 & -1.29865938e-01 & -3.27037023e-01\\\\\n",
       "  8.66482622e-02 & 4.10949828e-01\\\\\n",
       "  2.17633837e-01 & -1.60834123e-01 & -3.23711555e-01 & -1.95541350e-01\\\\\n",
       "  -4.15056511e-01 & -1.54016545e-01 & 2.07407437e-01 & -2.96486926e-02\\\\\n",
       "  4.63366284e-01 & -4.90107291e-01 & 2.89161738e-01 & 5.17752318e-02\\\\\n",
       "  1.61559689e-01 & -1.81340255e-01\\\\\n",
       "\\end{bmatrix}"
      ],
      "text/plain": [
       "<IPython.core.display.Latex object>"
      ]
     },
     "metadata": {},
     "output_type": "display_data"
    },
    {
     "data": {
      "text/latex": [
       "W = W - \\lambda (X^T \\cdot \\nabla f_{custo})"
      ],
      "text/plain": [
       "<IPython.core.display.Latex object>"
      ]
     },
     "metadata": {},
     "output_type": "display_data"
    },
    {
     "data": {
      "text/latex": [
       "\\begin{gather}\n",
       "\\begin{bmatrix}\n",
       "  -0.13757006 & -0.38409995 & 0.32279493 & 0.5723091 & -0.16917826 & -0.30110223\\\\\n",
       "  0.25262573 & -0.04658307 & 0.04626409 & 0.20250861\\\\\n",
       "  0.14101311 & -0.26669857 & 0.26074823 & 0.2837981 & 0.11850805 & -0.09633016\\\\\n",
       "  -0.27234059 & -0.0846101 & -0.25841769 & -0.16668796\\\\\n",
       "  0.00759682 & -0.30996174 & 0.25542101 & 0.36327476 & -0.44171604 & -0.53657835\\\\\n",
       "  -0.10622925 & -0.02291222 & 0.42088046 & -0.33019832\\\\\n",
       "  0.25875715 & -0.29629918 & -0.48021408 & -0.14670786 & -0.02750392 & -0.2342723\\\\\n",
       "  -0.61641637 & -0.35624592 & -0.31119064 & -0.19920761\\\\\n",
       "  0.35806253 & -0.29847063 & -0.47302291 & 0.20791564 & -0.01338801 & 0.25910244\\\\\n",
       "  -0.36148168 & 0.46045096 & -0.18141088 & -0.42887303\\\\\n",
       "  -0.34890062 & 0.1189681 & 0.21883698 & 0.14113042 & 0.26394455 & -0.02427283\\\\\n",
       "  -0.04560471 & -0.16023364 & -0.00175276 & -0.16191224\\\\\n",
       "  0.18360342 & -0.37942478 & 0.46362293 & -0.29750571 & 0.50602115 & -0.08918667\\\\\n",
       "  0.27770632 & -0.09957091 & 0.08471716 & 0.1941716\\\\\n",
       "  -0.07280047 & 0.34344312 & -0.22977955 & -0.21631875 & -0.02360215 & 0.2972026\\\\\n",
       "  0.20927045 & 0.23532205 & -0.23691147 & -0.04057227\\\\\n",
       "  -0.00907218 & 0.62153454 & -0.36913332 & 0.36408299 & 0.59300472 & 0.35882643\\\\\n",
       "  0.19353155 & -0.19727546 & 0.26448374 & 0.45307641\\\\\n",
       "  -0.3727652 & -0.1293571 & -0.01036311 & -0.3631763 & 0.04917422 & -0.0324026\\\\\n",
       "  -0.27062177 & -0.30620058 & 0.38947237 & -0.50451522\\\\\n",
       "  -0.24191337 & 0.08650845 & -0.36924922 & 0.04902747 & 0.06406375 & 0.43486539\\\\\n",
       "  -0.06616914 & -0.07103453 & -0.12803637 & 0.27414859\\\\\n",
       "  -0.29306665 & -0.36361483 & 0.06898133 & 0.12812766 & 0.06695533 & -0.46580611\\\\\n",
       "  0.03289758 & 0.42926048 & -0.32658884 & 0.04809753\\\\\n",
       "  -0.42888092 & 0.26756762 & 0.16533985 & -0.26951864 & 0.19206606 & 0.34119961\\\\\n",
       "  -0.44233353 & -0.32205574 & 0.08727198 & 0.15644155\\\\\n",
       "  0.26213155 & -0.29291334 & -0.08228474 & -0.0222621 & -0.55667423 & -0.56169197\\\\\n",
       "  -0.10281876 & -0.36494671 & 0.41134097 & -0.18454989\\\\\n",
       "\\end{bmatrix} = \n",
       "\\begin{bmatrix}\n",
       "  -1.25737280e-01 & -3.72654352e-01 & 3.24534107e-01 & 6.79986691e-01\\\\\n",
       "  -2.87658336e-01 & -2.96168635e-01 & 2.82254940e-01 & -3.58782452e-02\\\\\n",
       "  4.44208624e-02 & 2.17633837e-01\\\\\n",
       "  1.45592694e-01 & -2.62268837e-01 & 2.61421330e-01 & 3.25471994e-01\\\\\n",
       "  7.26533293e-02 & -9.44207377e-02 & -2.60873352e-01 & -8.04670667e-02\\\\\n",
       "  -2.59131064e-01 & -1.60834123e-01\\\\\n",
       "  1.26715528e-02 & -3.05053059e-01 & 2.56166895e-01 & 4.09454497e-01\\\\\n",
       "  -4.92528649e-01 & -5.34462477e-01 & -9.35221560e-02 & -1.83212384e-02\\\\\n",
       "  4.20089953e-01 & -3.23711555e-01\\\\\n",
       "  2.61625350e-01 & -2.93524840e-01 & -4.79792515e-01 & -1.20607461e-01\\\\\n",
       "  -5.62227759e-02 & -2.33076427e-01 & -6.09234425e-01 & -3.53651136e-01\\\\\n",
       "  -3.11637424e-01 & -1.95541350e-01\\\\\n",
       "  3.68871473e-01 & -2.88015358e-01 & -4.71434215e-01 & 3.06276407e-01\\\\\n",
       "  -1.21616582e-01 & 2.63609163e-01 & -3.34416141e-01 & 4.70229545e-01\\\\\n",
       "  -1.83094621e-01 & -4.15056511e-01\\\\\n",
       "  -3.42723652e-01 & 1.24942952e-01 & 2.19744868e-01 & 1.97340437e-01\\\\\n",
       "  2.02095395e-01 & -2.16973827e-02 & -3.01376251e-02 & -1.54645491e-01\\\\\n",
       "  -2.71496260e-03 & -1.54016545e-01\\\\\n",
       "  1.93958089e-01 & -3.69408925e-01 & 4.65144857e-01 & -2.03278860e-01\\\\\n",
       "  4.02341214e-01 & -8.48693558e-02 & 3.03634353e-01 & -9.02032924e-02\\\\\n",
       "  8.31041827e-02 & 2.07407437e-01\\\\\n",
       "  -6.42547298e-02 & 3.51709243e-01 & -2.28523499e-01 & -1.38553009e-01\\\\\n",
       "  -1.09169548e-01 & 3.00765687e-01 & 2.30668939e-01 & 2.43053168e-01\\\\\n",
       "  -2.38242670e-01 & -2.96486926e-02\\\\\n",
       "  -1.02219394e-03 & 6.29321123e-01 & -3.67950135e-01 & 4.37337375e-01\\\\\n",
       "  5.12401261e-01 & 3.62182817e-01 & 2.13688671e-01 & -1.89992835e-01\\\\\n",
       "  2.63229774e-01 & 4.63366284e-01\\\\\n",
       "  -3.61493575e-01 & -1.18454290e-01 & -8.70641660e-03 & -2.60605195e-01\\\\\n",
       "  -6.36870773e-02 & -2.77029735e-02 & -2.42397685e-01 & -2.96003418e-01\\\\\n",
       "  3.87716560e-01 & -4.90107291e-01\\\\\n",
       "  -2.30168273e-01 & 9.78692420e-02 & -3.67522934e-01 & 1.55907182e-01\\\\\n",
       "  -5.35384065e-02 & 4.39762431e-01 & -3.67594751e-02 & -6.04090249e-02\\\\\n",
       "  -1.29865938e-01 & 2.89161738e-01\\\\\n",
       "  -2.90189510e-01 & -3.60831825e-01 & 6.94042105e-02 & 1.54309490e-01\\\\\n",
       "  3.81468653e-02 & -4.64606499e-01 & 4.01019286e-02 & 4.31863364e-01\\\\\n",
       "  -3.27037023e-01 & 5.17752318e-02\\\\\n",
       "  -4.24876888e-01 & 2.71440633e-01 & 1.65928357e-01 & -2.33082242e-01\\\\\n",
       "  1.51974264e-01 & 3.42869066e-01 & -4.32307467e-01 & -3.18433399e-01\\\\\n",
       "  8.66482622e-02 & 1.61559689e-01\\\\\n",
       "  2.64642518e-01 & -2.90484534e-01 & -8.19156778e-02 & 5.87532814e-04\\\\\n",
       "  -5.81816197e-01 & -5.60645036e-01 & -9.65313216e-02 & -3.62675101e-01\\\\\n",
       "  4.10949828e-01 & -1.81340255e-01\\\\\n",
       "\\end{bmatrix} - 0.7\n",
       "\\begin{bmatrix}\n",
       "  0.83804969\\\\\n",
       "  0.32434598\\\\\n",
       "  0.35941478\\\\\n",
       "  0.2031382\\\\\n",
       "  0.7655373\\\\\n",
       "  0.43748\\\\\n",
       "  0.73336326\\\\\n",
       "  0.60524713\\\\\n",
       "  0.57013552\\\\\n",
       "  0.79830617\\\\\n",
       "  0.83183985\\\\\n",
       "  0.203772\\\\\n",
       "  0.28358284\\\\\n",
       "  0.17783762\\\\\n",
       "\\end{bmatrix} \\cdot \n",
       "\\begin{bmatrix}\n",
       "  0.02017061 & 0.01951061 & 0.00296467 & 0.18355132 & -0.20196566 & 0.00841\\\\\n",
       "  0.05050709 & 0.01824785 & -0.00314204 & 0.02578304\\\\\n",
       "\\end{bmatrix}\\end{gather}"
      ],
      "text/plain": [
       "<IPython.core.display.Latex object>"
      ]
     },
     "metadata": {},
     "output_type": "display_data"
    },
    {
     "data": {
      "text/latex": [
       "B = B - \\lambda (\\nabla f_{custo})"
      ],
      "text/plain": [
       "<IPython.core.display.Latex object>"
      ]
     },
     "metadata": {},
     "output_type": "display_data"
    },
    {
     "data": {
      "text/latex": [
       "\\begin{gather}\n",
       "\\begin{bmatrix}\n",
       "  0.46456836 & 0.57696092 & 0.19915763 & -0.23312293 & 0.1690368 & -0.21071948\\\\\n",
       "  0.363373 & 0.30144978 & -0.21234577 & 0.25009489\\\\\n",
       "\\end{bmatrix} = \n",
       "\\begin{bmatrix}\n",
       "  0.47868778 & 0.59061834 & 0.2012329 & -0.104637 & 0.02766084 & -0.20483248\\\\\n",
       "  0.39872796 & 0.31422327 & -0.21454519 & 0.26814302\\\\\n",
       "\\end{bmatrix} - 0.7\n",
       "\\begin{bmatrix}\n",
       "  0.02017061 & 0.01951061 & 0.00296467 & 0.18355132 & -0.20196566 & 0.00841\\\\\n",
       "  0.05050709 & 0.01824785 & -0.00314204 & 0.02578304\\\\\n",
       "\\end{bmatrix}\\end{gather}"
      ],
      "text/plain": [
       "<IPython.core.display.Latex object>"
      ]
     },
     "metadata": {},
     "output_type": "display_data"
    },
    {
     "data": {
      "text/latex": [
       "Camada: 1"
      ],
      "text/plain": [
       "<IPython.core.display.Latex object>"
      ]
     },
     "metadata": {},
     "output_type": "display_data"
    },
    {
     "data": {
      "text/latex": [
       "\\frac{\\partial E}{\\partial X} = \\frac{\\partial E}{\\partial Y} \\sigma^{'}(X)"
      ],
      "text/plain": [
       "<IPython.core.display.Latex object>"
      ]
     },
     "metadata": {},
     "output_type": "display_data"
    },
    {
     "data": {
      "text/latex": [
       "\\begin{gather}\n",
       "\\begin{bmatrix}\n",
       "  0.02587505 & 0.00545477 & 0.03464454 & -0.00904893 & 0.01166403 & -0.00416068\\\\\n",
       "  -0.02002834 & 0.00480345 & 0.00231481 & -0.01229051 & 0.00618421 & 0.00264351\\\\\n",
       "  -0.01973263 & 0.01387064\\\\\n",
       "\\end{bmatrix} = \n",
       "\\begin{bmatrix}\n",
       "  0.19064687 & 0.02489106 & 0.15047416 & -0.0559014 & 0.06498429 & -0.01690706\\\\\n",
       "  -0.10242495 & 0.02010461 & 0.00944507 & -0.07633218 & 0.04421013 & 0.01629292\\\\\n",
       "  -0.09712681 & 0.09486704\\\\\n",
       "\\end{bmatrix} \\cdot  \\sigma^{'}(\n",
       "\\begin{bmatrix}\n",
       "  1.64378785 & -0.73387036 & -0.57790508 & -1.36679472 & 1.18328145 & -0.25139571\\\\\n",
       "  1.01175396 & 0.42737695 & 0.28240409 & 1.37574132 & 1.59872316 & -1.36288386\\\\\n",
       "  -0.92675835 & -1.53106706\\\\\n",
       "\\end{bmatrix}) \\end{gather}"
      ],
      "text/plain": [
       "<IPython.core.display.Latex object>"
      ]
     },
     "metadata": {},
     "output_type": "display_data"
    },
    {
     "data": {
      "text/latex": [
       "Camada: 0"
      ],
      "text/plain": [
       "<IPython.core.display.Latex object>"
      ]
     },
     "metadata": {},
     "output_type": "display_data"
    },
    {
     "data": {
      "text/latex": [
       "\\frac{\\partial E}{\\partial X} = \\frac{\\partial E}{\\partial Y} W^T"
      ],
      "text/plain": [
       "<IPython.core.display.Latex object>"
      ]
     },
     "metadata": {},
     "output_type": "display_data"
    },
    {
     "data": {
      "text/latex": [
       "\n",
       "\\begin{bmatrix}\n",
       "  0.00162327 & -0.0106075 & -0.026531 & 0.01105765 & 0.00037037 & 0.04865727\\\\\n",
       "  0.03130507\\\\\n",
       "\\end{bmatrix} = \n",
       "\\begin{bmatrix}\n",
       "  0.02587505 & 0.00545477 & 0.03464454 & -0.00904893 & 0.01166403 & -0.00416068\\\\\n",
       "  -0.02002834 & 0.00480345 & 0.00231481 & -0.01229051 & 0.00618421 & 0.00264351\\\\\n",
       "  -0.01973263 & 0.01387064\\\\\n",
       "\\end{bmatrix} \\cdot \n",
       "\\begin{bmatrix}\n",
       "  -0.09124464 & 0.23149928 & -0.03623802 & 0.54766619 & 0.16707845 & 0.86490318\\\\\n",
       "  0.95832476\\\\\n",
       "  0.57888896 & -0.93696053 & -0.34350386 & 0.17804177 & -0.11353298 & -0.0431833\\\\\n",
       "  0.86149593\\\\\n",
       "  0.23822427 & -0.56599088 & -0.91874728 & 0.42163552 & 0.54845819 & 0.72113238\\\\\n",
       "  0.63136707\\\\\n",
       "  0.08326346 & -1.2224423 & -0.79347665 & 0.38278297 & 0.8762554 & 0.43787734\\\\\n",
       "  1.06702304\\\\\n",
       "  0.41527842 & 0.020208 & -0.13515052 & 0.57192781 & 0.03705396 & 0.61227472\\\\\n",
       "  0.41205159\\\\\n",
       "  0.44487267 & -0.0585169 & -0.70891655 & 0.27880083 & 0.52105137 & 0.73990648\\\\\n",
       "  0.39813845\\\\\n",
       "  0.05243006 & 0.19553302 & -0.14031027 & 0.64365474 & 0.21750816 & 0.56985028\\\\\n",
       "  0.1592156\\\\\n",
       "  -0.05638354 & 0.11712088 & -0.44352348 & 0.49656818 & 0.08063507 & 0.57742478\\\\\n",
       "  0.83890489\\\\\n",
       "  -0.32279329 & 0.31247962 & 0.23301254 & 0.13474196 & 0.05280111 & 0.059365\\\\\n",
       "  -0.05296383\\\\\n",
       "  0.83032957 & 0.12387516 & 0.02957672 & 0.90728874 & -0.02708035 & 0.53931506\\\\\n",
       "  0.9501558\\\\\n",
       "  0.5663552 & 0.32130995 & 0.51804252 & 0.07159841 & 0.00967995 & 0.752452\\\\\n",
       "  -0.02468409\\\\\n",
       "  0.75319474 & -0.55781846 & -0.40036406 & 0.08506587 & 0.45119899 & 0.32757068\\\\\n",
       "  0.11478932\\\\\n",
       "  0.58895017 & -0.50767517 & -0.49864424 & 0.27241123 & 0.72150807 & -0.13099881\\\\\n",
       "  0.46697718\\\\\n",
       "  0.62976543 & -0.70628134 & -0.95769244 & 0.38310953 & 0.27604456 & 0.60961162\\\\\n",
       "  0.46609414\\\\\n",
       "\\end{bmatrix}"
      ],
      "text/plain": [
       "<IPython.core.display.Latex object>"
      ]
     },
     "metadata": {},
     "output_type": "display_data"
    },
    {
     "data": {
      "text/latex": [
       "W = W - \\lambda (X^T \\cdot \\nabla f_{custo})"
      ],
      "text/plain": [
       "<IPython.core.display.Latex object>"
      ]
     },
     "metadata": {},
     "output_type": "display_data"
    },
    {
     "data": {
      "text/latex": [
       "\\begin{gather}\n",
       "\\begin{bmatrix}\n",
       "  -0.09124464 & 0.57888896 & 0.23822427 & 0.08326346 & 0.41527842 & 0.44487267\\\\\n",
       "  0.05243006 & -0.05638354 & -0.32279329 & 0.83032957 & 0.5663552 & 0.75319474\\\\\n",
       "  0.58895017 & 0.62976543\\\\\n",
       "  0.21338675 & -0.94077886 & -0.59024206 & -1.21610805 & 0.01204319 & -0.05560442\\\\\n",
       "  0.20955285 & 0.11375846 & 0.31085925 & 0.13247852 & 0.316981 & -0.55966892\\\\\n",
       "  -0.49386233 & -0.71599079\\\\\n",
       "  -0.05435056 & -0.3473222 & -0.94299846 & -0.7871424 & -0.14331533 & -0.70600407\\\\\n",
       "  -0.12629044 & -0.4468859 & 0.23139217 & 0.03818008 & 0.51371357 & -0.40221452\\\\\n",
       "  -0.4848314 & -0.96740189\\\\\n",
       "  0.54766619 & 0.17804177 & 0.42163552 & 0.38278297 & 0.57192781 & 0.27880083\\\\\n",
       "  0.64365474 & 0.49656818 & 0.13474196 & 0.90728874 & 0.07159841 & 0.08506587\\\\\n",
       "  0.27241123 & 0.38310953\\\\\n",
       "  0.16707845 & -0.11353298 & 0.54845819 & 0.8762554 & 0.03705396 & 0.52105137\\\\\n",
       "  0.21750816 & 0.08063507 & 0.05280111 & -0.02708035 & 0.00967995 & 0.45119899\\\\\n",
       "  0.72150807 & 0.27604456\\\\\n",
       "  0.84679065 & -0.04700164 & 0.6968812 & 0.44421159 & 0.6041099 & 0.74281896\\\\\n",
       "  0.58387012 & 0.57406236 & 0.05774464 & 0.54791841 & 0.74812305 & 0.32572022\\\\\n",
       "  -0.11718597 & 0.59990217\\\\\n",
       "  0.94021222 & 0.85767759 & 0.60711589 & 1.07335729 & 0.40388677 & 0.40105092\\\\\n",
       "  0.17323544 & 0.83554247 & -0.0545842 & 0.95875915 & -0.02901304 & 0.11293886\\\\\n",
       "  0.48079002 & 0.45638469\\\\\n",
       "\\end{bmatrix} = \n",
       "\\begin{bmatrix}\n",
       "  -0.09124464 & 0.57888896 & 0.23822427 & 0.08326346 & 0.41527842 & 0.44487267\\\\\n",
       "  0.05243006 & -0.05638354 & -0.32279329 & 0.83032957 & 0.5663552 & 0.75319474\\\\\n",
       "  0.58895017 & 0.62976543\\\\\n",
       "  0.23149928 & -0.93696053 & -0.56599088 & -1.2224423 & 0.020208 & -0.0585169\\\\\n",
       "  0.19553302 & 0.11712088 & 0.31247962 & 0.12387516 & 0.32130995 & -0.55781846\\\\\n",
       "  -0.50767517 & -0.70628134\\\\\n",
       "  -0.03623802 & -0.34350386 & -0.91874728 & -0.79347665 & -0.13515052 & -0.70891655\\\\\n",
       "  -0.14031027 & -0.44352348 & 0.23301254 & 0.02957672 & 0.51804252 & -0.40036406\\\\\n",
       "  -0.49864424 & -0.95769244\\\\\n",
       "  0.54766619 & 0.17804177 & 0.42163552 & 0.38278297 & 0.57192781 & 0.27880083\\\\\n",
       "  0.64365474 & 0.49656818 & 0.13474196 & 0.90728874 & 0.07159841 & 0.08506587\\\\\n",
       "  0.27241123 & 0.38310953\\\\\n",
       "  0.16707845 & -0.11353298 & 0.54845819 & 0.8762554 & 0.03705396 & 0.52105137\\\\\n",
       "  0.21750816 & 0.08063507 & 0.05280111 & -0.02708035 & 0.00967995 & 0.45119899\\\\\n",
       "  0.72150807 & 0.27604456\\\\\n",
       "  0.86490318 & -0.0431833 & 0.72113238 & 0.43787734 & 0.61227472 & 0.73990648\\\\\n",
       "  0.56985028 & 0.57742478 & 0.059365 & 0.53931506 & 0.752452 & 0.32757068\\\\\n",
       "  -0.13099881 & 0.60961162\\\\\n",
       "  0.95832476 & 0.86149593 & 0.63136707 & 1.06702304 & 0.41205159 & 0.39813845\\\\\n",
       "  0.1592156 & 0.83890489 & -0.05296383 & 0.9501558 & -0.02468409 & 0.11478932\\\\\n",
       "  0.46697718 & 0.46609414\\\\\n",
       "\\end{bmatrix} - 0.7\n",
       "\\begin{bmatrix}\n",
       "  0\\\\\n",
       "  1\\\\\n",
       "  1\\\\\n",
       "  0\\\\\n",
       "  0\\\\\n",
       "  1\\\\\n",
       "  1\\\\\n",
       "\\end{bmatrix} \\cdot \n",
       "\\begin{bmatrix}\n",
       "  0.02587505 & 0.00545477 & 0.03464454 & -0.00904893 & 0.01166403 & -0.00416068\\\\\n",
       "  -0.02002834 & 0.00480345 & 0.00231481 & -0.01229051 & 0.00618421 & 0.00264351\\\\\n",
       "  -0.01973263 & 0.01387064\\\\\n",
       "\\end{bmatrix}\\end{gather}"
      ],
      "text/plain": [
       "<IPython.core.display.Latex object>"
      ]
     },
     "metadata": {},
     "output_type": "display_data"
    },
    {
     "data": {
      "text/latex": [
       "B = B - \\lambda (\\nabla f_{custo})"
      ],
      "text/plain": [
       "<IPython.core.display.Latex object>"
      ]
     },
     "metadata": {},
     "output_type": "display_data"
    },
    {
     "data": {
      "text/latex": [
       "\\begin{gather}\n",
       "\\begin{bmatrix}\n",
       "  -0.39281389 & -0.27553693 & -0.46991754 & -0.84944189 & 0.26573284 & -0.61909472\\\\\n",
       "  0.24148517 & -0.66591253 & -0.2711096 & -0.25857806 & 0.02727383 & -0.84891179\\\\\n",
       "  -0.24260446 & -0.95250849\\\\\n",
       "\\end{bmatrix} = \n",
       "\\begin{bmatrix}\n",
       "  -0.37470135 & -0.2717186 & -0.44566636 & -0.85577614 & 0.27389766 & -0.62200719\\\\\n",
       "  0.22746533 & -0.66255011 & -0.26948923 & -0.26718142 & 0.03160278 & -0.84706133\\\\\n",
       "  -0.2564173 & -0.94279904\\\\\n",
       "\\end{bmatrix} - 0.7\n",
       "\\begin{bmatrix}\n",
       "  0.02587505 & 0.00545477 & 0.03464454 & -0.00904893 & 0.01166403 & -0.00416068\\\\\n",
       "  -0.02002834 & 0.00480345 & 0.00231481 & -0.01229051 & 0.00618421 & 0.00264351\\\\\n",
       "  -0.01973263 & 0.01387064\\\\\n",
       "\\end{bmatrix}\\end{gather}"
      ],
      "text/plain": [
       "<IPython.core.display.Latex object>"
      ]
     },
     "metadata": {},
     "output_type": "display_data"
    },
    {
     "data": {
      "text/latex": [
       "Camada: 0"
      ],
      "text/plain": [
       "<IPython.core.display.Latex object>"
      ]
     },
     "metadata": {},
     "output_type": "display_data"
    },
    {
     "data": {
      "text/latex": [
       "Y = Xw + b"
      ],
      "text/plain": [
       "<IPython.core.display.Latex object>"
      ]
     },
     "metadata": {},
     "output_type": "display_data"
    },
    {
     "data": {
      "text/latex": [
       "\\begin{gather}\n",
       "\\begin{bmatrix}\n",
       "  1.79625998 & 0.94474755 & 0.55094088 & 0.34703102 & 2.1176204 & 0.5424446\\\\\n",
       "  1.56838509 & 0.73699103 & -0.22460832 & 3.02389788 & 1.89805101 & 0.02579339\\\\\n",
       "  0.49752959 & 0.14925144\\\\\n",
       "\\end{bmatrix} = \n",
       "\\begin{bmatrix}\n",
       "  1 & 0 & 1 & 1 & 0 & 1 & 1\\\\\n",
       "\\end{bmatrix} \\cdot \n",
       "\\begin{bmatrix}\n",
       "  -0.09124464 & 0.57888896 & 0.23822427 & 0.08326346 & 0.41527842 & 0.44487267\\\\\n",
       "  0.05243006 & -0.05638354 & -0.32279329 & 0.83032957 & 0.5663552 & 0.75319474\\\\\n",
       "  0.58895017 & 0.62976543\\\\\n",
       "  0.21338675 & -0.94077886 & -0.59024206 & -1.21610805 & 0.01204319 & -0.05560442\\\\\n",
       "  0.20955285 & 0.11375846 & 0.31085925 & 0.13247852 & 0.316981 & -0.55966892\\\\\n",
       "  -0.49386233 & -0.71599079\\\\\n",
       "  -0.05435056 & -0.3473222 & -0.94299846 & -0.7871424 & -0.14331533 & -0.70600407\\\\\n",
       "  -0.12629044 & -0.4468859 & 0.23139217 & 0.03818008 & 0.51371357 & -0.40221452\\\\\n",
       "  -0.4848314 & -0.96740189\\\\\n",
       "  0.54766619 & 0.17804177 & 0.42163552 & 0.38278297 & 0.57192781 & 0.27880083\\\\\n",
       "  0.64365474 & 0.49656818 & 0.13474196 & 0.90728874 & 0.07159841 & 0.08506587\\\\\n",
       "  0.27241123 & 0.38310953\\\\\n",
       "  0.16707845 & -0.11353298 & 0.54845819 & 0.8762554 & 0.03705396 & 0.52105137\\\\\n",
       "  0.21750816 & 0.08063507 & 0.05280111 & -0.02708035 & 0.00967995 & 0.45119899\\\\\n",
       "  0.72150807 & 0.27604456\\\\\n",
       "  0.84679065 & -0.04700164 & 0.6968812 & 0.44421159 & 0.6041099 & 0.74281896\\\\\n",
       "  0.58387012 & 0.57406236 & 0.05774464 & 0.54791841 & 0.74812305 & 0.32572022\\\\\n",
       "  -0.11718597 & 0.59990217\\\\\n",
       "  0.94021222 & 0.85767759 & 0.60711589 & 1.07335729 & 0.40388677 & 0.40105092\\\\\n",
       "  0.17323544 & 0.83554247 & -0.0545842 & 0.95875915 & -0.02901304 & 0.11293886\\\\\n",
       "  0.48079002 & 0.45638469\\\\\n",
       "\\end{bmatrix} + \n",
       "\\begin{bmatrix}\n",
       "  -0.39281389 & -0.27553693 & -0.46991754 & -0.84944189 & 0.26573284 & -0.61909472\\\\\n",
       "  0.24148517 & -0.66591253 & -0.2711096 & -0.25857806 & 0.02727383 & -0.84891179\\\\\n",
       "  -0.24260446 & -0.95250849\\\\\n",
       "\\end{bmatrix}\\end{gather}"
      ],
      "text/plain": [
       "<IPython.core.display.Latex object>"
      ]
     },
     "metadata": {},
     "output_type": "display_data"
    },
    {
     "data": {
      "text/latex": [
       "Camada: 1"
      ],
      "text/plain": [
       "<IPython.core.display.Latex object>"
      ]
     },
     "metadata": {},
     "output_type": "display_data"
    },
    {
     "data": {
      "text/latex": [
       "Y = \\sigma(X)"
      ],
      "text/plain": [
       "<IPython.core.display.Latex object>"
      ]
     },
     "metadata": {},
     "output_type": "display_data"
    },
    {
     "data": {
      "text/latex": [
       "\\begin{gather}\n",
       "\\begin{bmatrix}\n",
       "  0.85769305 & 0.72005764 & 0.63435385 & 0.58589743 & 0.89260403 & 0.63238091\\\\\n",
       "  0.82755327 & 0.67633753 & 0.4440828 & 0.95364215 & 0.86967078 & 0.50644799\\\\\n",
       "  0.6218786 & 0.53724375\\\\\n",
       "\\end{bmatrix} = \\sigma(\n",
       "\\begin{bmatrix}\n",
       "  1.79625998 & 0.94474755 & 0.55094088 & 0.34703102 & 2.1176204 & 0.5424446\\\\\n",
       "  1.56838509 & 0.73699103 & -0.22460832 & 3.02389788 & 1.89805101 & 0.02579339\\\\\n",
       "  0.49752959 & 0.14925144\\\\\n",
       "\\end{bmatrix}) \\end{gather}"
      ],
      "text/plain": [
       "<IPython.core.display.Latex object>"
      ]
     },
     "metadata": {},
     "output_type": "display_data"
    },
    {
     "data": {
      "text/latex": [
       "Camada: 2"
      ],
      "text/plain": [
       "<IPython.core.display.Latex object>"
      ]
     },
     "metadata": {},
     "output_type": "display_data"
    },
    {
     "data": {
      "text/latex": [
       "Y = Xw + b"
      ],
      "text/plain": [
       "<IPython.core.display.Latex object>"
      ]
     },
     "metadata": {},
     "output_type": "display_data"
    },
    {
     "data": {
      "text/latex": [
       "\\begin{gather}\n",
       "\\begin{bmatrix}\n",
       "  -0.03799359 & -0.5348743 & 0.08748787 & 0.23221327 & 0.59094099 & -0.49169681\\\\\n",
       "  -0.56807486 & -0.25659366 & -0.03985716 & -0.39338109\\\\\n",
       "\\end{bmatrix} = \n",
       "\\begin{bmatrix}\n",
       "  0.85769305 & 0.72005764 & 0.63435385 & 0.58589743 & 0.89260403 & 0.63238091\\\\\n",
       "  0.82755327 & 0.67633753 & 0.4440828 & 0.95364215 & 0.86967078 & 0.50644799\\\\\n",
       "  0.6218786 & 0.53724375\\\\\n",
       "\\end{bmatrix} \\cdot \n",
       "\\begin{bmatrix}\n",
       "  -0.13757006 & -0.38409995 & 0.32279493 & 0.5723091 & -0.16917826 & -0.30110223\\\\\n",
       "  0.25262573 & -0.04658307 & 0.04626409 & 0.20250861\\\\\n",
       "  0.14101311 & -0.26669857 & 0.26074823 & 0.2837981 & 0.11850805 & -0.09633016\\\\\n",
       "  -0.27234059 & -0.0846101 & -0.25841769 & -0.16668796\\\\\n",
       "  0.00759682 & -0.30996174 & 0.25542101 & 0.36327476 & -0.44171604 & -0.53657835\\\\\n",
       "  -0.10622925 & -0.02291222 & 0.42088046 & -0.33019832\\\\\n",
       "  0.25875715 & -0.29629918 & -0.48021408 & -0.14670786 & -0.02750392 & -0.2342723\\\\\n",
       "  -0.61641637 & -0.35624592 & -0.31119064 & -0.19920761\\\\\n",
       "  0.35806253 & -0.29847063 & -0.47302291 & 0.20791564 & -0.01338801 & 0.25910244\\\\\n",
       "  -0.36148168 & 0.46045096 & -0.18141088 & -0.42887303\\\\\n",
       "  -0.34890062 & 0.1189681 & 0.21883698 & 0.14113042 & 0.26394455 & -0.02427283\\\\\n",
       "  -0.04560471 & -0.16023364 & -0.00175276 & -0.16191224\\\\\n",
       "  0.18360342 & -0.37942478 & 0.46362293 & -0.29750571 & 0.50602115 & -0.08918667\\\\\n",
       "  0.27770632 & -0.09957091 & 0.08471716 & 0.1941716\\\\\n",
       "  -0.07280047 & 0.34344312 & -0.22977955 & -0.21631875 & -0.02360215 & 0.2972026\\\\\n",
       "  0.20927045 & 0.23532205 & -0.23691147 & -0.04057227\\\\\n",
       "  -0.00907218 & 0.62153454 & -0.36913332 & 0.36408299 & 0.59300472 & 0.35882643\\\\\n",
       "  0.19353155 & -0.19727546 & 0.26448374 & 0.45307641\\\\\n",
       "  -0.3727652 & -0.1293571 & -0.01036311 & -0.3631763 & 0.04917422 & -0.0324026\\\\\n",
       "  -0.27062177 & -0.30620058 & 0.38947237 & -0.50451522\\\\\n",
       "  -0.24191337 & 0.08650845 & -0.36924922 & 0.04902747 & 0.06406375 & 0.43486539\\\\\n",
       "  -0.06616914 & -0.07103453 & -0.12803637 & 0.27414859\\\\\n",
       "  -0.29306665 & -0.36361483 & 0.06898133 & 0.12812766 & 0.06695533 & -0.46580611\\\\\n",
       "  0.03289758 & 0.42926048 & -0.32658884 & 0.04809753\\\\\n",
       "  -0.42888092 & 0.26756762 & 0.16533985 & -0.26951864 & 0.19206606 & 0.34119961\\\\\n",
       "  -0.44233353 & -0.32205574 & 0.08727198 & 0.15644155\\\\\n",
       "  0.26213155 & -0.29291334 & -0.08228474 & -0.0222621 & -0.55667423 & -0.56169197\\\\\n",
       "  -0.10281876 & -0.36494671 & 0.41134097 & -0.18454989\\\\\n",
       "\\end{bmatrix} + \n",
       "\\begin{bmatrix}\n",
       "  0.46456836 & 0.57696092 & 0.19915763 & -0.23312293 & 0.1690368 & -0.21071948\\\\\n",
       "  0.363373 & 0.30144978 & -0.21234577 & 0.25009489\\\\\n",
       "\\end{bmatrix}\\end{gather}"
      ],
      "text/plain": [
       "<IPython.core.display.Latex object>"
      ]
     },
     "metadata": {},
     "output_type": "display_data"
    },
    {
     "data": {
      "text/latex": [
       "f_{custo}(\n",
       "\\begin{bmatrix}\n",
       "  0 & 0 & 0 & 0 & 0 & 1 & 0 & 0 & 0 & 0\\\\\n",
       "\\end{bmatrix},\n",
       "\\begin{bmatrix}\n",
       "  -0.03799359 & -0.5348743 & 0.08748787 & 0.23221327 & 0.59094099 & -0.49169681\\\\\n",
       "  -0.56807486 & -0.25659366 & -0.03985716 & -0.39338109\\\\\n",
       "\\end{bmatrix}) = \n",
       "\\begin{bmatrix}\n",
       "  0.3468368398062518\\\\\n",
       "\\end{bmatrix}"
      ],
      "text/plain": [
       "<IPython.core.display.Latex object>"
      ]
     },
     "metadata": {},
     "output_type": "display_data"
    },
    {
     "data": {
      "text/latex": [
       "\\nabla = \\frac{\\partial E}{\\partial Y} = \n",
       "\\begin{bmatrix}\n",
       "  -0.00759872 & -0.10697486 & 0.01749757 & 0.04644265 & 0.1181882 & -0.29833936\\\\\n",
       "  -0.11361497 & -0.05131873 & -0.00797143 & -0.07867622\\\\\n",
       "\\end{bmatrix}"
      ],
      "text/plain": [
       "<IPython.core.display.Latex object>"
      ]
     },
     "metadata": {},
     "output_type": "display_data"
    },
    {
     "data": {
      "text/latex": [
       "Camada: 2"
      ],
      "text/plain": [
       "<IPython.core.display.Latex object>"
      ]
     },
     "metadata": {},
     "output_type": "display_data"
    },
    {
     "data": {
      "text/latex": [
       "\\frac{\\partial E}{\\partial X} = \\frac{\\partial E}{\\partial Y} W^T"
      ],
      "text/plain": [
       "<IPython.core.display.Latex object>"
      ]
     },
     "metadata": {},
     "output_type": "display_data"
    },
    {
     "data": {
      "text/latex": [
       "\n",
       "\\begin{bmatrix}\n",
       "  0.10158497 & 0.13840504 & 0.19818669 & 0.18762602 & 0.00433286 & 0.06490184\\\\\n",
       "  0.07750896 & -0.17248241 & -0.14255429 & 0.09815029 & -0.14315101 & 0.16821628\\\\\n",
       "  -0.06030222 & 0.17030237\\\\\n",
       "\\end{bmatrix} = \n",
       "\\begin{bmatrix}\n",
       "  -0.00759872 & -0.10697486 & 0.01749757 & 0.04644265 & 0.1181882 & -0.29833936\\\\\n",
       "  -0.11361497 & -0.05131873 & -0.00797143 & -0.07867622\\\\\n",
       "\\end{bmatrix} \\cdot \n",
       "\\begin{bmatrix}\n",
       "  -0.13757006 & 0.14101311 & 0.00759682 & 0.25875715 & 0.35806253 & -0.34890062\\\\\n",
       "  0.18360342 & -0.07280047 & -0.00907218 & -0.3727652 & -0.24191337 & -0.29306665\\\\\n",
       "  -0.42888092 & 0.26213155\\\\\n",
       "  -0.38409995 & -0.26669857 & -0.30996174 & -0.29629918 & -0.29847063 & 0.1189681\\\\\n",
       "  -0.37942478 & 0.34344312 & 0.62153454 & -0.1293571 & 0.08650845 & -0.36361483\\\\\n",
       "  0.26756762 & -0.29291334\\\\\n",
       "  0.32279493 & 0.26074823 & 0.25542101 & -0.48021408 & -0.47302291 & 0.21883698\\\\\n",
       "  0.46362293 & -0.22977955 & -0.36913332 & -0.01036311 & -0.36924922 & 0.06898133\\\\\n",
       "  0.16533985 & -0.08228474\\\\\n",
       "  0.5723091 & 0.2837981 & 0.36327476 & -0.14670786 & 0.20791564 & 0.14113042\\\\\n",
       "  -0.29750571 & -0.21631875 & 0.36408299 & -0.3631763 & 0.04902747 & 0.12812766\\\\\n",
       "  -0.26951864 & -0.0222621\\\\\n",
       "  -0.16917826 & 0.11850805 & -0.44171604 & -0.02750392 & -0.01338801 & 0.26394455\\\\\n",
       "  0.50602115 & -0.02360215 & 0.59300472 & 0.04917422 & 0.06406375 & 0.06695533\\\\\n",
       "  0.19206606 & -0.55667423\\\\\n",
       "  -0.30110223 & -0.09633016 & -0.53657835 & -0.2342723 & 0.25910244 & -0.02427283\\\\\n",
       "  -0.08918667 & 0.2972026 & 0.35882643 & -0.0324026 & 0.43486539 & -0.46580611\\\\\n",
       "  0.34119961 & -0.56169197\\\\\n",
       "  0.25262573 & -0.27234059 & -0.10622925 & -0.61641637 & -0.36148168 & -0.04560471\\\\\n",
       "  0.27770632 & 0.20927045 & 0.19353155 & -0.27062177 & -0.06616914 & 0.03289758\\\\\n",
       "  -0.44233353 & -0.10281876\\\\\n",
       "  -0.04658307 & -0.0846101 & -0.02291222 & -0.35624592 & 0.46045096 & -0.16023364\\\\\n",
       "  -0.09957091 & 0.23532205 & -0.19727546 & -0.30620058 & -0.07103453 & 0.42926048\\\\\n",
       "  -0.32205574 & -0.36494671\\\\\n",
       "  0.04626409 & -0.25841769 & 0.42088046 & -0.31119064 & -0.18141088 & -0.00175276\\\\\n",
       "  0.08471716 & -0.23691147 & 0.26448374 & 0.38947237 & -0.12803637 & -0.32658884\\\\\n",
       "  0.08727198 & 0.41134097\\\\\n",
       "  0.20250861 & -0.16668796 & -0.33019832 & -0.19920761 & -0.42887303 & -0.16191224\\\\\n",
       "  0.1941716 & -0.04057227 & 0.45307641 & -0.50451522 & 0.27414859 & 0.04809753\\\\\n",
       "  0.15644155 & -0.18454989\\\\\n",
       "\\end{bmatrix}"
      ],
      "text/plain": [
       "<IPython.core.display.Latex object>"
      ]
     },
     "metadata": {},
     "output_type": "display_data"
    },
    {
     "data": {
      "text/latex": [
       "W = W - \\lambda (X^T \\cdot \\nabla f_{custo})"
      ],
      "text/plain": [
       "<IPython.core.display.Latex object>"
      ]
     },
     "metadata": {},
     "output_type": "display_data"
    },
    {
     "data": {
      "text/latex": [
       "\\begin{gather}\n",
       "\\begin{bmatrix}\n",
       "  -1.33007904e-01 & -3.19873838e-01 & 3.12289648e-01 & 5.44425624e-01\\\\\n",
       "  -2.40136695e-01 & -1.21983716e-01 & 3.20838466e-01 & -1.57720659e-02\\\\\n",
       "  5.10500200e-02 & 2.49744640e-01\\\\\n",
       "  1.44843176e-01 & -2.12778923e-01 & 2.51928743e-01 & 2.60389130e-01\\\\\n",
       "  5.89364324e-02 & 5.40449131e-02 & -2.15074062e-01 & -5.87433873e-02\\\\\n",
       "  -2.54399765e-01 & -1.27031972e-01\\\\\n",
       "  1.09710159e-02 & -2.62459799e-01 & 2.47651257e-01 & 3.42652004e-01\\\\\n",
       "  -4.94197238e-01 & -4.04101445e-01 & -5.57787850e-02 & -1.24256963e-04\\\\\n",
       "  4.24420156e-01 & -2.95262326e-01\\\\\n",
       "  2.61873604e-01 & -2.52425778e-01 & -4.87390329e-01 & -1.65755302e-01\\\\\n",
       "  -7.59762305e-02 & -1.11914918e-01 & -5.69819665e-01 & -3.35198662e-01\\\\\n",
       "  -3.07921328e-01 & -1.66940279e-01\\\\\n",
       "  3.62810378e-01 & -2.31630294e-01 & -4.83955792e-01 & 1.78897210e-01\\\\\n",
       "  -8.72346950e-02 & 4.45511686e-01 & -2.90492456e-01 & 4.92516072e-01\\\\\n",
       "  -1.76430145e-01 & -3.79714330e-01\\\\\n",
       "  -3.45536919e-01 & 1.66322303e-01 & 2.11091389e-01 & 1.20571803e-01\\\\\n",
       "  2.11626577e-01 & 1.07792054e-01 & 4.68884385e-03 & -1.37516549e-01\\\\\n",
       "  1.77592936e-03 & -1.27084903e-01\\\\\n",
       "  1.88005262e-01 & -3.17455603e-01 & 4.53486811e-01 & -3.24409354e-01\\\\\n",
       "  4.37556228e-01 & 8.36375335e-02 & 3.43522032e-01 & -6.98426163e-02\\\\\n",
       "  8.93349102e-02 & 2.39747736e-01\\\\\n",
       "  -6.92029632e-02 & 3.94088904e-01 & -2.38063534e-01 & -2.38306382e-01\\\\\n",
       "  -7.95567333e-02 & 4.38447270e-01 & 2.63059898e-01 & 2.59618195e-01\\\\\n",
       "  -2.33137509e-01 & -3.32409535e-03\\\\\n",
       "  -6.71005825e-03 & 6.54788527e-01 & -3.74572578e-01 & 3.49645918e-01\\\\\n",
       "  5.56264974e-01 & 4.51567594e-01 & 2.28849670e-01 & -1.81322623e-01\\\\\n",
       "  2.66961728e-01 & 4.77533534e-01\\\\\n",
       "  -3.67692679e-01 & -5.79460823e-02 & -2.20436108e-02 & -3.94179070e-01\\\\\n",
       "  -2.97222508e-02 & 1.66753691e-01 & -1.94778150e-01 & -2.71942785e-01\\\\\n",
       "  3.94793701e-01 & -4.51994953e-01\\\\\n",
       "  -2.37287506e-01 & 1.51631488e-01 & -3.79901213e-01 & 2.07545983e-02\\\\\n",
       "  -7.88562538e-03 & 6.16485307e-01 & 2.99619367e-03 & -3.97932471e-02\\\\\n",
       "  -1.23183603e-01 & 3.22044272e-01\\\\\n",
       "  -2.90372804e-01 & -3.25690784e-01 & 6.27782019e-02 & 1.11663104e-01\\\\\n",
       "  2.50560045e-02 & -3.60040747e-01 & 7.31756291e-02 & 4.47453671e-01\\\\\n",
       "  -3.23762860e-01 & 7.59893172e-02\\\\\n",
       "  -4.25573079e-01 & 3.14135384e-01 & 1.57722891e-01 & -2.89735829e-01\\\\\n",
       "  1.40616962e-01 & 4.71071219e-01 & -3.92875224e-01 & -2.99715929e-01\\\\\n",
       "  9.07420659e-02 & 1.90690488e-01\\\\\n",
       "  2.64989208e-01 & -2.52683236e-01 & -8.88650614e-02 & -3.97278152e-02\\\\\n",
       "  -6.01121343e-01 & -4.49495296e-01 & -6.00915104e-02 & -3.45647242e-01\\\\\n",
       "  4.14338790e-01 & -1.54962076e-01\\\\\n",
       "\\end{bmatrix} = \n",
       "\\begin{bmatrix}\n",
       "  -0.13757006 & -0.38409995 & 0.32279493 & 0.5723091 & -0.16917826 & -0.30110223\\\\\n",
       "  0.25262573 & -0.04658307 & 0.04626409 & 0.20250861\\\\\n",
       "  0.14101311 & -0.26669857 & 0.26074823 & 0.2837981 & 0.11850805 & -0.09633016\\\\\n",
       "  -0.27234059 & -0.0846101 & -0.25841769 & -0.16668796\\\\\n",
       "  0.00759682 & -0.30996174 & 0.25542101 & 0.36327476 & -0.44171604 & -0.53657835\\\\\n",
       "  -0.10622925 & -0.02291222 & 0.42088046 & -0.33019832\\\\\n",
       "  0.25875715 & -0.29629918 & -0.48021408 & -0.14670786 & -0.02750392 & -0.2342723\\\\\n",
       "  -0.61641637 & -0.35624592 & -0.31119064 & -0.19920761\\\\\n",
       "  0.35806253 & -0.29847063 & -0.47302291 & 0.20791564 & -0.01338801 & 0.25910244\\\\\n",
       "  -0.36148168 & 0.46045096 & -0.18141088 & -0.42887303\\\\\n",
       "  -0.34890062 & 0.1189681 & 0.21883698 & 0.14113042 & 0.26394455 & -0.02427283\\\\\n",
       "  -0.04560471 & -0.16023364 & -0.00175276 & -0.16191224\\\\\n",
       "  0.18360342 & -0.37942478 & 0.46362293 & -0.29750571 & 0.50602115 & -0.08918667\\\\\n",
       "  0.27770632 & -0.09957091 & 0.08471716 & 0.1941716\\\\\n",
       "  -0.07280047 & 0.34344312 & -0.22977955 & -0.21631875 & -0.02360215 & 0.2972026\\\\\n",
       "  0.20927045 & 0.23532205 & -0.23691147 & -0.04057227\\\\\n",
       "  -0.00907218 & 0.62153454 & -0.36913332 & 0.36408299 & 0.59300472 & 0.35882643\\\\\n",
       "  0.19353155 & -0.19727546 & 0.26448374 & 0.45307641\\\\\n",
       "  -0.3727652 & -0.1293571 & -0.01036311 & -0.3631763 & 0.04917422 & -0.0324026\\\\\n",
       "  -0.27062177 & -0.30620058 & 0.38947237 & -0.50451522\\\\\n",
       "  -0.24191337 & 0.08650845 & -0.36924922 & 0.04902747 & 0.06406375 & 0.43486539\\\\\n",
       "  -0.06616914 & -0.07103453 & -0.12803637 & 0.27414859\\\\\n",
       "  -0.29306665 & -0.36361483 & 0.06898133 & 0.12812766 & 0.06695533 & -0.46580611\\\\\n",
       "  0.03289758 & 0.42926048 & -0.32658884 & 0.04809753\\\\\n",
       "  -0.42888092 & 0.26756762 & 0.16533985 & -0.26951864 & 0.19206606 & 0.34119961\\\\\n",
       "  -0.44233353 & -0.32205574 & 0.08727198 & 0.15644155\\\\\n",
       "  0.26213155 & -0.29291334 & -0.08228474 & -0.0222621 & -0.55667423 & -0.56169197\\\\\n",
       "  -0.10281876 & -0.36494671 & 0.41134097 & -0.18454989\\\\\n",
       "\\end{bmatrix} - 0.7\n",
       "\\begin{bmatrix}\n",
       "  0.85769305\\\\\n",
       "  0.72005764\\\\\n",
       "  0.63435385\\\\\n",
       "  0.58589743\\\\\n",
       "  0.89260403\\\\\n",
       "  0.63238091\\\\\n",
       "  0.82755327\\\\\n",
       "  0.67633753\\\\\n",
       "  0.4440828\\\\\n",
       "  0.95364215\\\\\n",
       "  0.86967078\\\\\n",
       "  0.50644799\\\\\n",
       "  0.6218786\\\\\n",
       "  0.53724375\\\\\n",
       "\\end{bmatrix} \\cdot \n",
       "\\begin{bmatrix}\n",
       "  -0.00759872 & -0.10697486 & 0.01749757 & 0.04644265 & 0.1181882 & -0.29833936\\\\\n",
       "  -0.11361497 & -0.05131873 & -0.00797143 & -0.07867622\\\\\n",
       "\\end{bmatrix}\\end{gather}"
      ],
      "text/plain": [
       "<IPython.core.display.Latex object>"
      ]
     },
     "metadata": {},
     "output_type": "display_data"
    },
    {
     "data": {
      "text/latex": [
       "B = B - \\lambda (\\nabla f_{custo})"
      ],
      "text/plain": [
       "<IPython.core.display.Latex object>"
      ]
     },
     "metadata": {},
     "output_type": "display_data"
    },
    {
     "data": {
      "text/latex": [
       "\\begin{gather}\n",
       "\\begin{bmatrix}\n",
       "  0.46988746 & 0.65184332 & 0.18690933 & -0.26563278 & 0.08630506 & -0.00188193\\\\\n",
       "  0.44290348 & 0.33737289 & -0.20676576 & 0.30516824\\\\\n",
       "\\end{bmatrix} = \n",
       "\\begin{bmatrix}\n",
       "  0.46456836 & 0.57696092 & 0.19915763 & -0.23312293 & 0.1690368 & -0.21071948\\\\\n",
       "  0.363373 & 0.30144978 & -0.21234577 & 0.25009489\\\\\n",
       "\\end{bmatrix} - 0.7\n",
       "\\begin{bmatrix}\n",
       "  -0.00759872 & -0.10697486 & 0.01749757 & 0.04644265 & 0.1181882 & -0.29833936\\\\\n",
       "  -0.11361497 & -0.05131873 & -0.00797143 & -0.07867622\\\\\n",
       "\\end{bmatrix}\\end{gather}"
      ],
      "text/plain": [
       "<IPython.core.display.Latex object>"
      ]
     },
     "metadata": {},
     "output_type": "display_data"
    },
    {
     "data": {
      "text/latex": [
       "Camada: 1"
      ],
      "text/plain": [
       "<IPython.core.display.Latex object>"
      ]
     },
     "metadata": {},
     "output_type": "display_data"
    },
    {
     "data": {
      "text/latex": [
       "\\frac{\\partial E}{\\partial X} = \\frac{\\partial E}{\\partial Y} \\sigma^{'}(X)"
      ],
      "text/plain": [
       "<IPython.core.display.Latex object>"
      ]
     },
     "metadata": {},
     "output_type": "display_data"
    },
    {
     "data": {
      "text/latex": [
       "\\begin{gather}\n",
       "\\begin{bmatrix}\n",
       "  0.01239902 & 0.02789895 & 0.04596921 & 0.04552213 & 0.00041536 & 0.01508807\\\\\n",
       "  0.01106121 & -0.03775727 & -0.03519284 & 0.00433911 & -0.01622524 & 0.04204708\\\\\n",
       "  -0.0141798 & 0.04233937\\\\\n",
       "\\end{bmatrix} = \n",
       "\\begin{bmatrix}\n",
       "  0.10158497 & 0.13840504 & 0.19818669 & 0.18762602 & 0.00433286 & 0.06490184\\\\\n",
       "  0.07750896 & -0.17248241 & -0.14255429 & 0.09815029 & -0.14315101 & 0.16821628\\\\\n",
       "  -0.06030222 & 0.17030237\\\\\n",
       "\\end{bmatrix} \\cdot  \\sigma^{'}(\n",
       "\\begin{bmatrix}\n",
       "  1.79625998 & 0.94474755 & 0.55094088 & 0.34703102 & 2.1176204 & 0.5424446\\\\\n",
       "  1.56838509 & 0.73699103 & -0.22460832 & 3.02389788 & 1.89805101 & 0.02579339\\\\\n",
       "  0.49752959 & 0.14925144\\\\\n",
       "\\end{bmatrix}) \\end{gather}"
      ],
      "text/plain": [
       "<IPython.core.display.Latex object>"
      ]
     },
     "metadata": {},
     "output_type": "display_data"
    },
    {
     "data": {
      "text/latex": [
       "Camada: 0"
      ],
      "text/plain": [
       "<IPython.core.display.Latex object>"
      ]
     },
     "metadata": {},
     "output_type": "display_data"
    },
    {
     "data": {
      "text/latex": [
       "\\frac{\\partial E}{\\partial X} = \\frac{\\partial E}{\\partial Y} W^T"
      ],
      "text/plain": [
       "<IPython.core.display.Latex object>"
      ]
     },
     "metadata": {},
     "output_type": "display_data"
    },
    {
     "data": {
      "text/latex": [
       "\n",
       "\\begin{bmatrix}\n",
       "  0.09510991 & -0.17125745 & -0.15208974 & 0.05534753 & 0.08953928 & 0.08665007\\\\\n",
       "  0.11274955\\\\\n",
       "\\end{bmatrix} = \n",
       "\\begin{bmatrix}\n",
       "  0.01239902 & 0.02789895 & 0.04596921 & 0.04552213 & 0.00041536 & 0.01508807\\\\\n",
       "  0.01106121 & -0.03775727 & -0.03519284 & 0.00433911 & -0.01622524 & 0.04204708\\\\\n",
       "  -0.0141798 & 0.04233937\\\\\n",
       "\\end{bmatrix} \\cdot \n",
       "\\begin{bmatrix}\n",
       "  -0.09124464 & 0.21338675 & -0.05435056 & 0.54766619 & 0.16707845 & 0.84679065\\\\\n",
       "  0.94021222\\\\\n",
       "  0.57888896 & -0.94077886 & -0.3473222 & 0.17804177 & -0.11353298 & -0.04700164\\\\\n",
       "  0.85767759\\\\\n",
       "  0.23822427 & -0.59024206 & -0.94299846 & 0.42163552 & 0.54845819 & 0.6968812\\\\\n",
       "  0.60711589\\\\\n",
       "  0.08326346 & -1.21610805 & -0.7871424 & 0.38278297 & 0.8762554 & 0.44421159\\\\\n",
       "  1.07335729\\\\\n",
       "  0.41527842 & 0.01204319 & -0.14331533 & 0.57192781 & 0.03705396 & 0.6041099\\\\\n",
       "  0.40388677\\\\\n",
       "  0.44487267 & -0.05560442 & -0.70600407 & 0.27880083 & 0.52105137 & 0.74281896\\\\\n",
       "  0.40105092\\\\\n",
       "  0.05243006 & 0.20955285 & -0.12629044 & 0.64365474 & 0.21750816 & 0.58387012\\\\\n",
       "  0.17323544\\\\\n",
       "  -0.05638354 & 0.11375846 & -0.4468859 & 0.49656818 & 0.08063507 & 0.57406236\\\\\n",
       "  0.83554247\\\\\n",
       "  -0.32279329 & 0.31085925 & 0.23139217 & 0.13474196 & 0.05280111 & 0.05774464\\\\\n",
       "  -0.0545842\\\\\n",
       "  0.83032957 & 0.13247852 & 0.03818008 & 0.90728874 & -0.02708035 & 0.54791841\\\\\n",
       "  0.95875915\\\\\n",
       "  0.5663552 & 0.316981 & 0.51371357 & 0.07159841 & 0.00967995 & 0.74812305\\\\\n",
       "  -0.02901304\\\\\n",
       "  0.75319474 & -0.55966892 & -0.40221452 & 0.08506587 & 0.45119899 & 0.32572022\\\\\n",
       "  0.11293886\\\\\n",
       "  0.58895017 & -0.49386233 & -0.4848314 & 0.27241123 & 0.72150807 & -0.11718597\\\\\n",
       "  0.48079002\\\\\n",
       "  0.62976543 & -0.71599079 & -0.96740189 & 0.38310953 & 0.27604456 & 0.59990217\\\\\n",
       "  0.45638469\\\\\n",
       "\\end{bmatrix}"
      ],
      "text/plain": [
       "<IPython.core.display.Latex object>"
      ]
     },
     "metadata": {},
     "output_type": "display_data"
    },
    {
     "data": {
      "text/latex": [
       "W = W - \\lambda (X^T \\cdot \\nabla f_{custo})"
      ],
      "text/plain": [
       "<IPython.core.display.Latex object>"
      ]
     },
     "metadata": {},
     "output_type": "display_data"
    },
    {
     "data": {
      "text/latex": [
       "\\begin{gather}\n",
       "\\begin{bmatrix}\n",
       "  -0.09992395 & 0.5593597 & 0.20604582 & 0.05139797 & 0.41498767 & 0.43431102\\\\\n",
       "  0.04468721 & -0.02995345 & -0.2981583 & 0.8272922 & 0.57771286 & 0.72376179\\\\\n",
       "  0.59887603 & 0.60012788\\\\\n",
       "  0.21338675 & -0.94077886 & -0.59024206 & -1.21610805 & 0.01204319 & -0.05560442\\\\\n",
       "  0.20955285 & 0.11375846 & 0.31085925 & 0.13247852 & 0.316981 & -0.55966892\\\\\n",
       "  -0.49386233 & -0.71599079\\\\\n",
       "  -0.06302987 & -0.36685146 & -0.97517691 & -0.81900789 & -0.14360608 & -0.71656573\\\\\n",
       "  -0.13403329 & -0.42045581 & 0.25602716 & 0.0351427 & 0.52507124 & -0.43164747\\\\\n",
       "  -0.47490554 & -0.99703945\\\\\n",
       "  0.53898688 & 0.15851251 & 0.38945707 & 0.35091748 & 0.57163706 & 0.26823918\\\\\n",
       "  0.63591189 & 0.52299827 & 0.15937695 & 0.90425136 & 0.08295608 & 0.05563292\\\\\n",
       "  0.28233709 & 0.35347198\\\\\n",
       "  0.16707845 & -0.11353298 & 0.54845819 & 0.8762554 & 0.03705396 & 0.52105137\\\\\n",
       "  0.21750816 & 0.08063507 & 0.05280111 & -0.02708035 & 0.00967995 & 0.45119899\\\\\n",
       "  0.72150807 & 0.27604456\\\\\n",
       "  0.83811133 & -0.0665309 & 0.66470275 & 0.41234609 & 0.60381915 & 0.73225731\\\\\n",
       "  0.57612727 & 0.60049245 & 0.08237963 & 0.54488104 & 0.75948072 & 0.29628727\\\\\n",
       "  -0.10726011 & 0.57026462\\\\\n",
       "  0.93153291 & 0.83814833 & 0.57493744 & 1.0414918 & 0.40359602 & 0.39048927\\\\\n",
       "  0.16549259 & 0.86197256 & -0.02994921 & 0.95572178 & -0.01765538 & 0.08350591\\\\\n",
       "  0.49071588 & 0.42674713\\\\\n",
       "\\end{bmatrix} = \n",
       "\\begin{bmatrix}\n",
       "  -0.09124464 & 0.57888896 & 0.23822427 & 0.08326346 & 0.41527842 & 0.44487267\\\\\n",
       "  0.05243006 & -0.05638354 & -0.32279329 & 0.83032957 & 0.5663552 & 0.75319474\\\\\n",
       "  0.58895017 & 0.62976543\\\\\n",
       "  0.21338675 & -0.94077886 & -0.59024206 & -1.21610805 & 0.01204319 & -0.05560442\\\\\n",
       "  0.20955285 & 0.11375846 & 0.31085925 & 0.13247852 & 0.316981 & -0.55966892\\\\\n",
       "  -0.49386233 & -0.71599079\\\\\n",
       "  -0.05435056 & -0.3473222 & -0.94299846 & -0.7871424 & -0.14331533 & -0.70600407\\\\\n",
       "  -0.12629044 & -0.4468859 & 0.23139217 & 0.03818008 & 0.51371357 & -0.40221452\\\\\n",
       "  -0.4848314 & -0.96740189\\\\\n",
       "  0.54766619 & 0.17804177 & 0.42163552 & 0.38278297 & 0.57192781 & 0.27880083\\\\\n",
       "  0.64365474 & 0.49656818 & 0.13474196 & 0.90728874 & 0.07159841 & 0.08506587\\\\\n",
       "  0.27241123 & 0.38310953\\\\\n",
       "  0.16707845 & -0.11353298 & 0.54845819 & 0.8762554 & 0.03705396 & 0.52105137\\\\\n",
       "  0.21750816 & 0.08063507 & 0.05280111 & -0.02708035 & 0.00967995 & 0.45119899\\\\\n",
       "  0.72150807 & 0.27604456\\\\\n",
       "  0.84679065 & -0.04700164 & 0.6968812 & 0.44421159 & 0.6041099 & 0.74281896\\\\\n",
       "  0.58387012 & 0.57406236 & 0.05774464 & 0.54791841 & 0.74812305 & 0.32572022\\\\\n",
       "  -0.11718597 & 0.59990217\\\\\n",
       "  0.94021222 & 0.85767759 & 0.60711589 & 1.07335729 & 0.40388677 & 0.40105092\\\\\n",
       "  0.17323544 & 0.83554247 & -0.0545842 & 0.95875915 & -0.02901304 & 0.11293886\\\\\n",
       "  0.48079002 & 0.45638469\\\\\n",
       "\\end{bmatrix} - 0.7\n",
       "\\begin{bmatrix}\n",
       "  1\\\\\n",
       "  0\\\\\n",
       "  1\\\\\n",
       "  1\\\\\n",
       "  0\\\\\n",
       "  1\\\\\n",
       "  1\\\\\n",
       "\\end{bmatrix} \\cdot \n",
       "\\begin{bmatrix}\n",
       "  0.01239902 & 0.02789895 & 0.04596921 & 0.04552213 & 0.00041536 & 0.01508807\\\\\n",
       "  0.01106121 & -0.03775727 & -0.03519284 & 0.00433911 & -0.01622524 & 0.04204708\\\\\n",
       "  -0.0141798 & 0.04233937\\\\\n",
       "\\end{bmatrix}\\end{gather}"
      ],
      "text/plain": [
       "<IPython.core.display.Latex object>"
      ]
     },
     "metadata": {},
     "output_type": "display_data"
    },
    {
     "data": {
      "text/latex": [
       "B = B - \\lambda (\\nabla f_{custo})"
      ],
      "text/plain": [
       "<IPython.core.display.Latex object>"
      ]
     },
     "metadata": {},
     "output_type": "display_data"
    },
    {
     "data": {
      "text/latex": [
       "\\begin{gather}\n",
       "\\begin{bmatrix}\n",
       "  -0.4014932 & -0.2950662 & -0.50209599 & -0.88130738 & 0.26544209 & -0.62965637\\\\\n",
       "  0.23374231 & -0.63948243 & -0.24647461 & -0.26161544 & 0.0386315 & -0.87834474\\\\\n",
       "  -0.2326786 & -0.98214605\\\\\n",
       "\\end{bmatrix} = \n",
       "\\begin{bmatrix}\n",
       "  -0.39281389 & -0.27553693 & -0.46991754 & -0.84944189 & 0.26573284 & -0.61909472\\\\\n",
       "  0.24148517 & -0.66591253 & -0.2711096 & -0.25857806 & 0.02727383 & -0.84891179\\\\\n",
       "  -0.24260446 & -0.95250849\\\\\n",
       "\\end{bmatrix} - 0.7\n",
       "\\begin{bmatrix}\n",
       "  0.01239902 & 0.02789895 & 0.04596921 & 0.04552213 & 0.00041536 & 0.01508807\\\\\n",
       "  0.01106121 & -0.03775727 & -0.03519284 & 0.00433911 & -0.01622524 & 0.04204708\\\\\n",
       "  -0.0141798 & 0.04233937\\\\\n",
       "\\end{bmatrix}\\end{gather}"
      ],
      "text/plain": [
       "<IPython.core.display.Latex object>"
      ]
     },
     "metadata": {},
     "output_type": "display_data"
    },
    {
     "data": {
      "text/latex": [
       "Camada: 0"
      ],
      "text/plain": [
       "<IPython.core.display.Latex object>"
      ]
     },
     "metadata": {},
     "output_type": "display_data"
    },
    {
     "data": {
      "text/latex": [
       "Y = Xw + b"
      ],
      "text/plain": [
       "<IPython.core.display.Latex object>"
      ]
     },
     "metadata": {},
     "output_type": "display_data"
    },
    {
     "data": {
      "text/latex": [
       "\\begin{gather}\n",
       "\\begin{bmatrix}\n",
       "  2.01118649 & 0.1546793 & 0.70028255 & 0.9806955 & 1.73794219 & 0.56581503\\\\\n",
       "  1.69474893 & 1.00616011 & 0.27416103 & 2.15130109 & 1.3981641 & -0.42336713\\\\\n",
       "  0.6797168 & -0.35265721\\\\\n",
       "\\end{bmatrix} = \n",
       "\\begin{bmatrix}\n",
       "  0 & 0 & 1 & 1 & 1 & 1 & 1\\\\\n",
       "\\end{bmatrix} \\cdot \n",
       "\\begin{bmatrix}\n",
       "  -0.09992395 & 0.5593597 & 0.20604582 & 0.05139797 & 0.41498767 & 0.43431102\\\\\n",
       "  0.04468721 & -0.02995345 & -0.2981583 & 0.8272922 & 0.57771286 & 0.72376179\\\\\n",
       "  0.59887603 & 0.60012788\\\\\n",
       "  0.21338675 & -0.94077886 & -0.59024206 & -1.21610805 & 0.01204319 & -0.05560442\\\\\n",
       "  0.20955285 & 0.11375846 & 0.31085925 & 0.13247852 & 0.316981 & -0.55966892\\\\\n",
       "  -0.49386233 & -0.71599079\\\\\n",
       "  -0.06302987 & -0.36685146 & -0.97517691 & -0.81900789 & -0.14360608 & -0.71656573\\\\\n",
       "  -0.13403329 & -0.42045581 & 0.25602716 & 0.0351427 & 0.52507124 & -0.43164747\\\\\n",
       "  -0.47490554 & -0.99703945\\\\\n",
       "  0.53898688 & 0.15851251 & 0.38945707 & 0.35091748 & 0.57163706 & 0.26823918\\\\\n",
       "  0.63591189 & 0.52299827 & 0.15937695 & 0.90425136 & 0.08295608 & 0.05563292\\\\\n",
       "  0.28233709 & 0.35347198\\\\\n",
       "  0.16707845 & -0.11353298 & 0.54845819 & 0.8762554 & 0.03705396 & 0.52105137\\\\\n",
       "  0.21750816 & 0.08063507 & 0.05280111 & -0.02708035 & 0.00967995 & 0.45119899\\\\\n",
       "  0.72150807 & 0.27604456\\\\\n",
       "  0.83811133 & -0.0665309 & 0.66470275 & 0.41234609 & 0.60381915 & 0.73225731\\\\\n",
       "  0.57612727 & 0.60049245 & 0.08237963 & 0.54488104 & 0.75948072 & 0.29628727\\\\\n",
       "  -0.10726011 & 0.57026462\\\\\n",
       "  0.93153291 & 0.83814833 & 0.57493744 & 1.0414918 & 0.40359602 & 0.39048927\\\\\n",
       "  0.16549259 & 0.86197256 & -0.02994921 & 0.95572178 & -0.01765538 & 0.08350591\\\\\n",
       "  0.49071588 & 0.42674713\\\\\n",
       "\\end{bmatrix} + \n",
       "\\begin{bmatrix}\n",
       "  -0.4014932 & -0.2950662 & -0.50209599 & -0.88130738 & 0.26544209 & -0.62965637\\\\\n",
       "  0.23374231 & -0.63948243 & -0.24647461 & -0.26161544 & 0.0386315 & -0.87834474\\\\\n",
       "  -0.2326786 & -0.98214605\\\\\n",
       "\\end{bmatrix}\\end{gather}"
      ],
      "text/plain": [
       "<IPython.core.display.Latex object>"
      ]
     },
     "metadata": {},
     "output_type": "display_data"
    },
    {
     "data": {
      "text/latex": [
       "Camada: 1"
      ],
      "text/plain": [
       "<IPython.core.display.Latex object>"
      ]
     },
     "metadata": {},
     "output_type": "display_data"
    },
    {
     "data": {
      "text/latex": [
       "Y = \\sigma(X)"
      ],
      "text/plain": [
       "<IPython.core.display.Latex object>"
      ]
     },
     "metadata": {},
     "output_type": "display_data"
    },
    {
     "data": {
      "text/latex": [
       "\\begin{gather}\n",
       "\\begin{bmatrix}\n",
       "  0.88196659 & 0.53859291 & 0.66825042 & 0.7272462 & 0.8504255 & 0.63779696\\\\\n",
       "  0.84484767 & 0.732268 & 0.56811415 & 0.8957903 & 0.8018924 & 0.39571131\\\\\n",
       "  0.66367549 & 0.4127382\\\\\n",
       "\\end{bmatrix} = \\sigma(\n",
       "\\begin{bmatrix}\n",
       "  2.01118649 & 0.1546793 & 0.70028255 & 0.9806955 & 1.73794219 & 0.56581503\\\\\n",
       "  1.69474893 & 1.00616011 & 0.27416103 & 2.15130109 & 1.3981641 & -0.42336713\\\\\n",
       "  0.6797168 & -0.35265721\\\\\n",
       "\\end{bmatrix}) \\end{gather}"
      ],
      "text/plain": [
       "<IPython.core.display.Latex object>"
      ]
     },
     "metadata": {},
     "output_type": "display_data"
    },
    {
     "data": {
      "text/latex": [
       "Camada: 2"
      ],
      "text/plain": [
       "<IPython.core.display.Latex object>"
      ]
     },
     "metadata": {},
     "output_type": "display_data"
    },
    {
     "data": {
      "text/latex": [
       "Y = Xw + b"
      ],
      "text/plain": [
       "<IPython.core.display.Latex object>"
      ]
     },
     "metadata": {},
     "output_type": "display_data"
    },
    {
     "data": {
      "text/latex": [
       "\\begin{gather}\n",
       "\\begin{bmatrix}\n",
       "  0.01324819 & 0.24262375 & -0.10341371 & -0.05865439 & 0.03116092 & 1.29247139\\\\\n",
       "  0.09851171 & -0.03282601 & 0.02642952 & 0.15175675\\\\\n",
       "\\end{bmatrix} = \n",
       "\\begin{bmatrix}\n",
       "  0.88196659 & 0.53859291 & 0.66825042 & 0.7272462 & 0.8504255 & 0.63779696\\\\\n",
       "  0.84484767 & 0.732268 & 0.56811415 & 0.8957903 & 0.8018924 & 0.39571131\\\\\n",
       "  0.66367549 & 0.4127382\\\\\n",
       "\\end{bmatrix} \\cdot \n",
       "\\begin{bmatrix}\n",
       "  -1.33007904e-01 & -3.19873838e-01 & 3.12289648e-01 & 5.44425624e-01\\\\\n",
       "  -2.40136695e-01 & -1.21983716e-01 & 3.20838466e-01 & -1.57720659e-02\\\\\n",
       "  5.10500200e-02 & 2.49744640e-01\\\\\n",
       "  1.44843176e-01 & -2.12778923e-01 & 2.51928743e-01 & 2.60389130e-01\\\\\n",
       "  5.89364324e-02 & 5.40449131e-02 & -2.15074062e-01 & -5.87433873e-02\\\\\n",
       "  -2.54399765e-01 & -1.27031972e-01\\\\\n",
       "  1.09710159e-02 & -2.62459799e-01 & 2.47651257e-01 & 3.42652004e-01\\\\\n",
       "  -4.94197238e-01 & -4.04101445e-01 & -5.57787850e-02 & -1.24256963e-04\\\\\n",
       "  4.24420156e-01 & -2.95262326e-01\\\\\n",
       "  2.61873604e-01 & -2.52425778e-01 & -4.87390329e-01 & -1.65755302e-01\\\\\n",
       "  -7.59762305e-02 & -1.11914918e-01 & -5.69819665e-01 & -3.35198662e-01\\\\\n",
       "  -3.07921328e-01 & -1.66940279e-01\\\\\n",
       "  3.62810378e-01 & -2.31630294e-01 & -4.83955792e-01 & 1.78897210e-01\\\\\n",
       "  -8.72346950e-02 & 4.45511686e-01 & -2.90492456e-01 & 4.92516072e-01\\\\\n",
       "  -1.76430145e-01 & -3.79714330e-01\\\\\n",
       "  -3.45536919e-01 & 1.66322303e-01 & 2.11091389e-01 & 1.20571803e-01\\\\\n",
       "  2.11626577e-01 & 1.07792054e-01 & 4.68884385e-03 & -1.37516549e-01\\\\\n",
       "  1.77592936e-03 & -1.27084903e-01\\\\\n",
       "  1.88005262e-01 & -3.17455603e-01 & 4.53486811e-01 & -3.24409354e-01\\\\\n",
       "  4.37556228e-01 & 8.36375335e-02 & 3.43522032e-01 & -6.98426163e-02\\\\\n",
       "  8.93349102e-02 & 2.39747736e-01\\\\\n",
       "  -6.92029632e-02 & 3.94088904e-01 & -2.38063534e-01 & -2.38306382e-01\\\\\n",
       "  -7.95567333e-02 & 4.38447270e-01 & 2.63059898e-01 & 2.59618195e-01\\\\\n",
       "  -2.33137509e-01 & -3.32409535e-03\\\\\n",
       "  -6.71005825e-03 & 6.54788527e-01 & -3.74572578e-01 & 3.49645918e-01\\\\\n",
       "  5.56264974e-01 & 4.51567594e-01 & 2.28849670e-01 & -1.81322623e-01\\\\\n",
       "  2.66961728e-01 & 4.77533534e-01\\\\\n",
       "  -3.67692679e-01 & -5.79460823e-02 & -2.20436108e-02 & -3.94179070e-01\\\\\n",
       "  -2.97222508e-02 & 1.66753691e-01 & -1.94778150e-01 & -2.71942785e-01\\\\\n",
       "  3.94793701e-01 & -4.51994953e-01\\\\\n",
       "  -2.37287506e-01 & 1.51631488e-01 & -3.79901213e-01 & 2.07545983e-02\\\\\n",
       "  -7.88562538e-03 & 6.16485307e-01 & 2.99619367e-03 & -3.97932471e-02\\\\\n",
       "  -1.23183603e-01 & 3.22044272e-01\\\\\n",
       "  -2.90372804e-01 & -3.25690784e-01 & 6.27782019e-02 & 1.11663104e-01\\\\\n",
       "  2.50560045e-02 & -3.60040747e-01 & 7.31756291e-02 & 4.47453671e-01\\\\\n",
       "  -3.23762860e-01 & 7.59893172e-02\\\\\n",
       "  -4.25573079e-01 & 3.14135384e-01 & 1.57722891e-01 & -2.89735829e-01\\\\\n",
       "  1.40616962e-01 & 4.71071219e-01 & -3.92875224e-01 & -2.99715929e-01\\\\\n",
       "  9.07420659e-02 & 1.90690488e-01\\\\\n",
       "  2.64989208e-01 & -2.52683236e-01 & -8.88650614e-02 & -3.97278152e-02\\\\\n",
       "  -6.01121343e-01 & -4.49495296e-01 & -6.00915104e-02 & -3.45647242e-01\\\\\n",
       "  4.14338790e-01 & -1.54962076e-01\\\\\n",
       "\\end{bmatrix} + \n",
       "\\begin{bmatrix}\n",
       "  0.46988746 & 0.65184332 & 0.18690933 & -0.26563278 & 0.08630506 & -0.00188193\\\\\n",
       "  0.44290348 & 0.33737289 & -0.20676576 & 0.30516824\\\\\n",
       "\\end{bmatrix}\\end{gather}"
      ],
      "text/plain": [
       "<IPython.core.display.Latex object>"
      ]
     },
     "metadata": {},
     "output_type": "display_data"
    },
    {
     "data": {
      "text/latex": [
       "f_{custo}(\n",
       "\\begin{bmatrix}\n",
       "  0 & 0 & 0 & 0 & 0 & 0 & 1 & 0 & 0 & 0\\\\\n",
       "\\end{bmatrix},\n",
       "\\begin{bmatrix}\n",
       "  0.01324819 & 0.24262375 & -0.10341371 & -0.05865439 & 0.03116092 & 1.29247139\\\\\n",
       "  0.09851171 & -0.03282601 & 0.02642952 & 0.15175675\\\\\n",
       "\\end{bmatrix}) = \n",
       "\\begin{bmatrix}\n",
       "  0.25821171541181875\\\\\n",
       "\\end{bmatrix}"
      ],
      "text/plain": [
       "<IPython.core.display.Latex object>"
      ]
     },
     "metadata": {},
     "output_type": "display_data"
    },
    {
     "data": {
      "text/latex": [
       "\\nabla = \\frac{\\partial E}{\\partial Y} = \n",
       "\\begin{bmatrix}\n",
       "  0.00264964 & 0.04852475 & -0.02068274 & -0.01173088 & 0.00623218 & 0.25849428\\\\\n",
       "  -0.18029766 & -0.0065652 & 0.0052859 & 0.03035135\\\\\n",
       "\\end{bmatrix}"
      ],
      "text/plain": [
       "<IPython.core.display.Latex object>"
      ]
     },
     "metadata": {},
     "output_type": "display_data"
    },
    {
     "data": {
      "text/latex": [
       "Camada: 2"
      ],
      "text/plain": [
       "<IPython.core.display.Latex object>"
      ]
     },
     "metadata": {},
     "output_type": "display_data"
    },
    {
     "data": {
      "text/latex": [
       "\\frac{\\partial E}{\\partial X} = \\frac{\\partial E}{\\partial Y} W^T"
      ],
      "text/plain": [
       "<IPython.core.display.Latex object>"
      ]
     },
     "metadata": {},
     "output_type": "display_data"
    },
    {
     "data": {
      "text/latex": [
       "\n",
       "\\begin{bmatrix}\n",
       "  -0.11164143 & 0.03009386 & -0.12604685 & 0.06931043 & 0.14893519 & 0.02676699\\\\\n",
       "  -0.0498621 & 0.08903259 & 0.13142987 & 0.06948515 & 0.18249625 & -0.12763012\\\\\n",
       "  0.21596755 & -0.11860306\\\\\n",
       "\\end{bmatrix} = \n",
       "\\begin{bmatrix}\n",
       "  0.00264964 & 0.04852475 & -0.02068274 & -0.01173088 & 0.00623218 & 0.25849428\\\\\n",
       "  -0.18029766 & -0.0065652 & 0.0052859 & 0.03035135\\\\\n",
       "\\end{bmatrix} \\cdot \n",
       "\\begin{bmatrix}\n",
       "  -1.33007904e-01 & 1.44843176e-01 & 1.09710159e-02 & 2.61873604e-01\\\\\n",
       "  3.62810378e-01 & -3.45536919e-01 & 1.88005262e-01 & -6.92029632e-02\\\\\n",
       "  -6.71005825e-03 & -3.67692679e-01 & -2.37287506e-01 & -2.90372804e-01\\\\\n",
       "  -4.25573079e-01 & 2.64989208e-01\\\\\n",
       "  -3.19873838e-01 & -2.12778923e-01 & -2.62459799e-01 & -2.52425778e-01\\\\\n",
       "  -2.31630294e-01 & 1.66322303e-01 & -3.17455603e-01 & 3.94088904e-01\\\\\n",
       "  6.54788527e-01 & -5.79460823e-02 & 1.51631488e-01 & -3.25690784e-01\\\\\n",
       "  3.14135384e-01 & -2.52683236e-01\\\\\n",
       "  3.12289648e-01 & 2.51928743e-01 & 2.47651257e-01 & -4.87390329e-01\\\\\n",
       "  -4.83955792e-01 & 2.11091389e-01 & 4.53486811e-01 & -2.38063534e-01\\\\\n",
       "  -3.74572578e-01 & -2.20436108e-02 & -3.79901213e-01 & 6.27782019e-02\\\\\n",
       "  1.57722891e-01 & -8.88650614e-02\\\\\n",
       "  5.44425624e-01 & 2.60389130e-01 & 3.42652004e-01 & -1.65755302e-01\\\\\n",
       "  1.78897210e-01 & 1.20571803e-01 & -3.24409354e-01 & -2.38306382e-01\\\\\n",
       "  3.49645918e-01 & -3.94179070e-01 & 2.07545983e-02 & 1.11663104e-01\\\\\n",
       "  -2.89735829e-01 & -3.97278152e-02\\\\\n",
       "  -2.40136695e-01 & 5.89364324e-02 & -4.94197238e-01 & -7.59762305e-02\\\\\n",
       "  -8.72346950e-02 & 2.11626577e-01 & 4.37556228e-01 & -7.95567333e-02\\\\\n",
       "  5.56264974e-01 & -2.97222508e-02 & -7.88562538e-03 & 2.50560045e-02\\\\\n",
       "  1.40616962e-01 & -6.01121343e-01\\\\\n",
       "  -1.21983716e-01 & 5.40449131e-02 & -4.04101445e-01 & -1.11914918e-01\\\\\n",
       "  4.45511686e-01 & 1.07792054e-01 & 8.36375335e-02 & 4.38447270e-01\\\\\n",
       "  4.51567594e-01 & 1.66753691e-01 & 6.16485307e-01 & -3.60040747e-01\\\\\n",
       "  4.71071219e-01 & -4.49495296e-01\\\\\n",
       "  3.20838466e-01 & -2.15074062e-01 & -5.57787850e-02 & -5.69819665e-01\\\\\n",
       "  -2.90492456e-01 & 4.68884385e-03 & 3.43522032e-01 & 2.63059898e-01\\\\\n",
       "  2.28849670e-01 & -1.94778150e-01 & 2.99619367e-03 & 7.31756291e-02\\\\\n",
       "  -3.92875224e-01 & -6.00915104e-02\\\\\n",
       "  -1.57720659e-02 & -5.87433873e-02 & -1.24256963e-04 & -3.35198662e-01\\\\\n",
       "  4.92516072e-01 & -1.37516549e-01 & -6.98426163e-02 & 2.59618195e-01\\\\\n",
       "  -1.81322623e-01 & -2.71942785e-01 & -3.97932471e-02 & 4.47453671e-01\\\\\n",
       "  -2.99715929e-01 & -3.45647242e-01\\\\\n",
       "  5.10500200e-02 & -2.54399765e-01 & 4.24420156e-01 & -3.07921328e-01\\\\\n",
       "  -1.76430145e-01 & 1.77592936e-03 & 8.93349102e-02 & -2.33137509e-01\\\\\n",
       "  2.66961728e-01 & 3.94793701e-01 & -1.23183603e-01 & -3.23762860e-01\\\\\n",
       "  9.07420659e-02 & 4.14338790e-01\\\\\n",
       "  2.49744640e-01 & -1.27031972e-01 & -2.95262326e-01 & -1.66940279e-01\\\\\n",
       "  -3.79714330e-01 & -1.27084903e-01 & 2.39747736e-01 & -3.32409535e-03\\\\\n",
       "  4.77533534e-01 & -4.51994953e-01 & 3.22044272e-01 & 7.59893172e-02\\\\\n",
       "  1.90690488e-01 & -1.54962076e-01\\\\\n",
       "\\end{bmatrix}"
      ],
      "text/plain": [
       "<IPython.core.display.Latex object>"
      ]
     },
     "metadata": {},
     "output_type": "display_data"
    },
    {
     "data": {
      "text/latex": [
       "W = W - \\lambda (X^T \\cdot \\nabla f_{custo})"
      ],
      "text/plain": [
       "<IPython.core.display.Latex object>"
      ]
     },
     "metadata": {},
     "output_type": "display_data"
    },
    {
     "data": {
      "text/latex": [
       "\\begin{gather}\n",
       "\\begin{bmatrix}\n",
       "  -1.34643728e-01 & -3.49831884e-01 & 3.25058689e-01 & 5.51667994e-01\\\\\n",
       "  -2.43984300e-01 & -2.81572038e-01 & 4.32150025e-01 & -1.17188641e-02\\\\\n",
       "  4.77866261e-02 & 2.31006426e-01\\\\\n",
       "  1.43844223e-01 & -2.31073483e-01 & 2.59726448e-01 & 2.64811847e-01\\\\\n",
       "  5.65868051e-02 & -4.34113165e-02 & -1.47099133e-01 & -5.62682077e-02\\\\\n",
       "  -2.56392631e-01 & -1.38474888e-01\\\\\n",
       "  9.73158089e-03 & -2.85158478e-01 & 2.57326133e-01 & 3.48139419e-01\\\\\n",
       "  -4.97112500e-01 & -5.25018681e-01 & 2.85600048e-02 & 2.94678200e-03\\\\\n",
       "  4.21947540e-01 & -3.09459938e-01\\\\\n",
       "  2.60524746e-01 & -2.77128386e-01 & -4.76861317e-01 & -1.59783436e-01\\\\\n",
       "  -7.91488633e-02 & -2.43507204e-01 & -4.78035114e-01 & -3.31856499e-01\\\\\n",
       "  -3.10612235e-01 & -1.82391312e-01\\\\\n",
       "  3.61233054e-01 & -2.60516973e-01 & -4.71643400e-01 & 1.85880576e-01\\\\\n",
       "  -9.09447011e-02 & 2.91630598e-01 & -1.83161647e-01 & 4.96424322e-01\\\\\n",
       "  -1.79576833e-01 & -3.97782424e-01\\\\\n",
       "  -3.46719871e-01 & 1.44658046e-01 & 2.20325362e-01 & 1.25809145e-01\\\\\n",
       "  2.08844169e-01 & -7.61475051e-03 & 8.51841525e-02 & -1.34585464e-01\\\\\n",
       "  -5.84004353e-04 & -1.40635503e-01\\\\\n",
       "  1.86438284e-01 & -3.46152819e-01 & 4.65718448e-01 & -3.17471790e-01\\\\\n",
       "  4.33870555e-01 & -6.92342684e-02 & 4.50148872e-01 & -6.59599998e-02\\\\\n",
       "  8.62088612e-02 & 2.21798149e-01\\\\\n",
       "  -7.05611345e-02 & 3.69215718e-01 & -2.27461816e-01 & -2.32293280e-01\\\\\n",
       "  -8.27512739e-02 & 3.05946308e-01 & 3.55478243e-01 & 2.62983436e-01\\\\\n",
       "  -2.35846998e-01 & -1.88818216e-02\\\\\n",
       "  -7.76376585e-03 & 6.35491209e-01 & -3.66347467e-01 & 3.54311052e-01\\\\\n",
       "  5.53786560e-01 & 3.48769615e-01 & 3.00550425e-01 & -1.78711774e-01\\\\\n",
       "  2.64859630e-01 & 4.65463412e-01\\\\\n",
       "  -3.69354143e-01 & -8.83736827e-02 & -9.07443074e-03 & -3.86823185e-01\\\\\n",
       "  -3.36301622e-02 & 4.66402456e-03 & -8.17219248e-02 & -2.67826055e-01\\\\\n",
       "  3.91479157e-01 & -4.71026865e-01\\\\\n",
       "  -2.38774813e-01 & 1.24393348e-01 & -3.68291479e-01 & 2.73394296e-02\\\\\n",
       "  -1.13839045e-02 & 4.71386089e-01 & 1.04201719e-01 & -3.61080375e-02\\\\\n",
       "  -1.26150712e-01 & 3.05007309e-01\\\\\n",
       "  -2.91106748e-01 & -3.39132039e-01 & 6.85072784e-02 & 1.14912533e-01\\\\\n",
       "  2.33297023e-02 & -4.31643123e-01 & 1.23117705e-01 & 4.49272218e-01\\\\\n",
       "  -3.25227045e-01 & 6.75820563e-02\\\\\n",
       "  -4.26804029e-01 & 2.91592103e-01 & 1.67331531e-01 & -2.84285982e-01\\\\\n",
       "  1.37721658e-01 & 3.50981798e-01 & -3.09113828e-01 & -2.96665915e-01\\\\\n",
       "  8.82863782e-02 & 1.76590075e-01\\\\\n",
       "  2.64223684e-01 & -2.66702848e-01 & -8.28894708e-02 & -3.63385681e-02\\\\\n",
       "  -6.02921925e-01 & -5.24178620e-01 & -8.00049824e-03 & -3.43750445e-01\\\\\n",
       "  4.12811604e-01 & -1.63731090e-01\\\\\n",
       "\\end{bmatrix} = \n",
       "\\begin{bmatrix}\n",
       "  -1.33007904e-01 & -3.19873838e-01 & 3.12289648e-01 & 5.44425624e-01\\\\\n",
       "  -2.40136695e-01 & -1.21983716e-01 & 3.20838466e-01 & -1.57720659e-02\\\\\n",
       "  5.10500200e-02 & 2.49744640e-01\\\\\n",
       "  1.44843176e-01 & -2.12778923e-01 & 2.51928743e-01 & 2.60389130e-01\\\\\n",
       "  5.89364324e-02 & 5.40449131e-02 & -2.15074062e-01 & -5.87433873e-02\\\\\n",
       "  -2.54399765e-01 & -1.27031972e-01\\\\\n",
       "  1.09710159e-02 & -2.62459799e-01 & 2.47651257e-01 & 3.42652004e-01\\\\\n",
       "  -4.94197238e-01 & -4.04101445e-01 & -5.57787850e-02 & -1.24256963e-04\\\\\n",
       "  4.24420156e-01 & -2.95262326e-01\\\\\n",
       "  2.61873604e-01 & -2.52425778e-01 & -4.87390329e-01 & -1.65755302e-01\\\\\n",
       "  -7.59762305e-02 & -1.11914918e-01 & -5.69819665e-01 & -3.35198662e-01\\\\\n",
       "  -3.07921328e-01 & -1.66940279e-01\\\\\n",
       "  3.62810378e-01 & -2.31630294e-01 & -4.83955792e-01 & 1.78897210e-01\\\\\n",
       "  -8.72346950e-02 & 4.45511686e-01 & -2.90492456e-01 & 4.92516072e-01\\\\\n",
       "  -1.76430145e-01 & -3.79714330e-01\\\\\n",
       "  -3.45536919e-01 & 1.66322303e-01 & 2.11091389e-01 & 1.20571803e-01\\\\\n",
       "  2.11626577e-01 & 1.07792054e-01 & 4.68884385e-03 & -1.37516549e-01\\\\\n",
       "  1.77592936e-03 & -1.27084903e-01\\\\\n",
       "  1.88005262e-01 & -3.17455603e-01 & 4.53486811e-01 & -3.24409354e-01\\\\\n",
       "  4.37556228e-01 & 8.36375335e-02 & 3.43522032e-01 & -6.98426163e-02\\\\\n",
       "  8.93349102e-02 & 2.39747736e-01\\\\\n",
       "  -6.92029632e-02 & 3.94088904e-01 & -2.38063534e-01 & -2.38306382e-01\\\\\n",
       "  -7.95567333e-02 & 4.38447270e-01 & 2.63059898e-01 & 2.59618195e-01\\\\\n",
       "  -2.33137509e-01 & -3.32409535e-03\\\\\n",
       "  -6.71005825e-03 & 6.54788527e-01 & -3.74572578e-01 & 3.49645918e-01\\\\\n",
       "  5.56264974e-01 & 4.51567594e-01 & 2.28849670e-01 & -1.81322623e-01\\\\\n",
       "  2.66961728e-01 & 4.77533534e-01\\\\\n",
       "  -3.67692679e-01 & -5.79460823e-02 & -2.20436108e-02 & -3.94179070e-01\\\\\n",
       "  -2.97222508e-02 & 1.66753691e-01 & -1.94778150e-01 & -2.71942785e-01\\\\\n",
       "  3.94793701e-01 & -4.51994953e-01\\\\\n",
       "  -2.37287506e-01 & 1.51631488e-01 & -3.79901213e-01 & 2.07545983e-02\\\\\n",
       "  -7.88562538e-03 & 6.16485307e-01 & 2.99619367e-03 & -3.97932471e-02\\\\\n",
       "  -1.23183603e-01 & 3.22044272e-01\\\\\n",
       "  -2.90372804e-01 & -3.25690784e-01 & 6.27782019e-02 & 1.11663104e-01\\\\\n",
       "  2.50560045e-02 & -3.60040747e-01 & 7.31756291e-02 & 4.47453671e-01\\\\\n",
       "  -3.23762860e-01 & 7.59893172e-02\\\\\n",
       "  -4.25573079e-01 & 3.14135384e-01 & 1.57722891e-01 & -2.89735829e-01\\\\\n",
       "  1.40616962e-01 & 4.71071219e-01 & -3.92875224e-01 & -2.99715929e-01\\\\\n",
       "  9.07420659e-02 & 1.90690488e-01\\\\\n",
       "  2.64989208e-01 & -2.52683236e-01 & -8.88650614e-02 & -3.97278152e-02\\\\\n",
       "  -6.01121343e-01 & -4.49495296e-01 & -6.00915104e-02 & -3.45647242e-01\\\\\n",
       "  4.14338790e-01 & -1.54962076e-01\\\\\n",
       "\\end{bmatrix} - 0.7\n",
       "\\begin{bmatrix}\n",
       "  0.88196659\\\\\n",
       "  0.53859291\\\\\n",
       "  0.66825042\\\\\n",
       "  0.7272462\\\\\n",
       "  0.8504255\\\\\n",
       "  0.63779696\\\\\n",
       "  0.84484767\\\\\n",
       "  0.732268\\\\\n",
       "  0.56811415\\\\\n",
       "  0.8957903\\\\\n",
       "  0.8018924\\\\\n",
       "  0.39571131\\\\\n",
       "  0.66367549\\\\\n",
       "  0.4127382\\\\\n",
       "\\end{bmatrix} \\cdot \n",
       "\\begin{bmatrix}\n",
       "  0.00264964 & 0.04852475 & -0.02068274 & -0.01173088 & 0.00623218 & 0.25849428\\\\\n",
       "  -0.18029766 & -0.0065652 & 0.0052859 & 0.03035135\\\\\n",
       "\\end{bmatrix}\\end{gather}"
      ],
      "text/plain": [
       "<IPython.core.display.Latex object>"
      ]
     },
     "metadata": {},
     "output_type": "display_data"
    },
    {
     "data": {
      "text/latex": [
       "B = B - \\lambda (\\nabla f_{custo})"
      ],
      "text/plain": [
       "<IPython.core.display.Latex object>"
      ]
     },
     "metadata": {},
     "output_type": "display_data"
    },
    {
     "data": {
      "text/latex": [
       "\\begin{gather}\n",
       "\\begin{bmatrix}\n",
       "  0.46803271 & 0.61787599 & 0.20138725 & -0.25742117 & 0.08194253 & -0.18282792\\\\\n",
       "  0.56911184 & 0.34196853 & -0.2104659 & 0.2839223\\\\\n",
       "\\end{bmatrix} = \n",
       "\\begin{bmatrix}\n",
       "  0.46988746 & 0.65184332 & 0.18690933 & -0.26563278 & 0.08630506 & -0.00188193\\\\\n",
       "  0.44290348 & 0.33737289 & -0.20676576 & 0.30516824\\\\\n",
       "\\end{bmatrix} - 0.7\n",
       "\\begin{bmatrix}\n",
       "  0.00264964 & 0.04852475 & -0.02068274 & -0.01173088 & 0.00623218 & 0.25849428\\\\\n",
       "  -0.18029766 & -0.0065652 & 0.0052859 & 0.03035135\\\\\n",
       "\\end{bmatrix}\\end{gather}"
      ],
      "text/plain": [
       "<IPython.core.display.Latex object>"
      ]
     },
     "metadata": {},
     "output_type": "display_data"
    },
    {
     "data": {
      "text/latex": [
       "Camada: 1"
      ],
      "text/plain": [
       "<IPython.core.display.Latex object>"
      ]
     },
     "metadata": {},
     "output_type": "display_data"
    },
    {
     "data": {
      "text/latex": [
       "\\frac{\\partial E}{\\partial X} = \\frac{\\partial E}{\\partial Y} \\sigma^{'}(X)"
      ],
      "text/plain": [
       "<IPython.core.display.Latex object>"
      ]
     },
     "metadata": {},
     "output_type": "display_data"
    },
    {
     "data": {
      "text/latex": [
       "\\begin{gather}\n",
       "\\begin{bmatrix}\n",
       "  -0.01162204 & 0.00747864 & -0.02794355 & 0.01374836 & 0.01894485 & 0.0061835\\\\\n",
       "  -0.00653593 & 0.01745498 & 0.03224769 & 0.00648644 & 0.02899153 & -0.03051941\\\\\n",
       "  0.04820619 & -0.02874765\\\\\n",
       "\\end{bmatrix} = \n",
       "\\begin{bmatrix}\n",
       "  -0.11164143 & 0.03009386 & -0.12604685 & 0.06931043 & 0.14893519 & 0.02676699\\\\\n",
       "  -0.0498621 & 0.08903259 & 0.13142987 & 0.06948515 & 0.18249625 & -0.12763012\\\\\n",
       "  0.21596755 & -0.11860306\\\\\n",
       "\\end{bmatrix} \\cdot  \\sigma^{'}(\n",
       "\\begin{bmatrix}\n",
       "  2.01118649 & 0.1546793 & 0.70028255 & 0.9806955 & 1.73794219 & 0.56581503\\\\\n",
       "  1.69474893 & 1.00616011 & 0.27416103 & 2.15130109 & 1.3981641 & -0.42336713\\\\\n",
       "  0.6797168 & -0.35265721\\\\\n",
       "\\end{bmatrix}) \\end{gather}"
      ],
      "text/plain": [
       "<IPython.core.display.Latex object>"
      ]
     },
     "metadata": {},
     "output_type": "display_data"
    },
    {
     "data": {
      "text/latex": [
       "Camada: 0"
      ],
      "text/plain": [
       "<IPython.core.display.Latex object>"
      ]
     },
     "metadata": {},
     "output_type": "display_data"
    },
    {
     "data": {
      "text/latex": [
       "\\frac{\\partial E}{\\partial X} = \\frac{\\partial E}{\\partial Y} W^T"
      ],
      "text/plain": [
       "<IPython.core.display.Latex object>"
      ]
     },
     "metadata": {},
     "output_type": "display_data"
    },
    {
     "data": {
      "text/latex": [
       "\n",
       "\\begin{bmatrix}\n",
       "  0.01205462 & 0.02468876 & 0.04301402 & 0.0214849 & 0.012723 & -0.00285745\\\\\n",
       "  0.03128022\\\\\n",
       "\\end{bmatrix} = \n",
       "\\begin{bmatrix}\n",
       "  -0.01162204 & 0.00747864 & -0.02794355 & 0.01374836 & 0.01894485 & 0.0061835\\\\\n",
       "  -0.00653593 & 0.01745498 & 0.03224769 & 0.00648644 & 0.02899153 & -0.03051941\\\\\n",
       "  0.04820619 & -0.02874765\\\\\n",
       "\\end{bmatrix} \\cdot \n",
       "\\begin{bmatrix}\n",
       "  -0.09992395 & 0.21338675 & -0.06302987 & 0.53898688 & 0.16707845 & 0.83811133\\\\\n",
       "  0.93153291\\\\\n",
       "  0.5593597 & -0.94077886 & -0.36685146 & 0.15851251 & -0.11353298 & -0.0665309\\\\\n",
       "  0.83814833\\\\\n",
       "  0.20604582 & -0.59024206 & -0.97517691 & 0.38945707 & 0.54845819 & 0.66470275\\\\\n",
       "  0.57493744\\\\\n",
       "  0.05139797 & -1.21610805 & -0.81900789 & 0.35091748 & 0.8762554 & 0.41234609\\\\\n",
       "  1.0414918\\\\\n",
       "  0.41498767 & 0.01204319 & -0.14360608 & 0.57163706 & 0.03705396 & 0.60381915\\\\\n",
       "  0.40359602\\\\\n",
       "  0.43431102 & -0.05560442 & -0.71656573 & 0.26823918 & 0.52105137 & 0.73225731\\\\\n",
       "  0.39048927\\\\\n",
       "  0.04468721 & 0.20955285 & -0.13403329 & 0.63591189 & 0.21750816 & 0.57612727\\\\\n",
       "  0.16549259\\\\\n",
       "  -0.02995345 & 0.11375846 & -0.42045581 & 0.52299827 & 0.08063507 & 0.60049245\\\\\n",
       "  0.86197256\\\\\n",
       "  -0.2981583 & 0.31085925 & 0.25602716 & 0.15937695 & 0.05280111 & 0.08237963\\\\\n",
       "  -0.02994921\\\\\n",
       "  0.8272922 & 0.13247852 & 0.0351427 & 0.90425136 & -0.02708035 & 0.54488104\\\\\n",
       "  0.95572178\\\\\n",
       "  0.57771286 & 0.316981 & 0.52507124 & 0.08295608 & 0.00967995 & 0.75948072\\\\\n",
       "  -0.01765538\\\\\n",
       "  0.72376179 & -0.55966892 & -0.43164747 & 0.05563292 & 0.45119899 & 0.29628727\\\\\n",
       "  0.08350591\\\\\n",
       "  0.59887603 & -0.49386233 & -0.47490554 & 0.28233709 & 0.72150807 & -0.10726011\\\\\n",
       "  0.49071588\\\\\n",
       "  0.60012788 & -0.71599079 & -0.99703945 & 0.35347198 & 0.27604456 & 0.57026462\\\\\n",
       "  0.42674713\\\\\n",
       "\\end{bmatrix}"
      ],
      "text/plain": [
       "<IPython.core.display.Latex object>"
      ]
     },
     "metadata": {},
     "output_type": "display_data"
    },
    {
     "data": {
      "text/latex": [
       "W = W - \\lambda (X^T \\cdot \\nabla f_{custo})"
      ],
      "text/plain": [
       "<IPython.core.display.Latex object>"
      ]
     },
     "metadata": {},
     "output_type": "display_data"
    },
    {
     "data": {
      "text/latex": [
       "\\begin{gather}\n",
       "\\begin{bmatrix}\n",
       "  -0.09992395 & 0.5593597 & 0.20604582 & 0.05139797 & 0.41498767 & 0.43431102\\\\\n",
       "  0.04468721 & -0.02995345 & -0.2981583 & 0.8272922 & 0.57771286 & 0.72376179\\\\\n",
       "  0.59887603 & 0.60012788\\\\\n",
       "  0.21338675 & -0.94077886 & -0.59024206 & -1.21610805 & 0.01204319 & -0.05560442\\\\\n",
       "  0.20955285 & 0.11375846 & 0.31085925 & 0.13247852 & 0.316981 & -0.55966892\\\\\n",
       "  -0.49386233 & -0.71599079\\\\\n",
       "  -0.05489444 & -0.37208651 & -0.95561642 & -0.82863174 & -0.15686748 & -0.72089417\\\\\n",
       "  -0.12945814 & -0.43267429 & 0.23345378 & 0.03060219 & 0.50477717 & -0.41028389\\\\\n",
       "  -0.50864987 & -0.97691609\\\\\n",
       "  0.54712231 & 0.15327746 & 0.40901755 & 0.34129363 & 0.55837567 & 0.26391073\\\\\n",
       "  0.64048704 & 0.51077978 & 0.13680356 & 0.89971085 & 0.06266201 & 0.0769965\\\\\n",
       "  0.24859276 & 0.37359533\\\\\n",
       "  0.17521388 & -0.11876803 & 0.56801868 & 0.86663155 & 0.02379256 & 0.51672292\\\\\n",
       "  0.22208331 & 0.06841658 & 0.03022773 & -0.03162086 & -0.01061412 & 0.47256258\\\\\n",
       "  0.68776374 & 0.29616791\\\\\n",
       "  0.84624676 & -0.07176595 & 0.68426324 & 0.40272224 & 0.59055775 & 0.72792886\\\\\n",
       "  0.58070242 & 0.58827397 & 0.05980624 & 0.54034053 & 0.73918664 & 0.31765086\\\\\n",
       "  -0.14100444 & 0.59038797\\\\\n",
       "  0.93966834 & 0.83291328 & 0.59449793 & 1.03186795 & 0.39033462 & 0.38616082\\\\\n",
       "  0.17006774 & 0.84975407 & -0.05252259 & 0.95118127 & -0.03794945 & 0.10486949\\\\\n",
       "  0.45697155 & 0.44687049\\\\\n",
       "\\end{bmatrix} = \n",
       "\\begin{bmatrix}\n",
       "  -0.09992395 & 0.5593597 & 0.20604582 & 0.05139797 & 0.41498767 & 0.43431102\\\\\n",
       "  0.04468721 & -0.02995345 & -0.2981583 & 0.8272922 & 0.57771286 & 0.72376179\\\\\n",
       "  0.59887603 & 0.60012788\\\\\n",
       "  0.21338675 & -0.94077886 & -0.59024206 & -1.21610805 & 0.01204319 & -0.05560442\\\\\n",
       "  0.20955285 & 0.11375846 & 0.31085925 & 0.13247852 & 0.316981 & -0.55966892\\\\\n",
       "  -0.49386233 & -0.71599079\\\\\n",
       "  -0.06302987 & -0.36685146 & -0.97517691 & -0.81900789 & -0.14360608 & -0.71656573\\\\\n",
       "  -0.13403329 & -0.42045581 & 0.25602716 & 0.0351427 & 0.52507124 & -0.43164747\\\\\n",
       "  -0.47490554 & -0.99703945\\\\\n",
       "  0.53898688 & 0.15851251 & 0.38945707 & 0.35091748 & 0.57163706 & 0.26823918\\\\\n",
       "  0.63591189 & 0.52299827 & 0.15937695 & 0.90425136 & 0.08295608 & 0.05563292\\\\\n",
       "  0.28233709 & 0.35347198\\\\\n",
       "  0.16707845 & -0.11353298 & 0.54845819 & 0.8762554 & 0.03705396 & 0.52105137\\\\\n",
       "  0.21750816 & 0.08063507 & 0.05280111 & -0.02708035 & 0.00967995 & 0.45119899\\\\\n",
       "  0.72150807 & 0.27604456\\\\\n",
       "  0.83811133 & -0.0665309 & 0.66470275 & 0.41234609 & 0.60381915 & 0.73225731\\\\\n",
       "  0.57612727 & 0.60049245 & 0.08237963 & 0.54488104 & 0.75948072 & 0.29628727\\\\\n",
       "  -0.10726011 & 0.57026462\\\\\n",
       "  0.93153291 & 0.83814833 & 0.57493744 & 1.0414918 & 0.40359602 & 0.39048927\\\\\n",
       "  0.16549259 & 0.86197256 & -0.02994921 & 0.95572178 & -0.01765538 & 0.08350591\\\\\n",
       "  0.49071588 & 0.42674713\\\\\n",
       "\\end{bmatrix} - 0.7\n",
       "\\begin{bmatrix}\n",
       "  0\\\\\n",
       "  0\\\\\n",
       "  1\\\\\n",
       "  1\\\\\n",
       "  1\\\\\n",
       "  1\\\\\n",
       "  1\\\\\n",
       "\\end{bmatrix} \\cdot \n",
       "\\begin{bmatrix}\n",
       "  -0.01162204 & 0.00747864 & -0.02794355 & 0.01374836 & 0.01894485 & 0.0061835\\\\\n",
       "  -0.00653593 & 0.01745498 & 0.03224769 & 0.00648644 & 0.02899153 & -0.03051941\\\\\n",
       "  0.04820619 & -0.02874765\\\\\n",
       "\\end{bmatrix}\\end{gather}"
      ],
      "text/plain": [
       "<IPython.core.display.Latex object>"
      ]
     },
     "metadata": {},
     "output_type": "display_data"
    },
    {
     "data": {
      "text/latex": [
       "B = B - \\lambda (\\nabla f_{custo})"
      ],
      "text/plain": [
       "<IPython.core.display.Latex object>"
      ]
     },
     "metadata": {},
     "output_type": "display_data"
    },
    {
     "data": {
      "text/latex": [
       "\\begin{gather}\n",
       "\\begin{bmatrix}\n",
       "  -0.39335777 & -0.30030125 & -0.48253551 & -0.89093123 & 0.25218069 & -0.63398482\\\\\n",
       "  0.23831746 & -0.65170092 & -0.26904799 & -0.26615595 & 0.01833742 & -0.85698116\\\\\n",
       "  -0.26642293 & -0.96202269\\\\\n",
       "\\end{bmatrix} = \n",
       "\\begin{bmatrix}\n",
       "  -0.4014932 & -0.2950662 & -0.50209599 & -0.88130738 & 0.26544209 & -0.62965637\\\\\n",
       "  0.23374231 & -0.63948243 & -0.24647461 & -0.26161544 & 0.0386315 & -0.87834474\\\\\n",
       "  -0.2326786 & -0.98214605\\\\\n",
       "\\end{bmatrix} - 0.7\n",
       "\\begin{bmatrix}\n",
       "  -0.01162204 & 0.00747864 & -0.02794355 & 0.01374836 & 0.01894485 & 0.0061835\\\\\n",
       "  -0.00653593 & 0.01745498 & 0.03224769 & 0.00648644 & 0.02899153 & -0.03051941\\\\\n",
       "  0.04820619 & -0.02874765\\\\\n",
       "\\end{bmatrix}\\end{gather}"
      ],
      "text/plain": [
       "<IPython.core.display.Latex object>"
      ]
     },
     "metadata": {},
     "output_type": "display_data"
    },
    {
     "data": {
      "text/latex": [
       "Camada: 0"
      ],
      "text/plain": [
       "<IPython.core.display.Latex object>"
      ]
     },
     "metadata": {},
     "output_type": "display_data"
    },
    {
     "data": {
      "text/latex": [
       "Y = Xw + b"
      ],
      "text/plain": [
       "<IPython.core.display.Latex object>"
      ]
     },
     "metadata": {},
     "output_type": "display_data"
    },
    {
     "data": {
      "text/latex": [
       "\\begin{gather}\n",
       "\\begin{bmatrix}\n",
       "  -0.33478942 & -1.05380692 & -1.82234817 & -2.88427305 & 0.52234407 & -0.97617239\\\\\n",
       "  0.3630994 & -1.0005702 & -0.02289327 & 0.72421696 & 1.41780845 & -1.10317218\\\\\n",
       "  -0.6700591 & -2.0548017\\\\\n",
       "\\end{bmatrix} = \n",
       "\\begin{bmatrix}\n",
       "  1 & 1 & 1 & 0 & 0 & 0 & 0\\\\\n",
       "\\end{bmatrix} \\cdot \n",
       "\\begin{bmatrix}\n",
       "  -0.09992395 & 0.5593597 & 0.20604582 & 0.05139797 & 0.41498767 & 0.43431102\\\\\n",
       "  0.04468721 & -0.02995345 & -0.2981583 & 0.8272922 & 0.57771286 & 0.72376179\\\\\n",
       "  0.59887603 & 0.60012788\\\\\n",
       "  0.21338675 & -0.94077886 & -0.59024206 & -1.21610805 & 0.01204319 & -0.05560442\\\\\n",
       "  0.20955285 & 0.11375846 & 0.31085925 & 0.13247852 & 0.316981 & -0.55966892\\\\\n",
       "  -0.49386233 & -0.71599079\\\\\n",
       "  -0.05489444 & -0.37208651 & -0.95561642 & -0.82863174 & -0.15686748 & -0.72089417\\\\\n",
       "  -0.12945814 & -0.43267429 & 0.23345378 & 0.03060219 & 0.50477717 & -0.41028389\\\\\n",
       "  -0.50864987 & -0.97691609\\\\\n",
       "  0.54712231 & 0.15327746 & 0.40901755 & 0.34129363 & 0.55837567 & 0.26391073\\\\\n",
       "  0.64048704 & 0.51077978 & 0.13680356 & 0.89971085 & 0.06266201 & 0.0769965\\\\\n",
       "  0.24859276 & 0.37359533\\\\\n",
       "  0.17521388 & -0.11876803 & 0.56801868 & 0.86663155 & 0.02379256 & 0.51672292\\\\\n",
       "  0.22208331 & 0.06841658 & 0.03022773 & -0.03162086 & -0.01061412 & 0.47256258\\\\\n",
       "  0.68776374 & 0.29616791\\\\\n",
       "  0.84624676 & -0.07176595 & 0.68426324 & 0.40272224 & 0.59055775 & 0.72792886\\\\\n",
       "  0.58070242 & 0.58827397 & 0.05980624 & 0.54034053 & 0.73918664 & 0.31765086\\\\\n",
       "  -0.14100444 & 0.59038797\\\\\n",
       "  0.93966834 & 0.83291328 & 0.59449793 & 1.03186795 & 0.39033462 & 0.38616082\\\\\n",
       "  0.17006774 & 0.84975407 & -0.05252259 & 0.95118127 & -0.03794945 & 0.10486949\\\\\n",
       "  0.45697155 & 0.44687049\\\\\n",
       "\\end{bmatrix} + \n",
       "\\begin{bmatrix}\n",
       "  -0.39335777 & -0.30030125 & -0.48253551 & -0.89093123 & 0.25218069 & -0.63398482\\\\\n",
       "  0.23831746 & -0.65170092 & -0.26904799 & -0.26615595 & 0.01833742 & -0.85698116\\\\\n",
       "  -0.26642293 & -0.96202269\\\\\n",
       "\\end{bmatrix}\\end{gather}"
      ],
      "text/plain": [
       "<IPython.core.display.Latex object>"
      ]
     },
     "metadata": {},
     "output_type": "display_data"
    },
    {
     "data": {
      "text/latex": [
       "Camada: 1"
      ],
      "text/plain": [
       "<IPython.core.display.Latex object>"
      ]
     },
     "metadata": {},
     "output_type": "display_data"
    },
    {
     "data": {
      "text/latex": [
       "Y = \\sigma(X)"
      ],
      "text/plain": [
       "<IPython.core.display.Latex object>"
      ]
     },
     "metadata": {},
     "output_type": "display_data"
    },
    {
     "data": {
      "text/latex": [
       "\\begin{gather}\n",
       "\\begin{bmatrix}\n",
       "  0.41707574 & 0.25849474 & 0.13915235 & 0.0529365 & 0.62769572 & 0.27365193\\\\\n",
       "  0.5897905 & 0.26882933 & 0.49427693 & 0.67353494 & 0.80499462 & 0.249146\\\\\n",
       "  0.33848361 & 0.11356809\\\\\n",
       "\\end{bmatrix} = \\sigma(\n",
       "\\begin{bmatrix}\n",
       "  -0.33478942 & -1.05380692 & -1.82234817 & -2.88427305 & 0.52234407 & -0.97617239\\\\\n",
       "  0.3630994 & -1.0005702 & -0.02289327 & 0.72421696 & 1.41780845 & -1.10317218\\\\\n",
       "  -0.6700591 & -2.0548017\\\\\n",
       "\\end{bmatrix}) \\end{gather}"
      ],
      "text/plain": [
       "<IPython.core.display.Latex object>"
      ]
     },
     "metadata": {},
     "output_type": "display_data"
    },
    {
     "data": {
      "text/latex": [
       "Camada: 2"
      ],
      "text/plain": [
       "<IPython.core.display.Latex object>"
      ]
     },
     "metadata": {},
     "output_type": "display_data"
    },
    {
     "data": {
      "text/latex": [
       "Y = Xw + b"
      ],
      "text/plain": [
       "<IPython.core.display.Latex object>"
      ]
     },
     "metadata": {},
     "output_type": "display_data"
    },
    {
     "data": {
      "text/latex": [
       "\\begin{gather}\n",
       "\\begin{bmatrix}\n",
       "  0.05524933 & 0.46768526 & -0.02693276 & -0.15260616 & 0.38102271 & 0.33167362\\\\\n",
       "  1.06192311 & 0.28663615 & -0.05120102 & 0.34568419\\\\\n",
       "\\end{bmatrix} = \n",
       "\\begin{bmatrix}\n",
       "  0.41707574 & 0.25849474 & 0.13915235 & 0.0529365 & 0.62769572 & 0.27365193\\\\\n",
       "  0.5897905 & 0.26882933 & 0.49427693 & 0.67353494 & 0.80499462 & 0.249146\\\\\n",
       "  0.33848361 & 0.11356809\\\\\n",
       "\\end{bmatrix} \\cdot \n",
       "\\begin{bmatrix}\n",
       "  -1.34643728e-01 & -3.49831884e-01 & 3.25058689e-01 & 5.51667994e-01\\\\\n",
       "  -2.43984300e-01 & -2.81572038e-01 & 4.32150025e-01 & -1.17188641e-02\\\\\n",
       "  4.77866261e-02 & 2.31006426e-01\\\\\n",
       "  1.43844223e-01 & -2.31073483e-01 & 2.59726448e-01 & 2.64811847e-01\\\\\n",
       "  5.65868051e-02 & -4.34113165e-02 & -1.47099133e-01 & -5.62682077e-02\\\\\n",
       "  -2.56392631e-01 & -1.38474888e-01\\\\\n",
       "  9.73158089e-03 & -2.85158478e-01 & 2.57326133e-01 & 3.48139419e-01\\\\\n",
       "  -4.97112500e-01 & -5.25018681e-01 & 2.85600048e-02 & 2.94678200e-03\\\\\n",
       "  4.21947540e-01 & -3.09459938e-01\\\\\n",
       "  2.60524746e-01 & -2.77128386e-01 & -4.76861317e-01 & -1.59783436e-01\\\\\n",
       "  -7.91488633e-02 & -2.43507204e-01 & -4.78035114e-01 & -3.31856499e-01\\\\\n",
       "  -3.10612235e-01 & -1.82391312e-01\\\\\n",
       "  3.61233054e-01 & -2.60516973e-01 & -4.71643400e-01 & 1.85880576e-01\\\\\n",
       "  -9.09447011e-02 & 2.91630598e-01 & -1.83161647e-01 & 4.96424322e-01\\\\\n",
       "  -1.79576833e-01 & -3.97782424e-01\\\\\n",
       "  -3.46719871e-01 & 1.44658046e-01 & 2.20325362e-01 & 1.25809145e-01\\\\\n",
       "  2.08844169e-01 & -7.61475051e-03 & 8.51841525e-02 & -1.34585464e-01\\\\\n",
       "  -5.84004353e-04 & -1.40635503e-01\\\\\n",
       "  1.86438284e-01 & -3.46152819e-01 & 4.65718448e-01 & -3.17471790e-01\\\\\n",
       "  4.33870555e-01 & -6.92342684e-02 & 4.50148872e-01 & -6.59599998e-02\\\\\n",
       "  8.62088612e-02 & 2.21798149e-01\\\\\n",
       "  -7.05611345e-02 & 3.69215718e-01 & -2.27461816e-01 & -2.32293280e-01\\\\\n",
       "  -8.27512739e-02 & 3.05946308e-01 & 3.55478243e-01 & 2.62983436e-01\\\\\n",
       "  -2.35846998e-01 & -1.88818216e-02\\\\\n",
       "  -7.76376585e-03 & 6.35491209e-01 & -3.66347467e-01 & 3.54311052e-01\\\\\n",
       "  5.53786560e-01 & 3.48769615e-01 & 3.00550425e-01 & -1.78711774e-01\\\\\n",
       "  2.64859630e-01 & 4.65463412e-01\\\\\n",
       "  -3.69354143e-01 & -8.83736827e-02 & -9.07443074e-03 & -3.86823185e-01\\\\\n",
       "  -3.36301622e-02 & 4.66402456e-03 & -8.17219248e-02 & -2.67826055e-01\\\\\n",
       "  3.91479157e-01 & -4.71026865e-01\\\\\n",
       "  -2.38774813e-01 & 1.24393348e-01 & -3.68291479e-01 & 2.73394296e-02\\\\\n",
       "  -1.13839045e-02 & 4.71386089e-01 & 1.04201719e-01 & -3.61080375e-02\\\\\n",
       "  -1.26150712e-01 & 3.05007309e-01\\\\\n",
       "  -2.91106748e-01 & -3.39132039e-01 & 6.85072784e-02 & 1.14912533e-01\\\\\n",
       "  2.33297023e-02 & -4.31643123e-01 & 1.23117705e-01 & 4.49272218e-01\\\\\n",
       "  -3.25227045e-01 & 6.75820563e-02\\\\\n",
       "  -4.26804029e-01 & 2.91592103e-01 & 1.67331531e-01 & -2.84285982e-01\\\\\n",
       "  1.37721658e-01 & 3.50981798e-01 & -3.09113828e-01 & -2.96665915e-01\\\\\n",
       "  8.82863782e-02 & 1.76590075e-01\\\\\n",
       "  2.64223684e-01 & -2.66702848e-01 & -8.28894708e-02 & -3.63385681e-02\\\\\n",
       "  -6.02921925e-01 & -5.24178620e-01 & -8.00049824e-03 & -3.43750445e-01\\\\\n",
       "  4.12811604e-01 & -1.63731090e-01\\\\\n",
       "\\end{bmatrix} + \n",
       "\\begin{bmatrix}\n",
       "  0.46803271 & 0.61787599 & 0.20138725 & -0.25742117 & 0.08194253 & -0.18282792\\\\\n",
       "  0.56911184 & 0.34196853 & -0.2104659 & 0.2839223\\\\\n",
       "\\end{bmatrix}\\end{gather}"
      ],
      "text/plain": [
       "<IPython.core.display.Latex object>"
      ]
     },
     "metadata": {},
     "output_type": "display_data"
    },
    {
     "data": {
      "text/latex": [
       "f_{custo}(\n",
       "\\begin{bmatrix}\n",
       "  0 & 0 & 0 & 0 & 0 & 0 & 0 & 1 & 0 & 0\\\\\n",
       "\\end{bmatrix},\n",
       "\\begin{bmatrix}\n",
       "  0.05524933 & 0.46768526 & -0.02693276 & -0.15260616 & 0.38102271 & 0.33167362\\\\\n",
       "  1.06192311 & 0.28663615 & -0.05120102 & 0.34568419\\\\\n",
       "\\end{bmatrix}) = \n",
       "\\begin{bmatrix}\n",
       "  0.22596694618919733\\\\\n",
       "\\end{bmatrix}"
      ],
      "text/plain": [
       "<IPython.core.display.Latex object>"
      ]
     },
     "metadata": {},
     "output_type": "display_data"
    },
    {
     "data": {
      "text/latex": [
       "\\nabla = \\frac{\\partial E}{\\partial Y} = \n",
       "\\begin{bmatrix}\n",
       "  0.01104987 & 0.09353705 & -0.00538655 & -0.03052123 & 0.07620454 & 0.06633472\\\\\n",
       "  0.21238462 & -0.14267277 & -0.0102402 & 0.06913684\\\\\n",
       "\\end{bmatrix}"
      ],
      "text/plain": [
       "<IPython.core.display.Latex object>"
      ]
     },
     "metadata": {},
     "output_type": "display_data"
    },
    {
     "data": {
      "text/latex": [
       "Camada: 2"
      ],
      "text/plain": [
       "<IPython.core.display.Latex object>"
      ]
     },
     "metadata": {},
     "output_type": "display_data"
    },
    {
     "data": {
      "text/latex": [
       "\\frac{\\partial E}{\\partial X} = \\frac{\\partial E}{\\partial Y} W^T"
      ],
      "text/plain": [
       "<IPython.core.display.Latex object>"
      ]
     },
     "metadata": {},
     "output_type": "display_data"
    },
    {
     "data": {
      "text/latex": [
       "\n",
       "\\begin{bmatrix}\n",
       "  0.01886641 & -0.05823525 & -0.13135693 & -0.10139172 & -0.14648382 & 0.04765916\\\\\n",
       "  0.12480031 & 0.09514684 & 0.23465016 & -0.01846484 & 0.09020963 & -0.09561729\\\\\n",
       "  0.05209119 & -0.06939049\\\\\n",
       "\\end{bmatrix} = \n",
       "\\begin{bmatrix}\n",
       "  0.01104987 & 0.09353705 & -0.00538655 & -0.03052123 & 0.07620454 & 0.06633472\\\\\n",
       "  0.21238462 & -0.14267277 & -0.0102402 & 0.06913684\\\\\n",
       "\\end{bmatrix} \\cdot \n",
       "\\begin{bmatrix}\n",
       "  -1.34643728e-01 & 1.43844223e-01 & 9.73158089e-03 & 2.60524746e-01\\\\\n",
       "  3.61233054e-01 & -3.46719871e-01 & 1.86438284e-01 & -7.05611345e-02\\\\\n",
       "  -7.76376585e-03 & -3.69354143e-01 & -2.38774813e-01 & -2.91106748e-01\\\\\n",
       "  -4.26804029e-01 & 2.64223684e-01\\\\\n",
       "  -3.49831884e-01 & -2.31073483e-01 & -2.85158478e-01 & -2.77128386e-01\\\\\n",
       "  -2.60516973e-01 & 1.44658046e-01 & -3.46152819e-01 & 3.69215718e-01\\\\\n",
       "  6.35491209e-01 & -8.83736827e-02 & 1.24393348e-01 & -3.39132039e-01\\\\\n",
       "  2.91592103e-01 & -2.66702848e-01\\\\\n",
       "  3.25058689e-01 & 2.59726448e-01 & 2.57326133e-01 & -4.76861317e-01\\\\\n",
       "  -4.71643400e-01 & 2.20325362e-01 & 4.65718448e-01 & -2.27461816e-01\\\\\n",
       "  -3.66347467e-01 & -9.07443074e-03 & -3.68291479e-01 & 6.85072784e-02\\\\\n",
       "  1.67331531e-01 & -8.28894708e-02\\\\\n",
       "  5.51667994e-01 & 2.64811847e-01 & 3.48139419e-01 & -1.59783436e-01\\\\\n",
       "  1.85880576e-01 & 1.25809145e-01 & -3.17471790e-01 & -2.32293280e-01\\\\\n",
       "  3.54311052e-01 & -3.86823185e-01 & 2.73394296e-02 & 1.14912533e-01\\\\\n",
       "  -2.84285982e-01 & -3.63385681e-02\\\\\n",
       "  -2.43984300e-01 & 5.65868051e-02 & -4.97112500e-01 & -7.91488633e-02\\\\\n",
       "  -9.09447011e-02 & 2.08844169e-01 & 4.33870555e-01 & -8.27512739e-02\\\\\n",
       "  5.53786560e-01 & -3.36301622e-02 & -1.13839045e-02 & 2.33297023e-02\\\\\n",
       "  1.37721658e-01 & -6.02921925e-01\\\\\n",
       "  -2.81572038e-01 & -4.34113165e-02 & -5.25018681e-01 & -2.43507204e-01\\\\\n",
       "  2.91630598e-01 & -7.61475051e-03 & -6.92342684e-02 & 3.05946308e-01\\\\\n",
       "  3.48769615e-01 & 4.66402456e-03 & 4.71386089e-01 & -4.31643123e-01\\\\\n",
       "  3.50981798e-01 & -5.24178620e-01\\\\\n",
       "  4.32150025e-01 & -1.47099133e-01 & 2.85600048e-02 & -4.78035114e-01\\\\\n",
       "  -1.83161647e-01 & 8.51841525e-02 & 4.50148872e-01 & 3.55478243e-01\\\\\n",
       "  3.00550425e-01 & -8.17219248e-02 & 1.04201719e-01 & 1.23117705e-01\\\\\n",
       "  -3.09113828e-01 & -8.00049824e-03\\\\\n",
       "  -1.17188641e-02 & -5.62682077e-02 & 2.94678200e-03 & -3.31856499e-01\\\\\n",
       "  4.96424322e-01 & -1.34585464e-01 & -6.59599998e-02 & 2.62983436e-01\\\\\n",
       "  -1.78711774e-01 & -2.67826055e-01 & -3.61080375e-02 & 4.49272218e-01\\\\\n",
       "  -2.96665915e-01 & -3.43750445e-01\\\\\n",
       "  4.77866261e-02 & -2.56392631e-01 & 4.21947540e-01 & -3.10612235e-01\\\\\n",
       "  -1.79576833e-01 & -5.84004353e-04 & 8.62088612e-02 & -2.35846998e-01\\\\\n",
       "  2.64859630e-01 & 3.91479157e-01 & -1.26150712e-01 & -3.25227045e-01\\\\\n",
       "  8.82863782e-02 & 4.12811604e-01\\\\\n",
       "  2.31006426e-01 & -1.38474888e-01 & -3.09459938e-01 & -1.82391312e-01\\\\\n",
       "  -3.97782424e-01 & -1.40635503e-01 & 2.21798149e-01 & -1.88818216e-02\\\\\n",
       "  4.65463412e-01 & -4.71026865e-01 & 3.05007309e-01 & 6.75820563e-02\\\\\n",
       "  1.76590075e-01 & -1.63731090e-01\\\\\n",
       "\\end{bmatrix}"
      ],
      "text/plain": [
       "<IPython.core.display.Latex object>"
      ]
     },
     "metadata": {},
     "output_type": "display_data"
    },
    {
     "data": {
      "text/latex": [
       "W = W - \\lambda (X^T \\cdot \\nabla f_{custo})"
      ],
      "text/plain": [
       "<IPython.core.display.Latex object>"
      ]
     },
     "metadata": {},
     "output_type": "display_data"
    },
    {
     "data": {
      "text/latex": [
       "\\begin{gather}\n",
       "\\begin{bmatrix}\n",
       "  -0.13786977 & -0.37714031 & 0.32663131 & 0.56057876 & -0.26623245 & -0.30093866\\\\\n",
       "  0.37014369 & 0.02993488 & 0.05077628 & 0.21082172\\\\\n",
       "  0.14184479 & -0.24799867 & 0.26070112 & 0.27033455 & 0.04279787 & -0.05541434\\\\\n",
       "  -0.18552935 & -0.0304521 & -0.2545397 & -0.15098494\\\\\n",
       "  0.00865525 & -0.29426961 & 0.25785082 & 0.35111239 & -0.50453533 & -0.53148012\\\\\n",
       "  0.00787233 & 0.01684406 & 0.422945 & -0.31619433\\\\\n",
       "  0.26011529 & -0.28059445 & -0.47666172 & -0.15865246 & -0.08197266 & -0.24596527\\\\\n",
       "  -0.48590514 & -0.32656968 & -0.31023278 & -0.18495322\\\\\n",
       "  0.35637789 & -0.30161594 & -0.46927662 & 0.19929121 & -0.12442799 & 0.26248398\\\\\n",
       "  -0.27648069 & 0.55911288 & -0.17507742 & -0.42816025\\\\\n",
       "  -0.34883654 & 0.12674043 & 0.22135719 & 0.13165568 & 0.19424671 & -0.02032159\\\\\n",
       "  0.04450053 & -0.10725559 & 0.00137757 & -0.1538791\\\\\n",
       "  0.18187631 & -0.3847699 & 0.4679423 & -0.304871 & 0.40240925 & -0.09662078\\\\\n",
       "  0.36246517 & -0.00705707 & 0.09043656 & 0.19325477\\\\\n",
       "  -0.0726405 & 0.35161387 & -0.22644817 & -0.22654978 & -0.09709148 & 0.2934634\\\\\n",
       "  0.31551159 & 0.28983167 & -0.23391999 & -0.03189203\\\\\n",
       "  -0.01158695 & 0.60312796 & -0.36448375 & 0.36487121 & 0.52742026 & 0.32581821\\\\\n",
       "  0.22706665 & -0.12934787 & 0.26840268 & 0.44154249\\\\\n",
       "  -0.37456387 & -0.13247401 & -0.00653481 & -0.3724332 & -0.06955866 & -0.0266111\\\\\n",
       "  -0.18185585 & -0.20055949 & 0.39630715 & -0.50362312\\\\\n",
       "  -0.24500137 & 0.07168557 & -0.36525618 & 0.04453803 & -0.05432488 & 0.43400672\\\\\n",
       "  -0.01547622 & 0.04428753 & -0.1203804 & 0.26604896\\\\\n",
       "  -0.29303387 & -0.35544511 & 0.0694467 & 0.1202355 & 0.01003946 & -0.44321204\\\\\n",
       "  0.08607736 & 0.47415466 & -0.32344113 & 0.05552444\\\\\n",
       "  -0.42942217 & 0.26942957 & 0.16860781 & -0.27705433 & 0.11966587 & 0.33526455\\\\\n",
       "  -0.35943593 & -0.26286124 & 0.09071268 & 0.16020889\\\\\n",
       "  0.26334524 & -0.27413883 & -0.08246125 & -0.0339122 & -0.60898001 & -0.52945208\\\\\n",
       "  -0.02488458 & -0.33240829 & 0.41362568 & -0.16922731\\\\\n",
       "\\end{bmatrix} = \n",
       "\\begin{bmatrix}\n",
       "  -1.34643728e-01 & -3.49831884e-01 & 3.25058689e-01 & 5.51667994e-01\\\\\n",
       "  -2.43984300e-01 & -2.81572038e-01 & 4.32150025e-01 & -1.17188641e-02\\\\\n",
       "  4.77866261e-02 & 2.31006426e-01\\\\\n",
       "  1.43844223e-01 & -2.31073483e-01 & 2.59726448e-01 & 2.64811847e-01\\\\\n",
       "  5.65868051e-02 & -4.34113165e-02 & -1.47099133e-01 & -5.62682077e-02\\\\\n",
       "  -2.56392631e-01 & -1.38474888e-01\\\\\n",
       "  9.73158089e-03 & -2.85158478e-01 & 2.57326133e-01 & 3.48139419e-01\\\\\n",
       "  -4.97112500e-01 & -5.25018681e-01 & 2.85600048e-02 & 2.94678200e-03\\\\\n",
       "  4.21947540e-01 & -3.09459938e-01\\\\\n",
       "  2.60524746e-01 & -2.77128386e-01 & -4.76861317e-01 & -1.59783436e-01\\\\\n",
       "  -7.91488633e-02 & -2.43507204e-01 & -4.78035114e-01 & -3.31856499e-01\\\\\n",
       "  -3.10612235e-01 & -1.82391312e-01\\\\\n",
       "  3.61233054e-01 & -2.60516973e-01 & -4.71643400e-01 & 1.85880576e-01\\\\\n",
       "  -9.09447011e-02 & 2.91630598e-01 & -1.83161647e-01 & 4.96424322e-01\\\\\n",
       "  -1.79576833e-01 & -3.97782424e-01\\\\\n",
       "  -3.46719871e-01 & 1.44658046e-01 & 2.20325362e-01 & 1.25809145e-01\\\\\n",
       "  2.08844169e-01 & -7.61475051e-03 & 8.51841525e-02 & -1.34585464e-01\\\\\n",
       "  -5.84004353e-04 & -1.40635503e-01\\\\\n",
       "  1.86438284e-01 & -3.46152819e-01 & 4.65718448e-01 & -3.17471790e-01\\\\\n",
       "  4.33870555e-01 & -6.92342684e-02 & 4.50148872e-01 & -6.59599998e-02\\\\\n",
       "  8.62088612e-02 & 2.21798149e-01\\\\\n",
       "  -7.05611345e-02 & 3.69215718e-01 & -2.27461816e-01 & -2.32293280e-01\\\\\n",
       "  -8.27512739e-02 & 3.05946308e-01 & 3.55478243e-01 & 2.62983436e-01\\\\\n",
       "  -2.35846998e-01 & -1.88818216e-02\\\\\n",
       "  -7.76376585e-03 & 6.35491209e-01 & -3.66347467e-01 & 3.54311052e-01\\\\\n",
       "  5.53786560e-01 & 3.48769615e-01 & 3.00550425e-01 & -1.78711774e-01\\\\\n",
       "  2.64859630e-01 & 4.65463412e-01\\\\\n",
       "  -3.69354143e-01 & -8.83736827e-02 & -9.07443074e-03 & -3.86823185e-01\\\\\n",
       "  -3.36301622e-02 & 4.66402456e-03 & -8.17219248e-02 & -2.67826055e-01\\\\\n",
       "  3.91479157e-01 & -4.71026865e-01\\\\\n",
       "  -2.38774813e-01 & 1.24393348e-01 & -3.68291479e-01 & 2.73394296e-02\\\\\n",
       "  -1.13839045e-02 & 4.71386089e-01 & 1.04201719e-01 & -3.61080375e-02\\\\\n",
       "  -1.26150712e-01 & 3.05007309e-01\\\\\n",
       "  -2.91106748e-01 & -3.39132039e-01 & 6.85072784e-02 & 1.14912533e-01\\\\\n",
       "  2.33297023e-02 & -4.31643123e-01 & 1.23117705e-01 & 4.49272218e-01\\\\\n",
       "  -3.25227045e-01 & 6.75820563e-02\\\\\n",
       "  -4.26804029e-01 & 2.91592103e-01 & 1.67331531e-01 & -2.84285982e-01\\\\\n",
       "  1.37721658e-01 & 3.50981798e-01 & -3.09113828e-01 & -2.96665915e-01\\\\\n",
       "  8.82863782e-02 & 1.76590075e-01\\\\\n",
       "  2.64223684e-01 & -2.66702848e-01 & -8.28894708e-02 & -3.63385681e-02\\\\\n",
       "  -6.02921925e-01 & -5.24178620e-01 & -8.00049824e-03 & -3.43750445e-01\\\\\n",
       "  4.12811604e-01 & -1.63731090e-01\\\\\n",
       "\\end{bmatrix} - 0.7\n",
       "\\begin{bmatrix}\n",
       "  0.41707574\\\\\n",
       "  0.25849474\\\\\n",
       "  0.13915235\\\\\n",
       "  0.0529365\\\\\n",
       "  0.62769572\\\\\n",
       "  0.27365193\\\\\n",
       "  0.5897905\\\\\n",
       "  0.26882933\\\\\n",
       "  0.49427693\\\\\n",
       "  0.67353494\\\\\n",
       "  0.80499462\\\\\n",
       "  0.249146\\\\\n",
       "  0.33848361\\\\\n",
       "  0.11356809\\\\\n",
       "\\end{bmatrix} \\cdot \n",
       "\\begin{bmatrix}\n",
       "  0.01104987 & 0.09353705 & -0.00538655 & -0.03052123 & 0.07620454 & 0.06633472\\\\\n",
       "  0.21238462 & -0.14267277 & -0.0102402 & 0.06913684\\\\\n",
       "\\end{bmatrix}\\end{gather}"
      ],
      "text/plain": [
       "<IPython.core.display.Latex object>"
      ]
     },
     "metadata": {},
     "output_type": "display_data"
    },
    {
     "data": {
      "text/latex": [
       "B = B - \\lambda (\\nabla f_{custo})"
      ],
      "text/plain": [
       "<IPython.core.display.Latex object>"
      ]
     },
     "metadata": {},
     "output_type": "display_data"
    },
    {
     "data": {
      "text/latex": [
       "\\begin{gather}\n",
       "\\begin{bmatrix}\n",
       "  0.46029781 & 0.55240006 & 0.20515783 & -0.23605631 & 0.02859935 & -0.22926223\\\\\n",
       "  0.4204426 & 0.44183947 & -0.20329775 & 0.23552651\\\\\n",
       "\\end{bmatrix} = \n",
       "\\begin{bmatrix}\n",
       "  0.46803271 & 0.61787599 & 0.20138725 & -0.25742117 & 0.08194253 & -0.18282792\\\\\n",
       "  0.56911184 & 0.34196853 & -0.2104659 & 0.2839223\\\\\n",
       "\\end{bmatrix} - 0.7\n",
       "\\begin{bmatrix}\n",
       "  0.01104987 & 0.09353705 & -0.00538655 & -0.03052123 & 0.07620454 & 0.06633472\\\\\n",
       "  0.21238462 & -0.14267277 & -0.0102402 & 0.06913684\\\\\n",
       "\\end{bmatrix}\\end{gather}"
      ],
      "text/plain": [
       "<IPython.core.display.Latex object>"
      ]
     },
     "metadata": {},
     "output_type": "display_data"
    },
    {
     "data": {
      "text/latex": [
       "Camada: 1"
      ],
      "text/plain": [
       "<IPython.core.display.Latex object>"
      ]
     },
     "metadata": {},
     "output_type": "display_data"
    },
    {
     "data": {
      "text/latex": [
       "\\frac{\\partial E}{\\partial X} = \\frac{\\partial E}{\\partial Y} \\sigma^{'}(X)"
      ],
      "text/plain": [
       "<IPython.core.display.Latex object>"
      ]
     },
     "metadata": {},
     "output_type": "display_data"
    },
    {
     "data": {
      "text/latex": [
       "\\begin{gather}\n",
       "\\begin{bmatrix}\n",
       "  0.00458687 & -0.01116225 & -0.01573511 & -0.0050832 & -0.03423236 & 0.00947305\\\\\n",
       "  0.0301939 & 0.01870207 & 0.05865485 & -0.00406015 & 0.01416095 & -0.01788734\\\\\n",
       "  0.01166387 & -0.00698557\\\\\n",
       "\\end{bmatrix} = \n",
       "\\begin{bmatrix}\n",
       "  0.01886641 & -0.05823525 & -0.13135693 & -0.10139172 & -0.14648382 & 0.04765916\\\\\n",
       "  0.12480031 & 0.09514684 & 0.23465016 & -0.01846484 & 0.09020963 & -0.09561729\\\\\n",
       "  0.05209119 & -0.06939049\\\\\n",
       "\\end{bmatrix} \\cdot  \\sigma^{'}(\n",
       "\\begin{bmatrix}\n",
       "  -0.33478942 & -1.05380692 & -1.82234817 & -2.88427305 & 0.52234407 & -0.97617239\\\\\n",
       "  0.3630994 & -1.0005702 & -0.02289327 & 0.72421696 & 1.41780845 & -1.10317218\\\\\n",
       "  -0.6700591 & -2.0548017\\\\\n",
       "\\end{bmatrix}) \\end{gather}"
      ],
      "text/plain": [
       "<IPython.core.display.Latex object>"
      ]
     },
     "metadata": {},
     "output_type": "display_data"
    },
    {
     "data": {
      "text/latex": [
       "Camada: 0"
      ],
      "text/plain": [
       "<IPython.core.display.Latex object>"
      ]
     },
     "metadata": {},
     "output_type": "display_data"
    },
    {
     "data": {
      "text/latex": [
       "\\frac{\\partial E}{\\partial X} = \\frac{\\partial E}{\\partial Y} W^T"
      ],
      "text/plain": [
       "<IPython.core.display.Latex object>"
      ]
     },
     "metadata": {},
     "output_type": "display_data"
    },
    {
     "data": {
      "text/latex": [
       "\n",
       "\\begin{bmatrix}\n",
       "  -0.04232774 & 0.06590148 & 0.03863794 & 0.00907592 & 0.00010314 & 0.00741461\\\\\n",
       "  -0.01541099\\\\\n",
       "\\end{bmatrix} = \n",
       "\\begin{bmatrix}\n",
       "  0.00458687 & -0.01116225 & -0.01573511 & -0.0050832 & -0.03423236 & 0.00947305\\\\\n",
       "  0.0301939 & 0.01870207 & 0.05865485 & -0.00406015 & 0.01416095 & -0.01788734\\\\\n",
       "  0.01166387 & -0.00698557\\\\\n",
       "\\end{bmatrix} \\cdot \n",
       "\\begin{bmatrix}\n",
       "  -0.09992395 & 0.21338675 & -0.05489444 & 0.54712231 & 0.17521388 & 0.84624676\\\\\n",
       "  0.93966834\\\\\n",
       "  0.5593597 & -0.94077886 & -0.37208651 & 0.15327746 & -0.11876803 & -0.07176595\\\\\n",
       "  0.83291328\\\\\n",
       "  0.20604582 & -0.59024206 & -0.95561642 & 0.40901755 & 0.56801868 & 0.68426324\\\\\n",
       "  0.59449793\\\\\n",
       "  0.05139797 & -1.21610805 & -0.82863174 & 0.34129363 & 0.86663155 & 0.40272224\\\\\n",
       "  1.03186795\\\\\n",
       "  0.41498767 & 0.01204319 & -0.15686748 & 0.55837567 & 0.02379256 & 0.59055775\\\\\n",
       "  0.39033462\\\\\n",
       "  0.43431102 & -0.05560442 & -0.72089417 & 0.26391073 & 0.51672292 & 0.72792886\\\\\n",
       "  0.38616082\\\\\n",
       "  0.04468721 & 0.20955285 & -0.12945814 & 0.64048704 & 0.22208331 & 0.58070242\\\\\n",
       "  0.17006774\\\\\n",
       "  -0.02995345 & 0.11375846 & -0.43267429 & 0.51077978 & 0.06841658 & 0.58827397\\\\\n",
       "  0.84975407\\\\\n",
       "  -0.2981583 & 0.31085925 & 0.23345378 & 0.13680356 & 0.03022773 & 0.05980624\\\\\n",
       "  -0.05252259\\\\\n",
       "  0.8272922 & 0.13247852 & 0.03060219 & 0.89971085 & -0.03162086 & 0.54034053\\\\\n",
       "  0.95118127\\\\\n",
       "  0.57771286 & 0.316981 & 0.50477717 & 0.06266201 & -0.01061412 & 0.73918664\\\\\n",
       "  -0.03794945\\\\\n",
       "  0.72376179 & -0.55966892 & -0.41028389 & 0.0769965 & 0.47256258 & 0.31765086\\\\\n",
       "  0.10486949\\\\\n",
       "  0.59887603 & -0.49386233 & -0.50864987 & 0.24859276 & 0.68776374 & -0.14100444\\\\\n",
       "  0.45697155\\\\\n",
       "  0.60012788 & -0.71599079 & -0.97691609 & 0.37359533 & 0.29616791 & 0.59038797\\\\\n",
       "  0.44687049\\\\\n",
       "\\end{bmatrix}"
      ],
      "text/plain": [
       "<IPython.core.display.Latex object>"
      ]
     },
     "metadata": {},
     "output_type": "display_data"
    },
    {
     "data": {
      "text/latex": [
       "W = W - \\lambda (X^T \\cdot \\nabla f_{custo})"
      ],
      "text/plain": [
       "<IPython.core.display.Latex object>"
      ]
     },
     "metadata": {},
     "output_type": "display_data"
    },
    {
     "data": {
      "text/latex": [
       "\\begin{gather}\n",
       "\\begin{bmatrix}\n",
       "  -0.10313476 & 0.56717327 & 0.2170604 & 0.05495621 & 0.43895032 & 0.42767989\\\\\n",
       "  0.02355149 & -0.0430449 & -0.3392167 & 0.8301343 & 0.5678002 & 0.73628293\\\\\n",
       "  0.59071132 & 0.60501777\\\\\n",
       "  0.21017594 & -0.93296528 & -0.57922748 & -1.21254981 & 0.03600584 & -0.06223555\\\\\n",
       "  0.18841713 & 0.10066701 & 0.26980085 & 0.13532063 & 0.30706833 & -0.54714778\\\\\n",
       "  -0.50202703 & -0.71110089\\\\\n",
       "  -0.05810525 & -0.36427293 & -0.94460184 & -0.82507351 & -0.13290483 & -0.72752531\\\\\n",
       "  -0.15059386 & -0.44576574 & 0.19239538 & 0.0334443 & 0.4948645 & -0.39776275\\\\\n",
       "  -0.51681458 & -0.9720262\\\\\n",
       "  0.54712231 & 0.15327746 & 0.40901755 & 0.34129363 & 0.55837567 & 0.26391073\\\\\n",
       "  0.64048704 & 0.51077978 & 0.13680356 & 0.89971085 & 0.06266201 & 0.0769965\\\\\n",
       "  0.24859276 & 0.37359533\\\\\n",
       "  0.17521388 & -0.11876803 & 0.56801868 & 0.86663155 & 0.02379256 & 0.51672292\\\\\n",
       "  0.22208331 & 0.06841658 & 0.03022773 & -0.03162086 & -0.01061412 & 0.47256258\\\\\n",
       "  0.68776374 & 0.29616791\\\\\n",
       "  0.84624676 & -0.07176595 & 0.68426324 & 0.40272224 & 0.59055775 & 0.72792886\\\\\n",
       "  0.58070242 & 0.58827397 & 0.05980624 & 0.54034053 & 0.73918664 & 0.31765086\\\\\n",
       "  -0.14100444 & 0.59038797\\\\\n",
       "  0.93966834 & 0.83291328 & 0.59449793 & 1.03186795 & 0.39033462 & 0.38616082\\\\\n",
       "  0.17006774 & 0.84975407 & -0.05252259 & 0.95118127 & -0.03794945 & 0.10486949\\\\\n",
       "  0.45697155 & 0.44687049\\\\\n",
       "\\end{bmatrix} = \n",
       "\\begin{bmatrix}\n",
       "  -0.09992395 & 0.5593597 & 0.20604582 & 0.05139797 & 0.41498767 & 0.43431102\\\\\n",
       "  0.04468721 & -0.02995345 & -0.2981583 & 0.8272922 & 0.57771286 & 0.72376179\\\\\n",
       "  0.59887603 & 0.60012788\\\\\n",
       "  0.21338675 & -0.94077886 & -0.59024206 & -1.21610805 & 0.01204319 & -0.05560442\\\\\n",
       "  0.20955285 & 0.11375846 & 0.31085925 & 0.13247852 & 0.316981 & -0.55966892\\\\\n",
       "  -0.49386233 & -0.71599079\\\\\n",
       "  -0.05489444 & -0.37208651 & -0.95561642 & -0.82863174 & -0.15686748 & -0.72089417\\\\\n",
       "  -0.12945814 & -0.43267429 & 0.23345378 & 0.03060219 & 0.50477717 & -0.41028389\\\\\n",
       "  -0.50864987 & -0.97691609\\\\\n",
       "  0.54712231 & 0.15327746 & 0.40901755 & 0.34129363 & 0.55837567 & 0.26391073\\\\\n",
       "  0.64048704 & 0.51077978 & 0.13680356 & 0.89971085 & 0.06266201 & 0.0769965\\\\\n",
       "  0.24859276 & 0.37359533\\\\\n",
       "  0.17521388 & -0.11876803 & 0.56801868 & 0.86663155 & 0.02379256 & 0.51672292\\\\\n",
       "  0.22208331 & 0.06841658 & 0.03022773 & -0.03162086 & -0.01061412 & 0.47256258\\\\\n",
       "  0.68776374 & 0.29616791\\\\\n",
       "  0.84624676 & -0.07176595 & 0.68426324 & 0.40272224 & 0.59055775 & 0.72792886\\\\\n",
       "  0.58070242 & 0.58827397 & 0.05980624 & 0.54034053 & 0.73918664 & 0.31765086\\\\\n",
       "  -0.14100444 & 0.59038797\\\\\n",
       "  0.93966834 & 0.83291328 & 0.59449793 & 1.03186795 & 0.39033462 & 0.38616082\\\\\n",
       "  0.17006774 & 0.84975407 & -0.05252259 & 0.95118127 & -0.03794945 & 0.10486949\\\\\n",
       "  0.45697155 & 0.44687049\\\\\n",
       "\\end{bmatrix} - 0.7\n",
       "\\begin{bmatrix}\n",
       "  1\\\\\n",
       "  1\\\\\n",
       "  1\\\\\n",
       "  0\\\\\n",
       "  0\\\\\n",
       "  0\\\\\n",
       "  0\\\\\n",
       "\\end{bmatrix} \\cdot \n",
       "\\begin{bmatrix}\n",
       "  0.00458687 & -0.01116225 & -0.01573511 & -0.0050832 & -0.03423236 & 0.00947305\\\\\n",
       "  0.0301939 & 0.01870207 & 0.05865485 & -0.00406015 & 0.01416095 & -0.01788734\\\\\n",
       "  0.01166387 & -0.00698557\\\\\n",
       "\\end{bmatrix}\\end{gather}"
      ],
      "text/plain": [
       "<IPython.core.display.Latex object>"
      ]
     },
     "metadata": {},
     "output_type": "display_data"
    },
    {
     "data": {
      "text/latex": [
       "B = B - \\lambda (\\nabla f_{custo})"
      ],
      "text/plain": [
       "<IPython.core.display.Latex object>"
      ]
     },
     "metadata": {},
     "output_type": "display_data"
    },
    {
     "data": {
      "text/latex": [
       "\\begin{gather}\n",
       "\\begin{bmatrix}\n",
       "  -0.39656858 & -0.29248767 & -0.47152093 & -0.887373 & 0.27614335 & -0.64061595\\\\\n",
       "  0.21718174 & -0.66479237 & -0.31010639 & -0.26331384 & 0.00842476 & -0.84446002\\\\\n",
       "  -0.27458764 & -0.9571328\\\\\n",
       "\\end{bmatrix} = \n",
       "\\begin{bmatrix}\n",
       "  -0.39335777 & -0.30030125 & -0.48253551 & -0.89093123 & 0.25218069 & -0.63398482\\\\\n",
       "  0.23831746 & -0.65170092 & -0.26904799 & -0.26615595 & 0.01833742 & -0.85698116\\\\\n",
       "  -0.26642293 & -0.96202269\\\\\n",
       "\\end{bmatrix} - 0.7\n",
       "\\begin{bmatrix}\n",
       "  0.00458687 & -0.01116225 & -0.01573511 & -0.0050832 & -0.03423236 & 0.00947305\\\\\n",
       "  0.0301939 & 0.01870207 & 0.05865485 & -0.00406015 & 0.01416095 & -0.01788734\\\\\n",
       "  0.01166387 & -0.00698557\\\\\n",
       "\\end{bmatrix}\\end{gather}"
      ],
      "text/plain": [
       "<IPython.core.display.Latex object>"
      ]
     },
     "metadata": {},
     "output_type": "display_data"
    },
    {
     "data": {
      "text/latex": [
       "Camada: 0"
      ],
      "text/plain": [
       "<IPython.core.display.Latex object>"
      ]
     },
     "metadata": {},
     "output_type": "display_data"
    },
    {
     "data": {
      "text/latex": [
       "Y = Xw + b"
      ],
      "text/plain": [
       "<IPython.core.display.Latex object>"
      ]
     },
     "metadata": {},
     "output_type": "display_data"
    },
    {
     "data": {
      "text/latex": [
       "\\begin{gather}\n",
       "\\begin{bmatrix}\n",
       "  2.16061863 & -0.22689585 & 0.47750755 & -0.22752474 & 2.18125528 & 0.89202642\\\\\n",
       "  1.89189699 & 0.9642884 & -0.01281192 & 3.09519718 & 2.13144286 & -0.08100819\\\\\n",
       "  0.54960568 & -0.32822042\\\\\n",
       "\\end{bmatrix} = \n",
       "\\begin{bmatrix}\n",
       "  1 & 1 & 1 & 1 & 1 & 1 & 1\\\\\n",
       "\\end{bmatrix} \\cdot \n",
       "\\begin{bmatrix}\n",
       "  -0.10313476 & 0.56717327 & 0.2170604 & 0.05495621 & 0.43895032 & 0.42767989\\\\\n",
       "  0.02355149 & -0.0430449 & -0.3392167 & 0.8301343 & 0.5678002 & 0.73628293\\\\\n",
       "  0.59071132 & 0.60501777\\\\\n",
       "  0.21017594 & -0.93296528 & -0.57922748 & -1.21254981 & 0.03600584 & -0.06223555\\\\\n",
       "  0.18841713 & 0.10066701 & 0.26980085 & 0.13532063 & 0.30706833 & -0.54714778\\\\\n",
       "  -0.50202703 & -0.71110089\\\\\n",
       "  -0.05810525 & -0.36427293 & -0.94460184 & -0.82507351 & -0.13290483 & -0.72752531\\\\\n",
       "  -0.15059386 & -0.44576574 & 0.19239538 & 0.0334443 & 0.4948645 & -0.39776275\\\\\n",
       "  -0.51681458 & -0.9720262\\\\\n",
       "  0.54712231 & 0.15327746 & 0.40901755 & 0.34129363 & 0.55837567 & 0.26391073\\\\\n",
       "  0.64048704 & 0.51077978 & 0.13680356 & 0.89971085 & 0.06266201 & 0.0769965\\\\\n",
       "  0.24859276 & 0.37359533\\\\\n",
       "  0.17521388 & -0.11876803 & 0.56801868 & 0.86663155 & 0.02379256 & 0.51672292\\\\\n",
       "  0.22208331 & 0.06841658 & 0.03022773 & -0.03162086 & -0.01061412 & 0.47256258\\\\\n",
       "  0.68776374 & 0.29616791\\\\\n",
       "  0.84624676 & -0.07176595 & 0.68426324 & 0.40272224 & 0.59055775 & 0.72792886\\\\\n",
       "  0.58070242 & 0.58827397 & 0.05980624 & 0.54034053 & 0.73918664 & 0.31765086\\\\\n",
       "  -0.14100444 & 0.59038797\\\\\n",
       "  0.93966834 & 0.83291328 & 0.59449793 & 1.03186795 & 0.39033462 & 0.38616082\\\\\n",
       "  0.17006774 & 0.84975407 & -0.05252259 & 0.95118127 & -0.03794945 & 0.10486949\\\\\n",
       "  0.45697155 & 0.44687049\\\\\n",
       "\\end{bmatrix} + \n",
       "\\begin{bmatrix}\n",
       "  -0.39656858 & -0.29248767 & -0.47152093 & -0.887373 & 0.27614335 & -0.64061595\\\\\n",
       "  0.21718174 & -0.66479237 & -0.31010639 & -0.26331384 & 0.00842476 & -0.84446002\\\\\n",
       "  -0.27458764 & -0.9571328\\\\\n",
       "\\end{bmatrix}\\end{gather}"
      ],
      "text/plain": [
       "<IPython.core.display.Latex object>"
      ]
     },
     "metadata": {},
     "output_type": "display_data"
    },
    {
     "data": {
      "text/latex": [
       "Camada: 1"
      ],
      "text/plain": [
       "<IPython.core.display.Latex object>"
      ]
     },
     "metadata": {},
     "output_type": "display_data"
    },
    {
     "data": {
      "text/latex": [
       "Y = \\sigma(X)"
      ],
      "text/plain": [
       "<IPython.core.display.Latex object>"
      ]
     },
     "metadata": {},
     "output_type": "display_data"
    },
    {
     "data": {
      "text/latex": [
       "\\begin{gather}\n",
       "\\begin{bmatrix}\n",
       "  0.89665689 & 0.44351814 & 0.61715915 & 0.44336294 & 0.89855355 & 0.70930818\\\\\n",
       "  0.86897167 & 0.72397959 & 0.49679706 & 0.9566942 & 0.89392191 & 0.47975902\\\\\n",
       "  0.6340441 & 0.41867369\\\\\n",
       "\\end{bmatrix} = \\sigma(\n",
       "\\begin{bmatrix}\n",
       "  2.16061863 & -0.22689585 & 0.47750755 & -0.22752474 & 2.18125528 & 0.89202642\\\\\n",
       "  1.89189699 & 0.9642884 & -0.01281192 & 3.09519718 & 2.13144286 & -0.08100819\\\\\n",
       "  0.54960568 & -0.32822042\\\\\n",
       "\\end{bmatrix}) \\end{gather}"
      ],
      "text/plain": [
       "<IPython.core.display.Latex object>"
      ]
     },
     "metadata": {},
     "output_type": "display_data"
    },
    {
     "data": {
      "text/latex": [
       "Camada: 2"
      ],
      "text/plain": [
       "<IPython.core.display.Latex object>"
      ]
     },
     "metadata": {},
     "output_type": "display_data"
    },
    {
     "data": {
      "text/latex": [
       "Y = Xw + b"
      ],
      "text/plain": [
       "<IPython.core.display.Latex object>"
      ]
     },
     "metadata": {},
     "output_type": "display_data"
    },
    {
     "data": {
      "text/latex": [
       "\\begin{gather}\n",
       "\\begin{bmatrix}\n",
       "  -0.18721311 & -0.34018269 & 0.13134697 & 0.10895402 & -0.26085652 & -0.30815064\\\\\n",
       "  0.51397354 & 0.65589633 & 0.086103 & -0.23583828\\\\\n",
       "\\end{bmatrix} = \n",
       "\\begin{bmatrix}\n",
       "  0.89665689 & 0.44351814 & 0.61715915 & 0.44336294 & 0.89855355 & 0.70930818\\\\\n",
       "  0.86897167 & 0.72397959 & 0.49679706 & 0.9566942 & 0.89392191 & 0.47975902\\\\\n",
       "  0.6340441 & 0.41867369\\\\\n",
       "\\end{bmatrix} \\cdot \n",
       "\\begin{bmatrix}\n",
       "  -0.13786977 & -0.37714031 & 0.32663131 & 0.56057876 & -0.26623245 & -0.30093866\\\\\n",
       "  0.37014369 & 0.02993488 & 0.05077628 & 0.21082172\\\\\n",
       "  0.14184479 & -0.24799867 & 0.26070112 & 0.27033455 & 0.04279787 & -0.05541434\\\\\n",
       "  -0.18552935 & -0.0304521 & -0.2545397 & -0.15098494\\\\\n",
       "  0.00865525 & -0.29426961 & 0.25785082 & 0.35111239 & -0.50453533 & -0.53148012\\\\\n",
       "  0.00787233 & 0.01684406 & 0.422945 & -0.31619433\\\\\n",
       "  0.26011529 & -0.28059445 & -0.47666172 & -0.15865246 & -0.08197266 & -0.24596527\\\\\n",
       "  -0.48590514 & -0.32656968 & -0.31023278 & -0.18495322\\\\\n",
       "  0.35637789 & -0.30161594 & -0.46927662 & 0.19929121 & -0.12442799 & 0.26248398\\\\\n",
       "  -0.27648069 & 0.55911288 & -0.17507742 & -0.42816025\\\\\n",
       "  -0.34883654 & 0.12674043 & 0.22135719 & 0.13165568 & 0.19424671 & -0.02032159\\\\\n",
       "  0.04450053 & -0.10725559 & 0.00137757 & -0.1538791\\\\\n",
       "  0.18187631 & -0.3847699 & 0.4679423 & -0.304871 & 0.40240925 & -0.09662078\\\\\n",
       "  0.36246517 & -0.00705707 & 0.09043656 & 0.19325477\\\\\n",
       "  -0.0726405 & 0.35161387 & -0.22644817 & -0.22654978 & -0.09709148 & 0.2934634\\\\\n",
       "  0.31551159 & 0.28983167 & -0.23391999 & -0.03189203\\\\\n",
       "  -0.01158695 & 0.60312796 & -0.36448375 & 0.36487121 & 0.52742026 & 0.32581821\\\\\n",
       "  0.22706665 & -0.12934787 & 0.26840268 & 0.44154249\\\\\n",
       "  -0.37456387 & -0.13247401 & -0.00653481 & -0.3724332 & -0.06955866 & -0.0266111\\\\\n",
       "  -0.18185585 & -0.20055949 & 0.39630715 & -0.50362312\\\\\n",
       "  -0.24500137 & 0.07168557 & -0.36525618 & 0.04453803 & -0.05432488 & 0.43400672\\\\\n",
       "  -0.01547622 & 0.04428753 & -0.1203804 & 0.26604896\\\\\n",
       "  -0.29303387 & -0.35544511 & 0.0694467 & 0.1202355 & 0.01003946 & -0.44321204\\\\\n",
       "  0.08607736 & 0.47415466 & -0.32344113 & 0.05552444\\\\\n",
       "  -0.42942217 & 0.26942957 & 0.16860781 & -0.27705433 & 0.11966587 & 0.33526455\\\\\n",
       "  -0.35943593 & -0.26286124 & 0.09071268 & 0.16020889\\\\\n",
       "  0.26334524 & -0.27413883 & -0.08246125 & -0.0339122 & -0.60898001 & -0.52945208\\\\\n",
       "  -0.02488458 & -0.33240829 & 0.41362568 & -0.16922731\\\\\n",
       "\\end{bmatrix} + \n",
       "\\begin{bmatrix}\n",
       "  0.46029781 & 0.55240006 & 0.20515783 & -0.23605631 & 0.02859935 & -0.22926223\\\\\n",
       "  0.4204426 & 0.44183947 & -0.20329775 & 0.23552651\\\\\n",
       "\\end{bmatrix}\\end{gather}"
      ],
      "text/plain": [
       "<IPython.core.display.Latex object>"
      ]
     },
     "metadata": {},
     "output_type": "display_data"
    },
    {
     "data": {
      "text/latex": [
       "f_{custo}(\n",
       "\\begin{bmatrix}\n",
       "  0 & 0 & 0 & 0 & 0 & 0 & 0 & 0 & 1 & 0\\\\\n",
       "\\end{bmatrix},\n",
       "\\begin{bmatrix}\n",
       "  -0.18721311 & -0.34018269 & 0.13134697 & 0.10895402 & -0.26085652 & -0.30815064\\\\\n",
       "  0.51397354 & 0.65589633 & 0.086103 & -0.23583828\\\\\n",
       "\\end{bmatrix}) = \n",
       "\\begin{bmatrix}\n",
       "  0.19280951745005562\\\\\n",
       "\\end{bmatrix}"
      ],
      "text/plain": [
       "<IPython.core.display.Latex object>"
      ]
     },
     "metadata": {},
     "output_type": "display_data"
    },
    {
     "data": {
      "text/latex": [
       "\\nabla = \\frac{\\partial E}{\\partial Y} = \n",
       "\\begin{bmatrix}\n",
       "  -0.03744262 & -0.06803654 & 0.02626939 & 0.0217908 & -0.0521713 & -0.06163013\\\\\n",
       "  0.10279471 & 0.13117927 & -0.1827794 & -0.04716766\\\\\n",
       "\\end{bmatrix}"
      ],
      "text/plain": [
       "<IPython.core.display.Latex object>"
      ]
     },
     "metadata": {},
     "output_type": "display_data"
    },
    {
     "data": {
      "text/latex": [
       "Camada: 2"
      ],
      "text/plain": [
       "<IPython.core.display.Latex object>"
      ]
     },
     "metadata": {},
     "output_type": "display_data"
    },
    {
     "data": {
      "text/latex": [
       "\\frac{\\partial E}{\\partial X} = \\frac{\\partial E}{\\partial Y} W^T"
      ],
      "text/plain": [
       "<IPython.core.display.Latex object>"
      ]
     },
     "metadata": {},
     "output_type": "display_data"
    },
    {
     "data": {
      "text/latex": [
       "\n",
       "\\begin{bmatrix}\n",
       "  0.1068048 & 0.05606367 & 0.03382641 & -0.01455169 & 0.08662606 & 0.00175153\\\\\n",
       "  0.02066664 & 0.06960396 & -0.15333276 & -0.07366567 & -0.01456909 & 0.19393798\\\\\n",
       "  -0.12633304 & -0.04349586\\\\\n",
       "\\end{bmatrix} = \n",
       "\\begin{bmatrix}\n",
       "  -0.03744262 & -0.06803654 & 0.02626939 & 0.0217908 & -0.0521713 & -0.06163013\\\\\n",
       "  0.10279471 & 0.13117927 & -0.1827794 & -0.04716766\\\\\n",
       "\\end{bmatrix} \\cdot \n",
       "\\begin{bmatrix}\n",
       "  -0.13786977 & 0.14184479 & 0.00865525 & 0.26011529 & 0.35637789 & -0.34883654\\\\\n",
       "  0.18187631 & -0.0726405 & -0.01158695 & -0.37456387 & -0.24500137 & -0.29303387\\\\\n",
       "  -0.42942217 & 0.26334524\\\\\n",
       "  -0.37714031 & -0.24799867 & -0.29426961 & -0.28059445 & -0.30161594 & 0.12674043\\\\\n",
       "  -0.3847699 & 0.35161387 & 0.60312796 & -0.13247401 & 0.07168557 & -0.35544511\\\\\n",
       "  0.26942957 & -0.27413883\\\\\n",
       "  0.32663131 & 0.26070112 & 0.25785082 & -0.47666172 & -0.46927662 & 0.22135719\\\\\n",
       "  0.4679423 & -0.22644817 & -0.36448375 & -0.00653481 & -0.36525618 & 0.0694467\\\\\n",
       "  0.16860781 & -0.08246125\\\\\n",
       "  0.56057876 & 0.27033455 & 0.35111239 & -0.15865246 & 0.19929121 & 0.13165568\\\\\n",
       "  -0.304871 & -0.22654978 & 0.36487121 & -0.3724332 & 0.04453803 & 0.1202355\\\\\n",
       "  -0.27705433 & -0.0339122\\\\\n",
       "  -0.26623245 & 0.04279787 & -0.50453533 & -0.08197266 & -0.12442799 & 0.19424671\\\\\n",
       "  0.40240925 & -0.09709148 & 0.52742026 & -0.06955866 & -0.05432488 & 0.01003946\\\\\n",
       "  0.11966587 & -0.60898001\\\\\n",
       "  -0.30093866 & -0.05541434 & -0.53148012 & -0.24596527 & 0.26248398 & -0.02032159\\\\\n",
       "  -0.09662078 & 0.2934634 & 0.32581821 & -0.0266111 & 0.43400672 & -0.44321204\\\\\n",
       "  0.33526455 & -0.52945208\\\\\n",
       "  0.37014369 & -0.18552935 & 0.00787233 & -0.48590514 & -0.27648069 & 0.04450053\\\\\n",
       "  0.36246517 & 0.31551159 & 0.22706665 & -0.18185585 & -0.01547622 & 0.08607736\\\\\n",
       "  -0.35943593 & -0.02488458\\\\\n",
       "  0.02993488 & -0.0304521 & 0.01684406 & -0.32656968 & 0.55911288 & -0.10725559\\\\\n",
       "  -0.00705707 & 0.28983167 & -0.12934787 & -0.20055949 & 0.04428753 & 0.47415466\\\\\n",
       "  -0.26286124 & -0.33240829\\\\\n",
       "  0.05077628 & -0.2545397 & 0.422945 & -0.31023278 & -0.17507742 & 0.00137757\\\\\n",
       "  0.09043656 & -0.23391999 & 0.26840268 & 0.39630715 & -0.1203804 & -0.32344113\\\\\n",
       "  0.09071268 & 0.41362568\\\\\n",
       "  0.21082172 & -0.15098494 & -0.31619433 & -0.18495322 & -0.42816025 & -0.1538791\\\\\n",
       "  0.19325477 & -0.03189203 & 0.44154249 & -0.50362312 & 0.26604896 & 0.05552444\\\\\n",
       "  0.16020889 & -0.16922731\\\\\n",
       "\\end{bmatrix}"
      ],
      "text/plain": [
       "<IPython.core.display.Latex object>"
      ]
     },
     "metadata": {},
     "output_type": "display_data"
    },
    {
     "data": {
      "text/latex": [
       "W = W - \\lambda (X^T \\cdot \\nabla f_{custo})"
      ],
      "text/plain": [
       "<IPython.core.display.Latex object>"
      ]
     },
     "metadata": {},
     "output_type": "display_data"
    },
    {
     "data": {
      "text/latex": [
       "\\begin{gather}\n",
       "\\begin{bmatrix}\n",
       "  -0.11436854 & -0.33443651 & 0.31014307 & 0.54690155 & -0.23348662 & -0.26225591\\\\\n",
       "  0.30562359 & -0.05240107 & 0.16549957 & 0.24042696\\\\\n",
       "  0.15346933 & -0.22687586 & 0.25254546 & 0.26356932 & 0.05899512 & -0.03628048\\\\\n",
       "  -0.21744327 & -0.07117837 & -0.19779352 & -0.13634115\\\\\n",
       "  0.02483089 & -0.26487705 & 0.24650214 & 0.34169851 & -0.48199673 & -0.50485521\\\\\n",
       "  -0.03653615 & -0.03982688 & 0.50190779 & -0.29581736\\\\\n",
       "  0.27173576 & -0.25947904 & -0.48481453 & -0.16541532 & -0.06578109 & -0.22683811\\\\\n",
       "  -0.5178079 & -0.3672817 & -0.25350645 & -0.17031454\\\\\n",
       "  0.37992883 & -0.25882181 & -0.48579974 & 0.18558507 & -0.09161289 & 0.30124856\\\\\n",
       "  -0.34113728 & 0.47660277 & -0.06011146 & -0.39849239\\\\\n",
       "  -0.33024569 & 0.16052164 & 0.20831402 & 0.1208362 & 0.22015058 & 0.01027874\\\\\n",
       "  -0.00653866 & -0.17238816 & 0.09213042 & -0.13045962\\\\\n",
       "  0.20465191 & -0.34338463 & 0.45196315 & -0.31812591 & 0.43414402 & -0.0591324\\\\\n",
       "  0.29993719 & -0.08685082 & 0.20161765 & 0.22194592\\\\\n",
       "  -0.05366512 & 0.38609381 & -0.23976113 & -0.23759305 & -0.07065181 & 0.32469667\\\\\n",
       "  0.2634167 & 0.2233519 & -0.14129 & -0.00798813\\\\\n",
       "  0.00143402 & 0.62678821 & -0.37361914 & 0.35729329 & 0.54556324 & 0.34725058\\\\\n",
       "  0.19131898 & -0.17496651 & 0.33196567 & 0.45794542\\\\\n",
       "  -0.34948907 & -0.0869109 & -0.02412705 & -0.3870262 & -0.03462027 & 0.01466173\\\\\n",
       "  -0.25069602 & -0.2884084 & 0.51871195 & -0.4720356\\\\\n",
       "  -0.22157182 & 0.11425912 & -0.38169413 & 0.03090254 & -0.02167893 & 0.47257149\\\\\n",
       "  -0.07979952 & -0.03779728 & -0.00600704 & 0.2955639\\\\\n",
       "  -0.28045946 & -0.33259631 & 0.06062462 & 0.11291747 & 0.02756022 & -0.42251472\\\\\n",
       "  0.05155568 & 0.43010056 & -0.26205808 & 0.07136482\\\\\n",
       "  -0.41280398 & 0.29962629 & 0.15694865 & -0.28672576 & 0.1428211 & 0.3626179\\\\\n",
       "  -0.40505939 & -0.32108265 & 0.17183582 & 0.18114336\\\\\n",
       "  0.27431861 & -0.25419925 & -0.09016007 & -0.04029847 & -0.59369008 & -0.51139004\\\\\n",
       "  -0.05501079 & -0.37085321 & 0.46719312 & -0.15540381\\\\\n",
       "\\end{bmatrix} = \n",
       "\\begin{bmatrix}\n",
       "  -0.13786977 & -0.37714031 & 0.32663131 & 0.56057876 & -0.26623245 & -0.30093866\\\\\n",
       "  0.37014369 & 0.02993488 & 0.05077628 & 0.21082172\\\\\n",
       "  0.14184479 & -0.24799867 & 0.26070112 & 0.27033455 & 0.04279787 & -0.05541434\\\\\n",
       "  -0.18552935 & -0.0304521 & -0.2545397 & -0.15098494\\\\\n",
       "  0.00865525 & -0.29426961 & 0.25785082 & 0.35111239 & -0.50453533 & -0.53148012\\\\\n",
       "  0.00787233 & 0.01684406 & 0.422945 & -0.31619433\\\\\n",
       "  0.26011529 & -0.28059445 & -0.47666172 & -0.15865246 & -0.08197266 & -0.24596527\\\\\n",
       "  -0.48590514 & -0.32656968 & -0.31023278 & -0.18495322\\\\\n",
       "  0.35637789 & -0.30161594 & -0.46927662 & 0.19929121 & -0.12442799 & 0.26248398\\\\\n",
       "  -0.27648069 & 0.55911288 & -0.17507742 & -0.42816025\\\\\n",
       "  -0.34883654 & 0.12674043 & 0.22135719 & 0.13165568 & 0.19424671 & -0.02032159\\\\\n",
       "  0.04450053 & -0.10725559 & 0.00137757 & -0.1538791\\\\\n",
       "  0.18187631 & -0.3847699 & 0.4679423 & -0.304871 & 0.40240925 & -0.09662078\\\\\n",
       "  0.36246517 & -0.00705707 & 0.09043656 & 0.19325477\\\\\n",
       "  -0.0726405 & 0.35161387 & -0.22644817 & -0.22654978 & -0.09709148 & 0.2934634\\\\\n",
       "  0.31551159 & 0.28983167 & -0.23391999 & -0.03189203\\\\\n",
       "  -0.01158695 & 0.60312796 & -0.36448375 & 0.36487121 & 0.52742026 & 0.32581821\\\\\n",
       "  0.22706665 & -0.12934787 & 0.26840268 & 0.44154249\\\\\n",
       "  -0.37456387 & -0.13247401 & -0.00653481 & -0.3724332 & -0.06955866 & -0.0266111\\\\\n",
       "  -0.18185585 & -0.20055949 & 0.39630715 & -0.50362312\\\\\n",
       "  -0.24500137 & 0.07168557 & -0.36525618 & 0.04453803 & -0.05432488 & 0.43400672\\\\\n",
       "  -0.01547622 & 0.04428753 & -0.1203804 & 0.26604896\\\\\n",
       "  -0.29303387 & -0.35544511 & 0.0694467 & 0.1202355 & 0.01003946 & -0.44321204\\\\\n",
       "  0.08607736 & 0.47415466 & -0.32344113 & 0.05552444\\\\\n",
       "  -0.42942217 & 0.26942957 & 0.16860781 & -0.27705433 & 0.11966587 & 0.33526455\\\\\n",
       "  -0.35943593 & -0.26286124 & 0.09071268 & 0.16020889\\\\\n",
       "  0.26334524 & -0.27413883 & -0.08246125 & -0.0339122 & -0.60898001 & -0.52945208\\\\\n",
       "  -0.02488458 & -0.33240829 & 0.41362568 & -0.16922731\\\\\n",
       "\\end{bmatrix} - 0.7\n",
       "\\begin{bmatrix}\n",
       "  0.89665689\\\\\n",
       "  0.44351814\\\\\n",
       "  0.61715915\\\\\n",
       "  0.44336294\\\\\n",
       "  0.89855355\\\\\n",
       "  0.70930818\\\\\n",
       "  0.86897167\\\\\n",
       "  0.72397959\\\\\n",
       "  0.49679706\\\\\n",
       "  0.9566942\\\\\n",
       "  0.89392191\\\\\n",
       "  0.47975902\\\\\n",
       "  0.6340441\\\\\n",
       "  0.41867369\\\\\n",
       "\\end{bmatrix} \\cdot \n",
       "\\begin{bmatrix}\n",
       "  -0.03744262 & -0.06803654 & 0.02626939 & 0.0217908 & -0.0521713 & -0.06163013\\\\\n",
       "  0.10279471 & 0.13117927 & -0.1827794 & -0.04716766\\\\\n",
       "\\end{bmatrix}\\end{gather}"
      ],
      "text/plain": [
       "<IPython.core.display.Latex object>"
      ]
     },
     "metadata": {},
     "output_type": "display_data"
    },
    {
     "data": {
      "text/latex": [
       "B = B - \\lambda (\\nabla f_{custo})"
      ],
      "text/plain": [
       "<IPython.core.display.Latex object>"
      ]
     },
     "metadata": {},
     "output_type": "display_data"
    },
    {
     "data": {
      "text/latex": [
       "\\begin{gather}\n",
       "\\begin{bmatrix}\n",
       "  0.48650764 & 0.60002564 & 0.18676926 & -0.25130987 & 0.06511927 & -0.18612114\\\\\n",
       "  0.34848631 & 0.35001398 & -0.07535217 & 0.26854387\\\\\n",
       "\\end{bmatrix} = \n",
       "\\begin{bmatrix}\n",
       "  0.46029781 & 0.55240006 & 0.20515783 & -0.23605631 & 0.02859935 & -0.22926223\\\\\n",
       "  0.4204426 & 0.44183947 & -0.20329775 & 0.23552651\\\\\n",
       "\\end{bmatrix} - 0.7\n",
       "\\begin{bmatrix}\n",
       "  -0.03744262 & -0.06803654 & 0.02626939 & 0.0217908 & -0.0521713 & -0.06163013\\\\\n",
       "  0.10279471 & 0.13117927 & -0.1827794 & -0.04716766\\\\\n",
       "\\end{bmatrix}\\end{gather}"
      ],
      "text/plain": [
       "<IPython.core.display.Latex object>"
      ]
     },
     "metadata": {},
     "output_type": "display_data"
    },
    {
     "data": {
      "text/latex": [
       "Camada: 1"
      ],
      "text/plain": [
       "<IPython.core.display.Latex object>"
      ]
     },
     "metadata": {},
     "output_type": "display_data"
    },
    {
     "data": {
      "text/latex": [
       "\\frac{\\partial E}{\\partial X} = \\frac{\\partial E}{\\partial Y} \\sigma^{'}(X)"
      ],
      "text/plain": [
       "<IPython.core.display.Latex object>"
      ]
     },
     "metadata": {},
     "output_type": "display_data"
    },
    {
     "data": {
      "text/latex": [
       "\\begin{gather}\n",
       "\\begin{bmatrix}\n",
       "  0.00989689 & 0.01383706 & 0.00799229 & -0.00359124 & 0.0078964 & 0.00036115\\\\\n",
       "  0.0023531 & 0.01390918 & -0.03833162 & -0.003052 & -0.00138152 & 0.04840504\\\\\n",
       "  -0.02931333 & -0.01058628\\\\\n",
       "\\end{bmatrix} = \n",
       "\\begin{bmatrix}\n",
       "  0.1068048 & 0.05606367 & 0.03382641 & -0.01455169 & 0.08662606 & 0.00175153\\\\\n",
       "  0.02066664 & 0.06960396 & -0.15333276 & -0.07366567 & -0.01456909 & 0.19393798\\\\\n",
       "  -0.12633304 & -0.04349586\\\\\n",
       "\\end{bmatrix} \\cdot  \\sigma^{'}(\n",
       "\\begin{bmatrix}\n",
       "  2.16061863 & -0.22689585 & 0.47750755 & -0.22752474 & 2.18125528 & 0.89202642\\\\\n",
       "  1.89189699 & 0.9642884 & -0.01281192 & 3.09519718 & 2.13144286 & -0.08100819\\\\\n",
       "  0.54960568 & -0.32822042\\\\\n",
       "\\end{bmatrix}) \\end{gather}"
      ],
      "text/plain": [
       "<IPython.core.display.Latex object>"
      ]
     },
     "metadata": {},
     "output_type": "display_data"
    },
    {
     "data": {
      "text/latex": [
       "Camada: 0"
      ],
      "text/plain": [
       "<IPython.core.display.Latex object>"
      ]
     },
     "metadata": {},
     "output_type": "display_data"
    },
    {
     "data": {
      "text/latex": [
       "\\frac{\\partial E}{\\partial X} = \\frac{\\partial E}{\\partial Y} W^T"
      ],
      "text/plain": [
       "<IPython.core.display.Latex object>"
      ]
     },
     "metadata": {},
     "output_type": "display_data"
    },
    {
     "data": {
      "text/latex": [
       "\n",
       "\\begin{bmatrix}\n",
       "  0.03304596 & -0.02441864 & -0.02004342 & 0.00710373 & 0.00189779 & 0.03417617\\\\\n",
       "  0.0234247\\\\\n",
       "\\end{bmatrix} = \n",
       "\\begin{bmatrix}\n",
       "  0.00989689 & 0.01383706 & 0.00799229 & -0.00359124 & 0.0078964 & 0.00036115\\\\\n",
       "  0.0023531 & 0.01390918 & -0.03833162 & -0.003052 & -0.00138152 & 0.04840504\\\\\n",
       "  -0.02931333 & -0.01058628\\\\\n",
       "\\end{bmatrix} \\cdot \n",
       "\\begin{bmatrix}\n",
       "  -0.10313476 & 0.21017594 & -0.05810525 & 0.54712231 & 0.17521388 & 0.84624676\\\\\n",
       "  0.93966834\\\\\n",
       "  0.56717327 & -0.93296528 & -0.36427293 & 0.15327746 & -0.11876803 & -0.07176595\\\\\n",
       "  0.83291328\\\\\n",
       "  0.2170604 & -0.57922748 & -0.94460184 & 0.40901755 & 0.56801868 & 0.68426324\\\\\n",
       "  0.59449793\\\\\n",
       "  0.05495621 & -1.21254981 & -0.82507351 & 0.34129363 & 0.86663155 & 0.40272224\\\\\n",
       "  1.03186795\\\\\n",
       "  0.43895032 & 0.03600584 & -0.13290483 & 0.55837567 & 0.02379256 & 0.59055775\\\\\n",
       "  0.39033462\\\\\n",
       "  0.42767989 & -0.06223555 & -0.72752531 & 0.26391073 & 0.51672292 & 0.72792886\\\\\n",
       "  0.38616082\\\\\n",
       "  0.02355149 & 0.18841713 & -0.15059386 & 0.64048704 & 0.22208331 & 0.58070242\\\\\n",
       "  0.17006774\\\\\n",
       "  -0.0430449 & 0.10066701 & -0.44576574 & 0.51077978 & 0.06841658 & 0.58827397\\\\\n",
       "  0.84975407\\\\\n",
       "  -0.3392167 & 0.26980085 & 0.19239538 & 0.13680356 & 0.03022773 & 0.05980624\\\\\n",
       "  -0.05252259\\\\\n",
       "  0.8301343 & 0.13532063 & 0.0334443 & 0.89971085 & -0.03162086 & 0.54034053\\\\\n",
       "  0.95118127\\\\\n",
       "  0.5678002 & 0.30706833 & 0.4948645 & 0.06266201 & -0.01061412 & 0.73918664\\\\\n",
       "  -0.03794945\\\\\n",
       "  0.73628293 & -0.54714778 & -0.39776275 & 0.0769965 & 0.47256258 & 0.31765086\\\\\n",
       "  0.10486949\\\\\n",
       "  0.59071132 & -0.50202703 & -0.51681458 & 0.24859276 & 0.68776374 & -0.14100444\\\\\n",
       "  0.45697155\\\\\n",
       "  0.60501777 & -0.71110089 & -0.9720262 & 0.37359533 & 0.29616791 & 0.59038797\\\\\n",
       "  0.44687049\\\\\n",
       "\\end{bmatrix}"
      ],
      "text/plain": [
       "<IPython.core.display.Latex object>"
      ]
     },
     "metadata": {},
     "output_type": "display_data"
    },
    {
     "data": {
      "text/latex": [
       "W = W - \\lambda (X^T \\cdot \\nabla f_{custo})"
      ],
      "text/plain": [
       "<IPython.core.display.Latex object>"
      ]
     },
     "metadata": {},
     "output_type": "display_data"
    },
    {
     "data": {
      "text/latex": [
       "\\begin{gather}\n",
       "\\begin{bmatrix}\n",
       "  -0.11006258 & 0.55748733 & 0.21146579 & 0.05747008 & 0.43342283 & 0.42742709\\\\\n",
       "  0.02190432 & -0.05278133 & -0.31238457 & 0.8322707 & 0.56876726 & 0.7023994\\\\\n",
       "  0.61123065 & 0.61242817\\\\\n",
       "  0.20324812 & -0.94265123 & -0.58482208 & -1.21003594 & 0.03047836 & -0.06248836\\\\\n",
       "  0.18676996 & 0.09093058 & 0.29663299 & 0.13745702 & 0.3080354 & -0.5810313\\\\\n",
       "  -0.4815077 & -0.70369049\\\\\n",
       "  -0.06503307 & -0.37395888 & -0.95019645 & -0.82255964 & -0.13843231 & -0.72777811\\\\\n",
       "  -0.15224104 & -0.45550217 & 0.21922751 & 0.0355807 & 0.49583156 & -0.43164627\\\\\n",
       "  -0.49629525 & -0.9646158\\\\\n",
       "  0.54019449 & 0.14359152 & 0.40342295 & 0.3438075 & 0.55284819 & 0.26365793\\\\\n",
       "  0.63883987 & 0.50104336 & 0.16363569 & 0.90184725 & 0.06362907 & 0.04311298\\\\\n",
       "  0.26911209 & 0.38100573\\\\\n",
       "  0.16828606 & -0.12845397 & 0.56242407 & 0.86914542 & 0.01826508 & 0.51647012\\\\\n",
       "  0.22043613 & 0.05868016 & 0.05705986 & -0.02948446 & -0.00964706 & 0.43867905\\\\\n",
       "  0.70828307 & 0.30357831\\\\\n",
       "  0.83931894 & -0.08145189 & 0.67866864 & 0.40523611 & 0.58503027 & 0.72767606\\\\\n",
       "  0.57905524 & 0.57853754 & 0.08663837 & 0.54247693 & 0.74015371 & 0.28376733\\\\\n",
       "  -0.12048511 & 0.59779837\\\\\n",
       "  0.93274052 & 0.82322734 & 0.58890333 & 1.03438182 & 0.38480714 & 0.38590802\\\\\n",
       "  0.16842057 & 0.84001765 & -0.02569046 & 0.95331767 & -0.03698238 & 0.07098596\\\\\n",
       "  0.47749088 & 0.45428088\\\\\n",
       "\\end{bmatrix} = \n",
       "\\begin{bmatrix}\n",
       "  -0.10313476 & 0.56717327 & 0.2170604 & 0.05495621 & 0.43895032 & 0.42767989\\\\\n",
       "  0.02355149 & -0.0430449 & -0.3392167 & 0.8301343 & 0.5678002 & 0.73628293\\\\\n",
       "  0.59071132 & 0.60501777\\\\\n",
       "  0.21017594 & -0.93296528 & -0.57922748 & -1.21254981 & 0.03600584 & -0.06223555\\\\\n",
       "  0.18841713 & 0.10066701 & 0.26980085 & 0.13532063 & 0.30706833 & -0.54714778\\\\\n",
       "  -0.50202703 & -0.71110089\\\\\n",
       "  -0.05810525 & -0.36427293 & -0.94460184 & -0.82507351 & -0.13290483 & -0.72752531\\\\\n",
       "  -0.15059386 & -0.44576574 & 0.19239538 & 0.0334443 & 0.4948645 & -0.39776275\\\\\n",
       "  -0.51681458 & -0.9720262\\\\\n",
       "  0.54712231 & 0.15327746 & 0.40901755 & 0.34129363 & 0.55837567 & 0.26391073\\\\\n",
       "  0.64048704 & 0.51077978 & 0.13680356 & 0.89971085 & 0.06266201 & 0.0769965\\\\\n",
       "  0.24859276 & 0.37359533\\\\\n",
       "  0.17521388 & -0.11876803 & 0.56801868 & 0.86663155 & 0.02379256 & 0.51672292\\\\\n",
       "  0.22208331 & 0.06841658 & 0.03022773 & -0.03162086 & -0.01061412 & 0.47256258\\\\\n",
       "  0.68776374 & 0.29616791\\\\\n",
       "  0.84624676 & -0.07176595 & 0.68426324 & 0.40272224 & 0.59055775 & 0.72792886\\\\\n",
       "  0.58070242 & 0.58827397 & 0.05980624 & 0.54034053 & 0.73918664 & 0.31765086\\\\\n",
       "  -0.14100444 & 0.59038797\\\\\n",
       "  0.93966834 & 0.83291328 & 0.59449793 & 1.03186795 & 0.39033462 & 0.38616082\\\\\n",
       "  0.17006774 & 0.84975407 & -0.05252259 & 0.95118127 & -0.03794945 & 0.10486949\\\\\n",
       "  0.45697155 & 0.44687049\\\\\n",
       "\\end{bmatrix} - 0.7\n",
       "\\begin{bmatrix}\n",
       "  1\\\\\n",
       "  1\\\\\n",
       "  1\\\\\n",
       "  1\\\\\n",
       "  1\\\\\n",
       "  1\\\\\n",
       "  1\\\\\n",
       "\\end{bmatrix} \\cdot \n",
       "\\begin{bmatrix}\n",
       "  0.00989689 & 0.01383706 & 0.00799229 & -0.00359124 & 0.0078964 & 0.00036115\\\\\n",
       "  0.0023531 & 0.01390918 & -0.03833162 & -0.003052 & -0.00138152 & 0.04840504\\\\\n",
       "  -0.02931333 & -0.01058628\\\\\n",
       "\\end{bmatrix}\\end{gather}"
      ],
      "text/plain": [
       "<IPython.core.display.Latex object>"
      ]
     },
     "metadata": {},
     "output_type": "display_data"
    },
    {
     "data": {
      "text/latex": [
       "B = B - \\lambda (\\nabla f_{custo})"
      ],
      "text/plain": [
       "<IPython.core.display.Latex object>"
      ]
     },
     "metadata": {},
     "output_type": "display_data"
    },
    {
     "data": {
      "text/latex": [
       "\\begin{gather}\n",
       "\\begin{bmatrix}\n",
       "  -0.4034964 & -0.30217361 & -0.47711553 & -0.88485913 & 0.27061586 & -0.64086875\\\\\n",
       "  0.21553457 & -0.6745288 & -0.28327426 & -0.26117744 & 0.00939182 & -0.87834355\\\\\n",
       "  -0.2540683 & -0.9497224\\\\\n",
       "\\end{bmatrix} = \n",
       "\\begin{bmatrix}\n",
       "  -0.39656858 & -0.29248767 & -0.47152093 & -0.887373 & 0.27614335 & -0.64061595\\\\\n",
       "  0.21718174 & -0.66479237 & -0.31010639 & -0.26331384 & 0.00842476 & -0.84446002\\\\\n",
       "  -0.27458764 & -0.9571328\\\\\n",
       "\\end{bmatrix} - 0.7\n",
       "\\begin{bmatrix}\n",
       "  0.00989689 & 0.01383706 & 0.00799229 & -0.00359124 & 0.0078964 & 0.00036115\\\\\n",
       "  0.0023531 & 0.01390918 & -0.03833162 & -0.003052 & -0.00138152 & 0.04840504\\\\\n",
       "  -0.02931333 & -0.01058628\\\\\n",
       "\\end{bmatrix}\\end{gather}"
      ],
      "text/plain": [
       "<IPython.core.display.Latex object>"
      ]
     },
     "metadata": {},
     "output_type": "display_data"
    },
    {
     "data": {
      "text/latex": [
       "Camada: 0"
      ],
      "text/plain": [
       "<IPython.core.display.Latex object>"
      ]
     },
     "metadata": {},
     "output_type": "display_data"
    },
    {
     "data": {
      "text/latex": [
       "Y = Xw + b"
      ],
      "text/plain": [
       "<IPython.core.display.Latex object>"
      ]
     },
     "metadata": {},
     "output_type": "display_data"
    },
    {
     "data": {
      "text/latex": [
       "\\begin{gather}\n",
       "\\begin{bmatrix}\n",
       "  1.63003465 & -0.07401605 & 0.97952421 & 0.27133836 & 1.72261954 & 1.35412417\\\\\n",
       "  1.39212079 & 0.84085581 & -0.18101807 & 2.17486042 & 1.57971875 & 0.03645689\\\\\n",
       "  0.94094349 & 0.31467284\\\\\n",
       "\\end{bmatrix} = \n",
       "\\begin{bmatrix}\n",
       "  1 & 1 & 0 & 0 & 1 & 1 & 1\\\\\n",
       "\\end{bmatrix} \\cdot \n",
       "\\begin{bmatrix}\n",
       "  -0.11006258 & 0.55748733 & 0.21146579 & 0.05747008 & 0.43342283 & 0.42742709\\\\\n",
       "  0.02190432 & -0.05278133 & -0.31238457 & 0.8322707 & 0.56876726 & 0.7023994\\\\\n",
       "  0.61123065 & 0.61242817\\\\\n",
       "  0.20324812 & -0.94265123 & -0.58482208 & -1.21003594 & 0.03047836 & -0.06248836\\\\\n",
       "  0.18676996 & 0.09093058 & 0.29663299 & 0.13745702 & 0.3080354 & -0.5810313\\\\\n",
       "  -0.4815077 & -0.70369049\\\\\n",
       "  -0.06503307 & -0.37395888 & -0.95019645 & -0.82255964 & -0.13843231 & -0.72777811\\\\\n",
       "  -0.15224104 & -0.45550217 & 0.21922751 & 0.0355807 & 0.49583156 & -0.43164627\\\\\n",
       "  -0.49629525 & -0.9646158\\\\\n",
       "  0.54019449 & 0.14359152 & 0.40342295 & 0.3438075 & 0.55284819 & 0.26365793\\\\\n",
       "  0.63883987 & 0.50104336 & 0.16363569 & 0.90184725 & 0.06362907 & 0.04311298\\\\\n",
       "  0.26911209 & 0.38100573\\\\\n",
       "  0.16828606 & -0.12845397 & 0.56242407 & 0.86914542 & 0.01826508 & 0.51647012\\\\\n",
       "  0.22043613 & 0.05868016 & 0.05705986 & -0.02948446 & -0.00964706 & 0.43867905\\\\\n",
       "  0.70828307 & 0.30357831\\\\\n",
       "  0.83931894 & -0.08145189 & 0.67866864 & 0.40523611 & 0.58503027 & 0.72767606\\\\\n",
       "  0.57905524 & 0.57853754 & 0.08663837 & 0.54247693 & 0.74015371 & 0.28376733\\\\\n",
       "  -0.12048511 & 0.59779837\\\\\n",
       "  0.93274052 & 0.82322734 & 0.58890333 & 1.03438182 & 0.38480714 & 0.38590802\\\\\n",
       "  0.16842057 & 0.84001765 & -0.02569046 & 0.95331767 & -0.03698238 & 0.07098596\\\\\n",
       "  0.47749088 & 0.45428088\\\\\n",
       "\\end{bmatrix} + \n",
       "\\begin{bmatrix}\n",
       "  -0.4034964 & -0.30217361 & -0.47711553 & -0.88485913 & 0.27061586 & -0.64086875\\\\\n",
       "  0.21553457 & -0.6745288 & -0.28327426 & -0.26117744 & 0.00939182 & -0.87834355\\\\\n",
       "  -0.2540683 & -0.9497224\\\\\n",
       "\\end{bmatrix}\\end{gather}"
      ],
      "text/plain": [
       "<IPython.core.display.Latex object>"
      ]
     },
     "metadata": {},
     "output_type": "display_data"
    },
    {
     "data": {
      "text/latex": [
       "Camada: 1"
      ],
      "text/plain": [
       "<IPython.core.display.Latex object>"
      ]
     },
     "metadata": {},
     "output_type": "display_data"
    },
    {
     "data": {
      "text/latex": [
       "Y = \\sigma(X)"
      ],
      "text/plain": [
       "<IPython.core.display.Latex object>"
      ]
     },
     "metadata": {},
     "output_type": "display_data"
    },
    {
     "data": {
      "text/latex": [
       "\\begin{gather}\n",
       "\\begin{bmatrix}\n",
       "  0.83617439 & 0.48150443 & 0.7270138 & 0.56742144 & 0.84846594 & 0.79480306\\\\\n",
       "  0.8009306 & 0.69864543 & 0.45486865 & 0.89796914 & 0.82916468 & 0.50911321\\\\\n",
       "  0.7192902 & 0.57802544\\\\\n",
       "\\end{bmatrix} = \\sigma(\n",
       "\\begin{bmatrix}\n",
       "  1.63003465 & -0.07401605 & 0.97952421 & 0.27133836 & 1.72261954 & 1.35412417\\\\\n",
       "  1.39212079 & 0.84085581 & -0.18101807 & 2.17486042 & 1.57971875 & 0.03645689\\\\\n",
       "  0.94094349 & 0.31467284\\\\\n",
       "\\end{bmatrix}) \\end{gather}"
      ],
      "text/plain": [
       "<IPython.core.display.Latex object>"
      ]
     },
     "metadata": {},
     "output_type": "display_data"
    },
    {
     "data": {
      "text/latex": [
       "Camada: 2"
      ],
      "text/plain": [
       "<IPython.core.display.Latex object>"
      ]
     },
     "metadata": {},
     "output_type": "display_data"
    },
    {
     "data": {
      "text/latex": [
       "Y = Xw + b"
      ],
      "text/plain": [
       "<IPython.core.display.Latex object>"
      ]
     },
     "metadata": {},
     "output_type": "display_data"
    },
    {
     "data": {
      "text/latex": [
       "\\begin{gather}\n",
       "\\begin{bmatrix}\n",
       "  0.04526235 & -0.02491148 & 0.00322953 & -0.01125972 & -0.12115972 & -0.16229392\\\\\n",
       "  -0.19257757 & -0.20783757 & 1.14587727 & -0.07108126\\\\\n",
       "\\end{bmatrix} = \n",
       "\\begin{bmatrix}\n",
       "  0.83617439 & 0.48150443 & 0.7270138 & 0.56742144 & 0.84846594 & 0.79480306\\\\\n",
       "  0.8009306 & 0.69864543 & 0.45486865 & 0.89796914 & 0.82916468 & 0.50911321\\\\\n",
       "  0.7192902 & 0.57802544\\\\\n",
       "\\end{bmatrix} \\cdot \n",
       "\\begin{bmatrix}\n",
       "  -0.11436854 & -0.33443651 & 0.31014307 & 0.54690155 & -0.23348662 & -0.26225591\\\\\n",
       "  0.30562359 & -0.05240107 & 0.16549957 & 0.24042696\\\\\n",
       "  0.15346933 & -0.22687586 & 0.25254546 & 0.26356932 & 0.05899512 & -0.03628048\\\\\n",
       "  -0.21744327 & -0.07117837 & -0.19779352 & -0.13634115\\\\\n",
       "  0.02483089 & -0.26487705 & 0.24650214 & 0.34169851 & -0.48199673 & -0.50485521\\\\\n",
       "  -0.03653615 & -0.03982688 & 0.50190779 & -0.29581736\\\\\n",
       "  0.27173576 & -0.25947904 & -0.48481453 & -0.16541532 & -0.06578109 & -0.22683811\\\\\n",
       "  -0.5178079 & -0.3672817 & -0.25350645 & -0.17031454\\\\\n",
       "  0.37992883 & -0.25882181 & -0.48579974 & 0.18558507 & -0.09161289 & 0.30124856\\\\\n",
       "  -0.34113728 & 0.47660277 & -0.06011146 & -0.39849239\\\\\n",
       "  -0.33024569 & 0.16052164 & 0.20831402 & 0.1208362 & 0.22015058 & 0.01027874\\\\\n",
       "  -0.00653866 & -0.17238816 & 0.09213042 & -0.13045962\\\\\n",
       "  0.20465191 & -0.34338463 & 0.45196315 & -0.31812591 & 0.43414402 & -0.0591324\\\\\n",
       "  0.29993719 & -0.08685082 & 0.20161765 & 0.22194592\\\\\n",
       "  -0.05366512 & 0.38609381 & -0.23976113 & -0.23759305 & -0.07065181 & 0.32469667\\\\\n",
       "  0.2634167 & 0.2233519 & -0.14129 & -0.00798813\\\\\n",
       "  0.00143402 & 0.62678821 & -0.37361914 & 0.35729329 & 0.54556324 & 0.34725058\\\\\n",
       "  0.19131898 & -0.17496651 & 0.33196567 & 0.45794542\\\\\n",
       "  -0.34948907 & -0.0869109 & -0.02412705 & -0.3870262 & -0.03462027 & 0.01466173\\\\\n",
       "  -0.25069602 & -0.2884084 & 0.51871195 & -0.4720356\\\\\n",
       "  -0.22157182 & 0.11425912 & -0.38169413 & 0.03090254 & -0.02167893 & 0.47257149\\\\\n",
       "  -0.07979952 & -0.03779728 & -0.00600704 & 0.2955639\\\\\n",
       "  -0.28045946 & -0.33259631 & 0.06062462 & 0.11291747 & 0.02756022 & -0.42251472\\\\\n",
       "  0.05155568 & 0.43010056 & -0.26205808 & 0.07136482\\\\\n",
       "  -0.41280398 & 0.29962629 & 0.15694865 & -0.28672576 & 0.1428211 & 0.3626179\\\\\n",
       "  -0.40505939 & -0.32108265 & 0.17183582 & 0.18114336\\\\\n",
       "  0.27431861 & -0.25419925 & -0.09016007 & -0.04029847 & -0.59369008 & -0.51139004\\\\\n",
       "  -0.05501079 & -0.37085321 & 0.46719312 & -0.15540381\\\\\n",
       "\\end{bmatrix} + \n",
       "\\begin{bmatrix}\n",
       "  0.48650764 & 0.60002564 & 0.18676926 & -0.25130987 & 0.06511927 & -0.18612114\\\\\n",
       "  0.34848631 & 0.35001398 & -0.07535217 & 0.26854387\\\\\n",
       "\\end{bmatrix}\\end{gather}"
      ],
      "text/plain": [
       "<IPython.core.display.Latex object>"
      ]
     },
     "metadata": {},
     "output_type": "display_data"
    },
    {
     "data": {
      "text/latex": [
       "f_{custo}(\n",
       "\\begin{bmatrix}\n",
       "  0 & 0 & 0 & 0 & 0 & 0 & 0 & 0 & 0 & 1\\\\\n",
       "\\end{bmatrix},\n",
       "\\begin{bmatrix}\n",
       "  0.04526235 & -0.02491148 & 0.00322953 & -0.01125972 & -0.12115972 & -0.16229392\\\\\n",
       "  -0.19257757 & -0.20783757 & 1.14587727 & -0.07108126\\\\\n",
       "\\end{bmatrix}) = \n",
       "\\begin{bmatrix}\n",
       "  0.2584357829012257\\\\\n",
       "\\end{bmatrix}"
      ],
      "text/plain": [
       "<IPython.core.display.Latex object>"
      ]
     },
     "metadata": {},
     "output_type": "display_data"
    },
    {
     "data": {
      "text/latex": [
       "\\nabla = \\frac{\\partial E}{\\partial Y} = \n",
       "\\begin{bmatrix}\n",
       "  0.00905247 & -0.0049823 & 0.00064591 & -0.00225194 & -0.02423194 & -0.03245878\\\\\n",
       "  -0.03851551 & -0.04156751 & 0.22917545 & -0.21421625\\\\\n",
       "\\end{bmatrix}"
      ],
      "text/plain": [
       "<IPython.core.display.Latex object>"
      ]
     },
     "metadata": {},
     "output_type": "display_data"
    },
    {
     "data": {
      "text/latex": [
       "Camada: 2"
      ],
      "text/plain": [
       "<IPython.core.display.Latex object>"
      ]
     },
     "metadata": {},
     "output_type": "display_data"
    },
    {
     "data": {
      "text/latex": [
       "\\frac{\\partial E}{\\partial X} = \\frac{\\partial E}{\\partial Y} W^T"
      ],
      "text/plain": [
       "<IPython.core.display.Latex object>"
      ]
     },
     "metadata": {},
     "output_type": "display_data"
    },
    {
     "data": {
      "text/latex": [
       "\n",
       "\\begin{bmatrix}\n",
       "  -0.00939797 & -0.00295201 & 0.21045746 & 0.02636625 & 0.06135427 & 0.04688301\\\\\n",
       "  -0.01330968 & -0.06095531 & -0.05076397 & 0.24012612 & -0.07775155 & -0.0832591\\\\\n",
       "  0.00981075 & 0.19266107\\\\\n",
       "\\end{bmatrix} = \n",
       "\\begin{bmatrix}\n",
       "  0.00905247 & -0.0049823 & 0.00064591 & -0.00225194 & -0.02423194 & -0.03245878\\\\\n",
       "  -0.03851551 & -0.04156751 & 0.22917545 & -0.21421625\\\\\n",
       "\\end{bmatrix} \\cdot \n",
       "\\begin{bmatrix}\n",
       "  -0.11436854 & 0.15346933 & 0.02483089 & 0.27173576 & 0.37992883 & -0.33024569\\\\\n",
       "  0.20465191 & -0.05366512 & 0.00143402 & -0.34948907 & -0.22157182 & -0.28045946\\\\\n",
       "  -0.41280398 & 0.27431861\\\\\n",
       "  -0.33443651 & -0.22687586 & -0.26487705 & -0.25947904 & -0.25882181 & 0.16052164\\\\\n",
       "  -0.34338463 & 0.38609381 & 0.62678821 & -0.0869109 & 0.11425912 & -0.33259631\\\\\n",
       "  0.29962629 & -0.25419925\\\\\n",
       "  0.31014307 & 0.25254546 & 0.24650214 & -0.48481453 & -0.48579974 & 0.20831402\\\\\n",
       "  0.45196315 & -0.23976113 & -0.37361914 & -0.02412705 & -0.38169413 & 0.06062462\\\\\n",
       "  0.15694865 & -0.09016007\\\\\n",
       "  0.54690155 & 0.26356932 & 0.34169851 & -0.16541532 & 0.18558507 & 0.1208362\\\\\n",
       "  -0.31812591 & -0.23759305 & 0.35729329 & -0.3870262 & 0.03090254 & 0.11291747\\\\\n",
       "  -0.28672576 & -0.04029847\\\\\n",
       "  -0.23348662 & 0.05899512 & -0.48199673 & -0.06578109 & -0.09161289 & 0.22015058\\\\\n",
       "  0.43414402 & -0.07065181 & 0.54556324 & -0.03462027 & -0.02167893 & 0.02756022\\\\\n",
       "  0.1428211 & -0.59369008\\\\\n",
       "  -0.26225591 & -0.03628048 & -0.50485521 & -0.22683811 & 0.30124856 & 0.01027874\\\\\n",
       "  -0.0591324 & 0.32469667 & 0.34725058 & 0.01466173 & 0.47257149 & -0.42251472\\\\\n",
       "  0.3626179 & -0.51139004\\\\\n",
       "  0.30562359 & -0.21744327 & -0.03653615 & -0.5178079 & -0.34113728 & -0.00653866\\\\\n",
       "  0.29993719 & 0.2634167 & 0.19131898 & -0.25069602 & -0.07979952 & 0.05155568\\\\\n",
       "  -0.40505939 & -0.05501079\\\\\n",
       "  -0.05240107 & -0.07117837 & -0.03982688 & -0.3672817 & 0.47660277 & -0.17238816\\\\\n",
       "  -0.08685082 & 0.2233519 & -0.17496651 & -0.2884084 & -0.03779728 & 0.43010056\\\\\n",
       "  -0.32108265 & -0.37085321\\\\\n",
       "  0.16549957 & -0.19779352 & 0.50190779 & -0.25350645 & -0.06011146 & 0.09213042\\\\\n",
       "  0.20161765 & -0.14129 & 0.33196567 & 0.51871195 & -0.00600704 & -0.26205808\\\\\n",
       "  0.17183582 & 0.46719312\\\\\n",
       "  0.24042696 & -0.13634115 & -0.29581736 & -0.17031454 & -0.39849239 & -0.13045962\\\\\n",
       "  0.22194592 & -0.00798813 & 0.45794542 & -0.4720356 & 0.2955639 & 0.07136482\\\\\n",
       "  0.18114336 & -0.15540381\\\\\n",
       "\\end{bmatrix}"
      ],
      "text/plain": [
       "<IPython.core.display.Latex object>"
      ]
     },
     "metadata": {},
     "output_type": "display_data"
    },
    {
     "data": {
      "text/latex": [
       "W = W - \\lambda (X^T \\cdot \\nabla f_{custo})"
      ],
      "text/plain": [
       "<IPython.core.display.Latex object>"
      ]
     },
     "metadata": {},
     "output_type": "display_data"
    },
    {
     "data": {
      "text/latex": [
       "\\begin{gather}\n",
       "\\begin{bmatrix}\n",
       "  -0.11966715 & -0.33152026 & 0.309765 & 0.54821966 & -0.21930312 & -0.24325706\\\\\n",
       "  0.32816757 & -0.02807069 & 0.03135812 & 0.36581246\\\\\n",
       "  0.15041816 & -0.22519656 & 0.25232775 & 0.26432834 & 0.06716257 & -0.02534015\\\\\n",
       "  -0.2044615 & -0.05716791 & -0.27503782 & -0.06413889\\\\\n",
       "  0.020224 & -0.26234151 & 0.24617343 & 0.34284455 & -0.46966486 & -0.48833662\\\\\n",
       "  -0.01693524 & -0.01867277 & 0.38527819 & -0.18680064\\\\\n",
       "  0.26814016 & -0.25750009 & -0.48507108 & -0.16452086 & -0.05615628 & -0.21394565\\\\\n",
       "  -0.50250973 & -0.35077129 & -0.3445338 & -0.08522892\\\\\n",
       "  0.37455233 & -0.25586269 & -0.48618336 & 0.18692255 & -0.0772209 & 0.32052668\\\\\n",
       "  -0.3182619 & 0.5012908 & -0.19622476 & -0.27126375\\\\\n",
       "  -0.33528214 & 0.1632936 & 0.20795467 & 0.1220891 & 0.23363231 & 0.02833758\\\\\n",
       "  0.01488992 & -0.14926157 & -0.03537413 & -0.01127781\\\\\n",
       "  0.19957663 & -0.3405913 & 0.45160102 & -0.31686336 & 0.4477297 & -0.04093433\\\\\n",
       "  0.32153096 & -0.06354593 & 0.07313011 & 0.34204657\\\\\n",
       "  -0.05809224 & 0.38853041 & -0.24007701 & -0.23649173 & -0.05880114 & 0.3405707\\\\\n",
       "  0.28225278 & 0.24368056 & -0.25336867 & 0.09677471\\\\\n",
       "  -0.00144836 & 0.62837461 & -0.37382481 & 0.35801032 & 0.55327889 & 0.35758571\\\\\n",
       "  0.20358263 & -0.16173107 & 0.25899436 & 0.5261536\\\\\n",
       "  -0.35517926 & -0.08377914 & -0.02453306 & -0.38561068 & -0.01938859 & 0.03506462\\\\\n",
       "  -0.226486 & -0.26227996 & 0.37465721 & -0.33738389\\\\\n",
       "  -0.22682602 & 0.11715092 & -0.38206902 & 0.0322096 & -0.00761434 & 0.49141106\\\\\n",
       "  -0.05744453 & -0.01367086 & -0.13902397 & 0.41989829\\\\\n",
       "  -0.28368558 & -0.33082072 & 0.06039443 & 0.11372001 & 0.03619598 & -0.41094708\\\\\n",
       "  0.06528181 & 0.44491436 & -0.34373146 & 0.14770704\\\\\n",
       "  -0.41736192 & 0.30213489 & 0.15662343 & -0.2855919 & 0.15502196 & 0.378961\\\\\n",
       "  -0.38566671 & -0.30015327 & 0.05644526 & 0.28900191\\\\\n",
       "  0.27065582 & -0.25218332 & -0.09042141 & -0.03938729 & -0.58388541 & -0.49825664\\\\\n",
       "  -0.03942672 & -0.35403425 & 0.37446465 & -0.0687281\\\\\n",
       "\\end{bmatrix} = \n",
       "\\begin{bmatrix}\n",
       "  -0.11436854 & -0.33443651 & 0.31014307 & 0.54690155 & -0.23348662 & -0.26225591\\\\\n",
       "  0.30562359 & -0.05240107 & 0.16549957 & 0.24042696\\\\\n",
       "  0.15346933 & -0.22687586 & 0.25254546 & 0.26356932 & 0.05899512 & -0.03628048\\\\\n",
       "  -0.21744327 & -0.07117837 & -0.19779352 & -0.13634115\\\\\n",
       "  0.02483089 & -0.26487705 & 0.24650214 & 0.34169851 & -0.48199673 & -0.50485521\\\\\n",
       "  -0.03653615 & -0.03982688 & 0.50190779 & -0.29581736\\\\\n",
       "  0.27173576 & -0.25947904 & -0.48481453 & -0.16541532 & -0.06578109 & -0.22683811\\\\\n",
       "  -0.5178079 & -0.3672817 & -0.25350645 & -0.17031454\\\\\n",
       "  0.37992883 & -0.25882181 & -0.48579974 & 0.18558507 & -0.09161289 & 0.30124856\\\\\n",
       "  -0.34113728 & 0.47660277 & -0.06011146 & -0.39849239\\\\\n",
       "  -0.33024569 & 0.16052164 & 0.20831402 & 0.1208362 & 0.22015058 & 0.01027874\\\\\n",
       "  -0.00653866 & -0.17238816 & 0.09213042 & -0.13045962\\\\\n",
       "  0.20465191 & -0.34338463 & 0.45196315 & -0.31812591 & 0.43414402 & -0.0591324\\\\\n",
       "  0.29993719 & -0.08685082 & 0.20161765 & 0.22194592\\\\\n",
       "  -0.05366512 & 0.38609381 & -0.23976113 & -0.23759305 & -0.07065181 & 0.32469667\\\\\n",
       "  0.2634167 & 0.2233519 & -0.14129 & -0.00798813\\\\\n",
       "  0.00143402 & 0.62678821 & -0.37361914 & 0.35729329 & 0.54556324 & 0.34725058\\\\\n",
       "  0.19131898 & -0.17496651 & 0.33196567 & 0.45794542\\\\\n",
       "  -0.34948907 & -0.0869109 & -0.02412705 & -0.3870262 & -0.03462027 & 0.01466173\\\\\n",
       "  -0.25069602 & -0.2884084 & 0.51871195 & -0.4720356\\\\\n",
       "  -0.22157182 & 0.11425912 & -0.38169413 & 0.03090254 & -0.02167893 & 0.47257149\\\\\n",
       "  -0.07979952 & -0.03779728 & -0.00600704 & 0.2955639\\\\\n",
       "  -0.28045946 & -0.33259631 & 0.06062462 & 0.11291747 & 0.02756022 & -0.42251472\\\\\n",
       "  0.05155568 & 0.43010056 & -0.26205808 & 0.07136482\\\\\n",
       "  -0.41280398 & 0.29962629 & 0.15694865 & -0.28672576 & 0.1428211 & 0.3626179\\\\\n",
       "  -0.40505939 & -0.32108265 & 0.17183582 & 0.18114336\\\\\n",
       "  0.27431861 & -0.25419925 & -0.09016007 & -0.04029847 & -0.59369008 & -0.51139004\\\\\n",
       "  -0.05501079 & -0.37085321 & 0.46719312 & -0.15540381\\\\\n",
       "\\end{bmatrix} - 0.7\n",
       "\\begin{bmatrix}\n",
       "  0.83617439\\\\\n",
       "  0.48150443\\\\\n",
       "  0.7270138\\\\\n",
       "  0.56742144\\\\\n",
       "  0.84846594\\\\\n",
       "  0.79480306\\\\\n",
       "  0.8009306\\\\\n",
       "  0.69864543\\\\\n",
       "  0.45486865\\\\\n",
       "  0.89796914\\\\\n",
       "  0.82916468\\\\\n",
       "  0.50911321\\\\\n",
       "  0.7192902\\\\\n",
       "  0.57802544\\\\\n",
       "\\end{bmatrix} \\cdot \n",
       "\\begin{bmatrix}\n",
       "  0.00905247 & -0.0049823 & 0.00064591 & -0.00225194 & -0.02423194 & -0.03245878\\\\\n",
       "  -0.03851551 & -0.04156751 & 0.22917545 & -0.21421625\\\\\n",
       "\\end{bmatrix}\\end{gather}"
      ],
      "text/plain": [
       "<IPython.core.display.Latex object>"
      ]
     },
     "metadata": {},
     "output_type": "display_data"
    },
    {
     "data": {
      "text/latex": [
       "B = B - \\lambda (\\nabla f_{custo})"
      ],
      "text/plain": [
       "<IPython.core.display.Latex object>"
      ]
     },
     "metadata": {},
     "output_type": "display_data"
    },
    {
     "data": {
      "text/latex": [
       "\\begin{gather}\n",
       "\\begin{bmatrix}\n",
       "  0.48017092 & 0.60351324 & 0.18631713 & -0.24973351 & 0.08208163 & -0.16339999\\\\\n",
       "  0.37544717 & 0.37911124 & -0.23577499 & 0.41849524\\\\\n",
       "\\end{bmatrix} = \n",
       "\\begin{bmatrix}\n",
       "  0.48650764 & 0.60002564 & 0.18676926 & -0.25130987 & 0.06511927 & -0.18612114\\\\\n",
       "  0.34848631 & 0.35001398 & -0.07535217 & 0.26854387\\\\\n",
       "\\end{bmatrix} - 0.7\n",
       "\\begin{bmatrix}\n",
       "  0.00905247 & -0.0049823 & 0.00064591 & -0.00225194 & -0.02423194 & -0.03245878\\\\\n",
       "  -0.03851551 & -0.04156751 & 0.22917545 & -0.21421625\\\\\n",
       "\\end{bmatrix}\\end{gather}"
      ],
      "text/plain": [
       "<IPython.core.display.Latex object>"
      ]
     },
     "metadata": {},
     "output_type": "display_data"
    },
    {
     "data": {
      "text/latex": [
       "Camada: 1"
      ],
      "text/plain": [
       "<IPython.core.display.Latex object>"
      ]
     },
     "metadata": {},
     "output_type": "display_data"
    },
    {
     "data": {
      "text/latex": [
       "\\frac{\\partial E}{\\partial X} = \\frac{\\partial E}{\\partial Y} \\sigma^{'}(X)"
      ],
      "text/plain": [
       "<IPython.core.display.Latex object>"
      ]
     },
     "metadata": {},
     "output_type": "display_data"
    },
    {
     "data": {
      "text/latex": [
       "\\begin{gather}\n",
       "\\begin{bmatrix}\n",
       "  -0.0012874 & -0.00073699 & 0.04176838 & 0.00647171 & 0.00788841 & 0.0076462\\\\\n",
       "  -0.00212211 & -0.01283353 & -0.0125876 & 0.02200049 & -0.01101355 & -0.02080786\\\\\n",
       "  0.00198091 & 0.04699235\\\\\n",
       "\\end{bmatrix} = \n",
       "\\begin{bmatrix}\n",
       "  -0.00939797 & -0.00295201 & 0.21045746 & 0.02636625 & 0.06135427 & 0.04688301\\\\\n",
       "  -0.01330968 & -0.06095531 & -0.05076397 & 0.24012612 & -0.07775155 & -0.0832591\\\\\n",
       "  0.00981075 & 0.19266107\\\\\n",
       "\\end{bmatrix} \\cdot  \\sigma^{'}(\n",
       "\\begin{bmatrix}\n",
       "  1.63003465 & -0.07401605 & 0.97952421 & 0.27133836 & 1.72261954 & 1.35412417\\\\\n",
       "  1.39212079 & 0.84085581 & -0.18101807 & 2.17486042 & 1.57971875 & 0.03645689\\\\\n",
       "  0.94094349 & 0.31467284\\\\\n",
       "\\end{bmatrix}) \\end{gather}"
      ],
      "text/plain": [
       "<IPython.core.display.Latex object>"
      ]
     },
     "metadata": {},
     "output_type": "display_data"
    },
    {
     "data": {
      "text/latex": [
       "Camada: 0"
      ],
      "text/plain": [
       "<IPython.core.display.Latex object>"
      ]
     },
     "metadata": {},
     "output_type": "display_data"
    },
    {
     "data": {
      "text/latex": [
       "\\frac{\\partial E}{\\partial X} = \\frac{\\partial E}{\\partial Y} W^T"
      ],
      "text/plain": [
       "<IPython.core.display.Latex object>"
      ]
     },
     "metadata": {},
     "output_type": "display_data"
    },
    {
     "data": {
      "text/latex": [
       "\n",
       "\\begin{bmatrix}\n",
       "  0.04760663 & -0.0596599 & -0.08990885 & 0.05148618 & 0.03714693 & 0.05611553\\\\\n",
       "  0.06685336\\\\\n",
       "\\end{bmatrix} = \n",
       "\\begin{bmatrix}\n",
       "  -0.0012874 & -0.00073699 & 0.04176838 & 0.00647171 & 0.00788841 & 0.0076462\\\\\n",
       "  -0.00212211 & -0.01283353 & -0.0125876 & 0.02200049 & -0.01101355 & -0.02080786\\\\\n",
       "  0.00198091 & 0.04699235\\\\\n",
       "\\end{bmatrix} \\cdot \n",
       "\\begin{bmatrix}\n",
       "  -0.11006258 & 0.20324812 & -0.06503307 & 0.54019449 & 0.16828606 & 0.83931894\\\\\n",
       "  0.93274052\\\\\n",
       "  0.55748733 & -0.94265123 & -0.37395888 & 0.14359152 & -0.12845397 & -0.08145189\\\\\n",
       "  0.82322734\\\\\n",
       "  0.21146579 & -0.58482208 & -0.95019645 & 0.40342295 & 0.56242407 & 0.67866864\\\\\n",
       "  0.58890333\\\\\n",
       "  0.05747008 & -1.21003594 & -0.82255964 & 0.3438075 & 0.86914542 & 0.40523611\\\\\n",
       "  1.03438182\\\\\n",
       "  0.43342283 & 0.03047836 & -0.13843231 & 0.55284819 & 0.01826508 & 0.58503027\\\\\n",
       "  0.38480714\\\\\n",
       "  0.42742709 & -0.06248836 & -0.72777811 & 0.26365793 & 0.51647012 & 0.72767606\\\\\n",
       "  0.38590802\\\\\n",
       "  0.02190432 & 0.18676996 & -0.15224104 & 0.63883987 & 0.22043613 & 0.57905524\\\\\n",
       "  0.16842057\\\\\n",
       "  -0.05278133 & 0.09093058 & -0.45550217 & 0.50104336 & 0.05868016 & 0.57853754\\\\\n",
       "  0.84001765\\\\\n",
       "  -0.31238457 & 0.29663299 & 0.21922751 & 0.16363569 & 0.05705986 & 0.08663837\\\\\n",
       "  -0.02569046\\\\\n",
       "  0.8322707 & 0.13745702 & 0.0355807 & 0.90184725 & -0.02948446 & 0.54247693\\\\\n",
       "  0.95331767\\\\\n",
       "  0.56876726 & 0.3080354 & 0.49583156 & 0.06362907 & -0.00964706 & 0.74015371\\\\\n",
       "  -0.03698238\\\\\n",
       "  0.7023994 & -0.5810313 & -0.43164627 & 0.04311298 & 0.43867905 & 0.28376733\\\\\n",
       "  0.07098596\\\\\n",
       "  0.61123065 & -0.4815077 & -0.49629525 & 0.26911209 & 0.70828307 & -0.12048511\\\\\n",
       "  0.47749088\\\\\n",
       "  0.61242817 & -0.70369049 & -0.9646158 & 0.38100573 & 0.30357831 & 0.59779837\\\\\n",
       "  0.45428088\\\\\n",
       "\\end{bmatrix}"
      ],
      "text/plain": [
       "<IPython.core.display.Latex object>"
      ]
     },
     "metadata": {},
     "output_type": "display_data"
    },
    {
     "data": {
      "text/latex": [
       "W = W - \\lambda (X^T \\cdot \\nabla f_{custo})"
      ],
      "text/plain": [
       "<IPython.core.display.Latex object>"
      ]
     },
     "metadata": {},
     "output_type": "display_data"
    },
    {
     "data": {
      "text/latex": [
       "\\begin{gather}\n",
       "\\begin{bmatrix}\n",
       "  -0.1091614 & 0.55800322 & 0.18222792 & 0.05293988 & 0.42790095 & 0.42207474\\\\\n",
       "  0.02338979 & -0.04379786 & -0.30357325 & 0.81687036 & 0.57647675 & 0.7169649\\\\\n",
       "  0.60984402 & 0.57953352\\\\\n",
       "  0.2041493 & -0.94213533 & -0.61405995 & -1.21456613 & 0.02495647 & -0.0678407\\\\\n",
       "  0.18825543 & 0.09991406 & 0.3054443 & 0.12205668 & 0.31574489 & -0.5664658\\\\\n",
       "  -0.48289434 & -0.73658514\\\\\n",
       "  -0.06503307 & -0.37395888 & -0.95019645 & -0.82255964 & -0.13843231 & -0.72777811\\\\\n",
       "  -0.15224104 & -0.45550217 & 0.21922751 & 0.0355807 & 0.49583156 & -0.43164627\\\\\n",
       "  -0.49629525 & -0.9646158\\\\\n",
       "  0.54019449 & 0.14359152 & 0.40342295 & 0.3438075 & 0.55284819 & 0.26365793\\\\\n",
       "  0.63883987 & 0.50104336 & 0.16363569 & 0.90184725 & 0.06362907 & 0.04311298\\\\\n",
       "  0.26911209 & 0.38100573\\\\\n",
       "  0.16918724 & -0.12793808 & 0.5331862 & 0.86461522 & 0.01274319 & 0.51111777\\\\\n",
       "  0.22192161 & 0.06766363 & 0.06587117 & -0.0448848 & -0.00193757 & 0.45324455\\\\\n",
       "  0.70689644 & 0.27068366\\\\\n",
       "  0.84022012 & -0.080936 & 0.64943077 & 0.40070592 & 0.57950838 & 0.72232371\\\\\n",
       "  0.58054072 & 0.58752101 & 0.09544969 & 0.52707659 & 0.7478632 & 0.29833283\\\\\n",
       "  -0.12187175 & 0.56490372\\\\\n",
       "  0.93364169 & 0.82374323 & 0.55966546 & 1.02985162 & 0.37928525 & 0.38055568\\\\\n",
       "  0.16990604 & 0.84900112 & -0.01687915 & 0.93791733 & -0.0292729 & 0.08555146\\\\\n",
       "  0.47610424 & 0.42138624\\\\\n",
       "\\end{bmatrix} = \n",
       "\\begin{bmatrix}\n",
       "  -0.11006258 & 0.55748733 & 0.21146579 & 0.05747008 & 0.43342283 & 0.42742709\\\\\n",
       "  0.02190432 & -0.05278133 & -0.31238457 & 0.8322707 & 0.56876726 & 0.7023994\\\\\n",
       "  0.61123065 & 0.61242817\\\\\n",
       "  0.20324812 & -0.94265123 & -0.58482208 & -1.21003594 & 0.03047836 & -0.06248836\\\\\n",
       "  0.18676996 & 0.09093058 & 0.29663299 & 0.13745702 & 0.3080354 & -0.5810313\\\\\n",
       "  -0.4815077 & -0.70369049\\\\\n",
       "  -0.06503307 & -0.37395888 & -0.95019645 & -0.82255964 & -0.13843231 & -0.72777811\\\\\n",
       "  -0.15224104 & -0.45550217 & 0.21922751 & 0.0355807 & 0.49583156 & -0.43164627\\\\\n",
       "  -0.49629525 & -0.9646158\\\\\n",
       "  0.54019449 & 0.14359152 & 0.40342295 & 0.3438075 & 0.55284819 & 0.26365793\\\\\n",
       "  0.63883987 & 0.50104336 & 0.16363569 & 0.90184725 & 0.06362907 & 0.04311298\\\\\n",
       "  0.26911209 & 0.38100573\\\\\n",
       "  0.16828606 & -0.12845397 & 0.56242407 & 0.86914542 & 0.01826508 & 0.51647012\\\\\n",
       "  0.22043613 & 0.05868016 & 0.05705986 & -0.02948446 & -0.00964706 & 0.43867905\\\\\n",
       "  0.70828307 & 0.30357831\\\\\n",
       "  0.83931894 & -0.08145189 & 0.67866864 & 0.40523611 & 0.58503027 & 0.72767606\\\\\n",
       "  0.57905524 & 0.57853754 & 0.08663837 & 0.54247693 & 0.74015371 & 0.28376733\\\\\n",
       "  -0.12048511 & 0.59779837\\\\\n",
       "  0.93274052 & 0.82322734 & 0.58890333 & 1.03438182 & 0.38480714 & 0.38590802\\\\\n",
       "  0.16842057 & 0.84001765 & -0.02569046 & 0.95331767 & -0.03698238 & 0.07098596\\\\\n",
       "  0.47749088 & 0.45428088\\\\\n",
       "\\end{bmatrix} - 0.7\n",
       "\\begin{bmatrix}\n",
       "  1\\\\\n",
       "  1\\\\\n",
       "  0\\\\\n",
       "  0\\\\\n",
       "  1\\\\\n",
       "  1\\\\\n",
       "  1\\\\\n",
       "\\end{bmatrix} \\cdot \n",
       "\\begin{bmatrix}\n",
       "  -0.0012874 & -0.00073699 & 0.04176838 & 0.00647171 & 0.00788841 & 0.0076462\\\\\n",
       "  -0.00212211 & -0.01283353 & -0.0125876 & 0.02200049 & -0.01101355 & -0.02080786\\\\\n",
       "  0.00198091 & 0.04699235\\\\\n",
       "\\end{bmatrix}\\end{gather}"
      ],
      "text/plain": [
       "<IPython.core.display.Latex object>"
      ]
     },
     "metadata": {},
     "output_type": "display_data"
    },
    {
     "data": {
      "text/latex": [
       "B = B - \\lambda (\\nabla f_{custo})"
      ],
      "text/plain": [
       "<IPython.core.display.Latex object>"
      ]
     },
     "metadata": {},
     "output_type": "display_data"
    },
    {
     "data": {
      "text/latex": [
       "\\begin{gather}\n",
       "\\begin{bmatrix}\n",
       "  -0.40259522 & -0.30165772 & -0.5063534 & -0.88938932 & 0.26509398 & -0.64622109\\\\\n",
       "  0.21702004 & -0.66554533 & -0.27446294 & -0.27657778 & 0.01710131 & -0.86377805\\\\\n",
       "  -0.25545494 & -0.98261705\\\\\n",
       "\\end{bmatrix} = \n",
       "\\begin{bmatrix}\n",
       "  -0.4034964 & -0.30217361 & -0.47711553 & -0.88485913 & 0.27061586 & -0.64086875\\\\\n",
       "  0.21553457 & -0.6745288 & -0.28327426 & -0.26117744 & 0.00939182 & -0.87834355\\\\\n",
       "  -0.2540683 & -0.9497224\\\\\n",
       "\\end{bmatrix} - 0.7\n",
       "\\begin{bmatrix}\n",
       "  -0.0012874 & -0.00073699 & 0.04176838 & 0.00647171 & 0.00788841 & 0.0076462\\\\\n",
       "  -0.00212211 & -0.01283353 & -0.0125876 & 0.02200049 & -0.01101355 & -0.02080786\\\\\n",
       "  0.00198091 & 0.04699235\\\\\n",
       "\\end{bmatrix}\\end{gather}"
      ],
      "text/plain": [
       "<IPython.core.display.Latex object>"
      ]
     },
     "metadata": {},
     "output_type": "display_data"
    }
   ],
   "source": [
    "rede_exemplo_display.treinar(\n",
    "    vetor_x_exemplo_segmentos,\n",
    "    vetor_y_esperado_exemplo_segmentos,\n",
    "    max_n_iteracoes=1000,\n",
    "    taxa_aprendizado=0.7,\n",
    ")\n",
    "\n",
    "# Log do exemplo de 7 segmentos comentado para poder gerar o relatório PDF\n",
    "#\n",
    "#for log in rede_exemplo_display.logs[0]:\n",
    "#    display(Latex(log))\n"
   ]
  },
  {
   "cell_type": "markdown",
   "metadata": {},
   "source": [
    "### Validação"
   ]
  },
  {
   "cell_type": "code",
   "execution_count": 37,
   "metadata": {},
   "outputs": [
    {
     "data": {
      "text/latex": [
       "\\begin{gather}X=\n",
       "\\begin{bmatrix}\n",
       "  1 & 1 & 1 & 1 & 1 & 1 & 0\\\\\n",
       "  0 & 1 & 1 & 0 & 0 & 0 & 0\\\\\n",
       "  1 & 1 & 0 & 1 & 1 & 0 & 1\\\\\n",
       "  1 & 1 & 1 & 1 & 0 & 0 & 1\\\\\n",
       "  0 & 1 & 1 & 0 & 0 & 1 & 1\\\\\n",
       "  1 & 0 & 1 & 1 & 0 & 1 & 1\\\\\n",
       "  0 & 0 & 1 & 1 & 1 & 1 & 1\\\\\n",
       "  1 & 1 & 1 & 0 & 0 & 0 & 0\\\\\n",
       "  1 & 1 & 1 & 1 & 1 & 1 & 1\\\\\n",
       "  1 & 1 & 0 & 0 & 1 & 1 & 1\\\\\n",
       "\\end{bmatrix}\\rightarrow\n",
       "\\begin{bmatrix}\n",
       "  0.83 & 0.08 & -0.01 & -0.13 & -0.06 & 0.04 & -0.04 & 0.1 & 0.26 & -0.05\\\\\n",
       "  0.04 & 0.77 & 0.06 & -0.02 & 0.19 & -0.06 & 0.07 & 0.17 & -0.05 & -0.09\\\\\n",
       "  -0.05 & 0.03 & 1. & 0.01 & -0.06 & -0. & 0.02 & 0.04 & 0.1 & -0.\\\\\n",
       "  -0.21 & -0.04 & 0.04 & 0.81 & -0.01 & 0.03 & -0.01 & 0.19 & 0.26 & -0.08\\\\\n",
       "  -0.19 & 0.11 & -0.05 & -0.09 & 0.88 & 0.06 & -0.02 & 0.06 & 0.26 & 0.02\\\\\n",
       "  -0.17 & 0.02 & -0. & -0.1 & -0.04 & 1.02 & 0.01 & 0.12 & 0.24 & -0.01\\\\\n",
       "  -0.18 & 0.07 & -0.01 & -0.1 & -0.1 & 0.03 & 1. & 0.09 & 0.24 & -0.02\\\\\n",
       "  -0.03 & 0.15 & -0.05 & 0.05 & -0.12 & 0.01 & -0.05 & 0.9 & 0.02 & 0.1\\\\\n",
       "  0.11 & 0. & -0.02 & 0.12 & -0.02 & -0.02 & 0.04 & -0.09 & 0.81 & 0.04\\\\\n",
       "  -0. & -0.01 & -0.01 & -0.01 & 0. & -0.01 & 0.01 & 0.01 & 0.02 & 1.\\\\\n",
       "\\end{bmatrix}\\end{gather}"
      ],
      "text/plain": [
       "<IPython.core.display.Latex object>"
      ]
     },
     "execution_count": 37,
     "metadata": {},
     "output_type": "execute_result"
    }
   ],
   "source": [
    "from utils import array_to_latex\n",
    "from IPython.display import Latex\n",
    "\n",
    "validacao_exemplo_display = rede_exemplo_display.predict(vetor_x_exemplo_segmentos)\n",
    "\n",
    "validacao_exemplo_display = np.asarray(validacao_exemplo_display) \\\n",
    "                              .reshape(10, 10)                    \\\n",
    "                              .round(decimals = 2)\n",
    "\n",
    "Latex(r'\\begin{gather}' +\n",
    "      array_to_latex(vetor_x_exemplo_segmentos.reshape(10,7), 'X=') +\n",
    "      r'\\rightarrow' +\n",
    "      array_to_latex(validacao_exemplo_display, '') +\n",
    "      r'\\end{gather}')"
   ]
  }
 ],
 "metadata": {
  "interpreter": {
   "hash": "2308fd1a8fedd2595f1dedf285928c5d92d2b7d305ada798b0578469c13c3676"
  },
  "kernelspec": {
   "display_name": "Python 3.10.2 ('venv': venv)",
   "language": "python",
   "name": "python3"
  },
  "language_info": {
   "codemirror_mode": {
    "name": "ipython",
    "version": 3
   },
   "file_extension": ".py",
   "mimetype": "text/x-python",
   "name": "python",
   "nbconvert_exporter": "python",
   "pygments_lexer": "ipython3",
   "version": "3.10.2"
  },
  "orig_nbformat": 4
 },
 "nbformat": 4,
 "nbformat_minor": 2
}
