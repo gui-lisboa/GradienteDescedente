{
 "cells": [
  {
   "cell_type": "markdown",
   "metadata": {},
   "source": [
    "# Implementação e Exemplos"
   ]
  },
  {
   "cell_type": "markdown",
   "metadata": {},
   "source": [
    "## Função Custo (Erro)\n",
    "\n",
    "### EQM - Erro Quadrático Médio\n",
    "\n",
    "$$\n",
    "EQM = \\frac{1}{n} \\sum_{i} (y_{esperado} - y_{estimado})^2\n",
    "$$\n",
    "$$\n",
    "\\frac{\\partial EQM}{\\partial Y} = \\frac{2}{n} (y_{estimado} - y_{esperado})\n",
    "$$"
   ]
  },
  {
   "cell_type": "code",
   "execution_count": 20,
   "metadata": {},
   "outputs": [],
   "source": [
    "import numpy as np\n",
    "\n",
    "def erro_quadratico_medio(y_esperado: np.ndarray, y_calculado: np.ndarray) -> np.ndarray:\n",
    "    return np.mean(np.power(y_esperado-y_calculado, 2))\n",
    "\n",
    "def derivada_erro_quadratico_medio(y_esperado: np.ndarray, y_calculado: np.ndarray) -> np.ndarray:\n",
    "    n = y_esperado.size\n",
    "    return 2*(y_calculado - y_esperado)/n"
   ]
  },
  {
   "cell_type": "markdown",
   "metadata": {},
   "source": [
    "### Outras opções\n",
    "\n",
    "https://www.tensorflow.org/api_docs/python/tf/keras/losses"
   ]
  },
  {
   "cell_type": "markdown",
   "metadata": {},
   "source": [
    "## Uso em uma Rede Neural\n",
    "\n",
    "https://towardsdatascience.com/math-neural-network-from-scratch-in-python-d6da9f29ce65\n",
    "\n",
    "### Rede Neural - Camadas"
   ]
  },
  {
   "cell_type": "code",
   "execution_count": 21,
   "metadata": {},
   "outputs": [],
   "source": [
    "from abc import ABC\n",
    "import numpy as np\n",
    "from utils import array_to_latex\n",
    "\n",
    "\n",
    "class Camada(ABC):\n",
    "    def __init__(self):\n",
    "        self.entrada: np.ndarray = None\n",
    "        self.saida: np.ndarray = None\n",
    "\n",
    "    def forward_propagation(self, input, logs: list):\n",
    "        raise NotImplementedError\n",
    "\n",
    "    def backward_propagation(\n",
    "        self, output_error, taxa_aprendizado: np.number, logs: list\n",
    "    ):\n",
    "        raise NotImplementedError\n",
    "\n",
    "\n",
    "class FCLayer(Camada):\n",
    "    def __init__(self, tamanho_entrada: int, tamanho_saida: int):\n",
    "        self.pesos = np.random.rand(tamanho_entrada, tamanho_saida)\n",
    "        self.bias = np.random.rand(1, tamanho_saida)\n",
    "\n",
    "    def forward_propagation(self, entrada: np.ndarray, logs: list) -> np.ndarray:\n",
    "        self.entrada = entrada\n",
    "        self.saida = np.dot(self.entrada, self.pesos) + self.bias\n",
    "\n",
    "        logs.append(r\"Y = Xw + b\")\n",
    "        logs.append(\n",
    "            r\"\\begin{gather}\"\n",
    "            + array_to_latex(self.saida, \"\")\n",
    "            + r\" = \"\n",
    "            + array_to_latex(self.entrada, \"\")\n",
    "            + r\" \\cdot \"\n",
    "            + array_to_latex(self.pesos, \"\")\n",
    "            + r\" + \"\n",
    "            + array_to_latex(self.bias, \"\")\n",
    "            + r\"\\end{gather}\"\n",
    "        )\n",
    "\n",
    "        return self.saida\n",
    "\n",
    "    # computes dE/dW, dE/dB for a given output_error=dE/dY. Returns input_error=dE/dX.\n",
    "    def backward_propagation(\n",
    "        self, derivada_erro: np.ndarray, taxa_aprendizado: np.number, logs: list\n",
    "    ) -> np.ndarray:\n",
    "        derivada_erro_entrada = np.dot(derivada_erro, self.pesos.T)\n",
    "\n",
    "        logs.append(r\"\\nabla f_{custo} = \\frac{\\partial E}{\\partial W}\")\n",
    "        logs.append(\n",
    "            array_to_latex(derivada_erro_entrada, \"\")\n",
    "            + r\" = \"\n",
    "            + array_to_latex(derivada_erro, \"\")\n",
    "            + r\" \\cdot \"\n",
    "            + array_to_latex(self.pesos.T, \"\")\n",
    "        )\n",
    "\n",
    "        pesos_erro = np.dot(self.entrada.T, derivada_erro)\n",
    "        pesos_atualizados = self.pesos - taxa_aprendizado * pesos_erro\n",
    "        bias_atualizados = self.bias - taxa_aprendizado * derivada_erro\n",
    "\n",
    "        logs.append(r\"W = W - \\lambda (X \\cdot \\nabla f_{custo})\")\n",
    "        logs.append(\n",
    "            r\"\\begin{gather}\"\n",
    "            + array_to_latex(pesos_atualizados, \"\")\n",
    "            + r\" = \"\n",
    "            + array_to_latex(self.pesos, \"\")\n",
    "            + f\" - {taxa_aprendizado}\"\n",
    "            + array_to_latex(self.entrada.T, \"\")\n",
    "            + r\" \\cdot \"\n",
    "            + array_to_latex(derivada_erro, \"\")\n",
    "            + r\"\\end{gather}\"\n",
    "        )\n",
    "\n",
    "        self.pesos = pesos_atualizados\n",
    "        self.bias = bias_atualizados\n",
    "\n",
    "        return derivada_erro_entrada\n",
    "\n",
    "\n",
    "class ActivationLayer(Camada):\n",
    "    def __init__(self, fn_de_ativacao, derivada_fn_de_ativacao):\n",
    "        self.fn_de_ativacao = fn_de_ativacao\n",
    "        self.derivada_fn_de_ativacao = derivada_fn_de_ativacao\n",
    "\n",
    "    def forward_propagation(self, entrada: np.ndarray, logs: list):\n",
    "        self.entrada = entrada\n",
    "        self.saida = self.fn_de_ativacao(self.entrada)\n",
    "\n",
    "        logs.append(r\"Y = \\sigma(X)\")\n",
    "        logs.append(\n",
    "            r\"\\begin{gather}\"\n",
    "            + array_to_latex(self.saida, \"\")\n",
    "            + r\" = \\sigma(\"\n",
    "            + array_to_latex(self.entrada, \"\")\n",
    "            + r\") \"\n",
    "            + r\"\\end{gather}\"\n",
    "        )\n",
    "\n",
    "        return self.saida\n",
    "\n",
    "    # Returns input_error=dE/dX for a given output_error=dE/dY.\n",
    "    # regra da cadeia\n",
    "    def backward_propagation(\n",
    "        self, derivada_erro: np.ndarray, taxa_aprendizado: np.number, logs: list\n",
    "    ):\n",
    "        derivada_erro_entrada = derivada_erro * self.derivada_fn_de_ativacao(\n",
    "            self.entrada\n",
    "        )\n",
    "        logs.append(\n",
    "            r\"\\nabla = \\frac{\\partial E}{\\partial Y} \\frac{\\partial Y}{\\partial X}\"\n",
    "        )\n",
    "        logs.append(\n",
    "            r\"\\begin{gather}\"\n",
    "            + array_to_latex(derivada_erro_entrada, \"\")\n",
    "            + r\" = \"\n",
    "            + array_to_latex(derivada_erro, \"\")\n",
    "            + r\" \\cdot \"\n",
    "            + r\" \\sigma^{'}(\"\n",
    "            + array_to_latex(self.entrada, \"\")\n",
    "            + r\") \\end{gather}\"\n",
    "        )\n",
    "\n",
    "        return derivada_erro_entrada\n"
   ]
  },
  {
   "cell_type": "markdown",
   "metadata": {},
   "source": [
    "### Rede Neural - Rede"
   ]
  },
  {
   "cell_type": "code",
   "execution_count": 22,
   "metadata": {},
   "outputs": [],
   "source": [
    "class RedeNeural:\n",
    "    def __init__(self, fn_custo: callable, derivada_fn_custo: callable):\n",
    "        self.camadas = []\n",
    "        self.logs = []\n",
    "        self.fn_custo = fn_custo\n",
    "        self.derivada_fn_custo = derivada_fn_custo\n",
    "\n",
    "    def add(self, camada):\n",
    "        self.camadas.append(camada)\n",
    "\n",
    "    def predict(self, entrada: np.ndarray) -> np.ndarray:\n",
    "        n_entradas = len(entrada)\n",
    "        resultado = []\n",
    "\n",
    "        for n in range(n_entradas):\n",
    "            saida = entrada[n]\n",
    "            for camada in self.camadas:\n",
    "                saida = camada.forward_propagation(saida, [])\n",
    "            resultado.append(saida)\n",
    "\n",
    "        return resultado\n",
    "\n",
    "    def treinar(\n",
    "        self,\n",
    "        vetor_x: np.ndarray,\n",
    "        y_esperado: np.ndarray,\n",
    "        max_n_iteracoes: int,\n",
    "        taxa_aprendizado: np.number,\n",
    "    ):\n",
    "        n_amostras = len(vetor_x)\n",
    "        for iteracao in range(max_n_iteracoes):\n",
    "            self.logs.append([])\n",
    "            soma_erros = 0\n",
    "            for n in range(n_amostras):\n",
    "\n",
    "                output = vetor_x[n]\n",
    "                for indice_camada, camada in enumerate(self.camadas):\n",
    "                    self.logs[iteracao].append(f\"Camada: {indice_camada}\")\n",
    "                    output = camada.forward_propagation(output, self.logs[iteracao])\n",
    "\n",
    "                erro = self.fn_custo(y_esperado[n], output)\n",
    "                soma_erros += erro\n",
    "                self.logs[iteracao].append(\n",
    "                    r\"f_{custo}(\"\n",
    "                    + array_to_latex(y_esperado[n], \"\")\n",
    "                    + r\",\"\n",
    "                    + array_to_latex(output, \"\")\n",
    "                    + r\") = \"\n",
    "                    + array_to_latex(erro, \"\")\n",
    "                )\n",
    "\n",
    "                valor_derivada_erro = self.derivada_fn_custo(y_esperado[n], output)\n",
    "                for indice_camada, camada in enumerate(reversed(self.camadas)):\n",
    "                    self.logs[iteracao].append(\n",
    "                        f\"Camada: {len(self.camadas) - indice_camada -1}\"\n",
    "                    )\n",
    "                    valor_derivada_erro = camada.backward_propagation(\n",
    "                        valor_derivada_erro, taxa_aprendizado, self.logs[iteracao]\n",
    "                    )\n",
    "\n",
    "            media_erros = soma_erros / n_amostras\n",
    "            if iteracao < 5 or np.log10(iteracao + 1).is_integer():\n",
    "                print(\n",
    "                    \"Iteração %d/%d   MédiaErro=%f\"\n",
    "                    % (iteracao + 1, max_n_iteracoes, media_erros)\n",
    "                )\n",
    "            if media_erros < 0.01:\n",
    "                print(\n",
    "                    \"Iteração %d/%d MédiaErro=%f\"\n",
    "                    % (iteracao + 1, max_n_iteracoes, media_erros)\n",
    "                )\n",
    "                break\n"
   ]
  },
  {
   "cell_type": "markdown",
   "metadata": {},
   "source": [
    "### Rede Neural - Função de Ativação (Sigmóide)\n",
    "\n",
    "$$\n",
    "\\sigma(x) = \\frac{1}{1 - e^{-x}} \n",
    "$$\n",
    "\n",
    "$$\n",
    "\\frac{d \\sigma}{dx} = \\sigma(x) (1 - \\sigma(x))\n",
    "$$\n",
    "\n",
    "https://towardsdatascience.com/derivative-of-the-sigmoid-function-536880cf918e"
   ]
  },
  {
   "cell_type": "code",
   "execution_count": 23,
   "metadata": {},
   "outputs": [],
   "source": [
    "import numpy as np\n",
    "\n",
    "\n",
    "def sigmoide(x: np.ndarray) -> np.ndarray:\n",
    "    return 1 / (1 + np.exp(-x))\n",
    "\n",
    "\n",
    "def derivada_sigmoide(x: np.number) -> np.number:\n",
    "    sigmoide_x = sigmoide(x)\n",
    "    return sigmoide_x * (1 - sigmoide_x)\n"
   ]
  },
  {
   "cell_type": "markdown",
   "metadata": {},
   "source": [
    "## Exemplo: Ou Exclusivo (XOR)\n",
    "\n",
    "Operador retorna verdadeiro apenas caso entradas A ou B {(verdadeiro, falso) ou (falso, verdadeiro)} sejam verdadeiras, retornando falso caso ambas sejam verdadeiras ou ainda caso nenhuma seja.\n",
    "\n",
    "### Entradas e Saídas Esperadas"
   ]
  },
  {
   "cell_type": "code",
   "execution_count": 24,
   "metadata": {},
   "outputs": [],
   "source": [
    "vetor_x_exemplo_XOR = np.array([[[0, 0]], [[0, 1]], [[1, 0]], [[1, 1]]])\n",
    "vetor_y_esperado_exemplo_XOR = np.array([[[0]], [[1]], [[1]], [[0]]])\n"
   ]
  },
  {
   "cell_type": "markdown",
   "metadata": {},
   "source": [
    "### Rede\n",
    "\n"
   ]
  },
  {
   "cell_type": "code",
   "execution_count": 25,
   "metadata": {},
   "outputs": [],
   "source": [
    "rede_exemplo_XOR = RedeNeural(erro_quadratico_medio, derivada_erro_quadratico_medio)\n",
    "rede_exemplo_XOR.add(FCLayer(2, 2))\n",
    "rede_exemplo_XOR.add(ActivationLayer(sigmoide, derivada_sigmoide))\n",
    "rede_exemplo_XOR.add(FCLayer(2, 1))\n"
   ]
  },
  {
   "cell_type": "markdown",
   "metadata": {},
   "source": [
    "### Treinamento"
   ]
  },
  {
   "cell_type": "code",
   "execution_count": 26,
   "metadata": {},
   "outputs": [
    {
     "name": "stdout",
     "output_type": "stream",
     "text": [
      "Iteração 1/1000   MédiaErro=1.244574\n",
      "Iteração 2/1000   MédiaErro=0.468584\n",
      "Iteração 3/1000   MédiaErro=0.506609\n",
      "Iteração 4/1000   MédiaErro=0.533142\n",
      "Iteração 5/1000   MédiaErro=0.512034\n",
      "Iteração 10/1000   MédiaErro=0.669684\n",
      "Iteração 59/1000 MédiaErro=0.008554\n"
     ]
    },
    {
     "data": {
      "text/latex": [
       "Camada: 0"
      ],
      "text/plain": [
       "<IPython.core.display.Latex object>"
      ]
     },
     "metadata": {},
     "output_type": "display_data"
    },
    {
     "data": {
      "text/latex": [
       "Y = Xw + b"
      ],
      "text/plain": [
       "<IPython.core.display.Latex object>"
      ]
     },
     "metadata": {},
     "output_type": "display_data"
    },
    {
     "data": {
      "text/latex": [
       "\\begin{gather}\n",
       "\\begin{bmatrix}\n",
       "  0.16192346 & 0.41516105\\\\\n",
       "\\end{bmatrix} = \n",
       "\\begin{bmatrix}\n",
       "  0 & 0\\\\\n",
       "\\end{bmatrix} \\cdot \n",
       "\\begin{bmatrix}\n",
       "  0.8875922 & 0.0589625\\\\\n",
       "  0.54732388 & 0.53882988\\\\\n",
       "\\end{bmatrix} + \n",
       "\\begin{bmatrix}\n",
       "  0.16192346 & 0.41516105\\\\\n",
       "\\end{bmatrix}\\end{gather}"
      ],
      "text/plain": [
       "<IPython.core.display.Latex object>"
      ]
     },
     "metadata": {},
     "output_type": "display_data"
    },
    {
     "data": {
      "text/latex": [
       "Camada: 1"
      ],
      "text/plain": [
       "<IPython.core.display.Latex object>"
      ]
     },
     "metadata": {},
     "output_type": "display_data"
    },
    {
     "data": {
      "text/latex": [
       "Y = \\sigma(X)"
      ],
      "text/plain": [
       "<IPython.core.display.Latex object>"
      ]
     },
     "metadata": {},
     "output_type": "display_data"
    },
    {
     "data": {
      "text/latex": [
       "\\begin{gather}\n",
       "\\begin{bmatrix}\n",
       "  0.54039265 & 0.60232475\\\\\n",
       "\\end{bmatrix} = \\sigma(\n",
       "\\begin{bmatrix}\n",
       "  0.16192346 & 0.41516105\\\\\n",
       "\\end{bmatrix}) \\end{gather}"
      ],
      "text/plain": [
       "<IPython.core.display.Latex object>"
      ]
     },
     "metadata": {},
     "output_type": "display_data"
    },
    {
     "data": {
      "text/latex": [
       "Camada: 2"
      ],
      "text/plain": [
       "<IPython.core.display.Latex object>"
      ]
     },
     "metadata": {},
     "output_type": "display_data"
    },
    {
     "data": {
      "text/latex": [
       "Y = Xw + b"
      ],
      "text/plain": [
       "<IPython.core.display.Latex object>"
      ]
     },
     "metadata": {},
     "output_type": "display_data"
    },
    {
     "data": {
      "text/latex": [
       "\\begin{gather}\n",
       "\\begin{bmatrix}\n",
       "  0.83356746\\\\\n",
       "\\end{bmatrix} = \n",
       "\\begin{bmatrix}\n",
       "  0.54039265 & 0.60232475\\\\\n",
       "\\end{bmatrix} \\cdot \n",
       "\\begin{bmatrix}\n",
       "  0.55214492\\\\\n",
       "  0.47605742\\\\\n",
       "\\end{bmatrix} + \n",
       "\\begin{bmatrix}\n",
       "  0.24845124\\\\\n",
       "\\end{bmatrix}\\end{gather}"
      ],
      "text/plain": [
       "<IPython.core.display.Latex object>"
      ]
     },
     "metadata": {},
     "output_type": "display_data"
    },
    {
     "data": {
      "text/latex": [
       "f_{custo}(\n",
       "\\begin{bmatrix}\n",
       "  0\\\\\n",
       "\\end{bmatrix},\n",
       "\\begin{bmatrix}\n",
       "  0.83356746\\\\\n",
       "\\end{bmatrix}) = \n",
       "\\begin{bmatrix}\n",
       "  0.6948347040977026\\\\\n",
       "\\end{bmatrix}"
      ],
      "text/plain": [
       "<IPython.core.display.Latex object>"
      ]
     },
     "metadata": {},
     "output_type": "display_data"
    },
    {
     "data": {
      "text/latex": [
       "Camada: 2"
      ],
      "text/plain": [
       "<IPython.core.display.Latex object>"
      ]
     },
     "metadata": {},
     "output_type": "display_data"
    },
    {
     "data": {
      "text/latex": [
       "\\nabla f_{custo} = \\frac{\\partial E}{\\partial W} = \n",
       "\\begin{bmatrix}\n",
       "  1.66713491\\\\\n",
       "\\end{bmatrix} \\cdot \n",
       "\\begin{bmatrix}\n",
       "  0.55214492 & 0.47605742\\\\\n",
       "\\end{bmatrix} = \n",
       "\\begin{bmatrix}\n",
       "  0.92050007 & 0.79365194\\\\\n",
       "\\end{bmatrix}"
      ],
      "text/plain": [
       "<IPython.core.display.Latex object>"
      ]
     },
     "metadata": {},
     "output_type": "display_data"
    },
    {
     "data": {
      "text/latex": [
       "W = W - \\lambda (X \\cdot \\nabla f_{custo})"
      ],
      "text/plain": [
       "<IPython.core.display.Latex object>"
      ]
     },
     "metadata": {},
     "output_type": "display_data"
    },
    {
     "data": {
      "text/latex": [
       "\\begin{gather}\n",
       "\\begin{bmatrix}\n",
       "  0.10169119\\\\\n",
       "  -0.0260209\\\\\n",
       "\\end{bmatrix} = \n",
       "\\begin{bmatrix}\n",
       "  0.55214492\\\\\n",
       "  0.47605742\\\\\n",
       "\\end{bmatrix} - 0.5\n",
       "\\begin{bmatrix}\n",
       "  0.54039265\\\\\n",
       "  0.60232475\\\\\n",
       "\\end{bmatrix} \\cdot \n",
       "\\begin{bmatrix}\n",
       "  1.66713491\\\\\n",
       "\\end{bmatrix}\\end{gather}"
      ],
      "text/plain": [
       "<IPython.core.display.Latex object>"
      ]
     },
     "metadata": {},
     "output_type": "display_data"
    },
    {
     "data": {
      "text/latex": [
       "Camada: 1"
      ],
      "text/plain": [
       "<IPython.core.display.Latex object>"
      ]
     },
     "metadata": {},
     "output_type": "display_data"
    },
    {
     "data": {
      "text/latex": [
       "\\nabla = \\frac{\\partial E}{\\partial Y} \\frac{\\partial Y}{\\partial X}"
      ],
      "text/plain": [
       "<IPython.core.display.Latex object>"
      ]
     },
     "metadata": {},
     "output_type": "display_data"
    },
    {
     "data": {
      "text/latex": [
       "\\begin{gather}\n",
       "\\begin{bmatrix}\n",
       "  0.22862316 & 0.19010317\\\\\n",
       "\\end{bmatrix} = \n",
       "\\begin{bmatrix}\n",
       "  0.92050007 & 0.79365194\\\\\n",
       "\\end{bmatrix} \\cdot  \\sigma^{'}(\n",
       "\\begin{bmatrix}\n",
       "  0.16192346 & 0.41516105\\\\\n",
       "\\end{bmatrix}) \\end{gather}"
      ],
      "text/plain": [
       "<IPython.core.display.Latex object>"
      ]
     },
     "metadata": {},
     "output_type": "display_data"
    },
    {
     "data": {
      "text/latex": [
       "Camada: 0"
      ],
      "text/plain": [
       "<IPython.core.display.Latex object>"
      ]
     },
     "metadata": {},
     "output_type": "display_data"
    },
    {
     "data": {
      "text/latex": [
       "\\nabla f_{custo} = \\frac{\\partial E}{\\partial W} = \n",
       "\\begin{bmatrix}\n",
       "  0.22862316 & 0.19010317\\\\\n",
       "\\end{bmatrix} \\cdot \n",
       "\\begin{bmatrix}\n",
       "  0.8875922 & 0.54732388\\\\\n",
       "  0.0589625 & 0.53882988\\\\\n",
       "\\end{bmatrix} = \n",
       "\\begin{bmatrix}\n",
       "  0.21413309 & 0.22756418\\\\\n",
       "\\end{bmatrix}"
      ],
      "text/plain": [
       "<IPython.core.display.Latex object>"
      ]
     },
     "metadata": {},
     "output_type": "display_data"
    },
    {
     "data": {
      "text/latex": [
       "W = W - \\lambda (X \\cdot \\nabla f_{custo})"
      ],
      "text/plain": [
       "<IPython.core.display.Latex object>"
      ]
     },
     "metadata": {},
     "output_type": "display_data"
    },
    {
     "data": {
      "text/latex": [
       "\\begin{gather}\n",
       "\\begin{bmatrix}\n",
       "  0.8875922 & 0.0589625\\\\\n",
       "  0.54732388 & 0.53882988\\\\\n",
       "\\end{bmatrix} = \n",
       "\\begin{bmatrix}\n",
       "  0.8875922 & 0.0589625\\\\\n",
       "  0.54732388 & 0.53882988\\\\\n",
       "\\end{bmatrix} - 0.5\n",
       "\\begin{bmatrix}\n",
       "  0\\\\\n",
       "  0\\\\\n",
       "\\end{bmatrix} \\cdot \n",
       "\\begin{bmatrix}\n",
       "  0.22862316 & 0.19010317\\\\\n",
       "\\end{bmatrix}\\end{gather}"
      ],
      "text/plain": [
       "<IPython.core.display.Latex object>"
      ]
     },
     "metadata": {},
     "output_type": "display_data"
    },
    {
     "data": {
      "text/latex": [
       "Camada: 0"
      ],
      "text/plain": [
       "<IPython.core.display.Latex object>"
      ]
     },
     "metadata": {},
     "output_type": "display_data"
    },
    {
     "data": {
      "text/latex": [
       "Y = Xw + b"
      ],
      "text/plain": [
       "<IPython.core.display.Latex object>"
      ]
     },
     "metadata": {},
     "output_type": "display_data"
    },
    {
     "data": {
      "text/latex": [
       "\\begin{gather}\n",
       "\\begin{bmatrix}\n",
       "  0.59493575 & 0.85893935\\\\\n",
       "\\end{bmatrix} = \n",
       "\\begin{bmatrix}\n",
       "  0 & 1\\\\\n",
       "\\end{bmatrix} \\cdot \n",
       "\\begin{bmatrix}\n",
       "  0.8875922 & 0.0589625\\\\\n",
       "  0.54732388 & 0.53882988\\\\\n",
       "\\end{bmatrix} + \n",
       "\\begin{bmatrix}\n",
       "  0.04761188 & 0.32010947\\\\\n",
       "\\end{bmatrix}\\end{gather}"
      ],
      "text/plain": [
       "<IPython.core.display.Latex object>"
      ]
     },
     "metadata": {},
     "output_type": "display_data"
    },
    {
     "data": {
      "text/latex": [
       "Camada: 1"
      ],
      "text/plain": [
       "<IPython.core.display.Latex object>"
      ]
     },
     "metadata": {},
     "output_type": "display_data"
    },
    {
     "data": {
      "text/latex": [
       "Y = \\sigma(X)"
      ],
      "text/plain": [
       "<IPython.core.display.Latex object>"
      ]
     },
     "metadata": {},
     "output_type": "display_data"
    },
    {
     "data": {
      "text/latex": [
       "\\begin{gather}\n",
       "\\begin{bmatrix}\n",
       "  0.64449683 & 0.70243901\\\\\n",
       "\\end{bmatrix} = \\sigma(\n",
       "\\begin{bmatrix}\n",
       "  0.59493575 & 0.85893935\\\\\n",
       "\\end{bmatrix}) \\end{gather}"
      ],
      "text/plain": [
       "<IPython.core.display.Latex object>"
      ]
     },
     "metadata": {},
     "output_type": "display_data"
    },
    {
     "data": {
      "text/latex": [
       "Camada: 2"
      ],
      "text/plain": [
       "<IPython.core.display.Latex object>"
      ]
     },
     "metadata": {},
     "output_type": "display_data"
    },
    {
     "data": {
      "text/latex": [
       "Y = Xw + b"
      ],
      "text/plain": [
       "<IPython.core.display.Latex object>"
      ]
     },
     "metadata": {},
     "output_type": "display_data"
    },
    {
     "data": {
      "text/latex": [
       "\\begin{gather}\n",
       "\\begin{bmatrix}\n",
       "  -0.53785466\\\\\n",
       "\\end{bmatrix} = \n",
       "\\begin{bmatrix}\n",
       "  0.64449683 & 0.70243901\\\\\n",
       "\\end{bmatrix} \\cdot \n",
       "\\begin{bmatrix}\n",
       "  0.10169119\\\\\n",
       "  -0.0260209\\\\\n",
       "\\end{bmatrix} + \n",
       "\\begin{bmatrix}\n",
       "  -0.58511622\\\\\n",
       "\\end{bmatrix}\\end{gather}"
      ],
      "text/plain": [
       "<IPython.core.display.Latex object>"
      ]
     },
     "metadata": {},
     "output_type": "display_data"
    },
    {
     "data": {
      "text/latex": [
       "f_{custo}(\n",
       "\\begin{bmatrix}\n",
       "  1\\\\\n",
       "\\end{bmatrix},\n",
       "\\begin{bmatrix}\n",
       "  -0.53785466\\\\\n",
       "\\end{bmatrix}) = \n",
       "\\begin{bmatrix}\n",
       "  2.364996959724855\\\\\n",
       "\\end{bmatrix}"
      ],
      "text/plain": [
       "<IPython.core.display.Latex object>"
      ]
     },
     "metadata": {},
     "output_type": "display_data"
    },
    {
     "data": {
      "text/latex": [
       "Camada: 2"
      ],
      "text/plain": [
       "<IPython.core.display.Latex object>"
      ]
     },
     "metadata": {},
     "output_type": "display_data"
    },
    {
     "data": {
      "text/latex": [
       "\\nabla f_{custo} = \\frac{\\partial E}{\\partial W} = \n",
       "\\begin{bmatrix}\n",
       "  -3.07570932\\\\\n",
       "\\end{bmatrix} \\cdot \n",
       "\\begin{bmatrix}\n",
       "  0.10169119 & -0.0260209\\\\\n",
       "\\end{bmatrix} = \n",
       "\\begin{bmatrix}\n",
       "  -0.31277255 & 0.08003272\\\\\n",
       "\\end{bmatrix}"
      ],
      "text/plain": [
       "<IPython.core.display.Latex object>"
      ]
     },
     "metadata": {},
     "output_type": "display_data"
    },
    {
     "data": {
      "text/latex": [
       "W = W - \\lambda (X \\cdot \\nabla f_{custo})"
      ],
      "text/plain": [
       "<IPython.core.display.Latex object>"
      ]
     },
     "metadata": {},
     "output_type": "display_data"
    },
    {
     "data": {
      "text/latex": [
       "\\begin{gather}\n",
       "\\begin{bmatrix}\n",
       "  1.09283365\\\\\n",
       "  1.0542282\\\\\n",
       "\\end{bmatrix} = \n",
       "\\begin{bmatrix}\n",
       "  0.10169119\\\\\n",
       "  -0.0260209\\\\\n",
       "\\end{bmatrix} - 0.5\n",
       "\\begin{bmatrix}\n",
       "  0.64449683\\\\\n",
       "  0.70243901\\\\\n",
       "\\end{bmatrix} \\cdot \n",
       "\\begin{bmatrix}\n",
       "  -3.07570932\\\\\n",
       "\\end{bmatrix}\\end{gather}"
      ],
      "text/plain": [
       "<IPython.core.display.Latex object>"
      ]
     },
     "metadata": {},
     "output_type": "display_data"
    },
    {
     "data": {
      "text/latex": [
       "Camada: 1"
      ],
      "text/plain": [
       "<IPython.core.display.Latex object>"
      ]
     },
     "metadata": {},
     "output_type": "display_data"
    },
    {
     "data": {
      "text/latex": [
       "\\nabla = \\frac{\\partial E}{\\partial Y} \\frac{\\partial Y}{\\partial X}"
      ],
      "text/plain": [
       "<IPython.core.display.Latex object>"
      ]
     },
     "metadata": {},
     "output_type": "display_data"
    },
    {
     "data": {
      "text/latex": [
       "\\begin{gather}\n",
       "\\begin{bmatrix}\n",
       "  -0.07166266 & 0.01672831\\\\\n",
       "\\end{bmatrix} = \n",
       "\\begin{bmatrix}\n",
       "  -0.31277255 & 0.08003272\\\\\n",
       "\\end{bmatrix} \\cdot  \\sigma^{'}(\n",
       "\\begin{bmatrix}\n",
       "  0.59493575 & 0.85893935\\\\\n",
       "\\end{bmatrix}) \\end{gather}"
      ],
      "text/plain": [
       "<IPython.core.display.Latex object>"
      ]
     },
     "metadata": {},
     "output_type": "display_data"
    },
    {
     "data": {
      "text/latex": [
       "Camada: 0"
      ],
      "text/plain": [
       "<IPython.core.display.Latex object>"
      ]
     },
     "metadata": {},
     "output_type": "display_data"
    },
    {
     "data": {
      "text/latex": [
       "\\nabla f_{custo} = \\frac{\\partial E}{\\partial W} = \n",
       "\\begin{bmatrix}\n",
       "  -0.07166266 & 0.01672831\\\\\n",
       "\\end{bmatrix} \\cdot \n",
       "\\begin{bmatrix}\n",
       "  0.8875922 & 0.54732388\\\\\n",
       "  0.0589625 & 0.53882988\\\\\n",
       "\\end{bmatrix} = \n",
       "\\begin{bmatrix}\n",
       "  -0.06262087 & -0.03020897\\\\\n",
       "\\end{bmatrix}"
      ],
      "text/plain": [
       "<IPython.core.display.Latex object>"
      ]
     },
     "metadata": {},
     "output_type": "display_data"
    },
    {
     "data": {
      "text/latex": [
       "W = W - \\lambda (X \\cdot \\nabla f_{custo})"
      ],
      "text/plain": [
       "<IPython.core.display.Latex object>"
      ]
     },
     "metadata": {},
     "output_type": "display_data"
    },
    {
     "data": {
      "text/latex": [
       "\\begin{gather}\n",
       "\\begin{bmatrix}\n",
       "  0.8875922 & 0.0589625\\\\\n",
       "  0.5831552 & 0.53046572\\\\\n",
       "\\end{bmatrix} = \n",
       "\\begin{bmatrix}\n",
       "  0.8875922 & 0.0589625\\\\\n",
       "  0.54732388 & 0.53882988\\\\\n",
       "\\end{bmatrix} - 0.5\n",
       "\\begin{bmatrix}\n",
       "  0\\\\\n",
       "  1\\\\\n",
       "\\end{bmatrix} \\cdot \n",
       "\\begin{bmatrix}\n",
       "  -0.07166266 & 0.01672831\\\\\n",
       "\\end{bmatrix}\\end{gather}"
      ],
      "text/plain": [
       "<IPython.core.display.Latex object>"
      ]
     },
     "metadata": {},
     "output_type": "display_data"
    },
    {
     "data": {
      "text/latex": [
       "Camada: 0"
      ],
      "text/plain": [
       "<IPython.core.display.Latex object>"
      ]
     },
     "metadata": {},
     "output_type": "display_data"
    },
    {
     "data": {
      "text/latex": [
       "Y = Xw + b"
      ],
      "text/plain": [
       "<IPython.core.display.Latex object>"
      ]
     },
     "metadata": {},
     "output_type": "display_data"
    },
    {
     "data": {
      "text/latex": [
       "\\begin{gather}\n",
       "\\begin{bmatrix}\n",
       "  0.97103541 & 0.37070781\\\\\n",
       "\\end{bmatrix} = \n",
       "\\begin{bmatrix}\n",
       "  1 & 0\\\\\n",
       "\\end{bmatrix} \\cdot \n",
       "\\begin{bmatrix}\n",
       "  0.8875922 & 0.0589625\\\\\n",
       "  0.5831552 & 0.53046572\\\\\n",
       "\\end{bmatrix} + \n",
       "\\begin{bmatrix}\n",
       "  0.0834432 & 0.31174531\\\\\n",
       "\\end{bmatrix}\\end{gather}"
      ],
      "text/plain": [
       "<IPython.core.display.Latex object>"
      ]
     },
     "metadata": {},
     "output_type": "display_data"
    },
    {
     "data": {
      "text/latex": [
       "Camada: 1"
      ],
      "text/plain": [
       "<IPython.core.display.Latex object>"
      ]
     },
     "metadata": {},
     "output_type": "display_data"
    },
    {
     "data": {
      "text/latex": [
       "Y = \\sigma(X)"
      ],
      "text/plain": [
       "<IPython.core.display.Latex object>"
      ]
     },
     "metadata": {},
     "output_type": "display_data"
    },
    {
     "data": {
      "text/latex": [
       "\\begin{gather}\n",
       "\\begin{bmatrix}\n",
       "  0.72532583 & 0.59163\\\\\n",
       "\\end{bmatrix} = \\sigma(\n",
       "\\begin{bmatrix}\n",
       "  0.97103541 & 0.37070781\\\\\n",
       "\\end{bmatrix}) \\end{gather}"
      ],
      "text/plain": [
       "<IPython.core.display.Latex object>"
      ]
     },
     "metadata": {},
     "output_type": "display_data"
    },
    {
     "data": {
      "text/latex": [
       "Camada: 2"
      ],
      "text/plain": [
       "<IPython.core.display.Latex object>"
      ]
     },
     "metadata": {},
     "output_type": "display_data"
    },
    {
     "data": {
      "text/latex": [
       "Y = Xw + b"
      ],
      "text/plain": [
       "<IPython.core.display.Latex object>"
      ]
     },
     "metadata": {},
     "output_type": "display_data"
    },
    {
     "data": {
      "text/latex": [
       "\\begin{gather}\n",
       "\\begin{bmatrix}\n",
       "  2.36911195\\\\\n",
       "\\end{bmatrix} = \n",
       "\\begin{bmatrix}\n",
       "  0.72532583 & 0.59163\\\\\n",
       "\\end{bmatrix} \\cdot \n",
       "\\begin{bmatrix}\n",
       "  1.09283365\\\\\n",
       "  1.0542282\\\\\n",
       "\\end{bmatrix} + \n",
       "\\begin{bmatrix}\n",
       "  0.95273844\\\\\n",
       "\\end{bmatrix}\\end{gather}"
      ],
      "text/plain": [
       "<IPython.core.display.Latex object>"
      ]
     },
     "metadata": {},
     "output_type": "display_data"
    },
    {
     "data": {
      "text/latex": [
       "f_{custo}(\n",
       "\\begin{bmatrix}\n",
       "  1\\\\\n",
       "\\end{bmatrix},\n",
       "\\begin{bmatrix}\n",
       "  2.36911195\\\\\n",
       "\\end{bmatrix}) = \n",
       "\\begin{bmatrix}\n",
       "  1.8744675206443746\\\\\n",
       "\\end{bmatrix}"
      ],
      "text/plain": [
       "<IPython.core.display.Latex object>"
      ]
     },
     "metadata": {},
     "output_type": "display_data"
    },
    {
     "data": {
      "text/latex": [
       "Camada: 2"
      ],
      "text/plain": [
       "<IPython.core.display.Latex object>"
      ]
     },
     "metadata": {},
     "output_type": "display_data"
    },
    {
     "data": {
      "text/latex": [
       "\\nabla f_{custo} = \\frac{\\partial E}{\\partial W} = \n",
       "\\begin{bmatrix}\n",
       "  2.73822389\\\\\n",
       "\\end{bmatrix} \\cdot \n",
       "\\begin{bmatrix}\n",
       "  1.09283365 & 1.0542282\\\\\n",
       "\\end{bmatrix} = \n",
       "\\begin{bmatrix}\n",
       "  2.99242322 & 2.88671285\\\\\n",
       "\\end{bmatrix}"
      ],
      "text/plain": [
       "<IPython.core.display.Latex object>"
      ]
     },
     "metadata": {},
     "output_type": "display_data"
    },
    {
     "data": {
      "text/latex": [
       "W = W - \\lambda (X \\cdot \\nabla f_{custo})"
      ],
      "text/plain": [
       "<IPython.core.display.Latex object>"
      ]
     },
     "metadata": {},
     "output_type": "display_data"
    },
    {
     "data": {
      "text/latex": [
       "\\begin{gather}\n",
       "\\begin{bmatrix}\n",
       "  0.0997814\\\\\n",
       "  0.2442205\\\\\n",
       "\\end{bmatrix} = \n",
       "\\begin{bmatrix}\n",
       "  1.09283365\\\\\n",
       "  1.0542282\\\\\n",
       "\\end{bmatrix} - 0.5\n",
       "\\begin{bmatrix}\n",
       "  0.72532583\\\\\n",
       "  0.59163\\\\\n",
       "\\end{bmatrix} \\cdot \n",
       "\\begin{bmatrix}\n",
       "  2.73822389\\\\\n",
       "\\end{bmatrix}\\end{gather}"
      ],
      "text/plain": [
       "<IPython.core.display.Latex object>"
      ]
     },
     "metadata": {},
     "output_type": "display_data"
    },
    {
     "data": {
      "text/latex": [
       "Camada: 1"
      ],
      "text/plain": [
       "<IPython.core.display.Latex object>"
      ]
     },
     "metadata": {},
     "output_type": "display_data"
    },
    {
     "data": {
      "text/latex": [
       "\\nabla = \\frac{\\partial E}{\\partial Y} \\frac{\\partial Y}{\\partial X}"
      ],
      "text/plain": [
       "<IPython.core.display.Latex object>"
      ]
     },
     "metadata": {},
     "output_type": "display_data"
    },
    {
     "data": {
      "text/latex": [
       "\\begin{gather}\n",
       "\\begin{bmatrix}\n",
       "  0.5961753 & 0.69744121\\\\\n",
       "\\end{bmatrix} = \n",
       "\\begin{bmatrix}\n",
       "  2.99242322 & 2.88671285\\\\\n",
       "\\end{bmatrix} \\cdot  \\sigma^{'}(\n",
       "\\begin{bmatrix}\n",
       "  0.97103541 & 0.37070781\\\\\n",
       "\\end{bmatrix}) \\end{gather}"
      ],
      "text/plain": [
       "<IPython.core.display.Latex object>"
      ]
     },
     "metadata": {},
     "output_type": "display_data"
    },
    {
     "data": {
      "text/latex": [
       "Camada: 0"
      ],
      "text/plain": [
       "<IPython.core.display.Latex object>"
      ]
     },
     "metadata": {},
     "output_type": "display_data"
    },
    {
     "data": {
      "text/latex": [
       "\\nabla f_{custo} = \\frac{\\partial E}{\\partial W} = \n",
       "\\begin{bmatrix}\n",
       "  0.5961753 & 0.69744121\\\\\n",
       "\\end{bmatrix} \\cdot \n",
       "\\begin{bmatrix}\n",
       "  0.8875922 & 0.5831552\\\\\n",
       "  0.0589625 & 0.53046572\\\\\n",
       "\\end{bmatrix} = \n",
       "\\begin{bmatrix}\n",
       "  0.57028343 & 0.71763138\\\\\n",
       "\\end{bmatrix}"
      ],
      "text/plain": [
       "<IPython.core.display.Latex object>"
      ]
     },
     "metadata": {},
     "output_type": "display_data"
    },
    {
     "data": {
      "text/latex": [
       "W = W - \\lambda (X \\cdot \\nabla f_{custo})"
      ],
      "text/plain": [
       "<IPython.core.display.Latex object>"
      ]
     },
     "metadata": {},
     "output_type": "display_data"
    },
    {
     "data": {
      "text/latex": [
       "\\begin{gather}\n",
       "\\begin{bmatrix}\n",
       "  0.58950455 & -0.28975811\\\\\n",
       "  0.5831552 & 0.53046572\\\\\n",
       "\\end{bmatrix} = \n",
       "\\begin{bmatrix}\n",
       "  0.8875922 & 0.0589625\\\\\n",
       "  0.5831552 & 0.53046572\\\\\n",
       "\\end{bmatrix} - 0.5\n",
       "\\begin{bmatrix}\n",
       "  1\\\\\n",
       "  0\\\\\n",
       "\\end{bmatrix} \\cdot \n",
       "\\begin{bmatrix}\n",
       "  0.5961753 & 0.69744121\\\\\n",
       "\\end{bmatrix}\\end{gather}"
      ],
      "text/plain": [
       "<IPython.core.display.Latex object>"
      ]
     },
     "metadata": {},
     "output_type": "display_data"
    },
    {
     "data": {
      "text/latex": [
       "Camada: 0"
      ],
      "text/plain": [
       "<IPython.core.display.Latex object>"
      ]
     },
     "metadata": {},
     "output_type": "display_data"
    },
    {
     "data": {
      "text/latex": [
       "Y = Xw + b"
      ],
      "text/plain": [
       "<IPython.core.display.Latex object>"
      ]
     },
     "metadata": {},
     "output_type": "display_data"
    },
    {
     "data": {
      "text/latex": [
       "\\begin{gather}\n",
       "\\begin{bmatrix}\n",
       "  0.95801531 & 0.20373232\\\\\n",
       "\\end{bmatrix} = \n",
       "\\begin{bmatrix}\n",
       "  1 & 1\\\\\n",
       "\\end{bmatrix} \\cdot \n",
       "\\begin{bmatrix}\n",
       "  0.58950455 & -0.28975811\\\\\n",
       "  0.5831552 & 0.53046572\\\\\n",
       "\\end{bmatrix} + \n",
       "\\begin{bmatrix}\n",
       "  -0.21464445 & -0.03697529\\\\\n",
       "\\end{bmatrix}\\end{gather}"
      ],
      "text/plain": [
       "<IPython.core.display.Latex object>"
      ]
     },
     "metadata": {},
     "output_type": "display_data"
    },
    {
     "data": {
      "text/latex": [
       "Camada: 1"
      ],
      "text/plain": [
       "<IPython.core.display.Latex object>"
      ]
     },
     "metadata": {},
     "output_type": "display_data"
    },
    {
     "data": {
      "text/latex": [
       "Y = \\sigma(X)"
      ],
      "text/plain": [
       "<IPython.core.display.Latex object>"
      ]
     },
     "metadata": {},
     "output_type": "display_data"
    },
    {
     "data": {
      "text/latex": [
       "\\begin{gather}\n",
       "\\begin{bmatrix}\n",
       "  0.72272426 & 0.55075764\\\\\n",
       "\\end{bmatrix} = \\sigma(\n",
       "\\begin{bmatrix}\n",
       "  0.95801531 & 0.20373232\\\\\n",
       "\\end{bmatrix}) \\end{gather}"
      ],
      "text/plain": [
       "<IPython.core.display.Latex object>"
      ]
     },
     "metadata": {},
     "output_type": "display_data"
    },
    {
     "data": {
      "text/latex": [
       "Camada: 2"
      ],
      "text/plain": [
       "<IPython.core.display.Latex object>"
      ]
     },
     "metadata": {},
     "output_type": "display_data"
    },
    {
     "data": {
      "text/latex": [
       "Y = Xw + b"
      ],
      "text/plain": [
       "<IPython.core.display.Latex object>"
      ]
     },
     "metadata": {},
     "output_type": "display_data"
    },
    {
     "data": {
      "text/latex": [
       "\\begin{gather}\n",
       "\\begin{bmatrix}\n",
       "  -0.20975276\\\\\n",
       "\\end{bmatrix} = \n",
       "\\begin{bmatrix}\n",
       "  0.72272426 & 0.55075764\\\\\n",
       "\\end{bmatrix} \\cdot \n",
       "\\begin{bmatrix}\n",
       "  0.0997814\\\\\n",
       "  0.2442205\\\\\n",
       "\\end{bmatrix} + \n",
       "\\begin{bmatrix}\n",
       "  -0.4163735\\\\\n",
       "\\end{bmatrix}\\end{gather}"
      ],
      "text/plain": [
       "<IPython.core.display.Latex object>"
      ]
     },
     "metadata": {},
     "output_type": "display_data"
    },
    {
     "data": {
      "text/latex": [
       "f_{custo}(\n",
       "\\begin{bmatrix}\n",
       "  0\\\\\n",
       "\\end{bmatrix},\n",
       "\\begin{bmatrix}\n",
       "  -0.20975276\\\\\n",
       "\\end{bmatrix}) = \n",
       "\\begin{bmatrix}\n",
       "  0.04399622091869614\\\\\n",
       "\\end{bmatrix}"
      ],
      "text/plain": [
       "<IPython.core.display.Latex object>"
      ]
     },
     "metadata": {},
     "output_type": "display_data"
    },
    {
     "data": {
      "text/latex": [
       "Camada: 2"
      ],
      "text/plain": [
       "<IPython.core.display.Latex object>"
      ]
     },
     "metadata": {},
     "output_type": "display_data"
    },
    {
     "data": {
      "text/latex": [
       "\\nabla f_{custo} = \\frac{\\partial E}{\\partial W} = \n",
       "\\begin{bmatrix}\n",
       "  -0.41950552\\\\\n",
       "\\end{bmatrix} \\cdot \n",
       "\\begin{bmatrix}\n",
       "  0.0997814 & 0.2442205\\\\\n",
       "\\end{bmatrix} = \n",
       "\\begin{bmatrix}\n",
       "  -0.04185885 & -0.10245185\\\\\n",
       "\\end{bmatrix}"
      ],
      "text/plain": [
       "<IPython.core.display.Latex object>"
      ]
     },
     "metadata": {},
     "output_type": "display_data"
    },
    {
     "data": {
      "text/latex": [
       "W = W - \\lambda (X \\cdot \\nabla f_{custo})"
      ],
      "text/plain": [
       "<IPython.core.display.Latex object>"
      ]
     },
     "metadata": {},
     "output_type": "display_data"
    },
    {
     "data": {
      "text/latex": [
       "\\begin{gather}\n",
       "\\begin{bmatrix}\n",
       "  0.25137481\\\\\n",
       "  0.35974344\\\\\n",
       "\\end{bmatrix} = \n",
       "\\begin{bmatrix}\n",
       "  0.0997814\\\\\n",
       "  0.2442205\\\\\n",
       "\\end{bmatrix} - 0.5\n",
       "\\begin{bmatrix}\n",
       "  0.72272426\\\\\n",
       "  0.55075764\\\\\n",
       "\\end{bmatrix} \\cdot \n",
       "\\begin{bmatrix}\n",
       "  -0.41950552\\\\\n",
       "\\end{bmatrix}\\end{gather}"
      ],
      "text/plain": [
       "<IPython.core.display.Latex object>"
      ]
     },
     "metadata": {},
     "output_type": "display_data"
    },
    {
     "data": {
      "text/latex": [
       "Camada: 1"
      ],
      "text/plain": [
       "<IPython.core.display.Latex object>"
      ]
     },
     "metadata": {},
     "output_type": "display_data"
    },
    {
     "data": {
      "text/latex": [
       "\\nabla = \\frac{\\partial E}{\\partial Y} \\frac{\\partial Y}{\\partial X}"
      ],
      "text/plain": [
       "<IPython.core.display.Latex object>"
      ]
     },
     "metadata": {},
     "output_type": "display_data"
    },
    {
     "data": {
      "text/latex": [
       "\\begin{gather}\n",
       "\\begin{bmatrix}\n",
       "  -0.00838826 & -0.02534901\\\\\n",
       "\\end{bmatrix} = \n",
       "\\begin{bmatrix}\n",
       "  -0.04185885 & -0.10245185\\\\\n",
       "\\end{bmatrix} \\cdot  \\sigma^{'}(\n",
       "\\begin{bmatrix}\n",
       "  0.95801531 & 0.20373232\\\\\n",
       "\\end{bmatrix}) \\end{gather}"
      ],
      "text/plain": [
       "<IPython.core.display.Latex object>"
      ]
     },
     "metadata": {},
     "output_type": "display_data"
    },
    {
     "data": {
      "text/latex": [
       "Camada: 0"
      ],
      "text/plain": [
       "<IPython.core.display.Latex object>"
      ]
     },
     "metadata": {},
     "output_type": "display_data"
    },
    {
     "data": {
      "text/latex": [
       "\\nabla f_{custo} = \\frac{\\partial E}{\\partial W} = \n",
       "\\begin{bmatrix}\n",
       "  -0.00838826 & -0.02534901\\\\\n",
       "\\end{bmatrix} \\cdot \n",
       "\\begin{bmatrix}\n",
       "  0.58950455 & 0.5831552\\\\\n",
       "  -0.28975811 & 0.53046572\\\\\n",
       "\\end{bmatrix} = \n",
       "\\begin{bmatrix}\n",
       "  0.00240017 & -0.01833844\\\\\n",
       "\\end{bmatrix}"
      ],
      "text/plain": [
       "<IPython.core.display.Latex object>"
      ]
     },
     "metadata": {},
     "output_type": "display_data"
    },
    {
     "data": {
      "text/latex": [
       "W = W - \\lambda (X \\cdot \\nabla f_{custo})"
      ],
      "text/plain": [
       "<IPython.core.display.Latex object>"
      ]
     },
     "metadata": {},
     "output_type": "display_data"
    },
    {
     "data": {
      "text/latex": [
       "\\begin{gather}\n",
       "\\begin{bmatrix}\n",
       "  0.59369868 & -0.2770836\\\\\n",
       "  0.58734933 & 0.54314023\\\\\n",
       "\\end{bmatrix} = \n",
       "\\begin{bmatrix}\n",
       "  0.58950455 & -0.28975811\\\\\n",
       "  0.5831552 & 0.53046572\\\\\n",
       "\\end{bmatrix} - 0.5\n",
       "\\begin{bmatrix}\n",
       "  1\\\\\n",
       "  1\\\\\n",
       "\\end{bmatrix} \\cdot \n",
       "\\begin{bmatrix}\n",
       "  -0.00838826 & -0.02534901\\\\\n",
       "\\end{bmatrix}\\end{gather}"
      ],
      "text/plain": [
       "<IPython.core.display.Latex object>"
      ]
     },
     "metadata": {},
     "output_type": "display_data"
    },
    {
     "data": {
      "text/latex": [
       "Última \\quad iteração:"
      ],
      "text/plain": [
       "<IPython.core.display.Latex object>"
      ]
     },
     "metadata": {},
     "output_type": "display_data"
    },
    {
     "data": {
      "text/latex": [
       "Camada: 0"
      ],
      "text/plain": [
       "<IPython.core.display.Latex object>"
      ]
     },
     "metadata": {},
     "output_type": "display_data"
    },
    {
     "data": {
      "text/latex": [
       "Y = Xw + b"
      ],
      "text/plain": [
       "<IPython.core.display.Latex object>"
      ]
     },
     "metadata": {},
     "output_type": "display_data"
    },
    {
     "data": {
      "text/latex": [
       "\\begin{gather}\n",
       "\\begin{bmatrix}\n",
       "  -1.22044519 & -2.80044456\\\\\n",
       "\\end{bmatrix} = \n",
       "\\begin{bmatrix}\n",
       "  0 & 0\\\\\n",
       "\\end{bmatrix} \\cdot \n",
       "\\begin{bmatrix}\n",
       "  2.56710678 & -4.84096906\\\\\n",
       "  -1.85662519 & 3.08212056\\\\\n",
       "\\end{bmatrix} + \n",
       "\\begin{bmatrix}\n",
       "  -1.22044519 & -2.80044456\\\\\n",
       "\\end{bmatrix}\\end{gather}"
      ],
      "text/plain": [
       "<IPython.core.display.Latex object>"
      ]
     },
     "metadata": {},
     "output_type": "display_data"
    },
    {
     "data": {
      "text/latex": [
       "Camada: 1"
      ],
      "text/plain": [
       "<IPython.core.display.Latex object>"
      ]
     },
     "metadata": {},
     "output_type": "display_data"
    },
    {
     "data": {
      "text/latex": [
       "Y = \\sigma(X)"
      ],
      "text/plain": [
       "<IPython.core.display.Latex object>"
      ]
     },
     "metadata": {},
     "output_type": "display_data"
    },
    {
     "data": {
      "text/latex": [
       "\\begin{gather}\n",
       "\\begin{bmatrix}\n",
       "  0.22785812 & 0.05730016\\\\\n",
       "\\end{bmatrix} = \\sigma(\n",
       "\\begin{bmatrix}\n",
       "  -1.22044519 & -2.80044456\\\\\n",
       "\\end{bmatrix}) \\end{gather}"
      ],
      "text/plain": [
       "<IPython.core.display.Latex object>"
      ]
     },
     "metadata": {},
     "output_type": "display_data"
    },
    {
     "data": {
      "text/latex": [
       "Camada: 2"
      ],
      "text/plain": [
       "<IPython.core.display.Latex object>"
      ]
     },
     "metadata": {},
     "output_type": "display_data"
    },
    {
     "data": {
      "text/latex": [
       "Y = Xw + b"
      ],
      "text/plain": [
       "<IPython.core.display.Latex object>"
      ]
     },
     "metadata": {},
     "output_type": "display_data"
    },
    {
     "data": {
      "text/latex": [
       "\\begin{gather}\n",
       "\\begin{bmatrix}\n",
       "  -0.09412343\\\\\n",
       "\\end{bmatrix} = \n",
       "\\begin{bmatrix}\n",
       "  0.22785812 & 0.05730016\\\\\n",
       "\\end{bmatrix} \\cdot \n",
       "\\begin{bmatrix}\n",
       "  2.32424908\\\\\n",
       "  2.82220374\\\\\n",
       "\\end{bmatrix} + \n",
       "\\begin{bmatrix}\n",
       "  -0.78543517\\\\\n",
       "\\end{bmatrix}\\end{gather}"
      ],
      "text/plain": [
       "<IPython.core.display.Latex object>"
      ]
     },
     "metadata": {},
     "output_type": "display_data"
    },
    {
     "data": {
      "text/latex": [
       "f_{custo}(\n",
       "\\begin{bmatrix}\n",
       "  0\\\\\n",
       "\\end{bmatrix},\n",
       "\\begin{bmatrix}\n",
       "  -0.09412343\\\\\n",
       "\\end{bmatrix}) = \n",
       "\\begin{bmatrix}\n",
       "  0.008859220740151129\\\\\n",
       "\\end{bmatrix}"
      ],
      "text/plain": [
       "<IPython.core.display.Latex object>"
      ]
     },
     "metadata": {},
     "output_type": "display_data"
    },
    {
     "data": {
      "text/latex": [
       "Camada: 2"
      ],
      "text/plain": [
       "<IPython.core.display.Latex object>"
      ]
     },
     "metadata": {},
     "output_type": "display_data"
    },
    {
     "data": {
      "text/latex": [
       "\\nabla f_{custo} = \\frac{\\partial E}{\\partial W} = \n",
       "\\begin{bmatrix}\n",
       "  -0.18824687\\\\\n",
       "\\end{bmatrix} \\cdot \n",
       "\\begin{bmatrix}\n",
       "  2.32424908 & 2.82220374\\\\\n",
       "\\end{bmatrix} = \n",
       "\\begin{bmatrix}\n",
       "  -0.43753261 & -0.53127101\\\\\n",
       "\\end{bmatrix}"
      ],
      "text/plain": [
       "<IPython.core.display.Latex object>"
      ]
     },
     "metadata": {},
     "output_type": "display_data"
    },
    {
     "data": {
      "text/latex": [
       "W = W - \\lambda (X \\cdot \\nabla f_{custo})"
      ],
      "text/plain": [
       "<IPython.core.display.Latex object>"
      ]
     },
     "metadata": {},
     "output_type": "display_data"
    },
    {
     "data": {
      "text/latex": [
       "\\begin{gather}\n",
       "\\begin{bmatrix}\n",
       "  2.34569587\\\\\n",
       "  2.82759703\\\\\n",
       "\\end{bmatrix} = \n",
       "\\begin{bmatrix}\n",
       "  2.32424908\\\\\n",
       "  2.82220374\\\\\n",
       "\\end{bmatrix} - 0.5\n",
       "\\begin{bmatrix}\n",
       "  0.22785812\\\\\n",
       "  0.05730016\\\\\n",
       "\\end{bmatrix} \\cdot \n",
       "\\begin{bmatrix}\n",
       "  -0.18824687\\\\\n",
       "\\end{bmatrix}\\end{gather}"
      ],
      "text/plain": [
       "<IPython.core.display.Latex object>"
      ]
     },
     "metadata": {},
     "output_type": "display_data"
    },
    {
     "data": {
      "text/latex": [
       "Camada: 1"
      ],
      "text/plain": [
       "<IPython.core.display.Latex object>"
      ]
     },
     "metadata": {},
     "output_type": "display_data"
    },
    {
     "data": {
      "text/latex": [
       "\\nabla = \\frac{\\partial E}{\\partial Y} \\frac{\\partial Y}{\\partial X}"
      ],
      "text/plain": [
       "<IPython.core.display.Latex object>"
      ]
     },
     "metadata": {},
     "output_type": "display_data"
    },
    {
     "data": {
      "text/latex": [
       "\\begin{gather}\n",
       "\\begin{bmatrix}\n",
       "  -0.07697896 & -0.02869759\\\\\n",
       "\\end{bmatrix} = \n",
       "\\begin{bmatrix}\n",
       "  -0.43753261 & -0.53127101\\\\\n",
       "\\end{bmatrix} \\cdot  \\sigma^{'}(\n",
       "\\begin{bmatrix}\n",
       "  -1.22044519 & -2.80044456\\\\\n",
       "\\end{bmatrix}) \\end{gather}"
      ],
      "text/plain": [
       "<IPython.core.display.Latex object>"
      ]
     },
     "metadata": {},
     "output_type": "display_data"
    },
    {
     "data": {
      "text/latex": [
       "Camada: 0"
      ],
      "text/plain": [
       "<IPython.core.display.Latex object>"
      ]
     },
     "metadata": {},
     "output_type": "display_data"
    },
    {
     "data": {
      "text/latex": [
       "\\nabla f_{custo} = \\frac{\\partial E}{\\partial W} = \n",
       "\\begin{bmatrix}\n",
       "  -0.07697896 & -0.02869759\\\\\n",
       "\\end{bmatrix} \\cdot \n",
       "\\begin{bmatrix}\n",
       "  2.56710678 & -1.85662519\\\\\n",
       "  -4.84096906 & 3.08212056\\\\\n",
       "\\end{bmatrix} = \n",
       "\\begin{bmatrix}\n",
       "  -0.05868908 & 0.05447165\\\\\n",
       "\\end{bmatrix}"
      ],
      "text/plain": [
       "<IPython.core.display.Latex object>"
      ]
     },
     "metadata": {},
     "output_type": "display_data"
    },
    {
     "data": {
      "text/latex": [
       "W = W - \\lambda (X \\cdot \\nabla f_{custo})"
      ],
      "text/plain": [
       "<IPython.core.display.Latex object>"
      ]
     },
     "metadata": {},
     "output_type": "display_data"
    },
    {
     "data": {
      "text/latex": [
       "\\begin{gather}\n",
       "\\begin{bmatrix}\n",
       "  2.56710678 & -4.84096906\\\\\n",
       "  -1.85662519 & 3.08212056\\\\\n",
       "\\end{bmatrix} = \n",
       "\\begin{bmatrix}\n",
       "  2.56710678 & -4.84096906\\\\\n",
       "  -1.85662519 & 3.08212056\\\\\n",
       "\\end{bmatrix} - 0.5\n",
       "\\begin{bmatrix}\n",
       "  0\\\\\n",
       "  0\\\\\n",
       "\\end{bmatrix} \\cdot \n",
       "\\begin{bmatrix}\n",
       "  -0.07697896 & -0.02869759\\\\\n",
       "\\end{bmatrix}\\end{gather}"
      ],
      "text/plain": [
       "<IPython.core.display.Latex object>"
      ]
     },
     "metadata": {},
     "output_type": "display_data"
    },
    {
     "data": {
      "text/latex": [
       "Camada: 0"
      ],
      "text/plain": [
       "<IPython.core.display.Latex object>"
      ]
     },
     "metadata": {},
     "output_type": "display_data"
    },
    {
     "data": {
      "text/latex": [
       "Y = Xw + b"
      ],
      "text/plain": [
       "<IPython.core.display.Latex object>"
      ]
     },
     "metadata": {},
     "output_type": "display_data"
    },
    {
     "data": {
      "text/latex": [
       "\\begin{gather}\n",
       "\\begin{bmatrix}\n",
       "  -3.0385809 & 0.29602479\\\\\n",
       "\\end{bmatrix} = \n",
       "\\begin{bmatrix}\n",
       "  0 & 1\\\\\n",
       "\\end{bmatrix} \\cdot \n",
       "\\begin{bmatrix}\n",
       "  2.56710678 & -4.84096906\\\\\n",
       "  -1.85662519 & 3.08212056\\\\\n",
       "\\end{bmatrix} + \n",
       "\\begin{bmatrix}\n",
       "  -1.18195571 & -2.78609576\\\\\n",
       "\\end{bmatrix}\\end{gather}"
      ],
      "text/plain": [
       "<IPython.core.display.Latex object>"
      ]
     },
     "metadata": {},
     "output_type": "display_data"
    },
    {
     "data": {
      "text/latex": [
       "Camada: 1"
      ],
      "text/plain": [
       "<IPython.core.display.Latex object>"
      ]
     },
     "metadata": {},
     "output_type": "display_data"
    },
    {
     "data": {
      "text/latex": [
       "Y = \\sigma(X)"
      ],
      "text/plain": [
       "<IPython.core.display.Latex object>"
      ]
     },
     "metadata": {},
     "output_type": "display_data"
    },
    {
     "data": {
      "text/latex": [
       "\\begin{gather}\n",
       "\\begin{bmatrix}\n",
       "  0.04571304 & 0.57347046\\\\\n",
       "\\end{bmatrix} = \\sigma(\n",
       "\\begin{bmatrix}\n",
       "  -3.0385809 & 0.29602479\\\\\n",
       "\\end{bmatrix}) \\end{gather}"
      ],
      "text/plain": [
       "<IPython.core.display.Latex object>"
      ]
     },
     "metadata": {},
     "output_type": "display_data"
    },
    {
     "data": {
      "text/latex": [
       "Camada: 2"
      ],
      "text/plain": [
       "<IPython.core.display.Latex object>"
      ]
     },
     "metadata": {},
     "output_type": "display_data"
    },
    {
     "data": {
      "text/latex": [
       "Y = Xw + b"
      ],
      "text/plain": [
       "<IPython.core.display.Latex object>"
      ]
     },
     "metadata": {},
     "output_type": "display_data"
    },
    {
     "data": {
      "text/latex": [
       "\\begin{gather}\n",
       "\\begin{bmatrix}\n",
       "  1.03746051\\\\\n",
       "\\end{bmatrix} = \n",
       "\\begin{bmatrix}\n",
       "  0.04571304 & 0.57347046\\\\\n",
       "\\end{bmatrix} \\cdot \n",
       "\\begin{bmatrix}\n",
       "  2.34569587\\\\\n",
       "  2.82759703\\\\\n",
       "\\end{bmatrix} + \n",
       "\\begin{bmatrix}\n",
       "  -0.69131173\\\\\n",
       "\\end{bmatrix}\\end{gather}"
      ],
      "text/plain": [
       "<IPython.core.display.Latex object>"
      ]
     },
     "metadata": {},
     "output_type": "display_data"
    },
    {
     "data": {
      "text/latex": [
       "f_{custo}(\n",
       "\\begin{bmatrix}\n",
       "  1\\\\\n",
       "\\end{bmatrix},\n",
       "\\begin{bmatrix}\n",
       "  1.03746051\\\\\n",
       "\\end{bmatrix}) = \n",
       "\\begin{bmatrix}\n",
       "  0.0014032898470192348\\\\\n",
       "\\end{bmatrix}"
      ],
      "text/plain": [
       "<IPython.core.display.Latex object>"
      ]
     },
     "metadata": {},
     "output_type": "display_data"
    },
    {
     "data": {
      "text/latex": [
       "Camada: 2"
      ],
      "text/plain": [
       "<IPython.core.display.Latex object>"
      ]
     },
     "metadata": {},
     "output_type": "display_data"
    },
    {
     "data": {
      "text/latex": [
       "\\nabla f_{custo} = \\frac{\\partial E}{\\partial W} = \n",
       "\\begin{bmatrix}\n",
       "  0.07492102\\\\\n",
       "\\end{bmatrix} \\cdot \n",
       "\\begin{bmatrix}\n",
       "  2.34569587 & 2.82759703\\\\\n",
       "\\end{bmatrix} = \n",
       "\\begin{bmatrix}\n",
       "  0.17574193 & 0.21184646\\\\\n",
       "\\end{bmatrix}"
      ],
      "text/plain": [
       "<IPython.core.display.Latex object>"
      ]
     },
     "metadata": {},
     "output_type": "display_data"
    },
    {
     "data": {
      "text/latex": [
       "W = W - \\lambda (X \\cdot \\nabla f_{custo})"
      ],
      "text/plain": [
       "<IPython.core.display.Latex object>"
      ]
     },
     "metadata": {},
     "output_type": "display_data"
    },
    {
     "data": {
      "text/latex": [
       "\\begin{gather}\n",
       "\\begin{bmatrix}\n",
       "  2.34398343\\\\\n",
       "  2.80611453\\\\\n",
       "\\end{bmatrix} = \n",
       "\\begin{bmatrix}\n",
       "  2.34569587\\\\\n",
       "  2.82759703\\\\\n",
       "\\end{bmatrix} - 0.5\n",
       "\\begin{bmatrix}\n",
       "  0.04571304\\\\\n",
       "  0.57347046\\\\\n",
       "\\end{bmatrix} \\cdot \n",
       "\\begin{bmatrix}\n",
       "  0.07492102\\\\\n",
       "\\end{bmatrix}\\end{gather}"
      ],
      "text/plain": [
       "<IPython.core.display.Latex object>"
      ]
     },
     "metadata": {},
     "output_type": "display_data"
    },
    {
     "data": {
      "text/latex": [
       "Camada: 1"
      ],
      "text/plain": [
       "<IPython.core.display.Latex object>"
      ]
     },
     "metadata": {},
     "output_type": "display_data"
    },
    {
     "data": {
      "text/latex": [
       "\\nabla = \\frac{\\partial E}{\\partial Y} \\frac{\\partial Y}{\\partial X}"
      ],
      "text/plain": [
       "<IPython.core.display.Latex object>"
      ]
     },
     "metadata": {},
     "output_type": "display_data"
    },
    {
     "data": {
      "text/latex": [
       "\\begin{gather}\n",
       "\\begin{bmatrix}\n",
       "  0.00766645 & 0.05181809\\\\\n",
       "\\end{bmatrix} = \n",
       "\\begin{bmatrix}\n",
       "  0.17574193 & 0.21184646\\\\\n",
       "\\end{bmatrix} \\cdot  \\sigma^{'}(\n",
       "\\begin{bmatrix}\n",
       "  -3.0385809 & 0.29602479\\\\\n",
       "\\end{bmatrix}) \\end{gather}"
      ],
      "text/plain": [
       "<IPython.core.display.Latex object>"
      ]
     },
     "metadata": {},
     "output_type": "display_data"
    },
    {
     "data": {
      "text/latex": [
       "Camada: 0"
      ],
      "text/plain": [
       "<IPython.core.display.Latex object>"
      ]
     },
     "metadata": {},
     "output_type": "display_data"
    },
    {
     "data": {
      "text/latex": [
       "\\nabla f_{custo} = \\frac{\\partial E}{\\partial W} = \n",
       "\\begin{bmatrix}\n",
       "  0.00766645 & 0.05181809\\\\\n",
       "\\end{bmatrix} \\cdot \n",
       "\\begin{bmatrix}\n",
       "  2.56710678 & -1.85662519\\\\\n",
       "  -4.84096906 & 3.08212056\\\\\n",
       "\\end{bmatrix} = \n",
       "\\begin{bmatrix}\n",
       "  -0.23116915 & 0.14547586\\\\\n",
       "\\end{bmatrix}"
      ],
      "text/plain": [
       "<IPython.core.display.Latex object>"
      ]
     },
     "metadata": {},
     "output_type": "display_data"
    },
    {
     "data": {
      "text/latex": [
       "W = W - \\lambda (X \\cdot \\nabla f_{custo})"
      ],
      "text/plain": [
       "<IPython.core.display.Latex object>"
      ]
     },
     "metadata": {},
     "output_type": "display_data"
    },
    {
     "data": {
      "text/latex": [
       "\\begin{gather}\n",
       "\\begin{bmatrix}\n",
       "  2.56710678 & -4.84096906\\\\\n",
       "  -1.86045842 & 3.05621151\\\\\n",
       "\\end{bmatrix} = \n",
       "\\begin{bmatrix}\n",
       "  2.56710678 & -4.84096906\\\\\n",
       "  -1.85662519 & 3.08212056\\\\\n",
       "\\end{bmatrix} - 0.5\n",
       "\\begin{bmatrix}\n",
       "  0\\\\\n",
       "  1\\\\\n",
       "\\end{bmatrix} \\cdot \n",
       "\\begin{bmatrix}\n",
       "  0.00766645 & 0.05181809\\\\\n",
       "\\end{bmatrix}\\end{gather}"
      ],
      "text/plain": [
       "<IPython.core.display.Latex object>"
      ]
     },
     "metadata": {},
     "output_type": "display_data"
    },
    {
     "data": {
      "text/latex": [
       "Camada: 0"
      ],
      "text/plain": [
       "<IPython.core.display.Latex object>"
      ]
     },
     "metadata": {},
     "output_type": "display_data"
    },
    {
     "data": {
      "text/latex": [
       "Y = Xw + b"
      ],
      "text/plain": [
       "<IPython.core.display.Latex object>"
      ]
     },
     "metadata": {},
     "output_type": "display_data"
    },
    {
     "data": {
      "text/latex": [
       "\\begin{gather}\n",
       "\\begin{bmatrix}\n",
       "  1.38131785 & -7.65297386\\\\\n",
       "\\end{bmatrix} = \n",
       "\\begin{bmatrix}\n",
       "  1 & 0\\\\\n",
       "\\end{bmatrix} \\cdot \n",
       "\\begin{bmatrix}\n",
       "  2.56710678 & -4.84096906\\\\\n",
       "  -1.86045842 & 3.05621151\\\\\n",
       "\\end{bmatrix} + \n",
       "\\begin{bmatrix}\n",
       "  -1.18578893 & -2.81200481\\\\\n",
       "\\end{bmatrix}\\end{gather}"
      ],
      "text/plain": [
       "<IPython.core.display.Latex object>"
      ]
     },
     "metadata": {},
     "output_type": "display_data"
    },
    {
     "data": {
      "text/latex": [
       "Camada: 1"
      ],
      "text/plain": [
       "<IPython.core.display.Latex object>"
      ]
     },
     "metadata": {},
     "output_type": "display_data"
    },
    {
     "data": {
      "text/latex": [
       "Y = \\sigma(X)"
      ],
      "text/plain": [
       "<IPython.core.display.Latex object>"
      ]
     },
     "metadata": {},
     "output_type": "display_data"
    },
    {
     "data": {
      "text/latex": [
       "\\begin{gather}\n",
       "\\begin{bmatrix}\n",
       "  7.99202569e-01 & 4.74405374e-04\\\\\n",
       "\\end{bmatrix} = \\sigma(\n",
       "\\begin{bmatrix}\n",
       "  1.38131785 & -7.65297386\\\\\n",
       "\\end{bmatrix}) \\end{gather}"
      ],
      "text/plain": [
       "<IPython.core.display.Latex object>"
      ]
     },
     "metadata": {},
     "output_type": "display_data"
    },
    {
     "data": {
      "text/latex": [
       "Camada: 2"
      ],
      "text/plain": [
       "<IPython.core.display.Latex object>"
      ]
     },
     "metadata": {},
     "output_type": "display_data"
    },
    {
     "data": {
      "text/latex": [
       "Y = Xw + b"
      ],
      "text/plain": [
       "<IPython.core.display.Latex object>"
      ]
     },
     "metadata": {},
     "output_type": "display_data"
    },
    {
     "data": {
      "text/latex": [
       "\\begin{gather}\n",
       "\\begin{bmatrix}\n",
       "  1.14587657\\\\\n",
       "\\end{bmatrix} = \n",
       "\\begin{bmatrix}\n",
       "  7.99202569e-01 & 4.74405374e-04\\\\\n",
       "\\end{bmatrix} \\cdot \n",
       "\\begin{bmatrix}\n",
       "  2.34398343\\\\\n",
       "  2.80611453\\\\\n",
       "\\end{bmatrix} + \n",
       "\\begin{bmatrix}\n",
       "  -0.72877224\\\\\n",
       "\\end{bmatrix}\\end{gather}"
      ],
      "text/plain": [
       "<IPython.core.display.Latex object>"
      ]
     },
     "metadata": {},
     "output_type": "display_data"
    },
    {
     "data": {
      "text/latex": [
       "f_{custo}(\n",
       "\\begin{bmatrix}\n",
       "  1\\\\\n",
       "\\end{bmatrix},\n",
       "\\begin{bmatrix}\n",
       "  1.14587657\\\\\n",
       "\\end{bmatrix}) = \n",
       "\\begin{bmatrix}\n",
       "  0.02127997385687814\\\\\n",
       "\\end{bmatrix}"
      ],
      "text/plain": [
       "<IPython.core.display.Latex object>"
      ]
     },
     "metadata": {},
     "output_type": "display_data"
    },
    {
     "data": {
      "text/latex": [
       "Camada: 2"
      ],
      "text/plain": [
       "<IPython.core.display.Latex object>"
      ]
     },
     "metadata": {},
     "output_type": "display_data"
    },
    {
     "data": {
      "text/latex": [
       "\\nabla f_{custo} = \\frac{\\partial E}{\\partial W} = \n",
       "\\begin{bmatrix}\n",
       "  0.29175314\\\\\n",
       "\\end{bmatrix} \\cdot \n",
       "\\begin{bmatrix}\n",
       "  2.34398343 & 2.80611453\\\\\n",
       "\\end{bmatrix} = \n",
       "\\begin{bmatrix}\n",
       "  0.68386453 & 0.81869273\\\\\n",
       "\\end{bmatrix}"
      ],
      "text/plain": [
       "<IPython.core.display.Latex object>"
      ]
     },
     "metadata": {},
     "output_type": "display_data"
    },
    {
     "data": {
      "text/latex": [
       "W = W - \\lambda (X \\cdot \\nabla f_{custo})"
      ],
      "text/plain": [
       "<IPython.core.display.Latex object>"
      ]
     },
     "metadata": {},
     "output_type": "display_data"
    },
    {
     "data": {
      "text/latex": [
       "\\begin{gather}\n",
       "\\begin{bmatrix}\n",
       "  2.2273985\\\\\n",
       "  2.80604533\\\\\n",
       "\\end{bmatrix} = \n",
       "\\begin{bmatrix}\n",
       "  2.34398343\\\\\n",
       "  2.80611453\\\\\n",
       "\\end{bmatrix} - 0.5\n",
       "\\begin{bmatrix}\n",
       "  7.99202569e-01\\\\\n",
       "  4.74405374e-04\\\\\n",
       "\\end{bmatrix} \\cdot \n",
       "\\begin{bmatrix}\n",
       "  0.29175314\\\\\n",
       "\\end{bmatrix}\\end{gather}"
      ],
      "text/plain": [
       "<IPython.core.display.Latex object>"
      ]
     },
     "metadata": {},
     "output_type": "display_data"
    },
    {
     "data": {
      "text/latex": [
       "Camada: 1"
      ],
      "text/plain": [
       "<IPython.core.display.Latex object>"
      ]
     },
     "metadata": {},
     "output_type": "display_data"
    },
    {
     "data": {
      "text/latex": [
       "\\nabla = \\frac{\\partial E}{\\partial Y} \\frac{\\partial Y}{\\partial X}"
      ],
      "text/plain": [
       "<IPython.core.display.Latex object>"
      ]
     },
     "metadata": {},
     "output_type": "display_data"
    },
    {
     "data": {
      "text/latex": [
       "\\begin{gather}\n",
       "\\begin{bmatrix}\n",
       "  0.10974509 & 0.00038821\\\\\n",
       "\\end{bmatrix} = \n",
       "\\begin{bmatrix}\n",
       "  0.68386453 & 0.81869273\\\\\n",
       "\\end{bmatrix} \\cdot  \\sigma^{'}(\n",
       "\\begin{bmatrix}\n",
       "  1.38131785 & -7.65297386\\\\\n",
       "\\end{bmatrix}) \\end{gather}"
      ],
      "text/plain": [
       "<IPython.core.display.Latex object>"
      ]
     },
     "metadata": {},
     "output_type": "display_data"
    },
    {
     "data": {
      "text/latex": [
       "Camada: 0"
      ],
      "text/plain": [
       "<IPython.core.display.Latex object>"
      ]
     },
     "metadata": {},
     "output_type": "display_data"
    },
    {
     "data": {
      "text/latex": [
       "\\nabla f_{custo} = \\frac{\\partial E}{\\partial W} = \n",
       "\\begin{bmatrix}\n",
       "  0.10974509 & 0.00038821\\\\\n",
       "\\end{bmatrix} \\cdot \n",
       "\\begin{bmatrix}\n",
       "  2.56710678 & -1.86045842\\\\\n",
       "  -4.84096906 & 3.05621151\\\\\n",
       "\\end{bmatrix} = \n",
       "\\begin{bmatrix}\n",
       "  0.27984806 & -0.20298973\\\\\n",
       "\\end{bmatrix}"
      ],
      "text/plain": [
       "<IPython.core.display.Latex object>"
      ]
     },
     "metadata": {},
     "output_type": "display_data"
    },
    {
     "data": {
      "text/latex": [
       "W = W - \\lambda (X \\cdot \\nabla f_{custo})"
      ],
      "text/plain": [
       "<IPython.core.display.Latex object>"
      ]
     },
     "metadata": {},
     "output_type": "display_data"
    },
    {
     "data": {
      "text/latex": [
       "\\begin{gather}\n",
       "\\begin{bmatrix}\n",
       "  2.51223423 & -4.84116316\\\\\n",
       "  -1.86045842 & 3.05621151\\\\\n",
       "\\end{bmatrix} = \n",
       "\\begin{bmatrix}\n",
       "  2.56710678 & -4.84096906\\\\\n",
       "  -1.86045842 & 3.05621151\\\\\n",
       "\\end{bmatrix} - 0.5\n",
       "\\begin{bmatrix}\n",
       "  1\\\\\n",
       "  0\\\\\n",
       "\\end{bmatrix} \\cdot \n",
       "\\begin{bmatrix}\n",
       "  0.10974509 & 0.00038821\\\\\n",
       "\\end{bmatrix}\\end{gather}"
      ],
      "text/plain": [
       "<IPython.core.display.Latex object>"
      ]
     },
     "metadata": {},
     "output_type": "display_data"
    },
    {
     "data": {
      "text/latex": [
       "Camada: 0"
      ],
      "text/plain": [
       "<IPython.core.display.Latex object>"
      ]
     },
     "metadata": {},
     "output_type": "display_data"
    },
    {
     "data": {
      "text/latex": [
       "Y = Xw + b"
      ],
      "text/plain": [
       "<IPython.core.display.Latex object>"
      ]
     },
     "metadata": {},
     "output_type": "display_data"
    },
    {
     "data": {
      "text/latex": [
       "\\begin{gather}\n",
       "\\begin{bmatrix}\n",
       "  -0.58888566 & -4.59715056\\\\\n",
       "\\end{bmatrix} = \n",
       "\\begin{bmatrix}\n",
       "  1 & 1\\\\\n",
       "\\end{bmatrix} \\cdot \n",
       "\\begin{bmatrix}\n",
       "  2.51223423 & -4.84116316\\\\\n",
       "  -1.86045842 & 3.05621151\\\\\n",
       "\\end{bmatrix} + \n",
       "\\begin{bmatrix}\n",
       "  -1.24066148 & -2.81219891\\\\\n",
       "\\end{bmatrix}\\end{gather}"
      ],
      "text/plain": [
       "<IPython.core.display.Latex object>"
      ]
     },
     "metadata": {},
     "output_type": "display_data"
    },
    {
     "data": {
      "text/latex": [
       "Camada: 1"
      ],
      "text/plain": [
       "<IPython.core.display.Latex object>"
      ]
     },
     "metadata": {},
     "output_type": "display_data"
    },
    {
     "data": {
      "text/latex": [
       "Y = \\sigma(X)"
      ],
      "text/plain": [
       "<IPython.core.display.Latex object>"
      ]
     },
     "metadata": {},
     "output_type": "display_data"
    },
    {
     "data": {
      "text/latex": [
       "\\begin{gather}\n",
       "\\begin{bmatrix}\n",
       "  0.35689058 & 0.00997992\\\\\n",
       "\\end{bmatrix} = \\sigma(\n",
       "\\begin{bmatrix}\n",
       "  -0.58888566 & -4.59715056\\\\\n",
       "\\end{bmatrix}) \\end{gather}"
      ],
      "text/plain": [
       "<IPython.core.display.Latex object>"
      ]
     },
     "metadata": {},
     "output_type": "display_data"
    },
    {
     "data": {
      "text/latex": [
       "Camada: 2"
      ],
      "text/plain": [
       "<IPython.core.display.Latex object>"
      ]
     },
     "metadata": {},
     "output_type": "display_data"
    },
    {
     "data": {
      "text/latex": [
       "Y = Xw + b"
      ],
      "text/plain": [
       "<IPython.core.display.Latex object>"
      ]
     },
     "metadata": {},
     "output_type": "display_data"
    },
    {
     "data": {
      "text/latex": [
       "\\begin{gather}\n",
       "\\begin{bmatrix}\n",
       "  -0.05170718\\\\\n",
       "\\end{bmatrix} = \n",
       "\\begin{bmatrix}\n",
       "  0.35689058 & 0.00997992\\\\\n",
       "\\end{bmatrix} \\cdot \n",
       "\\begin{bmatrix}\n",
       "  2.2273985\\\\\n",
       "  2.80604533\\\\\n",
       "\\end{bmatrix} + \n",
       "\\begin{bmatrix}\n",
       "  -0.87464882\\\\\n",
       "\\end{bmatrix}\\end{gather}"
      ],
      "text/plain": [
       "<IPython.core.display.Latex object>"
      ]
     },
     "metadata": {},
     "output_type": "display_data"
    },
    {
     "data": {
      "text/latex": [
       "f_{custo}(\n",
       "\\begin{bmatrix}\n",
       "  0\\\\\n",
       "\\end{bmatrix},\n",
       "\\begin{bmatrix}\n",
       "  -0.05170718\\\\\n",
       "\\end{bmatrix}) = \n",
       "\\begin{bmatrix}\n",
       "  0.002673632935891667\\\\\n",
       "\\end{bmatrix}"
      ],
      "text/plain": [
       "<IPython.core.display.Latex object>"
      ]
     },
     "metadata": {},
     "output_type": "display_data"
    },
    {
     "data": {
      "text/latex": [
       "Camada: 2"
      ],
      "text/plain": [
       "<IPython.core.display.Latex object>"
      ]
     },
     "metadata": {},
     "output_type": "display_data"
    },
    {
     "data": {
      "text/latex": [
       "\\nabla f_{custo} = \\frac{\\partial E}{\\partial W} = \n",
       "\\begin{bmatrix}\n",
       "  -0.10341437\\\\\n",
       "\\end{bmatrix} \\cdot \n",
       "\\begin{bmatrix}\n",
       "  2.2273985 & 2.80604533\\\\\n",
       "\\end{bmatrix} = \n",
       "\\begin{bmatrix}\n",
       "  -0.23034501 & -0.29018541\\\\\n",
       "\\end{bmatrix}"
      ],
      "text/plain": [
       "<IPython.core.display.Latex object>"
      ]
     },
     "metadata": {},
     "output_type": "display_data"
    },
    {
     "data": {
      "text/latex": [
       "W = W - \\lambda (X \\cdot \\nabla f_{custo})"
      ],
      "text/plain": [
       "<IPython.core.display.Latex object>"
      ]
     },
     "metadata": {},
     "output_type": "display_data"
    },
    {
     "data": {
      "text/latex": [
       "\\begin{gather}\n",
       "\\begin{bmatrix}\n",
       "  2.24585231\\\\\n",
       "  2.80656136\\\\\n",
       "\\end{bmatrix} = \n",
       "\\begin{bmatrix}\n",
       "  2.2273985\\\\\n",
       "  2.80604533\\\\\n",
       "\\end{bmatrix} - 0.5\n",
       "\\begin{bmatrix}\n",
       "  0.35689058\\\\\n",
       "  0.00997992\\\\\n",
       "\\end{bmatrix} \\cdot \n",
       "\\begin{bmatrix}\n",
       "  -0.10341437\\\\\n",
       "\\end{bmatrix}\\end{gather}"
      ],
      "text/plain": [
       "<IPython.core.display.Latex object>"
      ]
     },
     "metadata": {},
     "output_type": "display_data"
    },
    {
     "data": {
      "text/latex": [
       "Camada: 1"
      ],
      "text/plain": [
       "<IPython.core.display.Latex object>"
      ]
     },
     "metadata": {},
     "output_type": "display_data"
    },
    {
     "data": {
      "text/latex": [
       "\\nabla = \\frac{\\partial E}{\\partial Y} \\frac{\\partial Y}{\\partial X}"
      ],
      "text/plain": [
       "<IPython.core.display.Latex object>"
      ]
     },
     "metadata": {},
     "output_type": "display_data"
    },
    {
     "data": {
      "text/latex": [
       "\\begin{gather}\n",
       "\\begin{bmatrix}\n",
       "  -0.05286872 & -0.00286712\\\\\n",
       "\\end{bmatrix} = \n",
       "\\begin{bmatrix}\n",
       "  -0.23034501 & -0.29018541\\\\\n",
       "\\end{bmatrix} \\cdot  \\sigma^{'}(\n",
       "\\begin{bmatrix}\n",
       "  -0.58888566 & -4.59715056\\\\\n",
       "\\end{bmatrix}) \\end{gather}"
      ],
      "text/plain": [
       "<IPython.core.display.Latex object>"
      ]
     },
     "metadata": {},
     "output_type": "display_data"
    },
    {
     "data": {
      "text/latex": [
       "Camada: 0"
      ],
      "text/plain": [
       "<IPython.core.display.Latex object>"
      ]
     },
     "metadata": {},
     "output_type": "display_data"
    },
    {
     "data": {
      "text/latex": [
       "\\nabla f_{custo} = \\frac{\\partial E}{\\partial W} = \n",
       "\\begin{bmatrix}\n",
       "  -0.05286872 & -0.00286712\\\\\n",
       "\\end{bmatrix} \\cdot \n",
       "\\begin{bmatrix}\n",
       "  2.51223423 & -1.86045842\\\\\n",
       "  -4.84116316 & 3.05621151\\\\\n",
       "\\end{bmatrix} = \n",
       "\\begin{bmatrix}\n",
       "  -0.11893838 & 0.08959751\\\\\n",
       "\\end{bmatrix}"
      ],
      "text/plain": [
       "<IPython.core.display.Latex object>"
      ]
     },
     "metadata": {},
     "output_type": "display_data"
    },
    {
     "data": {
      "text/latex": [
       "W = W - \\lambda (X \\cdot \\nabla f_{custo})"
      ],
      "text/plain": [
       "<IPython.core.display.Latex object>"
      ]
     },
     "metadata": {},
     "output_type": "display_data"
    },
    {
     "data": {
      "text/latex": [
       "\\begin{gather}\n",
       "\\begin{bmatrix}\n",
       "  2.53866859 & -4.8397296\\\\\n",
       "  -1.83402406 & 3.05764508\\\\\n",
       "\\end{bmatrix} = \n",
       "\\begin{bmatrix}\n",
       "  2.51223423 & -4.84116316\\\\\n",
       "  -1.86045842 & 3.05621151\\\\\n",
       "\\end{bmatrix} - 0.5\n",
       "\\begin{bmatrix}\n",
       "  1\\\\\n",
       "  1\\\\\n",
       "\\end{bmatrix} \\cdot \n",
       "\\begin{bmatrix}\n",
       "  -0.05286872 & -0.00286712\\\\\n",
       "\\end{bmatrix}\\end{gather}"
      ],
      "text/plain": [
       "<IPython.core.display.Latex object>"
      ]
     },
     "metadata": {},
     "output_type": "display_data"
    }
   ],
   "source": [
    "from IPython.display import Latex\n",
    "\n",
    "rede_exemplo_XOR.treinar(\n",
    "    vetor_x_exemplo_XOR,\n",
    "    vetor_y_esperado_exemplo_XOR,\n",
    "    max_n_iteracoes=1000,\n",
    "    taxa_aprendizado=0.5,\n",
    ")\n",
    "\n",
    "\n",
    "for iteracao_log in rede_exemplo_XOR.logs[0:1]:\n",
    "    for log in iteracao_log:\n",
    "        display(Latex(log))\n",
    "\n",
    "display(Latex(r'Última \\quad iteração:'))\n",
    "\n",
    "for log in rede_exemplo_XOR.logs[-1]:\n",
    "    display(Latex(log))"
   ]
  },
  {
   "cell_type": "markdown",
   "metadata": {},
   "source": [
    "### Validação"
   ]
  },
  {
   "cell_type": "code",
   "execution_count": 27,
   "metadata": {},
   "outputs": [
    {
     "data": {
      "text/latex": [
       "\\begin{gather}X=\n",
       "\\begin{bmatrix}\n",
       "  0 & 0\\\\\n",
       "  0 & 1\\\\\n",
       "  1 & 0\\\\\n",
       "  1 & 1\\\\\n",
       "\\end{bmatrix}\\rightarrow\n",
       "\\begin{bmatrix}\n",
       "  -0.14948595\\\\\n",
       "  0.85440681\\\\\n",
       "  0.95243611\\\\\n",
       "  0.04803614\\\\\n",
       "\\end{bmatrix}\\end{gather}"
      ],
      "text/plain": [
       "<IPython.core.display.Latex object>"
      ]
     },
     "execution_count": 27,
     "metadata": {},
     "output_type": "execute_result"
    }
   ],
   "source": [
    "from utils import array_to_latex\n",
    "from IPython.display import Latex\n",
    "\n",
    "validacao_exemplo_XOR = rede_exemplo_XOR.predict(vetor_x_exemplo_XOR)\n",
    "validacao_exemplo_XOR = np.asarray(validacao_exemplo_XOR) \\\n",
    "                          .reshape(4, 1)\n",
    "\n",
    "Latex(r'\\begin{gather}' +\n",
    "      array_to_latex(vetor_x_exemplo_XOR.reshape(4,2), 'X=') +\n",
    "      r'\\rightarrow' +\n",
    "      array_to_latex(validacao_exemplo_XOR, '') +\n",
    "      r'\\end{gather}')"
   ]
  },
  {
   "cell_type": "markdown",
   "metadata": {},
   "source": [
    "## Exemplo: Display de 7 Segmentos\n",
    "\n",
    "### Entradas e Saídas Esperadas"
   ]
  },
  {
   "cell_type": "code",
   "execution_count": 28,
   "metadata": {},
   "outputs": [
    {
     "data": {
      "text/html": [
       "<div>\n",
       "<style scoped>\n",
       "    .dataframe tbody tr th:only-of-type {\n",
       "        vertical-align: middle;\n",
       "    }\n",
       "\n",
       "    .dataframe tbody tr th {\n",
       "        vertical-align: top;\n",
       "    }\n",
       "\n",
       "    .dataframe thead th {\n",
       "        text-align: right;\n",
       "    }\n",
       "</style>\n",
       "<table border=\"1\" class=\"dataframe\">\n",
       "  <thead>\n",
       "    <tr style=\"text-align: right;\">\n",
       "      <th></th>\n",
       "      <th>A</th>\n",
       "      <th>B</th>\n",
       "      <th>C</th>\n",
       "      <th>D</th>\n",
       "      <th>E</th>\n",
       "      <th>F</th>\n",
       "      <th>G</th>\n",
       "    </tr>\n",
       "  </thead>\n",
       "  <tbody>\n",
       "    <tr>\n",
       "      <th>0</th>\n",
       "      <td>1</td>\n",
       "      <td>1</td>\n",
       "      <td>1</td>\n",
       "      <td>1</td>\n",
       "      <td>1</td>\n",
       "      <td>1</td>\n",
       "      <td>0</td>\n",
       "    </tr>\n",
       "    <tr>\n",
       "      <th>1</th>\n",
       "      <td>0</td>\n",
       "      <td>1</td>\n",
       "      <td>1</td>\n",
       "      <td>0</td>\n",
       "      <td>0</td>\n",
       "      <td>0</td>\n",
       "      <td>0</td>\n",
       "    </tr>\n",
       "    <tr>\n",
       "      <th>2</th>\n",
       "      <td>1</td>\n",
       "      <td>1</td>\n",
       "      <td>0</td>\n",
       "      <td>1</td>\n",
       "      <td>1</td>\n",
       "      <td>0</td>\n",
       "      <td>1</td>\n",
       "    </tr>\n",
       "    <tr>\n",
       "      <th>3</th>\n",
       "      <td>1</td>\n",
       "      <td>1</td>\n",
       "      <td>1</td>\n",
       "      <td>1</td>\n",
       "      <td>0</td>\n",
       "      <td>0</td>\n",
       "      <td>1</td>\n",
       "    </tr>\n",
       "    <tr>\n",
       "      <th>4</th>\n",
       "      <td>0</td>\n",
       "      <td>1</td>\n",
       "      <td>1</td>\n",
       "      <td>0</td>\n",
       "      <td>0</td>\n",
       "      <td>1</td>\n",
       "      <td>1</td>\n",
       "    </tr>\n",
       "    <tr>\n",
       "      <th>5</th>\n",
       "      <td>1</td>\n",
       "      <td>0</td>\n",
       "      <td>1</td>\n",
       "      <td>1</td>\n",
       "      <td>0</td>\n",
       "      <td>1</td>\n",
       "      <td>1</td>\n",
       "    </tr>\n",
       "    <tr>\n",
       "      <th>6</th>\n",
       "      <td>0</td>\n",
       "      <td>0</td>\n",
       "      <td>1</td>\n",
       "      <td>1</td>\n",
       "      <td>1</td>\n",
       "      <td>1</td>\n",
       "      <td>1</td>\n",
       "    </tr>\n",
       "    <tr>\n",
       "      <th>7</th>\n",
       "      <td>1</td>\n",
       "      <td>1</td>\n",
       "      <td>1</td>\n",
       "      <td>0</td>\n",
       "      <td>0</td>\n",
       "      <td>0</td>\n",
       "      <td>0</td>\n",
       "    </tr>\n",
       "    <tr>\n",
       "      <th>8</th>\n",
       "      <td>1</td>\n",
       "      <td>1</td>\n",
       "      <td>1</td>\n",
       "      <td>1</td>\n",
       "      <td>1</td>\n",
       "      <td>1</td>\n",
       "      <td>1</td>\n",
       "    </tr>\n",
       "    <tr>\n",
       "      <th>9</th>\n",
       "      <td>1</td>\n",
       "      <td>1</td>\n",
       "      <td>0</td>\n",
       "      <td>0</td>\n",
       "      <td>1</td>\n",
       "      <td>1</td>\n",
       "      <td>1</td>\n",
       "    </tr>\n",
       "  </tbody>\n",
       "</table>\n",
       "</div>"
      ],
      "text/plain": [
       "   A  B  C  D  E  F  G\n",
       "0  1  1  1  1  1  1  0\n",
       "1  0  1  1  0  0  0  0\n",
       "2  1  1  0  1  1  0  1\n",
       "3  1  1  1  1  0  0  1\n",
       "4  0  1  1  0  0  1  1\n",
       "5  1  0  1  1  0  1  1\n",
       "6  0  0  1  1  1  1  1\n",
       "7  1  1  1  0  0  0  0\n",
       "8  1  1  1  1  1  1  1\n",
       "9  1  1  0  0  1  1  1"
      ]
     },
     "metadata": {},
     "output_type": "display_data"
    },
    {
     "data": {
      "text/latex": [
       "\\begin{gather}Y_{esperado}=\n",
       "\\begin{bmatrix}\n",
       "  1 & 0 & 0 & 0 & 0 & 0 & 0 & 0 & 0 & 0\\\\\n",
       "  0 & 1 & 0 & 0 & 0 & 0 & 0 & 0 & 0 & 0\\\\\n",
       "  0 & 0 & 1 & 0 & 0 & 0 & 0 & 0 & 0 & 0\\\\\n",
       "  0 & 0 & 0 & 1 & 0 & 0 & 0 & 0 & 0 & 0\\\\\n",
       "  0 & 0 & 0 & 0 & 1 & 0 & 0 & 0 & 0 & 0\\\\\n",
       "  0 & 0 & 0 & 0 & 0 & 1 & 0 & 0 & 0 & 0\\\\\n",
       "  0 & 0 & 0 & 0 & 0 & 0 & 1 & 0 & 0 & 0\\\\\n",
       "  0 & 0 & 0 & 0 & 0 & 0 & 0 & 1 & 0 & 0\\\\\n",
       "  0 & 0 & 0 & 0 & 0 & 0 & 0 & 0 & 1 & 0\\\\\n",
       "  0 & 0 & 0 & 0 & 0 & 0 & 0 & 0 & 0 & 1\\\\\n",
       "\\end{bmatrix}\\end{gather}"
      ],
      "text/plain": [
       "<IPython.core.display.Latex object>"
      ]
     },
     "execution_count": 28,
     "metadata": {},
     "output_type": "execute_result"
    }
   ],
   "source": [
    "import pandas as pd\n",
    "from IPython.display import display, Latex\n",
    "\n",
    "segmentos = ['A', 'B', 'C', 'D', 'E', 'F', 'G']\n",
    "\n",
    "tabela_segmentos_digitos = pd.DataFrame([\n",
    "    #A, B, C, D, E, F, G\n",
    "    [1, 1, 1, 1, 1, 1, 0],\n",
    "    [0, 1, 1, 0, 0, 0, 0],\n",
    "    [1, 1, 0, 1, 1, 0, 1],\n",
    "    [1, 1, 1, 1, 0, 0, 1],\n",
    "    [0, 1, 1, 0, 0, 1, 1],\n",
    "    [1, 0, 1, 1, 0, 1, 1],\n",
    "    [0, 0, 1, 1, 1, 1, 1],\n",
    "    [1, 1, 1, 0, 0, 0, 0],\n",
    "    [1, 1, 1, 1, 1, 1, 1],\n",
    "    [1, 1, 0, 0, 1, 1, 1],\n",
    "], columns=segmentos)\n",
    "\n",
    "display(tabela_segmentos_digitos)\n",
    "\n",
    "vetor_y_esperado_exemplo_segmentos = np.array(\n",
    "    [\n",
    "        [[1, 0, 0, 0, 0, 0, 0, 0, 0, 0]],\n",
    "        [[0, 1, 0, 0, 0, 0, 0, 0, 0, 0]],\n",
    "        [[0, 0, 1, 0, 0, 0, 0, 0, 0, 0]],\n",
    "        [[0, 0, 0, 1, 0, 0, 0, 0, 0, 0]],\n",
    "        [[0, 0, 0, 0, 1, 0, 0, 0, 0, 0]],\n",
    "        [[0, 0, 0, 0, 0, 1, 0, 0, 0, 0]],\n",
    "        [[0, 0, 0, 0, 0, 0, 1, 0, 0, 0]],\n",
    "        [[0, 0, 0, 0, 0, 0, 0, 1, 0, 0]],\n",
    "        [[0, 0, 0, 0, 0, 0, 0, 0, 1, 0]],\n",
    "        [[0, 0, 0, 0, 0, 0, 0, 0, 0, 1]],\n",
    "    ]\n",
    ")\n",
    "\n",
    "Latex(r\"\\begin{gather}\" +\n",
    "      array_to_latex(vetor_y_esperado_exemplo_segmentos.reshape(10, 10), r\"Y_{esperado}=\") +\n",
    "      r\"\\end{gather}\")"
   ]
  },
  {
   "cell_type": "markdown",
   "metadata": {},
   "source": [
    "### Rede"
   ]
  },
  {
   "cell_type": "code",
   "execution_count": 29,
   "metadata": {},
   "outputs": [],
   "source": [
    "vetor_x_exemplo_segmentos = tabela_segmentos_digitos.values.reshape((10, 1, 7))\n",
    "\n",
    "rede_exemplo_display = RedeNeural(erro_quadratico_medio, derivada_erro_quadratico_medio)\n",
    "rede_exemplo_display.add(FCLayer(7, 14))\n",
    "rede_exemplo_display.add(ActivationLayer(sigmoide, derivada_sigmoide))\n",
    "rede_exemplo_display.add(FCLayer(14, 10))\n"
   ]
  },
  {
   "cell_type": "markdown",
   "metadata": {},
   "source": [
    "### Treinamento"
   ]
  },
  {
   "cell_type": "code",
   "execution_count": 30,
   "metadata": {},
   "outputs": [
    {
     "name": "stdout",
     "output_type": "stream",
     "text": [
      "Iteração 1/1000   MédiaErro=7.971638\n",
      "Iteração 2/1000   MédiaErro=0.220910\n",
      "Iteração 3/1000   MédiaErro=0.189143\n",
      "Iteração 4/1000   MédiaErro=0.167166\n",
      "Iteração 5/1000   MédiaErro=0.151114\n",
      "Iteração 10/1000   MédiaErro=0.109096\n",
      "Iteração 100/1000   MédiaErro=0.030696\n",
      "Iteração 172/1000 MédiaErro=0.009958\n"
     ]
    },
    {
     "data": {
      "text/latex": [
       "Camada: 0"
      ],
      "text/plain": [
       "<IPython.core.display.Latex object>"
      ]
     },
     "metadata": {},
     "output_type": "display_data"
    },
    {
     "data": {
      "text/latex": [
       "Y = Xw + b"
      ],
      "text/plain": [
       "<IPython.core.display.Latex object>"
      ]
     },
     "metadata": {},
     "output_type": "display_data"
    },
    {
     "data": {
      "text/latex": [
       "\\begin{gather}\n",
       "\\begin{bmatrix}\n",
       "  3.59154449 & 3.93690412 & 3.72823368 & 3.59934064 & 1.37180332 & 3.09823619\\\\\n",
       "  2.86449196 & 3.57971726 & 2.98937062 & 5.17772411 & 3.45112131 & 4.28458907\\\\\n",
       "  4.62112041 & 2.94993799\\\\\n",
       "\\end{bmatrix} = \n",
       "\\begin{bmatrix}\n",
       "  1 & 1 & 1 & 1 & 1 & 1 & 0\\\\\n",
       "\\end{bmatrix} \\cdot \n",
       "\\begin{bmatrix}\n",
       "  0.7208752 & 0.29270766 & 0.98402122 & 0.00667706 & 0.14735979 & 0.45620394\\\\\n",
       "  0.27940198 & 0.72706672 & 0.27963891 & 0.22564142 & 0.86519835 & 0.25980842\\\\\n",
       "  0.99981624 & 0.05644042\\\\\n",
       "  0.72559026 & 0.34508057 & 0.42598873 & 0.64952711 & 0.04204521 & 0.66063261\\\\\n",
       "  0.48460826 & 0.88825464 & 0.25937747 & 0.68355704 & 0.52413343 & 0.55499524\\\\\n",
       "  0.84880686 & 0.54297015\\\\\n",
       "  0.79502309 & 0.93552781 & 0.44227978 & 0.95991084 & 0.18284779 & 0.03819377\\\\\n",
       "  0.18797369 & 0.0782005 & 0.6875437 & 0.93705151 & 0.57626245 & 0.86923655\\\\\n",
       "  0.57543189 & 0.00589197\\\\\n",
       "  0.47452601 & 0.1641165 & 0.86777535 & 0.32774533 & 0.36428714 & 0.0428209\\\\\n",
       "  0.31316133 & 0.69612819 & 0.17861651 & 0.52210095 & 0.61015888 & 0.47568467\\\\\n",
       "  0.0759554 & 0.76663323\\\\\n",
       "  0.08333548 & 0.74051611 & 0.29841546 & 0.98663454 & 0.20119284 & 0.77690966\\\\\n",
       "  0.19745965 & 0.87914057 & 0.46780918 & 0.88843843 & 0.62108918 & 0.91125913\\\\\n",
       "  0.86243112 & 0.58749455\\\\\n",
       "  0.65055784 & 0.87392955 & 0.26170769 & 0.0966866 & 0.33267401 & 0.94800528\\\\\n",
       "  0.65260169 & 0.22552164 & 0.58568795 & 0.97781092 & 0.21288439 & 0.54264501\\\\\n",
       "  0.67994059 & 0.50453358\\\\\n",
       "  0.96706502 & 0.22992694 & 0.53122129 & 0.07415922 & 0.61763221 & 0.87867057\\\\\n",
       "  0.64724702 & 0.04284637 & 0.92775231 & 0.46354298 & 0.61485419 & 0.95872563\\\\\n",
       "  0.5758385 & 0.83744384\\\\\n",
       "\\end{bmatrix} + \n",
       "\\begin{bmatrix}\n",
       "  0.14163662 & 0.58502592 & 0.44804545 & 0.57215916 & 0.10139654 & 0.17547003\\\\\n",
       "  0.74928536 & 0.08540501 & 0.53069689 & 0.94312384 & 0.04139462 & 0.67096005\\\\\n",
       "  0.5787383 & 0.4859741\\\\\n",
       "\\end{bmatrix}\\end{gather}"
      ],
      "text/plain": [
       "<IPython.core.display.Latex object>"
      ]
     },
     "metadata": {},
     "output_type": "display_data"
    },
    {
     "data": {
      "text/latex": [
       "Camada: 1"
      ],
      "text/plain": [
       "<IPython.core.display.Latex object>"
      ]
     },
     "metadata": {},
     "output_type": "display_data"
    },
    {
     "data": {
      "text/latex": [
       "Y = \\sigma(X)"
      ],
      "text/plain": [
       "<IPython.core.display.Latex object>"
      ]
     },
     "metadata": {},
     "output_type": "display_data"
    },
    {
     "data": {
      "text/latex": [
       "\\begin{gather}\n",
       "\\begin{bmatrix}\n",
       "  0.97318322 & 0.98086478 & 0.97652888 & 0.97338593 & 0.79767135 & 0.95681993\\\\\n",
       "  0.94606297 & 0.97287282 & 0.95209161 & 0.99439081 & 0.96926456 & 0.98640801\\\\\n",
       "  0.99025415 & 0.95026056\\\\\n",
       "\\end{bmatrix} = \\sigma(\n",
       "\\begin{bmatrix}\n",
       "  3.59154449 & 3.93690412 & 3.72823368 & 3.59934064 & 1.37180332 & 3.09823619\\\\\n",
       "  2.86449196 & 3.57971726 & 2.98937062 & 5.17772411 & 3.45112131 & 4.28458907\\\\\n",
       "  4.62112041 & 2.94993799\\\\\n",
       "\\end{bmatrix}) \\end{gather}"
      ],
      "text/plain": [
       "<IPython.core.display.Latex object>"
      ]
     },
     "metadata": {},
     "output_type": "display_data"
    },
    {
     "data": {
      "text/latex": [
       "Camada: 2"
      ],
      "text/plain": [
       "<IPython.core.display.Latex object>"
      ]
     },
     "metadata": {},
     "output_type": "display_data"
    },
    {
     "data": {
      "text/latex": [
       "Y = Xw + b"
      ],
      "text/plain": [
       "<IPython.core.display.Latex object>"
      ]
     },
     "metadata": {},
     "output_type": "display_data"
    },
    {
     "data": {
      "text/latex": [
       "\\begin{gather}\n",
       "\\begin{bmatrix}\n",
       "  6.54878563 & 7.64478164 & 7.09167272 & 5.51251589 & 6.92546701 & 7.90539564\\\\\n",
       "  7.64728554 & 7.348867 & 6.31425115 & 8.32643549\\\\\n",
       "\\end{bmatrix} = \n",
       "\\begin{bmatrix}\n",
       "  0.97318322 & 0.98086478 & 0.97652888 & 0.97338593 & 0.79767135 & 0.95681993\\\\\n",
       "  0.94606297 & 0.97287282 & 0.95209161 & 0.99439081 & 0.96926456 & 0.98640801\\\\\n",
       "  0.99025415 & 0.95026056\\\\\n",
       "\\end{bmatrix} \\cdot \n",
       "\\begin{bmatrix}\n",
       "  0.18149997 & 0.27951115 & 0.7583302 & 0.18283445 & 0.17656485 & 0.93451829\\\\\n",
       "  0.11330377 & 0.56814965 & 0.09414887 & 0.76532119\\\\\n",
       "  0.47833761 & 0.73285046 & 0.60862068 & 0.15207792 & 0.88508449 & 0.40661039\\\\\n",
       "  0.99943489 & 0.10536537 & 0.8373448 & 0.33427318\\\\\n",
       "  0.26519944 & 0.8641738 & 0.43550299 & 0.86074842 & 0.1429057 & 0.69825736\\\\\n",
       "  0.90301072 & 0.73002014 & 0.34391057 & 0.09920951\\\\\n",
       "  0.19099788 & 0.59827406 & 0.90296444 & 0.56310872 & 0.06973126 & 0.23862178\\\\\n",
       "  0.26085521 & 0.13349186 & 0.32187483 & 0.56985834\\\\\n",
       "  0.18819942 & 0.29107877 & 0.49497862 & 0.083312 & 0.84706814 & 0.41129656\\\\\n",
       "  0.74162992 & 0.15095098 & 0.78410478 & 0.51648238\\\\\n",
       "  0.55868044 & 0.36709503 & 0.14791149 & 0.41955372 & 0.21738776 & 0.42166641\\\\\n",
       "  0.84310038 & 0.57409868 & 0.18821899 & 0.91588042\\\\\n",
       "  0.8458837 & 0.56608304 & 0.41319395 & 0.65687738 & 0.48287389 & 0.87161066\\\\\n",
       "  0.42276338 & 0.61375934 & 0.40566127 & 0.57839927\\\\\n",
       "  0.71839124 & 0.72962202 & 0.11529752 & 0.76972052 & 0.51880994 & 0.82498505\\\\\n",
       "  0.34241969 & 0.56897718 & 0.02905653 & 0.77326456\\\\\n",
       "  0.45468774 & 0.17415084 & 0.09382162 & 0.57966302 & 0.96871423 & 0.27013128\\\\\n",
       "  0.4546889 & 0.98887642 & 0.73861368 & 0.7015015\\\\\n",
       "  0.24010104 & 0.1951509 & 0.83440659 & 0.314955 & 0.8171446 & 0.83495792\\\\\n",
       "  0.43742988 & 0.8973486 & 0.22486302 & 0.0892438\\\\\n",
       "  0.07949576 & 0.98452082 & 0.24203512 & 0.31348402 & 0.52322354 & 0.08404086\\\\\n",
       "  0.94016802 & 0.3557883 & 0.51843636 & 0.83807719\\\\\n",
       "  0.33328668 & 0.58528825 & 0.48287206 & 0.54483429 & 0.31390089 & 0.81417354\\\\\n",
       "  0.16824242 & 0.29031084 & 0.43904676 & 0.1397525\\\\\n",
       "  0.75864845 & 0.61639537 & 0.782818 & 0.03313203 & 0.3364099 & 0.49323549\\\\\n",
       "  0.61489524 & 0.33688568 & 0.17854646 & 0.59593702\\\\\n",
       "  0.6906662 & 0.34606926 & 0.68625063 & 0.08640834 & 0.50564741 & 0.00194132\\\\\n",
       "  0.28194262 & 0.58151511 & 0.9547825 & 0.82205177\\\\\n",
       "\\end{bmatrix} + \n",
       "\\begin{bmatrix}\n",
       "  0.78920307 & 0.56818595 & 0.3557939 & 0.1372902 & 0.4675435 & 0.86192376\\\\\n",
       "  0.46768665 & 0.69463613 & 0.58804961 & 0.93628097\\\\\n",
       "\\end{bmatrix}\\end{gather}"
      ],
      "text/plain": [
       "<IPython.core.display.Latex object>"
      ]
     },
     "metadata": {},
     "output_type": "display_data"
    },
    {
     "data": {
      "text/latex": [
       "f_{custo}(\n",
       "\\begin{bmatrix}\n",
       "  1 & 0 & 0 & 0 & 0 & 0 & 0 & 0 & 0 & 0\\\\\n",
       "\\end{bmatrix},\n",
       "\\begin{bmatrix}\n",
       "  6.54878563 & 7.64478164 & 7.09167272 & 5.51251589 & 6.92546701 & 7.90539564\\\\\n",
       "  7.64728554 & 7.348867 & 6.31425115 & 8.32643549\\\\\n",
       "\\end{bmatrix}) = \n",
       "\\begin{bmatrix}\n",
       "  50.205485294090735\\\\\n",
       "\\end{bmatrix}"
      ],
      "text/plain": [
       "<IPython.core.display.Latex object>"
      ]
     },
     "metadata": {},
     "output_type": "display_data"
    },
    {
     "data": {
      "text/latex": [
       "Camada: 2"
      ],
      "text/plain": [
       "<IPython.core.display.Latex object>"
      ]
     },
     "metadata": {},
     "output_type": "display_data"
    },
    {
     "data": {
      "text/latex": [
       "\\nabla f_{custo} = \\frac{\\partial E}{\\partial W} = \n",
       "\\begin{bmatrix}\n",
       "  1.10975713 & 1.52895633 & 1.41833454 & 1.10250318 & 1.3850934 & 1.58107913\\\\\n",
       "  1.52945711 & 1.4697734 & 1.26285023 & 1.6652871\\\\\n",
       "\\end{bmatrix} \\cdot \n",
       "\\begin{bmatrix}\n",
       "  0.18149997 & 0.47833761 & 0.26519944 & 0.19099788 & 0.18819942 & 0.55868044\\\\\n",
       "  0.8458837 & 0.71839124 & 0.45468774 & 0.24010104 & 0.07949576 & 0.33328668\\\\\n",
       "  0.75864845 & 0.6906662\\\\\n",
       "  0.27951115 & 0.73285046 & 0.8641738 & 0.59827406 & 0.29107877 & 0.36709503\\\\\n",
       "  0.56608304 & 0.72962202 & 0.17415084 & 0.1951509 & 0.98452082 & 0.58528825\\\\\n",
       "  0.61639537 & 0.34606926\\\\\n",
       "  0.7583302 & 0.60862068 & 0.43550299 & 0.90296444 & 0.49497862 & 0.14791149\\\\\n",
       "  0.41319395 & 0.11529752 & 0.09382162 & 0.83440659 & 0.24203512 & 0.48287206\\\\\n",
       "  0.782818 & 0.68625063\\\\\n",
       "  0.18283445 & 0.15207792 & 0.86074842 & 0.56310872 & 0.083312 & 0.41955372\\\\\n",
       "  0.65687738 & 0.76972052 & 0.57966302 & 0.314955 & 0.31348402 & 0.54483429\\\\\n",
       "  0.03313203 & 0.08640834\\\\\n",
       "  0.17656485 & 0.88508449 & 0.1429057 & 0.06973126 & 0.84706814 & 0.21738776\\\\\n",
       "  0.48287389 & 0.51880994 & 0.96871423 & 0.8171446 & 0.52322354 & 0.31390089\\\\\n",
       "  0.3364099 & 0.50564741\\\\\n",
       "  0.93451829 & 0.40661039 & 0.69825736 & 0.23862178 & 0.41129656 & 0.42166641\\\\\n",
       "  0.87161066 & 0.82498505 & 0.27013128 & 0.83495792 & 0.08404086 & 0.81417354\\\\\n",
       "  0.49323549 & 0.00194132\\\\\n",
       "  0.11330377 & 0.99943489 & 0.90301072 & 0.26085521 & 0.74162992 & 0.84310038\\\\\n",
       "  0.42276338 & 0.34241969 & 0.4546889 & 0.43742988 & 0.94016802 & 0.16824242\\\\\n",
       "  0.61489524 & 0.28194262\\\\\n",
       "  0.56814965 & 0.10536537 & 0.73002014 & 0.13349186 & 0.15095098 & 0.57409868\\\\\n",
       "  0.61375934 & 0.56897718 & 0.98887642 & 0.8973486 & 0.3557883 & 0.29031084\\\\\n",
       "  0.33688568 & 0.58151511\\\\\n",
       "  0.09414887 & 0.8373448 & 0.34391057 & 0.32187483 & 0.78410478 & 0.18821899\\\\\n",
       "  0.40566127 & 0.02905653 & 0.73861368 & 0.22486302 & 0.51843636 & 0.43904676\\\\\n",
       "  0.17854646 & 0.9547825\\\\\n",
       "  0.76532119 & 0.33427318 & 0.09920951 & 0.56985834 & 0.51648238 & 0.91588042\\\\\n",
       "  0.57839927 & 0.77326456 & 0.7015015 & 0.0892438 & 0.83807719 & 0.1397525\\\\\n",
       "  0.59593702 & 0.82205177\\\\\n",
       "\\end{bmatrix} = \n",
       "\\begin{bmatrix}\n",
       "  6.02974878 & 7.84859482 & 7.53779585 & 5.45272231 & 6.4778135 & 6.71758655\\\\\n",
       "  8.18558509 & 7.63230194 & 7.56168266 & 6.96800798 & 7.1512244 & 5.74354698\\\\\n",
       "  6.83047174 & 6.92824732\\\\\n",
       "\\end{bmatrix}"
      ],
      "text/plain": [
       "<IPython.core.display.Latex object>"
      ]
     },
     "metadata": {},
     "output_type": "display_data"
    },
    {
     "data": {
      "text/latex": [
       "W = W - \\lambda (X \\cdot \\nabla f_{custo})"
      ],
      "text/plain": [
       "<IPython.core.display.Latex object>"
      ]
     },
     "metadata": {},
     "output_type": "display_data"
    },
    {
     "data": {
      "text/latex": [
       "\\begin{gather}\n",
       "\\begin{bmatrix}\n",
       "  -0.57449794 & -0.7620571 & -0.20787937 & -0.56822187 & -0.7669999 & -0.14255749\\\\\n",
       "  -0.92860562 & -0.43310151 & -0.76614039 & -0.36911943\\\\\n",
       "  -0.28362757 & -0.31693914 & -0.3652154 & -0.60490665 & -0.06592805 & -0.678967\\\\\n",
       "  -0.05069854 & -0.90378891 & -0.02973492 & -0.80912184\\\\\n",
       "  -0.49339748 & -0.18097521 & -0.53402827 & 0.10711009 & -0.8039029 & -0.38252125\\\\\n",
       "  -0.14248061 & -0.27467318 & -0.51933623 & -1.03913115\\\\\n",
       "  -0.56515751 & -0.44351114 & -0.06344638 & -0.18810404 & -0.87403004 & -0.83867835\\\\\n",
       "  -0.78127121 & -0.86796786 & -0.53859362 & -0.56481858\\\\\n",
       "  -0.43145561 & -0.56264449 & -0.29697677 & -0.53229264 & 0.07367362 & -0.47153051\\\\\n",
       "  -0.11237297 & -0.66972632 & 0.07896717 & -0.41336389\\\\\n",
       "  -0.18460598 & -0.65696009 & -0.80205204 & -0.31887419 & -0.71031172 & -0.6372992\\\\\n",
       "  -0.18129015 & -0.41031726 & -0.6576052 & -0.1994855\\\\\n",
       "  0.11095361 & -0.44645924 & -0.52608971 & -0.07324882 & -0.43439602 & -0.17544964\\\\\n",
       "  -0.59011054 & -0.3595894 & -0.43065382 & -0.52442726\\\\\n",
       "  -0.03736554 & -0.31161402 & -0.85060387 & 0.01890375 & -0.42445387 & -0.25174719\\\\\n",
       "  -0.69915739 & -0.43195464 & -0.83095834 & -0.36081423\\\\\n",
       "  -0.28492557 & -0.8448437 & -0.85144747 & -0.15511579 & 0.04559916 & -0.78360124\\\\\n",
       "  -0.5646394 & 0.00932517 & -0.1030307 & -0.40835261\\\\\n",
       "  -0.53237156 & -0.86911518 & -0.15285859 & -0.45246832 & -0.14698231 & -0.26558947\\\\\n",
       "  -0.62718479 & -0.12572181 & -0.65417364 & -1.06991853\\\\\n",
       "  -0.67345802 & -0.05285341 & -0.72028387 & -0.43454806 & -0.41654183 & -0.98869792\\\\\n",
       "  -0.09754598 & -0.64143119 & -0.33838882 & -0.29179544\\\\\n",
       "  -0.43298464 & -0.47043409 & -0.49646753 & -0.21642828 & -0.64248616 & -0.27753883\\\\\n",
       "  -0.8878257 & -0.72454653 & -0.43293315 & -1.01010427\\\\\n",
       "  -0.01061068 & -0.44344338 & -0.20034017 & -0.73109881 & -0.62370624 & -0.60273363\\\\\n",
       "  -0.44529064 & -0.68192877 & -0.69683342 & -0.55840321\\\\\n",
       "  -0.0475247 & -0.67096556 & -0.25720054 & -0.64695736 & -0.41569233 & -1.04976467\\\\\n",
       "  -0.73542532 & -0.39615227 & 0.11475676 & -0.28566789\\\\\n",
       "\\end{bmatrix} = \n",
       "\\begin{bmatrix}\n",
       "  0.18149997 & 0.27951115 & 0.7583302 & 0.18283445 & 0.17656485 & 0.93451829\\\\\n",
       "  0.11330377 & 0.56814965 & 0.09414887 & 0.76532119\\\\\n",
       "  0.47833761 & 0.73285046 & 0.60862068 & 0.15207792 & 0.88508449 & 0.40661039\\\\\n",
       "  0.99943489 & 0.10536537 & 0.8373448 & 0.33427318\\\\\n",
       "  0.26519944 & 0.8641738 & 0.43550299 & 0.86074842 & 0.1429057 & 0.69825736\\\\\n",
       "  0.90301072 & 0.73002014 & 0.34391057 & 0.09920951\\\\\n",
       "  0.19099788 & 0.59827406 & 0.90296444 & 0.56310872 & 0.06973126 & 0.23862178\\\\\n",
       "  0.26085521 & 0.13349186 & 0.32187483 & 0.56985834\\\\\n",
       "  0.18819942 & 0.29107877 & 0.49497862 & 0.083312 & 0.84706814 & 0.41129656\\\\\n",
       "  0.74162992 & 0.15095098 & 0.78410478 & 0.51648238\\\\\n",
       "  0.55868044 & 0.36709503 & 0.14791149 & 0.41955372 & 0.21738776 & 0.42166641\\\\\n",
       "  0.84310038 & 0.57409868 & 0.18821899 & 0.91588042\\\\\n",
       "  0.8458837 & 0.56608304 & 0.41319395 & 0.65687738 & 0.48287389 & 0.87161066\\\\\n",
       "  0.42276338 & 0.61375934 & 0.40566127 & 0.57839927\\\\\n",
       "  0.71839124 & 0.72962202 & 0.11529752 & 0.76972052 & 0.51880994 & 0.82498505\\\\\n",
       "  0.34241969 & 0.56897718 & 0.02905653 & 0.77326456\\\\\n",
       "  0.45468774 & 0.17415084 & 0.09382162 & 0.57966302 & 0.96871423 & 0.27013128\\\\\n",
       "  0.4546889 & 0.98887642 & 0.73861368 & 0.7015015\\\\\n",
       "  0.24010104 & 0.1951509 & 0.83440659 & 0.314955 & 0.8171446 & 0.83495792\\\\\n",
       "  0.43742988 & 0.8973486 & 0.22486302 & 0.0892438\\\\\n",
       "  0.07949576 & 0.98452082 & 0.24203512 & 0.31348402 & 0.52322354 & 0.08404086\\\\\n",
       "  0.94016802 & 0.3557883 & 0.51843636 & 0.83807719\\\\\n",
       "  0.33328668 & 0.58528825 & 0.48287206 & 0.54483429 & 0.31390089 & 0.81417354\\\\\n",
       "  0.16824242 & 0.29031084 & 0.43904676 & 0.1397525\\\\\n",
       "  0.75864845 & 0.61639537 & 0.782818 & 0.03313203 & 0.3364099 & 0.49323549\\\\\n",
       "  0.61489524 & 0.33688568 & 0.17854646 & 0.59593702\\\\\n",
       "  0.6906662 & 0.34606926 & 0.68625063 & 0.08640834 & 0.50564741 & 0.00194132\\\\\n",
       "  0.28194262 & 0.58151511 & 0.9547825 & 0.82205177\\\\\n",
       "\\end{bmatrix} - 0.7\n",
       "\\begin{bmatrix}\n",
       "  0.97318322\\\\\n",
       "  0.98086478\\\\\n",
       "  0.97652888\\\\\n",
       "  0.97338593\\\\\n",
       "  0.79767135\\\\\n",
       "  0.95681993\\\\\n",
       "  0.94606297\\\\\n",
       "  0.97287282\\\\\n",
       "  0.95209161\\\\\n",
       "  0.99439081\\\\\n",
       "  0.96926456\\\\\n",
       "  0.98640801\\\\\n",
       "  0.99025415\\\\\n",
       "  0.95026056\\\\\n",
       "\\end{bmatrix} \\cdot \n",
       "\\begin{bmatrix}\n",
       "  1.10975713 & 1.52895633 & 1.41833454 & 1.10250318 & 1.3850934 & 1.58107913\\\\\n",
       "  1.52945711 & 1.4697734 & 1.26285023 & 1.6652871\\\\\n",
       "\\end{bmatrix}\\end{gather}"
      ],
      "text/plain": [
       "<IPython.core.display.Latex object>"
      ]
     },
     "metadata": {},
     "output_type": "display_data"
    },
    {
     "data": {
      "text/latex": [
       "Camada: 1"
      ],
      "text/plain": [
       "<IPython.core.display.Latex object>"
      ]
     },
     "metadata": {},
     "output_type": "display_data"
    },
    {
     "data": {
      "text/latex": [
       "\\nabla = \\frac{\\partial E}{\\partial Y} \\frac{\\partial Y}{\\partial X}"
      ],
      "text/plain": [
       "<IPython.core.display.Latex object>"
      ]
     },
     "metadata": {},
     "output_type": "display_data"
    },
    {
     "data": {
      "text/latex": [
       "\\begin{gather}\n",
       "\\begin{bmatrix}\n",
       "  0.15736222 & 0.14731076 & 0.17276797 & 0.14125692 & 1.04546577 & 0.27754079\\\\\n",
       "  0.41769259 & 0.20142633 & 0.34491236 & 0.03886564 & 0.21304048 & 0.07700518\\\\\n",
       "  0.06591996 & 0.32746659\\\\\n",
       "\\end{bmatrix} = \n",
       "\\begin{bmatrix}\n",
       "  6.02974878 & 7.84859482 & 7.53779585 & 5.45272231 & 6.4778135 & 6.71758655\\\\\n",
       "  8.18558509 & 7.63230194 & 7.56168266 & 6.96800798 & 7.1512244 & 5.74354698\\\\\n",
       "  6.83047174 & 6.92824732\\\\\n",
       "\\end{bmatrix} \\cdot  \\sigma^{'}(\n",
       "\\begin{bmatrix}\n",
       "  3.59154449 & 3.93690412 & 3.72823368 & 3.59934064 & 1.37180332 & 3.09823619\\\\\n",
       "  2.86449196 & 3.57971726 & 2.98937062 & 5.17772411 & 3.45112131 & 4.28458907\\\\\n",
       "  4.62112041 & 2.94993799\\\\\n",
       "\\end{bmatrix}) \\end{gather}"
      ],
      "text/plain": [
       "<IPython.core.display.Latex object>"
      ]
     },
     "metadata": {},
     "output_type": "display_data"
    },
    {
     "data": {
      "text/latex": [
       "Camada: 0"
      ],
      "text/plain": [
       "<IPython.core.display.Latex object>"
      ]
     },
     "metadata": {},
     "output_type": "display_data"
    },
    {
     "data": {
      "text/latex": [
       "\\nabla f_{custo} = \\frac{\\partial E}{\\partial W} = \n",
       "\\begin{bmatrix}\n",
       "  0.15736222 & 0.14731076 & 0.17276797 & 0.14125692 & 1.04546577 & 0.27754079\\\\\n",
       "  0.41769259 & 0.20142633 & 0.34491236 & 0.03886564 & 0.21304048 & 0.07700518\\\\\n",
       "  0.06591996 & 0.32746659\\\\\n",
       "\\end{bmatrix} \\cdot \n",
       "\\begin{bmatrix}\n",
       "  0.7208752 & 0.72559026 & 0.79502309 & 0.47452601 & 0.08333548 & 0.65055784\\\\\n",
       "  0.96706502\\\\\n",
       "  0.29270766 & 0.34508057 & 0.93552781 & 0.1641165 & 0.74051611 & 0.87392955\\\\\n",
       "  0.22992694\\\\\n",
       "  0.98402122 & 0.42598873 & 0.44227978 & 0.86777535 & 0.29841546 & 0.26170769\\\\\n",
       "  0.53122129\\\\\n",
       "  0.00667706 & 0.64952711 & 0.95991084 & 0.32774533 & 0.98663454 & 0.0966866\\\\\n",
       "  0.07415922\\\\\n",
       "  0.14735979 & 0.04204521 & 0.18284779 & 0.36428714 & 0.20119284 & 0.33267401\\\\\n",
       "  0.61763221\\\\\n",
       "  0.45620394 & 0.66063261 & 0.03819377 & 0.0428209 & 0.77690966 & 0.94800528\\\\\n",
       "  0.87867057\\\\\n",
       "  0.27940198 & 0.48460826 & 0.18797369 & 0.31316133 & 0.19745965 & 0.65260169\\\\\n",
       "  0.64724702\\\\\n",
       "  0.72706672 & 0.88825464 & 0.0782005 & 0.69612819 & 0.87914057 & 0.22552164\\\\\n",
       "  0.04284637\\\\\n",
       "  0.27963891 & 0.25937747 & 0.6875437 & 0.17861651 & 0.46780918 & 0.58568795\\\\\n",
       "  0.92775231\\\\\n",
       "  0.22564142 & 0.68355704 & 0.93705151 & 0.52210095 & 0.88843843 & 0.97781092\\\\\n",
       "  0.46354298\\\\\n",
       "  0.86519835 & 0.52413343 & 0.57626245 & 0.61015888 & 0.62108918 & 0.21288439\\\\\n",
       "  0.61485419\\\\\n",
       "  0.25980842 & 0.55499524 & 0.86923655 & 0.47568467 & 0.91125913 & 0.54264501\\\\\n",
       "  0.95872563\\\\\n",
       "  0.99981624 & 0.84880686 & 0.57543189 & 0.0759554 & 0.86243112 & 0.67994059\\\\\n",
       "  0.5758385\\\\\n",
       "  0.05644042 & 0.54297015 & 0.00589197 & 0.76663323 & 0.58749455 & 0.50453358\\\\\n",
       "  0.83744384\\\\\n",
       "\\end{bmatrix} = \n",
       "\\begin{bmatrix}\n",
       "  1.26527707 & 1.44319288 & 1.27408028 & 1.46339797 & 1.64625724 & 1.7561004\\\\\n",
       "  2.31188362\\\\\n",
       "\\end{bmatrix}"
      ],
      "text/plain": [
       "<IPython.core.display.Latex object>"
      ]
     },
     "metadata": {},
     "output_type": "display_data"
    },
    {
     "data": {
      "text/latex": [
       "W = W - \\lambda (X \\cdot \\nabla f_{custo})"
      ],
      "text/plain": [
       "<IPython.core.display.Latex object>"
      ]
     },
     "metadata": {},
     "output_type": "display_data"
    },
    {
     "data": {
      "text/latex": [
       "\\begin{gather}\n",
       "\\begin{bmatrix}\n",
       "  0.61072164 & 0.18959013 & 0.86308364 & -0.09220279 & -0.58446624 & 0.26192539\\\\\n",
       "  -0.01298283 & 0.58606829 & 0.03820026 & 0.19843547 & 0.71607001 & 0.20590479\\\\\n",
       "  0.95367227 & -0.17278619\\\\\n",
       "  0.6154367 & 0.24196304 & 0.30505115 & 0.55064727 & -0.68978083 & 0.46635406\\\\\n",
       "  0.19222345 & 0.74725621 & 0.01793881 & 0.65635109 & 0.3750051 & 0.50109161\\\\\n",
       "  0.80266289 & 0.31374353\\\\\n",
       "  0.68486953 & 0.83241029 & 0.3213422 & 0.861031 & -0.54897825 & -0.15608478\\\\\n",
       "  -0.10441112 & -0.06279793 & 0.44610505 & 0.90984556 & 0.42713411 & 0.81533292\\\\\n",
       "  0.52928792 & -0.22333465\\\\\n",
       "  0.36437245 & 0.06099897 & 0.74683777 & 0.22886549 & -0.3675389 & -0.15145765\\\\\n",
       "  0.02077652 & 0.55512977 & -0.06282214 & 0.494895 & 0.46103054 & 0.42178104\\\\\n",
       "  0.02981142 & 0.53740662\\\\\n",
       "  -0.02681808 & 0.63739858 & 0.17747788 & 0.8877547 & -0.5306332 & 0.58263111\\\\\n",
       "  -0.09492517 & 0.73814214 & 0.22637053 & 0.86123248 & 0.47196085 & 0.8573555\\\\\n",
       "  0.81628715 & 0.35826793\\\\\n",
       "  0.54040429 & 0.77081203 & 0.1407701 & -0.00219324 & -0.39915203 & 0.75372673\\\\\n",
       "  0.36021688 & 0.08452321 & 0.3442493 & 0.95060498 & 0.06375605 & 0.48874138\\\\\n",
       "  0.63379662 & 0.27530697\\\\\n",
       "  0.96706502 & 0.22992694 & 0.53122129 & 0.07415922 & 0.61763221 & 0.87867057\\\\\n",
       "  0.64724702 & 0.04284637 & 0.92775231 & 0.46354298 & 0.61485419 & 0.95872563\\\\\n",
       "  0.5758385 & 0.83744384\\\\\n",
       "\\end{bmatrix} = \n",
       "\\begin{bmatrix}\n",
       "  0.7208752 & 0.29270766 & 0.98402122 & 0.00667706 & 0.14735979 & 0.45620394\\\\\n",
       "  0.27940198 & 0.72706672 & 0.27963891 & 0.22564142 & 0.86519835 & 0.25980842\\\\\n",
       "  0.99981624 & 0.05644042\\\\\n",
       "  0.72559026 & 0.34508057 & 0.42598873 & 0.64952711 & 0.04204521 & 0.66063261\\\\\n",
       "  0.48460826 & 0.88825464 & 0.25937747 & 0.68355704 & 0.52413343 & 0.55499524\\\\\n",
       "  0.84880686 & 0.54297015\\\\\n",
       "  0.79502309 & 0.93552781 & 0.44227978 & 0.95991084 & 0.18284779 & 0.03819377\\\\\n",
       "  0.18797369 & 0.0782005 & 0.6875437 & 0.93705151 & 0.57626245 & 0.86923655\\\\\n",
       "  0.57543189 & 0.00589197\\\\\n",
       "  0.47452601 & 0.1641165 & 0.86777535 & 0.32774533 & 0.36428714 & 0.0428209\\\\\n",
       "  0.31316133 & 0.69612819 & 0.17861651 & 0.52210095 & 0.61015888 & 0.47568467\\\\\n",
       "  0.0759554 & 0.76663323\\\\\n",
       "  0.08333548 & 0.74051611 & 0.29841546 & 0.98663454 & 0.20119284 & 0.77690966\\\\\n",
       "  0.19745965 & 0.87914057 & 0.46780918 & 0.88843843 & 0.62108918 & 0.91125913\\\\\n",
       "  0.86243112 & 0.58749455\\\\\n",
       "  0.65055784 & 0.87392955 & 0.26170769 & 0.0966866 & 0.33267401 & 0.94800528\\\\\n",
       "  0.65260169 & 0.22552164 & 0.58568795 & 0.97781092 & 0.21288439 & 0.54264501\\\\\n",
       "  0.67994059 & 0.50453358\\\\\n",
       "  0.96706502 & 0.22992694 & 0.53122129 & 0.07415922 & 0.61763221 & 0.87867057\\\\\n",
       "  0.64724702 & 0.04284637 & 0.92775231 & 0.46354298 & 0.61485419 & 0.95872563\\\\\n",
       "  0.5758385 & 0.83744384\\\\\n",
       "\\end{bmatrix} - 0.7\n",
       "\\begin{bmatrix}\n",
       "  1\\\\\n",
       "  1\\\\\n",
       "  1\\\\\n",
       "  1\\\\\n",
       "  1\\\\\n",
       "  1\\\\\n",
       "  0\\\\\n",
       "\\end{bmatrix} \\cdot \n",
       "\\begin{bmatrix}\n",
       "  0.15736222 & 0.14731076 & 0.17276797 & 0.14125692 & 1.04546577 & 0.27754079\\\\\n",
       "  0.41769259 & 0.20142633 & 0.34491236 & 0.03886564 & 0.21304048 & 0.07700518\\\\\n",
       "  0.06591996 & 0.32746659\\\\\n",
       "\\end{bmatrix}\\end{gather}"
      ],
      "text/plain": [
       "<IPython.core.display.Latex object>"
      ]
     },
     "metadata": {},
     "output_type": "display_data"
    },
    {
     "data": {
      "text/latex": [
       "Camada: 0"
      ],
      "text/plain": [
       "<IPython.core.display.Latex object>"
      ]
     },
     "metadata": {},
     "output_type": "display_data"
    },
    {
     "data": {
      "text/latex": [
       "Y = Xw + b"
      ],
      "text/plain": [
       "<IPython.core.display.Latex object>"
      ]
     },
     "metadata": {},
     "output_type": "display_data"
    },
    {
     "data": {
      "text/latex": [
       "\\begin{gather}\n",
       "\\begin{bmatrix}\n",
       "  1.3317893 & 1.55628172 & 0.95350122 & 1.88495758 & -1.86918857 & 0.29146076\\\\\n",
       "  0.54471287 & 0.62886486 & 0.7533021 & 2.48211454 & 0.69440549 & 1.93348095\\\\\n",
       "  1.86454514 & 0.34715637\\\\\n",
       "\\end{bmatrix} = \n",
       "\\begin{bmatrix}\n",
       "  0 & 1 & 1 & 0 & 0 & 0 & 0\\\\\n",
       "\\end{bmatrix} \\cdot \n",
       "\\begin{bmatrix}\n",
       "  0.61072164 & 0.18959013 & 0.86308364 & -0.09220279 & -0.58446624 & 0.26192539\\\\\n",
       "  -0.01298283 & 0.58606829 & 0.03820026 & 0.19843547 & 0.71607001 & 0.20590479\\\\\n",
       "  0.95367227 & -0.17278619\\\\\n",
       "  0.6154367 & 0.24196304 & 0.30505115 & 0.55064727 & -0.68978083 & 0.46635406\\\\\n",
       "  0.19222345 & 0.74725621 & 0.01793881 & 0.65635109 & 0.3750051 & 0.50109161\\\\\n",
       "  0.80266289 & 0.31374353\\\\\n",
       "  0.68486953 & 0.83241029 & 0.3213422 & 0.861031 & -0.54897825 & -0.15608478\\\\\n",
       "  -0.10441112 & -0.06279793 & 0.44610505 & 0.90984556 & 0.42713411 & 0.81533292\\\\\n",
       "  0.52928792 & -0.22333465\\\\\n",
       "  0.36437245 & 0.06099897 & 0.74683777 & 0.22886549 & -0.3675389 & -0.15145765\\\\\n",
       "  0.02077652 & 0.55512977 & -0.06282214 & 0.494895 & 0.46103054 & 0.42178104\\\\\n",
       "  0.02981142 & 0.53740662\\\\\n",
       "  -0.02681808 & 0.63739858 & 0.17747788 & 0.8877547 & -0.5306332 & 0.58263111\\\\\n",
       "  -0.09492517 & 0.73814214 & 0.22637053 & 0.86123248 & 0.47196085 & 0.8573555\\\\\n",
       "  0.81628715 & 0.35826793\\\\\n",
       "  0.54040429 & 0.77081203 & 0.1407701 & -0.00219324 & -0.39915203 & 0.75372673\\\\\n",
       "  0.36021688 & 0.08452321 & 0.3442493 & 0.95060498 & 0.06375605 & 0.48874138\\\\\n",
       "  0.63379662 & 0.27530697\\\\\n",
       "  0.96706502 & 0.22992694 & 0.53122129 & 0.07415922 & 0.61763221 & 0.87867057\\\\\n",
       "  0.64724702 & 0.04284637 & 0.92775231 & 0.46354298 & 0.61485419 & 0.95872563\\\\\n",
       "  0.5758385 & 0.83744384\\\\\n",
       "\\end{bmatrix} + \n",
       "\\begin{bmatrix}\n",
       "  0.03148306 & 0.48190839 & 0.32710787 & 0.47327932 & -0.63042949 & -0.01880852\\\\\n",
       "  0.45690055 & -0.05559342 & 0.28925824 & 0.91591789 & -0.10773371 & 0.61705642\\\\\n",
       "  0.53259433 & 0.25674748\\\\\n",
       "\\end{bmatrix}\\end{gather}"
      ],
      "text/plain": [
       "<IPython.core.display.Latex object>"
      ]
     },
     "metadata": {},
     "output_type": "display_data"
    },
    {
     "data": {
      "text/latex": [
       "Camada: 1"
      ],
      "text/plain": [
       "<IPython.core.display.Latex object>"
      ]
     },
     "metadata": {},
     "output_type": "display_data"
    },
    {
     "data": {
      "text/latex": [
       "Y = \\sigma(X)"
      ],
      "text/plain": [
       "<IPython.core.display.Latex object>"
      ]
     },
     "metadata": {},
     "output_type": "display_data"
    },
    {
     "data": {
      "text/latex": [
       "\\begin{gather}\n",
       "\\begin{bmatrix}\n",
       "  0.79113645 & 0.82581916 & 0.72181876 & 0.86817953 & 0.13363564 & 0.57235371\\\\\n",
       "  0.63290807 & 0.65223203 & 0.67989778 & 0.92287843 & 0.66694623 & 0.87363421\\\\\n",
       "  0.86582584 & 0.58592784\\\\\n",
       "\\end{bmatrix} = \\sigma(\n",
       "\\begin{bmatrix}\n",
       "  1.3317893 & 1.55628172 & 0.95350122 & 1.88495758 & -1.86918857 & 0.29146076\\\\\n",
       "  0.54471287 & 0.62886486 & 0.7533021 & 2.48211454 & 0.69440549 & 1.93348095\\\\\n",
       "  1.86454514 & 0.34715637\\\\\n",
       "\\end{bmatrix}) \\end{gather}"
      ],
      "text/plain": [
       "<IPython.core.display.Latex object>"
      ]
     },
     "metadata": {},
     "output_type": "display_data"
    },
    {
     "data": {
      "text/latex": [
       "Camada: 2"
      ],
      "text/plain": [
       "<IPython.core.display.Latex object>"
      ]
     },
     "metadata": {},
     "output_type": "display_data"
    },
    {
     "data": {
      "text/latex": [
       "Y = Xw + b"
      ],
      "text/plain": [
       "<IPython.core.display.Latex object>"
      ]
     },
     "metadata": {},
     "output_type": "display_data"
    },
    {
     "data": {
      "text/latex": [
       "\\begin{gather}\n",
       "\\begin{bmatrix}\n",
       "  -3.19012335 & -5.41921768 & -4.88840865 & -3.97122284 & -5.17817418 & -5.44226731\\\\\n",
       "  -5.72871696 & -5.20172035 & -4.76323991 & -6.15970267\\\\\n",
       "\\end{bmatrix} = \n",
       "\\begin{bmatrix}\n",
       "  0.79113645 & 0.82581916 & 0.72181876 & 0.86817953 & 0.13363564 & 0.57235371\\\\\n",
       "  0.63290807 & 0.65223203 & 0.67989778 & 0.92287843 & 0.66694623 & 0.87363421\\\\\n",
       "  0.86582584 & 0.58592784\\\\\n",
       "\\end{bmatrix} \\cdot \n",
       "\\begin{bmatrix}\n",
       "  -0.57449794 & -0.7620571 & -0.20787937 & -0.56822187 & -0.7669999 & -0.14255749\\\\\n",
       "  -0.92860562 & -0.43310151 & -0.76614039 & -0.36911943\\\\\n",
       "  -0.28362757 & -0.31693914 & -0.3652154 & -0.60490665 & -0.06592805 & -0.678967\\\\\n",
       "  -0.05069854 & -0.90378891 & -0.02973492 & -0.80912184\\\\\n",
       "  -0.49339748 & -0.18097521 & -0.53402827 & 0.10711009 & -0.8039029 & -0.38252125\\\\\n",
       "  -0.14248061 & -0.27467318 & -0.51933623 & -1.03913115\\\\\n",
       "  -0.56515751 & -0.44351114 & -0.06344638 & -0.18810404 & -0.87403004 & -0.83867835\\\\\n",
       "  -0.78127121 & -0.86796786 & -0.53859362 & -0.56481858\\\\\n",
       "  -0.43145561 & -0.56264449 & -0.29697677 & -0.53229264 & 0.07367362 & -0.47153051\\\\\n",
       "  -0.11237297 & -0.66972632 & 0.07896717 & -0.41336389\\\\\n",
       "  -0.18460598 & -0.65696009 & -0.80205204 & -0.31887419 & -0.71031172 & -0.6372992\\\\\n",
       "  -0.18129015 & -0.41031726 & -0.6576052 & -0.1994855\\\\\n",
       "  0.11095361 & -0.44645924 & -0.52608971 & -0.07324882 & -0.43439602 & -0.17544964\\\\\n",
       "  -0.59011054 & -0.3595894 & -0.43065382 & -0.52442726\\\\\n",
       "  -0.03736554 & -0.31161402 & -0.85060387 & 0.01890375 & -0.42445387 & -0.25174719\\\\\n",
       "  -0.69915739 & -0.43195464 & -0.83095834 & -0.36081423\\\\\n",
       "  -0.28492557 & -0.8448437 & -0.85144747 & -0.15511579 & 0.04559916 & -0.78360124\\\\\n",
       "  -0.5646394 & 0.00932517 & -0.1030307 & -0.40835261\\\\\n",
       "  -0.53237156 & -0.86911518 & -0.15285859 & -0.45246832 & -0.14698231 & -0.26558947\\\\\n",
       "  -0.62718479 & -0.12572181 & -0.65417364 & -1.06991853\\\\\n",
       "  -0.67345802 & -0.05285341 & -0.72028387 & -0.43454806 & -0.41654183 & -0.98869792\\\\\n",
       "  -0.09754598 & -0.64143119 & -0.33838882 & -0.29179544\\\\\n",
       "  -0.43298464 & -0.47043409 & -0.49646753 & -0.21642828 & -0.64248616 & -0.27753883\\\\\n",
       "  -0.8878257 & -0.72454653 & -0.43293315 & -1.01010427\\\\\n",
       "  -0.01061068 & -0.44344338 & -0.20034017 & -0.73109881 & -0.62370624 & -0.60273363\\\\\n",
       "  -0.44529064 & -0.68192877 & -0.69683342 & -0.55840321\\\\\n",
       "  -0.0475247 & -0.67096556 & -0.25720054 & -0.64695736 & -0.41569233 & -1.04976467\\\\\n",
       "  -0.73542532 & -0.39615227 & 0.11475676 & -0.28566789\\\\\n",
       "\\end{bmatrix} + \n",
       "\\begin{bmatrix}\n",
       "  0.01237308 & -0.50208348 & -0.63704028 & -0.63446203 & -0.50202188 & -0.24483163\\\\\n",
       "  -0.60293333 & -0.33420525 & -0.29594555 & -0.22942\\\\\n",
       "\\end{bmatrix}\\end{gather}"
      ],
      "text/plain": [
       "<IPython.core.display.Latex object>"
      ]
     },
     "metadata": {},
     "output_type": "display_data"
    },
    {
     "data": {
      "text/latex": [
       "f_{custo}(\n",
       "\\begin{bmatrix}\n",
       "  0 & 1 & 0 & 0 & 0 & 0 & 0 & 0 & 0 & 0\\\\\n",
       "\\end{bmatrix},\n",
       "\\begin{bmatrix}\n",
       "  -3.19012335 & -5.41921768 & -4.88840865 & -3.97122284 & -5.17817418 & -5.44226731\\\\\n",
       "  -5.72871696 & -5.20172035 & -4.76323991 & -6.15970267\\\\\n",
       "\\end{bmatrix}) = \n",
       "\\begin{bmatrix}\n",
       "  26.79886380005525\\\\\n",
       "\\end{bmatrix}"
      ],
      "text/plain": [
       "<IPython.core.display.Latex object>"
      ]
     },
     "metadata": {},
     "output_type": "display_data"
    },
    {
     "data": {
      "text/latex": [
       "Camada: 2"
      ],
      "text/plain": [
       "<IPython.core.display.Latex object>"
      ]
     },
     "metadata": {},
     "output_type": "display_data"
    },
    {
     "data": {
      "text/latex": [
       "\\nabla f_{custo} = \\frac{\\partial E}{\\partial W} = \n",
       "\\begin{bmatrix}\n",
       "  -0.63802467 & -1.28384354 & -0.97768173 & -0.79424457 & -1.03563484 & -1.08845346\\\\\n",
       "  -1.14574339 & -1.04034407 & -0.95264798 & -1.23194053\\\\\n",
       "\\end{bmatrix} \\cdot \n",
       "\\begin{bmatrix}\n",
       "  -0.57449794 & -0.28362757 & -0.49339748 & -0.56515751 & -0.43145561 & -0.18460598\\\\\n",
       "  0.11095361 & -0.03736554 & -0.28492557 & -0.53237156 & -0.67345802 & -0.43298464\\\\\n",
       "  -0.01061068 & -0.0475247\\\\\n",
       "  -0.7620571 & -0.31693914 & -0.18097521 & -0.44351114 & -0.56264449 & -0.65696009\\\\\n",
       "  -0.44645924 & -0.31161402 & -0.8448437 & -0.86911518 & -0.05285341 & -0.47043409\\\\\n",
       "  -0.44344338 & -0.67096556\\\\\n",
       "  -0.20787937 & -0.3652154 & -0.53402827 & -0.06344638 & -0.29697677 & -0.80205204\\\\\n",
       "  -0.52608971 & -0.85060387 & -0.85144747 & -0.15285859 & -0.72028387 & -0.49646753\\\\\n",
       "  -0.20034017 & -0.25720054\\\\\n",
       "  -0.56822187 & -0.60490665 & 0.10711009 & -0.18810404 & -0.53229264 & -0.31887419\\\\\n",
       "  -0.07324882 & 0.01890375 & -0.15511579 & -0.45246832 & -0.43454806 & -0.21642828\\\\\n",
       "  -0.73109881 & -0.64695736\\\\\n",
       "  -0.7669999 & -0.06592805 & -0.8039029 & -0.87403004 & 0.07367362 & -0.71031172\\\\\n",
       "  -0.43439602 & -0.42445387 & 0.04559916 & -0.14698231 & -0.41654183 & -0.64248616\\\\\n",
       "  -0.62370624 & -0.41569233\\\\\n",
       "  -0.14255749 & -0.678967 & -0.38252125 & -0.83867835 & -0.47153051 & -0.6372992\\\\\n",
       "  -0.17544964 & -0.25174719 & -0.78360124 & -0.26558947 & -0.98869792 & -0.27753883\\\\\n",
       "  -0.60273363 & -1.04976467\\\\\n",
       "  -0.92860562 & -0.05069854 & -0.14248061 & -0.78127121 & -0.11237297 & -0.18129015\\\\\n",
       "  -0.59011054 & -0.69915739 & -0.5646394 & -0.62718479 & -0.09754598 & -0.8878257\\\\\n",
       "  -0.44529064 & -0.73542532\\\\\n",
       "  -0.43310151 & -0.90378891 & -0.27467318 & -0.86796786 & -0.66972632 & -0.41031726\\\\\n",
       "  -0.3595894 & -0.43195464 & 0.00932517 & -0.12572181 & -0.64143119 & -0.72454653\\\\\n",
       "  -0.68192877 & -0.39615227\\\\\n",
       "  -0.76614039 & -0.02973492 & -0.51933623 & -0.53859362 & 0.07896717 & -0.6576052\\\\\n",
       "  -0.43065382 & -0.83095834 & -0.1030307 & -0.65417364 & -0.33838882 & -0.43293315\\\\\n",
       "  -0.69683342 & 0.11475676\\\\\n",
       "  -0.36911943 & -0.80912184 & -1.03913115 & -0.56481858 & -0.41336389 & -0.1994855\\\\\n",
       "  -0.52442726 & -0.36081423 & -0.40835261 & -1.06991853 & -0.29179544 & -1.01010427\\\\\n",
       "  -0.55840321 & -0.28566789\\\\\n",
       "\\end{bmatrix} = \n",
       "\\begin{bmatrix}\n",
       "  5.64806557 & 4.25612712 & 4.45698135 & 5.96648719 & 3.40719437 & 4.9347306\\\\\n",
       "  3.8222995 & 4.44065262 & 4.26621918 & 5.1962534 & 4.51533292 & 5.93279141\\\\\n",
       "  5.22598725 & 4.72751122\\\\\n",
       "\\end{bmatrix}"
      ],
      "text/plain": [
       "<IPython.core.display.Latex object>"
      ]
     },
     "metadata": {},
     "output_type": "display_data"
    },
    {
     "data": {
      "text/latex": [
       "W = W - \\lambda (X \\cdot \\nabla f_{custo})"
      ],
      "text/plain": [
       "<IPython.core.display.Latex object>"
      ]
     },
     "metadata": {},
     "output_type": "display_data"
    },
    {
     "data": {
      "text/latex": [
       "\\begin{gather}\n",
       "\\begin{bmatrix}\n",
       "  -0.22116274 & -0.05107031 & 0.33355639 & -0.12837279 & -0.19346998 & 0.46022316\\\\\n",
       "  -0.29409807 & 0.14303637 & -0.23856821 & 0.31312371\\\\\n",
       "  0.08519753 & 0.42521668 & 0.19995641 & -0.14577499 & 0.53274491 & -0.04976099\\\\\n",
       "  0.61162525 & -0.30239367 & 0.52096554 & -0.09696978\\\\\n",
       "  -0.17102076 & 0.46771644 & -0.04003196 & 0.50842052 & -0.28062445 & 0.16744504\\\\\n",
       "  0.43643274 & 0.25098472 & -0.03798881 & -0.4166647\\\\\n",
       "  -0.17741354 & 0.33671353 & 0.5307159 & 0.29457878 & -0.24464816 & -0.17719724\\\\\n",
       "  -0.08497354 & -0.23572406 & 0.04035501 & 0.18386331\\\\\n",
       "  -0.37177163 & -0.44254741 & -0.20551958 & -0.45799508 & 0.17055202 & -0.36971119\\\\\n",
       "  -0.00519446 & -0.57240739 & 0.16808257 & -0.29812207\\\\\n",
       "  0.07101708 & -0.14259126 & -0.4103462 & -0.00066201 & -0.29538711 & -0.20121293\\\\\n",
       "  0.27774919 & 0.0064941 & -0.27592907 & 0.29408852\\\\\n",
       "  0.39362128 & 0.12232921 & -0.09294185 & 0.27862983 & 0.02442713 & 0.30677405\\\\\n",
       "  -0.08250537 & 0.10132011 & -0.0085968 & 0.02136632\\\\\n",
       "  0.25393255 & 0.27454069 & -0.40423113 & 0.38152597 & 0.04837808 & 0.24519976\\\\\n",
       "  -0.17605401 & 0.04302737 & -0.39601507 & 0.20164352\\\\\n",
       "  0.01872852 & -0.23382604 & -0.38614092 & 0.22288779 & 0.53848725 & -0.26557527\\\\\n",
       "  -0.01934752 & 0.50445451 & 0.35036158 & 0.17796293\\\\\n",
       "  -0.12019812 & -0.03973313 & 0.47873838 & 0.06062551 & 0.52205323 & 0.43756769\\\\\n",
       "  0.11298252 & 0.54635596 & -0.03874885 & -0.27406659\\\\\n",
       "  -0.37558831 & 0.54652482 & -0.26384107 & -0.06374516 & 0.0669571 & -0.48053997\\\\\n",
       "  0.43735849 & -0.1557337 & 0.10636667 & 0.28335122\\\\\n",
       "  -0.04280452 & 0.31469266 & 0.10142781 & 0.26928717 & -0.00914995 & 0.38809829\\\\\n",
       "  -0.18715326 & -0.08833041 & 0.14965296 & -0.25671849\\\\\n",
       "  0.3760821 & 0.33466606 & 0.3922113 & -0.24972458 & 0.00396934 & 0.05695417\\\\\n",
       "  0.24911932 & -0.05139903 & -0.11945435 & 0.18824896\\\\\n",
       "  0.21416079 & -0.14439779 & 0.14379512 & -0.32119835 & 0.00907277 & -0.60333604\\\\\n",
       "  -0.26549926 & 0.03054431 & 0.50548484 & 0.21961189\\\\\n",
       "\\end{bmatrix} = \n",
       "\\begin{bmatrix}\n",
       "  -0.57449794 & -0.7620571 & -0.20787937 & -0.56822187 & -0.7669999 & -0.14255749\\\\\n",
       "  -0.92860562 & -0.43310151 & -0.76614039 & -0.36911943\\\\\n",
       "  -0.28362757 & -0.31693914 & -0.3652154 & -0.60490665 & -0.06592805 & -0.678967\\\\\n",
       "  -0.05069854 & -0.90378891 & -0.02973492 & -0.80912184\\\\\n",
       "  -0.49339748 & -0.18097521 & -0.53402827 & 0.10711009 & -0.8039029 & -0.38252125\\\\\n",
       "  -0.14248061 & -0.27467318 & -0.51933623 & -1.03913115\\\\\n",
       "  -0.56515751 & -0.44351114 & -0.06344638 & -0.18810404 & -0.87403004 & -0.83867835\\\\\n",
       "  -0.78127121 & -0.86796786 & -0.53859362 & -0.56481858\\\\\n",
       "  -0.43145561 & -0.56264449 & -0.29697677 & -0.53229264 & 0.07367362 & -0.47153051\\\\\n",
       "  -0.11237297 & -0.66972632 & 0.07896717 & -0.41336389\\\\\n",
       "  -0.18460598 & -0.65696009 & -0.80205204 & -0.31887419 & -0.71031172 & -0.6372992\\\\\n",
       "  -0.18129015 & -0.41031726 & -0.6576052 & -0.1994855\\\\\n",
       "  0.11095361 & -0.44645924 & -0.52608971 & -0.07324882 & -0.43439602 & -0.17544964\\\\\n",
       "  -0.59011054 & -0.3595894 & -0.43065382 & -0.52442726\\\\\n",
       "  -0.03736554 & -0.31161402 & -0.85060387 & 0.01890375 & -0.42445387 & -0.25174719\\\\\n",
       "  -0.69915739 & -0.43195464 & -0.83095834 & -0.36081423\\\\\n",
       "  -0.28492557 & -0.8448437 & -0.85144747 & -0.15511579 & 0.04559916 & -0.78360124\\\\\n",
       "  -0.5646394 & 0.00932517 & -0.1030307 & -0.40835261\\\\\n",
       "  -0.53237156 & -0.86911518 & -0.15285859 & -0.45246832 & -0.14698231 & -0.26558947\\\\\n",
       "  -0.62718479 & -0.12572181 & -0.65417364 & -1.06991853\\\\\n",
       "  -0.67345802 & -0.05285341 & -0.72028387 & -0.43454806 & -0.41654183 & -0.98869792\\\\\n",
       "  -0.09754598 & -0.64143119 & -0.33838882 & -0.29179544\\\\\n",
       "  -0.43298464 & -0.47043409 & -0.49646753 & -0.21642828 & -0.64248616 & -0.27753883\\\\\n",
       "  -0.8878257 & -0.72454653 & -0.43293315 & -1.01010427\\\\\n",
       "  -0.01061068 & -0.44344338 & -0.20034017 & -0.73109881 & -0.62370624 & -0.60273363\\\\\n",
       "  -0.44529064 & -0.68192877 & -0.69683342 & -0.55840321\\\\\n",
       "  -0.0475247 & -0.67096556 & -0.25720054 & -0.64695736 & -0.41569233 & -1.04976467\\\\\n",
       "  -0.73542532 & -0.39615227 & 0.11475676 & -0.28566789\\\\\n",
       "\\end{bmatrix} - 0.7\n",
       "\\begin{bmatrix}\n",
       "  0.79113645\\\\\n",
       "  0.82581916\\\\\n",
       "  0.72181876\\\\\n",
       "  0.86817953\\\\\n",
       "  0.13363564\\\\\n",
       "  0.57235371\\\\\n",
       "  0.63290807\\\\\n",
       "  0.65223203\\\\\n",
       "  0.67989778\\\\\n",
       "  0.92287843\\\\\n",
       "  0.66694623\\\\\n",
       "  0.87363421\\\\\n",
       "  0.86582584\\\\\n",
       "  0.58592784\\\\\n",
       "\\end{bmatrix} \\cdot \n",
       "\\begin{bmatrix}\n",
       "  -0.63802467 & -1.28384354 & -0.97768173 & -0.79424457 & -1.03563484 & -1.08845346\\\\\n",
       "  -1.14574339 & -1.04034407 & -0.95264798 & -1.23194053\\\\\n",
       "\\end{bmatrix}\\end{gather}"
      ],
      "text/plain": [
       "<IPython.core.display.Latex object>"
      ]
     },
     "metadata": {},
     "output_type": "display_data"
    },
    {
     "data": {
      "text/latex": [
       "Camada: 1"
      ],
      "text/plain": [
       "<IPython.core.display.Latex object>"
      ]
     },
     "metadata": {},
     "output_type": "display_data"
    },
    {
     "data": {
      "text/latex": [
       "\\nabla = \\frac{\\partial E}{\\partial Y} \\frac{\\partial Y}{\\partial X}"
      ],
      "text/plain": [
       "<IPython.core.display.Latex object>"
      ]
     },
     "metadata": {},
     "output_type": "display_data"
    },
    {
     "data": {
      "text/latex": [
       "\\begin{gather}\n",
       "\\begin{bmatrix}\n",
       "  0.93328391 & 0.61220931 & 0.89494599 & 0.68282768 & 0.39447527 & 1.20784904\\\\\n",
       "  0.88805565 & 1.00725285 & 0.92848624 & 0.36983726 & 1.00298618 & 0.65496521\\\\\n",
       "  0.60711053 & 1.14697179\\\\\n",
       "\\end{bmatrix} = \n",
       "\\begin{bmatrix}\n",
       "  5.64806557 & 4.25612712 & 4.45698135 & 5.96648719 & 3.40719437 & 4.9347306\\\\\n",
       "  3.8222995 & 4.44065262 & 4.26621918 & 5.1962534 & 4.51533292 & 5.93279141\\\\\n",
       "  5.22598725 & 4.72751122\\\\\n",
       "\\end{bmatrix} \\cdot  \\sigma^{'}(\n",
       "\\begin{bmatrix}\n",
       "  1.3317893 & 1.55628172 & 0.95350122 & 1.88495758 & -1.86918857 & 0.29146076\\\\\n",
       "  0.54471287 & 0.62886486 & 0.7533021 & 2.48211454 & 0.69440549 & 1.93348095\\\\\n",
       "  1.86454514 & 0.34715637\\\\\n",
       "\\end{bmatrix}) \\end{gather}"
      ],
      "text/plain": [
       "<IPython.core.display.Latex object>"
      ]
     },
     "metadata": {},
     "output_type": "display_data"
    },
    {
     "data": {
      "text/latex": [
       "Camada: 0"
      ],
      "text/plain": [
       "<IPython.core.display.Latex object>"
      ]
     },
     "metadata": {},
     "output_type": "display_data"
    },
    {
     "data": {
      "text/latex": [
       "\\nabla f_{custo} = \\frac{\\partial E}{\\partial W} = \n",
       "\\begin{bmatrix}\n",
       "  0.93328391 & 0.61220931 & 0.89494599 & 0.68282768 & 0.39447527 & 1.20784904\\\\\n",
       "  0.88805565 & 1.00725285 & 0.92848624 & 0.36983726 & 1.00298618 & 0.65496521\\\\\n",
       "  0.60711053 & 1.14697179\\\\\n",
       "\\end{bmatrix} \\cdot \n",
       "\\begin{bmatrix}\n",
       "  0.61072164 & 0.6154367 & 0.68486953 & 0.36437245 & -0.02681808 & 0.54040429\\\\\n",
       "  0.96706502\\\\\n",
       "  0.18959013 & 0.24196304 & 0.83241029 & 0.06099897 & 0.63739858 & 0.77081203\\\\\n",
       "  0.22992694\\\\\n",
       "  0.86308364 & 0.30505115 & 0.3213422 & 0.74683777 & 0.17747788 & 0.1407701\\\\\n",
       "  0.53122129\\\\\n",
       "  -0.09220279 & 0.55064727 & 0.861031 & 0.22886549 & 0.8877547 & -0.00219324\\\\\n",
       "  0.07415922\\\\\n",
       "  -0.58446624 & -0.68978083 & -0.54897825 & -0.3675389 & -0.5306332 & -0.39915203\\\\\n",
       "  0.61763221\\\\\n",
       "  0.26192539 & 0.46635406 & -0.15608478 & -0.15145765 & 0.58263111 & 0.75372673\\\\\n",
       "  0.87867057\\\\\n",
       "  -0.01298283 & 0.19222345 & -0.10441112 & 0.02077652 & -0.09492517 & 0.36021688\\\\\n",
       "  0.64724702\\\\\n",
       "  0.58606829 & 0.74725621 & -0.06279793 & 0.55512977 & 0.73814214 & 0.08452321\\\\\n",
       "  0.04284637\\\\\n",
       "  0.03820026 & 0.01793881 & 0.44610505 & -0.06282214 & 0.22637053 & 0.3442493\\\\\n",
       "  0.92775231\\\\\n",
       "  0.19843547 & 0.65635109 & 0.90984556 & 0.494895 & 0.86123248 & 0.95060498\\\\\n",
       "  0.46354298\\\\\n",
       "  0.71607001 & 0.3750051 & 0.42713411 & 0.46103054 & 0.47196085 & 0.06375605\\\\\n",
       "  0.61485419\\\\\n",
       "  0.20590479 & 0.50109161 & 0.81533292 & 0.42178104 & 0.8573555 & 0.48874138\\\\\n",
       "  0.95872563\\\\\n",
       "  0.95367227 & 0.80266289 & 0.52928792 & 0.02981142 & 0.81628715 & 0.63379662\\\\\n",
       "  0.5758385\\\\\n",
       "  -0.17278619 & 0.31374353 & -0.22333465 & 0.53740662 & 0.35826793 & 0.27530697\\\\\n",
       "  0.83744384\\\\\n",
       "\\end{bmatrix} = \n",
       "\\begin{bmatrix}\n",
       "  3.40282812 & 4.3969572 & 3.24154451 & 2.94959535 & 4.75392051 & 4.01450319\\\\\n",
       "  7.07983751\\\\\n",
       "\\end{bmatrix}"
      ],
      "text/plain": [
       "<IPython.core.display.Latex object>"
      ]
     },
     "metadata": {},
     "output_type": "display_data"
    },
    {
     "data": {
      "text/latex": [
       "W = W - \\lambda (X \\cdot \\nabla f_{custo})"
      ],
      "text/plain": [
       "<IPython.core.display.Latex object>"
      ]
     },
     "metadata": {},
     "output_type": "display_data"
    },
    {
     "data": {
      "text/latex": [
       "\\begin{gather}\n",
       "\\begin{bmatrix}\n",
       "  0.61072164 & 0.18959013 & 0.86308364 & -0.09220279 & -0.58446624 & 0.26192539\\\\\n",
       "  -0.01298283 & 0.58606829 & 0.03820026 & 0.19843547 & 0.71607001 & 0.20590479\\\\\n",
       "  0.95367227 & -0.17278619\\\\\n",
       "  -0.03786203 & -0.18658348 & -0.32141104 & 0.07266789 & -0.96591352 & -0.37914027\\\\\n",
       "  -0.42941551 & 0.04217922 & -0.63200155 & 0.39746501 & -0.32708523 & 0.04261596\\\\\n",
       "  0.37768552 & -0.48913672\\\\\n",
       "  0.0315708 & 0.40386376 & -0.30511999 & 0.38305162 & -0.82511094 & -1.00157911\\\\\n",
       "  -0.72605008 & -0.76787493 & -0.20383532 & 0.65095947 & -0.27495622 & 0.35685727\\\\\n",
       "  0.10431055 & -1.0262149\\\\\n",
       "  0.36437245 & 0.06099897 & 0.74683777 & 0.22886549 & -0.3675389 & -0.15145765\\\\\n",
       "  0.02077652 & 0.55512977 & -0.06282214 & 0.494895 & 0.46103054 & 0.42178104\\\\\n",
       "  0.02981142 & 0.53740662\\\\\n",
       "  -0.02681808 & 0.63739858 & 0.17747788 & 0.8877547 & -0.5306332 & 0.58263111\\\\\n",
       "  -0.09492517 & 0.73814214 & 0.22637053 & 0.86123248 & 0.47196085 & 0.8573555\\\\\n",
       "  0.81628715 & 0.35826793\\\\\n",
       "  0.54040429 & 0.77081203 & 0.1407701 & -0.00219324 & -0.39915203 & 0.75372673\\\\\n",
       "  0.36021688 & 0.08452321 & 0.3442493 & 0.95060498 & 0.06375605 & 0.48874138\\\\\n",
       "  0.63379662 & 0.27530697\\\\\n",
       "  0.96706502 & 0.22992694 & 0.53122129 & 0.07415922 & 0.61763221 & 0.87867057\\\\\n",
       "  0.64724702 & 0.04284637 & 0.92775231 & 0.46354298 & 0.61485419 & 0.95872563\\\\\n",
       "  0.5758385 & 0.83744384\\\\\n",
       "\\end{bmatrix} = \n",
       "\\begin{bmatrix}\n",
       "  0.61072164 & 0.18959013 & 0.86308364 & -0.09220279 & -0.58446624 & 0.26192539\\\\\n",
       "  -0.01298283 & 0.58606829 & 0.03820026 & 0.19843547 & 0.71607001 & 0.20590479\\\\\n",
       "  0.95367227 & -0.17278619\\\\\n",
       "  0.6154367 & 0.24196304 & 0.30505115 & 0.55064727 & -0.68978083 & 0.46635406\\\\\n",
       "  0.19222345 & 0.74725621 & 0.01793881 & 0.65635109 & 0.3750051 & 0.50109161\\\\\n",
       "  0.80266289 & 0.31374353\\\\\n",
       "  0.68486953 & 0.83241029 & 0.3213422 & 0.861031 & -0.54897825 & -0.15608478\\\\\n",
       "  -0.10441112 & -0.06279793 & 0.44610505 & 0.90984556 & 0.42713411 & 0.81533292\\\\\n",
       "  0.52928792 & -0.22333465\\\\\n",
       "  0.36437245 & 0.06099897 & 0.74683777 & 0.22886549 & -0.3675389 & -0.15145765\\\\\n",
       "  0.02077652 & 0.55512977 & -0.06282214 & 0.494895 & 0.46103054 & 0.42178104\\\\\n",
       "  0.02981142 & 0.53740662\\\\\n",
       "  -0.02681808 & 0.63739858 & 0.17747788 & 0.8877547 & -0.5306332 & 0.58263111\\\\\n",
       "  -0.09492517 & 0.73814214 & 0.22637053 & 0.86123248 & 0.47196085 & 0.8573555\\\\\n",
       "  0.81628715 & 0.35826793\\\\\n",
       "  0.54040429 & 0.77081203 & 0.1407701 & -0.00219324 & -0.39915203 & 0.75372673\\\\\n",
       "  0.36021688 & 0.08452321 & 0.3442493 & 0.95060498 & 0.06375605 & 0.48874138\\\\\n",
       "  0.63379662 & 0.27530697\\\\\n",
       "  0.96706502 & 0.22992694 & 0.53122129 & 0.07415922 & 0.61763221 & 0.87867057\\\\\n",
       "  0.64724702 & 0.04284637 & 0.92775231 & 0.46354298 & 0.61485419 & 0.95872563\\\\\n",
       "  0.5758385 & 0.83744384\\\\\n",
       "\\end{bmatrix} - 0.7\n",
       "\\begin{bmatrix}\n",
       "  0\\\\\n",
       "  1\\\\\n",
       "  1\\\\\n",
       "  0\\\\\n",
       "  0\\\\\n",
       "  0\\\\\n",
       "  0\\\\\n",
       "\\end{bmatrix} \\cdot \n",
       "\\begin{bmatrix}\n",
       "  0.93328391 & 0.61220931 & 0.89494599 & 0.68282768 & 0.39447527 & 1.20784904\\\\\n",
       "  0.88805565 & 1.00725285 & 0.92848624 & 0.36983726 & 1.00298618 & 0.65496521\\\\\n",
       "  0.60711053 & 1.14697179\\\\\n",
       "\\end{bmatrix}\\end{gather}"
      ],
      "text/plain": [
       "<IPython.core.display.Latex object>"
      ]
     },
     "metadata": {},
     "output_type": "display_data"
    },
    {
     "data": {
      "text/latex": [
       "Camada: 0"
      ],
      "text/plain": [
       "<IPython.core.display.Latex object>"
      ]
     },
     "metadata": {},
     "output_type": "display_data"
    },
    {
     "data": {
      "text/latex": [
       "Y = Xw + b"
      ],
      "text/plain": [
       "<IPython.core.display.Latex object>"
      ]
     },
     "metadata": {},
     "output_type": "display_data"
    },
    {
     "data": {
      "text/latex": [
       "\\begin{gather}\n",
       "\\begin{bmatrix}\n",
       "  1.25566332 & 0.98469301 & 1.69785522 & 1.16654445 & -2.73748183 & 0.3283263\\\\\n",
       "  -0.03403837 & 1.20369537 & 0.13681728 & 3.07260274 & 1.12700632 & 2.6449637\\\\\n",
       "  2.86091181 & 0.52506271\\\\\n",
       "\\end{bmatrix} = \n",
       "\\begin{bmatrix}\n",
       "  1 & 1 & 0 & 1 & 1 & 0 & 1\\\\\n",
       "\\end{bmatrix} \\cdot \n",
       "\\begin{bmatrix}\n",
       "  0.61072164 & 0.18959013 & 0.86308364 & -0.09220279 & -0.58446624 & 0.26192539\\\\\n",
       "  -0.01298283 & 0.58606829 & 0.03820026 & 0.19843547 & 0.71607001 & 0.20590479\\\\\n",
       "  0.95367227 & -0.17278619\\\\\n",
       "  -0.03786203 & -0.18658348 & -0.32141104 & 0.07266789 & -0.96591352 & -0.37914027\\\\\n",
       "  -0.42941551 & 0.04217922 & -0.63200155 & 0.39746501 & -0.32708523 & 0.04261596\\\\\n",
       "  0.37768552 & -0.48913672\\\\\n",
       "  0.0315708 & 0.40386376 & -0.30511999 & 0.38305162 & -0.82511094 & -1.00157911\\\\\n",
       "  -0.72605008 & -0.76787493 & -0.20383532 & 0.65095947 & -0.27495622 & 0.35685727\\\\\n",
       "  0.10431055 & -1.0262149\\\\\n",
       "  0.36437245 & 0.06099897 & 0.74683777 & 0.22886549 & -0.3675389 & -0.15145765\\\\\n",
       "  0.02077652 & 0.55512977 & -0.06282214 & 0.494895 & 0.46103054 & 0.42178104\\\\\n",
       "  0.02981142 & 0.53740662\\\\\n",
       "  -0.02681808 & 0.63739858 & 0.17747788 & 0.8877547 & -0.5306332 & 0.58263111\\\\\n",
       "  -0.09492517 & 0.73814214 & 0.22637053 & 0.86123248 & 0.47196085 & 0.8573555\\\\\n",
       "  0.81628715 & 0.35826793\\\\\n",
       "  0.54040429 & 0.77081203 & 0.1407701 & -0.00219324 & -0.39915203 & 0.75372673\\\\\n",
       "  0.36021688 & 0.08452321 & 0.3442493 & 0.95060498 & 0.06375605 & 0.48874138\\\\\n",
       "  0.63379662 & 0.27530697\\\\\n",
       "  0.96706502 & 0.22992694 & 0.53122129 & 0.07415922 & 0.61763221 & 0.87867057\\\\\n",
       "  0.64724702 & 0.04284637 & 0.92775231 & 0.46354298 & 0.61485419 & 0.95872563\\\\\n",
       "  0.5758385 & 0.83744384\\\\\n",
       "\\end{bmatrix} + \n",
       "\\begin{bmatrix}\n",
       "  -0.62181568 & 0.05336187 & -0.29935432 & -0.00470006 & -0.90656219 & -0.86430284\\\\\n",
       "  -0.16473841 & -0.76067042 & -0.36068213 & 0.6570318 & -0.80982404 & 0.15858077\\\\\n",
       "  0.10761696 & -0.54613277\\\\\n",
       "\\end{bmatrix}\\end{gather}"
      ],
      "text/plain": [
       "<IPython.core.display.Latex object>"
      ]
     },
     "metadata": {},
     "output_type": "display_data"
    },
    {
     "data": {
      "text/latex": [
       "Camada: 1"
      ],
      "text/plain": [
       "<IPython.core.display.Latex object>"
      ]
     },
     "metadata": {},
     "output_type": "display_data"
    },
    {
     "data": {
      "text/latex": [
       "Y = \\sigma(X)"
      ],
      "text/plain": [
       "<IPython.core.display.Latex object>"
      ]
     },
     "metadata": {},
     "output_type": "display_data"
    },
    {
     "data": {
      "text/latex": [
       "\\begin{gather}\n",
       "\\begin{bmatrix}\n",
       "  0.77827867 & 0.72803842 & 0.84525441 & 0.76251984 & 0.06079754 & 0.58135208\\\\\n",
       "  0.49149123 & 0.76918152 & 0.53415106 & 0.95574838 & 0.755286 & 0.9336999\\\\\n",
       "  0.94588 & 0.62833083\\\\\n",
       "\\end{bmatrix} = \\sigma(\n",
       "\\begin{bmatrix}\n",
       "  1.25566332 & 0.98469301 & 1.69785522 & 1.16654445 & -2.73748183 & 0.3283263\\\\\n",
       "  -0.03403837 & 1.20369537 & 0.13681728 & 3.07260274 & 1.12700632 & 2.6449637\\\\\n",
       "  2.86091181 & 0.52506271\\\\\n",
       "\\end{bmatrix}) \\end{gather}"
      ],
      "text/plain": [
       "<IPython.core.display.Latex object>"
      ]
     },
     "metadata": {},
     "output_type": "display_data"
    },
    {
     "data": {
      "text/latex": [
       "Camada: 2"
      ],
      "text/plain": [
       "<IPython.core.display.Latex object>"
      ]
     },
     "metadata": {},
     "output_type": "display_data"
    },
    {
     "data": {
      "text/latex": [
       "Y = Xw + b"
      ],
      "text/plain": [
       "<IPython.core.display.Latex object>"
      ]
     },
     "metadata": {},
     "output_type": "display_data"
    },
    {
     "data": {
      "text/latex": [
       "\\begin{gather}\n",
       "\\begin{bmatrix}\n",
       "  0.53829243 & 2.2495802 & 0.82375825 & 0.71427119 & 0.7623908 & 0.99593047\\\\\n",
       "  1.026822 & 0.93158419 & 0.67895635 & 1.03597903\\\\\n",
       "\\end{bmatrix} = \n",
       "\\begin{bmatrix}\n",
       "  0.77827867 & 0.72803842 & 0.84525441 & 0.76251984 & 0.06079754 & 0.58135208\\\\\n",
       "  0.49149123 & 0.76918152 & 0.53415106 & 0.95574838 & 0.755286 & 0.9336999\\\\\n",
       "  0.94588 & 0.62833083\\\\\n",
       "\\end{bmatrix} \\cdot \n",
       "\\begin{bmatrix}\n",
       "  -0.22116274 & -0.05107031 & 0.33355639 & -0.12837279 & -0.19346998 & 0.46022316\\\\\n",
       "  -0.29409807 & 0.14303637 & -0.23856821 & 0.31312371\\\\\n",
       "  0.08519753 & 0.42521668 & 0.19995641 & -0.14577499 & 0.53274491 & -0.04976099\\\\\n",
       "  0.61162525 & -0.30239367 & 0.52096554 & -0.09696978\\\\\n",
       "  -0.17102076 & 0.46771644 & -0.04003196 & 0.50842052 & -0.28062445 & 0.16744504\\\\\n",
       "  0.43643274 & 0.25098472 & -0.03798881 & -0.4166647\\\\\n",
       "  -0.17741354 & 0.33671353 & 0.5307159 & 0.29457878 & -0.24464816 & -0.17719724\\\\\n",
       "  -0.08497354 & -0.23572406 & 0.04035501 & 0.18386331\\\\\n",
       "  -0.37177163 & -0.44254741 & -0.20551958 & -0.45799508 & 0.17055202 & -0.36971119\\\\\n",
       "  -0.00519446 & -0.57240739 & 0.16808257 & -0.29812207\\\\\n",
       "  0.07101708 & -0.14259126 & -0.4103462 & -0.00066201 & -0.29538711 & -0.20121293\\\\\n",
       "  0.27774919 & 0.0064941 & -0.27592907 & 0.29408852\\\\\n",
       "  0.39362128 & 0.12232921 & -0.09294185 & 0.27862983 & 0.02442713 & 0.30677405\\\\\n",
       "  -0.08250537 & 0.10132011 & -0.0085968 & 0.02136632\\\\\n",
       "  0.25393255 & 0.27454069 & -0.40423113 & 0.38152597 & 0.04837808 & 0.24519976\\\\\n",
       "  -0.17605401 & 0.04302737 & -0.39601507 & 0.20164352\\\\\n",
       "  0.01872852 & -0.23382604 & -0.38614092 & 0.22288779 & 0.53848725 & -0.26557527\\\\\n",
       "  -0.01934752 & 0.50445451 & 0.35036158 & 0.17796293\\\\\n",
       "  -0.12019812 & -0.03973313 & 0.47873838 & 0.06062551 & 0.52205323 & 0.43756769\\\\\n",
       "  0.11298252 & 0.54635596 & -0.03874885 & -0.27406659\\\\\n",
       "  -0.37558831 & 0.54652482 & -0.26384107 & -0.06374516 & 0.0669571 & -0.48053997\\\\\n",
       "  0.43735849 & -0.1557337 & 0.10636667 & 0.28335122\\\\\n",
       "  -0.04280452 & 0.31469266 & 0.10142781 & 0.26928717 & -0.00914995 & 0.38809829\\\\\n",
       "  -0.18715326 & -0.08833041 & 0.14965296 & -0.25671849\\\\\n",
       "  0.3760821 & 0.33466606 & 0.3922113 & -0.24972458 & 0.00396934 & 0.05695417\\\\\n",
       "  0.24911932 & -0.05139903 & -0.11945435 & 0.18824896\\\\\n",
       "  0.21416079 & -0.14439779 & 0.14379512 & -0.32119835 & 0.00907277 & -0.60333604\\\\\n",
       "  -0.26549926 & 0.03054431 & 0.50548484 & 0.21961189\\\\\n",
       "\\end{bmatrix} + \n",
       "\\begin{bmatrix}\n",
       "  0.45899035 & 0.396607 & 0.04733693 & -0.07849083 & 0.22292251 & 0.51708579\\\\\n",
       "  0.19908705 & 0.3940356 & 0.37090803 & 0.63293838\\\\\n",
       "\\end{bmatrix}\\end{gather}"
      ],
      "text/plain": [
       "<IPython.core.display.Latex object>"
      ]
     },
     "metadata": {},
     "output_type": "display_data"
    },
    {
     "data": {
      "text/latex": [
       "f_{custo}(\n",
       "\\begin{bmatrix}\n",
       "  0 & 0 & 1 & 0 & 0 & 0 & 0 & 0 & 0 & 0\\\\\n",
       "\\end{bmatrix},\n",
       "\\begin{bmatrix}\n",
       "  0.53829243 & 2.2495802 & 0.82375825 & 0.71427119 & 0.7623908 & 0.99593047\\\\\n",
       "  1.026822 & 0.93158419 & 0.67895635 & 1.03597903\\\\\n",
       "\\end{bmatrix}) = \n",
       "\\begin{bmatrix}\n",
       "  1.0921178352748069\\\\\n",
       "\\end{bmatrix}"
      ],
      "text/plain": [
       "<IPython.core.display.Latex object>"
      ]
     },
     "metadata": {},
     "output_type": "display_data"
    },
    {
     "data": {
      "text/latex": [
       "Camada: 2"
      ],
      "text/plain": [
       "<IPython.core.display.Latex object>"
      ]
     },
     "metadata": {},
     "output_type": "display_data"
    },
    {
     "data": {
      "text/latex": [
       "\\nabla f_{custo} = \\frac{\\partial E}{\\partial W} = \n",
       "\\begin{bmatrix}\n",
       "  0.10765849 & 0.44991604 & -0.03524835 & 0.14285424 & 0.15247816 & 0.19918609\\\\\n",
       "  0.2053644 & 0.18631684 & 0.13579127 & 0.20719581\\\\\n",
       "\\end{bmatrix} \\cdot \n",
       "\\begin{bmatrix}\n",
       "  -0.22116274 & 0.08519753 & -0.17102076 & -0.17741354 & -0.37177163 & 0.07101708\\\\\n",
       "  0.39362128 & 0.25393255 & 0.01872852 & -0.12019812 & -0.37558831 & -0.04280452\\\\\n",
       "  0.3760821 & 0.21416079\\\\\n",
       "  -0.05107031 & 0.42521668 & 0.46771644 & 0.33671353 & -0.44254741 & -0.14259126\\\\\n",
       "  0.12232921 & 0.27454069 & -0.23382604 & -0.03973313 & 0.54652482 & 0.31469266\\\\\n",
       "  0.33466606 & -0.14439779\\\\\n",
       "  0.33355639 & 0.19995641 & -0.04003196 & 0.5307159 & -0.20551958 & -0.4103462\\\\\n",
       "  -0.09294185 & -0.40423113 & -0.38614092 & 0.47873838 & -0.26384107 & 0.10142781\\\\\n",
       "  0.3922113 & 0.14379512\\\\\n",
       "  -0.12837279 & -0.14577499 & 0.50842052 & 0.29457878 & -0.45799508 & -0.00066201\\\\\n",
       "  0.27862983 & 0.38152597 & 0.22288779 & 0.06062551 & -0.06374516 & 0.26928717\\\\\n",
       "  -0.24972458 & -0.32119835\\\\\n",
       "  -0.19346998 & 0.53274491 & -0.28062445 & -0.24464816 & 0.17055202 & -0.29538711\\\\\n",
       "  0.02442713 & 0.04837808 & 0.53848725 & 0.52205323 & 0.0669571 & -0.00914995\\\\\n",
       "  0.00396934 & 0.00907277\\\\\n",
       "  0.46022316 & -0.04976099 & 0.16744504 & -0.17719724 & -0.36971119 & -0.20121293\\\\\n",
       "  0.30677405 & 0.24519976 & -0.26557527 & 0.43756769 & -0.48053997 & 0.38809829\\\\\n",
       "  0.05695417 & -0.60333604\\\\\n",
       "  -0.29409807 & 0.61162525 & 0.43643274 & -0.08497354 & -0.00519446 & 0.27774919\\\\\n",
       "  -0.08250537 & -0.17605401 & -0.01934752 & 0.11298252 & 0.43735849 & -0.18715326\\\\\n",
       "  0.24911932 & -0.26549926\\\\\n",
       "  0.14303637 & -0.30239367 & 0.25098472 & -0.23572406 & -0.57240739 & 0.0064941\\\\\n",
       "  0.10132011 & 0.04302737 & 0.50445451 & 0.54635596 & -0.1557337 & -0.08833041\\\\\n",
       "  -0.05139903 & 0.03054431\\\\\n",
       "  -0.23856821 & 0.52096554 & -0.03798881 & 0.04035501 & 0.16808257 & -0.27592907\\\\\n",
       "  -0.0085968 & -0.39601507 & 0.35036158 & -0.03874885 & 0.10636667 & 0.14965296\\\\\n",
       "  -0.11945435 & 0.50548484\\\\\n",
       "  0.31312371 & -0.09696978 & -0.4166647 & 0.18386331 & -0.29812207 & 0.29408852\\\\\n",
       "  0.02136632 & 0.20164352 & 0.17796293 & -0.27406659 & 0.28335122 & -0.25671849\\\\\n",
       "  0.18824896 & 0.21961189\\\\\n",
       "\\end{bmatrix} = \n",
       "\\begin{bmatrix}\n",
       "  -0.01597795 & 0.36384746 & 0.3015267 & 0.06537465 & -0.49161312 & -0.04554305\\\\\n",
       "  0.21051739 & 0.23569212 & 0.14593843 & 0.19067877 & 0.25409623 & 0.16001778\\\\\n",
       "  0.21787803 & -0.14634658\\\\\n",
       "\\end{bmatrix}"
      ],
      "text/plain": [
       "<IPython.core.display.Latex object>"
      ]
     },
     "metadata": {},
     "output_type": "display_data"
    },
    {
     "data": {
      "text/latex": [
       "W = W - \\lambda (X \\cdot \\nabla f_{custo})"
      ],
      "text/plain": [
       "<IPython.core.display.Latex object>"
      ]
     },
     "metadata": {},
     "output_type": "display_data"
    },
    {
     "data": {
      "text/latex": [
       "\\begin{gather}\n",
       "\\begin{bmatrix}\n",
       "  -0.27981455 & -0.29618235 & 0.35275952 & -0.20619907 & -0.27653933 & 0.35170756\\\\\n",
       "  -0.40597958 & 0.04153187 & -0.31254662 & 0.20024446\\\\\n",
       "  0.03033187 & 0.19592736 & 0.21791992 & -0.21857735 & 0.45503794 & -0.15127158\\\\\n",
       "  0.50696603 & -0.39734574 & 0.45176266 & -0.20256233\\\\\n",
       "  -0.23471993 & 0.20151097 & -0.01917628 & 0.4238968 & -0.37084243 & 0.04959099\\\\\n",
       "  0.31492313 & 0.14074513 & -0.11833353 & -0.53925792\\\\\n",
       "  -0.23487775 & 0.0965646 & 0.5495302 & 0.21832834 & -0.3260355 & -0.28351558\\\\\n",
       "  -0.19458964 & -0.33517326 & -0.03212546 & 0.07326967\\\\\n",
       "  -0.37635339 & -0.46169506 & -0.20401947 & -0.46407471 & 0.16406282 & -0.37818821\\\\\n",
       "  -0.01393441 & -0.58033671 & 0.16230353 & -0.30693997\\\\\n",
       "  0.02720584 & -0.325683 & -0.39600201 & -0.05879603 & -0.35743755 & -0.28227101\\\\\n",
       "  0.19417688 & -0.06932688 & -0.33118885 & 0.20977092\\\\\n",
       "  0.35658204 & -0.03246164 & -0.08081487 & 0.22948171 & -0.02803204 & 0.2382453\\\\\n",
       "  -0.15315973 & 0.03721895 & -0.05531495 & -0.04991813\\\\\n",
       "  0.19596631 & 0.03229372 & -0.38525247 & 0.30460939 & -0.03372029 & 0.13795257\\\\\n",
       "  -0.28662776 & -0.05729066 & -0.46912877 & 0.09008369\\\\\n",
       "  -0.02152561 & -0.40205223 & -0.37296136 & 0.16947377 & 0.48147479 & -0.34005209\\\\\n",
       "  -0.09613445 & 0.43478958 & 0.29958844 & 0.10049123\\\\\n",
       "  -0.19222422 & -0.3407377 & 0.50232036 & -0.03494738 & 0.4200417 & 0.30430743\\\\\n",
       "  -0.02441116 & 0.42170555 & -0.12959645 & -0.41268553\\\\\n",
       "  -0.43250738 & 0.30865412 & -0.24520526 & -0.13927223 & -0.01365813 & -0.5858497\\\\\n",
       "  0.32878229 & -0.25423945 & 0.03457379 & 0.17380676\\\\\n",
       "  -0.11316902 & 0.02063206 & 0.12446578 & 0.17591908 & -0.10880814 & 0.25791227\\\\\n",
       "  -0.32137737 & -0.21010522 & 0.06090115 & -0.39213959\\\\\n",
       "  0.30479969 & 0.03676945 & 0.4155498 & -0.34431066 & -0.09698889 & -0.07493013\\\\\n",
       "  0.11314427 & -0.17476239 & -0.20936392 & 0.0510613\\\\\n",
       "  0.16680919 & -0.34228508 & 0.15929846 & -0.38403016 & -0.05799194 & -0.69094438\\\\\n",
       "  -0.35582501 & -0.05140372 & 0.44575955 & 0.12848063\\\\\n",
       "\\end{bmatrix} = \n",
       "\\begin{bmatrix}\n",
       "  -0.22116274 & -0.05107031 & 0.33355639 & -0.12837279 & -0.19346998 & 0.46022316\\\\\n",
       "  -0.29409807 & 0.14303637 & -0.23856821 & 0.31312371\\\\\n",
       "  0.08519753 & 0.42521668 & 0.19995641 & -0.14577499 & 0.53274491 & -0.04976099\\\\\n",
       "  0.61162525 & -0.30239367 & 0.52096554 & -0.09696978\\\\\n",
       "  -0.17102076 & 0.46771644 & -0.04003196 & 0.50842052 & -0.28062445 & 0.16744504\\\\\n",
       "  0.43643274 & 0.25098472 & -0.03798881 & -0.4166647\\\\\n",
       "  -0.17741354 & 0.33671353 & 0.5307159 & 0.29457878 & -0.24464816 & -0.17719724\\\\\n",
       "  -0.08497354 & -0.23572406 & 0.04035501 & 0.18386331\\\\\n",
       "  -0.37177163 & -0.44254741 & -0.20551958 & -0.45799508 & 0.17055202 & -0.36971119\\\\\n",
       "  -0.00519446 & -0.57240739 & 0.16808257 & -0.29812207\\\\\n",
       "  0.07101708 & -0.14259126 & -0.4103462 & -0.00066201 & -0.29538711 & -0.20121293\\\\\n",
       "  0.27774919 & 0.0064941 & -0.27592907 & 0.29408852\\\\\n",
       "  0.39362128 & 0.12232921 & -0.09294185 & 0.27862983 & 0.02442713 & 0.30677405\\\\\n",
       "  -0.08250537 & 0.10132011 & -0.0085968 & 0.02136632\\\\\n",
       "  0.25393255 & 0.27454069 & -0.40423113 & 0.38152597 & 0.04837808 & 0.24519976\\\\\n",
       "  -0.17605401 & 0.04302737 & -0.39601507 & 0.20164352\\\\\n",
       "  0.01872852 & -0.23382604 & -0.38614092 & 0.22288779 & 0.53848725 & -0.26557527\\\\\n",
       "  -0.01934752 & 0.50445451 & 0.35036158 & 0.17796293\\\\\n",
       "  -0.12019812 & -0.03973313 & 0.47873838 & 0.06062551 & 0.52205323 & 0.43756769\\\\\n",
       "  0.11298252 & 0.54635596 & -0.03874885 & -0.27406659\\\\\n",
       "  -0.37558831 & 0.54652482 & -0.26384107 & -0.06374516 & 0.0669571 & -0.48053997\\\\\n",
       "  0.43735849 & -0.1557337 & 0.10636667 & 0.28335122\\\\\n",
       "  -0.04280452 & 0.31469266 & 0.10142781 & 0.26928717 & -0.00914995 & 0.38809829\\\\\n",
       "  -0.18715326 & -0.08833041 & 0.14965296 & -0.25671849\\\\\n",
       "  0.3760821 & 0.33466606 & 0.3922113 & -0.24972458 & 0.00396934 & 0.05695417\\\\\n",
       "  0.24911932 & -0.05139903 & -0.11945435 & 0.18824896\\\\\n",
       "  0.21416079 & -0.14439779 & 0.14379512 & -0.32119835 & 0.00907277 & -0.60333604\\\\\n",
       "  -0.26549926 & 0.03054431 & 0.50548484 & 0.21961189\\\\\n",
       "\\end{bmatrix} - 0.7\n",
       "\\begin{bmatrix}\n",
       "  0.77827867\\\\\n",
       "  0.72803842\\\\\n",
       "  0.84525441\\\\\n",
       "  0.76251984\\\\\n",
       "  0.06079754\\\\\n",
       "  0.58135208\\\\\n",
       "  0.49149123\\\\\n",
       "  0.76918152\\\\\n",
       "  0.53415106\\\\\n",
       "  0.95574838\\\\\n",
       "  0.755286\\\\\n",
       "  0.9336999\\\\\n",
       "  0.94588\\\\\n",
       "  0.62833083\\\\\n",
       "\\end{bmatrix} \\cdot \n",
       "\\begin{bmatrix}\n",
       "  0.10765849 & 0.44991604 & -0.03524835 & 0.14285424 & 0.15247816 & 0.19918609\\\\\n",
       "  0.2053644 & 0.18631684 & 0.13579127 & 0.20719581\\\\\n",
       "\\end{bmatrix}\\end{gather}"
      ],
      "text/plain": [
       "<IPython.core.display.Latex object>"
      ]
     },
     "metadata": {},
     "output_type": "display_data"
    },
    {
     "data": {
      "text/latex": [
       "Camada: 1"
      ],
      "text/plain": [
       "<IPython.core.display.Latex object>"
      ]
     },
     "metadata": {},
     "output_type": "display_data"
    },
    {
     "data": {
      "text/latex": [
       "\\nabla = \\frac{\\partial E}{\\partial Y} \\frac{\\partial Y}{\\partial X}"
      ],
      "text/plain": [
       "<IPython.core.display.Latex object>"
      ]
     },
     "metadata": {},
     "output_type": "display_data"
    },
    {
     "data": {
      "text/latex": [
       "\\begin{gather}\n",
       "\\begin{bmatrix}\n",
       "  -0.00275717 & 0.07204124 & 0.03943951 & 0.01183826 & -0.0280717 & -0.01108435\\\\\n",
       "  0.05261411 & 0.04184509 & 0.0363144 & 0.00806446 & 0.04696437 & 0.0099058\\\\\n",
       "  0.0111534 & -0.03417649\\\\\n",
       "\\end{bmatrix} = \n",
       "\\begin{bmatrix}\n",
       "  -0.01597795 & 0.36384746 & 0.3015267 & 0.06537465 & -0.49161312 & -0.04554305\\\\\n",
       "  0.21051739 & 0.23569212 & 0.14593843 & 0.19067877 & 0.25409623 & 0.16001778\\\\\n",
       "  0.21787803 & -0.14634658\\\\\n",
       "\\end{bmatrix} \\cdot  \\sigma^{'}(\n",
       "\\begin{bmatrix}\n",
       "  1.25566332 & 0.98469301 & 1.69785522 & 1.16654445 & -2.73748183 & 0.3283263\\\\\n",
       "  -0.03403837 & 1.20369537 & 0.13681728 & 3.07260274 & 1.12700632 & 2.6449637\\\\\n",
       "  2.86091181 & 0.52506271\\\\\n",
       "\\end{bmatrix}) \\end{gather}"
      ],
      "text/plain": [
       "<IPython.core.display.Latex object>"
      ]
     },
     "metadata": {},
     "output_type": "display_data"
    },
    {
     "data": {
      "text/latex": [
       "Camada: 0"
      ],
      "text/plain": [
       "<IPython.core.display.Latex object>"
      ]
     },
     "metadata": {},
     "output_type": "display_data"
    },
    {
     "data": {
      "text/latex": [
       "\\nabla f_{custo} = \\frac{\\partial E}{\\partial W} = \n",
       "\\begin{bmatrix}\n",
       "  -0.00275717 & 0.07204124 & 0.03943951 & 0.01183826 & -0.0280717 & -0.01108435\\\\\n",
       "  0.05261411 & 0.04184509 & 0.0363144 & 0.00806446 & 0.04696437 & 0.0099058\\\\\n",
       "  0.0111534 & -0.03417649\\\\\n",
       "\\end{bmatrix} \\cdot \n",
       "\\begin{bmatrix}\n",
       "  0.61072164 & -0.03786203 & 0.0315708 & 0.36437245 & -0.02681808 & 0.54040429\\\\\n",
       "  0.96706502\\\\\n",
       "  0.18959013 & -0.18658348 & 0.40386376 & 0.06099897 & 0.63739858 & 0.77081203\\\\\n",
       "  0.22992694\\\\\n",
       "  0.86308364 & -0.32141104 & -0.30511999 & 0.74683777 & 0.17747788 & 0.1407701\\\\\n",
       "  0.53122129\\\\\n",
       "  -0.09220279 & 0.07266789 & 0.38305162 & 0.22886549 & 0.8877547 & -0.00219324\\\\\n",
       "  0.07415922\\\\\n",
       "  -0.58446624 & -0.96591352 & -0.82511094 & -0.3675389 & -0.5306332 & -0.39915203\\\\\n",
       "  0.61763221\\\\\n",
       "  0.26192539 & -0.37914027 & -1.00157911 & -0.15145765 & 0.58263111 & 0.75372673\\\\\n",
       "  0.87867057\\\\\n",
       "  -0.01298283 & -0.42941551 & -0.72605008 & 0.02077652 & -0.09492517 & 0.36021688\\\\\n",
       "  0.64724702\\\\\n",
       "  0.58606829 & 0.04217922 & -0.76787493 & 0.55512977 & 0.73814214 & 0.08452321\\\\\n",
       "  0.04284637\\\\\n",
       "  0.03820026 & -0.63200155 & -0.20383532 & -0.06282214 & 0.22637053 & 0.3442493\\\\\n",
       "  0.92775231\\\\\n",
       "  0.19843547 & 0.39746501 & 0.65095947 & 0.494895 & 0.86123248 & 0.95060498\\\\\n",
       "  0.46354298\\\\\n",
       "  0.71607001 & -0.32708523 & -0.27495622 & 0.46103054 & 0.47196085 & 0.06375605\\\\\n",
       "  0.61485419\\\\\n",
       "  0.20590479 & 0.04261596 & 0.35685727 & 0.42178104 & 0.8573555 & 0.48874138\\\\\n",
       "  0.95872563\\\\\n",
       "  0.95367227 & 0.37768552 & 0.10431055 & 0.02981142 & 0.81628715 & 0.63379662\\\\\n",
       "  0.5758385\\\\\n",
       "  -0.17278619 & -0.48913672 & -1.0262149 & 0.53740662 & 0.35826793 & 0.27530697\\\\\n",
       "  0.83744384\\\\\n",
       "\\end{bmatrix} = \n",
       "\\begin{bmatrix}\n",
       "  0.13746604 & -0.02841948 & 0.01014566 & 0.08137855 & 0.140517 & 0.1105688\\\\\n",
       "  0.09810048\\\\\n",
       "\\end{bmatrix}"
      ],
      "text/plain": [
       "<IPython.core.display.Latex object>"
      ]
     },
     "metadata": {},
     "output_type": "display_data"
    },
    {
     "data": {
      "text/latex": [
       "W = W - \\lambda (X \\cdot \\nabla f_{custo})"
      ],
      "text/plain": [
       "<IPython.core.display.Latex object>"
      ]
     },
     "metadata": {},
     "output_type": "display_data"
    },
    {
     "data": {
      "text/latex": [
       "\\begin{gather}\n",
       "\\begin{bmatrix}\n",
       "  0.61265166 & 0.13916126 & 0.83547598 & -0.10048957 & -0.56481605 & 0.26968443\\\\\n",
       "  -0.0498127 & 0.55677673 & 0.01278018 & 0.19279035 & 0.68319496 & 0.19897072\\\\\n",
       "  0.94586489 & -0.14886265\\\\\n",
       "  -0.03593201 & -0.23701235 & -0.3490187 & 0.06438111 & -0.94626333 & -0.37138122\\\\\n",
       "  -0.46624539 & 0.01288765 & -0.65742163 & 0.39181989 & -0.35996029 & 0.03568189\\\\\n",
       "  0.36987814 & -0.46521317\\\\\n",
       "  0.0315708 & 0.40386376 & -0.30511999 & 0.38305162 & -0.82511094 & -1.00157911\\\\\n",
       "  -0.72605008 & -0.76787493 & -0.20383532 & 0.65095947 & -0.27495622 & 0.35685727\\\\\n",
       "  0.10431055 & -1.0262149\\\\\n",
       "  0.36630247 & 0.0105701 & 0.71923012 & 0.22057871 & -0.34788871 & -0.14369861\\\\\n",
       "  -0.01605335 & 0.5258382 & -0.08824222 & 0.48924988 & 0.42815549 & 0.41484698\\\\\n",
       "  0.02200404 & 0.56133017\\\\\n",
       "  -0.02488806 & 0.58696971 & 0.14987022 & 0.87946792 & -0.51098301 & 0.59039015\\\\\n",
       "  -0.13175504 & 0.70885058 & 0.20095045 & 0.85558737 & 0.43908579 & 0.85042144\\\\\n",
       "  0.80847977 & 0.38219148\\\\\n",
       "  0.54040429 & 0.77081203 & 0.1407701 & -0.00219324 & -0.39915203 & 0.75372673\\\\\n",
       "  0.36021688 & 0.08452321 & 0.3442493 & 0.95060498 & 0.06375605 & 0.48874138\\\\\n",
       "  0.63379662 & 0.27530697\\\\\n",
       "  0.96899504 & 0.17949807 & 0.50361364 & 0.06587244 & 0.6372824 & 0.88642962\\\\\n",
       "  0.61041715 & 0.01355481 & 0.90233223 & 0.45789786 & 0.58197913 & 0.95179157\\\\\n",
       "  0.56803112 & 0.86136739\\\\\n",
       "\\end{bmatrix} = \n",
       "\\begin{bmatrix}\n",
       "  0.61072164 & 0.18959013 & 0.86308364 & -0.09220279 & -0.58446624 & 0.26192539\\\\\n",
       "  -0.01298283 & 0.58606829 & 0.03820026 & 0.19843547 & 0.71607001 & 0.20590479\\\\\n",
       "  0.95367227 & -0.17278619\\\\\n",
       "  -0.03786203 & -0.18658348 & -0.32141104 & 0.07266789 & -0.96591352 & -0.37914027\\\\\n",
       "  -0.42941551 & 0.04217922 & -0.63200155 & 0.39746501 & -0.32708523 & 0.04261596\\\\\n",
       "  0.37768552 & -0.48913672\\\\\n",
       "  0.0315708 & 0.40386376 & -0.30511999 & 0.38305162 & -0.82511094 & -1.00157911\\\\\n",
       "  -0.72605008 & -0.76787493 & -0.20383532 & 0.65095947 & -0.27495622 & 0.35685727\\\\\n",
       "  0.10431055 & -1.0262149\\\\\n",
       "  0.36437245 & 0.06099897 & 0.74683777 & 0.22886549 & -0.3675389 & -0.15145765\\\\\n",
       "  0.02077652 & 0.55512977 & -0.06282214 & 0.494895 & 0.46103054 & 0.42178104\\\\\n",
       "  0.02981142 & 0.53740662\\\\\n",
       "  -0.02681808 & 0.63739858 & 0.17747788 & 0.8877547 & -0.5306332 & 0.58263111\\\\\n",
       "  -0.09492517 & 0.73814214 & 0.22637053 & 0.86123248 & 0.47196085 & 0.8573555\\\\\n",
       "  0.81628715 & 0.35826793\\\\\n",
       "  0.54040429 & 0.77081203 & 0.1407701 & -0.00219324 & -0.39915203 & 0.75372673\\\\\n",
       "  0.36021688 & 0.08452321 & 0.3442493 & 0.95060498 & 0.06375605 & 0.48874138\\\\\n",
       "  0.63379662 & 0.27530697\\\\\n",
       "  0.96706502 & 0.22992694 & 0.53122129 & 0.07415922 & 0.61763221 & 0.87867057\\\\\n",
       "  0.64724702 & 0.04284637 & 0.92775231 & 0.46354298 & 0.61485419 & 0.95872563\\\\\n",
       "  0.5758385 & 0.83744384\\\\\n",
       "\\end{bmatrix} - 0.7\n",
       "\\begin{bmatrix}\n",
       "  1\\\\\n",
       "  1\\\\\n",
       "  0\\\\\n",
       "  1\\\\\n",
       "  1\\\\\n",
       "  0\\\\\n",
       "  1\\\\\n",
       "\\end{bmatrix} \\cdot \n",
       "\\begin{bmatrix}\n",
       "  -0.00275717 & 0.07204124 & 0.03943951 & 0.01183826 & -0.0280717 & -0.01108435\\\\\n",
       "  0.05261411 & 0.04184509 & 0.0363144 & 0.00806446 & 0.04696437 & 0.0099058\\\\\n",
       "  0.0111534 & -0.03417649\\\\\n",
       "\\end{bmatrix}\\end{gather}"
      ],
      "text/plain": [
       "<IPython.core.display.Latex object>"
      ]
     },
     "metadata": {},
     "output_type": "display_data"
    },
    {
     "data": {
      "text/latex": [
       "Camada: 0"
      ],
      "text/plain": [
       "<IPython.core.display.Latex object>"
      ]
     },
     "metadata": {},
     "output_type": "display_data"
    },
    {
     "data": {
      "text/latex": [
       "Y = Xw + b"
      ],
      "text/plain": [
       "<IPython.core.display.Latex object>"
      ]
     },
     "metadata": {},
     "output_type": "display_data"
    },
    {
     "data": {
      "text/latex": [
       "\\begin{gather}\n",
       "\\begin{bmatrix}\n",
       "  1.3237023 & 0.49901384 & 1.07721907 & 0.62040747 & -2.93370863 & -1.21708869\\\\\n",
       "  -0.84931266 & -0.4487795 & -0.42048897 & 2.83410414 & 0.21571397 & 2.10979515\\\\\n",
       "  2.10989831 & -0.73980239\\\\\n",
       "\\end{bmatrix} = \n",
       "\\begin{bmatrix}\n",
       "  1 & 1 & 1 & 1 & 0 & 0 & 1\\\\\n",
       "\\end{bmatrix} \\cdot \n",
       "\\begin{bmatrix}\n",
       "  0.61265166 & 0.13916126 & 0.83547598 & -0.10048957 & -0.56481605 & 0.26968443\\\\\n",
       "  -0.0498127 & 0.55677673 & 0.01278018 & 0.19279035 & 0.68319496 & 0.19897072\\\\\n",
       "  0.94586489 & -0.14886265\\\\\n",
       "  -0.03593201 & -0.23701235 & -0.3490187 & 0.06438111 & -0.94626333 & -0.37138122\\\\\n",
       "  -0.46624539 & 0.01288765 & -0.65742163 & 0.39181989 & -0.35996029 & 0.03568189\\\\\n",
       "  0.36987814 & -0.46521317\\\\\n",
       "  0.0315708 & 0.40386376 & -0.30511999 & 0.38305162 & -0.82511094 & -1.00157911\\\\\n",
       "  -0.72605008 & -0.76787493 & -0.20383532 & 0.65095947 & -0.27495622 & 0.35685727\\\\\n",
       "  0.10431055 & -1.0262149\\\\\n",
       "  0.36630247 & 0.0105701 & 0.71923012 & 0.22057871 & -0.34788871 & -0.14369861\\\\\n",
       "  -0.01605335 & 0.5258382 & -0.08824222 & 0.48924988 & 0.42815549 & 0.41484698\\\\\n",
       "  0.02200404 & 0.56133017\\\\\n",
       "  -0.02488806 & 0.58696971 & 0.14987022 & 0.87946792 & -0.51098301 & 0.59039015\\\\\n",
       "  -0.13175504 & 0.70885058 & 0.20095045 & 0.85558737 & 0.43908579 & 0.85042144\\\\\n",
       "  0.80847977 & 0.38219148\\\\\n",
       "  0.54040429 & 0.77081203 & 0.1407701 & -0.00219324 & -0.39915203 & 0.75372673\\\\\n",
       "  0.36021688 & 0.08452321 & 0.3442493 & 0.95060498 & 0.06375605 & 0.48874138\\\\\n",
       "  0.63379662 & 0.27530697\\\\\n",
       "  0.96899504 & 0.17949807 & 0.50361364 & 0.06587244 & 0.6372824 & 0.88642962\\\\\n",
       "  0.61041715 & 0.01355481 & 0.90233223 & 0.45789786 & 0.58197913 & 0.95179157\\\\\n",
       "  0.56803112 & 0.86136739\\\\\n",
       "\\end{bmatrix} + \n",
       "\\begin{bmatrix}\n",
       "  -0.61988566 & 0.002933 & -0.32696198 & -0.01298684 & -0.886912 & -0.8565438\\\\\n",
       "  -0.20156829 & -0.78996198 & -0.38610221 & 0.65138668 & -0.8426991 & 0.15164671\\\\\n",
       "  0.09980958 & -0.52220922\\\\\n",
       "\\end{bmatrix}\\end{gather}"
      ],
      "text/plain": [
       "<IPython.core.display.Latex object>"
      ]
     },
     "metadata": {},
     "output_type": "display_data"
    },
    {
     "data": {
      "text/latex": [
       "Camada: 1"
      ],
      "text/plain": [
       "<IPython.core.display.Latex object>"
      ]
     },
     "metadata": {},
     "output_type": "display_data"
    },
    {
     "data": {
      "text/latex": [
       "Y = \\sigma(X)"
      ],
      "text/plain": [
       "<IPython.core.display.Latex object>"
      ]
     },
     "metadata": {},
     "output_type": "display_data"
    },
    {
     "data": {
      "text/latex": [
       "\\begin{gather}\n",
       "\\begin{bmatrix}\n",
       "  0.78979701 & 0.62222755 & 0.74596736 & 0.65031121 & 0.05051216 & 0.22844919\\\\\n",
       "  0.29957706 & 0.38965099 & 0.39639975 & 0.94449117 & 0.55372034 & 0.89185158\\\\\n",
       "  0.89186153 & 0.32304736\\\\\n",
       "\\end{bmatrix} = \\sigma(\n",
       "\\begin{bmatrix}\n",
       "  1.3237023 & 0.49901384 & 1.07721907 & 0.62040747 & -2.93370863 & -1.21708869\\\\\n",
       "  -0.84931266 & -0.4487795 & -0.42048897 & 2.83410414 & 0.21571397 & 2.10979515\\\\\n",
       "  2.10989831 & -0.73980239\\\\\n",
       "\\end{bmatrix}) \\end{gather}"
      ],
      "text/plain": [
       "<IPython.core.display.Latex object>"
      ]
     },
     "metadata": {},
     "output_type": "display_data"
    },
    {
     "data": {
      "text/latex": [
       "Camada: 2"
      ],
      "text/plain": [
       "<IPython.core.display.Latex object>"
      ]
     },
     "metadata": {},
     "output_type": "display_data"
    },
    {
     "data": {
      "text/latex": [
       "Y = Xw + b"
      ],
      "text/plain": [
       "<IPython.core.display.Latex object>"
      ]
     },
     "metadata": {},
     "output_type": "display_data"
    },
    {
     "data": {
      "text/latex": [
       "\\begin{gather}\n",
       "\\begin{bmatrix}\n",
       "  -0.18072255 & -0.28176321 & 1.27807869 & -0.18577867 & -0.02490808 & 0.22367278\\\\\n",
       "  -0.13516554 & -0.05010698 & -0.03879776 & -0.2984303\\\\\n",
       "\\end{bmatrix} = \n",
       "\\begin{bmatrix}\n",
       "  0.78979701 & 0.62222755 & 0.74596736 & 0.65031121 & 0.05051216 & 0.22844919\\\\\n",
       "  0.29957706 & 0.38965099 & 0.39639975 & 0.94449117 & 0.55372034 & 0.89185158\\\\\n",
       "  0.89186153 & 0.32304736\\\\\n",
       "\\end{bmatrix} \\cdot \n",
       "\\begin{bmatrix}\n",
       "  -0.27981455 & -0.29618235 & 0.35275952 & -0.20619907 & -0.27653933 & 0.35170756\\\\\n",
       "  -0.40597958 & 0.04153187 & -0.31254662 & 0.20024446\\\\\n",
       "  0.03033187 & 0.19592736 & 0.21791992 & -0.21857735 & 0.45503794 & -0.15127158\\\\\n",
       "  0.50696603 & -0.39734574 & 0.45176266 & -0.20256233\\\\\n",
       "  -0.23471993 & 0.20151097 & -0.01917628 & 0.4238968 & -0.37084243 & 0.04959099\\\\\n",
       "  0.31492313 & 0.14074513 & -0.11833353 & -0.53925792\\\\\n",
       "  -0.23487775 & 0.0965646 & 0.5495302 & 0.21832834 & -0.3260355 & -0.28351558\\\\\n",
       "  -0.19458964 & -0.33517326 & -0.03212546 & 0.07326967\\\\\n",
       "  -0.37635339 & -0.46169506 & -0.20401947 & -0.46407471 & 0.16406282 & -0.37818821\\\\\n",
       "  -0.01393441 & -0.58033671 & 0.16230353 & -0.30693997\\\\\n",
       "  0.02720584 & -0.325683 & -0.39600201 & -0.05879603 & -0.35743755 & -0.28227101\\\\\n",
       "  0.19417688 & -0.06932688 & -0.33118885 & 0.20977092\\\\\n",
       "  0.35658204 & -0.03246164 & -0.08081487 & 0.22948171 & -0.02803204 & 0.2382453\\\\\n",
       "  -0.15315973 & 0.03721895 & -0.05531495 & -0.04991813\\\\\n",
       "  0.19596631 & 0.03229372 & -0.38525247 & 0.30460939 & -0.03372029 & 0.13795257\\\\\n",
       "  -0.28662776 & -0.05729066 & -0.46912877 & 0.09008369\\\\\n",
       "  -0.02152561 & -0.40205223 & -0.37296136 & 0.16947377 & 0.48147479 & -0.34005209\\\\\n",
       "  -0.09613445 & 0.43478958 & 0.29958844 & 0.10049123\\\\\n",
       "  -0.19222422 & -0.3407377 & 0.50232036 & -0.03494738 & 0.4200417 & 0.30430743\\\\\n",
       "  -0.02441116 & 0.42170555 & -0.12959645 & -0.41268553\\\\\n",
       "  -0.43250738 & 0.30865412 & -0.24520526 & -0.13927223 & -0.01365813 & -0.5858497\\\\\n",
       "  0.32878229 & -0.25423945 & 0.03457379 & 0.17380676\\\\\n",
       "  -0.11316902 & 0.02063206 & 0.12446578 & 0.17591908 & -0.10880814 & 0.25791227\\\\\n",
       "  -0.32137737 & -0.21010522 & 0.06090115 & -0.39213959\\\\\n",
       "  0.30479969 & 0.03676945 & 0.4155498 & -0.34431066 & -0.09698889 & -0.07493013\\\\\n",
       "  0.11314427 & -0.17476239 & -0.20936392 & 0.0510613\\\\\n",
       "  0.16680919 & -0.34228508 & 0.15929846 & -0.38403016 & -0.05799194 & -0.69094438\\\\\n",
       "  -0.35582501 & -0.05140372 & 0.44575955 & 0.12848063\\\\\n",
       "\\end{bmatrix} + \n",
       "\\begin{bmatrix}\n",
       "  0.38362941 & 0.08166577 & 0.07201077 & -0.1784888 & 0.11618779 & 0.37765552\\\\\n",
       "  0.05533197 & 0.26361381 & 0.27585414 & 0.48790131\\\\\n",
       "\\end{bmatrix}\\end{gather}"
      ],
      "text/plain": [
       "<IPython.core.display.Latex object>"
      ]
     },
     "metadata": {},
     "output_type": "display_data"
    },
    {
     "data": {
      "text/latex": [
       "f_{custo}(\n",
       "\\begin{bmatrix}\n",
       "  0 & 0 & 0 & 1 & 0 & 0 & 0 & 0 & 0 & 0\\\\\n",
       "\\end{bmatrix},\n",
       "\\begin{bmatrix}\n",
       "  -0.18072255 & -0.28176321 & 1.27807869 & -0.18577867 & -0.02490808 & 0.22367278\\\\\n",
       "  -0.13516554 & -0.05010698 & -0.03879776 & -0.2984303\\\\\n",
       "\\end{bmatrix}) = \n",
       "\\begin{bmatrix}\n",
       "  0.3313603602637212\\\\\n",
       "\\end{bmatrix}"
      ],
      "text/plain": [
       "<IPython.core.display.Latex object>"
      ]
     },
     "metadata": {},
     "output_type": "display_data"
    },
    {
     "data": {
      "text/latex": [
       "Camada: 2"
      ],
      "text/plain": [
       "<IPython.core.display.Latex object>"
      ]
     },
     "metadata": {},
     "output_type": "display_data"
    },
    {
     "data": {
      "text/latex": [
       "\\nabla f_{custo} = \\frac{\\partial E}{\\partial W} = \n",
       "\\begin{bmatrix}\n",
       "  -0.03614451 & -0.05635264 & 0.25561574 & -0.23715573 & -0.00498162 & 0.04473456\\\\\n",
       "  -0.02703311 & -0.0100214 & -0.00775955 & -0.05968606\\\\\n",
       "\\end{bmatrix} \\cdot \n",
       "\\begin{bmatrix}\n",
       "  -0.27981455 & 0.03033187 & -0.23471993 & -0.23487775 & -0.37635339 & 0.02720584\\\\\n",
       "  0.35658204 & 0.19596631 & -0.02152561 & -0.19222422 & -0.43250738 & -0.11316902\\\\\n",
       "  0.30479969 & 0.16680919\\\\\n",
       "  -0.29618235 & 0.19592736 & 0.20151097 & 0.0965646 & -0.46169506 & -0.325683\\\\\n",
       "  -0.03246164 & 0.03229372 & -0.40205223 & -0.3407377 & 0.30865412 & 0.02063206\\\\\n",
       "  0.03676945 & -0.34228508\\\\\n",
       "  0.35275952 & 0.21791992 & -0.01917628 & 0.5495302 & -0.20401947 & -0.39600201\\\\\n",
       "  -0.08081487 & -0.38525247 & -0.37296136 & 0.50232036 & -0.24520526 & 0.12446578\\\\\n",
       "  0.4155498 & 0.15929846\\\\\n",
       "  -0.20619907 & -0.21857735 & 0.4238968 & 0.21832834 & -0.46407471 & -0.05879603\\\\\n",
       "  0.22948171 & 0.30460939 & 0.16947377 & -0.03494738 & -0.13927223 & 0.17591908\\\\\n",
       "  -0.34431066 & -0.38403016\\\\\n",
       "  -0.27653933 & 0.45503794 & -0.37084243 & -0.3260355 & 0.16406282 & -0.35743755\\\\\n",
       "  -0.02803204 & -0.03372029 & 0.48147479 & 0.4200417 & -0.01365813 & -0.10880814\\\\\n",
       "  -0.09698889 & -0.05799194\\\\\n",
       "  0.35170756 & -0.15127158 & 0.04959099 & -0.28351558 & -0.37818821 & -0.28227101\\\\\n",
       "  0.2382453 & 0.13795257 & -0.34005209 & 0.30430743 & -0.5858497 & 0.25791227\\\\\n",
       "  -0.07493013 & -0.69094438\\\\\n",
       "  -0.40597958 & 0.50696603 & 0.31492313 & -0.19458964 & -0.01393441 & 0.19417688\\\\\n",
       "  -0.15315973 & -0.28662776 & -0.09613445 & -0.02441116 & 0.32878229 & -0.32137737\\\\\n",
       "  0.11314427 & -0.35582501\\\\\n",
       "  0.04153187 & -0.39734574 & 0.14074513 & -0.33517326 & -0.58033671 & -0.06932688\\\\\n",
       "  0.03721895 & -0.05729066 & 0.43478958 & 0.42170555 & -0.25423945 & -0.21010522\\\\\n",
       "  -0.17476239 & -0.05140372\\\\\n",
       "  -0.31254662 & 0.45176266 & -0.11833353 & -0.03212546 & 0.16230353 & -0.33118885\\\\\n",
       "  -0.05531495 & -0.46912877 & 0.29958844 & -0.12959645 & 0.03457379 & 0.06090115\\\\\n",
       "  -0.20936392 & 0.44575955\\\\\n",
       "  0.20024446 & -0.20256233 & -0.53925792 & 0.07326967 & -0.30693997 & 0.20977092\\\\\n",
       "  -0.04991813 & 0.09008369 & 0.10049123 & -0.41268553 & 0.17380676 & -0.39213959\\\\\n",
       "  0.0510613 & 0.12848063\\\\\n",
       "\\end{bmatrix} = \n",
       "\\begin{bmatrix}\n",
       "  0.18401979 & 0.08523115 & -0.08105675 & 0.08517523 & 0.10304596 & -0.0952624\\\\\n",
       "  -0.06816616 & -0.16669411 & -0.13978332 & 0.19642987 & -0.0745318 & 0.03882867\\\\\n",
       "  0.16918826 & 0.11344018\\\\\n",
       "\\end{bmatrix}"
      ],
      "text/plain": [
       "<IPython.core.display.Latex object>"
      ]
     },
     "metadata": {},
     "output_type": "display_data"
    },
    {
     "data": {
      "text/latex": [
       "W = W - \\lambda (X \\cdot \\nabla f_{custo})"
      ],
      "text/plain": [
       "<IPython.core.display.Latex object>"
      ]
     },
     "metadata": {},
     "output_type": "display_data"
    },
    {
     "data": {
      "text/latex": [
       "\\begin{gather}\n",
       "\\begin{bmatrix}\n",
       "  -0.25983178 & -0.26502734 & 0.21144034 & -0.07508565 & -0.2737852 & 0.32697571\\\\\n",
       "  -0.39103411 & 0.04707228 & -0.30825669 & 0.23324237\\\\\n",
       "  0.04607494 & 0.22047228 & 0.10658411 & -0.11528197 & 0.45720773 & -0.17075613\\\\\n",
       "  0.51874055 & -0.39298083 & 0.4551424 & -0.17656551\\\\\n",
       "  -0.21584609 & 0.23093704 & -0.15265298 & 0.54773411 & -0.36824115 & 0.02623163\\\\\n",
       "  0.3290392 & 0.14597807 & -0.11428167 & -0.50809123\\\\\n",
       "  -0.21842412 & 0.12221732 & 0.43316935 & 0.32628587 & -0.32376778 & -0.30387955\\\\\n",
       "  -0.18228369 & -0.33061135 & -0.02859318 & 0.10043983\\\\\n",
       "  -0.37507537 & -0.45970252 & -0.21305766 & -0.45568923 & 0.16423896 & -0.37976995\\\\\n",
       "  -0.01297856 & -0.57998237 & 0.1625779 & -0.30482956\\\\\n",
       "  0.03298586 & -0.3166714 & -0.43687866 & -0.02087141 & -0.35664092 & -0.28942471\\\\\n",
       "  0.19849986 & -0.06772431 & -0.32994798 & 0.21931558\\\\\n",
       "  0.36416169 & -0.02064427 & -0.1344185 & 0.2792142 & -0.02698738 & 0.22886428\\\\\n",
       "  -0.14749079 & 0.03932048 & -0.05368774 & -0.03740173\\\\\n",
       "  0.20582493 & 0.04766422 & -0.45497311 & 0.36929496 & -0.03236153 & 0.12575097\\\\\n",
       "  -0.27925433 & -0.05455727 & -0.4670123 & 0.10636341\\\\\n",
       "  -0.01149624 & -0.38641551 & -0.44388957 & 0.2352797 & 0.48285708 & -0.35246503\\\\\n",
       "  -0.08863331 & 0.43757031 & 0.30174156 & 0.11705291\\\\\n",
       "  -0.1683275 & -0.3034805 & 0.3333216 & 0.12184666 & 0.42333527 & 0.27473146\\\\\n",
       "  -0.00653839 & 0.42833113 & -0.12446627 & -0.37322446\\\\\n",
       "  -0.41849761 & 0.33049664 & -0.344283 & -0.04734966 & -0.01172724 & -0.603189\\\\\n",
       "  0.33926044 & -0.25035511 & 0.03758143 & 0.19694133\\\\\n",
       "  -0.09060414 & 0.0558128 & -0.03511413 & 0.32397448 & -0.10569813 & 0.22998466\\\\\n",
       "  -0.3045007 & -0.2038489 & 0.06574541 & -0.35487781\\\\\n",
       "  0.32736482 & 0.07195058 & 0.25596811 & -0.1962536 & -0.09387885 & -0.10285805\\\\\n",
       "  0.13002112 & -0.168506 & -0.20451961 & 0.08832349\\\\\n",
       "  0.17498266 & -0.32954188 & 0.10149527 & -0.33040139 & -0.05686544 & -0.70106034\\\\\n",
       "  -0.34971192 & -0.04913755 & 0.44751424 & 0.14197763\\\\\n",
       "\\end{bmatrix} = \n",
       "\\begin{bmatrix}\n",
       "  -0.27981455 & -0.29618235 & 0.35275952 & -0.20619907 & -0.27653933 & 0.35170756\\\\\n",
       "  -0.40597958 & 0.04153187 & -0.31254662 & 0.20024446\\\\\n",
       "  0.03033187 & 0.19592736 & 0.21791992 & -0.21857735 & 0.45503794 & -0.15127158\\\\\n",
       "  0.50696603 & -0.39734574 & 0.45176266 & -0.20256233\\\\\n",
       "  -0.23471993 & 0.20151097 & -0.01917628 & 0.4238968 & -0.37084243 & 0.04959099\\\\\n",
       "  0.31492313 & 0.14074513 & -0.11833353 & -0.53925792\\\\\n",
       "  -0.23487775 & 0.0965646 & 0.5495302 & 0.21832834 & -0.3260355 & -0.28351558\\\\\n",
       "  -0.19458964 & -0.33517326 & -0.03212546 & 0.07326967\\\\\n",
       "  -0.37635339 & -0.46169506 & -0.20401947 & -0.46407471 & 0.16406282 & -0.37818821\\\\\n",
       "  -0.01393441 & -0.58033671 & 0.16230353 & -0.30693997\\\\\n",
       "  0.02720584 & -0.325683 & -0.39600201 & -0.05879603 & -0.35743755 & -0.28227101\\\\\n",
       "  0.19417688 & -0.06932688 & -0.33118885 & 0.20977092\\\\\n",
       "  0.35658204 & -0.03246164 & -0.08081487 & 0.22948171 & -0.02803204 & 0.2382453\\\\\n",
       "  -0.15315973 & 0.03721895 & -0.05531495 & -0.04991813\\\\\n",
       "  0.19596631 & 0.03229372 & -0.38525247 & 0.30460939 & -0.03372029 & 0.13795257\\\\\n",
       "  -0.28662776 & -0.05729066 & -0.46912877 & 0.09008369\\\\\n",
       "  -0.02152561 & -0.40205223 & -0.37296136 & 0.16947377 & 0.48147479 & -0.34005209\\\\\n",
       "  -0.09613445 & 0.43478958 & 0.29958844 & 0.10049123\\\\\n",
       "  -0.19222422 & -0.3407377 & 0.50232036 & -0.03494738 & 0.4200417 & 0.30430743\\\\\n",
       "  -0.02441116 & 0.42170555 & -0.12959645 & -0.41268553\\\\\n",
       "  -0.43250738 & 0.30865412 & -0.24520526 & -0.13927223 & -0.01365813 & -0.5858497\\\\\n",
       "  0.32878229 & -0.25423945 & 0.03457379 & 0.17380676\\\\\n",
       "  -0.11316902 & 0.02063206 & 0.12446578 & 0.17591908 & -0.10880814 & 0.25791227\\\\\n",
       "  -0.32137737 & -0.21010522 & 0.06090115 & -0.39213959\\\\\n",
       "  0.30479969 & 0.03676945 & 0.4155498 & -0.34431066 & -0.09698889 & -0.07493013\\\\\n",
       "  0.11314427 & -0.17476239 & -0.20936392 & 0.0510613\\\\\n",
       "  0.16680919 & -0.34228508 & 0.15929846 & -0.38403016 & -0.05799194 & -0.69094438\\\\\n",
       "  -0.35582501 & -0.05140372 & 0.44575955 & 0.12848063\\\\\n",
       "\\end{bmatrix} - 0.7\n",
       "\\begin{bmatrix}\n",
       "  0.78979701\\\\\n",
       "  0.62222755\\\\\n",
       "  0.74596736\\\\\n",
       "  0.65031121\\\\\n",
       "  0.05051216\\\\\n",
       "  0.22844919\\\\\n",
       "  0.29957706\\\\\n",
       "  0.38965099\\\\\n",
       "  0.39639975\\\\\n",
       "  0.94449117\\\\\n",
       "  0.55372034\\\\\n",
       "  0.89185158\\\\\n",
       "  0.89186153\\\\\n",
       "  0.32304736\\\\\n",
       "\\end{bmatrix} \\cdot \n",
       "\\begin{bmatrix}\n",
       "  -0.03614451 & -0.05635264 & 0.25561574 & -0.23715573 & -0.00498162 & 0.04473456\\\\\n",
       "  -0.02703311 & -0.0100214 & -0.00775955 & -0.05968606\\\\\n",
       "\\end{bmatrix}\\end{gather}"
      ],
      "text/plain": [
       "<IPython.core.display.Latex object>"
      ]
     },
     "metadata": {},
     "output_type": "display_data"
    },
    {
     "data": {
      "text/latex": [
       "Camada: 1"
      ],
      "text/plain": [
       "<IPython.core.display.Latex object>"
      ]
     },
     "metadata": {},
     "output_type": "display_data"
    },
    {
     "data": {
      "text/latex": [
       "\\nabla = \\frac{\\partial E}{\\partial Y} \\frac{\\partial Y}{\\partial X}"
      ],
      "text/plain": [
       "<IPython.core.display.Latex object>"
      ]
     },
     "metadata": {},
     "output_type": "display_data"
    },
    {
     "data": {
      "text/latex": [
       "\\begin{gather}\n",
       "\\begin{bmatrix}\n",
       "  0.03055054 & 0.02003447 & -0.01536026 & 0.0193694 & 0.00494215 & -0.01679097\\\\\n",
       "  -0.01430335 & -0.03964371 & -0.03344553 & 0.01029835 & -0.01841786 & 0.00374512\\\\\n",
       "  0.01631728 & 0.02480798\\\\\n",
       "\\end{bmatrix} = \n",
       "\\begin{bmatrix}\n",
       "  0.18401979 & 0.08523115 & -0.08105675 & 0.08517523 & 0.10304596 & -0.0952624\\\\\n",
       "  -0.06816616 & -0.16669411 & -0.13978332 & 0.19642987 & -0.0745318 & 0.03882867\\\\\n",
       "  0.16918826 & 0.11344018\\\\\n",
       "\\end{bmatrix} \\cdot  \\sigma^{'}(\n",
       "\\begin{bmatrix}\n",
       "  1.3237023 & 0.49901384 & 1.07721907 & 0.62040747 & -2.93370863 & -1.21708869\\\\\n",
       "  -0.84931266 & -0.4487795 & -0.42048897 & 2.83410414 & 0.21571397 & 2.10979515\\\\\n",
       "  2.10989831 & -0.73980239\\\\\n",
       "\\end{bmatrix}) \\end{gather}"
      ],
      "text/plain": [
       "<IPython.core.display.Latex object>"
      ]
     },
     "metadata": {},
     "output_type": "display_data"
    },
    {
     "data": {
      "text/latex": [
       "Camada: 0"
      ],
      "text/plain": [
       "<IPython.core.display.Latex object>"
      ]
     },
     "metadata": {},
     "output_type": "display_data"
    },
    {
     "data": {
      "text/latex": [
       "\\nabla f_{custo} = \\frac{\\partial E}{\\partial W} = \n",
       "\\begin{bmatrix}\n",
       "  0.03055054 & 0.02003447 & -0.01536026 & 0.0193694 & 0.00494215 & -0.01679097\\\\\n",
       "  -0.01430335 & -0.03964371 & -0.03344553 & 0.01029835 & -0.01841786 & 0.00374512\\\\\n",
       "  0.01631728 & 0.02480798\\\\\n",
       "\\end{bmatrix} \\cdot \n",
       "\\begin{bmatrix}\n",
       "  0.61265166 & -0.03593201 & 0.0315708 & 0.36630247 & -0.02488806 & 0.54040429\\\\\n",
       "  0.96899504\\\\\n",
       "  0.13916126 & -0.23701235 & 0.40386376 & 0.0105701 & 0.58696971 & 0.77081203\\\\\n",
       "  0.17949807\\\\\n",
       "  0.83547598 & -0.3490187 & -0.30511999 & 0.71923012 & 0.14987022 & 0.1407701\\\\\n",
       "  0.50361364\\\\\n",
       "  -0.10048957 & 0.06438111 & 0.38305162 & 0.22057871 & 0.87946792 & -0.00219324\\\\\n",
       "  0.06587244\\\\\n",
       "  -0.56481605 & -0.94626333 & -0.82511094 & -0.34788871 & -0.51098301 & -0.39915203\\\\\n",
       "  0.6372824\\\\\n",
       "  0.26968443 & -0.37138122 & -1.00157911 & -0.14369861 & 0.59039015 & 0.75372673\\\\\n",
       "  0.88642962\\\\\n",
       "  -0.0498127 & -0.46624539 & -0.72605008 & -0.01605335 & -0.13175504 & 0.36021688\\\\\n",
       "  0.61041715\\\\\n",
       "  0.55677673 & 0.01288765 & -0.76787493 & 0.5258382 & 0.70885058 & 0.08452321\\\\\n",
       "  0.01355481\\\\\n",
       "  0.01278018 & -0.65742163 & -0.20383532 & -0.08824222 & 0.20095045 & 0.3442493\\\\\n",
       "  0.90233223\\\\\n",
       "  0.19279035 & 0.39181989 & 0.65095947 & 0.48924988 & 0.85558737 & 0.95060498\\\\\n",
       "  0.45789786\\\\\n",
       "  0.68319496 & -0.35996029 & -0.27495622 & 0.42815549 & 0.43908579 & 0.06375605\\\\\n",
       "  0.58197913\\\\\n",
       "  0.19897072 & 0.03568189 & 0.35685727 & 0.41484698 & 0.85042144 & 0.48874138\\\\\n",
       "  0.95179157\\\\\n",
       "  0.94586489 & 0.36987814 & 0.10431055 & 0.02200404 & 0.80847977 & 0.63379662\\\\\n",
       "  0.56803112\\\\\n",
       "  -0.14886265 & -0.46521317 & -1.0262149 & 0.56133017 & 0.38219148 & 0.27530697\\\\\n",
       "  0.86136739\\\\\n",
       "\\end{bmatrix} = \n",
       "\\begin{bmatrix}\n",
       "  -0.02049344 & 0.03575976 & 0.07089343 & 0.00064661 & 0.00693824 & 0.02271997\\\\\n",
       "  0.00375679\\\\\n",
       "\\end{bmatrix}"
      ],
      "text/plain": [
       "<IPython.core.display.Latex object>"
      ]
     },
     "metadata": {},
     "output_type": "display_data"
    },
    {
     "data": {
      "text/latex": [
       "W = W - \\lambda (X \\cdot \\nabla f_{custo})"
      ],
      "text/plain": [
       "<IPython.core.display.Latex object>"
      ]
     },
     "metadata": {},
     "output_type": "display_data"
    },
    {
     "data": {
      "text/latex": [
       "\\begin{gather}\n",
       "\\begin{bmatrix}\n",
       "  0.59126628 & 0.12513713 & 0.84622816 & -0.11404815 & -0.56827556 & 0.28143811\\\\\n",
       "  -0.03980036 & 0.58452733 & 0.03619205 & 0.18558151 & 0.69608746 & 0.19634914\\\\\n",
       "  0.93444279 & -0.16622823\\\\\n",
       "  -0.05731739 & -0.25103648 & -0.33826652 & 0.05082252 & -0.94972284 & -0.35962755\\\\\n",
       "  -0.45623304 & 0.04063825 & -0.63400976 & 0.38461105 & -0.34706779 & 0.03306031\\\\\n",
       "  0.35845604 & -0.48257876\\\\\n",
       "  0.01018542 & 0.38983964 & -0.29436781 & 0.36949304 & -0.82857045 & -0.98982543\\\\\n",
       "  -0.71603774 & -0.74012433 & -0.18042344 & 0.64375063 & -0.26206372 & 0.35423569\\\\\n",
       "  0.09288845 & -1.04358048\\\\\n",
       "  0.34491709 & -0.00345403 & 0.7299823 & 0.20702012 & -0.35134822 & -0.13194493\\\\\n",
       "  -0.00604101 & 0.5535888 & -0.06483035 & 0.48204104 & 0.44104799 & 0.4122254\\\\\n",
       "  0.01058194 & 0.54396458\\\\\n",
       "  -0.02488806 & 0.58696971 & 0.14987022 & 0.87946792 & -0.51098301 & 0.59039015\\\\\n",
       "  -0.13175504 & 0.70885058 & 0.20095045 & 0.85558737 & 0.43908579 & 0.85042144\\\\\n",
       "  0.80847977 & 0.38219148\\\\\n",
       "  0.54040429 & 0.77081203 & 0.1407701 & -0.00219324 & -0.39915203 & 0.75372673\\\\\n",
       "  0.36021688 & 0.08452321 & 0.3442493 & 0.95060498 & 0.06375605 & 0.48874138\\\\\n",
       "  0.63379662 & 0.27530697\\\\\n",
       "  0.94760966 & 0.16547394 & 0.51436582 & 0.05231386 & 0.63382289 & 0.89818329\\\\\n",
       "  0.62042949 & 0.04130541 & 0.92574411 & 0.45068901 & 0.59487164 & 0.94916999\\\\\n",
       "  0.55660902 & 0.8440018\\\\\n",
       "\\end{bmatrix} = \n",
       "\\begin{bmatrix}\n",
       "  0.61265166 & 0.13916126 & 0.83547598 & -0.10048957 & -0.56481605 & 0.26968443\\\\\n",
       "  -0.0498127 & 0.55677673 & 0.01278018 & 0.19279035 & 0.68319496 & 0.19897072\\\\\n",
       "  0.94586489 & -0.14886265\\\\\n",
       "  -0.03593201 & -0.23701235 & -0.3490187 & 0.06438111 & -0.94626333 & -0.37138122\\\\\n",
       "  -0.46624539 & 0.01288765 & -0.65742163 & 0.39181989 & -0.35996029 & 0.03568189\\\\\n",
       "  0.36987814 & -0.46521317\\\\\n",
       "  0.0315708 & 0.40386376 & -0.30511999 & 0.38305162 & -0.82511094 & -1.00157911\\\\\n",
       "  -0.72605008 & -0.76787493 & -0.20383532 & 0.65095947 & -0.27495622 & 0.35685727\\\\\n",
       "  0.10431055 & -1.0262149\\\\\n",
       "  0.36630247 & 0.0105701 & 0.71923012 & 0.22057871 & -0.34788871 & -0.14369861\\\\\n",
       "  -0.01605335 & 0.5258382 & -0.08824222 & 0.48924988 & 0.42815549 & 0.41484698\\\\\n",
       "  0.02200404 & 0.56133017\\\\\n",
       "  -0.02488806 & 0.58696971 & 0.14987022 & 0.87946792 & -0.51098301 & 0.59039015\\\\\n",
       "  -0.13175504 & 0.70885058 & 0.20095045 & 0.85558737 & 0.43908579 & 0.85042144\\\\\n",
       "  0.80847977 & 0.38219148\\\\\n",
       "  0.54040429 & 0.77081203 & 0.1407701 & -0.00219324 & -0.39915203 & 0.75372673\\\\\n",
       "  0.36021688 & 0.08452321 & 0.3442493 & 0.95060498 & 0.06375605 & 0.48874138\\\\\n",
       "  0.63379662 & 0.27530697\\\\\n",
       "  0.96899504 & 0.17949807 & 0.50361364 & 0.06587244 & 0.6372824 & 0.88642962\\\\\n",
       "  0.61041715 & 0.01355481 & 0.90233223 & 0.45789786 & 0.58197913 & 0.95179157\\\\\n",
       "  0.56803112 & 0.86136739\\\\\n",
       "\\end{bmatrix} - 0.7\n",
       "\\begin{bmatrix}\n",
       "  1\\\\\n",
       "  1\\\\\n",
       "  1\\\\\n",
       "  1\\\\\n",
       "  0\\\\\n",
       "  0\\\\\n",
       "  1\\\\\n",
       "\\end{bmatrix} \\cdot \n",
       "\\begin{bmatrix}\n",
       "  0.03055054 & 0.02003447 & -0.01536026 & 0.0193694 & 0.00494215 & -0.01679097\\\\\n",
       "  -0.01430335 & -0.03964371 & -0.03344553 & 0.01029835 & -0.01841786 & 0.00374512\\\\\n",
       "  0.01631728 & 0.02480798\\\\\n",
       "\\end{bmatrix}\\end{gather}"
      ],
      "text/plain": [
       "<IPython.core.display.Latex object>"
      ]
     },
     "metadata": {},
     "output_type": "display_data"
    },
    {
     "data": {
      "text/latex": [
       "Camada: 0"
      ],
      "text/plain": [
       "<IPython.core.display.Latex object>"
      ]
     },
     "metadata": {},
     "output_type": "display_data"
    },
    {
     "data": {
      "text/latex": [
       "Y = Xw + b"
      ],
      "text/plain": [
       "<IPython.core.display.Latex object>"
      ]
     },
     "metadata": {},
     "output_type": "display_data"
    },
    {
     "data": {
      "text/latex": [
       "\\begin{gather}\n",
       "\\begin{bmatrix}\n",
       "  0.79961094 & 1.06399799 & -0.2937082 & 0.44389076 & -2.43399393 & -0.54233308\\\\\n",
       "  -0.38318034 & -1.33586885 & 0.09286987 & 3.0738335 & -0.78031041 & 1.9742325\\\\\n",
       "  1.7301376 & -0.94642528\\\\\n",
       "\\end{bmatrix} = \n",
       "\\begin{bmatrix}\n",
       "  0 & 1 & 1 & 0 & 0 & 1 & 1\\\\\n",
       "\\end{bmatrix} \\cdot \n",
       "\\begin{bmatrix}\n",
       "  0.59126628 & 0.12513713 & 0.84622816 & -0.11404815 & -0.56827556 & 0.28143811\\\\\n",
       "  -0.03980036 & 0.58452733 & 0.03619205 & 0.18558151 & 0.69608746 & 0.19634914\\\\\n",
       "  0.93444279 & -0.16622823\\\\\n",
       "  -0.05731739 & -0.25103648 & -0.33826652 & 0.05082252 & -0.94972284 & -0.35962755\\\\\n",
       "  -0.45623304 & 0.04063825 & -0.63400976 & 0.38461105 & -0.34706779 & 0.03306031\\\\\n",
       "  0.35845604 & -0.48257876\\\\\n",
       "  0.01018542 & 0.38983964 & -0.29436781 & 0.36949304 & -0.82857045 & -0.98982543\\\\\n",
       "  -0.71603774 & -0.74012433 & -0.18042344 & 0.64375063 & -0.26206372 & 0.35423569\\\\\n",
       "  0.09288845 & -1.04358048\\\\\n",
       "  0.34491709 & -0.00345403 & 0.7299823 & 0.20702012 & -0.35134822 & -0.13194493\\\\\n",
       "  -0.00604101 & 0.5535888 & -0.06483035 & 0.48204104 & 0.44104799 & 0.4122254\\\\\n",
       "  0.01058194 & 0.54396458\\\\\n",
       "  -0.02488806 & 0.58696971 & 0.14987022 & 0.87946792 & -0.51098301 & 0.59039015\\\\\n",
       "  -0.13175504 & 0.70885058 & 0.20095045 & 0.85558737 & 0.43908579 & 0.85042144\\\\\n",
       "  0.80847977 & 0.38219148\\\\\n",
       "  0.54040429 & 0.77081203 & 0.1407701 & -0.00219324 & -0.39915203 & 0.75372673\\\\\n",
       "  0.36021688 & 0.08452321 & 0.3442493 & 0.95060498 & 0.06375605 & 0.48874138\\\\\n",
       "  0.63379662 & 0.27530697\\\\\n",
       "  0.94760966 & 0.16547394 & 0.51436582 & 0.05231386 & 0.63382289 & 0.89818329\\\\\n",
       "  0.62042949 & 0.04130541 & 0.92574411 & 0.45068901 & 0.59487164 & 0.94916999\\\\\n",
       "  0.55660902 & 0.8440018\\\\\n",
       "\\end{bmatrix} + \n",
       "\\begin{bmatrix}\n",
       "  -0.64127104 & -0.01109113 & -0.3162098 & -0.02654542 & -0.89037151 & -0.84479012\\\\\n",
       "  -0.19155594 & -0.76221138 & -0.36269034 & 0.64417784 & -0.8298066 & 0.14902513\\\\\n",
       "  0.08838748 & -0.53957481\\\\\n",
       "\\end{bmatrix}\\end{gather}"
      ],
      "text/plain": [
       "<IPython.core.display.Latex object>"
      ]
     },
     "metadata": {},
     "output_type": "display_data"
    },
    {
     "data": {
      "text/latex": [
       "Camada: 1"
      ],
      "text/plain": [
       "<IPython.core.display.Latex object>"
      ]
     },
     "metadata": {},
     "output_type": "display_data"
    },
    {
     "data": {
      "text/latex": [
       "Y = \\sigma(X)"
      ],
      "text/plain": [
       "<IPython.core.display.Latex object>"
      ]
     },
     "metadata": {},
     "output_type": "display_data"
    },
    {
     "data": {
      "text/latex": [
       "\\begin{gather}\n",
       "\\begin{bmatrix}\n",
       "  0.68989125 & 0.74345383 & 0.42709628 & 0.60918573 & 0.08061695 & 0.36764502\\\\\n",
       "  0.40536007 & 0.20819025 & 0.52320079 & 0.95580041 & 0.31425299 & 0.878065\\\\\n",
       "  0.84943002 & 0.27960429\\\\\n",
       "\\end{bmatrix} = \\sigma(\n",
       "\\begin{bmatrix}\n",
       "  0.79961094 & 1.06399799 & -0.2937082 & 0.44389076 & -2.43399393 & -0.54233308\\\\\n",
       "  -0.38318034 & -1.33586885 & 0.09286987 & 3.0738335 & -0.78031041 & 1.9742325\\\\\n",
       "  1.7301376 & -0.94642528\\\\\n",
       "\\end{bmatrix}) \\end{gather}"
      ],
      "text/plain": [
       "<IPython.core.display.Latex object>"
      ]
     },
     "metadata": {},
     "output_type": "display_data"
    },
    {
     "data": {
      "text/latex": [
       "Camada: 2"
      ],
      "text/plain": [
       "<IPython.core.display.Latex object>"
      ]
     },
     "metadata": {},
     "output_type": "display_data"
    },
    {
     "data": {
      "text/latex": [
       "Y = Xw + b"
      ],
      "text/plain": [
       "<IPython.core.display.Latex object>"
      ]
     },
     "metadata": {},
     "output_type": "display_data"
    },
    {
     "data": {
      "text/latex": [
       "\\begin{gather}\n",
       "\\begin{bmatrix}\n",
       "  0.1600652 & -0.24705589 & 0.18299946 & 0.67843786 & 0.24575958 & 0.06016096\\\\\n",
       "  -0.02708047 & 0.02860482 & 0.17343145 & 0.03606614\\\\\n",
       "\\end{bmatrix} = \n",
       "\\begin{bmatrix}\n",
       "  0.68989125 & 0.74345383 & 0.42709628 & 0.60918573 & 0.08061695 & 0.36764502\\\\\n",
       "  0.40536007 & 0.20819025 & 0.52320079 & 0.95580041 & 0.31425299 & 0.878065\\\\\n",
       "  0.84943002 & 0.27960429\\\\\n",
       "\\end{bmatrix} \\cdot \n",
       "\\begin{bmatrix}\n",
       "  -0.25983178 & -0.26502734 & 0.21144034 & -0.07508565 & -0.2737852 & 0.32697571\\\\\n",
       "  -0.39103411 & 0.04707228 & -0.30825669 & 0.23324237\\\\\n",
       "  0.04607494 & 0.22047228 & 0.10658411 & -0.11528197 & 0.45720773 & -0.17075613\\\\\n",
       "  0.51874055 & -0.39298083 & 0.4551424 & -0.17656551\\\\\n",
       "  -0.21584609 & 0.23093704 & -0.15265298 & 0.54773411 & -0.36824115 & 0.02623163\\\\\n",
       "  0.3290392 & 0.14597807 & -0.11428167 & -0.50809123\\\\\n",
       "  -0.21842412 & 0.12221732 & 0.43316935 & 0.32628587 & -0.32376778 & -0.30387955\\\\\n",
       "  -0.18228369 & -0.33061135 & -0.02859318 & 0.10043983\\\\\n",
       "  -0.37507537 & -0.45970252 & -0.21305766 & -0.45568923 & 0.16423896 & -0.37976995\\\\\n",
       "  -0.01297856 & -0.57998237 & 0.1625779 & -0.30482956\\\\\n",
       "  0.03298586 & -0.3166714 & -0.43687866 & -0.02087141 & -0.35664092 & -0.28942471\\\\\n",
       "  0.19849986 & -0.06772431 & -0.32994798 & 0.21931558\\\\\n",
       "  0.36416169 & -0.02064427 & -0.1344185 & 0.2792142 & -0.02698738 & 0.22886428\\\\\n",
       "  -0.14749079 & 0.03932048 & -0.05368774 & -0.03740173\\\\\n",
       "  0.20582493 & 0.04766422 & -0.45497311 & 0.36929496 & -0.03236153 & 0.12575097\\\\\n",
       "  -0.27925433 & -0.05455727 & -0.4670123 & 0.10636341\\\\\n",
       "  -0.01149624 & -0.38641551 & -0.44388957 & 0.2352797 & 0.48285708 & -0.35246503\\\\\n",
       "  -0.08863331 & 0.43757031 & 0.30174156 & 0.11705291\\\\\n",
       "  -0.1683275 & -0.3034805 & 0.3333216 & 0.12184666 & 0.42333527 & 0.27473146\\\\\n",
       "  -0.00653839 & 0.42833113 & -0.12446627 & -0.37322446\\\\\n",
       "  -0.41849761 & 0.33049664 & -0.344283 & -0.04734966 & -0.01172724 & -0.603189\\\\\n",
       "  0.33926044 & -0.25035511 & 0.03758143 & 0.19694133\\\\\n",
       "  -0.09060414 & 0.0558128 & -0.03511413 & 0.32397448 & -0.10569813 & 0.22998466\\\\\n",
       "  -0.3045007 & -0.2038489 & 0.06574541 & -0.35487781\\\\\n",
       "  0.32736482 & 0.07195058 & 0.25596811 & -0.1962536 & -0.09387885 & -0.10285805\\\\\n",
       "  0.13002112 & -0.168506 & -0.20451961 & 0.08832349\\\\\n",
       "  0.17498266 & -0.32954188 & 0.10149527 & -0.33040139 & -0.05686544 & -0.70106034\\\\\n",
       "  -0.34971192 & -0.04913755 & 0.44751424 & 0.14197763\\\\\n",
       "\\end{bmatrix} + \n",
       "\\begin{bmatrix}\n",
       "  0.40893056 & 0.12111262 & -0.10692024 & -0.01247978 & 0.11967493 & 0.34634134\\\\\n",
       "  0.07425514 & 0.27062879 & 0.28128583 & 0.52968155\\\\\n",
       "\\end{bmatrix}\\end{gather}"
      ],
      "text/plain": [
       "<IPython.core.display.Latex object>"
      ]
     },
     "metadata": {},
     "output_type": "display_data"
    },
    {
     "data": {
      "text/latex": [
       "f_{custo}(\n",
       "\\begin{bmatrix}\n",
       "  0 & 0 & 0 & 0 & 1 & 0 & 0 & 0 & 0 & 0\\\\\n",
       "\\end{bmatrix},\n",
       "\\begin{bmatrix}\n",
       "  0.1600652 & -0.24705589 & 0.18299946 & 0.67843786 & 0.24575958 & 0.06016096\\\\\n",
       "  -0.02708047 & 0.02860482 & 0.17343145 & 0.03606614\\\\\n",
       "\\end{bmatrix}) = \n",
       "\\begin{bmatrix}\n",
       "  0.11858529835723267\\\\\n",
       "\\end{bmatrix}"
      ],
      "text/plain": [
       "<IPython.core.display.Latex object>"
      ]
     },
     "metadata": {},
     "output_type": "display_data"
    },
    {
     "data": {
      "text/latex": [
       "Camada: 2"
      ],
      "text/plain": [
       "<IPython.core.display.Latex object>"
      ]
     },
     "metadata": {},
     "output_type": "display_data"
    },
    {
     "data": {
      "text/latex": [
       "\\nabla f_{custo} = \\frac{\\partial E}{\\partial W} = \n",
       "\\begin{bmatrix}\n",
       "  0.03201304 & -0.04941118 & 0.03659989 & 0.13568757 & -0.15084808 & 0.01203219\\\\\n",
       "  -0.00541609 & 0.00572096 & 0.03468629 & 0.00721323\\\\\n",
       "\\end{bmatrix} \\cdot \n",
       "\\begin{bmatrix}\n",
       "  -0.25983178 & 0.04607494 & -0.21584609 & -0.21842412 & -0.37507537 & 0.03298586\\\\\n",
       "  0.36416169 & 0.20582493 & -0.01149624 & -0.1683275 & -0.41849761 & -0.09060414\\\\\n",
       "  0.32736482 & 0.17498266\\\\\n",
       "  -0.26502734 & 0.22047228 & 0.23093704 & 0.12221732 & -0.45970252 & -0.3166714\\\\\n",
       "  -0.02064427 & 0.04766422 & -0.38641551 & -0.3034805 & 0.33049664 & 0.0558128\\\\\n",
       "  0.07195058 & -0.32954188\\\\\n",
       "  0.21144034 & 0.10658411 & -0.15265298 & 0.43316935 & -0.21305766 & -0.43687866\\\\\n",
       "  -0.1344185 & -0.45497311 & -0.44388957 & 0.3333216 & -0.344283 & -0.03511413\\\\\n",
       "  0.25596811 & 0.10149527\\\\\n",
       "  -0.07508565 & -0.11528197 & 0.54773411 & 0.32628587 & -0.45568923 & -0.02087141\\\\\n",
       "  0.2792142 & 0.36929496 & 0.2352797 & 0.12184666 & -0.04734966 & 0.32397448\\\\\n",
       "  -0.1962536 & -0.33040139\\\\\n",
       "  -0.2737852 & 0.45720773 & -0.36824115 & -0.32376778 & 0.16423896 & -0.35664092\\\\\n",
       "  -0.02698738 & -0.03236153 & 0.48285708 & 0.42333527 & -0.01172724 & -0.10569813\\\\\n",
       "  -0.09387885 & -0.05686544\\\\\n",
       "  0.32697571 & -0.17075613 & 0.02623163 & -0.30387955 & -0.37976995 & -0.28942471\\\\\n",
       "  0.22886428 & 0.12575097 & -0.35246503 & 0.27473146 & -0.603189 & 0.22998466\\\\\n",
       "  -0.10285805 & -0.70106034\\\\\n",
       "  -0.39103411 & 0.51874055 & 0.3290392 & -0.18228369 & -0.01297856 & 0.19849986\\\\\n",
       "  -0.14749079 & -0.27925433 & -0.08863331 & -0.00653839 & 0.33926044 & -0.3045007\\\\\n",
       "  0.13002112 & -0.34971192\\\\\n",
       "  0.04707228 & -0.39298083 & 0.14597807 & -0.33061135 & -0.57998237 & -0.06772431\\\\\n",
       "  0.03932048 & -0.05455727 & 0.43757031 & 0.42833113 & -0.25035511 & -0.2038489\\\\\n",
       "  -0.168506 & -0.04913755\\\\\n",
       "  -0.30825669 & 0.4551424 & -0.11428167 & -0.02859318 & 0.1625779 & -0.32994798\\\\\n",
       "  -0.05368774 & -0.4670123 & 0.30174156 & -0.12446627 & 0.03758143 & 0.06574541\\\\\n",
       "  -0.20451961 & 0.44751424\\\\\n",
       "  0.23324237 & -0.17656551 & -0.50809123 & 0.10043983 & -0.30482956 & 0.21931558\\\\\n",
       "  -0.03740173 & 0.10636341 & 0.11705291 & -0.37322446 & 0.19694133 & -0.35487781\\\\\n",
       "  0.08832349 & 0.14197763\\\\\n",
       "\\end{bmatrix} = \n",
       "\\begin{bmatrix}\n",
       "  0.04093935 & -0.08272782 & 0.09770101 & 0.09110753 & -0.08807406 & 0.03687233\\\\\n",
       "  0.05136067 & 0.02985409 & -0.02838156 & -0.02673797 & -0.05478734 & 0.05593107\\\\\n",
       "  -0.00553731 & -0.00092943\\\\\n",
       "\\end{bmatrix}"
      ],
      "text/plain": [
       "<IPython.core.display.Latex object>"
      ]
     },
     "metadata": {},
     "output_type": "display_data"
    },
    {
     "data": {
      "text/latex": [
       "W = W - \\lambda (X \\cdot \\nabla f_{custo})"
      ],
      "text/plain": [
       "<IPython.core.display.Latex object>"
      ]
     },
     "metadata": {},
     "output_type": "display_data"
    },
    {
     "data": {
      "text/latex": [
       "\\begin{gather}\n",
       "\\begin{bmatrix}\n",
       "  -0.27529164 & -0.24116551 & 0.19376537 & -0.14061242 & -0.20093706 & 0.32116507\\\\\n",
       "  -0.38841855 & 0.04430949 & -0.32500753 & 0.22975893\\\\\n",
       "  0.02941479 & 0.24618673 & 0.08753688 & -0.18589618 & 0.53571174 & -0.1770179\\\\\n",
       "  0.52155918 & -0.39595812 & 0.43709105 & -0.18031941\\\\\n",
       "  -0.22541694 & 0.24570937 & -0.16359516 & 0.50716795 & -0.32314249 & 0.0226344\\\\\n",
       "  0.33065843 & 0.14426769 & -0.12465173 & -0.51024775\\\\\n",
       "  -0.23207544 & 0.14328773 & 0.41756206 & 0.26842461 & -0.25944163 & -0.30901044\\\\\n",
       "  -0.1799741 & -0.33305094 & -0.04338445 & 0.09736389\\\\\n",
       "  -0.37688192 & -0.45691415 & -0.21512306 & -0.46334633 & 0.1727516 & -0.38044895\\\\\n",
       "  -0.01267292 & -0.58030521 & 0.16062048 & -0.30523662\\\\\n",
       "  0.02474726 & -0.30395536 & -0.44629769 & -0.05579081 & -0.31781994 & -0.29252121\\\\\n",
       "  0.1998937 & -0.06919661 & -0.33887455 & 0.21745924\\\\\n",
       "  0.35507792 & -0.00662375 & -0.14480379 & 0.24071258 & 0.01581607 & 0.22545012\\\\\n",
       "  -0.14595396 & 0.03769714 & -0.06353005 & -0.03944849\\\\\n",
       "  0.20115957 & 0.05486507 & -0.46030693 & 0.34952078 & -0.01037796 & 0.12399748\\\\\n",
       "  -0.27846503 & -0.055391 & -0.47206725 & 0.1053122\\\\\n",
       "  -0.02322071 & -0.36831914 & -0.45729394 & 0.18558541 & 0.53810377 & -0.35687171\\\\\n",
       "  -0.08664972 & 0.43547506 & 0.28903804 & 0.11441113\\\\\n",
       "  -0.18974615 & -0.27042144 & 0.30883407 & 0.0310635 & 0.52426173 & 0.2666812\\\\\n",
       "  -0.0029147 & 0.42450346 & -0.14767349 & -0.37805054\\\\\n",
       "  -0.42553975 & 0.34136597 & -0.35233414 & -0.07719782 & 0.02145588 & -0.60583581\\\\\n",
       "  0.34045185 & -0.2516136 & 0.02995124 & 0.19535458\\\\\n",
       "  -0.11028082 & 0.08618316 & -0.05761009 & 0.24057473 & -0.01298004 & 0.22258912\\\\\n",
       "  -0.30117173 & -0.20736527 & 0.04442564 & -0.35931139\\\\\n",
       "  0.30832983 & 0.10133051 & 0.23420578 & -0.27693357 & -0.00418443 & -0.11001241\\\\\n",
       "  0.13324154 & -0.17190769 & -0.22514411 & 0.0840345\\\\\n",
       "  0.16871697 & -0.31987097 & 0.09433183 & -0.35695857 & -0.027341 & -0.70341532\\\\\n",
       "  -0.34865187 & -0.05025727 & 0.44072534 & 0.14056583\\\\\n",
       "\\end{bmatrix} = \n",
       "\\begin{bmatrix}\n",
       "  -0.25983178 & -0.26502734 & 0.21144034 & -0.07508565 & -0.2737852 & 0.32697571\\\\\n",
       "  -0.39103411 & 0.04707228 & -0.30825669 & 0.23324237\\\\\n",
       "  0.04607494 & 0.22047228 & 0.10658411 & -0.11528197 & 0.45720773 & -0.17075613\\\\\n",
       "  0.51874055 & -0.39298083 & 0.4551424 & -0.17656551\\\\\n",
       "  -0.21584609 & 0.23093704 & -0.15265298 & 0.54773411 & -0.36824115 & 0.02623163\\\\\n",
       "  0.3290392 & 0.14597807 & -0.11428167 & -0.50809123\\\\\n",
       "  -0.21842412 & 0.12221732 & 0.43316935 & 0.32628587 & -0.32376778 & -0.30387955\\\\\n",
       "  -0.18228369 & -0.33061135 & -0.02859318 & 0.10043983\\\\\n",
       "  -0.37507537 & -0.45970252 & -0.21305766 & -0.45568923 & 0.16423896 & -0.37976995\\\\\n",
       "  -0.01297856 & -0.57998237 & 0.1625779 & -0.30482956\\\\\n",
       "  0.03298586 & -0.3166714 & -0.43687866 & -0.02087141 & -0.35664092 & -0.28942471\\\\\n",
       "  0.19849986 & -0.06772431 & -0.32994798 & 0.21931558\\\\\n",
       "  0.36416169 & -0.02064427 & -0.1344185 & 0.2792142 & -0.02698738 & 0.22886428\\\\\n",
       "  -0.14749079 & 0.03932048 & -0.05368774 & -0.03740173\\\\\n",
       "  0.20582493 & 0.04766422 & -0.45497311 & 0.36929496 & -0.03236153 & 0.12575097\\\\\n",
       "  -0.27925433 & -0.05455727 & -0.4670123 & 0.10636341\\\\\n",
       "  -0.01149624 & -0.38641551 & -0.44388957 & 0.2352797 & 0.48285708 & -0.35246503\\\\\n",
       "  -0.08863331 & 0.43757031 & 0.30174156 & 0.11705291\\\\\n",
       "  -0.1683275 & -0.3034805 & 0.3333216 & 0.12184666 & 0.42333527 & 0.27473146\\\\\n",
       "  -0.00653839 & 0.42833113 & -0.12446627 & -0.37322446\\\\\n",
       "  -0.41849761 & 0.33049664 & -0.344283 & -0.04734966 & -0.01172724 & -0.603189\\\\\n",
       "  0.33926044 & -0.25035511 & 0.03758143 & 0.19694133\\\\\n",
       "  -0.09060414 & 0.0558128 & -0.03511413 & 0.32397448 & -0.10569813 & 0.22998466\\\\\n",
       "  -0.3045007 & -0.2038489 & 0.06574541 & -0.35487781\\\\\n",
       "  0.32736482 & 0.07195058 & 0.25596811 & -0.1962536 & -0.09387885 & -0.10285805\\\\\n",
       "  0.13002112 & -0.168506 & -0.20451961 & 0.08832349\\\\\n",
       "  0.17498266 & -0.32954188 & 0.10149527 & -0.33040139 & -0.05686544 & -0.70106034\\\\\n",
       "  -0.34971192 & -0.04913755 & 0.44751424 & 0.14197763\\\\\n",
       "\\end{bmatrix} - 0.7\n",
       "\\begin{bmatrix}\n",
       "  0.68989125\\\\\n",
       "  0.74345383\\\\\n",
       "  0.42709628\\\\\n",
       "  0.60918573\\\\\n",
       "  0.08061695\\\\\n",
       "  0.36764502\\\\\n",
       "  0.40536007\\\\\n",
       "  0.20819025\\\\\n",
       "  0.52320079\\\\\n",
       "  0.95580041\\\\\n",
       "  0.31425299\\\\\n",
       "  0.878065\\\\\n",
       "  0.84943002\\\\\n",
       "  0.27960429\\\\\n",
       "\\end{bmatrix} \\cdot \n",
       "\\begin{bmatrix}\n",
       "  0.03201304 & -0.04941118 & 0.03659989 & 0.13568757 & -0.15084808 & 0.01203219\\\\\n",
       "  -0.00541609 & 0.00572096 & 0.03468629 & 0.00721323\\\\\n",
       "\\end{bmatrix}\\end{gather}"
      ],
      "text/plain": [
       "<IPython.core.display.Latex object>"
      ]
     },
     "metadata": {},
     "output_type": "display_data"
    },
    {
     "data": {
      "text/latex": [
       "Camada: 1"
      ],
      "text/plain": [
       "<IPython.core.display.Latex object>"
      ]
     },
     "metadata": {},
     "output_type": "display_data"
    },
    {
     "data": {
      "text/latex": [
       "\\nabla = \\frac{\\partial E}{\\partial Y} \\frac{\\partial Y}{\\partial X}"
      ],
      "text/plain": [
       "<IPython.core.display.Latex object>"
      ]
     },
     "metadata": {},
     "output_type": "display_data"
    },
    {
     "data": {
      "text/latex": [
       "\\begin{gather}\n",
       "\\begin{bmatrix}\n",
       "  0.00875862 & -0.0157787 & 0.02390598 & 0.02169074 & -0.00652786 & 0.00857216\\\\\n",
       "  0.01238014 & 0.00492136 & -0.00708011 & -0.00112957 & -0.01180657 & 0.00598836\\\\\n",
       "  -0.00070821 & -0.00018721\\\\\n",
       "\\end{bmatrix} = \n",
       "\\begin{bmatrix}\n",
       "  0.04093935 & -0.08272782 & 0.09770101 & 0.09110753 & -0.08807406 & 0.03687233\\\\\n",
       "  0.05136067 & 0.02985409 & -0.02838156 & -0.02673797 & -0.05478734 & 0.05593107\\\\\n",
       "  -0.00553731 & -0.00092943\\\\\n",
       "\\end{bmatrix} \\cdot  \\sigma^{'}(\n",
       "\\begin{bmatrix}\n",
       "  0.79961094 & 1.06399799 & -0.2937082 & 0.44389076 & -2.43399393 & -0.54233308\\\\\n",
       "  -0.38318034 & -1.33586885 & 0.09286987 & 3.0738335 & -0.78031041 & 1.9742325\\\\\n",
       "  1.7301376 & -0.94642528\\\\\n",
       "\\end{bmatrix}) \\end{gather}"
      ],
      "text/plain": [
       "<IPython.core.display.Latex object>"
      ]
     },
     "metadata": {},
     "output_type": "display_data"
    },
    {
     "data": {
      "text/latex": [
       "Camada: 0"
      ],
      "text/plain": [
       "<IPython.core.display.Latex object>"
      ]
     },
     "metadata": {},
     "output_type": "display_data"
    },
    {
     "data": {
      "text/latex": [
       "\\nabla f_{custo} = \\frac{\\partial E}{\\partial W} = \n",
       "\\begin{bmatrix}\n",
       "  0.00875862 & -0.0157787 & 0.02390598 & 0.02169074 & -0.00652786 & 0.00857216\\\\\n",
       "  0.01238014 & 0.00492136 & -0.00708011 & -0.00112957 & -0.01180657 & 0.00598836\\\\\n",
       "  -0.00070821 & -0.00018721\\\\\n",
       "\\end{bmatrix} \\cdot \n",
       "\\begin{bmatrix}\n",
       "  0.59126628 & -0.05731739 & 0.01018542 & 0.34491709 & -0.02488806 & 0.54040429\\\\\n",
       "  0.94760966\\\\\n",
       "  0.12513713 & -0.25103648 & 0.38983964 & -0.00345403 & 0.58696971 & 0.77081203\\\\\n",
       "  0.16547394\\\\\n",
       "  0.84622816 & -0.33826652 & -0.29436781 & 0.7299823 & 0.14987022 & 0.1407701\\\\\n",
       "  0.51436582\\\\\n",
       "  -0.11404815 & 0.05082252 & 0.36949304 & 0.20702012 & 0.87946792 & -0.00219324\\\\\n",
       "  0.05231386\\\\\n",
       "  -0.56827556 & -0.94972284 & -0.82857045 & -0.35134822 & -0.51098301 & -0.39915203\\\\\n",
       "  0.63382289\\\\\n",
       "  0.28143811 & -0.35962755 & -0.98982543 & -0.13194493 & 0.59039015 & 0.75372673\\\\\n",
       "  0.89818329\\\\\n",
       "  -0.03980036 & -0.45623304 & -0.71603774 & -0.00604101 & -0.13175504 & 0.36021688\\\\\n",
       "  0.62042949\\\\\n",
       "  0.58452733 & 0.04063825 & -0.74012433 & 0.5535888 & 0.70885058 & 0.08452321\\\\\n",
       "  0.04130541\\\\\n",
       "  0.03619205 & -0.63400976 & -0.18042344 & -0.06483035 & 0.20095045 & 0.3442493\\\\\n",
       "  0.92574411\\\\\n",
       "  0.18558151 & 0.38461105 & 0.64375063 & 0.48204104 & 0.85558737 & 0.95060498\\\\\n",
       "  0.45068901\\\\\n",
       "  0.69608746 & -0.34706779 & -0.26206372 & 0.44104799 & 0.43908579 & 0.06375605\\\\\n",
       "  0.59487164\\\\\n",
       "  0.19634914 & 0.03306031 & 0.35423569 & 0.4122254 & 0.85042144 & 0.48874138\\\\\n",
       "  0.94916999\\\\\n",
       "  0.93444279 & 0.35845604 & 0.09288845 & 0.01058194 & 0.80847977 & 0.63379662\\\\\n",
       "  0.55660902\\\\\n",
       "  -0.16622823 & -0.48257876 & -1.04358048 & 0.54396458 & 0.38219148 & 0.27530697\\\\\n",
       "  0.8440018\\\\\n",
       "\\end{bmatrix} = \n",
       "\\begin{bmatrix}\n",
       "  0.02132726 & 0.00232998 & -0.01477253 & 0.02589545 & 0.02030862 & 0.00799315\\\\\n",
       "  0.021611\\\\\n",
       "\\end{bmatrix}"
      ],
      "text/plain": [
       "<IPython.core.display.Latex object>"
      ]
     },
     "metadata": {},
     "output_type": "display_data"
    },
    {
     "data": {
      "text/latex": [
       "W = W - \\lambda (X \\cdot \\nabla f_{custo})"
      ],
      "text/plain": [
       "<IPython.core.display.Latex object>"
      ]
     },
     "metadata": {},
     "output_type": "display_data"
    },
    {
     "data": {
      "text/latex": [
       "\\begin{gather}\n",
       "\\begin{bmatrix}\n",
       "  0.59126628 & 0.12513713 & 0.84622816 & -0.11404815 & -0.56827556 & 0.28143811\\\\\n",
       "  -0.03980036 & 0.58452733 & 0.03619205 & 0.18558151 & 0.69608746 & 0.19634914\\\\\n",
       "  0.93444279 & -0.16622823\\\\\n",
       "  -0.06344842 & -0.23999139 & -0.3550007 & 0.03563901 & -0.94515334 & -0.36562806\\\\\n",
       "  -0.46489914 & 0.0371933 & -0.62905368 & 0.38540175 & -0.33880319 & 0.02886846\\\\\n",
       "  0.35895179 & -0.48244771\\\\\n",
       "  0.00405439 & 0.40088472 & -0.31110199 & 0.35430952 & -0.82400094 & -0.99582594\\\\\n",
       "  -0.72470384 & -0.74356928 & -0.17546737 & 0.64454133 & -0.25379912 & 0.35004383\\\\\n",
       "  0.0933842 & -1.04344944\\\\\n",
       "  0.34491709 & -0.00345403 & 0.7299823 & 0.20702012 & -0.35134822 & -0.13194493\\\\\n",
       "  -0.00604101 & 0.5535888 & -0.06483035 & 0.48204104 & 0.44104799 & 0.4122254\\\\\n",
       "  0.01058194 & 0.54396458\\\\\n",
       "  -0.02488806 & 0.58696971 & 0.14987022 & 0.87946792 & -0.51098301 & 0.59039015\\\\\n",
       "  -0.13175504 & 0.70885058 & 0.20095045 & 0.85558737 & 0.43908579 & 0.85042144\\\\\n",
       "  0.80847977 & 0.38219148\\\\\n",
       "  0.53427325 & 0.78185711 & 0.12403592 & -0.01737676 & -0.39458253 & 0.74772622\\\\\n",
       "  0.35155078 & 0.08107826 & 0.34920538 & 0.95139568 & 0.07202065 & 0.48454953\\\\\n",
       "  0.63429237 & 0.27543802\\\\\n",
       "  0.94147863 & 0.17651902 & 0.49763163 & 0.03713034 & 0.63839239 & 0.89218278\\\\\n",
       "  0.61176339 & 0.03786045 & 0.93070019 & 0.45147971 & 0.60313623 & 0.94497814\\\\\n",
       "  0.55710477 & 0.84413285\\\\\n",
       "\\end{bmatrix} = \n",
       "\\begin{bmatrix}\n",
       "  0.59126628 & 0.12513713 & 0.84622816 & -0.11404815 & -0.56827556 & 0.28143811\\\\\n",
       "  -0.03980036 & 0.58452733 & 0.03619205 & 0.18558151 & 0.69608746 & 0.19634914\\\\\n",
       "  0.93444279 & -0.16622823\\\\\n",
       "  -0.05731739 & -0.25103648 & -0.33826652 & 0.05082252 & -0.94972284 & -0.35962755\\\\\n",
       "  -0.45623304 & 0.04063825 & -0.63400976 & 0.38461105 & -0.34706779 & 0.03306031\\\\\n",
       "  0.35845604 & -0.48257876\\\\\n",
       "  0.01018542 & 0.38983964 & -0.29436781 & 0.36949304 & -0.82857045 & -0.98982543\\\\\n",
       "  -0.71603774 & -0.74012433 & -0.18042344 & 0.64375063 & -0.26206372 & 0.35423569\\\\\n",
       "  0.09288845 & -1.04358048\\\\\n",
       "  0.34491709 & -0.00345403 & 0.7299823 & 0.20702012 & -0.35134822 & -0.13194493\\\\\n",
       "  -0.00604101 & 0.5535888 & -0.06483035 & 0.48204104 & 0.44104799 & 0.4122254\\\\\n",
       "  0.01058194 & 0.54396458\\\\\n",
       "  -0.02488806 & 0.58696971 & 0.14987022 & 0.87946792 & -0.51098301 & 0.59039015\\\\\n",
       "  -0.13175504 & 0.70885058 & 0.20095045 & 0.85558737 & 0.43908579 & 0.85042144\\\\\n",
       "  0.80847977 & 0.38219148\\\\\n",
       "  0.54040429 & 0.77081203 & 0.1407701 & -0.00219324 & -0.39915203 & 0.75372673\\\\\n",
       "  0.36021688 & 0.08452321 & 0.3442493 & 0.95060498 & 0.06375605 & 0.48874138\\\\\n",
       "  0.63379662 & 0.27530697\\\\\n",
       "  0.94760966 & 0.16547394 & 0.51436582 & 0.05231386 & 0.63382289 & 0.89818329\\\\\n",
       "  0.62042949 & 0.04130541 & 0.92574411 & 0.45068901 & 0.59487164 & 0.94916999\\\\\n",
       "  0.55660902 & 0.8440018\\\\\n",
       "\\end{bmatrix} - 0.7\n",
       "\\begin{bmatrix}\n",
       "  0\\\\\n",
       "  1\\\\\n",
       "  1\\\\\n",
       "  0\\\\\n",
       "  0\\\\\n",
       "  1\\\\\n",
       "  1\\\\\n",
       "\\end{bmatrix} \\cdot \n",
       "\\begin{bmatrix}\n",
       "  0.00875862 & -0.0157787 & 0.02390598 & 0.02169074 & -0.00652786 & 0.00857216\\\\\n",
       "  0.01238014 & 0.00492136 & -0.00708011 & -0.00112957 & -0.01180657 & 0.00598836\\\\\n",
       "  -0.00070821 & -0.00018721\\\\\n",
       "\\end{bmatrix}\\end{gather}"
      ],
      "text/plain": [
       "<IPython.core.display.Latex object>"
      ]
     },
     "metadata": {},
     "output_type": "display_data"
    },
    {
     "data": {
      "text/latex": [
       "Camada: 0"
      ],
      "text/plain": [
       "<IPython.core.display.Latex object>"
      ]
     },
     "metadata": {},
     "output_type": "display_data"
    },
    {
     "data": {
      "text/latex": [
       "Y = Xw + b"
      ],
      "text/plain": [
       "<IPython.core.display.Latex object>"
      ]
     },
     "metadata": {},
     "output_type": "display_data"
    },
    {
     "data": {
      "text/latex": [
       "\\begin{gather}\n",
       "\\begin{bmatrix}\n",
       "  1.76858757 & 1.48089792 & 1.55383205 & 0.42530613 & -2.38561686 & -0.0572144\\\\\n",
       "  -0.00745307 & -0.25217077 & 0.71806565 & 3.36000781 & 0.7369512 & 2.53297931\\\\\n",
       "  2.3186893 & -0.08558598\\\\\n",
       "\\end{bmatrix} = \n",
       "\\begin{bmatrix}\n",
       "  1 & 0 & 1 & 1 & 0 & 1 & 1\\\\\n",
       "\\end{bmatrix} \\cdot \n",
       "\\begin{bmatrix}\n",
       "  0.59126628 & 0.12513713 & 0.84622816 & -0.11404815 & -0.56827556 & 0.28143811\\\\\n",
       "  -0.03980036 & 0.58452733 & 0.03619205 & 0.18558151 & 0.69608746 & 0.19634914\\\\\n",
       "  0.93444279 & -0.16622823\\\\\n",
       "  -0.06344842 & -0.23999139 & -0.3550007 & 0.03563901 & -0.94515334 & -0.36562806\\\\\n",
       "  -0.46489914 & 0.0371933 & -0.62905368 & 0.38540175 & -0.33880319 & 0.02886846\\\\\n",
       "  0.35895179 & -0.48244771\\\\\n",
       "  0.00405439 & 0.40088472 & -0.31110199 & 0.35430952 & -0.82400094 & -0.99582594\\\\\n",
       "  -0.72470384 & -0.74356928 & -0.17546737 & 0.64454133 & -0.25379912 & 0.35004383\\\\\n",
       "  0.0933842 & -1.04344944\\\\\n",
       "  0.34491709 & -0.00345403 & 0.7299823 & 0.20702012 & -0.35134822 & -0.13194493\\\\\n",
       "  -0.00604101 & 0.5535888 & -0.06483035 & 0.48204104 & 0.44104799 & 0.4122254\\\\\n",
       "  0.01058194 & 0.54396458\\\\\n",
       "  -0.02488806 & 0.58696971 & 0.14987022 & 0.87946792 & -0.51098301 & 0.59039015\\\\\n",
       "  -0.13175504 & 0.70885058 & 0.20095045 & 0.85558737 & 0.43908579 & 0.85042144\\\\\n",
       "  0.80847977 & 0.38219148\\\\\n",
       "  0.53427325 & 0.78185711 & 0.12403592 & -0.01737676 & -0.39458253 & 0.74772622\\\\\n",
       "  0.35155078 & 0.08107826 & 0.34920538 & 0.95139568 & 0.07202065 & 0.48454953\\\\\n",
       "  0.63429237 & 0.27543802\\\\\n",
       "  0.94147863 & 0.17651902 & 0.49763163 & 0.03713034 & 0.63839239 & 0.89218278\\\\\n",
       "  0.61176339 & 0.03786045 & 0.93070019 & 0.45147971 & 0.60313623 & 0.94497814\\\\\n",
       "  0.55710477 & 0.84413285\\\\\n",
       "\\end{bmatrix} + \n",
       "\\begin{bmatrix}\n",
       "  -6.47402068e-01 & -4.60403787e-05 & -3.32943981e-01 & -4.17289443e-02\\\\\n",
       "  -8.85802004e-01 & -8.50790634e-01 & -2.00222041e-01 & -7.65656331e-01\\\\\n",
       "  -3.57734256e-01 & 6.44968540e-01 & -8.21542002e-01 & 1.44833275e-01\\\\\n",
       "  8.88832277e-02 & -5.39443761e-01\\\\\n",
       "\\end{bmatrix}\\end{gather}"
      ],
      "text/plain": [
       "<IPython.core.display.Latex object>"
      ]
     },
     "metadata": {},
     "output_type": "display_data"
    },
    {
     "data": {
      "text/latex": [
       "Camada: 1"
      ],
      "text/plain": [
       "<IPython.core.display.Latex object>"
      ]
     },
     "metadata": {},
     "output_type": "display_data"
    },
    {
     "data": {
      "text/latex": [
       "Y = \\sigma(X)"
      ],
      "text/plain": [
       "<IPython.core.display.Latex object>"
      ]
     },
     "metadata": {},
     "output_type": "display_data"
    },
    {
     "data": {
      "text/latex": [
       "\\begin{gather}\n",
       "\\begin{bmatrix}\n",
       "  0.85428193 & 0.81470817 & 0.82546651 & 0.60475226 & 0.08427608 & 0.4857003\\\\\n",
       "  0.49813674 & 0.43728927 & 0.67218092 & 0.96643103 & 0.67632881 & 0.92642169\\\\\n",
       "  0.9104131 & 0.47861656\\\\\n",
       "\\end{bmatrix} = \\sigma(\n",
       "\\begin{bmatrix}\n",
       "  1.76858757 & 1.48089792 & 1.55383205 & 0.42530613 & -2.38561686 & -0.0572144\\\\\n",
       "  -0.00745307 & -0.25217077 & 0.71806565 & 3.36000781 & 0.7369512 & 2.53297931\\\\\n",
       "  2.3186893 & -0.08558598\\\\\n",
       "\\end{bmatrix}) \\end{gather}"
      ],
      "text/plain": [
       "<IPython.core.display.Latex object>"
      ]
     },
     "metadata": {},
     "output_type": "display_data"
    },
    {
     "data": {
      "text/latex": [
       "Camada: 2"
      ],
      "text/plain": [
       "<IPython.core.display.Latex object>"
      ]
     },
     "metadata": {},
     "output_type": "display_data"
    },
    {
     "data": {
      "text/latex": [
       "Y = Xw + b"
      ],
      "text/plain": [
       "<IPython.core.display.Latex object>"
      ]
     },
     "metadata": {},
     "output_type": "display_data"
    },
    {
     "data": {
      "text/latex": [
       "\\begin{gather}\n",
       "\\begin{bmatrix}\n",
       "  -0.13351131 & 0.01523402 & -0.32873926 & 0.31100853 & 0.78390991 & -0.3302462\\\\\n",
       "  0.08141783 & -0.02826762 & -0.06385759 & -0.02743235\\\\\n",
       "\\end{bmatrix} = \n",
       "\\begin{bmatrix}\n",
       "  0.85428193 & 0.81470817 & 0.82546651 & 0.60475226 & 0.08427608 & 0.4857003\\\\\n",
       "  0.49813674 & 0.43728927 & 0.67218092 & 0.96643103 & 0.67632881 & 0.92642169\\\\\n",
       "  0.9104131 & 0.47861656\\\\\n",
       "\\end{bmatrix} \\cdot \n",
       "\\begin{bmatrix}\n",
       "  -0.27529164 & -0.24116551 & 0.19376537 & -0.14061242 & -0.20093706 & 0.32116507\\\\\n",
       "  -0.38841855 & 0.04430949 & -0.32500753 & 0.22975893\\\\\n",
       "  0.02941479 & 0.24618673 & 0.08753688 & -0.18589618 & 0.53571174 & -0.1770179\\\\\n",
       "  0.52155918 & -0.39595812 & 0.43709105 & -0.18031941\\\\\n",
       "  -0.22541694 & 0.24570937 & -0.16359516 & 0.50716795 & -0.32314249 & 0.0226344\\\\\n",
       "  0.33065843 & 0.14426769 & -0.12465173 & -0.51024775\\\\\n",
       "  -0.23207544 & 0.14328773 & 0.41756206 & 0.26842461 & -0.25944163 & -0.30901044\\\\\n",
       "  -0.1799741 & -0.33305094 & -0.04338445 & 0.09736389\\\\\n",
       "  -0.37688192 & -0.45691415 & -0.21512306 & -0.46334633 & 0.1727516 & -0.38044895\\\\\n",
       "  -0.01267292 & -0.58030521 & 0.16062048 & -0.30523662\\\\\n",
       "  0.02474726 & -0.30395536 & -0.44629769 & -0.05579081 & -0.31781994 & -0.29252121\\\\\n",
       "  0.1998937 & -0.06919661 & -0.33887455 & 0.21745924\\\\\n",
       "  0.35507792 & -0.00662375 & -0.14480379 & 0.24071258 & 0.01581607 & 0.22545012\\\\\n",
       "  -0.14595396 & 0.03769714 & -0.06353005 & -0.03944849\\\\\n",
       "  0.20115957 & 0.05486507 & -0.46030693 & 0.34952078 & -0.01037796 & 0.12399748\\\\\n",
       "  -0.27846503 & -0.055391 & -0.47206725 & 0.1053122\\\\\n",
       "  -0.02322071 & -0.36831914 & -0.45729394 & 0.18558541 & 0.53810377 & -0.35687171\\\\\n",
       "  -0.08664972 & 0.43547506 & 0.28903804 & 0.11441113\\\\\n",
       "  -0.18974615 & -0.27042144 & 0.30883407 & 0.0310635 & 0.52426173 & 0.2666812\\\\\n",
       "  -0.0029147 & 0.42450346 & -0.14767349 & -0.37805054\\\\\n",
       "  -0.42553975 & 0.34136597 & -0.35233414 & -0.07719782 & 0.02145588 & -0.60583581\\\\\n",
       "  0.34045185 & -0.2516136 & 0.02995124 & 0.19535458\\\\\n",
       "  -0.11028082 & 0.08618316 & -0.05761009 & 0.24057473 & -0.01298004 & 0.22258912\\\\\n",
       "  -0.30117173 & -0.20736527 & 0.04442564 & -0.35931139\\\\\n",
       "  0.30832983 & 0.10133051 & 0.23420578 & -0.27693357 & -0.00418443 & -0.11001241\\\\\n",
       "  0.13324154 & -0.17190769 & -0.22514411 & 0.0840345\\\\\n",
       "  0.16871697 & -0.31987097 & 0.09433183 & -0.35695857 & -0.027341 & -0.70341532\\\\\n",
       "  -0.34865187 & -0.05025727 & 0.44072534 & 0.14056583\\\\\n",
       "\\end{bmatrix} + \n",
       "\\begin{bmatrix}\n",
       "  0.38652144 & 0.15570045 & -0.13254017 & -0.10746108 & 0.22526858 & 0.3379188\\\\\n",
       "  0.07804641 & 0.26662411 & 0.25700543 & 0.52463229\\\\\n",
       "\\end{bmatrix}\\end{gather}"
      ],
      "text/plain": [
       "<IPython.core.display.Latex object>"
      ]
     },
     "metadata": {},
     "output_type": "display_data"
    },
    {
     "data": {
      "text/latex": [
       "f_{custo}(\n",
       "\\begin{bmatrix}\n",
       "  0 & 0 & 0 & 0 & 0 & 1 & 0 & 0 & 0 & 0\\\\\n",
       "\\end{bmatrix},\n",
       "\\begin{bmatrix}\n",
       "  -0.13351131 & 0.01523402 & -0.32873926 & 0.31100853 & 0.78390991 & -0.3302462\\\\\n",
       "  0.08141783 & -0.02826762 & -0.06385759 & -0.02743235\\\\\n",
       "\\end{bmatrix}) = \n",
       "\\begin{bmatrix}\n",
       "  0.2619181096642503\\\\\n",
       "\\end{bmatrix}"
      ],
      "text/plain": [
       "<IPython.core.display.Latex object>"
      ]
     },
     "metadata": {},
     "output_type": "display_data"
    },
    {
     "data": {
      "text/latex": [
       "Camada: 2"
      ],
      "text/plain": [
       "<IPython.core.display.Latex object>"
      ]
     },
     "metadata": {},
     "output_type": "display_data"
    },
    {
     "data": {
      "text/latex": [
       "\\nabla f_{custo} = \\frac{\\partial E}{\\partial W} = \n",
       "\\begin{bmatrix}\n",
       "  -0.02670226 & 0.0030468 & -0.06574785 & 0.06220171 & 0.15678198 & -0.26604924\\\\\n",
       "  0.01628357 & -0.00565352 & -0.01277152 & -0.00548647\\\\\n",
       "\\end{bmatrix} \\cdot \n",
       "\\begin{bmatrix}\n",
       "  -0.27529164 & 0.02941479 & -0.22541694 & -0.23207544 & -0.37688192 & 0.02474726\\\\\n",
       "  0.35507792 & 0.20115957 & -0.02322071 & -0.18974615 & -0.42553975 & -0.11028082\\\\\n",
       "  0.30832983 & 0.16871697\\\\\n",
       "  -0.24116551 & 0.24618673 & 0.24570937 & 0.14328773 & -0.45691415 & -0.30395536\\\\\n",
       "  -0.00662375 & 0.05486507 & -0.36831914 & -0.27042144 & 0.34136597 & 0.08618316\\\\\n",
       "  0.10133051 & -0.31987097\\\\\n",
       "  0.19376537 & 0.08753688 & -0.16359516 & 0.41756206 & -0.21512306 & -0.44629769\\\\\n",
       "  -0.14480379 & -0.46030693 & -0.45729394 & 0.30883407 & -0.35233414 & -0.05761009\\\\\n",
       "  0.23420578 & 0.09433183\\\\\n",
       "  -0.14061242 & -0.18589618 & 0.50716795 & 0.26842461 & -0.46334633 & -0.05579081\\\\\n",
       "  0.24071258 & 0.34952078 & 0.18558541 & 0.0310635 & -0.07719782 & 0.24057473\\\\\n",
       "  -0.27693357 & -0.35695857\\\\\n",
       "  -0.20093706 & 0.53571174 & -0.32314249 & -0.25944163 & 0.1727516 & -0.31781994\\\\\n",
       "  0.01581607 & -0.01037796 & 0.53810377 & 0.52426173 & 0.02145588 & -0.01298004\\\\\n",
       "  -0.00418443 & -0.027341\\\\\n",
       "  0.32116507 & -0.1770179 & 0.0226344 & -0.30901044 & -0.38044895 & -0.29252121\\\\\n",
       "  0.22545012 & 0.12399748 & -0.35687171 & 0.2666812 & -0.60583581 & 0.22258912\\\\\n",
       "  -0.11001241 & -0.70341532\\\\\n",
       "  -0.38841855 & 0.52155918 & 0.33065843 & -0.1799741 & -0.01267292 & 0.1998937\\\\\n",
       "  -0.14595396 & -0.27846503 & -0.08664972 & -0.0029147 & 0.34045185 & -0.30117173\\\\\n",
       "  0.13324154 & -0.34865187\\\\\n",
       "  0.04430949 & -0.39595812 & 0.14426769 & -0.33305094 & -0.58030521 & -0.06919661\\\\\n",
       "  0.03769714 & -0.055391 & 0.43547506 & 0.42450346 & -0.2516136 & -0.20736527\\\\\n",
       "  -0.17190769 & -0.05025727\\\\\n",
       "  -0.32500753 & 0.43709105 & -0.12465173 & -0.04338445 & 0.16062048 & -0.33887455\\\\\n",
       "  -0.06353005 & -0.47206725 & 0.28903804 & -0.14767349 & 0.02995124 & 0.04442564\\\\\n",
       "  -0.22514411 & 0.44072534\\\\\n",
       "  0.22975893 & -0.18031941 & -0.51024775 & 0.09736389 & -0.30523662 & 0.21745924\\\\\n",
       "  -0.03944849 & 0.1053122 & 0.11441113 & -0.37805054 & 0.19535458 & -0.35931139\\\\\n",
       "  0.0840345 & 0.14056583\\\\\n",
       "\\end{bmatrix} = \n",
       "\\begin{bmatrix}\n",
       "  -0.13550397 & 0.11987005 & 0.00134586 & 0.03638458 & 0.12499462 & 0.05906358\\\\\n",
       "  -0.04407142 & 0.01341419 & 0.21222599 & -0.001373 & 0.20082432 & -0.04162331\\\\\n",
       "  -0.00638005 & 0.13717817\\\\\n",
       "\\end{bmatrix}"
      ],
      "text/plain": [
       "<IPython.core.display.Latex object>"
      ]
     },
     "metadata": {},
     "output_type": "display_data"
    },
    {
     "data": {
      "text/latex": [
       "W = W - \\lambda (X \\cdot \\nabla f_{custo})"
      ],
      "text/plain": [
       "<IPython.core.display.Latex object>"
      ]
     },
     "metadata": {},
     "output_type": "display_data"
    },
    {
     "data": {
      "text/latex": [
       "\\begin{gather}\n",
       "\\begin{bmatrix}\n",
       "  -0.25932376 & -0.24298749 & 0.23308242 & -0.17780887 & -0.29469227 & 0.48026181\\\\\n",
       "  -0.39815608 & 0.04769028 & -0.31737019 & 0.23303982\\\\\n",
       "  0.04464298 & 0.24444915 & 0.1250326 & -0.22136954 & 0.44629964 & -0.02529116\\\\\n",
       "  0.51227273 & -0.39273394 & 0.44437459 & -0.1771905\\\\\n",
       "  -0.20998767 & 0.24394884 & -0.1256043 & 0.47122615 & -0.41373528 & 0.17636471\\\\\n",
       "  0.32124936 & 0.14753445 & -0.11727201 & -0.50707752\\\\\n",
       "  -0.22077167 & 0.14199794 & 0.44539487 & 0.24209298 & -0.32581161 & -0.19638472\\\\\n",
       "  -0.18686737 & -0.33065765 & -0.03797793 & 0.09968646\\\\\n",
       "  -0.37530667 & -0.45709389 & -0.21124438 & -0.46701582 & 0.16350252 & -0.36475384\\\\\n",
       "  -0.01363354 & -0.57997169 & 0.16137392 & -0.30491295\\\\\n",
       "  0.03382577 & -0.30499124 & -0.42394407 & -0.07693878 & -0.37112428 & -0.20206708\\\\\n",
       "  0.19435745 & -0.06727447 & -0.33453236 & 0.21932459\\\\\n",
       "  0.36438889 & -0.00768615 & -0.1218778 & 0.21902311 & -0.03885313 & 0.31822035\\\\\n",
       "  -0.15163197 & 0.0396685 & -0.05907668 & -0.03753539\\\\\n",
       "  0.20933319 & 0.05393243 & -0.44018135 & 0.33048069 & -0.05836931 & 0.20543581\\\\\n",
       "  -0.28344946 & -0.05366044 & -0.46815785 & 0.10699162\\\\\n",
       "  -0.01065658 & -0.36975274 & -0.42635782 & 0.15631785 & 0.46433367 & -0.23168845\\\\\n",
       "  -0.09431157 & 0.4381352 & 0.29504738 & 0.11699266\\\\\n",
       "  -0.17168202 & -0.27248261 & 0.3533126 & -0.01101606 & 0.41819845 & 0.44666397\\\\\n",
       "  -0.01393056 & 0.42832808 & -0.13903353 & -0.37433894\\\\\n",
       "  -0.41289809 & 0.33992352 & -0.32120712 & -0.10664598 & -0.05276944 & -0.47988007\\\\\n",
       "  0.33274272 & -0.24893705 & 0.03599766 & 0.19795204\\\\\n",
       "  -0.09296453 & 0.08420732 & -0.01497292 & 0.20023722 & -0.1146524 & 0.39512078\\\\\n",
       "  -0.31173154 & -0.20369899 & 0.05270791 & -0.35575344\\\\\n",
       "  0.3253469 & 0.09938882 & 0.27610617 & -0.31657405 & -0.10409988 & 0.05953789\\\\\n",
       "  0.1228642 & -0.16830476 & -0.21700496 & 0.08753097\\\\\n",
       "  0.17766307 & -0.32089175 & 0.11635943 & -0.3777981 & -0.07986791 & -0.61428042\\\\\n",
       "  -0.35410738 & -0.04836316 & 0.4450042 & 0.14240397\\\\\n",
       "\\end{bmatrix} = \n",
       "\\begin{bmatrix}\n",
       "  -0.27529164 & -0.24116551 & 0.19376537 & -0.14061242 & -0.20093706 & 0.32116507\\\\\n",
       "  -0.38841855 & 0.04430949 & -0.32500753 & 0.22975893\\\\\n",
       "  0.02941479 & 0.24618673 & 0.08753688 & -0.18589618 & 0.53571174 & -0.1770179\\\\\n",
       "  0.52155918 & -0.39595812 & 0.43709105 & -0.18031941\\\\\n",
       "  -0.22541694 & 0.24570937 & -0.16359516 & 0.50716795 & -0.32314249 & 0.0226344\\\\\n",
       "  0.33065843 & 0.14426769 & -0.12465173 & -0.51024775\\\\\n",
       "  -0.23207544 & 0.14328773 & 0.41756206 & 0.26842461 & -0.25944163 & -0.30901044\\\\\n",
       "  -0.1799741 & -0.33305094 & -0.04338445 & 0.09736389\\\\\n",
       "  -0.37688192 & -0.45691415 & -0.21512306 & -0.46334633 & 0.1727516 & -0.38044895\\\\\n",
       "  -0.01267292 & -0.58030521 & 0.16062048 & -0.30523662\\\\\n",
       "  0.02474726 & -0.30395536 & -0.44629769 & -0.05579081 & -0.31781994 & -0.29252121\\\\\n",
       "  0.1998937 & -0.06919661 & -0.33887455 & 0.21745924\\\\\n",
       "  0.35507792 & -0.00662375 & -0.14480379 & 0.24071258 & 0.01581607 & 0.22545012\\\\\n",
       "  -0.14595396 & 0.03769714 & -0.06353005 & -0.03944849\\\\\n",
       "  0.20115957 & 0.05486507 & -0.46030693 & 0.34952078 & -0.01037796 & 0.12399748\\\\\n",
       "  -0.27846503 & -0.055391 & -0.47206725 & 0.1053122\\\\\n",
       "  -0.02322071 & -0.36831914 & -0.45729394 & 0.18558541 & 0.53810377 & -0.35687171\\\\\n",
       "  -0.08664972 & 0.43547506 & 0.28903804 & 0.11441113\\\\\n",
       "  -0.18974615 & -0.27042144 & 0.30883407 & 0.0310635 & 0.52426173 & 0.2666812\\\\\n",
       "  -0.0029147 & 0.42450346 & -0.14767349 & -0.37805054\\\\\n",
       "  -0.42553975 & 0.34136597 & -0.35233414 & -0.07719782 & 0.02145588 & -0.60583581\\\\\n",
       "  0.34045185 & -0.2516136 & 0.02995124 & 0.19535458\\\\\n",
       "  -0.11028082 & 0.08618316 & -0.05761009 & 0.24057473 & -0.01298004 & 0.22258912\\\\\n",
       "  -0.30117173 & -0.20736527 & 0.04442564 & -0.35931139\\\\\n",
       "  0.30832983 & 0.10133051 & 0.23420578 & -0.27693357 & -0.00418443 & -0.11001241\\\\\n",
       "  0.13324154 & -0.17190769 & -0.22514411 & 0.0840345\\\\\n",
       "  0.16871697 & -0.31987097 & 0.09433183 & -0.35695857 & -0.027341 & -0.70341532\\\\\n",
       "  -0.34865187 & -0.05025727 & 0.44072534 & 0.14056583\\\\\n",
       "\\end{bmatrix} - 0.7\n",
       "\\begin{bmatrix}\n",
       "  0.85428193\\\\\n",
       "  0.81470817\\\\\n",
       "  0.82546651\\\\\n",
       "  0.60475226\\\\\n",
       "  0.08427608\\\\\n",
       "  0.4857003\\\\\n",
       "  0.49813674\\\\\n",
       "  0.43728927\\\\\n",
       "  0.67218092\\\\\n",
       "  0.96643103\\\\\n",
       "  0.67632881\\\\\n",
       "  0.92642169\\\\\n",
       "  0.9104131\\\\\n",
       "  0.47861656\\\\\n",
       "\\end{bmatrix} \\cdot \n",
       "\\begin{bmatrix}\n",
       "  -0.02670226 & 0.0030468 & -0.06574785 & 0.06220171 & 0.15678198 & -0.26604924\\\\\n",
       "  0.01628357 & -0.00565352 & -0.01277152 & -0.00548647\\\\\n",
       "\\end{bmatrix}\\end{gather}"
      ],
      "text/plain": [
       "<IPython.core.display.Latex object>"
      ]
     },
     "metadata": {},
     "output_type": "display_data"
    },
    {
     "data": {
      "text/latex": [
       "Camada: 1"
      ],
      "text/plain": [
       "<IPython.core.display.Latex object>"
      ]
     },
     "metadata": {},
     "output_type": "display_data"
    },
    {
     "data": {
      "text/latex": [
       "\\nabla = \\frac{\\partial E}{\\partial Y} \\frac{\\partial Y}{\\partial X}"
      ],
      "text/plain": [
       "<IPython.core.display.Latex object>"
      ]
     },
     "metadata": {},
     "output_type": "display_data"
    },
    {
     "data": {
      "text/latex": [
       "\\begin{gather}\n",
       "\\begin{bmatrix}\n",
       "  -1.68681180e-02 & 1.80954348e-02 & 1.93899663e-04 & 8.69689617e-03\\\\\n",
       "  9.64628782e-03 & 1.47538184e-02 & -1.10177013e-02 & 3.30079441e-03\\\\\n",
       "  4.67647893e-02 & -4.45431376e-05 & 4.39620808e-02 & -2.83723383e-03\\\\\n",
       "  -5.20363999e-04 & 3.42318187e-02\\\\\n",
       "\\end{bmatrix} = \n",
       "\\begin{bmatrix}\n",
       "  -0.13550397 & 0.11987005 & 0.00134586 & 0.03638458 & 0.12499462 & 0.05906358\\\\\n",
       "  -0.04407142 & 0.01341419 & 0.21222599 & -0.001373 & 0.20082432 & -0.04162331\\\\\n",
       "  -0.00638005 & 0.13717817\\\\\n",
       "\\end{bmatrix} \\cdot  \\sigma^{'}(\n",
       "\\begin{bmatrix}\n",
       "  1.76858757 & 1.48089792 & 1.55383205 & 0.42530613 & -2.38561686 & -0.0572144\\\\\n",
       "  -0.00745307 & -0.25217077 & 0.71806565 & 3.36000781 & 0.7369512 & 2.53297931\\\\\n",
       "  2.3186893 & -0.08558598\\\\\n",
       "\\end{bmatrix}) \\end{gather}"
      ],
      "text/plain": [
       "<IPython.core.display.Latex object>"
      ]
     },
     "metadata": {},
     "output_type": "display_data"
    },
    {
     "data": {
      "text/latex": [
       "Camada: 0"
      ],
      "text/plain": [
       "<IPython.core.display.Latex object>"
      ]
     },
     "metadata": {},
     "output_type": "display_data"
    },
    {
     "data": {
      "text/latex": [
       "\\nabla f_{custo} = \\frac{\\partial E}{\\partial W} = \n",
       "\\begin{bmatrix}\n",
       "  -1.68681180e-02 & 1.80954348e-02 & 1.93899663e-04 & 8.69689617e-03\\\\\n",
       "  9.64628782e-03 & 1.47538184e-02 & -1.10177013e-02 & 3.30079441e-03\\\\\n",
       "  4.67647893e-02 & -4.45431376e-05 & 4.39620808e-02 & -2.83723383e-03\\\\\n",
       "  -5.20363999e-04 & 3.42318187e-02\\\\\n",
       "\\end{bmatrix} \\cdot \n",
       "\\begin{bmatrix}\n",
       "  0.59126628 & -0.06344842 & 0.00405439 & 0.34491709 & -0.02488806 & 0.53427325\\\\\n",
       "  0.94147863\\\\\n",
       "  0.12513713 & -0.23999139 & 0.40088472 & -0.00345403 & 0.58696971 & 0.78185711\\\\\n",
       "  0.17651902\\\\\n",
       "  0.84622816 & -0.3550007 & -0.31110199 & 0.7299823 & 0.14987022 & 0.12403592\\\\\n",
       "  0.49763163\\\\\n",
       "  -0.11404815 & 0.03563901 & 0.35430952 & 0.20702012 & 0.87946792 & -0.01737676\\\\\n",
       "  0.03713034\\\\\n",
       "  -0.56827556 & -0.94515334 & -0.82400094 & -0.35134822 & -0.51098301 & -0.39458253\\\\\n",
       "  0.63839239\\\\\n",
       "  0.28143811 & -0.36562806 & -0.99582594 & -0.13194493 & 0.59039015 & 0.74772622\\\\\n",
       "  0.89218278\\\\\n",
       "  -0.03980036 & -0.46489914 & -0.72470384 & -0.00604101 & -0.13175504 & 0.35155078\\\\\n",
       "  0.61176339\\\\\n",
       "  0.58452733 & 0.0371933 & -0.74356928 & 0.5535888 & 0.70885058 & 0.08107826\\\\\n",
       "  0.03786045\\\\\n",
       "  0.03619205 & -0.62905368 & -0.17546737 & -0.06483035 & 0.20095045 & 0.34920538\\\\\n",
       "  0.93070019\\\\\n",
       "  0.18558151 & 0.38540175 & 0.64454133 & 0.48204104 & 0.85558737 & 0.95139568\\\\\n",
       "  0.45147971\\\\\n",
       "  0.69608746 & -0.33880319 & -0.25379912 & 0.44104799 & 0.43908579 & 0.07202065\\\\\n",
       "  0.60313623\\\\\n",
       "  0.19634914 & 0.02886846 & 0.35004383 & 0.4122254 & 0.85042144 & 0.48454953\\\\\n",
       "  0.94497814\\\\\n",
       "  0.93444279 & 0.35895179 & 0.0933842 & 0.01058194 & 0.80847977 & 0.63429237\\\\\n",
       "  0.55710477\\\\\n",
       "  -0.16622823 & -0.48244771 & -1.04344944 & 0.54396458 & 0.38219148 & 0.27543802\\\\\n",
       "  0.84413285\\\\\n",
       "\\end{bmatrix} = \n",
       "\\begin{bmatrix}\n",
       "  0.0180536 & -0.0734111 & -0.06305658 & 0.02640126 & 0.0652038 & 0.0358069\\\\\n",
       "  0.09638278\\\\\n",
       "\\end{bmatrix}"
      ],
      "text/plain": [
       "<IPython.core.display.Latex object>"
      ]
     },
     "metadata": {},
     "output_type": "display_data"
    },
    {
     "data": {
      "text/latex": [
       "W = W - \\lambda (X \\cdot \\nabla f_{custo})"
      ],
      "text/plain": [
       "<IPython.core.display.Latex object>"
      ]
     },
     "metadata": {},
     "output_type": "display_data"
    },
    {
     "data": {
      "text/latex": [
       "\\begin{gather}\n",
       "\\begin{bmatrix}\n",
       "  0.60307396 & 0.11247032 & 0.84609244 & -0.12013598 & -0.57502796 & 0.27111044\\\\\n",
       "  -0.03208797 & 0.58221677 & 0.0034567 & 0.18561269 & 0.665314 & 0.19833521\\\\\n",
       "  0.93480704 & -0.19019051\\\\\n",
       "  -0.06344842 & -0.23999139 & -0.3550007 & 0.03563901 & -0.94515334 & -0.36562806\\\\\n",
       "  -0.46489914 & 0.0371933 & -0.62905368 & 0.38540175 & -0.33880319 & 0.02886846\\\\\n",
       "  0.35895179 & -0.48244771\\\\\n",
       "  0.01586207 & 0.38821792 & -0.31123772 & 0.34822169 & -0.83075335 & -1.00615361\\\\\n",
       "  -0.71699145 & -0.74587984 & -0.20820272 & 0.64457251 & -0.28457258 & 0.3520299\\\\\n",
       "  0.09374845 & -1.06741171\\\\\n",
       "  0.35672477 & -0.01612084 & 0.72984657 & 0.2009323 & -0.35810062 & -0.14227261\\\\\n",
       "  0.00167138 & 0.55127825 & -0.0975657 & 0.48207222 & 0.41027453 & 0.41421146\\\\\n",
       "  0.0109462 & 0.52000231\\\\\n",
       "  -0.02488806 & 0.58696971 & 0.14987022 & 0.87946792 & -0.51098301 & 0.59039015\\\\\n",
       "  -0.13175504 & 0.70885058 & 0.20095045 & 0.85558737 & 0.43908579 & 0.85042144\\\\\n",
       "  0.80847977 & 0.38219148\\\\\n",
       "  0.54608094 & 0.76919031 & 0.12390019 & -0.02346459 & -0.40133493 & 0.73739854\\\\\n",
       "  0.35926317 & 0.0787677 & 0.31647003 & 0.95142686 & 0.04124719 & 0.48653559\\\\\n",
       "  0.63465662 & 0.25147575\\\\\n",
       "  0.95328631 & 0.16385222 & 0.4974959 & 0.03104251 & 0.63163999 & 0.88185511\\\\\n",
       "  0.61947579 & 0.0355499 & 0.89796483 & 0.45151089 & 0.57236277 & 0.9469642\\\\\n",
       "  0.55746902 & 0.82017058\\\\\n",
       "\\end{bmatrix} = \n",
       "\\begin{bmatrix}\n",
       "  0.59126628 & 0.12513713 & 0.84622816 & -0.11404815 & -0.56827556 & 0.28143811\\\\\n",
       "  -0.03980036 & 0.58452733 & 0.03619205 & 0.18558151 & 0.69608746 & 0.19634914\\\\\n",
       "  0.93444279 & -0.16622823\\\\\n",
       "  -0.06344842 & -0.23999139 & -0.3550007 & 0.03563901 & -0.94515334 & -0.36562806\\\\\n",
       "  -0.46489914 & 0.0371933 & -0.62905368 & 0.38540175 & -0.33880319 & 0.02886846\\\\\n",
       "  0.35895179 & -0.48244771\\\\\n",
       "  0.00405439 & 0.40088472 & -0.31110199 & 0.35430952 & -0.82400094 & -0.99582594\\\\\n",
       "  -0.72470384 & -0.74356928 & -0.17546737 & 0.64454133 & -0.25379912 & 0.35004383\\\\\n",
       "  0.0933842 & -1.04344944\\\\\n",
       "  0.34491709 & -0.00345403 & 0.7299823 & 0.20702012 & -0.35134822 & -0.13194493\\\\\n",
       "  -0.00604101 & 0.5535888 & -0.06483035 & 0.48204104 & 0.44104799 & 0.4122254\\\\\n",
       "  0.01058194 & 0.54396458\\\\\n",
       "  -0.02488806 & 0.58696971 & 0.14987022 & 0.87946792 & -0.51098301 & 0.59039015\\\\\n",
       "  -0.13175504 & 0.70885058 & 0.20095045 & 0.85558737 & 0.43908579 & 0.85042144\\\\\n",
       "  0.80847977 & 0.38219148\\\\\n",
       "  0.53427325 & 0.78185711 & 0.12403592 & -0.01737676 & -0.39458253 & 0.74772622\\\\\n",
       "  0.35155078 & 0.08107826 & 0.34920538 & 0.95139568 & 0.07202065 & 0.48454953\\\\\n",
       "  0.63429237 & 0.27543802\\\\\n",
       "  0.94147863 & 0.17651902 & 0.49763163 & 0.03713034 & 0.63839239 & 0.89218278\\\\\n",
       "  0.61176339 & 0.03786045 & 0.93070019 & 0.45147971 & 0.60313623 & 0.94497814\\\\\n",
       "  0.55710477 & 0.84413285\\\\\n",
       "\\end{bmatrix} - 0.7\n",
       "\\begin{bmatrix}\n",
       "  1\\\\\n",
       "  0\\\\\n",
       "  1\\\\\n",
       "  1\\\\\n",
       "  0\\\\\n",
       "  1\\\\\n",
       "  1\\\\\n",
       "\\end{bmatrix} \\cdot \n",
       "\\begin{bmatrix}\n",
       "  -1.68681180e-02 & 1.80954348e-02 & 1.93899663e-04 & 8.69689617e-03\\\\\n",
       "  9.64628782e-03 & 1.47538184e-02 & -1.10177013e-02 & 3.30079441e-03\\\\\n",
       "  4.67647893e-02 & -4.45431376e-05 & 4.39620808e-02 & -2.83723383e-03\\\\\n",
       "  -5.20363999e-04 & 3.42318187e-02\\\\\n",
       "\\end{bmatrix}\\end{gather}"
      ],
      "text/plain": [
       "<IPython.core.display.Latex object>"
      ]
     },
     "metadata": {},
     "output_type": "display_data"
    },
    {
     "data": {
      "text/latex": [
       "Camada: 0"
      ],
      "text/plain": [
       "<IPython.core.display.Latex object>"
      ]
     },
     "metadata": {},
     "output_type": "display_data"
    },
    {
     "data": {
      "text/latex": [
       "Y = Xw + b"
      ],
      "text/plain": [
       "<IPython.core.display.Latex object>"
      ]
     },
     "metadata": {},
     "output_type": "display_data"
    },
    {
     "data": {
      "text/latex": [
       "\\begin{gather}\n",
       "\\begin{bmatrix}\n",
       "  1.21147165 & 1.87939648 & 0.85679545 & 1.38838306 & -2.36208631 & 0.20009928\\\\\n",
       "  -0.0608458 & -0.1394003 & 0.71914728 & 4.03016957 & 0.32608225 & 3.19698193\\\\\n",
       "  2.19454755 & 0.34302236\\\\\n",
       "\\end{bmatrix} = \n",
       "\\begin{bmatrix}\n",
       "  0 & 0 & 1 & 1 & 1 & 1 & 1\\\\\n",
       "\\end{bmatrix} \\cdot \n",
       "\\begin{bmatrix}\n",
       "  0.60307396 & 0.11247032 & 0.84609244 & -0.12013598 & -0.57502796 & 0.27111044\\\\\n",
       "  -0.03208797 & 0.58221677 & 0.0034567 & 0.18561269 & 0.665314 & 0.19833521\\\\\n",
       "  0.93480704 & -0.19019051\\\\\n",
       "  -0.06344842 & -0.23999139 & -0.3550007 & 0.03563901 & -0.94515334 & -0.36562806\\\\\n",
       "  -0.46489914 & 0.0371933 & -0.62905368 & 0.38540175 & -0.33880319 & 0.02886846\\\\\n",
       "  0.35895179 & -0.48244771\\\\\n",
       "  0.01586207 & 0.38821792 & -0.31123772 & 0.34822169 & -0.83075335 & -1.00615361\\\\\n",
       "  -0.71699145 & -0.74587984 & -0.20820272 & 0.64457251 & -0.28457258 & 0.3520299\\\\\n",
       "  0.09374845 & -1.06741171\\\\\n",
       "  0.35672477 & -0.01612084 & 0.72984657 & 0.2009323 & -0.35810062 & -0.14227261\\\\\n",
       "  0.00167138 & 0.55127825 & -0.0975657 & 0.48207222 & 0.41027453 & 0.41421146\\\\\n",
       "  0.0109462 & 0.52000231\\\\\n",
       "  -0.02488806 & 0.58696971 & 0.14987022 & 0.87946792 & -0.51098301 & 0.59039015\\\\\n",
       "  -0.13175504 & 0.70885058 & 0.20095045 & 0.85558737 & 0.43908579 & 0.85042144\\\\\n",
       "  0.80847977 & 0.38219148\\\\\n",
       "  0.54608094 & 0.76919031 & 0.12390019 & -0.02346459 & -0.40133493 & 0.73739854\\\\\n",
       "  0.35926317 & 0.0787677 & 0.31647003 & 0.95142686 & 0.04124719 & 0.48653559\\\\\n",
       "  0.63465662 & 0.25147575\\\\\n",
       "  0.95328631 & 0.16385222 & 0.4974959 & 0.03104251 & 0.63163999 & 0.88185511\\\\\n",
       "  0.61947579 & 0.0355499 & 0.89796483 & 0.45151089 & 0.57236277 & 0.9469642\\\\\n",
       "  0.55746902 & 0.82017058\\\\\n",
       "\\end{bmatrix} + \n",
       "\\begin{bmatrix}\n",
       "  -0.63559439 & -0.01271284 & -0.33307971 & -0.04781677 & -0.89255441 & -0.86111831\\\\\n",
       "  -0.19250965 & -0.76796689 & -0.39046961 & 0.64499972 & -0.85231546 & 0.14681934\\\\\n",
       "  0.08924748 & -0.56340603\\\\\n",
       "\\end{bmatrix}\\end{gather}"
      ],
      "text/plain": [
       "<IPython.core.display.Latex object>"
      ]
     },
     "metadata": {},
     "output_type": "display_data"
    },
    {
     "data": {
      "text/latex": [
       "Camada: 1"
      ],
      "text/plain": [
       "<IPython.core.display.Latex object>"
      ]
     },
     "metadata": {},
     "output_type": "display_data"
    },
    {
     "data": {
      "text/latex": [
       "Y = \\sigma(X)"
      ],
      "text/plain": [
       "<IPython.core.display.Latex object>"
      ]
     },
     "metadata": {},
     "output_type": "display_data"
    },
    {
     "data": {
      "text/latex": [
       "\\begin{gather}\n",
       "\\begin{bmatrix}\n",
       "  0.77055924 & 0.86754179 & 0.7019907 & 0.80033398 & 0.08610987 & 0.54985857\\\\\n",
       "  0.48479324 & 0.46520625 & 0.67241921 & 0.98253899 & 0.58080582 & 0.96072054\\\\\n",
       "  0.89975881 & 0.5849245\\\\\n",
       "\\end{bmatrix} = \\sigma(\n",
       "\\begin{bmatrix}\n",
       "  1.21147165 & 1.87939648 & 0.85679545 & 1.38838306 & -2.36208631 & 0.20009928\\\\\n",
       "  -0.0608458 & -0.1394003 & 0.71914728 & 4.03016957 & 0.32608225 & 3.19698193\\\\\n",
       "  2.19454755 & 0.34302236\\\\\n",
       "\\end{bmatrix}) \\end{gather}"
      ],
      "text/plain": [
       "<IPython.core.display.Latex object>"
      ]
     },
     "metadata": {},
     "output_type": "display_data"
    },
    {
     "data": {
      "text/latex": [
       "Camada: 2"
      ],
      "text/plain": [
       "<IPython.core.display.Latex object>"
      ]
     },
     "metadata": {},
     "output_type": "display_data"
    },
    {
     "data": {
      "text/latex": [
       "Y = Xw + b"
      ],
      "text/plain": [
       "<IPython.core.display.Latex object>"
      ]
     },
     "metadata": {},
     "output_type": "display_data"
    },
    {
     "data": {
      "text/latex": [
       "\\begin{gather}\n",
       "\\begin{bmatrix}\n",
       "  0.07201276 & -0.05869781 & 0.13068849 & -0.05921262 & -0.0696017 & 1.02445779\\\\\n",
       "  -0.09936681 & -0.09166178 & 0.07608468 & 0.05017008\\\\\n",
       "\\end{bmatrix} = \n",
       "\\begin{bmatrix}\n",
       "  0.77055924 & 0.86754179 & 0.7019907 & 0.80033398 & 0.08610987 & 0.54985857\\\\\n",
       "  0.48479324 & 0.46520625 & 0.67241921 & 0.98253899 & 0.58080582 & 0.96072054\\\\\n",
       "  0.89975881 & 0.5849245\\\\\n",
       "\\end{bmatrix} \\cdot \n",
       "\\begin{bmatrix}\n",
       "  -0.25932376 & -0.24298749 & 0.23308242 & -0.17780887 & -0.29469227 & 0.48026181\\\\\n",
       "  -0.39815608 & 0.04769028 & -0.31737019 & 0.23303982\\\\\n",
       "  0.04464298 & 0.24444915 & 0.1250326 & -0.22136954 & 0.44629964 & -0.02529116\\\\\n",
       "  0.51227273 & -0.39273394 & 0.44437459 & -0.1771905\\\\\n",
       "  -0.20998767 & 0.24394884 & -0.1256043 & 0.47122615 & -0.41373528 & 0.17636471\\\\\n",
       "  0.32124936 & 0.14753445 & -0.11727201 & -0.50707752\\\\\n",
       "  -0.22077167 & 0.14199794 & 0.44539487 & 0.24209298 & -0.32581161 & -0.19638472\\\\\n",
       "  -0.18686737 & -0.33065765 & -0.03797793 & 0.09968646\\\\\n",
       "  -0.37530667 & -0.45709389 & -0.21124438 & -0.46701582 & 0.16350252 & -0.36475384\\\\\n",
       "  -0.01363354 & -0.57997169 & 0.16137392 & -0.30491295\\\\\n",
       "  0.03382577 & -0.30499124 & -0.42394407 & -0.07693878 & -0.37112428 & -0.20206708\\\\\n",
       "  0.19435745 & -0.06727447 & -0.33453236 & 0.21932459\\\\\n",
       "  0.36438889 & -0.00768615 & -0.1218778 & 0.21902311 & -0.03885313 & 0.31822035\\\\\n",
       "  -0.15163197 & 0.0396685 & -0.05907668 & -0.03753539\\\\\n",
       "  0.20933319 & 0.05393243 & -0.44018135 & 0.33048069 & -0.05836931 & 0.20543581\\\\\n",
       "  -0.28344946 & -0.05366044 & -0.46815785 & 0.10699162\\\\\n",
       "  -0.01065658 & -0.36975274 & -0.42635782 & 0.15631785 & 0.46433367 & -0.23168845\\\\\n",
       "  -0.09431157 & 0.4381352 & 0.29504738 & 0.11699266\\\\\n",
       "  -0.17168202 & -0.27248261 & 0.3533126 & -0.01101606 & 0.41819845 & 0.44666397\\\\\n",
       "  -0.01393056 & 0.42832808 & -0.13903353 & -0.37433894\\\\\n",
       "  -0.41289809 & 0.33992352 & -0.32120712 & -0.10664598 & -0.05276944 & -0.47988007\\\\\n",
       "  0.33274272 & -0.24893705 & 0.03599766 & 0.19795204\\\\\n",
       "  -0.09296453 & 0.08420732 & -0.01497292 & 0.20023722 & -0.1146524 & 0.39512078\\\\\n",
       "  -0.31173154 & -0.20369899 & 0.05270791 & -0.35575344\\\\\n",
       "  0.3253469 & 0.09938882 & 0.27610617 & -0.31657405 & -0.10409988 & 0.05953789\\\\\n",
       "  0.1228642 & -0.16830476 & -0.21700496 & 0.08753097\\\\\n",
       "  0.17766307 & -0.32089175 & 0.11635943 & -0.3777981 & -0.07986791 & -0.61428042\\\\\n",
       "  -0.35410738 & -0.04836316 & 0.4450042 & 0.14240397\\\\\n",
       "\\end{bmatrix} + \n",
       "\\begin{bmatrix}\n",
       "  0.40521302 & 0.15356768 & -0.08651667 & -0.15100228 & 0.1155212 & 0.52415327\\\\\n",
       "  0.06664791 & 0.27058158 & 0.26594549 & 0.52847282\\\\\n",
       "\\end{bmatrix}\\end{gather}"
      ],
      "text/plain": [
       "<IPython.core.display.Latex object>"
      ]
     },
     "metadata": {},
     "output_type": "display_data"
    },
    {
     "data": {
      "text/latex": [
       "f_{custo}(\n",
       "\\begin{bmatrix}\n",
       "  0 & 0 & 0 & 0 & 0 & 0 & 1 & 0 & 0 & 0\\\\\n",
       "\\end{bmatrix},\n",
       "\\begin{bmatrix}\n",
       "  0.07201276 & -0.05869781 & 0.13068849 & -0.05921262 & -0.0696017 & 1.02445779\\\\\n",
       "  -0.09936681 & -0.09166178 & 0.07608468 & 0.05017008\\\\\n",
       "\\end{bmatrix}) = \n",
       "\\begin{bmatrix}\n",
       "  0.23088902221457194\\\\\n",
       "\\end{bmatrix}"
      ],
      "text/plain": [
       "<IPython.core.display.Latex object>"
      ]
     },
     "metadata": {},
     "output_type": "display_data"
    },
    {
     "data": {
      "text/latex": [
       "Camada: 2"
      ],
      "text/plain": [
       "<IPython.core.display.Latex object>"
      ]
     },
     "metadata": {},
     "output_type": "display_data"
    },
    {
     "data": {
      "text/latex": [
       "\\nabla f_{custo} = \\frac{\\partial E}{\\partial W} = \n",
       "\\begin{bmatrix}\n",
       "  0.01440255 & -0.01173956 & 0.0261377 & -0.01184252 & -0.01392034 & 0.20489156\\\\\n",
       "  -0.21987336 & -0.01833236 & 0.01521694 & 0.01003402\\\\\n",
       "\\end{bmatrix} \\cdot \n",
       "\\begin{bmatrix}\n",
       "  -0.25932376 & 0.04464298 & -0.20998767 & -0.22077167 & -0.37530667 & 0.03382577\\\\\n",
       "  0.36438889 & 0.20933319 & -0.01065658 & -0.17168202 & -0.41289809 & -0.09296453\\\\\n",
       "  0.3253469 & 0.17766307\\\\\n",
       "  -0.24298749 & 0.24444915 & 0.24394884 & 0.14199794 & -0.45709389 & -0.30499124\\\\\n",
       "  -0.00768615 & 0.05393243 & -0.36975274 & -0.27248261 & 0.33992352 & 0.08420732\\\\\n",
       "  0.09938882 & -0.32089175\\\\\n",
       "  0.23308242 & 0.1250326 & -0.1256043 & 0.44539487 & -0.21124438 & -0.42394407\\\\\n",
       "  -0.1218778 & -0.44018135 & -0.42635782 & 0.3533126 & -0.32120712 & -0.01497292\\\\\n",
       "  0.27610617 & 0.11635943\\\\\n",
       "  -0.17780887 & -0.22136954 & 0.47122615 & 0.24209298 & -0.46701582 & -0.07693878\\\\\n",
       "  0.21902311 & 0.33048069 & 0.15631785 & -0.01101606 & -0.10664598 & 0.20023722\\\\\n",
       "  -0.31657405 & -0.3777981\\\\\n",
       "  -0.29469227 & 0.44629964 & -0.41373528 & -0.32581161 & 0.16350252 & -0.37112428\\\\\n",
       "  -0.03885313 & -0.05836931 & 0.46433367 & 0.41819845 & -0.05276944 & -0.1146524\\\\\n",
       "  -0.10409988 & -0.07986791\\\\\n",
       "  0.48026181 & -0.02529116 & 0.17636471 & -0.19638472 & -0.36475384 & -0.20206708\\\\\n",
       "  0.31822035 & 0.20543581 & -0.23168845 & 0.44666397 & -0.47988007 & 0.39512078\\\\\n",
       "  0.05953789 & -0.61428042\\\\\n",
       "  -0.39815608 & 0.51227273 & 0.32124936 & -0.18686737 & -0.01363354 & 0.19435745\\\\\n",
       "  -0.15163197 & -0.28344946 & -0.09431157 & -0.01393056 & 0.33274272 & -0.31173154\\\\\n",
       "  0.1228642 & -0.35410738\\\\\n",
       "  0.04769028 & -0.39273394 & 0.14753445 & -0.33065765 & -0.57997169 & -0.06727447\\\\\n",
       "  0.0396685 & -0.05366044 & 0.4381352 & 0.42832808 & -0.24893705 & -0.20369899\\\\\n",
       "  -0.16830476 & -0.04836316\\\\\n",
       "  -0.31737019 & 0.44437459 & -0.11727201 & -0.03797793 & 0.16137392 & -0.33453236\\\\\n",
       "  -0.05907668 & -0.46815785 & 0.29504738 & -0.13903353 & 0.03599766 & 0.05270791\\\\\n",
       "  -0.21700496 & 0.4450042\\\\\n",
       "  0.23303982 & -0.1771905 & -0.50707752 & 0.09968646 & -0.30491295 & 0.21932459\\\\\n",
       "  -0.03753539 & 0.10699162 & 0.11699266 & -0.37433894 & 0.19795204 & -0.35575344\\\\\n",
       "  0.08753097 & 0.14240397\\\\\n",
       "\\end{bmatrix} = \n",
       "\\begin{bmatrix}\n",
       "  0.19399796 & -0.10818301 & -0.05306812 & 0.01579701 & -0.06401507 & -0.08672837\\\\\n",
       "  0.0966375 & 0.08712366 & -0.04437447 & 0.08512652 & -0.18072243 & 0.14697092\\\\\n",
       "  0.00177977 & -0.02396183\\\\\n",
       "\\end{bmatrix}"
      ],
      "text/plain": [
       "<IPython.core.display.Latex object>"
      ]
     },
     "metadata": {},
     "output_type": "display_data"
    },
    {
     "data": {
      "text/latex": [
       "W = W - \\lambda (X \\cdot \\nabla f_{custo})"
      ],
      "text/plain": [
       "<IPython.core.display.Latex object>"
      ]
     },
     "metadata": {},
     "output_type": "display_data"
    },
    {
     "data": {
      "text/latex": [
       "\\begin{gather}\n",
       "\\begin{bmatrix}\n",
       "  -2.67092369e-01 & -2.36655267e-01 & 2.18983965e-01 & -1.71421116e-01\\\\\n",
       "  -2.87183755e-01 & 3.69745058e-01 & -2.79558267e-01 & 5.75786006e-02\\\\\n",
       "  -3.25578079e-01 & 2.27627561e-01\\\\\n",
       "  3.58966062e-02 & 2.51578342e-01 & 1.09159718e-01 & -2.14177825e-01\\\\\n",
       "  4.54753178e-01 & -1.49717548e-01 & 6.45797264e-01 & -3.81601079e-01\\\\\n",
       "  4.35133659e-01 & -1.83283945e-01\\\\\n",
       "  -2.17064987e-01 & 2.49717588e-01 & -1.38448195e-01 & 4.77045488e-01\\\\\n",
       "  -4.06894916e-01 & 7.56823360e-02 & 4.29293696e-01 & 1.56542848e-01\\\\\n",
       "  -1.24749516e-01 & -5.12008167e-01\\\\\n",
       "  -2.28840462e-01 & 1.48574839e-01 & 4.30751654e-01 & 2.48727559e-01\\\\\n",
       "  -3.18012963e-01 & -3.11171897e-01 & -6.36868808e-02 & -3.20387246e-01\\\\\n",
       "  -4.65029696e-02 & 9.40650630e-02\\\\\n",
       "  -3.76174813e-01 & -4.56386268e-01 & -2.12819883e-01 & -4.66301985e-01\\\\\n",
       "  1.64341592e-01 & -3.77104071e-01 & -3.80256665e-04 & -5.78866674e-01\\\\\n",
       "  1.60456687e-01 & -3.05517770e-01\\\\\n",
       "  2.82822118e-02 & -3.00472674e-01 & -4.34004493e-01 & -7.23805806e-02\\\\\n",
       "  -3.65766326e-01 & -2.80930042e-01 & 2.78986923e-01 & -6.02183277e-02\\\\\n",
       "  -3.40389377e-01 & 2.15462486e-01\\\\\n",
       "  3.59501307e-01 & -3.70227237e-03 & -1.30747763e-01 & 2.23041930e-01\\\\\n",
       "  -3.41291904e-02 & 2.48689325e-01 & -7.70167824e-02 & 4.58896814e-02\\\\\n",
       "  -6.42406232e-02 & -4.09404821e-02\\\\\n",
       "  2.04643084e-01 & 5.77553562e-02 & -4.48692945e-01 & 3.34337137e-01\\\\\n",
       "  -5.38362321e-02 & 1.38714031e-01 & -2.11848941e-01 & -4.76906150e-02\\\\\n",
       "  -4.73113164e-01 & 1.03724101e-01\\\\\n",
       "  -1.74357716e-02 & -3.64227003e-01 & -4.38660664e-01 & 1.61892049e-01\\\\\n",
       "  4.70885884e-01 & -3.28129566e-01 & 9.18138386e-03 & 4.46764115e-01\\\\\n",
       "  2.87884863e-01 & 1.12269717e-01\\\\\n",
       "  -1.81587772e-01 & -2.64408403e-01 & 3.35335686e-01 & -2.87104464e-03\\\\\n",
       "  4.27772543e-01 & 3.05744205e-01 & 1.37293348e-01 & 4.40936661e-01\\\\\n",
       "  -1.49499395e-01 & -3.81240105e-01\\\\\n",
       "  -4.18753649e-01 & 3.44696405e-01 & -3.31833773e-01 & -1.01831238e-01\\\\\n",
       "  -4.71099248e-02 & -5.63181617e-01 & 4.22135332e-01 & -2.41483770e-01\\\\\n",
       "  2.98110020e-02 & 1.93872573e-01\\\\\n",
       "  -1.02650306e-01 & 9.21022246e-02 & -3.25506374e-02 & 2.08201369e-01\\\\\n",
       "  -1.05290908e-01 & 2.57330306e-01 & -1.63865740e-01 & -1.91370398e-01\\\\\n",
       "  4.24744511e-02 & -3.62501360e-01\\\\\n",
       "  3.16275719e-01 & 1.06782760e-01 & 2.59643836e-01 & -3.09115255e-01\\\\\n",
       "  -9.53324196e-02 & -6.95091964e-02 & 2.61347294e-01 & -1.56758472e-01\\\\\n",
       "  -2.26589059e-01 & 8.12112311e-02\\\\\n",
       "  1.71765991e-01 & -3.16085020e-01 & 1.05657428e-01 & -3.72949216e-01\\\\\n",
       "  -7.41682683e-02 & -6.98172687e-01 & -2.64080856e-01 & -4.08570343e-02\\\\\n",
       "  4.38773671e-01 & 1.38295574e-01\\\\\n",
       "\\end{bmatrix} = \n",
       "\\begin{bmatrix}\n",
       "  -0.25932376 & -0.24298749 & 0.23308242 & -0.17780887 & -0.29469227 & 0.48026181\\\\\n",
       "  -0.39815608 & 0.04769028 & -0.31737019 & 0.23303982\\\\\n",
       "  0.04464298 & 0.24444915 & 0.1250326 & -0.22136954 & 0.44629964 & -0.02529116\\\\\n",
       "  0.51227273 & -0.39273394 & 0.44437459 & -0.1771905\\\\\n",
       "  -0.20998767 & 0.24394884 & -0.1256043 & 0.47122615 & -0.41373528 & 0.17636471\\\\\n",
       "  0.32124936 & 0.14753445 & -0.11727201 & -0.50707752\\\\\n",
       "  -0.22077167 & 0.14199794 & 0.44539487 & 0.24209298 & -0.32581161 & -0.19638472\\\\\n",
       "  -0.18686737 & -0.33065765 & -0.03797793 & 0.09968646\\\\\n",
       "  -0.37530667 & -0.45709389 & -0.21124438 & -0.46701582 & 0.16350252 & -0.36475384\\\\\n",
       "  -0.01363354 & -0.57997169 & 0.16137392 & -0.30491295\\\\\n",
       "  0.03382577 & -0.30499124 & -0.42394407 & -0.07693878 & -0.37112428 & -0.20206708\\\\\n",
       "  0.19435745 & -0.06727447 & -0.33453236 & 0.21932459\\\\\n",
       "  0.36438889 & -0.00768615 & -0.1218778 & 0.21902311 & -0.03885313 & 0.31822035\\\\\n",
       "  -0.15163197 & 0.0396685 & -0.05907668 & -0.03753539\\\\\n",
       "  0.20933319 & 0.05393243 & -0.44018135 & 0.33048069 & -0.05836931 & 0.20543581\\\\\n",
       "  -0.28344946 & -0.05366044 & -0.46815785 & 0.10699162\\\\\n",
       "  -0.01065658 & -0.36975274 & -0.42635782 & 0.15631785 & 0.46433367 & -0.23168845\\\\\n",
       "  -0.09431157 & 0.4381352 & 0.29504738 & 0.11699266\\\\\n",
       "  -0.17168202 & -0.27248261 & 0.3533126 & -0.01101606 & 0.41819845 & 0.44666397\\\\\n",
       "  -0.01393056 & 0.42832808 & -0.13903353 & -0.37433894\\\\\n",
       "  -0.41289809 & 0.33992352 & -0.32120712 & -0.10664598 & -0.05276944 & -0.47988007\\\\\n",
       "  0.33274272 & -0.24893705 & 0.03599766 & 0.19795204\\\\\n",
       "  -0.09296453 & 0.08420732 & -0.01497292 & 0.20023722 & -0.1146524 & 0.39512078\\\\\n",
       "  -0.31173154 & -0.20369899 & 0.05270791 & -0.35575344\\\\\n",
       "  0.3253469 & 0.09938882 & 0.27610617 & -0.31657405 & -0.10409988 & 0.05953789\\\\\n",
       "  0.1228642 & -0.16830476 & -0.21700496 & 0.08753097\\\\\n",
       "  0.17766307 & -0.32089175 & 0.11635943 & -0.3777981 & -0.07986791 & -0.61428042\\\\\n",
       "  -0.35410738 & -0.04836316 & 0.4450042 & 0.14240397\\\\\n",
       "\\end{bmatrix} - 0.7\n",
       "\\begin{bmatrix}\n",
       "  0.77055924\\\\\n",
       "  0.86754179\\\\\n",
       "  0.7019907\\\\\n",
       "  0.80033398\\\\\n",
       "  0.08610987\\\\\n",
       "  0.54985857\\\\\n",
       "  0.48479324\\\\\n",
       "  0.46520625\\\\\n",
       "  0.67241921\\\\\n",
       "  0.98253899\\\\\n",
       "  0.58080582\\\\\n",
       "  0.96072054\\\\\n",
       "  0.89975881\\\\\n",
       "  0.5849245\\\\\n",
       "\\end{bmatrix} \\cdot \n",
       "\\begin{bmatrix}\n",
       "  0.01440255 & -0.01173956 & 0.0261377 & -0.01184252 & -0.01392034 & 0.20489156\\\\\n",
       "  -0.21987336 & -0.01833236 & 0.01521694 & 0.01003402\\\\\n",
       "\\end{bmatrix}\\end{gather}"
      ],
      "text/plain": [
       "<IPython.core.display.Latex object>"
      ]
     },
     "metadata": {},
     "output_type": "display_data"
    },
    {
     "data": {
      "text/latex": [
       "Camada: 1"
      ],
      "text/plain": [
       "<IPython.core.display.Latex object>"
      ]
     },
     "metadata": {},
     "output_type": "display_data"
    },
    {
     "data": {
      "text/latex": [
       "\\nabla = \\frac{\\partial E}{\\partial Y} \\frac{\\partial Y}{\\partial X}"
      ],
      "text/plain": [
       "<IPython.core.display.Latex object>"
      ]
     },
     "metadata": {},
     "output_type": "display_data"
    },
    {
     "data": {
      "text/latex": [
       "\\begin{gather}\n",
       "\\begin{bmatrix}\n",
       "  0.03429839 & -0.01243164 & -0.01110184 & 0.00252435 & -0.00503766 & -0.0214665\\\\\n",
       "  0.02413703 & 0.02167544 & -0.00977444 & 0.00146044 & -0.04400057 & 0.00554618\\\\\n",
       "  0.00016052 & -0.00581764\\\\\n",
       "\\end{bmatrix} = \n",
       "\\begin{bmatrix}\n",
       "  0.19399796 & -0.10818301 & -0.05306812 & 0.01579701 & -0.06401507 & -0.08672837\\\\\n",
       "  0.0966375 & 0.08712366 & -0.04437447 & 0.08512652 & -0.18072243 & 0.14697092\\\\\n",
       "  0.00177977 & -0.02396183\\\\\n",
       "\\end{bmatrix} \\cdot  \\sigma^{'}(\n",
       "\\begin{bmatrix}\n",
       "  1.21147165 & 1.87939648 & 0.85679545 & 1.38838306 & -2.36208631 & 0.20009928\\\\\n",
       "  -0.0608458 & -0.1394003 & 0.71914728 & 4.03016957 & 0.32608225 & 3.19698193\\\\\n",
       "  2.19454755 & 0.34302236\\\\\n",
       "\\end{bmatrix}) \\end{gather}"
      ],
      "text/plain": [
       "<IPython.core.display.Latex object>"
      ]
     },
     "metadata": {},
     "output_type": "display_data"
    },
    {
     "data": {
      "text/latex": [
       "Camada: 0"
      ],
      "text/plain": [
       "<IPython.core.display.Latex object>"
      ]
     },
     "metadata": {},
     "output_type": "display_data"
    },
    {
     "data": {
      "text/latex": [
       "\\nabla f_{custo} = \\frac{\\partial E}{\\partial W} = \n",
       "\\begin{bmatrix}\n",
       "  0.03429839 & -0.01243164 & -0.01110184 & 0.00252435 & -0.00503766 & -0.0214665\\\\\n",
       "  0.02413703 & 0.02167544 & -0.00977444 & 0.00146044 & -0.04400057 & 0.00554618\\\\\n",
       "  0.00016052 & -0.00581764\\\\\n",
       "\\end{bmatrix} \\cdot \n",
       "\\begin{bmatrix}\n",
       "  0.60307396 & -0.06344842 & 0.01586207 & 0.35672477 & -0.02488806 & 0.54608094\\\\\n",
       "  0.95328631\\\\\n",
       "  0.11247032 & -0.23999139 & 0.38821792 & -0.01612084 & 0.58696971 & 0.76919031\\\\\n",
       "  0.16385222\\\\\n",
       "  0.84609244 & -0.3550007 & -0.31123772 & 0.72984657 & 0.14987022 & 0.12390019\\\\\n",
       "  0.4974959\\\\\n",
       "  -0.12013598 & 0.03563901 & 0.34822169 & 0.2009323 & 0.87946792 & -0.02346459\\\\\n",
       "  0.03104251\\\\\n",
       "  -0.57502796 & -0.94515334 & -0.83075335 & -0.35810062 & -0.51098301 & -0.40133493\\\\\n",
       "  0.63163999\\\\\n",
       "  0.27111044 & -0.36562806 & -1.00615361 & -0.14227261 & 0.59039015 & 0.73739854\\\\\n",
       "  0.88185511\\\\\n",
       "  -0.03208797 & -0.46489914 & -0.71699145 & 0.00167138 & -0.13175504 & 0.35926317\\\\\n",
       "  0.61947579\\\\\n",
       "  0.58221677 & 0.0371933 & -0.74587984 & 0.55127825 & 0.70885058 & 0.0787677\\\\\n",
       "  0.0355499\\\\\n",
       "  0.0034567 & -0.62905368 & -0.20820272 & -0.0975657 & 0.20095045 & 0.31647003\\\\\n",
       "  0.89796483\\\\\n",
       "  0.18561269 & 0.38540175 & 0.64457251 & 0.48207222 & 0.85558737 & 0.95142686\\\\\n",
       "  0.45151089\\\\\n",
       "  0.665314 & -0.33880319 & -0.28457258 & 0.41027453 & 0.43908579 & 0.04124719\\\\\n",
       "  0.57236277\\\\\n",
       "  0.19833521 & 0.02886846 & 0.3520299 & 0.41421146 & 0.85042144 & 0.48653559\\\\\n",
       "  0.9469642\\\\\n",
       "  0.93480704 & 0.35895179 & 0.09374845 & 0.0109462 & 0.80847977 & 0.63465662\\\\\n",
       "  0.55746902\\\\\n",
       "  -0.19019051 & -0.48244771 & -1.06741171 & 0.52000231 & 0.38219148 & 0.25147575\\\\\n",
       "  0.82017058\\\\\n",
       "\\end{bmatrix} = \n",
       "\\begin{bmatrix}\n",
       "  -0.00816825 & 0.03167692 & 0.0160376 & 0.00456695 & -0.02292108 & 0.00212253\\\\\n",
       "  -0.0139069\\\\\n",
       "\\end{bmatrix}"
      ],
      "text/plain": [
       "<IPython.core.display.Latex object>"
      ]
     },
     "metadata": {},
     "output_type": "display_data"
    },
    {
     "data": {
      "text/latex": [
       "W = W - \\lambda (X \\cdot \\nabla f_{custo})"
      ],
      "text/plain": [
       "<IPython.core.display.Latex object>"
      ]
     },
     "metadata": {},
     "output_type": "display_data"
    },
    {
     "data": {
      "text/latex": [
       "\\begin{gather}\n",
       "\\begin{bmatrix}\n",
       "  0.60307396 & 0.11247032 & 0.84609244 & -0.12013598 & -0.57502796 & 0.27111044\\\\\n",
       "  -0.03208797 & 0.58221677 & 0.0034567 & 0.18561269 & 0.665314 & 0.19833521\\\\\n",
       "  0.93480704 & -0.19019051\\\\\n",
       "  -0.06344842 & -0.23999139 & -0.3550007 & 0.03563901 & -0.94515334 & -0.36562806\\\\\n",
       "  -0.46489914 & 0.0371933 & -0.62905368 & 0.38540175 & -0.33880319 & 0.02886846\\\\\n",
       "  0.35895179 & -0.48244771\\\\\n",
       "  -0.0081468 & 0.39692007 & -0.30346643 & 0.34645464 & -0.82722698 & -0.99112707\\\\\n",
       "  -0.73388736 & -0.76105265 & -0.20136061 & 0.6435502 & -0.25377218 & 0.34814757\\\\\n",
       "  0.09363609 & -1.06333936\\\\\n",
       "  0.3327159 & -0.00741869 & 0.73761785 & 0.19916525 & -0.35457426 & -0.12724606\\\\\n",
       "  -0.01522454 & 0.53610544 & -0.0907236 & 0.48104991 & 0.44107493 & 0.41032914\\\\\n",
       "  0.01083383 & 0.52407466\\\\\n",
       "  -0.04889694 & 0.59567186 & 0.15764151 & 0.87770087 & -0.50745664 & 0.6054167\\\\\n",
       "  -0.14865096 & 0.69367777 & 0.20779255 & 0.85456506 & 0.46988619 & 0.84653912\\\\\n",
       "  0.8083674 & 0.38626382\\\\\n",
       "  0.52207206 & 0.77789246 & 0.13167148 & -0.02523164 & -0.39780856 & 0.75242509\\\\\n",
       "  0.34236725 & 0.06359489 & 0.32331213 & 0.95040455 & 0.07204759 & 0.48265326\\\\\n",
       "  0.63454425 & 0.25554809\\\\\n",
       "  0.92927744 & 0.17255437 & 0.50526719 & 0.02927546 & 0.63516636 & 0.89688166\\\\\n",
       "  0.60257987 & 0.02037709 & 0.90480694 & 0.45048858 & 0.60316317 & 0.94308187\\\\\n",
       "  0.55735666 & 0.82424293\\\\\n",
       "\\end{bmatrix} = \n",
       "\\begin{bmatrix}\n",
       "  0.60307396 & 0.11247032 & 0.84609244 & -0.12013598 & -0.57502796 & 0.27111044\\\\\n",
       "  -0.03208797 & 0.58221677 & 0.0034567 & 0.18561269 & 0.665314 & 0.19833521\\\\\n",
       "  0.93480704 & -0.19019051\\\\\n",
       "  -0.06344842 & -0.23999139 & -0.3550007 & 0.03563901 & -0.94515334 & -0.36562806\\\\\n",
       "  -0.46489914 & 0.0371933 & -0.62905368 & 0.38540175 & -0.33880319 & 0.02886846\\\\\n",
       "  0.35895179 & -0.48244771\\\\\n",
       "  0.01586207 & 0.38821792 & -0.31123772 & 0.34822169 & -0.83075335 & -1.00615361\\\\\n",
       "  -0.71699145 & -0.74587984 & -0.20820272 & 0.64457251 & -0.28457258 & 0.3520299\\\\\n",
       "  0.09374845 & -1.06741171\\\\\n",
       "  0.35672477 & -0.01612084 & 0.72984657 & 0.2009323 & -0.35810062 & -0.14227261\\\\\n",
       "  0.00167138 & 0.55127825 & -0.0975657 & 0.48207222 & 0.41027453 & 0.41421146\\\\\n",
       "  0.0109462 & 0.52000231\\\\\n",
       "  -0.02488806 & 0.58696971 & 0.14987022 & 0.87946792 & -0.51098301 & 0.59039015\\\\\n",
       "  -0.13175504 & 0.70885058 & 0.20095045 & 0.85558737 & 0.43908579 & 0.85042144\\\\\n",
       "  0.80847977 & 0.38219148\\\\\n",
       "  0.54608094 & 0.76919031 & 0.12390019 & -0.02346459 & -0.40133493 & 0.73739854\\\\\n",
       "  0.35926317 & 0.0787677 & 0.31647003 & 0.95142686 & 0.04124719 & 0.48653559\\\\\n",
       "  0.63465662 & 0.25147575\\\\\n",
       "  0.95328631 & 0.16385222 & 0.4974959 & 0.03104251 & 0.63163999 & 0.88185511\\\\\n",
       "  0.61947579 & 0.0355499 & 0.89796483 & 0.45151089 & 0.57236277 & 0.9469642\\\\\n",
       "  0.55746902 & 0.82017058\\\\\n",
       "\\end{bmatrix} - 0.7\n",
       "\\begin{bmatrix}\n",
       "  0\\\\\n",
       "  0\\\\\n",
       "  1\\\\\n",
       "  1\\\\\n",
       "  1\\\\\n",
       "  1\\\\\n",
       "  1\\\\\n",
       "\\end{bmatrix} \\cdot \n",
       "\\begin{bmatrix}\n",
       "  0.03429839 & -0.01243164 & -0.01110184 & 0.00252435 & -0.00503766 & -0.0214665\\\\\n",
       "  0.02413703 & 0.02167544 & -0.00977444 & 0.00146044 & -0.04400057 & 0.00554618\\\\\n",
       "  0.00016052 & -0.00581764\\\\\n",
       "\\end{bmatrix}\\end{gather}"
      ],
      "text/plain": [
       "<IPython.core.display.Latex object>"
      ]
     },
     "metadata": {},
     "output_type": "display_data"
    },
    {
     "data": {
      "text/latex": [
       "Camada: 0"
      ],
      "text/plain": [
       "<IPython.core.display.Latex object>"
      ]
     },
     "metadata": {},
     "output_type": "display_data"
    },
    {
     "data": {
      "text/latex": [
       "Y = Xw + b"
      ],
      "text/plain": [
       "<IPython.core.display.Latex object>"
      ]
     },
     "metadata": {},
     "output_type": "display_data"
    },
    {
     "data": {
      "text/latex": [
       "\\begin{gather}\n",
       "\\begin{bmatrix}\n",
       "  -0.12812452 & 0.2653883 & -0.13768312 & 0.21237385 & -3.23643632 & -1.93173645\\\\\n",
       "  -1.44028004 & -0.92478227 & -1.21058509 & 1.85854205 & -0.74877643 & 0.71828825\\\\\n",
       "  1.47653004 & -2.29531126\\\\\n",
       "\\end{bmatrix} = \n",
       "\\begin{bmatrix}\n",
       "  1 & 1 & 1 & 0 & 0 & 0 & 0\\\\\n",
       "\\end{bmatrix} \\cdot \n",
       "\\begin{bmatrix}\n",
       "  0.60307396 & 0.11247032 & 0.84609244 & -0.12013598 & -0.57502796 & 0.27111044\\\\\n",
       "  -0.03208797 & 0.58221677 & 0.0034567 & 0.18561269 & 0.665314 & 0.19833521\\\\\n",
       "  0.93480704 & -0.19019051\\\\\n",
       "  -0.06344842 & -0.23999139 & -0.3550007 & 0.03563901 & -0.94515334 & -0.36562806\\\\\n",
       "  -0.46489914 & 0.0371933 & -0.62905368 & 0.38540175 & -0.33880319 & 0.02886846\\\\\n",
       "  0.35895179 & -0.48244771\\\\\n",
       "  -0.0081468 & 0.39692007 & -0.30346643 & 0.34645464 & -0.82722698 & -0.99112707\\\\\n",
       "  -0.73388736 & -0.76105265 & -0.20136061 & 0.6435502 & -0.25377218 & 0.34814757\\\\\n",
       "  0.09363609 & -1.06333936\\\\\n",
       "  0.3327159 & -0.00741869 & 0.73761785 & 0.19916525 & -0.35457426 & -0.12724606\\\\\n",
       "  -0.01522454 & 0.53610544 & -0.0907236 & 0.48104991 & 0.44107493 & 0.41032914\\\\\n",
       "  0.01083383 & 0.52407466\\\\\n",
       "  -0.04889694 & 0.59567186 & 0.15764151 & 0.87770087 & -0.50745664 & 0.6054167\\\\\n",
       "  -0.14865096 & 0.69367777 & 0.20779255 & 0.85456506 & 0.46988619 & 0.84653912\\\\\n",
       "  0.8083674 & 0.38626382\\\\\n",
       "  0.52207206 & 0.77789246 & 0.13167148 & -0.02523164 & -0.39780856 & 0.75242509\\\\\n",
       "  0.34236725 & 0.06359489 & 0.32331213 & 0.95040455 & 0.07204759 & 0.48265326\\\\\n",
       "  0.63454425 & 0.25554809\\\\\n",
       "  0.92927744 & 0.17255437 & 0.50526719 & 0.02927546 & 0.63516636 & 0.89688166\\\\\n",
       "  0.60257987 & 0.02037709 & 0.90480694 & 0.45048858 & 0.60316317 & 0.94308187\\\\\n",
       "  0.55735666 & 0.82424293\\\\\n",
       "\\end{bmatrix} + \n",
       "\\begin{bmatrix}\n",
       "  -0.65960326 & -0.0040107 & -0.32530842 & -0.04958382 & -0.88902804 & -0.84609176\\\\\n",
       "  -0.20940557 & -0.7831397 & -0.3836275 & 0.64397741 & -0.82151506 & 0.14293701\\\\\n",
       "  0.08913512 & -0.55933369\\\\\n",
       "\\end{bmatrix}\\end{gather}"
      ],
      "text/plain": [
       "<IPython.core.display.Latex object>"
      ]
     },
     "metadata": {},
     "output_type": "display_data"
    },
    {
     "data": {
      "text/latex": [
       "Camada: 1"
      ],
      "text/plain": [
       "<IPython.core.display.Latex object>"
      ]
     },
     "metadata": {},
     "output_type": "display_data"
    },
    {
     "data": {
      "text/latex": [
       "Y = \\sigma(X)"
      ],
      "text/plain": [
       "<IPython.core.display.Latex object>"
      ]
     },
     "metadata": {},
     "output_type": "display_data"
    },
    {
     "data": {
      "text/latex": [
       "\\begin{gather}\n",
       "\\begin{bmatrix}\n",
       "  0.46801262 & 0.56596039 & 0.46563349 & 0.5528948 & 0.03781735 & 0.12655851\\\\\n",
       "  0.19150199 & 0.28398448 & 0.22959754 & 0.86512692 & 0.32108797 & 0.67222997\\\\\n",
       "  0.81404789 & 0.09151203\\\\\n",
       "\\end{bmatrix} = \\sigma(\n",
       "\\begin{bmatrix}\n",
       "  -0.12812452 & 0.2653883 & -0.13768312 & 0.21237385 & -3.23643632 & -1.93173645\\\\\n",
       "  -1.44028004 & -0.92478227 & -1.21058509 & 1.85854205 & -0.74877643 & 0.71828825\\\\\n",
       "  1.47653004 & -2.29531126\\\\\n",
       "\\end{bmatrix}) \\end{gather}"
      ],
      "text/plain": [
       "<IPython.core.display.Latex object>"
      ]
     },
     "metadata": {},
     "output_type": "display_data"
    },
    {
     "data": {
      "text/latex": [
       "Camada: 2"
      ],
      "text/plain": [
       "<IPython.core.display.Latex object>"
      ]
     },
     "metadata": {},
     "output_type": "display_data"
    },
    {
     "data": {
      "text/latex": [
       "Y = Xw + b"
      ],
      "text/plain": [
       "<IPython.core.display.Latex object>"
      ]
     },
     "metadata": {},
     "output_type": "display_data"
    },
    {
     "data": {
      "text/latex": [
       "\\begin{gather}\n",
       "\\begin{bmatrix}\n",
       "  0.08778254 & 0.27046016 & 0.29970759 & -0.01745789 & 0.12893336 & 0.43028629\\\\\n",
       "  0.91513658 & 0.10238587 & -0.08769654 & -0.03153216\\\\\n",
       "\\end{bmatrix} = \n",
       "\\begin{bmatrix}\n",
       "  0.46801262 & 0.56596039 & 0.46563349 & 0.5528948 & 0.03781735 & 0.12655851\\\\\n",
       "  0.19150199 & 0.28398448 & 0.22959754 & 0.86512692 & 0.32108797 & 0.67222997\\\\\n",
       "  0.81404789 & 0.09151203\\\\\n",
       "\\end{bmatrix} \\cdot \n",
       "\\begin{bmatrix}\n",
       "  -2.67092369e-01 & -2.36655267e-01 & 2.18983965e-01 & -1.71421116e-01\\\\\n",
       "  -2.87183755e-01 & 3.69745058e-01 & -2.79558267e-01 & 5.75786006e-02\\\\\n",
       "  -3.25578079e-01 & 2.27627561e-01\\\\\n",
       "  3.58966062e-02 & 2.51578342e-01 & 1.09159718e-01 & -2.14177825e-01\\\\\n",
       "  4.54753178e-01 & -1.49717548e-01 & 6.45797264e-01 & -3.81601079e-01\\\\\n",
       "  4.35133659e-01 & -1.83283945e-01\\\\\n",
       "  -2.17064987e-01 & 2.49717588e-01 & -1.38448195e-01 & 4.77045488e-01\\\\\n",
       "  -4.06894916e-01 & 7.56823360e-02 & 4.29293696e-01 & 1.56542848e-01\\\\\n",
       "  -1.24749516e-01 & -5.12008167e-01\\\\\n",
       "  -2.28840462e-01 & 1.48574839e-01 & 4.30751654e-01 & 2.48727559e-01\\\\\n",
       "  -3.18012963e-01 & -3.11171897e-01 & -6.36868808e-02 & -3.20387246e-01\\\\\n",
       "  -4.65029696e-02 & 9.40650630e-02\\\\\n",
       "  -3.76174813e-01 & -4.56386268e-01 & -2.12819883e-01 & -4.66301985e-01\\\\\n",
       "  1.64341592e-01 & -3.77104071e-01 & -3.80256665e-04 & -5.78866674e-01\\\\\n",
       "  1.60456687e-01 & -3.05517770e-01\\\\\n",
       "  2.82822118e-02 & -3.00472674e-01 & -4.34004493e-01 & -7.23805806e-02\\\\\n",
       "  -3.65766326e-01 & -2.80930042e-01 & 2.78986923e-01 & -6.02183277e-02\\\\\n",
       "  -3.40389377e-01 & 2.15462486e-01\\\\\n",
       "  3.59501307e-01 & -3.70227237e-03 & -1.30747763e-01 & 2.23041930e-01\\\\\n",
       "  -3.41291904e-02 & 2.48689325e-01 & -7.70167824e-02 & 4.58896814e-02\\\\\n",
       "  -6.42406232e-02 & -4.09404821e-02\\\\\n",
       "  2.04643084e-01 & 5.77553562e-02 & -4.48692945e-01 & 3.34337137e-01\\\\\n",
       "  -5.38362321e-02 & 1.38714031e-01 & -2.11848941e-01 & -4.76906150e-02\\\\\n",
       "  -4.73113164e-01 & 1.03724101e-01\\\\\n",
       "  -1.74357716e-02 & -3.64227003e-01 & -4.38660664e-01 & 1.61892049e-01\\\\\n",
       "  4.70885884e-01 & -3.28129566e-01 & 9.18138386e-03 & 4.46764115e-01\\\\\n",
       "  2.87884863e-01 & 1.12269717e-01\\\\\n",
       "  -1.81587772e-01 & -2.64408403e-01 & 3.35335686e-01 & -2.87104464e-03\\\\\n",
       "  4.27772543e-01 & 3.05744205e-01 & 1.37293348e-01 & 4.40936661e-01\\\\\n",
       "  -1.49499395e-01 & -3.81240105e-01\\\\\n",
       "  -4.18753649e-01 & 3.44696405e-01 & -3.31833773e-01 & -1.01831238e-01\\\\\n",
       "  -4.71099248e-02 & -5.63181617e-01 & 4.22135332e-01 & -2.41483770e-01\\\\\n",
       "  2.98110020e-02 & 1.93872573e-01\\\\\n",
       "  -1.02650306e-01 & 9.21022246e-02 & -3.25506374e-02 & 2.08201369e-01\\\\\n",
       "  -1.05290908e-01 & 2.57330306e-01 & -1.63865740e-01 & -1.91370398e-01\\\\\n",
       "  4.24744511e-02 & -3.62501360e-01\\\\\n",
       "  3.16275719e-01 & 1.06782760e-01 & 2.59643836e-01 & -3.09115255e-01\\\\\n",
       "  -9.53324196e-02 & -6.95091964e-02 & 2.61347294e-01 & -1.56758472e-01\\\\\n",
       "  -2.26589059e-01 & 8.12112311e-02\\\\\n",
       "  1.71765991e-01 & -3.16085020e-01 & 1.05657428e-01 & -3.72949216e-01\\\\\n",
       "  -7.41682683e-02 & -6.98172687e-01 & -2.64080856e-01 & -4.08570343e-02\\\\\n",
       "  4.38773671e-01 & 1.38295574e-01\\\\\n",
       "\\end{bmatrix} + \n",
       "\\begin{bmatrix}\n",
       "  0.39513123 & 0.16178538 & -0.10481306 & -0.14271251 & 0.12526544 & 0.38072918\\\\\n",
       "  0.22055927 & 0.28341423 & 0.25529364 & 0.52144901\\\\\n",
       "\\end{bmatrix}\\end{gather}"
      ],
      "text/plain": [
       "<IPython.core.display.Latex object>"
      ]
     },
     "metadata": {},
     "output_type": "display_data"
    },
    {
     "data": {
      "text/latex": [
       "f_{custo}(\n",
       "\\begin{bmatrix}\n",
       "  0 & 0 & 0 & 0 & 0 & 0 & 0 & 1 & 0 & 0\\\\\n",
       "\\end{bmatrix},\n",
       "\\begin{bmatrix}\n",
       "  0.08778254 & 0.27046016 & 0.29970759 & -0.01745789 & 0.12893336 & 0.43028629\\\\\n",
       "  0.91513658 & 0.10238587 & -0.08769654 & -0.03153216\\\\\n",
       "\\end{bmatrix}) = \n",
       "\\begin{bmatrix}\n",
       "  0.20246250376142122\\\\\n",
       "\\end{bmatrix}"
      ],
      "text/plain": [
       "<IPython.core.display.Latex object>"
      ]
     },
     "metadata": {},
     "output_type": "display_data"
    },
    {
     "data": {
      "text/latex": [
       "Camada: 2"
      ],
      "text/plain": [
       "<IPython.core.display.Latex object>"
      ]
     },
     "metadata": {},
     "output_type": "display_data"
    },
    {
     "data": {
      "text/latex": [
       "\\nabla f_{custo} = \\frac{\\partial E}{\\partial W} = \n",
       "\\begin{bmatrix}\n",
       "  0.01755651 & 0.05409203 & 0.05994152 & -0.00349158 & 0.02578667 & 0.08605726\\\\\n",
       "  0.18302732 & -0.17952283 & -0.01753931 & -0.00630643\\\\\n",
       "\\end{bmatrix} \\cdot \n",
       "\\begin{bmatrix}\n",
       "  -2.67092369e-01 & 3.58966062e-02 & -2.17064987e-01 & -2.28840462e-01\\\\\n",
       "  -3.76174813e-01 & 2.82822118e-02 & 3.59501307e-01 & 2.04643084e-01\\\\\n",
       "  -1.74357716e-02 & -1.81587772e-01 & -4.18753649e-01 & -1.02650306e-01\\\\\n",
       "  3.16275719e-01 & 1.71765991e-01\\\\\n",
       "  -2.36655267e-01 & 2.51578342e-01 & 2.49717588e-01 & 1.48574839e-01\\\\\n",
       "  -4.56386268e-01 & -3.00472674e-01 & -3.70227237e-03 & 5.77553562e-02\\\\\n",
       "  -3.64227003e-01 & -2.64408403e-01 & 3.44696405e-01 & 9.21022246e-02\\\\\n",
       "  1.06782760e-01 & -3.16085020e-01\\\\\n",
       "  2.18983965e-01 & 1.09159718e-01 & -1.38448195e-01 & 4.30751654e-01\\\\\n",
       "  -2.12819883e-01 & -4.34004493e-01 & -1.30747763e-01 & -4.48692945e-01\\\\\n",
       "  -4.38660664e-01 & 3.35335686e-01 & -3.31833773e-01 & -3.25506374e-02\\\\\n",
       "  2.59643836e-01 & 1.05657428e-01\\\\\n",
       "  -1.71421116e-01 & -2.14177825e-01 & 4.77045488e-01 & 2.48727559e-01\\\\\n",
       "  -4.66301985e-01 & -7.23805806e-02 & 2.23041930e-01 & 3.34337137e-01\\\\\n",
       "  1.61892049e-01 & -2.87104464e-03 & -1.01831238e-01 & 2.08201369e-01\\\\\n",
       "  -3.09115255e-01 & -3.72949216e-01\\\\\n",
       "  -2.87183755e-01 & 4.54753178e-01 & -4.06894916e-01 & -3.18012963e-01\\\\\n",
       "  1.64341592e-01 & -3.65766326e-01 & -3.41291904e-02 & -5.38362321e-02\\\\\n",
       "  4.70885884e-01 & 4.27772543e-01 & -4.71099248e-02 & -1.05290908e-01\\\\\n",
       "  -9.53324196e-02 & -7.41682683e-02\\\\\n",
       "  3.69745058e-01 & -1.49717548e-01 & 7.56823360e-02 & -3.11171897e-01\\\\\n",
       "  -3.77104071e-01 & -2.80930042e-01 & 2.48689325e-01 & 1.38714031e-01\\\\\n",
       "  -3.28129566e-01 & 3.05744205e-01 & -5.63181617e-01 & 2.57330306e-01\\\\\n",
       "  -6.95091964e-02 & -6.98172687e-01\\\\\n",
       "  -2.79558267e-01 & 6.45797264e-01 & 4.29293696e-01 & -6.36868808e-02\\\\\n",
       "  -3.80256665e-04 & 2.78986923e-01 & -7.70167824e-02 & -2.11848941e-01\\\\\n",
       "  9.18138386e-03 & 1.37293348e-01 & 4.22135332e-01 & -1.63865740e-01\\\\\n",
       "  2.61347294e-01 & -2.64080856e-01\\\\\n",
       "  5.75786006e-02 & -3.81601079e-01 & 1.56542848e-01 & -3.20387246e-01\\\\\n",
       "  -5.78866674e-01 & -6.02183277e-02 & 4.58896814e-02 & -4.76906150e-02\\\\\n",
       "  4.46764115e-01 & 4.40936661e-01 & -2.41483770e-01 & -1.91370398e-01\\\\\n",
       "  -1.56758472e-01 & -4.08570343e-02\\\\\n",
       "  -3.25578079e-01 & 4.35133659e-01 & -1.24749516e-01 & -4.65029696e-02\\\\\n",
       "  1.60456687e-01 & -3.40389377e-01 & -6.42406232e-02 & -4.73113164e-01\\\\\n",
       "  2.87884863e-01 & -1.49499395e-01 & 2.98110020e-02 & 4.24744511e-02\\\\\n",
       "  -2.26589059e-01 & 4.38773671e-01\\\\\n",
       "  2.27627561e-01 & -1.83283945e-01 & -5.12008167e-01 & 9.40650630e-02\\\\\n",
       "  -3.05517770e-01 & 2.15462486e-01 & -4.09404821e-02 & 1.03724101e-01\\\\\n",
       "  1.12269717e-01 & -3.81240105e-01 & 1.93872573e-01 & -3.62501360e-01\\\\\n",
       "  8.12112311e-02 & 1.38295574e-01\\\\\n",
       "\\end{bmatrix} = \n",
       "\\begin{bmatrix}\n",
       "  -0.03658045 & 0.20060048 & 0.05163937 & 0.04007424 & 0.0323281 & -0.00864258\\\\\n",
       "  -0.00293272 & -0.03336533 & -0.14724372 & -0.00904092 & 0.06094637 & 0.02583633\\\\\n",
       "  0.09896894 & -0.11800918\\\\\n",
       "\\end{bmatrix}"
      ],
      "text/plain": [
       "<IPython.core.display.Latex object>"
      ]
     },
     "metadata": {},
     "output_type": "display_data"
    },
    {
     "data": {
      "text/latex": [
       "W = W - \\lambda (X \\cdot \\nabla f_{custo})"
      ],
      "text/plain": [
       "<IPython.core.display.Latex object>"
      ]
     },
     "metadata": {},
     "output_type": "display_data"
    },
    {
     "data": {
      "text/latex": [
       "\\begin{gather}\n",
       "\\begin{bmatrix}\n",
       "  -0.27284404 & -0.25437629 & 0.19934659 & -0.17027724 & -0.2956317 & 0.34155194\\\\\n",
       "  -0.33951963 & 0.11639186 & -0.31983205 & 0.2296936\\\\\n",
       "  0.0289412 & 0.23014858 & 0.08541255 & -0.21279456 & 0.44453721 & -0.18381105\\\\\n",
       "  0.57328692 & -0.31047911 & 0.44208225 & -0.18078551\\\\\n",
       "  -0.22278742 & 0.23208664 & -0.15798574 & 0.47818355 & -0.41529991 & 0.04763254\\\\\n",
       "  0.36963714 & 0.21505714 & -0.11903269 & -0.50995263\\\\\n",
       "  -0.23563529 & 0.1276398 & 0.40755271 & 0.25007889 & -0.32799308 & -0.34447832\\\\\n",
       "  -0.13452328 & -0.25090718 & -0.03971479 & 0.09650582\\\\\n",
       "  -0.37663957 & -0.4578182 & -0.21440666 & -0.46620956 & 0.16365896 & -0.37938219\\\\\n",
       "  -0.00522538 & -0.57411432 & 0.16092099 & -0.30535083\\\\\n",
       "  0.02672686 & -0.30526474 & -0.43931477 & -0.07207126 & -0.36805079 & -0.28855394\\\\\n",
       "  0.26277236 & -0.04431423 & -0.33883555 & 0.21602118\\\\\n",
       "  0.35714783 & -0.01095338 & -0.13878301 & 0.22350998 & -0.03758593 & 0.23715323\\\\\n",
       "  -0.10155185 & 0.06995497 & -0.06188945 & -0.0400951\\\\\n",
       "  0.20115304 & 0.04700245 & -0.46060867 & 0.33503122 & -0.05896234 & 0.12160678\\\\\n",
       "  -0.24823278 & -0.01200343 & -0.46962654 & 0.10497775\\\\\n",
       "  -0.02025742 & -0.37292058 & -0.44829436 & 0.16245321 & 0.46674149 & -0.34196054\\\\\n",
       "  -0.02023445 & 0.47561671 & 0.29070375 & 0.11328328\\\\\n",
       "  -0.1922198 & -0.29716593 & 0.29903577 & -0.00075658 & 0.41215642 & 0.25362889\\\\\n",
       "  0.02645405 & 0.54965368 & -0.13887779 & -0.377421\\\\\n",
       "  -0.42269968 & 0.33253859 & -0.34530632 & -0.10104647 & -0.05290578 & -0.58252398\\\\\n",
       "  0.38099782 & -0.20113394 & 0.03375316 & 0.19529002\\\\\n",
       "  -0.11091171 & 0.06664862 & -0.06075678 & 0.20984437 & -0.11742511 & 0.21683512\\\\\n",
       "  -0.24999125 & -0.10689396 & 0.05072777 & -0.3595338\\\\\n",
       "  0.30627143 & 0.07595931 & 0.22548715 & -0.30712564 & -0.11002653 & -0.11854751\\\\\n",
       "  0.15705219 & -0.05446035 & -0.21659457 & 0.08480485\\\\\n",
       "  0.17064135 & -0.31955007 & 0.10181767 & -0.37272555 & -0.07582012 & -0.70368538\\\\\n",
       "  -0.2758053 & -0.02935709 & 0.43989721 & 0.13869955\\\\\n",
       "\\end{bmatrix} = \n",
       "\\begin{bmatrix}\n",
       "  -2.67092369e-01 & -2.36655267e-01 & 2.18983965e-01 & -1.71421116e-01\\\\\n",
       "  -2.87183755e-01 & 3.69745058e-01 & -2.79558267e-01 & 5.75786006e-02\\\\\n",
       "  -3.25578079e-01 & 2.27627561e-01\\\\\n",
       "  3.58966062e-02 & 2.51578342e-01 & 1.09159718e-01 & -2.14177825e-01\\\\\n",
       "  4.54753178e-01 & -1.49717548e-01 & 6.45797264e-01 & -3.81601079e-01\\\\\n",
       "  4.35133659e-01 & -1.83283945e-01\\\\\n",
       "  -2.17064987e-01 & 2.49717588e-01 & -1.38448195e-01 & 4.77045488e-01\\\\\n",
       "  -4.06894916e-01 & 7.56823360e-02 & 4.29293696e-01 & 1.56542848e-01\\\\\n",
       "  -1.24749516e-01 & -5.12008167e-01\\\\\n",
       "  -2.28840462e-01 & 1.48574839e-01 & 4.30751654e-01 & 2.48727559e-01\\\\\n",
       "  -3.18012963e-01 & -3.11171897e-01 & -6.36868808e-02 & -3.20387246e-01\\\\\n",
       "  -4.65029696e-02 & 9.40650630e-02\\\\\n",
       "  -3.76174813e-01 & -4.56386268e-01 & -2.12819883e-01 & -4.66301985e-01\\\\\n",
       "  1.64341592e-01 & -3.77104071e-01 & -3.80256665e-04 & -5.78866674e-01\\\\\n",
       "  1.60456687e-01 & -3.05517770e-01\\\\\n",
       "  2.82822118e-02 & -3.00472674e-01 & -4.34004493e-01 & -7.23805806e-02\\\\\n",
       "  -3.65766326e-01 & -2.80930042e-01 & 2.78986923e-01 & -6.02183277e-02\\\\\n",
       "  -3.40389377e-01 & 2.15462486e-01\\\\\n",
       "  3.59501307e-01 & -3.70227237e-03 & -1.30747763e-01 & 2.23041930e-01\\\\\n",
       "  -3.41291904e-02 & 2.48689325e-01 & -7.70167824e-02 & 4.58896814e-02\\\\\n",
       "  -6.42406232e-02 & -4.09404821e-02\\\\\n",
       "  2.04643084e-01 & 5.77553562e-02 & -4.48692945e-01 & 3.34337137e-01\\\\\n",
       "  -5.38362321e-02 & 1.38714031e-01 & -2.11848941e-01 & -4.76906150e-02\\\\\n",
       "  -4.73113164e-01 & 1.03724101e-01\\\\\n",
       "  -1.74357716e-02 & -3.64227003e-01 & -4.38660664e-01 & 1.61892049e-01\\\\\n",
       "  4.70885884e-01 & -3.28129566e-01 & 9.18138386e-03 & 4.46764115e-01\\\\\n",
       "  2.87884863e-01 & 1.12269717e-01\\\\\n",
       "  -1.81587772e-01 & -2.64408403e-01 & 3.35335686e-01 & -2.87104464e-03\\\\\n",
       "  4.27772543e-01 & 3.05744205e-01 & 1.37293348e-01 & 4.40936661e-01\\\\\n",
       "  -1.49499395e-01 & -3.81240105e-01\\\\\n",
       "  -4.18753649e-01 & 3.44696405e-01 & -3.31833773e-01 & -1.01831238e-01\\\\\n",
       "  -4.71099248e-02 & -5.63181617e-01 & 4.22135332e-01 & -2.41483770e-01\\\\\n",
       "  2.98110020e-02 & 1.93872573e-01\\\\\n",
       "  -1.02650306e-01 & 9.21022246e-02 & -3.25506374e-02 & 2.08201369e-01\\\\\n",
       "  -1.05290908e-01 & 2.57330306e-01 & -1.63865740e-01 & -1.91370398e-01\\\\\n",
       "  4.24744511e-02 & -3.62501360e-01\\\\\n",
       "  3.16275719e-01 & 1.06782760e-01 & 2.59643836e-01 & -3.09115255e-01\\\\\n",
       "  -9.53324196e-02 & -6.95091964e-02 & 2.61347294e-01 & -1.56758472e-01\\\\\n",
       "  -2.26589059e-01 & 8.12112311e-02\\\\\n",
       "  1.71765991e-01 & -3.16085020e-01 & 1.05657428e-01 & -3.72949216e-01\\\\\n",
       "  -7.41682683e-02 & -6.98172687e-01 & -2.64080856e-01 & -4.08570343e-02\\\\\n",
       "  4.38773671e-01 & 1.38295574e-01\\\\\n",
       "\\end{bmatrix} - 0.7\n",
       "\\begin{bmatrix}\n",
       "  0.46801262\\\\\n",
       "  0.56596039\\\\\n",
       "  0.46563349\\\\\n",
       "  0.5528948\\\\\n",
       "  0.03781735\\\\\n",
       "  0.12655851\\\\\n",
       "  0.19150199\\\\\n",
       "  0.28398448\\\\\n",
       "  0.22959754\\\\\n",
       "  0.86512692\\\\\n",
       "  0.32108797\\\\\n",
       "  0.67222997\\\\\n",
       "  0.81404789\\\\\n",
       "  0.09151203\\\\\n",
       "\\end{bmatrix} \\cdot \n",
       "\\begin{bmatrix}\n",
       "  0.01755651 & 0.05409203 & 0.05994152 & -0.00349158 & 0.02578667 & 0.08605726\\\\\n",
       "  0.18302732 & -0.17952283 & -0.01753931 & -0.00630643\\\\\n",
       "\\end{bmatrix}\\end{gather}"
      ],
      "text/plain": [
       "<IPython.core.display.Latex object>"
      ]
     },
     "metadata": {},
     "output_type": "display_data"
    },
    {
     "data": {
      "text/latex": [
       "Camada: 1"
      ],
      "text/plain": [
       "<IPython.core.display.Latex object>"
      ]
     },
     "metadata": {},
     "output_type": "display_data"
    },
    {
     "data": {
      "text/latex": [
       "\\nabla = \\frac{\\partial E}{\\partial Y} \\frac{\\partial Y}{\\partial X}"
      ],
      "text/plain": [
       "<IPython.core.display.Latex object>"
      ]
     },
     "metadata": {},
     "output_type": "display_data"
    },
    {
     "data": {
      "text/latex": [
       "\\begin{gather}\n",
       "\\begin{bmatrix}\n",
       "  -0.00910768 & 0.04927735 & 0.01284885 & 0.00990644 & 0.00117633 & -0.00095536\\\\\n",
       "  -0.00045407 & -0.00678442 & -0.02604484 & -0.00105492 & 0.01328573 & 0.0056927\\\\\n",
       "  0.01498132 & -0.009811\\\\\n",
       "\\end{bmatrix} = \n",
       "\\begin{bmatrix}\n",
       "  -0.03658045 & 0.20060048 & 0.05163937 & 0.04007424 & 0.0323281 & -0.00864258\\\\\n",
       "  -0.00293272 & -0.03336533 & -0.14724372 & -0.00904092 & 0.06094637 & 0.02583633\\\\\n",
       "  0.09896894 & -0.11800918\\\\\n",
       "\\end{bmatrix} \\cdot  \\sigma^{'}(\n",
       "\\begin{bmatrix}\n",
       "  -0.12812452 & 0.2653883 & -0.13768312 & 0.21237385 & -3.23643632 & -1.93173645\\\\\n",
       "  -1.44028004 & -0.92478227 & -1.21058509 & 1.85854205 & -0.74877643 & 0.71828825\\\\\n",
       "  1.47653004 & -2.29531126\\\\\n",
       "\\end{bmatrix}) \\end{gather}"
      ],
      "text/plain": [
       "<IPython.core.display.Latex object>"
      ]
     },
     "metadata": {},
     "output_type": "display_data"
    },
    {
     "data": {
      "text/latex": [
       "Camada: 0"
      ],
      "text/plain": [
       "<IPython.core.display.Latex object>"
      ]
     },
     "metadata": {},
     "output_type": "display_data"
    },
    {
     "data": {
      "text/latex": [
       "\\nabla f_{custo} = \\frac{\\partial E}{\\partial W} = \n",
       "\\begin{bmatrix}\n",
       "  -0.00910768 & 0.04927735 & 0.01284885 & 0.00990644 & 0.00117633 & -0.00095536\\\\\n",
       "  -0.00045407 & -0.00678442 & -0.02604484 & -0.00105492 & 0.01328573 & 0.0056927\\\\\n",
       "  0.01498132 & -0.009811\\\\\n",
       "\\end{bmatrix} \\cdot \n",
       "\\begin{bmatrix}\n",
       "  0.60307396 & -0.06344842 & -0.0081468 & 0.3327159 & -0.04889694 & 0.52207206\\\\\n",
       "  0.92927744\\\\\n",
       "  0.11247032 & -0.23999139 & 0.39692007 & -0.00741869 & 0.59567186 & 0.77789246\\\\\n",
       "  0.17255437\\\\\n",
       "  0.84609244 & -0.3550007 & -0.30346643 & 0.73761785 & 0.15764151 & 0.13167148\\\\\n",
       "  0.50526719\\\\\n",
       "  -0.12013598 & 0.03563901 & 0.34645464 & 0.19916525 & 0.87770087 & -0.02523164\\\\\n",
       "  0.02927546\\\\\n",
       "  -0.57502796 & -0.94515334 & -0.82722698 & -0.35457426 & -0.50745664 & -0.39780856\\\\\n",
       "  0.63516636\\\\\n",
       "  0.27111044 & -0.36562806 & -0.99112707 & -0.12724606 & 0.6054167 & 0.75242509\\\\\n",
       "  0.89688166\\\\\n",
       "  -0.03208797 & -0.46489914 & -0.73388736 & -0.01522454 & -0.14865096 & 0.34236725\\\\\n",
       "  0.60257987\\\\\n",
       "  0.58221677 & 0.0371933 & -0.76105265 & 0.53610544 & 0.69367777 & 0.06359489\\\\\n",
       "  0.02037709\\\\\n",
       "  0.0034567 & -0.62905368 & -0.20136061 & -0.0907236 & 0.20779255 & 0.32331213\\\\\n",
       "  0.90480694\\\\\n",
       "  0.18561269 & 0.38540175 & 0.6435502 & 0.48104991 & 0.85456506 & 0.95040455\\\\\n",
       "  0.45048858\\\\\n",
       "  0.665314 & -0.33880319 & -0.25377218 & 0.44107493 & 0.46988619 & 0.07204759\\\\\n",
       "  0.60316317\\\\\n",
       "  0.19833521 & 0.02886846 & 0.34814757 & 0.41032914 & 0.84653912 & 0.48265326\\\\\n",
       "  0.94308187\\\\\n",
       "  0.93480704 & 0.35895179 & 0.09363609 & 0.01083383 & 0.8083674 & 0.63454425\\\\\n",
       "  0.55735666\\\\\n",
       "  -0.19019051 & -0.48244771 & -1.06333936 & 0.52407466 & 0.38626382 & 0.25554809\\\\\n",
       "  0.82424293\\\\\n",
       "\\end{bmatrix} = \n",
       "\\begin{bmatrix}\n",
       "  0.03041298 & 0.00549068 & 0.03964771 & 0.00920084 & 0.04777407 & 0.0345265\\\\\n",
       "  -0.00409531\\\\\n",
       "\\end{bmatrix}"
      ],
      "text/plain": [
       "<IPython.core.display.Latex object>"
      ]
     },
     "metadata": {},
     "output_type": "display_data"
    },
    {
     "data": {
      "text/latex": [
       "W = W - \\lambda (X \\cdot \\nabla f_{custo})"
      ],
      "text/plain": [
       "<IPython.core.display.Latex object>"
      ]
     },
     "metadata": {},
     "output_type": "display_data"
    },
    {
     "data": {
      "text/latex": [
       "\\begin{gather}\n",
       "\\begin{bmatrix}\n",
       "  0.60944934 & 0.07797618 & 0.83709824 & -0.12707048 & -0.57585139 & 0.27177919\\\\\n",
       "  -0.03177012 & 0.58696586 & 0.02168809 & 0.18635113 & 0.65601399 & 0.19435032\\\\\n",
       "  0.92432012 & -0.18332281\\\\\n",
       "  -0.05707304 & -0.27448554 & -0.3639949 & 0.0287045 & -0.94597677 & -0.3649593\\\\\n",
       "  -0.46458129 & 0.04194239 & -0.61082229 & 0.38614019 & -0.3481032 & 0.02488357\\\\\n",
       "  0.34846487 & -0.47558001\\\\\n",
       "  -0.00177142 & 0.36242592 & -0.31246063 & 0.33952014 & -0.82805041 & -0.99045831\\\\\n",
       "  -0.73356952 & -0.75630356 & -0.18312923 & 0.64428864 & -0.26307219 & 0.34416268\\\\\n",
       "  0.08314917 & -1.05647166\\\\\n",
       "  0.3327159 & -0.00741869 & 0.73761785 & 0.19916525 & -0.35457426 & -0.12724606\\\\\n",
       "  -0.01522454 & 0.53610544 & -0.0907236 & 0.48104991 & 0.44107493 & 0.41032914\\\\\n",
       "  0.01083383 & 0.52407466\\\\\n",
       "  -0.04889694 & 0.59567186 & 0.15764151 & 0.87770087 & -0.50745664 & 0.6054167\\\\\n",
       "  -0.14865096 & 0.69367777 & 0.20779255 & 0.85456506 & 0.46988619 & 0.84653912\\\\\n",
       "  0.8083674 & 0.38626382\\\\\n",
       "  0.52207206 & 0.77789246 & 0.13167148 & -0.02523164 & -0.39780856 & 0.75242509\\\\\n",
       "  0.34236725 & 0.06359489 & 0.32331213 & 0.95040455 & 0.07204759 & 0.48265326\\\\\n",
       "  0.63454425 & 0.25554809\\\\\n",
       "  0.92927744 & 0.17255437 & 0.50526719 & 0.02927546 & 0.63516636 & 0.89688166\\\\\n",
       "  0.60257987 & 0.02037709 & 0.90480694 & 0.45048858 & 0.60316317 & 0.94308187\\\\\n",
       "  0.55735666 & 0.82424293\\\\\n",
       "\\end{bmatrix} = \n",
       "\\begin{bmatrix}\n",
       "  0.60307396 & 0.11247032 & 0.84609244 & -0.12013598 & -0.57502796 & 0.27111044\\\\\n",
       "  -0.03208797 & 0.58221677 & 0.0034567 & 0.18561269 & 0.665314 & 0.19833521\\\\\n",
       "  0.93480704 & -0.19019051\\\\\n",
       "  -0.06344842 & -0.23999139 & -0.3550007 & 0.03563901 & -0.94515334 & -0.36562806\\\\\n",
       "  -0.46489914 & 0.0371933 & -0.62905368 & 0.38540175 & -0.33880319 & 0.02886846\\\\\n",
       "  0.35895179 & -0.48244771\\\\\n",
       "  -0.0081468 & 0.39692007 & -0.30346643 & 0.34645464 & -0.82722698 & -0.99112707\\\\\n",
       "  -0.73388736 & -0.76105265 & -0.20136061 & 0.6435502 & -0.25377218 & 0.34814757\\\\\n",
       "  0.09363609 & -1.06333936\\\\\n",
       "  0.3327159 & -0.00741869 & 0.73761785 & 0.19916525 & -0.35457426 & -0.12724606\\\\\n",
       "  -0.01522454 & 0.53610544 & -0.0907236 & 0.48104991 & 0.44107493 & 0.41032914\\\\\n",
       "  0.01083383 & 0.52407466\\\\\n",
       "  -0.04889694 & 0.59567186 & 0.15764151 & 0.87770087 & -0.50745664 & 0.6054167\\\\\n",
       "  -0.14865096 & 0.69367777 & 0.20779255 & 0.85456506 & 0.46988619 & 0.84653912\\\\\n",
       "  0.8083674 & 0.38626382\\\\\n",
       "  0.52207206 & 0.77789246 & 0.13167148 & -0.02523164 & -0.39780856 & 0.75242509\\\\\n",
       "  0.34236725 & 0.06359489 & 0.32331213 & 0.95040455 & 0.07204759 & 0.48265326\\\\\n",
       "  0.63454425 & 0.25554809\\\\\n",
       "  0.92927744 & 0.17255437 & 0.50526719 & 0.02927546 & 0.63516636 & 0.89688166\\\\\n",
       "  0.60257987 & 0.02037709 & 0.90480694 & 0.45048858 & 0.60316317 & 0.94308187\\\\\n",
       "  0.55735666 & 0.82424293\\\\\n",
       "\\end{bmatrix} - 0.7\n",
       "\\begin{bmatrix}\n",
       "  1\\\\\n",
       "  1\\\\\n",
       "  1\\\\\n",
       "  0\\\\\n",
       "  0\\\\\n",
       "  0\\\\\n",
       "  0\\\\\n",
       "\\end{bmatrix} \\cdot \n",
       "\\begin{bmatrix}\n",
       "  -0.00910768 & 0.04927735 & 0.01284885 & 0.00990644 & 0.00117633 & -0.00095536\\\\\n",
       "  -0.00045407 & -0.00678442 & -0.02604484 & -0.00105492 & 0.01328573 & 0.0056927\\\\\n",
       "  0.01498132 & -0.009811\\\\\n",
       "\\end{bmatrix}\\end{gather}"
      ],
      "text/plain": [
       "<IPython.core.display.Latex object>"
      ]
     },
     "metadata": {},
     "output_type": "display_data"
    },
    {
     "data": {
      "text/latex": [
       "Camada: 0"
      ],
      "text/plain": [
       "<IPython.core.display.Latex object>"
      ]
     },
     "metadata": {},
     "output_type": "display_data"
    },
    {
     "data": {
      "text/latex": [
       "Y = Xw + b"
      ],
      "text/plain": [
       "<IPython.core.display.Latex object>"
      ]
     },
     "metadata": {},
     "output_type": "display_data"
    },
    {
     "data": {
      "text/latex": [
       "\\begin{gather}\n",
       "\\begin{bmatrix}\n",
       "  1.63254545 & 1.6661117 & 1.35853812 & 1.26554577 & -3.86440315 & 0.19841596\\\\\n",
       "  -0.65793703 & 0.40796928 & 0.20752848 & 4.59800391 & 0.8001954 & 3.38495209\\\\\n",
       "  3.44568449 & -0.27771097\\\\\n",
       "\\end{bmatrix} = \n",
       "\\begin{bmatrix}\n",
       "  1 & 1 & 1 & 1 & 1 & 1 & 1\\\\\n",
       "\\end{bmatrix} \\cdot \n",
       "\\begin{bmatrix}\n",
       "  0.60944934 & 0.07797618 & 0.83709824 & -0.12707048 & -0.57585139 & 0.27177919\\\\\n",
       "  -0.03177012 & 0.58696586 & 0.02168809 & 0.18635113 & 0.65601399 & 0.19435032\\\\\n",
       "  0.92432012 & -0.18332281\\\\\n",
       "  -0.05707304 & -0.27448554 & -0.3639949 & 0.0287045 & -0.94597677 & -0.3649593\\\\\n",
       "  -0.46458129 & 0.04194239 & -0.61082229 & 0.38614019 & -0.3481032 & 0.02488357\\\\\n",
       "  0.34846487 & -0.47558001\\\\\n",
       "  -0.00177142 & 0.36242592 & -0.31246063 & 0.33952014 & -0.82805041 & -0.99045831\\\\\n",
       "  -0.73356952 & -0.75630356 & -0.18312923 & 0.64428864 & -0.26307219 & 0.34416268\\\\\n",
       "  0.08314917 & -1.05647166\\\\\n",
       "  0.3327159 & -0.00741869 & 0.73761785 & 0.19916525 & -0.35457426 & -0.12724606\\\\\n",
       "  -0.01522454 & 0.53610544 & -0.0907236 & 0.48104991 & 0.44107493 & 0.41032914\\\\\n",
       "  0.01083383 & 0.52407466\\\\\n",
       "  -0.04889694 & 0.59567186 & 0.15764151 & 0.87770087 & -0.50745664 & 0.6054167\\\\\n",
       "  -0.14865096 & 0.69367777 & 0.20779255 & 0.85456506 & 0.46988619 & 0.84653912\\\\\n",
       "  0.8083674 & 0.38626382\\\\\n",
       "  0.52207206 & 0.77789246 & 0.13167148 & -0.02523164 & -0.39780856 & 0.75242509\\\\\n",
       "  0.34236725 & 0.06359489 & 0.32331213 & 0.95040455 & 0.07204759 & 0.48265326\\\\\n",
       "  0.63454425 & 0.25554809\\\\\n",
       "  0.92927744 & 0.17255437 & 0.50526719 & 0.02927546 & 0.63516636 & 0.89688166\\\\\n",
       "  0.60257987 & 0.02037709 & 0.90480694 & 0.45048858 & 0.60316317 & 0.94308187\\\\\n",
       "  0.55735666 & 0.82424293\\\\\n",
       "\\end{bmatrix} + \n",
       "\\begin{bmatrix}\n",
       "  -0.65322788 & -0.03850485 & -0.33430262 & -0.05651833 & -0.88985147 & -0.845423\\\\\n",
       "  -0.20908772 & -0.77839061 & -0.36539612 & 0.64471585 & -0.83081507 & 0.13895213\\\\\n",
       "  0.07864819 & -0.55246599\\\\\n",
       "\\end{bmatrix}\\end{gather}"
      ],
      "text/plain": [
       "<IPython.core.display.Latex object>"
      ]
     },
     "metadata": {},
     "output_type": "display_data"
    },
    {
     "data": {
      "text/latex": [
       "Camada: 1"
      ],
      "text/plain": [
       "<IPython.core.display.Latex object>"
      ]
     },
     "metadata": {},
     "output_type": "display_data"
    },
    {
     "data": {
      "text/latex": [
       "Y = \\sigma(X)"
      ],
      "text/plain": [
       "<IPython.core.display.Latex object>"
      ]
     },
     "metadata": {},
     "output_type": "display_data"
    },
    {
     "data": {
      "text/latex": [
       "\\begin{gather}\n",
       "\\begin{bmatrix}\n",
       "  0.83651804 & 0.84105672 & 0.795522 & 0.7799793 & 0.02054451 & 0.54944189\\\\\n",
       "  0.34120318 & 0.60060085 & 0.55169671 & 0.99002851 & 0.69001628 & 0.96723093\\\\\n",
       "  0.96910218 & 0.43101505\\\\\n",
       "\\end{bmatrix} = \\sigma(\n",
       "\\begin{bmatrix}\n",
       "  1.63254545 & 1.6661117 & 1.35853812 & 1.26554577 & -3.86440315 & 0.19841596\\\\\n",
       "  -0.65793703 & 0.40796928 & 0.20752848 & 4.59800391 & 0.8001954 & 3.38495209\\\\\n",
       "  3.44568449 & -0.27771097\\\\\n",
       "\\end{bmatrix}) \\end{gather}"
      ],
      "text/plain": [
       "<IPython.core.display.Latex object>"
      ]
     },
     "metadata": {},
     "output_type": "display_data"
    },
    {
     "data": {
      "text/latex": [
       "Camada: 2"
      ],
      "text/plain": [
       "<IPython.core.display.Latex object>"
      ]
     },
     "metadata": {},
     "output_type": "display_data"
    },
    {
     "data": {
      "text/latex": [
       "Y = Xw + b"
      ],
      "text/plain": [
       "<IPython.core.display.Latex object>"
      ]
     },
     "metadata": {},
     "output_type": "display_data"
    },
    {
     "data": {
      "text/latex": [
       "\\begin{gather}\n",
       "\\begin{bmatrix}\n",
       "  -0.16252801 & -0.03389218 & -0.2716511 & 0.10592022 & -0.22335426 & -0.33953227\\\\\n",
       "  0.50969972 & 0.7001716 & -0.16492403 & 0.01514415\\\\\n",
       "\\end{bmatrix} = \n",
       "\\begin{bmatrix}\n",
       "  0.83651804 & 0.84105672 & 0.795522 & 0.7799793 & 0.02054451 & 0.54944189\\\\\n",
       "  0.34120318 & 0.60060085 & 0.55169671 & 0.99002851 & 0.69001628 & 0.96723093\\\\\n",
       "  0.96910218 & 0.43101505\\\\\n",
       "\\end{bmatrix} \\cdot \n",
       "\\begin{bmatrix}\n",
       "  -0.27284404 & -0.25437629 & 0.19934659 & -0.17027724 & -0.2956317 & 0.34155194\\\\\n",
       "  -0.33951963 & 0.11639186 & -0.31983205 & 0.2296936\\\\\n",
       "  0.0289412 & 0.23014858 & 0.08541255 & -0.21279456 & 0.44453721 & -0.18381105\\\\\n",
       "  0.57328692 & -0.31047911 & 0.44208225 & -0.18078551\\\\\n",
       "  -0.22278742 & 0.23208664 & -0.15798574 & 0.47818355 & -0.41529991 & 0.04763254\\\\\n",
       "  0.36963714 & 0.21505714 & -0.11903269 & -0.50995263\\\\\n",
       "  -0.23563529 & 0.1276398 & 0.40755271 & 0.25007889 & -0.32799308 & -0.34447832\\\\\n",
       "  -0.13452328 & -0.25090718 & -0.03971479 & 0.09650582\\\\\n",
       "  -0.37663957 & -0.4578182 & -0.21440666 & -0.46620956 & 0.16365896 & -0.37938219\\\\\n",
       "  -0.00522538 & -0.57411432 & 0.16092099 & -0.30535083\\\\\n",
       "  0.02672686 & -0.30526474 & -0.43931477 & -0.07207126 & -0.36805079 & -0.28855394\\\\\n",
       "  0.26277236 & -0.04431423 & -0.33883555 & 0.21602118\\\\\n",
       "  0.35714783 & -0.01095338 & -0.13878301 & 0.22350998 & -0.03758593 & 0.23715323\\\\\n",
       "  -0.10155185 & 0.06995497 & -0.06188945 & -0.0400951\\\\\n",
       "  0.20115304 & 0.04700245 & -0.46060867 & 0.33503122 & -0.05896234 & 0.12160678\\\\\n",
       "  -0.24823278 & -0.01200343 & -0.46962654 & 0.10497775\\\\\n",
       "  -0.02025742 & -0.37292058 & -0.44829436 & 0.16245321 & 0.46674149 & -0.34196054\\\\\n",
       "  -0.02023445 & 0.47561671 & 0.29070375 & 0.11328328\\\\\n",
       "  -0.1922198 & -0.29716593 & 0.29903577 & -0.00075658 & 0.41215642 & 0.25362889\\\\\n",
       "  0.02645405 & 0.54965368 & -0.13887779 & -0.377421\\\\\n",
       "  -0.42269968 & 0.33253859 & -0.34530632 & -0.10104647 & -0.05290578 & -0.58252398\\\\\n",
       "  0.38099782 & -0.20113394 & 0.03375316 & 0.19529002\\\\\n",
       "  -0.11091171 & 0.06664862 & -0.06075678 & 0.20984437 & -0.11742511 & 0.21683512\\\\\n",
       "  -0.24999125 & -0.10689396 & 0.05072777 & -0.3595338\\\\\n",
       "  0.30627143 & 0.07595931 & 0.22548715 & -0.30712564 & -0.11002653 & -0.11854751\\\\\n",
       "  0.15705219 & -0.05446035 & -0.21659457 & 0.08480485\\\\\n",
       "  0.17064135 & -0.31955007 & 0.10181767 & -0.37272555 & -0.07582012 & -0.70368538\\\\\n",
       "  -0.2758053 & -0.02935709 & 0.43989721 & 0.13869955\\\\\n",
       "\\end{bmatrix} + \n",
       "\\begin{bmatrix}\n",
       "  0.38284168 & 0.12392095 & -0.14677212 & -0.14026841 & 0.10721477 & 0.3204891\\\\\n",
       "  0.09244015 & 0.40908021 & 0.26757115 & 0.52586352\\\\\n",
       "\\end{bmatrix}\\end{gather}"
      ],
      "text/plain": [
       "<IPython.core.display.Latex object>"
      ]
     },
     "metadata": {},
     "output_type": "display_data"
    },
    {
     "data": {
      "text/latex": [
       "f_{custo}(\n",
       "\\begin{bmatrix}\n",
       "  0 & 0 & 0 & 0 & 0 & 0 & 0 & 0 & 1 & 0\\\\\n",
       "\\end{bmatrix},\n",
       "\\begin{bmatrix}\n",
       "  -0.16252801 & -0.03389218 & -0.2716511 & 0.10592022 & -0.22335426 & -0.33953227\\\\\n",
       "  0.50969972 & 0.7001716 & -0.16492403 & 0.01514415\\\\\n",
       "\\end{bmatrix}) = \n",
       "\\begin{bmatrix}\n",
       "  0.23850581426228384\\\\\n",
       "\\end{bmatrix}"
      ],
      "text/plain": [
       "<IPython.core.display.Latex object>"
      ]
     },
     "metadata": {},
     "output_type": "display_data"
    },
    {
     "data": {
      "text/latex": [
       "Camada: 2"
      ],
      "text/plain": [
       "<IPython.core.display.Latex object>"
      ]
     },
     "metadata": {},
     "output_type": "display_data"
    },
    {
     "data": {
      "text/latex": [
       "\\nabla f_{custo} = \\frac{\\partial E}{\\partial W} = \n",
       "\\begin{bmatrix}\n",
       "  -0.0325056 & -0.00677844 & -0.05433022 & 0.02118404 & -0.04467085 & -0.06790645\\\\\n",
       "  0.10193994 & 0.14003432 & -0.23298481 & 0.00302883\\\\\n",
       "\\end{bmatrix} \\cdot \n",
       "\\begin{bmatrix}\n",
       "  -0.27284404 & 0.0289412 & -0.22278742 & -0.23563529 & -0.37663957 & 0.02672686\\\\\n",
       "  0.35714783 & 0.20115304 & -0.02025742 & -0.1922198 & -0.42269968 & -0.11091171\\\\\n",
       "  0.30627143 & 0.17064135\\\\\n",
       "  -0.25437629 & 0.23014858 & 0.23208664 & 0.1276398 & -0.4578182 & -0.30526474\\\\\n",
       "  -0.01095338 & 0.04700245 & -0.37292058 & -0.29716593 & 0.33253859 & 0.06664862\\\\\n",
       "  0.07595931 & -0.31955007\\\\\n",
       "  0.19934659 & 0.08541255 & -0.15798574 & 0.40755271 & -0.21440666 & -0.43931477\\\\\n",
       "  -0.13878301 & -0.46060867 & -0.44829436 & 0.29903577 & -0.34530632 & -0.06075678\\\\\n",
       "  0.22548715 & 0.10181767\\\\\n",
       "  -0.17027724 & -0.21279456 & 0.47818355 & 0.25007889 & -0.46620956 & -0.07207126\\\\\n",
       "  0.22350998 & 0.33503122 & 0.16245321 & -0.00075658 & -0.10104647 & 0.20984437\\\\\n",
       "  -0.30712564 & -0.37272555\\\\\n",
       "  -0.2956317 & 0.44453721 & -0.41529991 & -0.32799308 & 0.16365896 & -0.36805079\\\\\n",
       "  -0.03758593 & -0.05896234 & 0.46674149 & 0.41215642 & -0.05290578 & -0.11742511\\\\\n",
       "  -0.11002653 & -0.07582012\\\\\n",
       "  0.34155194 & -0.18381105 & 0.04763254 & -0.34447832 & -0.37938219 & -0.28855394\\\\\n",
       "  0.23715323 & 0.12160678 & -0.34196054 & 0.25362889 & -0.58252398 & 0.21683512\\\\\n",
       "  -0.11854751 & -0.70368538\\\\\n",
       "  -0.33951963 & 0.57328692 & 0.36963714 & -0.13452328 & -0.00522538 & 0.26277236\\\\\n",
       "  -0.10155185 & -0.24823278 & -0.02023445 & 0.02645405 & 0.38099782 & -0.24999125\\\\\n",
       "  0.15705219 & -0.2758053\\\\\n",
       "  0.11639186 & -0.31047911 & 0.21505714 & -0.25090718 & -0.57411432 & -0.04431423\\\\\n",
       "  0.06995497 & -0.01200343 & 0.47561671 & 0.54965368 & -0.20113394 & -0.10689396\\\\\n",
       "  -0.05446035 & -0.02935709\\\\\n",
       "  -0.31983205 & 0.44208225 & -0.11903269 & -0.03971479 & 0.16092099 & -0.33883555\\\\\n",
       "  -0.06188945 & -0.46962654 & 0.29070375 & -0.13887779 & 0.03375316 & 0.05072777\\\\\n",
       "  -0.21659457 & 0.43989721\\\\\n",
       "  0.2296936 & -0.18078551 & -0.50995263 & 0.09650582 & -0.30535083 & 0.21602118\\\\\n",
       "  -0.0400951 & 0.10497775 & 0.11328328 & -0.377421 & 0.19529002 & -0.3595338\\\\\n",
       "  0.08480485 & 0.13869955\\\\\n",
       "\\end{bmatrix} = \n",
       "\\begin{bmatrix}\n",
       "  4.30680198e-02 & -1.07607940e-01 & 1.33683578e-01 & -1.13101140e-02\\\\\n",
       "  -8.37749250e-02 & 1.59756883e-01 & 5.64261462e-05 & 1.02389175e-01\\\\\n",
       "  3.05087568e-02 & 6.72457900e-02 & 7.34272647e-02 & -5.19399475e-02\\\\\n",
       "  4.28414455e-02 & -9.99324775e-02\\\\\n",
       "\\end{bmatrix}"
      ],
      "text/plain": [
       "<IPython.core.display.Latex object>"
      ]
     },
     "metadata": {},
     "output_type": "display_data"
    },
    {
     "data": {
      "text/latex": [
       "W = W - \\lambda (X \\cdot \\nabla f_{custo})"
      ],
      "text/plain": [
       "<IPython.core.display.Latex object>"
      ]
     },
     "metadata": {},
     "output_type": "display_data"
    },
    {
     "data": {
      "text/latex": [
       "\\begin{gather}\n",
       "\\begin{bmatrix}\n",
       "  -0.25380997 & -0.25040709 & 0.23116034 & -0.18268183 & -0.26947412 & 0.38131542\\\\\n",
       "  -0.39921185 & 0.034393 & -0.18340485 & 0.22792003\\\\\n",
       "  0.04807854 & 0.23413931 & 0.11739891 & -0.22526645 & 0.47083672 & -0.14383182\\\\\n",
       "  0.51327082 & -0.39292288 & 0.57924965 & -0.1825687\\\\\n",
       "  -0.20468617 & 0.23586132 & -0.12773112 & 0.46638688 & -0.39042426 & 0.08544729\\\\\n",
       "  0.31287031 & 0.13707687 & 0.01070848 & -0.51163928\\\\\n",
       "  -0.21788771 & 0.13134072 & 0.43721622 & 0.23851271 & -0.30360345 & -0.30740238\\\\\n",
       "  -0.19018101 & -0.32736389 & 0.08749153 & 0.09485212\\\\\n",
       "  -0.3761721 & -0.45772072 & -0.21362533 & -0.46651421 & 0.16430138 & -0.37840562\\\\\n",
       "  -0.0066914 & -0.57612818 & 0.16427158 & -0.30539438\\\\\n",
       "  0.03922882 & -0.30265769 & -0.41841886 & -0.08021884 & -0.35086997 & -0.26243648\\\\\n",
       "  0.22356531 & -0.09817273 & -0.24922742 & 0.21485626\\\\\n",
       "  0.36491154 & -0.00933441 & -0.12580666 & 0.21845034 & -0.02691664 & 0.25337216\\\\\n",
       "  -0.12589941 & 0.03650886 & -0.00624284 & -0.04081851\\\\\n",
       "  0.21481907 & 0.04985224 & -0.43776712 & 0.32612502 & -0.0401818 & 0.15015605\\\\\n",
       "  -0.29109043 & -0.07087674 & -0.37167493 & 0.10370437\\\\\n",
       "  -0.00770416 & -0.37030283 & -0.4273127 & 0.15427219 & 0.48399283 & -0.3157359\\\\\n",
       "  -0.0596024 & 0.42153718 & 0.38067962 & 0.11211358\\\\\n",
       "  -0.16969277 & -0.29246834 & 0.3366877 & -0.01543755 & 0.44311421 & 0.30068942\\\\\n",
       "  -0.04419237 & 0.4526071 & 0.02258533 & -0.37952004\\\\\n",
       "  -0.4069991 & 0.33581266 & -0.31906421 & -0.1112786 & -0.03132925 & -0.54972439\\\\\n",
       "  0.33175967 & -0.26877211 & 0.14628748 & 0.19382706\\\\\n",
       "  -0.08890342 & 0.07123804 & -0.02397187 & 0.19550147 & -0.08718019 & 0.26281197\\\\\n",
       "  -0.31901088 & -0.20170583 & 0.20847284 & -0.3615845\\\\\n",
       "  0.32832231 & 0.0805576 & 0.26234322 & -0.32149629 & -0.0797231 & -0.0724817\\\\\n",
       "  0.08789904 & -0.14945564 & -0.05854431 & 0.08275018\\\\\n",
       "  0.18044863 & -0.31750494 & 0.11820967 & -0.379117 & -0.06234246 & -0.68319729\\\\\n",
       "  -0.30656165 & -0.07160692 & 0.51019118 & 0.13778572\\\\\n",
       "\\end{bmatrix} = \n",
       "\\begin{bmatrix}\n",
       "  -0.27284404 & -0.25437629 & 0.19934659 & -0.17027724 & -0.2956317 & 0.34155194\\\\\n",
       "  -0.33951963 & 0.11639186 & -0.31983205 & 0.2296936\\\\\n",
       "  0.0289412 & 0.23014858 & 0.08541255 & -0.21279456 & 0.44453721 & -0.18381105\\\\\n",
       "  0.57328692 & -0.31047911 & 0.44208225 & -0.18078551\\\\\n",
       "  -0.22278742 & 0.23208664 & -0.15798574 & 0.47818355 & -0.41529991 & 0.04763254\\\\\n",
       "  0.36963714 & 0.21505714 & -0.11903269 & -0.50995263\\\\\n",
       "  -0.23563529 & 0.1276398 & 0.40755271 & 0.25007889 & -0.32799308 & -0.34447832\\\\\n",
       "  -0.13452328 & -0.25090718 & -0.03971479 & 0.09650582\\\\\n",
       "  -0.37663957 & -0.4578182 & -0.21440666 & -0.46620956 & 0.16365896 & -0.37938219\\\\\n",
       "  -0.00522538 & -0.57411432 & 0.16092099 & -0.30535083\\\\\n",
       "  0.02672686 & -0.30526474 & -0.43931477 & -0.07207126 & -0.36805079 & -0.28855394\\\\\n",
       "  0.26277236 & -0.04431423 & -0.33883555 & 0.21602118\\\\\n",
       "  0.35714783 & -0.01095338 & -0.13878301 & 0.22350998 & -0.03758593 & 0.23715323\\\\\n",
       "  -0.10155185 & 0.06995497 & -0.06188945 & -0.0400951\\\\\n",
       "  0.20115304 & 0.04700245 & -0.46060867 & 0.33503122 & -0.05896234 & 0.12160678\\\\\n",
       "  -0.24823278 & -0.01200343 & -0.46962654 & 0.10497775\\\\\n",
       "  -0.02025742 & -0.37292058 & -0.44829436 & 0.16245321 & 0.46674149 & -0.34196054\\\\\n",
       "  -0.02023445 & 0.47561671 & 0.29070375 & 0.11328328\\\\\n",
       "  -0.1922198 & -0.29716593 & 0.29903577 & -0.00075658 & 0.41215642 & 0.25362889\\\\\n",
       "  0.02645405 & 0.54965368 & -0.13887779 & -0.377421\\\\\n",
       "  -0.42269968 & 0.33253859 & -0.34530632 & -0.10104647 & -0.05290578 & -0.58252398\\\\\n",
       "  0.38099782 & -0.20113394 & 0.03375316 & 0.19529002\\\\\n",
       "  -0.11091171 & 0.06664862 & -0.06075678 & 0.20984437 & -0.11742511 & 0.21683512\\\\\n",
       "  -0.24999125 & -0.10689396 & 0.05072777 & -0.3595338\\\\\n",
       "  0.30627143 & 0.07595931 & 0.22548715 & -0.30712564 & -0.11002653 & -0.11854751\\\\\n",
       "  0.15705219 & -0.05446035 & -0.21659457 & 0.08480485\\\\\n",
       "  0.17064135 & -0.31955007 & 0.10181767 & -0.37272555 & -0.07582012 & -0.70368538\\\\\n",
       "  -0.2758053 & -0.02935709 & 0.43989721 & 0.13869955\\\\\n",
       "\\end{bmatrix} - 0.7\n",
       "\\begin{bmatrix}\n",
       "  0.83651804\\\\\n",
       "  0.84105672\\\\\n",
       "  0.795522\\\\\n",
       "  0.7799793\\\\\n",
       "  0.02054451\\\\\n",
       "  0.54944189\\\\\n",
       "  0.34120318\\\\\n",
       "  0.60060085\\\\\n",
       "  0.55169671\\\\\n",
       "  0.99002851\\\\\n",
       "  0.69001628\\\\\n",
       "  0.96723093\\\\\n",
       "  0.96910218\\\\\n",
       "  0.43101505\\\\\n",
       "\\end{bmatrix} \\cdot \n",
       "\\begin{bmatrix}\n",
       "  -0.0325056 & -0.00677844 & -0.05433022 & 0.02118404 & -0.04467085 & -0.06790645\\\\\n",
       "  0.10193994 & 0.14003432 & -0.23298481 & 0.00302883\\\\\n",
       "\\end{bmatrix}\\end{gather}"
      ],
      "text/plain": [
       "<IPython.core.display.Latex object>"
      ]
     },
     "metadata": {},
     "output_type": "display_data"
    },
    {
     "data": {
      "text/latex": [
       "Camada: 1"
      ],
      "text/plain": [
       "<IPython.core.display.Latex object>"
      ]
     },
     "metadata": {},
     "output_type": "display_data"
    },
    {
     "data": {
      "text/latex": [
       "\\nabla = \\frac{\\partial E}{\\partial Y} \\frac{\\partial Y}{\\partial X}"
      ],
      "text/plain": [
       "<IPython.core.display.Latex object>"
      ]
     },
     "metadata": {},
     "output_type": "display_data"
    },
    {
     "data": {
      "text/latex": [
       "\\begin{gather}\n",
       "\\begin{bmatrix}\n",
       "  5.88979320e-03 & -1.43850631e-02 & 2.17458727e-02 & -1.94094663e-03\\\\\n",
       "  -1.68575515e-03 & 3.95486949e-02 & 1.26836706e-05 & 2.45610610e-02\\\\\n",
       "  7.54565302e-03 & 6.63854306e-04 & 1.57056377e-02 & -1.64625020e-03\\\\\n",
       "  1.28280752e-03 & -2.45075484e-02\\\\\n",
       "\\end{bmatrix} = \n",
       "\\begin{bmatrix}\n",
       "  4.30680198e-02 & -1.07607940e-01 & 1.33683578e-01 & -1.13101140e-02\\\\\n",
       "  -8.37749250e-02 & 1.59756883e-01 & 5.64261462e-05 & 1.02389175e-01\\\\\n",
       "  3.05087568e-02 & 6.72457900e-02 & 7.34272647e-02 & -5.19399475e-02\\\\\n",
       "  4.28414455e-02 & -9.99324775e-02\\\\\n",
       "\\end{bmatrix} \\cdot  \\sigma^{'}(\n",
       "\\begin{bmatrix}\n",
       "  1.63254545 & 1.6661117 & 1.35853812 & 1.26554577 & -3.86440315 & 0.19841596\\\\\n",
       "  -0.65793703 & 0.40796928 & 0.20752848 & 4.59800391 & 0.8001954 & 3.38495209\\\\\n",
       "  3.44568449 & -0.27771097\\\\\n",
       "\\end{bmatrix}) \\end{gather}"
      ],
      "text/plain": [
       "<IPython.core.display.Latex object>"
      ]
     },
     "metadata": {},
     "output_type": "display_data"
    },
    {
     "data": {
      "text/latex": [
       "Camada: 0"
      ],
      "text/plain": [
       "<IPython.core.display.Latex object>"
      ]
     },
     "metadata": {},
     "output_type": "display_data"
    },
    {
     "data": {
      "text/latex": [
       "\\nabla f_{custo} = \\frac{\\partial E}{\\partial W} = \n",
       "\\begin{bmatrix}\n",
       "  5.88979320e-03 & -1.43850631e-02 & 2.17458727e-02 & -1.94094663e-03\\\\\n",
       "  -1.68575515e-03 & 3.95486949e-02 & 1.26836706e-05 & 2.45610610e-02\\\\\n",
       "  7.54565302e-03 & 6.63854306e-04 & 1.57056377e-02 & -1.64625020e-03\\\\\n",
       "  1.28280752e-03 & -2.45075484e-02\\\\\n",
       "\\end{bmatrix} \\cdot \n",
       "\\begin{bmatrix}\n",
       "  0.60944934 & -0.05707304 & -0.00177142 & 0.3327159 & -0.04889694 & 0.52207206\\\\\n",
       "  0.92927744\\\\\n",
       "  0.07797618 & -0.27448554 & 0.36242592 & -0.00741869 & 0.59567186 & 0.77789246\\\\\n",
       "  0.17255437\\\\\n",
       "  0.83709824 & -0.3639949 & -0.31246063 & 0.73761785 & 0.15764151 & 0.13167148\\\\\n",
       "  0.50526719\\\\\n",
       "  -0.12707048 & 0.0287045 & 0.33952014 & 0.19916525 & 0.87770087 & -0.02523164\\\\\n",
       "  0.02927546\\\\\n",
       "  -0.57585139 & -0.94597677 & -0.82805041 & -0.35457426 & -0.50745664 & -0.39780856\\\\\n",
       "  0.63516636\\\\\n",
       "  0.27177919 & -0.3649593 & -0.99045831 & -0.12724606 & 0.6054167 & 0.75242509\\\\\n",
       "  0.89688166\\\\\n",
       "  -0.03177012 & -0.46458129 & -0.73356952 & -0.01522454 & -0.14865096 & 0.34236725\\\\\n",
       "  0.60257987\\\\\n",
       "  0.58696586 & 0.04194239 & -0.75630356 & 0.53610544 & 0.69367777 & 0.06359489\\\\\n",
       "  0.02037709\\\\\n",
       "  0.02168809 & -0.61082229 & -0.18312923 & -0.0907236 & 0.20779255 & 0.32331213\\\\\n",
       "  0.90480694\\\\\n",
       "  0.18635113 & 0.38614019 & 0.64428864 & 0.48104991 & 0.85456506 & 0.95040455\\\\\n",
       "  0.45048858\\\\\n",
       "  0.65601399 & -0.3481032 & -0.26307219 & 0.44107493 & 0.46988619 & 0.07204759\\\\\n",
       "  0.60316317\\\\\n",
       "  0.19435032 & 0.02488357 & 0.34416268 & 0.41032914 & 0.84653912 & 0.48265326\\\\\n",
       "  0.94308187\\\\\n",
       "  0.92432012 & 0.34846487 & 0.08314917 & 0.01083383 & 0.8083674 & 0.63454425\\\\\n",
       "  0.55735666\\\\\n",
       "  -0.18332281 & -0.47558001 & -1.05647166 & 0.52407466 & 0.38626382 & 0.25554809\\\\\n",
       "  0.82424293\\\\\n",
       "\\end{bmatrix} = \n",
       "\\begin{bmatrix}\n",
       "  0.06300231 & -0.01393203 & -0.04869225 & 0.01950911 & 0.03439426 & 0.02475015\\\\\n",
       "  0.04439133\\\\\n",
       "\\end{bmatrix}"
      ],
      "text/plain": [
       "<IPython.core.display.Latex object>"
      ]
     },
     "metadata": {},
     "output_type": "display_data"
    },
    {
     "data": {
      "text/latex": [
       "W = W - \\lambda (X \\cdot \\nabla f_{custo})"
      ],
      "text/plain": [
       "<IPython.core.display.Latex object>"
      ]
     },
     "metadata": {},
     "output_type": "display_data"
    },
    {
     "data": {
      "text/latex": [
       "\\begin{gather}\n",
       "\\begin{bmatrix}\n",
       "  0.60532649 & 0.08804572 & 0.82187613 & -0.12571182 & -0.57467137 & 0.2440951\\\\\n",
       "  -0.031779 & 0.56977312 & 0.01640613 & 0.18588643 & 0.64502005 & 0.19550269\\\\\n",
       "  0.92342216 & -0.16616753\\\\\n",
       "  -0.0611959 & -0.26441599 & -0.37921701 & 0.03006316 & -0.94479674 & -0.39264339\\\\\n",
       "  -0.46459017 & 0.02474965 & -0.61610425 & 0.38567549 & -0.35909715 & 0.02603595\\\\\n",
       "  0.3475669 & -0.45842473\\\\\n",
       "  -0.00589428 & 0.37249546 & -0.32768274 & 0.3408788 & -0.82687038 & -1.0181424\\\\\n",
       "  -0.73357839 & -0.7734963 & -0.18841118 & 0.64382394 & -0.27406614 & 0.34531506\\\\\n",
       "  0.0822512 & -1.03931638\\\\\n",
       "  0.32859304 & 0.00265085 & 0.72239574 & 0.20052391 & -0.35339423 & -0.15493014\\\\\n",
       "  -0.01523342 & 0.51891269 & -0.09600555 & 0.48058521 & 0.43008098 & 0.41148151\\\\\n",
       "  0.00993587 & 0.54122994\\\\\n",
       "  -0.05301979 & 0.6057414 & 0.1424194 & 0.87905953 & -0.50627662 & 0.57773261\\\\\n",
       "  -0.14865984 & 0.67648503 & 0.20251059 & 0.85410036 & 0.45889224 & 0.84769149\\\\\n",
       "  0.80746943 & 0.40341911\\\\\n",
       "  0.51794921 & 0.787962 & 0.11644937 & -0.02387297 & -0.39662853 & 0.72474101\\\\\n",
       "  0.34235837 & 0.04640215 & 0.31803018 & 0.94993985 & 0.06105364 & 0.48380564\\\\\n",
       "  0.63364629 & 0.27270338\\\\\n",
       "  0.92515458 & 0.18262391 & 0.49004508 & 0.03063413 & 0.63634639 & 0.86919757\\\\\n",
       "  0.60257099 & 0.00318435 & 0.89952498 & 0.45002389 & 0.59216922 & 0.94423425\\\\\n",
       "  0.55645869 & 0.84139821\\\\\n",
       "\\end{bmatrix} = \n",
       "\\begin{bmatrix}\n",
       "  0.60944934 & 0.07797618 & 0.83709824 & -0.12707048 & -0.57585139 & 0.27177919\\\\\n",
       "  -0.03177012 & 0.58696586 & 0.02168809 & 0.18635113 & 0.65601399 & 0.19435032\\\\\n",
       "  0.92432012 & -0.18332281\\\\\n",
       "  -0.05707304 & -0.27448554 & -0.3639949 & 0.0287045 & -0.94597677 & -0.3649593\\\\\n",
       "  -0.46458129 & 0.04194239 & -0.61082229 & 0.38614019 & -0.3481032 & 0.02488357\\\\\n",
       "  0.34846487 & -0.47558001\\\\\n",
       "  -0.00177142 & 0.36242592 & -0.31246063 & 0.33952014 & -0.82805041 & -0.99045831\\\\\n",
       "  -0.73356952 & -0.75630356 & -0.18312923 & 0.64428864 & -0.26307219 & 0.34416268\\\\\n",
       "  0.08314917 & -1.05647166\\\\\n",
       "  0.3327159 & -0.00741869 & 0.73761785 & 0.19916525 & -0.35457426 & -0.12724606\\\\\n",
       "  -0.01522454 & 0.53610544 & -0.0907236 & 0.48104991 & 0.44107493 & 0.41032914\\\\\n",
       "  0.01083383 & 0.52407466\\\\\n",
       "  -0.04889694 & 0.59567186 & 0.15764151 & 0.87770087 & -0.50745664 & 0.6054167\\\\\n",
       "  -0.14865096 & 0.69367777 & 0.20779255 & 0.85456506 & 0.46988619 & 0.84653912\\\\\n",
       "  0.8083674 & 0.38626382\\\\\n",
       "  0.52207206 & 0.77789246 & 0.13167148 & -0.02523164 & -0.39780856 & 0.75242509\\\\\n",
       "  0.34236725 & 0.06359489 & 0.32331213 & 0.95040455 & 0.07204759 & 0.48265326\\\\\n",
       "  0.63454425 & 0.25554809\\\\\n",
       "  0.92927744 & 0.17255437 & 0.50526719 & 0.02927546 & 0.63516636 & 0.89688166\\\\\n",
       "  0.60257987 & 0.02037709 & 0.90480694 & 0.45048858 & 0.60316317 & 0.94308187\\\\\n",
       "  0.55735666 & 0.82424293\\\\\n",
       "\\end{bmatrix} - 0.7\n",
       "\\begin{bmatrix}\n",
       "  1\\\\\n",
       "  1\\\\\n",
       "  1\\\\\n",
       "  1\\\\\n",
       "  1\\\\\n",
       "  1\\\\\n",
       "  1\\\\\n",
       "\\end{bmatrix} \\cdot \n",
       "\\begin{bmatrix}\n",
       "  5.88979320e-03 & -1.43850631e-02 & 2.17458727e-02 & -1.94094663e-03\\\\\n",
       "  -1.68575515e-03 & 3.95486949e-02 & 1.26836706e-05 & 2.45610610e-02\\\\\n",
       "  7.54565302e-03 & 6.63854306e-04 & 1.57056377e-02 & -1.64625020e-03\\\\\n",
       "  1.28280752e-03 & -2.45075484e-02\\\\\n",
       "\\end{bmatrix}\\end{gather}"
      ],
      "text/plain": [
       "<IPython.core.display.Latex object>"
      ]
     },
     "metadata": {},
     "output_type": "display_data"
    },
    {
     "data": {
      "text/latex": [
       "Camada: 0"
      ],
      "text/plain": [
       "<IPython.core.display.Latex object>"
      ]
     },
     "metadata": {},
     "output_type": "display_data"
    },
    {
     "data": {
      "text/latex": [
       "Y = Xw + b"
      ],
      "text/plain": [
       "<IPython.core.display.Latex object>"
      ]
     },
     "metadata": {},
     "output_type": "display_data"
    },
    {
     "data": {
      "text/latex": [
       "\\begin{gather}\n",
       "\\begin{bmatrix}\n",
       "  1.27686385 & 1.37152174 & 0.84204823 & 0.73501236 & -2.67469831 & 1.15001581\\\\\n",
       "  0.09080375 & 0.52501094 & 0.44968956 & 3.46987717 & 0.55622899 & 2.63737452\\\\\n",
       "  3.3463137 & 0.35761774\\\\\n",
       "\\end{bmatrix} = \n",
       "\\begin{bmatrix}\n",
       "  1 & 1 & 0 & 0 & 1 & 1 & 1\\\\\n",
       "\\end{bmatrix} \\cdot \n",
       "\\begin{bmatrix}\n",
       "  0.60532649 & 0.08804572 & 0.82187613 & -0.12571182 & -0.57467137 & 0.2440951\\\\\n",
       "  -0.031779 & 0.56977312 & 0.01640613 & 0.18588643 & 0.64502005 & 0.19550269\\\\\n",
       "  0.92342216 & -0.16616753\\\\\n",
       "  -0.0611959 & -0.26441599 & -0.37921701 & 0.03006316 & -0.94479674 & -0.39264339\\\\\n",
       "  -0.46459017 & 0.02474965 & -0.61610425 & 0.38567549 & -0.35909715 & 0.02603595\\\\\n",
       "  0.3475669 & -0.45842473\\\\\n",
       "  -0.00589428 & 0.37249546 & -0.32768274 & 0.3408788 & -0.82687038 & -1.0181424\\\\\n",
       "  -0.73357839 & -0.7734963 & -0.18841118 & 0.64382394 & -0.27406614 & 0.34531506\\\\\n",
       "  0.0822512 & -1.03931638\\\\\n",
       "  0.32859304 & 0.00265085 & 0.72239574 & 0.20052391 & -0.35339423 & -0.15493014\\\\\n",
       "  -0.01523342 & 0.51891269 & -0.09600555 & 0.48058521 & 0.43008098 & 0.41148151\\\\\n",
       "  0.00993587 & 0.54122994\\\\\n",
       "  -0.05301979 & 0.6057414 & 0.1424194 & 0.87905953 & -0.50627662 & 0.57773261\\\\\n",
       "  -0.14865984 & 0.67648503 & 0.20251059 & 0.85410036 & 0.45889224 & 0.84769149\\\\\n",
       "  0.80746943 & 0.40341911\\\\\n",
       "  0.51794921 & 0.787962 & 0.11644937 & -0.02387297 & -0.39662853 & 0.72474101\\\\\n",
       "  0.34235837 & 0.04640215 & 0.31803018 & 0.94993985 & 0.06105364 & 0.48380564\\\\\n",
       "  0.63364629 & 0.27270338\\\\\n",
       "  0.92515458 & 0.18262391 & 0.49004508 & 0.03063413 & 0.63634639 & 0.86919757\\\\\n",
       "  0.60257099 & 0.00318435 & 0.89952498 & 0.45002389 & 0.59216922 & 0.94423425\\\\\n",
       "  0.55645869 & 0.84139821\\\\\n",
       "\\end{bmatrix} + \n",
       "\\begin{bmatrix}\n",
       "  -0.65735074 & -0.0284353 & -0.34952473 & -0.05515966 & -0.88867144 & -0.87310709\\\\\n",
       "  -0.2090966 & -0.79558335 & -0.37067807 & 0.64425115 & -0.84180902 & 0.1401045\\\\\n",
       "  0.07775023 & -0.5353107\\\\\n",
       "\\end{bmatrix}\\end{gather}"
      ],
      "text/plain": [
       "<IPython.core.display.Latex object>"
      ]
     },
     "metadata": {},
     "output_type": "display_data"
    },
    {
     "data": {
      "text/latex": [
       "Camada: 1"
      ],
      "text/plain": [
       "<IPython.core.display.Latex object>"
      ]
     },
     "metadata": {},
     "output_type": "display_data"
    },
    {
     "data": {
      "text/latex": [
       "Y = \\sigma(X)"
      ],
      "text/plain": [
       "<IPython.core.display.Latex object>"
      ]
     },
     "metadata": {},
     "output_type": "display_data"
    },
    {
     "data": {
      "text/latex": [
       "\\begin{gather}\n",
       "\\begin{bmatrix}\n",
       "  0.78191546 & 0.7976259 & 0.69889642 & 0.67590424 & 0.06448296 & 0.75951381\\\\\n",
       "  0.52268535 & 0.62831874 & 0.61056542 & 0.96981842 & 0.63557955 & 0.93322855\\\\\n",
       "  0.96598392 & 0.58846363\\\\\n",
       "\\end{bmatrix} = \\sigma(\n",
       "\\begin{bmatrix}\n",
       "  1.27686385 & 1.37152174 & 0.84204823 & 0.73501236 & -2.67469831 & 1.15001581\\\\\n",
       "  0.09080375 & 0.52501094 & 0.44968956 & 3.46987717 & 0.55622899 & 2.63737452\\\\\n",
       "  3.3463137 & 0.35761774\\\\\n",
       "\\end{bmatrix}) \\end{gather}"
      ],
      "text/plain": [
       "<IPython.core.display.Latex object>"
      ]
     },
     "metadata": {},
     "output_type": "display_data"
    },
    {
     "data": {
      "text/latex": [
       "Camada: 2"
      ],
      "text/plain": [
       "<IPython.core.display.Latex object>"
      ]
     },
     "metadata": {},
     "output_type": "display_data"
    },
    {
     "data": {
      "text/latex": [
       "Y = Xw + b"
      ],
      "text/plain": [
       "<IPython.core.display.Latex object>"
      ]
     },
     "metadata": {},
     "output_type": "display_data"
    },
    {
     "data": {
      "text/latex": [
       "\\begin{gather}\n",
       "\\begin{bmatrix}\n",
       "  0.19882655 & -0.19854411 & -0.13704884 & -0.10508176 & 0.04032597 & -0.07089093\\\\\n",
       "  -0.13247521 & -0.08733628 & 1.18594537 & 0.09733773\\\\\n",
       "\\end{bmatrix} = \n",
       "\\begin{bmatrix}\n",
       "  0.78191546 & 0.7976259 & 0.69889642 & 0.67590424 & 0.06448296 & 0.75951381\\\\\n",
       "  0.52268535 & 0.62831874 & 0.61056542 & 0.96981842 & 0.63557955 & 0.93322855\\\\\n",
       "  0.96598392 & 0.58846363\\\\\n",
       "\\end{bmatrix} \\cdot \n",
       "\\begin{bmatrix}\n",
       "  -0.25380997 & -0.25040709 & 0.23116034 & -0.18268183 & -0.26947412 & 0.38131542\\\\\n",
       "  -0.39921185 & 0.034393 & -0.18340485 & 0.22792003\\\\\n",
       "  0.04807854 & 0.23413931 & 0.11739891 & -0.22526645 & 0.47083672 & -0.14383182\\\\\n",
       "  0.51327082 & -0.39292288 & 0.57924965 & -0.1825687\\\\\n",
       "  -0.20468617 & 0.23586132 & -0.12773112 & 0.46638688 & -0.39042426 & 0.08544729\\\\\n",
       "  0.31287031 & 0.13707687 & 0.01070848 & -0.51163928\\\\\n",
       "  -0.21788771 & 0.13134072 & 0.43721622 & 0.23851271 & -0.30360345 & -0.30740238\\\\\n",
       "  -0.19018101 & -0.32736389 & 0.08749153 & 0.09485212\\\\\n",
       "  -0.3761721 & -0.45772072 & -0.21362533 & -0.46651421 & 0.16430138 & -0.37840562\\\\\n",
       "  -0.0066914 & -0.57612818 & 0.16427158 & -0.30539438\\\\\n",
       "  0.03922882 & -0.30265769 & -0.41841886 & -0.08021884 & -0.35086997 & -0.26243648\\\\\n",
       "  0.22356531 & -0.09817273 & -0.24922742 & 0.21485626\\\\\n",
       "  0.36491154 & -0.00933441 & -0.12580666 & 0.21845034 & -0.02691664 & 0.25337216\\\\\n",
       "  -0.12589941 & 0.03650886 & -0.00624284 & -0.04081851\\\\\n",
       "  0.21481907 & 0.04985224 & -0.43776712 & 0.32612502 & -0.0401818 & 0.15015605\\\\\n",
       "  -0.29109043 & -0.07087674 & -0.37167493 & 0.10370437\\\\\n",
       "  -0.00770416 & -0.37030283 & -0.4273127 & 0.15427219 & 0.48399283 & -0.3157359\\\\\n",
       "  -0.0596024 & 0.42153718 & 0.38067962 & 0.11211358\\\\\n",
       "  -0.16969277 & -0.29246834 & 0.3366877 & -0.01543755 & 0.44311421 & 0.30068942\\\\\n",
       "  -0.04419237 & 0.4526071 & 0.02258533 & -0.37952004\\\\\n",
       "  -0.4069991 & 0.33581266 & -0.31906421 & -0.1112786 & -0.03132925 & -0.54972439\\\\\n",
       "  0.33175967 & -0.26877211 & 0.14628748 & 0.19382706\\\\\n",
       "  -0.08890342 & 0.07123804 & -0.02397187 & 0.19550147 & -0.08718019 & 0.26281197\\\\\n",
       "  -0.31901088 & -0.20170583 & 0.20847284 & -0.3615845\\\\\n",
       "  0.32832231 & 0.0805576 & 0.26234322 & -0.32149629 & -0.0797231 & -0.0724817\\\\\n",
       "  0.08789904 & -0.14945564 & -0.05854431 & 0.08275018\\\\\n",
       "  0.18044863 & -0.31750494 & 0.11820967 & -0.379117 & -0.06234246 & -0.68319729\\\\\n",
       "  -0.30656165 & -0.07160692 & 0.51019118 & 0.13778572\\\\\n",
       "\\end{bmatrix} + \n",
       "\\begin{bmatrix}\n",
       "  0.4055956 & 0.12866586 & -0.10874097 & -0.15509724 & 0.13848436 & 0.36802362\\\\\n",
       "  0.02108218 & 0.31105618 & 0.43066052 & 0.52374333\\\\\n",
       "\\end{bmatrix}\\end{gather}"
      ],
      "text/plain": [
       "<IPython.core.display.Latex object>"
      ]
     },
     "metadata": {},
     "output_type": "display_data"
    },
    {
     "data": {
      "text/latex": [
       "f_{custo}(\n",
       "\\begin{bmatrix}\n",
       "  0 & 0 & 0 & 0 & 0 & 0 & 0 & 0 & 0 & 1\\\\\n",
       "\\end{bmatrix},\n",
       "\\begin{bmatrix}\n",
       "  0.19882655 & -0.19854411 & -0.13704884 & -0.10508176 & 0.04032597 & -0.07089093\\\\\n",
       "  -0.13247521 & -0.08733628 & 1.18594537 & 0.09733773\\\\\n",
       "\\end{bmatrix}) = \n",
       "\\begin{bmatrix}\n",
       "  0.2361870927637872\\\\\n",
       "\\end{bmatrix}"
      ],
      "text/plain": [
       "<IPython.core.display.Latex object>"
      ]
     },
     "metadata": {},
     "output_type": "display_data"
    },
    {
     "data": {
      "text/latex": [
       "Camada: 2"
      ],
      "text/plain": [
       "<IPython.core.display.Latex object>"
      ]
     },
     "metadata": {},
     "output_type": "display_data"
    },
    {
     "data": {
      "text/latex": [
       "\\nabla f_{custo} = \\frac{\\partial E}{\\partial W} = \n",
       "\\begin{bmatrix}\n",
       "  0.03976531 & -0.03970882 & -0.02740977 & -0.02101635 & 0.00806519 & -0.01417819\\\\\n",
       "  -0.02649504 & -0.01746726 & 0.23718907 & -0.18053245\\\\\n",
       "\\end{bmatrix} \\cdot \n",
       "\\begin{bmatrix}\n",
       "  -0.25380997 & 0.04807854 & -0.20468617 & -0.21788771 & -0.3761721 & 0.03922882\\\\\n",
       "  0.36491154 & 0.21481907 & -0.00770416 & -0.16969277 & -0.4069991 & -0.08890342\\\\\n",
       "  0.32832231 & 0.18044863\\\\\n",
       "  -0.25040709 & 0.23413931 & 0.23586132 & 0.13134072 & -0.45772072 & -0.30265769\\\\\n",
       "  -0.00933441 & 0.04985224 & -0.37030283 & -0.29246834 & 0.33581266 & 0.07123804\\\\\n",
       "  0.0805576 & -0.31750494\\\\\n",
       "  0.23116034 & 0.11739891 & -0.12773112 & 0.43721622 & -0.21362533 & -0.41841886\\\\\n",
       "  -0.12580666 & -0.43776712 & -0.4273127 & 0.3366877 & -0.31906421 & -0.02397187\\\\\n",
       "  0.26234322 & 0.11820967\\\\\n",
       "  -0.18268183 & -0.22526645 & 0.46638688 & 0.23851271 & -0.46651421 & -0.08021884\\\\\n",
       "  0.21845034 & 0.32612502 & 0.15427219 & -0.01543755 & -0.1112786 & 0.19550147\\\\\n",
       "  -0.32149629 & -0.379117\\\\\n",
       "  -0.26947412 & 0.47083672 & -0.39042426 & -0.30360345 & 0.16430138 & -0.35086997\\\\\n",
       "  -0.02691664 & -0.0401818 & 0.48399283 & 0.44311421 & -0.03132925 & -0.08718019\\\\\n",
       "  -0.0797231 & -0.06234246\\\\\n",
       "  0.38131542 & -0.14383182 & 0.08544729 & -0.30740238 & -0.37840562 & -0.26243648\\\\\n",
       "  0.25337216 & 0.15015605 & -0.3157359 & 0.30068942 & -0.54972439 & 0.26281197\\\\\n",
       "  -0.0724817 & -0.68319729\\\\\n",
       "  -0.39921185 & 0.51327082 & 0.31287031 & -0.19018101 & -0.0066914 & 0.22356531\\\\\n",
       "  -0.12589941 & -0.29109043 & -0.0596024 & -0.04419237 & 0.33175967 & -0.31901088\\\\\n",
       "  0.08789904 & -0.30656165\\\\\n",
       "  0.034393 & -0.39292288 & 0.13707687 & -0.32736389 & -0.57612818 & -0.09817273\\\\\n",
       "  0.03650886 & -0.07087674 & 0.42153718 & 0.4526071 & -0.26877211 & -0.20170583\\\\\n",
       "  -0.14945564 & -0.07160692\\\\\n",
       "  -0.18340485 & 0.57924965 & 0.01070848 & 0.08749153 & 0.16427158 & -0.24922742\\\\\n",
       "  -0.00624284 & -0.37167493 & 0.38067962 & 0.02258533 & 0.14628748 & 0.20847284\\\\\n",
       "  -0.05854431 & 0.51019118\\\\\n",
       "  0.22792003 & -0.1825687 & -0.51163928 & 0.09485212 & -0.30539438 & 0.21485626\\\\\n",
       "  -0.04081851 & 0.10370437 & 0.11211358 & -0.37952004 & 0.19382706 & -0.3615845\\\\\n",
       "  0.08275018 & 0.13778572\\\\\n",
       "\\end{bmatrix} = \n",
       "\\begin{bmatrix}\n",
       "  -0.08489814 & 0.16358294 & 0.05605737 & -0.01458148 & 0.12990472 & -0.07448728\\\\\n",
       "  0.01851567 & -0.08867387 & 0.09551727 & 0.06240992 & -0.01528316 & 0.11245563\\\\\n",
       "  -0.01873589 & 0.13920471\\\\\n",
       "\\end{bmatrix}"
      ],
      "text/plain": [
       "<IPython.core.display.Latex object>"
      ]
     },
     "metadata": {},
     "output_type": "display_data"
    },
    {
     "data": {
      "text/latex": [
       "W = W - \\lambda (X \\cdot \\nabla f_{custo})"
      ],
      "text/plain": [
       "<IPython.core.display.Latex object>"
      ]
     },
     "metadata": {},
     "output_type": "display_data"
    },
    {
     "data": {
      "text/latex": [
       "\\begin{gather}\n",
       "\\begin{bmatrix}\n",
       "  -0.27557515 & -0.22867284 & 0.24616283 & -0.17117872 & -0.27388852 & 0.38907572\\\\\n",
       "  -0.38471004 & 0.04395354 & -0.31322811 & 0.32673282\\\\\n",
       "  0.02587605 & 0.25631026 & 0.13270283 & -0.21353222 & 0.46633361 & -0.1359156\\\\\n",
       "  0.52806401 & -0.38317024 & 0.44681795 & -0.08177055\\\\\n",
       "  -0.22414045 & 0.25528797 & -0.11432151 & 0.47666866 & -0.39436998 & 0.09238365\\\\\n",
       "  0.32583242 & 0.14562233 & -0.10533093 & -0.42331784\\\\\n",
       "  -0.23670198 & 0.15012828 & 0.45018468 & 0.24845624 & -0.30741936 & -0.30069422\\\\\n",
       "  -0.17764533 & -0.31909955 & -0.02473044 & 0.18026798\\\\\n",
       "  -0.37796703 & -0.45592834 & -0.21238811 & -0.46556557 & 0.16393734 & -0.37776564\\\\\n",
       "  -0.00549546 & -0.57533974 & 0.15356532 & -0.2972455\\\\\n",
       "  0.01808721 & -0.28154611 & -0.40384619 & -0.06904529 & -0.3551579 & -0.25489851\\\\\n",
       "  0.23765165 & -0.0888861 & -0.37533129 & 0.31083809\\\\\n",
       "  0.35036222 & 0.00519425 & -0.11577798 & 0.22613979 & -0.02986753 & 0.25855967\\\\\n",
       "  -0.11620541 & 0.04289977 & -0.09302552 & 0.02523466\\\\\n",
       "  0.19732936 & 0.0673171 & -0.42571167 & 0.33536849 & -0.04372905 & 0.15639195\\\\\n",
       "  -0.2794373 & -0.06319424 & -0.47599617 & 0.18310672\\\\\n",
       "  -0.02469969 & -0.35333145 & -0.41559788 & 0.16325449 & 0.4805458 & -0.30967621\\\\\n",
       "  -0.04827853 & 0.42900262 & 0.279306 & 0.18927239\\\\\n",
       "  -0.19668836 & -0.2655111 & 0.35529545 & -0.00117012 & 0.43763897 & 0.3103146\\\\\n",
       "  -0.0262056 & 0.46446515 & -0.1384359 & -0.25696145\\\\\n",
       "  -0.42469091 & 0.35347934 & -0.30686945 & -0.10192831 & -0.0349175 & -0.54341644\\\\\n",
       "  0.34354746 & -0.26100083 & 0.04076071 & 0.27414697\\\\\n",
       "  -0.1148805 & 0.09717823 & -0.00606616 & 0.20923061 & -0.09244886 & 0.27207402\\\\\n",
       "  -0.30170273 & -0.19029517 & 0.05352671 & -0.24364988\\\\\n",
       "  0.30143345 & 0.10740826 & 0.2808774 & -0.30728527 & -0.08517669 & -0.06289457\\\\\n",
       "  0.10581469 & -0.13764448 & -0.2189289 & 0.20482419\\\\\n",
       "  0.16406832 & -0.30114791 & 0.12950043 & -0.37045985 & -0.06566471 & -0.67735694\\\\\n",
       "  -0.29564769 & -0.06441172 & 0.41248718 & 0.21215147\\\\\n",
       "\\end{bmatrix} = \n",
       "\\begin{bmatrix}\n",
       "  -0.25380997 & -0.25040709 & 0.23116034 & -0.18268183 & -0.26947412 & 0.38131542\\\\\n",
       "  -0.39921185 & 0.034393 & -0.18340485 & 0.22792003\\\\\n",
       "  0.04807854 & 0.23413931 & 0.11739891 & -0.22526645 & 0.47083672 & -0.14383182\\\\\n",
       "  0.51327082 & -0.39292288 & 0.57924965 & -0.1825687\\\\\n",
       "  -0.20468617 & 0.23586132 & -0.12773112 & 0.46638688 & -0.39042426 & 0.08544729\\\\\n",
       "  0.31287031 & 0.13707687 & 0.01070848 & -0.51163928\\\\\n",
       "  -0.21788771 & 0.13134072 & 0.43721622 & 0.23851271 & -0.30360345 & -0.30740238\\\\\n",
       "  -0.19018101 & -0.32736389 & 0.08749153 & 0.09485212\\\\\n",
       "  -0.3761721 & -0.45772072 & -0.21362533 & -0.46651421 & 0.16430138 & -0.37840562\\\\\n",
       "  -0.0066914 & -0.57612818 & 0.16427158 & -0.30539438\\\\\n",
       "  0.03922882 & -0.30265769 & -0.41841886 & -0.08021884 & -0.35086997 & -0.26243648\\\\\n",
       "  0.22356531 & -0.09817273 & -0.24922742 & 0.21485626\\\\\n",
       "  0.36491154 & -0.00933441 & -0.12580666 & 0.21845034 & -0.02691664 & 0.25337216\\\\\n",
       "  -0.12589941 & 0.03650886 & -0.00624284 & -0.04081851\\\\\n",
       "  0.21481907 & 0.04985224 & -0.43776712 & 0.32612502 & -0.0401818 & 0.15015605\\\\\n",
       "  -0.29109043 & -0.07087674 & -0.37167493 & 0.10370437\\\\\n",
       "  -0.00770416 & -0.37030283 & -0.4273127 & 0.15427219 & 0.48399283 & -0.3157359\\\\\n",
       "  -0.0596024 & 0.42153718 & 0.38067962 & 0.11211358\\\\\n",
       "  -0.16969277 & -0.29246834 & 0.3366877 & -0.01543755 & 0.44311421 & 0.30068942\\\\\n",
       "  -0.04419237 & 0.4526071 & 0.02258533 & -0.37952004\\\\\n",
       "  -0.4069991 & 0.33581266 & -0.31906421 & -0.1112786 & -0.03132925 & -0.54972439\\\\\n",
       "  0.33175967 & -0.26877211 & 0.14628748 & 0.19382706\\\\\n",
       "  -0.08890342 & 0.07123804 & -0.02397187 & 0.19550147 & -0.08718019 & 0.26281197\\\\\n",
       "  -0.31901088 & -0.20170583 & 0.20847284 & -0.3615845\\\\\n",
       "  0.32832231 & 0.0805576 & 0.26234322 & -0.32149629 & -0.0797231 & -0.0724817\\\\\n",
       "  0.08789904 & -0.14945564 & -0.05854431 & 0.08275018\\\\\n",
       "  0.18044863 & -0.31750494 & 0.11820967 & -0.379117 & -0.06234246 & -0.68319729\\\\\n",
       "  -0.30656165 & -0.07160692 & 0.51019118 & 0.13778572\\\\\n",
       "\\end{bmatrix} - 0.7\n",
       "\\begin{bmatrix}\n",
       "  0.78191546\\\\\n",
       "  0.7976259\\\\\n",
       "  0.69889642\\\\\n",
       "  0.67590424\\\\\n",
       "  0.06448296\\\\\n",
       "  0.75951381\\\\\n",
       "  0.52268535\\\\\n",
       "  0.62831874\\\\\n",
       "  0.61056542\\\\\n",
       "  0.96981842\\\\\n",
       "  0.63557955\\\\\n",
       "  0.93322855\\\\\n",
       "  0.96598392\\\\\n",
       "  0.58846363\\\\\n",
       "\\end{bmatrix} \\cdot \n",
       "\\begin{bmatrix}\n",
       "  0.03976531 & -0.03970882 & -0.02740977 & -0.02101635 & 0.00806519 & -0.01417819\\\\\n",
       "  -0.02649504 & -0.01746726 & 0.23718907 & -0.18053245\\\\\n",
       "\\end{bmatrix}\\end{gather}"
      ],
      "text/plain": [
       "<IPython.core.display.Latex object>"
      ]
     },
     "metadata": {},
     "output_type": "display_data"
    },
    {
     "data": {
      "text/latex": [
       "Camada: 1"
      ],
      "text/plain": [
       "<IPython.core.display.Latex object>"
      ]
     },
     "metadata": {},
     "output_type": "display_data"
    },
    {
     "data": {
      "text/latex": [
       "\\nabla = \\frac{\\partial E}{\\partial Y} \\frac{\\partial Y}{\\partial X}"
      ],
      "text/plain": [
       "<IPython.core.display.Latex object>"
      ]
     },
     "metadata": {},
     "output_type": "display_data"
    },
    {
     "data": {
      "text/latex": [
       "\\begin{gather}\n",
       "\\begin{bmatrix}\n",
       "  -0.01447714 & 0.02640537 & 0.01179673 & -0.00319419 & 0.00783649 & -0.01360529\\\\\n",
       "  0.00461939 & -0.02070839 & 0.02271165 & 0.00182678 & -0.00353986 & 0.00700745\\\\\n",
       "  -0.00061564 & 0.03371179\\\\\n",
       "\\end{bmatrix} = \n",
       "\\begin{bmatrix}\n",
       "  -0.08489814 & 0.16358294 & 0.05605737 & -0.01458148 & 0.12990472 & -0.07448728\\\\\n",
       "  0.01851567 & -0.08867387 & 0.09551727 & 0.06240992 & -0.01528316 & 0.11245563\\\\\n",
       "  -0.01873589 & 0.13920471\\\\\n",
       "\\end{bmatrix} \\cdot  \\sigma^{'}(\n",
       "\\begin{bmatrix}\n",
       "  1.27686385 & 1.37152174 & 0.84204823 & 0.73501236 & -2.67469831 & 1.15001581\\\\\n",
       "  0.09080375 & 0.52501094 & 0.44968956 & 3.46987717 & 0.55622899 & 2.63737452\\\\\n",
       "  3.3463137 & 0.35761774\\\\\n",
       "\\end{bmatrix}) \\end{gather}"
      ],
      "text/plain": [
       "<IPython.core.display.Latex object>"
      ]
     },
     "metadata": {},
     "output_type": "display_data"
    },
    {
     "data": {
      "text/latex": [
       "Camada: 0"
      ],
      "text/plain": [
       "<IPython.core.display.Latex object>"
      ]
     },
     "metadata": {},
     "output_type": "display_data"
    },
    {
     "data": {
      "text/latex": [
       "\\nabla f_{custo} = \\frac{\\partial E}{\\partial W} = \n",
       "\\begin{bmatrix}\n",
       "  -0.01447714 & 0.02640537 & 0.01179673 & -0.00319419 & 0.00783649 & -0.01360529\\\\\n",
       "  0.00461939 & -0.02070839 & 0.02271165 & 0.00182678 & -0.00353986 & 0.00700745\\\\\n",
       "  -0.00061564 & 0.03371179\\\\\n",
       "\\end{bmatrix} \\cdot \n",
       "\\begin{bmatrix}\n",
       "  0.60532649 & -0.0611959 & -0.00589428 & 0.32859304 & -0.05301979 & 0.51794921\\\\\n",
       "  0.92515458\\\\\n",
       "  0.08804572 & -0.26441599 & 0.37249546 & 0.00265085 & 0.6057414 & 0.787962\\\\\n",
       "  0.18262391\\\\\n",
       "  0.82187613 & -0.37921701 & -0.32768274 & 0.72239574 & 0.1424194 & 0.11644937\\\\\n",
       "  0.49004508\\\\\n",
       "  -0.12571182 & 0.03006316 & 0.3408788 & 0.20052391 & 0.87905953 & -0.02387297\\\\\n",
       "  0.03063413\\\\\n",
       "  -0.57467137 & -0.94479674 & -0.82687038 & -0.35339423 & -0.50627662 & -0.39662853\\\\\n",
       "  0.63634639\\\\\n",
       "  0.2440951 & -0.39264339 & -1.0181424 & -0.15493014 & 0.57773261 & 0.72474101\\\\\n",
       "  0.86919757\\\\\n",
       "  -0.031779 & -0.46459017 & -0.73357839 & -0.01523342 & -0.14865984 & 0.34235837\\\\\n",
       "  0.60257099\\\\\n",
       "  0.56977312 & 0.02474965 & -0.7734963 & 0.51891269 & 0.67648503 & 0.04640215\\\\\n",
       "  0.00318435\\\\\n",
       "  0.01640613 & -0.61610425 & -0.18841118 & -0.09600555 & 0.20251059 & 0.31803018\\\\\n",
       "  0.89952498\\\\\n",
       "  0.18588643 & 0.38567549 & 0.64382394 & 0.48058521 & 0.85410036 & 0.94993985\\\\\n",
       "  0.45002389\\\\\n",
       "  0.64502005 & -0.35909715 & -0.27406614 & 0.43008098 & 0.45889224 & 0.06105364\\\\\n",
       "  0.59216922\\\\\n",
       "  0.19550269 & 0.02603595 & 0.34531506 & 0.41148151 & 0.84769149 & 0.48380564\\\\\n",
       "  0.94423425\\\\\n",
       "  0.92342216 & 0.3475669 & 0.0822512 & 0.00993587 & 0.80746943 & 0.63364629\\\\\n",
       "  0.55645869\\\\\n",
       "  -0.16616753 & -0.45842473 & -1.03931638 & 0.54122994 & 0.40341911 & 0.27270338\\\\\n",
       "  0.84139821\\\\\n",
       "\\end{bmatrix} = \n",
       "\\begin{bmatrix}\n",
       "  -0.02248322 & -0.04288901 & -0.00983258 & 0.01001479 & 0.01268953 & 0.02334572\\\\\n",
       "  0.04678506\\\\\n",
       "\\end{bmatrix}"
      ],
      "text/plain": [
       "<IPython.core.display.Latex object>"
      ]
     },
     "metadata": {},
     "output_type": "display_data"
    },
    {
     "data": {
      "text/latex": [
       "W = W - \\lambda (X \\cdot \\nabla f_{custo})"
      ],
      "text/plain": [
       "<IPython.core.display.Latex object>"
      ]
     },
     "metadata": {},
     "output_type": "display_data"
    },
    {
     "data": {
      "text/latex": [
       "\\begin{gather}\n",
       "\\begin{bmatrix}\n",
       "  6.15460487e-01 & 6.95619644e-02 & 8.13618420e-01 & -1.23475891e-01\\\\\n",
       "  -5.80156909e-01 & 2.53618810e-01 & -3.50125670e-02 & 5.84268991e-01\\\\\n",
       "  5.07979142e-04 & 1.84607685e-01 & 6.47497946e-01 & 1.90597479e-01\\\\\n",
       "  9.23853107e-01 & -1.89765777e-01\\\\\n",
       "  -5.10618995e-02 & -2.82899748e-01 & -3.87474715e-01 & 3.22990919e-02\\\\\n",
       "  -9.50282280e-01 & -3.83119683e-01 & -4.67823743e-01 & 3.92455200e-02\\\\\n",
       "  -6.32002400e-01 & 3.84396745e-01 & -3.56619247e-01 & 2.11307313e-02\\\\\n",
       "  3.47997850e-01 & -4.82022980e-01\\\\\n",
       "  -5.89427998e-03 & 3.72495463e-01 & -3.27682742e-01 & 3.40878801e-01\\\\\n",
       "  -8.26870384e-01 & -1.01814240e+00 & -7.33578395e-01 & -7.73496298e-01\\\\\n",
       "  -1.88411182e-01 & 6.43823944e-01 & -2.74066139e-01 & 3.45315058e-01\\\\\n",
       "  8.22512003e-02 & -1.03931638e+00\\\\\n",
       "  3.28593042e-01 & 2.65085424e-03 & 7.22395744e-01 & 2.00523910e-01\\\\\n",
       "  -3.53394229e-01 & -1.54930145e-01 & -1.52334168e-02 & 5.18912693e-01\\\\\n",
       "  -9.60055535e-02 & 4.80585215e-01 & 4.30080982e-01 & 4.11481512e-01\\\\\n",
       "  9.93586856e-03 & 5.41229939e-01\\\\\n",
       "  -4.28857914e-02 & 5.87257643e-01 & 1.34161688e-01 & 8.81295460e-01\\\\\n",
       "  -5.11762159e-01 & 5.87256319e-01 & -1.51893410e-01 & 6.90980902e-01\\\\\n",
       "  1.86612442e-01 & 8.52821614e-01 & 4.61370142e-01 & 8.42786275e-01\\\\\n",
       "  8.07900384e-01 & 3.79820857e-01\\\\\n",
       "  5.28083205e-01 & 7.69478243e-01 & 1.08191659e-01 & -2.16370427e-02\\\\\n",
       "  -4.02114078e-01 & 7.34264711e-01 & 3.39124800e-01 & 6.08980205e-02\\\\\n",
       "  3.02132024e-01 & 9.48661104e-01 & 6.35315437e-02 & 4.78900423e-01\\\\\n",
       "  6.34077239e-01 & 2.49105126e-01\\\\\n",
       "  9.35288582e-01 & 1.64140153e-01 & 4.81787373e-01 & 3.28700550e-02\\\\\n",
       "  6.30860843e-01 & 8.78721275e-01 & 5.99337415e-01 & 1.76802181e-02\\\\\n",
       "  8.83626829e-01 & 4.48745142e-01 & 5.94647125e-01 & 9.39329033e-01\\\\\n",
       "  5.56889642e-01 & 8.17799958e-01\\\\\n",
       "\\end{bmatrix} = \n",
       "\\begin{bmatrix}\n",
       "  0.60532649 & 0.08804572 & 0.82187613 & -0.12571182 & -0.57467137 & 0.2440951\\\\\n",
       "  -0.031779 & 0.56977312 & 0.01640613 & 0.18588643 & 0.64502005 & 0.19550269\\\\\n",
       "  0.92342216 & -0.16616753\\\\\n",
       "  -0.0611959 & -0.26441599 & -0.37921701 & 0.03006316 & -0.94479674 & -0.39264339\\\\\n",
       "  -0.46459017 & 0.02474965 & -0.61610425 & 0.38567549 & -0.35909715 & 0.02603595\\\\\n",
       "  0.3475669 & -0.45842473\\\\\n",
       "  -0.00589428 & 0.37249546 & -0.32768274 & 0.3408788 & -0.82687038 & -1.0181424\\\\\n",
       "  -0.73357839 & -0.7734963 & -0.18841118 & 0.64382394 & -0.27406614 & 0.34531506\\\\\n",
       "  0.0822512 & -1.03931638\\\\\n",
       "  0.32859304 & 0.00265085 & 0.72239574 & 0.20052391 & -0.35339423 & -0.15493014\\\\\n",
       "  -0.01523342 & 0.51891269 & -0.09600555 & 0.48058521 & 0.43008098 & 0.41148151\\\\\n",
       "  0.00993587 & 0.54122994\\\\\n",
       "  -0.05301979 & 0.6057414 & 0.1424194 & 0.87905953 & -0.50627662 & 0.57773261\\\\\n",
       "  -0.14865984 & 0.67648503 & 0.20251059 & 0.85410036 & 0.45889224 & 0.84769149\\\\\n",
       "  0.80746943 & 0.40341911\\\\\n",
       "  0.51794921 & 0.787962 & 0.11644937 & -0.02387297 & -0.39662853 & 0.72474101\\\\\n",
       "  0.34235837 & 0.04640215 & 0.31803018 & 0.94993985 & 0.06105364 & 0.48380564\\\\\n",
       "  0.63364629 & 0.27270338\\\\\n",
       "  0.92515458 & 0.18262391 & 0.49004508 & 0.03063413 & 0.63634639 & 0.86919757\\\\\n",
       "  0.60257099 & 0.00318435 & 0.89952498 & 0.45002389 & 0.59216922 & 0.94423425\\\\\n",
       "  0.55645869 & 0.84139821\\\\\n",
       "\\end{bmatrix} - 0.7\n",
       "\\begin{bmatrix}\n",
       "  1\\\\\n",
       "  1\\\\\n",
       "  0\\\\\n",
       "  0\\\\\n",
       "  1\\\\\n",
       "  1\\\\\n",
       "  1\\\\\n",
       "\\end{bmatrix} \\cdot \n",
       "\\begin{bmatrix}\n",
       "  -0.01447714 & 0.02640537 & 0.01179673 & -0.00319419 & 0.00783649 & -0.01360529\\\\\n",
       "  0.00461939 & -0.02070839 & 0.02271165 & 0.00182678 & -0.00353986 & 0.00700745\\\\\n",
       "  -0.00061564 & 0.03371179\\\\\n",
       "\\end{bmatrix}\\end{gather}"
      ],
      "text/plain": [
       "<IPython.core.display.Latex object>"
      ]
     },
     "metadata": {},
     "output_type": "display_data"
    }
   ],
   "source": [
    "rede_exemplo_display.treinar(\n",
    "    vetor_x_exemplo_segmentos,\n",
    "    vetor_y_esperado_exemplo_segmentos,\n",
    "    max_n_iteracoes=1000,\n",
    "    taxa_aprendizado=0.7,\n",
    ")\n",
    "\n",
    "for log in rede_exemplo_display.logs[0]:\n",
    "    display(Latex(log))\n"
   ]
  },
  {
   "cell_type": "markdown",
   "metadata": {},
   "source": [
    "### Validação"
   ]
  },
  {
   "cell_type": "code",
   "execution_count": 31,
   "metadata": {},
   "outputs": [
    {
     "data": {
      "text/latex": [
       "\\begin{gather}X=\n",
       "\\begin{bmatrix}\n",
       "  1 & 1 & 1 & 1 & 1 & 1 & 0\\\\\n",
       "  0 & 1 & 1 & 0 & 0 & 0 & 0\\\\\n",
       "  1 & 1 & 0 & 1 & 1 & 0 & 1\\\\\n",
       "  1 & 1 & 1 & 1 & 0 & 0 & 1\\\\\n",
       "  0 & 1 & 1 & 0 & 0 & 1 & 1\\\\\n",
       "  1 & 0 & 1 & 1 & 0 & 1 & 1\\\\\n",
       "  0 & 0 & 1 & 1 & 1 & 1 & 1\\\\\n",
       "  1 & 1 & 1 & 0 & 0 & 0 & 0\\\\\n",
       "  1 & 1 & 1 & 1 & 1 & 1 & 1\\\\\n",
       "  1 & 1 & 0 & 0 & 1 & 1 & 1\\\\\n",
       "\\end{bmatrix}\\rightarrow\n",
       "\\begin{bmatrix}\n",
       "  0.89 & 0.03 & 0.04 & -0.11 & -0.02 & 0.04 & -0.09 & 0.02 & 0.24 & -0.05\\\\\n",
       "  -0.03 & 0.78 & 0.07 & -0.08 & 0.06 & -0.07 & 0.05 & 0.18 & 0.04 & -0.06\\\\\n",
       "  -0.05 & -0.06 & 1.01 & -0.03 & -0.02 & -0.05 & -0.02 & 0.05 & 0.16 & -0.\\\\\n",
       "  -0.2 & -0.09 & 0.09 & 0.76 & 0.02 & 0.04 & -0.08 & 0.17 & 0.34 & -0.13\\\\\n",
       "  -0.13 & 0.04 & 0. & -0.1 & 0.98 & -0.01 & -0.09 & 0.04 & 0.3 & -0.05\\\\\n",
       "  -0.16 & -0.05 & 0.02 & -0.12 & -0.04 & 0.96 & -0.07 & 0.11 & 0.34 & -0.06\\\\\n",
       "  -0.21 & 0.05 & 0.03 & -0.15 & -0.08 & 0.01 & 0.89 & 0.07 & 0.42 & -0.05\\\\\n",
       "  -0.02 & 0.23 & -0.06 & 0.06 & -0.1 & 0.03 & -0.06 & 0.85 & 0.08 & 0.07\\\\\n",
       "  0.08 & -0.01 & -0.03 & 0.07 & 0. & -0.04 & 0.05 & -0.05 & 0.91 & 0.05\\\\\n",
       "  -0. & -0.01 & -0. & 0. & -0.01 & 0. & 0. & 0. & -0.01 & 1.\\\\\n",
       "\\end{bmatrix}\\end{gather}"
      ],
      "text/plain": [
       "<IPython.core.display.Latex object>"
      ]
     },
     "execution_count": 31,
     "metadata": {},
     "output_type": "execute_result"
    }
   ],
   "source": [
    "from utils import array_to_latex\n",
    "from IPython.display import Latex\n",
    "\n",
    "validacao_exemplo_display = rede_exemplo_display.predict(vetor_x_exemplo_segmentos)\n",
    "\n",
    "validacao_exemplo_display = np.asarray(validacao_exemplo_display) \\\n",
    "                              .reshape(10, 10)                    \\\n",
    "                              .round(decimals = 2)\n",
    "\n",
    "Latex(r'\\begin{gather}' +\n",
    "      array_to_latex(vetor_x_exemplo_segmentos.reshape(10,7), 'X=') +\n",
    "      r'\\rightarrow' +\n",
    "      array_to_latex(validacao_exemplo_display, '') +\n",
    "      r'\\end{gather}')"
   ]
  }
 ],
 "metadata": {
  "interpreter": {
   "hash": "2308fd1a8fedd2595f1dedf285928c5d92d2b7d305ada798b0578469c13c3676"
  },
  "kernelspec": {
   "display_name": "Python 3.10.2 ('venv': venv)",
   "language": "python",
   "name": "python3"
  },
  "language_info": {
   "codemirror_mode": {
    "name": "ipython",
    "version": 3
   },
   "file_extension": ".py",
   "mimetype": "text/x-python",
   "name": "python",
   "nbconvert_exporter": "python",
   "pygments_lexer": "ipython3",
   "version": "3.10.2"
  },
  "orig_nbformat": 4
 },
 "nbformat": 4,
 "nbformat_minor": 2
}
