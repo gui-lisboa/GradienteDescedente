{
 "cells": [
  {
   "cell_type": "markdown",
   "metadata": {},
   "source": [
    "# Implementação e Exemplos"
   ]
  },
  {
   "cell_type": "markdown",
   "metadata": {},
   "source": [
    "## Função Custo (Erro)\n",
    "\n",
    "### EQM - Erro Quadrático Médio\n",
    "\n",
    "$$\n",
    "EQM = \\frac{1}{n} \\sum_{i} (y_{esperado} - y_{estimado})^2\n",
    "$$\n",
    "$$\n",
    "\\frac{\\partial EQM}{\\partial Y} = \\frac{2}{n} (y_{estimado} - y_{esperado})\n",
    "$$"
   ]
  },
  {
   "cell_type": "code",
   "execution_count": 32,
   "metadata": {},
   "outputs": [],
   "source": [
    "import numpy as np\n",
    "\n",
    "def erro_quadratico_medio(y_esperado: np.ndarray, y_calculado: np.ndarray) -> np.ndarray:\n",
    "    return np.mean(np.power(y_esperado-y_calculado, 2))\n",
    "\n",
    "def derivada_erro_quadratico_medio(y_esperado: np.ndarray, y_calculado: np.ndarray) -> np.ndarray:\n",
    "    n = y_esperado.size\n",
    "    return 2*(y_calculado - y_esperado)/n"
   ]
  },
  {
   "cell_type": "markdown",
   "metadata": {},
   "source": [
    "### Outras opções\n",
    "\n",
    "https://www.tensorflow.org/api_docs/python/tf/keras/losses"
   ]
  },
  {
   "cell_type": "markdown",
   "metadata": {},
   "source": [
    "## Uso em uma Rede Neural\n",
    "\n",
    "https://towardsdatascience.com/math-neural-network-from-scratch-in-python-d6da9f29ce65\n",
    "\n",
    "### Rede Neural - Camadas"
   ]
  },
  {
   "cell_type": "code",
   "execution_count": 33,
   "metadata": {},
   "outputs": [],
   "source": [
    "from abc import ABC\n",
    "import numpy as np\n",
    "from utils import array_to_latex\n",
    "\n",
    "\n",
    "class Camada(ABC):\n",
    "    def __init__(self):\n",
    "        self.entrada: np.ndarray = None\n",
    "        self.saida: np.ndarray = None\n",
    "\n",
    "    def forward_propagation(self, input, logs: list):\n",
    "        raise NotImplementedError\n",
    "\n",
    "    def backward_propagation(\n",
    "        self, output_error, taxa_aprendizado: np.number, logs: list\n",
    "    ):\n",
    "        raise NotImplementedError\n",
    "\n",
    "\n",
    "class FCLayer(Camada):\n",
    "    def __init__(self, tamanho_entrada: int, tamanho_saida: int):\n",
    "        self.pesos = np.random.rand(tamanho_entrada, tamanho_saida)\n",
    "        self.bias = np.random.rand(1, tamanho_saida)\n",
    "\n",
    "    def forward_propagation(self, entrada: np.ndarray, logs: list) -> np.ndarray:\n",
    "        self.entrada = entrada\n",
    "        self.saida = np.dot(self.entrada, self.pesos) + self.bias\n",
    "\n",
    "        logs.append(r\"Y = Xw + b\")\n",
    "        logs.append(\n",
    "            r\"\\begin{gather}\"\n",
    "            + array_to_latex(self.saida, \"\")\n",
    "            + r\" = \"\n",
    "            + array_to_latex(self.entrada, \"\")\n",
    "            + r\" \\cdot \"\n",
    "            + array_to_latex(self.pesos, \"\")\n",
    "            + r\" + \"\n",
    "            + array_to_latex(self.bias, \"\")\n",
    "            + r\"\\end{gather}\"\n",
    "        )\n",
    "\n",
    "        return self.saida\n",
    "\n",
    "    # computes dE/dW, dE/dB for a given output_error=dE/dY. Returns input_error=dE/dX.\n",
    "    def backward_propagation(\n",
    "        self, derivada_erro: np.ndarray, taxa_aprendizado: np.number, logs: list\n",
    "    ) -> np.ndarray:\n",
    "        derivada_erro_entrada = np.dot(derivada_erro, self.pesos.T)\n",
    "\n",
    "        logs.append(r\"\\nabla f_{custo} = \\partial E \\cdot \\partial W\")\n",
    "        logs.append(\n",
    "            array_to_latex(derivada_erro_entrada, \"\")\n",
    "            + r\" = \"\n",
    "            + array_to_latex(derivada_erro, \"\")\n",
    "            + r\" \\cdot \"\n",
    "            + array_to_latex(self.pesos.T, \"\")\n",
    "        )\n",
    "\n",
    "        pesos_erro = np.dot(self.entrada.T, derivada_erro)\n",
    "        pesos_atualizados = self.pesos - taxa_aprendizado * pesos_erro\n",
    "        bias_atualizados = self.bias - taxa_aprendizado * derivada_erro\n",
    "\n",
    "        logs.append(r\"W = W - \\lambda (X \\cdot \\nabla f_{custo})\")\n",
    "        logs.append(\n",
    "            r\"\\begin{gather}\"\n",
    "            + array_to_latex(pesos_atualizados, \"\")\n",
    "            + r\" = \"\n",
    "            + array_to_latex(self.pesos, \"\")\n",
    "            + f\" - {taxa_aprendizado}\"\n",
    "            + array_to_latex(self.entrada.T, \"\")\n",
    "            + r\" \\cdot \"\n",
    "            + array_to_latex(derivada_erro, \"\")\n",
    "            + r\"\\end{gather}\"\n",
    "        )\n",
    "\n",
    "        self.pesos = pesos_atualizados\n",
    "        self.bias = bias_atualizados\n",
    "\n",
    "        return derivada_erro_entrada\n",
    "\n",
    "\n",
    "class ActivationLayer(Camada):\n",
    "    def __init__(self, fn_de_ativacao, derivada_fn_de_ativacao):\n",
    "        self.fn_de_ativacao = fn_de_ativacao\n",
    "        self.derivada_fn_de_ativacao = derivada_fn_de_ativacao\n",
    "\n",
    "    def forward_propagation(self, entrada: np.ndarray, logs: list):\n",
    "        self.entrada = entrada\n",
    "        self.saida = self.fn_de_ativacao(self.entrada)\n",
    "\n",
    "        logs.append(r\"Y = \\sigma(X)\")\n",
    "        logs.append(\n",
    "            r\"\\begin{gather}\"\n",
    "            + array_to_latex(self.saida, \"\")\n",
    "            + r\" = \\sigma(\"\n",
    "            + array_to_latex(self.entrada, \"\")\n",
    "            + r\") \"\n",
    "            + r\"\\end{gather}\"\n",
    "        )\n",
    "\n",
    "        return self.saida\n",
    "\n",
    "    # Returns input_error=dE/dX for a given output_error=dE/dY.\n",
    "    # regra da cadeia\n",
    "    def backward_propagation(\n",
    "        self, derivada_erro: np.ndarray, taxa_aprendizado: np.number, logs: list\n",
    "    ):\n",
    "        derivada_erro_entrada = derivada_erro * self.derivada_fn_de_ativacao(\n",
    "            self.entrada\n",
    "        )\n",
    "        logs.append(\n",
    "            r\"\\nabla = \\frac{\\partial E}{\\partial Y} \\frac{\\partial Y}{\\partial X}\"\n",
    "        )\n",
    "        logs.append(\n",
    "            r\"\\begin{gather}\"\n",
    "            + array_to_latex(derivada_erro_entrada, \"\")\n",
    "            + r\" = \"\n",
    "            + array_to_latex(derivada_erro, \"\")\n",
    "            + r\" \\cdot \"\n",
    "            + r\" \\sigma^{'}(\"\n",
    "            + array_to_latex(self.entrada, \"\")\n",
    "            + r\") \\end{gather}\"\n",
    "        )\n",
    "\n",
    "        return derivada_erro_entrada\n"
   ]
  },
  {
   "cell_type": "markdown",
   "metadata": {},
   "source": [
    "### Rede Neural - Rede"
   ]
  },
  {
   "cell_type": "code",
   "execution_count": 34,
   "metadata": {},
   "outputs": [],
   "source": [
    "class RedeNeural:\n",
    "    def __init__(self, fn_custo: callable, derivada_fn_custo: callable):\n",
    "        self.camadas = []\n",
    "        self.logs = []\n",
    "        self.fn_custo = fn_custo\n",
    "        self.derivada_fn_custo = derivada_fn_custo\n",
    "\n",
    "    def add(self, camada):\n",
    "        self.camadas.append(camada)\n",
    "\n",
    "    def predict(self, entrada: np.ndarray) -> np.ndarray:\n",
    "        n_entradas = len(entrada)\n",
    "        resultado = []\n",
    "\n",
    "        for n in range(n_entradas):\n",
    "            saida = entrada[n]\n",
    "            for camada in self.camadas:\n",
    "                saida = camada.forward_propagation(saida, [])\n",
    "            resultado.append(saida)\n",
    "\n",
    "        return resultado\n",
    "\n",
    "    def treinar(\n",
    "        self,\n",
    "        vetor_x: np.ndarray,\n",
    "        y_esperado: np.ndarray,\n",
    "        max_n_iteracoes: int,\n",
    "        taxa_aprendizado: np.number,\n",
    "    ):\n",
    "        n_amostras = len(vetor_x)\n",
    "        for iteracao in range(max_n_iteracoes):\n",
    "            self.logs.append([])\n",
    "            soma_erros = 0\n",
    "            for n in range(n_amostras):\n",
    "\n",
    "                output = vetor_x[n]\n",
    "                for indice_camada, camada in enumerate(self.camadas):\n",
    "                    self.logs[iteracao].append(f\"Camada: {indice_camada}\")\n",
    "                    output = camada.forward_propagation(output, self.logs[iteracao])\n",
    "\n",
    "                erro = self.fn_custo(y_esperado[n], output)\n",
    "                soma_erros += erro\n",
    "                self.logs[iteracao].append(\n",
    "                    r\"f_{custo}(\"\n",
    "                    + array_to_latex(y_esperado[n], \"\")\n",
    "                    + r\",\"\n",
    "                    + array_to_latex(output, \"\")\n",
    "                    + r\") = \"\n",
    "                    + array_to_latex(erro, \"\")\n",
    "                )\n",
    "\n",
    "                valor_derivada_erro = self.derivada_fn_custo(y_esperado[n], output)\n",
    "                self.logs[iteracao].append(\n",
    "                    r\"\\nabla = \\frac{\\partial E}{\\partial Y} = \"\n",
    "                    + array_to_latex(valor_derivada_erro, \"\")\n",
    "                )\n",
    "                for indice_camada, camada in enumerate(reversed(self.camadas)):\n",
    "                    self.logs[iteracao].append(\n",
    "                        f\"Camada: {len(self.camadas) - indice_camada -1}\"\n",
    "                    )\n",
    "                    valor_derivada_erro = camada.backward_propagation(\n",
    "                        valor_derivada_erro, taxa_aprendizado, self.logs[iteracao]\n",
    "                    )\n",
    "\n",
    "            media_erros = soma_erros / n_amostras\n",
    "            if iteracao < 5 or np.log10(iteracao + 1).is_integer():\n",
    "                print(\n",
    "                    \"Iteração %d/%d   MédiaErro=%f\"\n",
    "                    % (iteracao + 1, max_n_iteracoes, media_erros)\n",
    "                )\n",
    "            if media_erros < 0.01:\n",
    "                print(\n",
    "                    \"Iteração %d/%d MédiaErro=%f\"\n",
    "                    % (iteracao + 1, max_n_iteracoes, media_erros)\n",
    "                )\n",
    "                break\n"
   ]
  },
  {
   "cell_type": "markdown",
   "metadata": {},
   "source": [
    "### Rede Neural - Função de Ativação (Sigmóide)\n",
    "\n",
    "$$\n",
    "\\sigma(x) = \\frac{1}{1 - e^{-x}} \n",
    "$$\n",
    "\n",
    "$$\n",
    "\\frac{d \\sigma}{dx} = \\sigma(x) (1 - \\sigma(x))\n",
    "$$\n",
    "\n",
    "https://towardsdatascience.com/derivative-of-the-sigmoid-function-536880cf918e"
   ]
  },
  {
   "cell_type": "code",
   "execution_count": 35,
   "metadata": {},
   "outputs": [],
   "source": [
    "import numpy as np\n",
    "\n",
    "\n",
    "def sigmoide(x: np.ndarray) -> np.ndarray:\n",
    "    return 1 / (1 + np.exp(-x))\n",
    "\n",
    "\n",
    "def derivada_sigmoide(x: np.number) -> np.number:\n",
    "    sigmoide_x = sigmoide(x)\n",
    "    return sigmoide_x * (1 - sigmoide_x)\n"
   ]
  },
  {
   "cell_type": "markdown",
   "metadata": {},
   "source": [
    "## Exemplo: Ou Exclusivo (XOR)\n",
    "\n",
    "Operador retorna verdadeiro apenas caso entradas A ou B {(verdadeiro, falso) ou (falso, verdadeiro)} sejam verdadeiras, retornando falso caso ambas sejam verdadeiras ou ainda caso nenhuma seja.\n",
    "\n",
    "### Entradas e Saídas Esperadas"
   ]
  },
  {
   "cell_type": "code",
   "execution_count": 36,
   "metadata": {},
   "outputs": [],
   "source": [
    "vetor_x_exemplo_XOR = np.array([[[0, 0]], [[0, 1]], [[1, 0]], [[1, 1]]])\n",
    "vetor_y_esperado_exemplo_XOR = np.array([[[0]], [[1]], [[1]], [[0]]])\n"
   ]
  },
  {
   "cell_type": "markdown",
   "metadata": {},
   "source": [
    "### Rede\n",
    "\n"
   ]
  },
  {
   "cell_type": "code",
   "execution_count": 37,
   "metadata": {},
   "outputs": [],
   "source": [
    "rede_exemplo_XOR = RedeNeural(erro_quadratico_medio, derivada_erro_quadratico_medio)\n",
    "rede_exemplo_XOR.add(FCLayer(2, 2))\n",
    "rede_exemplo_XOR.add(ActivationLayer(sigmoide, derivada_sigmoide))\n",
    "rede_exemplo_XOR.add(FCLayer(2, 1))\n"
   ]
  },
  {
   "cell_type": "markdown",
   "metadata": {},
   "source": [
    "### Treinamento"
   ]
  },
  {
   "cell_type": "code",
   "execution_count": 38,
   "metadata": {},
   "outputs": [
    {
     "name": "stdout",
     "output_type": "stream",
     "text": [
      "Iteração 1/1000   MédiaErro=4.351091\n",
      "Iteração 2/1000   MédiaErro=0.697102\n",
      "Iteração 3/1000   MédiaErro=0.492345\n",
      "Iteração 4/1000   MédiaErro=0.492510\n",
      "Iteração 5/1000   MédiaErro=0.494672\n",
      "Iteração 10/1000   MédiaErro=0.549432\n",
      "Iteração 65/1000 MédiaErro=0.009517\n"
     ]
    },
    {
     "data": {
      "text/latex": [
       "Camada: 0"
      ],
      "text/plain": [
       "<IPython.core.display.Latex object>"
      ]
     },
     "metadata": {},
     "output_type": "display_data"
    },
    {
     "data": {
      "text/latex": [
       "Y = Xw + b"
      ],
      "text/plain": [
       "<IPython.core.display.Latex object>"
      ]
     },
     "metadata": {},
     "output_type": "display_data"
    },
    {
     "data": {
      "text/latex": [
       "\\begin{gather}\n",
       "\\begin{bmatrix}\n",
       "  0.48903995 & 0.90573421\\\\\n",
       "\\end{bmatrix} = \n",
       "\\begin{bmatrix}\n",
       "  0 & 0\\\\\n",
       "\\end{bmatrix} \\cdot \n",
       "\\begin{bmatrix}\n",
       "  0.31126311 & 0.63438697\\\\\n",
       "  0.68657024 & 0.69879046\\\\\n",
       "\\end{bmatrix} + \n",
       "\\begin{bmatrix}\n",
       "  0.48903995 & 0.90573421\\\\\n",
       "\\end{bmatrix}\\end{gather}"
      ],
      "text/plain": [
       "<IPython.core.display.Latex object>"
      ]
     },
     "metadata": {},
     "output_type": "display_data"
    },
    {
     "data": {
      "text/latex": [
       "Camada: 1"
      ],
      "text/plain": [
       "<IPython.core.display.Latex object>"
      ]
     },
     "metadata": {},
     "output_type": "display_data"
    },
    {
     "data": {
      "text/latex": [
       "Y = \\sigma(X)"
      ],
      "text/plain": [
       "<IPython.core.display.Latex object>"
      ]
     },
     "metadata": {},
     "output_type": "display_data"
    },
    {
     "data": {
      "text/latex": [
       "\\begin{gather}\n",
       "\\begin{bmatrix}\n",
       "  0.61988024 & 0.71212646\\\\\n",
       "\\end{bmatrix} = \\sigma(\n",
       "\\begin{bmatrix}\n",
       "  0.48903995 & 0.90573421\\\\\n",
       "\\end{bmatrix}) \\end{gather}"
      ],
      "text/plain": [
       "<IPython.core.display.Latex object>"
      ]
     },
     "metadata": {},
     "output_type": "display_data"
    },
    {
     "data": {
      "text/latex": [
       "Camada: 2"
      ],
      "text/plain": [
       "<IPython.core.display.Latex object>"
      ]
     },
     "metadata": {},
     "output_type": "display_data"
    },
    {
     "data": {
      "text/latex": [
       "Y = Xw + b"
      ],
      "text/plain": [
       "<IPython.core.display.Latex object>"
      ]
     },
     "metadata": {},
     "output_type": "display_data"
    },
    {
     "data": {
      "text/latex": [
       "\\begin{gather}\n",
       "\\begin{bmatrix}\n",
       "  1.49320449\\\\\n",
       "\\end{bmatrix} = \n",
       "\\begin{bmatrix}\n",
       "  0.61988024 & 0.71212646\\\\\n",
       "\\end{bmatrix} \\cdot \n",
       "\\begin{bmatrix}\n",
       "  0.5862778\\\\\n",
       "  0.26384311\\\\\n",
       "\\end{bmatrix} + \n",
       "\\begin{bmatrix}\n",
       "  0.94189281\\\\\n",
       "\\end{bmatrix}\\end{gather}"
      ],
      "text/plain": [
       "<IPython.core.display.Latex object>"
      ]
     },
     "metadata": {},
     "output_type": "display_data"
    },
    {
     "data": {
      "text/latex": [
       "f_{custo}(\n",
       "\\begin{bmatrix}\n",
       "  0\\\\\n",
       "\\end{bmatrix},\n",
       "\\begin{bmatrix}\n",
       "  1.49320449\\\\\n",
       "\\end{bmatrix}) = \n",
       "\\begin{bmatrix}\n",
       "  2.229659637819684\\\\\n",
       "\\end{bmatrix}"
      ],
      "text/plain": [
       "<IPython.core.display.Latex object>"
      ]
     },
     "metadata": {},
     "output_type": "display_data"
    },
    {
     "data": {
      "text/latex": [
       "\\nabla = \\frac{\\partial E}{\\partial Y} = \n",
       "\\begin{bmatrix}\n",
       "  2.98640897\\\\\n",
       "\\end{bmatrix}"
      ],
      "text/plain": [
       "<IPython.core.display.Latex object>"
      ]
     },
     "metadata": {},
     "output_type": "display_data"
    },
    {
     "data": {
      "text/latex": [
       "Camada: 2"
      ],
      "text/plain": [
       "<IPython.core.display.Latex object>"
      ]
     },
     "metadata": {},
     "output_type": "display_data"
    },
    {
     "data": {
      "text/latex": [
       "\\nabla f_{custo} = \\frac{\\partial E}{\\partial W}"
      ],
      "text/plain": [
       "<IPython.core.display.Latex object>"
      ]
     },
     "metadata": {},
     "output_type": "display_data"
    },
    {
     "data": {
      "text/latex": [
       "\n",
       "\\begin{bmatrix}\n",
       "  1.75086527 & 0.78794342\\\\\n",
       "\\end{bmatrix} = \n",
       "\\begin{bmatrix}\n",
       "  2.98640897\\\\\n",
       "\\end{bmatrix} \\cdot \n",
       "\\begin{bmatrix}\n",
       "  0.5862778 & 0.26384311\\\\\n",
       "\\end{bmatrix}"
      ],
      "text/plain": [
       "<IPython.core.display.Latex object>"
      ]
     },
     "metadata": {},
     "output_type": "display_data"
    },
    {
     "data": {
      "text/latex": [
       "W = W - \\lambda (X \\cdot \\nabla f_{custo})"
      ],
      "text/plain": [
       "<IPython.core.display.Latex object>"
      ]
     },
     "metadata": {},
     "output_type": "display_data"
    },
    {
     "data": {
      "text/latex": [
       "\\begin{gather}\n",
       "\\begin{bmatrix}\n",
       "  -0.33933016\\\\\n",
       "  -0.79950731\\\\\n",
       "\\end{bmatrix} = \n",
       "\\begin{bmatrix}\n",
       "  0.5862778\\\\\n",
       "  0.26384311\\\\\n",
       "\\end{bmatrix} - 0.5\n",
       "\\begin{bmatrix}\n",
       "  0.61988024\\\\\n",
       "  0.71212646\\\\\n",
       "\\end{bmatrix} \\cdot \n",
       "\\begin{bmatrix}\n",
       "  2.98640897\\\\\n",
       "\\end{bmatrix}\\end{gather}"
      ],
      "text/plain": [
       "<IPython.core.display.Latex object>"
      ]
     },
     "metadata": {},
     "output_type": "display_data"
    },
    {
     "data": {
      "text/latex": [
       "Camada: 1"
      ],
      "text/plain": [
       "<IPython.core.display.Latex object>"
      ]
     },
     "metadata": {},
     "output_type": "display_data"
    },
    {
     "data": {
      "text/latex": [
       "\\nabla = \\frac{\\partial E}{\\partial Y} \\frac{\\partial Y}{\\partial X}"
      ],
      "text/plain": [
       "<IPython.core.display.Latex object>"
      ]
     },
     "metadata": {},
     "output_type": "display_data"
    },
    {
     "data": {
      "text/latex": [
       "\\begin{gather}\n",
       "\\begin{bmatrix}\n",
       "  0.41255416 & 0.16153027\\\\\n",
       "\\end{bmatrix} = \n",
       "\\begin{bmatrix}\n",
       "  1.75086527 & 0.78794342\\\\\n",
       "\\end{bmatrix} \\cdot  \\sigma^{'}(\n",
       "\\begin{bmatrix}\n",
       "  0.48903995 & 0.90573421\\\\\n",
       "\\end{bmatrix}) \\end{gather}"
      ],
      "text/plain": [
       "<IPython.core.display.Latex object>"
      ]
     },
     "metadata": {},
     "output_type": "display_data"
    },
    {
     "data": {
      "text/latex": [
       "Camada: 0"
      ],
      "text/plain": [
       "<IPython.core.display.Latex object>"
      ]
     },
     "metadata": {},
     "output_type": "display_data"
    },
    {
     "data": {
      "text/latex": [
       "\\nabla f_{custo} = \\frac{\\partial E}{\\partial W}"
      ],
      "text/plain": [
       "<IPython.core.display.Latex object>"
      ]
     },
     "metadata": {},
     "output_type": "display_data"
    },
    {
     "data": {
      "text/latex": [
       "\n",
       "\\begin{bmatrix}\n",
       "  0.23088558 & 0.39612321\\\\\n",
       "\\end{bmatrix} = \n",
       "\\begin{bmatrix}\n",
       "  0.41255416 & 0.16153027\\\\\n",
       "\\end{bmatrix} \\cdot \n",
       "\\begin{bmatrix}\n",
       "  0.31126311 & 0.68657024\\\\\n",
       "  0.63438697 & 0.69879046\\\\\n",
       "\\end{bmatrix}"
      ],
      "text/plain": [
       "<IPython.core.display.Latex object>"
      ]
     },
     "metadata": {},
     "output_type": "display_data"
    },
    {
     "data": {
      "text/latex": [
       "W = W - \\lambda (X \\cdot \\nabla f_{custo})"
      ],
      "text/plain": [
       "<IPython.core.display.Latex object>"
      ]
     },
     "metadata": {},
     "output_type": "display_data"
    },
    {
     "data": {
      "text/latex": [
       "\\begin{gather}\n",
       "\\begin{bmatrix}\n",
       "  0.31126311 & 0.63438697\\\\\n",
       "  0.68657024 & 0.69879046\\\\\n",
       "\\end{bmatrix} = \n",
       "\\begin{bmatrix}\n",
       "  0.31126311 & 0.63438697\\\\\n",
       "  0.68657024 & 0.69879046\\\\\n",
       "\\end{bmatrix} - 0.5\n",
       "\\begin{bmatrix}\n",
       "  0\\\\\n",
       "  0\\\\\n",
       "\\end{bmatrix} \\cdot \n",
       "\\begin{bmatrix}\n",
       "  0.41255416 & 0.16153027\\\\\n",
       "\\end{bmatrix}\\end{gather}"
      ],
      "text/plain": [
       "<IPython.core.display.Latex object>"
      ]
     },
     "metadata": {},
     "output_type": "display_data"
    },
    {
     "data": {
      "text/latex": [
       "Camada: 0"
      ],
      "text/plain": [
       "<IPython.core.display.Latex object>"
      ]
     },
     "metadata": {},
     "output_type": "display_data"
    },
    {
     "data": {
      "text/latex": [
       "Y = Xw + b"
      ],
      "text/plain": [
       "<IPython.core.display.Latex object>"
      ]
     },
     "metadata": {},
     "output_type": "display_data"
    },
    {
     "data": {
      "text/latex": [
       "\\begin{gather}\n",
       "\\begin{bmatrix}\n",
       "  0.96933311 & 1.52375953\\\\\n",
       "\\end{bmatrix} = \n",
       "\\begin{bmatrix}\n",
       "  0 & 1\\\\\n",
       "\\end{bmatrix} \\cdot \n",
       "\\begin{bmatrix}\n",
       "  0.31126311 & 0.63438697\\\\\n",
       "  0.68657024 & 0.69879046\\\\\n",
       "\\end{bmatrix} + \n",
       "\\begin{bmatrix}\n",
       "  0.28276287 & 0.82496907\\\\\n",
       "\\end{bmatrix}\\end{gather}"
      ],
      "text/plain": [
       "<IPython.core.display.Latex object>"
      ]
     },
     "metadata": {},
     "output_type": "display_data"
    },
    {
     "data": {
      "text/latex": [
       "Camada: 1"
      ],
      "text/plain": [
       "<IPython.core.display.Latex object>"
      ]
     },
     "metadata": {},
     "output_type": "display_data"
    },
    {
     "data": {
      "text/latex": [
       "Y = \\sigma(X)"
      ],
      "text/plain": [
       "<IPython.core.display.Latex object>"
      ]
     },
     "metadata": {},
     "output_type": "display_data"
    },
    {
     "data": {
      "text/latex": [
       "\\begin{gather}\n",
       "\\begin{bmatrix}\n",
       "  0.72498655 & 0.82109142\\\\\n",
       "\\end{bmatrix} = \\sigma(\n",
       "\\begin{bmatrix}\n",
       "  0.96933311 & 1.52375953\\\\\n",
       "\\end{bmatrix}) \\end{gather}"
      ],
      "text/plain": [
       "<IPython.core.display.Latex object>"
      ]
     },
     "metadata": {},
     "output_type": "display_data"
    },
    {
     "data": {
      "text/latex": [
       "Camada: 2"
      ],
      "text/plain": [
       "<IPython.core.display.Latex object>"
      ]
     },
     "metadata": {},
     "output_type": "display_data"
    },
    {
     "data": {
      "text/latex": [
       "Y = Xw + b"
      ],
      "text/plain": [
       "<IPython.core.display.Latex object>"
      ]
     },
     "metadata": {},
     "output_type": "display_data"
    },
    {
     "data": {
      "text/latex": [
       "\\begin{gather}\n",
       "\\begin{bmatrix}\n",
       "  -1.45379008\\\\\n",
       "\\end{bmatrix} = \n",
       "\\begin{bmatrix}\n",
       "  0.72498655 & 0.82109142\\\\\n",
       "\\end{bmatrix} \\cdot \n",
       "\\begin{bmatrix}\n",
       "  -0.33933016\\\\\n",
       "  -0.79950731\\\\\n",
       "\\end{bmatrix} + \n",
       "\\begin{bmatrix}\n",
       "  -0.55131168\\\\\n",
       "\\end{bmatrix}\\end{gather}"
      ],
      "text/plain": [
       "<IPython.core.display.Latex object>"
      ]
     },
     "metadata": {},
     "output_type": "display_data"
    },
    {
     "data": {
      "text/latex": [
       "f_{custo}(\n",
       "\\begin{bmatrix}\n",
       "  1\\\\\n",
       "\\end{bmatrix},\n",
       "\\begin{bmatrix}\n",
       "  -1.45379008\\\\\n",
       "\\end{bmatrix}) = \n",
       "\\begin{bmatrix}\n",
       "  6.021085771443468\\\\\n",
       "\\end{bmatrix}"
      ],
      "text/plain": [
       "<IPython.core.display.Latex object>"
      ]
     },
     "metadata": {},
     "output_type": "display_data"
    },
    {
     "data": {
      "text/latex": [
       "\\nabla = \\frac{\\partial E}{\\partial Y} = \n",
       "\\begin{bmatrix}\n",
       "  -4.90758017\\\\\n",
       "\\end{bmatrix}"
      ],
      "text/plain": [
       "<IPython.core.display.Latex object>"
      ]
     },
     "metadata": {},
     "output_type": "display_data"
    },
    {
     "data": {
      "text/latex": [
       "Camada: 2"
      ],
      "text/plain": [
       "<IPython.core.display.Latex object>"
      ]
     },
     "metadata": {},
     "output_type": "display_data"
    },
    {
     "data": {
      "text/latex": [
       "\\nabla f_{custo} = \\frac{\\partial E}{\\partial W}"
      ],
      "text/plain": [
       "<IPython.core.display.Latex object>"
      ]
     },
     "metadata": {},
     "output_type": "display_data"
    },
    {
     "data": {
      "text/latex": [
       "\n",
       "\\begin{bmatrix}\n",
       "  1.66528998 & 3.92364623\\\\\n",
       "\\end{bmatrix} = \n",
       "\\begin{bmatrix}\n",
       "  -4.90758017\\\\\n",
       "\\end{bmatrix} \\cdot \n",
       "\\begin{bmatrix}\n",
       "  -0.33933016 & -0.79950731\\\\\n",
       "\\end{bmatrix}"
      ],
      "text/plain": [
       "<IPython.core.display.Latex object>"
      ]
     },
     "metadata": {},
     "output_type": "display_data"
    },
    {
     "data": {
      "text/latex": [
       "W = W - \\lambda (X \\cdot \\nabla f_{custo})"
      ],
      "text/plain": [
       "<IPython.core.display.Latex object>"
      ]
     },
     "metadata": {},
     "output_type": "display_data"
    },
    {
     "data": {
      "text/latex": [
       "\\begin{gather}\n",
       "\\begin{bmatrix}\n",
       "  1.43963465\\\\\n",
       "  1.21527868\\\\\n",
       "\\end{bmatrix} = \n",
       "\\begin{bmatrix}\n",
       "  -0.33933016\\\\\n",
       "  -0.79950731\\\\\n",
       "\\end{bmatrix} - 0.5\n",
       "\\begin{bmatrix}\n",
       "  0.72498655\\\\\n",
       "  0.82109142\\\\\n",
       "\\end{bmatrix} \\cdot \n",
       "\\begin{bmatrix}\n",
       "  -4.90758017\\\\\n",
       "\\end{bmatrix}\\end{gather}"
      ],
      "text/plain": [
       "<IPython.core.display.Latex object>"
      ]
     },
     "metadata": {},
     "output_type": "display_data"
    },
    {
     "data": {
      "text/latex": [
       "Camada: 1"
      ],
      "text/plain": [
       "<IPython.core.display.Latex object>"
      ]
     },
     "metadata": {},
     "output_type": "display_data"
    },
    {
     "data": {
      "text/latex": [
       "\\nabla = \\frac{\\partial E}{\\partial Y} \\frac{\\partial Y}{\\partial X}"
      ],
      "text/plain": [
       "<IPython.core.display.Latex object>"
      ]
     },
     "metadata": {},
     "output_type": "display_data"
    },
    {
     "data": {
      "text/latex": [
       "\\begin{gather}\n",
       "\\begin{bmatrix}\n",
       "  0.33202727 & 0.5763848\\\\\n",
       "\\end{bmatrix} = \n",
       "\\begin{bmatrix}\n",
       "  1.66528998 & 3.92364623\\\\\n",
       "\\end{bmatrix} \\cdot  \\sigma^{'}(\n",
       "\\begin{bmatrix}\n",
       "  0.96933311 & 1.52375953\\\\\n",
       "\\end{bmatrix}) \\end{gather}"
      ],
      "text/plain": [
       "<IPython.core.display.Latex object>"
      ]
     },
     "metadata": {},
     "output_type": "display_data"
    },
    {
     "data": {
      "text/latex": [
       "Camada: 0"
      ],
      "text/plain": [
       "<IPython.core.display.Latex object>"
      ]
     },
     "metadata": {},
     "output_type": "display_data"
    },
    {
     "data": {
      "text/latex": [
       "\\nabla f_{custo} = \\frac{\\partial E}{\\partial W}"
      ],
      "text/plain": [
       "<IPython.core.display.Latex object>"
      ]
     },
     "metadata": {},
     "output_type": "display_data"
    },
    {
     "data": {
      "text/latex": [
       "\n",
       "\\begin{bmatrix}\n",
       "  0.46899884 & 0.63073224\\\\\n",
       "\\end{bmatrix} = \n",
       "\\begin{bmatrix}\n",
       "  0.33202727 & 0.5763848\\\\\n",
       "\\end{bmatrix} \\cdot \n",
       "\\begin{bmatrix}\n",
       "  0.31126311 & 0.68657024\\\\\n",
       "  0.63438697 & 0.69879046\\\\\n",
       "\\end{bmatrix}"
      ],
      "text/plain": [
       "<IPython.core.display.Latex object>"
      ]
     },
     "metadata": {},
     "output_type": "display_data"
    },
    {
     "data": {
      "text/latex": [
       "W = W - \\lambda (X \\cdot \\nabla f_{custo})"
      ],
      "text/plain": [
       "<IPython.core.display.Latex object>"
      ]
     },
     "metadata": {},
     "output_type": "display_data"
    },
    {
     "data": {
      "text/latex": [
       "\\begin{gather}\n",
       "\\begin{bmatrix}\n",
       "  0.31126311 & 0.63438697\\\\\n",
       "  0.52055661 & 0.41059806\\\\\n",
       "\\end{bmatrix} = \n",
       "\\begin{bmatrix}\n",
       "  0.31126311 & 0.63438697\\\\\n",
       "  0.68657024 & 0.69879046\\\\\n",
       "\\end{bmatrix} - 0.5\n",
       "\\begin{bmatrix}\n",
       "  0\\\\\n",
       "  1\\\\\n",
       "\\end{bmatrix} \\cdot \n",
       "\\begin{bmatrix}\n",
       "  0.33202727 & 0.5763848\\\\\n",
       "\\end{bmatrix}\\end{gather}"
      ],
      "text/plain": [
       "<IPython.core.display.Latex object>"
      ]
     },
     "metadata": {},
     "output_type": "display_data"
    },
    {
     "data": {
      "text/latex": [
       "Camada: 0"
      ],
      "text/plain": [
       "<IPython.core.display.Latex object>"
      ]
     },
     "metadata": {},
     "output_type": "display_data"
    },
    {
     "data": {
      "text/latex": [
       "Y = Xw + b"
      ],
      "text/plain": [
       "<IPython.core.display.Latex object>"
      ]
     },
     "metadata": {},
     "output_type": "display_data"
    },
    {
     "data": {
      "text/latex": [
       "\\begin{gather}\n",
       "\\begin{bmatrix}\n",
       "  0.42801234 & 1.17116364\\\\\n",
       "\\end{bmatrix} = \n",
       "\\begin{bmatrix}\n",
       "  1 & 0\\\\\n",
       "\\end{bmatrix} \\cdot \n",
       "\\begin{bmatrix}\n",
       "  0.31126311 & 0.63438697\\\\\n",
       "  0.52055661 & 0.41059806\\\\\n",
       "\\end{bmatrix} + \n",
       "\\begin{bmatrix}\n",
       "  0.11674924 & 0.53677667\\\\\n",
       "\\end{bmatrix}\\end{gather}"
      ],
      "text/plain": [
       "<IPython.core.display.Latex object>"
      ]
     },
     "metadata": {},
     "output_type": "display_data"
    },
    {
     "data": {
      "text/latex": [
       "Camada: 1"
      ],
      "text/plain": [
       "<IPython.core.display.Latex object>"
      ]
     },
     "metadata": {},
     "output_type": "display_data"
    },
    {
     "data": {
      "text/latex": [
       "Y = \\sigma(X)"
      ],
      "text/plain": [
       "<IPython.core.display.Latex object>"
      ]
     },
     "metadata": {},
     "output_type": "display_data"
    },
    {
     "data": {
      "text/latex": [
       "\\begin{gather}\n",
       "\\begin{bmatrix}\n",
       "  0.60539893 & 0.76335529\\\\\n",
       "\\end{bmatrix} = \\sigma(\n",
       "\\begin{bmatrix}\n",
       "  0.42801234 & 1.17116364\\\\\n",
       "\\end{bmatrix}) \\end{gather}"
      ],
      "text/plain": [
       "<IPython.core.display.Latex object>"
      ]
     },
     "metadata": {},
     "output_type": "display_data"
    },
    {
     "data": {
      "text/latex": [
       "Camada: 2"
      ],
      "text/plain": [
       "<IPython.core.display.Latex object>"
      ]
     },
     "metadata": {},
     "output_type": "display_data"
    },
    {
     "data": {
      "text/latex": [
       "Y = Xw + b"
      ],
      "text/plain": [
       "<IPython.core.display.Latex object>"
      ]
     },
     "metadata": {},
     "output_type": "display_data"
    },
    {
     "data": {
      "text/latex": [
       "\\begin{gather}\n",
       "\\begin{bmatrix}\n",
       "  3.70172109\\\\\n",
       "\\end{bmatrix} = \n",
       "\\begin{bmatrix}\n",
       "  0.60539893 & 0.76335529\\\\\n",
       "\\end{bmatrix} \\cdot \n",
       "\\begin{bmatrix}\n",
       "  1.43963465\\\\\n",
       "  1.21527868\\\\\n",
       "\\end{bmatrix} + \n",
       "\\begin{bmatrix}\n",
       "  1.9024784\\\\\n",
       "\\end{bmatrix}\\end{gather}"
      ],
      "text/plain": [
       "<IPython.core.display.Latex object>"
      ]
     },
     "metadata": {},
     "output_type": "display_data"
    },
    {
     "data": {
      "text/latex": [
       "f_{custo}(\n",
       "\\begin{bmatrix}\n",
       "  1\\\\\n",
       "\\end{bmatrix},\n",
       "\\begin{bmatrix}\n",
       "  3.70172109\\\\\n",
       "\\end{bmatrix}) = \n",
       "\\begin{bmatrix}\n",
       "  7.299296850417119\\\\\n",
       "\\end{bmatrix}"
      ],
      "text/plain": [
       "<IPython.core.display.Latex object>"
      ]
     },
     "metadata": {},
     "output_type": "display_data"
    },
    {
     "data": {
      "text/latex": [
       "\\nabla = \\frac{\\partial E}{\\partial Y} = \n",
       "\\begin{bmatrix}\n",
       "  5.40344218\\\\\n",
       "\\end{bmatrix}"
      ],
      "text/plain": [
       "<IPython.core.display.Latex object>"
      ]
     },
     "metadata": {},
     "output_type": "display_data"
    },
    {
     "data": {
      "text/latex": [
       "Camada: 2"
      ],
      "text/plain": [
       "<IPython.core.display.Latex object>"
      ]
     },
     "metadata": {},
     "output_type": "display_data"
    },
    {
     "data": {
      "text/latex": [
       "\\nabla f_{custo} = \\frac{\\partial E}{\\partial W}"
      ],
      "text/plain": [
       "<IPython.core.display.Latex object>"
      ]
     },
     "metadata": {},
     "output_type": "display_data"
    },
    {
     "data": {
      "text/latex": [
       "\n",
       "\\begin{bmatrix}\n",
       "  7.77898259 & 6.56668808\\\\\n",
       "\\end{bmatrix} = \n",
       "\\begin{bmatrix}\n",
       "  5.40344218\\\\\n",
       "\\end{bmatrix} \\cdot \n",
       "\\begin{bmatrix}\n",
       "  1.43963465 & 1.21527868\\\\\n",
       "\\end{bmatrix}"
      ],
      "text/plain": [
       "<IPython.core.display.Latex object>"
      ]
     },
     "metadata": {},
     "output_type": "display_data"
    },
    {
     "data": {
      "text/latex": [
       "W = W - \\lambda (X \\cdot \\nabla f_{custo})"
      ],
      "text/plain": [
       "<IPython.core.display.Latex object>"
      ]
     },
     "metadata": {},
     "output_type": "display_data"
    },
    {
     "data": {
      "text/latex": [
       "\\begin{gather}\n",
       "\\begin{bmatrix}\n",
       "  -0.19598442\\\\\n",
       "  -0.84709439\\\\\n",
       "\\end{bmatrix} = \n",
       "\\begin{bmatrix}\n",
       "  1.43963465\\\\\n",
       "  1.21527868\\\\\n",
       "\\end{bmatrix} - 0.5\n",
       "\\begin{bmatrix}\n",
       "  0.60539893\\\\\n",
       "  0.76335529\\\\\n",
       "\\end{bmatrix} \\cdot \n",
       "\\begin{bmatrix}\n",
       "  5.40344218\\\\\n",
       "\\end{bmatrix}\\end{gather}"
      ],
      "text/plain": [
       "<IPython.core.display.Latex object>"
      ]
     },
     "metadata": {},
     "output_type": "display_data"
    },
    {
     "data": {
      "text/latex": [
       "Camada: 1"
      ],
      "text/plain": [
       "<IPython.core.display.Latex object>"
      ]
     },
     "metadata": {},
     "output_type": "display_data"
    },
    {
     "data": {
      "text/latex": [
       "\\nabla = \\frac{\\partial E}{\\partial Y} \\frac{\\partial Y}{\\partial X}"
      ],
      "text/plain": [
       "<IPython.core.display.Latex object>"
      ]
     },
     "metadata": {},
     "output_type": "display_data"
    },
    {
     "data": {
      "text/latex": [
       "\\begin{gather}\n",
       "\\begin{bmatrix}\n",
       "  1.85832943 & 1.18623276\\\\\n",
       "\\end{bmatrix} = \n",
       "\\begin{bmatrix}\n",
       "  7.77898259 & 6.56668808\\\\\n",
       "\\end{bmatrix} \\cdot  \\sigma^{'}(\n",
       "\\begin{bmatrix}\n",
       "  0.42801234 & 1.17116364\\\\\n",
       "\\end{bmatrix}) \\end{gather}"
      ],
      "text/plain": [
       "<IPython.core.display.Latex object>"
      ]
     },
     "metadata": {},
     "output_type": "display_data"
    },
    {
     "data": {
      "text/latex": [
       "Camada: 0"
      ],
      "text/plain": [
       "<IPython.core.display.Latex object>"
      ]
     },
     "metadata": {},
     "output_type": "display_data"
    },
    {
     "data": {
      "text/latex": [
       "\\nabla f_{custo} = \\frac{\\partial E}{\\partial W}"
      ],
      "text/plain": [
       "<IPython.core.display.Latex object>"
      ]
     },
     "metadata": {},
     "output_type": "display_data"
    },
    {
     "data": {
      "text/latex": [
       "\n",
       "\\begin{bmatrix}\n",
       "  1.33096 & 1.45443053\\\\\n",
       "\\end{bmatrix} = \n",
       "\\begin{bmatrix}\n",
       "  1.85832943 & 1.18623276\\\\\n",
       "\\end{bmatrix} \\cdot \n",
       "\\begin{bmatrix}\n",
       "  0.31126311 & 0.52055661\\\\\n",
       "  0.63438697 & 0.41059806\\\\\n",
       "\\end{bmatrix}"
      ],
      "text/plain": [
       "<IPython.core.display.Latex object>"
      ]
     },
     "metadata": {},
     "output_type": "display_data"
    },
    {
     "data": {
      "text/latex": [
       "W = W - \\lambda (X \\cdot \\nabla f_{custo})"
      ],
      "text/plain": [
       "<IPython.core.display.Latex object>"
      ]
     },
     "metadata": {},
     "output_type": "display_data"
    },
    {
     "data": {
      "text/latex": [
       "\\begin{gather}\n",
       "\\begin{bmatrix}\n",
       "  -0.61790161 & 0.04127059\\\\\n",
       "  0.52055661 & 0.41059806\\\\\n",
       "\\end{bmatrix} = \n",
       "\\begin{bmatrix}\n",
       "  0.31126311 & 0.63438697\\\\\n",
       "  0.52055661 & 0.41059806\\\\\n",
       "\\end{bmatrix} - 0.5\n",
       "\\begin{bmatrix}\n",
       "  1\\\\\n",
       "  0\\\\\n",
       "\\end{bmatrix} \\cdot \n",
       "\\begin{bmatrix}\n",
       "  1.85832943 & 1.18623276\\\\\n",
       "\\end{bmatrix}\\end{gather}"
      ],
      "text/plain": [
       "<IPython.core.display.Latex object>"
      ]
     },
     "metadata": {},
     "output_type": "display_data"
    },
    {
     "data": {
      "text/latex": [
       "Camada: 0"
      ],
      "text/plain": [
       "<IPython.core.display.Latex object>"
      ]
     },
     "metadata": {},
     "output_type": "display_data"
    },
    {
     "data": {
      "text/latex": [
       "Y = Xw + b"
      ],
      "text/plain": [
       "<IPython.core.display.Latex object>"
      ]
     },
     "metadata": {},
     "output_type": "display_data"
    },
    {
     "data": {
      "text/latex": [
       "\\begin{gather}\n",
       "\\begin{bmatrix}\n",
       "  -0.90976048 & 0.39552894\\\\\n",
       "\\end{bmatrix} = \n",
       "\\begin{bmatrix}\n",
       "  1 & 1\\\\\n",
       "\\end{bmatrix} \\cdot \n",
       "\\begin{bmatrix}\n",
       "  -0.61790161 & 0.04127059\\\\\n",
       "  0.52055661 & 0.41059806\\\\\n",
       "\\end{bmatrix} + \n",
       "\\begin{bmatrix}\n",
       "  -0.81241548 & -0.05633971\\\\\n",
       "\\end{bmatrix}\\end{gather}"
      ],
      "text/plain": [
       "<IPython.core.display.Latex object>"
      ]
     },
     "metadata": {},
     "output_type": "display_data"
    },
    {
     "data": {
      "text/latex": [
       "Camada: 1"
      ],
      "text/plain": [
       "<IPython.core.display.Latex object>"
      ]
     },
     "metadata": {},
     "output_type": "display_data"
    },
    {
     "data": {
      "text/latex": [
       "Y = \\sigma(X)"
      ],
      "text/plain": [
       "<IPython.core.display.Latex object>"
      ]
     },
     "metadata": {},
     "output_type": "display_data"
    },
    {
     "data": {
      "text/latex": [
       "\\begin{gather}\n",
       "\\begin{bmatrix}\n",
       "  0.28704885 & 0.59761297\\\\\n",
       "\\end{bmatrix} = \\sigma(\n",
       "\\begin{bmatrix}\n",
       "  -0.90976048 & 0.39552894\\\\\n",
       "\\end{bmatrix}) \\end{gather}"
      ],
      "text/plain": [
       "<IPython.core.display.Latex object>"
      ]
     },
     "metadata": {},
     "output_type": "display_data"
    },
    {
     "data": {
      "text/latex": [
       "Camada: 2"
      ],
      "text/plain": [
       "<IPython.core.display.Latex object>"
      ]
     },
     "metadata": {},
     "output_type": "display_data"
    },
    {
     "data": {
      "text/latex": [
       "Y = Xw + b"
      ],
      "text/plain": [
       "<IPython.core.display.Latex object>"
      ]
     },
     "metadata": {},
     "output_type": "display_data"
    },
    {
     "data": {
      "text/latex": [
       "\\begin{gather}\n",
       "\\begin{bmatrix}\n",
       "  -1.36173439\\\\\n",
       "\\end{bmatrix} = \n",
       "\\begin{bmatrix}\n",
       "  0.28704885 & 0.59761297\\\\\n",
       "\\end{bmatrix} \\cdot \n",
       "\\begin{bmatrix}\n",
       "  -0.19598442\\\\\n",
       "  -0.84709439\\\\\n",
       "\\end{bmatrix} + \n",
       "\\begin{bmatrix}\n",
       "  -0.79924269\\\\\n",
       "\\end{bmatrix}\\end{gather}"
      ],
      "text/plain": [
       "<IPython.core.display.Latex object>"
      ]
     },
     "metadata": {},
     "output_type": "display_data"
    },
    {
     "data": {
      "text/latex": [
       "f_{custo}(\n",
       "\\begin{bmatrix}\n",
       "  0\\\\\n",
       "\\end{bmatrix},\n",
       "\\begin{bmatrix}\n",
       "  -1.36173439\\\\\n",
       "\\end{bmatrix}) = \n",
       "\\begin{bmatrix}\n",
       "  1.8543205368159221\\\\\n",
       "\\end{bmatrix}"
      ],
      "text/plain": [
       "<IPython.core.display.Latex object>"
      ]
     },
     "metadata": {},
     "output_type": "display_data"
    },
    {
     "data": {
      "text/latex": [
       "\\nabla = \\frac{\\partial E}{\\partial Y} = \n",
       "\\begin{bmatrix}\n",
       "  -2.72346877\\\\\n",
       "\\end{bmatrix}"
      ],
      "text/plain": [
       "<IPython.core.display.Latex object>"
      ]
     },
     "metadata": {},
     "output_type": "display_data"
    },
    {
     "data": {
      "text/latex": [
       "Camada: 2"
      ],
      "text/plain": [
       "<IPython.core.display.Latex object>"
      ]
     },
     "metadata": {},
     "output_type": "display_data"
    },
    {
     "data": {
      "text/latex": [
       "\\nabla f_{custo} = \\frac{\\partial E}{\\partial W}"
      ],
      "text/plain": [
       "<IPython.core.display.Latex object>"
      ]
     },
     "metadata": {},
     "output_type": "display_data"
    },
    {
     "data": {
      "text/latex": [
       "\n",
       "\\begin{bmatrix}\n",
       "  0.53375745 & 2.30703513\\\\\n",
       "\\end{bmatrix} = \n",
       "\\begin{bmatrix}\n",
       "  -2.72346877\\\\\n",
       "\\end{bmatrix} \\cdot \n",
       "\\begin{bmatrix}\n",
       "  -0.19598442 & -0.84709439\\\\\n",
       "\\end{bmatrix}"
      ],
      "text/plain": [
       "<IPython.core.display.Latex object>"
      ]
     },
     "metadata": {},
     "output_type": "display_data"
    },
    {
     "data": {
      "text/latex": [
       "W = W - \\lambda (X \\cdot \\nabla f_{custo})"
      ],
      "text/plain": [
       "<IPython.core.display.Latex object>"
      ]
     },
     "metadata": {},
     "output_type": "display_data"
    },
    {
     "data": {
      "text/latex": [
       "\\begin{gather}\n",
       "\\begin{bmatrix}\n",
       "  0.19489987\\\\\n",
       "  -0.03330427\\\\\n",
       "\\end{bmatrix} = \n",
       "\\begin{bmatrix}\n",
       "  -0.19598442\\\\\n",
       "  -0.84709439\\\\\n",
       "\\end{bmatrix} - 0.5\n",
       "\\begin{bmatrix}\n",
       "  0.28704885\\\\\n",
       "  0.59761297\\\\\n",
       "\\end{bmatrix} \\cdot \n",
       "\\begin{bmatrix}\n",
       "  -2.72346877\\\\\n",
       "\\end{bmatrix}\\end{gather}"
      ],
      "text/plain": [
       "<IPython.core.display.Latex object>"
      ]
     },
     "metadata": {},
     "output_type": "display_data"
    },
    {
     "data": {
      "text/latex": [
       "Camada: 1"
      ],
      "text/plain": [
       "<IPython.core.display.Latex object>"
      ]
     },
     "metadata": {},
     "output_type": "display_data"
    },
    {
     "data": {
      "text/latex": [
       "\\nabla = \\frac{\\partial E}{\\partial Y} \\frac{\\partial Y}{\\partial X}"
      ],
      "text/plain": [
       "<IPython.core.display.Latex object>"
      ]
     },
     "metadata": {},
     "output_type": "display_data"
    },
    {
     "data": {
      "text/latex": [
       "\\begin{gather}\n",
       "\\begin{bmatrix}\n",
       "  0.10923443 & 0.55477668\\\\\n",
       "\\end{bmatrix} = \n",
       "\\begin{bmatrix}\n",
       "  0.53375745 & 2.30703513\\\\\n",
       "\\end{bmatrix} \\cdot  \\sigma^{'}(\n",
       "\\begin{bmatrix}\n",
       "  -0.90976048 & 0.39552894\\\\\n",
       "\\end{bmatrix}) \\end{gather}"
      ],
      "text/plain": [
       "<IPython.core.display.Latex object>"
      ]
     },
     "metadata": {},
     "output_type": "display_data"
    },
    {
     "data": {
      "text/latex": [
       "Camada: 0"
      ],
      "text/plain": [
       "<IPython.core.display.Latex object>"
      ]
     },
     "metadata": {},
     "output_type": "display_data"
    },
    {
     "data": {
      "text/latex": [
       "\\nabla f_{custo} = \\frac{\\partial E}{\\partial W}"
      ],
      "text/plain": [
       "<IPython.core.display.Latex object>"
      ]
     },
     "metadata": {},
     "output_type": "display_data"
    },
    {
     "data": {
      "text/latex": [
       "\n",
       "\\begin{bmatrix}\n",
       "  -0.04460017 & 0.28465293\\\\\n",
       "\\end{bmatrix} = \n",
       "\\begin{bmatrix}\n",
       "  0.10923443 & 0.55477668\\\\\n",
       "\\end{bmatrix} \\cdot \n",
       "\\begin{bmatrix}\n",
       "  -0.61790161 & 0.52055661\\\\\n",
       "  0.04127059 & 0.41059806\\\\\n",
       "\\end{bmatrix}"
      ],
      "text/plain": [
       "<IPython.core.display.Latex object>"
      ]
     },
     "metadata": {},
     "output_type": "display_data"
    },
    {
     "data": {
      "text/latex": [
       "W = W - \\lambda (X \\cdot \\nabla f_{custo})"
      ],
      "text/plain": [
       "<IPython.core.display.Latex object>"
      ]
     },
     "metadata": {},
     "output_type": "display_data"
    },
    {
     "data": {
      "text/latex": [
       "\\begin{gather}\n",
       "\\begin{bmatrix}\n",
       "  -0.67251882 & -0.23611775\\\\\n",
       "  0.46593939 & 0.13320972\\\\\n",
       "\\end{bmatrix} = \n",
       "\\begin{bmatrix}\n",
       "  -0.61790161 & 0.04127059\\\\\n",
       "  0.52055661 & 0.41059806\\\\\n",
       "\\end{bmatrix} - 0.5\n",
       "\\begin{bmatrix}\n",
       "  1\\\\\n",
       "  1\\\\\n",
       "\\end{bmatrix} \\cdot \n",
       "\\begin{bmatrix}\n",
       "  0.10923443 & 0.55477668\\\\\n",
       "\\end{bmatrix}\\end{gather}"
      ],
      "text/plain": [
       "<IPython.core.display.Latex object>"
      ]
     },
     "metadata": {},
     "output_type": "display_data"
    },
    {
     "data": {
      "text/latex": [
       "Última \\quad iteração:"
      ],
      "text/plain": [
       "<IPython.core.display.Latex object>"
      ]
     },
     "metadata": {},
     "output_type": "display_data"
    },
    {
     "data": {
      "text/latex": [
       "Camada: 0"
      ],
      "text/plain": [
       "<IPython.core.display.Latex object>"
      ]
     },
     "metadata": {},
     "output_type": "display_data"
    },
    {
     "data": {
      "text/latex": [
       "Y = Xw + b"
      ],
      "text/plain": [
       "<IPython.core.display.Latex object>"
      ]
     },
     "metadata": {},
     "output_type": "display_data"
    },
    {
     "data": {
      "text/latex": [
       "\\begin{gather}\n",
       "\\begin{bmatrix}\n",
       "  -3.01087277 & -0.99560789\\\\\n",
       "\\end{bmatrix} = \n",
       "\\begin{bmatrix}\n",
       "  0 & 0\\\\\n",
       "\\end{bmatrix} \\cdot \n",
       "\\begin{bmatrix}\n",
       "  -4.76926624 & 2.42173681\\\\\n",
       "  3.18339291 & -2.00890532\\\\\n",
       "\\end{bmatrix} + \n",
       "\\begin{bmatrix}\n",
       "  -3.01087277 & -0.99560789\\\\\n",
       "\\end{bmatrix}\\end{gather}"
      ],
      "text/plain": [
       "<IPython.core.display.Latex object>"
      ]
     },
     "metadata": {},
     "output_type": "display_data"
    },
    {
     "data": {
      "text/latex": [
       "Camada: 1"
      ],
      "text/plain": [
       "<IPython.core.display.Latex object>"
      ]
     },
     "metadata": {},
     "output_type": "display_data"
    },
    {
     "data": {
      "text/latex": [
       "Y = \\sigma(X)"
      ],
      "text/plain": [
       "<IPython.core.display.Latex object>"
      ]
     },
     "metadata": {},
     "output_type": "display_data"
    },
    {
     "data": {
      "text/latex": [
       "\\begin{gather}\n",
       "\\begin{bmatrix}\n",
       "  0.04693709 & 0.26980584\\\\\n",
       "\\end{bmatrix} = \\sigma(\n",
       "\\begin{bmatrix}\n",
       "  -3.01087277 & -0.99560789\\\\\n",
       "\\end{bmatrix}) \\end{gather}"
      ],
      "text/plain": [
       "<IPython.core.display.Latex object>"
      ]
     },
     "metadata": {},
     "output_type": "display_data"
    },
    {
     "data": {
      "text/latex": [
       "Camada: 2"
      ],
      "text/plain": [
       "<IPython.core.display.Latex object>"
      ]
     },
     "metadata": {},
     "output_type": "display_data"
    },
    {
     "data": {
      "text/latex": [
       "Y = Xw + b"
      ],
      "text/plain": [
       "<IPython.core.display.Latex object>"
      ]
     },
     "metadata": {},
     "output_type": "display_data"
    },
    {
     "data": {
      "text/latex": [
       "\\begin{gather}\n",
       "\\begin{bmatrix}\n",
       "  -0.162223\\\\\n",
       "\\end{bmatrix} = \n",
       "\\begin{bmatrix}\n",
       "  0.04693709 & 0.26980584\\\\\n",
       "\\end{bmatrix} \\cdot \n",
       "\\begin{bmatrix}\n",
       "  2.8732049\\\\\n",
       "  2.02451927\\\\\n",
       "\\end{bmatrix} + \n",
       "\\begin{bmatrix}\n",
       "  -0.84330999\\\\\n",
       "\\end{bmatrix}\\end{gather}"
      ],
      "text/plain": [
       "<IPython.core.display.Latex object>"
      ]
     },
     "metadata": {},
     "output_type": "display_data"
    },
    {
     "data": {
      "text/latex": [
       "f_{custo}(\n",
       "\\begin{bmatrix}\n",
       "  0\\\\\n",
       "\\end{bmatrix},\n",
       "\\begin{bmatrix}\n",
       "  -0.162223\\\\\n",
       "\\end{bmatrix}) = \n",
       "\\begin{bmatrix}\n",
       "  0.0263163013468329\\\\\n",
       "\\end{bmatrix}"
      ],
      "text/plain": [
       "<IPython.core.display.Latex object>"
      ]
     },
     "metadata": {},
     "output_type": "display_data"
    },
    {
     "data": {
      "text/latex": [
       "\\nabla = \\frac{\\partial E}{\\partial Y} = \n",
       "\\begin{bmatrix}\n",
       "  -0.324446\\\\\n",
       "\\end{bmatrix}"
      ],
      "text/plain": [
       "<IPython.core.display.Latex object>"
      ]
     },
     "metadata": {},
     "output_type": "display_data"
    },
    {
     "data": {
      "text/latex": [
       "Camada: 2"
      ],
      "text/plain": [
       "<IPython.core.display.Latex object>"
      ]
     },
     "metadata": {},
     "output_type": "display_data"
    },
    {
     "data": {
      "text/latex": [
       "\\nabla f_{custo} = \\frac{\\partial E}{\\partial W}"
      ],
      "text/plain": [
       "<IPython.core.display.Latex object>"
      ]
     },
     "metadata": {},
     "output_type": "display_data"
    },
    {
     "data": {
      "text/latex": [
       "\n",
       "\\begin{bmatrix}\n",
       "  -0.93219983 & -0.65684718\\\\\n",
       "\\end{bmatrix} = \n",
       "\\begin{bmatrix}\n",
       "  -0.324446\\\\\n",
       "\\end{bmatrix} \\cdot \n",
       "\\begin{bmatrix}\n",
       "  2.8732049 & 2.02451927\\\\\n",
       "\\end{bmatrix}"
      ],
      "text/plain": [
       "<IPython.core.display.Latex object>"
      ]
     },
     "metadata": {},
     "output_type": "display_data"
    },
    {
     "data": {
      "text/latex": [
       "W = W - \\lambda (X \\cdot \\nabla f_{custo})"
      ],
      "text/plain": [
       "<IPython.core.display.Latex object>"
      ]
     },
     "metadata": {},
     "output_type": "display_data"
    },
    {
     "data": {
      "text/latex": [
       "\\begin{gather}\n",
       "\\begin{bmatrix}\n",
       "  2.88081918\\\\\n",
       "  2.06828799\\\\\n",
       "\\end{bmatrix} = \n",
       "\\begin{bmatrix}\n",
       "  2.8732049\\\\\n",
       "  2.02451927\\\\\n",
       "\\end{bmatrix} - 0.5\n",
       "\\begin{bmatrix}\n",
       "  0.04693709\\\\\n",
       "  0.26980584\\\\\n",
       "\\end{bmatrix} \\cdot \n",
       "\\begin{bmatrix}\n",
       "  -0.324446\\\\\n",
       "\\end{bmatrix}\\end{gather}"
      ],
      "text/plain": [
       "<IPython.core.display.Latex object>"
      ]
     },
     "metadata": {},
     "output_type": "display_data"
    },
    {
     "data": {
      "text/latex": [
       "Camada: 1"
      ],
      "text/plain": [
       "<IPython.core.display.Latex object>"
      ]
     },
     "metadata": {},
     "output_type": "display_data"
    },
    {
     "data": {
      "text/latex": [
       "\\nabla = \\frac{\\partial E}{\\partial Y} \\frac{\\partial Y}{\\partial X}"
      ],
      "text/plain": [
       "<IPython.core.display.Latex object>"
      ]
     },
     "metadata": {},
     "output_type": "display_data"
    },
    {
     "data": {
      "text/latex": [
       "\\begin{gather}\n",
       "\\begin{bmatrix}\n",
       "  -0.04170103 & -0.12940589\\\\\n",
       "\\end{bmatrix} = \n",
       "\\begin{bmatrix}\n",
       "  -0.93219983 & -0.65684718\\\\\n",
       "\\end{bmatrix} \\cdot  \\sigma^{'}(\n",
       "\\begin{bmatrix}\n",
       "  -3.01087277 & -0.99560789\\\\\n",
       "\\end{bmatrix}) \\end{gather}"
      ],
      "text/plain": [
       "<IPython.core.display.Latex object>"
      ]
     },
     "metadata": {},
     "output_type": "display_data"
    },
    {
     "data": {
      "text/latex": [
       "Camada: 0"
      ],
      "text/plain": [
       "<IPython.core.display.Latex object>"
      ]
     },
     "metadata": {},
     "output_type": "display_data"
    },
    {
     "data": {
      "text/latex": [
       "\\nabla f_{custo} = \\frac{\\partial E}{\\partial W}"
      ],
      "text/plain": [
       "<IPython.core.display.Latex object>"
      ]
     },
     "metadata": {},
     "output_type": "display_data"
    },
    {
     "data": {
      "text/latex": [
       "\n",
       "\\begin{bmatrix}\n",
       "  -0.11450371 & 0.12721343\\\\\n",
       "\\end{bmatrix} = \n",
       "\\begin{bmatrix}\n",
       "  -0.04170103 & -0.12940589\\\\\n",
       "\\end{bmatrix} \\cdot \n",
       "\\begin{bmatrix}\n",
       "  -4.76926624 & 3.18339291\\\\\n",
       "  2.42173681 & -2.00890532\\\\\n",
       "\\end{bmatrix}"
      ],
      "text/plain": [
       "<IPython.core.display.Latex object>"
      ]
     },
     "metadata": {},
     "output_type": "display_data"
    },
    {
     "data": {
      "text/latex": [
       "W = W - \\lambda (X \\cdot \\nabla f_{custo})"
      ],
      "text/plain": [
       "<IPython.core.display.Latex object>"
      ]
     },
     "metadata": {},
     "output_type": "display_data"
    },
    {
     "data": {
      "text/latex": [
       "\\begin{gather}\n",
       "\\begin{bmatrix}\n",
       "  -4.76926624 & 2.42173681\\\\\n",
       "  3.18339291 & -2.00890532\\\\\n",
       "\\end{bmatrix} = \n",
       "\\begin{bmatrix}\n",
       "  -4.76926624 & 2.42173681\\\\\n",
       "  3.18339291 & -2.00890532\\\\\n",
       "\\end{bmatrix} - 0.5\n",
       "\\begin{bmatrix}\n",
       "  0\\\\\n",
       "  0\\\\\n",
       "\\end{bmatrix} \\cdot \n",
       "\\begin{bmatrix}\n",
       "  -0.04170103 & -0.12940589\\\\\n",
       "\\end{bmatrix}\\end{gather}"
      ],
      "text/plain": [
       "<IPython.core.display.Latex object>"
      ]
     },
     "metadata": {},
     "output_type": "display_data"
    },
    {
     "data": {
      "text/latex": [
       "Camada: 0"
      ],
      "text/plain": [
       "<IPython.core.display.Latex object>"
      ]
     },
     "metadata": {},
     "output_type": "display_data"
    },
    {
     "data": {
      "text/latex": [
       "Y = Xw + b"
      ],
      "text/plain": [
       "<IPython.core.display.Latex object>"
      ]
     },
     "metadata": {},
     "output_type": "display_data"
    },
    {
     "data": {
      "text/latex": [
       "\\begin{gather}\n",
       "\\begin{bmatrix}\n",
       "  0.19337065 & -2.93981027\\\\\n",
       "\\end{bmatrix} = \n",
       "\\begin{bmatrix}\n",
       "  0 & 1\\\\\n",
       "\\end{bmatrix} \\cdot \n",
       "\\begin{bmatrix}\n",
       "  -4.76926624 & 2.42173681\\\\\n",
       "  3.18339291 & -2.00890532\\\\\n",
       "\\end{bmatrix} + \n",
       "\\begin{bmatrix}\n",
       "  -2.99002225 & -0.93090495\\\\\n",
       "\\end{bmatrix}\\end{gather}"
      ],
      "text/plain": [
       "<IPython.core.display.Latex object>"
      ]
     },
     "metadata": {},
     "output_type": "display_data"
    },
    {
     "data": {
      "text/latex": [
       "Camada: 1"
      ],
      "text/plain": [
       "<IPython.core.display.Latex object>"
      ]
     },
     "metadata": {},
     "output_type": "display_data"
    },
    {
     "data": {
      "text/latex": [
       "Y = \\sigma(X)"
      ],
      "text/plain": [
       "<IPython.core.display.Latex object>"
      ]
     },
     "metadata": {},
     "output_type": "display_data"
    },
    {
     "data": {
      "text/latex": [
       "\\begin{gather}\n",
       "\\begin{bmatrix}\n",
       "  0.54819259 & 0.05022032\\\\\n",
       "\\end{bmatrix} = \\sigma(\n",
       "\\begin{bmatrix}\n",
       "  0.19337065 & -2.93981027\\\\\n",
       "\\end{bmatrix}) \\end{gather}"
      ],
      "text/plain": [
       "<IPython.core.display.Latex object>"
      ]
     },
     "metadata": {},
     "output_type": "display_data"
    },
    {
     "data": {
      "text/latex": [
       "Camada: 2"
      ],
      "text/plain": [
       "<IPython.core.display.Latex object>"
      ]
     },
     "metadata": {},
     "output_type": "display_data"
    },
    {
     "data": {
      "text/latex": [
       "Y = Xw + b"
      ],
      "text/plain": [
       "<IPython.core.display.Latex object>"
      ]
     },
     "metadata": {},
     "output_type": "display_data"
    },
    {
     "data": {
      "text/latex": [
       "\\begin{gather}\n",
       "\\begin{bmatrix}\n",
       "  1.00202682\\\\\n",
       "\\end{bmatrix} = \n",
       "\\begin{bmatrix}\n",
       "  0.54819259 & 0.05022032\\\\\n",
       "\\end{bmatrix} \\cdot \n",
       "\\begin{bmatrix}\n",
       "  2.88081918\\\\\n",
       "  2.06828799\\\\\n",
       "\\end{bmatrix} + \n",
       "\\begin{bmatrix}\n",
       "  -0.68108699\\\\\n",
       "\\end{bmatrix}\\end{gather}"
      ],
      "text/plain": [
       "<IPython.core.display.Latex object>"
      ]
     },
     "metadata": {},
     "output_type": "display_data"
    },
    {
     "data": {
      "text/latex": [
       "f_{custo}(\n",
       "\\begin{bmatrix}\n",
       "  1\\\\\n",
       "\\end{bmatrix},\n",
       "\\begin{bmatrix}\n",
       "  1.00202682\\\\\n",
       "\\end{bmatrix}) = \n",
       "\\begin{bmatrix}\n",
       "  4.108000033469282e-06\\\\\n",
       "\\end{bmatrix}"
      ],
      "text/plain": [
       "<IPython.core.display.Latex object>"
      ]
     },
     "metadata": {},
     "output_type": "display_data"
    },
    {
     "data": {
      "text/latex": [
       "\\nabla = \\frac{\\partial E}{\\partial Y} = \n",
       "\\begin{bmatrix}\n",
       "  0.00405364\\\\\n",
       "\\end{bmatrix}"
      ],
      "text/plain": [
       "<IPython.core.display.Latex object>"
      ]
     },
     "metadata": {},
     "output_type": "display_data"
    },
    {
     "data": {
      "text/latex": [
       "Camada: 2"
      ],
      "text/plain": [
       "<IPython.core.display.Latex object>"
      ]
     },
     "metadata": {},
     "output_type": "display_data"
    },
    {
     "data": {
      "text/latex": [
       "\\nabla f_{custo} = \\frac{\\partial E}{\\partial W}"
      ],
      "text/plain": [
       "<IPython.core.display.Latex object>"
      ]
     },
     "metadata": {},
     "output_type": "display_data"
    },
    {
     "data": {
      "text/latex": [
       "\n",
       "\\begin{bmatrix}\n",
       "  0.0116778 & 0.0083841\\\\\n",
       "\\end{bmatrix} = \n",
       "\\begin{bmatrix}\n",
       "  0.00405364\\\\\n",
       "\\end{bmatrix} \\cdot \n",
       "\\begin{bmatrix}\n",
       "  2.88081918 & 2.06828799\\\\\n",
       "\\end{bmatrix}"
      ],
      "text/plain": [
       "<IPython.core.display.Latex object>"
      ]
     },
     "metadata": {},
     "output_type": "display_data"
    },
    {
     "data": {
      "text/latex": [
       "W = W - \\lambda (X \\cdot \\nabla f_{custo})"
      ],
      "text/plain": [
       "<IPython.core.display.Latex object>"
      ]
     },
     "metadata": {},
     "output_type": "display_data"
    },
    {
     "data": {
      "text/latex": [
       "\\begin{gather}\n",
       "\\begin{bmatrix}\n",
       "  2.87970809\\\\\n",
       "  2.0681862\\\\\n",
       "\\end{bmatrix} = \n",
       "\\begin{bmatrix}\n",
       "  2.88081918\\\\\n",
       "  2.06828799\\\\\n",
       "\\end{bmatrix} - 0.5\n",
       "\\begin{bmatrix}\n",
       "  0.54819259\\\\\n",
       "  0.05022032\\\\\n",
       "\\end{bmatrix} \\cdot \n",
       "\\begin{bmatrix}\n",
       "  0.00405364\\\\\n",
       "\\end{bmatrix}\\end{gather}"
      ],
      "text/plain": [
       "<IPython.core.display.Latex object>"
      ]
     },
     "metadata": {},
     "output_type": "display_data"
    },
    {
     "data": {
      "text/latex": [
       "Camada: 1"
      ],
      "text/plain": [
       "<IPython.core.display.Latex object>"
      ]
     },
     "metadata": {},
     "output_type": "display_data"
    },
    {
     "data": {
      "text/latex": [
       "\\nabla = \\frac{\\partial E}{\\partial Y} \\frac{\\partial Y}{\\partial X}"
      ],
      "text/plain": [
       "<IPython.core.display.Latex object>"
      ]
     },
     "metadata": {},
     "output_type": "display_data"
    },
    {
     "data": {
      "text/latex": [
       "\\begin{gather}\n",
       "\\begin{bmatrix}\n",
       "  0.00289233 & 0.00039991\\\\\n",
       "\\end{bmatrix} = \n",
       "\\begin{bmatrix}\n",
       "  0.0116778 & 0.0083841\\\\\n",
       "\\end{bmatrix} \\cdot  \\sigma^{'}(\n",
       "\\begin{bmatrix}\n",
       "  0.19337065 & -2.93981027\\\\\n",
       "\\end{bmatrix}) \\end{gather}"
      ],
      "text/plain": [
       "<IPython.core.display.Latex object>"
      ]
     },
     "metadata": {},
     "output_type": "display_data"
    },
    {
     "data": {
      "text/latex": [
       "Camada: 0"
      ],
      "text/plain": [
       "<IPython.core.display.Latex object>"
      ]
     },
     "metadata": {},
     "output_type": "display_data"
    },
    {
     "data": {
      "text/latex": [
       "\\nabla f_{custo} = \\frac{\\partial E}{\\partial W}"
      ],
      "text/plain": [
       "<IPython.core.display.Latex object>"
      ]
     },
     "metadata": {},
     "output_type": "display_data"
    },
    {
     "data": {
      "text/latex": [
       "\n",
       "\\begin{bmatrix}\n",
       "  -0.01282582 & 0.00840405\\\\\n",
       "\\end{bmatrix} = \n",
       "\\begin{bmatrix}\n",
       "  0.00289233 & 0.00039991\\\\\n",
       "\\end{bmatrix} \\cdot \n",
       "\\begin{bmatrix}\n",
       "  -4.76926624 & 3.18339291\\\\\n",
       "  2.42173681 & -2.00890532\\\\\n",
       "\\end{bmatrix}"
      ],
      "text/plain": [
       "<IPython.core.display.Latex object>"
      ]
     },
     "metadata": {},
     "output_type": "display_data"
    },
    {
     "data": {
      "text/latex": [
       "W = W - \\lambda (X \\cdot \\nabla f_{custo})"
      ],
      "text/plain": [
       "<IPython.core.display.Latex object>"
      ]
     },
     "metadata": {},
     "output_type": "display_data"
    },
    {
     "data": {
      "text/latex": [
       "\\begin{gather}\n",
       "\\begin{bmatrix}\n",
       "  -4.76926624 & 2.42173681\\\\\n",
       "  3.18194674 & -2.00910527\\\\\n",
       "\\end{bmatrix} = \n",
       "\\begin{bmatrix}\n",
       "  -4.76926624 & 2.42173681\\\\\n",
       "  3.18339291 & -2.00890532\\\\\n",
       "\\end{bmatrix} - 0.5\n",
       "\\begin{bmatrix}\n",
       "  0\\\\\n",
       "  1\\\\\n",
       "\\end{bmatrix} \\cdot \n",
       "\\begin{bmatrix}\n",
       "  0.00289233 & 0.00039991\\\\\n",
       "\\end{bmatrix}\\end{gather}"
      ],
      "text/plain": [
       "<IPython.core.display.Latex object>"
      ]
     },
     "metadata": {},
     "output_type": "display_data"
    },
    {
     "data": {
      "text/latex": [
       "Camada: 0"
      ],
      "text/plain": [
       "<IPython.core.display.Latex object>"
      ]
     },
     "metadata": {},
     "output_type": "display_data"
    },
    {
     "data": {
      "text/latex": [
       "Y = Xw + b"
      ],
      "text/plain": [
       "<IPython.core.display.Latex object>"
      ]
     },
     "metadata": {},
     "output_type": "display_data"
    },
    {
     "data": {
      "text/latex": [
       "\\begin{gather}\n",
       "\\begin{bmatrix}\n",
       "  -7.76073466 & 1.49063191\\\\\n",
       "\\end{bmatrix} = \n",
       "\\begin{bmatrix}\n",
       "  1 & 0\\\\\n",
       "\\end{bmatrix} \\cdot \n",
       "\\begin{bmatrix}\n",
       "  -4.76926624 & 2.42173681\\\\\n",
       "  3.18194674 & -2.00910527\\\\\n",
       "\\end{bmatrix} + \n",
       "\\begin{bmatrix}\n",
       "  -2.99146842 & -0.9311049\\\\\n",
       "\\end{bmatrix}\\end{gather}"
      ],
      "text/plain": [
       "<IPython.core.display.Latex object>"
      ]
     },
     "metadata": {},
     "output_type": "display_data"
    },
    {
     "data": {
      "text/latex": [
       "Camada: 1"
      ],
      "text/plain": [
       "<IPython.core.display.Latex object>"
      ]
     },
     "metadata": {},
     "output_type": "display_data"
    },
    {
     "data": {
      "text/latex": [
       "Y = \\sigma(X)"
      ],
      "text/plain": [
       "<IPython.core.display.Latex object>"
      ]
     },
     "metadata": {},
     "output_type": "display_data"
    },
    {
     "data": {
      "text/latex": [
       "\\begin{gather}\n",
       "\\begin{bmatrix}\n",
       "  4.25961876e-04 & 8.16173100e-01\\\\\n",
       "\\end{bmatrix} = \\sigma(\n",
       "\\begin{bmatrix}\n",
       "  -7.76073466 & 1.49063191\\\\\n",
       "\\end{bmatrix}) \\end{gather}"
      ],
      "text/plain": [
       "<IPython.core.display.Latex object>"
      ]
     },
     "metadata": {},
     "output_type": "display_data"
    },
    {
     "data": {
      "text/latex": [
       "Camada: 2"
      ],
      "text/plain": [
       "<IPython.core.display.Latex object>"
      ]
     },
     "metadata": {},
     "output_type": "display_data"
    },
    {
     "data": {
      "text/latex": [
       "Y = Xw + b"
      ],
      "text/plain": [
       "<IPython.core.display.Latex object>"
      ]
     },
     "metadata": {},
     "output_type": "display_data"
    },
    {
     "data": {
      "text/latex": [
       "\\begin{gather}\n",
       "\\begin{bmatrix}\n",
       "  1.00611078\\\\\n",
       "\\end{bmatrix} = \n",
       "\\begin{bmatrix}\n",
       "  4.25961876e-04 & 8.16173100e-01\\\\\n",
       "\\end{bmatrix} \\cdot \n",
       "\\begin{bmatrix}\n",
       "  2.87970809\\\\\n",
       "  2.0681862\\\\\n",
       "\\end{bmatrix} + \n",
       "\\begin{bmatrix}\n",
       "  -0.68311381\\\\\n",
       "\\end{bmatrix}\\end{gather}"
      ],
      "text/plain": [
       "<IPython.core.display.Latex object>"
      ]
     },
     "metadata": {},
     "output_type": "display_data"
    },
    {
     "data": {
      "text/latex": [
       "f_{custo}(\n",
       "\\begin{bmatrix}\n",
       "  1\\\\\n",
       "\\end{bmatrix},\n",
       "\\begin{bmatrix}\n",
       "  1.00611078\\\\\n",
       "\\end{bmatrix}) = \n",
       "\\begin{bmatrix}\n",
       "  3.734159910041924e-05\\\\\n",
       "\\end{bmatrix}"
      ],
      "text/plain": [
       "<IPython.core.display.Latex object>"
      ]
     },
     "metadata": {},
     "output_type": "display_data"
    },
    {
     "data": {
      "text/latex": [
       "\\nabla = \\frac{\\partial E}{\\partial Y} = \n",
       "\\begin{bmatrix}\n",
       "  0.01222155\\\\\n",
       "\\end{bmatrix}"
      ],
      "text/plain": [
       "<IPython.core.display.Latex object>"
      ]
     },
     "metadata": {},
     "output_type": "display_data"
    },
    {
     "data": {
      "text/latex": [
       "Camada: 2"
      ],
      "text/plain": [
       "<IPython.core.display.Latex object>"
      ]
     },
     "metadata": {},
     "output_type": "display_data"
    },
    {
     "data": {
      "text/latex": [
       "\\nabla f_{custo} = \\frac{\\partial E}{\\partial W}"
      ],
      "text/plain": [
       "<IPython.core.display.Latex object>"
      ]
     },
     "metadata": {},
     "output_type": "display_data"
    },
    {
     "data": {
      "text/latex": [
       "\n",
       "\\begin{bmatrix}\n",
       "  0.03519451 & 0.02527645\\\\\n",
       "\\end{bmatrix} = \n",
       "\\begin{bmatrix}\n",
       "  0.01222155\\\\\n",
       "\\end{bmatrix} \\cdot \n",
       "\\begin{bmatrix}\n",
       "  2.87970809 & 2.0681862\\\\\n",
       "\\end{bmatrix}"
      ],
      "text/plain": [
       "<IPython.core.display.Latex object>"
      ]
     },
     "metadata": {},
     "output_type": "display_data"
    },
    {
     "data": {
      "text/latex": [
       "W = W - \\lambda (X \\cdot \\nabla f_{custo})"
      ],
      "text/plain": [
       "<IPython.core.display.Latex object>"
      ]
     },
     "metadata": {},
     "output_type": "display_data"
    },
    {
     "data": {
      "text/latex": [
       "\\begin{gather}\n",
       "\\begin{bmatrix}\n",
       "  2.87970549\\\\\n",
       "  2.06319875\\\\\n",
       "\\end{bmatrix} = \n",
       "\\begin{bmatrix}\n",
       "  2.87970809\\\\\n",
       "  2.0681862\\\\\n",
       "\\end{bmatrix} - 0.5\n",
       "\\begin{bmatrix}\n",
       "  4.25961876e-04\\\\\n",
       "  8.16173100e-01\\\\\n",
       "\\end{bmatrix} \\cdot \n",
       "\\begin{bmatrix}\n",
       "  0.01222155\\\\\n",
       "\\end{bmatrix}\\end{gather}"
      ],
      "text/plain": [
       "<IPython.core.display.Latex object>"
      ]
     },
     "metadata": {},
     "output_type": "display_data"
    },
    {
     "data": {
      "text/latex": [
       "Camada: 1"
      ],
      "text/plain": [
       "<IPython.core.display.Latex object>"
      ]
     },
     "metadata": {},
     "output_type": "display_data"
    },
    {
     "data": {
      "text/latex": [
       "\\nabla = \\frac{\\partial E}{\\partial Y} \\frac{\\partial Y}{\\partial X}"
      ],
      "text/plain": [
       "<IPython.core.display.Latex object>"
      ]
     },
     "metadata": {},
     "output_type": "display_data"
    },
    {
     "data": {
      "text/latex": [
       "\\begin{gather}\n",
       "\\begin{bmatrix}\n",
       "  1.49851335e-05 & 3.79234141e-03\\\\\n",
       "\\end{bmatrix} = \n",
       "\\begin{bmatrix}\n",
       "  0.03519451 & 0.02527645\\\\\n",
       "\\end{bmatrix} \\cdot  \\sigma^{'}(\n",
       "\\begin{bmatrix}\n",
       "  -7.76073466 & 1.49063191\\\\\n",
       "\\end{bmatrix}) \\end{gather}"
      ],
      "text/plain": [
       "<IPython.core.display.Latex object>"
      ]
     },
     "metadata": {},
     "output_type": "display_data"
    },
    {
     "data": {
      "text/latex": [
       "Camada: 0"
      ],
      "text/plain": [
       "<IPython.core.display.Latex object>"
      ]
     },
     "metadata": {},
     "output_type": "display_data"
    },
    {
     "data": {
      "text/latex": [
       "\\nabla f_{custo} = \\frac{\\partial E}{\\partial W}"
      ],
      "text/plain": [
       "<IPython.core.display.Latex object>"
      ]
     },
     "metadata": {},
     "output_type": "display_data"
    },
    {
     "data": {
      "text/latex": [
       "\n",
       "\\begin{bmatrix}\n",
       "  0.00911258 & -0.00757153\\\\\n",
       "\\end{bmatrix} = \n",
       "\\begin{bmatrix}\n",
       "  1.49851335e-05 & 3.79234141e-03\\\\\n",
       "\\end{bmatrix} \\cdot \n",
       "\\begin{bmatrix}\n",
       "  -4.76926624 & 3.18194674\\\\\n",
       "  2.42173681 & -2.00910527\\\\\n",
       "\\end{bmatrix}"
      ],
      "text/plain": [
       "<IPython.core.display.Latex object>"
      ]
     },
     "metadata": {},
     "output_type": "display_data"
    },
    {
     "data": {
      "text/latex": [
       "W = W - \\lambda (X \\cdot \\nabla f_{custo})"
      ],
      "text/plain": [
       "<IPython.core.display.Latex object>"
      ]
     },
     "metadata": {},
     "output_type": "display_data"
    },
    {
     "data": {
      "text/latex": [
       "\\begin{gather}\n",
       "\\begin{bmatrix}\n",
       "  -4.76927373 & 2.41984064\\\\\n",
       "  3.18194674 & -2.00910527\\\\\n",
       "\\end{bmatrix} = \n",
       "\\begin{bmatrix}\n",
       "  -4.76926624 & 2.42173681\\\\\n",
       "  3.18194674 & -2.00910527\\\\\n",
       "\\end{bmatrix} - 0.5\n",
       "\\begin{bmatrix}\n",
       "  1\\\\\n",
       "  0\\\\\n",
       "\\end{bmatrix} \\cdot \n",
       "\\begin{bmatrix}\n",
       "  1.49851335e-05 & 3.79234141e-03\\\\\n",
       "\\end{bmatrix}\\end{gather}"
      ],
      "text/plain": [
       "<IPython.core.display.Latex object>"
      ]
     },
     "metadata": {},
     "output_type": "display_data"
    },
    {
     "data": {
      "text/latex": [
       "Camada: 0"
      ],
      "text/plain": [
       "<IPython.core.display.Latex object>"
      ]
     },
     "metadata": {},
     "output_type": "display_data"
    },
    {
     "data": {
      "text/latex": [
       "Y = Xw + b"
      ],
      "text/plain": [
       "<IPython.core.display.Latex object>"
      ]
     },
     "metadata": {},
     "output_type": "display_data"
    },
    {
     "data": {
      "text/latex": [
       "\\begin{gather}\n",
       "\\begin{bmatrix}\n",
       "  -4.5788029 & -0.52226571\\\\\n",
       "\\end{bmatrix} = \n",
       "\\begin{bmatrix}\n",
       "  1 & 1\\\\\n",
       "\\end{bmatrix} \\cdot \n",
       "\\begin{bmatrix}\n",
       "  -4.76927373 & 2.41984064\\\\\n",
       "  3.18194674 & -2.00910527\\\\\n",
       "\\end{bmatrix} + \n",
       "\\begin{bmatrix}\n",
       "  -2.99147591 & -0.93300108\\\\\n",
       "\\end{bmatrix}\\end{gather}"
      ],
      "text/plain": [
       "<IPython.core.display.Latex object>"
      ]
     },
     "metadata": {},
     "output_type": "display_data"
    },
    {
     "data": {
      "text/latex": [
       "Camada: 1"
      ],
      "text/plain": [
       "<IPython.core.display.Latex object>"
      ]
     },
     "metadata": {},
     "output_type": "display_data"
    },
    {
     "data": {
      "text/latex": [
       "Y = \\sigma(X)"
      ],
      "text/plain": [
       "<IPython.core.display.Latex object>"
      ]
     },
     "metadata": {},
     "output_type": "display_data"
    },
    {
     "data": {
      "text/latex": [
       "\\begin{gather}\n",
       "\\begin{bmatrix}\n",
       "  0.01016284 & 0.37232259\\\\\n",
       "\\end{bmatrix} = \\sigma(\n",
       "\\begin{bmatrix}\n",
       "  -4.5788029 & -0.52226571\\\\\n",
       "\\end{bmatrix}) \\end{gather}"
      ],
      "text/plain": [
       "<IPython.core.display.Latex object>"
      ]
     },
     "metadata": {},
     "output_type": "display_data"
    },
    {
     "data": {
      "text/latex": [
       "Camada: 2"
      ],
      "text/plain": [
       "<IPython.core.display.Latex object>"
      ]
     },
     "metadata": {},
     "output_type": "display_data"
    },
    {
     "data": {
      "text/latex": [
       "Y = Xw + b"
      ],
      "text/plain": [
       "<IPython.core.display.Latex object>"
      ]
     },
     "metadata": {},
     "output_type": "display_data"
    },
    {
     "data": {
      "text/latex": [
       "\\begin{gather}\n",
       "\\begin{bmatrix}\n",
       "  0.10821689\\\\\n",
       "\\end{bmatrix} = \n",
       "\\begin{bmatrix}\n",
       "  0.01016284 & 0.37232259\\\\\n",
       "\\end{bmatrix} \\cdot \n",
       "\\begin{bmatrix}\n",
       "  2.87970549\\\\\n",
       "  2.06319875\\\\\n",
       "\\end{bmatrix} + \n",
       "\\begin{bmatrix}\n",
       "  -0.68922459\\\\\n",
       "\\end{bmatrix}\\end{gather}"
      ],
      "text/plain": [
       "<IPython.core.display.Latex object>"
      ]
     },
     "metadata": {},
     "output_type": "display_data"
    },
    {
     "data": {
      "text/latex": [
       "f_{custo}(\n",
       "\\begin{bmatrix}\n",
       "  0\\\\\n",
       "\\end{bmatrix},\n",
       "\\begin{bmatrix}\n",
       "  0.10821689\\\\\n",
       "\\end{bmatrix}) = \n",
       "\\begin{bmatrix}\n",
       "  0.011710894530832926\\\\\n",
       "\\end{bmatrix}"
      ],
      "text/plain": [
       "<IPython.core.display.Latex object>"
      ]
     },
     "metadata": {},
     "output_type": "display_data"
    },
    {
     "data": {
      "text/latex": [
       "\\nabla = \\frac{\\partial E}{\\partial Y} = \n",
       "\\begin{bmatrix}\n",
       "  0.21643377\\\\\n",
       "\\end{bmatrix}"
      ],
      "text/plain": [
       "<IPython.core.display.Latex object>"
      ]
     },
     "metadata": {},
     "output_type": "display_data"
    },
    {
     "data": {
      "text/latex": [
       "Camada: 2"
      ],
      "text/plain": [
       "<IPython.core.display.Latex object>"
      ]
     },
     "metadata": {},
     "output_type": "display_data"
    },
    {
     "data": {
      "text/latex": [
       "\\nabla f_{custo} = \\frac{\\partial E}{\\partial W}"
      ],
      "text/plain": [
       "<IPython.core.display.Latex object>"
      ]
     },
     "metadata": {},
     "output_type": "display_data"
    },
    {
     "data": {
      "text/latex": [
       "\n",
       "\\begin{bmatrix}\n",
       "  0.62326552 & 0.44654589\\\\\n",
       "\\end{bmatrix} = \n",
       "\\begin{bmatrix}\n",
       "  0.21643377\\\\\n",
       "\\end{bmatrix} \\cdot \n",
       "\\begin{bmatrix}\n",
       "  2.87970549 & 2.06319875\\\\\n",
       "\\end{bmatrix}"
      ],
      "text/plain": [
       "<IPython.core.display.Latex object>"
      ]
     },
     "metadata": {},
     "output_type": "display_data"
    },
    {
     "data": {
      "text/latex": [
       "W = W - \\lambda (X \\cdot \\nabla f_{custo})"
      ],
      "text/plain": [
       "<IPython.core.display.Latex object>"
      ]
     },
     "metadata": {},
     "output_type": "display_data"
    },
    {
     "data": {
      "text/latex": [
       "\\begin{gather}\n",
       "\\begin{bmatrix}\n",
       "  2.8786057\\\\\n",
       "  2.02290716\\\\\n",
       "\\end{bmatrix} = \n",
       "\\begin{bmatrix}\n",
       "  2.87970549\\\\\n",
       "  2.06319875\\\\\n",
       "\\end{bmatrix} - 0.5\n",
       "\\begin{bmatrix}\n",
       "  0.01016284\\\\\n",
       "  0.37232259\\\\\n",
       "\\end{bmatrix} \\cdot \n",
       "\\begin{bmatrix}\n",
       "  0.21643377\\\\\n",
       "\\end{bmatrix}\\end{gather}"
      ],
      "text/plain": [
       "<IPython.core.display.Latex object>"
      ]
     },
     "metadata": {},
     "output_type": "display_data"
    },
    {
     "data": {
      "text/latex": [
       "Camada: 1"
      ],
      "text/plain": [
       "<IPython.core.display.Latex object>"
      ]
     },
     "metadata": {},
     "output_type": "display_data"
    },
    {
     "data": {
      "text/latex": [
       "\\nabla = \\frac{\\partial E}{\\partial Y} \\frac{\\partial Y}{\\partial X}"
      ],
      "text/plain": [
       "<IPython.core.display.Latex object>"
      ]
     },
     "metadata": {},
     "output_type": "display_data"
    },
    {
     "data": {
      "text/latex": [
       "\\begin{gather}\n",
       "\\begin{bmatrix}\n",
       "  0.00626977 & 0.1043571\\\\\n",
       "\\end{bmatrix} = \n",
       "\\begin{bmatrix}\n",
       "  0.62326552 & 0.44654589\\\\\n",
       "\\end{bmatrix} \\cdot  \\sigma^{'}(\n",
       "\\begin{bmatrix}\n",
       "  -4.5788029 & -0.52226571\\\\\n",
       "\\end{bmatrix}) \\end{gather}"
      ],
      "text/plain": [
       "<IPython.core.display.Latex object>"
      ]
     },
     "metadata": {},
     "output_type": "display_data"
    },
    {
     "data": {
      "text/latex": [
       "Camada: 0"
      ],
      "text/plain": [
       "<IPython.core.display.Latex object>"
      ]
     },
     "metadata": {},
     "output_type": "display_data"
    },
    {
     "data": {
      "text/latex": [
       "\\nabla f_{custo} = \\frac{\\partial E}{\\partial W}"
      ],
      "text/plain": [
       "<IPython.core.display.Latex object>"
      ]
     },
     "metadata": {},
     "output_type": "display_data"
    },
    {
     "data": {
      "text/latex": [
       "\n",
       "\\begin{bmatrix}\n",
       "  0.22262528 & -0.18971431\\\\\n",
       "\\end{bmatrix} = \n",
       "\\begin{bmatrix}\n",
       "  0.00626977 & 0.1043571\\\\\n",
       "\\end{bmatrix} \\cdot \n",
       "\\begin{bmatrix}\n",
       "  -4.76927373 & 3.18194674\\\\\n",
       "  2.41984064 & -2.00910527\\\\\n",
       "\\end{bmatrix}"
      ],
      "text/plain": [
       "<IPython.core.display.Latex object>"
      ]
     },
     "metadata": {},
     "output_type": "display_data"
    },
    {
     "data": {
      "text/latex": [
       "W = W - \\lambda (X \\cdot \\nabla f_{custo})"
      ],
      "text/plain": [
       "<IPython.core.display.Latex object>"
      ]
     },
     "metadata": {},
     "output_type": "display_data"
    },
    {
     "data": {
      "text/latex": [
       "\\begin{gather}\n",
       "\\begin{bmatrix}\n",
       "  -4.77240862 & 2.3676621\\\\\n",
       "  3.17881186 & -2.06128382\\\\\n",
       "\\end{bmatrix} = \n",
       "\\begin{bmatrix}\n",
       "  -4.76927373 & 2.41984064\\\\\n",
       "  3.18194674 & -2.00910527\\\\\n",
       "\\end{bmatrix} - 0.5\n",
       "\\begin{bmatrix}\n",
       "  1\\\\\n",
       "  1\\\\\n",
       "\\end{bmatrix} \\cdot \n",
       "\\begin{bmatrix}\n",
       "  0.00626977 & 0.1043571\\\\\n",
       "\\end{bmatrix}\\end{gather}"
      ],
      "text/plain": [
       "<IPython.core.display.Latex object>"
      ]
     },
     "metadata": {},
     "output_type": "display_data"
    }
   ],
   "source": [
    "from IPython.display import Latex\n",
    "\n",
    "rede_exemplo_XOR.treinar(\n",
    "    vetor_x_exemplo_XOR,\n",
    "    vetor_y_esperado_exemplo_XOR,\n",
    "    max_n_iteracoes=1000,\n",
    "    taxa_aprendizado=0.5,\n",
    ")\n",
    "\n",
    "\n",
    "for iteracao_log in rede_exemplo_XOR.logs[0:1]:\n",
    "    for log in iteracao_log:\n",
    "        display(Latex(log))\n",
    "\n",
    "display(Latex(r'Última \\quad iteração:'))\n",
    "\n",
    "for log in rede_exemplo_XOR.logs[-1]:\n",
    "    display(Latex(log))"
   ]
  },
  {
   "cell_type": "markdown",
   "metadata": {},
   "source": [
    "### Validação"
   ]
  },
  {
   "cell_type": "code",
   "execution_count": 39,
   "metadata": {},
   "outputs": [
    {
     "data": {
      "text/latex": [
       "\\begin{gather}X=\n",
       "\\begin{bmatrix}\n",
       "  0 & 0\\\\\n",
       "  0 & 1\\\\\n",
       "  1 & 0\\\\\n",
       "  1 & 1\\\\\n",
       "\\end{bmatrix}\\rightarrow\n",
       "\\begin{bmatrix}\n",
       "  -0.11026038\\\\\n",
       "  0.86582849\\\\\n",
       "  0.82086756\\\\\n",
       "  -0.08769108\\\\\n",
       "\\end{bmatrix}\\end{gather}"
      ],
      "text/plain": [
       "<IPython.core.display.Latex object>"
      ]
     },
     "execution_count": 39,
     "metadata": {},
     "output_type": "execute_result"
    }
   ],
   "source": [
    "from utils import array_to_latex\n",
    "from IPython.display import Latex\n",
    "\n",
    "validacao_exemplo_XOR = rede_exemplo_XOR.predict(vetor_x_exemplo_XOR)\n",
    "validacao_exemplo_XOR = np.asarray(validacao_exemplo_XOR) \\\n",
    "                          .reshape(4, 1)\n",
    "\n",
    "Latex(r'\\begin{gather}' +\n",
    "      array_to_latex(vetor_x_exemplo_XOR.reshape(4,2), 'X=') +\n",
    "      r'\\rightarrow' +\n",
    "      array_to_latex(validacao_exemplo_XOR, '') +\n",
    "      r'\\end{gather}')"
   ]
  },
  {
   "cell_type": "markdown",
   "metadata": {},
   "source": [
    "## Exemplo: Display de 7 Segmentos\n",
    "\n",
    "### Entradas e Saídas Esperadas"
   ]
  },
  {
   "cell_type": "code",
   "execution_count": 40,
   "metadata": {},
   "outputs": [
    {
     "data": {
      "text/html": [
       "<div>\n",
       "<style scoped>\n",
       "    .dataframe tbody tr th:only-of-type {\n",
       "        vertical-align: middle;\n",
       "    }\n",
       "\n",
       "    .dataframe tbody tr th {\n",
       "        vertical-align: top;\n",
       "    }\n",
       "\n",
       "    .dataframe thead th {\n",
       "        text-align: right;\n",
       "    }\n",
       "</style>\n",
       "<table border=\"1\" class=\"dataframe\">\n",
       "  <thead>\n",
       "    <tr style=\"text-align: right;\">\n",
       "      <th></th>\n",
       "      <th>A</th>\n",
       "      <th>B</th>\n",
       "      <th>C</th>\n",
       "      <th>D</th>\n",
       "      <th>E</th>\n",
       "      <th>F</th>\n",
       "      <th>G</th>\n",
       "    </tr>\n",
       "  </thead>\n",
       "  <tbody>\n",
       "    <tr>\n",
       "      <th>0</th>\n",
       "      <td>1</td>\n",
       "      <td>1</td>\n",
       "      <td>1</td>\n",
       "      <td>1</td>\n",
       "      <td>1</td>\n",
       "      <td>1</td>\n",
       "      <td>0</td>\n",
       "    </tr>\n",
       "    <tr>\n",
       "      <th>1</th>\n",
       "      <td>0</td>\n",
       "      <td>1</td>\n",
       "      <td>1</td>\n",
       "      <td>0</td>\n",
       "      <td>0</td>\n",
       "      <td>0</td>\n",
       "      <td>0</td>\n",
       "    </tr>\n",
       "    <tr>\n",
       "      <th>2</th>\n",
       "      <td>1</td>\n",
       "      <td>1</td>\n",
       "      <td>0</td>\n",
       "      <td>1</td>\n",
       "      <td>1</td>\n",
       "      <td>0</td>\n",
       "      <td>1</td>\n",
       "    </tr>\n",
       "    <tr>\n",
       "      <th>3</th>\n",
       "      <td>1</td>\n",
       "      <td>1</td>\n",
       "      <td>1</td>\n",
       "      <td>1</td>\n",
       "      <td>0</td>\n",
       "      <td>0</td>\n",
       "      <td>1</td>\n",
       "    </tr>\n",
       "    <tr>\n",
       "      <th>4</th>\n",
       "      <td>0</td>\n",
       "      <td>1</td>\n",
       "      <td>1</td>\n",
       "      <td>0</td>\n",
       "      <td>0</td>\n",
       "      <td>1</td>\n",
       "      <td>1</td>\n",
       "    </tr>\n",
       "    <tr>\n",
       "      <th>5</th>\n",
       "      <td>1</td>\n",
       "      <td>0</td>\n",
       "      <td>1</td>\n",
       "      <td>1</td>\n",
       "      <td>0</td>\n",
       "      <td>1</td>\n",
       "      <td>1</td>\n",
       "    </tr>\n",
       "    <tr>\n",
       "      <th>6</th>\n",
       "      <td>0</td>\n",
       "      <td>0</td>\n",
       "      <td>1</td>\n",
       "      <td>1</td>\n",
       "      <td>1</td>\n",
       "      <td>1</td>\n",
       "      <td>1</td>\n",
       "    </tr>\n",
       "    <tr>\n",
       "      <th>7</th>\n",
       "      <td>1</td>\n",
       "      <td>1</td>\n",
       "      <td>1</td>\n",
       "      <td>0</td>\n",
       "      <td>0</td>\n",
       "      <td>0</td>\n",
       "      <td>0</td>\n",
       "    </tr>\n",
       "    <tr>\n",
       "      <th>8</th>\n",
       "      <td>1</td>\n",
       "      <td>1</td>\n",
       "      <td>1</td>\n",
       "      <td>1</td>\n",
       "      <td>1</td>\n",
       "      <td>1</td>\n",
       "      <td>1</td>\n",
       "    </tr>\n",
       "    <tr>\n",
       "      <th>9</th>\n",
       "      <td>1</td>\n",
       "      <td>1</td>\n",
       "      <td>0</td>\n",
       "      <td>0</td>\n",
       "      <td>1</td>\n",
       "      <td>1</td>\n",
       "      <td>1</td>\n",
       "    </tr>\n",
       "  </tbody>\n",
       "</table>\n",
       "</div>"
      ],
      "text/plain": [
       "   A  B  C  D  E  F  G\n",
       "0  1  1  1  1  1  1  0\n",
       "1  0  1  1  0  0  0  0\n",
       "2  1  1  0  1  1  0  1\n",
       "3  1  1  1  1  0  0  1\n",
       "4  0  1  1  0  0  1  1\n",
       "5  1  0  1  1  0  1  1\n",
       "6  0  0  1  1  1  1  1\n",
       "7  1  1  1  0  0  0  0\n",
       "8  1  1  1  1  1  1  1\n",
       "9  1  1  0  0  1  1  1"
      ]
     },
     "metadata": {},
     "output_type": "display_data"
    },
    {
     "data": {
      "text/latex": [
       "\\begin{gather}Y_{esperado}=\n",
       "\\begin{bmatrix}\n",
       "  1 & 0 & 0 & 0 & 0 & 0 & 0 & 0 & 0 & 0\\\\\n",
       "  0 & 1 & 0 & 0 & 0 & 0 & 0 & 0 & 0 & 0\\\\\n",
       "  0 & 0 & 1 & 0 & 0 & 0 & 0 & 0 & 0 & 0\\\\\n",
       "  0 & 0 & 0 & 1 & 0 & 0 & 0 & 0 & 0 & 0\\\\\n",
       "  0 & 0 & 0 & 0 & 1 & 0 & 0 & 0 & 0 & 0\\\\\n",
       "  0 & 0 & 0 & 0 & 0 & 1 & 0 & 0 & 0 & 0\\\\\n",
       "  0 & 0 & 0 & 0 & 0 & 0 & 1 & 0 & 0 & 0\\\\\n",
       "  0 & 0 & 0 & 0 & 0 & 0 & 0 & 1 & 0 & 0\\\\\n",
       "  0 & 0 & 0 & 0 & 0 & 0 & 0 & 0 & 1 & 0\\\\\n",
       "  0 & 0 & 0 & 0 & 0 & 0 & 0 & 0 & 0 & 1\\\\\n",
       "\\end{bmatrix}\\end{gather}"
      ],
      "text/plain": [
       "<IPython.core.display.Latex object>"
      ]
     },
     "execution_count": 40,
     "metadata": {},
     "output_type": "execute_result"
    }
   ],
   "source": [
    "import pandas as pd\n",
    "from IPython.display import display, Latex\n",
    "\n",
    "segmentos = ['A', 'B', 'C', 'D', 'E', 'F', 'G']\n",
    "\n",
    "tabela_segmentos_digitos = pd.DataFrame([\n",
    "    #A, B, C, D, E, F, G\n",
    "    [1, 1, 1, 1, 1, 1, 0],\n",
    "    [0, 1, 1, 0, 0, 0, 0],\n",
    "    [1, 1, 0, 1, 1, 0, 1],\n",
    "    [1, 1, 1, 1, 0, 0, 1],\n",
    "    [0, 1, 1, 0, 0, 1, 1],\n",
    "    [1, 0, 1, 1, 0, 1, 1],\n",
    "    [0, 0, 1, 1, 1, 1, 1],\n",
    "    [1, 1, 1, 0, 0, 0, 0],\n",
    "    [1, 1, 1, 1, 1, 1, 1],\n",
    "    [1, 1, 0, 0, 1, 1, 1],\n",
    "], columns=segmentos)\n",
    "\n",
    "display(tabela_segmentos_digitos)\n",
    "\n",
    "vetor_y_esperado_exemplo_segmentos = np.array(\n",
    "    [\n",
    "        [[1, 0, 0, 0, 0, 0, 0, 0, 0, 0]],\n",
    "        [[0, 1, 0, 0, 0, 0, 0, 0, 0, 0]],\n",
    "        [[0, 0, 1, 0, 0, 0, 0, 0, 0, 0]],\n",
    "        [[0, 0, 0, 1, 0, 0, 0, 0, 0, 0]],\n",
    "        [[0, 0, 0, 0, 1, 0, 0, 0, 0, 0]],\n",
    "        [[0, 0, 0, 0, 0, 1, 0, 0, 0, 0]],\n",
    "        [[0, 0, 0, 0, 0, 0, 1, 0, 0, 0]],\n",
    "        [[0, 0, 0, 0, 0, 0, 0, 1, 0, 0]],\n",
    "        [[0, 0, 0, 0, 0, 0, 0, 0, 1, 0]],\n",
    "        [[0, 0, 0, 0, 0, 0, 0, 0, 0, 1]],\n",
    "    ]\n",
    ")\n",
    "\n",
    "Latex(r\"\\begin{gather}\" +\n",
    "      array_to_latex(vetor_y_esperado_exemplo_segmentos.reshape(10, 10), r\"Y_{esperado}=\") +\n",
    "      r\"\\end{gather}\")"
   ]
  },
  {
   "cell_type": "markdown",
   "metadata": {},
   "source": [
    "### Rede"
   ]
  },
  {
   "cell_type": "code",
   "execution_count": 41,
   "metadata": {},
   "outputs": [],
   "source": [
    "vetor_x_exemplo_segmentos = tabela_segmentos_digitos.values.reshape((10, 1, 7))\n",
    "\n",
    "rede_exemplo_display = RedeNeural(erro_quadratico_medio, derivada_erro_quadratico_medio)\n",
    "rede_exemplo_display.add(FCLayer(7, 14))\n",
    "rede_exemplo_display.add(ActivationLayer(sigmoide, derivada_sigmoide))\n",
    "rede_exemplo_display.add(FCLayer(14, 10))\n"
   ]
  },
  {
   "cell_type": "markdown",
   "metadata": {},
   "source": [
    "### Treinamento"
   ]
  },
  {
   "cell_type": "code",
   "execution_count": 42,
   "metadata": {},
   "outputs": [
    {
     "name": "stdout",
     "output_type": "stream",
     "text": [
      "Iteração 1/1000   MédiaErro=7.651644\n",
      "Iteração 2/1000   MédiaErro=0.161469\n",
      "Iteração 3/1000   MédiaErro=0.148037\n",
      "Iteração 4/1000   MédiaErro=0.137577\n",
      "Iteração 5/1000   MédiaErro=0.129097\n",
      "Iteração 10/1000   MédiaErro=0.102132\n",
      "Iteração 100/1000   MédiaErro=0.037707\n",
      "Iteração 279/1000 MédiaErro=0.009898\n"
     ]
    },
    {
     "data": {
      "text/latex": [
       "Camada: 0"
      ],
      "text/plain": [
       "<IPython.core.display.Latex object>"
      ]
     },
     "metadata": {},
     "output_type": "display_data"
    },
    {
     "data": {
      "text/latex": [
       "Y = Xw + b"
      ],
      "text/plain": [
       "<IPython.core.display.Latex object>"
      ]
     },
     "metadata": {},
     "output_type": "display_data"
    },
    {
     "data": {
      "text/latex": [
       "\\begin{gather}\n",
       "\\begin{bmatrix}\n",
       "  2.81524364 & 2.75437914 & 3.6510445 & 3.10106021 & 3.46249862 & 4.77411245\\\\\n",
       "  1.4933472 & 2.69472537 & 4.05938016 & 2.14954532 & 3.00925879 & 2.5990776\\\\\n",
       "  2.22406337 & 3.84518698\\\\\n",
       "\\end{bmatrix} = \n",
       "\\begin{bmatrix}\n",
       "  1 & 1 & 1 & 1 & 1 & 1 & 0\\\\\n",
       "\\end{bmatrix} \\cdot \n",
       "\\begin{bmatrix}\n",
       "  3.25878968e-01 & 3.71880999e-02 & 9.66167745e-01 & 1.33880102e-01\\\\\n",
       "  7.21641494e-01 & 2.83612039e-01 & 1.70363023e-01 & 1.10265095e-01\\\\\n",
       "  2.93983365e-01 & 1.48066542e-02 & 1.50237243e-01 & 7.99576754e-01\\\\\n",
       "  3.54049597e-02 & 2.02845608e-02\\\\\n",
       "  1.70592816e-01 & 9.19582618e-01 & 6.44188392e-01 & 7.75589778e-01\\\\\n",
       "  4.98036978e-01 & 6.97094457e-01 & 2.98633614e-02 & 7.67132369e-01\\\\\n",
       "  2.17307542e-02 & 8.15270318e-01 & 7.48830768e-01 & 5.28232696e-01\\\\\n",
       "  1.27591514e-01 & 1.51367683e-01\\\\\n",
       "  5.83946119e-01 & 5.96342458e-01 & 8.80224134e-01 & 8.00159650e-01\\\\\n",
       "  6.43603667e-01 & 8.41024830e-01 & 8.34587401e-05 & 8.66112229e-02\\\\\n",
       "  5.30361950e-01 & 6.76252820e-01 & 2.35962529e-02 & 3.55014744e-01\\\\\n",
       "  3.18315410e-01 & 6.69451980e-01\\\\\n",
       "  3.15434735e-01 & 2.93269580e-01 & 2.82268927e-01 & 5.14256264e-01\\\\\n",
       "  2.41700576e-01 & 4.24795905e-01 & 5.21222423e-01 & 5.63598046e-01\\\\\n",
       "  7.66417008e-01 & 7.69413596e-02 & 9.01353207e-01 & 2.45276980e-01\\\\\n",
       "  3.79572418e-01 & 6.81987430e-01\\\\\n",
       "  6.59347329e-01 & 1.82419847e-01 & 8.93158608e-02 & 3.57646499e-01\\\\\n",
       "  1.57068030e-01 & 7.99294046e-01 & 2.86666262e-01 & 1.09145743e-01\\\\\n",
       "  9.94057930e-01 & 1.16017610e-01 & 5.14422125e-02 & 2.83701883e-01\\\\\n",
       "  7.47104384e-01 & 7.55443196e-01\\\\\n",
       "  6.69964125e-02 & 5.86993816e-01 & 1.75676477e-01 & 4.47345137e-01\\\\\n",
       "  8.33220459e-01 & 7.53918497e-01 & 2.17481149e-02 & 9.40726501e-01\\\\\n",
       "  7.04671673e-01 & 2.48747305e-01 & 2.26731933e-01 & 3.37199548e-01\\\\\n",
       "  5.71699462e-01 & 7.16454902e-01\\\\\n",
       "  8.88527271e-01 & 7.06469498e-01 & 5.14123828e-01 & 7.72179521e-01\\\\\n",
       "  4.72411216e-01 & 7.09545014e-02 & 8.75891826e-01 & 1.98437059e-02\\\\\n",
       "  5.60937120e-01 & 3.53315166e-01 & 1.75338454e-02 & 8.94723079e-01\\\\\n",
       "  2.18466082e-02 & 2.67227283e-01\\\\\n",
       "\\end{bmatrix} + \n",
       "\\begin{bmatrix}\n",
       "  0.69304726 & 0.13858272 & 0.61320297 & 0.07218278 & 0.36722742 & 0.97437268\\\\\n",
       "  0.46340056 & 0.11724639 & 0.74815748 & 0.20150925 & 0.90706717 & 0.050075\\\\\n",
       "  0.04437522 & 0.85019723\\\\\n",
       "\\end{bmatrix}\\end{gather}"
      ],
      "text/plain": [
       "<IPython.core.display.Latex object>"
      ]
     },
     "metadata": {},
     "output_type": "display_data"
    },
    {
     "data": {
      "text/latex": [
       "Camada: 1"
      ],
      "text/plain": [
       "<IPython.core.display.Latex object>"
      ]
     },
     "metadata": {},
     "output_type": "display_data"
    },
    {
     "data": {
      "text/latex": [
       "Y = \\sigma(X)"
      ],
      "text/plain": [
       "<IPython.core.display.Latex object>"
      ]
     },
     "metadata": {},
     "output_type": "display_data"
    },
    {
     "data": {
      "text/latex": [
       "\\begin{gather}\n",
       "\\begin{bmatrix}\n",
       "  0.94349402 & 0.94016019 & 0.97469307 & 0.95693646 & 0.9696017 & 0.99162515\\\\\n",
       "  0.81658014 & 0.93671468 & 0.98303313 & 0.89562628 & 0.95299066 & 0.93080219\\\\\n",
       "  0.90238969 & 0.97906523\\\\\n",
       "\\end{bmatrix} = \\sigma(\n",
       "\\begin{bmatrix}\n",
       "  2.81524364 & 2.75437914 & 3.6510445 & 3.10106021 & 3.46249862 & 4.77411245\\\\\n",
       "  1.4933472 & 2.69472537 & 4.05938016 & 2.14954532 & 3.00925879 & 2.5990776\\\\\n",
       "  2.22406337 & 3.84518698\\\\\n",
       "\\end{bmatrix}) \\end{gather}"
      ],
      "text/plain": [
       "<IPython.core.display.Latex object>"
      ]
     },
     "metadata": {},
     "output_type": "display_data"
    },
    {
     "data": {
      "text/latex": [
       "Camada: 2"
      ],
      "text/plain": [
       "<IPython.core.display.Latex object>"
      ]
     },
     "metadata": {},
     "output_type": "display_data"
    },
    {
     "data": {
      "text/latex": [
       "Y = Xw + b"
      ],
      "text/plain": [
       "<IPython.core.display.Latex object>"
      ]
     },
     "metadata": {},
     "output_type": "display_data"
    },
    {
     "data": {
      "text/latex": [
       "\\begin{gather}\n",
       "\\begin{bmatrix}\n",
       "  8.15081779 & 6.44588995 & 6.66021415 & 8.21458 & 7.29019475 & 9.04614833\\\\\n",
       "  5.03516719 & 5.29733942 & 7.25683648 & 9.62239149\\\\\n",
       "\\end{bmatrix} = \n",
       "\\begin{bmatrix}\n",
       "  0.94349402 & 0.94016019 & 0.97469307 & 0.95693646 & 0.9696017 & 0.99162515\\\\\n",
       "  0.81658014 & 0.93671468 & 0.98303313 & 0.89562628 & 0.95299066 & 0.93080219\\\\\n",
       "  0.90238969 & 0.97906523\\\\\n",
       "\\end{bmatrix} \\cdot \n",
       "\\begin{bmatrix}\n",
       "  0.28041083 & 0.99489038 & 0.81606097 & 0.83402864 & 0.06550143 & 0.24602721\\\\\n",
       "  0.15994033 & 0.58487352 & 0.35336626 & 0.58695922\\\\\n",
       "  0.87298554 & 0.41917402 & 0.347111 & 0.31089761 & 0.72714635 & 0.4469646\\\\\n",
       "  0.01738287 & 0.50687127 & 0.96840088 & 0.99208803\\\\\n",
       "  0.30433546 & 0.01008786 & 0.16504189 & 0.08653081 & 0.01801046 & 0.99417201\\\\\n",
       "  0.5006319 & 0.04036774 & 0.84952597 & 0.3033204\\\\\n",
       "  0.87745565 & 0.00479207 & 0.03752193 & 0.8349342 & 0.49795714 & 0.61641311\\\\\n",
       "  0.56359017 & 0.10712685 & 0.52914611 & 0.92112604\\\\\n",
       "  0.11077823 & 0.95384955 & 0.20910431 & 0.81232477 & 0.15123807 & 0.51319056\\\\\n",
       "  0.42620082 & 0.88521288 & 0.04688842 & 0.70332526\\\\\n",
       "  0.81403661 & 0.29640139 & 0.77332531 & 0.58507731 & 0.15856516 & 0.90617757\\\\\n",
       "  0.23437116 & 0.0110908 & 0.91437838 & 0.69961814\\\\\n",
       "  0.39258272 & 0.60780028 & 0.88647061 & 0.61869809 & 0.99099254 & 0.16429991\\\\\n",
       "  0.35491295 & 0.97010622 & 0.00462825 & 0.44009474\\\\\n",
       "  0.15757418 & 0.18800025 & 0.21875721 & 0.59673374 & 0.64488736 & 0.4943328\\\\\n",
       "  0.0582543 & 0.60538136 & 0.93408865 & 0.88986363\\\\\n",
       "  0.70956496 & 0.27619929 & 0.34979364 & 0.85178723 & 0.74954846 & 0.64101412\\\\\n",
       "  0.71177993 & 0.14621911 & 0.17875983 & 0.27275531\\\\\n",
       "  0.91160267 & 0.29791731 & 0.1971322 & 0.65323896 & 0.70716026 & 0.37914893\\\\\n",
       "  0.05084511 & 0.02217095 & 0.55144832 & 0.71547287\\\\\n",
       "  0.21184128 & 0.09766297 & 0.86452147 & 0.74652162 & 0.6795377 & 0.77571401\\\\\n",
       "  0.73363905 & 0.38896034 & 0.33758941 & 0.95879763\\\\\n",
       "  0.96371028 & 0.07592243 & 0.85500092 & 0.37806609 & 0.45458723 & 0.86293095\\\\\n",
       "  0.14540237 & 0.23945655 & 0.40877124 & 0.8314702\\\\\n",
       "  0.36865623 & 0.92917686 & 0.30063175 & 0.30243378 & 0.86311351 & 0.99304678\\\\\n",
       "  0.51556465 & 0.30535609 & 0.05647111 & 0.59161788\\\\\n",
       "  0.83605957 & 0.86145037 & 0.43992662 & 0.84553863 & 0.97971931 & 0.49955799\\\\\n",
       "  0.69560414 & 0.68831263 & 0.7989287 & 0.31844051\\\\\n",
       "\\end{bmatrix} + \n",
       "\\begin{bmatrix}\n",
       "  0.78227938 & 0.82354236 & 0.62663317 & 0.23359425 & 0.15453431 & 0.9441372\\\\\n",
       "  0.1245879 & 0.19196337 & 0.64267627 & 0.94792147\\\\\n",
       "\\end{bmatrix}\\end{gather}"
      ],
      "text/plain": [
       "<IPython.core.display.Latex object>"
      ]
     },
     "metadata": {},
     "output_type": "display_data"
    },
    {
     "data": {
      "text/latex": [
       "f_{custo}(\n",
       "\\begin{bmatrix}\n",
       "  1 & 0 & 0 & 0 & 0 & 0 & 0 & 0 & 0 & 0\\\\\n",
       "\\end{bmatrix},\n",
       "\\begin{bmatrix}\n",
       "  8.15081779 & 6.44588995 & 6.66021415 & 8.21458 & 7.29019475 & 9.04614833\\\\\n",
       "  5.03516719 & 5.29733942 & 7.25683648 & 9.62239149\\\\\n",
       "\\end{bmatrix}) = \n",
       "\\begin{bmatrix}\n",
       "  53.816801602487736\\\\\n",
       "\\end{bmatrix}"
      ],
      "text/plain": [
       "<IPython.core.display.Latex object>"
      ]
     },
     "metadata": {},
     "output_type": "display_data"
    },
    {
     "data": {
      "text/latex": [
       "\\nabla = \\frac{\\partial E}{\\partial Y} = \n",
       "\\begin{bmatrix}\n",
       "  1.43016356 & 1.28917799 & 1.33204283 & 1.642916 & 1.45803895 & 1.80922967\\\\\n",
       "  1.00703344 & 1.05946788 & 1.4513673 & 1.9244783\\\\\n",
       "\\end{bmatrix}"
      ],
      "text/plain": [
       "<IPython.core.display.Latex object>"
      ]
     },
     "metadata": {},
     "output_type": "display_data"
    },
    {
     "data": {
      "text/latex": [
       "Camada: 2"
      ],
      "text/plain": [
       "<IPython.core.display.Latex object>"
      ]
     },
     "metadata": {},
     "output_type": "display_data"
    },
    {
     "data": {
      "text/latex": [
       "\\nabla f_{custo} = \\frac{\\partial E}{\\partial W}"
      ],
      "text/plain": [
       "<IPython.core.display.Latex object>"
      ]
     },
     "metadata": {},
     "output_type": "display_data"
    },
    {
     "data": {
      "text/latex": [
       "\n",
       "\\begin{bmatrix}\n",
       "  7.10468914 & 8.50019294 & 4.99883484 & 7.74578832 & 6.93886032 & 8.32960123\\\\\n",
       "  7.5233437 & 7.34240757 & 7.14489005 & 6.99260753 & 8.68720331 & 8.05376082\\\\\n",
       "  7.74076543 & 9.81581148\\\\\n",
       "\\end{bmatrix} = \n",
       "\\begin{bmatrix}\n",
       "  1.43016356 & 1.28917799 & 1.33204283 & 1.642916 & 1.45803895 & 1.80922967\\\\\n",
       "  1.00703344 & 1.05946788 & 1.4513673 & 1.9244783\\\\\n",
       "\\end{bmatrix} \\cdot \n",
       "\\begin{bmatrix}\n",
       "  0.28041083 & 0.87298554 & 0.30433546 & 0.87745565 & 0.11077823 & 0.81403661\\\\\n",
       "  0.39258272 & 0.15757418 & 0.70956496 & 0.91160267 & 0.21184128 & 0.96371028\\\\\n",
       "  0.36865623 & 0.83605957\\\\\n",
       "  0.99489038 & 0.41917402 & 0.01008786 & 0.00479207 & 0.95384955 & 0.29640139\\\\\n",
       "  0.60780028 & 0.18800025 & 0.27619929 & 0.29791731 & 0.09766297 & 0.07592243\\\\\n",
       "  0.92917686 & 0.86145037\\\\\n",
       "  0.81606097 & 0.347111 & 0.16504189 & 0.03752193 & 0.20910431 & 0.77332531\\\\\n",
       "  0.88647061 & 0.21875721 & 0.34979364 & 0.1971322 & 0.86452147 & 0.85500092\\\\\n",
       "  0.30063175 & 0.43992662\\\\\n",
       "  0.83402864 & 0.31089761 & 0.08653081 & 0.8349342 & 0.81232477 & 0.58507731\\\\\n",
       "  0.61869809 & 0.59673374 & 0.85178723 & 0.65323896 & 0.74652162 & 0.37806609\\\\\n",
       "  0.30243378 & 0.84553863\\\\\n",
       "  0.06550143 & 0.72714635 & 0.01801046 & 0.49795714 & 0.15123807 & 0.15856516\\\\\n",
       "  0.99099254 & 0.64488736 & 0.74954846 & 0.70716026 & 0.6795377 & 0.45458723\\\\\n",
       "  0.86311351 & 0.97971931\\\\\n",
       "  0.24602721 & 0.4469646 & 0.99417201 & 0.61641311 & 0.51319056 & 0.90617757\\\\\n",
       "  0.16429991 & 0.4943328 & 0.64101412 & 0.37914893 & 0.77571401 & 0.86293095\\\\\n",
       "  0.99304678 & 0.49955799\\\\\n",
       "  0.15994033 & 0.01738287 & 0.5006319 & 0.56359017 & 0.42620082 & 0.23437116\\\\\n",
       "  0.35491295 & 0.0582543 & 0.71177993 & 0.05084511 & 0.73363905 & 0.14540237\\\\\n",
       "  0.51556465 & 0.69560414\\\\\n",
       "  0.58487352 & 0.50687127 & 0.04036774 & 0.10712685 & 0.88521288 & 0.0110908\\\\\n",
       "  0.97010622 & 0.60538136 & 0.14621911 & 0.02217095 & 0.38896034 & 0.23945655\\\\\n",
       "  0.30535609 & 0.68831263\\\\\n",
       "  0.35336626 & 0.96840088 & 0.84952597 & 0.52914611 & 0.04688842 & 0.91437838\\\\\n",
       "  0.00462825 & 0.93408865 & 0.17875983 & 0.55144832 & 0.33758941 & 0.40877124\\\\\n",
       "  0.05647111 & 0.7989287\\\\\n",
       "  0.58695922 & 0.99208803 & 0.3033204 & 0.92112604 & 0.70332526 & 0.69961814\\\\\n",
       "  0.44009474 & 0.88986363 & 0.27275531 & 0.71547287 & 0.95879763 & 0.8314702\\\\\n",
       "  0.59161788 & 0.31844051\\\\\n",
       "\\end{bmatrix}"
      ],
      "text/plain": [
       "<IPython.core.display.Latex object>"
      ]
     },
     "metadata": {},
     "output_type": "display_data"
    },
    {
     "data": {
      "text/latex": [
       "W = W - \\lambda (X \\cdot \\nabla f_{custo})"
      ],
      "text/plain": [
       "<IPython.core.display.Latex object>"
      ]
     },
     "metadata": {},
     "output_type": "display_data"
    },
    {
     "data": {
      "text/latex": [
       "\\begin{gather}\n",
       "\\begin{bmatrix}\n",
       "  -0.66413471 & 0.14345817 & -0.06368115 & -0.25102836 & -0.89745429 & -0.94887096\\\\\n",
       "  -0.50515069 & -0.11484761 & -0.6051832 & -0.68405442\\\\\n",
       "  -0.06822245 & -0.42924966 & -0.52952254 & -0.77032534 & -0.23240678 & -0.7437114\\\\\n",
       "  -0.64535806 & -0.1903774 & 0.01323846 & -0.27443449\\\\\n",
       "  -0.6714439 & -0.86949913 & -0.74379115 & -1.03440638 & -0.97678787 & -0.24023853\\\\\n",
       "  -0.18645206 & -0.68249146 & -0.14072039 & -1.00972256\\\\\n",
       "  -0.08054731 & -0.85877092 & -0.85475432 & -0.26558215 & -0.4787183 & -0.59550937\\\\\n",
       "  -0.11097674 & -0.60256356 & -0.44306029 & -0.36799637\\\\\n",
       "  -0.85990408 & 0.07885714 & -0.69498138 & -0.30275713 & -0.83836386 & -0.71477195\\\\\n",
       "  -0.25729411 & 0.16612958 & -0.93818532 & -0.60285893\\\\\n",
       "  -0.1786937 & -0.59846554 & -0.15129571 & -0.55533247 & -0.85351451 & -0.34967679\\\\\n",
       "  -0.46464862 & -0.7243257 & -0.09307024 & -0.63623462\\\\\n",
       "  -0.42490749 & -0.12910172 & 0.1250668 & -0.32040271 & 0.15756859 & -0.8698668\\\\\n",
       "  -0.2207135 & 0.36450792 & -0.82498214 & -0.65994879\\\\\n",
       "  -0.78018446 & -0.65731412 & -0.65466364 & -0.48052674 & -0.31114919 & -0.69197959\\\\\n",
       "  -0.6020578 & -0.08931202 & -0.01757329 & -0.37201732\\\\\n",
       "  -0.27456375 & -0.61091398 & -0.56681592 & -0.27874137 & -0.25376196 & -0.60395878\\\\\n",
       "  0.01881687 & -0.58282531 & -0.81995966 & -1.05152283\\\\\n",
       "  0.01497823 & -0.51031787 & -0.6379766 & -0.37676816 & -0.20694034 & -0.75512662\\\\\n",
       "  -0.58050282 & -0.64205015 & -0.35846956 & -0.49105647\\\\\n",
       "  -0.74221148 & -0.76233923 & -0.0240756 & -0.3494569 & -0.29311055 & -0.43121127\\\\\n",
       "  0.06185363 & -0.31780376 & -0.63060823 & -0.32500926\\\\\n",
       "  0.03187071 & -0.76405636 & -0.01290695 & -0.69239478 & -0.49541487 & -0.31589351\\\\\n",
       "  -0.51074188 & -0.45085197 & -0.53688386 & -0.42244584\\\\\n",
       "  -0.53473917 & 0.11483821 & -0.54078345 & -0.73535155 & -0.05789002 & -0.14979436\\\\\n",
       "  -0.12055097 & -0.36388094 & -0.86031811 & -0.62402269\\\\\n",
       "  -0.14409682 & -0.02208217 & -0.47298315 & -0.28042672 & -0.01954137 & -0.74038972\\\\\n",
       "  0.00543814 & -0.03778909 & -0.19575958 & -1.00049234\\\\\n",
       "\\end{bmatrix} = \n",
       "\\begin{bmatrix}\n",
       "  0.28041083 & 0.99489038 & 0.81606097 & 0.83402864 & 0.06550143 & 0.24602721\\\\\n",
       "  0.15994033 & 0.58487352 & 0.35336626 & 0.58695922\\\\\n",
       "  0.87298554 & 0.41917402 & 0.347111 & 0.31089761 & 0.72714635 & 0.4469646\\\\\n",
       "  0.01738287 & 0.50687127 & 0.96840088 & 0.99208803\\\\\n",
       "  0.30433546 & 0.01008786 & 0.16504189 & 0.08653081 & 0.01801046 & 0.99417201\\\\\n",
       "  0.5006319 & 0.04036774 & 0.84952597 & 0.3033204\\\\\n",
       "  0.87745565 & 0.00479207 & 0.03752193 & 0.8349342 & 0.49795714 & 0.61641311\\\\\n",
       "  0.56359017 & 0.10712685 & 0.52914611 & 0.92112604\\\\\n",
       "  0.11077823 & 0.95384955 & 0.20910431 & 0.81232477 & 0.15123807 & 0.51319056\\\\\n",
       "  0.42620082 & 0.88521288 & 0.04688842 & 0.70332526\\\\\n",
       "  0.81403661 & 0.29640139 & 0.77332531 & 0.58507731 & 0.15856516 & 0.90617757\\\\\n",
       "  0.23437116 & 0.0110908 & 0.91437838 & 0.69961814\\\\\n",
       "  0.39258272 & 0.60780028 & 0.88647061 & 0.61869809 & 0.99099254 & 0.16429991\\\\\n",
       "  0.35491295 & 0.97010622 & 0.00462825 & 0.44009474\\\\\n",
       "  0.15757418 & 0.18800025 & 0.21875721 & 0.59673374 & 0.64488736 & 0.4943328\\\\\n",
       "  0.0582543 & 0.60538136 & 0.93408865 & 0.88986363\\\\\n",
       "  0.70956496 & 0.27619929 & 0.34979364 & 0.85178723 & 0.74954846 & 0.64101412\\\\\n",
       "  0.71177993 & 0.14621911 & 0.17875983 & 0.27275531\\\\\n",
       "  0.91160267 & 0.29791731 & 0.1971322 & 0.65323896 & 0.70716026 & 0.37914893\\\\\n",
       "  0.05084511 & 0.02217095 & 0.55144832 & 0.71547287\\\\\n",
       "  0.21184128 & 0.09766297 & 0.86452147 & 0.74652162 & 0.6795377 & 0.77571401\\\\\n",
       "  0.73363905 & 0.38896034 & 0.33758941 & 0.95879763\\\\\n",
       "  0.96371028 & 0.07592243 & 0.85500092 & 0.37806609 & 0.45458723 & 0.86293095\\\\\n",
       "  0.14540237 & 0.23945655 & 0.40877124 & 0.8314702\\\\\n",
       "  0.36865623 & 0.92917686 & 0.30063175 & 0.30243378 & 0.86311351 & 0.99304678\\\\\n",
       "  0.51556465 & 0.30535609 & 0.05647111 & 0.59161788\\\\\n",
       "  0.83605957 & 0.86145037 & 0.43992662 & 0.84553863 & 0.97971931 & 0.49955799\\\\\n",
       "  0.69560414 & 0.68831263 & 0.7989287 & 0.31844051\\\\\n",
       "\\end{bmatrix} - 0.7\n",
       "\\begin{bmatrix}\n",
       "  0.94349402\\\\\n",
       "  0.94016019\\\\\n",
       "  0.97469307\\\\\n",
       "  0.95693646\\\\\n",
       "  0.9696017\\\\\n",
       "  0.99162515\\\\\n",
       "  0.81658014\\\\\n",
       "  0.93671468\\\\\n",
       "  0.98303313\\\\\n",
       "  0.89562628\\\\\n",
       "  0.95299066\\\\\n",
       "  0.93080219\\\\\n",
       "  0.90238969\\\\\n",
       "  0.97906523\\\\\n",
       "\\end{bmatrix} \\cdot \n",
       "\\begin{bmatrix}\n",
       "  1.43016356 & 1.28917799 & 1.33204283 & 1.642916 & 1.45803895 & 1.80922967\\\\\n",
       "  1.00703344 & 1.05946788 & 1.4513673 & 1.9244783\\\\\n",
       "\\end{bmatrix}\\end{gather}"
      ],
      "text/plain": [
       "<IPython.core.display.Latex object>"
      ]
     },
     "metadata": {},
     "output_type": "display_data"
    },
    {
     "data": {
      "text/latex": [
       "Camada: 1"
      ],
      "text/plain": [
       "<IPython.core.display.Latex object>"
      ]
     },
     "metadata": {},
     "output_type": "display_data"
    },
    {
     "data": {
      "text/latex": [
       "\\nabla = \\frac{\\partial E}{\\partial Y} \\frac{\\partial Y}{\\partial X}"
      ],
      "text/plain": [
       "<IPython.core.display.Latex object>"
      ]
     },
     "metadata": {},
     "output_type": "display_data"
    },
    {
     "data": {
      "text/latex": [
       "\\begin{gather}\n",
       "\\begin{bmatrix}\n",
       "  0.37877265 & 0.4782124 & 0.12330369 & 0.31919677 & 0.20451767 & 0.06917491\\\\\n",
       "  1.12682398 & 0.43526003 & 0.11916959 & 0.65366788 & 0.38918204 & 0.51873848\\\\\n",
       "  0.68182624 & 0.20118981\\\\\n",
       "\\end{bmatrix} = \n",
       "\\begin{bmatrix}\n",
       "  7.10468914 & 8.50019294 & 4.99883484 & 7.74578832 & 6.93886032 & 8.32960123\\\\\n",
       "  7.5233437 & 7.34240757 & 7.14489005 & 6.99260753 & 8.68720331 & 8.05376082\\\\\n",
       "  7.74076543 & 9.81581148\\\\\n",
       "\\end{bmatrix} \\cdot  \\sigma^{'}(\n",
       "\\begin{bmatrix}\n",
       "  2.81524364 & 2.75437914 & 3.6510445 & 3.10106021 & 3.46249862 & 4.77411245\\\\\n",
       "  1.4933472 & 2.69472537 & 4.05938016 & 2.14954532 & 3.00925879 & 2.5990776\\\\\n",
       "  2.22406337 & 3.84518698\\\\\n",
       "\\end{bmatrix}) \\end{gather}"
      ],
      "text/plain": [
       "<IPython.core.display.Latex object>"
      ]
     },
     "metadata": {},
     "output_type": "display_data"
    },
    {
     "data": {
      "text/latex": [
       "Camada: 0"
      ],
      "text/plain": [
       "<IPython.core.display.Latex object>"
      ]
     },
     "metadata": {},
     "output_type": "display_data"
    },
    {
     "data": {
      "text/latex": [
       "\\nabla f_{custo} = \\frac{\\partial E}{\\partial W}"
      ],
      "text/plain": [
       "<IPython.core.display.Latex object>"
      ]
     },
     "metadata": {},
     "output_type": "display_data"
    },
    {
     "data": {
      "text/latex": [
       "\n",
       "\\begin{bmatrix}\n",
       "  1.25642885 & 2.56740053 & 2.14821654 & 2.38579596 & 1.942963 & 2.17073936\\\\\n",
       "  2.91880824\\\\\n",
       "\\end{bmatrix} = \n",
       "\\begin{bmatrix}\n",
       "  0.37877265 & 0.4782124 & 0.12330369 & 0.31919677 & 0.20451767 & 0.06917491\\\\\n",
       "  1.12682398 & 0.43526003 & 0.11916959 & 0.65366788 & 0.38918204 & 0.51873848\\\\\n",
       "  0.68182624 & 0.20118981\\\\\n",
       "\\end{bmatrix} \\cdot \n",
       "\\begin{bmatrix}\n",
       "  3.25878968e-01 & 1.70592816e-01 & 5.83946119e-01 & 3.15434735e-01\\\\\n",
       "  6.59347329e-01 & 6.69964125e-02 & 8.88527271e-01\\\\\n",
       "  3.71880999e-02 & 9.19582618e-01 & 5.96342458e-01 & 2.93269580e-01\\\\\n",
       "  1.82419847e-01 & 5.86993816e-01 & 7.06469498e-01\\\\\n",
       "  9.66167745e-01 & 6.44188392e-01 & 8.80224134e-01 & 2.82268927e-01\\\\\n",
       "  8.93158608e-02 & 1.75676477e-01 & 5.14123828e-01\\\\\n",
       "  1.33880102e-01 & 7.75589778e-01 & 8.00159650e-01 & 5.14256264e-01\\\\\n",
       "  3.57646499e-01 & 4.47345137e-01 & 7.72179521e-01\\\\\n",
       "  7.21641494e-01 & 4.98036978e-01 & 6.43603667e-01 & 2.41700576e-01\\\\\n",
       "  1.57068030e-01 & 8.33220459e-01 & 4.72411216e-01\\\\\n",
       "  2.83612039e-01 & 6.97094457e-01 & 8.41024830e-01 & 4.24795905e-01\\\\\n",
       "  7.99294046e-01 & 7.53918497e-01 & 7.09545014e-02\\\\\n",
       "  1.70363023e-01 & 2.98633614e-02 & 8.34587401e-05 & 5.21222423e-01\\\\\n",
       "  2.86666262e-01 & 2.17481149e-02 & 8.75891826e-01\\\\\n",
       "  1.10265095e-01 & 7.67132369e-01 & 8.66112229e-02 & 5.63598046e-01\\\\\n",
       "  1.09145743e-01 & 9.40726501e-01 & 1.98437059e-02\\\\\n",
       "  2.93983365e-01 & 2.17307542e-02 & 5.30361950e-01 & 7.66417008e-01\\\\\n",
       "  9.94057930e-01 & 7.04671673e-01 & 5.60937120e-01\\\\\n",
       "  1.48066542e-02 & 8.15270318e-01 & 6.76252820e-01 & 7.69413596e-02\\\\\n",
       "  1.16017610e-01 & 2.48747305e-01 & 3.53315166e-01\\\\\n",
       "  1.50237243e-01 & 7.48830768e-01 & 2.35962529e-02 & 9.01353207e-01\\\\\n",
       "  5.14422125e-02 & 2.26731933e-01 & 1.75338454e-02\\\\\n",
       "  7.99576754e-01 & 5.28232696e-01 & 3.55014744e-01 & 2.45276980e-01\\\\\n",
       "  2.83701883e-01 & 3.37199548e-01 & 8.94723079e-01\\\\\n",
       "  3.54049597e-02 & 1.27591514e-01 & 3.18315410e-01 & 3.79572418e-01\\\\\n",
       "  7.47104384e-01 & 5.71699462e-01 & 2.18466082e-02\\\\\n",
       "  2.02845608e-02 & 1.51367683e-01 & 6.69451980e-01 & 6.81987430e-01\\\\\n",
       "  7.55443196e-01 & 7.16454902e-01 & 2.67227283e-01\\\\\n",
       "\\end{bmatrix}"
      ],
      "text/plain": [
       "<IPython.core.display.Latex object>"
      ]
     },
     "metadata": {},
     "output_type": "display_data"
    },
    {
     "data": {
      "text/latex": [
       "W = W - \\lambda (X \\cdot \\nabla f_{custo})"
      ],
      "text/plain": [
       "<IPython.core.display.Latex object>"
      ]
     },
     "metadata": {},
     "output_type": "display_data"
    },
    {
     "data": {
      "text/latex": [
       "\\begin{gather}\n",
       "\\begin{bmatrix}\n",
       "  0.06073811 & -0.29756058 & 0.87985516 & -0.08955764 & 0.57847913 & 0.2351896\\\\\n",
       "  -0.61841376 & -0.19441692 & 0.21056465 & -0.44276086 & -0.12219018 & 0.43645982\\\\\n",
       "  -0.44187341 & -0.12054831\\\\\n",
       "  -0.09454804 & 0.58483393 & 0.55787581 & 0.55215204 & 0.35487461 & 0.64867202\\\\\n",
       "  -0.75891342 & 0.46245035 & -0.06168796 & 0.35770281 & 0.47640334 & 0.16511576\\\\\n",
       "  -0.34968685 & 0.01053482\\\\\n",
       "  0.31880526 & 0.26159377 & 0.79391155 & 0.57672191 & 0.5004413 & 0.79260239\\\\\n",
       "  -0.78869332 & -0.2180708 & 0.44694323 & 0.21868531 & -0.24883117 & -0.00810219\\\\\n",
       "  -0.15896296 & 0.52861911\\\\\n",
       "  0.05029388 & -0.0414791 & 0.19595634 & 0.29081853 & 0.09853821 & 0.37637347\\\\\n",
       "  -0.26755436 & 0.25891603 & 0.68299829 & -0.38062615 & 0.62892578 & -0.11783995\\\\\n",
       "  -0.09770595 & 0.54115456\\\\\n",
       "  0.39420648 & -0.15232884 & 0.00300328 & 0.13420876 & 0.01390566 & 0.75087161\\\\\n",
       "  -0.50211052 & -0.19553628 & 0.91063922 & -0.3415499 & -0.22098521 & -0.07941505\\\\\n",
       "  0.26982602 & 0.61461033\\\\\n",
       "  -0.19814444 & 0.25224513 & 0.0893639 & 0.2239074 & 0.69005809 & 0.70549606\\\\\n",
       "  -0.76702867 & 0.63604448 & 0.62125296 & -0.20882021 & -0.04569549 & -0.02591739\\\\\n",
       "  0.09442109 & 0.57562204\\\\\n",
       "  0.88852727 & 0.7064695 & 0.51412383 & 0.77217952 & 0.47241122 & 0.0709545\\\\\n",
       "  0.87589183 & 0.01984371 & 0.56093712 & 0.35331517 & 0.01753385 & 0.89472308\\\\\n",
       "  0.02184661 & 0.26722728\\\\\n",
       "\\end{bmatrix} = \n",
       "\\begin{bmatrix}\n",
       "  3.25878968e-01 & 3.71880999e-02 & 9.66167745e-01 & 1.33880102e-01\\\\\n",
       "  7.21641494e-01 & 2.83612039e-01 & 1.70363023e-01 & 1.10265095e-01\\\\\n",
       "  2.93983365e-01 & 1.48066542e-02 & 1.50237243e-01 & 7.99576754e-01\\\\\n",
       "  3.54049597e-02 & 2.02845608e-02\\\\\n",
       "  1.70592816e-01 & 9.19582618e-01 & 6.44188392e-01 & 7.75589778e-01\\\\\n",
       "  4.98036978e-01 & 6.97094457e-01 & 2.98633614e-02 & 7.67132369e-01\\\\\n",
       "  2.17307542e-02 & 8.15270318e-01 & 7.48830768e-01 & 5.28232696e-01\\\\\n",
       "  1.27591514e-01 & 1.51367683e-01\\\\\n",
       "  5.83946119e-01 & 5.96342458e-01 & 8.80224134e-01 & 8.00159650e-01\\\\\n",
       "  6.43603667e-01 & 8.41024830e-01 & 8.34587401e-05 & 8.66112229e-02\\\\\n",
       "  5.30361950e-01 & 6.76252820e-01 & 2.35962529e-02 & 3.55014744e-01\\\\\n",
       "  3.18315410e-01 & 6.69451980e-01\\\\\n",
       "  3.15434735e-01 & 2.93269580e-01 & 2.82268927e-01 & 5.14256264e-01\\\\\n",
       "  2.41700576e-01 & 4.24795905e-01 & 5.21222423e-01 & 5.63598046e-01\\\\\n",
       "  7.66417008e-01 & 7.69413596e-02 & 9.01353207e-01 & 2.45276980e-01\\\\\n",
       "  3.79572418e-01 & 6.81987430e-01\\\\\n",
       "  6.59347329e-01 & 1.82419847e-01 & 8.93158608e-02 & 3.57646499e-01\\\\\n",
       "  1.57068030e-01 & 7.99294046e-01 & 2.86666262e-01 & 1.09145743e-01\\\\\n",
       "  9.94057930e-01 & 1.16017610e-01 & 5.14422125e-02 & 2.83701883e-01\\\\\n",
       "  7.47104384e-01 & 7.55443196e-01\\\\\n",
       "  6.69964125e-02 & 5.86993816e-01 & 1.75676477e-01 & 4.47345137e-01\\\\\n",
       "  8.33220459e-01 & 7.53918497e-01 & 2.17481149e-02 & 9.40726501e-01\\\\\n",
       "  7.04671673e-01 & 2.48747305e-01 & 2.26731933e-01 & 3.37199548e-01\\\\\n",
       "  5.71699462e-01 & 7.16454902e-01\\\\\n",
       "  8.88527271e-01 & 7.06469498e-01 & 5.14123828e-01 & 7.72179521e-01\\\\\n",
       "  4.72411216e-01 & 7.09545014e-02 & 8.75891826e-01 & 1.98437059e-02\\\\\n",
       "  5.60937120e-01 & 3.53315166e-01 & 1.75338454e-02 & 8.94723079e-01\\\\\n",
       "  2.18466082e-02 & 2.67227283e-01\\\\\n",
       "\\end{bmatrix} - 0.7\n",
       "\\begin{bmatrix}\n",
       "  1\\\\\n",
       "  1\\\\\n",
       "  1\\\\\n",
       "  1\\\\\n",
       "  1\\\\\n",
       "  1\\\\\n",
       "  0\\\\\n",
       "\\end{bmatrix} \\cdot \n",
       "\\begin{bmatrix}\n",
       "  0.37877265 & 0.4782124 & 0.12330369 & 0.31919677 & 0.20451767 & 0.06917491\\\\\n",
       "  1.12682398 & 0.43526003 & 0.11916959 & 0.65366788 & 0.38918204 & 0.51873848\\\\\n",
       "  0.68182624 & 0.20118981\\\\\n",
       "\\end{bmatrix}\\end{gather}"
      ],
      "text/plain": [
       "<IPython.core.display.Latex object>"
      ]
     },
     "metadata": {},
     "output_type": "display_data"
    },
    {
     "data": {
      "text/latex": [
       "Camada: 0"
      ],
      "text/plain": [
       "<IPython.core.display.Latex object>"
      ]
     },
     "metadata": {},
     "output_type": "display_data"
    },
    {
     "data": {
      "text/latex": [
       "Y = Xw + b"
      ],
      "text/plain": [
       "<IPython.core.display.Latex object>"
      ]
     },
     "metadata": {},
     "output_type": "display_data"
    },
    {
     "data": {
      "text/latex": [
       "\\begin{gather}\n",
       "\\begin{bmatrix}\n",
       "  0.65216363 & 0.65026175 & 1.87867775 & 0.97761899 & 1.07938096 & 2.36722466\\\\\n",
       "  -1.87298297 & 0.05694392 & 1.04999404 & 0.32032985 & 0.86221191 & -0.15602836\\\\\n",
       "  -0.94155296 & 1.24851829\\\\\n",
       "\\end{bmatrix} = \n",
       "\\begin{bmatrix}\n",
       "  0 & 1 & 1 & 0 & 0 & 0 & 0\\\\\n",
       "\\end{bmatrix} \\cdot \n",
       "\\begin{bmatrix}\n",
       "  0.06073811 & -0.29756058 & 0.87985516 & -0.08955764 & 0.57847913 & 0.2351896\\\\\n",
       "  -0.61841376 & -0.19441692 & 0.21056465 & -0.44276086 & -0.12219018 & 0.43645982\\\\\n",
       "  -0.44187341 & -0.12054831\\\\\n",
       "  -0.09454804 & 0.58483393 & 0.55787581 & 0.55215204 & 0.35487461 & 0.64867202\\\\\n",
       "  -0.75891342 & 0.46245035 & -0.06168796 & 0.35770281 & 0.47640334 & 0.16511576\\\\\n",
       "  -0.34968685 & 0.01053482\\\\\n",
       "  0.31880526 & 0.26159377 & 0.79391155 & 0.57672191 & 0.5004413 & 0.79260239\\\\\n",
       "  -0.78869332 & -0.2180708 & 0.44694323 & 0.21868531 & -0.24883117 & -0.00810219\\\\\n",
       "  -0.15896296 & 0.52861911\\\\\n",
       "  0.05029388 & -0.0414791 & 0.19595634 & 0.29081853 & 0.09853821 & 0.37637347\\\\\n",
       "  -0.26755436 & 0.25891603 & 0.68299829 & -0.38062615 & 0.62892578 & -0.11783995\\\\\n",
       "  -0.09770595 & 0.54115456\\\\\n",
       "  0.39420648 & -0.15232884 & 0.00300328 & 0.13420876 & 0.01390566 & 0.75087161\\\\\n",
       "  -0.50211052 & -0.19553628 & 0.91063922 & -0.3415499 & -0.22098521 & -0.07941505\\\\\n",
       "  0.26982602 & 0.61461033\\\\\n",
       "  -0.19814444 & 0.25224513 & 0.0893639 & 0.2239074 & 0.69005809 & 0.70549606\\\\\n",
       "  -0.76702867 & 0.63604448 & 0.62125296 & -0.20882021 & -0.04569549 & -0.02591739\\\\\n",
       "  0.09442109 & 0.57562204\\\\\n",
       "  0.88852727 & 0.7064695 & 0.51412383 & 0.77217952 & 0.47241122 & 0.0709545\\\\\n",
       "  0.87589183 & 0.01984371 & 0.56093712 & 0.35331517 & 0.01753385 & 0.89472308\\\\\n",
       "  0.02184661 & 0.26722728\\\\\n",
       "\\end{bmatrix} + \n",
       "\\begin{bmatrix}\n",
       "  0.4279064 & -0.19616596 & 0.52689038 & -0.15125496 & 0.22406505 & 0.92595025\\\\\n",
       "  -0.32537623 & -0.18743563 & 0.66473876 & -0.25605826 & 0.63463974 & -0.31304193\\\\\n",
       "  -0.43290315 & 0.70936436\\\\\n",
       "\\end{bmatrix}\\end{gather}"
      ],
      "text/plain": [
       "<IPython.core.display.Latex object>"
      ]
     },
     "metadata": {},
     "output_type": "display_data"
    },
    {
     "data": {
      "text/latex": [
       "Camada: 1"
      ],
      "text/plain": [
       "<IPython.core.display.Latex object>"
      ]
     },
     "metadata": {},
     "output_type": "display_data"
    },
    {
     "data": {
      "text/latex": [
       "Y = \\sigma(X)"
      ],
      "text/plain": [
       "<IPython.core.display.Latex object>"
      ]
     },
     "metadata": {},
     "output_type": "display_data"
    },
    {
     "data": {
      "text/latex": [
       "\\begin{gather}\n",
       "\\begin{bmatrix}\n",
       "  0.65749787 & 0.65706944 & 0.86745918 & 0.72663552 & 0.74637682 & 0.91429363\\\\\n",
       "  0.13319694 & 0.51423214 & 0.74077375 & 0.57940464 & 0.70312258 & 0.46107185\\\\\n",
       "  0.28058676 & 0.77704327\\\\\n",
       "\\end{bmatrix} = \\sigma(\n",
       "\\begin{bmatrix}\n",
       "  0.65216363 & 0.65026175 & 1.87867775 & 0.97761899 & 1.07938096 & 2.36722466\\\\\n",
       "  -1.87298297 & 0.05694392 & 1.04999404 & 0.32032985 & 0.86221191 & -0.15602836\\\\\n",
       "  -0.94155296 & 1.24851829\\\\\n",
       "\\end{bmatrix}) \\end{gather}"
      ],
      "text/plain": [
       "<IPython.core.display.Latex object>"
      ]
     },
     "metadata": {},
     "output_type": "display_data"
    },
    {
     "data": {
      "text/latex": [
       "Camada: 2"
      ],
      "text/plain": [
       "<IPython.core.display.Latex object>"
      ]
     },
     "metadata": {},
     "output_type": "display_data"
    },
    {
     "data": {
      "text/latex": [
       "Y = Xw + b"
      ],
      "text/plain": [
       "<IPython.core.display.Latex object>"
      ]
     },
     "metadata": {},
     "output_type": "display_data"
    },
    {
     "data": {
      "text/latex": [
       "\\begin{gather}\n",
       "\\begin{bmatrix}\n",
       "  -3.56818346 & -4.1098673 & -4.27061381 & -5.11540224 & -5.12298998 & -5.35199764\\\\\n",
       "  -3.07875906 & -3.68231443 & -4.01030457 & -5.92274263\\\\\n",
       "\\end{bmatrix} = \n",
       "\\begin{bmatrix}\n",
       "  0.65749787 & 0.65706944 & 0.86745918 & 0.72663552 & 0.74637682 & 0.91429363\\\\\n",
       "  0.13319694 & 0.51423214 & 0.74077375 & 0.57940464 & 0.70312258 & 0.46107185\\\\\n",
       "  0.28058676 & 0.77704327\\\\\n",
       "\\end{bmatrix} \\cdot \n",
       "\\begin{bmatrix}\n",
       "  -0.66413471 & 0.14345817 & -0.06368115 & -0.25102836 & -0.89745429 & -0.94887096\\\\\n",
       "  -0.50515069 & -0.11484761 & -0.6051832 & -0.68405442\\\\\n",
       "  -0.06822245 & -0.42924966 & -0.52952254 & -0.77032534 & -0.23240678 & -0.7437114\\\\\n",
       "  -0.64535806 & -0.1903774 & 0.01323846 & -0.27443449\\\\\n",
       "  -0.6714439 & -0.86949913 & -0.74379115 & -1.03440638 & -0.97678787 & -0.24023853\\\\\n",
       "  -0.18645206 & -0.68249146 & -0.14072039 & -1.00972256\\\\\n",
       "  -0.08054731 & -0.85877092 & -0.85475432 & -0.26558215 & -0.4787183 & -0.59550937\\\\\n",
       "  -0.11097674 & -0.60256356 & -0.44306029 & -0.36799637\\\\\n",
       "  -0.85990408 & 0.07885714 & -0.69498138 & -0.30275713 & -0.83836386 & -0.71477195\\\\\n",
       "  -0.25729411 & 0.16612958 & -0.93818532 & -0.60285893\\\\\n",
       "  -0.1786937 & -0.59846554 & -0.15129571 & -0.55533247 & -0.85351451 & -0.34967679\\\\\n",
       "  -0.46464862 & -0.7243257 & -0.09307024 & -0.63623462\\\\\n",
       "  -0.42490749 & -0.12910172 & 0.1250668 & -0.32040271 & 0.15756859 & -0.8698668\\\\\n",
       "  -0.2207135 & 0.36450792 & -0.82498214 & -0.65994879\\\\\n",
       "  -0.78018446 & -0.65731412 & -0.65466364 & -0.48052674 & -0.31114919 & -0.69197959\\\\\n",
       "  -0.6020578 & -0.08931202 & -0.01757329 & -0.37201732\\\\\n",
       "  -0.27456375 & -0.61091398 & -0.56681592 & -0.27874137 & -0.25376196 & -0.60395878\\\\\n",
       "  0.01881687 & -0.58282531 & -0.81995966 & -1.05152283\\\\\n",
       "  0.01497823 & -0.51031787 & -0.6379766 & -0.37676816 & -0.20694034 & -0.75512662\\\\\n",
       "  -0.58050282 & -0.64205015 & -0.35846956 & -0.49105647\\\\\n",
       "  -0.74221148 & -0.76233923 & -0.0240756 & -0.3494569 & -0.29311055 & -0.43121127\\\\\n",
       "  0.06185363 & -0.31780376 & -0.63060823 & -0.32500926\\\\\n",
       "  0.03187071 & -0.76405636 & -0.01290695 & -0.69239478 & -0.49541487 & -0.31589351\\\\\n",
       "  -0.51074188 & -0.45085197 & -0.53688386 & -0.42244584\\\\\n",
       "  -0.53473917 & 0.11483821 & -0.54078345 & -0.73535155 & -0.05789002 & -0.14979436\\\\\n",
       "  -0.12055097 & -0.36388094 & -0.86031811 & -0.62402269\\\\\n",
       "  -0.14409682 & -0.02208217 & -0.47298315 & -0.28042672 & -0.01954137 & -0.74038972\\\\\n",
       "  0.00543814 & -0.03778909 & -0.19575958 & -1.00049234\\\\\n",
       "\\end{bmatrix} + \n",
       "\\begin{bmatrix}\n",
       "  -0.21883511 & -0.07888224 & -0.30579681 & -0.91644695 & -0.86609295 & -0.32232357\\\\\n",
       "  -0.5803355 & -0.54966415 & -0.37328084 & -0.39921334\\\\\n",
       "\\end{bmatrix}\\end{gather}"
      ],
      "text/plain": [
       "<IPython.core.display.Latex object>"
      ]
     },
     "metadata": {},
     "output_type": "display_data"
    },
    {
     "data": {
      "text/latex": [
       "f_{custo}(\n",
       "\\begin{bmatrix}\n",
       "  0 & 1 & 0 & 0 & 0 & 0 & 0 & 0 & 0 & 0\\\\\n",
       "\\end{bmatrix},\n",
       "\\begin{bmatrix}\n",
       "  -3.56818346 & -4.1098673 & -4.27061381 & -5.11540224 & -5.12298998 & -5.35199764\\\\\n",
       "  -3.07875906 & -3.68231443 & -4.01030457 & -5.92274263\\\\\n",
       "\\end{bmatrix}) = \n",
       "\\begin{bmatrix}\n",
       "  21.233668436745052\\\\\n",
       "\\end{bmatrix}"
      ],
      "text/plain": [
       "<IPython.core.display.Latex object>"
      ]
     },
     "metadata": {},
     "output_type": "display_data"
    },
    {
     "data": {
      "text/latex": [
       "\\nabla = \\frac{\\partial E}{\\partial Y} = \n",
       "\\begin{bmatrix}\n",
       "  -0.71363669 & -1.02197346 & -0.85412276 & -1.02308045 & -1.024598 & -1.07039953\\\\\n",
       "  -0.61575181 & -0.73646289 & -0.80206091 & -1.18454853\\\\\n",
       "\\end{bmatrix}"
      ],
      "text/plain": [
       "<IPython.core.display.Latex object>"
      ]
     },
     "metadata": {},
     "output_type": "display_data"
    },
    {
     "data": {
      "text/latex": [
       "Camada: 2"
      ],
      "text/plain": [
       "<IPython.core.display.Latex object>"
      ]
     },
     "metadata": {},
     "output_type": "display_data"
    },
    {
     "data": {
      "text/latex": [
       "\\nabla f_{custo} = \\frac{\\partial E}{\\partial W}"
      ],
      "text/plain": [
       "<IPython.core.display.Latex object>"
      ]
     },
     "metadata": {},
     "output_type": "display_data"
    },
    {
     "data": {
      "text/latex": [
       "\n",
       "\\begin{bmatrix}\n",
       "  4.26507298 & 3.61399092 & 6.24567756 & 4.3681971 & 4.56316948 & 4.33316231\\\\\n",
       "  2.73668948 & 4.23006453 & 4.81694317 & 4.16102103 & 3.53547431 & 3.90078136\\\\\n",
       "  3.46954792 & 2.99544435\\\\\n",
       "\\end{bmatrix} = \n",
       "\\begin{bmatrix}\n",
       "  -0.71363669 & -1.02197346 & -0.85412276 & -1.02308045 & -1.024598 & -1.07039953\\\\\n",
       "  -0.61575181 & -0.73646289 & -0.80206091 & -1.18454853\\\\\n",
       "\\end{bmatrix} \\cdot \n",
       "\\begin{bmatrix}\n",
       "  -0.66413471 & -0.06822245 & -0.6714439 & -0.08054731 & -0.85990408 & -0.1786937\\\\\n",
       "  -0.42490749 & -0.78018446 & -0.27456375 & 0.01497823 & -0.74221148 & 0.03187071\\\\\n",
       "  -0.53473917 & -0.14409682\\\\\n",
       "  0.14345817 & -0.42924966 & -0.86949913 & -0.85877092 & 0.07885714 & -0.59846554\\\\\n",
       "  -0.12910172 & -0.65731412 & -0.61091398 & -0.51031787 & -0.76233923 & -0.76405636\\\\\n",
       "  0.11483821 & -0.02208217\\\\\n",
       "  -0.06368115 & -0.52952254 & -0.74379115 & -0.85475432 & -0.69498138 & -0.15129571\\\\\n",
       "  0.1250668 & -0.65466364 & -0.56681592 & -0.6379766 & -0.0240756 & -0.01290695\\\\\n",
       "  -0.54078345 & -0.47298315\\\\\n",
       "  -0.25102836 & -0.77032534 & -1.03440638 & -0.26558215 & -0.30275713 & -0.55533247\\\\\n",
       "  -0.32040271 & -0.48052674 & -0.27874137 & -0.37676816 & -0.3494569 & -0.69239478\\\\\n",
       "  -0.73535155 & -0.28042672\\\\\n",
       "  -0.89745429 & -0.23240678 & -0.97678787 & -0.4787183 & -0.83836386 & -0.85351451\\\\\n",
       "  0.15756859 & -0.31114919 & -0.25376196 & -0.20694034 & -0.29311055 & -0.49541487\\\\\n",
       "  -0.05789002 & -0.01954137\\\\\n",
       "  -0.94887096 & -0.7437114 & -0.24023853 & -0.59550937 & -0.71477195 & -0.34967679\\\\\n",
       "  -0.8698668 & -0.69197959 & -0.60395878 & -0.75512662 & -0.43121127 & -0.31589351\\\\\n",
       "  -0.14979436 & -0.74038972\\\\\n",
       "  -0.50515069 & -0.64535806 & -0.18645206 & -0.11097674 & -0.25729411 & -0.46464862\\\\\n",
       "  -0.2207135 & -0.6020578 & 0.01881687 & -0.58050282 & 0.06185363 & -0.51074188\\\\\n",
       "  -0.12055097 & 0.00543814\\\\\n",
       "  -0.11484761 & -0.1903774 & -0.68249146 & -0.60256356 & 0.16612958 & -0.7243257\\\\\n",
       "  0.36450792 & -0.08931202 & -0.58282531 & -0.64205015 & -0.31780376 & -0.45085197\\\\\n",
       "  -0.36388094 & -0.03778909\\\\\n",
       "  -0.6051832 & 0.01323846 & -0.14072039 & -0.44306029 & -0.93818532 & -0.09307024\\\\\n",
       "  -0.82498214 & -0.01757329 & -0.81995966 & -0.35846956 & -0.63060823 & -0.53688386\\\\\n",
       "  -0.86031811 & -0.19575958\\\\\n",
       "  -0.68405442 & -0.27443449 & -1.00972256 & -0.36799637 & -0.60285893 & -0.63623462\\\\\n",
       "  -0.65994879 & -0.37201732 & -1.05152283 & -0.49105647 & -0.32500926 & -0.42244584\\\\\n",
       "  -0.62402269 & -1.00049234\\\\\n",
       "\\end{bmatrix}"
      ],
      "text/plain": [
       "<IPython.core.display.Latex object>"
      ]
     },
     "metadata": {},
     "output_type": "display_data"
    },
    {
     "data": {
      "text/latex": [
       "W = W - \\lambda (X \\cdot \\nabla f_{custo})"
      ],
      "text/plain": [
       "<IPython.core.display.Latex object>"
      ]
     },
     "metadata": {},
     "output_type": "display_data"
    },
    {
     "data": {
      "text/latex": [
       "\\begin{gather}\n",
       "\\begin{bmatrix}\n",
       "  -3.35684487e-01 & 6.13819927e-01 & 3.29427579e-01 & 2.19842884e-01\\\\\n",
       "  -4.25884596e-01 & -4.56221174e-01 & -2.21751839e-01 & 2.24108330e-01\\\\\n",
       "  -2.36035859e-01 & -1.38867735e-01\\\\\n",
       "  2.60013755e-01 & 4.08056114e-02 & -1.36669967e-01 & -2.99760912e-01\\\\\n",
       "  2.38855646e-01 & -2.51382621e-01 & -3.62143864e-01 & 1.48357685e-01\\\\\n",
       "  3.82145259e-01 & 2.70396957e-01\\\\\n",
       "  -2.38108409e-01 & -2.48934957e-01 & -2.25149515e-01 & -4.13170019e-01\\\\\n",
       "  -3.54630015e-01 & 4.09730999e-01 & 1.87445631e-01 & -2.35295421e-01\\\\\n",
       "  3.46308182e-01 & -2.90439323e-01\\\\\n",
       "  2.82440331e-01 & -3.38949373e-01 & -4.20309163e-01 & 2.54802466e-01\\\\\n",
       "  4.24382057e-02 & -5.10561531e-02 & 2.02222259e-01 & -2.27965496e-01\\\\\n",
       "  -3.50961253e-02 & 2.34518149e-01\\\\\n",
       "  -4.87054765e-01 & 6.12801244e-01 & -2.48733179e-01 & 2.31765340e-01\\\\\n",
       "  -3.03048521e-01 & -1.55526970e-01 & 6.44139048e-02 & 5.50904760e-01\\\\\n",
       "  -5.19137544e-01 & 1.60247569e-02\\\\\n",
       "  2.78037743e-01 & 5.56031406e-02 & 3.95347593e-01 & 9.94446852e-02\\\\\n",
       "  -1.97766117e-01 & 3.35384844e-01 & -7.05640491e-02 & -2.52985369e-01\\\\\n",
       "  4.20253193e-01 & 1.21883001e-01\\\\\n",
       "  -3.58369531e-01 & -3.38151014e-02 & 2.04703383e-01 & -2.25012873e-01\\\\\n",
       "  2.53099916e-01 & -7.70065037e-01 & -1.63302119e-01 & 4.33174149e-01\\\\\n",
       "  -7.50199699e-01 & -5.49504018e-01\\\\\n",
       "  -5.23302020e-01 & -2.89442003e-01 & -3.47211481e-01 & -1.12256146e-01\\\\\n",
       "  5.76676621e-02 & -3.06675906e-01 & -3.80410242e-01 & 1.75786993e-01\\\\\n",
       "  2.71138558e-01 & 5.43757202e-02\\\\\n",
       "  9.54865807e-02 & -8.09782036e-02 & -1.23917715e-01 & 2.51768426e-01\\\\\n",
       "  2.77534757e-01 & -4.89120621e-02 & 3.38109814e-01 & -2.00938649e-01\\\\\n",
       "  -4.04057690e-01 & -4.37285114e-01\\\\\n",
       "  3.04417313e-01 & -9.58225566e-02 & -2.91558713e-01 & 3.81761275e-02\\\\\n",
       "  2.08619436e-01 & -3.20990504e-01 & -3.30764202e-01 & -3.43353140e-01\\\\\n",
       "  -3.31670951e-02 & -1.06234335e-02\\\\\n",
       "  -3.90969628e-01 & -2.59338405e-01 & 3.96311503e-01 & 1.54088775e-01\\\\\n",
       "  2.11182042e-01 & 9.56241784e-02 & 3.64917931e-01 & 4.46728207e-02\\\\\n",
       "  -2.35845230e-01 & 2.58008712e-01\\\\\n",
       "  2.62197168e-01 & -4.34214119e-01 & 2.62761423e-01 & -3.62195259e-01\\\\\n",
       "  -1.64725561e-01 & 2.95782560e-02 & -3.12007802e-01 & -2.13158351e-01\\\\\n",
       "  -2.78018461e-01 & -4.01324469e-02\\\\\n",
       "  -3.94573262e-01 & 3.15564761e-01 & -3.73024574e-01 & -5.34407572e-01\\\\\n",
       "  1.43352025e-01 & 6.04435909e-02 & 3.89292553e-04 & -2.19231728e-01\\\\\n",
       "  -7.02784741e-01 & -3.91364649e-01\\\\\n",
       "  2.44071790e-01 & 5.33800145e-01 & -8.39991544e-03 & 2.76057717e-01\\\\\n",
       "  5.37768515e-01 & -1.58166995e-01 & 3.40364202e-01 & 3.62795375e-01\\\\\n",
       "  2.40505642e-01 & -3.56180524e-01\\\\\n",
       "\\end{bmatrix} = \n",
       "\\begin{bmatrix}\n",
       "  -0.66413471 & 0.14345817 & -0.06368115 & -0.25102836 & -0.89745429 & -0.94887096\\\\\n",
       "  -0.50515069 & -0.11484761 & -0.6051832 & -0.68405442\\\\\n",
       "  -0.06822245 & -0.42924966 & -0.52952254 & -0.77032534 & -0.23240678 & -0.7437114\\\\\n",
       "  -0.64535806 & -0.1903774 & 0.01323846 & -0.27443449\\\\\n",
       "  -0.6714439 & -0.86949913 & -0.74379115 & -1.03440638 & -0.97678787 & -0.24023853\\\\\n",
       "  -0.18645206 & -0.68249146 & -0.14072039 & -1.00972256\\\\\n",
       "  -0.08054731 & -0.85877092 & -0.85475432 & -0.26558215 & -0.4787183 & -0.59550937\\\\\n",
       "  -0.11097674 & -0.60256356 & -0.44306029 & -0.36799637\\\\\n",
       "  -0.85990408 & 0.07885714 & -0.69498138 & -0.30275713 & -0.83836386 & -0.71477195\\\\\n",
       "  -0.25729411 & 0.16612958 & -0.93818532 & -0.60285893\\\\\n",
       "  -0.1786937 & -0.59846554 & -0.15129571 & -0.55533247 & -0.85351451 & -0.34967679\\\\\n",
       "  -0.46464862 & -0.7243257 & -0.09307024 & -0.63623462\\\\\n",
       "  -0.42490749 & -0.12910172 & 0.1250668 & -0.32040271 & 0.15756859 & -0.8698668\\\\\n",
       "  -0.2207135 & 0.36450792 & -0.82498214 & -0.65994879\\\\\n",
       "  -0.78018446 & -0.65731412 & -0.65466364 & -0.48052674 & -0.31114919 & -0.69197959\\\\\n",
       "  -0.6020578 & -0.08931202 & -0.01757329 & -0.37201732\\\\\n",
       "  -0.27456375 & -0.61091398 & -0.56681592 & -0.27874137 & -0.25376196 & -0.60395878\\\\\n",
       "  0.01881687 & -0.58282531 & -0.81995966 & -1.05152283\\\\\n",
       "  0.01497823 & -0.51031787 & -0.6379766 & -0.37676816 & -0.20694034 & -0.75512662\\\\\n",
       "  -0.58050282 & -0.64205015 & -0.35846956 & -0.49105647\\\\\n",
       "  -0.74221148 & -0.76233923 & -0.0240756 & -0.3494569 & -0.29311055 & -0.43121127\\\\\n",
       "  0.06185363 & -0.31780376 & -0.63060823 & -0.32500926\\\\\n",
       "  0.03187071 & -0.76405636 & -0.01290695 & -0.69239478 & -0.49541487 & -0.31589351\\\\\n",
       "  -0.51074188 & -0.45085197 & -0.53688386 & -0.42244584\\\\\n",
       "  -0.53473917 & 0.11483821 & -0.54078345 & -0.73535155 & -0.05789002 & -0.14979436\\\\\n",
       "  -0.12055097 & -0.36388094 & -0.86031811 & -0.62402269\\\\\n",
       "  -0.14409682 & -0.02208217 & -0.47298315 & -0.28042672 & -0.01954137 & -0.74038972\\\\\n",
       "  0.00543814 & -0.03778909 & -0.19575958 & -1.00049234\\\\\n",
       "\\end{bmatrix} - 0.7\n",
       "\\begin{bmatrix}\n",
       "  0.65749787\\\\\n",
       "  0.65706944\\\\\n",
       "  0.86745918\\\\\n",
       "  0.72663552\\\\\n",
       "  0.74637682\\\\\n",
       "  0.91429363\\\\\n",
       "  0.13319694\\\\\n",
       "  0.51423214\\\\\n",
       "  0.74077375\\\\\n",
       "  0.57940464\\\\\n",
       "  0.70312258\\\\\n",
       "  0.46107185\\\\\n",
       "  0.28058676\\\\\n",
       "  0.77704327\\\\\n",
       "\\end{bmatrix} \\cdot \n",
       "\\begin{bmatrix}\n",
       "  -0.71363669 & -1.02197346 & -0.85412276 & -1.02308045 & -1.024598 & -1.07039953\\\\\n",
       "  -0.61575181 & -0.73646289 & -0.80206091 & -1.18454853\\\\\n",
       "\\end{bmatrix}\\end{gather}"
      ],
      "text/plain": [
       "<IPython.core.display.Latex object>"
      ]
     },
     "metadata": {},
     "output_type": "display_data"
    },
    {
     "data": {
      "text/latex": [
       "Camada: 1"
      ],
      "text/plain": [
       "<IPython.core.display.Latex object>"
      ]
     },
     "metadata": {},
     "output_type": "display_data"
    },
    {
     "data": {
      "text/latex": [
       "\\nabla = \\frac{\\partial E}{\\partial Y} \\frac{\\partial Y}{\\partial X}"
      ],
      "text/plain": [
       "<IPython.core.display.Latex object>"
      ]
     },
     "metadata": {},
     "output_type": "display_data"
    },
    {
     "data": {
      "text/latex": [
       "\\begin{gather}\n",
       "\\begin{bmatrix}\n",
       "  0.96047065 & 0.81433764 & 0.718089 & 0.8676827 & 0.86380097 & 0.33955\\\\\n",
       "  0.3159659 & 1.05665932 & 0.92498796 & 1.01401962 & 0.73799921 & 0.96928409\\\\\n",
       "  0.70035541 & 0.51895183\\\\\n",
       "\\end{bmatrix} = \n",
       "\\begin{bmatrix}\n",
       "  4.26507298 & 3.61399092 & 6.24567756 & 4.3681971 & 4.56316948 & 4.33316231\\\\\n",
       "  2.73668948 & 4.23006453 & 4.81694317 & 4.16102103 & 3.53547431 & 3.90078136\\\\\n",
       "  3.46954792 & 2.99544435\\\\\n",
       "\\end{bmatrix} \\cdot  \\sigma^{'}(\n",
       "\\begin{bmatrix}\n",
       "  0.65216363 & 0.65026175 & 1.87867775 & 0.97761899 & 1.07938096 & 2.36722466\\\\\n",
       "  -1.87298297 & 0.05694392 & 1.04999404 & 0.32032985 & 0.86221191 & -0.15602836\\\\\n",
       "  -0.94155296 & 1.24851829\\\\\n",
       "\\end{bmatrix}) \\end{gather}"
      ],
      "text/plain": [
       "<IPython.core.display.Latex object>"
      ]
     },
     "metadata": {},
     "output_type": "display_data"
    },
    {
     "data": {
      "text/latex": [
       "Camada: 0"
      ],
      "text/plain": [
       "<IPython.core.display.Latex object>"
      ]
     },
     "metadata": {},
     "output_type": "display_data"
    },
    {
     "data": {
      "text/latex": [
       "\\nabla f_{custo} = \\frac{\\partial E}{\\partial W}"
      ],
      "text/plain": [
       "<IPython.core.display.Latex object>"
      ]
     },
     "metadata": {},
     "output_type": "display_data"
    },
    {
     "data": {
      "text/latex": [
       "\n",
       "\\begin{bmatrix}\n",
       "  0.25550011 & 2.61864665 & 2.41819768 & 1.6176765 & 1.03874565 & 2.20781166\\\\\n",
       "  5.10907228\\\\\n",
       "\\end{bmatrix} = \n",
       "\\begin{bmatrix}\n",
       "  0.96047065 & 0.81433764 & 0.718089 & 0.8676827 & 0.86380097 & 0.33955\\\\\n",
       "  0.3159659 & 1.05665932 & 0.92498796 & 1.01401962 & 0.73799921 & 0.96928409\\\\\n",
       "  0.70035541 & 0.51895183\\\\\n",
       "\\end{bmatrix} \\cdot \n",
       "\\begin{bmatrix}\n",
       "  0.06073811 & -0.09454804 & 0.31880526 & 0.05029388 & 0.39420648 & -0.19814444\\\\\n",
       "  0.88852727\\\\\n",
       "  -0.29756058 & 0.58483393 & 0.26159377 & -0.0414791 & -0.15232884 & 0.25224513\\\\\n",
       "  0.7064695\\\\\n",
       "  0.87985516 & 0.55787581 & 0.79391155 & 0.19595634 & 0.00300328 & 0.0893639\\\\\n",
       "  0.51412383\\\\\n",
       "  -0.08955764 & 0.55215204 & 0.57672191 & 0.29081853 & 0.13420876 & 0.2239074\\\\\n",
       "  0.77217952\\\\\n",
       "  0.57847913 & 0.35487461 & 0.5004413 & 0.09853821 & 0.01390566 & 0.69005809\\\\\n",
       "  0.47241122\\\\\n",
       "  0.2351896 & 0.64867202 & 0.79260239 & 0.37637347 & 0.75087161 & 0.70549606\\\\\n",
       "  0.0709545\\\\\n",
       "  -0.61841376 & -0.75891342 & -0.78869332 & -0.26755436 & -0.50211052 & -0.76702867\\\\\n",
       "  0.87589183\\\\\n",
       "  -0.19441692 & 0.46245035 & -0.2180708 & 0.25891603 & -0.19553628 & 0.63604448\\\\\n",
       "  0.01984371\\\\\n",
       "  0.21056465 & -0.06168796 & 0.44694323 & 0.68299829 & 0.91063922 & 0.62125296\\\\\n",
       "  0.56093712\\\\\n",
       "  -0.44276086 & 0.35770281 & 0.21868531 & -0.38062615 & -0.3415499 & -0.20882021\\\\\n",
       "  0.35331517\\\\\n",
       "  -0.12219018 & 0.47640334 & -0.24883117 & 0.62892578 & -0.22098521 & -0.04569549\\\\\n",
       "  0.01753385\\\\\n",
       "  0.43645982 & 0.16511576 & -0.00810219 & -0.11783995 & -0.07941505 & -0.02591739\\\\\n",
       "  0.89472308\\\\\n",
       "  -0.44187341 & -0.34968685 & -0.15896296 & -0.09770595 & 0.26982602 & 0.09442109\\\\\n",
       "  0.02184661\\\\\n",
       "  -0.12054831 & 0.01053482 & 0.52861911 & 0.54115456 & 0.61461033 & 0.57562204\\\\\n",
       "  0.26722728\\\\\n",
       "\\end{bmatrix}"
      ],
      "text/plain": [
       "<IPython.core.display.Latex object>"
      ]
     },
     "metadata": {},
     "output_type": "display_data"
    },
    {
     "data": {
      "text/latex": [
       "W = W - \\lambda (X \\cdot \\nabla f_{custo})"
      ],
      "text/plain": [
       "<IPython.core.display.Latex object>"
      ]
     },
     "metadata": {},
     "output_type": "display_data"
    },
    {
     "data": {
      "text/latex": [
       "\\begin{gather}\n",
       "\\begin{bmatrix}\n",
       "  0.06073811 & -0.29756058 & 0.87985516 & -0.08955764 & 0.57847913 & 0.2351896\\\\\n",
       "  -0.61841376 & -0.19441692 & 0.21056465 & -0.44276086 & -0.12219018 & 0.43645982\\\\\n",
       "  -0.44187341 & -0.12054831\\\\\n",
       "  -0.76687749 & 0.01479758 & 0.05521351 & -0.05522585 & -0.24978607 & 0.41098702\\\\\n",
       "  -0.98008955 & -0.27721117 & -0.70917953 & -0.35211093 & -0.04019611 & -0.5133831\\\\\n",
       "  -0.83993564 & -0.35273147\\\\\n",
       "  -0.35352419 & -0.30844258 & 0.29124925 & -0.03065598 & -0.10421938 & 0.55491739\\\\\n",
       "  -1.00986946 & -0.95773232 & -0.20054834 & -0.49112842 & -0.76543062 & -0.68660106\\\\\n",
       "  -0.64921175 & 0.16535283\\\\\n",
       "  0.05029388 & -0.0414791 & 0.19595634 & 0.29081853 & 0.09853821 & 0.37637347\\\\\n",
       "  -0.26755436 & 0.25891603 & 0.68299829 & -0.38062615 & 0.62892578 & -0.11783995\\\\\n",
       "  -0.09770595 & 0.54115456\\\\\n",
       "  0.39420648 & -0.15232884 & 0.00300328 & 0.13420876 & 0.01390566 & 0.75087161\\\\\n",
       "  -0.50211052 & -0.19553628 & 0.91063922 & -0.3415499 & -0.22098521 & -0.07941505\\\\\n",
       "  0.26982602 & 0.61461033\\\\\n",
       "  -0.19814444 & 0.25224513 & 0.0893639 & 0.2239074 & 0.69005809 & 0.70549606\\\\\n",
       "  -0.76702867 & 0.63604448 & 0.62125296 & -0.20882021 & -0.04569549 & -0.02591739\\\\\n",
       "  0.09442109 & 0.57562204\\\\\n",
       "  0.88852727 & 0.7064695 & 0.51412383 & 0.77217952 & 0.47241122 & 0.0709545\\\\\n",
       "  0.87589183 & 0.01984371 & 0.56093712 & 0.35331517 & 0.01753385 & 0.89472308\\\\\n",
       "  0.02184661 & 0.26722728\\\\\n",
       "\\end{bmatrix} = \n",
       "\\begin{bmatrix}\n",
       "  0.06073811 & -0.29756058 & 0.87985516 & -0.08955764 & 0.57847913 & 0.2351896\\\\\n",
       "  -0.61841376 & -0.19441692 & 0.21056465 & -0.44276086 & -0.12219018 & 0.43645982\\\\\n",
       "  -0.44187341 & -0.12054831\\\\\n",
       "  -0.09454804 & 0.58483393 & 0.55787581 & 0.55215204 & 0.35487461 & 0.64867202\\\\\n",
       "  -0.75891342 & 0.46245035 & -0.06168796 & 0.35770281 & 0.47640334 & 0.16511576\\\\\n",
       "  -0.34968685 & 0.01053482\\\\\n",
       "  0.31880526 & 0.26159377 & 0.79391155 & 0.57672191 & 0.5004413 & 0.79260239\\\\\n",
       "  -0.78869332 & -0.2180708 & 0.44694323 & 0.21868531 & -0.24883117 & -0.00810219\\\\\n",
       "  -0.15896296 & 0.52861911\\\\\n",
       "  0.05029388 & -0.0414791 & 0.19595634 & 0.29081853 & 0.09853821 & 0.37637347\\\\\n",
       "  -0.26755436 & 0.25891603 & 0.68299829 & -0.38062615 & 0.62892578 & -0.11783995\\\\\n",
       "  -0.09770595 & 0.54115456\\\\\n",
       "  0.39420648 & -0.15232884 & 0.00300328 & 0.13420876 & 0.01390566 & 0.75087161\\\\\n",
       "  -0.50211052 & -0.19553628 & 0.91063922 & -0.3415499 & -0.22098521 & -0.07941505\\\\\n",
       "  0.26982602 & 0.61461033\\\\\n",
       "  -0.19814444 & 0.25224513 & 0.0893639 & 0.2239074 & 0.69005809 & 0.70549606\\\\\n",
       "  -0.76702867 & 0.63604448 & 0.62125296 & -0.20882021 & -0.04569549 & -0.02591739\\\\\n",
       "  0.09442109 & 0.57562204\\\\\n",
       "  0.88852727 & 0.7064695 & 0.51412383 & 0.77217952 & 0.47241122 & 0.0709545\\\\\n",
       "  0.87589183 & 0.01984371 & 0.56093712 & 0.35331517 & 0.01753385 & 0.89472308\\\\\n",
       "  0.02184661 & 0.26722728\\\\\n",
       "\\end{bmatrix} - 0.7\n",
       "\\begin{bmatrix}\n",
       "  0\\\\\n",
       "  1\\\\\n",
       "  1\\\\\n",
       "  0\\\\\n",
       "  0\\\\\n",
       "  0\\\\\n",
       "  0\\\\\n",
       "\\end{bmatrix} \\cdot \n",
       "\\begin{bmatrix}\n",
       "  0.96047065 & 0.81433764 & 0.718089 & 0.8676827 & 0.86380097 & 0.33955\\\\\n",
       "  0.3159659 & 1.05665932 & 0.92498796 & 1.01401962 & 0.73799921 & 0.96928409\\\\\n",
       "  0.70035541 & 0.51895183\\\\\n",
       "\\end{bmatrix}\\end{gather}"
      ],
      "text/plain": [
       "<IPython.core.display.Latex object>"
      ]
     },
     "metadata": {},
     "output_type": "display_data"
    },
    {
     "data": {
      "text/latex": [
       "Camada: 0"
      ],
      "text/plain": [
       "<IPython.core.display.Latex object>"
      ]
     },
     "metadata": {},
     "output_type": "display_data"
    },
    {
     "data": {
      "text/latex": [
       "Y = Xw + b"
      ],
      "text/plain": [
       "<IPython.core.display.Latex object>"
      ]
     },
     "metadata": {},
     "output_type": "display_data"
    },
    {
     "data": {
      "text/latex": [
       "\\begin{gather}\n",
       "\\begin{bmatrix}\n",
       "  0.3824652 & -0.53630375 & 1.67238021 & 0.29379047 & 0.53295251 & 2.53264145\\\\\n",
       "  -2.03882873 & -1.31550179 & 1.67320694 & -2.12960467 & 0.38112842 & -0.37099601\\\\\n",
       "  -2.01099432 & 1.29581048\\\\\n",
       "\\end{bmatrix} = \n",
       "\\begin{bmatrix}\n",
       "  1 & 1 & 0 & 1 & 1 & 0 & 1\\\\\n",
       "\\end{bmatrix} \\cdot \n",
       "\\begin{bmatrix}\n",
       "  0.06073811 & -0.29756058 & 0.87985516 & -0.08955764 & 0.57847913 & 0.2351896\\\\\n",
       "  -0.61841376 & -0.19441692 & 0.21056465 & -0.44276086 & -0.12219018 & 0.43645982\\\\\n",
       "  -0.44187341 & -0.12054831\\\\\n",
       "  -0.76687749 & 0.01479758 & 0.05521351 & -0.05522585 & -0.24978607 & 0.41098702\\\\\n",
       "  -0.98008955 & -0.27721117 & -0.70917953 & -0.35211093 & -0.04019611 & -0.5133831\\\\\n",
       "  -0.83993564 & -0.35273147\\\\\n",
       "  -0.35352419 & -0.30844258 & 0.29124925 & -0.03065598 & -0.10421938 & 0.55491739\\\\\n",
       "  -1.00986946 & -0.95773232 & -0.20054834 & -0.49112842 & -0.76543062 & -0.68660106\\\\\n",
       "  -0.64921175 & 0.16535283\\\\\n",
       "  0.05029388 & -0.0414791 & 0.19595634 & 0.29081853 & 0.09853821 & 0.37637347\\\\\n",
       "  -0.26755436 & 0.25891603 & 0.68299829 & -0.38062615 & 0.62892578 & -0.11783995\\\\\n",
       "  -0.09770595 & 0.54115456\\\\\n",
       "  0.39420648 & -0.15232884 & 0.00300328 & 0.13420876 & 0.01390566 & 0.75087161\\\\\n",
       "  -0.50211052 & -0.19553628 & 0.91063922 & -0.3415499 & -0.22098521 & -0.07941505\\\\\n",
       "  0.26982602 & 0.61461033\\\\\n",
       "  -0.19814444 & 0.25224513 & 0.0893639 & 0.2239074 & 0.69005809 & 0.70549606\\\\\n",
       "  -0.76702867 & 0.63604448 & 0.62125296 & -0.20882021 & -0.04569549 & -0.02591739\\\\\n",
       "  0.09442109 & 0.57562204\\\\\n",
       "  0.88852727 & 0.7064695 & 0.51412383 & 0.77217952 & 0.47241122 & 0.0709545\\\\\n",
       "  0.87589183 & 0.01984371 & 0.56093712 & 0.35331517 & 0.01753385 & 0.89472308\\\\\n",
       "  0.02184661 & 0.26722728\\\\\n",
       "\\end{bmatrix} + \n",
       "\\begin{bmatrix}\n",
       "  -0.24442305 & -0.76620231 & 0.02422809 & -0.75863285 & -0.38059563 & 0.68826524\\\\\n",
       "  -0.54655236 & -0.92709715 & 0.01724719 & -0.965872 & 0.1180403 & -0.9915408\\\\\n",
       "  -0.92315194 & 0.34609808\\\\\n",
       "\\end{bmatrix}\\end{gather}"
      ],
      "text/plain": [
       "<IPython.core.display.Latex object>"
      ]
     },
     "metadata": {},
     "output_type": "display_data"
    },
    {
     "data": {
      "text/latex": [
       "Camada: 1"
      ],
      "text/plain": [
       "<IPython.core.display.Latex object>"
      ]
     },
     "metadata": {},
     "output_type": "display_data"
    },
    {
     "data": {
      "text/latex": [
       "Y = \\sigma(X)"
      ],
      "text/plain": [
       "<IPython.core.display.Latex object>"
      ]
     },
     "metadata": {},
     "output_type": "display_data"
    },
    {
     "data": {
      "text/latex": [
       "\\begin{gather}\n",
       "\\begin{bmatrix}\n",
       "  0.59446754 & 0.36904784 & 0.84189291 & 0.57292385 & 0.63017147 & 0.92639866\\\\\n",
       "  0.11518605 & 0.21156765 & 0.84200292 & 0.10625253 & 0.59414523 & 0.40830037\\\\\n",
       "  0.11805341 & 0.78512905\\\\\n",
       "\\end{bmatrix} = \\sigma(\n",
       "\\begin{bmatrix}\n",
       "  0.3824652 & -0.53630375 & 1.67238021 & 0.29379047 & 0.53295251 & 2.53264145\\\\\n",
       "  -2.03882873 & -1.31550179 & 1.67320694 & -2.12960467 & 0.38112842 & -0.37099601\\\\\n",
       "  -2.01099432 & 1.29581048\\\\\n",
       "\\end{bmatrix}) \\end{gather}"
      ],
      "text/plain": [
       "<IPython.core.display.Latex object>"
      ]
     },
     "metadata": {},
     "output_type": "display_data"
    },
    {
     "data": {
      "text/latex": [
       "Camada: 2"
      ],
      "text/plain": [
       "<IPython.core.display.Latex object>"
      ]
     },
     "metadata": {},
     "output_type": "display_data"
    },
    {
     "data": {
      "text/latex": [
       "Y = Xw + b"
      ],
      "text/plain": [
       "<IPython.core.display.Latex object>"
      ]
     },
     "metadata": {},
     "output_type": "display_data"
    },
    {
     "data": {
      "text/latex": [
       "\\begin{gather}\n",
       "\\begin{bmatrix}\n",
       "  0.06967708 & 1.03185038 & 0.32355604 & 0.11978442 & -0.16776741 & 0.31433688\\\\\n",
       "  0.34105597 & 0.01781786 & 0.00192958 & -0.14999571\\\\\n",
       "\\end{bmatrix} = \n",
       "\\begin{bmatrix}\n",
       "  0.59446754 & 0.36904784 & 0.84189291 & 0.57292385 & 0.63017147 & 0.92639866\\\\\n",
       "  0.11518605 & 0.21156765 & 0.84200292 & 0.10625253 & 0.59414523 & 0.40830037\\\\\n",
       "  0.11805341 & 0.78512905\\\\\n",
       "\\end{bmatrix} \\cdot \n",
       "\\begin{bmatrix}\n",
       "  -3.35684487e-01 & 6.13819927e-01 & 3.29427579e-01 & 2.19842884e-01\\\\\n",
       "  -4.25884596e-01 & -4.56221174e-01 & -2.21751839e-01 & 2.24108330e-01\\\\\n",
       "  -2.36035859e-01 & -1.38867735e-01\\\\\n",
       "  2.60013755e-01 & 4.08056114e-02 & -1.36669967e-01 & -2.99760912e-01\\\\\n",
       "  2.38855646e-01 & -2.51382621e-01 & -3.62143864e-01 & 1.48357685e-01\\\\\n",
       "  3.82145259e-01 & 2.70396957e-01\\\\\n",
       "  -2.38108409e-01 & -2.48934957e-01 & -2.25149515e-01 & -4.13170019e-01\\\\\n",
       "  -3.54630015e-01 & 4.09730999e-01 & 1.87445631e-01 & -2.35295421e-01\\\\\n",
       "  3.46308182e-01 & -2.90439323e-01\\\\\n",
       "  2.82440331e-01 & -3.38949373e-01 & -4.20309163e-01 & 2.54802466e-01\\\\\n",
       "  4.24382057e-02 & -5.10561531e-02 & 2.02222259e-01 & -2.27965496e-01\\\\\n",
       "  -3.50961253e-02 & 2.34518149e-01\\\\\n",
       "  -4.87054765e-01 & 6.12801244e-01 & -2.48733179e-01 & 2.31765340e-01\\\\\n",
       "  -3.03048521e-01 & -1.55526970e-01 & 6.44139048e-02 & 5.50904760e-01\\\\\n",
       "  -5.19137544e-01 & 1.60247569e-02\\\\\n",
       "  2.78037743e-01 & 5.56031406e-02 & 3.95347593e-01 & 9.94446852e-02\\\\\n",
       "  -1.97766117e-01 & 3.35384844e-01 & -7.05640491e-02 & -2.52985369e-01\\\\\n",
       "  4.20253193e-01 & 1.21883001e-01\\\\\n",
       "  -3.58369531e-01 & -3.38151014e-02 & 2.04703383e-01 & -2.25012873e-01\\\\\n",
       "  2.53099916e-01 & -7.70065037e-01 & -1.63302119e-01 & 4.33174149e-01\\\\\n",
       "  -7.50199699e-01 & -5.49504018e-01\\\\\n",
       "  -5.23302020e-01 & -2.89442003e-01 & -3.47211481e-01 & -1.12256146e-01\\\\\n",
       "  5.76676621e-02 & -3.06675906e-01 & -3.80410242e-01 & 1.75786993e-01\\\\\n",
       "  2.71138558e-01 & 5.43757202e-02\\\\\n",
       "  9.54865807e-02 & -8.09782036e-02 & -1.23917715e-01 & 2.51768426e-01\\\\\n",
       "  2.77534757e-01 & -4.89120621e-02 & 3.38109814e-01 & -2.00938649e-01\\\\\n",
       "  -4.04057690e-01 & -4.37285114e-01\\\\\n",
       "  3.04417313e-01 & -9.58225566e-02 & -2.91558713e-01 & 3.81761275e-02\\\\\n",
       "  2.08619436e-01 & -3.20990504e-01 & -3.30764202e-01 & -3.43353140e-01\\\\\n",
       "  -3.31670951e-02 & -1.06234335e-02\\\\\n",
       "  -3.90969628e-01 & -2.59338405e-01 & 3.96311503e-01 & 1.54088775e-01\\\\\n",
       "  2.11182042e-01 & 9.56241784e-02 & 3.64917931e-01 & 4.46728207e-02\\\\\n",
       "  -2.35845230e-01 & 2.58008712e-01\\\\\n",
       "  2.62197168e-01 & -4.34214119e-01 & 2.62761423e-01 & -3.62195259e-01\\\\\n",
       "  -1.64725561e-01 & 2.95782560e-02 & -3.12007802e-01 & -2.13158351e-01\\\\\n",
       "  -2.78018461e-01 & -4.01324469e-02\\\\\n",
       "  -3.94573262e-01 & 3.15564761e-01 & -3.73024574e-01 & -5.34407572e-01\\\\\n",
       "  1.43352025e-01 & 6.04435909e-02 & 3.89292553e-04 & -2.19231728e-01\\\\\n",
       "  -7.02784741e-01 & -3.91364649e-01\\\\\n",
       "  2.44071790e-01 & 5.33800145e-01 & -8.39991544e-03 & 2.76057717e-01\\\\\n",
       "  5.37768515e-01 & -1.58166995e-01 & 3.40364202e-01 & 3.62795375e-01\\\\\n",
       "  2.40505642e-01 & -3.56180524e-01\\\\\n",
       "\\end{bmatrix} + \n",
       "\\begin{bmatrix}\n",
       "  0.28071057 & 0.63649918 & 0.29208912 & -0.20029064 & -0.14887435 & 0.4269561\\\\\n",
       "  -0.14930924 & -0.03414013 & 0.1881618 & 0.42997063\\\\\n",
       "\\end{bmatrix}\\end{gather}"
      ],
      "text/plain": [
       "<IPython.core.display.Latex object>"
      ]
     },
     "metadata": {},
     "output_type": "display_data"
    },
    {
     "data": {
      "text/latex": [
       "f_{custo}(\n",
       "\\begin{bmatrix}\n",
       "  0 & 0 & 1 & 0 & 0 & 0 & 0 & 0 & 0 & 0\\\\\n",
       "\\end{bmatrix},\n",
       "\\begin{bmatrix}\n",
       "  0.06967708 & 1.03185038 & 0.32355604 & 0.11978442 & -0.16776741 & 0.31433688\\\\\n",
       "  0.34105597 & 0.01781786 & 0.00192958 & -0.14999571\\\\\n",
       "\\end{bmatrix}) = \n",
       "\\begin{bmatrix}\n",
       "  0.18075875145772693\\\\\n",
       "\\end{bmatrix}"
      ],
      "text/plain": [
       "<IPython.core.display.Latex object>"
      ]
     },
     "metadata": {},
     "output_type": "display_data"
    },
    {
     "data": {
      "text/latex": [
       "\\nabla = \\frac{\\partial E}{\\partial Y} = \n",
       "\\begin{bmatrix}\n",
       "  0.01393542 & 0.20637008 & -0.13528879 & 0.02395688 & -0.03355348 & 0.06286738\\\\\n",
       "  0.06821119 & 0.00356357 & 0.00038592 & -0.02999914\\\\\n",
       "\\end{bmatrix}"
      ],
      "text/plain": [
       "<IPython.core.display.Latex object>"
      ]
     },
     "metadata": {},
     "output_type": "display_data"
    },
    {
     "data": {
      "text/latex": [
       "Camada: 2"
      ],
      "text/plain": [
       "<IPython.core.display.Latex object>"
      ]
     },
     "metadata": {},
     "output_type": "display_data"
    },
    {
     "data": {
      "text/latex": [
       "\\nabla f_{custo} = \\frac{\\partial E}{\\partial W}"
      ],
      "text/plain": [
       "<IPython.core.display.Latex object>"
      ]
     },
     "metadata": {},
     "output_type": "display_data"
    },
    {
     "data": {
      "text/latex": [
       "\n",
       "\\begin{bmatrix}\n",
       "  0.05805103 & -0.03260295 & 0.02432283 & -0.00174685 & 0.16494634 & -0.0172428\\\\\n",
       "  -0.09536174 & -0.07080334 & 0.03033726 & -0.02583275 & -0.09274765 & -0.14373948\\\\\n",
       "  0.10699255 & 0.12861139\\\\\n",
       "\\end{bmatrix} = \n",
       "\\begin{bmatrix}\n",
       "  0.01393542 & 0.20637008 & -0.13528879 & 0.02395688 & -0.03355348 & 0.06286738\\\\\n",
       "  0.06821119 & 0.00356357 & 0.00038592 & -0.02999914\\\\\n",
       "\\end{bmatrix} \\cdot \n",
       "\\begin{bmatrix}\n",
       "  -3.35684487e-01 & 2.60013755e-01 & -2.38108409e-01 & 2.82440331e-01\\\\\n",
       "  -4.87054765e-01 & 2.78037743e-01 & -3.58369531e-01 & -5.23302020e-01\\\\\n",
       "  9.54865807e-02 & 3.04417313e-01 & -3.90969628e-01 & 2.62197168e-01\\\\\n",
       "  -3.94573262e-01 & 2.44071790e-01\\\\\n",
       "  6.13819927e-01 & 4.08056114e-02 & -2.48934957e-01 & -3.38949373e-01\\\\\n",
       "  6.12801244e-01 & 5.56031406e-02 & -3.38151014e-02 & -2.89442003e-01\\\\\n",
       "  -8.09782036e-02 & -9.58225566e-02 & -2.59338405e-01 & -4.34214119e-01\\\\\n",
       "  3.15564761e-01 & 5.33800145e-01\\\\\n",
       "  3.29427579e-01 & -1.36669967e-01 & -2.25149515e-01 & -4.20309163e-01\\\\\n",
       "  -2.48733179e-01 & 3.95347593e-01 & 2.04703383e-01 & -3.47211481e-01\\\\\n",
       "  -1.23917715e-01 & -2.91558713e-01 & 3.96311503e-01 & 2.62761423e-01\\\\\n",
       "  -3.73024574e-01 & -8.39991544e-03\\\\\n",
       "  2.19842884e-01 & -2.99760912e-01 & -4.13170019e-01 & 2.54802466e-01\\\\\n",
       "  2.31765340e-01 & 9.94446852e-02 & -2.25012873e-01 & -1.12256146e-01\\\\\n",
       "  2.51768426e-01 & 3.81761275e-02 & 1.54088775e-01 & -3.62195259e-01\\\\\n",
       "  -5.34407572e-01 & 2.76057717e-01\\\\\n",
       "  -4.25884596e-01 & 2.38855646e-01 & -3.54630015e-01 & 4.24382057e-02\\\\\n",
       "  -3.03048521e-01 & -1.97766117e-01 & 2.53099916e-01 & 5.76676621e-02\\\\\n",
       "  2.77534757e-01 & 2.08619436e-01 & 2.11182042e-01 & -1.64725561e-01\\\\\n",
       "  1.43352025e-01 & 5.37768515e-01\\\\\n",
       "  -4.56221174e-01 & -2.51382621e-01 & 4.09730999e-01 & -5.10561531e-02\\\\\n",
       "  -1.55526970e-01 & 3.35384844e-01 & -7.70065037e-01 & -3.06675906e-01\\\\\n",
       "  -4.89120621e-02 & -3.20990504e-01 & 9.56241784e-02 & 2.95782560e-02\\\\\n",
       "  6.04435909e-02 & -1.58166995e-01\\\\\n",
       "  -2.21751839e-01 & -3.62143864e-01 & 1.87445631e-01 & 2.02222259e-01\\\\\n",
       "  6.44139048e-02 & -7.05640491e-02 & -1.63302119e-01 & -3.80410242e-01\\\\\n",
       "  3.38109814e-01 & -3.30764202e-01 & 3.64917931e-01 & -3.12007802e-01\\\\\n",
       "  3.89292553e-04 & 3.40364202e-01\\\\\n",
       "  2.24108330e-01 & 1.48357685e-01 & -2.35295421e-01 & -2.27965496e-01\\\\\n",
       "  5.50904760e-01 & -2.52985369e-01 & 4.33174149e-01 & 1.75786993e-01\\\\\n",
       "  -2.00938649e-01 & -3.43353140e-01 & 4.46728207e-02 & -2.13158351e-01\\\\\n",
       "  -2.19231728e-01 & 3.62795375e-01\\\\\n",
       "  -2.36035859e-01 & 3.82145259e-01 & 3.46308182e-01 & -3.50961253e-02\\\\\n",
       "  -5.19137544e-01 & 4.20253193e-01 & -7.50199699e-01 & 2.71138558e-01\\\\\n",
       "  -4.04057690e-01 & -3.31670951e-02 & -2.35845230e-01 & -2.78018461e-01\\\\\n",
       "  -7.02784741e-01 & 2.40505642e-01\\\\\n",
       "  -1.38867735e-01 & 2.70396957e-01 & -2.90439323e-01 & 2.34518149e-01\\\\\n",
       "  1.60247569e-02 & 1.21883001e-01 & -5.49504018e-01 & 5.43757202e-02\\\\\n",
       "  -4.37285114e-01 & -1.06234335e-02 & 2.58008712e-01 & -4.01324469e-02\\\\\n",
       "  -3.91364649e-01 & -3.56180524e-01\\\\\n",
       "\\end{bmatrix}"
      ],
      "text/plain": [
       "<IPython.core.display.Latex object>"
      ]
     },
     "metadata": {},
     "output_type": "display_data"
    },
    {
     "data": {
      "text/latex": [
       "W = W - \\lambda (X \\cdot \\nabla f_{custo})"
      ],
      "text/plain": [
       "<IPython.core.display.Latex object>"
      ]
     },
     "metadata": {},
     "output_type": "display_data"
    },
    {
     "data": {
      "text/latex": [
       "\\begin{gather}\n",
       "\\begin{bmatrix}\n",
       "  -0.34148339 & 0.52794371 & 0.38572494 & 0.20987377 & -0.41192208 & -0.482382\\\\\n",
       "  -0.25013638 & 0.22262543 & -0.23619645 & -0.12638427\\\\\n",
       "  0.25641377 & -0.01250669 & -0.10172034 & -0.30594978 & 0.24752363 & -0.26762337\\\\\n",
       "  -0.3797651 & 0.1474371 & 0.38204556 & 0.27814674\\\\\n",
       "  -0.2463209 & -0.37055401 & -0.14542044 & -0.42728841 & -0.33485611 & 0.37268168\\\\\n",
       "  0.14724707 & -0.23739552 & 0.34608075 & -0.27276008\\\\\n",
       "  0.27685158 & -0.42171341 & -0.36605204 & 0.24519464 & 0.05589472 & -0.07626891\\\\\n",
       "  0.17486639 & -0.22939465 & -0.0352509 & 0.24654921\\\\\n",
       "  -0.49320196 & 0.52176727 & -0.18905458 & 0.22119748 & -0.28824741 & -0.18325903\\\\\n",
       "  0.03432458 & 0.5493328 & -0.51930778 & 0.02925798\\\\\n",
       "  0.26900092 & -0.07822353 & 0.48307954 & 0.08390915 & -0.17600739 & 0.29461667\\\\\n",
       "  -0.11479758 & -0.25529627 & 0.42000293 & 0.14133682\\\\\n",
       "  -0.35949315 & -0.05045477 & 0.21561175 & -0.22694452 & 0.25580534 & -0.77513405\\\\\n",
       "  -0.168802 & 0.43288682 & -0.75023082 & -0.54708518\\\\\n",
       "  -0.52536582 & -0.32000487 & -0.32717557 & -0.1158041 & 0.06263684 & -0.3159864\\\\\n",
       "  -0.39051214 & 0.17525924 & 0.27108141 & 0.05881851\\\\\n",
       "  0.08727302 & -0.20261315 & -0.04417822 & 0.23764819 & 0.29731125 & -0.08596622\\\\\n",
       "  0.297906 & -0.20303903 & -0.40428515 & -0.41960356\\\\\n",
       "  0.30338084 & -0.1111717 & -0.28149637 & 0.03639429 & 0.21111504 & -0.32566638\\\\\n",
       "  -0.33583753 & -0.34361819 & -0.0331958 & -0.00839219\\\\\n",
       "  -0.39676539 & -0.34516806 & 0.45257834 & 0.14412507 & 0.22513699 & 0.06947753\\\\\n",
       "  0.33654878 & 0.04319072 & -0.23600573 & 0.27048541\\\\\n",
       "  0.25821428 & -0.4931968 & 0.30142835 & -0.36904238 & -0.15513563 & 0.01161011\\\\\n",
       "  -0.33150326 & -0.21417686 & -0.27812876 & -0.03155838\\\\\n",
       "  -0.39572485 & 0.29851088 & -0.36184466 & -0.53638731 & 0.1461248 & 0.05524839\\\\\n",
       "  -0.0052475 & -0.21952621 & -0.70281663 & -0.3888856\\\\\n",
       "  0.23641302 & 0.42038115 & 0.0659535 & 0.26289124 & 0.55620918 & -0.1927183\\\\\n",
       "  0.30287599 & 0.36083687 & 0.24029355 & -0.33969329\\\\\n",
       "\\end{bmatrix} = \n",
       "\\begin{bmatrix}\n",
       "  -3.35684487e-01 & 6.13819927e-01 & 3.29427579e-01 & 2.19842884e-01\\\\\n",
       "  -4.25884596e-01 & -4.56221174e-01 & -2.21751839e-01 & 2.24108330e-01\\\\\n",
       "  -2.36035859e-01 & -1.38867735e-01\\\\\n",
       "  2.60013755e-01 & 4.08056114e-02 & -1.36669967e-01 & -2.99760912e-01\\\\\n",
       "  2.38855646e-01 & -2.51382621e-01 & -3.62143864e-01 & 1.48357685e-01\\\\\n",
       "  3.82145259e-01 & 2.70396957e-01\\\\\n",
       "  -2.38108409e-01 & -2.48934957e-01 & -2.25149515e-01 & -4.13170019e-01\\\\\n",
       "  -3.54630015e-01 & 4.09730999e-01 & 1.87445631e-01 & -2.35295421e-01\\\\\n",
       "  3.46308182e-01 & -2.90439323e-01\\\\\n",
       "  2.82440331e-01 & -3.38949373e-01 & -4.20309163e-01 & 2.54802466e-01\\\\\n",
       "  4.24382057e-02 & -5.10561531e-02 & 2.02222259e-01 & -2.27965496e-01\\\\\n",
       "  -3.50961253e-02 & 2.34518149e-01\\\\\n",
       "  -4.87054765e-01 & 6.12801244e-01 & -2.48733179e-01 & 2.31765340e-01\\\\\n",
       "  -3.03048521e-01 & -1.55526970e-01 & 6.44139048e-02 & 5.50904760e-01\\\\\n",
       "  -5.19137544e-01 & 1.60247569e-02\\\\\n",
       "  2.78037743e-01 & 5.56031406e-02 & 3.95347593e-01 & 9.94446852e-02\\\\\n",
       "  -1.97766117e-01 & 3.35384844e-01 & -7.05640491e-02 & -2.52985369e-01\\\\\n",
       "  4.20253193e-01 & 1.21883001e-01\\\\\n",
       "  -3.58369531e-01 & -3.38151014e-02 & 2.04703383e-01 & -2.25012873e-01\\\\\n",
       "  2.53099916e-01 & -7.70065037e-01 & -1.63302119e-01 & 4.33174149e-01\\\\\n",
       "  -7.50199699e-01 & -5.49504018e-01\\\\\n",
       "  -5.23302020e-01 & -2.89442003e-01 & -3.47211481e-01 & -1.12256146e-01\\\\\n",
       "  5.76676621e-02 & -3.06675906e-01 & -3.80410242e-01 & 1.75786993e-01\\\\\n",
       "  2.71138558e-01 & 5.43757202e-02\\\\\n",
       "  9.54865807e-02 & -8.09782036e-02 & -1.23917715e-01 & 2.51768426e-01\\\\\n",
       "  2.77534757e-01 & -4.89120621e-02 & 3.38109814e-01 & -2.00938649e-01\\\\\n",
       "  -4.04057690e-01 & -4.37285114e-01\\\\\n",
       "  3.04417313e-01 & -9.58225566e-02 & -2.91558713e-01 & 3.81761275e-02\\\\\n",
       "  2.08619436e-01 & -3.20990504e-01 & -3.30764202e-01 & -3.43353140e-01\\\\\n",
       "  -3.31670951e-02 & -1.06234335e-02\\\\\n",
       "  -3.90969628e-01 & -2.59338405e-01 & 3.96311503e-01 & 1.54088775e-01\\\\\n",
       "  2.11182042e-01 & 9.56241784e-02 & 3.64917931e-01 & 4.46728207e-02\\\\\n",
       "  -2.35845230e-01 & 2.58008712e-01\\\\\n",
       "  2.62197168e-01 & -4.34214119e-01 & 2.62761423e-01 & -3.62195259e-01\\\\\n",
       "  -1.64725561e-01 & 2.95782560e-02 & -3.12007802e-01 & -2.13158351e-01\\\\\n",
       "  -2.78018461e-01 & -4.01324469e-02\\\\\n",
       "  -3.94573262e-01 & 3.15564761e-01 & -3.73024574e-01 & -5.34407572e-01\\\\\n",
       "  1.43352025e-01 & 6.04435909e-02 & 3.89292553e-04 & -2.19231728e-01\\\\\n",
       "  -7.02784741e-01 & -3.91364649e-01\\\\\n",
       "  2.44071790e-01 & 5.33800145e-01 & -8.39991544e-03 & 2.76057717e-01\\\\\n",
       "  5.37768515e-01 & -1.58166995e-01 & 3.40364202e-01 & 3.62795375e-01\\\\\n",
       "  2.40505642e-01 & -3.56180524e-01\\\\\n",
       "\\end{bmatrix} - 0.7\n",
       "\\begin{bmatrix}\n",
       "  0.59446754\\\\\n",
       "  0.36904784\\\\\n",
       "  0.84189291\\\\\n",
       "  0.57292385\\\\\n",
       "  0.63017147\\\\\n",
       "  0.92639866\\\\\n",
       "  0.11518605\\\\\n",
       "  0.21156765\\\\\n",
       "  0.84200292\\\\\n",
       "  0.10625253\\\\\n",
       "  0.59414523\\\\\n",
       "  0.40830037\\\\\n",
       "  0.11805341\\\\\n",
       "  0.78512905\\\\\n",
       "\\end{bmatrix} \\cdot \n",
       "\\begin{bmatrix}\n",
       "  0.01393542 & 0.20637008 & -0.13528879 & 0.02395688 & -0.03355348 & 0.06286738\\\\\n",
       "  0.06821119 & 0.00356357 & 0.00038592 & -0.02999914\\\\\n",
       "\\end{bmatrix}\\end{gather}"
      ],
      "text/plain": [
       "<IPython.core.display.Latex object>"
      ]
     },
     "metadata": {},
     "output_type": "display_data"
    },
    {
     "data": {
      "text/latex": [
       "Camada: 1"
      ],
      "text/plain": [
       "<IPython.core.display.Latex object>"
      ]
     },
     "metadata": {},
     "output_type": "display_data"
    },
    {
     "data": {
      "text/latex": [
       "\\nabla = \\frac{\\partial E}{\\partial Y} \\frac{\\partial Y}{\\partial X}"
      ],
      "text/plain": [
       "<IPython.core.display.Latex object>"
      ]
     },
     "metadata": {},
     "output_type": "display_data"
    },
    {
     "data": {
      "text/latex": [
       "\\begin{gather}\n",
       "\\begin{bmatrix}\n",
       "  0.0139947 & -0.00759165 & 0.00323759 & -0.00042742 & 0.03844163 & -0.00117569\\\\\n",
       "  -0.0097191 & -0.01181048 & 0.00403589 & -0.00245315 & -0.02236486 & -0.03472619\\\\\n",
       "  0.01113972 & 0.02169692\\\\\n",
       "\\end{bmatrix} = \n",
       "\\begin{bmatrix}\n",
       "  0.05805103 & -0.03260295 & 0.02432283 & -0.00174685 & 0.16494634 & -0.0172428\\\\\n",
       "  -0.09536174 & -0.07080334 & 0.03033726 & -0.02583275 & -0.09274765 & -0.14373948\\\\\n",
       "  0.10699255 & 0.12861139\\\\\n",
       "\\end{bmatrix} \\cdot  \\sigma^{'}(\n",
       "\\begin{bmatrix}\n",
       "  0.3824652 & -0.53630375 & 1.67238021 & 0.29379047 & 0.53295251 & 2.53264145\\\\\n",
       "  -2.03882873 & -1.31550179 & 1.67320694 & -2.12960467 & 0.38112842 & -0.37099601\\\\\n",
       "  -2.01099432 & 1.29581048\\\\\n",
       "\\end{bmatrix}) \\end{gather}"
      ],
      "text/plain": [
       "<IPython.core.display.Latex object>"
      ]
     },
     "metadata": {},
     "output_type": "display_data"
    },
    {
     "data": {
      "text/latex": [
       "Camada: 0"
      ],
      "text/plain": [
       "<IPython.core.display.Latex object>"
      ]
     },
     "metadata": {},
     "output_type": "display_data"
    },
    {
     "data": {
      "text/latex": [
       "\\nabla f_{custo} = \\frac{\\partial E}{\\partial W}"
      ],
      "text/plain": [
       "<IPython.core.display.Latex object>"
      ]
     },
     "metadata": {},
     "output_type": "display_data"
    },
    {
     "data": {
      "text/latex": [
       "\n",
       "\\begin{bmatrix}\n",
       "  0.01823791 & -0.0082094 & 0.05253052 & 0.00878631 & 0.04202093 & 0.03962866\\\\\n",
       "  -0.00628847\\\\\n",
       "\\end{bmatrix} = \n",
       "\\begin{bmatrix}\n",
       "  0.0139947 & -0.00759165 & 0.00323759 & -0.00042742 & 0.03844163 & -0.00117569\\\\\n",
       "  -0.0097191 & -0.01181048 & 0.00403589 & -0.00245315 & -0.02236486 & -0.03472619\\\\\n",
       "  0.01113972 & 0.02169692\\\\\n",
       "\\end{bmatrix} \\cdot \n",
       "\\begin{bmatrix}\n",
       "  0.06073811 & -0.76687749 & -0.35352419 & 0.05029388 & 0.39420648 & -0.19814444\\\\\n",
       "  0.88852727\\\\\n",
       "  -0.29756058 & 0.01479758 & -0.30844258 & -0.0414791 & -0.15232884 & 0.25224513\\\\\n",
       "  0.7064695\\\\\n",
       "  0.87985516 & 0.05521351 & 0.29124925 & 0.19595634 & 0.00300328 & 0.0893639\\\\\n",
       "  0.51412383\\\\\n",
       "  -0.08955764 & -0.05522585 & -0.03065598 & 0.29081853 & 0.13420876 & 0.2239074\\\\\n",
       "  0.77217952\\\\\n",
       "  0.57847913 & -0.24978607 & -0.10421938 & 0.09853821 & 0.01390566 & 0.69005809\\\\\n",
       "  0.47241122\\\\\n",
       "  0.2351896 & 0.41098702 & 0.55491739 & 0.37637347 & 0.75087161 & 0.70549606\\\\\n",
       "  0.0709545\\\\\n",
       "  -0.61841376 & -0.98008955 & -1.00986946 & -0.26755436 & -0.50211052 & -0.76702867\\\\\n",
       "  0.87589183\\\\\n",
       "  -0.19441692 & -0.27721117 & -0.95773232 & 0.25891603 & -0.19553628 & 0.63604448\\\\\n",
       "  0.01984371\\\\\n",
       "  0.21056465 & -0.70917953 & -0.20054834 & 0.68299829 & 0.91063922 & 0.62125296\\\\\n",
       "  0.56093712\\\\\n",
       "  -0.44276086 & -0.35211093 & -0.49112842 & -0.38062615 & -0.3415499 & -0.20882021\\\\\n",
       "  0.35331517\\\\\n",
       "  -0.12219018 & -0.04019611 & -0.76543062 & 0.62892578 & -0.22098521 & -0.04569549\\\\\n",
       "  0.01753385\\\\\n",
       "  0.43645982 & -0.5133831 & -0.68660106 & -0.11783995 & -0.07941505 & -0.02591739\\\\\n",
       "  0.89472308\\\\\n",
       "  -0.44187341 & -0.83993564 & -0.64921175 & -0.09770595 & 0.26982602 & 0.09442109\\\\\n",
       "  0.02184661\\\\\n",
       "  -0.12054831 & -0.35273147 & 0.16535283 & 0.54115456 & 0.61461033 & 0.57562204\\\\\n",
       "  0.26722728\\\\\n",
       "\\end{bmatrix}"
      ],
      "text/plain": [
       "<IPython.core.display.Latex object>"
      ]
     },
     "metadata": {},
     "output_type": "display_data"
    },
    {
     "data": {
      "text/latex": [
       "W = W - \\lambda (X \\cdot \\nabla f_{custo})"
      ],
      "text/plain": [
       "<IPython.core.display.Latex object>"
      ]
     },
     "metadata": {},
     "output_type": "display_data"
    },
    {
     "data": {
      "text/latex": [
       "\\begin{gather}\n",
       "\\begin{bmatrix}\n",
       "  5.09418213e-02 & -2.92246430e-01 & 8.77588848e-01 & -8.92584420e-02\\\\\n",
       "  5.51569982e-01 & 2.36012585e-01 & -6.11610391e-01 & -1.86149590e-01\\\\\n",
       "  2.07739529e-01 & -4.41043651e-01 & -1.06534781e-01 & 4.60768154e-01\\\\\n",
       "  -4.49671215e-01 & -1.35736153e-01\\\\\n",
       "  -7.76673783e-01 & 2.01117376e-02 & 5.29471968e-02 & -5.49266544e-02\\\\\n",
       "  -2.76695214e-01 & 4.11810000e-01 & -9.73286185e-01 & -2.68943837e-01\\\\\n",
       "  -7.12004654e-01 & -3.50393720e-01 & -2.45407047e-02 & -4.89074770e-01\\\\\n",
       "  -8.47733449e-01 & -3.67919314e-01\\\\\n",
       "  -3.53524188e-01 & -3.08442576e-01 & 2.91249255e-01 & -3.06559776e-02\\\\\n",
       "  -1.04219382e-01 & 5.54917392e-01 & -1.00986946e+00 & -9.57732318e-01\\\\\n",
       "  -2.00548337e-01 & -4.91128425e-01 & -7.65430622e-01 & -6.86601055e-01\\\\\n",
       "  -6.49211747e-01 & 1.65352829e-01\\\\\n",
       "  4.04975887e-02 & -3.61649501e-02 & 1.93690029e-01 & 2.91117721e-01\\\\\n",
       "  7.16290645e-02 & 3.77196451e-01 & -2.60750991e-01 & 2.67183361e-01\\\\\n",
       "  6.80173171e-01 & -3.78908945e-01 & 6.44581184e-01 & -9.35316201e-02\\\\\n",
       "  -1.05503756e-01 & 5.25966716e-01\\\\\n",
       "  3.84410183e-01 & -1.47014683e-01 & 7.36963257e-04 & 1.34507955e-01\\\\\n",
       "  -1.30034824e-02 & 7.51694592e-01 & -4.95307152e-01 & -1.87268942e-01\\\\\n",
       "  9.07814094e-01 & -3.39832695e-01 & -2.05329811e-01 & -5.51067165e-02\\\\\n",
       "  2.62028210e-01 & 5.99422483e-01\\\\\n",
       "  -1.98144442e-01 & 2.52245133e-01 & 8.93638953e-02 & 2.23907397e-01\\\\\n",
       "  6.90058091e-01 & 7.05496062e-01 & -7.67028668e-01 & 6.36044481e-01\\\\\n",
       "  6.21252958e-01 & -2.08820208e-01 & -4.56954929e-02 & -2.59173851e-02\\\\\n",
       "  9.44210930e-02 & 5.75622035e-01\\\\\n",
       "  8.78730979e-01 & 7.11783652e-01 & 5.11857512e-01 & 7.72478716e-01\\\\\n",
       "  4.45502072e-01 & 7.17774819e-02 & 8.82695195e-01 & 2.81110400e-02\\\\\n",
       "  5.58111999e-01 & 3.55032374e-01 & 3.31892480e-02 & 9.19031412e-01\\\\\n",
       "  1.40488025e-02 & 2.52039436e-01\\\\\n",
       "\\end{bmatrix} = \n",
       "\\begin{bmatrix}\n",
       "  0.06073811 & -0.29756058 & 0.87985516 & -0.08955764 & 0.57847913 & 0.2351896\\\\\n",
       "  -0.61841376 & -0.19441692 & 0.21056465 & -0.44276086 & -0.12219018 & 0.43645982\\\\\n",
       "  -0.44187341 & -0.12054831\\\\\n",
       "  -0.76687749 & 0.01479758 & 0.05521351 & -0.05522585 & -0.24978607 & 0.41098702\\\\\n",
       "  -0.98008955 & -0.27721117 & -0.70917953 & -0.35211093 & -0.04019611 & -0.5133831\\\\\n",
       "  -0.83993564 & -0.35273147\\\\\n",
       "  -0.35352419 & -0.30844258 & 0.29124925 & -0.03065598 & -0.10421938 & 0.55491739\\\\\n",
       "  -1.00986946 & -0.95773232 & -0.20054834 & -0.49112842 & -0.76543062 & -0.68660106\\\\\n",
       "  -0.64921175 & 0.16535283\\\\\n",
       "  0.05029388 & -0.0414791 & 0.19595634 & 0.29081853 & 0.09853821 & 0.37637347\\\\\n",
       "  -0.26755436 & 0.25891603 & 0.68299829 & -0.38062615 & 0.62892578 & -0.11783995\\\\\n",
       "  -0.09770595 & 0.54115456\\\\\n",
       "  0.39420648 & -0.15232884 & 0.00300328 & 0.13420876 & 0.01390566 & 0.75087161\\\\\n",
       "  -0.50211052 & -0.19553628 & 0.91063922 & -0.3415499 & -0.22098521 & -0.07941505\\\\\n",
       "  0.26982602 & 0.61461033\\\\\n",
       "  -0.19814444 & 0.25224513 & 0.0893639 & 0.2239074 & 0.69005809 & 0.70549606\\\\\n",
       "  -0.76702867 & 0.63604448 & 0.62125296 & -0.20882021 & -0.04569549 & -0.02591739\\\\\n",
       "  0.09442109 & 0.57562204\\\\\n",
       "  0.88852727 & 0.7064695 & 0.51412383 & 0.77217952 & 0.47241122 & 0.0709545\\\\\n",
       "  0.87589183 & 0.01984371 & 0.56093712 & 0.35331517 & 0.01753385 & 0.89472308\\\\\n",
       "  0.02184661 & 0.26722728\\\\\n",
       "\\end{bmatrix} - 0.7\n",
       "\\begin{bmatrix}\n",
       "  1\\\\\n",
       "  1\\\\\n",
       "  0\\\\\n",
       "  1\\\\\n",
       "  1\\\\\n",
       "  0\\\\\n",
       "  1\\\\\n",
       "\\end{bmatrix} \\cdot \n",
       "\\begin{bmatrix}\n",
       "  0.0139947 & -0.00759165 & 0.00323759 & -0.00042742 & 0.03844163 & -0.00117569\\\\\n",
       "  -0.0097191 & -0.01181048 & 0.00403589 & -0.00245315 & -0.02236486 & -0.03472619\\\\\n",
       "  0.01113972 & 0.02169692\\\\\n",
       "\\end{bmatrix}\\end{gather}"
      ],
      "text/plain": [
       "<IPython.core.display.Latex object>"
      ]
     },
     "metadata": {},
     "output_type": "display_data"
    },
    {
     "data": {
      "text/latex": [
       "Camada: 0"
      ],
      "text/plain": [
       "<IPython.core.display.Latex object>"
      ]
     },
     "metadata": {},
     "output_type": "display_data"
    },
    {
     "data": {
      "text/latex": [
       "Y = Xw + b"
      ],
      "text/plain": [
       "<IPython.core.display.Latex object>"
      ]
     },
     "metadata": {},
     "output_type": "display_data"
    },
    {
     "data": {
      "text/latex": [
       "\\begin{gather}\n",
       "\\begin{bmatrix}\n",
       "  -0.41424692 & -0.66584673 & 1.94929461 & 0.13042171 & 0.28028175 & 2.34080213\\\\\n",
       "  -2.51257082 & -2.03636116 & 0.54789378 & -2.27059716 & -0.08503998 & -0.85664035\\\\\n",
       "  -2.96902111 & 0.77061375\\\\\n",
       "\\end{bmatrix} = \n",
       "\\begin{bmatrix}\n",
       "  1 & 1 & 1 & 1 & 0 & 0 & 1\\\\\n",
       "\\end{bmatrix} \\cdot \n",
       "\\begin{bmatrix}\n",
       "  5.09418213e-02 & -2.92246430e-01 & 8.77588848e-01 & -8.92584420e-02\\\\\n",
       "  5.51569982e-01 & 2.36012585e-01 & -6.11610391e-01 & -1.86149590e-01\\\\\n",
       "  2.07739529e-01 & -4.41043651e-01 & -1.06534781e-01 & 4.60768154e-01\\\\\n",
       "  -4.49671215e-01 & -1.35736153e-01\\\\\n",
       "  -7.76673783e-01 & 2.01117376e-02 & 5.29471968e-02 & -5.49266544e-02\\\\\n",
       "  -2.76695214e-01 & 4.11810000e-01 & -9.73286185e-01 & -2.68943837e-01\\\\\n",
       "  -7.12004654e-01 & -3.50393720e-01 & -2.45407047e-02 & -4.89074770e-01\\\\\n",
       "  -8.47733449e-01 & -3.67919314e-01\\\\\n",
       "  -3.53524188e-01 & -3.08442576e-01 & 2.91249255e-01 & -3.06559776e-02\\\\\n",
       "  -1.04219382e-01 & 5.54917392e-01 & -1.00986946e+00 & -9.57732318e-01\\\\\n",
       "  -2.00548337e-01 & -4.91128425e-01 & -7.65430622e-01 & -6.86601055e-01\\\\\n",
       "  -6.49211747e-01 & 1.65352829e-01\\\\\n",
       "  4.04975887e-02 & -3.61649501e-02 & 1.93690029e-01 & 2.91117721e-01\\\\\n",
       "  7.16290645e-02 & 3.77196451e-01 & -2.60750991e-01 & 2.67183361e-01\\\\\n",
       "  6.80173171e-01 & -3.78908945e-01 & 6.44581184e-01 & -9.35316201e-02\\\\\n",
       "  -1.05503756e-01 & 5.25966716e-01\\\\\n",
       "  3.84410183e-01 & -1.47014683e-01 & 7.36963257e-04 & 1.34507955e-01\\\\\n",
       "  -1.30034824e-02 & 7.51694592e-01 & -4.95307152e-01 & -1.87268942e-01\\\\\n",
       "  9.07814094e-01 & -3.39832695e-01 & -2.05329811e-01 & -5.51067165e-02\\\\\n",
       "  2.62028210e-01 & 5.99422483e-01\\\\\n",
       "  -1.98144442e-01 & 2.52245133e-01 & 8.93638953e-02 & 2.23907397e-01\\\\\n",
       "  6.90058091e-01 & 7.05496062e-01 & -7.67028668e-01 & 6.36044481e-01\\\\\n",
       "  6.21252958e-01 & -2.08820208e-01 & -4.56954929e-02 & -2.59173851e-02\\\\\n",
       "  9.44210930e-02 & 5.75622035e-01\\\\\n",
       "  8.78730979e-01 & 7.11783652e-01 & 5.11857512e-01 & 7.72478716e-01\\\\\n",
       "  4.45502072e-01 & 7.17774819e-02 & 8.82695195e-01 & 2.81110400e-02\\\\\n",
       "  5.58111999e-01 & 3.55032374e-01 & 3.31892480e-02 & 9.19031412e-01\\\\\n",
       "  1.40488025e-02 & 2.52039436e-01\\\\\n",
       "\\end{bmatrix} + \n",
       "\\begin{bmatrix}\n",
       "  -0.25421934 & -0.76088816 & 0.02196177 & -0.75833365 & -0.40750477 & 0.68908822\\\\\n",
       "  -0.53974899 & -0.91882982 & 0.01442207 & -0.96415479 & 0.1336957 & -0.96723247\\\\\n",
       "  -0.93094974 & 0.33091023\\\\\n",
       "\\end{bmatrix}\\end{gather}"
      ],
      "text/plain": [
       "<IPython.core.display.Latex object>"
      ]
     },
     "metadata": {},
     "output_type": "display_data"
    },
    {
     "data": {
      "text/latex": [
       "Camada: 1"
      ],
      "text/plain": [
       "<IPython.core.display.Latex object>"
      ]
     },
     "metadata": {},
     "output_type": "display_data"
    },
    {
     "data": {
      "text/latex": [
       "Y = \\sigma(X)"
      ],
      "text/plain": [
       "<IPython.core.display.Latex object>"
      ]
     },
     "metadata": {},
     "output_type": "display_data"
    },
    {
     "data": {
      "text/latex": [
       "\\begin{gather}\n",
       "\\begin{bmatrix}\n",
       "  0.39789423 & 0.33942745 & 0.87536971 & 0.53255929 & 0.5696153 & 0.91220035\\\\\n",
       "  0.0749816 & 0.11543778 & 0.63364679 & 0.09358754 & 0.47875281 & 0.29804175\\\\\n",
       "  0.04884518 & 0.68365364\\\\\n",
       "\\end{bmatrix} = \\sigma(\n",
       "\\begin{bmatrix}\n",
       "  -0.41424692 & -0.66584673 & 1.94929461 & 0.13042171 & 0.28028175 & 2.34080213\\\\\n",
       "  -2.51257082 & -2.03636116 & 0.54789378 & -2.27059716 & -0.08503998 & -0.85664035\\\\\n",
       "  -2.96902111 & 0.77061375\\\\\n",
       "\\end{bmatrix}) \\end{gather}"
      ],
      "text/plain": [
       "<IPython.core.display.Latex object>"
      ]
     },
     "metadata": {},
     "output_type": "display_data"
    },
    {
     "data": {
      "text/latex": [
       "Camada: 2"
      ],
      "text/plain": [
       "<IPython.core.display.Latex object>"
      ]
     },
     "metadata": {},
     "output_type": "display_data"
    },
    {
     "data": {
      "text/latex": [
       "Y = Xw + b"
      ],
      "text/plain": [
       "<IPython.core.display.Latex object>"
      ]
     },
     "metadata": {},
     "output_type": "display_data"
    },
    {
     "data": {
      "text/latex": [
       "\\begin{gather}\n",
       "\\begin{bmatrix}\n",
       "  0.14377272 & 0.18497192 & 0.77446512 & -0.04217278 & -0.10987238 & 0.27827284\\\\\n",
       "  0.08009605 & -0.06327179 & 0.24490858 & 0.10118743\\\\\n",
       "\\end{bmatrix} = \n",
       "\\begin{bmatrix}\n",
       "  0.39789423 & 0.33942745 & 0.87536971 & 0.53255929 & 0.5696153 & 0.91220035\\\\\n",
       "  0.0749816 & 0.11543778 & 0.63364679 & 0.09358754 & 0.47875281 & 0.29804175\\\\\n",
       "  0.04884518 & 0.68365364\\\\\n",
       "\\end{bmatrix} \\cdot \n",
       "\\begin{bmatrix}\n",
       "  -0.34148339 & 0.52794371 & 0.38572494 & 0.20987377 & -0.41192208 & -0.482382\\\\\n",
       "  -0.25013638 & 0.22262543 & -0.23619645 & -0.12638427\\\\\n",
       "  0.25641377 & -0.01250669 & -0.10172034 & -0.30594978 & 0.24752363 & -0.26762337\\\\\n",
       "  -0.3797651 & 0.1474371 & 0.38204556 & 0.27814674\\\\\n",
       "  -0.2463209 & -0.37055401 & -0.14542044 & -0.42728841 & -0.33485611 & 0.37268168\\\\\n",
       "  0.14724707 & -0.23739552 & 0.34608075 & -0.27276008\\\\\n",
       "  0.27685158 & -0.42171341 & -0.36605204 & 0.24519464 & 0.05589472 & -0.07626891\\\\\n",
       "  0.17486639 & -0.22939465 & -0.0352509 & 0.24654921\\\\\n",
       "  -0.49320196 & 0.52176727 & -0.18905458 & 0.22119748 & -0.28824741 & -0.18325903\\\\\n",
       "  0.03432458 & 0.5493328 & -0.51930778 & 0.02925798\\\\\n",
       "  0.26900092 & -0.07822353 & 0.48307954 & 0.08390915 & -0.17600739 & 0.29461667\\\\\n",
       "  -0.11479758 & -0.25529627 & 0.42000293 & 0.14133682\\\\\n",
       "  -0.35949315 & -0.05045477 & 0.21561175 & -0.22694452 & 0.25580534 & -0.77513405\\\\\n",
       "  -0.168802 & 0.43288682 & -0.75023082 & -0.54708518\\\\\n",
       "  -0.52536582 & -0.32000487 & -0.32717557 & -0.1158041 & 0.06263684 & -0.3159864\\\\\n",
       "  -0.39051214 & 0.17525924 & 0.27108141 & 0.05881851\\\\\n",
       "  0.08727302 & -0.20261315 & -0.04417822 & 0.23764819 & 0.29731125 & -0.08596622\\\\\n",
       "  0.297906 & -0.20303903 & -0.40428515 & -0.41960356\\\\\n",
       "  0.30338084 & -0.1111717 & -0.28149637 & 0.03639429 & 0.21111504 & -0.32566638\\\\\n",
       "  -0.33583753 & -0.34361819 & -0.0331958 & -0.00839219\\\\\n",
       "  -0.39676539 & -0.34516806 & 0.45257834 & 0.14412507 & 0.22513699 & 0.06947753\\\\\n",
       "  0.33654878 & 0.04319072 & -0.23600573 & 0.27048541\\\\\n",
       "  0.25821428 & -0.4931968 & 0.30142835 & -0.36904238 & -0.15513563 & 0.01161011\\\\\n",
       "  -0.33150326 & -0.21417686 & -0.27812876 & -0.03155838\\\\\n",
       "  -0.39572485 & 0.29851088 & -0.36184466 & -0.53638731 & 0.1461248 & 0.05524839\\\\\n",
       "  -0.0052475 & -0.21952621 & -0.70281663 & -0.3888856\\\\\n",
       "  0.23641302 & 0.42038115 & 0.0659535 & 0.26289124 & 0.55620918 & -0.1927183\\\\\n",
       "  0.30287599 & 0.36083687 & 0.24029355 & -0.33969329\\\\\n",
       "\\end{bmatrix} + \n",
       "\\begin{bmatrix}\n",
       "  0.27095578 & 0.49204013 & 0.38679128 & -0.21706046 & -0.12538692 & 0.38294894\\\\\n",
       "  -0.19705707 & -0.03663463 & 0.18789166 & 0.45097003\\\\\n",
       "\\end{bmatrix}\\end{gather}"
      ],
      "text/plain": [
       "<IPython.core.display.Latex object>"
      ]
     },
     "metadata": {},
     "output_type": "display_data"
    },
    {
     "data": {
      "text/latex": [
       "f_{custo}(\n",
       "\\begin{bmatrix}\n",
       "  0 & 0 & 0 & 1 & 0 & 0 & 0 & 0 & 0 & 0\\\\\n",
       "\\end{bmatrix},\n",
       "\\begin{bmatrix}\n",
       "  0.14377272 & 0.18497192 & 0.77446512 & -0.04217278 & -0.10987238 & 0.27827284\\\\\n",
       "  0.08009605 & -0.06327179 & 0.24490858 & 0.10118743\\\\\n",
       "\\end{bmatrix}) = \n",
       "\\begin{bmatrix}\n",
       "  0.1910951057248668\\\\\n",
       "\\end{bmatrix}"
      ],
      "text/plain": [
       "<IPython.core.display.Latex object>"
      ]
     },
     "metadata": {},
     "output_type": "display_data"
    },
    {
     "data": {
      "text/latex": [
       "\\nabla = \\frac{\\partial E}{\\partial Y} = \n",
       "\\begin{bmatrix}\n",
       "  0.02875454 & 0.03699438 & 0.15489302 & -0.20843456 & -0.02197448 & 0.05565457\\\\\n",
       "  0.01601921 & -0.01265436 & 0.04898172 & 0.02023749\\\\\n",
       "\\end{bmatrix}"
      ],
      "text/plain": [
       "<IPython.core.display.Latex object>"
      ]
     },
     "metadata": {},
     "output_type": "display_data"
    },
    {
     "data": {
      "text/latex": [
       "Camada: 2"
      ],
      "text/plain": [
       "<IPython.core.display.Latex object>"
      ]
     },
     "metadata": {},
     "output_type": "display_data"
    },
    {
     "data": {
      "text/latex": [
       "\\nabla f_{custo} = \\frac{\\partial E}{\\partial W}"
      ],
      "text/plain": [
       "<IPython.core.display.Latex object>"
      ]
     },
     "metadata": {},
     "output_type": "display_data"
    },
    {
     "data": {
      "text/latex": [
       "\n",
       "\\begin{bmatrix}\n",
       "  -0.01303326 & 0.05098443 & 0.09064004 & -0.11195225 & -0.10537897 & 0.1072661\\\\\n",
       "  -0.03626591 & -0.06645229 & -0.09363347 & -0.07216817 & 0.01356064 & 0.0999828\\\\\n",
       "  0.01568126 & -0.03999712\\\\\n",
       "\\end{bmatrix} = \n",
       "\\begin{bmatrix}\n",
       "  0.02875454 & 0.03699438 & 0.15489302 & -0.20843456 & -0.02197448 & 0.05565457\\\\\n",
       "  0.01601921 & -0.01265436 & 0.04898172 & 0.02023749\\\\\n",
       "\\end{bmatrix} \\cdot \n",
       "\\begin{bmatrix}\n",
       "  -0.34148339 & 0.25641377 & -0.2463209 & 0.27685158 & -0.49320196 & 0.26900092\\\\\n",
       "  -0.35949315 & -0.52536582 & 0.08727302 & 0.30338084 & -0.39676539 & 0.25821428\\\\\n",
       "  -0.39572485 & 0.23641302\\\\\n",
       "  0.52794371 & -0.01250669 & -0.37055401 & -0.42171341 & 0.52176727 & -0.07822353\\\\\n",
       "  -0.05045477 & -0.32000487 & -0.20261315 & -0.1111717 & -0.34516806 & -0.4931968\\\\\n",
       "  0.29851088 & 0.42038115\\\\\n",
       "  0.38572494 & -0.10172034 & -0.14542044 & -0.36605204 & -0.18905458 & 0.48307954\\\\\n",
       "  0.21561175 & -0.32717557 & -0.04417822 & -0.28149637 & 0.45257834 & 0.30142835\\\\\n",
       "  -0.36184466 & 0.0659535\\\\\n",
       "  0.20987377 & -0.30594978 & -0.42728841 & 0.24519464 & 0.22119748 & 0.08390915\\\\\n",
       "  -0.22694452 & -0.1158041 & 0.23764819 & 0.03639429 & 0.14412507 & -0.36904238\\\\\n",
       "  -0.53638731 & 0.26289124\\\\\n",
       "  -0.41192208 & 0.24752363 & -0.33485611 & 0.05589472 & -0.28824741 & -0.17600739\\\\\n",
       "  0.25580534 & 0.06263684 & 0.29731125 & 0.21111504 & 0.22513699 & -0.15513563\\\\\n",
       "  0.1461248 & 0.55620918\\\\\n",
       "  -0.482382 & -0.26762337 & 0.37268168 & -0.07626891 & -0.18325903 & 0.29461667\\\\\n",
       "  -0.77513405 & -0.3159864 & -0.08596622 & -0.32566638 & 0.06947753 & 0.01161011\\\\\n",
       "  0.05524839 & -0.1927183\\\\\n",
       "  -0.25013638 & -0.3797651 & 0.14724707 & 0.17486639 & 0.03432458 & -0.11479758\\\\\n",
       "  -0.168802 & -0.39051214 & 0.297906 & -0.33583753 & 0.33654878 & -0.33150326\\\\\n",
       "  -0.0052475 & 0.30287599\\\\\n",
       "  0.22262543 & 0.1474371 & -0.23739552 & -0.22939465 & 0.5493328 & -0.25529627\\\\\n",
       "  0.43288682 & 0.17525924 & -0.20303903 & -0.34361819 & 0.04319072 & -0.21417686\\\\\n",
       "  -0.21952621 & 0.36083687\\\\\n",
       "  -0.23619645 & 0.38204556 & 0.34608075 & -0.0352509 & -0.51930778 & 0.42000293\\\\\n",
       "  -0.75023082 & 0.27108141 & -0.40428515 & -0.0331958 & -0.23600573 & -0.27812876\\\\\n",
       "  -0.70281663 & 0.24029355\\\\\n",
       "  -0.12638427 & 0.27814674 & -0.27276008 & 0.24654921 & 0.02925798 & 0.14133682\\\\\n",
       "  -0.54708518 & 0.05881851 & -0.41960356 & -0.00839219 & 0.27048541 & -0.03155838\\\\\n",
       "  -0.3888856 & -0.33969329\\\\\n",
       "\\end{bmatrix}"
      ],
      "text/plain": [
       "<IPython.core.display.Latex object>"
      ]
     },
     "metadata": {},
     "output_type": "display_data"
    },
    {
     "data": {
      "text/latex": [
       "W = W - \\lambda (X \\cdot \\nabla f_{custo})"
      ],
      "text/plain": [
       "<IPython.core.display.Latex object>"
      ]
     },
     "metadata": {},
     "output_type": "display_data"
    },
    {
     "data": {
      "text/latex": [
       "\\begin{gather}\n",
       "\\begin{bmatrix}\n",
       "  -3.49492281e-01 & 5.17639812e-01 & 3.42583208e-01 & 2.67928205e-01\\\\\n",
       "  -4.05801614e-01 & -4.97883246e-01 & -2.54598143e-01 & 2.26149998e-01\\\\\n",
       "  -2.49839128e-01 & -1.32020938e-01\\\\\n",
       "  2.49581713e-01 & -2.12965272e-02 & -1.38522802e-01 & -2.56425890e-01\\\\\n",
       "  2.52744753e-01 & -2.80846851e-01 & -3.83571252e-01 & 1.50443761e-01\\\\\n",
       "  3.70407547e-01 & 2.73338329e-01\\\\\n",
       "  -2.63940498e-01 & -3.93222643e-01 & -2.40332505e-01 & -2.99568303e-01\\\\\n",
       "  -3.21391054e-01 & 3.38578854e-01 & 1.37431155e-01 & -2.29641454e-01\\\\\n",
       "  3.16066776e-01 & -2.85160775e-01\\\\\n",
       "  2.66132129e-01 & -4.35504601e-01 & -4.23794843e-01 & 3.22897268e-01\\\\\n",
       "  6.40866168e-02 & -9.70164563e-02 & 1.68894560e-01 & -2.24677218e-01\\\\\n",
       "  -5.35108629e-02 & 2.39004843e-01\\\\\n",
       "  -5.04667276e-01 & 5.07016472e-01 & -2.50815188e-01 & 3.04306737e-01\\\\\n",
       "  -2.79485510e-01 & -2.05450214e-01 & 2.79372296e-02 & 5.54378478e-01\\\\\n",
       "  -5.38838293e-01 & 2.11886725e-02\\\\\n",
       "  2.50639984e-01 & -1.01845936e-01 & 3.84174113e-01 & 2.17003000e-01\\\\\n",
       "  -1.61975799e-01 & 2.59078986e-01 & -1.25026491e-01 & -2.47215955e-01\\\\\n",
       "  3.88726138e-01 & 1.28414368e-01\\\\\n",
       "  -3.61002391e-01 & -5.23964982e-02 & 2.07481861e-01 & -2.16004392e-01\\\\\n",
       "  2.56958718e-01 & -7.78055196e-01 & -1.69642806e-01 & 4.33551008e-01\\\\\n",
       "  -7.52801725e-01 & -5.48147388e-01\\\\\n",
       "  -5.27689371e-01 & -3.22994250e-01 & -3.39691923e-01 & -9.89612409e-02\\\\\n",
       "  6.44125234e-02 & -3.20483647e-01 & -3.91806595e-01 & 1.76281791e-01\\\\\n",
       "  2.67123367e-01 & 5.71831946e-02\\\\\n",
       "  7.45188610e-02 & -2.19022110e-01 & -1.12881452e-01 & 3.30099911e-01\\\\\n",
       "  3.07058087e-01 & -1.10651959e-01 & 2.90800632e-01 & -1.97426150e-01\\\\\n",
       "  -4.26011125e-01 & -4.28579951e-01\\\\\n",
       "  3.01497095e-01 & -1.13595246e-01 & -2.91643610e-01 & 5.00491065e-02\\\\\n",
       "  2.12554612e-01 & -3.29312378e-01 & -3.36886969e-01 & -3.42789184e-01\\\\\n",
       "  -3.64046532e-02 & -9.71797784e-03\\\\\n",
       "  -4.06401814e-01 & -3.57565879e-01 & 4.00669508e-01 & 2.13977107e-01\\\\\n",
       "  2.32501231e-01 & 5.08261856e-02 & 3.31180313e-01 & 4.74315415e-02\\\\\n",
       "  -2.52420827e-01 & 2.63703278e-01\\\\\n",
       "  2.52215245e-01 & -5.00914914e-01 & 2.69113136e-01 & -3.25556843e-01\\\\\n",
       "  -1.50551113e-01 & -1.05459306e-06 & -3.34845336e-01 & -2.11536788e-01\\\\\n",
       "  -2.88347777e-01 & -3.57805152e-02\\\\\n",
       "  -3.96708013e-01 & 2.97245979e-01 & -3.67140706e-01 & -5.29260590e-01\\\\\n",
       "  1.46876140e-01 & 5.33454748e-02 & -5.79522530e-03 & -2.19093539e-01\\\\\n",
       "  -7.04491397e-01 & -3.89577551e-01\\\\\n",
       "  2.22652316e-01 & 4.02677204e-01 & -8.17172922e-03 & 3.62639175e-01\\\\\n",
       "  5.66725236e-01 & -2.19352211e-01 & 2.95209875e-01 & 3.66892708e-01\\\\\n",
       "  2.16852977e-01 & -3.49378087e-01\\\\\n",
       "\\end{bmatrix} = \n",
       "\\begin{bmatrix}\n",
       "  -0.34148339 & 0.52794371 & 0.38572494 & 0.20987377 & -0.41192208 & -0.482382\\\\\n",
       "  -0.25013638 & 0.22262543 & -0.23619645 & -0.12638427\\\\\n",
       "  0.25641377 & -0.01250669 & -0.10172034 & -0.30594978 & 0.24752363 & -0.26762337\\\\\n",
       "  -0.3797651 & 0.1474371 & 0.38204556 & 0.27814674\\\\\n",
       "  -0.2463209 & -0.37055401 & -0.14542044 & -0.42728841 & -0.33485611 & 0.37268168\\\\\n",
       "  0.14724707 & -0.23739552 & 0.34608075 & -0.27276008\\\\\n",
       "  0.27685158 & -0.42171341 & -0.36605204 & 0.24519464 & 0.05589472 & -0.07626891\\\\\n",
       "  0.17486639 & -0.22939465 & -0.0352509 & 0.24654921\\\\\n",
       "  -0.49320196 & 0.52176727 & -0.18905458 & 0.22119748 & -0.28824741 & -0.18325903\\\\\n",
       "  0.03432458 & 0.5493328 & -0.51930778 & 0.02925798\\\\\n",
       "  0.26900092 & -0.07822353 & 0.48307954 & 0.08390915 & -0.17600739 & 0.29461667\\\\\n",
       "  -0.11479758 & -0.25529627 & 0.42000293 & 0.14133682\\\\\n",
       "  -0.35949315 & -0.05045477 & 0.21561175 & -0.22694452 & 0.25580534 & -0.77513405\\\\\n",
       "  -0.168802 & 0.43288682 & -0.75023082 & -0.54708518\\\\\n",
       "  -0.52536582 & -0.32000487 & -0.32717557 & -0.1158041 & 0.06263684 & -0.3159864\\\\\n",
       "  -0.39051214 & 0.17525924 & 0.27108141 & 0.05881851\\\\\n",
       "  0.08727302 & -0.20261315 & -0.04417822 & 0.23764819 & 0.29731125 & -0.08596622\\\\\n",
       "  0.297906 & -0.20303903 & -0.40428515 & -0.41960356\\\\\n",
       "  0.30338084 & -0.1111717 & -0.28149637 & 0.03639429 & 0.21111504 & -0.32566638\\\\\n",
       "  -0.33583753 & -0.34361819 & -0.0331958 & -0.00839219\\\\\n",
       "  -0.39676539 & -0.34516806 & 0.45257834 & 0.14412507 & 0.22513699 & 0.06947753\\\\\n",
       "  0.33654878 & 0.04319072 & -0.23600573 & 0.27048541\\\\\n",
       "  0.25821428 & -0.4931968 & 0.30142835 & -0.36904238 & -0.15513563 & 0.01161011\\\\\n",
       "  -0.33150326 & -0.21417686 & -0.27812876 & -0.03155838\\\\\n",
       "  -0.39572485 & 0.29851088 & -0.36184466 & -0.53638731 & 0.1461248 & 0.05524839\\\\\n",
       "  -0.0052475 & -0.21952621 & -0.70281663 & -0.3888856\\\\\n",
       "  0.23641302 & 0.42038115 & 0.0659535 & 0.26289124 & 0.55620918 & -0.1927183\\\\\n",
       "  0.30287599 & 0.36083687 & 0.24029355 & -0.33969329\\\\\n",
       "\\end{bmatrix} - 0.7\n",
       "\\begin{bmatrix}\n",
       "  0.39789423\\\\\n",
       "  0.33942745\\\\\n",
       "  0.87536971\\\\\n",
       "  0.53255929\\\\\n",
       "  0.5696153\\\\\n",
       "  0.91220035\\\\\n",
       "  0.0749816\\\\\n",
       "  0.11543778\\\\\n",
       "  0.63364679\\\\\n",
       "  0.09358754\\\\\n",
       "  0.47875281\\\\\n",
       "  0.29804175\\\\\n",
       "  0.04884518\\\\\n",
       "  0.68365364\\\\\n",
       "\\end{bmatrix} \\cdot \n",
       "\\begin{bmatrix}\n",
       "  0.02875454 & 0.03699438 & 0.15489302 & -0.20843456 & -0.02197448 & 0.05565457\\\\\n",
       "  0.01601921 & -0.01265436 & 0.04898172 & 0.02023749\\\\\n",
       "\\end{bmatrix}\\end{gather}"
      ],
      "text/plain": [
       "<IPython.core.display.Latex object>"
      ]
     },
     "metadata": {},
     "output_type": "display_data"
    },
    {
     "data": {
      "text/latex": [
       "Camada: 1"
      ],
      "text/plain": [
       "<IPython.core.display.Latex object>"
      ]
     },
     "metadata": {},
     "output_type": "display_data"
    },
    {
     "data": {
      "text/latex": [
       "\\nabla = \\frac{\\partial E}{\\partial Y} \\frac{\\partial Y}{\\partial X}"
      ],
      "text/plain": [
       "<IPython.core.display.Latex object>"
      ]
     },
     "metadata": {},
     "output_type": "display_data"
    },
    {
     "data": {
      "text/latex": [
       "\\begin{gather}\n",
       "\\begin{bmatrix}\n",
       "  -0.00312244 & 0.01143155 & 0.00988861 & -0.02786938 & -0.02583405 & 0.00859104\\\\\n",
       "  -0.00251538 & -0.00678557 & -0.02173594 & -0.00612195 & 0.00338404 & 0.02091769\\\\\n",
       "  0.00072854 & -0.00865023\\\\\n",
       "\\end{bmatrix} = \n",
       "\\begin{bmatrix}\n",
       "  -0.01303326 & 0.05098443 & 0.09064004 & -0.11195225 & -0.10537897 & 0.1072661\\\\\n",
       "  -0.03626591 & -0.06645229 & -0.09363347 & -0.07216817 & 0.01356064 & 0.0999828\\\\\n",
       "  0.01568126 & -0.03999712\\\\\n",
       "\\end{bmatrix} \\cdot  \\sigma^{'}(\n",
       "\\begin{bmatrix}\n",
       "  -0.41424692 & -0.66584673 & 1.94929461 & 0.13042171 & 0.28028175 & 2.34080213\\\\\n",
       "  -2.51257082 & -2.03636116 & 0.54789378 & -2.27059716 & -0.08503998 & -0.85664035\\\\\n",
       "  -2.96902111 & 0.77061375\\\\\n",
       "\\end{bmatrix}) \\end{gather}"
      ],
      "text/plain": [
       "<IPython.core.display.Latex object>"
      ]
     },
     "metadata": {},
     "output_type": "display_data"
    },
    {
     "data": {
      "text/latex": [
       "Camada: 0"
      ],
      "text/plain": [
       "<IPython.core.display.Latex object>"
      ]
     },
     "metadata": {},
     "output_type": "display_data"
    },
    {
     "data": {
      "text/latex": [
       "\\nabla f_{custo} = \\frac{\\partial E}{\\partial W}"
      ],
      "text/plain": [
       "<IPython.core.display.Latex object>"
      ]
     },
     "metadata": {},
     "output_type": "display_data"
    },
    {
     "data": {
      "text/latex": [
       "\n",
       "\\begin{bmatrix}\n",
       "  0.00655456 & 0.02954132 & 0.00632108 & -0.0233712 & -0.02180543 & -0.03383921\\\\\n",
       "  -0.02151569\\\\\n",
       "\\end{bmatrix} = \n",
       "\\begin{bmatrix}\n",
       "  -0.00312244 & 0.01143155 & 0.00988861 & -0.02786938 & -0.02583405 & 0.00859104\\\\\n",
       "  -0.00251538 & -0.00678557 & -0.02173594 & -0.00612195 & 0.00338404 & 0.02091769\\\\\n",
       "  0.00072854 & -0.00865023\\\\\n",
       "\\end{bmatrix} \\cdot \n",
       "\\begin{bmatrix}\n",
       "  5.09418213e-02 & -7.76673783e-01 & -3.53524188e-01 & 4.04975887e-02\\\\\n",
       "  3.84410183e-01 & -1.98144442e-01 & 8.78730979e-01\\\\\n",
       "  -2.92246430e-01 & 2.01117376e-02 & -3.08442576e-01 & -3.61649501e-02\\\\\n",
       "  -1.47014683e-01 & 2.52245133e-01 & 7.11783652e-01\\\\\n",
       "  8.77588848e-01 & 5.29471968e-02 & 2.91249255e-01 & 1.93690029e-01\\\\\n",
       "  7.36963257e-04 & 8.93638953e-02 & 5.11857512e-01\\\\\n",
       "  -8.92584420e-02 & -5.49266544e-02 & -3.06559776e-02 & 2.91117721e-01\\\\\n",
       "  1.34507955e-01 & 2.23907397e-01 & 7.72478716e-01\\\\\n",
       "  5.51569982e-01 & -2.76695214e-01 & -1.04219382e-01 & 7.16290645e-02\\\\\n",
       "  -1.30034824e-02 & 6.90058091e-01 & 4.45502072e-01\\\\\n",
       "  2.36012585e-01 & 4.11810000e-01 & 5.54917392e-01 & 3.77196451e-01\\\\\n",
       "  7.51694592e-01 & 7.05496062e-01 & 7.17774819e-02\\\\\n",
       "  -6.11610391e-01 & -9.73286185e-01 & -1.00986946e+00 & -2.60750991e-01\\\\\n",
       "  -4.95307152e-01 & -7.67028668e-01 & 8.82695195e-01\\\\\n",
       "  -1.86149590e-01 & -2.68943837e-01 & -9.57732318e-01 & 2.67183361e-01\\\\\n",
       "  -1.87268942e-01 & 6.36044481e-01 & 2.81110400e-02\\\\\n",
       "  2.07739529e-01 & -7.12004654e-01 & -2.00548337e-01 & 6.80173171e-01\\\\\n",
       "  9.07814094e-01 & 6.21252958e-01 & 5.58111999e-01\\\\\n",
       "  -4.41043651e-01 & -3.50393720e-01 & -4.91128425e-01 & -3.78908945e-01\\\\\n",
       "  -3.39832695e-01 & -2.08820208e-01 & 3.55032374e-01\\\\\n",
       "  -1.06534781e-01 & -2.45407047e-02 & -7.65430622e-01 & 6.44581184e-01\\\\\n",
       "  -2.05329811e-01 & -4.56954929e-02 & 3.31892480e-02\\\\\n",
       "  4.60768154e-01 & -4.89074770e-01 & -6.86601055e-01 & -9.35316201e-02\\\\\n",
       "  -5.51067165e-02 & -2.59173851e-02 & 9.19031412e-01\\\\\n",
       "  -4.49671215e-01 & -8.47733449e-01 & -6.49211747e-01 & -1.05503756e-01\\\\\n",
       "  2.62028210e-01 & 9.44210930e-02 & 1.40488025e-02\\\\\n",
       "  -1.35736153e-01 & -3.67919314e-01 & 1.65352829e-01 & 5.25966716e-01\\\\\n",
       "  5.99422483e-01 & 5.75622035e-01 & 2.52039436e-01\\\\\n",
       "\\end{bmatrix}"
      ],
      "text/plain": [
       "<IPython.core.display.Latex object>"
      ]
     },
     "metadata": {},
     "output_type": "display_data"
    },
    {
     "data": {
      "text/latex": [
       "W = W - \\lambda (X \\cdot \\nabla f_{custo})"
      ],
      "text/plain": [
       "<IPython.core.display.Latex object>"
      ]
     },
     "metadata": {},
     "output_type": "display_data"
    },
    {
     "data": {
      "text/latex": [
       "\\begin{gather}\n",
       "\\begin{bmatrix}\n",
       "  5.31275259e-02 & -3.00248514e-01 & 8.70666821e-01 & -6.97498753e-02\\\\\n",
       "  5.69653814e-01 & 2.29998860e-01 & -6.09849625e-01 & -1.81399691e-01\\\\\n",
       "  2.22954685e-01 & -4.36758287e-01 & -1.08903608e-01 & 4.46125772e-01\\\\\n",
       "  -4.50181193e-01 & -1.29680990e-01\\\\\n",
       "  -7.74488079e-01 & 1.21096533e-02 & 4.60251701e-02 & -3.54180878e-02\\\\\n",
       "  -2.58611383e-01 & 4.05796275e-01 & -9.71525419e-01 & -2.64193938e-01\\\\\n",
       "  -6.96789498e-01 & -3.46108356e-01 & -2.69095320e-02 & -5.03717152e-01\\\\\n",
       "  -8.48243427e-01 & -3.61864152e-01\\\\\n",
       "  -3.51338483e-01 & -3.16444660e-01 & 2.84327228e-01 & -1.11474109e-02\\\\\n",
       "  -8.61355502e-02 & 5.48903667e-01 & -1.00810869e+00 & -9.52982419e-01\\\\\n",
       "  -1.85333181e-01 & -4.86843061e-01 & -7.67799450e-01 & -7.01243437e-01\\\\\n",
       "  -6.49721725e-01 & 1.71407991e-01\\\\\n",
       "  4.26832933e-02 & -4.41670344e-02 & 1.86768003e-01 & 3.10626287e-01\\\\\n",
       "  8.97128961e-02 & 3.71182726e-01 & -2.58990225e-01 & 2.71933260e-01\\\\\n",
       "  6.95388327e-01 & -3.74623582e-01 & 6.42212357e-01 & -1.08174002e-01\\\\\n",
       "  -1.06013734e-01 & 5.32021879e-01\\\\\n",
       "  3.84410183e-01 & -1.47014683e-01 & 7.36963257e-04 & 1.34507955e-01\\\\\n",
       "  -1.30034824e-02 & 7.51694592e-01 & -4.95307152e-01 & -1.87268942e-01\\\\\n",
       "  9.07814094e-01 & -3.39832695e-01 & -2.05329811e-01 & -5.51067165e-02\\\\\n",
       "  2.62028210e-01 & 5.99422483e-01\\\\\n",
       "  -1.98144442e-01 & 2.52245133e-01 & 8.93638953e-02 & 2.23907397e-01\\\\\n",
       "  6.90058091e-01 & 7.05496062e-01 & -7.67028668e-01 & 6.36044481e-01\\\\\n",
       "  6.21252958e-01 & -2.08820208e-01 & -4.56954929e-02 & -2.59173851e-02\\\\\n",
       "  9.44210930e-02 & 5.75622035e-01\\\\\n",
       "  8.80916683e-01 & 7.03781568e-01 & 5.04935486e-01 & 7.91987283e-01\\\\\n",
       "  4.63585904e-01 & 6.57637573e-02 & 8.84455961e-01 & 3.28609389e-02\\\\\n",
       "  5.73327155e-01 & 3.59317737e-01 & 3.08204207e-02 & 9.04389030e-01\\\\\n",
       "  1.35388241e-02 & 2.58094599e-01\\\\\n",
       "\\end{bmatrix} = \n",
       "\\begin{bmatrix}\n",
       "  5.09418213e-02 & -2.92246430e-01 & 8.77588848e-01 & -8.92584420e-02\\\\\n",
       "  5.51569982e-01 & 2.36012585e-01 & -6.11610391e-01 & -1.86149590e-01\\\\\n",
       "  2.07739529e-01 & -4.41043651e-01 & -1.06534781e-01 & 4.60768154e-01\\\\\n",
       "  -4.49671215e-01 & -1.35736153e-01\\\\\n",
       "  -7.76673783e-01 & 2.01117376e-02 & 5.29471968e-02 & -5.49266544e-02\\\\\n",
       "  -2.76695214e-01 & 4.11810000e-01 & -9.73286185e-01 & -2.68943837e-01\\\\\n",
       "  -7.12004654e-01 & -3.50393720e-01 & -2.45407047e-02 & -4.89074770e-01\\\\\n",
       "  -8.47733449e-01 & -3.67919314e-01\\\\\n",
       "  -3.53524188e-01 & -3.08442576e-01 & 2.91249255e-01 & -3.06559776e-02\\\\\n",
       "  -1.04219382e-01 & 5.54917392e-01 & -1.00986946e+00 & -9.57732318e-01\\\\\n",
       "  -2.00548337e-01 & -4.91128425e-01 & -7.65430622e-01 & -6.86601055e-01\\\\\n",
       "  -6.49211747e-01 & 1.65352829e-01\\\\\n",
       "  4.04975887e-02 & -3.61649501e-02 & 1.93690029e-01 & 2.91117721e-01\\\\\n",
       "  7.16290645e-02 & 3.77196451e-01 & -2.60750991e-01 & 2.67183361e-01\\\\\n",
       "  6.80173171e-01 & -3.78908945e-01 & 6.44581184e-01 & -9.35316201e-02\\\\\n",
       "  -1.05503756e-01 & 5.25966716e-01\\\\\n",
       "  3.84410183e-01 & -1.47014683e-01 & 7.36963257e-04 & 1.34507955e-01\\\\\n",
       "  -1.30034824e-02 & 7.51694592e-01 & -4.95307152e-01 & -1.87268942e-01\\\\\n",
       "  9.07814094e-01 & -3.39832695e-01 & -2.05329811e-01 & -5.51067165e-02\\\\\n",
       "  2.62028210e-01 & 5.99422483e-01\\\\\n",
       "  -1.98144442e-01 & 2.52245133e-01 & 8.93638953e-02 & 2.23907397e-01\\\\\n",
       "  6.90058091e-01 & 7.05496062e-01 & -7.67028668e-01 & 6.36044481e-01\\\\\n",
       "  6.21252958e-01 & -2.08820208e-01 & -4.56954929e-02 & -2.59173851e-02\\\\\n",
       "  9.44210930e-02 & 5.75622035e-01\\\\\n",
       "  8.78730979e-01 & 7.11783652e-01 & 5.11857512e-01 & 7.72478716e-01\\\\\n",
       "  4.45502072e-01 & 7.17774819e-02 & 8.82695195e-01 & 2.81110400e-02\\\\\n",
       "  5.58111999e-01 & 3.55032374e-01 & 3.31892480e-02 & 9.19031412e-01\\\\\n",
       "  1.40488025e-02 & 2.52039436e-01\\\\\n",
       "\\end{bmatrix} - 0.7\n",
       "\\begin{bmatrix}\n",
       "  1\\\\\n",
       "  1\\\\\n",
       "  1\\\\\n",
       "  1\\\\\n",
       "  0\\\\\n",
       "  0\\\\\n",
       "  1\\\\\n",
       "\\end{bmatrix} \\cdot \n",
       "\\begin{bmatrix}\n",
       "  -0.00312244 & 0.01143155 & 0.00988861 & -0.02786938 & -0.02583405 & 0.00859104\\\\\n",
       "  -0.00251538 & -0.00678557 & -0.02173594 & -0.00612195 & 0.00338404 & 0.02091769\\\\\n",
       "  0.00072854 & -0.00865023\\\\\n",
       "\\end{bmatrix}\\end{gather}"
      ],
      "text/plain": [
       "<IPython.core.display.Latex object>"
      ]
     },
     "metadata": {},
     "output_type": "display_data"
    },
    {
     "data": {
      "text/latex": [
       "Camada: 0"
      ],
      "text/plain": [
       "<IPython.core.display.Latex object>"
      ]
     },
     "metadata": {},
     "output_type": "display_data"
    },
    {
     "data": {
      "text/latex": [
       "Y = Xw + b"
      ],
      "text/plain": [
       "<IPython.core.display.Latex object>"
      ]
     },
     "metadata": {},
     "output_type": "display_data"
    },
    {
     "data": {
      "text/latex": [
       "\\begin{gather}\n",
       "\\begin{bmatrix}\n",
       "  -0.69508796 & -0.11719855 & 0.93969152 & 0.23050409 & 0.41947612 & 2.40903426\\\\\n",
       "  -2.40019504 & -1.46235085 & 0.34209466 & -1.64232331 & -0.67825718 & -1.30836379\\\\\n",
       "  -2.32146496 & 0.98022587\\\\\n",
       "\\end{bmatrix} = \n",
       "\\begin{bmatrix}\n",
       "  0 & 1 & 1 & 0 & 0 & 1 & 1\\\\\n",
       "\\end{bmatrix} \\cdot \n",
       "\\begin{bmatrix}\n",
       "  5.31275259e-02 & -3.00248514e-01 & 8.70666821e-01 & -6.97498753e-02\\\\\n",
       "  5.69653814e-01 & 2.29998860e-01 & -6.09849625e-01 & -1.81399691e-01\\\\\n",
       "  2.22954685e-01 & -4.36758287e-01 & -1.08903608e-01 & 4.46125772e-01\\\\\n",
       "  -4.50181193e-01 & -1.29680990e-01\\\\\n",
       "  -7.74488079e-01 & 1.21096533e-02 & 4.60251701e-02 & -3.54180878e-02\\\\\n",
       "  -2.58611383e-01 & 4.05796275e-01 & -9.71525419e-01 & -2.64193938e-01\\\\\n",
       "  -6.96789498e-01 & -3.46108356e-01 & -2.69095320e-02 & -5.03717152e-01\\\\\n",
       "  -8.48243427e-01 & -3.61864152e-01\\\\\n",
       "  -3.51338483e-01 & -3.16444660e-01 & 2.84327228e-01 & -1.11474109e-02\\\\\n",
       "  -8.61355502e-02 & 5.48903667e-01 & -1.00810869e+00 & -9.52982419e-01\\\\\n",
       "  -1.85333181e-01 & -4.86843061e-01 & -7.67799450e-01 & -7.01243437e-01\\\\\n",
       "  -6.49721725e-01 & 1.71407991e-01\\\\\n",
       "  4.26832933e-02 & -4.41670344e-02 & 1.86768003e-01 & 3.10626287e-01\\\\\n",
       "  8.97128961e-02 & 3.71182726e-01 & -2.58990225e-01 & 2.71933260e-01\\\\\n",
       "  6.95388327e-01 & -3.74623582e-01 & 6.42212357e-01 & -1.08174002e-01\\\\\n",
       "  -1.06013734e-01 & 5.32021879e-01\\\\\n",
       "  3.84410183e-01 & -1.47014683e-01 & 7.36963257e-04 & 1.34507955e-01\\\\\n",
       "  -1.30034824e-02 & 7.51694592e-01 & -4.95307152e-01 & -1.87268942e-01\\\\\n",
       "  9.07814094e-01 & -3.39832695e-01 & -2.05329811e-01 & -5.51067165e-02\\\\\n",
       "  2.62028210e-01 & 5.99422483e-01\\\\\n",
       "  -1.98144442e-01 & 2.52245133e-01 & 8.93638953e-02 & 2.23907397e-01\\\\\n",
       "  6.90058091e-01 & 7.05496062e-01 & -7.67028668e-01 & 6.36044481e-01\\\\\n",
       "  6.21252958e-01 & -2.08820208e-01 & -4.56954929e-02 & -2.59173851e-02\\\\\n",
       "  9.44210930e-02 & 5.75622035e-01\\\\\n",
       "  8.80916683e-01 & 7.03781568e-01 & 5.04935486e-01 & 7.91987283e-01\\\\\n",
       "  4.63585904e-01 & 6.57637573e-02 & 8.84455961e-01 & 3.28609389e-02\\\\\n",
       "  5.73327155e-01 & 3.59317737e-01 & 3.08204207e-02 & 9.04389030e-01\\\\\n",
       "  1.35388241e-02 & 2.58094599e-01\\\\\n",
       "\\end{bmatrix} + \n",
       "\\begin{bmatrix}\n",
       "  -0.25203364 & -0.76889024 & 0.01503974 & -0.73882509 & -0.38942094 & 0.6830745\\\\\n",
       "  -0.53798822 & -0.91407992 & 0.02963723 & -0.95986943 & 0.13132687 & -0.98187485\\\\\n",
       "  -0.93145972 & 0.33696539\\\\\n",
       "\\end{bmatrix}\\end{gather}"
      ],
      "text/plain": [
       "<IPython.core.display.Latex object>"
      ]
     },
     "metadata": {},
     "output_type": "display_data"
    },
    {
     "data": {
      "text/latex": [
       "Camada: 1"
      ],
      "text/plain": [
       "<IPython.core.display.Latex object>"
      ]
     },
     "metadata": {},
     "output_type": "display_data"
    },
    {
     "data": {
      "text/latex": [
       "Y = \\sigma(X)"
      ],
      "text/plain": [
       "<IPython.core.display.Latex object>"
      ]
     },
     "metadata": {},
     "output_type": "display_data"
    },
    {
     "data": {
      "text/latex": [
       "\\begin{gather}\n",
       "\\begin{bmatrix}\n",
       "  0.33290219 & 0.47073385 & 0.71903734 & 0.55737222 & 0.60335788 & 0.91751362\\\\\n",
       "  0.08315782 & 0.18810803 & 0.58469925 & 0.16214918 & 0.33665039 & 0.21276077\\\\\n",
       "  0.08936078 & 0.72715303\\\\\n",
       "\\end{bmatrix} = \\sigma(\n",
       "\\begin{bmatrix}\n",
       "  -0.69508796 & -0.11719855 & 0.93969152 & 0.23050409 & 0.41947612 & 2.40903426\\\\\n",
       "  -2.40019504 & -1.46235085 & 0.34209466 & -1.64232331 & -0.67825718 & -1.30836379\\\\\n",
       "  -2.32146496 & 0.98022587\\\\\n",
       "\\end{bmatrix}) \\end{gather}"
      ],
      "text/plain": [
       "<IPython.core.display.Latex object>"
      ]
     },
     "metadata": {},
     "output_type": "display_data"
    },
    {
     "data": {
      "text/latex": [
       "Camada: 2"
      ],
      "text/plain": [
       "<IPython.core.display.Latex object>"
      ]
     },
     "metadata": {},
     "output_type": "display_data"
    },
    {
     "data": {
      "text/latex": [
       "Y = Xw + b"
      ],
      "text/plain": [
       "<IPython.core.display.Latex object>"
      ]
     },
     "metadata": {},
     "output_type": "display_data"
    },
    {
     "data": {
      "text/latex": [
       "\\begin{gather}\n",
       "\\begin{bmatrix}\n",
       "  0.14246381 & 0.19625383 & 0.11279531 & 0.62832704 & 0.08020965 & -0.03154272\\\\\n",
       "  -0.09649807 & 0.05200839 & 0.15484344 & 0.0856096\\\\\n",
       "\\end{bmatrix} = \n",
       "\\begin{bmatrix}\n",
       "  0.33290219 & 0.47073385 & 0.71903734 & 0.55737222 & 0.60335788 & 0.91751362\\\\\n",
       "  0.08315782 & 0.18810803 & 0.58469925 & 0.16214918 & 0.33665039 & 0.21276077\\\\\n",
       "  0.08936078 & 0.72715303\\\\\n",
       "\\end{bmatrix} \\cdot \n",
       "\\begin{bmatrix}\n",
       "  -3.49492281e-01 & 5.17639812e-01 & 3.42583208e-01 & 2.67928205e-01\\\\\n",
       "  -4.05801614e-01 & -4.97883246e-01 & -2.54598143e-01 & 2.26149998e-01\\\\\n",
       "  -2.49839128e-01 & -1.32020938e-01\\\\\n",
       "  2.49581713e-01 & -2.12965272e-02 & -1.38522802e-01 & -2.56425890e-01\\\\\n",
       "  2.52744753e-01 & -2.80846851e-01 & -3.83571252e-01 & 1.50443761e-01\\\\\n",
       "  3.70407547e-01 & 2.73338329e-01\\\\\n",
       "  -2.63940498e-01 & -3.93222643e-01 & -2.40332505e-01 & -2.99568303e-01\\\\\n",
       "  -3.21391054e-01 & 3.38578854e-01 & 1.37431155e-01 & -2.29641454e-01\\\\\n",
       "  3.16066776e-01 & -2.85160775e-01\\\\\n",
       "  2.66132129e-01 & -4.35504601e-01 & -4.23794843e-01 & 3.22897268e-01\\\\\n",
       "  6.40866168e-02 & -9.70164563e-02 & 1.68894560e-01 & -2.24677218e-01\\\\\n",
       "  -5.35108629e-02 & 2.39004843e-01\\\\\n",
       "  -5.04667276e-01 & 5.07016472e-01 & -2.50815188e-01 & 3.04306737e-01\\\\\n",
       "  -2.79485510e-01 & -2.05450214e-01 & 2.79372296e-02 & 5.54378478e-01\\\\\n",
       "  -5.38838293e-01 & 2.11886725e-02\\\\\n",
       "  2.50639984e-01 & -1.01845936e-01 & 3.84174113e-01 & 2.17003000e-01\\\\\n",
       "  -1.61975799e-01 & 2.59078986e-01 & -1.25026491e-01 & -2.47215955e-01\\\\\n",
       "  3.88726138e-01 & 1.28414368e-01\\\\\n",
       "  -3.61002391e-01 & -5.23964982e-02 & 2.07481861e-01 & -2.16004392e-01\\\\\n",
       "  2.56958718e-01 & -7.78055196e-01 & -1.69642806e-01 & 4.33551008e-01\\\\\n",
       "  -7.52801725e-01 & -5.48147388e-01\\\\\n",
       "  -5.27689371e-01 & -3.22994250e-01 & -3.39691923e-01 & -9.89612409e-02\\\\\n",
       "  6.44125234e-02 & -3.20483647e-01 & -3.91806595e-01 & 1.76281791e-01\\\\\n",
       "  2.67123367e-01 & 5.71831946e-02\\\\\n",
       "  7.45188610e-02 & -2.19022110e-01 & -1.12881452e-01 & 3.30099911e-01\\\\\n",
       "  3.07058087e-01 & -1.10651959e-01 & 2.90800632e-01 & -1.97426150e-01\\\\\n",
       "  -4.26011125e-01 & -4.28579951e-01\\\\\n",
       "  3.01497095e-01 & -1.13595246e-01 & -2.91643610e-01 & 5.00491065e-02\\\\\n",
       "  2.12554612e-01 & -3.29312378e-01 & -3.36886969e-01 & -3.42789184e-01\\\\\n",
       "  -3.64046532e-02 & -9.71797784e-03\\\\\n",
       "  -4.06401814e-01 & -3.57565879e-01 & 4.00669508e-01 & 2.13977107e-01\\\\\n",
       "  2.32501231e-01 & 5.08261856e-02 & 3.31180313e-01 & 4.74315415e-02\\\\\n",
       "  -2.52420827e-01 & 2.63703278e-01\\\\\n",
       "  2.52215245e-01 & -5.00914914e-01 & 2.69113136e-01 & -3.25556843e-01\\\\\n",
       "  -1.50551113e-01 & -1.05459306e-06 & -3.34845336e-01 & -2.11536788e-01\\\\\n",
       "  -2.88347777e-01 & -3.57805152e-02\\\\\n",
       "  -3.96708013e-01 & 2.97245979e-01 & -3.67140706e-01 & -5.29260590e-01\\\\\n",
       "  1.46876140e-01 & 5.33454748e-02 & -5.79522530e-03 & -2.19093539e-01\\\\\n",
       "  -7.04491397e-01 & -3.89577551e-01\\\\\n",
       "  2.22652316e-01 & 4.02677204e-01 & -8.17172922e-03 & 3.62639175e-01\\\\\n",
       "  5.66725236e-01 & -2.19352211e-01 & 2.95209875e-01 & 3.66892708e-01\\\\\n",
       "  2.16852977e-01 & -3.49378087e-01\\\\\n",
       "\\end{bmatrix} + \n",
       "\\begin{bmatrix}\n",
       "  0.2508276 & 0.46614406 & 0.27836616 & -0.07115627 & -0.11000478 & 0.34399074\\\\\n",
       "  -0.20827052 & -0.02777658 & 0.15360446 & 0.43680378\\\\\n",
       "\\end{bmatrix}\\end{gather}"
      ],
      "text/plain": [
       "<IPython.core.display.Latex object>"
      ]
     },
     "metadata": {},
     "output_type": "display_data"
    },
    {
     "data": {
      "text/latex": [
       "f_{custo}(\n",
       "\\begin{bmatrix}\n",
       "  0 & 0 & 0 & 0 & 1 & 0 & 0 & 0 & 0 & 0\\\\\n",
       "\\end{bmatrix},\n",
       "\\begin{bmatrix}\n",
       "  0.14246381 & 0.19625383 & 0.11279531 & 0.62832704 & 0.08020965 & -0.03154272\\\\\n",
       "  -0.09649807 & 0.05200839 & 0.15484344 & 0.0856096\\\\\n",
       "\\end{bmatrix}) = \n",
       "\\begin{bmatrix}\n",
       "  0.1356660622364843\\\\\n",
       "\\end{bmatrix}"
      ],
      "text/plain": [
       "<IPython.core.display.Latex object>"
      ]
     },
     "metadata": {},
     "output_type": "display_data"
    },
    {
     "data": {
      "text/latex": [
       "\\nabla = \\frac{\\partial E}{\\partial Y} = \n",
       "\\begin{bmatrix}\n",
       "  0.02849276 & 0.03925077 & 0.02255906 & 0.12566541 & -0.18395807 & -0.00630854\\\\\n",
       "  -0.01929961 & 0.01040168 & 0.03096869 & 0.01712192\\\\\n",
       "\\end{bmatrix}"
      ],
      "text/plain": [
       "<IPython.core.display.Latex object>"
      ]
     },
     "metadata": {},
     "output_type": "display_data"
    },
    {
     "data": {
      "text/latex": [
       "Camada: 2"
      ],
      "text/plain": [
       "<IPython.core.display.Latex object>"
      ]
     },
     "metadata": {},
     "output_type": "display_data"
    },
    {
     "data": {
      "text/latex": [
       "\\nabla f_{custo} = \\frac{\\partial E}{\\partial W}"
      ],
      "text/plain": [
       "<IPython.core.display.Latex object>"
      ]
     },
     "metadata": {},
     "output_type": "display_data"
    },
    {
     "data": {
      "text/latex": [
       "\n",
       "\\begin{bmatrix}\n",
       "  0.12681716 & -0.04867739 & -0.00917055 & 0.00716678 & 0.07971677 & 0.08132116\\\\\n",
       "  -0.10208239 & -0.03899276 & -0.05152268 & -0.03153922 & -0.04197743 & -0.02490051\\\\\n",
       "  -0.13243844 & -0.03648117\\\\\n",
       "\\end{bmatrix} = \n",
       "\\begin{bmatrix}\n",
       "  0.02849276 & 0.03925077 & 0.02255906 & 0.12566541 & -0.18395807 & -0.00630854\\\\\n",
       "  -0.01929961 & 0.01040168 & 0.03096869 & 0.01712192\\\\\n",
       "\\end{bmatrix} \\cdot \n",
       "\\begin{bmatrix}\n",
       "  -3.49492281e-01 & 2.49581713e-01 & -2.63940498e-01 & 2.66132129e-01\\\\\n",
       "  -5.04667276e-01 & 2.50639984e-01 & -3.61002391e-01 & -5.27689371e-01\\\\\n",
       "  7.45188610e-02 & 3.01497095e-01 & -4.06401814e-01 & 2.52215245e-01\\\\\n",
       "  -3.96708013e-01 & 2.22652316e-01\\\\\n",
       "  5.17639812e-01 & -2.12965272e-02 & -3.93222643e-01 & -4.35504601e-01\\\\\n",
       "  5.07016472e-01 & -1.01845936e-01 & -5.23964982e-02 & -3.22994250e-01\\\\\n",
       "  -2.19022110e-01 & -1.13595246e-01 & -3.57565879e-01 & -5.00914914e-01\\\\\n",
       "  2.97245979e-01 & 4.02677204e-01\\\\\n",
       "  3.42583208e-01 & -1.38522802e-01 & -2.40332505e-01 & -4.23794843e-01\\\\\n",
       "  -2.50815188e-01 & 3.84174113e-01 & 2.07481861e-01 & -3.39691923e-01\\\\\n",
       "  -1.12881452e-01 & -2.91643610e-01 & 4.00669508e-01 & 2.69113136e-01\\\\\n",
       "  -3.67140706e-01 & -8.17172922e-03\\\\\n",
       "  2.67928205e-01 & -2.56425890e-01 & -2.99568303e-01 & 3.22897268e-01\\\\\n",
       "  3.04306737e-01 & 2.17003000e-01 & -2.16004392e-01 & -9.89612409e-02\\\\\n",
       "  3.30099911e-01 & 5.00491065e-02 & 2.13977107e-01 & -3.25556843e-01\\\\\n",
       "  -5.29260590e-01 & 3.62639175e-01\\\\\n",
       "  -4.05801614e-01 & 2.52744753e-01 & -3.21391054e-01 & 6.40866168e-02\\\\\n",
       "  -2.79485510e-01 & -1.61975799e-01 & 2.56958718e-01 & 6.44125234e-02\\\\\n",
       "  3.07058087e-01 & 2.12554612e-01 & 2.32501231e-01 & -1.50551113e-01\\\\\n",
       "  1.46876140e-01 & 5.66725236e-01\\\\\n",
       "  -4.97883246e-01 & -2.80846851e-01 & 3.38578854e-01 & -9.70164563e-02\\\\\n",
       "  -2.05450214e-01 & 2.59078986e-01 & -7.78055196e-01 & -3.20483647e-01\\\\\n",
       "  -1.10651959e-01 & -3.29312378e-01 & 5.08261856e-02 & -1.05459306e-06\\\\\n",
       "  5.33454748e-02 & -2.19352211e-01\\\\\n",
       "  -2.54598143e-01 & -3.83571252e-01 & 1.37431155e-01 & 1.68894560e-01\\\\\n",
       "  2.79372296e-02 & -1.25026491e-01 & -1.69642806e-01 & -3.91806595e-01\\\\\n",
       "  2.90800632e-01 & -3.36886969e-01 & 3.31180313e-01 & -3.34845336e-01\\\\\n",
       "  -5.79522530e-03 & 2.95209875e-01\\\\\n",
       "  2.26149998e-01 & 1.50443761e-01 & -2.29641454e-01 & -2.24677218e-01\\\\\n",
       "  5.54378478e-01 & -2.47215955e-01 & 4.33551008e-01 & 1.76281791e-01\\\\\n",
       "  -1.97426150e-01 & -3.42789184e-01 & 4.74315415e-02 & -2.11536788e-01\\\\\n",
       "  -2.19093539e-01 & 3.66892708e-01\\\\\n",
       "  -2.49839128e-01 & 3.70407547e-01 & 3.16066776e-01 & -5.35108629e-02\\\\\n",
       "  -5.38838293e-01 & 3.88726138e-01 & -7.52801725e-01 & 2.67123367e-01\\\\\n",
       "  -4.26011125e-01 & -3.64046532e-02 & -2.52420827e-01 & -2.88347777e-01\\\\\n",
       "  -7.04491397e-01 & 2.16852977e-01\\\\\n",
       "  -1.32020938e-01 & 2.73338329e-01 & -2.85160775e-01 & 2.39004843e-01\\\\\n",
       "  2.11886725e-02 & 1.28414368e-01 & -5.48147388e-01 & 5.71831946e-02\\\\\n",
       "  -4.28579951e-01 & -9.71797784e-03 & 2.63703278e-01 & -3.57805152e-02\\\\\n",
       "  -3.89577551e-01 & -3.49378087e-01\\\\\n",
       "\\end{bmatrix}"
      ],
      "text/plain": [
       "<IPython.core.display.Latex object>"
      ]
     },
     "metadata": {},
     "output_type": "display_data"
    },
    {
     "data": {
      "text/latex": [
       "W = W - \\lambda (X \\cdot \\nabla f_{custo})"
      ],
      "text/plain": [
       "<IPython.core.display.Latex object>"
      ]
     },
     "metadata": {},
     "output_type": "display_data"
    },
    {
     "data": {
      "text/latex": [
       "\\begin{gather}\n",
       "\\begin{bmatrix}\n",
       "  -0.35613199 & 0.50849315 & 0.33732624 & 0.2386442 & -0.36293358 & -0.49641316\\\\\n",
       "  -0.25010072 & 0.22372608 & -0.25705581 & -0.13601089\\\\\n",
       "  0.24019296 & -0.03423019 & -0.14595632 & -0.29783436 & 0.31336146 & -0.2787681\\\\\n",
       "  -0.37721176 & 0.14701627 & 0.36020294 & 0.26769642\\\\\n",
       "  -0.27828165 & -0.41297858 & -0.25168707 & -0.36281899 & -0.22880015 & 0.34175411\\\\\n",
       "  0.14714516 & -0.23487689 & 0.30047943 & -0.29377868\\\\\n",
       "  0.25501538 & -0.4508187 & -0.4325965 & 0.27386758 & 0.1358598 & -0.09455511\\\\\n",
       "  0.17642451 & -0.22873554 & -0.06559362 & 0.23232455\\\\\n",
       "  -0.51670121 & 0.49043889 & -0.26034302 & 0.25123189 & -0.20179072 & -0.2027858\\\\\n",
       "  0.03608843 & 0.54998532 & -0.55191793 & 0.01395722\\\\\n",
       "  0.23234024 & -0.12705511 & 0.36968534 & 0.13629319 & -0.04382697 & 0.26313071\\\\\n",
       "  -0.11263113 & -0.25389653 & 0.3688362 & 0.11741765\\\\\n",
       "  -0.36266097 & -0.0546813 & 0.20616869 & -0.22331944 & 0.267667 & -0.77768797\\\\\n",
       "  -0.16851937 & 0.43294552 & -0.75460443 & -0.54914406\\\\\n",
       "  -0.53144117 & -0.32816262 & -0.3426624 & -0.11550831 & 0.08863532 & -0.31965297\\\\\n",
       "  -0.38926531 & 0.17491214 & 0.26304555 & 0.05492866\\\\\n",
       "  0.06285707 & -0.23508703 & -0.12211464 & 0.27866638 & 0.38235019 & -0.10806994\\\\\n",
       "  0.29869976 & -0.20168345 & -0.43868628 & -0.43558777\\\\\n",
       "  0.29826304 & -0.11805038 & -0.29420416 & 0.03578553 & 0.23343467 & -0.32859633\\\\\n",
       "  -0.33469638 & -0.34396982 & -0.03991974 & -0.01166139\\\\\n",
       "  -0.41311628 & -0.36681553 & 0.39535335 & 0.18436339 & 0.27585192 & 0.05231283\\\\\n",
       "  0.33572837 & 0.04498033 & -0.25971876 & 0.25966841\\\\\n",
       "  0.24797175 & -0.50676063 & 0.26575336 & -0.34427251 & -0.12315377 & 0.00093849\\\\\n",
       "  -0.331971 & -0.21308594 & -0.29296002 & -0.03833053\\\\\n",
       "  -0.39849031 & 0.29479074 & -0.36855183 & -0.53712128 & 0.15838319 & 0.05374009\\\\\n",
       "  -0.00458799 & -0.21974419 & -0.70642857 & -0.39064857\\\\\n",
       "  0.2081493 & 0.38269828 & -0.01965445 & 0.29867459 & 0.6603612 & -0.21614112\\\\\n",
       "  0.30503352 & 0.36159818 & 0.20108969 & -0.35809327\\\\\n",
       "\\end{bmatrix} = \n",
       "\\begin{bmatrix}\n",
       "  -3.49492281e-01 & 5.17639812e-01 & 3.42583208e-01 & 2.67928205e-01\\\\\n",
       "  -4.05801614e-01 & -4.97883246e-01 & -2.54598143e-01 & 2.26149998e-01\\\\\n",
       "  -2.49839128e-01 & -1.32020938e-01\\\\\n",
       "  2.49581713e-01 & -2.12965272e-02 & -1.38522802e-01 & -2.56425890e-01\\\\\n",
       "  2.52744753e-01 & -2.80846851e-01 & -3.83571252e-01 & 1.50443761e-01\\\\\n",
       "  3.70407547e-01 & 2.73338329e-01\\\\\n",
       "  -2.63940498e-01 & -3.93222643e-01 & -2.40332505e-01 & -2.99568303e-01\\\\\n",
       "  -3.21391054e-01 & 3.38578854e-01 & 1.37431155e-01 & -2.29641454e-01\\\\\n",
       "  3.16066776e-01 & -2.85160775e-01\\\\\n",
       "  2.66132129e-01 & -4.35504601e-01 & -4.23794843e-01 & 3.22897268e-01\\\\\n",
       "  6.40866168e-02 & -9.70164563e-02 & 1.68894560e-01 & -2.24677218e-01\\\\\n",
       "  -5.35108629e-02 & 2.39004843e-01\\\\\n",
       "  -5.04667276e-01 & 5.07016472e-01 & -2.50815188e-01 & 3.04306737e-01\\\\\n",
       "  -2.79485510e-01 & -2.05450214e-01 & 2.79372296e-02 & 5.54378478e-01\\\\\n",
       "  -5.38838293e-01 & 2.11886725e-02\\\\\n",
       "  2.50639984e-01 & -1.01845936e-01 & 3.84174113e-01 & 2.17003000e-01\\\\\n",
       "  -1.61975799e-01 & 2.59078986e-01 & -1.25026491e-01 & -2.47215955e-01\\\\\n",
       "  3.88726138e-01 & 1.28414368e-01\\\\\n",
       "  -3.61002391e-01 & -5.23964982e-02 & 2.07481861e-01 & -2.16004392e-01\\\\\n",
       "  2.56958718e-01 & -7.78055196e-01 & -1.69642806e-01 & 4.33551008e-01\\\\\n",
       "  -7.52801725e-01 & -5.48147388e-01\\\\\n",
       "  -5.27689371e-01 & -3.22994250e-01 & -3.39691923e-01 & -9.89612409e-02\\\\\n",
       "  6.44125234e-02 & -3.20483647e-01 & -3.91806595e-01 & 1.76281791e-01\\\\\n",
       "  2.67123367e-01 & 5.71831946e-02\\\\\n",
       "  7.45188610e-02 & -2.19022110e-01 & -1.12881452e-01 & 3.30099911e-01\\\\\n",
       "  3.07058087e-01 & -1.10651959e-01 & 2.90800632e-01 & -1.97426150e-01\\\\\n",
       "  -4.26011125e-01 & -4.28579951e-01\\\\\n",
       "  3.01497095e-01 & -1.13595246e-01 & -2.91643610e-01 & 5.00491065e-02\\\\\n",
       "  2.12554612e-01 & -3.29312378e-01 & -3.36886969e-01 & -3.42789184e-01\\\\\n",
       "  -3.64046532e-02 & -9.71797784e-03\\\\\n",
       "  -4.06401814e-01 & -3.57565879e-01 & 4.00669508e-01 & 2.13977107e-01\\\\\n",
       "  2.32501231e-01 & 5.08261856e-02 & 3.31180313e-01 & 4.74315415e-02\\\\\n",
       "  -2.52420827e-01 & 2.63703278e-01\\\\\n",
       "  2.52215245e-01 & -5.00914914e-01 & 2.69113136e-01 & -3.25556843e-01\\\\\n",
       "  -1.50551113e-01 & -1.05459306e-06 & -3.34845336e-01 & -2.11536788e-01\\\\\n",
       "  -2.88347777e-01 & -3.57805152e-02\\\\\n",
       "  -3.96708013e-01 & 2.97245979e-01 & -3.67140706e-01 & -5.29260590e-01\\\\\n",
       "  1.46876140e-01 & 5.33454748e-02 & -5.79522530e-03 & -2.19093539e-01\\\\\n",
       "  -7.04491397e-01 & -3.89577551e-01\\\\\n",
       "  2.22652316e-01 & 4.02677204e-01 & -8.17172922e-03 & 3.62639175e-01\\\\\n",
       "  5.66725236e-01 & -2.19352211e-01 & 2.95209875e-01 & 3.66892708e-01\\\\\n",
       "  2.16852977e-01 & -3.49378087e-01\\\\\n",
       "\\end{bmatrix} - 0.7\n",
       "\\begin{bmatrix}\n",
       "  0.33290219\\\\\n",
       "  0.47073385\\\\\n",
       "  0.71903734\\\\\n",
       "  0.55737222\\\\\n",
       "  0.60335788\\\\\n",
       "  0.91751362\\\\\n",
       "  0.08315782\\\\\n",
       "  0.18810803\\\\\n",
       "  0.58469925\\\\\n",
       "  0.16214918\\\\\n",
       "  0.33665039\\\\\n",
       "  0.21276077\\\\\n",
       "  0.08936078\\\\\n",
       "  0.72715303\\\\\n",
       "\\end{bmatrix} \\cdot \n",
       "\\begin{bmatrix}\n",
       "  0.02849276 & 0.03925077 & 0.02255906 & 0.12566541 & -0.18395807 & -0.00630854\\\\\n",
       "  -0.01929961 & 0.01040168 & 0.03096869 & 0.01712192\\\\\n",
       "\\end{bmatrix}\\end{gather}"
      ],
      "text/plain": [
       "<IPython.core.display.Latex object>"
      ]
     },
     "metadata": {},
     "output_type": "display_data"
    },
    {
     "data": {
      "text/latex": [
       "Camada: 1"
      ],
      "text/plain": [
       "<IPython.core.display.Latex object>"
      ]
     },
     "metadata": {},
     "output_type": "display_data"
    },
    {
     "data": {
      "text/latex": [
       "\\nabla = \\frac{\\partial E}{\\partial Y} \\frac{\\partial Y}{\\partial X}"
      ],
      "text/plain": [
       "<IPython.core.display.Latex object>"
      ]
     },
     "metadata": {},
     "output_type": "display_data"
    },
    {
     "data": {
      "text/latex": [
       "\\begin{gather}\n",
       "\\begin{bmatrix}\n",
       "  0.02816334 & -0.01212765 & -0.00185266 & 0.0017681 & 0.01907759 & 0.00615458\\\\\n",
       "  -0.00778303 & -0.00595511 & -0.01251105 & -0.00428482 & -0.00937427 & -0.00417068\\\\\n",
       "  -0.01077723 & -0.00723792\\\\\n",
       "\\end{bmatrix} = \n",
       "\\begin{bmatrix}\n",
       "  0.12681716 & -0.04867739 & -0.00917055 & 0.00716678 & 0.07971677 & 0.08132116\\\\\n",
       "  -0.10208239 & -0.03899276 & -0.05152268 & -0.03153922 & -0.04197743 & -0.02490051\\\\\n",
       "  -0.13243844 & -0.03648117\\\\\n",
       "\\end{bmatrix} \\cdot  \\sigma^{'}(\n",
       "\\begin{bmatrix}\n",
       "  -0.69508796 & -0.11719855 & 0.93969152 & 0.23050409 & 0.41947612 & 2.40903426\\\\\n",
       "  -2.40019504 & -1.46235085 & 0.34209466 & -1.64232331 & -0.67825718 & -1.30836379\\\\\n",
       "  -2.32146496 & 0.98022587\\\\\n",
       "\\end{bmatrix}) \\end{gather}"
      ],
      "text/plain": [
       "<IPython.core.display.Latex object>"
      ]
     },
     "metadata": {},
     "output_type": "display_data"
    },
    {
     "data": {
      "text/latex": [
       "Camada: 0"
      ],
      "text/plain": [
       "<IPython.core.display.Latex object>"
      ]
     },
     "metadata": {},
     "output_type": "display_data"
    },
    {
     "data": {
      "text/latex": [
       "\\nabla f_{custo} = \\frac{\\partial E}{\\partial W}"
      ],
      "text/plain": [
       "<IPython.core.display.Latex object>"
      ]
     },
     "metadata": {},
     "output_type": "display_data"
    },
    {
     "data": {
      "text/latex": [
       "\n",
       "\\begin{bmatrix}\n",
       "  0.02554369 & 0.00890615 & 0.02894119 & -0.00903889 & 0.00728472 & -0.00024567\\\\\n",
       "  0.00412125\\\\\n",
       "\\end{bmatrix} = \n",
       "\\begin{bmatrix}\n",
       "  0.02816334 & -0.01212765 & -0.00185266 & 0.0017681 & 0.01907759 & 0.00615458\\\\\n",
       "  -0.00778303 & -0.00595511 & -0.01251105 & -0.00428482 & -0.00937427 & -0.00417068\\\\\n",
       "  -0.01077723 & -0.00723792\\\\\n",
       "\\end{bmatrix} \\cdot \n",
       "\\begin{bmatrix}\n",
       "  5.31275259e-02 & -7.74488079e-01 & -3.51338483e-01 & 4.26832933e-02\\\\\n",
       "  3.84410183e-01 & -1.98144442e-01 & 8.80916683e-01\\\\\n",
       "  -3.00248514e-01 & 1.21096533e-02 & -3.16444660e-01 & -4.41670344e-02\\\\\n",
       "  -1.47014683e-01 & 2.52245133e-01 & 7.03781568e-01\\\\\n",
       "  8.70666821e-01 & 4.60251701e-02 & 2.84327228e-01 & 1.86768003e-01\\\\\n",
       "  7.36963257e-04 & 8.93638953e-02 & 5.04935486e-01\\\\\n",
       "  -6.97498753e-02 & -3.54180878e-02 & -1.11474109e-02 & 3.10626287e-01\\\\\n",
       "  1.34507955e-01 & 2.23907397e-01 & 7.91987283e-01\\\\\n",
       "  5.69653814e-01 & -2.58611383e-01 & -8.61355502e-02 & 8.97128961e-02\\\\\n",
       "  -1.30034824e-02 & 6.90058091e-01 & 4.63585904e-01\\\\\n",
       "  2.29998860e-01 & 4.05796275e-01 & 5.48903667e-01 & 3.71182726e-01\\\\\n",
       "  7.51694592e-01 & 7.05496062e-01 & 6.57637573e-02\\\\\n",
       "  -6.09849625e-01 & -9.71525419e-01 & -1.00810869e+00 & -2.58990225e-01\\\\\n",
       "  -4.95307152e-01 & -7.67028668e-01 & 8.84455961e-01\\\\\n",
       "  -1.81399691e-01 & -2.64193938e-01 & -9.52982419e-01 & 2.71933260e-01\\\\\n",
       "  -1.87268942e-01 & 6.36044481e-01 & 3.28609389e-02\\\\\n",
       "  2.22954685e-01 & -6.96789498e-01 & -1.85333181e-01 & 6.95388327e-01\\\\\n",
       "  9.07814094e-01 & 6.21252958e-01 & 5.73327155e-01\\\\\n",
       "  -4.36758287e-01 & -3.46108356e-01 & -4.86843061e-01 & -3.74623582e-01\\\\\n",
       "  -3.39832695e-01 & -2.08820208e-01 & 3.59317737e-01\\\\\n",
       "  -1.08903608e-01 & -2.69095320e-02 & -7.67799450e-01 & 6.42212357e-01\\\\\n",
       "  -2.05329811e-01 & -4.56954929e-02 & 3.08204207e-02\\\\\n",
       "  4.46125772e-01 & -5.03717152e-01 & -7.01243437e-01 & -1.08174002e-01\\\\\n",
       "  -5.51067165e-02 & -2.59173851e-02 & 9.04389030e-01\\\\\n",
       "  -4.50181193e-01 & -8.48243427e-01 & -6.49721725e-01 & -1.06013734e-01\\\\\n",
       "  2.62028210e-01 & 9.44210930e-02 & 1.35388241e-02\\\\\n",
       "  -1.29680990e-01 & -3.61864152e-01 & 1.71407991e-01 & 5.32021879e-01\\\\\n",
       "  5.99422483e-01 & 5.75622035e-01 & 2.58094599e-01\\\\\n",
       "\\end{bmatrix}"
      ],
      "text/plain": [
       "<IPython.core.display.Latex object>"
      ]
     },
     "metadata": {},
     "output_type": "display_data"
    },
    {
     "data": {
      "text/latex": [
       "W = W - \\lambda (X \\cdot \\nabla f_{custo})"
      ],
      "text/plain": [
       "<IPython.core.display.Latex object>"
      ]
     },
     "metadata": {},
     "output_type": "display_data"
    },
    {
     "data": {
      "text/latex": [
       "\\begin{gather}\n",
       "\\begin{bmatrix}\n",
       "  5.31275259e-02 & -3.00248514e-01 & 8.70666821e-01 & -6.97498753e-02\\\\\n",
       "  5.69653814e-01 & 2.29998860e-01 & -6.09849625e-01 & -1.81399691e-01\\\\\n",
       "  2.22954685e-01 & -4.36758287e-01 & -1.08903608e-01 & 4.46125772e-01\\\\\n",
       "  -4.50181193e-01 & -1.29680990e-01\\\\\n",
       "  -7.94202419e-01 & 2.05990110e-02 & 4.73220306e-02 & -3.66557607e-02\\\\\n",
       "  -2.71965695e-01 & 4.01488071e-01 & -9.66077299e-01 & -2.60025363e-01\\\\\n",
       "  -6.88031765e-01 & -3.43108983e-01 & -2.03475427e-02 & -5.00797678e-01\\\\\n",
       "  -8.40699363e-01 & -3.56797608e-01\\\\\n",
       "  -3.71052824e-01 & -3.07955302e-01 & 2.85624088e-01 & -1.23850839e-02\\\\\n",
       "  -9.94898624e-02 & 5.44595463e-01 & -1.00266057e+00 & -9.48813844e-01\\\\\n",
       "  -1.76575448e-01 & -4.83843688e-01 & -7.61237460e-01 & -6.98323962e-01\\\\\n",
       "  -6.42177661e-01 & 1.76474535e-01\\\\\n",
       "  4.26832933e-02 & -4.41670344e-02 & 1.86768003e-01 & 3.10626287e-01\\\\\n",
       "  8.97128961e-02 & 3.71182726e-01 & -2.58990225e-01 & 2.71933260e-01\\\\\n",
       "  6.95388327e-01 & -3.74623582e-01 & 6.42212357e-01 & -1.08174002e-01\\\\\n",
       "  -1.06013734e-01 & 5.32021879e-01\\\\\n",
       "  3.84410183e-01 & -1.47014683e-01 & 7.36963257e-04 & 1.34507955e-01\\\\\n",
       "  -1.30034824e-02 & 7.51694592e-01 & -4.95307152e-01 & -1.87268942e-01\\\\\n",
       "  9.07814094e-01 & -3.39832695e-01 & -2.05329811e-01 & -5.51067165e-02\\\\\n",
       "  2.62028210e-01 & 5.99422483e-01\\\\\n",
       "  -2.17858782e-01 & 2.60734490e-01 & 9.06607558e-02 & 2.22669725e-01\\\\\n",
       "  6.76703779e-01 & 7.01187857e-01 & -7.61580549e-01 & 6.40213057e-01\\\\\n",
       "  6.30010691e-01 & -2.05820835e-01 & -3.91335036e-02 & -2.29979109e-02\\\\\n",
       "  1.01965157e-01 & 5.80688579e-01\\\\\n",
       "  8.61202343e-01 & 7.12270925e-01 & 5.06232346e-01 & 7.90749610e-01\\\\\n",
       "  4.50231592e-01 & 6.14555524e-02 & 8.89904081e-01 & 3.70295141e-02\\\\\n",
       "  5.82084888e-01 & 3.62317110e-01 & 3.73824100e-02 & 9.07308505e-01\\\\\n",
       "  2.10828884e-02 & 2.63161142e-01\\\\\n",
       "\\end{bmatrix} = \n",
       "\\begin{bmatrix}\n",
       "  5.31275259e-02 & -3.00248514e-01 & 8.70666821e-01 & -6.97498753e-02\\\\\n",
       "  5.69653814e-01 & 2.29998860e-01 & -6.09849625e-01 & -1.81399691e-01\\\\\n",
       "  2.22954685e-01 & -4.36758287e-01 & -1.08903608e-01 & 4.46125772e-01\\\\\n",
       "  -4.50181193e-01 & -1.29680990e-01\\\\\n",
       "  -7.74488079e-01 & 1.21096533e-02 & 4.60251701e-02 & -3.54180878e-02\\\\\n",
       "  -2.58611383e-01 & 4.05796275e-01 & -9.71525419e-01 & -2.64193938e-01\\\\\n",
       "  -6.96789498e-01 & -3.46108356e-01 & -2.69095320e-02 & -5.03717152e-01\\\\\n",
       "  -8.48243427e-01 & -3.61864152e-01\\\\\n",
       "  -3.51338483e-01 & -3.16444660e-01 & 2.84327228e-01 & -1.11474109e-02\\\\\n",
       "  -8.61355502e-02 & 5.48903667e-01 & -1.00810869e+00 & -9.52982419e-01\\\\\n",
       "  -1.85333181e-01 & -4.86843061e-01 & -7.67799450e-01 & -7.01243437e-01\\\\\n",
       "  -6.49721725e-01 & 1.71407991e-01\\\\\n",
       "  4.26832933e-02 & -4.41670344e-02 & 1.86768003e-01 & 3.10626287e-01\\\\\n",
       "  8.97128961e-02 & 3.71182726e-01 & -2.58990225e-01 & 2.71933260e-01\\\\\n",
       "  6.95388327e-01 & -3.74623582e-01 & 6.42212357e-01 & -1.08174002e-01\\\\\n",
       "  -1.06013734e-01 & 5.32021879e-01\\\\\n",
       "  3.84410183e-01 & -1.47014683e-01 & 7.36963257e-04 & 1.34507955e-01\\\\\n",
       "  -1.30034824e-02 & 7.51694592e-01 & -4.95307152e-01 & -1.87268942e-01\\\\\n",
       "  9.07814094e-01 & -3.39832695e-01 & -2.05329811e-01 & -5.51067165e-02\\\\\n",
       "  2.62028210e-01 & 5.99422483e-01\\\\\n",
       "  -1.98144442e-01 & 2.52245133e-01 & 8.93638953e-02 & 2.23907397e-01\\\\\n",
       "  6.90058091e-01 & 7.05496062e-01 & -7.67028668e-01 & 6.36044481e-01\\\\\n",
       "  6.21252958e-01 & -2.08820208e-01 & -4.56954929e-02 & -2.59173851e-02\\\\\n",
       "  9.44210930e-02 & 5.75622035e-01\\\\\n",
       "  8.80916683e-01 & 7.03781568e-01 & 5.04935486e-01 & 7.91987283e-01\\\\\n",
       "  4.63585904e-01 & 6.57637573e-02 & 8.84455961e-01 & 3.28609389e-02\\\\\n",
       "  5.73327155e-01 & 3.59317737e-01 & 3.08204207e-02 & 9.04389030e-01\\\\\n",
       "  1.35388241e-02 & 2.58094599e-01\\\\\n",
       "\\end{bmatrix} - 0.7\n",
       "\\begin{bmatrix}\n",
       "  0\\\\\n",
       "  1\\\\\n",
       "  1\\\\\n",
       "  0\\\\\n",
       "  0\\\\\n",
       "  1\\\\\n",
       "  1\\\\\n",
       "\\end{bmatrix} \\cdot \n",
       "\\begin{bmatrix}\n",
       "  0.02816334 & -0.01212765 & -0.00185266 & 0.0017681 & 0.01907759 & 0.00615458\\\\\n",
       "  -0.00778303 & -0.00595511 & -0.01251105 & -0.00428482 & -0.00937427 & -0.00417068\\\\\n",
       "  -0.01077723 & -0.00723792\\\\\n",
       "\\end{bmatrix}\\end{gather}"
      ],
      "text/plain": [
       "<IPython.core.display.Latex object>"
      ]
     },
     "metadata": {},
     "output_type": "display_data"
    },
    {
     "data": {
      "text/latex": [
       "Camada: 0"
      ],
      "text/plain": [
       "<IPython.core.display.Latex object>"
      ]
     },
     "metadata": {},
     "output_type": "display_data"
    },
    {
     "data": {
      "text/latex": [
       "Y = Xw + b"
      ],
      "text/plain": [
       "<IPython.core.display.Latex object>"
      ]
     },
     "metadata": {},
     "output_type": "display_data"
    },
    {
     "data": {
      "text/latex": [
       "\\begin{gather}\n",
       "\\begin{bmatrix}\n",
       "  0.09635358 & -0.43976632 & 1.95628862 & 0.5018479 & 1.28403697 & 2.58718675\\\\\n",
       "  -2.275717 & -1.09094905 & 1.9922581 & -2.09559933 & -0.09179095 & -0.45501697\\\\\n",
       "  -1.9992402 & 1.76469708\\\\\n",
       "\\end{bmatrix} = \n",
       "\\begin{bmatrix}\n",
       "  1 & 0 & 1 & 1 & 0 & 1 & 1\\\\\n",
       "\\end{bmatrix} \\cdot \n",
       "\\begin{bmatrix}\n",
       "  5.31275259e-02 & -3.00248514e-01 & 8.70666821e-01 & -6.97498753e-02\\\\\n",
       "  5.69653814e-01 & 2.29998860e-01 & -6.09849625e-01 & -1.81399691e-01\\\\\n",
       "  2.22954685e-01 & -4.36758287e-01 & -1.08903608e-01 & 4.46125772e-01\\\\\n",
       "  -4.50181193e-01 & -1.29680990e-01\\\\\n",
       "  -7.94202419e-01 & 2.05990110e-02 & 4.73220306e-02 & -3.66557607e-02\\\\\n",
       "  -2.71965695e-01 & 4.01488071e-01 & -9.66077299e-01 & -2.60025363e-01\\\\\n",
       "  -6.88031765e-01 & -3.43108983e-01 & -2.03475427e-02 & -5.00797678e-01\\\\\n",
       "  -8.40699363e-01 & -3.56797608e-01\\\\\n",
       "  -3.71052824e-01 & -3.07955302e-01 & 2.85624088e-01 & -1.23850839e-02\\\\\n",
       "  -9.94898624e-02 & 5.44595463e-01 & -1.00266057e+00 & -9.48813844e-01\\\\\n",
       "  -1.76575448e-01 & -4.83843688e-01 & -7.61237460e-01 & -6.98323962e-01\\\\\n",
       "  -6.42177661e-01 & 1.76474535e-01\\\\\n",
       "  4.26832933e-02 & -4.41670344e-02 & 1.86768003e-01 & 3.10626287e-01\\\\\n",
       "  8.97128961e-02 & 3.71182726e-01 & -2.58990225e-01 & 2.71933260e-01\\\\\n",
       "  6.95388327e-01 & -3.74623582e-01 & 6.42212357e-01 & -1.08174002e-01\\\\\n",
       "  -1.06013734e-01 & 5.32021879e-01\\\\\n",
       "  3.84410183e-01 & -1.47014683e-01 & 7.36963257e-04 & 1.34507955e-01\\\\\n",
       "  -1.30034824e-02 & 7.51694592e-01 & -4.95307152e-01 & -1.87268942e-01\\\\\n",
       "  9.07814094e-01 & -3.39832695e-01 & -2.05329811e-01 & -5.51067165e-02\\\\\n",
       "  2.62028210e-01 & 5.99422483e-01\\\\\n",
       "  -2.17858782e-01 & 2.60734490e-01 & 9.06607558e-02 & 2.22669725e-01\\\\\n",
       "  6.76703779e-01 & 7.01187857e-01 & -7.61580549e-01 & 6.40213057e-01\\\\\n",
       "  6.30010691e-01 & -2.05820835e-01 & -3.91335036e-02 & -2.29979109e-02\\\\\n",
       "  1.01965157e-01 & 5.80688579e-01\\\\\n",
       "  8.61202343e-01 & 7.12270925e-01 & 5.06232346e-01 & 7.90749610e-01\\\\\n",
       "  4.50231592e-01 & 6.14555524e-02 & 8.89904081e-01 & 3.70295141e-02\\\\\n",
       "  5.82084888e-01 & 3.62317110e-01 & 3.73824100e-02 & 9.07308505e-01\\\\\n",
       "  2.10828884e-02 & 2.63161142e-01\\\\\n",
       "\\end{bmatrix} + \n",
       "\\begin{bmatrix}\n",
       "  -0.27174798 & -0.76040089 & 0.01633661 & -0.74006276 & -0.40277525 & 0.67876629\\\\\n",
       "  -0.53254011 & -0.90991134 & 0.03839496 & -0.95687005 & 0.13788886 & -0.97895537\\\\\n",
       "  -0.92391566 & 0.34203194\\\\\n",
       "\\end{bmatrix}\\end{gather}"
      ],
      "text/plain": [
       "<IPython.core.display.Latex object>"
      ]
     },
     "metadata": {},
     "output_type": "display_data"
    },
    {
     "data": {
      "text/latex": [
       "Camada: 1"
      ],
      "text/plain": [
       "<IPython.core.display.Latex object>"
      ]
     },
     "metadata": {},
     "output_type": "display_data"
    },
    {
     "data": {
      "text/latex": [
       "Y = \\sigma(X)"
      ],
      "text/plain": [
       "<IPython.core.display.Latex object>"
      ]
     },
     "metadata": {},
     "output_type": "display_data"
    },
    {
     "data": {
      "text/latex": [
       "\\begin{gather}\n",
       "\\begin{bmatrix}\n",
       "  0.52406978 & 0.39179665 & 0.87613073 & 0.6228935 & 0.78313617 & 0.93003237\\\\\n",
       "  0.09315414 & 0.25143961 & 0.87998183 & 0.10952528 & 0.47706836 & 0.3881686\\\\\n",
       "  0.11928272 & 0.85379696\\\\\n",
       "\\end{bmatrix} = \\sigma(\n",
       "\\begin{bmatrix}\n",
       "  0.09635358 & -0.43976632 & 1.95628862 & 0.5018479 & 1.28403697 & 2.58718675\\\\\n",
       "  -2.275717 & -1.09094905 & 1.9922581 & -2.09559933 & -0.09179095 & -0.45501697\\\\\n",
       "  -1.9992402 & 1.76469708\\\\\n",
       "\\end{bmatrix}) \\end{gather}"
      ],
      "text/plain": [
       "<IPython.core.display.Latex object>"
      ]
     },
     "metadata": {},
     "output_type": "display_data"
    },
    {
     "data": {
      "text/latex": [
       "Camada: 2"
      ],
      "text/plain": [
       "<IPython.core.display.Latex object>"
      ]
     },
     "metadata": {},
     "output_type": "display_data"
    },
    {
     "data": {
      "text/latex": [
       "Y = Xw + b"
      ],
      "text/plain": [
       "<IPython.core.display.Latex object>"
      ]
     },
     "metadata": {},
     "output_type": "display_data"
    },
    {
     "data": {
      "text/latex": [
       "\\begin{gather}\n",
       "\\begin{bmatrix}\n",
       "  -0.18524964 & -0.00218032 & 0.05652509 & 0.37002359 & 0.71246603 & -0.13125085\\\\\n",
       "  0.09251405 & 0.07653598 & -0.27321744 & -0.19938669\\\\\n",
       "\\end{bmatrix} = \n",
       "\\begin{bmatrix}\n",
       "  0.52406978 & 0.39179665 & 0.87613073 & 0.6228935 & 0.78313617 & 0.93003237\\\\\n",
       "  0.09315414 & 0.25143961 & 0.87998183 & 0.10952528 & 0.47706836 & 0.3881686\\\\\n",
       "  0.11928272 & 0.85379696\\\\\n",
       "\\end{bmatrix} \\cdot \n",
       "\\begin{bmatrix}\n",
       "  -0.35613199 & 0.50849315 & 0.33732624 & 0.2386442 & -0.36293358 & -0.49641316\\\\\n",
       "  -0.25010072 & 0.22372608 & -0.25705581 & -0.13601089\\\\\n",
       "  0.24019296 & -0.03423019 & -0.14595632 & -0.29783436 & 0.31336146 & -0.2787681\\\\\n",
       "  -0.37721176 & 0.14701627 & 0.36020294 & 0.26769642\\\\\n",
       "  -0.27828165 & -0.41297858 & -0.25168707 & -0.36281899 & -0.22880015 & 0.34175411\\\\\n",
       "  0.14714516 & -0.23487689 & 0.30047943 & -0.29377868\\\\\n",
       "  0.25501538 & -0.4508187 & -0.4325965 & 0.27386758 & 0.1358598 & -0.09455511\\\\\n",
       "  0.17642451 & -0.22873554 & -0.06559362 & 0.23232455\\\\\n",
       "  -0.51670121 & 0.49043889 & -0.26034302 & 0.25123189 & -0.20179072 & -0.2027858\\\\\n",
       "  0.03608843 & 0.54998532 & -0.55191793 & 0.01395722\\\\\n",
       "  0.23234024 & -0.12705511 & 0.36968534 & 0.13629319 & -0.04382697 & 0.26313071\\\\\n",
       "  -0.11263113 & -0.25389653 & 0.3688362 & 0.11741765\\\\\n",
       "  -0.36266097 & -0.0546813 & 0.20616869 & -0.22331944 & 0.267667 & -0.77768797\\\\\n",
       "  -0.16851937 & 0.43294552 & -0.75460443 & -0.54914406\\\\\n",
       "  -0.53144117 & -0.32816262 & -0.3426624 & -0.11550831 & 0.08863532 & -0.31965297\\\\\n",
       "  -0.38926531 & 0.17491214 & 0.26304555 & 0.05492866\\\\\n",
       "  0.06285707 & -0.23508703 & -0.12211464 & 0.27866638 & 0.38235019 & -0.10806994\\\\\n",
       "  0.29869976 & -0.20168345 & -0.43868628 & -0.43558777\\\\\n",
       "  0.29826304 & -0.11805038 & -0.29420416 & 0.03578553 & 0.23343467 & -0.32859633\\\\\n",
       "  -0.33469638 & -0.34396982 & -0.03991974 & -0.01166139\\\\\n",
       "  -0.41311628 & -0.36681553 & 0.39535335 & 0.18436339 & 0.27585192 & 0.05231283\\\\\n",
       "  0.33572837 & 0.04498033 & -0.25971876 & 0.25966841\\\\\n",
       "  0.24797175 & -0.50676063 & 0.26575336 & -0.34427251 & -0.12315377 & 0.00093849\\\\\n",
       "  -0.331971 & -0.21308594 & -0.29296002 & -0.03833053\\\\\n",
       "  -0.39849031 & 0.29479074 & -0.36855183 & -0.53712128 & 0.15838319 & 0.05374009\\\\\n",
       "  -0.00458799 & -0.21974419 & -0.70642857 & -0.39064857\\\\\n",
       "  0.2081493 & 0.38269828 & -0.01965445 & 0.29867459 & 0.6603612 & -0.21614112\\\\\n",
       "  0.30503352 & 0.36159818 & 0.20108969 & -0.35809327\\\\\n",
       "\\end{bmatrix} + \n",
       "\\begin{bmatrix}\n",
       "  0.23088266 & 0.43866853 & 0.26257482 & -0.15912206 & 0.01876586 & 0.34840672\\\\\n",
       "  -0.19476079 & -0.03505775 & 0.13192638 & 0.42481844\\\\\n",
       "\\end{bmatrix}\\end{gather}"
      ],
      "text/plain": [
       "<IPython.core.display.Latex object>"
      ]
     },
     "metadata": {},
     "output_type": "display_data"
    },
    {
     "data": {
      "text/latex": [
       "f_{custo}(\n",
       "\\begin{bmatrix}\n",
       "  0 & 0 & 0 & 0 & 0 & 1 & 0 & 0 & 0 & 0\\\\\n",
       "\\end{bmatrix},\n",
       "\\begin{bmatrix}\n",
       "  -0.18524964 & -0.00218032 & 0.05652509 & 0.37002359 & 0.71246603 & -0.13125085\\\\\n",
       "  0.09251405 & 0.07653598 & -0.27321744 & -0.19938669\\\\\n",
       "\\end{bmatrix}) = \n",
       "\\begin{bmatrix}\n",
       "  0.20905904808494272\\\\\n",
       "\\end{bmatrix}"
      ],
      "text/plain": [
       "<IPython.core.display.Latex object>"
      ]
     },
     "metadata": {},
     "output_type": "display_data"
    },
    {
     "data": {
      "text/latex": [
       "\\nabla = \\frac{\\partial E}{\\partial Y} = \n",
       "\\begin{bmatrix}\n",
       "  -0.03704993 & -0.00043606 & 0.01130502 & 0.07400472 & 0.14249321 & -0.22625017\\\\\n",
       "  0.01850281 & 0.0153072 & -0.05464349 & -0.03987734\\\\\n",
       "\\end{bmatrix}"
      ],
      "text/plain": [
       "<IPython.core.display.Latex object>"
      ]
     },
     "metadata": {},
     "output_type": "display_data"
    },
    {
     "data": {
      "text/latex": [
       "Camada: 2"
      ],
      "text/plain": [
       "<IPython.core.display.Latex object>"
      ]
     },
     "metadata": {},
     "output_type": "display_data"
    },
    {
     "data": {
      "text/latex": [
       "\\nabla f_{custo} = \\frac{\\partial E}{\\partial W}"
      ],
      "text/plain": [
       "<IPython.core.display.Latex object>"
      ]
     },
     "metadata": {},
     "output_type": "display_data"
    },
    {
     "data": {
      "text/latex": [
       "\n",
       "\\begin{bmatrix}\n",
       "  0.11331243 & 0.04006098 & -0.13470648 & 0.0409603 & 0.09039417 & -0.0908728\\\\\n",
       "  0.27999894 & 0.07127324 & 0.13972993 & 0.08711934 & 0.07178786 & -0.04106798\\\\\n",
       "  0.03186051 & 0.17147188\\\\\n",
       "\\end{bmatrix} = \n",
       "\\begin{bmatrix}\n",
       "  -0.03704993 & -0.00043606 & 0.01130502 & 0.07400472 & 0.14249321 & -0.22625017\\\\\n",
       "  0.01850281 & 0.0153072 & -0.05464349 & -0.03987734\\\\\n",
       "\\end{bmatrix} \\cdot \n",
       "\\begin{bmatrix}\n",
       "  -0.35613199 & 0.24019296 & -0.27828165 & 0.25501538 & -0.51670121 & 0.23234024\\\\\n",
       "  -0.36266097 & -0.53144117 & 0.06285707 & 0.29826304 & -0.41311628 & 0.24797175\\\\\n",
       "  -0.39849031 & 0.2081493\\\\\n",
       "  0.50849315 & -0.03423019 & -0.41297858 & -0.4508187 & 0.49043889 & -0.12705511\\\\\n",
       "  -0.0546813 & -0.32816262 & -0.23508703 & -0.11805038 & -0.36681553 & -0.50676063\\\\\n",
       "  0.29479074 & 0.38269828\\\\\n",
       "  0.33732624 & -0.14595632 & -0.25168707 & -0.4325965 & -0.26034302 & 0.36968534\\\\\n",
       "  0.20616869 & -0.3426624 & -0.12211464 & -0.29420416 & 0.39535335 & 0.26575336\\\\\n",
       "  -0.36855183 & -0.01965445\\\\\n",
       "  0.2386442 & -0.29783436 & -0.36281899 & 0.27386758 & 0.25123189 & 0.13629319\\\\\n",
       "  -0.22331944 & -0.11550831 & 0.27866638 & 0.03578553 & 0.18436339 & -0.34427251\\\\\n",
       "  -0.53712128 & 0.29867459\\\\\n",
       "  -0.36293358 & 0.31336146 & -0.22880015 & 0.1358598 & -0.20179072 & -0.04382697\\\\\n",
       "  0.267667 & 0.08863532 & 0.38235019 & 0.23343467 & 0.27585192 & -0.12315377\\\\\n",
       "  0.15838319 & 0.6603612\\\\\n",
       "  -0.49641316 & -0.2787681 & 0.34175411 & -0.09455511 & -0.2027858 & 0.26313071\\\\\n",
       "  -0.77768797 & -0.31965297 & -0.10806994 & -0.32859633 & 0.05231283 & 0.00093849\\\\\n",
       "  0.05374009 & -0.21614112\\\\\n",
       "  -0.25010072 & -0.37721176 & 0.14714516 & 0.17642451 & 0.03608843 & -0.11263113\\\\\n",
       "  -0.16851937 & -0.38926531 & 0.29869976 & -0.33469638 & 0.33572837 & -0.331971\\\\\n",
       "  -0.00458799 & 0.30503352\\\\\n",
       "  0.22372608 & 0.14701627 & -0.23487689 & -0.22873554 & 0.54998532 & -0.25389653\\\\\n",
       "  0.43294552 & 0.17491214 & -0.20168345 & -0.34396982 & 0.04498033 & -0.21308594\\\\\n",
       "  -0.21974419 & 0.36159818\\\\\n",
       "  -0.25705581 & 0.36020294 & 0.30047943 & -0.06559362 & -0.55191793 & 0.3688362\\\\\n",
       "  -0.75460443 & 0.26304555 & -0.43868628 & -0.03991974 & -0.25971876 & -0.29296002\\\\\n",
       "  -0.70642857 & 0.20108969\\\\\n",
       "  -0.13601089 & 0.26769642 & -0.29377868 & 0.23232455 & 0.01395722 & 0.11741765\\\\\n",
       "  -0.54914406 & 0.05492866 & -0.43558777 & -0.01166139 & 0.25966841 & -0.03833053\\\\\n",
       "  -0.39064857 & -0.35809327\\\\\n",
       "\\end{bmatrix}"
      ],
      "text/plain": [
       "<IPython.core.display.Latex object>"
      ]
     },
     "metadata": {},
     "output_type": "display_data"
    },
    {
     "data": {
      "text/latex": [
       "W = W - \\lambda (X \\cdot \\nabla f_{custo})"
      ],
      "text/plain": [
       "<IPython.core.display.Latex object>"
      ]
     },
     "metadata": {},
     "output_type": "display_data"
    },
    {
     "data": {
      "text/latex": [
       "\\begin{gather}\n",
       "\\begin{bmatrix}\n",
       "  -0.34254027 & 0.50865312 & 0.333179 & 0.21149566 & -0.41520705 & -0.41341354\\\\\n",
       "  -0.25688846 & 0.21811065 & -0.23700991 & -0.12138193\\\\\n",
       "  0.25035418 & -0.0341106 & -0.14905681 & -0.31813072 & 0.2742816 & -0.21671726\\\\\n",
       "  -0.3822863 & 0.14281815 & 0.37518933 & 0.27863309\\\\\n",
       "  -0.25555924 & -0.41271115 & -0.25862034 & -0.40820545 & -0.31619002 & 0.48051142\\\\\n",
       "  0.13579754 & -0.24426466 & 0.33399181 & -0.26932225\\\\\n",
       "  0.27117009 & -0.45062857 & -0.43752578 & 0.24159964 & 0.07372914 & 0.00409572\\\\\n",
       "  0.16835681 & -0.23540987 & -0.04176767 & 0.24971208\\\\\n",
       "  -0.49639061 & 0.49067794 & -0.26654038 & 0.21066285 & -0.27990483 & -0.07875651\\\\\n",
       "  0.02594528 & 0.54159399 & -0.52196263 & 0.03581779\\\\\n",
       "  0.25646058 & -0.12677123 & 0.36232552 & 0.08811444 & -0.13659328 & 0.4104247\\\\\n",
       "  -0.12467688 & -0.26386186 & 0.40441035 & 0.1433787\\\\\n",
       "  -0.36024502 & -0.05465287 & 0.20543151 & -0.22814513 & 0.25837532 & -0.76293468\\\\\n",
       "  -0.1697259 & 0.43194737 & -0.75104124 & -0.54654375\\\\\n",
       "  -0.5249201 & -0.32808587 & -0.34465217 & -0.12853371 & 0.06355541 & -0.27983119\\\\\n",
       "  -0.39252194 & 0.17221796 & 0.27266322 & 0.06194737\\\\\n",
       "  0.08567936 & -0.23481842 & -0.12907839 & 0.23308042 & 0.29457619 & 0.03129729\\\\\n",
       "  0.28730227 & -0.21111249 & -0.40502659 & -0.41102384\\\\\n",
       "  0.30110357 & -0.11801695 & -0.29507089 & 0.03011176 & 0.22251004 & -0.31125025\\\\\n",
       "  -0.33611495 & -0.34514339 & -0.03573035 & -0.00860409\\\\\n",
       "  -0.40074354 & -0.36666991 & 0.39157806 & 0.15964967 & 0.22826662 & 0.12786859\\\\\n",
       "  0.3295494 & 0.03986853 & -0.24147069 & 0.27298536\\\\\n",
       "  0.25803888 & -0.50664214 & 0.26268158 & -0.36438093 & -0.16187174 & 0.06241474\\\\\n",
       "  -0.33699854 & -0.21724518 & -0.2781124 & -0.02749513\\\\\n",
       "  -0.39539672 & 0.29482715 & -0.36949578 & -0.54330052 & 0.1464853 & 0.07263151\\\\\n",
       "  -0.00613293 & -0.22102231 & -0.70186595 & -0.3873189\\\\\n",
       "  0.23029248 & 0.3829589 & -0.02641099 & 0.25444509 & 0.57519902 & -0.08092092\\\\\n",
       "  0.29397517 & 0.35244971 & 0.2337478 & -0.33426026\\\\\n",
       "\\end{bmatrix} = \n",
       "\\begin{bmatrix}\n",
       "  -0.35613199 & 0.50849315 & 0.33732624 & 0.2386442 & -0.36293358 & -0.49641316\\\\\n",
       "  -0.25010072 & 0.22372608 & -0.25705581 & -0.13601089\\\\\n",
       "  0.24019296 & -0.03423019 & -0.14595632 & -0.29783436 & 0.31336146 & -0.2787681\\\\\n",
       "  -0.37721176 & 0.14701627 & 0.36020294 & 0.26769642\\\\\n",
       "  -0.27828165 & -0.41297858 & -0.25168707 & -0.36281899 & -0.22880015 & 0.34175411\\\\\n",
       "  0.14714516 & -0.23487689 & 0.30047943 & -0.29377868\\\\\n",
       "  0.25501538 & -0.4508187 & -0.4325965 & 0.27386758 & 0.1358598 & -0.09455511\\\\\n",
       "  0.17642451 & -0.22873554 & -0.06559362 & 0.23232455\\\\\n",
       "  -0.51670121 & 0.49043889 & -0.26034302 & 0.25123189 & -0.20179072 & -0.2027858\\\\\n",
       "  0.03608843 & 0.54998532 & -0.55191793 & 0.01395722\\\\\n",
       "  0.23234024 & -0.12705511 & 0.36968534 & 0.13629319 & -0.04382697 & 0.26313071\\\\\n",
       "  -0.11263113 & -0.25389653 & 0.3688362 & 0.11741765\\\\\n",
       "  -0.36266097 & -0.0546813 & 0.20616869 & -0.22331944 & 0.267667 & -0.77768797\\\\\n",
       "  -0.16851937 & 0.43294552 & -0.75460443 & -0.54914406\\\\\n",
       "  -0.53144117 & -0.32816262 & -0.3426624 & -0.11550831 & 0.08863532 & -0.31965297\\\\\n",
       "  -0.38926531 & 0.17491214 & 0.26304555 & 0.05492866\\\\\n",
       "  0.06285707 & -0.23508703 & -0.12211464 & 0.27866638 & 0.38235019 & -0.10806994\\\\\n",
       "  0.29869976 & -0.20168345 & -0.43868628 & -0.43558777\\\\\n",
       "  0.29826304 & -0.11805038 & -0.29420416 & 0.03578553 & 0.23343467 & -0.32859633\\\\\n",
       "  -0.33469638 & -0.34396982 & -0.03991974 & -0.01166139\\\\\n",
       "  -0.41311628 & -0.36681553 & 0.39535335 & 0.18436339 & 0.27585192 & 0.05231283\\\\\n",
       "  0.33572837 & 0.04498033 & -0.25971876 & 0.25966841\\\\\n",
       "  0.24797175 & -0.50676063 & 0.26575336 & -0.34427251 & -0.12315377 & 0.00093849\\\\\n",
       "  -0.331971 & -0.21308594 & -0.29296002 & -0.03833053\\\\\n",
       "  -0.39849031 & 0.29479074 & -0.36855183 & -0.53712128 & 0.15838319 & 0.05374009\\\\\n",
       "  -0.00458799 & -0.21974419 & -0.70642857 & -0.39064857\\\\\n",
       "  0.2081493 & 0.38269828 & -0.01965445 & 0.29867459 & 0.6603612 & -0.21614112\\\\\n",
       "  0.30503352 & 0.36159818 & 0.20108969 & -0.35809327\\\\\n",
       "\\end{bmatrix} - 0.7\n",
       "\\begin{bmatrix}\n",
       "  0.52406978\\\\\n",
       "  0.39179665\\\\\n",
       "  0.87613073\\\\\n",
       "  0.6228935\\\\\n",
       "  0.78313617\\\\\n",
       "  0.93003237\\\\\n",
       "  0.09315414\\\\\n",
       "  0.25143961\\\\\n",
       "  0.87998183\\\\\n",
       "  0.10952528\\\\\n",
       "  0.47706836\\\\\n",
       "  0.3881686\\\\\n",
       "  0.11928272\\\\\n",
       "  0.85379696\\\\\n",
       "\\end{bmatrix} \\cdot \n",
       "\\begin{bmatrix}\n",
       "  -0.03704993 & -0.00043606 & 0.01130502 & 0.07400472 & 0.14249321 & -0.22625017\\\\\n",
       "  0.01850281 & 0.0153072 & -0.05464349 & -0.03987734\\\\\n",
       "\\end{bmatrix}\\end{gather}"
      ],
      "text/plain": [
       "<IPython.core.display.Latex object>"
      ]
     },
     "metadata": {},
     "output_type": "display_data"
    },
    {
     "data": {
      "text/latex": [
       "Camada: 1"
      ],
      "text/plain": [
       "<IPython.core.display.Latex object>"
      ]
     },
     "metadata": {},
     "output_type": "display_data"
    },
    {
     "data": {
      "text/latex": [
       "\\nabla = \\frac{\\partial E}{\\partial Y} \\frac{\\partial Y}{\\partial X}"
      ],
      "text/plain": [
       "<IPython.core.display.Latex object>"
      ]
     },
     "metadata": {},
     "output_type": "display_data"
    },
    {
     "data": {
      "text/latex": [
       "\\begin{gather}\n",
       "\\begin{bmatrix}\n",
       "  0.02826246 & 0.00954621 & -0.01461911 & 0.00962146 & 0.015352 & -0.00591329\\\\\n",
       "  0.02365331 & 0.01341489 & 0.01475741 & 0.0084967 & 0.01790921 & -0.00975339\\\\\n",
       "  0.00334708 & 0.02140444\\\\\n",
       "\\end{bmatrix} = \n",
       "\\begin{bmatrix}\n",
       "  0.11331243 & 0.04006098 & -0.13470648 & 0.0409603 & 0.09039417 & -0.0908728\\\\\n",
       "  0.27999894 & 0.07127324 & 0.13972993 & 0.08711934 & 0.07178786 & -0.04106798\\\\\n",
       "  0.03186051 & 0.17147188\\\\\n",
       "\\end{bmatrix} \\cdot  \\sigma^{'}(\n",
       "\\begin{bmatrix}\n",
       "  0.09635358 & -0.43976632 & 1.95628862 & 0.5018479 & 1.28403697 & 2.58718675\\\\\n",
       "  -2.275717 & -1.09094905 & 1.9922581 & -2.09559933 & -0.09179095 & -0.45501697\\\\\n",
       "  -1.9992402 & 1.76469708\\\\\n",
       "\\end{bmatrix}) \\end{gather}"
      ],
      "text/plain": [
       "<IPython.core.display.Latex object>"
      ]
     },
     "metadata": {},
     "output_type": "display_data"
    },
    {
     "data": {
      "text/latex": [
       "Camada: 0"
      ],
      "text/plain": [
       "<IPython.core.display.Latex object>"
      ]
     },
     "metadata": {},
     "output_type": "display_data"
    },
    {
     "data": {
      "text/latex": [
       "\\nabla f_{custo} = \\frac{\\partial E}{\\partial W}"
      ],
      "text/plain": [
       "<IPython.core.display.Latex object>"
      ]
     },
     "metadata": {},
     "output_type": "display_data"
    },
    {
     "data": {
      "text/latex": [
       "\n",
       "\\begin{bmatrix}\n",
       "  -0.03524227 & -0.07518217 & -0.0708247 & 0.02841578 & 0.01294891 & 0.01380832\\\\\n",
       "  0.06863327\\\\\n",
       "\\end{bmatrix} = \n",
       "\\begin{bmatrix}\n",
       "  0.02826246 & 0.00954621 & -0.01461911 & 0.00962146 & 0.015352 & -0.00591329\\\\\n",
       "  0.02365331 & 0.01341489 & 0.01475741 & 0.0084967 & 0.01790921 & -0.00975339\\\\\n",
       "  0.00334708 & 0.02140444\\\\\n",
       "\\end{bmatrix} \\cdot \n",
       "\\begin{bmatrix}\n",
       "  5.31275259e-02 & -7.94202419e-01 & -3.71052824e-01 & 4.26832933e-02\\\\\n",
       "  3.84410183e-01 & -2.17858782e-01 & 8.61202343e-01\\\\\n",
       "  -3.00248514e-01 & 2.05990110e-02 & -3.07955302e-01 & -4.41670344e-02\\\\\n",
       "  -1.47014683e-01 & 2.60734490e-01 & 7.12270925e-01\\\\\n",
       "  8.70666821e-01 & 4.73220306e-02 & 2.85624088e-01 & 1.86768003e-01\\\\\n",
       "  7.36963257e-04 & 9.06607558e-02 & 5.06232346e-01\\\\\n",
       "  -6.97498753e-02 & -3.66557607e-02 & -1.23850839e-02 & 3.10626287e-01\\\\\n",
       "  1.34507955e-01 & 2.22669725e-01 & 7.90749610e-01\\\\\n",
       "  5.69653814e-01 & -2.71965695e-01 & -9.94898624e-02 & 8.97128961e-02\\\\\n",
       "  -1.30034824e-02 & 6.76703779e-01 & 4.50231592e-01\\\\\n",
       "  2.29998860e-01 & 4.01488071e-01 & 5.44595463e-01 & 3.71182726e-01\\\\\n",
       "  7.51694592e-01 & 7.01187857e-01 & 6.14555524e-02\\\\\n",
       "  -6.09849625e-01 & -9.66077299e-01 & -1.00266057e+00 & -2.58990225e-01\\\\\n",
       "  -4.95307152e-01 & -7.61580549e-01 & 8.89904081e-01\\\\\n",
       "  -1.81399691e-01 & -2.60025363e-01 & -9.48813844e-01 & 2.71933260e-01\\\\\n",
       "  -1.87268942e-01 & 6.40213057e-01 & 3.70295141e-02\\\\\n",
       "  2.22954685e-01 & -6.88031765e-01 & -1.76575448e-01 & 6.95388327e-01\\\\\n",
       "  9.07814094e-01 & 6.30010691e-01 & 5.82084888e-01\\\\\n",
       "  -4.36758287e-01 & -3.43108983e-01 & -4.83843688e-01 & -3.74623582e-01\\\\\n",
       "  -3.39832695e-01 & -2.05820835e-01 & 3.62317110e-01\\\\\n",
       "  -1.08903608e-01 & -2.03475427e-02 & -7.61237460e-01 & 6.42212357e-01\\\\\n",
       "  -2.05329811e-01 & -3.91335036e-02 & 3.73824100e-02\\\\\n",
       "  4.46125772e-01 & -5.00797678e-01 & -6.98323962e-01 & -1.08174002e-01\\\\\n",
       "  -5.51067165e-02 & -2.29979109e-02 & 9.07308505e-01\\\\\n",
       "  -4.50181193e-01 & -8.40699363e-01 & -6.42177661e-01 & -1.06013734e-01\\\\\n",
       "  2.62028210e-01 & 1.01965157e-01 & 2.10828884e-02\\\\\n",
       "  -1.29680990e-01 & -3.56797608e-01 & 1.76474535e-01 & 5.32021879e-01\\\\\n",
       "  5.99422483e-01 & 5.80688579e-01 & 2.63161142e-01\\\\\n",
       "\\end{bmatrix}"
      ],
      "text/plain": [
       "<IPython.core.display.Latex object>"
      ]
     },
     "metadata": {},
     "output_type": "display_data"
    },
    {
     "data": {
      "text/latex": [
       "W = W - \\lambda (X \\cdot \\nabla f_{custo})"
      ],
      "text/plain": [
       "<IPython.core.display.Latex object>"
      ]
     },
     "metadata": {},
     "output_type": "display_data"
    },
    {
     "data": {
      "text/latex": [
       "\\begin{gather}\n",
       "\\begin{bmatrix}\n",
       "  3.33438046e-02 & -3.06930863e-01 & 8.80900199e-01 & -7.64848974e-02\\\\\n",
       "  5.58907417e-01 & 2.34138162e-01 & -6.26406945e-01 & -1.90790112e-01\\\\\n",
       "  2.12624498e-01 & -4.42705981e-01 & -1.21440057e-01 & 4.52953143e-01\\\\\n",
       "  -4.52524153e-01 & -1.44664100e-01\\\\\n",
       "  -7.94202419e-01 & 2.05990110e-02 & 4.73220306e-02 & -3.66557607e-02\\\\\n",
       "  -2.71965695e-01 & 4.01488071e-01 & -9.66077299e-01 & -2.60025363e-01\\\\\n",
       "  -6.88031765e-01 & -3.43108983e-01 & -2.03475427e-02 & -5.00797678e-01\\\\\n",
       "  -8.40699363e-01 & -3.56797608e-01\\\\\n",
       "  -3.90836545e-01 & -3.14637651e-01 & 2.95857466e-01 & -1.91201059e-02\\\\\n",
       "  -1.10236259e-01 & 5.48734765e-01 & -1.01921789e+00 & -9.58204265e-01\\\\\n",
       "  -1.86905635e-01 & -4.89791382e-01 & -7.73773910e-01 & -6.91496591e-01\\\\\n",
       "  -6.44520620e-01 & 1.61491425e-01\\\\\n",
       "  2.28995721e-02 & -5.08493830e-02 & 1.97001380e-01 & 3.03891265e-01\\\\\n",
       "  7.89664994e-02 & 3.75322028e-01 & -2.75547546e-01 & 2.62542839e-01\\\\\n",
       "  6.85058140e-01 & -3.80571275e-01 & 6.29675907e-01 & -1.01346631e-01\\\\\n",
       "  -1.08356694e-01 & 5.17038769e-01\\\\\n",
       "  3.84410183e-01 & -1.47014683e-01 & 7.36963257e-04 & 1.34507955e-01\\\\\n",
       "  -1.30034824e-02 & 7.51694592e-01 & -4.95307152e-01 & -1.87268942e-01\\\\\n",
       "  9.07814094e-01 & -3.39832695e-01 & -2.05329811e-01 & -5.51067165e-02\\\\\n",
       "  2.62028210e-01 & 5.99422483e-01\\\\\n",
       "  -2.37642503e-01 & 2.54052142e-01 & 1.00894133e-01 & 2.15934702e-01\\\\\n",
       "  6.65957382e-01 & 7.05327159e-01 & -7.78137869e-01 & 6.30822636e-01\\\\\n",
       "  6.19680503e-01 & -2.11768528e-01 & -5.16699530e-02 & -1.61705398e-02\\\\\n",
       "  9.96221980e-02 & 5.65705470e-01\\\\\n",
       "  8.41418622e-01 & 7.05588577e-01 & 5.16465724e-01 & 7.84014588e-01\\\\\n",
       "  4.39485195e-01 & 6.55948546e-02 & 8.73346760e-01 & 2.76390930e-02\\\\\n",
       "  5.71754701e-01 & 3.56369417e-01 & 2.48459605e-02 & 9.14135876e-01\\\\\n",
       "  1.87399290e-02 & 2.48178033e-01\\\\\n",
       "\\end{bmatrix} = \n",
       "\\begin{bmatrix}\n",
       "  5.31275259e-02 & -3.00248514e-01 & 8.70666821e-01 & -6.97498753e-02\\\\\n",
       "  5.69653814e-01 & 2.29998860e-01 & -6.09849625e-01 & -1.81399691e-01\\\\\n",
       "  2.22954685e-01 & -4.36758287e-01 & -1.08903608e-01 & 4.46125772e-01\\\\\n",
       "  -4.50181193e-01 & -1.29680990e-01\\\\\n",
       "  -7.94202419e-01 & 2.05990110e-02 & 4.73220306e-02 & -3.66557607e-02\\\\\n",
       "  -2.71965695e-01 & 4.01488071e-01 & -9.66077299e-01 & -2.60025363e-01\\\\\n",
       "  -6.88031765e-01 & -3.43108983e-01 & -2.03475427e-02 & -5.00797678e-01\\\\\n",
       "  -8.40699363e-01 & -3.56797608e-01\\\\\n",
       "  -3.71052824e-01 & -3.07955302e-01 & 2.85624088e-01 & -1.23850839e-02\\\\\n",
       "  -9.94898624e-02 & 5.44595463e-01 & -1.00266057e+00 & -9.48813844e-01\\\\\n",
       "  -1.76575448e-01 & -4.83843688e-01 & -7.61237460e-01 & -6.98323962e-01\\\\\n",
       "  -6.42177661e-01 & 1.76474535e-01\\\\\n",
       "  4.26832933e-02 & -4.41670344e-02 & 1.86768003e-01 & 3.10626287e-01\\\\\n",
       "  8.97128961e-02 & 3.71182726e-01 & -2.58990225e-01 & 2.71933260e-01\\\\\n",
       "  6.95388327e-01 & -3.74623582e-01 & 6.42212357e-01 & -1.08174002e-01\\\\\n",
       "  -1.06013734e-01 & 5.32021879e-01\\\\\n",
       "  3.84410183e-01 & -1.47014683e-01 & 7.36963257e-04 & 1.34507955e-01\\\\\n",
       "  -1.30034824e-02 & 7.51694592e-01 & -4.95307152e-01 & -1.87268942e-01\\\\\n",
       "  9.07814094e-01 & -3.39832695e-01 & -2.05329811e-01 & -5.51067165e-02\\\\\n",
       "  2.62028210e-01 & 5.99422483e-01\\\\\n",
       "  -2.17858782e-01 & 2.60734490e-01 & 9.06607558e-02 & 2.22669725e-01\\\\\n",
       "  6.76703779e-01 & 7.01187857e-01 & -7.61580549e-01 & 6.40213057e-01\\\\\n",
       "  6.30010691e-01 & -2.05820835e-01 & -3.91335036e-02 & -2.29979109e-02\\\\\n",
       "  1.01965157e-01 & 5.80688579e-01\\\\\n",
       "  8.61202343e-01 & 7.12270925e-01 & 5.06232346e-01 & 7.90749610e-01\\\\\n",
       "  4.50231592e-01 & 6.14555524e-02 & 8.89904081e-01 & 3.70295141e-02\\\\\n",
       "  5.82084888e-01 & 3.62317110e-01 & 3.73824100e-02 & 9.07308505e-01\\\\\n",
       "  2.10828884e-02 & 2.63161142e-01\\\\\n",
       "\\end{bmatrix} - 0.7\n",
       "\\begin{bmatrix}\n",
       "  1\\\\\n",
       "  0\\\\\n",
       "  1\\\\\n",
       "  1\\\\\n",
       "  0\\\\\n",
       "  1\\\\\n",
       "  1\\\\\n",
       "\\end{bmatrix} \\cdot \n",
       "\\begin{bmatrix}\n",
       "  0.02826246 & 0.00954621 & -0.01461911 & 0.00962146 & 0.015352 & -0.00591329\\\\\n",
       "  0.02365331 & 0.01341489 & 0.01475741 & 0.0084967 & 0.01790921 & -0.00975339\\\\\n",
       "  0.00334708 & 0.02140444\\\\\n",
       "\\end{bmatrix}\\end{gather}"
      ],
      "text/plain": [
       "<IPython.core.display.Latex object>"
      ]
     },
     "metadata": {},
     "output_type": "display_data"
    },
    {
     "data": {
      "text/latex": [
       "Camada: 0"
      ],
      "text/plain": [
       "<IPython.core.display.Latex object>"
      ]
     },
     "metadata": {},
     "output_type": "display_data"
    },
    {
     "data": {
      "text/latex": [
       "Y = Xw + b"
      ],
      "text/plain": [
       "<IPython.core.display.Latex object>"
      ]
     },
     "metadata": {},
     "output_type": "display_data"
    },
    {
     "data": {
      "text/latex": [
       "\\begin{gather}\n",
       "\\begin{bmatrix}\n",
       "  0.32871763 & -0.31994423 & 1.13752565 & 0.67243062 & 0.64764769 & 3.12957899\\\\\n",
       "  -2.24396112 & -1.1437704 & 2.62546657 & -2.02841221 & -0.2508994 & -0.92211261\\\\\n",
       "  -1.29874559 & 2.41888501\\\\\n",
       "\\end{bmatrix} = \n",
       "\\begin{bmatrix}\n",
       "  0 & 0 & 1 & 1 & 1 & 1 & 1\\\\\n",
       "\\end{bmatrix} \\cdot \n",
       "\\begin{bmatrix}\n",
       "  3.33438046e-02 & -3.06930863e-01 & 8.80900199e-01 & -7.64848974e-02\\\\\n",
       "  5.58907417e-01 & 2.34138162e-01 & -6.26406945e-01 & -1.90790112e-01\\\\\n",
       "  2.12624498e-01 & -4.42705981e-01 & -1.21440057e-01 & 4.52953143e-01\\\\\n",
       "  -4.52524153e-01 & -1.44664100e-01\\\\\n",
       "  -7.94202419e-01 & 2.05990110e-02 & 4.73220306e-02 & -3.66557607e-02\\\\\n",
       "  -2.71965695e-01 & 4.01488071e-01 & -9.66077299e-01 & -2.60025363e-01\\\\\n",
       "  -6.88031765e-01 & -3.43108983e-01 & -2.03475427e-02 & -5.00797678e-01\\\\\n",
       "  -8.40699363e-01 & -3.56797608e-01\\\\\n",
       "  -3.90836545e-01 & -3.14637651e-01 & 2.95857466e-01 & -1.91201059e-02\\\\\n",
       "  -1.10236259e-01 & 5.48734765e-01 & -1.01921789e+00 & -9.58204265e-01\\\\\n",
       "  -1.86905635e-01 & -4.89791382e-01 & -7.73773910e-01 & -6.91496591e-01\\\\\n",
       "  -6.44520620e-01 & 1.61491425e-01\\\\\n",
       "  2.28995721e-02 & -5.08493830e-02 & 1.97001380e-01 & 3.03891265e-01\\\\\n",
       "  7.89664994e-02 & 3.75322028e-01 & -2.75547546e-01 & 2.62542839e-01\\\\\n",
       "  6.85058140e-01 & -3.80571275e-01 & 6.29675907e-01 & -1.01346631e-01\\\\\n",
       "  -1.08356694e-01 & 5.17038769e-01\\\\\n",
       "  3.84410183e-01 & -1.47014683e-01 & 7.36963257e-04 & 1.34507955e-01\\\\\n",
       "  -1.30034824e-02 & 7.51694592e-01 & -4.95307152e-01 & -1.87268942e-01\\\\\n",
       "  9.07814094e-01 & -3.39832695e-01 & -2.05329811e-01 & -5.51067165e-02\\\\\n",
       "  2.62028210e-01 & 5.99422483e-01\\\\\n",
       "  -2.37642503e-01 & 2.54052142e-01 & 1.00894133e-01 & 2.15934702e-01\\\\\n",
       "  6.65957382e-01 & 7.05327159e-01 & -7.78137869e-01 & 6.30822636e-01\\\\\n",
       "  6.19680503e-01 & -2.11768528e-01 & -5.16699530e-02 & -1.61705398e-02\\\\\n",
       "  9.96221980e-02 & 5.65705470e-01\\\\\n",
       "  8.41418622e-01 & 7.05588577e-01 & 5.16465724e-01 & 7.84014588e-01\\\\\n",
       "  4.39485195e-01 & 6.55948546e-02 & 8.73346760e-01 & 2.76390930e-02\\\\\n",
       "  5.71754701e-01 & 3.56369417e-01 & 2.48459605e-02 & 9.14135876e-01\\\\\n",
       "  1.87399290e-02 & 2.48178033e-01\\\\\n",
       "\\end{bmatrix} + \n",
       "\\begin{bmatrix}\n",
       "  -0.2915317 & -0.76708323 & 0.02656998 & -0.74679778 & -0.41352165 & 0.6829056\\\\\n",
       "  -0.54909743 & -0.91930176 & 0.02806477 & -0.96281775 & 0.12535241 & -0.972128\\\\\n",
       "  -0.92625862 & 0.32704883\\\\\n",
       "\\end{bmatrix}\\end{gather}"
      ],
      "text/plain": [
       "<IPython.core.display.Latex object>"
      ]
     },
     "metadata": {},
     "output_type": "display_data"
    },
    {
     "data": {
      "text/latex": [
       "Camada: 1"
      ],
      "text/plain": [
       "<IPython.core.display.Latex object>"
      ]
     },
     "metadata": {},
     "output_type": "display_data"
    },
    {
     "data": {
      "text/latex": [
       "Y = \\sigma(X)"
      ],
      "text/plain": [
       "<IPython.core.display.Latex object>"
      ]
     },
     "metadata": {},
     "output_type": "display_data"
    },
    {
     "data": {
      "text/latex": [
       "\\begin{gather}\n",
       "\\begin{bmatrix}\n",
       "  0.58144732 & 0.42068934 & 0.75722506 & 0.6620472 & 0.65648018 & 0.95809649\\\\\n",
       "  0.09587164 & 0.24162878 & 0.93248269 & 0.11625195 & 0.43760214 & 0.28452763\\\\\n",
       "  0.21437621 & 0.91825609\\\\\n",
       "\\end{bmatrix} = \\sigma(\n",
       "\\begin{bmatrix}\n",
       "  0.32871763 & -0.31994423 & 1.13752565 & 0.67243062 & 0.64764769 & 3.12957899\\\\\n",
       "  -2.24396112 & -1.1437704 & 2.62546657 & -2.02841221 & -0.2508994 & -0.92211261\\\\\n",
       "  -1.29874559 & 2.41888501\\\\\n",
       "\\end{bmatrix}) \\end{gather}"
      ],
      "text/plain": [
       "<IPython.core.display.Latex object>"
      ]
     },
     "metadata": {},
     "output_type": "display_data"
    },
    {
     "data": {
      "text/latex": [
       "Camada: 2"
      ],
      "text/plain": [
       "<IPython.core.display.Latex object>"
      ]
     },
     "metadata": {},
     "output_type": "display_data"
    },
    {
     "data": {
      "text/latex": [
       "Y = Xw + b"
      ],
      "text/plain": [
       "<IPython.core.display.Latex object>"
      ]
     },
     "metadata": {},
     "output_type": "display_data"
    },
    {
     "data": {
      "text/latex": [
       "\\begin{gather}\n",
       "\\begin{bmatrix}\n",
       "  0.04710684 & 0.10323805 & -0.0032678 & 0.10305467 & 0.24184862 & 0.75054451\\\\\n",
       "  0.02863563 & -0.01901258 & -0.04830903 & -0.07839398\\\\\n",
       "\\end{bmatrix} = \n",
       "\\begin{bmatrix}\n",
       "  0.58144732 & 0.42068934 & 0.75722506 & 0.6620472 & 0.65648018 & 0.95809649\\\\\n",
       "  0.09587164 & 0.24162878 & 0.93248269 & 0.11625195 & 0.43760214 & 0.28452763\\\\\n",
       "  0.21437621 & 0.91825609\\\\\n",
       "\\end{bmatrix} \\cdot \n",
       "\\begin{bmatrix}\n",
       "  -0.34254027 & 0.50865312 & 0.333179 & 0.21149566 & -0.41520705 & -0.41341354\\\\\n",
       "  -0.25688846 & 0.21811065 & -0.23700991 & -0.12138193\\\\\n",
       "  0.25035418 & -0.0341106 & -0.14905681 & -0.31813072 & 0.2742816 & -0.21671726\\\\\n",
       "  -0.3822863 & 0.14281815 & 0.37518933 & 0.27863309\\\\\n",
       "  -0.25555924 & -0.41271115 & -0.25862034 & -0.40820545 & -0.31619002 & 0.48051142\\\\\n",
       "  0.13579754 & -0.24426466 & 0.33399181 & -0.26932225\\\\\n",
       "  0.27117009 & -0.45062857 & -0.43752578 & 0.24159964 & 0.07372914 & 0.00409572\\\\\n",
       "  0.16835681 & -0.23540987 & -0.04176767 & 0.24971208\\\\\n",
       "  -0.49639061 & 0.49067794 & -0.26654038 & 0.21066285 & -0.27990483 & -0.07875651\\\\\n",
       "  0.02594528 & 0.54159399 & -0.52196263 & 0.03581779\\\\\n",
       "  0.25646058 & -0.12677123 & 0.36232552 & 0.08811444 & -0.13659328 & 0.4104247\\\\\n",
       "  -0.12467688 & -0.26386186 & 0.40441035 & 0.1433787\\\\\n",
       "  -0.36024502 & -0.05465287 & 0.20543151 & -0.22814513 & 0.25837532 & -0.76293468\\\\\n",
       "  -0.1697259 & 0.43194737 & -0.75104124 & -0.54654375\\\\\n",
       "  -0.5249201 & -0.32808587 & -0.34465217 & -0.12853371 & 0.06355541 & -0.27983119\\\\\n",
       "  -0.39252194 & 0.17221796 & 0.27266322 & 0.06194737\\\\\n",
       "  0.08567936 & -0.23481842 & -0.12907839 & 0.23308042 & 0.29457619 & 0.03129729\\\\\n",
       "  0.28730227 & -0.21111249 & -0.40502659 & -0.41102384\\\\\n",
       "  0.30110357 & -0.11801695 & -0.29507089 & 0.03011176 & 0.22251004 & -0.31125025\\\\\n",
       "  -0.33611495 & -0.34514339 & -0.03573035 & -0.00860409\\\\\n",
       "  -0.40074354 & -0.36666991 & 0.39157806 & 0.15964967 & 0.22826662 & 0.12786859\\\\\n",
       "  0.3295494 & 0.03986853 & -0.24147069 & 0.27298536\\\\\n",
       "  0.25803888 & -0.50664214 & 0.26268158 & -0.36438093 & -0.16187174 & 0.06241474\\\\\n",
       "  -0.33699854 & -0.21724518 & -0.2781124 & -0.02749513\\\\\n",
       "  -0.39539672 & 0.29482715 & -0.36949578 & -0.54330052 & 0.1464853 & 0.07263151\\\\\n",
       "  -0.00613293 & -0.22102231 & -0.70186595 & -0.3873189\\\\\n",
       "  0.23029248 & 0.3829589 & -0.02641099 & 0.25444509 & 0.57519902 & -0.08092092\\\\\n",
       "  0.29397517 & 0.35244971 & 0.2337478 & -0.33426026\\\\\n",
       "\\end{bmatrix} + \n",
       "\\begin{bmatrix}\n",
       "  0.25681762 & 0.43897377 & 0.2546613 & -0.21092536 & -0.08097938 & 0.50678184\\\\\n",
       "  -0.20771276 & -0.04577279 & 0.17017682 & 0.45273258\\\\\n",
       "\\end{bmatrix}\\end{gather}"
      ],
      "text/plain": [
       "<IPython.core.display.Latex object>"
      ]
     },
     "metadata": {},
     "output_type": "display_data"
    },
    {
     "data": {
      "text/latex": [
       "f_{custo}(\n",
       "\\begin{bmatrix}\n",
       "  0 & 0 & 0 & 0 & 0 & 0 & 1 & 0 & 0 & 0\\\\\n",
       "\\end{bmatrix},\n",
       "\\begin{bmatrix}\n",
       "  0.04710684 & 0.10323805 & -0.0032678 & 0.10305467 & 0.24184862 & 0.75054451\\\\\n",
       "  0.02863563 & -0.01901258 & -0.04830903 & -0.07839398\\\\\n",
       "\\end{bmatrix}) = \n",
       "\\begin{bmatrix}\n",
       "  0.15977055049020344\\\\\n",
       "\\end{bmatrix}"
      ],
      "text/plain": [
       "<IPython.core.display.Latex object>"
      ]
     },
     "metadata": {},
     "output_type": "display_data"
    },
    {
     "data": {
      "text/latex": [
       "\\nabla = \\frac{\\partial E}{\\partial Y} = \n",
       "\\begin{bmatrix}\n",
       "  0.00942137 & 0.02064761 & -0.00065356 & 0.02061093 & 0.04836972 & 0.1501089\\\\\n",
       "  -0.19427287 & -0.00380252 & -0.00966181 & -0.0156788\\\\\n",
       "\\end{bmatrix}"
      ],
      "text/plain": [
       "<IPython.core.display.Latex object>"
      ]
     },
     "metadata": {},
     "output_type": "display_data"
    },
    {
     "data": {
      "text/latex": [
       "Camada: 2"
      ],
      "text/plain": [
       "<IPython.core.display.Latex object>"
      ]
     },
     "metadata": {},
     "output_type": "display_data"
    },
    {
     "data": {
      "text/latex": [
       "\\nabla f_{custo} = \\frac{\\partial E}{\\partial W}"
      ],
      "text/plain": [
       "<IPython.core.display.Latex object>"
      ]
     },
     "metadata": {},
     "output_type": "display_data"
    },
    {
     "data": {
      "text/latex": [
       "\n",
       "\\begin{bmatrix}\n",
       "  -0.0174537 & 0.04166171 & 0.01320406 & -0.03262665 & -0.01800853 & 0.07544876\\\\\n",
       "  -0.06422853 & 0.01892123 & -0.02486092 & 0.03234538 & -0.04419754 & 0.05524145\\\\\n",
       "  0.02427983 & -0.02445549\\\\\n",
       "\\end{bmatrix} = \n",
       "\\begin{bmatrix}\n",
       "  0.00942137 & 0.02064761 & -0.00065356 & 0.02061093 & 0.04836972 & 0.1501089\\\\\n",
       "  -0.19427287 & -0.00380252 & -0.00966181 & -0.0156788\\\\\n",
       "\\end{bmatrix} \\cdot \n",
       "\\begin{bmatrix}\n",
       "  -0.34254027 & 0.25035418 & -0.25555924 & 0.27117009 & -0.49639061 & 0.25646058\\\\\n",
       "  -0.36024502 & -0.5249201 & 0.08567936 & 0.30110357 & -0.40074354 & 0.25803888\\\\\n",
       "  -0.39539672 & 0.23029248\\\\\n",
       "  0.50865312 & -0.0341106 & -0.41271115 & -0.45062857 & 0.49067794 & -0.12677123\\\\\n",
       "  -0.05465287 & -0.32808587 & -0.23481842 & -0.11801695 & -0.36666991 & -0.50664214\\\\\n",
       "  0.29482715 & 0.3829589\\\\\n",
       "  0.333179 & -0.14905681 & -0.25862034 & -0.43752578 & -0.26654038 & 0.36232552\\\\\n",
       "  0.20543151 & -0.34465217 & -0.12907839 & -0.29507089 & 0.39157806 & 0.26268158\\\\\n",
       "  -0.36949578 & -0.02641099\\\\\n",
       "  0.21149566 & -0.31813072 & -0.40820545 & 0.24159964 & 0.21066285 & 0.08811444\\\\\n",
       "  -0.22814513 & -0.12853371 & 0.23308042 & 0.03011176 & 0.15964967 & -0.36438093\\\\\n",
       "  -0.54330052 & 0.25444509\\\\\n",
       "  -0.41520705 & 0.2742816 & -0.31619002 & 0.07372914 & -0.27990483 & -0.13659328\\\\\n",
       "  0.25837532 & 0.06355541 & 0.29457619 & 0.22251004 & 0.22826662 & -0.16187174\\\\\n",
       "  0.1464853 & 0.57519902\\\\\n",
       "  -0.41341354 & -0.21671726 & 0.48051142 & 0.00409572 & -0.07875651 & 0.4104247\\\\\n",
       "  -0.76293468 & -0.27983119 & 0.03129729 & -0.31125025 & 0.12786859 & 0.06241474\\\\\n",
       "  0.07263151 & -0.08092092\\\\\n",
       "  -0.25688846 & -0.3822863 & 0.13579754 & 0.16835681 & 0.02594528 & -0.12467688\\\\\n",
       "  -0.1697259 & -0.39252194 & 0.28730227 & -0.33611495 & 0.3295494 & -0.33699854\\\\\n",
       "  -0.00613293 & 0.29397517\\\\\n",
       "  0.21811065 & 0.14281815 & -0.24426466 & -0.23540987 & 0.54159399 & -0.26386186\\\\\n",
       "  0.43194737 & 0.17221796 & -0.21111249 & -0.34514339 & 0.03986853 & -0.21724518\\\\\n",
       "  -0.22102231 & 0.35244971\\\\\n",
       "  -0.23700991 & 0.37518933 & 0.33399181 & -0.04176767 & -0.52196263 & 0.40441035\\\\\n",
       "  -0.75104124 & 0.27266322 & -0.40502659 & -0.03573035 & -0.24147069 & -0.2781124\\\\\n",
       "  -0.70186595 & 0.2337478\\\\\n",
       "  -0.12138193 & 0.27863309 & -0.26932225 & 0.24971208 & 0.03581779 & 0.1433787\\\\\n",
       "  -0.54654375 & 0.06194737 & -0.41102384 & -0.00860409 & 0.27298536 & -0.02749513\\\\\n",
       "  -0.3873189 & -0.33426026\\\\\n",
       "\\end{bmatrix}"
      ],
      "text/plain": [
       "<IPython.core.display.Latex object>"
      ]
     },
     "metadata": {},
     "output_type": "display_data"
    },
    {
     "data": {
      "text/latex": [
       "W = W - \\lambda (X \\cdot \\nabla f_{custo})"
      ],
      "text/plain": [
       "<IPython.core.display.Latex object>"
      ]
     },
     "metadata": {},
     "output_type": "display_data"
    },
    {
     "data": {
      "text/latex": [
       "\\begin{gather}\n",
       "\\begin{bmatrix}\n",
       "  -0.34637489 & 0.50024927 & 0.33344501 & 0.20310674 & -0.43489416 & -0.47450984\\\\\n",
       "  -0.17781685 & 0.21965833 & -0.23307743 & -0.11500045\\\\\n",
       "  0.24757976 & -0.04019096 & -0.14886435 & -0.32420028 & 0.26003756 & -0.26092171\\\\\n",
       "  -0.32507633 & 0.14393792 & 0.37803457 & 0.28325022\\\\\n",
       "  -0.26055311 & -0.42365557 & -0.25827392 & -0.41913043 & -0.34182876 & 0.40094506\\\\\n",
       "  0.23877334 & -0.24224911 & 0.33911313 & -0.26101159\\\\\n",
       "  0.26680392 & -0.46019735 & -0.43722289 & 0.23204785 & 0.05131301 & -0.0654697\\\\\n",
       "  0.25838928 & -0.23364766 & -0.03729007 & 0.25697815\\\\\n",
       "  -0.50072007 & 0.48118962 & -0.26624004 & 0.20119138 & -0.30213247 & -0.14773698\\\\\n",
       "  0.11522068 & 0.54334138 & -0.51752268 & 0.04302276\\\\\n",
       "  0.25014197 & -0.14061891 & 0.36276384 & 0.07429136 & -0.16903329 & 0.30975153\\\\\n",
       "  0.00561563 & -0.26131164 & 0.41089021 & 0.15389396\\\\\n",
       "  -0.36087729 & -0.05603853 & 0.20547537 & -0.22952833 & 0.25512922 & -0.77300851\\\\\n",
       "  -0.15668821 & 0.43220256 & -0.75039283 & -0.54549154\\\\\n",
       "  -0.52651363 & -0.33157821 & -0.34454163 & -0.13201985 & 0.05537415 & -0.30522063\\\\\n",
       "  -0.3596626 & 0.17286112 & 0.27429742 & 0.06459929\\\\\n",
       "  0.07952967 & -0.2482959 & -0.12865178 & 0.21962688 & 0.26300343 & -0.06668448\\\\\n",
       "  0.41411153 & -0.20863044 & -0.39871996 & -0.40078969\\\\\n",
       "  0.3003369 & -0.11969718 & -0.29501771 & 0.02843451 & 0.21857389 & -0.32346557\\\\\n",
       "  -0.32030573 & -0.34483395 & -0.0349441 & -0.0073282\\\\\n",
       "  -0.40362951 & -0.37299471 & 0.39177826 & 0.1533361 & 0.21344993 & 0.081887\\\\\n",
       "  0.38905935 & 0.04103332 & -0.23851107 & 0.27778811\\\\\n",
       "  0.25616243 & -0.51075451 & 0.26281175 & -0.36848599 & -0.17150551 & 0.03251765\\\\\n",
       "  -0.29830534 & -0.21648783 & -0.27618807 & -0.0243724\\\\\n",
       "  -0.39681052 & 0.2917287 & -0.3693977 & -0.54639347 & 0.13922678 & 0.05010566\\\\\n",
       "  0.02302031 & -0.22045169 & -0.70041607 & -0.38496608\\\\\n",
       "  0.22423662 & 0.36968705 & -0.02599089 & 0.2411968 & 0.54410796 & -0.17740781\\\\\n",
       "  0.41884974 & 0.35489389 & 0.23995821 & -0.32418226\\\\\n",
       "\\end{bmatrix} = \n",
       "\\begin{bmatrix}\n",
       "  -0.34254027 & 0.50865312 & 0.333179 & 0.21149566 & -0.41520705 & -0.41341354\\\\\n",
       "  -0.25688846 & 0.21811065 & -0.23700991 & -0.12138193\\\\\n",
       "  0.25035418 & -0.0341106 & -0.14905681 & -0.31813072 & 0.2742816 & -0.21671726\\\\\n",
       "  -0.3822863 & 0.14281815 & 0.37518933 & 0.27863309\\\\\n",
       "  -0.25555924 & -0.41271115 & -0.25862034 & -0.40820545 & -0.31619002 & 0.48051142\\\\\n",
       "  0.13579754 & -0.24426466 & 0.33399181 & -0.26932225\\\\\n",
       "  0.27117009 & -0.45062857 & -0.43752578 & 0.24159964 & 0.07372914 & 0.00409572\\\\\n",
       "  0.16835681 & -0.23540987 & -0.04176767 & 0.24971208\\\\\n",
       "  -0.49639061 & 0.49067794 & -0.26654038 & 0.21066285 & -0.27990483 & -0.07875651\\\\\n",
       "  0.02594528 & 0.54159399 & -0.52196263 & 0.03581779\\\\\n",
       "  0.25646058 & -0.12677123 & 0.36232552 & 0.08811444 & -0.13659328 & 0.4104247\\\\\n",
       "  -0.12467688 & -0.26386186 & 0.40441035 & 0.1433787\\\\\n",
       "  -0.36024502 & -0.05465287 & 0.20543151 & -0.22814513 & 0.25837532 & -0.76293468\\\\\n",
       "  -0.1697259 & 0.43194737 & -0.75104124 & -0.54654375\\\\\n",
       "  -0.5249201 & -0.32808587 & -0.34465217 & -0.12853371 & 0.06355541 & -0.27983119\\\\\n",
       "  -0.39252194 & 0.17221796 & 0.27266322 & 0.06194737\\\\\n",
       "  0.08567936 & -0.23481842 & -0.12907839 & 0.23308042 & 0.29457619 & 0.03129729\\\\\n",
       "  0.28730227 & -0.21111249 & -0.40502659 & -0.41102384\\\\\n",
       "  0.30110357 & -0.11801695 & -0.29507089 & 0.03011176 & 0.22251004 & -0.31125025\\\\\n",
       "  -0.33611495 & -0.34514339 & -0.03573035 & -0.00860409\\\\\n",
       "  -0.40074354 & -0.36666991 & 0.39157806 & 0.15964967 & 0.22826662 & 0.12786859\\\\\n",
       "  0.3295494 & 0.03986853 & -0.24147069 & 0.27298536\\\\\n",
       "  0.25803888 & -0.50664214 & 0.26268158 & -0.36438093 & -0.16187174 & 0.06241474\\\\\n",
       "  -0.33699854 & -0.21724518 & -0.2781124 & -0.02749513\\\\\n",
       "  -0.39539672 & 0.29482715 & -0.36949578 & -0.54330052 & 0.1464853 & 0.07263151\\\\\n",
       "  -0.00613293 & -0.22102231 & -0.70186595 & -0.3873189\\\\\n",
       "  0.23029248 & 0.3829589 & -0.02641099 & 0.25444509 & 0.57519902 & -0.08092092\\\\\n",
       "  0.29397517 & 0.35244971 & 0.2337478 & -0.33426026\\\\\n",
       "\\end{bmatrix} - 0.7\n",
       "\\begin{bmatrix}\n",
       "  0.58144732\\\\\n",
       "  0.42068934\\\\\n",
       "  0.75722506\\\\\n",
       "  0.6620472\\\\\n",
       "  0.65648018\\\\\n",
       "  0.95809649\\\\\n",
       "  0.09587164\\\\\n",
       "  0.24162878\\\\\n",
       "  0.93248269\\\\\n",
       "  0.11625195\\\\\n",
       "  0.43760214\\\\\n",
       "  0.28452763\\\\\n",
       "  0.21437621\\\\\n",
       "  0.91825609\\\\\n",
       "\\end{bmatrix} \\cdot \n",
       "\\begin{bmatrix}\n",
       "  0.00942137 & 0.02064761 & -0.00065356 & 0.02061093 & 0.04836972 & 0.1501089\\\\\n",
       "  -0.19427287 & -0.00380252 & -0.00966181 & -0.0156788\\\\\n",
       "\\end{bmatrix}\\end{gather}"
      ],
      "text/plain": [
       "<IPython.core.display.Latex object>"
      ]
     },
     "metadata": {},
     "output_type": "display_data"
    },
    {
     "data": {
      "text/latex": [
       "Camada: 1"
      ],
      "text/plain": [
       "<IPython.core.display.Latex object>"
      ]
     },
     "metadata": {},
     "output_type": "display_data"
    },
    {
     "data": {
      "text/latex": [
       "\\nabla = \\frac{\\partial E}{\\partial Y} \\frac{\\partial Y}{\\partial X}"
      ],
      "text/plain": [
       "<IPython.core.display.Latex object>"
      ]
     },
     "metadata": {},
     "output_type": "display_data"
    },
    {
     "data": {
      "text/latex": [
       "\\begin{gather}\n",
       "\\begin{bmatrix}\n",
       "  -0.00424764 & 0.01015337 & 0.00242737 & -0.00729991 & -0.00406117 & 0.00302909\\\\\n",
       "  -0.00556735 & 0.00346721 & -0.00156521 & 0.00332308 & -0.0108773 & 0.01124559\\\\\n",
       "  0.00408919 & -0.00183567\\\\\n",
       "\\end{bmatrix} = \n",
       "\\begin{bmatrix}\n",
       "  -0.0174537 & 0.04166171 & 0.01320406 & -0.03262665 & -0.01800853 & 0.07544876\\\\\n",
       "  -0.06422853 & 0.01892123 & -0.02486092 & 0.03234538 & -0.04419754 & 0.05524145\\\\\n",
       "  0.02427983 & -0.02445549\\\\\n",
       "\\end{bmatrix} \\cdot  \\sigma^{'}(\n",
       "\\begin{bmatrix}\n",
       "  0.32871763 & -0.31994423 & 1.13752565 & 0.67243062 & 0.64764769 & 3.12957899\\\\\n",
       "  -2.24396112 & -1.1437704 & 2.62546657 & -2.02841221 & -0.2508994 & -0.92211261\\\\\n",
       "  -1.29874559 & 2.41888501\\\\\n",
       "\\end{bmatrix}) \\end{gather}"
      ],
      "text/plain": [
       "<IPython.core.display.Latex object>"
      ]
     },
     "metadata": {},
     "output_type": "display_data"
    },
    {
     "data": {
      "text/latex": [
       "Camada: 0"
      ],
      "text/plain": [
       "<IPython.core.display.Latex object>"
      ]
     },
     "metadata": {},
     "output_type": "display_data"
    },
    {
     "data": {
      "text/latex": [
       "\\nabla f_{custo} = \\frac{\\partial E}{\\partial W}"
      ],
      "text/plain": [
       "<IPython.core.display.Latex object>"
      ]
     },
     "metadata": {},
     "output_type": "display_data"
    },
    {
     "data": {
      "text/latex": [
       "\n",
       "\\begin{bmatrix}\n",
       "  0.00372973 & 0.00250614 & 0.00015834 & -0.01081121 & -0.00063298 & 0.00628424\\\\\n",
       "  0.00268807\\\\\n",
       "\\end{bmatrix} = \n",
       "\\begin{bmatrix}\n",
       "  -0.00424764 & 0.01015337 & 0.00242737 & -0.00729991 & -0.00406117 & 0.00302909\\\\\n",
       "  -0.00556735 & 0.00346721 & -0.00156521 & 0.00332308 & -0.0108773 & 0.01124559\\\\\n",
       "  0.00408919 & -0.00183567\\\\\n",
       "\\end{bmatrix} \\cdot \n",
       "\\begin{bmatrix}\n",
       "  3.33438046e-02 & -7.94202419e-01 & -3.90836545e-01 & 2.28995721e-02\\\\\n",
       "  3.84410183e-01 & -2.37642503e-01 & 8.41418622e-01\\\\\n",
       "  -3.06930863e-01 & 2.05990110e-02 & -3.14637651e-01 & -5.08493830e-02\\\\\n",
       "  -1.47014683e-01 & 2.54052142e-01 & 7.05588577e-01\\\\\n",
       "  8.80900199e-01 & 4.73220306e-02 & 2.95857466e-01 & 1.97001380e-01\\\\\n",
       "  7.36963257e-04 & 1.00894133e-01 & 5.16465724e-01\\\\\n",
       "  -7.64848974e-02 & -3.66557607e-02 & -1.91201059e-02 & 3.03891265e-01\\\\\n",
       "  1.34507955e-01 & 2.15934702e-01 & 7.84014588e-01\\\\\n",
       "  5.58907417e-01 & -2.71965695e-01 & -1.10236259e-01 & 7.89664994e-02\\\\\n",
       "  -1.30034824e-02 & 6.65957382e-01 & 4.39485195e-01\\\\\n",
       "  2.34138162e-01 & 4.01488071e-01 & 5.48734765e-01 & 3.75322028e-01\\\\\n",
       "  7.51694592e-01 & 7.05327159e-01 & 6.55948546e-02\\\\\n",
       "  -6.26406945e-01 & -9.66077299e-01 & -1.01921789e+00 & -2.75547546e-01\\\\\n",
       "  -4.95307152e-01 & -7.78137869e-01 & 8.73346760e-01\\\\\n",
       "  -1.90790112e-01 & -2.60025363e-01 & -9.58204265e-01 & 2.62542839e-01\\\\\n",
       "  -1.87268942e-01 & 6.30822636e-01 & 2.76390930e-02\\\\\n",
       "  2.12624498e-01 & -6.88031765e-01 & -1.86905635e-01 & 6.85058140e-01\\\\\n",
       "  9.07814094e-01 & 6.19680503e-01 & 5.71754701e-01\\\\\n",
       "  -4.42705981e-01 & -3.43108983e-01 & -4.89791382e-01 & -3.80571275e-01\\\\\n",
       "  -3.39832695e-01 & -2.11768528e-01 & 3.56369417e-01\\\\\n",
       "  -1.21440057e-01 & -2.03475427e-02 & -7.73773910e-01 & 6.29675907e-01\\\\\n",
       "  -2.05329811e-01 & -5.16699530e-02 & 2.48459605e-02\\\\\n",
       "  4.52953143e-01 & -5.00797678e-01 & -6.91496591e-01 & -1.01346631e-01\\\\\n",
       "  -5.51067165e-02 & -1.61705398e-02 & 9.14135876e-01\\\\\n",
       "  -4.52524153e-01 & -8.40699363e-01 & -6.44520620e-01 & -1.08356694e-01\\\\\n",
       "  2.62028210e-01 & 9.96221980e-02 & 1.87399290e-02\\\\\n",
       "  -1.44664100e-01 & -3.56797608e-01 & 1.61491425e-01 & 5.17038769e-01\\\\\n",
       "  5.99422483e-01 & 5.65705470e-01 & 2.48178033e-01\\\\\n",
       "\\end{bmatrix}"
      ],
      "text/plain": [
       "<IPython.core.display.Latex object>"
      ]
     },
     "metadata": {},
     "output_type": "display_data"
    },
    {
     "data": {
      "text/latex": [
       "W = W - \\lambda (X \\cdot \\nabla f_{custo})"
      ],
      "text/plain": [
       "<IPython.core.display.Latex object>"
      ]
     },
     "metadata": {},
     "output_type": "display_data"
    },
    {
     "data": {
      "text/latex": [
       "\\begin{gather}\n",
       "\\begin{bmatrix}\n",
       "  3.33438046e-02 & -3.06930863e-01 & 8.80900199e-01 & -7.64848974e-02\\\\\n",
       "  5.58907417e-01 & 2.34138162e-01 & -6.26406945e-01 & -1.90790112e-01\\\\\n",
       "  2.12624498e-01 & -4.42705981e-01 & -1.21440057e-01 & 4.52953143e-01\\\\\n",
       "  -4.52524153e-01 & -1.44664100e-01\\\\\n",
       "  -7.94202419e-01 & 2.05990110e-02 & 4.73220306e-02 & -3.66557607e-02\\\\\n",
       "  -2.71965695e-01 & 4.01488071e-01 & -9.66077299e-01 & -2.60025363e-01\\\\\n",
       "  -6.88031765e-01 & -3.43108983e-01 & -2.03475427e-02 & -5.00797678e-01\\\\\n",
       "  -8.40699363e-01 & -3.56797608e-01\\\\\n",
       "  -3.87863194e-01 & -3.21745009e-01 & 2.94158306e-01 & -1.40101692e-02\\\\\n",
       "  -1.07393437e-01 & 5.46614404e-01 & -1.01532075e+00 & -9.60631310e-01\\\\\n",
       "  -1.85809987e-01 & -4.92117539e-01 & -7.66159798e-01 & -6.99368507e-01\\\\\n",
       "  -6.47383051e-01 & 1.62776397e-01\\\\\n",
       "  2.58729227e-02 & -5.79567406e-02 & 1.95302220e-01 & 3.09001202e-01\\\\\n",
       "  8.18093216e-02 & 3.73201667e-01 & -2.71650403e-01 & 2.60115794e-01\\\\\n",
       "  6.86153788e-01 & -3.82897432e-01 & 6.37290019e-01 & -1.09218546e-01\\\\\n",
       "  -1.11219124e-01 & 5.18323741e-01\\\\\n",
       "  3.87383534e-01 & -1.54122041e-01 & -9.62196469e-04 & 1.39617892e-01\\\\\n",
       "  -1.01606603e-02 & 7.49574231e-01 & -4.91410010e-01 & -1.89695987e-01\\\\\n",
       "  9.08909742e-01 & -3.42158853e-01 & -1.97715699e-01 & -6.29786320e-02\\\\\n",
       "  2.59165779e-01 & 6.00707454e-01\\\\\n",
       "  -2.34669153e-01 & 2.46944784e-01 & 9.91949735e-02 & 2.21044639e-01\\\\\n",
       "  6.68800204e-01 & 7.03206798e-01 & -7.74240727e-01 & 6.28395591e-01\\\\\n",
       "  6.20776152e-01 & -2.14094685e-01 & -4.40558412e-02 & -2.40424553e-02\\\\\n",
       "  9.67597674e-02 & 5.66990441e-01\\\\\n",
       "  8.44391972e-01 & 6.98481219e-01 & 5.14766564e-01 & 7.89124525e-01\\\\\n",
       "  4.42328017e-01 & 6.34744938e-02 & 8.77243902e-01 & 2.52120480e-02\\\\\n",
       "  5.72850349e-01 & 3.54043260e-01 & 3.24600723e-02 & 9.06263960e-01\\\\\n",
       "  1.58774984e-02 & 2.49463004e-01\\\\\n",
       "\\end{bmatrix} = \n",
       "\\begin{bmatrix}\n",
       "  3.33438046e-02 & -3.06930863e-01 & 8.80900199e-01 & -7.64848974e-02\\\\\n",
       "  5.58907417e-01 & 2.34138162e-01 & -6.26406945e-01 & -1.90790112e-01\\\\\n",
       "  2.12624498e-01 & -4.42705981e-01 & -1.21440057e-01 & 4.52953143e-01\\\\\n",
       "  -4.52524153e-01 & -1.44664100e-01\\\\\n",
       "  -7.94202419e-01 & 2.05990110e-02 & 4.73220306e-02 & -3.66557607e-02\\\\\n",
       "  -2.71965695e-01 & 4.01488071e-01 & -9.66077299e-01 & -2.60025363e-01\\\\\n",
       "  -6.88031765e-01 & -3.43108983e-01 & -2.03475427e-02 & -5.00797678e-01\\\\\n",
       "  -8.40699363e-01 & -3.56797608e-01\\\\\n",
       "  -3.90836545e-01 & -3.14637651e-01 & 2.95857466e-01 & -1.91201059e-02\\\\\n",
       "  -1.10236259e-01 & 5.48734765e-01 & -1.01921789e+00 & -9.58204265e-01\\\\\n",
       "  -1.86905635e-01 & -4.89791382e-01 & -7.73773910e-01 & -6.91496591e-01\\\\\n",
       "  -6.44520620e-01 & 1.61491425e-01\\\\\n",
       "  2.28995721e-02 & -5.08493830e-02 & 1.97001380e-01 & 3.03891265e-01\\\\\n",
       "  7.89664994e-02 & 3.75322028e-01 & -2.75547546e-01 & 2.62542839e-01\\\\\n",
       "  6.85058140e-01 & -3.80571275e-01 & 6.29675907e-01 & -1.01346631e-01\\\\\n",
       "  -1.08356694e-01 & 5.17038769e-01\\\\\n",
       "  3.84410183e-01 & -1.47014683e-01 & 7.36963257e-04 & 1.34507955e-01\\\\\n",
       "  -1.30034824e-02 & 7.51694592e-01 & -4.95307152e-01 & -1.87268942e-01\\\\\n",
       "  9.07814094e-01 & -3.39832695e-01 & -2.05329811e-01 & -5.51067165e-02\\\\\n",
       "  2.62028210e-01 & 5.99422483e-01\\\\\n",
       "  -2.37642503e-01 & 2.54052142e-01 & 1.00894133e-01 & 2.15934702e-01\\\\\n",
       "  6.65957382e-01 & 7.05327159e-01 & -7.78137869e-01 & 6.30822636e-01\\\\\n",
       "  6.19680503e-01 & -2.11768528e-01 & -5.16699530e-02 & -1.61705398e-02\\\\\n",
       "  9.96221980e-02 & 5.65705470e-01\\\\\n",
       "  8.41418622e-01 & 7.05588577e-01 & 5.16465724e-01 & 7.84014588e-01\\\\\n",
       "  4.39485195e-01 & 6.55948546e-02 & 8.73346760e-01 & 2.76390930e-02\\\\\n",
       "  5.71754701e-01 & 3.56369417e-01 & 2.48459605e-02 & 9.14135876e-01\\\\\n",
       "  1.87399290e-02 & 2.48178033e-01\\\\\n",
       "\\end{bmatrix} - 0.7\n",
       "\\begin{bmatrix}\n",
       "  0\\\\\n",
       "  0\\\\\n",
       "  1\\\\\n",
       "  1\\\\\n",
       "  1\\\\\n",
       "  1\\\\\n",
       "  1\\\\\n",
       "\\end{bmatrix} \\cdot \n",
       "\\begin{bmatrix}\n",
       "  -0.00424764 & 0.01015337 & 0.00242737 & -0.00729991 & -0.00406117 & 0.00302909\\\\\n",
       "  -0.00556735 & 0.00346721 & -0.00156521 & 0.00332308 & -0.0108773 & 0.01124559\\\\\n",
       "  0.00408919 & -0.00183567\\\\\n",
       "\\end{bmatrix}\\end{gather}"
      ],
      "text/plain": [
       "<IPython.core.display.Latex object>"
      ]
     },
     "metadata": {},
     "output_type": "display_data"
    },
    {
     "data": {
      "text/latex": [
       "Camada: 0"
      ],
      "text/plain": [
       "<IPython.core.display.Latex object>"
      ]
     },
     "metadata": {},
     "output_type": "display_data"
    },
    {
     "data": {
      "text/latex": [
       "Y = Xw + b"
      ],
      "text/plain": [
       "<IPython.core.display.Latex object>"
      ]
     },
     "metadata": {},
     "output_type": "display_data"
    },
    {
     "data": {
      "text/latex": [
       "\\begin{gather}\n",
       "\\begin{bmatrix}\n",
       "  -1.43728016 & -1.38226745 & 1.24725136 & -0.86883867 & -0.23113054 & 1.86302587\\\\\n",
       "  -3.15300528 & -2.33317559 & -0.63205683 & -2.24307641 & -0.77498088 & -1.72721296\\\\\n",
       "  -2.86972761 & -0.01035151\\\\\n",
       "\\end{bmatrix} = \n",
       "\\begin{bmatrix}\n",
       "  1 & 1 & 1 & 0 & 0 & 0 & 0\\\\\n",
       "\\end{bmatrix} \\cdot \n",
       "\\begin{bmatrix}\n",
       "  3.33438046e-02 & -3.06930863e-01 & 8.80900199e-01 & -7.64848974e-02\\\\\n",
       "  5.58907417e-01 & 2.34138162e-01 & -6.26406945e-01 & -1.90790112e-01\\\\\n",
       "  2.12624498e-01 & -4.42705981e-01 & -1.21440057e-01 & 4.52953143e-01\\\\\n",
       "  -4.52524153e-01 & -1.44664100e-01\\\\\n",
       "  -7.94202419e-01 & 2.05990110e-02 & 4.73220306e-02 & -3.66557607e-02\\\\\n",
       "  -2.71965695e-01 & 4.01488071e-01 & -9.66077299e-01 & -2.60025363e-01\\\\\n",
       "  -6.88031765e-01 & -3.43108983e-01 & -2.03475427e-02 & -5.00797678e-01\\\\\n",
       "  -8.40699363e-01 & -3.56797608e-01\\\\\n",
       "  -3.87863194e-01 & -3.21745009e-01 & 2.94158306e-01 & -1.40101692e-02\\\\\n",
       "  -1.07393437e-01 & 5.46614404e-01 & -1.01532075e+00 & -9.60631310e-01\\\\\n",
       "  -1.85809987e-01 & -4.92117539e-01 & -7.66159798e-01 & -6.99368507e-01\\\\\n",
       "  -6.47383051e-01 & 1.62776397e-01\\\\\n",
       "  2.58729227e-02 & -5.79567406e-02 & 1.95302220e-01 & 3.09001202e-01\\\\\n",
       "  8.18093216e-02 & 3.73201667e-01 & -2.71650403e-01 & 2.60115794e-01\\\\\n",
       "  6.86153788e-01 & -3.82897432e-01 & 6.37290019e-01 & -1.09218546e-01\\\\\n",
       "  -1.11219124e-01 & 5.18323741e-01\\\\\n",
       "  3.87383534e-01 & -1.54122041e-01 & -9.62196469e-04 & 1.39617892e-01\\\\\n",
       "  -1.01606603e-02 & 7.49574231e-01 & -4.91410010e-01 & -1.89695987e-01\\\\\n",
       "  9.08909742e-01 & -3.42158853e-01 & -1.97715699e-01 & -6.29786320e-02\\\\\n",
       "  2.59165779e-01 & 6.00707454e-01\\\\\n",
       "  -2.34669153e-01 & 2.46944784e-01 & 9.91949735e-02 & 2.21044639e-01\\\\\n",
       "  6.68800204e-01 & 7.03206798e-01 & -7.74240727e-01 & 6.28395591e-01\\\\\n",
       "  6.20776152e-01 & -2.14094685e-01 & -4.40558412e-02 & -2.40424553e-02\\\\\n",
       "  9.67597674e-02 & 5.66990441e-01\\\\\n",
       "  8.44391972e-01 & 6.98481219e-01 & 5.14766564e-01 & 7.89124525e-01\\\\\n",
       "  4.42328017e-01 & 6.34744938e-02 & 8.77243902e-01 & 2.52120480e-02\\\\\n",
       "  5.72850349e-01 & 3.54043260e-01 & 3.24600723e-02 & 9.06263960e-01\\\\\n",
       "  1.58774984e-02 & 2.49463004e-01\\\\\n",
       "\\end{bmatrix} + \n",
       "\\begin{bmatrix}\n",
       "  -0.28855835 & -0.77419059 & 0.02487082 & -0.74168785 & -0.41067883 & 0.68078524\\\\\n",
       "  -0.54520028 & -0.92172881 & 0.02916042 & -0.9651439 & 0.13296652 & -0.97999992\\\\\n",
       "  -0.92912105 & 0.3283338\\\\\n",
       "\\end{bmatrix}\\end{gather}"
      ],
      "text/plain": [
       "<IPython.core.display.Latex object>"
      ]
     },
     "metadata": {},
     "output_type": "display_data"
    },
    {
     "data": {
      "text/latex": [
       "Camada: 1"
      ],
      "text/plain": [
       "<IPython.core.display.Latex object>"
      ]
     },
     "metadata": {},
     "output_type": "display_data"
    },
    {
     "data": {
      "text/latex": [
       "Y = \\sigma(X)"
      ],
      "text/plain": [
       "<IPython.core.display.Latex object>"
      ]
     },
     "metadata": {},
     "output_type": "display_data"
    },
    {
     "data": {
      "text/latex": [
       "\\begin{gather}\n",
       "\\begin{bmatrix}\n",
       "  0.19196689 & 0.20064508 & 0.7768237 & 0.29549601 & 0.44247323 & 0.86564925\\\\\n",
       "  0.04097303 & 0.08841239 & 0.3470443 & 0.09594836 & 0.31540263 & 0.15094442\\\\\n",
       "  0.05367048 & 0.49741215\\\\\n",
       "\\end{bmatrix} = \\sigma(\n",
       "\\begin{bmatrix}\n",
       "  -1.43728016 & -1.38226745 & 1.24725136 & -0.86883867 & -0.23113054 & 1.86302587\\\\\n",
       "  -3.15300528 & -2.33317559 & -0.63205683 & -2.24307641 & -0.77498088 & -1.72721296\\\\\n",
       "  -2.86972761 & -0.01035151\\\\\n",
       "\\end{bmatrix}) \\end{gather}"
      ],
      "text/plain": [
       "<IPython.core.display.Latex object>"
      ]
     },
     "metadata": {},
     "output_type": "display_data"
    },
    {
     "data": {
      "text/latex": [
       "Camada: 2"
      ],
      "text/plain": [
       "<IPython.core.display.Latex object>"
      ]
     },
     "metadata": {},
     "output_type": "display_data"
    },
    {
     "data": {
      "text/latex": [
       "Y = Xw + b"
      ],
      "text/plain": [
       "<IPython.core.display.Latex object>"
      ]
     },
     "metadata": {},
     "output_type": "display_data"
    },
    {
     "data": {
      "text/latex": [
       "\\begin{gather}\n",
       "\\begin{bmatrix}\n",
       "  0.10150353 & 0.0141212 & 0.19113831 & -0.21383905 & -0.22938719 & 0.58549078\\\\\n",
       "  0.50862226 & -0.14261785 & 0.40378613 & 0.26948361\\\\\n",
       "\\end{bmatrix} = \n",
       "\\begin{bmatrix}\n",
       "  0.19196689 & 0.20064508 & 0.7768237 & 0.29549601 & 0.44247323 & 0.86564925\\\\\n",
       "  0.04097303 & 0.08841239 & 0.3470443 & 0.09594836 & 0.31540263 & 0.15094442\\\\\n",
       "  0.05367048 & 0.49741215\\\\\n",
       "\\end{bmatrix} \\cdot \n",
       "\\begin{bmatrix}\n",
       "  -0.34637489 & 0.50024927 & 0.33344501 & 0.20310674 & -0.43489416 & -0.47450984\\\\\n",
       "  -0.17781685 & 0.21965833 & -0.23307743 & -0.11500045\\\\\n",
       "  0.24757976 & -0.04019096 & -0.14886435 & -0.32420028 & 0.26003756 & -0.26092171\\\\\n",
       "  -0.32507633 & 0.14393792 & 0.37803457 & 0.28325022\\\\\n",
       "  -0.26055311 & -0.42365557 & -0.25827392 & -0.41913043 & -0.34182876 & 0.40094506\\\\\n",
       "  0.23877334 & -0.24224911 & 0.33911313 & -0.26101159\\\\\n",
       "  0.26680392 & -0.46019735 & -0.43722289 & 0.23204785 & 0.05131301 & -0.0654697\\\\\n",
       "  0.25838928 & -0.23364766 & -0.03729007 & 0.25697815\\\\\n",
       "  -0.50072007 & 0.48118962 & -0.26624004 & 0.20119138 & -0.30213247 & -0.14773698\\\\\n",
       "  0.11522068 & 0.54334138 & -0.51752268 & 0.04302276\\\\\n",
       "  0.25014197 & -0.14061891 & 0.36276384 & 0.07429136 & -0.16903329 & 0.30975153\\\\\n",
       "  0.00561563 & -0.26131164 & 0.41089021 & 0.15389396\\\\\n",
       "  -0.36087729 & -0.05603853 & 0.20547537 & -0.22952833 & 0.25512922 & -0.77300851\\\\\n",
       "  -0.15668821 & 0.43220256 & -0.75039283 & -0.54549154\\\\\n",
       "  -0.52651363 & -0.33157821 & -0.34454163 & -0.13201985 & 0.05537415 & -0.30522063\\\\\n",
       "  -0.3596626 & 0.17286112 & 0.27429742 & 0.06459929\\\\\n",
       "  0.07952967 & -0.2482959 & -0.12865178 & 0.21962688 & 0.26300343 & -0.06668448\\\\\n",
       "  0.41411153 & -0.20863044 & -0.39871996 & -0.40078969\\\\\n",
       "  0.3003369 & -0.11969718 & -0.29501771 & 0.02843451 & 0.21857389 & -0.32346557\\\\\n",
       "  -0.32030573 & -0.34483395 & -0.0349441 & -0.0073282\\\\\n",
       "  -0.40362951 & -0.37299471 & 0.39177826 & 0.1533361 & 0.21344993 & 0.081887\\\\\n",
       "  0.38905935 & 0.04103332 & -0.23851107 & 0.27778811\\\\\n",
       "  0.25616243 & -0.51075451 & 0.26281175 & -0.36848599 & -0.17150551 & 0.03251765\\\\\n",
       "  -0.29830534 & -0.21648783 & -0.27618807 & -0.0243724\\\\\n",
       "  -0.39681052 & 0.2917287 & -0.3693977 & -0.54639347 & 0.13922678 & 0.05010566\\\\\n",
       "  0.02302031 & -0.22045169 & -0.70041607 & -0.38496608\\\\\n",
       "  0.22423662 & 0.36968705 & -0.02599089 & 0.2411968 & 0.54410796 & -0.17740781\\\\\n",
       "  0.41884974 & 0.35489389 & 0.23995821 & -0.32418226\\\\\n",
       "\\end{bmatrix} + \n",
       "\\begin{bmatrix}\n",
       "  0.25022266 & 0.42452044 & 0.2551188 & -0.22535301 & -0.11483819 & 0.40170561\\\\\n",
       "  -0.07172174 & -0.04311103 & 0.17694008 & 0.46370774\\\\\n",
       "\\end{bmatrix}\\end{gather}"
      ],
      "text/plain": [
       "<IPython.core.display.Latex object>"
      ]
     },
     "metadata": {},
     "output_type": "display_data"
    },
    {
     "data": {
      "text/latex": [
       "f_{custo}(\n",
       "\\begin{bmatrix}\n",
       "  0 & 0 & 0 & 0 & 0 & 0 & 0 & 1 & 0 & 0\\\\\n",
       "\\end{bmatrix},\n",
       "\\begin{bmatrix}\n",
       "  0.10150353 & 0.0141212 & 0.19113831 & -0.21383905 & -0.22938719 & 0.58549078\\\\\n",
       "  0.50862226 & -0.14261785 & 0.40378613 & 0.26948361\\\\\n",
       "\\end{bmatrix}) = \n",
       "\\begin{bmatrix}\n",
       "  0.22881181092315428\\\\\n",
       "\\end{bmatrix}"
      ],
      "text/plain": [
       "<IPython.core.display.Latex object>"
      ]
     },
     "metadata": {},
     "output_type": "display_data"
    },
    {
     "data": {
      "text/latex": [
       "\\nabla = \\frac{\\partial E}{\\partial Y} = \n",
       "\\begin{bmatrix}\n",
       "  0.02030071 & 0.00282424 & 0.03822766 & -0.04276781 & -0.04587744 & 0.11709816\\\\\n",
       "  0.10172445 & -0.22852357 & 0.08075723 & 0.05389672\\\\\n",
       "\\end{bmatrix}"
      ],
      "text/plain": [
       "<IPython.core.display.Latex object>"
      ]
     },
     "metadata": {},
     "output_type": "display_data"
    },
    {
     "data": {
      "text/latex": [
       "Camada: 2"
      ],
      "text/plain": [
       "<IPython.core.display.Latex object>"
      ]
     },
     "metadata": {},
     "output_type": "display_data"
    },
    {
     "data": {
      "text/latex": [
       "\\nabla f_{custo} = \\frac{\\partial E}{\\partial W}"
      ],
      "text/plain": [
       "<IPython.core.display.Latex object>"
      ]
     },
     "metadata": {},
     "output_type": "display_data"
    },
    {
     "data": {
      "text/latex": [
       "\n",
       "\\begin{bmatrix}\n",
       "  -0.13047709 & -0.04956231 & 0.15716521 & 0.05797526 & -0.18294735 & 0.16116125\\\\\n",
       "  -0.29674295 & -0.10788721 & 0.00272916 & -0.01163695 & 0.02487795 & 0.03674964\\\\\n",
       "  -0.0230968 & -0.08803755\\\\\n",
       "\\end{bmatrix} = \n",
       "\\begin{bmatrix}\n",
       "  0.02030071 & 0.00282424 & 0.03822766 & -0.04276781 & -0.04587744 & 0.11709816\\\\\n",
       "  0.10172445 & -0.22852357 & 0.08075723 & 0.05389672\\\\\n",
       "\\end{bmatrix} \\cdot \n",
       "\\begin{bmatrix}\n",
       "  -0.34637489 & 0.24757976 & -0.26055311 & 0.26680392 & -0.50072007 & 0.25014197\\\\\n",
       "  -0.36087729 & -0.52651363 & 0.07952967 & 0.3003369 & -0.40362951 & 0.25616243\\\\\n",
       "  -0.39681052 & 0.22423662\\\\\n",
       "  0.50024927 & -0.04019096 & -0.42365557 & -0.46019735 & 0.48118962 & -0.14061891\\\\\n",
       "  -0.05603853 & -0.33157821 & -0.2482959 & -0.11969718 & -0.37299471 & -0.51075451\\\\\n",
       "  0.2917287 & 0.36968705\\\\\n",
       "  0.33344501 & -0.14886435 & -0.25827392 & -0.43722289 & -0.26624004 & 0.36276384\\\\\n",
       "  0.20547537 & -0.34454163 & -0.12865178 & -0.29501771 & 0.39177826 & 0.26281175\\\\\n",
       "  -0.3693977 & -0.02599089\\\\\n",
       "  0.20310674 & -0.32420028 & -0.41913043 & 0.23204785 & 0.20119138 & 0.07429136\\\\\n",
       "  -0.22952833 & -0.13201985 & 0.21962688 & 0.02843451 & 0.1533361 & -0.36848599\\\\\n",
       "  -0.54639347 & 0.2411968\\\\\n",
       "  -0.43489416 & 0.26003756 & -0.34182876 & 0.05131301 & -0.30213247 & -0.16903329\\\\\n",
       "  0.25512922 & 0.05537415 & 0.26300343 & 0.21857389 & 0.21344993 & -0.17150551\\\\\n",
       "  0.13922678 & 0.54410796\\\\\n",
       "  -0.47450984 & -0.26092171 & 0.40094506 & -0.0654697 & -0.14773698 & 0.30975153\\\\\n",
       "  -0.77300851 & -0.30522063 & -0.06668448 & -0.32346557 & 0.081887 & 0.03251765\\\\\n",
       "  0.05010566 & -0.17740781\\\\\n",
       "  -0.17781685 & -0.32507633 & 0.23877334 & 0.25838928 & 0.11522068 & 0.00561563\\\\\n",
       "  -0.15668821 & -0.3596626 & 0.41411153 & -0.32030573 & 0.38905935 & -0.29830534\\\\\n",
       "  0.02302031 & 0.41884974\\\\\n",
       "  0.21965833 & 0.14393792 & -0.24224911 & -0.23364766 & 0.54334138 & -0.26131164\\\\\n",
       "  0.43220256 & 0.17286112 & -0.20863044 & -0.34483395 & 0.04103332 & -0.21648783\\\\\n",
       "  -0.22045169 & 0.35489389\\\\\n",
       "  -0.23307743 & 0.37803457 & 0.33911313 & -0.03729007 & -0.51752268 & 0.41089021\\\\\n",
       "  -0.75039283 & 0.27429742 & -0.39871996 & -0.0349441 & -0.23851107 & -0.27618807\\\\\n",
       "  -0.70041607 & 0.23995821\\\\\n",
       "  -0.11500045 & 0.28325022 & -0.26101159 & 0.25697815 & 0.04302276 & 0.15389396\\\\\n",
       "  -0.54549154 & 0.06459929 & -0.40078969 & -0.0073282 & 0.27778811 & -0.0243724\\\\\n",
       "  -0.38496608 & -0.32418226\\\\\n",
       "\\end{bmatrix}"
      ],
      "text/plain": [
       "<IPython.core.display.Latex object>"
      ]
     },
     "metadata": {},
     "output_type": "display_data"
    },
    {
     "data": {
      "text/latex": [
       "W = W - \\lambda (X \\cdot \\nabla f_{custo})"
      ],
      "text/plain": [
       "<IPython.core.display.Latex object>"
      ]
     },
     "metadata": {},
     "output_type": "display_data"
    },
    {
     "data": {
      "text/latex": [
       "\\begin{gather}\n",
       "\\begin{bmatrix}\n",
       "  -0.34910283 & 0.49986975 & 0.3283081 & 0.20885374 & -0.4287293 & -0.49024511\\\\\n",
       "  -0.19148626 & 0.2503666 & -0.24392933 & -0.12224292\\\\\n",
       "  0.24472849 & -0.04058763 & -0.15423348 & -0.31819348 & 0.26648112 & -0.27736833\\\\\n",
       "  -0.33936369 & 0.17603442 & 0.36669209 & 0.27568034\\\\\n",
       "  -0.27159216 & -0.42519132 & -0.27906123 & -0.3958743 & -0.31688168 & 0.33726983\\\\\n",
       "  0.18345796 & -0.11798335 & 0.29519924 & -0.29031936\\\\\n",
       "  0.26260477 & -0.46078154 & -0.44513018 & 0.24089426 & 0.06080263 & -0.08969113\\\\\n",
       "  0.23734786 & -0.1863782 & -0.05399448 & 0.24582977\\\\\n",
       "  -0.50700783 & 0.48031486 & -0.27808035 & 0.21443791 & -0.28792279 & -0.18400594\\\\\n",
       "  0.08371344 & 0.61412228 & -0.54253572 & 0.02632926\\\\\n",
       "  0.23784067 & -0.14233027 & 0.33959961 & 0.10020671 & -0.14123365 & 0.23879538\\\\\n",
       "  -0.05602475 & -0.12283676 & 0.36195501 & 0.121235\\\\\n",
       "  -0.36145954 & -0.05611954 & 0.20437896 & -0.2283017 & 0.25644504 & -0.77636701\\\\\n",
       "  -0.15960579 & 0.43875687 & -0.75270904 & -0.54703736\\\\\n",
       "  -0.52777001 & -0.331753 & -0.34690749 & -0.12937301 & 0.05821344 & -0.31246768\\\\\n",
       "  -0.36595819 & 0.18700414 & 0.26929946 & 0.06126369\\\\\n",
       "  0.074598 & -0.248982 & -0.13793847 & 0.23001651 & 0.27414849 & -0.09513125\\\\\n",
       "  0.38939951 & -0.15311498 & -0.4183384 & -0.41388288\\\\\n",
       "  0.29897342 & -0.11988686 & -0.29758523 & 0.03130696 & 0.22165519 & -0.33133033\\\\\n",
       "  -0.32713793 & -0.32948543 & -0.04036807 & -0.01094812\\\\\n",
       "  -0.40811153 & -0.37361825 & 0.38333828 & 0.16277846 & 0.22357884 & 0.05603386\\\\\n",
       "  0.36660044 & 0.09148717 & -0.2563408 & 0.26588869\\\\\n",
       "  0.25401744 & -0.51105293 & 0.25877257 & -0.3639671 & -0.16665805 & 0.02014493\\\\\n",
       "  -0.30905366 & -0.19234178 & -0.28472096 & -0.03006719\\\\\n",
       "  -0.3975732 & 0.2916226 & -0.37083389 & -0.54478671 & 0.14095036 & 0.04570636\\\\\n",
       "  0.01919859 & -0.21186621 & -0.70345006 & -0.38699095\\\\\n",
       "  0.21716815 & 0.36870368 & -0.03930132 & 0.25608806 & 0.56008196 & -0.21818004\\\\\n",
       "  0.38343046 & 0.43446317 & 0.21183948 & -0.34294847\\\\\n",
       "\\end{bmatrix} = \n",
       "\\begin{bmatrix}\n",
       "  -0.34637489 & 0.50024927 & 0.33344501 & 0.20310674 & -0.43489416 & -0.47450984\\\\\n",
       "  -0.17781685 & 0.21965833 & -0.23307743 & -0.11500045\\\\\n",
       "  0.24757976 & -0.04019096 & -0.14886435 & -0.32420028 & 0.26003756 & -0.26092171\\\\\n",
       "  -0.32507633 & 0.14393792 & 0.37803457 & 0.28325022\\\\\n",
       "  -0.26055311 & -0.42365557 & -0.25827392 & -0.41913043 & -0.34182876 & 0.40094506\\\\\n",
       "  0.23877334 & -0.24224911 & 0.33911313 & -0.26101159\\\\\n",
       "  0.26680392 & -0.46019735 & -0.43722289 & 0.23204785 & 0.05131301 & -0.0654697\\\\\n",
       "  0.25838928 & -0.23364766 & -0.03729007 & 0.25697815\\\\\n",
       "  -0.50072007 & 0.48118962 & -0.26624004 & 0.20119138 & -0.30213247 & -0.14773698\\\\\n",
       "  0.11522068 & 0.54334138 & -0.51752268 & 0.04302276\\\\\n",
       "  0.25014197 & -0.14061891 & 0.36276384 & 0.07429136 & -0.16903329 & 0.30975153\\\\\n",
       "  0.00561563 & -0.26131164 & 0.41089021 & 0.15389396\\\\\n",
       "  -0.36087729 & -0.05603853 & 0.20547537 & -0.22952833 & 0.25512922 & -0.77300851\\\\\n",
       "  -0.15668821 & 0.43220256 & -0.75039283 & -0.54549154\\\\\n",
       "  -0.52651363 & -0.33157821 & -0.34454163 & -0.13201985 & 0.05537415 & -0.30522063\\\\\n",
       "  -0.3596626 & 0.17286112 & 0.27429742 & 0.06459929\\\\\n",
       "  0.07952967 & -0.2482959 & -0.12865178 & 0.21962688 & 0.26300343 & -0.06668448\\\\\n",
       "  0.41411153 & -0.20863044 & -0.39871996 & -0.40078969\\\\\n",
       "  0.3003369 & -0.11969718 & -0.29501771 & 0.02843451 & 0.21857389 & -0.32346557\\\\\n",
       "  -0.32030573 & -0.34483395 & -0.0349441 & -0.0073282\\\\\n",
       "  -0.40362951 & -0.37299471 & 0.39177826 & 0.1533361 & 0.21344993 & 0.081887\\\\\n",
       "  0.38905935 & 0.04103332 & -0.23851107 & 0.27778811\\\\\n",
       "  0.25616243 & -0.51075451 & 0.26281175 & -0.36848599 & -0.17150551 & 0.03251765\\\\\n",
       "  -0.29830534 & -0.21648783 & -0.27618807 & -0.0243724\\\\\n",
       "  -0.39681052 & 0.2917287 & -0.3693977 & -0.54639347 & 0.13922678 & 0.05010566\\\\\n",
       "  0.02302031 & -0.22045169 & -0.70041607 & -0.38496608\\\\\n",
       "  0.22423662 & 0.36968705 & -0.02599089 & 0.2411968 & 0.54410796 & -0.17740781\\\\\n",
       "  0.41884974 & 0.35489389 & 0.23995821 & -0.32418226\\\\\n",
       "\\end{bmatrix} - 0.7\n",
       "\\begin{bmatrix}\n",
       "  0.19196689\\\\\n",
       "  0.20064508\\\\\n",
       "  0.7768237\\\\\n",
       "  0.29549601\\\\\n",
       "  0.44247323\\\\\n",
       "  0.86564925\\\\\n",
       "  0.04097303\\\\\n",
       "  0.08841239\\\\\n",
       "  0.3470443\\\\\n",
       "  0.09594836\\\\\n",
       "  0.31540263\\\\\n",
       "  0.15094442\\\\\n",
       "  0.05367048\\\\\n",
       "  0.49741215\\\\\n",
       "\\end{bmatrix} \\cdot \n",
       "\\begin{bmatrix}\n",
       "  0.02030071 & 0.00282424 & 0.03822766 & -0.04276781 & -0.04587744 & 0.11709816\\\\\n",
       "  0.10172445 & -0.22852357 & 0.08075723 & 0.05389672\\\\\n",
       "\\end{bmatrix}\\end{gather}"
      ],
      "text/plain": [
       "<IPython.core.display.Latex object>"
      ]
     },
     "metadata": {},
     "output_type": "display_data"
    },
    {
     "data": {
      "text/latex": [
       "Camada: 1"
      ],
      "text/plain": [
       "<IPython.core.display.Latex object>"
      ]
     },
     "metadata": {},
     "output_type": "display_data"
    },
    {
     "data": {
      "text/latex": [
       "\\nabla = \\frac{\\partial E}{\\partial Y} \\frac{\\partial Y}{\\partial X}"
      ],
      "text/plain": [
       "<IPython.core.display.Latex object>"
      ]
     },
     "metadata": {},
     "output_type": "display_data"
    },
    {
     "data": {
      "text/latex": [
       "\\begin{gather}\n",
       "\\begin{bmatrix}\n",
       "  -0.02023903 & -0.00794913 & 0.02724752 & 0.01206918 & -0.0451314 & 0.01874315\\\\\n",
       "  -0.01166029 & -0.00869524 & 0.00061844 & -0.00100942 & 0.00537174 & 0.00470984\\\\\n",
       "  -0.00117309 & -0.0220088\\\\\n",
       "\\end{bmatrix} = \n",
       "\\begin{bmatrix}\n",
       "  -0.13047709 & -0.04956231 & 0.15716521 & 0.05797526 & -0.18294735 & 0.16116125\\\\\n",
       "  -0.29674295 & -0.10788721 & 0.00272916 & -0.01163695 & 0.02487795 & 0.03674964\\\\\n",
       "  -0.0230968 & -0.08803755\\\\\n",
       "\\end{bmatrix} \\cdot  \\sigma^{'}(\n",
       "\\begin{bmatrix}\n",
       "  -1.43728016 & -1.38226745 & 1.24725136 & -0.86883867 & -0.23113054 & 1.86302587\\\\\n",
       "  -3.15300528 & -2.33317559 & -0.63205683 & -2.24307641 & -0.77498088 & -1.72721296\\\\\n",
       "  -2.86972761 & -0.01035151\\\\\n",
       "\\end{bmatrix}) \\end{gather}"
      ],
      "text/plain": [
       "<IPython.core.display.Latex object>"
      ]
     },
     "metadata": {},
     "output_type": "display_data"
    },
    {
     "data": {
      "text/latex": [
       "Camada: 0"
      ],
      "text/plain": [
       "<IPython.core.display.Latex object>"
      ]
     },
     "metadata": {},
     "output_type": "display_data"
    },
    {
     "data": {
      "text/latex": [
       "\\nabla f_{custo} = \\frac{\\partial E}{\\partial W}"
      ],
      "text/plain": [
       "<IPython.core.display.Latex object>"
      ]
     },
     "metadata": {},
     "output_type": "display_data"
    },
    {
     "data": {
      "text/latex": [
       "\n",
       "\\begin{bmatrix}\n",
       "  0.01874558 & 0.05637397 & 0.04368674 & 0.00563911 & 0.00295503 & -0.01762479\\\\\n",
       "  -0.02938249\\\\\n",
       "\\end{bmatrix} = \n",
       "\\begin{bmatrix}\n",
       "  -0.02023903 & -0.00794913 & 0.02724752 & 0.01206918 & -0.0451314 & 0.01874315\\\\\n",
       "  -0.01166029 & -0.00869524 & 0.00061844 & -0.00100942 & 0.00537174 & 0.00470984\\\\\n",
       "  -0.00117309 & -0.0220088\\\\\n",
       "\\end{bmatrix} \\cdot \n",
       "\\begin{bmatrix}\n",
       "  3.33438046e-02 & -7.94202419e-01 & -3.87863194e-01 & 2.58729227e-02\\\\\n",
       "  3.87383534e-01 & -2.34669153e-01 & 8.44391972e-01\\\\\n",
       "  -3.06930863e-01 & 2.05990110e-02 & -3.21745009e-01 & -5.79567406e-02\\\\\n",
       "  -1.54122041e-01 & 2.46944784e-01 & 6.98481219e-01\\\\\n",
       "  8.80900199e-01 & 4.73220306e-02 & 2.94158306e-01 & 1.95302220e-01\\\\\n",
       "  -9.62196469e-04 & 9.91949735e-02 & 5.14766564e-01\\\\\n",
       "  -7.64848974e-02 & -3.66557607e-02 & -1.40101692e-02 & 3.09001202e-01\\\\\n",
       "  1.39617892e-01 & 2.21044639e-01 & 7.89124525e-01\\\\\n",
       "  5.58907417e-01 & -2.71965695e-01 & -1.07393437e-01 & 8.18093216e-02\\\\\n",
       "  -1.01606603e-02 & 6.68800204e-01 & 4.42328017e-01\\\\\n",
       "  2.34138162e-01 & 4.01488071e-01 & 5.46614404e-01 & 3.73201667e-01\\\\\n",
       "  7.49574231e-01 & 7.03206798e-01 & 6.34744938e-02\\\\\n",
       "  -6.26406945e-01 & -9.66077299e-01 & -1.01532075e+00 & -2.71650403e-01\\\\\n",
       "  -4.91410010e-01 & -7.74240727e-01 & 8.77243902e-01\\\\\n",
       "  -1.90790112e-01 & -2.60025363e-01 & -9.60631310e-01 & 2.60115794e-01\\\\\n",
       "  -1.89695987e-01 & 6.28395591e-01 & 2.52120480e-02\\\\\n",
       "  2.12624498e-01 & -6.88031765e-01 & -1.85809987e-01 & 6.86153788e-01\\\\\n",
       "  9.08909742e-01 & 6.20776152e-01 & 5.72850349e-01\\\\\n",
       "  -4.42705981e-01 & -3.43108983e-01 & -4.92117539e-01 & -3.82897432e-01\\\\\n",
       "  -3.42158853e-01 & -2.14094685e-01 & 3.54043260e-01\\\\\n",
       "  -1.21440057e-01 & -2.03475427e-02 & -7.66159798e-01 & 6.37290019e-01\\\\\n",
       "  -1.97715699e-01 & -4.40558412e-02 & 3.24600723e-02\\\\\n",
       "  4.52953143e-01 & -5.00797678e-01 & -6.99368507e-01 & -1.09218546e-01\\\\\n",
       "  -6.29786320e-02 & -2.40424553e-02 & 9.06263960e-01\\\\\n",
       "  -4.52524153e-01 & -8.40699363e-01 & -6.47383051e-01 & -1.11219124e-01\\\\\n",
       "  2.59165779e-01 & 9.67597674e-02 & 1.58774984e-02\\\\\n",
       "  -1.44664100e-01 & -3.56797608e-01 & 1.62776397e-01 & 5.18323741e-01\\\\\n",
       "  6.00707454e-01 & 5.66990441e-01 & 2.49463004e-01\\\\\n",
       "\\end{bmatrix}"
      ],
      "text/plain": [
       "<IPython.core.display.Latex object>"
      ]
     },
     "metadata": {},
     "output_type": "display_data"
    },
    {
     "data": {
      "text/latex": [
       "W = W - \\lambda (X \\cdot \\nabla f_{custo})"
      ],
      "text/plain": [
       "<IPython.core.display.Latex object>"
      ]
     },
     "metadata": {},
     "output_type": "display_data"
    },
    {
     "data": {
      "text/latex": [
       "\\begin{gather}\n",
       "\\begin{bmatrix}\n",
       "  4.75111275e-02 & -3.01366470e-01 & 8.61826936e-01 & -8.49333241e-02\\\\\n",
       "  5.90499400e-01 & 2.21017954e-01 & -6.18244744e-01 & -1.84703445e-01\\\\\n",
       "  2.12191589e-01 & -4.41999390e-01 & -1.25200277e-01 & 4.49656254e-01\\\\\n",
       "  -4.51702993e-01 & -1.29257942e-01\\\\\n",
       "  -7.80035096e-01 & 2.61634037e-02 & 2.82487679e-02 & -4.51041874e-02\\\\\n",
       "  -2.40373712e-01 & 3.88367863e-01 & -9.57915098e-01 & -2.53938696e-01\\\\\n",
       "  -6.88464673e-01 & -3.42402392e-01 & -2.41077625e-02 & -5.04094567e-01\\\\\n",
       "  -8.39878203e-01 & -3.41391450e-01\\\\\n",
       "  -3.73695871e-01 & -3.16180616e-01 & 2.75085043e-01 & -2.24585959e-02\\\\\n",
       "  -7.58014538e-02 & 5.33494196e-01 & -1.00715855e+00 & -9.54544643e-01\\\\\n",
       "  -1.86242896e-01 & -4.91410948e-01 & -7.69920018e-01 & -7.02665396e-01\\\\\n",
       "  -6.46561891e-01 & 1.78182556e-01\\\\\n",
       "  2.58729227e-02 & -5.79567406e-02 & 1.95302220e-01 & 3.09001202e-01\\\\\n",
       "  8.18093216e-02 & 3.73201667e-01 & -2.71650403e-01 & 2.60115794e-01\\\\\n",
       "  6.86153788e-01 & -3.82897432e-01 & 6.37290019e-01 & -1.09218546e-01\\\\\n",
       "  -1.11219124e-01 & 5.18323741e-01\\\\\n",
       "  3.87383534e-01 & -1.54122041e-01 & -9.62196469e-04 & 1.39617892e-01\\\\\n",
       "  -1.01606603e-02 & 7.49574231e-01 & -4.91410010e-01 & -1.89695987e-01\\\\\n",
       "  9.08909742e-01 & -3.42158853e-01 & -1.97715699e-01 & -6.29786320e-02\\\\\n",
       "  2.59165779e-01 & 6.00707454e-01\\\\\n",
       "  -2.34669153e-01 & 2.46944784e-01 & 9.91949735e-02 & 2.21044639e-01\\\\\n",
       "  6.68800204e-01 & 7.03206798e-01 & -7.74240727e-01 & 6.28395591e-01\\\\\n",
       "  6.20776152e-01 & -2.14094685e-01 & -4.40558412e-02 & -2.40424553e-02\\\\\n",
       "  9.67597674e-02 & 5.66990441e-01\\\\\n",
       "  8.44391972e-01 & 6.98481219e-01 & 5.14766564e-01 & 7.89124525e-01\\\\\n",
       "  4.42328017e-01 & 6.34744938e-02 & 8.77243902e-01 & 2.52120480e-02\\\\\n",
       "  5.72850349e-01 & 3.54043260e-01 & 3.24600723e-02 & 9.06263960e-01\\\\\n",
       "  1.58774984e-02 & 2.49463004e-01\\\\\n",
       "\\end{bmatrix} = \n",
       "\\begin{bmatrix}\n",
       "  3.33438046e-02 & -3.06930863e-01 & 8.80900199e-01 & -7.64848974e-02\\\\\n",
       "  5.58907417e-01 & 2.34138162e-01 & -6.26406945e-01 & -1.90790112e-01\\\\\n",
       "  2.12624498e-01 & -4.42705981e-01 & -1.21440057e-01 & 4.52953143e-01\\\\\n",
       "  -4.52524153e-01 & -1.44664100e-01\\\\\n",
       "  -7.94202419e-01 & 2.05990110e-02 & 4.73220306e-02 & -3.66557607e-02\\\\\n",
       "  -2.71965695e-01 & 4.01488071e-01 & -9.66077299e-01 & -2.60025363e-01\\\\\n",
       "  -6.88031765e-01 & -3.43108983e-01 & -2.03475427e-02 & -5.00797678e-01\\\\\n",
       "  -8.40699363e-01 & -3.56797608e-01\\\\\n",
       "  -3.87863194e-01 & -3.21745009e-01 & 2.94158306e-01 & -1.40101692e-02\\\\\n",
       "  -1.07393437e-01 & 5.46614404e-01 & -1.01532075e+00 & -9.60631310e-01\\\\\n",
       "  -1.85809987e-01 & -4.92117539e-01 & -7.66159798e-01 & -6.99368507e-01\\\\\n",
       "  -6.47383051e-01 & 1.62776397e-01\\\\\n",
       "  2.58729227e-02 & -5.79567406e-02 & 1.95302220e-01 & 3.09001202e-01\\\\\n",
       "  8.18093216e-02 & 3.73201667e-01 & -2.71650403e-01 & 2.60115794e-01\\\\\n",
       "  6.86153788e-01 & -3.82897432e-01 & 6.37290019e-01 & -1.09218546e-01\\\\\n",
       "  -1.11219124e-01 & 5.18323741e-01\\\\\n",
       "  3.87383534e-01 & -1.54122041e-01 & -9.62196469e-04 & 1.39617892e-01\\\\\n",
       "  -1.01606603e-02 & 7.49574231e-01 & -4.91410010e-01 & -1.89695987e-01\\\\\n",
       "  9.08909742e-01 & -3.42158853e-01 & -1.97715699e-01 & -6.29786320e-02\\\\\n",
       "  2.59165779e-01 & 6.00707454e-01\\\\\n",
       "  -2.34669153e-01 & 2.46944784e-01 & 9.91949735e-02 & 2.21044639e-01\\\\\n",
       "  6.68800204e-01 & 7.03206798e-01 & -7.74240727e-01 & 6.28395591e-01\\\\\n",
       "  6.20776152e-01 & -2.14094685e-01 & -4.40558412e-02 & -2.40424553e-02\\\\\n",
       "  9.67597674e-02 & 5.66990441e-01\\\\\n",
       "  8.44391972e-01 & 6.98481219e-01 & 5.14766564e-01 & 7.89124525e-01\\\\\n",
       "  4.42328017e-01 & 6.34744938e-02 & 8.77243902e-01 & 2.52120480e-02\\\\\n",
       "  5.72850349e-01 & 3.54043260e-01 & 3.24600723e-02 & 9.06263960e-01\\\\\n",
       "  1.58774984e-02 & 2.49463004e-01\\\\\n",
       "\\end{bmatrix} - 0.7\n",
       "\\begin{bmatrix}\n",
       "  1\\\\\n",
       "  1\\\\\n",
       "  1\\\\\n",
       "  0\\\\\n",
       "  0\\\\\n",
       "  0\\\\\n",
       "  0\\\\\n",
       "\\end{bmatrix} \\cdot \n",
       "\\begin{bmatrix}\n",
       "  -0.02023903 & -0.00794913 & 0.02724752 & 0.01206918 & -0.0451314 & 0.01874315\\\\\n",
       "  -0.01166029 & -0.00869524 & 0.00061844 & -0.00100942 & 0.00537174 & 0.00470984\\\\\n",
       "  -0.00117309 & -0.0220088\\\\\n",
       "\\end{bmatrix}\\end{gather}"
      ],
      "text/plain": [
       "<IPython.core.display.Latex object>"
      ]
     },
     "metadata": {},
     "output_type": "display_data"
    },
    {
     "data": {
      "text/latex": [
       "Camada: 0"
      ],
      "text/plain": [
       "<IPython.core.display.Latex object>"
      ]
     },
     "metadata": {},
     "output_type": "display_data"
    },
    {
     "data": {
      "text/latex": [
       "Y = Xw + b"
      ],
      "text/plain": [
       "<IPython.core.display.Latex object>"
      ]
     },
     "metadata": {},
     "output_type": "display_data"
    },
    {
     "data": {
      "text/latex": [
       "\\begin{gather}\n",
       "\\begin{bmatrix}\n",
       "  -0.35763159 & -0.62666266 & 1.97925987 & 0.55615588 & 1.07801427 & 3.70000223\\\\\n",
       "  -3.78041371 & -1.58480148 & 2.15490156 & -2.82535775 & -0.3620432 & -1.03037619\\\\\n",
       "  -2.60585905 & 1.98675776\\\\\n",
       "\\end{bmatrix} = \n",
       "\\begin{bmatrix}\n",
       "  1 & 1 & 1 & 1 & 1 & 1 & 1\\\\\n",
       "\\end{bmatrix} \\cdot \n",
       "\\begin{bmatrix}\n",
       "  4.75111275e-02 & -3.01366470e-01 & 8.61826936e-01 & -8.49333241e-02\\\\\n",
       "  5.90499400e-01 & 2.21017954e-01 & -6.18244744e-01 & -1.84703445e-01\\\\\n",
       "  2.12191589e-01 & -4.41999390e-01 & -1.25200277e-01 & 4.49656254e-01\\\\\n",
       "  -4.51702993e-01 & -1.29257942e-01\\\\\n",
       "  -7.80035096e-01 & 2.61634037e-02 & 2.82487679e-02 & -4.51041874e-02\\\\\n",
       "  -2.40373712e-01 & 3.88367863e-01 & -9.57915098e-01 & -2.53938696e-01\\\\\n",
       "  -6.88464673e-01 & -3.42402392e-01 & -2.41077625e-02 & -5.04094567e-01\\\\\n",
       "  -8.39878203e-01 & -3.41391450e-01\\\\\n",
       "  -3.73695871e-01 & -3.16180616e-01 & 2.75085043e-01 & -2.24585959e-02\\\\\n",
       "  -7.58014538e-02 & 5.33494196e-01 & -1.00715855e+00 & -9.54544643e-01\\\\\n",
       "  -1.86242896e-01 & -4.91410948e-01 & -7.69920018e-01 & -7.02665396e-01\\\\\n",
       "  -6.46561891e-01 & 1.78182556e-01\\\\\n",
       "  2.58729227e-02 & -5.79567406e-02 & 1.95302220e-01 & 3.09001202e-01\\\\\n",
       "  8.18093216e-02 & 3.73201667e-01 & -2.71650403e-01 & 2.60115794e-01\\\\\n",
       "  6.86153788e-01 & -3.82897432e-01 & 6.37290019e-01 & -1.09218546e-01\\\\\n",
       "  -1.11219124e-01 & 5.18323741e-01\\\\\n",
       "  3.87383534e-01 & -1.54122041e-01 & -9.62196469e-04 & 1.39617892e-01\\\\\n",
       "  -1.01606603e-02 & 7.49574231e-01 & -4.91410010e-01 & -1.89695987e-01\\\\\n",
       "  9.08909742e-01 & -3.42158853e-01 & -1.97715699e-01 & -6.29786320e-02\\\\\n",
       "  2.59165779e-01 & 6.00707454e-01\\\\\n",
       "  -2.34669153e-01 & 2.46944784e-01 & 9.91949735e-02 & 2.21044639e-01\\\\\n",
       "  6.68800204e-01 & 7.03206798e-01 & -7.74240727e-01 & 6.28395591e-01\\\\\n",
       "  6.20776152e-01 & -2.14094685e-01 & -4.40558412e-02 & -2.40424553e-02\\\\\n",
       "  9.67597674e-02 & 5.66990441e-01\\\\\n",
       "  8.44391972e-01 & 6.98481219e-01 & 5.14766564e-01 & 7.89124525e-01\\\\\n",
       "  4.42328017e-01 & 6.34744938e-02 & 8.77243902e-01 & 2.52120480e-02\\\\\n",
       "  5.72850349e-01 & 3.54043260e-01 & 3.24600723e-02 & 9.06263960e-01\\\\\n",
       "  1.58774984e-02 & 2.49463004e-01\\\\\n",
       "\\end{bmatrix} + \n",
       "\\begin{bmatrix}\n",
       "  -0.27439102 & -0.7686262 & 0.00579756 & -0.75013627 & -0.37908684 & 0.66766503\\\\\n",
       "  -0.53703808 & -0.91564214 & 0.02872751 & -0.96443731 & 0.1292063 & -0.98329681\\\\\n",
       "  -0.92829989 & 0.34373996\\\\\n",
       "\\end{bmatrix}\\end{gather}"
      ],
      "text/plain": [
       "<IPython.core.display.Latex object>"
      ]
     },
     "metadata": {},
     "output_type": "display_data"
    },
    {
     "data": {
      "text/latex": [
       "Camada: 1"
      ],
      "text/plain": [
       "<IPython.core.display.Latex object>"
      ]
     },
     "metadata": {},
     "output_type": "display_data"
    },
    {
     "data": {
      "text/latex": [
       "Y = \\sigma(X)"
      ],
      "text/plain": [
       "<IPython.core.display.Latex object>"
      ]
     },
     "metadata": {},
     "output_type": "display_data"
    },
    {
     "data": {
      "text/latex": [
       "\\begin{gather}\n",
       "\\begin{bmatrix}\n",
       "  0.41153301 & 0.34826765 & 0.87860224 & 0.63556262 & 0.74611802 & 0.97587303\\\\\n",
       "  0.02230442 & 0.17011655 & 0.89612592 & 0.05596917 & 0.41046505 & 0.26301118\\\\\n",
       "  0.06876229 & 0.8793997\\\\\n",
       "\\end{bmatrix} = \\sigma(\n",
       "\\begin{bmatrix}\n",
       "  -0.35763159 & -0.62666266 & 1.97925987 & 0.55615588 & 1.07801427 & 3.70000223\\\\\n",
       "  -3.78041371 & -1.58480148 & 2.15490156 & -2.82535775 & -0.3620432 & -1.03037619\\\\\n",
       "  -2.60585905 & 1.98675776\\\\\n",
       "\\end{bmatrix}) \\end{gather}"
      ],
      "text/plain": [
       "<IPython.core.display.Latex object>"
      ]
     },
     "metadata": {},
     "output_type": "display_data"
    },
    {
     "data": {
      "text/latex": [
       "Camada: 2"
      ],
      "text/plain": [
       "<IPython.core.display.Latex object>"
      ]
     },
     "metadata": {},
     "output_type": "display_data"
    },
    {
     "data": {
      "text/latex": [
       "Y = Xw + b"
      ],
      "text/plain": [
       "<IPython.core.display.Latex object>"
      ]
     },
     "metadata": {},
     "output_type": "display_data"
    },
    {
     "data": {
      "text/latex": [
       "\\begin{gather}\n",
       "\\begin{bmatrix}\n",
       "  0.00834215 & -0.06383015 & -0.12378795 & 0.1823963 & 0.06509364 & 0.02175945\\\\\n",
       "  0.65242866 & 0.63782587 & -0.06909834 & -0.08944922\\\\\n",
       "\\end{bmatrix} = \n",
       "\\begin{bmatrix}\n",
       "  0.41153301 & 0.34826765 & 0.87860224 & 0.63556262 & 0.74611802 & 0.97587303\\\\\n",
       "  0.02230442 & 0.17011655 & 0.89612592 & 0.05596917 & 0.41046505 & 0.26301118\\\\\n",
       "  0.06876229 & 0.8793997\\\\\n",
       "\\end{bmatrix} \\cdot \n",
       "\\begin{bmatrix}\n",
       "  -0.34910283 & 0.49986975 & 0.3283081 & 0.20885374 & -0.4287293 & -0.49024511\\\\\n",
       "  -0.19148626 & 0.2503666 & -0.24392933 & -0.12224292\\\\\n",
       "  0.24472849 & -0.04058763 & -0.15423348 & -0.31819348 & 0.26648112 & -0.27736833\\\\\n",
       "  -0.33936369 & 0.17603442 & 0.36669209 & 0.27568034\\\\\n",
       "  -0.27159216 & -0.42519132 & -0.27906123 & -0.3958743 & -0.31688168 & 0.33726983\\\\\n",
       "  0.18345796 & -0.11798335 & 0.29519924 & -0.29031936\\\\\n",
       "  0.26260477 & -0.46078154 & -0.44513018 & 0.24089426 & 0.06080263 & -0.08969113\\\\\n",
       "  0.23734786 & -0.1863782 & -0.05399448 & 0.24582977\\\\\n",
       "  -0.50700783 & 0.48031486 & -0.27808035 & 0.21443791 & -0.28792279 & -0.18400594\\\\\n",
       "  0.08371344 & 0.61412228 & -0.54253572 & 0.02632926\\\\\n",
       "  0.23784067 & -0.14233027 & 0.33959961 & 0.10020671 & -0.14123365 & 0.23879538\\\\\n",
       "  -0.05602475 & -0.12283676 & 0.36195501 & 0.121235\\\\\n",
       "  -0.36145954 & -0.05611954 & 0.20437896 & -0.2283017 & 0.25644504 & -0.77636701\\\\\n",
       "  -0.15960579 & 0.43875687 & -0.75270904 & -0.54703736\\\\\n",
       "  -0.52777001 & -0.331753 & -0.34690749 & -0.12937301 & 0.05821344 & -0.31246768\\\\\n",
       "  -0.36595819 & 0.18700414 & 0.26929946 & 0.06126369\\\\\n",
       "  0.074598 & -0.248982 & -0.13793847 & 0.23001651 & 0.27414849 & -0.09513125\\\\\n",
       "  0.38939951 & -0.15311498 & -0.4183384 & -0.41388288\\\\\n",
       "  0.29897342 & -0.11988686 & -0.29758523 & 0.03130696 & 0.22165519 & -0.33133033\\\\\n",
       "  -0.32713793 & -0.32948543 & -0.04036807 & -0.01094812\\\\\n",
       "  -0.40811153 & -0.37361825 & 0.38333828 & 0.16277846 & 0.22357884 & 0.05603386\\\\\n",
       "  0.36660044 & 0.09148717 & -0.2563408 & 0.26588869\\\\\n",
       "  0.25401744 & -0.51105293 & 0.25877257 & -0.3639671 & -0.16665805 & 0.02014493\\\\\n",
       "  -0.30905366 & -0.19234178 & -0.28472096 & -0.03006719\\\\\n",
       "  -0.3975732 & 0.2916226 & -0.37083389 & -0.54478671 & 0.14095036 & 0.04570636\\\\\n",
       "  0.01919859 & -0.21186621 & -0.70345006 & -0.38699095\\\\\n",
       "  0.21716815 & 0.36870368 & -0.03930132 & 0.25608806 & 0.56008196 & -0.21818004\\\\\n",
       "  0.38343046 & 0.43446317 & 0.21183948 & -0.34294847\\\\\n",
       "\\end{bmatrix} + \n",
       "\\begin{bmatrix}\n",
       "  0.23601216 & 0.42254348 & 0.22835943 & -0.19541555 & -0.08272398 & 0.3197369\\\\\n",
       "  -0.14292886 & 0.11685547 & 0.12041003 & 0.42598003\\\\\n",
       "\\end{bmatrix}\\end{gather}"
      ],
      "text/plain": [
       "<IPython.core.display.Latex object>"
      ]
     },
     "metadata": {},
     "output_type": "display_data"
    },
    {
     "data": {
      "text/latex": [
       "f_{custo}(\n",
       "\\begin{bmatrix}\n",
       "  0 & 0 & 0 & 0 & 0 & 0 & 0 & 0 & 1 & 0\\\\\n",
       "\\end{bmatrix},\n",
       "\\begin{bmatrix}\n",
       "  0.00834215 & -0.06383015 & -0.12378795 & 0.1823963 & 0.06509364 & 0.02175945\\\\\n",
       "  0.65242866 & 0.63782587 & -0.06909834 & -0.08944922\\\\\n",
       "\\end{bmatrix}) = \n",
       "\\begin{bmatrix}\n",
       "  0.20409038234500096\\\\\n",
       "\\end{bmatrix}"
      ],
      "text/plain": [
       "<IPython.core.display.Latex object>"
      ]
     },
     "metadata": {},
     "output_type": "display_data"
    },
    {
     "data": {
      "text/latex": [
       "\\nabla = \\frac{\\partial E}{\\partial Y} = \n",
       "\\begin{bmatrix}\n",
       "  0.00166843 & -0.01276603 & -0.02475759 & 0.03647926 & 0.01301873 & 0.00435189\\\\\n",
       "  0.13048573 & 0.12756517 & -0.21381967 & -0.01788984\\\\\n",
       "\\end{bmatrix}"
      ],
      "text/plain": [
       "<IPython.core.display.Latex object>"
      ]
     },
     "metadata": {},
     "output_type": "display_data"
    },
    {
     "data": {
      "text/latex": [
       "Camada: 2"
      ],
      "text/plain": [
       "<IPython.core.display.Latex object>"
      ]
     },
     "metadata": {},
     "output_type": "display_data"
    },
    {
     "data": {
      "text/latex": [
       "\\nabla f_{custo} = \\frac{\\partial E}{\\partial W}"
      ],
      "text/plain": [
       "<IPython.core.display.Latex object>"
      ]
     },
     "metadata": {},
     "output_type": "display_data"
    },
    {
     "data": {
      "text/latex": [
       "\n",
       "\\begin{bmatrix}\n",
       "  0.04610753 & -0.10976451 & -0.05425263 & 0.0408721 & 0.20797816 & -0.10587996\\\\\n",
       "  0.1925593 & -0.0759528 & 0.14639611 & -0.06390775 & 0.11325149 & -0.01826428\\\\\n",
       "  0.11976831 & 0.07860684\\\\\n",
       "\\end{bmatrix} = \n",
       "\\begin{bmatrix}\n",
       "  0.00166843 & -0.01276603 & -0.02475759 & 0.03647926 & 0.01301873 & 0.00435189\\\\\n",
       "  0.13048573 & 0.12756517 & -0.21381967 & -0.01788984\\\\\n",
       "\\end{bmatrix} \\cdot \n",
       "\\begin{bmatrix}\n",
       "  -0.34910283 & 0.24472849 & -0.27159216 & 0.26260477 & -0.50700783 & 0.23784067\\\\\n",
       "  -0.36145954 & -0.52777001 & 0.074598 & 0.29897342 & -0.40811153 & 0.25401744\\\\\n",
       "  -0.3975732 & 0.21716815\\\\\n",
       "  0.49986975 & -0.04058763 & -0.42519132 & -0.46078154 & 0.48031486 & -0.14233027\\\\\n",
       "  -0.05611954 & -0.331753 & -0.248982 & -0.11988686 & -0.37361825 & -0.51105293\\\\\n",
       "  0.2916226 & 0.36870368\\\\\n",
       "  0.3283081 & -0.15423348 & -0.27906123 & -0.44513018 & -0.27808035 & 0.33959961\\\\\n",
       "  0.20437896 & -0.34690749 & -0.13793847 & -0.29758523 & 0.38333828 & 0.25877257\\\\\n",
       "  -0.37083389 & -0.03930132\\\\\n",
       "  0.20885374 & -0.31819348 & -0.3958743 & 0.24089426 & 0.21443791 & 0.10020671\\\\\n",
       "  -0.2283017 & -0.12937301 & 0.23001651 & 0.03130696 & 0.16277846 & -0.3639671\\\\\n",
       "  -0.54478671 & 0.25608806\\\\\n",
       "  -0.4287293 & 0.26648112 & -0.31688168 & 0.06080263 & -0.28792279 & -0.14123365\\\\\n",
       "  0.25644504 & 0.05821344 & 0.27414849 & 0.22165519 & 0.22357884 & -0.16665805\\\\\n",
       "  0.14095036 & 0.56008196\\\\\n",
       "  -0.49024511 & -0.27736833 & 0.33726983 & -0.08969113 & -0.18400594 & 0.23879538\\\\\n",
       "  -0.77636701 & -0.31246768 & -0.09513125 & -0.33133033 & 0.05603386 & 0.02014493\\\\\n",
       "  0.04570636 & -0.21818004\\\\\n",
       "  -0.19148626 & -0.33936369 & 0.18345796 & 0.23734786 & 0.08371344 & -0.05602475\\\\\n",
       "  -0.15960579 & -0.36595819 & 0.38939951 & -0.32713793 & 0.36660044 & -0.30905366\\\\\n",
       "  0.01919859 & 0.38343046\\\\\n",
       "  0.2503666 & 0.17603442 & -0.11798335 & -0.1863782 & 0.61412228 & -0.12283676\\\\\n",
       "  0.43875687 & 0.18700414 & -0.15311498 & -0.32948543 & 0.09148717 & -0.19234178\\\\\n",
       "  -0.21186621 & 0.43446317\\\\\n",
       "  -0.24392933 & 0.36669209 & 0.29519924 & -0.05399448 & -0.54253572 & 0.36195501\\\\\n",
       "  -0.75270904 & 0.26929946 & -0.4183384 & -0.04036807 & -0.2563408 & -0.28472096\\\\\n",
       "  -0.70345006 & 0.21183948\\\\\n",
       "  -0.12224292 & 0.27568034 & -0.29031936 & 0.24582977 & 0.02632926 & 0.121235\\\\\n",
       "  -0.54703736 & 0.06126369 & -0.41388288 & -0.01094812 & 0.26588869 & -0.03006719\\\\\n",
       "  -0.38699095 & -0.34294847\\\\\n",
       "\\end{bmatrix}"
      ],
      "text/plain": [
       "<IPython.core.display.Latex object>"
      ]
     },
     "metadata": {},
     "output_type": "display_data"
    },
    {
     "data": {
      "text/latex": [
       "W = W - \\lambda (X \\cdot \\nabla f_{custo})"
      ],
      "text/plain": [
       "<IPython.core.display.Latex object>"
      ]
     },
     "metadata": {},
     "output_type": "display_data"
    },
    {
     "data": {
      "text/latex": [
       "\\begin{gather}\n",
       "\\begin{bmatrix}\n",
       "  -0.34958346 & 0.5035473 & 0.33544009 & 0.19834505 & -0.43247965 & -0.49149878\\\\\n",
       "  -0.22907569 & 0.2136185 & -0.18233363 & -0.11708934\\\\\n",
       "  0.24432175 & -0.03747543 & -0.1481979 & -0.32708666 & 0.26330732 & -0.27842926\\\\\n",
       "  -0.37117446 & 0.14493564 & 0.41881862 & 0.28004166\\\\\n",
       "  -0.27261828 & -0.41733994 & -0.26383477 & -0.41830983 & -0.32488848 & 0.33459332\\\\\n",
       "  0.10320643 & -0.19643868 & 0.42670295 & -0.27931672\\\\\n",
       "  0.2618625 & -0.45510201 & -0.43411568 & 0.22466486 & 0.05501067 & -0.09162726\\\\\n",
       "  0.17929557 & -0.24313115 & 0.04113257 & 0.25378885\\\\\n",
       "  -0.50787923 & 0.48698234 & -0.26514989 & 0.19538542 & -0.29472225 & -0.18627885\\\\\n",
       "  0.01556301 & 0.54749721 & -0.43086142 & 0.03567282\\\\\n",
       "  0.23670095 & -0.13360965 & 0.3565118 & 0.07528732 & -0.15012688 & 0.23582255\\\\\n",
       "  -0.14516101 & -0.20997795 & 0.5080176 & 0.13345575\\\\\n",
       "  -0.36148559 & -0.05592022 & 0.2047655 & -0.22887126 & 0.25624178 & -0.77643496\\\\\n",
       "  -0.16164307 & 0.43676518 & -0.74937066 & -0.54675804\\\\\n",
       "  -0.52796869 & -0.3302328 & -0.34395932 & -0.13371702 & 0.05666315 & -0.31298591\\\\\n",
       "  -0.38149664 & 0.17181347 & 0.29476145 & 0.06339404\\\\\n",
       "  0.07355142 & -0.24097402 & -0.12240832 & 0.2071335 & 0.26598199 & -0.09786114\\\\\n",
       "  0.30754735 & -0.2331351 & -0.28421185 & -0.40266079\\\\\n",
       "  0.29890806 & -0.11938671 & -0.29661526 & 0.02987776 & 0.22114514 & -0.33150083\\\\\n",
       "  -0.33225016 & -0.33448323 & -0.03199095 & -0.01024722\\\\\n",
       "  -0.40859092 & -0.36995025 & 0.39045177 & 0.15229703 & 0.21983823 & 0.05478345\\\\\n",
       "  0.32910856 & 0.05483444 & -0.19490494 & 0.2710289\\\\\n",
       "  0.25371026 & -0.5087026 & 0.26333064 & -0.37068322 & -0.1690549 & 0.01934371\\\\\n",
       "  -0.3330771 & -0.21582753 & -0.24535509 & -0.02677353\\\\\n",
       "  -0.39765351 & 0.29223707 & -0.36964222 & -0.54654258 & 0.14032373 & 0.04549689\\\\\n",
       "  0.01291784 & -0.21800638 & -0.69315815 & -0.38612985\\\\\n",
       "  0.21614109 & 0.37656219 & -0.02406105 & 0.23363217 & 0.55206789 & -0.22085898\\\\\n",
       "  0.30310608 & 0.35593663 & 0.34346254 & -0.33193585\\\\\n",
       "\\end{bmatrix} = \n",
       "\\begin{bmatrix}\n",
       "  -0.34910283 & 0.49986975 & 0.3283081 & 0.20885374 & -0.4287293 & -0.49024511\\\\\n",
       "  -0.19148626 & 0.2503666 & -0.24392933 & -0.12224292\\\\\n",
       "  0.24472849 & -0.04058763 & -0.15423348 & -0.31819348 & 0.26648112 & -0.27736833\\\\\n",
       "  -0.33936369 & 0.17603442 & 0.36669209 & 0.27568034\\\\\n",
       "  -0.27159216 & -0.42519132 & -0.27906123 & -0.3958743 & -0.31688168 & 0.33726983\\\\\n",
       "  0.18345796 & -0.11798335 & 0.29519924 & -0.29031936\\\\\n",
       "  0.26260477 & -0.46078154 & -0.44513018 & 0.24089426 & 0.06080263 & -0.08969113\\\\\n",
       "  0.23734786 & -0.1863782 & -0.05399448 & 0.24582977\\\\\n",
       "  -0.50700783 & 0.48031486 & -0.27808035 & 0.21443791 & -0.28792279 & -0.18400594\\\\\n",
       "  0.08371344 & 0.61412228 & -0.54253572 & 0.02632926\\\\\n",
       "  0.23784067 & -0.14233027 & 0.33959961 & 0.10020671 & -0.14123365 & 0.23879538\\\\\n",
       "  -0.05602475 & -0.12283676 & 0.36195501 & 0.121235\\\\\n",
       "  -0.36145954 & -0.05611954 & 0.20437896 & -0.2283017 & 0.25644504 & -0.77636701\\\\\n",
       "  -0.15960579 & 0.43875687 & -0.75270904 & -0.54703736\\\\\n",
       "  -0.52777001 & -0.331753 & -0.34690749 & -0.12937301 & 0.05821344 & -0.31246768\\\\\n",
       "  -0.36595819 & 0.18700414 & 0.26929946 & 0.06126369\\\\\n",
       "  0.074598 & -0.248982 & -0.13793847 & 0.23001651 & 0.27414849 & -0.09513125\\\\\n",
       "  0.38939951 & -0.15311498 & -0.4183384 & -0.41388288\\\\\n",
       "  0.29897342 & -0.11988686 & -0.29758523 & 0.03130696 & 0.22165519 & -0.33133033\\\\\n",
       "  -0.32713793 & -0.32948543 & -0.04036807 & -0.01094812\\\\\n",
       "  -0.40811153 & -0.37361825 & 0.38333828 & 0.16277846 & 0.22357884 & 0.05603386\\\\\n",
       "  0.36660044 & 0.09148717 & -0.2563408 & 0.26588869\\\\\n",
       "  0.25401744 & -0.51105293 & 0.25877257 & -0.3639671 & -0.16665805 & 0.02014493\\\\\n",
       "  -0.30905366 & -0.19234178 & -0.28472096 & -0.03006719\\\\\n",
       "  -0.3975732 & 0.2916226 & -0.37083389 & -0.54478671 & 0.14095036 & 0.04570636\\\\\n",
       "  0.01919859 & -0.21186621 & -0.70345006 & -0.38699095\\\\\n",
       "  0.21716815 & 0.36870368 & -0.03930132 & 0.25608806 & 0.56008196 & -0.21818004\\\\\n",
       "  0.38343046 & 0.43446317 & 0.21183948 & -0.34294847\\\\\n",
       "\\end{bmatrix} - 0.7\n",
       "\\begin{bmatrix}\n",
       "  0.41153301\\\\\n",
       "  0.34826765\\\\\n",
       "  0.87860224\\\\\n",
       "  0.63556262\\\\\n",
       "  0.74611802\\\\\n",
       "  0.97587303\\\\\n",
       "  0.02230442\\\\\n",
       "  0.17011655\\\\\n",
       "  0.89612592\\\\\n",
       "  0.05596917\\\\\n",
       "  0.41046505\\\\\n",
       "  0.26301118\\\\\n",
       "  0.06876229\\\\\n",
       "  0.8793997\\\\\n",
       "\\end{bmatrix} \\cdot \n",
       "\\begin{bmatrix}\n",
       "  0.00166843 & -0.01276603 & -0.02475759 & 0.03647926 & 0.01301873 & 0.00435189\\\\\n",
       "  0.13048573 & 0.12756517 & -0.21381967 & -0.01788984\\\\\n",
       "\\end{bmatrix}\\end{gather}"
      ],
      "text/plain": [
       "<IPython.core.display.Latex object>"
      ]
     },
     "metadata": {},
     "output_type": "display_data"
    },
    {
     "data": {
      "text/latex": [
       "Camada: 1"
      ],
      "text/plain": [
       "<IPython.core.display.Latex object>"
      ]
     },
     "metadata": {},
     "output_type": "display_data"
    },
    {
     "data": {
      "text/latex": [
       "\\nabla = \\frac{\\partial E}{\\partial Y} \\frac{\\partial Y}{\\partial X}"
      ],
      "text/plain": [
       "<IPython.core.display.Latex object>"
      ]
     },
     "metadata": {},
     "output_type": "display_data"
    },
    {
     "data": {
      "text/latex": [
       "\\begin{gather}\n",
       "\\begin{bmatrix}\n",
       "  0.01116603 & -0.02491405 & -0.0057866 & 0.00946691 & 0.03939645 & -0.00249293\\\\\n",
       "  0.00419913 & -0.01072278 & 0.01362717 & -0.00337667 & 0.02740499 & -0.00354028\\\\\n",
       "  0.00766925 & 0.00833672\\\\\n",
       "\\end{bmatrix} = \n",
       "\\begin{bmatrix}\n",
       "  0.04610753 & -0.10976451 & -0.05425263 & 0.0408721 & 0.20797816 & -0.10587996\\\\\n",
       "  0.1925593 & -0.0759528 & 0.14639611 & -0.06390775 & 0.11325149 & -0.01826428\\\\\n",
       "  0.11976831 & 0.07860684\\\\\n",
       "\\end{bmatrix} \\cdot  \\sigma^{'}(\n",
       "\\begin{bmatrix}\n",
       "  -0.35763159 & -0.62666266 & 1.97925987 & 0.55615588 & 1.07801427 & 3.70000223\\\\\n",
       "  -3.78041371 & -1.58480148 & 2.15490156 & -2.82535775 & -0.3620432 & -1.03037619\\\\\n",
       "  -2.60585905 & 1.98675776\\\\\n",
       "\\end{bmatrix}) \\end{gather}"
      ],
      "text/plain": [
       "<IPython.core.display.Latex object>"
      ]
     },
     "metadata": {},
     "output_type": "display_data"
    },
    {
     "data": {
      "text/latex": [
       "Camada: 0"
      ],
      "text/plain": [
       "<IPython.core.display.Latex object>"
      ]
     },
     "metadata": {},
     "output_type": "display_data"
    },
    {
     "data": {
      "text/latex": [
       "\\nabla f_{custo} = \\frac{\\partial E}{\\partial W}"
      ],
      "text/plain": [
       "<IPython.core.display.Latex object>"
      ]
     },
     "metadata": {},
     "output_type": "display_data"
    },
    {
     "data": {
      "text/latex": [
       "\n",
       "\\begin{bmatrix}\n",
       "  0.01916394 & -0.03807872 & -0.0193737 & 0.03385375 & 0.02253563 & 0.02088095\\\\\n",
       "  0.02369301\\\\\n",
       "\\end{bmatrix} = \n",
       "\\begin{bmatrix}\n",
       "  0.01116603 & -0.02491405 & -0.0057866 & 0.00946691 & 0.03939645 & -0.00249293\\\\\n",
       "  0.00419913 & -0.01072278 & 0.01362717 & -0.00337667 & 0.02740499 & -0.00354028\\\\\n",
       "  0.00766925 & 0.00833672\\\\\n",
       "\\end{bmatrix} \\cdot \n",
       "\\begin{bmatrix}\n",
       "  4.75111275e-02 & -7.80035096e-01 & -3.73695871e-01 & 2.58729227e-02\\\\\n",
       "  3.87383534e-01 & -2.34669153e-01 & 8.44391972e-01\\\\\n",
       "  -3.01366470e-01 & 2.61634037e-02 & -3.16180616e-01 & -5.79567406e-02\\\\\n",
       "  -1.54122041e-01 & 2.46944784e-01 & 6.98481219e-01\\\\\n",
       "  8.61826936e-01 & 2.82487679e-02 & 2.75085043e-01 & 1.95302220e-01\\\\\n",
       "  -9.62196469e-04 & 9.91949735e-02 & 5.14766564e-01\\\\\n",
       "  -8.49333241e-02 & -4.51041874e-02 & -2.24585959e-02 & 3.09001202e-01\\\\\n",
       "  1.39617892e-01 & 2.21044639e-01 & 7.89124525e-01\\\\\n",
       "  5.90499400e-01 & -2.40373712e-01 & -7.58014538e-02 & 8.18093216e-02\\\\\n",
       "  -1.01606603e-02 & 6.68800204e-01 & 4.42328017e-01\\\\\n",
       "  2.21017954e-01 & 3.88367863e-01 & 5.33494196e-01 & 3.73201667e-01\\\\\n",
       "  7.49574231e-01 & 7.03206798e-01 & 6.34744938e-02\\\\\n",
       "  -6.18244744e-01 & -9.57915098e-01 & -1.00715855e+00 & -2.71650403e-01\\\\\n",
       "  -4.91410010e-01 & -7.74240727e-01 & 8.77243902e-01\\\\\n",
       "  -1.84703445e-01 & -2.53938696e-01 & -9.54544643e-01 & 2.60115794e-01\\\\\n",
       "  -1.89695987e-01 & 6.28395591e-01 & 2.52120480e-02\\\\\n",
       "  2.12191589e-01 & -6.88464673e-01 & -1.86242896e-01 & 6.86153788e-01\\\\\n",
       "  9.08909742e-01 & 6.20776152e-01 & 5.72850349e-01\\\\\n",
       "  -4.41999390e-01 & -3.42402392e-01 & -4.91410948e-01 & -3.82897432e-01\\\\\n",
       "  -3.42158853e-01 & -2.14094685e-01 & 3.54043260e-01\\\\\n",
       "  -1.25200277e-01 & -2.41077625e-02 & -7.69920018e-01 & 6.37290019e-01\\\\\n",
       "  -1.97715699e-01 & -4.40558412e-02 & 3.24600723e-02\\\\\n",
       "  4.49656254e-01 & -5.04094567e-01 & -7.02665396e-01 & -1.09218546e-01\\\\\n",
       "  -6.29786320e-02 & -2.40424553e-02 & 9.06263960e-01\\\\\n",
       "  -4.51702993e-01 & -8.39878203e-01 & -6.46561891e-01 & -1.11219124e-01\\\\\n",
       "  2.59165779e-01 & 9.67597674e-02 & 1.58774984e-02\\\\\n",
       "  -1.29257942e-01 & -3.41391450e-01 & 1.78182556e-01 & 5.18323741e-01\\\\\n",
       "  6.00707454e-01 & 5.66990441e-01 & 2.49463004e-01\\\\\n",
       "\\end{bmatrix}"
      ],
      "text/plain": [
       "<IPython.core.display.Latex object>"
      ]
     },
     "metadata": {},
     "output_type": "display_data"
    },
    {
     "data": {
      "text/latex": [
       "W = W - \\lambda (X \\cdot \\nabla f_{custo})"
      ],
      "text/plain": [
       "<IPython.core.display.Latex object>"
      ]
     },
     "metadata": {},
     "output_type": "display_data"
    },
    {
     "data": {
      "text/latex": [
       "\\begin{gather}\n",
       "\\begin{bmatrix}\n",
       "  0.03969491 & -0.28392663 & 0.86587756 & -0.09156016 & 0.56292188 & 0.222763\\\\\n",
       "  -0.62118413 & -0.1771975 & 0.20265257 & -0.43963572 & -0.14438377 & 0.45213445\\\\\n",
       "  -0.45707147 & -0.13509364\\\\\n",
       "  -0.78785131 & 0.04360324 & 0.03229939 & -0.05173102 & -0.26795123 & 0.39011291\\\\\n",
       "  -0.96085449 & -0.24643275 & -0.69800369 & -0.34003872 & -0.04329126 & -0.50161637\\\\\n",
       "  -0.84524668 & -0.34722715\\\\\n",
       "  -0.38151209 & -0.29874078 & 0.27913567 & -0.02908543 & -0.10337897 & 0.53523925\\\\\n",
       "  -1.01009794 & -0.9470387 & -0.19578192 & -0.48904728 & -0.78910351 & -0.7001872\\\\\n",
       "  -0.65193037 & 0.17234685\\\\\n",
       "  0.0180567 & -0.0405169 & 0.19935284 & 0.30237437 & 0.0542318 & 0.37494672\\\\\n",
       "  -0.27458979 & 0.26762174 & 0.67661477 & -0.38053376 & 0.61810653 & -0.10674035\\\\\n",
       "  -0.1165876 & 0.51248804\\\\\n",
       "  0.37956732 & -0.13668221 & 0.00308843 & 0.13299106 & -0.03773818 & 0.75131928\\\\\n",
       "  -0.4943494 & -0.18219004 & 0.89937072 & -0.33979518 & -0.21689919 & -0.06050044\\\\\n",
       "  0.25379731 & 0.59487175\\\\\n",
       "  -0.24248537 & 0.26438462 & 0.1032456 & 0.2144178 & 0.64122269 & 0.70495185\\\\\n",
       "  -0.77718012 & 0.63590154 & 0.61123713 & -0.21173102 & -0.06323933 & -0.02156426\\\\\n",
       "  0.09139129 & 0.56115474\\\\\n",
       "  0.83657575 & 0.71592105 & 0.51881719 & 0.78249769 & 0.4147505 & 0.06521954\\\\\n",
       "  0.87430451 & 0.032718 & 0.56331133 & 0.35640693 & 0.01327658 & 0.90874216\\\\\n",
       "  0.01050902 & 0.2436273\\\\\n",
       "\\end{bmatrix} = \n",
       "\\begin{bmatrix}\n",
       "  4.75111275e-02 & -3.01366470e-01 & 8.61826936e-01 & -8.49333241e-02\\\\\n",
       "  5.90499400e-01 & 2.21017954e-01 & -6.18244744e-01 & -1.84703445e-01\\\\\n",
       "  2.12191589e-01 & -4.41999390e-01 & -1.25200277e-01 & 4.49656254e-01\\\\\n",
       "  -4.51702993e-01 & -1.29257942e-01\\\\\n",
       "  -7.80035096e-01 & 2.61634037e-02 & 2.82487679e-02 & -4.51041874e-02\\\\\n",
       "  -2.40373712e-01 & 3.88367863e-01 & -9.57915098e-01 & -2.53938696e-01\\\\\n",
       "  -6.88464673e-01 & -3.42402392e-01 & -2.41077625e-02 & -5.04094567e-01\\\\\n",
       "  -8.39878203e-01 & -3.41391450e-01\\\\\n",
       "  -3.73695871e-01 & -3.16180616e-01 & 2.75085043e-01 & -2.24585959e-02\\\\\n",
       "  -7.58014538e-02 & 5.33494196e-01 & -1.00715855e+00 & -9.54544643e-01\\\\\n",
       "  -1.86242896e-01 & -4.91410948e-01 & -7.69920018e-01 & -7.02665396e-01\\\\\n",
       "  -6.46561891e-01 & 1.78182556e-01\\\\\n",
       "  2.58729227e-02 & -5.79567406e-02 & 1.95302220e-01 & 3.09001202e-01\\\\\n",
       "  8.18093216e-02 & 3.73201667e-01 & -2.71650403e-01 & 2.60115794e-01\\\\\n",
       "  6.86153788e-01 & -3.82897432e-01 & 6.37290019e-01 & -1.09218546e-01\\\\\n",
       "  -1.11219124e-01 & 5.18323741e-01\\\\\n",
       "  3.87383534e-01 & -1.54122041e-01 & -9.62196469e-04 & 1.39617892e-01\\\\\n",
       "  -1.01606603e-02 & 7.49574231e-01 & -4.91410010e-01 & -1.89695987e-01\\\\\n",
       "  9.08909742e-01 & -3.42158853e-01 & -1.97715699e-01 & -6.29786320e-02\\\\\n",
       "  2.59165779e-01 & 6.00707454e-01\\\\\n",
       "  -2.34669153e-01 & 2.46944784e-01 & 9.91949735e-02 & 2.21044639e-01\\\\\n",
       "  6.68800204e-01 & 7.03206798e-01 & -7.74240727e-01 & 6.28395591e-01\\\\\n",
       "  6.20776152e-01 & -2.14094685e-01 & -4.40558412e-02 & -2.40424553e-02\\\\\n",
       "  9.67597674e-02 & 5.66990441e-01\\\\\n",
       "  8.44391972e-01 & 6.98481219e-01 & 5.14766564e-01 & 7.89124525e-01\\\\\n",
       "  4.42328017e-01 & 6.34744938e-02 & 8.77243902e-01 & 2.52120480e-02\\\\\n",
       "  5.72850349e-01 & 3.54043260e-01 & 3.24600723e-02 & 9.06263960e-01\\\\\n",
       "  1.58774984e-02 & 2.49463004e-01\\\\\n",
       "\\end{bmatrix} - 0.7\n",
       "\\begin{bmatrix}\n",
       "  1\\\\\n",
       "  1\\\\\n",
       "  1\\\\\n",
       "  1\\\\\n",
       "  1\\\\\n",
       "  1\\\\\n",
       "  1\\\\\n",
       "\\end{bmatrix} \\cdot \n",
       "\\begin{bmatrix}\n",
       "  0.01116603 & -0.02491405 & -0.0057866 & 0.00946691 & 0.03939645 & -0.00249293\\\\\n",
       "  0.00419913 & -0.01072278 & 0.01362717 & -0.00337667 & 0.02740499 & -0.00354028\\\\\n",
       "  0.00766925 & 0.00833672\\\\\n",
       "\\end{bmatrix}\\end{gather}"
      ],
      "text/plain": [
       "<IPython.core.display.Latex object>"
      ]
     },
     "metadata": {},
     "output_type": "display_data"
    },
    {
     "data": {
      "text/latex": [
       "Camada: 0"
      ],
      "text/plain": [
       "<IPython.core.display.Latex object>"
      ]
     },
     "metadata": {},
     "output_type": "display_data"
    },
    {
     "data": {
      "text/latex": [
       "Y = Xw + b"
      ],
      "text/plain": [
       "<IPython.core.display.Latex object>"
      ]
     },
     "metadata": {},
     "output_type": "display_data"
    },
    {
     "data": {
      "text/latex": [
       "\\begin{gather}\n",
       "\\begin{bmatrix}\n",
       "  -0.05670595 & -0.14788629 & 1.53317634 & 0.22985225 & 0.9065413 & 2.80377667\\\\\n",
       "  -2.51924109 & -0.84533695 & 1.59775654 & -1.93686736 & -0.34451417 & -0.20362307\\\\\n",
       "  -1.88028888 & 1.25523726\\\\\n",
       "\\end{bmatrix} = \n",
       "\\begin{bmatrix}\n",
       "  1 & 1 & 0 & 0 & 1 & 1 & 1\\\\\n",
       "\\end{bmatrix} \\cdot \n",
       "\\begin{bmatrix}\n",
       "  0.03969491 & -0.28392663 & 0.86587756 & -0.09156016 & 0.56292188 & 0.222763\\\\\n",
       "  -0.62118413 & -0.1771975 & 0.20265257 & -0.43963572 & -0.14438377 & 0.45213445\\\\\n",
       "  -0.45707147 & -0.13509364\\\\\n",
       "  -0.78785131 & 0.04360324 & 0.03229939 & -0.05173102 & -0.26795123 & 0.39011291\\\\\n",
       "  -0.96085449 & -0.24643275 & -0.69800369 & -0.34003872 & -0.04329126 & -0.50161637\\\\\n",
       "  -0.84524668 & -0.34722715\\\\\n",
       "  -0.38151209 & -0.29874078 & 0.27913567 & -0.02908543 & -0.10337897 & 0.53523925\\\\\n",
       "  -1.01009794 & -0.9470387 & -0.19578192 & -0.48904728 & -0.78910351 & -0.7001872\\\\\n",
       "  -0.65193037 & 0.17234685\\\\\n",
       "  0.0180567 & -0.0405169 & 0.19935284 & 0.30237437 & 0.0542318 & 0.37494672\\\\\n",
       "  -0.27458979 & 0.26762174 & 0.67661477 & -0.38053376 & 0.61810653 & -0.10674035\\\\\n",
       "  -0.1165876 & 0.51248804\\\\\n",
       "  0.37956732 & -0.13668221 & 0.00308843 & 0.13299106 & -0.03773818 & 0.75131928\\\\\n",
       "  -0.4943494 & -0.18219004 & 0.89937072 & -0.33979518 & -0.21689919 & -0.06050044\\\\\n",
       "  0.25379731 & 0.59487175\\\\\n",
       "  -0.24248537 & 0.26438462 & 0.1032456 & 0.2144178 & 0.64122269 & 0.70495185\\\\\n",
       "  -0.77718012 & 0.63590154 & 0.61123713 & -0.21173102 & -0.06323933 & -0.02156426\\\\\n",
       "  0.09139129 & 0.56115474\\\\\n",
       "  0.83657575 & 0.71592105 & 0.51881719 & 0.78249769 & 0.4147505 & 0.06521954\\\\\n",
       "  0.87430451 & 0.032718 & 0.56331133 & 0.35640693 & 0.01327658 & 0.90874216\\\\\n",
       "  0.01050902 & 0.2436273\\\\\n",
       "\\end{bmatrix} + \n",
       "\\begin{bmatrix}\n",
       "  -0.28220724 & -0.75118636 & 0.00984818 & -0.75676311 & -0.40666436 & 0.66941008\\\\\n",
       "  -0.53997747 & -0.90813619 & 0.01918849 & -0.96207364 & 0.11002281 & -0.98081861\\\\\n",
       "  -0.93366836 & 0.33790426\\\\\n",
       "\\end{bmatrix}\\end{gather}"
      ],
      "text/plain": [
       "<IPython.core.display.Latex object>"
      ]
     },
     "metadata": {},
     "output_type": "display_data"
    },
    {
     "data": {
      "text/latex": [
       "Camada: 1"
      ],
      "text/plain": [
       "<IPython.core.display.Latex object>"
      ]
     },
     "metadata": {},
     "output_type": "display_data"
    },
    {
     "data": {
      "text/latex": [
       "Y = \\sigma(X)"
      ],
      "text/plain": [
       "<IPython.core.display.Latex object>"
      ]
     },
     "metadata": {},
     "output_type": "display_data"
    },
    {
     "data": {
      "text/latex": [
       "\\begin{gather}\n",
       "\\begin{bmatrix}\n",
       "  0.48582731 & 0.46309566 & 0.82247058 & 0.5572114 & 0.71229188 & 0.94287957\\\\\n",
       "  0.07452027 & 0.30041195 & 0.8317046 & 0.12599241 & 0.41471335 & 0.4492694\\\\\n",
       "  0.1323557 & 0.77820514\\\\\n",
       "\\end{bmatrix} = \\sigma(\n",
       "\\begin{bmatrix}\n",
       "  -0.05670595 & -0.14788629 & 1.53317634 & 0.22985225 & 0.9065413 & 2.80377667\\\\\n",
       "  -2.51924109 & -0.84533695 & 1.59775654 & -1.93686736 & -0.34451417 & -0.20362307\\\\\n",
       "  -1.88028888 & 1.25523726\\\\\n",
       "\\end{bmatrix}) \\end{gather}"
      ],
      "text/plain": [
       "<IPython.core.display.Latex object>"
      ]
     },
     "metadata": {},
     "output_type": "display_data"
    },
    {
     "data": {
      "text/latex": [
       "Camada: 2"
      ],
      "text/plain": [
       "<IPython.core.display.Latex object>"
      ]
     },
     "metadata": {},
     "output_type": "display_data"
    },
    {
     "data": {
      "text/latex": [
       "Y = Xw + b"
      ],
      "text/plain": [
       "<IPython.core.display.Latex object>"
      ]
     },
     "metadata": {},
     "output_type": "display_data"
    },
    {
     "data": {
      "text/latex": [
       "\\begin{gather}\n",
       "\\begin{bmatrix}\n",
       "  -0.06534046 & -0.08626011 & 0.01375306 & -0.15985415 & -0.01943759 & -0.14671243\\\\\n",
       "  -0.14673501 & 0.11544803 & 0.69820101 & 0.0072942\\\\\n",
       "\\end{bmatrix} = \n",
       "\\begin{bmatrix}\n",
       "  0.48582731 & 0.46309566 & 0.82247058 & 0.5572114 & 0.71229188 & 0.94287957\\\\\n",
       "  0.07452027 & 0.30041195 & 0.8317046 & 0.12599241 & 0.41471335 & 0.4492694\\\\\n",
       "  0.1323557 & 0.77820514\\\\\n",
       "\\end{bmatrix} \\cdot \n",
       "\\begin{bmatrix}\n",
       "  -0.34958346 & 0.5035473 & 0.33544009 & 0.19834505 & -0.43247965 & -0.49149878\\\\\n",
       "  -0.22907569 & 0.2136185 & -0.18233363 & -0.11708934\\\\\n",
       "  0.24432175 & -0.03747543 & -0.1481979 & -0.32708666 & 0.26330732 & -0.27842926\\\\\n",
       "  -0.37117446 & 0.14493564 & 0.41881862 & 0.28004166\\\\\n",
       "  -0.27261828 & -0.41733994 & -0.26383477 & -0.41830983 & -0.32488848 & 0.33459332\\\\\n",
       "  0.10320643 & -0.19643868 & 0.42670295 & -0.27931672\\\\\n",
       "  0.2618625 & -0.45510201 & -0.43411568 & 0.22466486 & 0.05501067 & -0.09162726\\\\\n",
       "  0.17929557 & -0.24313115 & 0.04113257 & 0.25378885\\\\\n",
       "  -0.50787923 & 0.48698234 & -0.26514989 & 0.19538542 & -0.29472225 & -0.18627885\\\\\n",
       "  0.01556301 & 0.54749721 & -0.43086142 & 0.03567282\\\\\n",
       "  0.23670095 & -0.13360965 & 0.3565118 & 0.07528732 & -0.15012688 & 0.23582255\\\\\n",
       "  -0.14516101 & -0.20997795 & 0.5080176 & 0.13345575\\\\\n",
       "  -0.36148559 & -0.05592022 & 0.2047655 & -0.22887126 & 0.25624178 & -0.77643496\\\\\n",
       "  -0.16164307 & 0.43676518 & -0.74937066 & -0.54675804\\\\\n",
       "  -0.52796869 & -0.3302328 & -0.34395932 & -0.13371702 & 0.05666315 & -0.31298591\\\\\n",
       "  -0.38149664 & 0.17181347 & 0.29476145 & 0.06339404\\\\\n",
       "  0.07355142 & -0.24097402 & -0.12240832 & 0.2071335 & 0.26598199 & -0.09786114\\\\\n",
       "  0.30754735 & -0.2331351 & -0.28421185 & -0.40266079\\\\\n",
       "  0.29890806 & -0.11938671 & -0.29661526 & 0.02987776 & 0.22114514 & -0.33150083\\\\\n",
       "  -0.33225016 & -0.33448323 & -0.03199095 & -0.01024722\\\\\n",
       "  -0.40859092 & -0.36995025 & 0.39045177 & 0.15229703 & 0.21983823 & 0.05478345\\\\\n",
       "  0.32910856 & 0.05483444 & -0.19490494 & 0.2710289\\\\\n",
       "  0.25371026 & -0.5087026 & 0.26333064 & -0.37068322 & -0.1690549 & 0.01934371\\\\\n",
       "  -0.3330771 & -0.21582753 & -0.24535509 & -0.02677353\\\\\n",
       "  -0.39765351 & 0.29223707 & -0.36964222 & -0.54654258 & 0.14032373 & 0.04549689\\\\\n",
       "  0.01291784 & -0.21800638 & -0.69315815 & -0.38612985\\\\\n",
       "  0.21614109 & 0.37656219 & -0.02406105 & 0.23363217 & 0.55206789 & -0.22085898\\\\\n",
       "  0.30310608 & 0.35593663 & 0.34346254 & -0.33193585\\\\\n",
       "\\end{bmatrix} + \n",
       "\\begin{bmatrix}\n",
       "  0.23484426 & 0.4314797 & 0.24568975 & -0.22095103 & -0.09183709 & 0.31669058\\\\\n",
       "  -0.23426887 & 0.02755985 & 0.27008379 & 0.43850292\\\\\n",
       "\\end{bmatrix}\\end{gather}"
      ],
      "text/plain": [
       "<IPython.core.display.Latex object>"
      ]
     },
     "metadata": {},
     "output_type": "display_data"
    },
    {
     "data": {
      "text/latex": [
       "f_{custo}(\n",
       "\\begin{bmatrix}\n",
       "  0 & 0 & 0 & 0 & 0 & 0 & 0 & 0 & 0 & 1\\\\\n",
       "\\end{bmatrix},\n",
       "\\begin{bmatrix}\n",
       "  -0.06534046 & -0.08626011 & 0.01375306 & -0.15985415 & -0.01943759 & -0.14671243\\\\\n",
       "  -0.14673501 & 0.11544803 & 0.69820101 & 0.0072942\\\\\n",
       "\\end{bmatrix}) = \n",
       "\\begin{bmatrix}\n",
       "  0.15671639110233349\\\\\n",
       "\\end{bmatrix}"
      ],
      "text/plain": [
       "<IPython.core.display.Latex object>"
      ]
     },
     "metadata": {},
     "output_type": "display_data"
    },
    {
     "data": {
      "text/latex": [
       "\\nabla = \\frac{\\partial E}{\\partial Y} = \n",
       "\\begin{bmatrix}\n",
       "  -0.01306809 & -0.01725202 & 0.00275061 & -0.03197083 & -0.00388752 & -0.02934249\\\\\n",
       "  -0.029347 & 0.02308961 & 0.1396402 & -0.19854116\\\\\n",
       "\\end{bmatrix}"
      ],
      "text/plain": [
       "<IPython.core.display.Latex object>"
      ]
     },
     "metadata": {},
     "output_type": "display_data"
    },
    {
     "data": {
      "text/latex": [
       "Camada: 2"
      ],
      "text/plain": [
       "<IPython.core.display.Latex object>"
      ]
     },
     "metadata": {},
     "output_type": "display_data"
    },
    {
     "data": {
      "text/latex": [
       "\\nabla f_{custo} = \\frac{\\partial E}{\\partial W}"
      ],
      "text/plain": [
       "<IPython.core.display.Latex object>"
      ]
     },
     "metadata": {},
     "output_type": "display_data"
    },
    {
     "data": {
      "text/latex": [
       "\n",
       "\\begin{bmatrix}\n",
       "  0.01600666 & 0.03177299 & 0.12233204 & -0.05699206 & -0.05719209 & 0.03530439\\\\\n",
       "  0.05409567 & 0.06862629 & 0.02392341 & 0.0048445 & -0.0839545 & -0.00602872\\\\\n",
       "  -0.01081179 & 0.10066506\\\\\n",
       "\\end{bmatrix} = \n",
       "\\begin{bmatrix}\n",
       "  -0.01306809 & -0.01725202 & 0.00275061 & -0.03197083 & -0.00388752 & -0.02934249\\\\\n",
       "  -0.029347 & 0.02308961 & 0.1396402 & -0.19854116\\\\\n",
       "\\end{bmatrix} \\cdot \n",
       "\\begin{bmatrix}\n",
       "  -0.34958346 & 0.24432175 & -0.27261828 & 0.2618625 & -0.50787923 & 0.23670095\\\\\n",
       "  -0.36148559 & -0.52796869 & 0.07355142 & 0.29890806 & -0.40859092 & 0.25371026\\\\\n",
       "  -0.39765351 & 0.21614109\\\\\n",
       "  0.5035473 & -0.03747543 & -0.41733994 & -0.45510201 & 0.48698234 & -0.13360965\\\\\n",
       "  -0.05592022 & -0.3302328 & -0.24097402 & -0.11938671 & -0.36995025 & -0.5087026\\\\\n",
       "  0.29223707 & 0.37656219\\\\\n",
       "  0.33544009 & -0.1481979 & -0.26383477 & -0.43411568 & -0.26514989 & 0.3565118\\\\\n",
       "  0.2047655 & -0.34395932 & -0.12240832 & -0.29661526 & 0.39045177 & 0.26333064\\\\\n",
       "  -0.36964222 & -0.02406105\\\\\n",
       "  0.19834505 & -0.32708666 & -0.41830983 & 0.22466486 & 0.19538542 & 0.07528732\\\\\n",
       "  -0.22887126 & -0.13371702 & 0.2071335 & 0.02987776 & 0.15229703 & -0.37068322\\\\\n",
       "  -0.54654258 & 0.23363217\\\\\n",
       "  -0.43247965 & 0.26330732 & -0.32488848 & 0.05501067 & -0.29472225 & -0.15012688\\\\\n",
       "  0.25624178 & 0.05666315 & 0.26598199 & 0.22114514 & 0.21983823 & -0.1690549\\\\\n",
       "  0.14032373 & 0.55206789\\\\\n",
       "  -0.49149878 & -0.27842926 & 0.33459332 & -0.09162726 & -0.18627885 & 0.23582255\\\\\n",
       "  -0.77643496 & -0.31298591 & -0.09786114 & -0.33150083 & 0.05478345 & 0.01934371\\\\\n",
       "  0.04549689 & -0.22085898\\\\\n",
       "  -0.22907569 & -0.37117446 & 0.10320643 & 0.17929557 & 0.01556301 & -0.14516101\\\\\n",
       "  -0.16164307 & -0.38149664 & 0.30754735 & -0.33225016 & 0.32910856 & -0.3330771\\\\\n",
       "  0.01291784 & 0.30310608\\\\\n",
       "  0.2136185 & 0.14493564 & -0.19643868 & -0.24313115 & 0.54749721 & -0.20997795\\\\\n",
       "  0.43676518 & 0.17181347 & -0.2331351 & -0.33448323 & 0.05483444 & -0.21582753\\\\\n",
       "  -0.21800638 & 0.35593663\\\\\n",
       "  -0.18233363 & 0.41881862 & 0.42670295 & 0.04113257 & -0.43086142 & 0.5080176\\\\\n",
       "  -0.74937066 & 0.29476145 & -0.28421185 & -0.03199095 & -0.19490494 & -0.24535509\\\\\n",
       "  -0.69315815 & 0.34346254\\\\\n",
       "  -0.11708934 & 0.28004166 & -0.27931672 & 0.25378885 & 0.03567282 & 0.13345575\\\\\n",
       "  -0.54675804 & 0.06339404 & -0.40266079 & -0.01024722 & 0.2710289 & -0.02677353\\\\\n",
       "  -0.38612985 & -0.33193585\\\\\n",
       "\\end{bmatrix}"
      ],
      "text/plain": [
       "<IPython.core.display.Latex object>"
      ]
     },
     "metadata": {},
     "output_type": "display_data"
    },
    {
     "data": {
      "text/latex": [
       "W = W - \\lambda (X \\cdot \\nabla f_{custo})"
      ],
      "text/plain": [
       "<IPython.core.display.Latex object>"
      ]
     },
     "metadata": {},
     "output_type": "display_data"
    },
    {
     "data": {
      "text/latex": [
       "\\begin{gather}\n",
       "\\begin{bmatrix}\n",
       "  -0.34513928 & 0.50941436 & 0.33450467 & 0.20921766 & -0.43115758 & -0.48152001\\\\\n",
       "  -0.21909539 & 0.20576621 & -0.22982235 & -0.04956964\\\\\n",
       "  0.24855799 & -0.0318829 & -0.14908955 & -0.31672277 & 0.26456753 & -0.2689174\\\\\n",
       "  -0.36166113 & 0.13745075 & 0.37355188 & 0.34440214\\\\\n",
       "  -0.26509459 & -0.40740744 & -0.26541838 & -0.39990329 & -0.32265032 & 0.35148665\\\\\n",
       "  0.12010236 & -0.20973204 & 0.34630798 & -0.16501074\\\\\n",
       "  0.26695968 & -0.44837289 & -0.43518855 & 0.23713502 & 0.05652699 & -0.08018228\\\\\n",
       "  0.1907423 & -0.25213721 & -0.01333381 & 0.33122943\\\\\n",
       "  -0.50136342 & 0.49558427 & -0.26652135 & 0.21132622 & -0.29278391 & -0.17164856\\\\\n",
       "  0.03019555 & 0.53598463 & -0.50048663 & 0.1346663\\\\\n",
       "  0.24532609 & -0.12222305 & 0.35469635 & 0.09638857 & -0.14756106 & 0.25518905\\\\\n",
       "  -0.12579153 & -0.22521745 & 0.41585288 & 0.26449604\\\\\n",
       "  -0.3608039 & -0.05502028 & 0.20462202 & -0.22720352 & 0.25644457 & -0.77490433\\\\\n",
       "  -0.16011221 & 0.43556073 & -0.75665487 & -0.5364013\\\\\n",
       "  -0.52522063 & -0.3266049 & -0.34453774 & -0.12699392 & 0.05748065 & -0.30681553\\\\\n",
       "  -0.37532531 & 0.166958 & 0.26539674 & 0.10514494\\\\\n",
       "  0.08115957 & -0.23093001 & -0.12400971 & 0.2257467 & 0.26824528 & -0.08077814\\\\\n",
       "  0.32463298 & -0.24657771 & -0.36550943 & -0.28707148\\\\\n",
       "  0.30006059 & -0.11786517 & -0.29685785 & 0.03269742 & 0.221488 & -0.32891298\\\\\n",
       "  -0.32966191 & -0.33651961 & -0.04430648 & 0.00726306\\\\\n",
       "  -0.40479726 & -0.364942 & 0.38965327 & 0.16157815 & 0.22096677 & 0.06330155\\\\\n",
       "  0.33762797 & 0.04813154 & -0.2354424 & 0.32866527\\\\\n",
       "  0.25782003 & -0.50327704 & 0.2624656 & -0.36062876 & -0.16783232 & 0.02857159\\\\\n",
       "  -0.32384781 & -0.22308895 & -0.28927034 & 0.0356654\\\\\n",
       "  -0.39644276 & 0.29383546 & -0.36989706 & -0.54358052 & 0.1406839 & 0.04821544\\\\\n",
       "  0.01563681 & -0.22014561 & -0.70609567 & -0.36773521\\\\\n",
       "  0.22325985 & 0.38596012 & -0.02555943 & 0.25104807 & 0.55418559 & -0.20487485\\\\\n",
       "  0.31909267 & 0.34335871 & 0.26739444 & -0.22378182\\\\\n",
       "\\end{bmatrix} = \n",
       "\\begin{bmatrix}\n",
       "  -0.34958346 & 0.5035473 & 0.33544009 & 0.19834505 & -0.43247965 & -0.49149878\\\\\n",
       "  -0.22907569 & 0.2136185 & -0.18233363 & -0.11708934\\\\\n",
       "  0.24432175 & -0.03747543 & -0.1481979 & -0.32708666 & 0.26330732 & -0.27842926\\\\\n",
       "  -0.37117446 & 0.14493564 & 0.41881862 & 0.28004166\\\\\n",
       "  -0.27261828 & -0.41733994 & -0.26383477 & -0.41830983 & -0.32488848 & 0.33459332\\\\\n",
       "  0.10320643 & -0.19643868 & 0.42670295 & -0.27931672\\\\\n",
       "  0.2618625 & -0.45510201 & -0.43411568 & 0.22466486 & 0.05501067 & -0.09162726\\\\\n",
       "  0.17929557 & -0.24313115 & 0.04113257 & 0.25378885\\\\\n",
       "  -0.50787923 & 0.48698234 & -0.26514989 & 0.19538542 & -0.29472225 & -0.18627885\\\\\n",
       "  0.01556301 & 0.54749721 & -0.43086142 & 0.03567282\\\\\n",
       "  0.23670095 & -0.13360965 & 0.3565118 & 0.07528732 & -0.15012688 & 0.23582255\\\\\n",
       "  -0.14516101 & -0.20997795 & 0.5080176 & 0.13345575\\\\\n",
       "  -0.36148559 & -0.05592022 & 0.2047655 & -0.22887126 & 0.25624178 & -0.77643496\\\\\n",
       "  -0.16164307 & 0.43676518 & -0.74937066 & -0.54675804\\\\\n",
       "  -0.52796869 & -0.3302328 & -0.34395932 & -0.13371702 & 0.05666315 & -0.31298591\\\\\n",
       "  -0.38149664 & 0.17181347 & 0.29476145 & 0.06339404\\\\\n",
       "  0.07355142 & -0.24097402 & -0.12240832 & 0.2071335 & 0.26598199 & -0.09786114\\\\\n",
       "  0.30754735 & -0.2331351 & -0.28421185 & -0.40266079\\\\\n",
       "  0.29890806 & -0.11938671 & -0.29661526 & 0.02987776 & 0.22114514 & -0.33150083\\\\\n",
       "  -0.33225016 & -0.33448323 & -0.03199095 & -0.01024722\\\\\n",
       "  -0.40859092 & -0.36995025 & 0.39045177 & 0.15229703 & 0.21983823 & 0.05478345\\\\\n",
       "  0.32910856 & 0.05483444 & -0.19490494 & 0.2710289\\\\\n",
       "  0.25371026 & -0.5087026 & 0.26333064 & -0.37068322 & -0.1690549 & 0.01934371\\\\\n",
       "  -0.3330771 & -0.21582753 & -0.24535509 & -0.02677353\\\\\n",
       "  -0.39765351 & 0.29223707 & -0.36964222 & -0.54654258 & 0.14032373 & 0.04549689\\\\\n",
       "  0.01291784 & -0.21800638 & -0.69315815 & -0.38612985\\\\\n",
       "  0.21614109 & 0.37656219 & -0.02406105 & 0.23363217 & 0.55206789 & -0.22085898\\\\\n",
       "  0.30310608 & 0.35593663 & 0.34346254 & -0.33193585\\\\\n",
       "\\end{bmatrix} - 0.7\n",
       "\\begin{bmatrix}\n",
       "  0.48582731\\\\\n",
       "  0.46309566\\\\\n",
       "  0.82247058\\\\\n",
       "  0.5572114\\\\\n",
       "  0.71229188\\\\\n",
       "  0.94287957\\\\\n",
       "  0.07452027\\\\\n",
       "  0.30041195\\\\\n",
       "  0.8317046\\\\\n",
       "  0.12599241\\\\\n",
       "  0.41471335\\\\\n",
       "  0.4492694\\\\\n",
       "  0.1323557\\\\\n",
       "  0.77820514\\\\\n",
       "\\end{bmatrix} \\cdot \n",
       "\\begin{bmatrix}\n",
       "  -0.01306809 & -0.01725202 & 0.00275061 & -0.03197083 & -0.00388752 & -0.02934249\\\\\n",
       "  -0.029347 & 0.02308961 & 0.1396402 & -0.19854116\\\\\n",
       "\\end{bmatrix}\\end{gather}"
      ],
      "text/plain": [
       "<IPython.core.display.Latex object>"
      ]
     },
     "metadata": {},
     "output_type": "display_data"
    },
    {
     "data": {
      "text/latex": [
       "Camada: 1"
      ],
      "text/plain": [
       "<IPython.core.display.Latex object>"
      ]
     },
     "metadata": {},
     "output_type": "display_data"
    },
    {
     "data": {
      "text/latex": [
       "\\nabla = \\frac{\\partial E}{\\partial Y} \\frac{\\partial Y}{\\partial X}"
      ],
      "text/plain": [
       "<IPython.core.display.Latex object>"
      ]
     },
     "metadata": {},
     "output_type": "display_data"
    },
    {
     "data": {
      "text/latex": [
       "\\begin{gather}\n",
       "\\begin{bmatrix}\n",
       "  0.00399845 & 0.00789997 & 0.01786203 & -0.01406147 & -0.0117205 & 0.00190141\\\\\n",
       "  0.00373082 & 0.01442282 & 0.00334861 & 0.00053347 & -0.02037796 & -0.00149167\\\\\n",
       "  -0.0012416 & 0.01737498\\\\\n",
       "\\end{bmatrix} = \n",
       "\\begin{bmatrix}\n",
       "  0.01600666 & 0.03177299 & 0.12233204 & -0.05699206 & -0.05719209 & 0.03530439\\\\\n",
       "  0.05409567 & 0.06862629 & 0.02392341 & 0.0048445 & -0.0839545 & -0.00602872\\\\\n",
       "  -0.01081179 & 0.10066506\\\\\n",
       "\\end{bmatrix} \\cdot  \\sigma^{'}(\n",
       "\\begin{bmatrix}\n",
       "  -0.05670595 & -0.14788629 & 1.53317634 & 0.22985225 & 0.9065413 & 2.80377667\\\\\n",
       "  -2.51924109 & -0.84533695 & 1.59775654 & -1.93686736 & -0.34451417 & -0.20362307\\\\\n",
       "  -1.88028888 & 1.25523726\\\\\n",
       "\\end{bmatrix}) \\end{gather}"
      ],
      "text/plain": [
       "<IPython.core.display.Latex object>"
      ]
     },
     "metadata": {},
     "output_type": "display_data"
    },
    {
     "data": {
      "text/latex": [
       "Camada: 0"
      ],
      "text/plain": [
       "<IPython.core.display.Latex object>"
      ]
     },
     "metadata": {},
     "output_type": "display_data"
    },
    {
     "data": {
      "text/latex": [
       "\\nabla f_{custo} = \\frac{\\partial E}{\\partial W}"
      ],
      "text/plain": [
       "<IPython.core.display.Latex object>"
      ]
     },
     "metadata": {},
     "output_type": "display_data"
    },
    {
     "data": {
      "text/latex": [
       "\n",
       "\\begin{bmatrix}\n",
       "  0.00455428 & -0.01063003 & 0.00632356 & 0.00064927 & 0.01338322 & 0.01293642\\\\\n",
       "  0.01093183\\\\\n",
       "\\end{bmatrix} = \n",
       "\\begin{bmatrix}\n",
       "  0.00399845 & 0.00789997 & 0.01786203 & -0.01406147 & -0.0117205 & 0.00190141\\\\\n",
       "  0.00373082 & 0.01442282 & 0.00334861 & 0.00053347 & -0.02037796 & -0.00149167\\\\\n",
       "  -0.0012416 & 0.01737498\\\\\n",
       "\\end{bmatrix} \\cdot \n",
       "\\begin{bmatrix}\n",
       "  0.03969491 & -0.78785131 & -0.38151209 & 0.0180567 & 0.37956732 & -0.24248537\\\\\n",
       "  0.83657575\\\\\n",
       "  -0.28392663 & 0.04360324 & -0.29874078 & -0.0405169 & -0.13668221 & 0.26438462\\\\\n",
       "  0.71592105\\\\\n",
       "  0.86587756 & 0.03229939 & 0.27913567 & 0.19935284 & 0.00308843 & 0.1032456\\\\\n",
       "  0.51881719\\\\\n",
       "  -0.09156016 & -0.05173102 & -0.02908543 & 0.30237437 & 0.13299106 & 0.2144178\\\\\n",
       "  0.78249769\\\\\n",
       "  0.56292188 & -0.26795123 & -0.10337897 & 0.0542318 & -0.03773818 & 0.64122269\\\\\n",
       "  0.4147505\\\\\n",
       "  0.222763 & 0.39011291 & 0.53523925 & 0.37494672 & 0.75131928 & 0.70495185\\\\\n",
       "  0.06521954\\\\\n",
       "  -0.62118413 & -0.96085449 & -1.01009794 & -0.27458979 & -0.4943494 & -0.77718012\\\\\n",
       "  0.87430451\\\\\n",
       "  -0.1771975 & -0.24643275 & -0.9470387 & 0.26762174 & -0.18219004 & 0.63590154\\\\\n",
       "  0.032718\\\\\n",
       "  0.20265257 & -0.69800369 & -0.19578192 & 0.67661477 & 0.89937072 & 0.61123713\\\\\n",
       "  0.56331133\\\\\n",
       "  -0.43963572 & -0.34003872 & -0.48904728 & -0.38053376 & -0.33979518 & -0.21173102\\\\\n",
       "  0.35640693\\\\\n",
       "  -0.14438377 & -0.04329126 & -0.78910351 & 0.61810653 & -0.21689919 & -0.06323933\\\\\n",
       "  0.01327658\\\\\n",
       "  0.45213445 & -0.50161637 & -0.7001872 & -0.10674035 & -0.06050044 & -0.02156426\\\\\n",
       "  0.90874216\\\\\n",
       "  -0.45707147 & -0.84524668 & -0.65193037 & -0.1165876 & 0.25379731 & 0.09139129\\\\\n",
       "  0.01050902\\\\\n",
       "  -0.13509364 & -0.34722715 & 0.17234685 & 0.51248804 & 0.59487175 & 0.56115474\\\\\n",
       "  0.2436273\\\\\n",
       "\\end{bmatrix}"
      ],
      "text/plain": [
       "<IPython.core.display.Latex object>"
      ]
     },
     "metadata": {},
     "output_type": "display_data"
    },
    {
     "data": {
      "text/latex": [
       "W = W - \\lambda (X \\cdot \\nabla f_{custo})"
      ],
      "text/plain": [
       "<IPython.core.display.Latex object>"
      ]
     },
     "metadata": {},
     "output_type": "display_data"
    },
    {
     "data": {
      "text/latex": [
       "\\begin{gather}\n",
       "\\begin{bmatrix}\n",
       "  0.03689599 & -0.28945662 & 0.85337414 & -0.08171713 & 0.57112623 & 0.22143202\\\\\n",
       "  -0.6237957 & -0.18729347 & 0.20030854 & -0.44000915 & -0.1301192 & 0.45317862\\\\\n",
       "  -0.45620235 & -0.14725613\\\\\n",
       "  -0.79065023 & 0.03807326 & 0.01979597 & -0.04188799 & -0.25974688 & 0.38878192\\\\\n",
       "  -0.96346606 & -0.25652872 & -0.70034772 & -0.34041215 & -0.02902669 & -0.5005722\\\\\n",
       "  -0.84437756 & -0.35938964\\\\\n",
       "  -0.38151209 & -0.29874078 & 0.27913567 & -0.02908543 & -0.10337897 & 0.53523925\\\\\n",
       "  -1.01009794 & -0.9470387 & -0.19578192 & -0.48904728 & -0.78910351 & -0.7001872\\\\\n",
       "  -0.65193037 & 0.17234685\\\\\n",
       "  0.0180567 & -0.0405169 & 0.19935284 & 0.30237437 & 0.0542318 & 0.37494672\\\\\n",
       "  -0.27458979 & 0.26762174 & 0.67661477 & -0.38053376 & 0.61810653 & -0.10674035\\\\\n",
       "  -0.1165876 & 0.51248804\\\\\n",
       "  0.3767684 & -0.14221219 & -0.009415 & 0.14283409 & -0.02953383 & 0.74998829\\\\\n",
       "  -0.49696097 & -0.19228601 & 0.89702669 & -0.34016861 & -0.20263462 & -0.05945627\\\\\n",
       "  0.25466643 & 0.58270927\\\\\n",
       "  -0.24528429 & 0.25885464 & 0.09074217 & 0.22426083 & 0.64942703 & 0.70362086\\\\\n",
       "  -0.77979169 & 0.62580557 & 0.6088931 & -0.21210444 & -0.04897477 & -0.02052009\\\\\n",
       "  0.09226041 & 0.54899225\\\\\n",
       "  0.83377684 & 0.71039107 & 0.50631376 & 0.79234072 & 0.42295485 & 0.06388855\\\\\n",
       "  0.87169294 & 0.02262202 & 0.5609673 & 0.3560335 & 0.02754115 & 0.90978632\\\\\n",
       "  0.01137814 & 0.23146482\\\\\n",
       "\\end{bmatrix} = \n",
       "\\begin{bmatrix}\n",
       "  0.03969491 & -0.28392663 & 0.86587756 & -0.09156016 & 0.56292188 & 0.222763\\\\\n",
       "  -0.62118413 & -0.1771975 & 0.20265257 & -0.43963572 & -0.14438377 & 0.45213445\\\\\n",
       "  -0.45707147 & -0.13509364\\\\\n",
       "  -0.78785131 & 0.04360324 & 0.03229939 & -0.05173102 & -0.26795123 & 0.39011291\\\\\n",
       "  -0.96085449 & -0.24643275 & -0.69800369 & -0.34003872 & -0.04329126 & -0.50161637\\\\\n",
       "  -0.84524668 & -0.34722715\\\\\n",
       "  -0.38151209 & -0.29874078 & 0.27913567 & -0.02908543 & -0.10337897 & 0.53523925\\\\\n",
       "  -1.01009794 & -0.9470387 & -0.19578192 & -0.48904728 & -0.78910351 & -0.7001872\\\\\n",
       "  -0.65193037 & 0.17234685\\\\\n",
       "  0.0180567 & -0.0405169 & 0.19935284 & 0.30237437 & 0.0542318 & 0.37494672\\\\\n",
       "  -0.27458979 & 0.26762174 & 0.67661477 & -0.38053376 & 0.61810653 & -0.10674035\\\\\n",
       "  -0.1165876 & 0.51248804\\\\\n",
       "  0.37956732 & -0.13668221 & 0.00308843 & 0.13299106 & -0.03773818 & 0.75131928\\\\\n",
       "  -0.4943494 & -0.18219004 & 0.89937072 & -0.33979518 & -0.21689919 & -0.06050044\\\\\n",
       "  0.25379731 & 0.59487175\\\\\n",
       "  -0.24248537 & 0.26438462 & 0.1032456 & 0.2144178 & 0.64122269 & 0.70495185\\\\\n",
       "  -0.77718012 & 0.63590154 & 0.61123713 & -0.21173102 & -0.06323933 & -0.02156426\\\\\n",
       "  0.09139129 & 0.56115474\\\\\n",
       "  0.83657575 & 0.71592105 & 0.51881719 & 0.78249769 & 0.4147505 & 0.06521954\\\\\n",
       "  0.87430451 & 0.032718 & 0.56331133 & 0.35640693 & 0.01327658 & 0.90874216\\\\\n",
       "  0.01050902 & 0.2436273\\\\\n",
       "\\end{bmatrix} - 0.7\n",
       "\\begin{bmatrix}\n",
       "  1\\\\\n",
       "  1\\\\\n",
       "  0\\\\\n",
       "  0\\\\\n",
       "  1\\\\\n",
       "  1\\\\\n",
       "  1\\\\\n",
       "\\end{bmatrix} \\cdot \n",
       "\\begin{bmatrix}\n",
       "  0.00399845 & 0.00789997 & 0.01786203 & -0.01406147 & -0.0117205 & 0.00190141\\\\\n",
       "  0.00373082 & 0.01442282 & 0.00334861 & 0.00053347 & -0.02037796 & -0.00149167\\\\\n",
       "  -0.0012416 & 0.01737498\\\\\n",
       "\\end{bmatrix}\\end{gather}"
      ],
      "text/plain": [
       "<IPython.core.display.Latex object>"
      ]
     },
     "metadata": {},
     "output_type": "display_data"
    }
   ],
   "source": [
    "rede_exemplo_display.treinar(\n",
    "    vetor_x_exemplo_segmentos,\n",
    "    vetor_y_esperado_exemplo_segmentos,\n",
    "    max_n_iteracoes=1000,\n",
    "    taxa_aprendizado=0.7,\n",
    ")\n",
    "\n",
    "for log in rede_exemplo_display.logs[0]:\n",
    "    display(Latex(log))\n"
   ]
  },
  {
   "cell_type": "markdown",
   "metadata": {},
   "source": [
    "### Validação"
   ]
  },
  {
   "cell_type": "code",
   "execution_count": 43,
   "metadata": {},
   "outputs": [
    {
     "data": {
      "text/latex": [
       "\\begin{gather}X=\n",
       "\\begin{bmatrix}\n",
       "  1 & 1 & 1 & 1 & 1 & 1 & 0\\\\\n",
       "  0 & 1 & 1 & 0 & 0 & 0 & 0\\\\\n",
       "  1 & 1 & 0 & 1 & 1 & 0 & 1\\\\\n",
       "  1 & 1 & 1 & 1 & 0 & 0 & 1\\\\\n",
       "  0 & 1 & 1 & 0 & 0 & 1 & 1\\\\\n",
       "  1 & 0 & 1 & 1 & 0 & 1 & 1\\\\\n",
       "  0 & 0 & 1 & 1 & 1 & 1 & 1\\\\\n",
       "  1 & 1 & 1 & 0 & 0 & 0 & 0\\\\\n",
       "  1 & 1 & 1 & 1 & 1 & 1 & 1\\\\\n",
       "  1 & 1 & 0 & 0 & 1 & 1 & 1\\\\\n",
       "\\end{bmatrix}\\rightarrow\n",
       "\\begin{bmatrix}\n",
       "  0.91 & 0.05 & 0.06 & -0.14 & 0.02 & 0.04 & -0.07 & -0.02 & 0.12 & -0.06\\\\\n",
       "  0.1 & 0.88 & 0.05 & -0.01 & 0.07 & -0.04 & 0.08 & 0.1 & -0.03 & -0.04\\\\\n",
       "  0.07 & -0. & 0.92 & 0.16 & -0.03 & -0.06 & 0.03 & -0.04 & -0.06 & 0.05\\\\\n",
       "  -0.11 & -0.01 & 0.19 & 0.68 & 0.09 & 0.08 & -0.08 & 0.07 & 0.22 & -0.19\\\\\n",
       "  -0.03 & 0.03 & -0.04 & 0.04 & 0.99 & -0.01 & -0.05 & -0.05 & 0.03 & 0.03\\\\\n",
       "  0.06 & -0.08 & -0.02 & 0.06 & 0.01 & 0.98 & 0.02 & 0.02 & 0.02 & 0.03\\\\\n",
       "  -0.05 & 0.01 & 0.02 & -0.07 & 0.01 & 0.03 & 0.95 & -0. & 0.09 & -0.04\\\\\n",
       "  -0.07 & 0.14 & -0.07 & 0.04 & -0.08 & 0.03 & -0.07 & 0.93 & -0.01 & 0.05\\\\\n",
       "  0.12 & -0.08 & -0.11 & 0.24 & -0.02 & -0.08 & 0.11 & -0.01 & 0.85 & 0.12\\\\\n",
       "  -0.04 & 0.02 & 0.04 & -0.1 & 0. & 0.03 & -0.01 & 0.01 & 0.04 & 0.96\\\\\n",
       "\\end{bmatrix}\\end{gather}"
      ],
      "text/plain": [
       "<IPython.core.display.Latex object>"
      ]
     },
     "execution_count": 43,
     "metadata": {},
     "output_type": "execute_result"
    }
   ],
   "source": [
    "from utils import array_to_latex\n",
    "from IPython.display import Latex\n",
    "\n",
    "validacao_exemplo_display = rede_exemplo_display.predict(vetor_x_exemplo_segmentos)\n",
    "\n",
    "validacao_exemplo_display = np.asarray(validacao_exemplo_display) \\\n",
    "                              .reshape(10, 10)                    \\\n",
    "                              .round(decimals = 2)\n",
    "\n",
    "Latex(r'\\begin{gather}' +\n",
    "      array_to_latex(vetor_x_exemplo_segmentos.reshape(10,7), 'X=') +\n",
    "      r'\\rightarrow' +\n",
    "      array_to_latex(validacao_exemplo_display, '') +\n",
    "      r'\\end{gather}')"
   ]
  }
 ],
 "metadata": {
  "interpreter": {
   "hash": "2308fd1a8fedd2595f1dedf285928c5d92d2b7d305ada798b0578469c13c3676"
  },
  "kernelspec": {
   "display_name": "Python 3.10.2 ('venv': venv)",
   "language": "python",
   "name": "python3"
  },
  "language_info": {
   "codemirror_mode": {
    "name": "ipython",
    "version": 3
   },
   "file_extension": ".py",
   "mimetype": "text/x-python",
   "name": "python",
   "nbconvert_exporter": "python",
   "pygments_lexer": "ipython3",
   "version": "3.10.2"
  },
  "orig_nbformat": 4
 },
 "nbformat": 4,
 "nbformat_minor": 2
}
