{
 "cells": [
  {
   "cell_type": "markdown",
   "metadata": {},
   "source": [
    "# Implementação e Exemplos"
   ]
  },
  {
   "cell_type": "markdown",
   "metadata": {},
   "source": [
    "## Função Custo (Erro)\n",
    "\n",
    "### EQM - Erro Quadrático Médio\n",
    "\n",
    "$$\n",
    "EQM = \\frac{1}{n} \\sum_{i} (y_{esperado} - y_{estimado})^2\n",
    "$$\n",
    "$$\n",
    "\\frac{\\partial EQM}{\\partial Y} = \\frac{2}{n} (y_{estimado} - y_{esperado})\n",
    "$$"
   ]
  },
  {
   "cell_type": "code",
   "execution_count": 198,
   "metadata": {},
   "outputs": [],
   "source": [
    "import numpy as np\n",
    "\n",
    "def erro_quadratico_medio(y_esperado: np.ndarray, y_calculado: np.ndarray) -> np.ndarray:\n",
    "    return np.mean(np.power(y_esperado-y_calculado, 2))\n",
    "\n",
    "def derivada_erro_quadratico_medio(y_esperado: np.ndarray, y_calculado: np.ndarray) -> np.ndarray:\n",
    "    n = y_esperado.size\n",
    "    return 2*(y_calculado - y_esperado)/n"
   ]
  },
  {
   "cell_type": "markdown",
   "metadata": {},
   "source": [
    "### Outras opções\n",
    "\n",
    "https://www.tensorflow.org/api_docs/python/tf/keras/losses"
   ]
  },
  {
   "cell_type": "markdown",
   "metadata": {},
   "source": [
    "## Uso em uma Rede Neural\n",
    "\n",
    "https://towardsdatascience.com/math-neural-network-from-scratch-in-python-d6da9f29ce65\n",
    "\n",
    "### Rede Neural - Camadas"
   ]
  },
  {
   "cell_type": "code",
   "execution_count": 199,
   "metadata": {},
   "outputs": [],
   "source": [
    "from abc import ABC\n",
    "import numpy as np\n",
    "from utils import array_to_latex\n",
    "\n",
    "\n",
    "class Camada(ABC):\n",
    "    def __init__(self):\n",
    "        self.entrada: np.ndarray = None\n",
    "        self.saida: np.ndarray = None\n",
    "\n",
    "    def forward_propagation(self, input, logs: list):\n",
    "        raise NotImplementedError\n",
    "\n",
    "    def backward_propagation(\n",
    "        self, output_error, taxa_aprendizado: np.number, logs: list\n",
    "    ):\n",
    "        raise NotImplementedError\n",
    "\n",
    "\n",
    "class FCLayer(Camada):\n",
    "    def __init__(self, tamanho_entrada: int, tamanho_saida: int):\n",
    "        self.pesos = np.random.rand(tamanho_entrada, tamanho_saida)\n",
    "        self.bias = np.random.rand(1, tamanho_saida)\n",
    "\n",
    "    def forward_propagation(self, entrada: np.ndarray, logs: list) -> np.ndarray:\n",
    "        self.entrada = entrada\n",
    "        self.saida = np.dot(self.entrada, self.pesos) + self.bias\n",
    "\n",
    "        logs.append(r\"Y = Xw + b\")\n",
    "        logs.append(\n",
    "            r\"\\begin{gather}\"\n",
    "            + array_to_latex(self.saida, \"\")\n",
    "            + r\" = \"\n",
    "            + array_to_latex(self.entrada, \"\")\n",
    "            + r\" \\cdot \"\n",
    "            + array_to_latex(self.pesos, \"\")\n",
    "            + r\" + \"\n",
    "            + array_to_latex(self.bias, \"\")\n",
    "            + r\"\\end{gather}\"\n",
    "        )\n",
    "\n",
    "        return self.saida\n",
    "\n",
    "    # computes dE/dW, dE/dB for a given output_error=dE/dY. Returns input_error=dE/dX.\n",
    "    def backward_propagation(\n",
    "        self, derivada_erro: np.ndarray, taxa_aprendizado: np.number, logs: list\n",
    "    ) -> np.ndarray:\n",
    "        derivada_erro_entrada = np.dot(derivada_erro, self.pesos.T)\n",
    "        pesos_erro = np.dot(self.entrada.T, derivada_erro)\n",
    "        pesos_atualizados = self.pesos - taxa_aprendizado * pesos_erro\n",
    "        bias_atualizados = self.bias - taxa_aprendizado * derivada_erro\n",
    "\n",
    "        logs.append(r\"W = W - \\lambda (X \\cdot \\nabla f_{custo})\")\n",
    "        logs.append(\n",
    "            r\"\\begin{gather}\"\n",
    "            + array_to_latex(pesos_atualizados, \"\")\n",
    "            + r\" = \"\n",
    "            + array_to_latex(self.pesos, \"\")\n",
    "            + f\" - {taxa_aprendizado}\"\n",
    "            + array_to_latex(self.entrada.T, \"\")\n",
    "            + r\" \\cdot \"\n",
    "            + array_to_latex(derivada_erro, \"\")\n",
    "            + r\"\\end{gather}\"\n",
    "        )\n",
    "\n",
    "        self.pesos = pesos_atualizados\n",
    "        self.bias = bias_atualizados\n",
    "\n",
    "        return derivada_erro_entrada\n",
    "\n",
    "\n",
    "class ActivationLayer(Camada):\n",
    "    def __init__(self, fn_de_ativacao, derivada_fn_de_ativacao):\n",
    "        self.fn_de_ativacao = fn_de_ativacao\n",
    "        self.derivada_fn_de_ativacao = derivada_fn_de_ativacao\n",
    "\n",
    "    def forward_propagation(self, entrada: np.ndarray, logs: list):\n",
    "        self.entrada = entrada\n",
    "        self.saida = self.fn_de_ativacao(self.entrada)\n",
    "\n",
    "        logs.append(r\"Y = \\sigma(X)\")\n",
    "        logs.append(\n",
    "            r\"\\begin{gather}\"\n",
    "            + array_to_latex(self.saida, \"\")\n",
    "            + r\" = \\sigma(\"\n",
    "            + array_to_latex(self.entrada, \"\")\n",
    "            + r\") \"\n",
    "            + r\"\\end{gather}\"\n",
    "        )\n",
    "\n",
    "        return self.saida\n",
    "\n",
    "    # Returns input_error=dE/dX for a given output_error=dE/dY.\n",
    "    # regra da cadeia\n",
    "    def backward_propagation(\n",
    "        self, derivada_erro: np.ndarray, taxa_aprendizado: np.number, logs: list\n",
    "    ):\n",
    "        logs.append(\n",
    "            r\"\\nabla = \\frac{\\partial E}{\\partial Y} \\frac{\\partial Y}{\\partial X}\"\n",
    "        )\n",
    "        logs.append(\n",
    "            r\"\\begin{gather}\"\n",
    "            + array_to_latex(self.saida, \"\")\n",
    "            + r\" = \\sigma(\"\n",
    "            + array_to_latex(self.entrada, \"\")\n",
    "            + r\") \"\n",
    "            + r\"\\end{gather}\"\n",
    "        )\n",
    "\n",
    "        return derivada_erro * self.derivada_fn_de_ativacao(self.entrada)\n"
   ]
  },
  {
   "cell_type": "markdown",
   "metadata": {},
   "source": [
    "### Rede Neural - Rede"
   ]
  },
  {
   "cell_type": "code",
   "execution_count": 200,
   "metadata": {},
   "outputs": [],
   "source": [
    "class RedeNeural:\n",
    "    def __init__(self, fn_custo: callable, derivada_fn_custo: callable):\n",
    "        self.camadas = []\n",
    "        self.logs = []\n",
    "        self.fn_custo = fn_custo\n",
    "        self.derivada_fn_custo = derivada_fn_custo\n",
    "\n",
    "    def add(self, camada):\n",
    "        self.camadas.append(camada)\n",
    "\n",
    "    def predict(self, entrada: np.ndarray) -> np.ndarray:\n",
    "        n_entradas = len(entrada)\n",
    "        resultado = []\n",
    "\n",
    "        for n in range(n_entradas):\n",
    "            saida = entrada[n]\n",
    "            for camada in self.camadas:\n",
    "                saida = camada.forward_propagation(saida, [])\n",
    "            resultado.append(saida)\n",
    "\n",
    "        return resultado\n",
    "\n",
    "    def treinar(\n",
    "        self,\n",
    "        vetor_x: np.ndarray,\n",
    "        y_esperado: np.ndarray,\n",
    "        max_n_iteracoes: int,\n",
    "        taxa_aprendizado: np.number,\n",
    "    ):\n",
    "        n_amostras = len(vetor_x)\n",
    "        for iteracao in range(max_n_iteracoes):\n",
    "            self.logs.append([])\n",
    "            soma_erros = 0\n",
    "            for n in range(n_amostras):\n",
    "\n",
    "                output = vetor_x[n]\n",
    "                for indice_camada, camada in enumerate(self.camadas):\n",
    "                    self.logs[iteracao].append(f\"Camada: {indice_camada}\")\n",
    "                    output = camada.forward_propagation(output, self.logs[iteracao])\n",
    "\n",
    "                erro = self.fn_custo(y_esperado[n], output)\n",
    "                soma_erros += erro\n",
    "                self.logs[iteracao].append(\n",
    "                    r\"f_{custo}(\"\n",
    "                    + array_to_latex(y_esperado[n], \"\")\n",
    "                    + r\",\"\n",
    "                    + array_to_latex(output, \"\")\n",
    "                    + r\") = \"\n",
    "                    + array_to_latex(erro, \"\")\n",
    "                )\n",
    "\n",
    "                valor_derivada_erro = self.derivada_fn_custo(y_esperado[n], output)\n",
    "                for indice_camada, camada in enumerate(reversed(self.camadas)):\n",
    "                    self.logs[iteracao].append(\n",
    "                        r\"\\nabla f_{custo} = \\frac{\\partial E}{\\partial Y} = \"\n",
    "                        + array_to_latex(valor_derivada_erro, \"\")\n",
    "                    )\n",
    "                    self.logs[iteracao].append(\n",
    "                        f\"Camada: {len(self.camadas) - indice_camada -1}\"\n",
    "                    )\n",
    "                    valor_derivada_erro = camada.backward_propagation(\n",
    "                        valor_derivada_erro, taxa_aprendizado, self.logs[iteracao]\n",
    "                    )\n",
    "\n",
    "            media_erros = soma_erros / n_amostras\n",
    "            if iteracao < 5 or np.log10(iteracao + 1).is_integer():\n",
    "                print(\n",
    "                    \"Iteração %d/%d   MédiaErro=%f\"\n",
    "                    % (iteracao + 1, max_n_iteracoes, media_erros)\n",
    "                )\n",
    "            if media_erros < 0.01:\n",
    "                print(\n",
    "                    \"Iteração %d/%d MédiaErro=%f\"\n",
    "                    % (iteracao + 1, max_n_iteracoes, media_erros)\n",
    "                )\n",
    "                break\n"
   ]
  },
  {
   "cell_type": "markdown",
   "metadata": {},
   "source": [
    "### Rede Neural - Função de Ativação (Sigmóide)\n",
    "\n",
    "$$\n",
    "\\sigma(x) = \\frac{1}{1 - e^{-x}} \n",
    "$$\n",
    "\n",
    "$$\n",
    "\\frac{d \\sigma}{dx} = \\sigma(x) (1 - \\sigma(x))\n",
    "$$\n",
    "\n",
    "https://towardsdatascience.com/derivative-of-the-sigmoid-function-536880cf918e"
   ]
  },
  {
   "cell_type": "code",
   "execution_count": 201,
   "metadata": {},
   "outputs": [],
   "source": [
    "import numpy as np\n",
    "\n",
    "\n",
    "def sigmoide(x: np.ndarray) -> np.ndarray:\n",
    "    return 1 / (1 + np.exp(-x))\n",
    "\n",
    "\n",
    "def derivada_sigmoide(x: np.number) -> np.number:\n",
    "    sigmoide_x = sigmoide(x)\n",
    "    return sigmoide_x * (1 - sigmoide_x)\n"
   ]
  },
  {
   "cell_type": "markdown",
   "metadata": {},
   "source": [
    "## Exemplo: Ou Exclusivo (XOR)\n",
    "\n",
    "Operador retorna verdadeiro apenas caso entradas A ou B {(verdadeiro, falso) ou (falso, verdadeiro)} sejam verdadeiras, retornando falso caso ambas sejam verdadeiras ou ainda caso nenhuma seja.\n",
    "\n",
    "### Entradas e Saídas Esperadas"
   ]
  },
  {
   "cell_type": "code",
   "execution_count": 202,
   "metadata": {},
   "outputs": [],
   "source": [
    "vetor_x_exemplo_XOR = np.array([[[0, 0]], [[0, 1]], [[1, 0]], [[1, 1]]])\n",
    "vetor_y_esperado_exemplo_XOR = np.array([[[0]], [[1]], [[1]], [[0]]])\n"
   ]
  },
  {
   "cell_type": "markdown",
   "metadata": {},
   "source": [
    "### Rede\n",
    "\n"
   ]
  },
  {
   "cell_type": "code",
   "execution_count": 203,
   "metadata": {},
   "outputs": [],
   "source": [
    "rede_exemplo_XOR = RedeNeural(erro_quadratico_medio, derivada_erro_quadratico_medio)\n",
    "rede_exemplo_XOR.add(FCLayer(2, 2))\n",
    "rede_exemplo_XOR.add(ActivationLayer(sigmoide, derivada_sigmoide))\n",
    "rede_exemplo_XOR.add(FCLayer(2, 1))\n"
   ]
  },
  {
   "cell_type": "markdown",
   "metadata": {},
   "source": [
    "### Treinamento"
   ]
  },
  {
   "cell_type": "code",
   "execution_count": 204,
   "metadata": {},
   "outputs": [
    {
     "name": "stdout",
     "output_type": "stream",
     "text": [
      "Iteração 1/1000   MédiaErro=1.828131\n",
      "Iteração 2/1000   MédiaErro=0.641051\n",
      "Iteração 3/1000   MédiaErro=0.428826\n",
      "Iteração 4/1000   MédiaErro=0.441562\n",
      "Iteração 5/1000   MédiaErro=0.450788\n",
      "Iteração 10/1000   MédiaErro=0.481324\n",
      "Iteração 57/1000   MédiaErro=0.008116\n"
     ]
    },
    {
     "data": {
      "text/latex": [
       "Camada: 0"
      ],
      "text/plain": [
       "<IPython.core.display.Latex object>"
      ]
     },
     "metadata": {},
     "output_type": "display_data"
    },
    {
     "data": {
      "text/latex": [
       "Y = Xw + b"
      ],
      "text/plain": [
       "<IPython.core.display.Latex object>"
      ]
     },
     "metadata": {},
     "output_type": "display_data"
    },
    {
     "data": {
      "text/latex": [
       "\\begin{gather}\n",
       "\\begin{bmatrix}\n",
       "  0.54362561 & 0.54700237\\\\\n",
       "\\end{bmatrix} = \n",
       "\\begin{bmatrix}\n",
       "  0 & 0\\\\\n",
       "\\end{bmatrix} \\cdot \n",
       "\\begin{bmatrix}\n",
       "  0.46304182 & 0.38796033\\\\\n",
       "  0.12584248 & 0.59862819\\\\\n",
       "\\end{bmatrix} + \n",
       "\\begin{bmatrix}\n",
       "  0.54362561 & 0.54700237\\\\\n",
       "\\end{bmatrix}\\end{gather}"
      ],
      "text/plain": [
       "<IPython.core.display.Latex object>"
      ]
     },
     "metadata": {},
     "output_type": "display_data"
    },
    {
     "data": {
      "text/latex": [
       "Camada: 1"
      ],
      "text/plain": [
       "<IPython.core.display.Latex object>"
      ]
     },
     "metadata": {},
     "output_type": "display_data"
    },
    {
     "data": {
      "text/latex": [
       "Y = \\sigma(X)"
      ],
      "text/plain": [
       "<IPython.core.display.Latex object>"
      ]
     },
     "metadata": {},
     "output_type": "display_data"
    },
    {
     "data": {
      "text/latex": [
       "\\begin{gather}\n",
       "\\begin{bmatrix}\n",
       "  0.63265542 & 0.63343984\\\\\n",
       "\\end{bmatrix} = \\sigma(\n",
       "\\begin{bmatrix}\n",
       "  0.54362561 & 0.54700237\\\\\n",
       "\\end{bmatrix}) \\end{gather}"
      ],
      "text/plain": [
       "<IPython.core.display.Latex object>"
      ]
     },
     "metadata": {},
     "output_type": "display_data"
    },
    {
     "data": {
      "text/latex": [
       "Camada: 2"
      ],
      "text/plain": [
       "<IPython.core.display.Latex object>"
      ]
     },
     "metadata": {},
     "output_type": "display_data"
    },
    {
     "data": {
      "text/latex": [
       "Y = Xw + b"
      ],
      "text/plain": [
       "<IPython.core.display.Latex object>"
      ]
     },
     "metadata": {},
     "output_type": "display_data"
    },
    {
     "data": {
      "text/latex": [
       "\\begin{gather}\n",
       "\\begin{bmatrix}\n",
       "  0.8809796\\\\\n",
       "\\end{bmatrix} = \n",
       "\\begin{bmatrix}\n",
       "  0.63265542 & 0.63343984\\\\\n",
       "\\end{bmatrix} \\cdot \n",
       "\\begin{bmatrix}\n",
       "  0.18219188\\\\\n",
       "  0.0418274\\\\\n",
       "\\end{bmatrix} + \n",
       "\\begin{bmatrix}\n",
       "  0.73921978\\\\\n",
       "\\end{bmatrix}\\end{gather}"
      ],
      "text/plain": [
       "<IPython.core.display.Latex object>"
      ]
     },
     "metadata": {},
     "output_type": "display_data"
    },
    {
     "data": {
      "text/latex": [
       "f_{custo}(\n",
       "\\begin{bmatrix}\n",
       "  0\\\\\n",
       "\\end{bmatrix},\n",
       "\\begin{bmatrix}\n",
       "  0.8809796\\\\\n",
       "\\end{bmatrix}) = \n",
       "\\begin{bmatrix}\n",
       "  0.7761250559933652\\\\\n",
       "\\end{bmatrix}"
      ],
      "text/plain": [
       "<IPython.core.display.Latex object>"
      ]
     },
     "metadata": {},
     "output_type": "display_data"
    },
    {
     "data": {
      "text/latex": [
       "\\nabla f_{custo} = \\frac{\\partial E}{\\partial Y} = \n",
       "\\begin{bmatrix}\n",
       "  1.7619592\\\\\n",
       "\\end{bmatrix}"
      ],
      "text/plain": [
       "<IPython.core.display.Latex object>"
      ]
     },
     "metadata": {},
     "output_type": "display_data"
    },
    {
     "data": {
      "text/latex": [
       "Camada: 2"
      ],
      "text/plain": [
       "<IPython.core.display.Latex object>"
      ]
     },
     "metadata": {},
     "output_type": "display_data"
    },
    {
     "data": {
      "text/latex": [
       "W = W - \\lambda (X \\cdot \\nabla f_{custo})"
      ],
      "text/plain": [
       "<IPython.core.display.Latex object>"
      ]
     },
     "metadata": {},
     "output_type": "display_data"
    },
    {
     "data": {
      "text/latex": [
       "\\begin{gather}\n",
       "\\begin{bmatrix}\n",
       "  -0.37516464\\\\\n",
       "  -0.51622018\\\\\n",
       "\\end{bmatrix} = \n",
       "\\begin{bmatrix}\n",
       "  0.18219188\\\\\n",
       "  0.0418274\\\\\n",
       "\\end{bmatrix} - 0.5\n",
       "\\begin{bmatrix}\n",
       "  0.63265542\\\\\n",
       "  0.63343984\\\\\n",
       "\\end{bmatrix} \\cdot \n",
       "\\begin{bmatrix}\n",
       "  1.7619592\\\\\n",
       "\\end{bmatrix}\\end{gather}"
      ],
      "text/plain": [
       "<IPython.core.display.Latex object>"
      ]
     },
     "metadata": {},
     "output_type": "display_data"
    },
    {
     "data": {
      "text/latex": [
       "\\nabla f_{custo} = \\frac{\\partial E}{\\partial Y} = \n",
       "\\begin{bmatrix}\n",
       "  0.32101466 & 0.07369816\\\\\n",
       "\\end{bmatrix}"
      ],
      "text/plain": [
       "<IPython.core.display.Latex object>"
      ]
     },
     "metadata": {},
     "output_type": "display_data"
    },
    {
     "data": {
      "text/latex": [
       "Camada: 1"
      ],
      "text/plain": [
       "<IPython.core.display.Latex object>"
      ]
     },
     "metadata": {},
     "output_type": "display_data"
    },
    {
     "data": {
      "text/latex": [
       "\\nabla = \\frac{\\partial E}{\\partial Y} \\frac{\\partial Y}{\\partial X}"
      ],
      "text/plain": [
       "<IPython.core.display.Latex object>"
      ]
     },
     "metadata": {},
     "output_type": "display_data"
    },
    {
     "data": {
      "text/latex": [
       "\\begin{gather}\n",
       "\\begin{bmatrix}\n",
       "  0.63265542 & 0.63343984\\\\\n",
       "\\end{bmatrix} = \\sigma(\n",
       "\\begin{bmatrix}\n",
       "  0.54362561 & 0.54700237\\\\\n",
       "\\end{bmatrix}) \\end{gather}"
      ],
      "text/plain": [
       "<IPython.core.display.Latex object>"
      ]
     },
     "metadata": {},
     "output_type": "display_data"
    },
    {
     "data": {
      "text/latex": [
       "\\nabla f_{custo} = \\frac{\\partial E}{\\partial Y} = \n",
       "\\begin{bmatrix}\n",
       "  0.07460462 & 0.01711226\\\\\n",
       "\\end{bmatrix}"
      ],
      "text/plain": [
       "<IPython.core.display.Latex object>"
      ]
     },
     "metadata": {},
     "output_type": "display_data"
    },
    {
     "data": {
      "text/latex": [
       "Camada: 0"
      ],
      "text/plain": [
       "<IPython.core.display.Latex object>"
      ]
     },
     "metadata": {},
     "output_type": "display_data"
    },
    {
     "data": {
      "text/latex": [
       "W = W - \\lambda (X \\cdot \\nabla f_{custo})"
      ],
      "text/plain": [
       "<IPython.core.display.Latex object>"
      ]
     },
     "metadata": {},
     "output_type": "display_data"
    },
    {
     "data": {
      "text/latex": [
       "\\begin{gather}\n",
       "\\begin{bmatrix}\n",
       "  0.46304182 & 0.38796033\\\\\n",
       "  0.12584248 & 0.59862819\\\\\n",
       "\\end{bmatrix} = \n",
       "\\begin{bmatrix}\n",
       "  0.46304182 & 0.38796033\\\\\n",
       "  0.12584248 & 0.59862819\\\\\n",
       "\\end{bmatrix} - 0.5\n",
       "\\begin{bmatrix}\n",
       "  0\\\\\n",
       "  0\\\\\n",
       "\\end{bmatrix} \\cdot \n",
       "\\begin{bmatrix}\n",
       "  0.07460462 & 0.01711226\\\\\n",
       "\\end{bmatrix}\\end{gather}"
      ],
      "text/plain": [
       "<IPython.core.display.Latex object>"
      ]
     },
     "metadata": {},
     "output_type": "display_data"
    },
    {
     "data": {
      "text/latex": [
       "Camada: 0"
      ],
      "text/plain": [
       "<IPython.core.display.Latex object>"
      ]
     },
     "metadata": {},
     "output_type": "display_data"
    },
    {
     "data": {
      "text/latex": [
       "Y = Xw + b"
      ],
      "text/plain": [
       "<IPython.core.display.Latex object>"
      ]
     },
     "metadata": {},
     "output_type": "display_data"
    },
    {
     "data": {
      "text/latex": [
       "\\begin{gather}\n",
       "\\begin{bmatrix}\n",
       "  0.63216578 & 1.13707444\\\\\n",
       "\\end{bmatrix} = \n",
       "\\begin{bmatrix}\n",
       "  0 & 1\\\\\n",
       "\\end{bmatrix} \\cdot \n",
       "\\begin{bmatrix}\n",
       "  0.46304182 & 0.38796033\\\\\n",
       "  0.12584248 & 0.59862819\\\\\n",
       "\\end{bmatrix} + \n",
       "\\begin{bmatrix}\n",
       "  0.5063233 & 0.53844624\\\\\n",
       "\\end{bmatrix}\\end{gather}"
      ],
      "text/plain": [
       "<IPython.core.display.Latex object>"
      ]
     },
     "metadata": {},
     "output_type": "display_data"
    },
    {
     "data": {
      "text/latex": [
       "Camada: 1"
      ],
      "text/plain": [
       "<IPython.core.display.Latex object>"
      ]
     },
     "metadata": {},
     "output_type": "display_data"
    },
    {
     "data": {
      "text/latex": [
       "Y = \\sigma(X)"
      ],
      "text/plain": [
       "<IPython.core.display.Latex object>"
      ]
     },
     "metadata": {},
     "output_type": "display_data"
    },
    {
     "data": {
      "text/latex": [
       "\\begin{gather}\n",
       "\\begin{bmatrix}\n",
       "  0.65298038 & 0.7571421\\\\\n",
       "\\end{bmatrix} = \\sigma(\n",
       "\\begin{bmatrix}\n",
       "  0.63216578 & 1.13707444\\\\\n",
       "\\end{bmatrix}) \\end{gather}"
      ],
      "text/plain": [
       "<IPython.core.display.Latex object>"
      ]
     },
     "metadata": {},
     "output_type": "display_data"
    },
    {
     "data": {
      "text/latex": [
       "Camada: 2"
      ],
      "text/plain": [
       "<IPython.core.display.Latex object>"
      ]
     },
     "metadata": {},
     "output_type": "display_data"
    },
    {
     "data": {
      "text/latex": [
       "Y = Xw + b"
      ],
      "text/plain": [
       "<IPython.core.display.Latex object>"
      ]
     },
     "metadata": {},
     "output_type": "display_data"
    },
    {
     "data": {
      "text/latex": [
       "\\begin{gather}\n",
       "\\begin{bmatrix}\n",
       "  -0.777587\\\\\n",
       "\\end{bmatrix} = \n",
       "\\begin{bmatrix}\n",
       "  0.65298038 & 0.7571421\\\\\n",
       "\\end{bmatrix} \\cdot \n",
       "\\begin{bmatrix}\n",
       "  -0.37516464\\\\\n",
       "  -0.51622018\\\\\n",
       "\\end{bmatrix} + \n",
       "\\begin{bmatrix}\n",
       "  -0.14175982\\\\\n",
       "\\end{bmatrix}\\end{gather}"
      ],
      "text/plain": [
       "<IPython.core.display.Latex object>"
      ]
     },
     "metadata": {},
     "output_type": "display_data"
    },
    {
     "data": {
      "text/latex": [
       "f_{custo}(\n",
       "\\begin{bmatrix}\n",
       "  1\\\\\n",
       "\\end{bmatrix},\n",
       "\\begin{bmatrix}\n",
       "  -0.777587\\\\\n",
       "\\end{bmatrix}) = \n",
       "\\begin{bmatrix}\n",
       "  3.1598155510948813\\\\\n",
       "\\end{bmatrix}"
      ],
      "text/plain": [
       "<IPython.core.display.Latex object>"
      ]
     },
     "metadata": {},
     "output_type": "display_data"
    },
    {
     "data": {
      "text/latex": [
       "\\nabla f_{custo} = \\frac{\\partial E}{\\partial Y} = \n",
       "\\begin{bmatrix}\n",
       "  -3.555174\\\\\n",
       "\\end{bmatrix}"
      ],
      "text/plain": [
       "<IPython.core.display.Latex object>"
      ]
     },
     "metadata": {},
     "output_type": "display_data"
    },
    {
     "data": {
      "text/latex": [
       "Camada: 2"
      ],
      "text/plain": [
       "<IPython.core.display.Latex object>"
      ]
     },
     "metadata": {},
     "output_type": "display_data"
    },
    {
     "data": {
      "text/latex": [
       "W = W - \\lambda (X \\cdot \\nabla f_{custo})"
      ],
      "text/plain": [
       "<IPython.core.display.Latex object>"
      ]
     },
     "metadata": {},
     "output_type": "display_data"
    },
    {
     "data": {
      "text/latex": [
       "\\begin{gather}\n",
       "\\begin{bmatrix}\n",
       "  0.7855648\\\\\n",
       "  0.82966577\\\\\n",
       "\\end{bmatrix} = \n",
       "\\begin{bmatrix}\n",
       "  -0.37516464\\\\\n",
       "  -0.51622018\\\\\n",
       "\\end{bmatrix} - 0.5\n",
       "\\begin{bmatrix}\n",
       "  0.65298038\\\\\n",
       "  0.7571421\\\\\n",
       "\\end{bmatrix} \\cdot \n",
       "\\begin{bmatrix}\n",
       "  -3.555174\\\\\n",
       "\\end{bmatrix}\\end{gather}"
      ],
      "text/plain": [
       "<IPython.core.display.Latex object>"
      ]
     },
     "metadata": {},
     "output_type": "display_data"
    },
    {
     "data": {
      "text/latex": [
       "\\nabla f_{custo} = \\frac{\\partial E}{\\partial Y} = \n",
       "\\begin{bmatrix}\n",
       "  1.33377558 & 1.83525257\\\\\n",
       "\\end{bmatrix}"
      ],
      "text/plain": [
       "<IPython.core.display.Latex object>"
      ]
     },
     "metadata": {},
     "output_type": "display_data"
    },
    {
     "data": {
      "text/latex": [
       "Camada: 1"
      ],
      "text/plain": [
       "<IPython.core.display.Latex object>"
      ]
     },
     "metadata": {},
     "output_type": "display_data"
    },
    {
     "data": {
      "text/latex": [
       "\\nabla = \\frac{\\partial E}{\\partial Y} \\frac{\\partial Y}{\\partial X}"
      ],
      "text/plain": [
       "<IPython.core.display.Latex object>"
      ]
     },
     "metadata": {},
     "output_type": "display_data"
    },
    {
     "data": {
      "text/latex": [
       "\\begin{gather}\n",
       "\\begin{bmatrix}\n",
       "  0.65298038 & 0.7571421\\\\\n",
       "\\end{bmatrix} = \\sigma(\n",
       "\\begin{bmatrix}\n",
       "  0.63216578 & 1.13707444\\\\\n",
       "\\end{bmatrix}) \\end{gather}"
      ],
      "text/plain": [
       "<IPython.core.display.Latex object>"
      ]
     },
     "metadata": {},
     "output_type": "display_data"
    },
    {
     "data": {
      "text/latex": [
       "\\nabla f_{custo} = \\frac{\\partial E}{\\partial Y} = \n",
       "\\begin{bmatrix}\n",
       "  0.30222955 & 0.33746247\\\\\n",
       "\\end{bmatrix}"
      ],
      "text/plain": [
       "<IPython.core.display.Latex object>"
      ]
     },
     "metadata": {},
     "output_type": "display_data"
    },
    {
     "data": {
      "text/latex": [
       "Camada: 0"
      ],
      "text/plain": [
       "<IPython.core.display.Latex object>"
      ]
     },
     "metadata": {},
     "output_type": "display_data"
    },
    {
     "data": {
      "text/latex": [
       "W = W - \\lambda (X \\cdot \\nabla f_{custo})"
      ],
      "text/plain": [
       "<IPython.core.display.Latex object>"
      ]
     },
     "metadata": {},
     "output_type": "display_data"
    },
    {
     "data": {
      "text/latex": [
       "\\begin{gather}\n",
       "\\begin{bmatrix}\n",
       "  0.46304182 & 0.38796033\\\\\n",
       "  -0.02527229 & 0.42989696\\\\\n",
       "\\end{bmatrix} = \n",
       "\\begin{bmatrix}\n",
       "  0.46304182 & 0.38796033\\\\\n",
       "  0.12584248 & 0.59862819\\\\\n",
       "\\end{bmatrix} - 0.5\n",
       "\\begin{bmatrix}\n",
       "  0\\\\\n",
       "  1\\\\\n",
       "\\end{bmatrix} \\cdot \n",
       "\\begin{bmatrix}\n",
       "  0.30222955 & 0.33746247\\\\\n",
       "\\end{bmatrix}\\end{gather}"
      ],
      "text/plain": [
       "<IPython.core.display.Latex object>"
      ]
     },
     "metadata": {},
     "output_type": "display_data"
    },
    {
     "data": {
      "text/latex": [
       "Camada: 0"
      ],
      "text/plain": [
       "<IPython.core.display.Latex object>"
      ]
     },
     "metadata": {},
     "output_type": "display_data"
    },
    {
     "data": {
      "text/latex": [
       "Y = Xw + b"
      ],
      "text/plain": [
       "<IPython.core.display.Latex object>"
      ]
     },
     "metadata": {},
     "output_type": "display_data"
    },
    {
     "data": {
      "text/latex": [
       "\\begin{gather}\n",
       "\\begin{bmatrix}\n",
       "  0.81825035 & 0.75767534\\\\\n",
       "\\end{bmatrix} = \n",
       "\\begin{bmatrix}\n",
       "  1 & 0\\\\\n",
       "\\end{bmatrix} \\cdot \n",
       "\\begin{bmatrix}\n",
       "  0.46304182 & 0.38796033\\\\\n",
       "  -0.02527229 & 0.42989696\\\\\n",
       "\\end{bmatrix} + \n",
       "\\begin{bmatrix}\n",
       "  0.35520853 & 0.36971501\\\\\n",
       "\\end{bmatrix}\\end{gather}"
      ],
      "text/plain": [
       "<IPython.core.display.Latex object>"
      ]
     },
     "metadata": {},
     "output_type": "display_data"
    },
    {
     "data": {
      "text/latex": [
       "Camada: 1"
      ],
      "text/plain": [
       "<IPython.core.display.Latex object>"
      ]
     },
     "metadata": {},
     "output_type": "display_data"
    },
    {
     "data": {
      "text/latex": [
       "Y = \\sigma(X)"
      ],
      "text/plain": [
       "<IPython.core.display.Latex object>"
      ]
     },
     "metadata": {},
     "output_type": "display_data"
    },
    {
     "data": {
      "text/latex": [
       "\\begin{gather}\n",
       "\\begin{bmatrix}\n",
       "  0.69386481 & 0.68084881\\\\\n",
       "\\end{bmatrix} = \\sigma(\n",
       "\\begin{bmatrix}\n",
       "  0.81825035 & 0.75767534\\\\\n",
       "\\end{bmatrix}) \\end{gather}"
      ],
      "text/plain": [
       "<IPython.core.display.Latex object>"
      ]
     },
     "metadata": {},
     "output_type": "display_data"
    },
    {
     "data": {
      "text/latex": [
       "Camada: 2"
      ],
      "text/plain": [
       "<IPython.core.display.Latex object>"
      ]
     },
     "metadata": {},
     "output_type": "display_data"
    },
    {
     "data": {
      "text/latex": [
       "Y = Xw + b"
      ],
      "text/plain": [
       "<IPython.core.display.Latex object>"
      ]
     },
     "metadata": {},
     "output_type": "display_data"
    },
    {
     "data": {
      "text/latex": [
       "\\begin{gather}\n",
       "\\begin{bmatrix}\n",
       "  2.74577991\\\\\n",
       "\\end{bmatrix} = \n",
       "\\begin{bmatrix}\n",
       "  0.69386481 & 0.68084881\\\\\n",
       "\\end{bmatrix} \\cdot \n",
       "\\begin{bmatrix}\n",
       "  0.7855648\\\\\n",
       "  0.82966577\\\\\n",
       "\\end{bmatrix} + \n",
       "\\begin{bmatrix}\n",
       "  1.63582718\\\\\n",
       "\\end{bmatrix}\\end{gather}"
      ],
      "text/plain": [
       "<IPython.core.display.Latex object>"
      ]
     },
     "metadata": {},
     "output_type": "display_data"
    },
    {
     "data": {
      "text/latex": [
       "f_{custo}(\n",
       "\\begin{bmatrix}\n",
       "  1\\\\\n",
       "\\end{bmatrix},\n",
       "\\begin{bmatrix}\n",
       "  2.74577991\\\\\n",
       "\\end{bmatrix}) = \n",
       "\\begin{bmatrix}\n",
       "  3.047747499816162\\\\\n",
       "\\end{bmatrix}"
      ],
      "text/plain": [
       "<IPython.core.display.Latex object>"
      ]
     },
     "metadata": {},
     "output_type": "display_data"
    },
    {
     "data": {
      "text/latex": [
       "\\nabla f_{custo} = \\frac{\\partial E}{\\partial Y} = \n",
       "\\begin{bmatrix}\n",
       "  3.49155982\\\\\n",
       "\\end{bmatrix}"
      ],
      "text/plain": [
       "<IPython.core.display.Latex object>"
      ]
     },
     "metadata": {},
     "output_type": "display_data"
    },
    {
     "data": {
      "text/latex": [
       "Camada: 2"
      ],
      "text/plain": [
       "<IPython.core.display.Latex object>"
      ]
     },
     "metadata": {},
     "output_type": "display_data"
    },
    {
     "data": {
      "text/latex": [
       "W = W - \\lambda (X \\cdot \\nabla f_{custo})"
      ],
      "text/plain": [
       "<IPython.core.display.Latex object>"
      ]
     },
     "metadata": {},
     "output_type": "display_data"
    },
    {
     "data": {
      "text/latex": [
       "\\begin{gather}\n",
       "\\begin{bmatrix}\n",
       "  -0.42577045\\\\\n",
       "  -0.35894641\\\\\n",
       "\\end{bmatrix} = \n",
       "\\begin{bmatrix}\n",
       "  0.7855648\\\\\n",
       "  0.82966577\\\\\n",
       "\\end{bmatrix} - 0.5\n",
       "\\begin{bmatrix}\n",
       "  0.69386481\\\\\n",
       "  0.68084881\\\\\n",
       "\\end{bmatrix} \\cdot \n",
       "\\begin{bmatrix}\n",
       "  3.49155982\\\\\n",
       "\\end{bmatrix}\\end{gather}"
      ],
      "text/plain": [
       "<IPython.core.display.Latex object>"
      ]
     },
     "metadata": {},
     "output_type": "display_data"
    },
    {
     "data": {
      "text/latex": [
       "\\nabla f_{custo} = \\frac{\\partial E}{\\partial Y} = \n",
       "\\begin{bmatrix}\n",
       "  2.74284651 & 2.89682767\\\\\n",
       "\\end{bmatrix}"
      ],
      "text/plain": [
       "<IPython.core.display.Latex object>"
      ]
     },
     "metadata": {},
     "output_type": "display_data"
    },
    {
     "data": {
      "text/latex": [
       "Camada: 1"
      ],
      "text/plain": [
       "<IPython.core.display.Latex object>"
      ]
     },
     "metadata": {},
     "output_type": "display_data"
    },
    {
     "data": {
      "text/latex": [
       "\\nabla = \\frac{\\partial E}{\\partial Y} \\frac{\\partial Y}{\\partial X}"
      ],
      "text/plain": [
       "<IPython.core.display.Latex object>"
      ]
     },
     "metadata": {},
     "output_type": "display_data"
    },
    {
     "data": {
      "text/latex": [
       "\\begin{gather}\n",
       "\\begin{bmatrix}\n",
       "  0.69386481 & 0.68084881\\\\\n",
       "\\end{bmatrix} = \\sigma(\n",
       "\\begin{bmatrix}\n",
       "  0.81825035 & 0.75767534\\\\\n",
       "\\end{bmatrix}) \\end{gather}"
      ],
      "text/plain": [
       "<IPython.core.display.Latex object>"
      ]
     },
     "metadata": {},
     "output_type": "display_data"
    },
    {
     "data": {
      "text/latex": [
       "\\nabla f_{custo} = \\frac{\\partial E}{\\partial Y} = \n",
       "\\begin{bmatrix}\n",
       "  0.58262568 & 0.62946242\\\\\n",
       "\\end{bmatrix}"
      ],
      "text/plain": [
       "<IPython.core.display.Latex object>"
      ]
     },
     "metadata": {},
     "output_type": "display_data"
    },
    {
     "data": {
      "text/latex": [
       "Camada: 0"
      ],
      "text/plain": [
       "<IPython.core.display.Latex object>"
      ]
     },
     "metadata": {},
     "output_type": "display_data"
    },
    {
     "data": {
      "text/latex": [
       "W = W - \\lambda (X \\cdot \\nabla f_{custo})"
      ],
      "text/plain": [
       "<IPython.core.display.Latex object>"
      ]
     },
     "metadata": {},
     "output_type": "display_data"
    },
    {
     "data": {
      "text/latex": [
       "\\begin{gather}\n",
       "\\begin{bmatrix}\n",
       "  0.17172899 & 0.07322912\\\\\n",
       "  -0.02527229 & 0.42989696\\\\\n",
       "\\end{bmatrix} = \n",
       "\\begin{bmatrix}\n",
       "  0.46304182 & 0.38796033\\\\\n",
       "  -0.02527229 & 0.42989696\\\\\n",
       "\\end{bmatrix} - 0.5\n",
       "\\begin{bmatrix}\n",
       "  1\\\\\n",
       "  0\\\\\n",
       "\\end{bmatrix} \\cdot \n",
       "\\begin{bmatrix}\n",
       "  0.58262568 & 0.62946242\\\\\n",
       "\\end{bmatrix}\\end{gather}"
      ],
      "text/plain": [
       "<IPython.core.display.Latex object>"
      ]
     },
     "metadata": {},
     "output_type": "display_data"
    },
    {
     "data": {
      "text/latex": [
       "Camada: 0"
      ],
      "text/plain": [
       "<IPython.core.display.Latex object>"
      ]
     },
     "metadata": {},
     "output_type": "display_data"
    },
    {
     "data": {
      "text/latex": [
       "Y = Xw + b"
      ],
      "text/plain": [
       "<IPython.core.display.Latex object>"
      ]
     },
     "metadata": {},
     "output_type": "display_data"
    },
    {
     "data": {
      "text/latex": [
       "\\begin{gather}\n",
       "\\begin{bmatrix}\n",
       "  0.21035238 & 0.55810988\\\\\n",
       "\\end{bmatrix} = \n",
       "\\begin{bmatrix}\n",
       "  1 & 1\\\\\n",
       "\\end{bmatrix} \\cdot \n",
       "\\begin{bmatrix}\n",
       "  0.17172899 & 0.07322912\\\\\n",
       "  -0.02527229 & 0.42989696\\\\\n",
       "\\end{bmatrix} + \n",
       "\\begin{bmatrix}\n",
       "  0.06389569 & 0.0549838\\\\\n",
       "\\end{bmatrix}\\end{gather}"
      ],
      "text/plain": [
       "<IPython.core.display.Latex object>"
      ]
     },
     "metadata": {},
     "output_type": "display_data"
    },
    {
     "data": {
      "text/latex": [
       "Camada: 1"
      ],
      "text/plain": [
       "<IPython.core.display.Latex object>"
      ]
     },
     "metadata": {},
     "output_type": "display_data"
    },
    {
     "data": {
      "text/latex": [
       "Y = \\sigma(X)"
      ],
      "text/plain": [
       "<IPython.core.display.Latex object>"
      ]
     },
     "metadata": {},
     "output_type": "display_data"
    },
    {
     "data": {
      "text/latex": [
       "\\begin{gather}\n",
       "\\begin{bmatrix}\n",
       "  0.55239504 & 0.63601509\\\\\n",
       "\\end{bmatrix} = \\sigma(\n",
       "\\begin{bmatrix}\n",
       "  0.21035238 & 0.55810988\\\\\n",
       "\\end{bmatrix}) \\end{gather}"
      ],
      "text/plain": [
       "<IPython.core.display.Latex object>"
      ]
     },
     "metadata": {},
     "output_type": "display_data"
    },
    {
     "data": {
      "text/latex": [
       "Camada: 2"
      ],
      "text/plain": [
       "<IPython.core.display.Latex object>"
      ]
     },
     "metadata": {},
     "output_type": "display_data"
    },
    {
     "data": {
      "text/latex": [
       "Y = Xw + b"
      ],
      "text/plain": [
       "<IPython.core.display.Latex object>"
      ]
     },
     "metadata": {},
     "output_type": "display_data"
    },
    {
     "data": {
      "text/latex": [
       "\\begin{gather}\n",
       "\\begin{bmatrix}\n",
       "  -0.57344155\\\\\n",
       "\\end{bmatrix} = \n",
       "\\begin{bmatrix}\n",
       "  0.55239504 & 0.63601509\\\\\n",
       "\\end{bmatrix} \\cdot \n",
       "\\begin{bmatrix}\n",
       "  -0.42577045\\\\\n",
       "  -0.35894641\\\\\n",
       "\\end{bmatrix} + \n",
       "\\begin{bmatrix}\n",
       "  -0.10995273\\\\\n",
       "\\end{bmatrix}\\end{gather}"
      ],
      "text/plain": [
       "<IPython.core.display.Latex object>"
      ]
     },
     "metadata": {},
     "output_type": "display_data"
    },
    {
     "data": {
      "text/latex": [
       "f_{custo}(\n",
       "\\begin{bmatrix}\n",
       "  0\\\\\n",
       "\\end{bmatrix},\n",
       "\\begin{bmatrix}\n",
       "  -0.57344155\\\\\n",
       "\\end{bmatrix}) = \n",
       "\\begin{bmatrix}\n",
       "  0.32883520798338695\\\\\n",
       "\\end{bmatrix}"
      ],
      "text/plain": [
       "<IPython.core.display.Latex object>"
      ]
     },
     "metadata": {},
     "output_type": "display_data"
    },
    {
     "data": {
      "text/latex": [
       "\\nabla f_{custo} = \\frac{\\partial E}{\\partial Y} = \n",
       "\\begin{bmatrix}\n",
       "  -1.14688309\\\\\n",
       "\\end{bmatrix}"
      ],
      "text/plain": [
       "<IPython.core.display.Latex object>"
      ]
     },
     "metadata": {},
     "output_type": "display_data"
    },
    {
     "data": {
      "text/latex": [
       "Camada: 2"
      ],
      "text/plain": [
       "<IPython.core.display.Latex object>"
      ]
     },
     "metadata": {},
     "output_type": "display_data"
    },
    {
     "data": {
      "text/latex": [
       "W = W - \\lambda (X \\cdot \\nabla f_{custo})"
      ],
      "text/plain": [
       "<IPython.core.display.Latex object>"
      ]
     },
     "metadata": {},
     "output_type": "display_data"
    },
    {
     "data": {
      "text/latex": [
       "\\begin{gather}\n",
       "\\begin{bmatrix}\n",
       "  -0.10900418\\\\\n",
       "  0.00577107\\\\\n",
       "\\end{bmatrix} = \n",
       "\\begin{bmatrix}\n",
       "  -0.42577045\\\\\n",
       "  -0.35894641\\\\\n",
       "\\end{bmatrix} - 0.5\n",
       "\\begin{bmatrix}\n",
       "  0.55239504\\\\\n",
       "  0.63601509\\\\\n",
       "\\end{bmatrix} \\cdot \n",
       "\\begin{bmatrix}\n",
       "  -1.14688309\\\\\n",
       "\\end{bmatrix}\\end{gather}"
      ],
      "text/plain": [
       "<IPython.core.display.Latex object>"
      ]
     },
     "metadata": {},
     "output_type": "display_data"
    },
    {
     "data": {
      "text/latex": [
       "\\nabla f_{custo} = \\frac{\\partial E}{\\partial Y} = \n",
       "\\begin{bmatrix}\n",
       "  0.48830893 & 0.41166957\\\\\n",
       "\\end{bmatrix}"
      ],
      "text/plain": [
       "<IPython.core.display.Latex object>"
      ]
     },
     "metadata": {},
     "output_type": "display_data"
    },
    {
     "data": {
      "text/latex": [
       "Camada: 1"
      ],
      "text/plain": [
       "<IPython.core.display.Latex object>"
      ]
     },
     "metadata": {},
     "output_type": "display_data"
    },
    {
     "data": {
      "text/latex": [
       "\\nabla = \\frac{\\partial E}{\\partial Y} \\frac{\\partial Y}{\\partial X}"
      ],
      "text/plain": [
       "<IPython.core.display.Latex object>"
      ]
     },
     "metadata": {},
     "output_type": "display_data"
    },
    {
     "data": {
      "text/latex": [
       "\\begin{gather}\n",
       "\\begin{bmatrix}\n",
       "  0.55239504 & 0.63601509\\\\\n",
       "\\end{bmatrix} = \\sigma(\n",
       "\\begin{bmatrix}\n",
       "  0.21035238 & 0.55810988\\\\\n",
       "\\end{bmatrix}) \\end{gather}"
      ],
      "text/plain": [
       "<IPython.core.display.Latex object>"
      ]
     },
     "metadata": {},
     "output_type": "display_data"
    },
    {
     "data": {
      "text/latex": [
       "\\nabla f_{custo} = \\frac{\\partial E}{\\partial Y} = \n",
       "\\begin{bmatrix}\n",
       "  0.12073671 & 0.09530146\\\\\n",
       "\\end{bmatrix}"
      ],
      "text/plain": [
       "<IPython.core.display.Latex object>"
      ]
     },
     "metadata": {},
     "output_type": "display_data"
    },
    {
     "data": {
      "text/latex": [
       "Camada: 0"
      ],
      "text/plain": [
       "<IPython.core.display.Latex object>"
      ]
     },
     "metadata": {},
     "output_type": "display_data"
    },
    {
     "data": {
      "text/latex": [
       "W = W - \\lambda (X \\cdot \\nabla f_{custo})"
      ],
      "text/plain": [
       "<IPython.core.display.Latex object>"
      ]
     },
     "metadata": {},
     "output_type": "display_data"
    },
    {
     "data": {
      "text/latex": [
       "\\begin{gather}\n",
       "\\begin{bmatrix}\n",
       "  0.11136063 & 0.02557839\\\\\n",
       "  -0.08564065 & 0.38224623\\\\\n",
       "\\end{bmatrix} = \n",
       "\\begin{bmatrix}\n",
       "  0.17172899 & 0.07322912\\\\\n",
       "  -0.02527229 & 0.42989696\\\\\n",
       "\\end{bmatrix} - 0.5\n",
       "\\begin{bmatrix}\n",
       "  1\\\\\n",
       "  1\\\\\n",
       "\\end{bmatrix} \\cdot \n",
       "\\begin{bmatrix}\n",
       "  0.12073671 & 0.09530146\\\\\n",
       "\\end{bmatrix}\\end{gather}"
      ],
      "text/plain": [
       "<IPython.core.display.Latex object>"
      ]
     },
     "metadata": {},
     "output_type": "display_data"
    }
   ],
   "source": [
    "from IPython.display import Latex\n",
    "\n",
    "rede_exemplo_XOR.treinar(\n",
    "    vetor_x_exemplo_XOR,\n",
    "    vetor_y_esperado_exemplo_XOR,\n",
    "    max_n_iteracoes=1000,\n",
    "    taxa_aprendizado=0.5,\n",
    ")\n",
    "\n",
    "\n",
    "for iteracao_log in rede_exemplo_XOR.logs[0:1]:\n",
    "    for log in iteracao_log:\n",
    "        display(Latex(log))\n"
   ]
  },
  {
   "cell_type": "markdown",
   "metadata": {},
   "source": [
    "### Validação"
   ]
  },
  {
   "cell_type": "code",
   "execution_count": 205,
   "metadata": {},
   "outputs": [
    {
     "data": {
      "text/latex": [
       "\\begin{gather}X=\n",
       "\\begin{bmatrix}\n",
       "  0 & 0\\\\\n",
       "  0 & 1\\\\\n",
       "  1 & 0\\\\\n",
       "  1 & 1\\\\\n",
       "\\end{bmatrix}\\rightarrow\n",
       "\\begin{bmatrix}\n",
       "  -0.11137179\\\\\n",
       "  0.86681967\\\\\n",
       "  0.83840283\\\\\n",
       "  -0.07477873\\\\\n",
       "\\end{bmatrix}\\end{gather}"
      ],
      "text/plain": [
       "<IPython.core.display.Latex object>"
      ]
     },
     "execution_count": 205,
     "metadata": {},
     "output_type": "execute_result"
    }
   ],
   "source": [
    "from utils import array_to_latex\n",
    "from IPython.display import Latex\n",
    "\n",
    "validacao_exemplo_XOR = rede_exemplo_XOR.predict(vetor_x_exemplo_XOR)\n",
    "validacao_exemplo_XOR = np.asarray(validacao_exemplo_XOR) \\\n",
    "                          .reshape(4, 1)\n",
    "\n",
    "Latex(r'\\begin{gather}' +\n",
    "      array_to_latex(vetor_x_exemplo_XOR.reshape(4,2), 'X=') +\n",
    "      r'\\rightarrow' +\n",
    "      array_to_latex(validacao_exemplo_XOR, '') +\n",
    "      r'\\end{gather}')"
   ]
  },
  {
   "cell_type": "markdown",
   "metadata": {},
   "source": [
    "## Exemplo: Display de 7 Segmentos\n",
    "\n",
    "### Entradas e Saídas Esperadas"
   ]
  },
  {
   "cell_type": "code",
   "execution_count": 206,
   "metadata": {},
   "outputs": [
    {
     "data": {
      "text/html": [
       "<div>\n",
       "<style scoped>\n",
       "    .dataframe tbody tr th:only-of-type {\n",
       "        vertical-align: middle;\n",
       "    }\n",
       "\n",
       "    .dataframe tbody tr th {\n",
       "        vertical-align: top;\n",
       "    }\n",
       "\n",
       "    .dataframe thead th {\n",
       "        text-align: right;\n",
       "    }\n",
       "</style>\n",
       "<table border=\"1\" class=\"dataframe\">\n",
       "  <thead>\n",
       "    <tr style=\"text-align: right;\">\n",
       "      <th></th>\n",
       "      <th>A</th>\n",
       "      <th>B</th>\n",
       "      <th>C</th>\n",
       "      <th>D</th>\n",
       "      <th>E</th>\n",
       "      <th>F</th>\n",
       "      <th>G</th>\n",
       "    </tr>\n",
       "  </thead>\n",
       "  <tbody>\n",
       "    <tr>\n",
       "      <th>0</th>\n",
       "      <td>1</td>\n",
       "      <td>1</td>\n",
       "      <td>1</td>\n",
       "      <td>1</td>\n",
       "      <td>1</td>\n",
       "      <td>1</td>\n",
       "      <td>0</td>\n",
       "    </tr>\n",
       "    <tr>\n",
       "      <th>1</th>\n",
       "      <td>0</td>\n",
       "      <td>1</td>\n",
       "      <td>1</td>\n",
       "      <td>0</td>\n",
       "      <td>0</td>\n",
       "      <td>0</td>\n",
       "      <td>0</td>\n",
       "    </tr>\n",
       "    <tr>\n",
       "      <th>2</th>\n",
       "      <td>1</td>\n",
       "      <td>1</td>\n",
       "      <td>0</td>\n",
       "      <td>1</td>\n",
       "      <td>1</td>\n",
       "      <td>0</td>\n",
       "      <td>1</td>\n",
       "    </tr>\n",
       "    <tr>\n",
       "      <th>3</th>\n",
       "      <td>1</td>\n",
       "      <td>1</td>\n",
       "      <td>1</td>\n",
       "      <td>1</td>\n",
       "      <td>0</td>\n",
       "      <td>0</td>\n",
       "      <td>1</td>\n",
       "    </tr>\n",
       "    <tr>\n",
       "      <th>4</th>\n",
       "      <td>0</td>\n",
       "      <td>1</td>\n",
       "      <td>1</td>\n",
       "      <td>0</td>\n",
       "      <td>0</td>\n",
       "      <td>1</td>\n",
       "      <td>1</td>\n",
       "    </tr>\n",
       "    <tr>\n",
       "      <th>5</th>\n",
       "      <td>1</td>\n",
       "      <td>0</td>\n",
       "      <td>1</td>\n",
       "      <td>1</td>\n",
       "      <td>0</td>\n",
       "      <td>1</td>\n",
       "      <td>1</td>\n",
       "    </tr>\n",
       "    <tr>\n",
       "      <th>6</th>\n",
       "      <td>0</td>\n",
       "      <td>0</td>\n",
       "      <td>1</td>\n",
       "      <td>1</td>\n",
       "      <td>1</td>\n",
       "      <td>1</td>\n",
       "      <td>1</td>\n",
       "    </tr>\n",
       "    <tr>\n",
       "      <th>7</th>\n",
       "      <td>1</td>\n",
       "      <td>1</td>\n",
       "      <td>1</td>\n",
       "      <td>0</td>\n",
       "      <td>0</td>\n",
       "      <td>0</td>\n",
       "      <td>0</td>\n",
       "    </tr>\n",
       "    <tr>\n",
       "      <th>8</th>\n",
       "      <td>1</td>\n",
       "      <td>1</td>\n",
       "      <td>1</td>\n",
       "      <td>1</td>\n",
       "      <td>1</td>\n",
       "      <td>1</td>\n",
       "      <td>1</td>\n",
       "    </tr>\n",
       "    <tr>\n",
       "      <th>9</th>\n",
       "      <td>1</td>\n",
       "      <td>1</td>\n",
       "      <td>0</td>\n",
       "      <td>0</td>\n",
       "      <td>1</td>\n",
       "      <td>1</td>\n",
       "      <td>1</td>\n",
       "    </tr>\n",
       "  </tbody>\n",
       "</table>\n",
       "</div>"
      ],
      "text/plain": [
       "   A  B  C  D  E  F  G\n",
       "0  1  1  1  1  1  1  0\n",
       "1  0  1  1  0  0  0  0\n",
       "2  1  1  0  1  1  0  1\n",
       "3  1  1  1  1  0  0  1\n",
       "4  0  1  1  0  0  1  1\n",
       "5  1  0  1  1  0  1  1\n",
       "6  0  0  1  1  1  1  1\n",
       "7  1  1  1  0  0  0  0\n",
       "8  1  1  1  1  1  1  1\n",
       "9  1  1  0  0  1  1  1"
      ]
     },
     "metadata": {},
     "output_type": "display_data"
    },
    {
     "data": {
      "text/latex": [
       "\\begin{gather}Y_{esperado}=\n",
       "\\begin{bmatrix}\n",
       "  1 & 0 & 0 & 0 & 0 & 0 & 0 & 0 & 0 & 0\\\\\n",
       "  0 & 1 & 0 & 0 & 0 & 0 & 0 & 0 & 0 & 0\\\\\n",
       "  0 & 0 & 1 & 0 & 0 & 0 & 0 & 0 & 0 & 0\\\\\n",
       "  0 & 0 & 0 & 1 & 0 & 0 & 0 & 0 & 0 & 0\\\\\n",
       "  0 & 0 & 0 & 0 & 1 & 0 & 0 & 0 & 0 & 0\\\\\n",
       "  0 & 0 & 0 & 0 & 0 & 1 & 0 & 0 & 0 & 0\\\\\n",
       "  0 & 0 & 0 & 0 & 0 & 0 & 1 & 0 & 0 & 0\\\\\n",
       "  0 & 0 & 0 & 0 & 0 & 0 & 0 & 1 & 0 & 0\\\\\n",
       "  0 & 0 & 0 & 0 & 0 & 0 & 0 & 0 & 1 & 0\\\\\n",
       "  0 & 0 & 0 & 0 & 0 & 0 & 0 & 0 & 0 & 1\\\\\n",
       "\\end{bmatrix}\\end{gather}"
      ],
      "text/plain": [
       "<IPython.core.display.Latex object>"
      ]
     },
     "execution_count": 206,
     "metadata": {},
     "output_type": "execute_result"
    }
   ],
   "source": [
    "import pandas as pd\n",
    "from IPython.display import display, Latex\n",
    "\n",
    "segmentos = ['A', 'B', 'C', 'D', 'E', 'F', 'G']\n",
    "\n",
    "tabela_segmentos_digitos = pd.DataFrame([\n",
    "    #A, B, C, D, E, F, G\n",
    "    [1, 1, 1, 1, 1, 1, 0],\n",
    "    [0, 1, 1, 0, 0, 0, 0],\n",
    "    [1, 1, 0, 1, 1, 0, 1],\n",
    "    [1, 1, 1, 1, 0, 0, 1],\n",
    "    [0, 1, 1, 0, 0, 1, 1],\n",
    "    [1, 0, 1, 1, 0, 1, 1],\n",
    "    [0, 0, 1, 1, 1, 1, 1],\n",
    "    [1, 1, 1, 0, 0, 0, 0],\n",
    "    [1, 1, 1, 1, 1, 1, 1],\n",
    "    [1, 1, 0, 0, 1, 1, 1],\n",
    "], columns=segmentos)\n",
    "\n",
    "display(tabela_segmentos_digitos)\n",
    "\n",
    "vetor_y_esperado_exemplo_segmentos = np.array(\n",
    "    [\n",
    "        [[1, 0, 0, 0, 0, 0, 0, 0, 0, 0]],\n",
    "        [[0, 1, 0, 0, 0, 0, 0, 0, 0, 0]],\n",
    "        [[0, 0, 1, 0, 0, 0, 0, 0, 0, 0]],\n",
    "        [[0, 0, 0, 1, 0, 0, 0, 0, 0, 0]],\n",
    "        [[0, 0, 0, 0, 1, 0, 0, 0, 0, 0]],\n",
    "        [[0, 0, 0, 0, 0, 1, 0, 0, 0, 0]],\n",
    "        [[0, 0, 0, 0, 0, 0, 1, 0, 0, 0]],\n",
    "        [[0, 0, 0, 0, 0, 0, 0, 1, 0, 0]],\n",
    "        [[0, 0, 0, 0, 0, 0, 0, 0, 1, 0]],\n",
    "        [[0, 0, 0, 0, 0, 0, 0, 0, 0, 1]],\n",
    "    ]\n",
    ")\n",
    "\n",
    "Latex(r\"\\begin{gather}\" +\n",
    "      array_to_latex(vetor_y_esperado_exemplo_segmentos.reshape(10, 10), r\"Y_{esperado}=\") +\n",
    "      r\"\\end{gather}\")"
   ]
  },
  {
   "cell_type": "markdown",
   "metadata": {},
   "source": [
    "### Rede"
   ]
  },
  {
   "cell_type": "code",
   "execution_count": 207,
   "metadata": {},
   "outputs": [],
   "source": [
    "vetor_x_exemplo_segmentos = tabela_segmentos_digitos.values.reshape((10, 1, 7))\n",
    "\n",
    "rede_exemplo_display = RedeNeural(erro_quadratico_medio, derivada_erro_quadratico_medio)\n",
    "rede_exemplo_display.add(FCLayer(7, 14))\n",
    "rede_exemplo_display.add(ActivationLayer(sigmoide, derivada_sigmoide))\n",
    "rede_exemplo_display.add(FCLayer(14, 10))\n"
   ]
  },
  {
   "cell_type": "markdown",
   "metadata": {},
   "source": [
    "### Treinamento"
   ]
  },
  {
   "cell_type": "code",
   "execution_count": 208,
   "metadata": {},
   "outputs": [
    {
     "name": "stdout",
     "output_type": "stream",
     "text": [
      "Iteração 1/1000   MédiaErro=7.062141\n",
      "Iteração 2/1000   MédiaErro=0.205454\n",
      "Iteração 3/1000   MédiaErro=0.182386\n",
      "Iteração 4/1000   MédiaErro=0.165537\n",
      "Iteração 5/1000   MédiaErro=0.152537\n",
      "Iteração 10/1000   MédiaErro=0.113462\n",
      "Iteração 100/1000   MédiaErro=0.036671\n",
      "Iteração 211/1000   MédiaErro=0.009934\n"
     ]
    },
    {
     "data": {
      "text/latex": [
       "Camada: 0"
      ],
      "text/plain": [
       "<IPython.core.display.Latex object>"
      ]
     },
     "metadata": {},
     "output_type": "display_data"
    },
    {
     "data": {
      "text/latex": [
       "Y = Xw + b"
      ],
      "text/plain": [
       "<IPython.core.display.Latex object>"
      ]
     },
     "metadata": {},
     "output_type": "display_data"
    },
    {
     "data": {
      "text/latex": [
       "\\begin{gather}\n",
       "\\begin{bmatrix}\n",
       "  1.47010256 & 4.10335126 & 2.31415662 & 4.1827082 & 4.14906166 & 2.68166824\\\\\n",
       "  2.99937433 & 3.77996238 & 3.04831234 & 3.05137926 & 3.19098142 & 3.78942066\\\\\n",
       "  4.57145517 & 3.62897255\\\\\n",
       "\\end{bmatrix} = \n",
       "\\begin{bmatrix}\n",
       "  1 & 1 & 1 & 1 & 1 & 1 & 0\\\\\n",
       "\\end{bmatrix} \\cdot \n",
       "\\begin{bmatrix}\n",
       "  0.07071165 & 0.02866591 & 0.68584678 & 0.95083764 & 0.65767463 & 0.82627913\\\\\n",
       "  0.86070253 & 0.13584946 & 0.93516274 & 0.22844305 & 0.2232314 & 0.96000664\\\\\n",
       "  0.97638857 & 0.25603447\\\\\n",
       "  0.10087563 & 0.4529286 & 0.65788709 & 0.96586798 & 0.1146052 & 0.27327752\\\\\n",
       "  0.14678836 & 0.41650721 & 0.29976322 & 0.73846776 & 0.24391135 & 0.58848185\\\\\n",
       "  0.64317936 & 0.88951582\\\\\n",
       "  0.01633744 & 0.6639461 & 0.08180246 & 0.26473378 & 0.18634585 & 0.55732363\\\\\n",
       "  0.3444957 & 0.13255932 & 0.12887002 & 0.45749714 & 0.97393559 & 0.40976617\\\\\n",
       "  0.41029035 & 0.97552827\\\\\n",
       "  0.53968934 & 0.56540784 & 0.03995464 & 0.81109742 & 0.52791942 & 0.22643832\\\\\n",
       "  0.79336185 & 0.98853454 & 0.11510237 & 0.7027868 & 0.61811325 & 0.08615581\\\\\n",
       "  0.86833108 & 0.4936242\\\\\n",
       "  0.06987674 & 0.73054618 & 0.34768641 & 0.5713251 & 0.98476929 & 0.50815337\\\\\n",
       "  0.18714134 & 0.90081918 & 0.88340286 & 0.44335961 & 0.75185031 & 0.77754987\\\\\n",
       "  0.77911733 & 0.56638123\\\\\n",
       "  0.46238958 & 0.84463299 & 0.3141931 & 0.05279637 & 0.83870893 & 0.1479318\\\\\n",
       "  0.60369458 & 0.62927264 & 0.42278919 & 0.2801536 & 0.11360318 & 0.78342112\\\\\n",
       "  0.84333075 & 0.24193122\\\\\n",
       "  0.22368158 & 0.89872718 & 0.8987989 & 0.56742251 & 0.09199075 & 0.69969323\\\\\n",
       "  0.93298143 & 0.57536116 & 0.52680152 & 0.14530578 & 0.44292338 & 0.32790434\\\\\n",
       "  0.73325875 & 0.45649815\\\\\n",
       "\\end{bmatrix} + \n",
       "\\begin{bmatrix}\n",
       "  0.21022218 & 0.81722364 & 0.18678614 & 0.56604992 & 0.83903834 & 0.14226446\\\\\n",
       "  0.06318998 & 0.57642004 & 0.26322193 & 0.20067129 & 0.26633634 & 0.18403919\\\\\n",
       "  0.05081772 & 0.20595734\\\\\n",
       "\\end{bmatrix}\\end{gather}"
      ],
      "text/plain": [
       "<IPython.core.display.Latex object>"
      ]
     },
     "metadata": {},
     "output_type": "display_data"
    },
    {
     "data": {
      "text/latex": [
       "Camada: 1"
      ],
      "text/plain": [
       "<IPython.core.display.Latex object>"
      ]
     },
     "metadata": {},
     "output_type": "display_data"
    },
    {
     "data": {
      "text/latex": [
       "Y = \\sigma(X)"
      ],
      "text/plain": [
       "<IPython.core.display.Latex object>"
      ]
     },
     "metadata": {},
     "output_type": "display_data"
    },
    {
     "data": {
      "text/latex": [
       "\\begin{gather}\n",
       "\\begin{bmatrix}\n",
       "  0.81307297 & 0.98375116 & 0.91004272 & 0.98497215 & 0.9844659 & 0.93593622\\\\\n",
       "  0.95254585 & 0.97768574 & 0.95470961 & 0.95484204 & 0.96049348 & 0.97789116\\\\\n",
       "  0.98976298 & 0.97414289\\\\\n",
       "\\end{bmatrix} = \\sigma(\n",
       "\\begin{bmatrix}\n",
       "  1.47010256 & 4.10335126 & 2.31415662 & 4.1827082 & 4.14906166 & 2.68166824\\\\\n",
       "  2.99937433 & 3.77996238 & 3.04831234 & 3.05137926 & 3.19098142 & 3.78942066\\\\\n",
       "  4.57145517 & 3.62897255\\\\\n",
       "\\end{bmatrix}) \\end{gather}"
      ],
      "text/plain": [
       "<IPython.core.display.Latex object>"
      ]
     },
     "metadata": {},
     "output_type": "display_data"
    },
    {
     "data": {
      "text/latex": [
       "Camada: 2"
      ],
      "text/plain": [
       "<IPython.core.display.Latex object>"
      ]
     },
     "metadata": {},
     "output_type": "display_data"
    },
    {
     "data": {
      "text/latex": [
       "Y = Xw + b"
      ],
      "text/plain": [
       "<IPython.core.display.Latex object>"
      ]
     },
     "metadata": {},
     "output_type": "display_data"
    },
    {
     "data": {
      "text/latex": [
       "\\begin{gather}\n",
       "\\begin{bmatrix}\n",
       "  4.86495359 & 7.73111397 & 4.96578375 & 5.68123761 & 8.43544153 & 5.80230526\\\\\n",
       "  6.93201909 & 8.77743243 & 6.669867 & 8.43764658\\\\\n",
       "\\end{bmatrix} = \n",
       "\\begin{bmatrix}\n",
       "  0.81307297 & 0.98375116 & 0.91004272 & 0.98497215 & 0.9844659 & 0.93593622\\\\\n",
       "  0.95254585 & 0.97768574 & 0.95470961 & 0.95484204 & 0.96049348 & 0.97789116\\\\\n",
       "  0.98976298 & 0.97414289\\\\\n",
       "\\end{bmatrix} \\cdot \n",
       "\\begin{bmatrix}\n",
       "  0.50131021 & 0.10133348 & 0.00392528 & 0.3188994 & 0.09044951 & 0.0607244\\\\\n",
       "  0.023968 & 0.91408482 & 0.46628394 & 0.91504825\\\\\n",
       "  0.29856269 & 0.98462365 & 0.14097151 & 0.28426931 & 0.97193478 & 0.18858345\\\\\n",
       "  0.05886823 & 0.45888347 & 0.46103461 & 0.13935306\\\\\n",
       "  0.95115365 & 0.72353692 & 0.47079192 & 0.86732682 & 0.46404385 & 0.40142423\\\\\n",
       "  0.75790759 & 0.62878019 & 0.12763853 & 0.98279725\\\\\n",
       "  0.18471654 & 0.52405602 & 0.00278653 & 0.47498404 & 0.07745774 & 0.52433576\\\\\n",
       "  0.42675466 & 0.78950143 & 0.93107888 & 0.41398247\\\\\n",
       "  0.02635326 & 0.07335136 & 0.23684545 & 0.01698127 & 0.834408 & 0.32376763\\\\\n",
       "  0.17342111 & 0.7594501 & 0.78111342 & 0.42703071\\\\\n",
       "  0.98919998 & 0.94220322 & 0.14321562 & 0.43761931 & 0.67872694 & 0.364255\\\\\n",
       "  0.96084403 & 0.76408295 & 0.24551983 & 0.77427408\\\\\n",
       "  0.4557225 & 0.21501377 & 0.72172927 & 0.07956752 & 0.86385695 & 0.57626797\\\\\n",
       "  0.38836281 & 0.03603082 & 0.63371404 & 0.70775991\\\\\n",
       "  0.25596535 & 0.30826061 & 0.9162018 & 0.0246275 & 0.12120286 & 0.57320264\\\\\n",
       "  0.22869453 & 0.95707036 & 0.48718873 & 0.41040626\\\\\n",
       "  0.0367106 & 0.83613112 & 0.15024077 & 0.6325173 & 0.63416829 & 0.28898099\\\\\n",
       "  0.6880034 & 0.8891762 & 0.15758387 & 0.15976363\\\\\n",
       "  0.74074084 & 0.0447895 & 0.31777637 & 0.51176422 & 0.71274605 & 0.71248054\\\\\n",
       "  0.49467255 & 0.18676991 & 0.78929955 & 0.58246422\\\\\n",
       "  0.16032297 & 0.81449178 & 0.0544723 & 0.87155027 & 0.84612828 & 0.31901835\\\\\n",
       "  0.18546434 & 0.51540557 & 0.13340187 & 0.12331406\\\\\n",
       "  0.03892436 & 0.48642596 & 0.03545024 & 0.30597857 & 0.97429438 & 0.685173\\\\\n",
       "  0.83679797 & 0.99222667 & 0.64629088 & 0.94557493\\\\\n",
       "  0.20664147 & 0.7287175 & 0.34459768 & 0.51947273 & 0.76894751 & 0.9325213\\\\\n",
       "  0.09180412 & 0.19283567 & 0.49691983 & 0.60209971\\\\\n",
       "  0.12409656 & 0.7472224 & 0.76845753 & 0.39446842 & 0.3447027 & 0.06060195\\\\\n",
       "  0.99747568 & 0.81959701 & 0.18532671 & 0.94082077\\\\\n",
       "\\end{bmatrix} + \n",
       "\\begin{bmatrix}\n",
       "  0.22018182 & 0.4970472 & 0.81877451 & 0.23169751 & 0.36078459 & 0.00200306\\\\\n",
       "  0.89284886 & 0.31827276 & 0.38862341 & 0.76968693\\\\\n",
       "\\end{bmatrix}\\end{gather}"
      ],
      "text/plain": [
       "<IPython.core.display.Latex object>"
      ]
     },
     "metadata": {},
     "output_type": "display_data"
    },
    {
     "data": {
      "text/latex": [
       "f_{custo}(\n",
       "\\begin{bmatrix}\n",
       "  1 & 0 & 0 & 0 & 0 & 0 & 0 & 0 & 0 & 0\\\\\n",
       "\\end{bmatrix},\n",
       "\\begin{bmatrix}\n",
       "  4.86495359 & 7.73111397 & 4.96578375 & 5.68123761 & 8.43544153 & 5.80230526\\\\\n",
       "  6.93201909 & 8.77743243 & 6.669867 & 8.43764658\\\\\n",
       "\\end{bmatrix}) = \n",
       "\\begin{bmatrix}\n",
       "  47.72440928767501\\\\\n",
       "\\end{bmatrix}"
      ],
      "text/plain": [
       "<IPython.core.display.Latex object>"
      ]
     },
     "metadata": {},
     "output_type": "display_data"
    },
    {
     "data": {
      "text/latex": [
       "\\nabla f_{custo} = \\frac{\\partial E}{\\partial Y} = \n",
       "\\begin{bmatrix}\n",
       "  0.77299072 & 1.54622279 & 0.99315675 & 1.13624752 & 1.68708831 & 1.16046105\\\\\n",
       "  1.38640382 & 1.75548649 & 1.3339734 & 1.68752932\\\\\n",
       "\\end{bmatrix}"
      ],
      "text/plain": [
       "<IPython.core.display.Latex object>"
      ]
     },
     "metadata": {},
     "output_type": "display_data"
    },
    {
     "data": {
      "text/latex": [
       "Camada: 2"
      ],
      "text/plain": [
       "<IPython.core.display.Latex object>"
      ]
     },
     "metadata": {},
     "output_type": "display_data"
    },
    {
     "data": {
      "text/latex": [
       "W = W - \\lambda (X \\cdot \\nabla f_{custo})"
      ],
      "text/plain": [
       "<IPython.core.display.Latex object>"
      ]
     },
     "metadata": {},
     "output_type": "display_data"
    },
    {
     "data": {
      "text/latex": [
       "\\begin{gather}\n",
       "\\begin{bmatrix}\n",
       "  0.06136171 & -0.7787009 & -0.56133096 & -0.32779711 & -0.86975862 & -0.59975327\\\\\n",
       "  -0.76510523 & -0.08505221 & -0.29294846 & -0.04541089\\\\\n",
       "  -0.23373867 & -0.08014527 & -0.54294186 & -0.49818006 & -0.18983777 & -0.61053998\\\\\n",
       "  -0.89584522 & -0.74998984 & -0.4575739 & -1.02272318\\\\\n",
       "  0.45873545 & -0.26145323 & -0.16187863 & 0.14350317 & -0.61068185 & -0.33782416\\\\\n",
       "  -0.1252731 & -0.48951719 & -0.72214242 & -0.09220939\\\\\n",
       "  -0.34824549 & -0.54203445 & -0.68197568 & -0.30843647 & -1.08575676 & -0.27577951\\\\\n",
       "  -0.52914374 & -0.42087228 & 0.01133022 & -0.74953609\\\\\n",
       "  -0.50633484 & -0.99219117 & -0.44756481 & -0.76603658 & -0.32820864 & -0.47593641\\\\\n",
       "  -0.78198599 & -0.4503015 & -0.13816251 & -0.73588984\\\\\n",
       "  0.48277097 & -0.07081292 & -0.50745635 & -0.30679933 & -0.426578 & -0.39602728\\\\\n",
       "  0.05253414 & -0.38603342 & -0.62843999 & -0.33131979\\\\\n",
       "  -0.05969387 & -0.81597991 & 0.05951013 & -0.67806199 & -0.26106333 & -0.19750668\\\\\n",
       "  -0.53606643 & -1.13449614 & -0.25575554 & -0.41745443\\\\\n",
       "  -0.27305405 & -0.74994338 & 0.23650517 & -0.7529976 & -1.03340666 & -0.22099371\\\\\n",
       "  -0.72013254 & -0.24434951 & -0.42575601 & -0.74450508\\\\\n",
       "  -0.47987657 & -0.19720451 & -0.51348263 & -0.1268332 & -0.4933073 & -0.48655133\\\\\n",
       "  -0.23852573 & -0.28400968 & -0.73390619 & -0.96800669\\\\\n",
       "  0.22408202 & -0.98868947 & -0.3460391 & -0.24769161 & -0.41488593 & -0.06315936\\\\\n",
       "  -0.4319851 & -0.98657869 & -0.10231417 & -0.54546253\\\\\n",
       "  -0.35939381 & -0.22510405 & -0.6132721 & 0.10759944 & -0.28817784 & -0.46121234\\\\\n",
       "  -0.74667793 & -0.66488776 & -0.76348905 & -1.01128857\\\\\n",
       "  -0.49020619 & -0.57200036 & -0.6443892 & -0.47180991 & -0.18055774 & -0.10919022\\\\\n",
       "  -0.11222845 & -0.20944562 & -0.26684567 & -0.20957906\\\\\n",
       "  -0.32891285 & -0.34255836 & -0.34349518 & -0.26775828 & -0.39992478 & 0.12851433\\\\\n",
       "  -0.8687437 & -1.02342521 & -0.42730241 & -0.56707813\\\\\n",
       "  -0.40300583 & -0.30714696 & 0.09122391 & -0.38033879 & -0.80572286 & -0.73071648\\\\\n",
       "  0.05208688 & -0.37746927 & -0.72430979 & -0.20990552\\\\\n",
       "\\end{bmatrix} = \n",
       "\\begin{bmatrix}\n",
       "  0.50131021 & 0.10133348 & 0.00392528 & 0.3188994 & 0.09044951 & 0.0607244\\\\\n",
       "  0.023968 & 0.91408482 & 0.46628394 & 0.91504825\\\\\n",
       "  0.29856269 & 0.98462365 & 0.14097151 & 0.28426931 & 0.97193478 & 0.18858345\\\\\n",
       "  0.05886823 & 0.45888347 & 0.46103461 & 0.13935306\\\\\n",
       "  0.95115365 & 0.72353692 & 0.47079192 & 0.86732682 & 0.46404385 & 0.40142423\\\\\n",
       "  0.75790759 & 0.62878019 & 0.12763853 & 0.98279725\\\\\n",
       "  0.18471654 & 0.52405602 & 0.00278653 & 0.47498404 & 0.07745774 & 0.52433576\\\\\n",
       "  0.42675466 & 0.78950143 & 0.93107888 & 0.41398247\\\\\n",
       "  0.02635326 & 0.07335136 & 0.23684545 & 0.01698127 & 0.834408 & 0.32376763\\\\\n",
       "  0.17342111 & 0.7594501 & 0.78111342 & 0.42703071\\\\\n",
       "  0.98919998 & 0.94220322 & 0.14321562 & 0.43761931 & 0.67872694 & 0.364255\\\\\n",
       "  0.96084403 & 0.76408295 & 0.24551983 & 0.77427408\\\\\n",
       "  0.4557225 & 0.21501377 & 0.72172927 & 0.07956752 & 0.86385695 & 0.57626797\\\\\n",
       "  0.38836281 & 0.03603082 & 0.63371404 & 0.70775991\\\\\n",
       "  0.25596535 & 0.30826061 & 0.9162018 & 0.0246275 & 0.12120286 & 0.57320264\\\\\n",
       "  0.22869453 & 0.95707036 & 0.48718873 & 0.41040626\\\\\n",
       "  0.0367106 & 0.83613112 & 0.15024077 & 0.6325173 & 0.63416829 & 0.28898099\\\\\n",
       "  0.6880034 & 0.8891762 & 0.15758387 & 0.15976363\\\\\n",
       "  0.74074084 & 0.0447895 & 0.31777637 & 0.51176422 & 0.71274605 & 0.71248054\\\\\n",
       "  0.49467255 & 0.18676991 & 0.78929955 & 0.58246422\\\\\n",
       "  0.16032297 & 0.81449178 & 0.0544723 & 0.87155027 & 0.84612828 & 0.31901835\\\\\n",
       "  0.18546434 & 0.51540557 & 0.13340187 & 0.12331406\\\\\n",
       "  0.03892436 & 0.48642596 & 0.03545024 & 0.30597857 & 0.97429438 & 0.685173\\\\\n",
       "  0.83679797 & 0.99222667 & 0.64629088 & 0.94557493\\\\\n",
       "  0.20664147 & 0.7287175 & 0.34459768 & 0.51947273 & 0.76894751 & 0.9325213\\\\\n",
       "  0.09180412 & 0.19283567 & 0.49691983 & 0.60209971\\\\\n",
       "  0.12409656 & 0.7472224 & 0.76845753 & 0.39446842 & 0.3447027 & 0.06060195\\\\\n",
       "  0.99747568 & 0.81959701 & 0.18532671 & 0.94082077\\\\\n",
       "\\end{bmatrix} - 0.7\n",
       "\\begin{bmatrix}\n",
       "  0.81307297\\\\\n",
       "  0.98375116\\\\\n",
       "  0.91004272\\\\\n",
       "  0.98497215\\\\\n",
       "  0.9844659\\\\\n",
       "  0.93593622\\\\\n",
       "  0.95254585\\\\\n",
       "  0.97768574\\\\\n",
       "  0.95470961\\\\\n",
       "  0.95484204\\\\\n",
       "  0.96049348\\\\\n",
       "  0.97789116\\\\\n",
       "  0.98976298\\\\\n",
       "  0.97414289\\\\\n",
       "\\end{bmatrix} \\cdot \n",
       "\\begin{bmatrix}\n",
       "  0.77299072 & 1.54622279 & 0.99315675 & 1.13624752 & 1.68708831 & 1.16046105\\\\\n",
       "  1.38640382 & 1.75548649 & 1.3339734 & 1.68752932\\\\\n",
       "\\end{bmatrix}\\end{gather}"
      ],
      "text/plain": [
       "<IPython.core.display.Latex object>"
      ]
     },
     "metadata": {},
     "output_type": "display_data"
    },
    {
     "data": {
      "text/latex": [
       "\\nabla f_{custo} = \\frac{\\partial E}{\\partial Y} = \n",
       "\\begin{bmatrix}\n",
       "  4.93757796 & 5.81217354 & 8.53911715 & 6.1529631 & 5.50799509 & 8.73633621\\\\\n",
       "  6.25946921 & 5.82172911 & 6.58898572 & 6.61772235 & 5.77337843 & 8.96372402\\\\\n",
       "  6.74315439 & 7.77115953\\\\\n",
       "\\end{bmatrix}"
      ],
      "text/plain": [
       "<IPython.core.display.Latex object>"
      ]
     },
     "metadata": {},
     "output_type": "display_data"
    },
    {
     "data": {
      "text/latex": [
       "Camada: 1"
      ],
      "text/plain": [
       "<IPython.core.display.Latex object>"
      ]
     },
     "metadata": {},
     "output_type": "display_data"
    },
    {
     "data": {
      "text/latex": [
       "\\nabla = \\frac{\\partial E}{\\partial Y} \\frac{\\partial Y}{\\partial X}"
      ],
      "text/plain": [
       "<IPython.core.display.Latex object>"
      ]
     },
     "metadata": {},
     "output_type": "display_data"
    },
    {
     "data": {
      "text/latex": [
       "\\begin{gather}\n",
       "\\begin{bmatrix}\n",
       "  0.81307297 & 0.98375116 & 0.91004272 & 0.98497215 & 0.9844659 & 0.93593622\\\\\n",
       "  0.95254585 & 0.97768574 & 0.95470961 & 0.95484204 & 0.96049348 & 0.97789116\\\\\n",
       "  0.98976298 & 0.97414289\\\\\n",
       "\\end{bmatrix} = \\sigma(\n",
       "\\begin{bmatrix}\n",
       "  1.47010256 & 4.10335126 & 2.31415662 & 4.1827082 & 4.14906166 & 2.68166824\\\\\n",
       "  2.99937433 & 3.77996238 & 3.04831234 & 3.05137926 & 3.19098142 & 3.78942066\\\\\n",
       "  4.57145517 & 3.62897255\\\\\n",
       "\\end{bmatrix}) \\end{gather}"
      ],
      "text/plain": [
       "<IPython.core.display.Latex object>"
      ]
     },
     "metadata": {},
     "output_type": "display_data"
    },
    {
     "data": {
      "text/latex": [
       "\\nabla f_{custo} = \\frac{\\partial E}{\\partial Y} = \n",
       "\\begin{bmatrix}\n",
       "  0.75043933 & 0.09290654 & 0.69905457 & 0.09107625 & 0.08423262 & 0.52382731\\\\\n",
       "  0.2829421 & 0.12700878 & 0.28490228 & 0.28534773 & 0.21907521 & 0.1937961\\\\\n",
       "  0.06832313 & 0.19574398\\\\\n",
       "\\end{bmatrix}"
      ],
      "text/plain": [
       "<IPython.core.display.Latex object>"
      ]
     },
     "metadata": {},
     "output_type": "display_data"
    },
    {
     "data": {
      "text/latex": [
       "Camada: 0"
      ],
      "text/plain": [
       "<IPython.core.display.Latex object>"
      ]
     },
     "metadata": {},
     "output_type": "display_data"
    },
    {
     "data": {
      "text/latex": [
       "W = W - \\lambda (X \\cdot \\nabla f_{custo})"
      ],
      "text/plain": [
       "<IPython.core.display.Latex object>"
      ]
     },
     "metadata": {},
     "output_type": "display_data"
    },
    {
     "data": {
      "text/latex": [
       "\\begin{gather}\n",
       "\\begin{bmatrix}\n",
       "  -0.45459588 & -0.03636867 & 0.19650859 & 0.88708427 & 0.59871179 & 0.45960002\\\\\n",
       "  0.66264307 & 0.04694331 & 0.73573115 & 0.02869964 & 0.06987875 & 0.82434937\\\\\n",
       "  0.92856238 & 0.11901369\\\\\n",
       "  -0.4244319 & 0.38789402 & 0.1685489 & 0.9021146 & 0.05564236 & -0.09340159\\\\\n",
       "  -0.05127111 & 0.32760106 & 0.10033162 & 0.53872435 & 0.0905587 & 0.45282458\\\\\n",
       "  0.59535316 & 0.75249504\\\\\n",
       "  -0.50897009 & 0.59891152 & -0.40753574 & 0.20098041 & 0.12738301 & 0.19064451\\\\\n",
       "  0.14643623 & 0.04365317 & -0.07056157 & 0.25775373 & 0.82058294 & 0.2741089\\\\\n",
       "  0.36246416 & 0.83850748\\\\\n",
       "  0.01438181 & 0.50037327 & -0.44938356 & 0.74734405 & 0.46895658 & -0.14024079\\\\\n",
       "  0.59530238 & 0.89962839 & -0.08432922 & 0.50304338 & 0.4647606 & -0.04950146\\\\\n",
       "  0.82050489 & 0.35660342\\\\\n",
       "  -0.45543079 & 0.6655116 & -0.14165179 & 0.50757173 & 0.92580645 & 0.14147426\\\\\n",
       "  -0.01091813 & 0.81191303 & 0.68397126 & 0.2436162 & 0.59849766 & 0.6418926\\\\\n",
       "  0.73129114 & 0.42936045\\\\\n",
       "  -0.06291795 & 0.77959842 & -0.1751451 & -0.010957 & 0.7797461 & -0.21874731\\\\\n",
       "  0.40563511 & 0.54036649 & 0.22335759 & 0.08041019 & -0.03974947 & 0.64776385\\\\\n",
       "  0.79550456 & 0.10491043\\\\\n",
       "  0.22368158 & 0.89872718 & 0.8987989 & 0.56742251 & 0.09199075 & 0.69969323\\\\\n",
       "  0.93298143 & 0.57536116 & 0.52680152 & 0.14530578 & 0.44292338 & 0.32790434\\\\\n",
       "  0.73325875 & 0.45649815\\\\\n",
       "\\end{bmatrix} = \n",
       "\\begin{bmatrix}\n",
       "  0.07071165 & 0.02866591 & 0.68584678 & 0.95083764 & 0.65767463 & 0.82627913\\\\\n",
       "  0.86070253 & 0.13584946 & 0.93516274 & 0.22844305 & 0.2232314 & 0.96000664\\\\\n",
       "  0.97638857 & 0.25603447\\\\\n",
       "  0.10087563 & 0.4529286 & 0.65788709 & 0.96586798 & 0.1146052 & 0.27327752\\\\\n",
       "  0.14678836 & 0.41650721 & 0.29976322 & 0.73846776 & 0.24391135 & 0.58848185\\\\\n",
       "  0.64317936 & 0.88951582\\\\\n",
       "  0.01633744 & 0.6639461 & 0.08180246 & 0.26473378 & 0.18634585 & 0.55732363\\\\\n",
       "  0.3444957 & 0.13255932 & 0.12887002 & 0.45749714 & 0.97393559 & 0.40976617\\\\\n",
       "  0.41029035 & 0.97552827\\\\\n",
       "  0.53968934 & 0.56540784 & 0.03995464 & 0.81109742 & 0.52791942 & 0.22643832\\\\\n",
       "  0.79336185 & 0.98853454 & 0.11510237 & 0.7027868 & 0.61811325 & 0.08615581\\\\\n",
       "  0.86833108 & 0.4936242\\\\\n",
       "  0.06987674 & 0.73054618 & 0.34768641 & 0.5713251 & 0.98476929 & 0.50815337\\\\\n",
       "  0.18714134 & 0.90081918 & 0.88340286 & 0.44335961 & 0.75185031 & 0.77754987\\\\\n",
       "  0.77911733 & 0.56638123\\\\\n",
       "  0.46238958 & 0.84463299 & 0.3141931 & 0.05279637 & 0.83870893 & 0.1479318\\\\\n",
       "  0.60369458 & 0.62927264 & 0.42278919 & 0.2801536 & 0.11360318 & 0.78342112\\\\\n",
       "  0.84333075 & 0.24193122\\\\\n",
       "  0.22368158 & 0.89872718 & 0.8987989 & 0.56742251 & 0.09199075 & 0.69969323\\\\\n",
       "  0.93298143 & 0.57536116 & 0.52680152 & 0.14530578 & 0.44292338 & 0.32790434\\\\\n",
       "  0.73325875 & 0.45649815\\\\\n",
       "\\end{bmatrix} - 0.7\n",
       "\\begin{bmatrix}\n",
       "  1\\\\\n",
       "  1\\\\\n",
       "  1\\\\\n",
       "  1\\\\\n",
       "  1\\\\\n",
       "  1\\\\\n",
       "  0\\\\\n",
       "\\end{bmatrix} \\cdot \n",
       "\\begin{bmatrix}\n",
       "  0.75043933 & 0.09290654 & 0.69905457 & 0.09107625 & 0.08423262 & 0.52382731\\\\\n",
       "  0.2829421 & 0.12700878 & 0.28490228 & 0.28534773 & 0.21907521 & 0.1937961\\\\\n",
       "  0.06832313 & 0.19574398\\\\\n",
       "\\end{bmatrix}\\end{gather}"
      ],
      "text/plain": [
       "<IPython.core.display.Latex object>"
      ]
     },
     "metadata": {},
     "output_type": "display_data"
    },
    {
     "data": {
      "text/latex": [
       "Camada: 0"
      ],
      "text/plain": [
       "<IPython.core.display.Latex object>"
      ]
     },
     "metadata": {},
     "output_type": "display_data"
    },
    {
     "data": {
      "text/latex": [
       "Y = Xw + b"
      ],
      "text/plain": [
       "<IPython.core.display.Latex object>"
      ]
     },
     "metadata": {},
     "output_type": "display_data"
    },
    {
     "data": {
      "text/latex": [
       "\\begin{gather}\n",
       "\\begin{bmatrix}\n",
       "  -1.24848735 & 1.73899461 & -0.54153891 & 1.60539156 & 0.96310088 & -0.12717174\\\\\n",
       "  -0.03970437 & 0.85876812 & 0.09356038 & 0.79740595 & 1.02412533 & 0.77531541\\\\\n",
       "  0.96080885 & 1.65993908\\\\\n",
       "\\end{bmatrix} = \n",
       "\\begin{bmatrix}\n",
       "  0 & 1 & 1 & 0 & 0 & 0 & 0\\\\\n",
       "\\end{bmatrix} \\cdot \n",
       "\\begin{bmatrix}\n",
       "  -0.45459588 & -0.03636867 & 0.19650859 & 0.88708427 & 0.59871179 & 0.45960002\\\\\n",
       "  0.66264307 & 0.04694331 & 0.73573115 & 0.02869964 & 0.06987875 & 0.82434937\\\\\n",
       "  0.92856238 & 0.11901369\\\\\n",
       "  -0.4244319 & 0.38789402 & 0.1685489 & 0.9021146 & 0.05564236 & -0.09340159\\\\\n",
       "  -0.05127111 & 0.32760106 & 0.10033162 & 0.53872435 & 0.0905587 & 0.45282458\\\\\n",
       "  0.59535316 & 0.75249504\\\\\n",
       "  -0.50897009 & 0.59891152 & -0.40753574 & 0.20098041 & 0.12738301 & 0.19064451\\\\\n",
       "  0.14643623 & 0.04365317 & -0.07056157 & 0.25775373 & 0.82058294 & 0.2741089\\\\\n",
       "  0.36246416 & 0.83850748\\\\\n",
       "  0.01438181 & 0.50037327 & -0.44938356 & 0.74734405 & 0.46895658 & -0.14024079\\\\\n",
       "  0.59530238 & 0.89962839 & -0.08432922 & 0.50304338 & 0.4647606 & -0.04950146\\\\\n",
       "  0.82050489 & 0.35660342\\\\\n",
       "  -0.45543079 & 0.6655116 & -0.14165179 & 0.50757173 & 0.92580645 & 0.14147426\\\\\n",
       "  -0.01091813 & 0.81191303 & 0.68397126 & 0.2436162 & 0.59849766 & 0.6418926\\\\\n",
       "  0.73129114 & 0.42936045\\\\\n",
       "  -0.06291795 & 0.77959842 & -0.1751451 & -0.010957 & 0.7797461 & -0.21874731\\\\\n",
       "  0.40563511 & 0.54036649 & 0.22335759 & 0.08041019 & -0.03974947 & 0.64776385\\\\\n",
       "  0.79550456 & 0.10491043\\\\\n",
       "  0.22368158 & 0.89872718 & 0.8987989 & 0.56742251 & 0.09199075 & 0.69969323\\\\\n",
       "  0.93298143 & 0.57536116 & 0.52680152 & 0.14530578 & 0.44292338 & 0.32790434\\\\\n",
       "  0.73325875 & 0.45649815\\\\\n",
       "\\end{bmatrix} + \n",
       "\\begin{bmatrix}\n",
       "  -0.31508536 & 0.75218907 & -0.30255206 & 0.50229654 & 0.78007551 & -0.22441466\\\\\n",
       "  -0.13486949 & 0.48751389 & 0.06379033 & 0.00092787 & 0.11298369 & 0.04838192\\\\\n",
       "  0.00299153 & 0.06893656\\\\\n",
       "\\end{bmatrix}\\end{gather}"
      ],
      "text/plain": [
       "<IPython.core.display.Latex object>"
      ]
     },
     "metadata": {},
     "output_type": "display_data"
    },
    {
     "data": {
      "text/latex": [
       "Camada: 1"
      ],
      "text/plain": [
       "<IPython.core.display.Latex object>"
      ]
     },
     "metadata": {},
     "output_type": "display_data"
    },
    {
     "data": {
      "text/latex": [
       "Y = \\sigma(X)"
      ],
      "text/plain": [
       "<IPython.core.display.Latex object>"
      ]
     },
     "metadata": {},
     "output_type": "display_data"
    },
    {
     "data": {
      "text/latex": [
       "\\begin{gather}\n",
       "\\begin{bmatrix}\n",
       "  0.2229621 & 0.85055932 & 0.36782967 & 0.83277058 & 0.72374222 & 0.46824984\\\\\n",
       "  0.49007521 & 0.70240321 & 0.52337305 & 0.68941932 & 0.73577538 & 0.6846696\\\\\n",
       "  0.72328372 & 0.84022982\\\\\n",
       "\\end{bmatrix} = \\sigma(\n",
       "\\begin{bmatrix}\n",
       "  -1.24848735 & 1.73899461 & -0.54153891 & 1.60539156 & 0.96310088 & -0.12717174\\\\\n",
       "  -0.03970437 & 0.85876812 & 0.09356038 & 0.79740595 & 1.02412533 & 0.77531541\\\\\n",
       "  0.96080885 & 1.65993908\\\\\n",
       "\\end{bmatrix}) \\end{gather}"
      ],
      "text/plain": [
       "<IPython.core.display.Latex object>"
      ]
     },
     "metadata": {},
     "output_type": "display_data"
    },
    {
     "data": {
      "text/latex": [
       "Camada: 2"
      ],
      "text/plain": [
       "<IPython.core.display.Latex object>"
      ]
     },
     "metadata": {},
     "output_type": "display_data"
    },
    {
     "data": {
      "text/latex": [
       "Y = Xw + b"
      ],
      "text/plain": [
       "<IPython.core.display.Latex object>"
      ]
     },
     "metadata": {},
     "output_type": "display_data"
    },
    {
     "data": {
      "text/latex": [
       "\\begin{gather}\n",
       "\\begin{bmatrix}\n",
       "  -2.26200326 & -4.90049274 & -3.02864816 & -3.81809348 & -5.44159639 & -3.83249651\\\\\n",
       "  -4.44028743 & -5.8510799 & -4.19126007 & -5.72174791\\\\\n",
       "\\end{bmatrix} = \n",
       "\\begin{bmatrix}\n",
       "  0.2229621 & 0.85055932 & 0.36782967 & 0.83277058 & 0.72374222 & 0.46824984\\\\\n",
       "  0.49007521 & 0.70240321 & 0.52337305 & 0.68941932 & 0.73577538 & 0.6846696\\\\\n",
       "  0.72328372 & 0.84022982\\\\\n",
       "\\end{bmatrix} \\cdot \n",
       "\\begin{bmatrix}\n",
       "  0.06136171 & -0.7787009 & -0.56133096 & -0.32779711 & -0.86975862 & -0.59975327\\\\\n",
       "  -0.76510523 & -0.08505221 & -0.29294846 & -0.04541089\\\\\n",
       "  -0.23373867 & -0.08014527 & -0.54294186 & -0.49818006 & -0.18983777 & -0.61053998\\\\\n",
       "  -0.89584522 & -0.74998984 & -0.4575739 & -1.02272318\\\\\n",
       "  0.45873545 & -0.26145323 & -0.16187863 & 0.14350317 & -0.61068185 & -0.33782416\\\\\n",
       "  -0.1252731 & -0.48951719 & -0.72214242 & -0.09220939\\\\\n",
       "  -0.34824549 & -0.54203445 & -0.68197568 & -0.30843647 & -1.08575676 & -0.27577951\\\\\n",
       "  -0.52914374 & -0.42087228 & 0.01133022 & -0.74953609\\\\\n",
       "  -0.50633484 & -0.99219117 & -0.44756481 & -0.76603658 & -0.32820864 & -0.47593641\\\\\n",
       "  -0.78198599 & -0.4503015 & -0.13816251 & -0.73588984\\\\\n",
       "  0.48277097 & -0.07081292 & -0.50745635 & -0.30679933 & -0.426578 & -0.39602728\\\\\n",
       "  0.05253414 & -0.38603342 & -0.62843999 & -0.33131979\\\\\n",
       "  -0.05969387 & -0.81597991 & 0.05951013 & -0.67806199 & -0.26106333 & -0.19750668\\\\\n",
       "  -0.53606643 & -1.13449614 & -0.25575554 & -0.41745443\\\\\n",
       "  -0.27305405 & -0.74994338 & 0.23650517 & -0.7529976 & -1.03340666 & -0.22099371\\\\\n",
       "  -0.72013254 & -0.24434951 & -0.42575601 & -0.74450508\\\\\n",
       "  -0.47987657 & -0.19720451 & -0.51348263 & -0.1268332 & -0.4933073 & -0.48655133\\\\\n",
       "  -0.23852573 & -0.28400968 & -0.73390619 & -0.96800669\\\\\n",
       "  0.22408202 & -0.98868947 & -0.3460391 & -0.24769161 & -0.41488593 & -0.06315936\\\\\n",
       "  -0.4319851 & -0.98657869 & -0.10231417 & -0.54546253\\\\\n",
       "  -0.35939381 & -0.22510405 & -0.6132721 & 0.10759944 & -0.28817784 & -0.46121234\\\\\n",
       "  -0.74667793 & -0.66488776 & -0.76348905 & -1.01128857\\\\\n",
       "  -0.49020619 & -0.57200036 & -0.6443892 & -0.47180991 & -0.18055774 & -0.10919022\\\\\n",
       "  -0.11222845 & -0.20944562 & -0.26684567 & -0.20957906\\\\\n",
       "  -0.32891285 & -0.34255836 & -0.34349518 & -0.26775828 & -0.39992478 & 0.12851433\\\\\n",
       "  -0.8687437 & -1.02342521 & -0.42730241 & -0.56707813\\\\\n",
       "  -0.40300583 & -0.30714696 & 0.09122391 & -0.38033879 & -0.80572286 & -0.73071648\\\\\n",
       "  0.05208688 & -0.37746927 & -0.72430979 & -0.20990552\\\\\n",
       "\\end{bmatrix} + \n",
       "\\begin{bmatrix}\n",
       "  -0.32091168 & -0.58530875 & 0.12356479 & -0.56367575 & -0.82017722 & -0.81031968\\\\\n",
       "  -0.07763381 & -0.91056778 & -0.54515797 & -0.41158359\\\\\n",
       "\\end{bmatrix}\\end{gather}"
      ],
      "text/plain": [
       "<IPython.core.display.Latex object>"
      ]
     },
     "metadata": {},
     "output_type": "display_data"
    },
    {
     "data": {
      "text/latex": [
       "f_{custo}(\n",
       "\\begin{bmatrix}\n",
       "  0 & 1 & 0 & 0 & 0 & 0 & 0 & 0 & 0 & 0\\\\\n",
       "\\end{bmatrix},\n",
       "\\begin{bmatrix}\n",
       "  -2.26200326 & -4.90049274 & -3.02864816 & -3.81809348 & -5.44159639 & -3.83249651\\\\\n",
       "  -4.44028743 & -5.8510799 & -4.19126007 & -5.72174791\\\\\n",
       "\\end{bmatrix}) = \n",
       "\\begin{bmatrix}\n",
       "  21.223837026061336\\\\\n",
       "\\end{bmatrix}"
      ],
      "text/plain": [
       "<IPython.core.display.Latex object>"
      ]
     },
     "metadata": {},
     "output_type": "display_data"
    },
    {
     "data": {
      "text/latex": [
       "\\nabla f_{custo} = \\frac{\\partial E}{\\partial Y} = \n",
       "\\begin{bmatrix}\n",
       "  -0.45240065 & -1.18009855 & -0.60572963 & -0.7636187 & -1.08831928 & -0.7664993\\\\\n",
       "  -0.88805749 & -1.17021598 & -0.83825201 & -1.14434958\\\\\n",
       "\\end{bmatrix}"
      ],
      "text/plain": [
       "<IPython.core.display.Latex object>"
      ]
     },
     "metadata": {},
     "output_type": "display_data"
    },
    {
     "data": {
      "text/latex": [
       "Camada: 2"
      ],
      "text/plain": [
       "<IPython.core.display.Latex object>"
      ]
     },
     "metadata": {},
     "output_type": "display_data"
    },
    {
     "data": {
      "text/latex": [
       "W = W - \\lambda (X \\cdot \\nabla f_{custo})"
      ],
      "text/plain": [
       "<IPython.core.display.Latex object>"
      ]
     },
     "metadata": {},
     "output_type": "display_data"
    },
    {
     "data": {
      "text/latex": [
       "\\begin{gather}\n",
       "\\begin{bmatrix}\n",
       "  0.13196945 & -0.59451883 & -0.46679264 & -0.20861649 & -0.69990086 & -0.48012306\\\\\n",
       "  -0.62650302 & 0.09758746 & -0.16211957 & 0.13319172\\\\\n",
       "  0.03561685 & 0.6224754 & -0.18229557 & -0.04352796 & 0.4581383 & -0.1541728\\\\\n",
       "  -0.36710332 & -0.05325316 & 0.04151424 & -0.34138714\\\\\n",
       "  0.57521992 & 0.04239944 & -0.0059149 & 0.3401203 & -0.33046057 & -0.14046533\\\\\n",
       "  0.10338462 & -0.18820908 & -0.50630865 & 0.20243862\\\\\n",
       "  -0.08452333 & 0.1458915 & -0.32887201 & 0.13670696 & -0.45133256 & 0.17104314\\\\\n",
       "  -0.01146004 & 0.26129273 & 0.49998036 & -0.08244963\\\\\n",
       "  -0.27713982 & -0.39433017 & -0.14069034 & -0.37917242 & 0.22315519 & -0.08761287\\\\\n",
       "  -0.3320787 & 0.1425528 & 0.28651235 & -0.15613996\\\\\n",
       "  0.63105655 & 0.31599375 & -0.30891338 & -0.0565043 & -0.06985426 & -0.14478805\\\\\n",
       "  0.34361709 & -0.002466 & -0.35368202 & 0.04376927\\\\\n",
       "  0.09550337 & -0.41114398 & 0.26730728 & -0.41610057 & 0.11228748 & 0.06544294\\\\\n",
       "  -0.23141596 & -0.73305045 & 0.03180903 & -0.02488227\\\\\n",
       "  -0.05061668 & -0.16970987 & 0.53433168 & -0.37753984 & -0.49829939 & 0.15588039\\\\\n",
       "  -0.28349044 & 0.33102492 & -0.01360237 & -0.1818487\\\\\n",
       "  -0.31413455 & 0.23513773 & -0.29156684 & 0.15292701 & -0.09458942 & -0.20573577\\\\\n",
       "  0.08682401 & 0.14471198 & -0.42680323 & -0.54876147\\\\\n",
       "  0.44240764 & -0.41918155 & -0.0537179 & 0.12082583 & 0.1103299 & 0.30674824\\\\\n",
       "  -0.00341431 & -0.42184004 & 0.30222082 & 0.00679316\\\\\n",
       "  -0.12638813 & 0.38269717 & -0.30129544 & 0.50089573 & 0.27235314 & -0.06643242\\\\\n",
       "  -0.28929035 & -0.06217648 & -0.33175341 & -0.42189959\\\\\n",
       "  -0.27338471 & -0.00641604 & -0.35408193 & -0.10583136 & 0.34103965 & 0.25816892\\\\\n",
       "  0.31338972 & 0.35140229 & 0.1349023 & 0.3388719\\\\\n",
       "  -0.09986303 & 0.25492389 & -0.03681511 & 0.1188608 & 0.15108976 & 0.51659186\\\\\n",
       "  -0.41912144 & -0.43094649 & -0.00289659 & 0.01230447\\\\\n",
       "  -0.13692146 & 0.38694083 & 0.44749039 & 0.06879185 & -0.16561604 & -0.27989157\\\\\n",
       "  0.57440755 & 0.31080599 & -0.23128275 & 0.46315614\\\\\n",
       "\\end{bmatrix} = \n",
       "\\begin{bmatrix}\n",
       "  0.06136171 & -0.7787009 & -0.56133096 & -0.32779711 & -0.86975862 & -0.59975327\\\\\n",
       "  -0.76510523 & -0.08505221 & -0.29294846 & -0.04541089\\\\\n",
       "  -0.23373867 & -0.08014527 & -0.54294186 & -0.49818006 & -0.18983777 & -0.61053998\\\\\n",
       "  -0.89584522 & -0.74998984 & -0.4575739 & -1.02272318\\\\\n",
       "  0.45873545 & -0.26145323 & -0.16187863 & 0.14350317 & -0.61068185 & -0.33782416\\\\\n",
       "  -0.1252731 & -0.48951719 & -0.72214242 & -0.09220939\\\\\n",
       "  -0.34824549 & -0.54203445 & -0.68197568 & -0.30843647 & -1.08575676 & -0.27577951\\\\\n",
       "  -0.52914374 & -0.42087228 & 0.01133022 & -0.74953609\\\\\n",
       "  -0.50633484 & -0.99219117 & -0.44756481 & -0.76603658 & -0.32820864 & -0.47593641\\\\\n",
       "  -0.78198599 & -0.4503015 & -0.13816251 & -0.73588984\\\\\n",
       "  0.48277097 & -0.07081292 & -0.50745635 & -0.30679933 & -0.426578 & -0.39602728\\\\\n",
       "  0.05253414 & -0.38603342 & -0.62843999 & -0.33131979\\\\\n",
       "  -0.05969387 & -0.81597991 & 0.05951013 & -0.67806199 & -0.26106333 & -0.19750668\\\\\n",
       "  -0.53606643 & -1.13449614 & -0.25575554 & -0.41745443\\\\\n",
       "  -0.27305405 & -0.74994338 & 0.23650517 & -0.7529976 & -1.03340666 & -0.22099371\\\\\n",
       "  -0.72013254 & -0.24434951 & -0.42575601 & -0.74450508\\\\\n",
       "  -0.47987657 & -0.19720451 & -0.51348263 & -0.1268332 & -0.4933073 & -0.48655133\\\\\n",
       "  -0.23852573 & -0.28400968 & -0.73390619 & -0.96800669\\\\\n",
       "  0.22408202 & -0.98868947 & -0.3460391 & -0.24769161 & -0.41488593 & -0.06315936\\\\\n",
       "  -0.4319851 & -0.98657869 & -0.10231417 & -0.54546253\\\\\n",
       "  -0.35939381 & -0.22510405 & -0.6132721 & 0.10759944 & -0.28817784 & -0.46121234\\\\\n",
       "  -0.74667793 & -0.66488776 & -0.76348905 & -1.01128857\\\\\n",
       "  -0.49020619 & -0.57200036 & -0.6443892 & -0.47180991 & -0.18055774 & -0.10919022\\\\\n",
       "  -0.11222845 & -0.20944562 & -0.26684567 & -0.20957906\\\\\n",
       "  -0.32891285 & -0.34255836 & -0.34349518 & -0.26775828 & -0.39992478 & 0.12851433\\\\\n",
       "  -0.8687437 & -1.02342521 & -0.42730241 & -0.56707813\\\\\n",
       "  -0.40300583 & -0.30714696 & 0.09122391 & -0.38033879 & -0.80572286 & -0.73071648\\\\\n",
       "  0.05208688 & -0.37746927 & -0.72430979 & -0.20990552\\\\\n",
       "\\end{bmatrix} - 0.7\n",
       "\\begin{bmatrix}\n",
       "  0.2229621\\\\\n",
       "  0.85055932\\\\\n",
       "  0.36782967\\\\\n",
       "  0.83277058\\\\\n",
       "  0.72374222\\\\\n",
       "  0.46824984\\\\\n",
       "  0.49007521\\\\\n",
       "  0.70240321\\\\\n",
       "  0.52337305\\\\\n",
       "  0.68941932\\\\\n",
       "  0.73577538\\\\\n",
       "  0.6846696\\\\\n",
       "  0.72328372\\\\\n",
       "  0.84022982\\\\\n",
       "\\end{bmatrix} \\cdot \n",
       "\\begin{bmatrix}\n",
       "  -0.45240065 & -1.18009855 & -0.60572963 & -0.7636187 & -1.08831928 & -0.7664993\\\\\n",
       "  -0.88805749 & -1.17021598 & -0.83825201 & -1.14434958\\\\\n",
       "\\end{bmatrix}\\end{gather}"
      ],
      "text/plain": [
       "<IPython.core.display.Latex object>"
      ]
     },
     "metadata": {},
     "output_type": "display_data"
    },
    {
     "data": {
      "text/latex": [
       "\\nabla f_{custo} = \\frac{\\partial E}{\\partial Y} = \n",
       "\\begin{bmatrix}\n",
       "  3.96431351 & 4.81132823 & 2.40798782 & 4.64951137 & 5.15734217 & 2.48565295\\\\\n",
       "  4.40294972 & 4.8686754 & 4.0346318 & 4.21216683 & 4.62311463 & 2.73587115\\\\\n",
       "  4.27856876 & 3.45976181\\\\\n",
       "\\end{bmatrix}"
      ],
      "text/plain": [
       "<IPython.core.display.Latex object>"
      ]
     },
     "metadata": {},
     "output_type": "display_data"
    },
    {
     "data": {
      "text/latex": [
       "Camada: 1"
      ],
      "text/plain": [
       "<IPython.core.display.Latex object>"
      ]
     },
     "metadata": {},
     "output_type": "display_data"
    },
    {
     "data": {
      "text/latex": [
       "\\nabla = \\frac{\\partial E}{\\partial Y} \\frac{\\partial Y}{\\partial X}"
      ],
      "text/plain": [
       "<IPython.core.display.Latex object>"
      ]
     },
     "metadata": {},
     "output_type": "display_data"
    },
    {
     "data": {
      "text/latex": [
       "\\begin{gather}\n",
       "\\begin{bmatrix}\n",
       "  0.2229621 & 0.85055932 & 0.36782967 & 0.83277058 & 0.72374222 & 0.46824984\\\\\n",
       "  0.49007521 & 0.70240321 & 0.52337305 & 0.68941932 & 0.73577538 & 0.6846696\\\\\n",
       "  0.72328372 & 0.84022982\\\\\n",
       "\\end{bmatrix} = \\sigma(\n",
       "\\begin{bmatrix}\n",
       "  -1.24848735 & 1.73899461 & -0.54153891 & 1.60539156 & 0.96310088 & -0.12717174\\\\\n",
       "  -0.03970437 & 0.85876812 & 0.09356038 & 0.79740595 & 1.02412533 & 0.77531541\\\\\n",
       "  0.96080885 & 1.65993908\\\\\n",
       "\\end{bmatrix}) \\end{gather}"
      ],
      "text/plain": [
       "<IPython.core.display.Latex object>"
      ]
     },
     "metadata": {},
     "output_type": "display_data"
    },
    {
     "data": {
      "text/latex": [
       "\\nabla f_{custo} = \\frac{\\partial E}{\\partial Y} = \n",
       "\\begin{bmatrix}\n",
       "  0.68681731 & 0.6115591 & 0.55993182 & 0.64750834 & 1.03115599 & 0.61890752\\\\\n",
       "  1.10030373 & 1.01771353 & 1.00645383 & 0.90191052 & 0.89877957 & 0.59066676\\\\\n",
       "  0.85633149 & 0.46445111\\\\\n",
       "\\end{bmatrix}"
      ],
      "text/plain": [
       "<IPython.core.display.Latex object>"
      ]
     },
     "metadata": {},
     "output_type": "display_data"
    },
    {
     "data": {
      "text/latex": [
       "Camada: 0"
      ],
      "text/plain": [
       "<IPython.core.display.Latex object>"
      ]
     },
     "metadata": {},
     "output_type": "display_data"
    },
    {
     "data": {
      "text/latex": [
       "W = W - \\lambda (X \\cdot \\nabla f_{custo})"
      ],
      "text/plain": [
       "<IPython.core.display.Latex object>"
      ]
     },
     "metadata": {},
     "output_type": "display_data"
    },
    {
     "data": {
      "text/latex": [
       "\\begin{gather}\n",
       "\\begin{bmatrix}\n",
       "  -0.45459588 & -0.03636867 & 0.19650859 & 0.88708427 & 0.59871179 & 0.45960002\\\\\n",
       "  0.66264307 & 0.04694331 & 0.73573115 & 0.02869964 & 0.06987875 & 0.82434937\\\\\n",
       "  0.92856238 & 0.11901369\\\\\n",
       "  -0.90520402 & -0.04019735 & -0.22340338 & 0.44885876 & -0.66616683 & -0.52663686\\\\\n",
       "  -0.82148372 & -0.38479841 & -0.60418606 & -0.09261301 & -0.538587 & 0.03935785\\\\\n",
       "  -0.00407888 & 0.42737926\\\\\n",
       "  -0.98974221 & 0.17082015 & -0.79948801 & -0.25227543 & -0.59442618 & -0.24259075\\\\\n",
       "  -0.62377638 & -0.6687463 & -0.77507926 & -0.37358363 & 0.19143724 & -0.13935783\\\\\n",
       "  -0.23696789 & 0.5133917\\\\\n",
       "  0.01438181 & 0.50037327 & -0.44938356 & 0.74734405 & 0.46895658 & -0.14024079\\\\\n",
       "  0.59530238 & 0.89962839 & -0.08432922 & 0.50304338 & 0.4647606 & -0.04950146\\\\\n",
       "  0.82050489 & 0.35660342\\\\\n",
       "  -0.45543079 & 0.6655116 & -0.14165179 & 0.50757173 & 0.92580645 & 0.14147426\\\\\n",
       "  -0.01091813 & 0.81191303 & 0.68397126 & 0.2436162 & 0.59849766 & 0.6418926\\\\\n",
       "  0.73129114 & 0.42936045\\\\\n",
       "  -0.06291795 & 0.77959842 & -0.1751451 & -0.010957 & 0.7797461 & -0.21874731\\\\\n",
       "  0.40563511 & 0.54036649 & 0.22335759 & 0.08041019 & -0.03974947 & 0.64776385\\\\\n",
       "  0.79550456 & 0.10491043\\\\\n",
       "  0.22368158 & 0.89872718 & 0.8987989 & 0.56742251 & 0.09199075 & 0.69969323\\\\\n",
       "  0.93298143 & 0.57536116 & 0.52680152 & 0.14530578 & 0.44292338 & 0.32790434\\\\\n",
       "  0.73325875 & 0.45649815\\\\\n",
       "\\end{bmatrix} = \n",
       "\\begin{bmatrix}\n",
       "  -0.45459588 & -0.03636867 & 0.19650859 & 0.88708427 & 0.59871179 & 0.45960002\\\\\n",
       "  0.66264307 & 0.04694331 & 0.73573115 & 0.02869964 & 0.06987875 & 0.82434937\\\\\n",
       "  0.92856238 & 0.11901369\\\\\n",
       "  -0.4244319 & 0.38789402 & 0.1685489 & 0.9021146 & 0.05564236 & -0.09340159\\\\\n",
       "  -0.05127111 & 0.32760106 & 0.10033162 & 0.53872435 & 0.0905587 & 0.45282458\\\\\n",
       "  0.59535316 & 0.75249504\\\\\n",
       "  -0.50897009 & 0.59891152 & -0.40753574 & 0.20098041 & 0.12738301 & 0.19064451\\\\\n",
       "  0.14643623 & 0.04365317 & -0.07056157 & 0.25775373 & 0.82058294 & 0.2741089\\\\\n",
       "  0.36246416 & 0.83850748\\\\\n",
       "  0.01438181 & 0.50037327 & -0.44938356 & 0.74734405 & 0.46895658 & -0.14024079\\\\\n",
       "  0.59530238 & 0.89962839 & -0.08432922 & 0.50304338 & 0.4647606 & -0.04950146\\\\\n",
       "  0.82050489 & 0.35660342\\\\\n",
       "  -0.45543079 & 0.6655116 & -0.14165179 & 0.50757173 & 0.92580645 & 0.14147426\\\\\n",
       "  -0.01091813 & 0.81191303 & 0.68397126 & 0.2436162 & 0.59849766 & 0.6418926\\\\\n",
       "  0.73129114 & 0.42936045\\\\\n",
       "  -0.06291795 & 0.77959842 & -0.1751451 & -0.010957 & 0.7797461 & -0.21874731\\\\\n",
       "  0.40563511 & 0.54036649 & 0.22335759 & 0.08041019 & -0.03974947 & 0.64776385\\\\\n",
       "  0.79550456 & 0.10491043\\\\\n",
       "  0.22368158 & 0.89872718 & 0.8987989 & 0.56742251 & 0.09199075 & 0.69969323\\\\\n",
       "  0.93298143 & 0.57536116 & 0.52680152 & 0.14530578 & 0.44292338 & 0.32790434\\\\\n",
       "  0.73325875 & 0.45649815\\\\\n",
       "\\end{bmatrix} - 0.7\n",
       "\\begin{bmatrix}\n",
       "  0\\\\\n",
       "  1\\\\\n",
       "  1\\\\\n",
       "  0\\\\\n",
       "  0\\\\\n",
       "  0\\\\\n",
       "  0\\\\\n",
       "\\end{bmatrix} \\cdot \n",
       "\\begin{bmatrix}\n",
       "  0.68681731 & 0.6115591 & 0.55993182 & 0.64750834 & 1.03115599 & 0.61890752\\\\\n",
       "  1.10030373 & 1.01771353 & 1.00645383 & 0.90191052 & 0.89877957 & 0.59066676\\\\\n",
       "  0.85633149 & 0.46445111\\\\\n",
       "\\end{bmatrix}\\end{gather}"
      ],
      "text/plain": [
       "<IPython.core.display.Latex object>"
      ]
     },
     "metadata": {},
     "output_type": "display_data"
    },
    {
     "data": {
      "text/latex": [
       "Camada: 0"
      ],
      "text/plain": [
       "<IPython.core.display.Latex object>"
      ]
     },
     "metadata": {},
     "output_type": "display_data"
    },
    {
     "data": {
      "text/latex": [
       "Y = Xw + b"
      ],
      "text/plain": [
       "<IPython.core.display.Latex object>"
      ]
     },
     "metadata": {},
     "output_type": "display_data"
    },
    {
     "data": {
      "text/latex": [
       "\\begin{gather}\n",
       "\\begin{bmatrix}\n",
       "  -2.37302478 & 2.31214373 & -0.41363558 & 3.20732202 & 1.47756507 & -0.02376006\\\\\n",
       "  0.45344292 & 1.72416191 & 0.61726129 & 0.1976425 & 0.52131138 & 1.4189179\\\\\n",
       "  2.61309776 & 1.53267575\\\\\n",
       "\\end{bmatrix} = \n",
       "\\begin{bmatrix}\n",
       "  1 & 1 & 0 & 1 & 1 & 0 & 1\\\\\n",
       "\\end{bmatrix} \\cdot \n",
       "\\begin{bmatrix}\n",
       "  -0.45459588 & -0.03636867 & 0.19650859 & 0.88708427 & 0.59871179 & 0.45960002\\\\\n",
       "  0.66264307 & 0.04694331 & 0.73573115 & 0.02869964 & 0.06987875 & 0.82434937\\\\\n",
       "  0.92856238 & 0.11901369\\\\\n",
       "  -0.90520402 & -0.04019735 & -0.22340338 & 0.44885876 & -0.66616683 & -0.52663686\\\\\n",
       "  -0.82148372 & -0.38479841 & -0.60418606 & -0.09261301 & -0.538587 & 0.03935785\\\\\n",
       "  -0.00407888 & 0.42737926\\\\\n",
       "  -0.98974221 & 0.17082015 & -0.79948801 & -0.25227543 & -0.59442618 & -0.24259075\\\\\n",
       "  -0.62377638 & -0.6687463 & -0.77507926 & -0.37358363 & 0.19143724 & -0.13935783\\\\\n",
       "  -0.23696789 & 0.5133917\\\\\n",
       "  0.01438181 & 0.50037327 & -0.44938356 & 0.74734405 & 0.46895658 & -0.14024079\\\\\n",
       "  0.59530238 & 0.89962839 & -0.08432922 & 0.50304338 & 0.4647606 & -0.04950146\\\\\n",
       "  0.82050489 & 0.35660342\\\\\n",
       "  -0.45543079 & 0.6655116 & -0.14165179 & 0.50757173 & 0.92580645 & 0.14147426\\\\\n",
       "  -0.01091813 & 0.81191303 & 0.68397126 & 0.2436162 & 0.59849766 & 0.6418926\\\\\n",
       "  0.73129114 & 0.42936045\\\\\n",
       "  -0.06291795 & 0.77959842 & -0.1751451 & -0.010957 & 0.7797461 & -0.21874731\\\\\n",
       "  0.40563511 & 0.54036649 & 0.22335759 & 0.08041019 & -0.03974947 & 0.64776385\\\\\n",
       "  0.79550456 & 0.10491043\\\\\n",
       "  0.22368158 & 0.89872718 & 0.8987989 & 0.56742251 & 0.09199075 & 0.69969323\\\\\n",
       "  0.93298143 & 0.57536116 & 0.52680152 & 0.14530578 & 0.44292338 & 0.32790434\\\\\n",
       "  0.73325875 & 0.45649815\\\\\n",
       "\\end{bmatrix} + \n",
       "\\begin{bmatrix}\n",
       "  -0.79585748 & 0.3240977 & -0.69450434 & 0.0490407 & 0.05826631 & -0.65764992\\\\\n",
       "  -0.9050821 & -0.22488558 & -0.64072735 & -0.63040949 & -0.51616201 & -0.36508481\\\\\n",
       "  -0.59644051 & -0.25617922\\\\\n",
       "\\end{bmatrix}\\end{gather}"
      ],
      "text/plain": [
       "<IPython.core.display.Latex object>"
      ]
     },
     "metadata": {},
     "output_type": "display_data"
    },
    {
     "data": {
      "text/latex": [
       "Camada: 1"
      ],
      "text/plain": [
       "<IPython.core.display.Latex object>"
      ]
     },
     "metadata": {},
     "output_type": "display_data"
    },
    {
     "data": {
      "text/latex": [
       "Y = \\sigma(X)"
      ],
      "text/plain": [
       "<IPython.core.display.Latex object>"
      ]
     },
     "metadata": {},
     "output_type": "display_data"
    },
    {
     "data": {
      "text/latex": [
       "\\begin{gather}\n",
       "\\begin{bmatrix}\n",
       "  0.08525296 & 0.9098778 & 0.3980407 & 0.96110889 & 0.81420452 & 0.49406026\\\\\n",
       "  0.61145751 & 0.84866414 & 0.64959542 & 0.54925041 & 0.62745436 & 0.80516872\\\\\n",
       "  0.93169979 & 0.82239747\\\\\n",
       "\\end{bmatrix} = \\sigma(\n",
       "\\begin{bmatrix}\n",
       "  -2.37302478 & 2.31214373 & -0.41363558 & 3.20732202 & 1.47756507 & -0.02376006\\\\\n",
       "  0.45344292 & 1.72416191 & 0.61726129 & 0.1976425 & 0.52131138 & 1.4189179\\\\\n",
       "  2.61309776 & 1.53267575\\\\\n",
       "\\end{bmatrix}) \\end{gather}"
      ],
      "text/plain": [
       "<IPython.core.display.Latex object>"
      ]
     },
     "metadata": {},
     "output_type": "display_data"
    },
    {
     "data": {
      "text/latex": [
       "Camada: 2"
      ],
      "text/plain": [
       "<IPython.core.display.Latex object>"
      ]
     },
     "metadata": {},
     "output_type": "display_data"
    },
    {
     "data": {
      "text/latex": [
       "Y = Xw + b"
      ],
      "text/plain": [
       "<IPython.core.display.Latex object>"
      ]
     },
     "metadata": {},
     "output_type": "display_data"
    },
    {
     "data": {
      "text/latex": [
       "\\begin{gather}\n",
       "\\begin{bmatrix}\n",
       "  -0.17741511 & 1.06637687 & 0.01388428 & -0.16913548 & -0.02433143 & 0.13508574\\\\\n",
       "  -0.0887524 & -0.04745944 & 0.00731909 & -0.13576983\\\\\n",
       "\\end{bmatrix} = \n",
       "\\begin{bmatrix}\n",
       "  0.08525296 & 0.9098778 & 0.3980407 & 0.96110889 & 0.81420452 & 0.49406026\\\\\n",
       "  0.61145751 & 0.84866414 & 0.64959542 & 0.54925041 & 0.62745436 & 0.80516872\\\\\n",
       "  0.93169979 & 0.82239747\\\\\n",
       "\\end{bmatrix} \\cdot \n",
       "\\begin{bmatrix}\n",
       "  0.13196945 & -0.59451883 & -0.46679264 & -0.20861649 & -0.69990086 & -0.48012306\\\\\n",
       "  -0.62650302 & 0.09758746 & -0.16211957 & 0.13319172\\\\\n",
       "  0.03561685 & 0.6224754 & -0.18229557 & -0.04352796 & 0.4581383 & -0.1541728\\\\\n",
       "  -0.36710332 & -0.05325316 & 0.04151424 & -0.34138714\\\\\n",
       "  0.57521992 & 0.04239944 & -0.0059149 & 0.3401203 & -0.33046057 & -0.14046533\\\\\n",
       "  0.10338462 & -0.18820908 & -0.50630865 & 0.20243862\\\\\n",
       "  -0.08452333 & 0.1458915 & -0.32887201 & 0.13670696 & -0.45133256 & 0.17104314\\\\\n",
       "  -0.01146004 & 0.26129273 & 0.49998036 & -0.08244963\\\\\n",
       "  -0.27713982 & -0.39433017 & -0.14069034 & -0.37917242 & 0.22315519 & -0.08761287\\\\\n",
       "  -0.3320787 & 0.1425528 & 0.28651235 & -0.15613996\\\\\n",
       "  0.63105655 & 0.31599375 & -0.30891338 & -0.0565043 & -0.06985426 & -0.14478805\\\\\n",
       "  0.34361709 & -0.002466 & -0.35368202 & 0.04376927\\\\\n",
       "  0.09550337 & -0.41114398 & 0.26730728 & -0.41610057 & 0.11228748 & 0.06544294\\\\\n",
       "  -0.23141596 & -0.73305045 & 0.03180903 & -0.02488227\\\\\n",
       "  -0.05061668 & -0.16970987 & 0.53433168 & -0.37753984 & -0.49829939 & 0.15588039\\\\\n",
       "  -0.28349044 & 0.33102492 & -0.01360237 & -0.1818487\\\\\n",
       "  -0.31413455 & 0.23513773 & -0.29156684 & 0.15292701 & -0.09458942 & -0.20573577\\\\\n",
       "  0.08682401 & 0.14471198 & -0.42680323 & -0.54876147\\\\\n",
       "  0.44240764 & -0.41918155 & -0.0537179 & 0.12082583 & 0.1103299 & 0.30674824\\\\\n",
       "  -0.00341431 & -0.42184004 & 0.30222082 & 0.00679316\\\\\n",
       "  -0.12638813 & 0.38269717 & -0.30129544 & 0.50089573 & 0.27235314 & -0.06643242\\\\\n",
       "  -0.28929035 & -0.06217648 & -0.33175341 & -0.42189959\\\\\n",
       "  -0.27338471 & -0.00641604 & -0.35408193 & -0.10583136 & 0.34103965 & 0.25816892\\\\\n",
       "  0.31338972 & 0.35140229 & 0.1349023 & 0.3388719\\\\\n",
       "  -0.09986303 & 0.25492389 & -0.03681511 & 0.1188608 & 0.15108976 & 0.51659186\\\\\n",
       "  -0.41912144 & -0.43094649 & -0.00289659 & 0.01230447\\\\\n",
       "  -0.13692146 & 0.38694083 & 0.44749039 & 0.06879185 & -0.16561604 & -0.27989157\\\\\n",
       "  0.57440755 & 0.31080599 & -0.23128275 & 0.46315614\\\\\n",
       "\\end{bmatrix} + \n",
       "\\begin{bmatrix}\n",
       "  -0.00423122 & 0.24076023 & 0.54757553 & -0.02914267 & -0.05835373 & -0.27377017\\\\\n",
       "  0.54400643 & -0.09141659 & 0.04161844 & 0.38946112\\\\\n",
       "\\end{bmatrix}\\end{gather}"
      ],
      "text/plain": [
       "<IPython.core.display.Latex object>"
      ]
     },
     "metadata": {},
     "output_type": "display_data"
    },
    {
     "data": {
      "text/latex": [
       "f_{custo}(\n",
       "\\begin{bmatrix}\n",
       "  0 & 0 & 1 & 0 & 0 & 0 & 0 & 0 & 0 & 0\\\\\n",
       "\\end{bmatrix},\n",
       "\\begin{bmatrix}\n",
       "  -0.17741511 & 1.06637687 & 0.01388428 & -0.16913548 & -0.02433143 & 0.13508574\\\\\n",
       "  -0.0887524 & -0.04745944 & 0.00731909 & -0.13576983\\\\\n",
       "\\end{bmatrix}) = \n",
       "\\begin{bmatrix}\n",
       "  0.2217123344181481\\\\\n",
       "\\end{bmatrix}"
      ],
      "text/plain": [
       "<IPython.core.display.Latex object>"
      ]
     },
     "metadata": {},
     "output_type": "display_data"
    },
    {
     "data": {
      "text/latex": [
       "\\nabla f_{custo} = \\frac{\\partial E}{\\partial Y} = \n",
       "\\begin{bmatrix}\n",
       "  -0.03548302 & 0.21327537 & -0.19722314 & -0.0338271 & -0.00486629 & 0.02701715\\\\\n",
       "  -0.01775048 & -0.00949189 & 0.00146382 & -0.02715397\\\\\n",
       "\\end{bmatrix}"
      ],
      "text/plain": [
       "<IPython.core.display.Latex object>"
      ]
     },
     "metadata": {},
     "output_type": "display_data"
    },
    {
     "data": {
      "text/latex": [
       "Camada: 2"
      ],
      "text/plain": [
       "<IPython.core.display.Latex object>"
      ]
     },
     "metadata": {},
     "output_type": "display_data"
    },
    {
     "data": {
      "text/latex": [
       "W = W - \\lambda (X \\cdot \\nabla f_{custo})"
      ],
      "text/plain": [
       "<IPython.core.display.Latex object>"
      ]
     },
     "metadata": {},
     "output_type": "display_data"
    },
    {
     "data": {
      "text/latex": [
       "\\begin{gather}\n",
       "\\begin{bmatrix}\n",
       "  1.34086969e-01 & -6.07246476e-01 & -4.55022936e-01 & -2.06597786e-01\\\\\n",
       "  -6.99610456e-01 & -4.81735368e-01 & -6.25443721e-01 & 9.81539035e-02\\\\\n",
       "  -1.62206922e-01 & 1.34812188e-01\\\\\n",
       "  5.82164970e-02 & 4.86637230e-01 & -5.66812975e-02 & -2.19829966e-02\\\\\n",
       "  4.61237712e-01 & -1.71380408e-01 & -3.55797787e-01 & -4.72076409e-02\\\\\n",
       "  4.05819163e-02 & -3.24092388e-01\\\\\n",
       "  5.85106498e-01 & -1.70251504e-02 & 4.90370868e-02 & 3.49545490e-01\\\\\n",
       "  -3.29104685e-01 & -1.47993079e-01 & 1.08330413e-01 & -1.85564372e-01\\\\\n",
       "  -5.06716507e-01 & 2.10004489e-01\\\\\n",
       "  -6.06511921e-02 & 2.40489607e-03 & -1.96184970e-01 & 1.59465023e-01\\\\\n",
       "  -4.48058642e-01 & 1.52866643e-01 & 4.82061004e-04 & 2.67678646e-01\\\\\n",
       "  4.98995533e-01 & -6.41810836e-02\\\\\n",
       "  -2.56916518e-01 & -5.15885009e-01 & -2.82843549e-02 & -3.59892896e-01\\\\\n",
       "  2.25928696e-01 & -1.03011110e-01 & -3.21961934e-01 & 1.47962633e-01\\\\\n",
       "  2.85678059e-01 & -1.40663743e-01\\\\\n",
       "  6.43328071e-01 & 2.42234130e-01 & -2.40705300e-01 & -4.48054632e-02\\\\\n",
       "  -6.81712955e-02 & -1.54131722e-01 & 3.49755951e-01 & 8.16690924e-04\\\\\n",
       "  -3.54188274e-01 & 5.31602605e-02\\\\\n",
       "  1.10690820e-01 & -5.02430159e-01 & 3.51722785e-01 & -4.01621888e-01\\\\\n",
       "  1.14370351e-01 & 5.38790501e-02 & -2.23818394e-01 & -7.28987731e-01\\\\\n",
       "  3.11824848e-02 & -1.32598242e-02\\\\\n",
       "  -2.95374632e-02 & -2.96409280e-01 & 6.51495025e-01 & -3.57444346e-01\\\\\n",
       "  -4.95408501e-01 & 1.39830448e-01 & -2.72945498e-01 & 3.36663715e-01\\\\\n",
       "  -1.44719760e-02 & -1.65717485e-01\\\\\n",
       "  -2.97999829e-01 & 1.38157835e-01 & -2.01886165e-01 & 1.68308761e-01\\\\\n",
       "  -9.23766374e-02 & -2.18020925e-01 & 9.48954539e-02 & 1.49028097e-01\\\\\n",
       "  -4.27468853e-01 & -5.36414111e-01\\\\\n",
       "  4.56049985e-01 & -5.01180662e-01 & 2.21095195e-02 & 1.33831513e-01\\\\\n",
       "  1.12200867e-01 & 2.96360813e-01 & 3.41031375e-03 & -4.18190646e-01\\\\\n",
       "  3.01658021e-01 & 1.72331892e-02\\\\\n",
       "  -1.10803342e-01 & 2.89022774e-01 & -2.14671471e-01 & 5.15753198e-01\\\\\n",
       "  2.74490498e-01 & -7.82988350e-02 & -2.81494016e-01 & -5.80074699e-02\\\\\n",
       "  -3.32396350e-01 & -4.09973081e-01\\\\\n",
       "  -2.53385839e-01 & -1.26621901e-01 & -2.42923400e-01 & -8.67657948e-02\\\\\n",
       "  3.43782376e-01 & 2.42941568e-01 & 3.23394215e-01 & 3.56752092e-01\\\\\n",
       "  1.34077265e-01 & 3.54176364e-01\\\\\n",
       "  -7.67213671e-02 & 1.15827854e-01 & 9.18118251e-02 & 1.40922487e-01\\\\\n",
       "  1.54263498e-01 & 4.98971547e-01 & -4.07544755e-01 & -4.24755979e-01\\\\\n",
       "  -3.85127699e-03 & 3.00140099e-02\\\\\n",
       "  -1.16494661e-01 & 2.64162845e-01 & 5.61027457e-01 & 8.82653725e-02\\\\\n",
       "  -1.62814627e-01 & -2.95444757e-01 & 5.84626117e-01 & 3.16270265e-01\\\\\n",
       "  -2.32125435e-01 & 4.78788085e-01\\\\\n",
       "\\end{bmatrix} = \n",
       "\\begin{bmatrix}\n",
       "  0.13196945 & -0.59451883 & -0.46679264 & -0.20861649 & -0.69990086 & -0.48012306\\\\\n",
       "  -0.62650302 & 0.09758746 & -0.16211957 & 0.13319172\\\\\n",
       "  0.03561685 & 0.6224754 & -0.18229557 & -0.04352796 & 0.4581383 & -0.1541728\\\\\n",
       "  -0.36710332 & -0.05325316 & 0.04151424 & -0.34138714\\\\\n",
       "  0.57521992 & 0.04239944 & -0.0059149 & 0.3401203 & -0.33046057 & -0.14046533\\\\\n",
       "  0.10338462 & -0.18820908 & -0.50630865 & 0.20243862\\\\\n",
       "  -0.08452333 & 0.1458915 & -0.32887201 & 0.13670696 & -0.45133256 & 0.17104314\\\\\n",
       "  -0.01146004 & 0.26129273 & 0.49998036 & -0.08244963\\\\\n",
       "  -0.27713982 & -0.39433017 & -0.14069034 & -0.37917242 & 0.22315519 & -0.08761287\\\\\n",
       "  -0.3320787 & 0.1425528 & 0.28651235 & -0.15613996\\\\\n",
       "  0.63105655 & 0.31599375 & -0.30891338 & -0.0565043 & -0.06985426 & -0.14478805\\\\\n",
       "  0.34361709 & -0.002466 & -0.35368202 & 0.04376927\\\\\n",
       "  0.09550337 & -0.41114398 & 0.26730728 & -0.41610057 & 0.11228748 & 0.06544294\\\\\n",
       "  -0.23141596 & -0.73305045 & 0.03180903 & -0.02488227\\\\\n",
       "  -0.05061668 & -0.16970987 & 0.53433168 & -0.37753984 & -0.49829939 & 0.15588039\\\\\n",
       "  -0.28349044 & 0.33102492 & -0.01360237 & -0.1818487\\\\\n",
       "  -0.31413455 & 0.23513773 & -0.29156684 & 0.15292701 & -0.09458942 & -0.20573577\\\\\n",
       "  0.08682401 & 0.14471198 & -0.42680323 & -0.54876147\\\\\n",
       "  0.44240764 & -0.41918155 & -0.0537179 & 0.12082583 & 0.1103299 & 0.30674824\\\\\n",
       "  -0.00341431 & -0.42184004 & 0.30222082 & 0.00679316\\\\\n",
       "  -0.12638813 & 0.38269717 & -0.30129544 & 0.50089573 & 0.27235314 & -0.06643242\\\\\n",
       "  -0.28929035 & -0.06217648 & -0.33175341 & -0.42189959\\\\\n",
       "  -0.27338471 & -0.00641604 & -0.35408193 & -0.10583136 & 0.34103965 & 0.25816892\\\\\n",
       "  0.31338972 & 0.35140229 & 0.1349023 & 0.3388719\\\\\n",
       "  -0.09986303 & 0.25492389 & -0.03681511 & 0.1188608 & 0.15108976 & 0.51659186\\\\\n",
       "  -0.41912144 & -0.43094649 & -0.00289659 & 0.01230447\\\\\n",
       "  -0.13692146 & 0.38694083 & 0.44749039 & 0.06879185 & -0.16561604 & -0.27989157\\\\\n",
       "  0.57440755 & 0.31080599 & -0.23128275 & 0.46315614\\\\\n",
       "\\end{bmatrix} - 0.7\n",
       "\\begin{bmatrix}\n",
       "  0.08525296\\\\\n",
       "  0.9098778\\\\\n",
       "  0.3980407\\\\\n",
       "  0.96110889\\\\\n",
       "  0.81420452\\\\\n",
       "  0.49406026\\\\\n",
       "  0.61145751\\\\\n",
       "  0.84866414\\\\\n",
       "  0.64959542\\\\\n",
       "  0.54925041\\\\\n",
       "  0.62745436\\\\\n",
       "  0.80516872\\\\\n",
       "  0.93169979\\\\\n",
       "  0.82239747\\\\\n",
       "\\end{bmatrix} \\cdot \n",
       "\\begin{bmatrix}\n",
       "  -0.03548302 & 0.21327537 & -0.19722314 & -0.0338271 & -0.00486629 & 0.02701715\\\\\n",
       "  -0.01775048 & -0.00949189 & 0.00146382 & -0.02715397\\\\\n",
       "\\end{bmatrix}\\end{gather}"
      ],
      "text/plain": [
       "<IPython.core.display.Latex object>"
      ]
     },
     "metadata": {},
     "output_type": "display_data"
    },
    {
     "data": {
      "text/latex": [
       "\\nabla f_{custo} = \\frac{\\partial E}{\\partial Y} = \n",
       "\\begin{bmatrix}\n",
       "  -0.03558489 & 0.17887799 & -0.03018019 & 0.10186236 & -0.02794577 & 0.09648411\\\\\n",
       "  -0.11670969 & -0.11356605 & 0.11988962 & -0.08651867 & 0.14215877 & 0.06915811\\\\\n",
       "  0.08556585 & -0.03601632\\\\\n",
       "\\end{bmatrix}"
      ],
      "text/plain": [
       "<IPython.core.display.Latex object>"
      ]
     },
     "metadata": {},
     "output_type": "display_data"
    },
    {
     "data": {
      "text/latex": [
       "Camada: 1"
      ],
      "text/plain": [
       "<IPython.core.display.Latex object>"
      ]
     },
     "metadata": {},
     "output_type": "display_data"
    },
    {
     "data": {
      "text/latex": [
       "\\nabla = \\frac{\\partial E}{\\partial Y} \\frac{\\partial Y}{\\partial X}"
      ],
      "text/plain": [
       "<IPython.core.display.Latex object>"
      ]
     },
     "metadata": {},
     "output_type": "display_data"
    },
    {
     "data": {
      "text/latex": [
       "\\begin{gather}\n",
       "\\begin{bmatrix}\n",
       "  0.08525296 & 0.9098778 & 0.3980407 & 0.96110889 & 0.81420452 & 0.49406026\\\\\n",
       "  0.61145751 & 0.84866414 & 0.64959542 & 0.54925041 & 0.62745436 & 0.80516872\\\\\n",
       "  0.93169979 & 0.82239747\\\\\n",
       "\\end{bmatrix} = \\sigma(\n",
       "\\begin{bmatrix}\n",
       "  -2.37302478 & 2.31214373 & -0.41363558 & 3.20732202 & 1.47756507 & -0.02376006\\\\\n",
       "  0.45344292 & 1.72416191 & 0.61726129 & 0.1976425 & 0.52131138 & 1.4189179\\\\\n",
       "  2.61309776 & 1.53267575\\\\\n",
       "\\end{bmatrix}) \\end{gather}"
      ],
      "text/plain": [
       "<IPython.core.display.Latex object>"
      ]
     },
     "metadata": {},
     "output_type": "display_data"
    },
    {
     "data": {
      "text/latex": [
       "\\nabla f_{custo} = \\frac{\\partial E}{\\partial Y} = \n",
       "\\begin{bmatrix}\n",
       "  -0.00277508 & 0.01466803 & -0.0072313 & 0.00380747 & -0.00422751 & 0.02411762\\\\\n",
       "  -0.02772756 & -0.01458566 & 0.02728942 & -0.02141981 & 0.03323038 & 0.01084897\\\\\n",
       "  0.00544501 & -0.00526054\\\\\n",
       "\\end{bmatrix}"
      ],
      "text/plain": [
       "<IPython.core.display.Latex object>"
      ]
     },
     "metadata": {},
     "output_type": "display_data"
    },
    {
     "data": {
      "text/latex": [
       "Camada: 0"
      ],
      "text/plain": [
       "<IPython.core.display.Latex object>"
      ]
     },
     "metadata": {},
     "output_type": "display_data"
    },
    {
     "data": {
      "text/latex": [
       "W = W - \\lambda (X \\cdot \\nabla f_{custo})"
      ],
      "text/plain": [
       "<IPython.core.display.Latex object>"
      ]
     },
     "metadata": {},
     "output_type": "display_data"
    },
    {
     "data": {
      "text/latex": [
       "\\begin{gather}\n",
       "\\begin{bmatrix}\n",
       "  -0.45265332 & -0.04663629 & 0.2015705 & 0.88441904 & 0.60167105 & 0.44271768\\\\\n",
       "  0.68205236 & 0.05715327 & 0.71662855 & 0.04369351 & 0.04661749 & 0.81675509\\\\\n",
       "  0.92475088 & 0.12269606\\\\\n",
       "  -0.90326146 & -0.05046497 & -0.21834147 & 0.44619353 & -0.66320757 & -0.54351919\\\\\n",
       "  -0.80207443 & -0.37458844 & -0.62328866 & -0.07761915 & -0.56184826 & 0.03176357\\\\\n",
       "  -0.00789039 & 0.43106163\\\\\n",
       "  -0.98974221 & 0.17082015 & -0.79948801 & -0.25227543 & -0.59442618 & -0.24259075\\\\\n",
       "  -0.62377638 & -0.6687463 & -0.77507926 & -0.37358363 & 0.19143724 & -0.13935783\\\\\n",
       "  -0.23696789 & 0.5133917\\\\\n",
       "  0.01632437 & 0.49010565 & -0.44432165 & 0.74467882 & 0.47191584 & -0.15712313\\\\\n",
       "  0.61471167 & 0.90983835 & -0.10343182 & 0.51803725 & 0.44149934 & -0.05709574\\\\\n",
       "  0.81669338 & 0.3602858\\\\\n",
       "  -0.45348823 & 0.65524398 & -0.13658988 & 0.5049065 & 0.92876571 & 0.12459192\\\\\n",
       "  0.00849116 & 0.82212299 & 0.66486867 & 0.25861006 & 0.57523639 & 0.63429832\\\\\n",
       "  0.72747963 & 0.43304283\\\\\n",
       "  -0.06291795 & 0.77959842 & -0.1751451 & -0.010957 & 0.7797461 & -0.21874731\\\\\n",
       "  0.40563511 & 0.54036649 & 0.22335759 & 0.08041019 & -0.03974947 & 0.64776385\\\\\n",
       "  0.79550456 & 0.10491043\\\\\n",
       "  0.22562414 & 0.88845956 & 0.90386081 & 0.56475728 & 0.09495001 & 0.68281089\\\\\n",
       "  0.95239073 & 0.58557113 & 0.50769892 & 0.16029965 & 0.41966211 & 0.32031006\\\\\n",
       "  0.72944724 & 0.46018053\\\\\n",
       "\\end{bmatrix} = \n",
       "\\begin{bmatrix}\n",
       "  -0.45459588 & -0.03636867 & 0.19650859 & 0.88708427 & 0.59871179 & 0.45960002\\\\\n",
       "  0.66264307 & 0.04694331 & 0.73573115 & 0.02869964 & 0.06987875 & 0.82434937\\\\\n",
       "  0.92856238 & 0.11901369\\\\\n",
       "  -0.90520402 & -0.04019735 & -0.22340338 & 0.44885876 & -0.66616683 & -0.52663686\\\\\n",
       "  -0.82148372 & -0.38479841 & -0.60418606 & -0.09261301 & -0.538587 & 0.03935785\\\\\n",
       "  -0.00407888 & 0.42737926\\\\\n",
       "  -0.98974221 & 0.17082015 & -0.79948801 & -0.25227543 & -0.59442618 & -0.24259075\\\\\n",
       "  -0.62377638 & -0.6687463 & -0.77507926 & -0.37358363 & 0.19143724 & -0.13935783\\\\\n",
       "  -0.23696789 & 0.5133917\\\\\n",
       "  0.01438181 & 0.50037327 & -0.44938356 & 0.74734405 & 0.46895658 & -0.14024079\\\\\n",
       "  0.59530238 & 0.89962839 & -0.08432922 & 0.50304338 & 0.4647606 & -0.04950146\\\\\n",
       "  0.82050489 & 0.35660342\\\\\n",
       "  -0.45543079 & 0.6655116 & -0.14165179 & 0.50757173 & 0.92580645 & 0.14147426\\\\\n",
       "  -0.01091813 & 0.81191303 & 0.68397126 & 0.2436162 & 0.59849766 & 0.6418926\\\\\n",
       "  0.73129114 & 0.42936045\\\\\n",
       "  -0.06291795 & 0.77959842 & -0.1751451 & -0.010957 & 0.7797461 & -0.21874731\\\\\n",
       "  0.40563511 & 0.54036649 & 0.22335759 & 0.08041019 & -0.03974947 & 0.64776385\\\\\n",
       "  0.79550456 & 0.10491043\\\\\n",
       "  0.22368158 & 0.89872718 & 0.8987989 & 0.56742251 & 0.09199075 & 0.69969323\\\\\n",
       "  0.93298143 & 0.57536116 & 0.52680152 & 0.14530578 & 0.44292338 & 0.32790434\\\\\n",
       "  0.73325875 & 0.45649815\\\\\n",
       "\\end{bmatrix} - 0.7\n",
       "\\begin{bmatrix}\n",
       "  1\\\\\n",
       "  1\\\\\n",
       "  0\\\\\n",
       "  1\\\\\n",
       "  1\\\\\n",
       "  0\\\\\n",
       "  1\\\\\n",
       "\\end{bmatrix} \\cdot \n",
       "\\begin{bmatrix}\n",
       "  -0.00277508 & 0.01466803 & -0.0072313 & 0.00380747 & -0.00422751 & 0.02411762\\\\\n",
       "  -0.02772756 & -0.01458566 & 0.02728942 & -0.02141981 & 0.03323038 & 0.01084897\\\\\n",
       "  0.00544501 & -0.00526054\\\\\n",
       "\\end{bmatrix}\\end{gather}"
      ],
      "text/plain": [
       "<IPython.core.display.Latex object>"
      ]
     },
     "metadata": {},
     "output_type": "display_data"
    },
    {
     "data": {
      "text/latex": [
       "Camada: 0"
      ],
      "text/plain": [
       "<IPython.core.display.Latex object>"
      ]
     },
     "metadata": {},
     "output_type": "display_data"
    },
    {
     "data": {
      "text/latex": [
       "Y = Xw + b"
      ],
      "text/plain": [
       "<IPython.core.display.Latex object>"
      ]
     },
     "metadata": {},
     "output_type": "display_data"
    },
    {
     "data": {
      "text/latex": [
       "\\begin{gather}\n",
       "\\begin{bmatrix}\n",
       "  -2.89762341e+00 & 1.76611418e+00 & -1.04616224e+00 & 2.43414871e+00\\\\\n",
       "  -2.78712825e-02 & -4.92236756e-01 & -6.23688546e-02 & 2.94552404e-01\\\\\n",
       "  -9.37302198e-01 & -3.44588003e-01 & -2.05536349e-03 & 5.99696061e-01\\\\\n",
       "  1.62578121e+00 & 1.63511889e+00\\\\\n",
       "\\end{bmatrix} = \n",
       "\\begin{bmatrix}\n",
       "  1 & 1 & 1 & 1 & 0 & 0 & 1\\\\\n",
       "\\end{bmatrix} \\cdot \n",
       "\\begin{bmatrix}\n",
       "  -0.45265332 & -0.04663629 & 0.2015705 & 0.88441904 & 0.60167105 & 0.44271768\\\\\n",
       "  0.68205236 & 0.05715327 & 0.71662855 & 0.04369351 & 0.04661749 & 0.81675509\\\\\n",
       "  0.92475088 & 0.12269606\\\\\n",
       "  -0.90326146 & -0.05046497 & -0.21834147 & 0.44619353 & -0.66320757 & -0.54351919\\\\\n",
       "  -0.80207443 & -0.37458844 & -0.62328866 & -0.07761915 & -0.56184826 & 0.03176357\\\\\n",
       "  -0.00789039 & 0.43106163\\\\\n",
       "  -0.98974221 & 0.17082015 & -0.79948801 & -0.25227543 & -0.59442618 & -0.24259075\\\\\n",
       "  -0.62377638 & -0.6687463 & -0.77507926 & -0.37358363 & 0.19143724 & -0.13935783\\\\\n",
       "  -0.23696789 & 0.5133917\\\\\n",
       "  0.01632437 & 0.49010565 & -0.44432165 & 0.74467882 & 0.47191584 & -0.15712313\\\\\n",
       "  0.61471167 & 0.90983835 & -0.10343182 & 0.51803725 & 0.44149934 & -0.05709574\\\\\n",
       "  0.81669338 & 0.3602858\\\\\n",
       "  -0.45348823 & 0.65524398 & -0.13658988 & 0.5049065 & 0.92876571 & 0.12459192\\\\\n",
       "  0.00849116 & 0.82212299 & 0.66486867 & 0.25861006 & 0.57523639 & 0.63429832\\\\\n",
       "  0.72747963 & 0.43304283\\\\\n",
       "  -0.06291795 & 0.77959842 & -0.1751451 & -0.010957 & 0.7797461 & -0.21874731\\\\\n",
       "  0.40563511 & 0.54036649 & 0.22335759 & 0.08041019 & -0.03974947 & 0.64776385\\\\\n",
       "  0.79550456 & 0.10491043\\\\\n",
       "  0.22562414 & 0.88845956 & 0.90386081 & 0.56475728 & 0.09495001 & 0.68281089\\\\\n",
       "  0.95239073 & 0.58557113 & 0.50769892 & 0.16029965 & 0.41966211 & 0.32031006\\\\\n",
       "  0.72944724 & 0.46018053\\\\\n",
       "\\end{bmatrix} + \n",
       "\\begin{bmatrix}\n",
       "  -0.79391492 & 0.31383007 & -0.68944243 & 0.04637547 & 0.06122557 & -0.67453226\\\\\n",
       "  -0.88567281 & -0.21467561 & -0.65982994 & -0.61541562 & -0.53942328 & -0.37267909\\\\\n",
       "  -0.60025202 & -0.25249684\\\\\n",
       "\\end{bmatrix}\\end{gather}"
      ],
      "text/plain": [
       "<IPython.core.display.Latex object>"
      ]
     },
     "metadata": {},
     "output_type": "display_data"
    },
    {
     "data": {
      "text/latex": [
       "Camada: 1"
      ],
      "text/plain": [
       "<IPython.core.display.Latex object>"
      ]
     },
     "metadata": {},
     "output_type": "display_data"
    },
    {
     "data": {
      "text/latex": [
       "Y = \\sigma(X)"
      ],
      "text/plain": [
       "<IPython.core.display.Latex object>"
      ]
     },
     "metadata": {},
     "output_type": "display_data"
    },
    {
     "data": {
      "text/latex": [
       "\\begin{gather}\n",
       "\\begin{bmatrix}\n",
       "  0.05227117 & 0.85397377 & 0.25996274 & 0.91939452 & 0.49303263 & 0.37936679\\\\\n",
       "  0.48441284 & 0.57311027 & 0.28144561 & 0.41469543 & 0.49948616 & 0.64558677\\\\\n",
       "  0.83559089 & 0.83686967\\\\\n",
       "\\end{bmatrix} = \\sigma(\n",
       "\\begin{bmatrix}\n",
       "  -2.89762341e+00 & 1.76611418e+00 & -1.04616224e+00 & 2.43414871e+00\\\\\n",
       "  -2.78712825e-02 & -4.92236756e-01 & -6.23688546e-02 & 2.94552404e-01\\\\\n",
       "  -9.37302198e-01 & -3.44588003e-01 & -2.05536349e-03 & 5.99696061e-01\\\\\n",
       "  1.62578121e+00 & 1.63511889e+00\\\\\n",
       "\\end{bmatrix}) \\end{gather}"
      ],
      "text/plain": [
       "<IPython.core.display.Latex object>"
      ]
     },
     "metadata": {},
     "output_type": "display_data"
    },
    {
     "data": {
      "text/latex": [
       "Camada: 2"
      ],
      "text/plain": [
       "<IPython.core.display.Latex object>"
      ]
     },
     "metadata": {},
     "output_type": "display_data"
    },
    {
     "data": {
      "text/latex": [
       "Y = Xw + b"
      ],
      "text/plain": [
       "<IPython.core.display.Latex object>"
      ]
     },
     "metadata": {},
     "output_type": "display_data"
    },
    {
     "data": {
      "text/latex": [
       "\\begin{gather}\n",
       "\\begin{bmatrix}\n",
       "  0.05248085 & 0.10889378 & 1.11883522 & 0.10468786 & 0.03409986 & -0.01621123\\\\\n",
       "  0.20261586 & -0.02940181 & 0.13495103 & 0.28956618\\\\\n",
       "\\end{bmatrix} = \n",
       "\\begin{bmatrix}\n",
       "  0.05227117 & 0.85397377 & 0.25996274 & 0.91939452 & 0.49303263 & 0.37936679\\\\\n",
       "  0.48441284 & 0.57311027 & 0.28144561 & 0.41469543 & 0.49948616 & 0.64558677\\\\\n",
       "  0.83559089 & 0.83686967\\\\\n",
       "\\end{bmatrix} \\cdot \n",
       "\\begin{bmatrix}\n",
       "  1.34086969e-01 & -6.07246476e-01 & -4.55022936e-01 & -2.06597786e-01\\\\\n",
       "  -6.99610456e-01 & -4.81735368e-01 & -6.25443721e-01 & 9.81539035e-02\\\\\n",
       "  -1.62206922e-01 & 1.34812188e-01\\\\\n",
       "  5.82164970e-02 & 4.86637230e-01 & -5.66812975e-02 & -2.19829966e-02\\\\\n",
       "  4.61237712e-01 & -1.71380408e-01 & -3.55797787e-01 & -4.72076409e-02\\\\\n",
       "  4.05819163e-02 & -3.24092388e-01\\\\\n",
       "  5.85106498e-01 & -1.70251504e-02 & 4.90370868e-02 & 3.49545490e-01\\\\\n",
       "  -3.29104685e-01 & -1.47993079e-01 & 1.08330413e-01 & -1.85564372e-01\\\\\n",
       "  -5.06716507e-01 & 2.10004489e-01\\\\\n",
       "  -6.06511921e-02 & 2.40489607e-03 & -1.96184970e-01 & 1.59465023e-01\\\\\n",
       "  -4.48058642e-01 & 1.52866643e-01 & 4.82061004e-04 & 2.67678646e-01\\\\\n",
       "  4.98995533e-01 & -6.41810836e-02\\\\\n",
       "  -2.56916518e-01 & -5.15885009e-01 & -2.82843549e-02 & -3.59892896e-01\\\\\n",
       "  2.25928696e-01 & -1.03011110e-01 & -3.21961934e-01 & 1.47962633e-01\\\\\n",
       "  2.85678059e-01 & -1.40663743e-01\\\\\n",
       "  6.43328071e-01 & 2.42234130e-01 & -2.40705300e-01 & -4.48054632e-02\\\\\n",
       "  -6.81712955e-02 & -1.54131722e-01 & 3.49755951e-01 & 8.16690924e-04\\\\\n",
       "  -3.54188274e-01 & 5.31602605e-02\\\\\n",
       "  1.10690820e-01 & -5.02430159e-01 & 3.51722785e-01 & -4.01621888e-01\\\\\n",
       "  1.14370351e-01 & 5.38790501e-02 & -2.23818394e-01 & -7.28987731e-01\\\\\n",
       "  3.11824848e-02 & -1.32598242e-02\\\\\n",
       "  -2.95374632e-02 & -2.96409280e-01 & 6.51495025e-01 & -3.57444346e-01\\\\\n",
       "  -4.95408501e-01 & 1.39830448e-01 & -2.72945498e-01 & 3.36663715e-01\\\\\n",
       "  -1.44719760e-02 & -1.65717485e-01\\\\\n",
       "  -2.97999829e-01 & 1.38157835e-01 & -2.01886165e-01 & 1.68308761e-01\\\\\n",
       "  -9.23766374e-02 & -2.18020925e-01 & 9.48954539e-02 & 1.49028097e-01\\\\\n",
       "  -4.27468853e-01 & -5.36414111e-01\\\\\n",
       "  4.56049985e-01 & -5.01180662e-01 & 2.21095195e-02 & 1.33831513e-01\\\\\n",
       "  1.12200867e-01 & 2.96360813e-01 & 3.41031375e-03 & -4.18190646e-01\\\\\n",
       "  3.01658021e-01 & 1.72331892e-02\\\\\n",
       "  -1.10803342e-01 & 2.89022774e-01 & -2.14671471e-01 & 5.15753198e-01\\\\\n",
       "  2.74490498e-01 & -7.82988350e-02 & -2.81494016e-01 & -5.80074699e-02\\\\\n",
       "  -3.32396350e-01 & -4.09973081e-01\\\\\n",
       "  -2.53385839e-01 & -1.26621901e-01 & -2.42923400e-01 & -8.67657948e-02\\\\\n",
       "  3.43782376e-01 & 2.42941568e-01 & 3.23394215e-01 & 3.56752092e-01\\\\\n",
       "  1.34077265e-01 & 3.54176364e-01\\\\\n",
       "  -7.67213671e-02 & 1.15827854e-01 & 9.18118251e-02 & 1.40922487e-01\\\\\n",
       "  1.54263498e-01 & 4.98971547e-01 & -4.07544755e-01 & -4.24755979e-01\\\\\n",
       "  -3.85127699e-03 & 3.00140099e-02\\\\\n",
       "  -1.16494661e-01 & 2.64162845e-01 & 5.61027457e-01 & 8.82653725e-02\\\\\n",
       "  -1.62814627e-01 & -2.95444757e-01 & 5.84626117e-01 & 3.16270265e-01\\\\\n",
       "  -2.32125435e-01 & 4.78788085e-01\\\\\n",
       "\\end{bmatrix} + \n",
       "\\begin{bmatrix}\n",
       "  0.02060689 & 0.09146747 & 0.68563173 & -0.0054637 & -0.05494733 & -0.29268217\\\\\n",
       "  0.55643177 & -0.08477227 & 0.04059377 & 0.40846889\\\\\n",
       "\\end{bmatrix}\\end{gather}"
      ],
      "text/plain": [
       "<IPython.core.display.Latex object>"
      ]
     },
     "metadata": {},
     "output_type": "display_data"
    },
    {
     "data": {
      "text/latex": [
       "f_{custo}(\n",
       "\\begin{bmatrix}\n",
       "  0 & 0 & 0 & 1 & 0 & 0 & 0 & 0 & 0 & 0\\\\\n",
       "\\end{bmatrix},\n",
       "\\begin{bmatrix}\n",
       "  0.05248085 & 0.10889378 & 1.11883522 & 0.10468786 & 0.03409986 & -0.01621123\\\\\n",
       "  0.20261586 & -0.02940181 & 0.13495103 & 0.28956618\\\\\n",
       "\\end{bmatrix}) = \n",
       "\\begin{bmatrix}\n",
       "  0.2213391772134925\\\\\n",
       "\\end{bmatrix}"
      ],
      "text/plain": [
       "<IPython.core.display.Latex object>"
      ]
     },
     "metadata": {},
     "output_type": "display_data"
    },
    {
     "data": {
      "text/latex": [
       "\\nabla f_{custo} = \\frac{\\partial E}{\\partial Y} = \n",
       "\\begin{bmatrix}\n",
       "  0.01049617 & 0.02177876 & 0.22376704 & -0.17906243 & 0.00681997 & -0.00324225\\\\\n",
       "  0.04052317 & -0.00588036 & 0.02699021 & 0.05791324\\\\\n",
       "\\end{bmatrix}"
      ],
      "text/plain": [
       "<IPython.core.display.Latex object>"
      ]
     },
     "metadata": {},
     "output_type": "display_data"
    },
    {
     "data": {
      "text/latex": [
       "Camada: 2"
      ],
      "text/plain": [
       "<IPython.core.display.Latex object>"
      ]
     },
     "metadata": {},
     "output_type": "display_data"
    },
    {
     "data": {
      "text/latex": [
       "W = W - \\lambda (X \\cdot \\nabla f_{custo})"
      ],
      "text/plain": [
       "<IPython.core.display.Latex object>"
      ]
     },
     "metadata": {},
     "output_type": "display_data"
    },
    {
     "data": {
      "text/latex": [
       "\\begin{gather}\n",
       "\\begin{bmatrix}\n",
       "  1.33702916e-01 & -6.08043357e-01 & -4.63210532e-01 & -2.00045924e-01\\\\\n",
       "  -6.99859997e-01 & -4.81616735e-01 & -6.26926457e-01 & 9.83690648e-02\\\\\n",
       "  -1.63194489e-01 & 1.32693153e-01\\\\\n",
       "  5.19420791e-02 & 4.73618289e-01 & -1.90445127e-01 & 8.50572341e-02\\\\\n",
       "  4.57160858e-01 & -1.69442253e-01 & -3.80021795e-01 & -4.36924688e-02\\\\\n",
       "  2.44476663e-02 & -3.58711856e-01\\\\\n",
       "  5.83196468e-01 & -2.09883161e-02 & 8.31732172e-03 & 3.82130181e-01\\\\\n",
       "  -3.30345742e-01 & -1.47403074e-01 & 1.00956253e-01 & -1.84494299e-01\\\\\n",
       "  -5.11628021e-01 & 1.99465791e-01\\\\\n",
       "  -6.74062772e-02 & -1.16113928e-02 & -3.40196105e-01 & 2.74705333e-01\\\\\n",
       "  -4.52447813e-01 & 1.54953275e-01 & -2.55976868e-02 & 2.71463106e-01\\\\\n",
       "  4.81625279e-01 & -1.01452662e-01\\\\\n",
       "  -2.60538987e-01 & -5.23401355e-01 & -1.05511473e-01 & -2.98094362e-01\\\\\n",
       "  2.23574968e-01 & -1.01892137e-01 & -3.35947406e-01 & 1.49992081e-01\\\\\n",
       "  2.76363122e-01 & -1.60650923e-01\\\\\n",
       "  6.40540742e-01 & 2.36450634e-01 & -3.00128149e-01 & 2.74577315e-03\\\\\n",
       "  -6.99823852e-02 & -1.53270722e-01 & 3.38994750e-01 & 2.37826061e-03\\\\\n",
       "  -3.61355706e-01 & 3.77810098e-02\\\\\n",
       "  1.07131684e-01 & -5.09815095e-01 & 2.75845845e-01 & -3.40903791e-01\\\\\n",
       "  1.12057774e-01 & 5.49784604e-02 & -2.37559355e-01 & -7.26993765e-01\\\\\n",
       "  2.20304029e-02 & -3.28975645e-02\\\\\n",
       "  -3.37482873e-02 & -3.05146420e-01 & 5.61724791e-01 & -2.85608585e-01\\\\\n",
       "  -4.98144518e-01 & 1.41131163e-01 & -2.89202470e-01 & 3.39022782e-01\\\\\n",
       "  -2.52998313e-02 & -1.88950954e-01\\\\\n",
       "  -3.00067700e-01 & 1.33867160e-01 & -2.45970942e-01 & 2.03586195e-01\\\\\n",
       "  -9.37202532e-02 & -2.17382164e-01 & 8.69119057e-02 & 1.50186599e-01\\\\\n",
       "  -4.32786246e-01 & -5.47823709e-01\\\\\n",
       "  4.53003085e-01 & -5.07502748e-01 & -4.28470995e-02 & 1.85810972e-01\\\\\n",
       "  1.10221119e-01 & 2.97301995e-01 & -8.35302824e-03 & -4.16483655e-01\\\\\n",
       "  2.93823120e-01 & 4.21741429e-04\\\\\n",
       "  -1.14473226e-01 & 2.81408043e-01 & -2.92909449e-01 & 5.78360640e-01\\\\\n",
       "  2.72105961e-01 & -7.71652148e-02 & -2.95662551e-01 & -5.59514585e-02\\\\\n",
       "  -3.41833215e-01 & -4.30221882e-01\\\\\n",
       "  -2.58129171e-01 & -1.36463955e-01 & -3.44046130e-01 & -5.84556144e-03\\\\\n",
       "  3.40700358e-01 & 2.44406774e-01 & 3.05081358e-01 & 3.59409490e-01\\\\\n",
       "  1.21880101e-01 & 3.28004751e-01\\\\\n",
       "  -8.28607201e-02 & 1.03089162e-01 & -3.90725665e-02 & 2.45658540e-01\\\\\n",
       "  1.50274403e-01 & 5.00867981e-01 & -4.31247310e-01 & -4.21316476e-01\\\\\n",
       "  -1.96382166e-02 & -3.86023041e-03\\\\\n",
       "  -1.22643410e-01 & 2.51404658e-01 & 4.29942761e-01 & 1.93161712e-01\\\\\n",
       "  -1.66809827e-01 & -2.93545421e-01 & 5.60887287e-01 & 3.19715032e-01\\\\\n",
       "  -2.47936535e-01 & 4.44862004e-01\\\\\n",
       "\\end{bmatrix} = \n",
       "\\begin{bmatrix}\n",
       "  1.34086969e-01 & -6.07246476e-01 & -4.55022936e-01 & -2.06597786e-01\\\\\n",
       "  -6.99610456e-01 & -4.81735368e-01 & -6.25443721e-01 & 9.81539035e-02\\\\\n",
       "  -1.62206922e-01 & 1.34812188e-01\\\\\n",
       "  5.82164970e-02 & 4.86637230e-01 & -5.66812975e-02 & -2.19829966e-02\\\\\n",
       "  4.61237712e-01 & -1.71380408e-01 & -3.55797787e-01 & -4.72076409e-02\\\\\n",
       "  4.05819163e-02 & -3.24092388e-01\\\\\n",
       "  5.85106498e-01 & -1.70251504e-02 & 4.90370868e-02 & 3.49545490e-01\\\\\n",
       "  -3.29104685e-01 & -1.47993079e-01 & 1.08330413e-01 & -1.85564372e-01\\\\\n",
       "  -5.06716507e-01 & 2.10004489e-01\\\\\n",
       "  -6.06511921e-02 & 2.40489607e-03 & -1.96184970e-01 & 1.59465023e-01\\\\\n",
       "  -4.48058642e-01 & 1.52866643e-01 & 4.82061004e-04 & 2.67678646e-01\\\\\n",
       "  4.98995533e-01 & -6.41810836e-02\\\\\n",
       "  -2.56916518e-01 & -5.15885009e-01 & -2.82843549e-02 & -3.59892896e-01\\\\\n",
       "  2.25928696e-01 & -1.03011110e-01 & -3.21961934e-01 & 1.47962633e-01\\\\\n",
       "  2.85678059e-01 & -1.40663743e-01\\\\\n",
       "  6.43328071e-01 & 2.42234130e-01 & -2.40705300e-01 & -4.48054632e-02\\\\\n",
       "  -6.81712955e-02 & -1.54131722e-01 & 3.49755951e-01 & 8.16690924e-04\\\\\n",
       "  -3.54188274e-01 & 5.31602605e-02\\\\\n",
       "  1.10690820e-01 & -5.02430159e-01 & 3.51722785e-01 & -4.01621888e-01\\\\\n",
       "  1.14370351e-01 & 5.38790501e-02 & -2.23818394e-01 & -7.28987731e-01\\\\\n",
       "  3.11824848e-02 & -1.32598242e-02\\\\\n",
       "  -2.95374632e-02 & -2.96409280e-01 & 6.51495025e-01 & -3.57444346e-01\\\\\n",
       "  -4.95408501e-01 & 1.39830448e-01 & -2.72945498e-01 & 3.36663715e-01\\\\\n",
       "  -1.44719760e-02 & -1.65717485e-01\\\\\n",
       "  -2.97999829e-01 & 1.38157835e-01 & -2.01886165e-01 & 1.68308761e-01\\\\\n",
       "  -9.23766374e-02 & -2.18020925e-01 & 9.48954539e-02 & 1.49028097e-01\\\\\n",
       "  -4.27468853e-01 & -5.36414111e-01\\\\\n",
       "  4.56049985e-01 & -5.01180662e-01 & 2.21095195e-02 & 1.33831513e-01\\\\\n",
       "  1.12200867e-01 & 2.96360813e-01 & 3.41031375e-03 & -4.18190646e-01\\\\\n",
       "  3.01658021e-01 & 1.72331892e-02\\\\\n",
       "  -1.10803342e-01 & 2.89022774e-01 & -2.14671471e-01 & 5.15753198e-01\\\\\n",
       "  2.74490498e-01 & -7.82988350e-02 & -2.81494016e-01 & -5.80074699e-02\\\\\n",
       "  -3.32396350e-01 & -4.09973081e-01\\\\\n",
       "  -2.53385839e-01 & -1.26621901e-01 & -2.42923400e-01 & -8.67657948e-02\\\\\n",
       "  3.43782376e-01 & 2.42941568e-01 & 3.23394215e-01 & 3.56752092e-01\\\\\n",
       "  1.34077265e-01 & 3.54176364e-01\\\\\n",
       "  -7.67213671e-02 & 1.15827854e-01 & 9.18118251e-02 & 1.40922487e-01\\\\\n",
       "  1.54263498e-01 & 4.98971547e-01 & -4.07544755e-01 & -4.24755979e-01\\\\\n",
       "  -3.85127699e-03 & 3.00140099e-02\\\\\n",
       "  -1.16494661e-01 & 2.64162845e-01 & 5.61027457e-01 & 8.82653725e-02\\\\\n",
       "  -1.62814627e-01 & -2.95444757e-01 & 5.84626117e-01 & 3.16270265e-01\\\\\n",
       "  -2.32125435e-01 & 4.78788085e-01\\\\\n",
       "\\end{bmatrix} - 0.7\n",
       "\\begin{bmatrix}\n",
       "  0.05227117\\\\\n",
       "  0.85397377\\\\\n",
       "  0.25996274\\\\\n",
       "  0.91939452\\\\\n",
       "  0.49303263\\\\\n",
       "  0.37936679\\\\\n",
       "  0.48441284\\\\\n",
       "  0.57311027\\\\\n",
       "  0.28144561\\\\\n",
       "  0.41469543\\\\\n",
       "  0.49948616\\\\\n",
       "  0.64558677\\\\\n",
       "  0.83559089\\\\\n",
       "  0.83686967\\\\\n",
       "\\end{bmatrix} \\cdot \n",
       "\\begin{bmatrix}\n",
       "  0.01049617 & 0.02177876 & 0.22376704 & -0.17906243 & 0.00681997 & -0.00324225\\\\\n",
       "  0.04052317 & -0.00588036 & 0.02699021 & 0.05791324\\\\\n",
       "\\end{bmatrix}\\end{gather}"
      ],
      "text/plain": [
       "<IPython.core.display.Latex object>"
      ]
     },
     "metadata": {},
     "output_type": "display_data"
    },
    {
     "data": {
      "text/latex": [
       "\\nabla f_{custo} = \\frac{\\partial E}{\\partial Y} = \n",
       "\\begin{bmatrix}\n",
       "  -0.10234506 & -0.02565077 & -0.04364491 & -0.06839299 & 0.03170425 & -0.02608861\\\\\n",
       "  0.13673478 & 0.17616232 & -0.11498915 & -0.01360364 & -0.17691123 & -0.0075447\\\\\n",
       "  -0.0159209 & 0.15740652\\\\\n",
       "\\end{bmatrix}"
      ],
      "text/plain": [
       "<IPython.core.display.Latex object>"
      ]
     },
     "metadata": {},
     "output_type": "display_data"
    },
    {
     "data": {
      "text/latex": [
       "Camada: 1"
      ],
      "text/plain": [
       "<IPython.core.display.Latex object>"
      ]
     },
     "metadata": {},
     "output_type": "display_data"
    },
    {
     "data": {
      "text/latex": [
       "\\nabla = \\frac{\\partial E}{\\partial Y} \\frac{\\partial Y}{\\partial X}"
      ],
      "text/plain": [
       "<IPython.core.display.Latex object>"
      ]
     },
     "metadata": {},
     "output_type": "display_data"
    },
    {
     "data": {
      "text/latex": [
       "\\begin{gather}\n",
       "\\begin{bmatrix}\n",
       "  0.05227117 & 0.85397377 & 0.25996274 & 0.91939452 & 0.49303263 & 0.37936679\\\\\n",
       "  0.48441284 & 0.57311027 & 0.28144561 & 0.41469543 & 0.49948616 & 0.64558677\\\\\n",
       "  0.83559089 & 0.83686967\\\\\n",
       "\\end{bmatrix} = \\sigma(\n",
       "\\begin{bmatrix}\n",
       "  -2.89762341e+00 & 1.76611418e+00 & -1.04616224e+00 & 2.43414871e+00\\\\\n",
       "  -2.78712825e-02 & -4.92236756e-01 & -6.23688546e-02 & 2.94552404e-01\\\\\n",
       "  -9.37302198e-01 & -3.44588003e-01 & -2.05536349e-03 & 5.99696061e-01\\\\\n",
       "  1.62578121e+00 & 1.63511889e+00\\\\\n",
       "\\end{bmatrix}) \\end{gather}"
      ],
      "text/plain": [
       "<IPython.core.display.Latex object>"
      ]
     },
     "metadata": {},
     "output_type": "display_data"
    },
    {
     "data": {
      "text/latex": [
       "\\nabla f_{custo} = \\frac{\\partial E}{\\partial Y} = \n",
       "\\begin{bmatrix}\n",
       "  -0.00507006 & -0.00319872 & -0.0083965 & -0.00506848 & 0.00792452 & -0.0061425\\\\\n",
       "  0.03415047 & 0.04309897 & -0.02325471 & -0.00330192 & -0.04422776 & -0.00172626\\\\\n",
       "  -0.00218719 & 0.02148895\\\\\n",
       "\\end{bmatrix}"
      ],
      "text/plain": [
       "<IPython.core.display.Latex object>"
      ]
     },
     "metadata": {},
     "output_type": "display_data"
    },
    {
     "data": {
      "text/latex": [
       "Camada: 0"
      ],
      "text/plain": [
       "<IPython.core.display.Latex object>"
      ]
     },
     "metadata": {},
     "output_type": "display_data"
    },
    {
     "data": {
      "text/latex": [
       "W = W - \\lambda (X \\cdot \\nabla f_{custo})"
      ],
      "text/plain": [
       "<IPython.core.display.Latex object>"
      ]
     },
     "metadata": {},
     "output_type": "display_data"
    },
    {
     "data": {
      "text/latex": [
       "\\begin{gather}\n",
       "\\begin{bmatrix}\n",
       "  -0.44910428 & -0.04439719 & 0.20744805 & 0.88796698 & 0.59612388 & 0.44701743\\\\\n",
       "  0.65814703 & 0.02698399 & 0.73290685 & 0.04600485 & 0.07757692 & 0.81796347\\\\\n",
       "  0.92628191 & 0.10765379\\\\\n",
       "  -0.89971242 & -0.04822587 & -0.21246392 & 0.44974147 & -0.66875474 & -0.53921944\\\\\n",
       "  -0.82597976 & -0.40475772 & -0.60701036 & -0.07530781 & -0.53088883 & 0.03297195\\\\\n",
       "  -0.00635935 & 0.41601937\\\\\n",
       "  -0.98619317 & 0.17305925 & -0.79361046 & -0.24872749 & -0.59997335 & -0.238291\\\\\n",
       "  -0.64768171 & -0.69891558 & -0.75880096 & -0.37127229 & 0.22239667 & -0.13814944\\\\\n",
       "  -0.23543685 & 0.49834944\\\\\n",
       "  0.01987341 & 0.49234475 & -0.4384441 & 0.74822675 & 0.46636867 & -0.15282338\\\\\n",
       "  0.59080634 & 0.87966907 & -0.08715352 & 0.52034859 & 0.47245877 & -0.05588736\\\\\n",
       "  0.81822442 & 0.34524353\\\\\n",
       "  -0.45348823 & 0.65524398 & -0.13658988 & 0.5049065 & 0.92876571 & 0.12459192\\\\\n",
       "  0.00849116 & 0.82212299 & 0.66486867 & 0.25861006 & 0.57523639 & 0.63429832\\\\\n",
       "  0.72747963 & 0.43304283\\\\\n",
       "  -0.06291795 & 0.77959842 & -0.1751451 & -0.010957 & 0.7797461 & -0.21874731\\\\\n",
       "  0.40563511 & 0.54036649 & 0.22335759 & 0.08041019 & -0.03974947 & 0.64776385\\\\\n",
       "  0.79550456 & 0.10491043\\\\\n",
       "  0.22917318 & 0.89069867 & 0.90973836 & 0.56830522 & 0.08940284 & 0.68711064\\\\\n",
       "  0.9284854 & 0.55540185 & 0.52397722 & 0.16261099 & 0.45062154 & 0.32151844\\\\\n",
       "  0.73097828 & 0.44513826\\\\\n",
       "\\end{bmatrix} = \n",
       "\\begin{bmatrix}\n",
       "  -0.45265332 & -0.04663629 & 0.2015705 & 0.88441904 & 0.60167105 & 0.44271768\\\\\n",
       "  0.68205236 & 0.05715327 & 0.71662855 & 0.04369351 & 0.04661749 & 0.81675509\\\\\n",
       "  0.92475088 & 0.12269606\\\\\n",
       "  -0.90326146 & -0.05046497 & -0.21834147 & 0.44619353 & -0.66320757 & -0.54351919\\\\\n",
       "  -0.80207443 & -0.37458844 & -0.62328866 & -0.07761915 & -0.56184826 & 0.03176357\\\\\n",
       "  -0.00789039 & 0.43106163\\\\\n",
       "  -0.98974221 & 0.17082015 & -0.79948801 & -0.25227543 & -0.59442618 & -0.24259075\\\\\n",
       "  -0.62377638 & -0.6687463 & -0.77507926 & -0.37358363 & 0.19143724 & -0.13935783\\\\\n",
       "  -0.23696789 & 0.5133917\\\\\n",
       "  0.01632437 & 0.49010565 & -0.44432165 & 0.74467882 & 0.47191584 & -0.15712313\\\\\n",
       "  0.61471167 & 0.90983835 & -0.10343182 & 0.51803725 & 0.44149934 & -0.05709574\\\\\n",
       "  0.81669338 & 0.3602858\\\\\n",
       "  -0.45348823 & 0.65524398 & -0.13658988 & 0.5049065 & 0.92876571 & 0.12459192\\\\\n",
       "  0.00849116 & 0.82212299 & 0.66486867 & 0.25861006 & 0.57523639 & 0.63429832\\\\\n",
       "  0.72747963 & 0.43304283\\\\\n",
       "  -0.06291795 & 0.77959842 & -0.1751451 & -0.010957 & 0.7797461 & -0.21874731\\\\\n",
       "  0.40563511 & 0.54036649 & 0.22335759 & 0.08041019 & -0.03974947 & 0.64776385\\\\\n",
       "  0.79550456 & 0.10491043\\\\\n",
       "  0.22562414 & 0.88845956 & 0.90386081 & 0.56475728 & 0.09495001 & 0.68281089\\\\\n",
       "  0.95239073 & 0.58557113 & 0.50769892 & 0.16029965 & 0.41966211 & 0.32031006\\\\\n",
       "  0.72944724 & 0.46018053\\\\\n",
       "\\end{bmatrix} - 0.7\n",
       "\\begin{bmatrix}\n",
       "  1\\\\\n",
       "  1\\\\\n",
       "  1\\\\\n",
       "  1\\\\\n",
       "  0\\\\\n",
       "  0\\\\\n",
       "  1\\\\\n",
       "\\end{bmatrix} \\cdot \n",
       "\\begin{bmatrix}\n",
       "  -0.00507006 & -0.00319872 & -0.0083965 & -0.00506848 & 0.00792452 & -0.0061425\\\\\n",
       "  0.03415047 & 0.04309897 & -0.02325471 & -0.00330192 & -0.04422776 & -0.00172626\\\\\n",
       "  -0.00218719 & 0.02148895\\\\\n",
       "\\end{bmatrix}\\end{gather}"
      ],
      "text/plain": [
       "<IPython.core.display.Latex object>"
      ]
     },
     "metadata": {},
     "output_type": "display_data"
    },
    {
     "data": {
      "text/latex": [
       "Camada: 0"
      ],
      "text/plain": [
       "<IPython.core.display.Latex object>"
      ]
     },
     "metadata": {},
     "output_type": "display_data"
    },
    {
     "data": {
      "text/latex": [
       "Y = Xw + b"
      ],
      "text/plain": [
       "<IPython.core.display.Latex object>"
      ]
     },
     "metadata": {},
     "output_type": "display_data"
    },
    {
     "data": {
      "text/latex": [
       "\\begin{gather}\n",
       "\\begin{bmatrix}\n",
       "  -2.51001623 & 2.11119965 & -0.95504599 & 0.8082856 & -0.34390074 & -0.97937962\\\\\n",
       "  -1.04911911 & -0.25274985 & -1.26202814 & -0.8166632 & -0.40608393 & 0.49263409\\\\\n",
       "  0.68596565 & 1.19687839\\\\\n",
       "\\end{bmatrix} = \n",
       "\\begin{bmatrix}\n",
       "  0 & 1 & 1 & 0 & 0 & 1 & 1\\\\\n",
       "\\end{bmatrix} \\cdot \n",
       "\\begin{bmatrix}\n",
       "  -0.44910428 & -0.04439719 & 0.20744805 & 0.88796698 & 0.59612388 & 0.44701743\\\\\n",
       "  0.65814703 & 0.02698399 & 0.73290685 & 0.04600485 & 0.07757692 & 0.81796347\\\\\n",
       "  0.92628191 & 0.10765379\\\\\n",
       "  -0.89971242 & -0.04822587 & -0.21246392 & 0.44974147 & -0.66875474 & -0.53921944\\\\\n",
       "  -0.82597976 & -0.40475772 & -0.60701036 & -0.07530781 & -0.53088883 & 0.03297195\\\\\n",
       "  -0.00635935 & 0.41601937\\\\\n",
       "  -0.98619317 & 0.17305925 & -0.79361046 & -0.24872749 & -0.59997335 & -0.238291\\\\\n",
       "  -0.64768171 & -0.69891558 & -0.75880096 & -0.37127229 & 0.22239667 & -0.13814944\\\\\n",
       "  -0.23543685 & 0.49834944\\\\\n",
       "  0.01987341 & 0.49234475 & -0.4384441 & 0.74822675 & 0.46636867 & -0.15282338\\\\\n",
       "  0.59080634 & 0.87966907 & -0.08715352 & 0.52034859 & 0.47245877 & -0.05588736\\\\\n",
       "  0.81822442 & 0.34524353\\\\\n",
       "  -0.45348823 & 0.65524398 & -0.13658988 & 0.5049065 & 0.92876571 & 0.12459192\\\\\n",
       "  0.00849116 & 0.82212299 & 0.66486867 & 0.25861006 & 0.57523639 & 0.63429832\\\\\n",
       "  0.72747963 & 0.43304283\\\\\n",
       "  -0.06291795 & 0.77959842 & -0.1751451 & -0.010957 & 0.7797461 & -0.21874731\\\\\n",
       "  0.40563511 & 0.54036649 & 0.22335759 & 0.08041019 & -0.03974947 & 0.64776385\\\\\n",
       "  0.79550456 & 0.10491043\\\\\n",
       "  0.22917318 & 0.89069867 & 0.90973836 & 0.56830522 & 0.08940284 & 0.68711064\\\\\n",
       "  0.9284854 & 0.55540185 & 0.52397722 & 0.16261099 & 0.45062154 & 0.32151844\\\\\n",
       "  0.73097828 & 0.44513826\\\\\n",
       "\\end{bmatrix} + \n",
       "\\begin{bmatrix}\n",
       "  -0.79036587 & 0.31606918 & -0.68356488 & 0.04992341 & 0.0556784 & -0.67023251\\\\\n",
       "  -0.90957814 & -0.24484489 & -0.64355164 & -0.61310428 & -0.50846385 & -0.37147071\\\\\n",
       "  -0.59872099 & -0.26753911\\\\\n",
       "\\end{bmatrix}\\end{gather}"
      ],
      "text/plain": [
       "<IPython.core.display.Latex object>"
      ]
     },
     "metadata": {},
     "output_type": "display_data"
    },
    {
     "data": {
      "text/latex": [
       "Camada: 1"
      ],
      "text/plain": [
       "<IPython.core.display.Latex object>"
      ]
     },
     "metadata": {},
     "output_type": "display_data"
    },
    {
     "data": {
      "text/latex": [
       "Y = \\sigma(X)"
      ],
      "text/plain": [
       "<IPython.core.display.Latex object>"
      ]
     },
     "metadata": {},
     "output_type": "display_data"
    },
    {
     "data": {
      "text/latex": [
       "\\begin{gather}\n",
       "\\begin{bmatrix}\n",
       "  0.07515898 & 0.89198697 & 0.27787117 & 0.69174406 & 0.41486225 & 0.2730149\\\\\n",
       "  0.25939429 & 0.43714678 & 0.22062496 & 0.30647243 & 0.39985149 & 0.62072676\\\\\n",
       "  0.66506887 & 0.767969\\\\\n",
       "\\end{bmatrix} = \\sigma(\n",
       "\\begin{bmatrix}\n",
       "  -2.51001623 & 2.11119965 & -0.95504599 & 0.8082856 & -0.34390074 & -0.97937962\\\\\n",
       "  -1.04911911 & -0.25274985 & -1.26202814 & -0.8166632 & -0.40608393 & 0.49263409\\\\\n",
       "  0.68596565 & 1.19687839\\\\\n",
       "\\end{bmatrix}) \\end{gather}"
      ],
      "text/plain": [
       "<IPython.core.display.Latex object>"
      ]
     },
     "metadata": {},
     "output_type": "display_data"
    },
    {
     "data": {
      "text/latex": [
       "Camada: 2"
      ],
      "text/plain": [
       "<IPython.core.display.Latex object>"
      ]
     },
     "metadata": {},
     "output_type": "display_data"
    },
    {
     "data": {
      "text/latex": [
       "Y = Xw + b"
      ],
      "text/plain": [
       "<IPython.core.display.Latex object>"
      ]
     },
     "metadata": {},
     "output_type": "display_data"
    },
    {
     "data": {
      "text/latex": [
       "\\begin{gather}\n",
       "\\begin{bmatrix}\n",
       "  -0.0177723 & 0.18434359 & 0.18880421 & 0.78193766 & 0.08086383 & -0.14799397\\\\\n",
       "  0.14915184 & 0.1183253 & -0.03704258 & 0.145632\\\\\n",
       "\\end{bmatrix} = \n",
       "\\begin{bmatrix}\n",
       "  0.07515898 & 0.89198697 & 0.27787117 & 0.69174406 & 0.41486225 & 0.2730149\\\\\n",
       "  0.25939429 & 0.43714678 & 0.22062496 & 0.30647243 & 0.39985149 & 0.62072676\\\\\n",
       "  0.66506887 & 0.767969\\\\\n",
       "\\end{bmatrix} \\cdot \n",
       "\\begin{bmatrix}\n",
       "  1.33702916e-01 & -6.08043357e-01 & -4.63210532e-01 & -2.00045924e-01\\\\\n",
       "  -6.99859997e-01 & -4.81616735e-01 & -6.26926457e-01 & 9.83690648e-02\\\\\n",
       "  -1.63194489e-01 & 1.32693153e-01\\\\\n",
       "  5.19420791e-02 & 4.73618289e-01 & -1.90445127e-01 & 8.50572341e-02\\\\\n",
       "  4.57160858e-01 & -1.69442253e-01 & -3.80021795e-01 & -4.36924688e-02\\\\\n",
       "  2.44476663e-02 & -3.58711856e-01\\\\\n",
       "  5.83196468e-01 & -2.09883161e-02 & 8.31732172e-03 & 3.82130181e-01\\\\\n",
       "  -3.30345742e-01 & -1.47403074e-01 & 1.00956253e-01 & -1.84494299e-01\\\\\n",
       "  -5.11628021e-01 & 1.99465791e-01\\\\\n",
       "  -6.74062772e-02 & -1.16113928e-02 & -3.40196105e-01 & 2.74705333e-01\\\\\n",
       "  -4.52447813e-01 & 1.54953275e-01 & -2.55976868e-02 & 2.71463106e-01\\\\\n",
       "  4.81625279e-01 & -1.01452662e-01\\\\\n",
       "  -2.60538987e-01 & -5.23401355e-01 & -1.05511473e-01 & -2.98094362e-01\\\\\n",
       "  2.23574968e-01 & -1.01892137e-01 & -3.35947406e-01 & 1.49992081e-01\\\\\n",
       "  2.76363122e-01 & -1.60650923e-01\\\\\n",
       "  6.40540742e-01 & 2.36450634e-01 & -3.00128149e-01 & 2.74577315e-03\\\\\n",
       "  -6.99823852e-02 & -1.53270722e-01 & 3.38994750e-01 & 2.37826061e-03\\\\\n",
       "  -3.61355706e-01 & 3.77810098e-02\\\\\n",
       "  1.07131684e-01 & -5.09815095e-01 & 2.75845845e-01 & -3.40903791e-01\\\\\n",
       "  1.12057774e-01 & 5.49784604e-02 & -2.37559355e-01 & -7.26993765e-01\\\\\n",
       "  2.20304029e-02 & -3.28975645e-02\\\\\n",
       "  -3.37482873e-02 & -3.05146420e-01 & 5.61724791e-01 & -2.85608585e-01\\\\\n",
       "  -4.98144518e-01 & 1.41131163e-01 & -2.89202470e-01 & 3.39022782e-01\\\\\n",
       "  -2.52998313e-02 & -1.88950954e-01\\\\\n",
       "  -3.00067700e-01 & 1.33867160e-01 & -2.45970942e-01 & 2.03586195e-01\\\\\n",
       "  -9.37202532e-02 & -2.17382164e-01 & 8.69119057e-02 & 1.50186599e-01\\\\\n",
       "  -4.32786246e-01 & -5.47823709e-01\\\\\n",
       "  4.53003085e-01 & -5.07502748e-01 & -4.28470995e-02 & 1.85810972e-01\\\\\n",
       "  1.10221119e-01 & 2.97301995e-01 & -8.35302824e-03 & -4.16483655e-01\\\\\n",
       "  2.93823120e-01 & 4.21741429e-04\\\\\n",
       "  -1.14473226e-01 & 2.81408043e-01 & -2.92909449e-01 & 5.78360640e-01\\\\\n",
       "  2.72105961e-01 & -7.71652148e-02 & -2.95662551e-01 & -5.59514585e-02\\\\\n",
       "  -3.41833215e-01 & -4.30221882e-01\\\\\n",
       "  -2.58129171e-01 & -1.36463955e-01 & -3.44046130e-01 & -5.84556144e-03\\\\\n",
       "  3.40700358e-01 & 2.44406774e-01 & 3.05081358e-01 & 3.59409490e-01\\\\\n",
       "  1.21880101e-01 & 3.28004751e-01\\\\\n",
       "  -8.28607201e-02 & 1.03089162e-01 & -3.90725665e-02 & 2.45658540e-01\\\\\n",
       "  1.50274403e-01 & 5.00867981e-01 & -4.31247310e-01 & -4.21316476e-01\\\\\n",
       "  -1.96382166e-02 & -3.86023041e-03\\\\\n",
       "  -1.22643410e-01 & 2.51404658e-01 & 4.29942761e-01 & 1.93161712e-01\\\\\n",
       "  -1.66809827e-01 & -2.93545421e-01 & 5.60887287e-01 & 3.19715032e-01\\\\\n",
       "  -2.47936535e-01 & 4.44862004e-01\\\\\n",
       "\\end{bmatrix} + \n",
       "\\begin{bmatrix}\n",
       "  0.01325957 & 0.07622234 & 0.5289948 & 0.11988 & -0.05972131 & -0.2904126\\\\\n",
       "  0.52806554 & -0.08065601 & 0.02170062 & 0.36792963\\\\\n",
       "\\end{bmatrix}\\end{gather}"
      ],
      "text/plain": [
       "<IPython.core.display.Latex object>"
      ]
     },
     "metadata": {},
     "output_type": "display_data"
    },
    {
     "data": {
      "text/latex": [
       "f_{custo}(\n",
       "\\begin{bmatrix}\n",
       "  0 & 0 & 0 & 0 & 1 & 0 & 0 & 0 & 0 & 0\\\\\n",
       "\\end{bmatrix},\n",
       "\\begin{bmatrix}\n",
       "  -0.0177723 & 0.18434359 & 0.18880421 & 0.78193766 & 0.08086383 & -0.14799397\\\\\n",
       "  0.14915184 & 0.1183253 & -0.03704258 & 0.145632\\\\\n",
       "\\end{bmatrix}) = \n",
       "\\begin{bmatrix}\n",
       "  0.16069134470330013\\\\\n",
       "\\end{bmatrix}"
      ],
      "text/plain": [
       "<IPython.core.display.Latex object>"
      ]
     },
     "metadata": {},
     "output_type": "display_data"
    },
    {
     "data": {
      "text/latex": [
       "\\nabla f_{custo} = \\frac{\\partial E}{\\partial Y} = \n",
       "\\begin{bmatrix}\n",
       "  -0.00355446 & 0.03686872 & 0.03776084 & 0.15638753 & -0.18382723 & -0.02959879\\\\\n",
       "  0.02983037 & 0.02366506 & -0.00740852 & 0.0291264\\\\\n",
       "\\end{bmatrix}"
      ],
      "text/plain": [
       "<IPython.core.display.Latex object>"
      ]
     },
     "metadata": {},
     "output_type": "display_data"
    },
    {
     "data": {
      "text/latex": [
       "Camada: 2"
      ],
      "text/plain": [
       "<IPython.core.display.Latex object>"
      ]
     },
     "metadata": {},
     "output_type": "display_data"
    },
    {
     "data": {
      "text/latex": [
       "W = W - \\lambda (X \\cdot \\nabla f_{custo})"
      ],
      "text/plain": [
       "<IPython.core.display.Latex object>"
      ]
     },
     "metadata": {},
     "output_type": "display_data"
    },
    {
     "data": {
      "text/latex": [
       "\\begin{gather}\n",
       "\\begin{bmatrix}\n",
       "  0.13388992 & -0.60998307 & -0.46519718 & -0.20827367 & -0.69018861 & -0.4800595\\\\\n",
       "  -0.62849587 & 0.09712402 & -0.16280472 & 0.13116078\\\\\n",
       "  0.05416145 & 0.4505978 & -0.21402265 & -0.01258971 & 0.57194091 & -0.15096104\\\\\n",
       "  -0.3986476 & -0.05846872 & 0.02907348 & -0.37689812\\\\\n",
       "  0.58388785 & -0.02815964 & 0.00097247 & 0.35171127 & -0.29458954 & -0.14164582\\\\\n",
       "  0.09515395 & -0.18909739 & -0.51018699 & 0.19380042\\\\\n",
       "  -0.06568513 & -0.02946399 & -0.35848069 & 0.19897923 & -0.36343484 & 0.16928563\\\\\n",
       "  -0.04004217 & 0.26000399 & 0.48521264 & -0.11555627\\\\\n",
       "  -0.25950676 & -0.53410816 & -0.11647736 & -0.34350986 & 0.27695905 & -0.09329654\\\\\n",
       "  -0.34461025 & 0.14311966 & 0.27851458 & -0.16910933\\\\\n",
       "  0.64122004 & 0.22940464 & -0.30734464 & -0.02714152 & -0.03485108 & -0.14761408\\\\\n",
       "  0.33329386 & -0.00214438 & -0.35993986 & 0.03221465\\\\\n",
       "  0.10777709 & -0.51650957 & 0.26898938 & -0.36930001 & 0.14543639 & 0.06035289\\\\\n",
       "  -0.24297583 & -0.73129077 & 0.02337561 & -0.03818622\\\\\n",
       "  -0.03266061 & -0.31642835 & 0.55016987 & -0.3334636 & -0.44189288 & 0.15018848\\\\\n",
       "  -0.29833064 & 0.33178121 & -0.0230328 & -0.19786371\\\\\n",
       "  -0.29951876 & 0.12817325 & -0.25180263 & 0.1794341 & -0.06533044 & -0.212811\\\\\n",
       "  0.08230498 & 0.14653183 & -0.43164209 & -0.55232192\\\\\n",
       "  0.45376563 & -0.51541222 & -0.05094796 & 0.15226104 & 0.1496577 & 0.30365184\\\\\n",
       "  -0.01475256 & -0.42156054 & 0.29541247 & -0.00582677\\\\\n",
       "  -0.11347835 & 0.27108863 & -0.30347856 & 0.53458839 & 0.32355848 & -0.06888063\\\\\n",
       "  -0.30401195 & -0.06257522 & -0.3397596 & -0.43837425\\\\\n",
       "  -0.25658473 & -0.15248374 & -0.36045355 & -0.07379731 & 0.4205749 & 0.25726771\\\\\n",
       "  0.2921198 & 0.34912681 & 0.12509917 & 0.31534908\\\\\n",
       "  -0.08120595 & 0.085925 & -0.05665206 & 0.1728526 & 0.23585484 & 0.51464765\\\\\n",
       "  -0.44513478 & -0.4323337 & -0.0161892 & -0.01741997\\\\\n",
       "  -0.12073261 & 0.23158484 & 0.40964335 & 0.10909117 & -0.06798829 & -0.27763375\\\\\n",
       "  0.54485113 & 0.30699321 & -0.24395388 & 0.42920428\\\\\n",
       "\\end{bmatrix} = \n",
       "\\begin{bmatrix}\n",
       "  1.33702916e-01 & -6.08043357e-01 & -4.63210532e-01 & -2.00045924e-01\\\\\n",
       "  -6.99859997e-01 & -4.81616735e-01 & -6.26926457e-01 & 9.83690648e-02\\\\\n",
       "  -1.63194489e-01 & 1.32693153e-01\\\\\n",
       "  5.19420791e-02 & 4.73618289e-01 & -1.90445127e-01 & 8.50572341e-02\\\\\n",
       "  4.57160858e-01 & -1.69442253e-01 & -3.80021795e-01 & -4.36924688e-02\\\\\n",
       "  2.44476663e-02 & -3.58711856e-01\\\\\n",
       "  5.83196468e-01 & -2.09883161e-02 & 8.31732172e-03 & 3.82130181e-01\\\\\n",
       "  -3.30345742e-01 & -1.47403074e-01 & 1.00956253e-01 & -1.84494299e-01\\\\\n",
       "  -5.11628021e-01 & 1.99465791e-01\\\\\n",
       "  -6.74062772e-02 & -1.16113928e-02 & -3.40196105e-01 & 2.74705333e-01\\\\\n",
       "  -4.52447813e-01 & 1.54953275e-01 & -2.55976868e-02 & 2.71463106e-01\\\\\n",
       "  4.81625279e-01 & -1.01452662e-01\\\\\n",
       "  -2.60538987e-01 & -5.23401355e-01 & -1.05511473e-01 & -2.98094362e-01\\\\\n",
       "  2.23574968e-01 & -1.01892137e-01 & -3.35947406e-01 & 1.49992081e-01\\\\\n",
       "  2.76363122e-01 & -1.60650923e-01\\\\\n",
       "  6.40540742e-01 & 2.36450634e-01 & -3.00128149e-01 & 2.74577315e-03\\\\\n",
       "  -6.99823852e-02 & -1.53270722e-01 & 3.38994750e-01 & 2.37826061e-03\\\\\n",
       "  -3.61355706e-01 & 3.77810098e-02\\\\\n",
       "  1.07131684e-01 & -5.09815095e-01 & 2.75845845e-01 & -3.40903791e-01\\\\\n",
       "  1.12057774e-01 & 5.49784604e-02 & -2.37559355e-01 & -7.26993765e-01\\\\\n",
       "  2.20304029e-02 & -3.28975645e-02\\\\\n",
       "  -3.37482873e-02 & -3.05146420e-01 & 5.61724791e-01 & -2.85608585e-01\\\\\n",
       "  -4.98144518e-01 & 1.41131163e-01 & -2.89202470e-01 & 3.39022782e-01\\\\\n",
       "  -2.52998313e-02 & -1.88950954e-01\\\\\n",
       "  -3.00067700e-01 & 1.33867160e-01 & -2.45970942e-01 & 2.03586195e-01\\\\\n",
       "  -9.37202532e-02 & -2.17382164e-01 & 8.69119057e-02 & 1.50186599e-01\\\\\n",
       "  -4.32786246e-01 & -5.47823709e-01\\\\\n",
       "  4.53003085e-01 & -5.07502748e-01 & -4.28470995e-02 & 1.85810972e-01\\\\\n",
       "  1.10221119e-01 & 2.97301995e-01 & -8.35302824e-03 & -4.16483655e-01\\\\\n",
       "  2.93823120e-01 & 4.21741429e-04\\\\\n",
       "  -1.14473226e-01 & 2.81408043e-01 & -2.92909449e-01 & 5.78360640e-01\\\\\n",
       "  2.72105961e-01 & -7.71652148e-02 & -2.95662551e-01 & -5.59514585e-02\\\\\n",
       "  -3.41833215e-01 & -4.30221882e-01\\\\\n",
       "  -2.58129171e-01 & -1.36463955e-01 & -3.44046130e-01 & -5.84556144e-03\\\\\n",
       "  3.40700358e-01 & 2.44406774e-01 & 3.05081358e-01 & 3.59409490e-01\\\\\n",
       "  1.21880101e-01 & 3.28004751e-01\\\\\n",
       "  -8.28607201e-02 & 1.03089162e-01 & -3.90725665e-02 & 2.45658540e-01\\\\\n",
       "  1.50274403e-01 & 5.00867981e-01 & -4.31247310e-01 & -4.21316476e-01\\\\\n",
       "  -1.96382166e-02 & -3.86023041e-03\\\\\n",
       "  -1.22643410e-01 & 2.51404658e-01 & 4.29942761e-01 & 1.93161712e-01\\\\\n",
       "  -1.66809827e-01 & -2.93545421e-01 & 5.60887287e-01 & 3.19715032e-01\\\\\n",
       "  -2.47936535e-01 & 4.44862004e-01\\\\\n",
       "\\end{bmatrix} - 0.7\n",
       "\\begin{bmatrix}\n",
       "  0.07515898\\\\\n",
       "  0.89198697\\\\\n",
       "  0.27787117\\\\\n",
       "  0.69174406\\\\\n",
       "  0.41486225\\\\\n",
       "  0.2730149\\\\\n",
       "  0.25939429\\\\\n",
       "  0.43714678\\\\\n",
       "  0.22062496\\\\\n",
       "  0.30647243\\\\\n",
       "  0.39985149\\\\\n",
       "  0.62072676\\\\\n",
       "  0.66506887\\\\\n",
       "  0.767969\\\\\n",
       "\\end{bmatrix} \\cdot \n",
       "\\begin{bmatrix}\n",
       "  -0.00355446 & 0.03686872 & 0.03776084 & 0.15638753 & -0.18382723 & -0.02959879\\\\\n",
       "  0.02983037 & 0.02366506 & -0.00740852 & 0.0291264\\\\\n",
       "\\end{bmatrix}\\end{gather}"
      ],
      "text/plain": [
       "<IPython.core.display.Latex object>"
      ]
     },
     "metadata": {},
     "output_type": "display_data"
    },
    {
     "data": {
      "text/latex": [
       "\\nabla f_{custo} = \\frac{\\partial E}{\\partial Y} = \n",
       "\\begin{bmatrix}\n",
       "  0.05994004 & -0.07863501 & 0.13056282 & 0.10764922 & -0.12025528 & 0.02688462\\\\\n",
       "  -0.10971276 & 0.04689035 & 0.04561191 & -0.0342118 & 0.02229129 & -0.06162675\\\\\n",
       "  -0.0242135 & 0.13459238\\\\\n",
       "\\end{bmatrix}"
      ],
      "text/plain": [
       "<IPython.core.display.Latex object>"
      ]
     },
     "metadata": {},
     "output_type": "display_data"
    },
    {
     "data": {
      "text/latex": [
       "Camada: 1"
      ],
      "text/plain": [
       "<IPython.core.display.Latex object>"
      ]
     },
     "metadata": {},
     "output_type": "display_data"
    },
    {
     "data": {
      "text/latex": [
       "\\nabla = \\frac{\\partial E}{\\partial Y} \\frac{\\partial Y}{\\partial X}"
      ],
      "text/plain": [
       "<IPython.core.display.Latex object>"
      ]
     },
     "metadata": {},
     "output_type": "display_data"
    },
    {
     "data": {
      "text/latex": [
       "\\begin{gather}\n",
       "\\begin{bmatrix}\n",
       "  0.07515898 & 0.89198697 & 0.27787117 & 0.69174406 & 0.41486225 & 0.2730149\\\\\n",
       "  0.25939429 & 0.43714678 & 0.22062496 & 0.30647243 & 0.39985149 & 0.62072676\\\\\n",
       "  0.66506887 & 0.767969\\\\\n",
       "\\end{bmatrix} = \\sigma(\n",
       "\\begin{bmatrix}\n",
       "  -2.51001623 & 2.11119965 & -0.95504599 & 0.8082856 & -0.34390074 & -0.97937962\\\\\n",
       "  -1.04911911 & -0.25274985 & -1.26202814 & -0.8166632 & -0.40608393 & 0.49263409\\\\\n",
       "  0.68596565 & 1.19687839\\\\\n",
       "\\end{bmatrix}) \\end{gather}"
      ],
      "text/plain": [
       "<IPython.core.display.Latex object>"
      ]
     },
     "metadata": {},
     "output_type": "display_data"
    },
    {
     "data": {
      "text/latex": [
       "\\nabla f_{custo} = \\frac{\\partial E}{\\partial Y} = \n",
       "\\begin{bmatrix}\n",
       "  0.00416644 & -0.00757619 & 0.02619858 & 0.0229545 & -0.02919216 & 0.005336\\\\\n",
       "  -0.0210768 & 0.01153735 & 0.00784295 & -0.00727162 & 0.00534925 & -0.01450848\\\\\n",
       "  -0.00539361 & 0.02398337\\\\\n",
       "\\end{bmatrix}"
      ],
      "text/plain": [
       "<IPython.core.display.Latex object>"
      ]
     },
     "metadata": {},
     "output_type": "display_data"
    },
    {
     "data": {
      "text/latex": [
       "Camada: 0"
      ],
      "text/plain": [
       "<IPython.core.display.Latex object>"
      ]
     },
     "metadata": {},
     "output_type": "display_data"
    },
    {
     "data": {
      "text/latex": [
       "W = W - \\lambda (X \\cdot \\nabla f_{custo})"
      ],
      "text/plain": [
       "<IPython.core.display.Latex object>"
      ]
     },
     "metadata": {},
     "output_type": "display_data"
    },
    {
     "data": {
      "text/latex": [
       "\\begin{gather}\n",
       "\\begin{bmatrix}\n",
       "  -0.44910428 & -0.04439719 & 0.20744805 & 0.88796698 & 0.59612388 & 0.44701743\\\\\n",
       "  0.65814703 & 0.02698399 & 0.73290685 & 0.04600485 & 0.07757692 & 0.81796347\\\\\n",
       "  0.92628191 & 0.10765379\\\\\n",
       "  -0.90262892 & -0.04292254 & -0.23080292 & 0.43367332 & -0.64832023 & -0.54295464\\\\\n",
       "  -0.811226 & -0.41283387 & -0.61250042 & -0.07021767 & -0.5346333 & 0.04312789\\\\\n",
       "  -0.00258382 & 0.39923101\\\\\n",
       "  -0.98910968 & 0.17836259 & -0.81194947 & -0.26479564 & -0.57953884 & -0.2420262\\\\\n",
       "  -0.63292796 & -0.70699172 & -0.76429102 & -0.36618216 & 0.2186522 & -0.12799351\\\\\n",
       "  -0.23166132 & 0.48156108\\\\\n",
       "  0.01987341 & 0.49234475 & -0.4384441 & 0.74822675 & 0.46636867 & -0.15282338\\\\\n",
       "  0.59080634 & 0.87966907 & -0.08715352 & 0.52034859 & 0.47245877 & -0.05588736\\\\\n",
       "  0.81822442 & 0.34524353\\\\\n",
       "  -0.45348823 & 0.65524398 & -0.13658988 & 0.5049065 & 0.92876571 & 0.12459192\\\\\n",
       "  0.00849116 & 0.82212299 & 0.66486867 & 0.25861006 & 0.57523639 & 0.63429832\\\\\n",
       "  0.72747963 & 0.43304283\\\\\n",
       "  -0.06583445 & 0.78490175 & -0.1934841 & -0.02702515 & 0.80018061 & -0.22248251\\\\\n",
       "  0.42038887 & 0.53229035 & 0.21786753 & 0.08550032 & -0.04349395 & 0.65791978\\\\\n",
       "  0.79928009 & 0.08812207\\\\\n",
       "  0.22625667 & 0.896002 & 0.89139936 & 0.55223707 & 0.10983735 & 0.68337544\\\\\n",
       "  0.94323916 & 0.54732571 & 0.51848716 & 0.16770113 & 0.44687707 & 0.33167438\\\\\n",
       "  0.73475381 & 0.4283499\\\\\n",
       "\\end{bmatrix} = \n",
       "\\begin{bmatrix}\n",
       "  -0.44910428 & -0.04439719 & 0.20744805 & 0.88796698 & 0.59612388 & 0.44701743\\\\\n",
       "  0.65814703 & 0.02698399 & 0.73290685 & 0.04600485 & 0.07757692 & 0.81796347\\\\\n",
       "  0.92628191 & 0.10765379\\\\\n",
       "  -0.89971242 & -0.04822587 & -0.21246392 & 0.44974147 & -0.66875474 & -0.53921944\\\\\n",
       "  -0.82597976 & -0.40475772 & -0.60701036 & -0.07530781 & -0.53088883 & 0.03297195\\\\\n",
       "  -0.00635935 & 0.41601937\\\\\n",
       "  -0.98619317 & 0.17305925 & -0.79361046 & -0.24872749 & -0.59997335 & -0.238291\\\\\n",
       "  -0.64768171 & -0.69891558 & -0.75880096 & -0.37127229 & 0.22239667 & -0.13814944\\\\\n",
       "  -0.23543685 & 0.49834944\\\\\n",
       "  0.01987341 & 0.49234475 & -0.4384441 & 0.74822675 & 0.46636867 & -0.15282338\\\\\n",
       "  0.59080634 & 0.87966907 & -0.08715352 & 0.52034859 & 0.47245877 & -0.05588736\\\\\n",
       "  0.81822442 & 0.34524353\\\\\n",
       "  -0.45348823 & 0.65524398 & -0.13658988 & 0.5049065 & 0.92876571 & 0.12459192\\\\\n",
       "  0.00849116 & 0.82212299 & 0.66486867 & 0.25861006 & 0.57523639 & 0.63429832\\\\\n",
       "  0.72747963 & 0.43304283\\\\\n",
       "  -0.06291795 & 0.77959842 & -0.1751451 & -0.010957 & 0.7797461 & -0.21874731\\\\\n",
       "  0.40563511 & 0.54036649 & 0.22335759 & 0.08041019 & -0.03974947 & 0.64776385\\\\\n",
       "  0.79550456 & 0.10491043\\\\\n",
       "  0.22917318 & 0.89069867 & 0.90973836 & 0.56830522 & 0.08940284 & 0.68711064\\\\\n",
       "  0.9284854 & 0.55540185 & 0.52397722 & 0.16261099 & 0.45062154 & 0.32151844\\\\\n",
       "  0.73097828 & 0.44513826\\\\\n",
       "\\end{bmatrix} - 0.7\n",
       "\\begin{bmatrix}\n",
       "  0\\\\\n",
       "  1\\\\\n",
       "  1\\\\\n",
       "  0\\\\\n",
       "  0\\\\\n",
       "  1\\\\\n",
       "  1\\\\\n",
       "\\end{bmatrix} \\cdot \n",
       "\\begin{bmatrix}\n",
       "  0.00416644 & -0.00757619 & 0.02619858 & 0.0229545 & -0.02919216 & 0.005336\\\\\n",
       "  -0.0210768 & 0.01153735 & 0.00784295 & -0.00727162 & 0.00534925 & -0.01450848\\\\\n",
       "  -0.00539361 & 0.02398337\\\\\n",
       "\\end{bmatrix}\\end{gather}"
      ],
      "text/plain": [
       "<IPython.core.display.Latex object>"
      ]
     },
     "metadata": {},
     "output_type": "display_data"
    },
    {
     "data": {
      "text/latex": [
       "Camada: 0"
      ],
      "text/plain": [
       "<IPython.core.display.Latex object>"
      ]
     },
     "metadata": {},
     "output_type": "display_data"
    },
    {
     "data": {
      "text/latex": [
       "Y = Xw + b"
      ],
      "text/plain": [
       "<IPython.core.display.Latex object>"
      ]
     },
     "metadata": {},
     "output_type": "display_data"
    },
    {
     "data": {
      "text/latex": [
       "\\begin{gather}\n",
       "\\begin{bmatrix}\n",
       "  -2.05120071 & 2.62858639 & -1.04693414 & 1.93046528 & 1.46908459 & -0.16090692\\\\\n",
       "  1.08482905 & 1.02635637 & -0.03122471 & -0.15464142 & 0.6598627 & 1.26236199\\\\\n",
       "  2.45193345 & 1.16660291\\\\\n",
       "\\end{bmatrix} = \n",
       "\\begin{bmatrix}\n",
       "  1 & 0 & 1 & 1 & 0 & 1 & 1\\\\\n",
       "\\end{bmatrix} \\cdot \n",
       "\\begin{bmatrix}\n",
       "  -0.44910428 & -0.04439719 & 0.20744805 & 0.88796698 & 0.59612388 & 0.44701743\\\\\n",
       "  0.65814703 & 0.02698399 & 0.73290685 & 0.04600485 & 0.07757692 & 0.81796347\\\\\n",
       "  0.92628191 & 0.10765379\\\\\n",
       "  -0.90262892 & -0.04292254 & -0.23080292 & 0.43367332 & -0.64832023 & -0.54295464\\\\\n",
       "  -0.811226 & -0.41283387 & -0.61250042 & -0.07021767 & -0.5346333 & 0.04312789\\\\\n",
       "  -0.00258382 & 0.39923101\\\\\n",
       "  -0.98910968 & 0.17836259 & -0.81194947 & -0.26479564 & -0.57953884 & -0.2420262\\\\\n",
       "  -0.63292796 & -0.70699172 & -0.76429102 & -0.36618216 & 0.2186522 & -0.12799351\\\\\n",
       "  -0.23166132 & 0.48156108\\\\\n",
       "  0.01987341 & 0.49234475 & -0.4384441 & 0.74822675 & 0.46636867 & -0.15282338\\\\\n",
       "  0.59080634 & 0.87966907 & -0.08715352 & 0.52034859 & 0.47245877 & -0.05588736\\\\\n",
       "  0.81822442 & 0.34524353\\\\\n",
       "  -0.45348823 & 0.65524398 & -0.13658988 & 0.5049065 & 0.92876571 & 0.12459192\\\\\n",
       "  0.00849116 & 0.82212299 & 0.66486867 & 0.25861006 & 0.57523639 & 0.63429832\\\\\n",
       "  0.72747963 & 0.43304283\\\\\n",
       "  -0.06583445 & 0.78490175 & -0.1934841 & -0.02702515 & 0.80018061 & -0.22248251\\\\\n",
       "  0.42038887 & 0.53229035 & 0.21786753 & 0.08550032 & -0.04349395 & 0.65791978\\\\\n",
       "  0.79928009 & 0.08812207\\\\\n",
       "  0.22625667 & 0.896002 & 0.89139936 & 0.55223707 & 0.10983735 & 0.68337544\\\\\n",
       "  0.94323916 & 0.54732571 & 0.51848716 & 0.16770113 & 0.44687707 & 0.33167438\\\\\n",
       "  0.73475381 & 0.4283499\\\\\n",
       "\\end{bmatrix} + \n",
       "\\begin{bmatrix}\n",
       "  -0.79328238 & 0.32137251 & -0.70190388 & 0.03385526 & 0.07611291 & -0.67396771\\\\\n",
       "  -0.89482438 & -0.25292103 & -0.64904171 & -0.60801415 & -0.51220832 & -0.36131477\\\\\n",
       "  -0.59494546 & -0.28432747\\\\\n",
       "\\end{bmatrix}\\end{gather}"
      ],
      "text/plain": [
       "<IPython.core.display.Latex object>"
      ]
     },
     "metadata": {},
     "output_type": "display_data"
    },
    {
     "data": {
      "text/latex": [
       "Camada: 1"
      ],
      "text/plain": [
       "<IPython.core.display.Latex object>"
      ]
     },
     "metadata": {},
     "output_type": "display_data"
    },
    {
     "data": {
      "text/latex": [
       "Y = \\sigma(X)"
      ],
      "text/plain": [
       "<IPython.core.display.Latex object>"
      ]
     },
     "metadata": {},
     "output_type": "display_data"
    },
    {
     "data": {
      "text/latex": [
       "\\begin{gather}\n",
       "\\begin{bmatrix}\n",
       "  0.11393111 & 0.93267884 & 0.25981427 & 0.87330091 & 0.81291821 & 0.45985984\\\\\n",
       "  0.74740675 & 0.73620889 & 0.49219446 & 0.46141651 & 0.65922955 & 0.77943244\\\\\n",
       "  0.92070273 & 0.76253043\\\\\n",
       "\\end{bmatrix} = \\sigma(\n",
       "\\begin{bmatrix}\n",
       "  -2.05120071 & 2.62858639 & -1.04693414 & 1.93046528 & 1.46908459 & -0.16090692\\\\\n",
       "  1.08482905 & 1.02635637 & -0.03122471 & -0.15464142 & 0.6598627 & 1.26236199\\\\\n",
       "  2.45193345 & 1.16660291\\\\\n",
       "\\end{bmatrix}) \\end{gather}"
      ],
      "text/plain": [
       "<IPython.core.display.Latex object>"
      ]
     },
     "metadata": {},
     "output_type": "display_data"
    },
    {
     "data": {
      "text/latex": [
       "Camada: 2"
      ],
      "text/plain": [
       "<IPython.core.display.Latex object>"
      ]
     },
     "metadata": {},
     "output_type": "display_data"
    },
    {
     "data": {
      "text/latex": [
       "Y = Xw + b"
      ],
      "text/plain": [
       "<IPython.core.display.Latex object>"
      ]
     },
     "metadata": {},
     "output_type": "display_data"
    },
    {
     "data": {
      "text/latex": [
       "\\begin{gather}\n",
       "\\begin{bmatrix}\n",
       "  -0.06339556 & -0.43873118 & -0.06104856 & 0.12264303 & 0.86564489 & 0.11041791\\\\\n",
       "  -0.40797886 & -0.2051927 & -0.01550568 & -0.34296284\\\\\n",
       "\\end{bmatrix} = \n",
       "\\begin{bmatrix}\n",
       "  0.11393111 & 0.93267884 & 0.25981427 & 0.87330091 & 0.81291821 & 0.45985984\\\\\n",
       "  0.74740675 & 0.73620889 & 0.49219446 & 0.46141651 & 0.65922955 & 0.77943244\\\\\n",
       "  0.92070273 & 0.76253043\\\\\n",
       "\\end{bmatrix} \\cdot \n",
       "\\begin{bmatrix}\n",
       "  0.13388992 & -0.60998307 & -0.46519718 & -0.20827367 & -0.69018861 & -0.4800595\\\\\n",
       "  -0.62849587 & 0.09712402 & -0.16280472 & 0.13116078\\\\\n",
       "  0.05416145 & 0.4505978 & -0.21402265 & -0.01258971 & 0.57194091 & -0.15096104\\\\\n",
       "  -0.3986476 & -0.05846872 & 0.02907348 & -0.37689812\\\\\n",
       "  0.58388785 & -0.02815964 & 0.00097247 & 0.35171127 & -0.29458954 & -0.14164582\\\\\n",
       "  0.09515395 & -0.18909739 & -0.51018699 & 0.19380042\\\\\n",
       "  -0.06568513 & -0.02946399 & -0.35848069 & 0.19897923 & -0.36343484 & 0.16928563\\\\\n",
       "  -0.04004217 & 0.26000399 & 0.48521264 & -0.11555627\\\\\n",
       "  -0.25950676 & -0.53410816 & -0.11647736 & -0.34350986 & 0.27695905 & -0.09329654\\\\\n",
       "  -0.34461025 & 0.14311966 & 0.27851458 & -0.16910933\\\\\n",
       "  0.64122004 & 0.22940464 & -0.30734464 & -0.02714152 & -0.03485108 & -0.14761408\\\\\n",
       "  0.33329386 & -0.00214438 & -0.35993986 & 0.03221465\\\\\n",
       "  0.10777709 & -0.51650957 & 0.26898938 & -0.36930001 & 0.14543639 & 0.06035289\\\\\n",
       "  -0.24297583 & -0.73129077 & 0.02337561 & -0.03818622\\\\\n",
       "  -0.03266061 & -0.31642835 & 0.55016987 & -0.3334636 & -0.44189288 & 0.15018848\\\\\n",
       "  -0.29833064 & 0.33178121 & -0.0230328 & -0.19786371\\\\\n",
       "  -0.29951876 & 0.12817325 & -0.25180263 & 0.1794341 & -0.06533044 & -0.212811\\\\\n",
       "  0.08230498 & 0.14653183 & -0.43164209 & -0.55232192\\\\\n",
       "  0.45376563 & -0.51541222 & -0.05094796 & 0.15226104 & 0.1496577 & 0.30365184\\\\\n",
       "  -0.01475256 & -0.42156054 & 0.29541247 & -0.00582677\\\\\n",
       "  -0.11347835 & 0.27108863 & -0.30347856 & 0.53458839 & 0.32355848 & -0.06888063\\\\\n",
       "  -0.30401195 & -0.06257522 & -0.3397596 & -0.43837425\\\\\n",
       "  -0.25658473 & -0.15248374 & -0.36045355 & -0.07379731 & 0.4205749 & 0.25726771\\\\\n",
       "  0.2921198 & 0.34912681 & 0.12509917 & 0.31534908\\\\\n",
       "  -0.08120595 & 0.085925 & -0.05665206 & 0.1728526 & 0.23585484 & 0.51464765\\\\\n",
       "  -0.44513478 & -0.4323337 & -0.0161892 & -0.01741997\\\\\n",
       "  -0.12073261 & 0.23158484 & 0.40964335 & 0.10909117 & -0.06798829 & -0.27763375\\\\\n",
       "  0.54485113 & 0.30699321 & -0.24395388 & 0.42920428\\\\\n",
       "\\end{bmatrix} + \n",
       "\\begin{bmatrix}\n",
       "  0.01574769 & 0.05041424 & 0.50256221 & 0.01040873 & 0.06895776 & -0.26969344\\\\\n",
       "  0.50718429 & -0.09722156 & 0.02688659 & 0.34754115\\\\\n",
       "\\end{bmatrix}\\end{gather}"
      ],
      "text/plain": [
       "<IPython.core.display.Latex object>"
      ]
     },
     "metadata": {},
     "output_type": "display_data"
    },
    {
     "data": {
      "text/latex": [
       "f_{custo}(\n",
       "\\begin{bmatrix}\n",
       "  0 & 0 & 0 & 0 & 0 & 1 & 0 & 0 & 0 & 0\\\\\n",
       "\\end{bmatrix},\n",
       "\\begin{bmatrix}\n",
       "  -0.06339556 & -0.43873118 & -0.06104856 & 0.12264303 & 0.86564489 & 0.11041791\\\\\n",
       "  -0.40797886 & -0.2051927 & -0.01550568 & -0.34296284\\\\\n",
       "\\end{bmatrix}) = \n",
       "\\begin{bmatrix}\n",
       "  0.20823843864614053\\\\\n",
       "\\end{bmatrix}"
      ],
      "text/plain": [
       "<IPython.core.display.Latex object>"
      ]
     },
     "metadata": {},
     "output_type": "display_data"
    },
    {
     "data": {
      "text/latex": [
       "\\nabla f_{custo} = \\frac{\\partial E}{\\partial Y} = \n",
       "\\begin{bmatrix}\n",
       "  -0.01267911 & -0.08774624 & -0.01220971 & 0.02452861 & 0.17312898 & -0.17791642\\\\\n",
       "  -0.08159577 & -0.04103854 & -0.00310114 & -0.06859257\\\\\n",
       "\\end{bmatrix}"
      ],
      "text/plain": [
       "<IPython.core.display.Latex object>"
      ]
     },
     "metadata": {},
     "output_type": "display_data"
    },
    {
     "data": {
      "text/latex": [
       "Camada: 2"
      ],
      "text/plain": [
       "<IPython.core.display.Latex object>"
      ]
     },
     "metadata": {},
     "output_type": "display_data"
    },
    {
     "data": {
      "text/latex": [
       "W = W - \\lambda (X \\cdot \\nabla f_{custo})"
      ],
      "text/plain": [
       "<IPython.core.display.Latex object>"
      ]
     },
     "metadata": {},
     "output_type": "display_data"
    },
    {
     "data": {
      "text/latex": [
       "\\begin{gather}\n",
       "\\begin{bmatrix}\n",
       "  0.1349011 & -0.60298515 & -0.46422343 & -0.21022987 & -0.70399595 & -0.46587035\\\\\n",
       "  -0.62198846 & 0.10039691 & -0.1625574 & 0.13663116\\\\\n",
       "  0.06243933 & 0.50788514 & -0.20605123 & -0.02860383 & 0.45890929 & -0.03480382\\\\\n",
       "  -0.34537575 & -0.03167567 & 0.03109813 & -0.33211573\\\\\n",
       "  0.5861938 & -0.01220124 & 0.00319305 & 0.34725025 & -0.32607651 & -0.10928816\\\\\n",
       "  0.10999378 & -0.18163371 & -0.50962299 & 0.20627535\\\\\n",
       "  -0.05793426 & 0.02417621 & -0.35101677 & 0.18398463 & -0.46927042 & 0.27804783\\\\\n",
       "  0.00983819 & 0.28509129 & 0.48710839 & -0.07362491\\\\\n",
       "  -0.2522918 & -0.4841768 & -0.10952951 & -0.35746769 & 0.17844127 & 0.00794551\\\\\n",
       "  -0.29817877 & 0.16647235 & 0.28027926 & -0.13007723\\\\\n",
       "  0.64530147 & 0.25765032 & -0.30341431 & -0.03503732 & -0.09058163 & -0.09034245\\\\\n",
       "  0.35955969 & 0.011066 & -0.3589416 & 0.05429473\\\\\n",
       "  0.11441061 & -0.47060208 & 0.27537732 & -0.38213301 & 0.05485795 & 0.15343604\\\\\n",
       "  -0.20028617 & -0.70982004 & 0.02499808 & -0.00229964\\\\\n",
       "  -0.02612648 & -0.27120866 & 0.5564621 & -0.34610432 & -0.53111425 & 0.24187703\\\\\n",
       "  -0.25628057 & 0.35293026 & -0.02143465 & -0.16251479\\\\\n",
       "  -0.29515035 & 0.158405 & -0.24759594 & 0.17098311 & -0.12497963 & -0.15151237\\\\\n",
       "  0.11041767 & 0.16067109 & -0.43057364 & -0.5286893\\\\\n",
       "  0.45786087 & -0.48707093 & -0.04700433 & 0.14433851 & 0.09373851 & 0.36111735\\\\\n",
       "  0.01160219 & -0.40830544 & 0.29641412 & 0.01632805\\\\\n",
       "  -0.10762744 & 0.31158007 & -0.29784426 & 0.5232694 & 0.24366626 & 0.0132208\\\\\n",
       "  -0.26635871 & -0.04363754 & -0.33832855 & -0.40672147\\\\\n",
       "  -0.24966697 & -0.10460915 & -0.35379189 & -0.08718018 & 0.32611526 & 0.35433939\\\\\n",
       "  0.33663868 & 0.37151755 & 0.12679115 & 0.35277337\\\\\n",
       "  -0.07303436 & 0.14247674 & -0.048783 & 0.15704412 & 0.12427462 & 0.62931334\\\\\n",
       "  -0.39254697 & -0.4058847 & -0.01419054 & 0.02678738\\\\\n",
       "  -0.11396486 & 0.27842126 & 0.41616055 & 0.0959985 & -0.16039957 & -0.18266707\\\\\n",
       "  0.58840461 & 0.3288984 & -0.24229858 & 0.46581703\\\\\n",
       "\\end{bmatrix} = \n",
       "\\begin{bmatrix}\n",
       "  0.13388992 & -0.60998307 & -0.46519718 & -0.20827367 & -0.69018861 & -0.4800595\\\\\n",
       "  -0.62849587 & 0.09712402 & -0.16280472 & 0.13116078\\\\\n",
       "  0.05416145 & 0.4505978 & -0.21402265 & -0.01258971 & 0.57194091 & -0.15096104\\\\\n",
       "  -0.3986476 & -0.05846872 & 0.02907348 & -0.37689812\\\\\n",
       "  0.58388785 & -0.02815964 & 0.00097247 & 0.35171127 & -0.29458954 & -0.14164582\\\\\n",
       "  0.09515395 & -0.18909739 & -0.51018699 & 0.19380042\\\\\n",
       "  -0.06568513 & -0.02946399 & -0.35848069 & 0.19897923 & -0.36343484 & 0.16928563\\\\\n",
       "  -0.04004217 & 0.26000399 & 0.48521264 & -0.11555627\\\\\n",
       "  -0.25950676 & -0.53410816 & -0.11647736 & -0.34350986 & 0.27695905 & -0.09329654\\\\\n",
       "  -0.34461025 & 0.14311966 & 0.27851458 & -0.16910933\\\\\n",
       "  0.64122004 & 0.22940464 & -0.30734464 & -0.02714152 & -0.03485108 & -0.14761408\\\\\n",
       "  0.33329386 & -0.00214438 & -0.35993986 & 0.03221465\\\\\n",
       "  0.10777709 & -0.51650957 & 0.26898938 & -0.36930001 & 0.14543639 & 0.06035289\\\\\n",
       "  -0.24297583 & -0.73129077 & 0.02337561 & -0.03818622\\\\\n",
       "  -0.03266061 & -0.31642835 & 0.55016987 & -0.3334636 & -0.44189288 & 0.15018848\\\\\n",
       "  -0.29833064 & 0.33178121 & -0.0230328 & -0.19786371\\\\\n",
       "  -0.29951876 & 0.12817325 & -0.25180263 & 0.1794341 & -0.06533044 & -0.212811\\\\\n",
       "  0.08230498 & 0.14653183 & -0.43164209 & -0.55232192\\\\\n",
       "  0.45376563 & -0.51541222 & -0.05094796 & 0.15226104 & 0.1496577 & 0.30365184\\\\\n",
       "  -0.01475256 & -0.42156054 & 0.29541247 & -0.00582677\\\\\n",
       "  -0.11347835 & 0.27108863 & -0.30347856 & 0.53458839 & 0.32355848 & -0.06888063\\\\\n",
       "  -0.30401195 & -0.06257522 & -0.3397596 & -0.43837425\\\\\n",
       "  -0.25658473 & -0.15248374 & -0.36045355 & -0.07379731 & 0.4205749 & 0.25726771\\\\\n",
       "  0.2921198 & 0.34912681 & 0.12509917 & 0.31534908\\\\\n",
       "  -0.08120595 & 0.085925 & -0.05665206 & 0.1728526 & 0.23585484 & 0.51464765\\\\\n",
       "  -0.44513478 & -0.4323337 & -0.0161892 & -0.01741997\\\\\n",
       "  -0.12073261 & 0.23158484 & 0.40964335 & 0.10909117 & -0.06798829 & -0.27763375\\\\\n",
       "  0.54485113 & 0.30699321 & -0.24395388 & 0.42920428\\\\\n",
       "\\end{bmatrix} - 0.7\n",
       "\\begin{bmatrix}\n",
       "  0.11393111\\\\\n",
       "  0.93267884\\\\\n",
       "  0.25981427\\\\\n",
       "  0.87330091\\\\\n",
       "  0.81291821\\\\\n",
       "  0.45985984\\\\\n",
       "  0.74740675\\\\\n",
       "  0.73620889\\\\\n",
       "  0.49219446\\\\\n",
       "  0.46141651\\\\\n",
       "  0.65922955\\\\\n",
       "  0.77943244\\\\\n",
       "  0.92070273\\\\\n",
       "  0.76253043\\\\\n",
       "\\end{bmatrix} \\cdot \n",
       "\\begin{bmatrix}\n",
       "  -0.01267911 & -0.08774624 & -0.01220971 & 0.02452861 & 0.17312898 & -0.17791642\\\\\n",
       "  -0.08159577 & -0.04103854 & -0.00310114 & -0.06859257\\\\\n",
       "\\end{bmatrix}\\end{gather}"
      ],
      "text/plain": [
       "<IPython.core.display.Latex object>"
      ]
     },
     "metadata": {},
     "output_type": "display_data"
    },
    {
     "data": {
      "text/latex": [
       "\\nabla f_{custo} = \\frac{\\partial E}{\\partial Y} = \n",
       "\\begin{bmatrix}\n",
       "  0.0571212 & 0.14864704 & -0.03383302 & -0.0813453 & 0.14068251 & -0.03314424\\\\\n",
       "  0.09843774 & -0.06557266 & 0.05307316 & 0.03370192 & 0.12123918 & -0.01391637\\\\\n",
       "  0.00299915 & -0.06923062\\\\\n",
       "\\end{bmatrix}"
      ],
      "text/plain": [
       "<IPython.core.display.Latex object>"
      ]
     },
     "metadata": {},
     "output_type": "display_data"
    },
    {
     "data": {
      "text/latex": [
       "Camada: 1"
      ],
      "text/plain": [
       "<IPython.core.display.Latex object>"
      ]
     },
     "metadata": {},
     "output_type": "display_data"
    },
    {
     "data": {
      "text/latex": [
       "\\nabla = \\frac{\\partial E}{\\partial Y} \\frac{\\partial Y}{\\partial X}"
      ],
      "text/plain": [
       "<IPython.core.display.Latex object>"
      ]
     },
     "metadata": {},
     "output_type": "display_data"
    },
    {
     "data": {
      "text/latex": [
       "\\begin{gather}\n",
       "\\begin{bmatrix}\n",
       "  0.11393111 & 0.93267884 & 0.25981427 & 0.87330091 & 0.81291821 & 0.45985984\\\\\n",
       "  0.74740675 & 0.73620889 & 0.49219446 & 0.46141651 & 0.65922955 & 0.77943244\\\\\n",
       "  0.92070273 & 0.76253043\\\\\n",
       "\\end{bmatrix} = \\sigma(\n",
       "\\begin{bmatrix}\n",
       "  -2.05120071 & 2.62858639 & -1.04693414 & 1.93046528 & 1.46908459 & -0.16090692\\\\\n",
       "  1.08482905 & 1.02635637 & -0.03122471 & -0.15464142 & 0.6598627 & 1.26236199\\\\\n",
       "  2.45193345 & 1.16660291\\\\\n",
       "\\end{bmatrix}) \\end{gather}"
      ],
      "text/plain": [
       "<IPython.core.display.Latex object>"
      ]
     },
     "metadata": {},
     "output_type": "display_data"
    },
    {
     "data": {
      "text/latex": [
       "\\nabla f_{custo} = \\frac{\\partial E}{\\partial Y} = \n",
       "\\begin{bmatrix}\n",
       "  0.00576643 & 0.0093334 & -0.00650646 & -0.00900057 & 0.0213953 & -0.00823266\\\\\n",
       "  0.01858405 & -0.01273456 & 0.01326506 & 0.00837531 & 0.02723589 & -0.00239247\\\\\n",
       "  0.00021897 & -0.01253613\\\\\n",
       "\\end{bmatrix}"
      ],
      "text/plain": [
       "<IPython.core.display.Latex object>"
      ]
     },
     "metadata": {},
     "output_type": "display_data"
    },
    {
     "data": {
      "text/latex": [
       "Camada: 0"
      ],
      "text/plain": [
       "<IPython.core.display.Latex object>"
      ]
     },
     "metadata": {},
     "output_type": "display_data"
    },
    {
     "data": {
      "text/latex": [
       "W = W - \\lambda (X \\cdot \\nabla f_{custo})"
      ],
      "text/plain": [
       "<IPython.core.display.Latex object>"
      ]
     },
     "metadata": {},
     "output_type": "display_data"
    },
    {
     "data": {
      "text/latex": [
       "\\begin{gather}\n",
       "\\begin{bmatrix}\n",
       "  -0.45314078 & -0.05093057 & 0.21200257 & 0.89426738 & 0.58114717 & 0.45278029\\\\\n",
       "  0.64513819 & 0.03589819 & 0.72362131 & 0.04014213 & 0.0585118 & 0.8196382\\\\\n",
       "  0.92612864 & 0.11642908\\\\\n",
       "  -0.90262892 & -0.04292254 & -0.23080292 & 0.43367332 & -0.64832023 & -0.54295464\\\\\n",
       "  -0.811226 & -0.41283387 & -0.61250042 & -0.07021767 & -0.5346333 & 0.04312789\\\\\n",
       "  -0.00258382 & 0.39923101\\\\\n",
       "  -0.99314618 & 0.1718292 & -0.80739495 & -0.25849524 & -0.59451555 & -0.23626334\\\\\n",
       "  -0.64593679 & -0.69807753 & -0.77357656 & -0.37204487 & 0.19958708 & -0.12631878\\\\\n",
       "  -0.2318146 & 0.49033637\\\\\n",
       "  0.01583691 & 0.48581137 & -0.43388958 & 0.75452715 & 0.45139196 & -0.14706052\\\\\n",
       "  0.57779751 & 0.88858327 & -0.09643906 & 0.51448588 & 0.45339365 & -0.05421263\\\\\n",
       "  0.81807114 & 0.35401882\\\\\n",
       "  -0.45348823 & 0.65524398 & -0.13658988 & 0.5049065 & 0.92876571 & 0.12459192\\\\\n",
       "  0.00849116 & 0.82212299 & 0.66486867 & 0.25861006 & 0.57523639 & 0.63429832\\\\\n",
       "  0.72747963 & 0.43304283\\\\\n",
       "  -0.06987095 & 0.77836837 & -0.18892958 & -0.02072475 & 0.7852039 & -0.21671965\\\\\n",
       "  0.40738003 & 0.54120455 & 0.20858199 & 0.07963761 & -0.06255907 & 0.65959451\\\\\n",
       "  0.79912681 & 0.09689736\\\\\n",
       "  0.22222017 & 0.88946861 & 0.89595388 & 0.55853747 & 0.09486064 & 0.6891383\\\\\n",
       "  0.93023032 & 0.5562399 & 0.50920162 & 0.16183841 & 0.42781195 & 0.33334911\\\\\n",
       "  0.73460053 & 0.43712519\\\\\n",
       "\\end{bmatrix} = \n",
       "\\begin{bmatrix}\n",
       "  -0.44910428 & -0.04439719 & 0.20744805 & 0.88796698 & 0.59612388 & 0.44701743\\\\\n",
       "  0.65814703 & 0.02698399 & 0.73290685 & 0.04600485 & 0.07757692 & 0.81796347\\\\\n",
       "  0.92628191 & 0.10765379\\\\\n",
       "  -0.90262892 & -0.04292254 & -0.23080292 & 0.43367332 & -0.64832023 & -0.54295464\\\\\n",
       "  -0.811226 & -0.41283387 & -0.61250042 & -0.07021767 & -0.5346333 & 0.04312789\\\\\n",
       "  -0.00258382 & 0.39923101\\\\\n",
       "  -0.98910968 & 0.17836259 & -0.81194947 & -0.26479564 & -0.57953884 & -0.2420262\\\\\n",
       "  -0.63292796 & -0.70699172 & -0.76429102 & -0.36618216 & 0.2186522 & -0.12799351\\\\\n",
       "  -0.23166132 & 0.48156108\\\\\n",
       "  0.01987341 & 0.49234475 & -0.4384441 & 0.74822675 & 0.46636867 & -0.15282338\\\\\n",
       "  0.59080634 & 0.87966907 & -0.08715352 & 0.52034859 & 0.47245877 & -0.05588736\\\\\n",
       "  0.81822442 & 0.34524353\\\\\n",
       "  -0.45348823 & 0.65524398 & -0.13658988 & 0.5049065 & 0.92876571 & 0.12459192\\\\\n",
       "  0.00849116 & 0.82212299 & 0.66486867 & 0.25861006 & 0.57523639 & 0.63429832\\\\\n",
       "  0.72747963 & 0.43304283\\\\\n",
       "  -0.06583445 & 0.78490175 & -0.1934841 & -0.02702515 & 0.80018061 & -0.22248251\\\\\n",
       "  0.42038887 & 0.53229035 & 0.21786753 & 0.08550032 & -0.04349395 & 0.65791978\\\\\n",
       "  0.79928009 & 0.08812207\\\\\n",
       "  0.22625667 & 0.896002 & 0.89139936 & 0.55223707 & 0.10983735 & 0.68337544\\\\\n",
       "  0.94323916 & 0.54732571 & 0.51848716 & 0.16770113 & 0.44687707 & 0.33167438\\\\\n",
       "  0.73475381 & 0.4283499\\\\\n",
       "\\end{bmatrix} - 0.7\n",
       "\\begin{bmatrix}\n",
       "  1\\\\\n",
       "  0\\\\\n",
       "  1\\\\\n",
       "  1\\\\\n",
       "  0\\\\\n",
       "  1\\\\\n",
       "  1\\\\\n",
       "\\end{bmatrix} \\cdot \n",
       "\\begin{bmatrix}\n",
       "  0.00576643 & 0.0093334 & -0.00650646 & -0.00900057 & 0.0213953 & -0.00823266\\\\\n",
       "  0.01858405 & -0.01273456 & 0.01326506 & 0.00837531 & 0.02723589 & -0.00239247\\\\\n",
       "  0.00021897 & -0.01253613\\\\\n",
       "\\end{bmatrix}\\end{gather}"
      ],
      "text/plain": [
       "<IPython.core.display.Latex object>"
      ]
     },
     "metadata": {},
     "output_type": "display_data"
    },
    {
     "data": {
      "text/latex": [
       "Camada: 0"
      ],
      "text/plain": [
       "<IPython.core.display.Latex object>"
      ]
     },
     "metadata": {},
     "output_type": "display_data"
    },
    {
     "data": {
      "text/latex": [
       "Y = Xw + b"
      ],
      "text/plain": [
       "<IPython.core.display.Latex object>"
      ]
     },
     "metadata": {},
     "output_type": "display_data"
    },
    {
     "data": {
      "text/latex": [
       "\\begin{gather}\n",
       "\\begin{bmatrix}\n",
       "  -2.07576717 & 3.29556066 & -1.36819947 & 1.57890678 & 1.72684285 & -0.45451813\\\\\n",
       "  0.37012901 & 1.86606634 & -0.14569059 & 0.02865021 & 1.06219656 & 1.08707048\\\\\n",
       "  2.25236478 & 1.53586839\\\\\n",
       "\\end{bmatrix} = \n",
       "\\begin{bmatrix}\n",
       "  0 & 0 & 1 & 1 & 1 & 1 & 1\\\\\n",
       "\\end{bmatrix} \\cdot \n",
       "\\begin{bmatrix}\n",
       "  -0.45314078 & -0.05093057 & 0.21200257 & 0.89426738 & 0.58114717 & 0.45278029\\\\\n",
       "  0.64513819 & 0.03589819 & 0.72362131 & 0.04014213 & 0.0585118 & 0.8196382\\\\\n",
       "  0.92612864 & 0.11642908\\\\\n",
       "  -0.90262892 & -0.04292254 & -0.23080292 & 0.43367332 & -0.64832023 & -0.54295464\\\\\n",
       "  -0.811226 & -0.41283387 & -0.61250042 & -0.07021767 & -0.5346333 & 0.04312789\\\\\n",
       "  -0.00258382 & 0.39923101\\\\\n",
       "  -0.99314618 & 0.1718292 & -0.80739495 & -0.25849524 & -0.59451555 & -0.23626334\\\\\n",
       "  -0.64593679 & -0.69807753 & -0.77357656 & -0.37204487 & 0.19958708 & -0.12631878\\\\\n",
       "  -0.2318146 & 0.49033637\\\\\n",
       "  0.01583691 & 0.48581137 & -0.43388958 & 0.75452715 & 0.45139196 & -0.14706052\\\\\n",
       "  0.57779751 & 0.88858327 & -0.09643906 & 0.51448588 & 0.45339365 & -0.05421263\\\\\n",
       "  0.81807114 & 0.35401882\\\\\n",
       "  -0.45348823 & 0.65524398 & -0.13658988 & 0.5049065 & 0.92876571 & 0.12459192\\\\\n",
       "  0.00849116 & 0.82212299 & 0.66486867 & 0.25861006 & 0.57523639 & 0.63429832\\\\\n",
       "  0.72747963 & 0.43304283\\\\\n",
       "  -0.06987095 & 0.77836837 & -0.18892958 & -0.02072475 & 0.7852039 & -0.21671965\\\\\n",
       "  0.40738003 & 0.54120455 & 0.20858199 & 0.07963761 & -0.06255907 & 0.65959451\\\\\n",
       "  0.79912681 & 0.09689736\\\\\n",
       "  0.22222017 & 0.88946861 & 0.89595388 & 0.55853747 & 0.09486064 & 0.6891383\\\\\n",
       "  0.93023032 & 0.5562399 & 0.50920162 & 0.16183841 & 0.42781195 & 0.33334911\\\\\n",
       "  0.73460053 & 0.43712519\\\\\n",
       "\\end{bmatrix} + \n",
       "\\begin{bmatrix}\n",
       "  -0.79731888 & 0.31483913 & -0.69734936 & 0.04015566 & 0.0611362 & -0.66820485\\\\\n",
       "  -0.90783322 & -0.24400684 & -0.65832725 & -0.61387686 & -0.53127344 & -0.35964004\\\\\n",
       "  -0.59509873 & -0.27555218\\\\\n",
       "\\end{bmatrix}\\end{gather}"
      ],
      "text/plain": [
       "<IPython.core.display.Latex object>"
      ]
     },
     "metadata": {},
     "output_type": "display_data"
    },
    {
     "data": {
      "text/latex": [
       "Camada: 1"
      ],
      "text/plain": [
       "<IPython.core.display.Latex object>"
      ]
     },
     "metadata": {},
     "output_type": "display_data"
    },
    {
     "data": {
      "text/latex": [
       "Y = \\sigma(X)"
      ],
      "text/plain": [
       "<IPython.core.display.Latex object>"
      ]
     },
     "metadata": {},
     "output_type": "display_data"
    },
    {
     "data": {
      "text/latex": [
       "\\begin{gather}\n",
       "\\begin{bmatrix}\n",
       "  0.11147453 & 0.9642762 & 0.20291091 & 0.82904964 & 0.84900814 & 0.38828708\\\\\n",
       "  0.59149015 & 0.86600246 & 0.46364164 & 0.50716206 & 0.74311009 & 0.74782967\\\\\n",
       "  0.90485432 & 0.82286331\\\\\n",
       "\\end{bmatrix} = \\sigma(\n",
       "\\begin{bmatrix}\n",
       "  -2.07576717 & 3.29556066 & -1.36819947 & 1.57890678 & 1.72684285 & -0.45451813\\\\\n",
       "  0.37012901 & 1.86606634 & -0.14569059 & 0.02865021 & 1.06219656 & 1.08707048\\\\\n",
       "  2.25236478 & 1.53586839\\\\\n",
       "\\end{bmatrix}) \\end{gather}"
      ],
      "text/plain": [
       "<IPython.core.display.Latex object>"
      ]
     },
     "metadata": {},
     "output_type": "display_data"
    },
    {
     "data": {
      "text/latex": [
       "Camada: 2"
      ],
      "text/plain": [
       "<IPython.core.display.Latex object>"
      ]
     },
     "metadata": {},
     "output_type": "display_data"
    },
    {
     "data": {
      "text/latex": [
       "Y = Xw + b"
      ],
      "text/plain": [
       "<IPython.core.display.Latex object>"
      ]
     },
     "metadata": {},
     "output_type": "display_data"
    },
    {
     "data": {
      "text/latex": [
       "\\begin{gather}\n",
       "\\begin{bmatrix}\n",
       "  -0.0789885 & 0.06542761 & 0.07804441 & 0.01958651 & -0.05957181 & 1.05641802\\\\\n",
       "  -0.02167589 & 0.15926551 & 0.01804516 & -0.02782418\\\\\n",
       "\\end{bmatrix} = \n",
       "\\begin{bmatrix}\n",
       "  0.11147453 & 0.9642762 & 0.20291091 & 0.82904964 & 0.84900814 & 0.38828708\\\\\n",
       "  0.59149015 & 0.86600246 & 0.46364164 & 0.50716206 & 0.74311009 & 0.74782967\\\\\n",
       "  0.90485432 & 0.82286331\\\\\n",
       "\\end{bmatrix} \\cdot \n",
       "\\begin{bmatrix}\n",
       "  0.1349011 & -0.60298515 & -0.46422343 & -0.21022987 & -0.70399595 & -0.46587035\\\\\n",
       "  -0.62198846 & 0.10039691 & -0.1625574 & 0.13663116\\\\\n",
       "  0.06243933 & 0.50788514 & -0.20605123 & -0.02860383 & 0.45890929 & -0.03480382\\\\\n",
       "  -0.34537575 & -0.03167567 & 0.03109813 & -0.33211573\\\\\n",
       "  0.5861938 & -0.01220124 & 0.00319305 & 0.34725025 & -0.32607651 & -0.10928816\\\\\n",
       "  0.10999378 & -0.18163371 & -0.50962299 & 0.20627535\\\\\n",
       "  -0.05793426 & 0.02417621 & -0.35101677 & 0.18398463 & -0.46927042 & 0.27804783\\\\\n",
       "  0.00983819 & 0.28509129 & 0.48710839 & -0.07362491\\\\\n",
       "  -0.2522918 & -0.4841768 & -0.10952951 & -0.35746769 & 0.17844127 & 0.00794551\\\\\n",
       "  -0.29817877 & 0.16647235 & 0.28027926 & -0.13007723\\\\\n",
       "  0.64530147 & 0.25765032 & -0.30341431 & -0.03503732 & -0.09058163 & -0.09034245\\\\\n",
       "  0.35955969 & 0.011066 & -0.3589416 & 0.05429473\\\\\n",
       "  0.11441061 & -0.47060208 & 0.27537732 & -0.38213301 & 0.05485795 & 0.15343604\\\\\n",
       "  -0.20028617 & -0.70982004 & 0.02499808 & -0.00229964\\\\\n",
       "  -0.02612648 & -0.27120866 & 0.5564621 & -0.34610432 & -0.53111425 & 0.24187703\\\\\n",
       "  -0.25628057 & 0.35293026 & -0.02143465 & -0.16251479\\\\\n",
       "  -0.29515035 & 0.158405 & -0.24759594 & 0.17098311 & -0.12497963 & -0.15151237\\\\\n",
       "  0.11041767 & 0.16067109 & -0.43057364 & -0.5286893\\\\\n",
       "  0.45786087 & -0.48707093 & -0.04700433 & 0.14433851 & 0.09373851 & 0.36111735\\\\\n",
       "  0.01160219 & -0.40830544 & 0.29641412 & 0.01632805\\\\\n",
       "  -0.10762744 & 0.31158007 & -0.29784426 & 0.5232694 & 0.24366626 & 0.0132208\\\\\n",
       "  -0.26635871 & -0.04363754 & -0.33832855 & -0.40672147\\\\\n",
       "  -0.24966697 & -0.10460915 & -0.35379189 & -0.08718018 & 0.32611526 & 0.35433939\\\\\n",
       "  0.33663868 & 0.37151755 & 0.12679115 & 0.35277337\\\\\n",
       "  -0.07303436 & 0.14247674 & -0.048783 & 0.15704412 & 0.12427462 & 0.62931334\\\\\n",
       "  -0.39254697 & -0.4058847 & -0.01419054 & 0.02678738\\\\\n",
       "  -0.11396486 & 0.27842126 & 0.41616055 & 0.0959985 & -0.16039957 & -0.18266707\\\\\n",
       "  0.58840461 & 0.3288984 & -0.24229858 & 0.46581703\\\\\n",
       "\\end{bmatrix} + \n",
       "\\begin{bmatrix}\n",
       "  0.02462307 & 0.1118366 & 0.51110901 & -0.0067613 & -0.05223253 & -0.14515195\\\\\n",
       "  0.56430133 & -0.06849458 & 0.02905738 & 0.39555595\\\\\n",
       "\\end{bmatrix}\\end{gather}"
      ],
      "text/plain": [
       "<IPython.core.display.Latex object>"
      ]
     },
     "metadata": {},
     "output_type": "display_data"
    },
    {
     "data": {
      "text/latex": [
       "f_{custo}(\n",
       "\\begin{bmatrix}\n",
       "  0 & 0 & 0 & 0 & 0 & 0 & 1 & 0 & 0 & 0\\\\\n",
       "\\end{bmatrix},\n",
       "\\begin{bmatrix}\n",
       "  -0.0789885 & 0.06542761 & 0.07804441 & 0.01958651 & -0.05957181 & 1.05641802\\\\\n",
       "  -0.02167589 & 0.15926551 & 0.01804516 & -0.02782418\\\\\n",
       "\\end{bmatrix}) = \n",
       "\\begin{bmatrix}\n",
       "  0.2206849308485565\\\\\n",
       "\\end{bmatrix}"
      ],
      "text/plain": [
       "<IPython.core.display.Latex object>"
      ]
     },
     "metadata": {},
     "output_type": "display_data"
    },
    {
     "data": {
      "text/latex": [
       "\\nabla f_{custo} = \\frac{\\partial E}{\\partial Y} = \n",
       "\\begin{bmatrix}\n",
       "  -0.0157977 & 0.01308552 & 0.01560888 & 0.0039173 & -0.01191436 & 0.2112836\\\\\n",
       "  -0.20433518 & 0.0318531 & 0.00360903 & -0.00556484\\\\\n",
       "\\end{bmatrix}"
      ],
      "text/plain": [
       "<IPython.core.display.Latex object>"
      ]
     },
     "metadata": {},
     "output_type": "display_data"
    },
    {
     "data": {
      "text/latex": [
       "Camada: 2"
      ],
      "text/plain": [
       "<IPython.core.display.Latex object>"
      ]
     },
     "metadata": {},
     "output_type": "display_data"
    },
    {
     "data": {
      "text/latex": [
       "W = W - \\lambda (X \\cdot \\nabla f_{custo})"
      ],
      "text/plain": [
       "<IPython.core.display.Latex object>"
      ]
     },
     "metadata": {},
     "output_type": "display_data"
    },
    {
     "data": {
      "text/latex": [
       "\\begin{gather}\n",
       "\\begin{bmatrix}\n",
       "  1.36133831e-01 & -6.04006241e-01 & -4.65441427e-01 & -2.10535549e-01\\\\\n",
       "  -7.03066250e-01 & -4.82357272e-01 & -6.06043745e-01 & 9.79113454e-02\\\\\n",
       "  -1.62839017e-01 & 1.37065391e-01\\\\\n",
       "  7.31026721e-02 & 4.99052498e-01 & -2.16587125e-01 & -3.12479856e-02\\\\\n",
       "  4.66951406e-01 & -1.77418846e-01 & -2.07450864e-01 & -5.31763039e-02\\\\\n",
       "  2.86620586e-02 & -3.28359504e-01\\\\\n",
       "  5.88437664e-01 & -1.40598736e-02 & 9.75998935e-04 & 3.46693849e-01\\\\\n",
       "  -3.24384218e-01 & -1.39298385e-01 & 1.39017061e-01 & -1.86158046e-01\\\\\n",
       "  -5.10135606e-01 & 2.07065765e-01\\\\\n",
       "  -4.87663029e-02 & 1.65822295e-02 & -3.60075141e-01 & 1.81711287e-01\\\\\n",
       "  -4.62356103e-01 & 1.55432610e-01 & 1.28420995e-01 & 2.66605825e-01\\\\\n",
       "  4.85013948e-01 & -7.03954389e-02\\\\\n",
       "  -2.42903138e-01 & -4.91953605e-01 & -1.18805955e-01 & -3.59795761e-01\\\\\n",
       "  1.85522039e-01 & -1.17621544e-01 & -1.76741208e-01 & 1.47541866e-01\\\\\n",
       "  2.78134392e-01 & -1.26770018e-01\\\\\n",
       "  6.49595297e-01 & 2.54093659e-01 & -3.07656820e-01 & -3.61020461e-02\\\\\n",
       "  -8.73432936e-02 & -1.47769538e-01 & 4.15098185e-01 & 2.40830062e-03\\\\\n",
       "  -3.59922538e-01 & 5.58072551e-02\\\\\n",
       "  1.20951535e-01 & -4.76020050e-01 & 2.68914567e-01 & -3.83754938e-01\\\\\n",
       "  5.97910112e-02 & 6.59555233e-02 & -1.15682601e-01 & -7.23008592e-01\\\\\n",
       "  2.35037840e-02 & 4.44484621e-06\\\\\n",
       "  -1.65498868e-02 & -2.79141124e-01 & 5.46999968e-01 & -3.48478999e-01\\\\\n",
       "  -5.23891738e-01 & 1.13796544e-01 & -1.32412234e-01 & 3.33620859e-01\\\\\n",
       "  -2.36224476e-02 & -1.59141379e-01\\\\\n",
       "  -2.90023215e-01 & 1.54158101e-01 & -2.52661793e-01 & 1.69711752e-01\\\\\n",
       "  -1.21112831e-01 & -2.20084282e-01 & 1.76734478e-01 & 1.50333189e-01\\\\\n",
       "  -4.31744948e-01 & -5.26883237e-01\\\\\n",
       "  4.63469268e-01 & -4.91716463e-01 & -5.25456882e-02 & 1.42947817e-01\\\\\n",
       "  9.79682653e-02 & 2.86108825e-01 & 8.41439230e-02 & -4.19613715e-01\\\\\n",
       "  2.95132860e-01 & 1.83036453e-02\\\\\n",
       "  -9.94098339e-02 & 3.04773284e-01 & -3.05963640e-01 & 5.21231711e-01\\\\\n",
       "  2.49863838e-01 & -9.66840824e-02 & -1.60068239e-01 & -6.02067956e-02\\\\\n",
       "  -3.40205884e-01 & -4.03826774e-01\\\\\n",
       "  -2.41397177e-01 & -1.11459170e-01 & -3.61962843e-01 & -8.92308160e-02\\\\\n",
       "  3.32352196e-01 & 2.43736484e-01 & 4.43604214e-01 & 3.54843067e-01\\\\\n",
       "  1.24901895e-01 & 3.55686450e-01\\\\\n",
       "  -6.30281301e-02 & 1.34188391e-01 & -5.86696327e-02 & 1.54562905e-01\\\\\n",
       "  1.31821150e-01 & 4.95486720e-01 & -2.63121471e-01 & -4.26060387e-01\\\\\n",
       "  -1.64764917e-02 & 3.03121358e-02\\\\\n",
       "  -1.04865319e-01 & 2.70883940e-01 & 4.07169762e-01 & 9.37421199e-02\\\\\n",
       "  -1.53536850e-01 & -3.04367342e-01 & 7.06102555e-01 & 3.10550879e-01\\\\\n",
       "  -2.44377398e-01 & 4.69022396e-01\\\\\n",
       "\\end{bmatrix} = \n",
       "\\begin{bmatrix}\n",
       "  0.1349011 & -0.60298515 & -0.46422343 & -0.21022987 & -0.70399595 & -0.46587035\\\\\n",
       "  -0.62198846 & 0.10039691 & -0.1625574 & 0.13663116\\\\\n",
       "  0.06243933 & 0.50788514 & -0.20605123 & -0.02860383 & 0.45890929 & -0.03480382\\\\\n",
       "  -0.34537575 & -0.03167567 & 0.03109813 & -0.33211573\\\\\n",
       "  0.5861938 & -0.01220124 & 0.00319305 & 0.34725025 & -0.32607651 & -0.10928816\\\\\n",
       "  0.10999378 & -0.18163371 & -0.50962299 & 0.20627535\\\\\n",
       "  -0.05793426 & 0.02417621 & -0.35101677 & 0.18398463 & -0.46927042 & 0.27804783\\\\\n",
       "  0.00983819 & 0.28509129 & 0.48710839 & -0.07362491\\\\\n",
       "  -0.2522918 & -0.4841768 & -0.10952951 & -0.35746769 & 0.17844127 & 0.00794551\\\\\n",
       "  -0.29817877 & 0.16647235 & 0.28027926 & -0.13007723\\\\\n",
       "  0.64530147 & 0.25765032 & -0.30341431 & -0.03503732 & -0.09058163 & -0.09034245\\\\\n",
       "  0.35955969 & 0.011066 & -0.3589416 & 0.05429473\\\\\n",
       "  0.11441061 & -0.47060208 & 0.27537732 & -0.38213301 & 0.05485795 & 0.15343604\\\\\n",
       "  -0.20028617 & -0.70982004 & 0.02499808 & -0.00229964\\\\\n",
       "  -0.02612648 & -0.27120866 & 0.5564621 & -0.34610432 & -0.53111425 & 0.24187703\\\\\n",
       "  -0.25628057 & 0.35293026 & -0.02143465 & -0.16251479\\\\\n",
       "  -0.29515035 & 0.158405 & -0.24759594 & 0.17098311 & -0.12497963 & -0.15151237\\\\\n",
       "  0.11041767 & 0.16067109 & -0.43057364 & -0.5286893\\\\\n",
       "  0.45786087 & -0.48707093 & -0.04700433 & 0.14433851 & 0.09373851 & 0.36111735\\\\\n",
       "  0.01160219 & -0.40830544 & 0.29641412 & 0.01632805\\\\\n",
       "  -0.10762744 & 0.31158007 & -0.29784426 & 0.5232694 & 0.24366626 & 0.0132208\\\\\n",
       "  -0.26635871 & -0.04363754 & -0.33832855 & -0.40672147\\\\\n",
       "  -0.24966697 & -0.10460915 & -0.35379189 & -0.08718018 & 0.32611526 & 0.35433939\\\\\n",
       "  0.33663868 & 0.37151755 & 0.12679115 & 0.35277337\\\\\n",
       "  -0.07303436 & 0.14247674 & -0.048783 & 0.15704412 & 0.12427462 & 0.62931334\\\\\n",
       "  -0.39254697 & -0.4058847 & -0.01419054 & 0.02678738\\\\\n",
       "  -0.11396486 & 0.27842126 & 0.41616055 & 0.0959985 & -0.16039957 & -0.18266707\\\\\n",
       "  0.58840461 & 0.3288984 & -0.24229858 & 0.46581703\\\\\n",
       "\\end{bmatrix} - 0.7\n",
       "\\begin{bmatrix}\n",
       "  0.11147453\\\\\n",
       "  0.9642762\\\\\n",
       "  0.20291091\\\\\n",
       "  0.82904964\\\\\n",
       "  0.84900814\\\\\n",
       "  0.38828708\\\\\n",
       "  0.59149015\\\\\n",
       "  0.86600246\\\\\n",
       "  0.46364164\\\\\n",
       "  0.50716206\\\\\n",
       "  0.74311009\\\\\n",
       "  0.74782967\\\\\n",
       "  0.90485432\\\\\n",
       "  0.82286331\\\\\n",
       "\\end{bmatrix} \\cdot \n",
       "\\begin{bmatrix}\n",
       "  -0.0157977 & 0.01308552 & 0.01560888 & 0.0039173 & -0.01191436 & 0.2112836\\\\\n",
       "  -0.20433518 & 0.0318531 & 0.00360903 & -0.00556484\\\\\n",
       "\\end{bmatrix}\\end{gather}"
      ],
      "text/plain": [
       "<IPython.core.display.Latex object>"
      ]
     },
     "metadata": {},
     "output_type": "display_data"
    },
    {
     "data": {
      "text/latex": [
       "\\nabla f_{custo} = \\frac{\\partial E}{\\partial Y} = \n",
       "\\begin{bmatrix}\n",
       "  0.02081092 & 0.06103403 & -0.05846418 & 0.07004979 & 0.06205919 & -0.10442044\\\\\n",
       "  0.04501938 & 0.1260624 & -0.04303865 & 0.04700872 & 0.05714722 & 0.00923347\\\\\n",
       "  0.20143702 & -0.13758996\\\\\n",
       "\\end{bmatrix}"
      ],
      "text/plain": [
       "<IPython.core.display.Latex object>"
      ]
     },
     "metadata": {},
     "output_type": "display_data"
    },
    {
     "data": {
      "text/latex": [
       "Camada: 1"
      ],
      "text/plain": [
       "<IPython.core.display.Latex object>"
      ]
     },
     "metadata": {},
     "output_type": "display_data"
    },
    {
     "data": {
      "text/latex": [
       "\\nabla = \\frac{\\partial E}{\\partial Y} \\frac{\\partial Y}{\\partial X}"
      ],
      "text/plain": [
       "<IPython.core.display.Latex object>"
      ]
     },
     "metadata": {},
     "output_type": "display_data"
    },
    {
     "data": {
      "text/latex": [
       "\\begin{gather}\n",
       "\\begin{bmatrix}\n",
       "  0.11147453 & 0.9642762 & 0.20291091 & 0.82904964 & 0.84900814 & 0.38828708\\\\\n",
       "  0.59149015 & 0.86600246 & 0.46364164 & 0.50716206 & 0.74311009 & 0.74782967\\\\\n",
       "  0.90485432 & 0.82286331\\\\\n",
       "\\end{bmatrix} = \\sigma(\n",
       "\\begin{bmatrix}\n",
       "  -2.07576717 & 3.29556066 & -1.36819947 & 1.57890678 & 1.72684285 & -0.45451813\\\\\n",
       "  0.37012901 & 1.86606634 & -0.14569059 & 0.02865021 & 1.06219656 & 1.08707048\\\\\n",
       "  2.25236478 & 1.53586839\\\\\n",
       "\\end{bmatrix}) \\end{gather}"
      ],
      "text/plain": [
       "<IPython.core.display.Latex object>"
      ]
     },
     "metadata": {},
     "output_type": "display_data"
    },
    {
     "data": {
      "text/latex": [
       "\\nabla f_{custo} = \\frac{\\partial E}{\\partial Y} = \n",
       "\\begin{bmatrix}\n",
       "  0.00206128 & 0.00210248 & -0.00945588 & 0.0099279 & 0.00795557 & -0.02480197\\\\\n",
       "  0.01087801 & 0.01462856 & -0.01070277 & 0.01174977 & 0.01090926 & 0.00174125\\\\\n",
       "  0.01734231 & -0.02005501\\\\\n",
       "\\end{bmatrix}"
      ],
      "text/plain": [
       "<IPython.core.display.Latex object>"
      ]
     },
     "metadata": {},
     "output_type": "display_data"
    },
    {
     "data": {
      "text/latex": [
       "Camada: 0"
      ],
      "text/plain": [
       "<IPython.core.display.Latex object>"
      ]
     },
     "metadata": {},
     "output_type": "display_data"
    },
    {
     "data": {
      "text/latex": [
       "W = W - \\lambda (X \\cdot \\nabla f_{custo})"
      ],
      "text/plain": [
       "<IPython.core.display.Latex object>"
      ]
     },
     "metadata": {},
     "output_type": "display_data"
    },
    {
     "data": {
      "text/latex": [
       "\\begin{gather}\n",
       "\\begin{bmatrix}\n",
       "  -4.53140782e-01 & -5.09305688e-02 & 2.12002567e-01 & 8.94267378e-01\\\\\n",
       "  5.81147171e-01 & 4.52780294e-01 & 6.45138192e-01 & 3.58981874e-02\\\\\n",
       "  7.23621310e-01 & 4.01421339e-02 & 5.85117976e-02 & 8.19638197e-01\\\\\n",
       "  9.26128636e-01 & 1.16429083e-01\\\\\n",
       "  -9.02628924e-01 & -4.29225369e-02 & -2.30802922e-01 & 4.33673323e-01\\\\\n",
       "  -6.48320231e-01 & -5.42954643e-01 & -8.11226004e-01 & -4.12833865e-01\\\\\n",
       "  -6.12500423e-01 & -7.02176729e-02 & -5.34633300e-01 & 4.31278895e-02\\\\\n",
       "  -2.58382226e-03 & 3.99231009e-01\\\\\n",
       "  -9.94589076e-01 & 1.70357471e-01 & -8.00775830e-01 & -2.65444774e-01\\\\\n",
       "  -6.00084454e-01 & -2.18901963e-01 & -6.53551401e-01 & -7.08317517e-01\\\\\n",
       "  -7.66084623e-01 & -3.80269713e-01 & 1.91950594e-01 & -1.27537657e-01\\\\\n",
       "  -2.43954220e-01 & 5.04374877e-01\\\\\n",
       "  1.43940148e-02 & 4.84339633e-01 & -4.27270458e-01 & 7.47577621e-01\\\\\n",
       "  4.45823058e-01 & -1.29699144e-01 & 5.70182896e-01 & 8.78343277e-01\\\\\n",
       "  -8.89471220e-02 & 5.06261038e-01 & 4.45757166e-01 & -5.54315100e-02\\\\\n",
       "  8.05931523e-01 & 3.68057326e-01\\\\\n",
       "  -4.54931124e-01 & 6.53772251e-01 & -1.29970761e-01 & 4.97956966e-01\\\\\n",
       "  9.23196811e-01 & 1.41953299e-01 & 8.76553913e-04 & 8.11883004e-01\\\\\n",
       "  6.72360605e-01 & 2.50385223e-01 & 5.67599912e-01 & 6.33079445e-01\\\\\n",
       "  7.15340012e-01 & 4.47081335e-01\\\\\n",
       "  -7.13138505e-02 & 7.76896633e-01 & -1.82310462e-01 & -2.76742845e-02\\\\\n",
       "  7.79634994e-01 & -1.99358278e-01 & 3.99765420e-01 & 5.30964556e-01\\\\\n",
       "  2.16073927e-01 & 7.14127674e-02 & -7.01955503e-02 & 6.58375633e-01\\\\\n",
       "  7.86987195e-01 & 1.10935873e-01\\\\\n",
       "  2.20777274e-01 & 8.87996881e-01 & 9.02572998e-01 & 5.51587939e-01\\\\\n",
       "  8.92917381e-02 & 7.06499678e-01 & 9.22615710e-01 & 5.45999910e-01\\\\\n",
       "  5.16693557e-01 & 1.53613572e-01 & 4.20175466e-01 & 3.32130230e-01\\\\\n",
       "  7.22460910e-01 & 4.51163702e-01\\\\\n",
       "\\end{bmatrix} = \n",
       "\\begin{bmatrix}\n",
       "  -0.45314078 & -0.05093057 & 0.21200257 & 0.89426738 & 0.58114717 & 0.45278029\\\\\n",
       "  0.64513819 & 0.03589819 & 0.72362131 & 0.04014213 & 0.0585118 & 0.8196382\\\\\n",
       "  0.92612864 & 0.11642908\\\\\n",
       "  -0.90262892 & -0.04292254 & -0.23080292 & 0.43367332 & -0.64832023 & -0.54295464\\\\\n",
       "  -0.811226 & -0.41283387 & -0.61250042 & -0.07021767 & -0.5346333 & 0.04312789\\\\\n",
       "  -0.00258382 & 0.39923101\\\\\n",
       "  -0.99314618 & 0.1718292 & -0.80739495 & -0.25849524 & -0.59451555 & -0.23626334\\\\\n",
       "  -0.64593679 & -0.69807753 & -0.77357656 & -0.37204487 & 0.19958708 & -0.12631878\\\\\n",
       "  -0.2318146 & 0.49033637\\\\\n",
       "  0.01583691 & 0.48581137 & -0.43388958 & 0.75452715 & 0.45139196 & -0.14706052\\\\\n",
       "  0.57779751 & 0.88858327 & -0.09643906 & 0.51448588 & 0.45339365 & -0.05421263\\\\\n",
       "  0.81807114 & 0.35401882\\\\\n",
       "  -0.45348823 & 0.65524398 & -0.13658988 & 0.5049065 & 0.92876571 & 0.12459192\\\\\n",
       "  0.00849116 & 0.82212299 & 0.66486867 & 0.25861006 & 0.57523639 & 0.63429832\\\\\n",
       "  0.72747963 & 0.43304283\\\\\n",
       "  -0.06987095 & 0.77836837 & -0.18892958 & -0.02072475 & 0.7852039 & -0.21671965\\\\\n",
       "  0.40738003 & 0.54120455 & 0.20858199 & 0.07963761 & -0.06255907 & 0.65959451\\\\\n",
       "  0.79912681 & 0.09689736\\\\\n",
       "  0.22222017 & 0.88946861 & 0.89595388 & 0.55853747 & 0.09486064 & 0.6891383\\\\\n",
       "  0.93023032 & 0.5562399 & 0.50920162 & 0.16183841 & 0.42781195 & 0.33334911\\\\\n",
       "  0.73460053 & 0.43712519\\\\\n",
       "\\end{bmatrix} - 0.7\n",
       "\\begin{bmatrix}\n",
       "  0\\\\\n",
       "  0\\\\\n",
       "  1\\\\\n",
       "  1\\\\\n",
       "  1\\\\\n",
       "  1\\\\\n",
       "  1\\\\\n",
       "\\end{bmatrix} \\cdot \n",
       "\\begin{bmatrix}\n",
       "  0.00206128 & 0.00210248 & -0.00945588 & 0.0099279 & 0.00795557 & -0.02480197\\\\\n",
       "  0.01087801 & 0.01462856 & -0.01070277 & 0.01174977 & 0.01090926 & 0.00174125\\\\\n",
       "  0.01734231 & -0.02005501\\\\\n",
       "\\end{bmatrix}\\end{gather}"
      ],
      "text/plain": [
       "<IPython.core.display.Latex object>"
      ]
     },
     "metadata": {},
     "output_type": "display_data"
    },
    {
     "data": {
      "text/latex": [
       "Camada: 0"
      ],
      "text/plain": [
       "<IPython.core.display.Latex object>"
      ]
     },
     "metadata": {},
     "output_type": "display_data"
    },
    {
     "data": {
      "text/latex": [
       "Y = Xw + b"
      ],
      "text/plain": [
       "<IPython.core.display.Latex object>"
      ]
     },
     "metadata": {},
     "output_type": "display_data"
    },
    {
     "data": {
      "text/latex": [
       "\\begin{gather}\n",
       "\\begin{bmatrix}\n",
       "  -3.14912056 & 0.38987176 & -1.51030643 & 1.09570206 & -0.61169022 & -0.95991978\\\\\n",
       "  -1.73508704 & -1.33950003 & -1.30579905 & -1.03244695 & -0.82308083 & 0.37436951\\\\\n",
       "  0.07235224 & 0.7585213\\\\\n",
       "\\end{bmatrix} = \n",
       "\\begin{bmatrix}\n",
       "  1 & 1 & 1 & 0 & 0 & 0 & 0\\\\\n",
       "\\end{bmatrix} \\cdot \n",
       "\\begin{bmatrix}\n",
       "  -4.53140782e-01 & -5.09305688e-02 & 2.12002567e-01 & 8.94267378e-01\\\\\n",
       "  5.81147171e-01 & 4.52780294e-01 & 6.45138192e-01 & 3.58981874e-02\\\\\n",
       "  7.23621310e-01 & 4.01421339e-02 & 5.85117976e-02 & 8.19638197e-01\\\\\n",
       "  9.26128636e-01 & 1.16429083e-01\\\\\n",
       "  -9.02628924e-01 & -4.29225369e-02 & -2.30802922e-01 & 4.33673323e-01\\\\\n",
       "  -6.48320231e-01 & -5.42954643e-01 & -8.11226004e-01 & -4.12833865e-01\\\\\n",
       "  -6.12500423e-01 & -7.02176729e-02 & -5.34633300e-01 & 4.31278895e-02\\\\\n",
       "  -2.58382226e-03 & 3.99231009e-01\\\\\n",
       "  -9.94589076e-01 & 1.70357471e-01 & -8.00775830e-01 & -2.65444774e-01\\\\\n",
       "  -6.00084454e-01 & -2.18901963e-01 & -6.53551401e-01 & -7.08317517e-01\\\\\n",
       "  -7.66084623e-01 & -3.80269713e-01 & 1.91950594e-01 & -1.27537657e-01\\\\\n",
       "  -2.43954220e-01 & 5.04374877e-01\\\\\n",
       "  1.43940148e-02 & 4.84339633e-01 & -4.27270458e-01 & 7.47577621e-01\\\\\n",
       "  4.45823058e-01 & -1.29699144e-01 & 5.70182896e-01 & 8.78343277e-01\\\\\n",
       "  -8.89471220e-02 & 5.06261038e-01 & 4.45757166e-01 & -5.54315100e-02\\\\\n",
       "  8.05931523e-01 & 3.68057326e-01\\\\\n",
       "  -4.54931124e-01 & 6.53772251e-01 & -1.29970761e-01 & 4.97956966e-01\\\\\n",
       "  9.23196811e-01 & 1.41953299e-01 & 8.76553913e-04 & 8.11883004e-01\\\\\n",
       "  6.72360605e-01 & 2.50385223e-01 & 5.67599912e-01 & 6.33079445e-01\\\\\n",
       "  7.15340012e-01 & 4.47081335e-01\\\\\n",
       "  -7.13138505e-02 & 7.76896633e-01 & -1.82310462e-01 & -2.76742845e-02\\\\\n",
       "  7.79634994e-01 & -1.99358278e-01 & 3.99765420e-01 & 5.30964556e-01\\\\\n",
       "  2.16073927e-01 & 7.14127674e-02 & -7.01955503e-02 & 6.58375633e-01\\\\\n",
       "  7.86987195e-01 & 1.10935873e-01\\\\\n",
       "  2.20777274e-01 & 8.87996881e-01 & 9.02572998e-01 & 5.51587939e-01\\\\\n",
       "  8.92917381e-02 & 7.06499678e-01 & 9.22615710e-01 & 5.45999910e-01\\\\\n",
       "  5.16693557e-01 & 1.53613572e-01 & 4.20175466e-01 & 3.32130230e-01\\\\\n",
       "  7.22460910e-01 & 4.51163702e-01\\\\\n",
       "\\end{bmatrix} + \n",
       "\\begin{bmatrix}\n",
       "  -0.79876178 & 0.31336739 & -0.69073024 & 0.03320613 & 0.0555673 & -0.65084347\\\\\n",
       "  -0.91544783 & -0.25424683 & -0.65083531 & -0.6221017 & -0.53890992 & -0.36085892\\\\\n",
       "  -0.60723835 & -0.26151367\\\\\n",
       "\\end{bmatrix}\\end{gather}"
      ],
      "text/plain": [
       "<IPython.core.display.Latex object>"
      ]
     },
     "metadata": {},
     "output_type": "display_data"
    },
    {
     "data": {
      "text/latex": [
       "Camada: 1"
      ],
      "text/plain": [
       "<IPython.core.display.Latex object>"
      ]
     },
     "metadata": {},
     "output_type": "display_data"
    },
    {
     "data": {
      "text/latex": [
       "Y = \\sigma(X)"
      ],
      "text/plain": [
       "<IPython.core.display.Latex object>"
      ]
     },
     "metadata": {},
     "output_type": "display_data"
    },
    {
     "data": {
      "text/latex": [
       "\\begin{gather}\n",
       "\\begin{bmatrix}\n",
       "  0.04112594 & 0.59625183 & 0.18089339 & 0.74945393 & 0.35167373 & 0.27689426\\\\\n",
       "  0.14993805 & 0.20759229 & 0.21319066 & 0.26260999 & 0.30511008 & 0.59251438\\\\\n",
       "  0.51808017 & 0.68103261\\\\\n",
       "\\end{bmatrix} = \\sigma(\n",
       "\\begin{bmatrix}\n",
       "  -3.14912056 & 0.38987176 & -1.51030643 & 1.09570206 & -0.61169022 & -0.95991978\\\\\n",
       "  -1.73508704 & -1.33950003 & -1.30579905 & -1.03244695 & -0.82308083 & 0.37436951\\\\\n",
       "  0.07235224 & 0.7585213\\\\\n",
       "\\end{bmatrix}) \\end{gather}"
      ],
      "text/plain": [
       "<IPython.core.display.Latex object>"
      ]
     },
     "metadata": {},
     "output_type": "display_data"
    },
    {
     "data": {
      "text/latex": [
       "Camada: 2"
      ],
      "text/plain": [
       "<IPython.core.display.Latex object>"
      ]
     },
     "metadata": {},
     "output_type": "display_data"
    },
    {
     "data": {
      "text/latex": [
       "Y = Xw + b"
      ],
      "text/plain": [
       "<IPython.core.display.Latex object>"
      ]
     },
     "metadata": {},
     "output_type": "display_data"
    },
    {
     "data": {
      "text/latex": [
       "\\begin{gather}\n",
       "\\begin{bmatrix}\n",
       "  0.04635909 & 0.3379953 & -0.01946304 & 0.21949753 & -0.02151516 & -0.18360021\\\\\n",
       "  1.30640131 & 0.1655632 & 0.08561341 & 0.44697869\\\\\n",
       "\\end{bmatrix} = \n",
       "\\begin{bmatrix}\n",
       "  0.04112594 & 0.59625183 & 0.18089339 & 0.74945393 & 0.35167373 & 0.27689426\\\\\n",
       "  0.14993805 & 0.20759229 & 0.21319066 & 0.26260999 & 0.30511008 & 0.59251438\\\\\n",
       "  0.51808017 & 0.68103261\\\\\n",
       "\\end{bmatrix} \\cdot \n",
       "\\begin{bmatrix}\n",
       "  1.36133831e-01 & -6.04006241e-01 & -4.65441427e-01 & -2.10535549e-01\\\\\n",
       "  -7.03066250e-01 & -4.82357272e-01 & -6.06043745e-01 & 9.79113454e-02\\\\\n",
       "  -1.62839017e-01 & 1.37065391e-01\\\\\n",
       "  7.31026721e-02 & 4.99052498e-01 & -2.16587125e-01 & -3.12479856e-02\\\\\n",
       "  4.66951406e-01 & -1.77418846e-01 & -2.07450864e-01 & -5.31763039e-02\\\\\n",
       "  2.86620586e-02 & -3.28359504e-01\\\\\n",
       "  5.88437664e-01 & -1.40598736e-02 & 9.75998935e-04 & 3.46693849e-01\\\\\n",
       "  -3.24384218e-01 & -1.39298385e-01 & 1.39017061e-01 & -1.86158046e-01\\\\\n",
       "  -5.10135606e-01 & 2.07065765e-01\\\\\n",
       "  -4.87663029e-02 & 1.65822295e-02 & -3.60075141e-01 & 1.81711287e-01\\\\\n",
       "  -4.62356103e-01 & 1.55432610e-01 & 1.28420995e-01 & 2.66605825e-01\\\\\n",
       "  4.85013948e-01 & -7.03954389e-02\\\\\n",
       "  -2.42903138e-01 & -4.91953605e-01 & -1.18805955e-01 & -3.59795761e-01\\\\\n",
       "  1.85522039e-01 & -1.17621544e-01 & -1.76741208e-01 & 1.47541866e-01\\\\\n",
       "  2.78134392e-01 & -1.26770018e-01\\\\\n",
       "  6.49595297e-01 & 2.54093659e-01 & -3.07656820e-01 & -3.61020461e-02\\\\\n",
       "  -8.73432936e-02 & -1.47769538e-01 & 4.15098185e-01 & 2.40830062e-03\\\\\n",
       "  -3.59922538e-01 & 5.58072551e-02\\\\\n",
       "  1.20951535e-01 & -4.76020050e-01 & 2.68914567e-01 & -3.83754938e-01\\\\\n",
       "  5.97910112e-02 & 6.59555233e-02 & -1.15682601e-01 & -7.23008592e-01\\\\\n",
       "  2.35037840e-02 & 4.44484621e-06\\\\\n",
       "  -1.65498868e-02 & -2.79141124e-01 & 5.46999968e-01 & -3.48478999e-01\\\\\n",
       "  -5.23891738e-01 & 1.13796544e-01 & -1.32412234e-01 & 3.33620859e-01\\\\\n",
       "  -2.36224476e-02 & -1.59141379e-01\\\\\n",
       "  -2.90023215e-01 & 1.54158101e-01 & -2.52661793e-01 & 1.69711752e-01\\\\\n",
       "  -1.21112831e-01 & -2.20084282e-01 & 1.76734478e-01 & 1.50333189e-01\\\\\n",
       "  -4.31744948e-01 & -5.26883237e-01\\\\\n",
       "  4.63469268e-01 & -4.91716463e-01 & -5.25456882e-02 & 1.42947817e-01\\\\\n",
       "  9.79682653e-02 & 2.86108825e-01 & 8.41439230e-02 & -4.19613715e-01\\\\\n",
       "  2.95132860e-01 & 1.83036453e-02\\\\\n",
       "  -9.94098339e-02 & 3.04773284e-01 & -3.05963640e-01 & 5.21231711e-01\\\\\n",
       "  2.49863838e-01 & -9.66840824e-02 & -1.60068239e-01 & -6.02067956e-02\\\\\n",
       "  -3.40205884e-01 & -4.03826774e-01\\\\\n",
       "  -2.41397177e-01 & -1.11459170e-01 & -3.61962843e-01 & -8.92308160e-02\\\\\n",
       "  3.32352196e-01 & 2.43736484e-01 & 4.43604214e-01 & 3.54843067e-01\\\\\n",
       "  1.24901895e-01 & 3.55686450e-01\\\\\n",
       "  -6.30281301e-02 & 1.34188391e-01 & -5.86696327e-02 & 1.54562905e-01\\\\\n",
       "  1.31821150e-01 & 4.95486720e-01 & -2.63121471e-01 & -4.26060387e-01\\\\\n",
       "  -1.64764917e-02 & 3.03121358e-02\\\\\n",
       "  -1.04865319e-01 & 2.70883940e-01 & 4.07169762e-01 & 9.37421199e-02\\\\\n",
       "  -1.53536850e-01 & -3.04367342e-01 & 7.06102555e-01 & 3.10550879e-01\\\\\n",
       "  -2.44377398e-01 & 4.69022396e-01\\\\\n",
       "\\end{bmatrix} + \n",
       "\\begin{bmatrix}\n",
       "  0.03568146 & 0.10267674 & 0.50018279 & -0.00950341 & -0.04389247 & -0.29305047\\\\\n",
       "  0.70733595 & -0.09079175 & 0.02653106 & 0.39945133\\\\\n",
       "\\end{bmatrix}\\end{gather}"
      ],
      "text/plain": [
       "<IPython.core.display.Latex object>"
      ]
     },
     "metadata": {},
     "output_type": "display_data"
    },
    {
     "data": {
      "text/latex": [
       "f_{custo}(\n",
       "\\begin{bmatrix}\n",
       "  0 & 0 & 0 & 0 & 0 & 0 & 0 & 1 & 0 & 0\\\\\n",
       "\\end{bmatrix},\n",
       "\\begin{bmatrix}\n",
       "  0.04635909 & 0.3379953 & -0.01946304 & 0.21949753 & -0.02151516 & -0.18360021\\\\\n",
       "  1.30640131 & 0.1655632 & 0.08561341 & 0.44697869\\\\\n",
       "\\end{bmatrix}) = \n",
       "\\begin{bmatrix}\n",
       "  0.28092086484756496\\\\\n",
       "\\end{bmatrix}"
      ],
      "text/plain": [
       "<IPython.core.display.Latex object>"
      ]
     },
     "metadata": {},
     "output_type": "display_data"
    },
    {
     "data": {
      "text/latex": [
       "\\nabla f_{custo} = \\frac{\\partial E}{\\partial Y} = \n",
       "\\begin{bmatrix}\n",
       "  0.00927182 & 0.06759906 & -0.00389261 & 0.04389951 & -0.00430303 & -0.03672004\\\\\n",
       "  0.26128026 & -0.16688736 & 0.01712268 & 0.08939574\\\\\n",
       "\\end{bmatrix}"
      ],
      "text/plain": [
       "<IPython.core.display.Latex object>"
      ]
     },
     "metadata": {},
     "output_type": "display_data"
    },
    {
     "data": {
      "text/latex": [
       "Camada: 2"
      ],
      "text/plain": [
       "<IPython.core.display.Latex object>"
      ]
     },
     "metadata": {},
     "output_type": "display_data"
    },
    {
     "data": {
      "text/latex": [
       "W = W - \\lambda (X \\cdot \\nabla f_{custo})"
      ],
      "text/plain": [
       "<IPython.core.display.Latex object>"
      ]
     },
     "metadata": {},
     "output_type": "display_data"
    },
    {
     "data": {
      "text/latex": [
       "\\begin{gather}\n",
       "\\begin{bmatrix}\n",
       "  0.13586691 & -0.60595229 & -0.46532937 & -0.21179934 & -0.70294237 & -0.48130017\\\\\n",
       "  -0.61356552 & 0.10271573 & -0.16333195 & 0.13449185\\\\\n",
       "  0.06923284 & 0.47083825 & -0.21496244 & -0.0495706 & 0.46874739 & -0.16209277\\\\\n",
       "  -0.31650305 & 0.01647852 & 0.02151546 & -0.36567116\\\\\n",
       "  0.58726362 & -0.02261963 & 0.0014689 & 0.34113506 & -0.32383935 & -0.1346487\\\\\n",
       "  0.10593235 & -0.16502587 & -0.51230377 & 0.195746\\\\\n",
       "  -0.05363046 & -0.01888144 & -0.35803301 & 0.15868083 & -0.46009866 & 0.1746966\\\\\n",
       "  -0.00865127 & 0.3541579 & 0.47603108 & -0.11729403\\\\\n",
       "  -0.2451856 & -0.50859457 & -0.11784771 & -0.37060257 & 0.18658132 & -0.10858211\\\\\n",
       "  -0.24106099 & 0.1886248 & 0.27391927 & -0.14877671\\\\\n",
       "  0.64779818 & 0.2409912 & -0.30690233 & -0.04461091 & -0.08650925 & -0.14065224\\\\\n",
       "  0.36445528 & 0.03475541 & -0.36324136 & 0.03848004\\\\\n",
       "  0.1199784 & -0.48311502 & 0.26932312 & -0.38836248 & 0.06024264 & 0.06980954\\\\\n",
       "  -0.1431057 & -0.70549266 & 0.02170664 & -0.00937823\\\\\n",
       "  -0.01789722 & -0.28896425 & 0.54756562 & -0.35485824 & -0.52326644 & 0.1191325\\\\\n",
       "  -0.17038007 & 0.35787203 & -0.02611062 & -0.17213189\\\\\n",
       "  -0.29140688 & 0.14407006 & -0.25208089 & 0.16316048 & -0.12047067 & -0.21460442\\\\\n",
       "  0.13774272 & 0.17523837 & -0.43430023 & -0.54022407\\\\\n",
       "  0.46176486 & -0.50414299 & -0.05183012 & 0.1348779 & 0.09875928 & 0.29285896\\\\\n",
       "  0.03611356 & -0.38893531 & 0.29198525 & 0.0018703\\\\\n",
       "  -0.10139008 & 0.29033568 & -0.30513227 & 0.51185578 & 0.25078287 & -0.08884152\\\\\n",
       "  -0.21587171 & -0.02456349 & -0.3438629 & -0.42291965\\\\\n",
       "  -0.24524276 & -0.13949656 & -0.36034834 & -0.10743858 & 0.33413692 & 0.25896649\\\\\n",
       "  0.3352356 & 0.42406128 & 0.11780009 & 0.31860867\\\\\n",
       "  -0.06639061 & 0.10967318 & -0.05725795 & 0.13864248 & 0.13338167 & 0.50880347\\\\\n",
       "  -0.35787636 & -0.36553766 & -0.02268614 & -0.00210778\\\\\n",
       "  -0.10928541 & 0.23865793 & 0.40902546 & 0.07281422 & -0.1514855 & -0.28686206\\\\\n",
       "  0.58154429 & 0.39010989 & -0.25254017 & 0.42640541\\\\\n",
       "\\end{bmatrix} = \n",
       "\\begin{bmatrix}\n",
       "  1.36133831e-01 & -6.04006241e-01 & -4.65441427e-01 & -2.10535549e-01\\\\\n",
       "  -7.03066250e-01 & -4.82357272e-01 & -6.06043745e-01 & 9.79113454e-02\\\\\n",
       "  -1.62839017e-01 & 1.37065391e-01\\\\\n",
       "  7.31026721e-02 & 4.99052498e-01 & -2.16587125e-01 & -3.12479856e-02\\\\\n",
       "  4.66951406e-01 & -1.77418846e-01 & -2.07450864e-01 & -5.31763039e-02\\\\\n",
       "  2.86620586e-02 & -3.28359504e-01\\\\\n",
       "  5.88437664e-01 & -1.40598736e-02 & 9.75998935e-04 & 3.46693849e-01\\\\\n",
       "  -3.24384218e-01 & -1.39298385e-01 & 1.39017061e-01 & -1.86158046e-01\\\\\n",
       "  -5.10135606e-01 & 2.07065765e-01\\\\\n",
       "  -4.87663029e-02 & 1.65822295e-02 & -3.60075141e-01 & 1.81711287e-01\\\\\n",
       "  -4.62356103e-01 & 1.55432610e-01 & 1.28420995e-01 & 2.66605825e-01\\\\\n",
       "  4.85013948e-01 & -7.03954389e-02\\\\\n",
       "  -2.42903138e-01 & -4.91953605e-01 & -1.18805955e-01 & -3.59795761e-01\\\\\n",
       "  1.85522039e-01 & -1.17621544e-01 & -1.76741208e-01 & 1.47541866e-01\\\\\n",
       "  2.78134392e-01 & -1.26770018e-01\\\\\n",
       "  6.49595297e-01 & 2.54093659e-01 & -3.07656820e-01 & -3.61020461e-02\\\\\n",
       "  -8.73432936e-02 & -1.47769538e-01 & 4.15098185e-01 & 2.40830062e-03\\\\\n",
       "  -3.59922538e-01 & 5.58072551e-02\\\\\n",
       "  1.20951535e-01 & -4.76020050e-01 & 2.68914567e-01 & -3.83754938e-01\\\\\n",
       "  5.97910112e-02 & 6.59555233e-02 & -1.15682601e-01 & -7.23008592e-01\\\\\n",
       "  2.35037840e-02 & 4.44484621e-06\\\\\n",
       "  -1.65498868e-02 & -2.79141124e-01 & 5.46999968e-01 & -3.48478999e-01\\\\\n",
       "  -5.23891738e-01 & 1.13796544e-01 & -1.32412234e-01 & 3.33620859e-01\\\\\n",
       "  -2.36224476e-02 & -1.59141379e-01\\\\\n",
       "  -2.90023215e-01 & 1.54158101e-01 & -2.52661793e-01 & 1.69711752e-01\\\\\n",
       "  -1.21112831e-01 & -2.20084282e-01 & 1.76734478e-01 & 1.50333189e-01\\\\\n",
       "  -4.31744948e-01 & -5.26883237e-01\\\\\n",
       "  4.63469268e-01 & -4.91716463e-01 & -5.25456882e-02 & 1.42947817e-01\\\\\n",
       "  9.79682653e-02 & 2.86108825e-01 & 8.41439230e-02 & -4.19613715e-01\\\\\n",
       "  2.95132860e-01 & 1.83036453e-02\\\\\n",
       "  -9.94098339e-02 & 3.04773284e-01 & -3.05963640e-01 & 5.21231711e-01\\\\\n",
       "  2.49863838e-01 & -9.66840824e-02 & -1.60068239e-01 & -6.02067956e-02\\\\\n",
       "  -3.40205884e-01 & -4.03826774e-01\\\\\n",
       "  -2.41397177e-01 & -1.11459170e-01 & -3.61962843e-01 & -8.92308160e-02\\\\\n",
       "  3.32352196e-01 & 2.43736484e-01 & 4.43604214e-01 & 3.54843067e-01\\\\\n",
       "  1.24901895e-01 & 3.55686450e-01\\\\\n",
       "  -6.30281301e-02 & 1.34188391e-01 & -5.86696327e-02 & 1.54562905e-01\\\\\n",
       "  1.31821150e-01 & 4.95486720e-01 & -2.63121471e-01 & -4.26060387e-01\\\\\n",
       "  -1.64764917e-02 & 3.03121358e-02\\\\\n",
       "  -1.04865319e-01 & 2.70883940e-01 & 4.07169762e-01 & 9.37421199e-02\\\\\n",
       "  -1.53536850e-01 & -3.04367342e-01 & 7.06102555e-01 & 3.10550879e-01\\\\\n",
       "  -2.44377398e-01 & 4.69022396e-01\\\\\n",
       "\\end{bmatrix} - 0.7\n",
       "\\begin{bmatrix}\n",
       "  0.04112594\\\\\n",
       "  0.59625183\\\\\n",
       "  0.18089339\\\\\n",
       "  0.74945393\\\\\n",
       "  0.35167373\\\\\n",
       "  0.27689426\\\\\n",
       "  0.14993805\\\\\n",
       "  0.20759229\\\\\n",
       "  0.21319066\\\\\n",
       "  0.26260999\\\\\n",
       "  0.30511008\\\\\n",
       "  0.59251438\\\\\n",
       "  0.51808017\\\\\n",
       "  0.68103261\\\\\n",
       "\\end{bmatrix} \\cdot \n",
       "\\begin{bmatrix}\n",
       "  0.00927182 & 0.06759906 & -0.00389261 & 0.04389951 & -0.00430303 & -0.03672004\\\\\n",
       "  0.26128026 & -0.16688736 & 0.01712268 & 0.08939574\\\\\n",
       "\\end{bmatrix}\\end{gather}"
      ],
      "text/plain": [
       "<IPython.core.display.Latex object>"
      ]
     },
     "metadata": {},
     "output_type": "display_data"
    },
    {
     "data": {
      "text/latex": [
       "\\nabla f_{custo} = \\frac{\\partial E}{\\partial Y} = \n",
       "\\begin{bmatrix}\n",
       "  -0.19148379 & -0.03580142 & 0.10339797 & -0.00259808 & -0.12469154 & 0.13549523\\\\\n",
       "  0.03920859 & -0.14327958 & -0.00863689 & 0.06531313 & -0.02747199 & 0.06796064\\\\\n",
       "  0.00152201 & 0.20211439\\\\\n",
       "\\end{bmatrix}"
      ],
      "text/plain": [
       "<IPython.core.display.Latex object>"
      ]
     },
     "metadata": {},
     "output_type": "display_data"
    },
    {
     "data": {
      "text/latex": [
       "Camada: 1"
      ],
      "text/plain": [
       "<IPython.core.display.Latex object>"
      ]
     },
     "metadata": {},
     "output_type": "display_data"
    },
    {
     "data": {
      "text/latex": [
       "\\nabla = \\frac{\\partial E}{\\partial Y} \\frac{\\partial Y}{\\partial X}"
      ],
      "text/plain": [
       "<IPython.core.display.Latex object>"
      ]
     },
     "metadata": {},
     "output_type": "display_data"
    },
    {
     "data": {
      "text/latex": [
       "\\begin{gather}\n",
       "\\begin{bmatrix}\n",
       "  0.04112594 & 0.59625183 & 0.18089339 & 0.74945393 & 0.35167373 & 0.27689426\\\\\n",
       "  0.14993805 & 0.20759229 & 0.21319066 & 0.26260999 & 0.30511008 & 0.59251438\\\\\n",
       "  0.51808017 & 0.68103261\\\\\n",
       "\\end{bmatrix} = \\sigma(\n",
       "\\begin{bmatrix}\n",
       "  -3.14912056 & 0.38987176 & -1.51030643 & 1.09570206 & -0.61169022 & -0.95991978\\\\\n",
       "  -1.73508704 & -1.33950003 & -1.30579905 & -1.03244695 & -0.82308083 & 0.37436951\\\\\n",
       "  0.07235224 & 0.7585213\\\\\n",
       "\\end{bmatrix}) \\end{gather}"
      ],
      "text/plain": [
       "<IPython.core.display.Latex object>"
      ]
     },
     "metadata": {},
     "output_type": "display_data"
    },
    {
     "data": {
      "text/latex": [
       "\\nabla f_{custo} = \\frac{\\partial E}{\\partial Y} = \n",
       "\\begin{bmatrix}\n",
       "  -0.00755109 & -0.00861868 & 0.01532058 & -0.00048785 & -0.02842959 & 0.02712937\\\\\n",
       "  0.00499739 & -0.02356917 & -0.00144876 & 0.01264762 & -0.00582455 & 0.01640849\\\\\n",
       "  0.00038001 & 0.04390474\\\\\n",
       "\\end{bmatrix}"
      ],
      "text/plain": [
       "<IPython.core.display.Latex object>"
      ]
     },
     "metadata": {},
     "output_type": "display_data"
    },
    {
     "data": {
      "text/latex": [
       "Camada: 0"
      ],
      "text/plain": [
       "<IPython.core.display.Latex object>"
      ]
     },
     "metadata": {},
     "output_type": "display_data"
    },
    {
     "data": {
      "text/latex": [
       "W = W - \\lambda (X \\cdot \\nabla f_{custo})"
      ],
      "text/plain": [
       "<IPython.core.display.Latex object>"
      ]
     },
     "metadata": {},
     "output_type": "display_data"
    },
    {
     "data": {
      "text/latex": [
       "\\begin{gather}\n",
       "\\begin{bmatrix}\n",
       "  -4.47855021e-01 & -4.48974957e-02 & 2.01278163e-01 & 8.94608872e-01\\\\\n",
       "  6.01047881e-01 & 4.33789733e-01 & 6.41640016e-01 & 5.23966032e-02\\\\\n",
       "  7.24635439e-01 & 3.12887967e-02 & 6.25889850e-02 & 8.08152253e-01\\\\\n",
       "  9.25862632e-01 & 8.56957632e-02\\\\\n",
       "  -8.97343163e-01 & -3.68894638e-02 & -2.41527325e-01 & 4.34014817e-01\\\\\n",
       "  -6.28419520e-01 & -5.61945205e-01 & -8.14724180e-01 & -3.96335450e-01\\\\\n",
       "  -6.11486294e-01 & -7.90710101e-02 & -5.30556113e-01 & 3.16419459e-02\\\\\n",
       "  -2.84982631e-03 & 3.68497689e-01\\\\\n",
       "  -9.89303315e-01 & 1.76390544e-01 & -8.11500233e-01 & -2.65103279e-01\\\\\n",
       "  -5.80183744e-01 & -2.37892525e-01 & -6.57049577e-01 & -6.91819101e-01\\\\\n",
       "  -7.65070494e-01 & -3.89123050e-01 & 1.96027782e-01 & -1.39023601e-01\\\\\n",
       "  -2.44220224e-01 & 4.73641557e-01\\\\\n",
       "  1.43940148e-02 & 4.84339633e-01 & -4.27270458e-01 & 7.47577621e-01\\\\\n",
       "  4.45823058e-01 & -1.29699144e-01 & 5.70182896e-01 & 8.78343277e-01\\\\\n",
       "  -8.89471220e-02 & 5.06261038e-01 & 4.45757166e-01 & -5.54315100e-02\\\\\n",
       "  8.05931523e-01 & 3.68057326e-01\\\\\n",
       "  -4.54931124e-01 & 6.53772251e-01 & -1.29970761e-01 & 4.97956966e-01\\\\\n",
       "  9.23196811e-01 & 1.41953299e-01 & 8.76553913e-04 & 8.11883004e-01\\\\\n",
       "  6.72360605e-01 & 2.50385223e-01 & 5.67599912e-01 & 6.33079445e-01\\\\\n",
       "  7.15340012e-01 & 4.47081335e-01\\\\\n",
       "  -7.13138505e-02 & 7.76896633e-01 & -1.82310462e-01 & -2.76742845e-02\\\\\n",
       "  7.79634994e-01 & -1.99358278e-01 & 3.99765420e-01 & 5.30964556e-01\\\\\n",
       "  2.16073927e-01 & 7.14127674e-02 & -7.01955503e-02 & 6.58375633e-01\\\\\n",
       "  7.86987195e-01 & 1.10935873e-01\\\\\n",
       "  2.20777274e-01 & 8.87996881e-01 & 9.02572998e-01 & 5.51587939e-01\\\\\n",
       "  8.92917381e-02 & 7.06499678e-01 & 9.22615710e-01 & 5.45999910e-01\\\\\n",
       "  5.16693557e-01 & 1.53613572e-01 & 4.20175466e-01 & 3.32130230e-01\\\\\n",
       "  7.22460910e-01 & 4.51163702e-01\\\\\n",
       "\\end{bmatrix} = \n",
       "\\begin{bmatrix}\n",
       "  -4.53140782e-01 & -5.09305688e-02 & 2.12002567e-01 & 8.94267378e-01\\\\\n",
       "  5.81147171e-01 & 4.52780294e-01 & 6.45138192e-01 & 3.58981874e-02\\\\\n",
       "  7.23621310e-01 & 4.01421339e-02 & 5.85117976e-02 & 8.19638197e-01\\\\\n",
       "  9.26128636e-01 & 1.16429083e-01\\\\\n",
       "  -9.02628924e-01 & -4.29225369e-02 & -2.30802922e-01 & 4.33673323e-01\\\\\n",
       "  -6.48320231e-01 & -5.42954643e-01 & -8.11226004e-01 & -4.12833865e-01\\\\\n",
       "  -6.12500423e-01 & -7.02176729e-02 & -5.34633300e-01 & 4.31278895e-02\\\\\n",
       "  -2.58382226e-03 & 3.99231009e-01\\\\\n",
       "  -9.94589076e-01 & 1.70357471e-01 & -8.00775830e-01 & -2.65444774e-01\\\\\n",
       "  -6.00084454e-01 & -2.18901963e-01 & -6.53551401e-01 & -7.08317517e-01\\\\\n",
       "  -7.66084623e-01 & -3.80269713e-01 & 1.91950594e-01 & -1.27537657e-01\\\\\n",
       "  -2.43954220e-01 & 5.04374877e-01\\\\\n",
       "  1.43940148e-02 & 4.84339633e-01 & -4.27270458e-01 & 7.47577621e-01\\\\\n",
       "  4.45823058e-01 & -1.29699144e-01 & 5.70182896e-01 & 8.78343277e-01\\\\\n",
       "  -8.89471220e-02 & 5.06261038e-01 & 4.45757166e-01 & -5.54315100e-02\\\\\n",
       "  8.05931523e-01 & 3.68057326e-01\\\\\n",
       "  -4.54931124e-01 & 6.53772251e-01 & -1.29970761e-01 & 4.97956966e-01\\\\\n",
       "  9.23196811e-01 & 1.41953299e-01 & 8.76553913e-04 & 8.11883004e-01\\\\\n",
       "  6.72360605e-01 & 2.50385223e-01 & 5.67599912e-01 & 6.33079445e-01\\\\\n",
       "  7.15340012e-01 & 4.47081335e-01\\\\\n",
       "  -7.13138505e-02 & 7.76896633e-01 & -1.82310462e-01 & -2.76742845e-02\\\\\n",
       "  7.79634994e-01 & -1.99358278e-01 & 3.99765420e-01 & 5.30964556e-01\\\\\n",
       "  2.16073927e-01 & 7.14127674e-02 & -7.01955503e-02 & 6.58375633e-01\\\\\n",
       "  7.86987195e-01 & 1.10935873e-01\\\\\n",
       "  2.20777274e-01 & 8.87996881e-01 & 9.02572998e-01 & 5.51587939e-01\\\\\n",
       "  8.92917381e-02 & 7.06499678e-01 & 9.22615710e-01 & 5.45999910e-01\\\\\n",
       "  5.16693557e-01 & 1.53613572e-01 & 4.20175466e-01 & 3.32130230e-01\\\\\n",
       "  7.22460910e-01 & 4.51163702e-01\\\\\n",
       "\\end{bmatrix} - 0.7\n",
       "\\begin{bmatrix}\n",
       "  1\\\\\n",
       "  1\\\\\n",
       "  1\\\\\n",
       "  0\\\\\n",
       "  0\\\\\n",
       "  0\\\\\n",
       "  0\\\\\n",
       "\\end{bmatrix} \\cdot \n",
       "\\begin{bmatrix}\n",
       "  -0.00755109 & -0.00861868 & 0.01532058 & -0.00048785 & -0.02842959 & 0.02712937\\\\\n",
       "  0.00499739 & -0.02356917 & -0.00144876 & 0.01264762 & -0.00582455 & 0.01640849\\\\\n",
       "  0.00038001 & 0.04390474\\\\\n",
       "\\end{bmatrix}\\end{gather}"
      ],
      "text/plain": [
       "<IPython.core.display.Latex object>"
      ]
     },
     "metadata": {},
     "output_type": "display_data"
    },
    {
     "data": {
      "text/latex": [
       "Camada: 0"
      ],
      "text/plain": [
       "<IPython.core.display.Latex object>"
      ]
     },
     "metadata": {},
     "output_type": "display_data"
    },
    {
     "data": {
      "text/latex": [
       "Y = Xw + b"
      ],
      "text/plain": [
       "<IPython.core.display.Latex object>"
      ]
     },
     "metadata": {},
     "output_type": "display_data"
    },
    {
     "data": {
      "text/latex": [
       "\\begin{gather}\n",
       "\\begin{bmatrix}\n",
       "  -3.4190512 & 3.21700945 & -1.39018273 & 2.86651628 & 1.70585922 & -0.51648647\\\\\n",
       "  0.14436083 & 1.49368438 & 0.01443844 & -0.0861877 & 0.55656491 & 1.89657953\\\\\n",
       "  3.10200787 & 2.01282626\\\\\n",
       "\\end{bmatrix} = \n",
       "\\begin{bmatrix}\n",
       "  1 & 1 & 1 & 1 & 1 & 1 & 1\\\\\n",
       "\\end{bmatrix} \\cdot \n",
       "\\begin{bmatrix}\n",
       "  -4.47855021e-01 & -4.48974957e-02 & 2.01278163e-01 & 8.94608872e-01\\\\\n",
       "  6.01047881e-01 & 4.33789733e-01 & 6.41640016e-01 & 5.23966032e-02\\\\\n",
       "  7.24635439e-01 & 3.12887967e-02 & 6.25889850e-02 & 8.08152253e-01\\\\\n",
       "  9.25862632e-01 & 8.56957632e-02\\\\\n",
       "  -8.97343163e-01 & -3.68894638e-02 & -2.41527325e-01 & 4.34014817e-01\\\\\n",
       "  -6.28419520e-01 & -5.61945205e-01 & -8.14724180e-01 & -3.96335450e-01\\\\\n",
       "  -6.11486294e-01 & -7.90710101e-02 & -5.30556113e-01 & 3.16419459e-02\\\\\n",
       "  -2.84982631e-03 & 3.68497689e-01\\\\\n",
       "  -9.89303315e-01 & 1.76390544e-01 & -8.11500233e-01 & -2.65103279e-01\\\\\n",
       "  -5.80183744e-01 & -2.37892525e-01 & -6.57049577e-01 & -6.91819101e-01\\\\\n",
       "  -7.65070494e-01 & -3.89123050e-01 & 1.96027782e-01 & -1.39023601e-01\\\\\n",
       "  -2.44220224e-01 & 4.73641557e-01\\\\\n",
       "  1.43940148e-02 & 4.84339633e-01 & -4.27270458e-01 & 7.47577621e-01\\\\\n",
       "  4.45823058e-01 & -1.29699144e-01 & 5.70182896e-01 & 8.78343277e-01\\\\\n",
       "  -8.89471220e-02 & 5.06261038e-01 & 4.45757166e-01 & -5.54315100e-02\\\\\n",
       "  8.05931523e-01 & 3.68057326e-01\\\\\n",
       "  -4.54931124e-01 & 6.53772251e-01 & -1.29970761e-01 & 4.97956966e-01\\\\\n",
       "  9.23196811e-01 & 1.41953299e-01 & 8.76553913e-04 & 8.11883004e-01\\\\\n",
       "  6.72360605e-01 & 2.50385223e-01 & 5.67599912e-01 & 6.33079445e-01\\\\\n",
       "  7.15340012e-01 & 4.47081335e-01\\\\\n",
       "  -7.13138505e-02 & 7.76896633e-01 & -1.82310462e-01 & -2.76742845e-02\\\\\n",
       "  7.79634994e-01 & -1.99358278e-01 & 3.99765420e-01 & 5.30964556e-01\\\\\n",
       "  2.16073927e-01 & 7.14127674e-02 & -7.01955503e-02 & 6.58375633e-01\\\\\n",
       "  7.86987195e-01 & 1.10935873e-01\\\\\n",
       "  2.20777274e-01 & 8.87996881e-01 & 9.02572998e-01 & 5.51587939e-01\\\\\n",
       "  8.92917381e-02 & 7.06499678e-01 & 9.22615710e-01 & 5.45999910e-01\\\\\n",
       "  5.16693557e-01 & 1.53613572e-01 & 4.20175466e-01 & 3.32130230e-01\\\\\n",
       "  7.22460910e-01 & 4.51163702e-01\\\\\n",
       "\\end{bmatrix} + \n",
       "\\begin{bmatrix}\n",
       "  -0.79347602 & 0.31940047 & -0.70145465 & 0.03354762 & 0.07546801 & -0.66983403\\\\\n",
       "  -0.918946 & -0.23774842 & -0.64982118 & -0.63095504 & -0.53483274 & -0.37234486\\\\\n",
       "  -0.60750436 & -0.29224699\\\\\n",
       "\\end{bmatrix}\\end{gather}"
      ],
      "text/plain": [
       "<IPython.core.display.Latex object>"
      ]
     },
     "metadata": {},
     "output_type": "display_data"
    },
    {
     "data": {
      "text/latex": [
       "Camada: 1"
      ],
      "text/plain": [
       "<IPython.core.display.Latex object>"
      ]
     },
     "metadata": {},
     "output_type": "display_data"
    },
    {
     "data": {
      "text/latex": [
       "Y = \\sigma(X)"
      ],
      "text/plain": [
       "<IPython.core.display.Latex object>"
      ]
     },
     "metadata": {},
     "output_type": "display_data"
    },
    {
     "data": {
      "text/latex": [
       "\\begin{gather}\n",
       "\\begin{bmatrix}\n",
       "  0.03170534 & 0.96146938 & 0.19937859 & 0.94616618 & 0.84629844 & 0.37367418\\\\\n",
       "  0.53602766 & 0.81663063 & 0.50360955 & 0.4784664 & 0.63565736 & 0.86950391\\\\\n",
       "  0.95697549 & 0.88213719\\\\\n",
       "\\end{bmatrix} = \\sigma(\n",
       "\\begin{bmatrix}\n",
       "  -3.4190512 & 3.21700945 & -1.39018273 & 2.86651628 & 1.70585922 & -0.51648647\\\\\n",
       "  0.14436083 & 1.49368438 & 0.01443844 & -0.0861877 & 0.55656491 & 1.89657953\\\\\n",
       "  3.10200787 & 2.01282626\\\\\n",
       "\\end{bmatrix}) \\end{gather}"
      ],
      "text/plain": [
       "<IPython.core.display.Latex object>"
      ]
     },
     "metadata": {},
     "output_type": "display_data"
    },
    {
     "data": {
      "text/latex": [
       "Camada: 2"
      ],
      "text/plain": [
       "<IPython.core.display.Latex object>"
      ]
     },
     "metadata": {},
     "output_type": "display_data"
    },
    {
     "data": {
      "text/latex": [
       "Y = Xw + b"
      ],
      "text/plain": [
       "<IPython.core.display.Latex object>"
      ]
     },
     "metadata": {},
     "output_type": "display_data"
    },
    {
     "data": {
      "text/latex": [
       "\\begin{gather}\n",
       "\\begin{bmatrix}\n",
       "  -0.11277391 & -0.15875914 & -0.03289484 & -0.12916692 & 0.04871613 & 0.12485529\\\\\n",
       "  0.34138421 & 0.68361305 & 0.02506231 & -0.2283576\\\\\n",
       "\\end{bmatrix} = \n",
       "\\begin{bmatrix}\n",
       "  0.03170534 & 0.96146938 & 0.19937859 & 0.94616618 & 0.84629844 & 0.37367418\\\\\n",
       "  0.53602766 & 0.81663063 & 0.50360955 & 0.4784664 & 0.63565736 & 0.86950391\\\\\n",
       "  0.95697549 & 0.88213719\\\\\n",
       "\\end{bmatrix} \\cdot \n",
       "\\begin{bmatrix}\n",
       "  0.13586691 & -0.60595229 & -0.46532937 & -0.21179934 & -0.70294237 & -0.48130017\\\\\n",
       "  -0.61356552 & 0.10271573 & -0.16333195 & 0.13449185\\\\\n",
       "  0.06923284 & 0.47083825 & -0.21496244 & -0.0495706 & 0.46874739 & -0.16209277\\\\\n",
       "  -0.31650305 & 0.01647852 & 0.02151546 & -0.36567116\\\\\n",
       "  0.58726362 & -0.02261963 & 0.0014689 & 0.34113506 & -0.32383935 & -0.1346487\\\\\n",
       "  0.10593235 & -0.16502587 & -0.51230377 & 0.195746\\\\\n",
       "  -0.05363046 & -0.01888144 & -0.35803301 & 0.15868083 & -0.46009866 & 0.1746966\\\\\n",
       "  -0.00865127 & 0.3541579 & 0.47603108 & -0.11729403\\\\\n",
       "  -0.2451856 & -0.50859457 & -0.11784771 & -0.37060257 & 0.18658132 & -0.10858211\\\\\n",
       "  -0.24106099 & 0.1886248 & 0.27391927 & -0.14877671\\\\\n",
       "  0.64779818 & 0.2409912 & -0.30690233 & -0.04461091 & -0.08650925 & -0.14065224\\\\\n",
       "  0.36445528 & 0.03475541 & -0.36324136 & 0.03848004\\\\\n",
       "  0.1199784 & -0.48311502 & 0.26932312 & -0.38836248 & 0.06024264 & 0.06980954\\\\\n",
       "  -0.1431057 & -0.70549266 & 0.02170664 & -0.00937823\\\\\n",
       "  -0.01789722 & -0.28896425 & 0.54756562 & -0.35485824 & -0.52326644 & 0.1191325\\\\\n",
       "  -0.17038007 & 0.35787203 & -0.02611062 & -0.17213189\\\\\n",
       "  -0.29140688 & 0.14407006 & -0.25208089 & 0.16316048 & -0.12047067 & -0.21460442\\\\\n",
       "  0.13774272 & 0.17523837 & -0.43430023 & -0.54022407\\\\\n",
       "  0.46176486 & -0.50414299 & -0.05183012 & 0.1348779 & 0.09875928 & 0.29285896\\\\\n",
       "  0.03611356 & -0.38893531 & 0.29198525 & 0.0018703\\\\\n",
       "  -0.10139008 & 0.29033568 & -0.30513227 & 0.51185578 & 0.25078287 & -0.08884152\\\\\n",
       "  -0.21587171 & -0.02456349 & -0.3438629 & -0.42291965\\\\\n",
       "  -0.24524276 & -0.13949656 & -0.36034834 & -0.10743858 & 0.33413692 & 0.25896649\\\\\n",
       "  0.3352356 & 0.42406128 & 0.11780009 & 0.31860867\\\\\n",
       "  -0.06639061 & 0.10967318 & -0.05725795 & 0.13864248 & 0.13338167 & 0.50880347\\\\\n",
       "  -0.35787636 & -0.36553766 & -0.02268614 & -0.00210778\\\\\n",
       "  -0.10928541 & 0.23865793 & 0.40902546 & 0.07281422 & -0.1514855 & -0.28686206\\\\\n",
       "  0.58154429 & 0.39010989 & -0.25254017 & 0.42640541\\\\\n",
       "\\end{bmatrix} + \n",
       "\\begin{bmatrix}\n",
       "  0.02919119 & 0.05535739 & 0.50290762 & -0.04023306 & -0.04088035 & -0.26734645\\\\\n",
       "  0.52443977 & 0.0260294 & 0.01454518 & 0.33687431\\\\\n",
       "\\end{bmatrix}\\end{gather}"
      ],
      "text/plain": [
       "<IPython.core.display.Latex object>"
      ]
     },
     "metadata": {},
     "output_type": "display_data"
    },
    {
     "data": {
      "text/latex": [
       "f_{custo}(\n",
       "\\begin{bmatrix}\n",
       "  0 & 0 & 0 & 0 & 0 & 0 & 0 & 0 & 1 & 0\\\\\n",
       "\\end{bmatrix},\n",
       "\\begin{bmatrix}\n",
       "  -0.11277391 & -0.15875914 & -0.03289484 & -0.12916692 & 0.04871613 & 0.12485529\\\\\n",
       "  0.34138421 & 0.68361305 & 0.02506231 & -0.2283576\\\\\n",
       "\\end{bmatrix}) = \n",
       "\\begin{bmatrix}\n",
       "  0.16601713636728102\\\\\n",
       "\\end{bmatrix}"
      ],
      "text/plain": [
       "<IPython.core.display.Latex object>"
      ]
     },
     "metadata": {},
     "output_type": "display_data"
    },
    {
     "data": {
      "text/latex": [
       "\\nabla f_{custo} = \\frac{\\partial E}{\\partial Y} = \n",
       "\\begin{bmatrix}\n",
       "  -0.02255478 & -0.03175183 & -0.00657897 & -0.02583338 & 0.00974323 & 0.02497106\\\\\n",
       "  0.06827684 & 0.13672261 & -0.19498754 & -0.04567152\\\\\n",
       "\\end{bmatrix}"
      ],
      "text/plain": [
       "<IPython.core.display.Latex object>"
      ]
     },
     "metadata": {},
     "output_type": "display_data"
    },
    {
     "data": {
      "text/latex": [
       "Camada: 2"
      ],
      "text/plain": [
       "<IPython.core.display.Latex object>"
      ]
     },
     "metadata": {},
     "output_type": "display_data"
    },
    {
     "data": {
      "text/latex": [
       "W = W - \\lambda (X \\cdot \\nabla f_{custo})"
      ],
      "text/plain": [
       "<IPython.core.display.Latex object>"
      ]
     },
     "metadata": {},
     "output_type": "display_data"
    },
    {
     "data": {
      "text/latex": [
       "\\begin{gather}\n",
       "\\begin{bmatrix}\n",
       "  0.13636749 & -0.6052476 & -0.46518335 & -0.211226 & -0.70315861 & -0.48185437\\\\\n",
       "  -0.61508084 & 0.09968134 & -0.15900444 & 0.13550547\\\\\n",
       "  0.08441285 & 0.49220814 & -0.21053461 & -0.03218399 & 0.46218992 & -0.17889901\\\\\n",
       "  -0.36245531 & -0.0755397 & 0.15274764 & -0.33493293\\\\\n",
       "  0.59041147 & -0.01818819 & 0.0023871 & 0.34474049 & -0.32519916 & -0.13813378\\\\\n",
       "  0.09640329 & -0.18410757 & -0.48509033 & 0.20212014\\\\\n",
       "  -0.03869206 & 0.00214832 & -0.35367565 & 0.1757907 & -0.46655175 & 0.15815786\\\\\n",
       "  -0.05387214 & 0.26360428 & 0.60517451 & -0.08704504\\\\\n",
       "  -0.23182394 & -0.48978451 & -0.11395027 & -0.35529865 & 0.18080935 & -0.12337519\\\\\n",
       "  -0.2815088 & 0.1076291 & 0.38943163 & -0.1217205\\\\\n",
       "  0.65369788 & 0.24929659 & -0.30518146 & -0.03785362 & -0.08905781 & -0.14718397\\\\\n",
       "  0.34659598 & -0.00100739 & -0.31223809 & 0.05042643\\\\\n",
       "  0.12844139 & -0.47120112 & 0.27179168 & -0.3786693 & 0.0565868 & 0.06043991\\\\\n",
       "  -0.16872449 & -0.75679363 & 0.09486974 & 0.00775861\\\\\n",
       "  -0.00500397 & -0.27081359 & 0.55132643 & -0.34009081 & -0.52883608 & 0.10485801\\\\\n",
       "  -0.20940994 & 0.27971572 & 0.08535233 & -0.14602415\\\\\n",
       "  -0.28345572 & 0.15526343 & -0.24976162 & 0.17226743 & -0.12390542 & -0.22340739\\\\\n",
       "  0.11367331 & 0.12704 & -0.36556192 & -0.52412364\\\\\n",
       "  0.46931905 & -0.49350847 & -0.04962665 & 0.14353019 & 0.09549601 & 0.28449549\\\\\n",
       "  0.01324584 & -0.43472734 & 0.35729174 & 0.0171669\\\\\n",
       "  -0.0913541 & 0.30446397 & -0.30220489 & 0.52335061 & 0.24644752 & -0.09995265\\\\\n",
       "  -0.24625218 & -0.0853996 & -0.25710121 & -0.40259765\\\\\n",
       "  -0.23151473 & -0.12017072 & -0.35634404 & -0.09171502 & 0.32820668 & 0.24376779\\\\\n",
       "  0.29367871 & 0.34084469 & 0.23647979 & 0.34640676\\\\\n",
       "  -0.05128155 & 0.13094318 & -0.05285082 & 0.15594782 & 0.12685485 & 0.49207579\\\\\n",
       "  -0.40361384 & -0.4571258 & 0.10793267 & 0.02848679\\\\\n",
       "  -0.09535792 & 0.25826455 & 0.41308794 & 0.08876623 & -0.1575019 & -0.30228159\\\\\n",
       "  0.53938361 & 0.30568422 & -0.13213614 & 0.45460739\\\\\n",
       "\\end{bmatrix} = \n",
       "\\begin{bmatrix}\n",
       "  0.13586691 & -0.60595229 & -0.46532937 & -0.21179934 & -0.70294237 & -0.48130017\\\\\n",
       "  -0.61356552 & 0.10271573 & -0.16333195 & 0.13449185\\\\\n",
       "  0.06923284 & 0.47083825 & -0.21496244 & -0.0495706 & 0.46874739 & -0.16209277\\\\\n",
       "  -0.31650305 & 0.01647852 & 0.02151546 & -0.36567116\\\\\n",
       "  0.58726362 & -0.02261963 & 0.0014689 & 0.34113506 & -0.32383935 & -0.1346487\\\\\n",
       "  0.10593235 & -0.16502587 & -0.51230377 & 0.195746\\\\\n",
       "  -0.05363046 & -0.01888144 & -0.35803301 & 0.15868083 & -0.46009866 & 0.1746966\\\\\n",
       "  -0.00865127 & 0.3541579 & 0.47603108 & -0.11729403\\\\\n",
       "  -0.2451856 & -0.50859457 & -0.11784771 & -0.37060257 & 0.18658132 & -0.10858211\\\\\n",
       "  -0.24106099 & 0.1886248 & 0.27391927 & -0.14877671\\\\\n",
       "  0.64779818 & 0.2409912 & -0.30690233 & -0.04461091 & -0.08650925 & -0.14065224\\\\\n",
       "  0.36445528 & 0.03475541 & -0.36324136 & 0.03848004\\\\\n",
       "  0.1199784 & -0.48311502 & 0.26932312 & -0.38836248 & 0.06024264 & 0.06980954\\\\\n",
       "  -0.1431057 & -0.70549266 & 0.02170664 & -0.00937823\\\\\n",
       "  -0.01789722 & -0.28896425 & 0.54756562 & -0.35485824 & -0.52326644 & 0.1191325\\\\\n",
       "  -0.17038007 & 0.35787203 & -0.02611062 & -0.17213189\\\\\n",
       "  -0.29140688 & 0.14407006 & -0.25208089 & 0.16316048 & -0.12047067 & -0.21460442\\\\\n",
       "  0.13774272 & 0.17523837 & -0.43430023 & -0.54022407\\\\\n",
       "  0.46176486 & -0.50414299 & -0.05183012 & 0.1348779 & 0.09875928 & 0.29285896\\\\\n",
       "  0.03611356 & -0.38893531 & 0.29198525 & 0.0018703\\\\\n",
       "  -0.10139008 & 0.29033568 & -0.30513227 & 0.51185578 & 0.25078287 & -0.08884152\\\\\n",
       "  -0.21587171 & -0.02456349 & -0.3438629 & -0.42291965\\\\\n",
       "  -0.24524276 & -0.13949656 & -0.36034834 & -0.10743858 & 0.33413692 & 0.25896649\\\\\n",
       "  0.3352356 & 0.42406128 & 0.11780009 & 0.31860867\\\\\n",
       "  -0.06639061 & 0.10967318 & -0.05725795 & 0.13864248 & 0.13338167 & 0.50880347\\\\\n",
       "  -0.35787636 & -0.36553766 & -0.02268614 & -0.00210778\\\\\n",
       "  -0.10928541 & 0.23865793 & 0.40902546 & 0.07281422 & -0.1514855 & -0.28686206\\\\\n",
       "  0.58154429 & 0.39010989 & -0.25254017 & 0.42640541\\\\\n",
       "\\end{bmatrix} - 0.7\n",
       "\\begin{bmatrix}\n",
       "  0.03170534\\\\\n",
       "  0.96146938\\\\\n",
       "  0.19937859\\\\\n",
       "  0.94616618\\\\\n",
       "  0.84629844\\\\\n",
       "  0.37367418\\\\\n",
       "  0.53602766\\\\\n",
       "  0.81663063\\\\\n",
       "  0.50360955\\\\\n",
       "  0.4784664\\\\\n",
       "  0.63565736\\\\\n",
       "  0.86950391\\\\\n",
       "  0.95697549\\\\\n",
       "  0.88213719\\\\\n",
       "\\end{bmatrix} \\cdot \n",
       "\\begin{bmatrix}\n",
       "  -0.02255478 & -0.03175183 & -0.00657897 & -0.02583338 & 0.00974323 & 0.02497106\\\\\n",
       "  0.06827684 & 0.13672261 & -0.19498754 & -0.04567152\\\\\n",
       "\\end{bmatrix}\\end{gather}"
      ],
      "text/plain": [
       "<IPython.core.display.Latex object>"
      ]
     },
     "metadata": {},
     "output_type": "display_data"
    },
    {
     "data": {
      "text/latex": [
       "\\nabla f_{custo} = \\frac{\\partial E}{\\partial Y} = \n",
       "\\begin{bmatrix}\n",
       "  0.00369752 & -0.02014855 & 0.04775551 & -0.03968754 & -0.00615095 & 0.07525938\\\\\n",
       "  -0.08680709 & 0.0632691 & 0.13562858 & -0.09700511 & 0.05034454 & 0.06817583\\\\\n",
       "  -0.06107703 & 0.10448633\\\\\n",
       "\\end{bmatrix}"
      ],
      "text/plain": [
       "<IPython.core.display.Latex object>"
      ]
     },
     "metadata": {},
     "output_type": "display_data"
    },
    {
     "data": {
      "text/latex": [
       "Camada: 1"
      ],
      "text/plain": [
       "<IPython.core.display.Latex object>"
      ]
     },
     "metadata": {},
     "output_type": "display_data"
    },
    {
     "data": {
      "text/latex": [
       "\\nabla = \\frac{\\partial E}{\\partial Y} \\frac{\\partial Y}{\\partial X}"
      ],
      "text/plain": [
       "<IPython.core.display.Latex object>"
      ]
     },
     "metadata": {},
     "output_type": "display_data"
    },
    {
     "data": {
      "text/latex": [
       "\\begin{gather}\n",
       "\\begin{bmatrix}\n",
       "  0.03170534 & 0.96146938 & 0.19937859 & 0.94616618 & 0.84629844 & 0.37367418\\\\\n",
       "  0.53602766 & 0.81663063 & 0.50360955 & 0.4784664 & 0.63565736 & 0.86950391\\\\\n",
       "  0.95697549 & 0.88213719\\\\\n",
       "\\end{bmatrix} = \\sigma(\n",
       "\\begin{bmatrix}\n",
       "  -3.4190512 & 3.21700945 & -1.39018273 & 2.86651628 & 1.70585922 & -0.51648647\\\\\n",
       "  0.14436083 & 1.49368438 & 0.01443844 & -0.0861877 & 0.55656491 & 1.89657953\\\\\n",
       "  3.10200787 & 2.01282626\\\\\n",
       "\\end{bmatrix}) \\end{gather}"
      ],
      "text/plain": [
       "<IPython.core.display.Latex object>"
      ]
     },
     "metadata": {},
     "output_type": "display_data"
    },
    {
     "data": {
      "text/latex": [
       "\\nabla f_{custo} = \\frac{\\partial E}{\\partial Y} = \n",
       "\\begin{bmatrix}\n",
       "  0.00011351 & -0.00074642 & 0.00762306 & -0.00202151 & -0.0008001 & 0.01761384\\\\\n",
       "  -0.0215891 & 0.00947423 & 0.03390538 & -0.0242063 & 0.01165965 & 0.0077357\\\\\n",
       "  -0.00251475 & 0.01086357\\\\\n",
       "\\end{bmatrix}"
      ],
      "text/plain": [
       "<IPython.core.display.Latex object>"
      ]
     },
     "metadata": {},
     "output_type": "display_data"
    },
    {
     "data": {
      "text/latex": [
       "Camada: 0"
      ],
      "text/plain": [
       "<IPython.core.display.Latex object>"
      ]
     },
     "metadata": {},
     "output_type": "display_data"
    },
    {
     "data": {
      "text/latex": [
       "W = W - \\lambda (X \\cdot \\nabla f_{custo})"
      ],
      "text/plain": [
       "<IPython.core.display.Latex object>"
      ]
     },
     "metadata": {},
     "output_type": "display_data"
    },
    {
     "data": {
      "text/latex": [
       "\\begin{gather}\n",
       "\\begin{bmatrix}\n",
       "  -0.44793448 & -0.044375 & 0.19594202 & 0.89602393 & 0.60160795 & 0.42146004\\\\\n",
       "  0.65675238 & 0.04576464 & 0.70090168 & 0.0482332 & 0.05442723 & 0.80273726\\\\\n",
       "  0.92762296 & 0.07809127\\\\\n",
       "  -0.89742262 & -0.03636697 & -0.24686347 & 0.43542988 & -0.62785945 & -0.57427489\\\\\n",
       "  -0.79961181 & -0.40296741 & -0.63522006 & -0.0621266 & -0.53871787 & 0.02622696\\\\\n",
       "  -0.0010895 & 0.36089319\\\\\n",
       "  -0.98938278 & 0.17691304 & -0.81683637 & -0.26368822 & -0.57962367 & -0.25022221\\\\\n",
       "  -0.64193721 & -0.69845106 & -0.78880426 & -0.37217864 & 0.18786603 & -0.14443859\\\\\n",
       "  -0.2424599 & 0.46603706\\\\\n",
       "  0.01431455 & 0.48486213 & -0.4326066 & 0.74899268 & 0.44638313 & -0.14202883\\\\\n",
       "  0.58529526 & 0.87171131 & -0.11268089 & 0.52320545 & 0.43759541 & -0.0608465\\\\\n",
       "  0.80769185 & 0.36045283\\\\\n",
       "  -0.45501058 & 0.65429475 & -0.1353069 & 0.49937203 & 0.92375688 & 0.12962361\\\\\n",
       "  0.01598892 & 0.80525104 & 0.64862684 & 0.26732963 & 0.55943816 & 0.62766446\\\\\n",
       "  0.71710034 & 0.43947684\\\\\n",
       "  -0.07139331 & 0.77741913 & -0.1876466 & -0.02625922 & 0.78019506 & -0.21168797\\\\\n",
       "  0.41487779 & 0.52433259 & 0.19234016 & 0.08835718 & -0.0783573 & 0.65296064\\\\\n",
       "  0.78874752 & 0.10333138\\\\\n",
       "  0.22069781 & 0.88851938 & 0.89723686 & 0.553003 & 0.08985181 & 0.69416999\\\\\n",
       "  0.93772808 & 0.53936795 & 0.49295979 & 0.17055798 & 0.41201371 & 0.32671524\\\\\n",
       "  0.72422123 & 0.44355921\\\\\n",
       "\\end{bmatrix} = \n",
       "\\begin{bmatrix}\n",
       "  -4.47855021e-01 & -4.48974957e-02 & 2.01278163e-01 & 8.94608872e-01\\\\\n",
       "  6.01047881e-01 & 4.33789733e-01 & 6.41640016e-01 & 5.23966032e-02\\\\\n",
       "  7.24635439e-01 & 3.12887967e-02 & 6.25889850e-02 & 8.08152253e-01\\\\\n",
       "  9.25862632e-01 & 8.56957632e-02\\\\\n",
       "  -8.97343163e-01 & -3.68894638e-02 & -2.41527325e-01 & 4.34014817e-01\\\\\n",
       "  -6.28419520e-01 & -5.61945205e-01 & -8.14724180e-01 & -3.96335450e-01\\\\\n",
       "  -6.11486294e-01 & -7.90710101e-02 & -5.30556113e-01 & 3.16419459e-02\\\\\n",
       "  -2.84982631e-03 & 3.68497689e-01\\\\\n",
       "  -9.89303315e-01 & 1.76390544e-01 & -8.11500233e-01 & -2.65103279e-01\\\\\n",
       "  -5.80183744e-01 & -2.37892525e-01 & -6.57049577e-01 & -6.91819101e-01\\\\\n",
       "  -7.65070494e-01 & -3.89123050e-01 & 1.96027782e-01 & -1.39023601e-01\\\\\n",
       "  -2.44220224e-01 & 4.73641557e-01\\\\\n",
       "  1.43940148e-02 & 4.84339633e-01 & -4.27270458e-01 & 7.47577621e-01\\\\\n",
       "  4.45823058e-01 & -1.29699144e-01 & 5.70182896e-01 & 8.78343277e-01\\\\\n",
       "  -8.89471220e-02 & 5.06261038e-01 & 4.45757166e-01 & -5.54315100e-02\\\\\n",
       "  8.05931523e-01 & 3.68057326e-01\\\\\n",
       "  -4.54931124e-01 & 6.53772251e-01 & -1.29970761e-01 & 4.97956966e-01\\\\\n",
       "  9.23196811e-01 & 1.41953299e-01 & 8.76553913e-04 & 8.11883004e-01\\\\\n",
       "  6.72360605e-01 & 2.50385223e-01 & 5.67599912e-01 & 6.33079445e-01\\\\\n",
       "  7.15340012e-01 & 4.47081335e-01\\\\\n",
       "  -7.13138505e-02 & 7.76896633e-01 & -1.82310462e-01 & -2.76742845e-02\\\\\n",
       "  7.79634994e-01 & -1.99358278e-01 & 3.99765420e-01 & 5.30964556e-01\\\\\n",
       "  2.16073927e-01 & 7.14127674e-02 & -7.01955503e-02 & 6.58375633e-01\\\\\n",
       "  7.86987195e-01 & 1.10935873e-01\\\\\n",
       "  2.20777274e-01 & 8.87996881e-01 & 9.02572998e-01 & 5.51587939e-01\\\\\n",
       "  8.92917381e-02 & 7.06499678e-01 & 9.22615710e-01 & 5.45999910e-01\\\\\n",
       "  5.16693557e-01 & 1.53613572e-01 & 4.20175466e-01 & 3.32130230e-01\\\\\n",
       "  7.22460910e-01 & 4.51163702e-01\\\\\n",
       "\\end{bmatrix} - 0.7\n",
       "\\begin{bmatrix}\n",
       "  1\\\\\n",
       "  1\\\\\n",
       "  1\\\\\n",
       "  1\\\\\n",
       "  1\\\\\n",
       "  1\\\\\n",
       "  1\\\\\n",
       "\\end{bmatrix} \\cdot \n",
       "\\begin{bmatrix}\n",
       "  0.00011351 & -0.00074642 & 0.00762306 & -0.00202151 & -0.0008001 & 0.01761384\\\\\n",
       "  -0.0215891 & 0.00947423 & 0.03390538 & -0.0242063 & 0.01165965 & 0.0077357\\\\\n",
       "  -0.00251475 & 0.01086357\\\\\n",
       "\\end{bmatrix}\\end{gather}"
      ],
      "text/plain": [
       "<IPython.core.display.Latex object>"
      ]
     },
     "metadata": {},
     "output_type": "display_data"
    },
    {
     "data": {
      "text/latex": [
       "Camada: 0"
      ],
      "text/plain": [
       "<IPython.core.display.Latex object>"
      ]
     },
     "metadata": {},
     "output_type": "display_data"
    },
    {
     "data": {
      "text/latex": [
       "Y = Xw + b"
      ],
      "text/plain": [
       "<IPython.core.display.Latex object>"
      ]
     },
     "metadata": {},
     "output_type": "display_data"
    },
    {
     "data": {
      "text/latex": [
       "\\begin{gather}\n",
       "\\begin{bmatrix}\n",
       "  -2.44461866 & 2.55941425 & -0.18342887 & 2.39253229 & 1.84358033 & -0.22287293\\\\\n",
       "  0.32190172 & 1.26736842 & 0.72605347 & -0.10165924 & -0.13419056 & 2.05854471\\\\\n",
       "  2.55085851 & 1.1255004\\\\\n",
       "\\end{bmatrix} = \n",
       "\\begin{bmatrix}\n",
       "  1 & 1 & 0 & 0 & 1 & 1 & 1\\\\\n",
       "\\end{bmatrix} \\cdot \n",
       "\\begin{bmatrix}\n",
       "  -0.44793448 & -0.044375 & 0.19594202 & 0.89602393 & 0.60160795 & 0.42146004\\\\\n",
       "  0.65675238 & 0.04576464 & 0.70090168 & 0.0482332 & 0.05442723 & 0.80273726\\\\\n",
       "  0.92762296 & 0.07809127\\\\\n",
       "  -0.89742262 & -0.03636697 & -0.24686347 & 0.43542988 & -0.62785945 & -0.57427489\\\\\n",
       "  -0.79961181 & -0.40296741 & -0.63522006 & -0.0621266 & -0.53871787 & 0.02622696\\\\\n",
       "  -0.0010895 & 0.36089319\\\\\n",
       "  -0.98938278 & 0.17691304 & -0.81683637 & -0.26368822 & -0.57962367 & -0.25022221\\\\\n",
       "  -0.64193721 & -0.69845106 & -0.78880426 & -0.37217864 & 0.18786603 & -0.14443859\\\\\n",
       "  -0.2424599 & 0.46603706\\\\\n",
       "  0.01431455 & 0.48486213 & -0.4326066 & 0.74899268 & 0.44638313 & -0.14202883\\\\\n",
       "  0.58529526 & 0.87171131 & -0.11268089 & 0.52320545 & 0.43759541 & -0.0608465\\\\\n",
       "  0.80769185 & 0.36045283\\\\\n",
       "  -0.45501058 & 0.65429475 & -0.1353069 & 0.49937203 & 0.92375688 & 0.12962361\\\\\n",
       "  0.01598892 & 0.80525104 & 0.64862684 & 0.26732963 & 0.55943816 & 0.62766446\\\\\n",
       "  0.71710034 & 0.43947684\\\\\n",
       "  -0.07139331 & 0.77741913 & -0.1876466 & -0.02625922 & 0.78019506 & -0.21168797\\\\\n",
       "  0.41487779 & 0.52433259 & 0.19234016 & 0.08835718 & -0.0783573 & 0.65296064\\\\\n",
       "  0.78874752 & 0.10333138\\\\\n",
       "  0.22069781 & 0.88851938 & 0.89723686 & 0.553003 & 0.08985181 & 0.69416999\\\\\n",
       "  0.93772808 & 0.53936795 & 0.49295979 & 0.17055798 & 0.41201371 & 0.32671524\\\\\n",
       "  0.72422123 & 0.44355921\\\\\n",
       "\\end{bmatrix} + \n",
       "\\begin{bmatrix}\n",
       "  -0.79355548 & 0.31992296 & -0.70679079 & 0.03496268 & 0.07602808 & -0.68216372\\\\\n",
       "  -0.90383364 & -0.24438038 & -0.67355494 & -0.61401063 & -0.54299449 & -0.37775985\\\\\n",
       "  -0.60574403 & -0.29985148\\\\\n",
       "\\end{bmatrix}\\end{gather}"
      ],
      "text/plain": [
       "<IPython.core.display.Latex object>"
      ]
     },
     "metadata": {},
     "output_type": "display_data"
    },
    {
     "data": {
      "text/latex": [
       "Camada: 1"
      ],
      "text/plain": [
       "<IPython.core.display.Latex object>"
      ]
     },
     "metadata": {},
     "output_type": "display_data"
    },
    {
     "data": {
      "text/latex": [
       "Y = \\sigma(X)"
      ],
      "text/plain": [
       "<IPython.core.display.Latex object>"
      ]
     },
     "metadata": {},
     "output_type": "display_data"
    },
    {
     "data": {
      "text/latex": [
       "\\begin{gather}\n",
       "\\begin{bmatrix}\n",
       "  0.07983297 & 0.92820343 & 0.45427093 & 0.91625608 & 0.8633716 & 0.44451127\\\\\n",
       "  0.57978765 & 0.78029193 & 0.67393864 & 0.47460705 & 0.46650261 & 0.88680817\\\\\n",
       "  0.92763117 & 0.75500756\\\\\n",
       "\\end{bmatrix} = \\sigma(\n",
       "\\begin{bmatrix}\n",
       "  -2.44461866 & 2.55941425 & -0.18342887 & 2.39253229 & 1.84358033 & -0.22287293\\\\\n",
       "  0.32190172 & 1.26736842 & 0.72605347 & -0.10165924 & -0.13419056 & 2.05854471\\\\\n",
       "  2.55085851 & 1.1255004\\\\\n",
       "\\end{bmatrix}) \\end{gather}"
      ],
      "text/plain": [
       "<IPython.core.display.Latex object>"
      ]
     },
     "metadata": {},
     "output_type": "display_data"
    },
    {
     "data": {
      "text/latex": [
       "Camada: 2"
      ],
      "text/plain": [
       "<IPython.core.display.Latex object>"
      ]
     },
     "metadata": {},
     "output_type": "display_data"
    },
    {
     "data": {
      "text/latex": [
       "Y = Xw + b"
      ],
      "text/plain": [
       "<IPython.core.display.Latex object>"
      ]
     },
     "metadata": {},
     "output_type": "display_data"
    },
    {
     "data": {
      "text/latex": [
       "\\begin{gather}\n",
       "\\begin{bmatrix}\n",
       "  0.1921814 & -0.0943819 & -0.08028398 & -0.00099977 & -0.14675613 & -0.08001943\\\\\n",
       "  -0.0033749 & -0.15351705 & 0.94662946 & 0.03268113\\\\\n",
       "\\end{bmatrix} = \n",
       "\\begin{bmatrix}\n",
       "  0.07983297 & 0.92820343 & 0.45427093 & 0.91625608 & 0.8633716 & 0.44451127\\\\\n",
       "  0.57978765 & 0.78029193 & 0.67393864 & 0.47460705 & 0.46650261 & 0.88680817\\\\\n",
       "  0.92763117 & 0.75500756\\\\\n",
       "\\end{bmatrix} \\cdot \n",
       "\\begin{bmatrix}\n",
       "  0.13636749 & -0.6052476 & -0.46518335 & -0.211226 & -0.70315861 & -0.48185437\\\\\n",
       "  -0.61508084 & 0.09968134 & -0.15900444 & 0.13550547\\\\\n",
       "  0.08441285 & 0.49220814 & -0.21053461 & -0.03218399 & 0.46218992 & -0.17889901\\\\\n",
       "  -0.36245531 & -0.0755397 & 0.15274764 & -0.33493293\\\\\n",
       "  0.59041147 & -0.01818819 & 0.0023871 & 0.34474049 & -0.32519916 & -0.13813378\\\\\n",
       "  0.09640329 & -0.18410757 & -0.48509033 & 0.20212014\\\\\n",
       "  -0.03869206 & 0.00214832 & -0.35367565 & 0.1757907 & -0.46655175 & 0.15815786\\\\\n",
       "  -0.05387214 & 0.26360428 & 0.60517451 & -0.08704504\\\\\n",
       "  -0.23182394 & -0.48978451 & -0.11395027 & -0.35529865 & 0.18080935 & -0.12337519\\\\\n",
       "  -0.2815088 & 0.1076291 & 0.38943163 & -0.1217205\\\\\n",
       "  0.65369788 & 0.24929659 & -0.30518146 & -0.03785362 & -0.08905781 & -0.14718397\\\\\n",
       "  0.34659598 & -0.00100739 & -0.31223809 & 0.05042643\\\\\n",
       "  0.12844139 & -0.47120112 & 0.27179168 & -0.3786693 & 0.0565868 & 0.06043991\\\\\n",
       "  -0.16872449 & -0.75679363 & 0.09486974 & 0.00775861\\\\\n",
       "  -0.00500397 & -0.27081359 & 0.55132643 & -0.34009081 & -0.52883608 & 0.10485801\\\\\n",
       "  -0.20940994 & 0.27971572 & 0.08535233 & -0.14602415\\\\\n",
       "  -0.28345572 & 0.15526343 & -0.24976162 & 0.17226743 & -0.12390542 & -0.22340739\\\\\n",
       "  0.11367331 & 0.12704 & -0.36556192 & -0.52412364\\\\\n",
       "  0.46931905 & -0.49350847 & -0.04962665 & 0.14353019 & 0.09549601 & 0.28449549\\\\\n",
       "  0.01324584 & -0.43472734 & 0.35729174 & 0.0171669\\\\\n",
       "  -0.0913541 & 0.30446397 & -0.30220489 & 0.52335061 & 0.24644752 & -0.09995265\\\\\n",
       "  -0.24625218 & -0.0853996 & -0.25710121 & -0.40259765\\\\\n",
       "  -0.23151473 & -0.12017072 & -0.35634404 & -0.09171502 & 0.32820668 & 0.24376779\\\\\n",
       "  0.29367871 & 0.34084469 & 0.23647979 & 0.34640676\\\\\n",
       "  -0.05128155 & 0.13094318 & -0.05285082 & 0.15594782 & 0.12685485 & 0.49207579\\\\\n",
       "  -0.40361384 & -0.4571258 & 0.10793267 & 0.02848679\\\\\n",
       "  -0.09535792 & 0.25826455 & 0.41308794 & 0.08876623 & -0.1575019 & -0.30228159\\\\\n",
       "  0.53938361 & 0.30568422 & -0.13213614 & 0.45460739\\\\\n",
       "\\end{bmatrix} + \n",
       "\\begin{bmatrix}\n",
       "  0.04497954 & 0.07758367 & 0.50751289 & -0.02214969 & -0.04770061 & -0.28482619\\\\\n",
       "  0.47664598 & -0.06967643 & 0.15103646 & 0.36884438\\\\\n",
       "\\end{bmatrix}\\end{gather}"
      ],
      "text/plain": [
       "<IPython.core.display.Latex object>"
      ]
     },
     "metadata": {},
     "output_type": "display_data"
    },
    {
     "data": {
      "text/latex": [
       "f_{custo}(\n",
       "\\begin{bmatrix}\n",
       "  0 & 0 & 0 & 0 & 0 & 0 & 0 & 0 & 0 & 1\\\\\n",
       "\\end{bmatrix},\n",
       "\\begin{bmatrix}\n",
       "  0.1921814 & -0.0943819 & -0.08028398 & -0.00099977 & -0.14675613 & -0.08001943\\\\\n",
       "  -0.0033749 & -0.15351705 & 0.94662946 & 0.03268113\\\\\n",
       "\\end{bmatrix}) = \n",
       "\\begin{bmatrix}\n",
       "  0.19356206282531901\\\\\n",
       "\\end{bmatrix}"
      ],
      "text/plain": [
       "<IPython.core.display.Latex object>"
      ]
     },
     "metadata": {},
     "output_type": "display_data"
    },
    {
     "data": {
      "text/latex": [
       "\\nabla f_{custo} = \\frac{\\partial E}{\\partial Y} = \n",
       "\\begin{bmatrix}\n",
       "  0.03843628 & -0.01887638 & -0.0160568 & -0.00019995 & -0.02935123 & -0.01600389\\\\\n",
       "  -0.00067498 & -0.03070341 & 0.18932589 & -0.19346377\\\\\n",
       "\\end{bmatrix}"
      ],
      "text/plain": [
       "<IPython.core.display.Latex object>"
      ]
     },
     "metadata": {},
     "output_type": "display_data"
    },
    {
     "data": {
      "text/latex": [
       "Camada: 2"
      ],
      "text/plain": [
       "<IPython.core.display.Latex object>"
      ]
     },
     "metadata": {},
     "output_type": "display_data"
    },
    {
     "data": {
      "text/latex": [
       "W = W - \\lambda (X \\cdot \\nabla f_{custo})"
      ],
      "text/plain": [
       "<IPython.core.display.Latex object>"
      ]
     },
     "metadata": {},
     "output_type": "display_data"
    },
    {
     "data": {
      "text/latex": [
       "\\begin{gather}\n",
       "\\begin{bmatrix}\n",
       "  0.13421955 & -0.60419273 & -0.46428605 & -0.21121482 & -0.70151838 & -0.48096002\\\\\n",
       "  -0.61504312 & 0.10139714 & -0.16958456 & 0.14631683\\\\\n",
       "  0.05943917 & 0.50447293 & -0.20010183 & -0.03205408 & 0.48126066 & -0.1685006\\\\\n",
       "  -0.36201675 & -0.05559039 & 0.02973458 & -0.20923131\\\\\n",
       "  0.57818914 & -0.01218569 & 0.00749299 & 0.34480408 & -0.31586577 & -0.13304471\\\\\n",
       "  0.09661793 & -0.1743442 & -0.54529401 & 0.26363962\\\\\n",
       "  -0.0633443 & 0.01425524 & -0.34337716 & 0.17591894 & -0.44772649 & 0.16842242\\\\\n",
       "  -0.05343922 & 0.28329681 & 0.48374481 & 0.03703861\\\\\n",
       "  -0.2550533 & -0.47837638 & -0.10424618 & -0.3551778 & 0.19854806 & -0.11370308\\\\\n",
       "  -0.28110087 & 0.12618502 & 0.27501061 & -0.00479871\\\\\n",
       "  0.64173812 & 0.25517013 & -0.30018526 & -0.03779141 & -0.07992494 & -0.14220423\\\\\n",
       "  0.346806 & 0.00854622 & -0.37114834 & 0.11062421\\\\\n",
       "  0.11284197 & -0.46354011 & 0.27830835 & -0.37858815 & 0.06849903 & 0.06693511\\\\\n",
       "  -0.16845055 & -0.74433261 & 0.01803158 & 0.08627614\\\\\n",
       "  -0.02599803 & -0.26050323 & 0.56009672 & -0.33998159 & -0.51280431 & 0.1135994\\\\\n",
       "  -0.20904127 & 0.29648606 & -0.01805829 & -0.0403534\\\\\n",
       "  -0.3015883 & 0.16416849 & -0.24218672 & 0.17236176 & -0.11005877 & -0.21585744\\\\\n",
       "  0.11399174 & 0.14152455 & -0.45487774 & -0.43285574\\\\\n",
       "  0.45654956 & -0.48723726 & -0.04429218 & 0.14359662 & 0.10524722 & 0.28981238\\\\\n",
       "  0.01347008 & -0.4245269 & 0.29439296 & 0.08144039\\\\\n",
       "  -0.10390554 & 0.31062809 & -0.29696151 & 0.5234159 & 0.25603222 & -0.09472655\\\\\n",
       "  -0.24603177 & -0.07537334 & -0.31892593 & -0.3394217\\\\\n",
       "  -0.25537465 & -0.10845291 & -0.34637653 & -0.09159089 & 0.34642692 & 0.25370245\\\\\n",
       "  0.29409771 & 0.35990431 & 0.11895276 & 0.46650244\\\\\n",
       "  -0.07623983 & 0.14320041 & -0.04242447 & 0.15607766 & 0.14591383 & 0.50246778\\\\\n",
       "  -0.40317555 & -0.43718879 & -0.01500455 & 0.15411091\\\\\n",
       "  -0.1156717 & 0.26824082 & 0.42157405 & 0.08887191 & -0.14198962 & -0.29382345\\\\\n",
       "  0.53974034 & 0.32191114 & -0.23219588 & 0.55685402\\\\\n",
       "\\end{bmatrix} = \n",
       "\\begin{bmatrix}\n",
       "  0.13636749 & -0.6052476 & -0.46518335 & -0.211226 & -0.70315861 & -0.48185437\\\\\n",
       "  -0.61508084 & 0.09968134 & -0.15900444 & 0.13550547\\\\\n",
       "  0.08441285 & 0.49220814 & -0.21053461 & -0.03218399 & 0.46218992 & -0.17889901\\\\\n",
       "  -0.36245531 & -0.0755397 & 0.15274764 & -0.33493293\\\\\n",
       "  0.59041147 & -0.01818819 & 0.0023871 & 0.34474049 & -0.32519916 & -0.13813378\\\\\n",
       "  0.09640329 & -0.18410757 & -0.48509033 & 0.20212014\\\\\n",
       "  -0.03869206 & 0.00214832 & -0.35367565 & 0.1757907 & -0.46655175 & 0.15815786\\\\\n",
       "  -0.05387214 & 0.26360428 & 0.60517451 & -0.08704504\\\\\n",
       "  -0.23182394 & -0.48978451 & -0.11395027 & -0.35529865 & 0.18080935 & -0.12337519\\\\\n",
       "  -0.2815088 & 0.1076291 & 0.38943163 & -0.1217205\\\\\n",
       "  0.65369788 & 0.24929659 & -0.30518146 & -0.03785362 & -0.08905781 & -0.14718397\\\\\n",
       "  0.34659598 & -0.00100739 & -0.31223809 & 0.05042643\\\\\n",
       "  0.12844139 & -0.47120112 & 0.27179168 & -0.3786693 & 0.0565868 & 0.06043991\\\\\n",
       "  -0.16872449 & -0.75679363 & 0.09486974 & 0.00775861\\\\\n",
       "  -0.00500397 & -0.27081359 & 0.55132643 & -0.34009081 & -0.52883608 & 0.10485801\\\\\n",
       "  -0.20940994 & 0.27971572 & 0.08535233 & -0.14602415\\\\\n",
       "  -0.28345572 & 0.15526343 & -0.24976162 & 0.17226743 & -0.12390542 & -0.22340739\\\\\n",
       "  0.11367331 & 0.12704 & -0.36556192 & -0.52412364\\\\\n",
       "  0.46931905 & -0.49350847 & -0.04962665 & 0.14353019 & 0.09549601 & 0.28449549\\\\\n",
       "  0.01324584 & -0.43472734 & 0.35729174 & 0.0171669\\\\\n",
       "  -0.0913541 & 0.30446397 & -0.30220489 & 0.52335061 & 0.24644752 & -0.09995265\\\\\n",
       "  -0.24625218 & -0.0853996 & -0.25710121 & -0.40259765\\\\\n",
       "  -0.23151473 & -0.12017072 & -0.35634404 & -0.09171502 & 0.32820668 & 0.24376779\\\\\n",
       "  0.29367871 & 0.34084469 & 0.23647979 & 0.34640676\\\\\n",
       "  -0.05128155 & 0.13094318 & -0.05285082 & 0.15594782 & 0.12685485 & 0.49207579\\\\\n",
       "  -0.40361384 & -0.4571258 & 0.10793267 & 0.02848679\\\\\n",
       "  -0.09535792 & 0.25826455 & 0.41308794 & 0.08876623 & -0.1575019 & -0.30228159\\\\\n",
       "  0.53938361 & 0.30568422 & -0.13213614 & 0.45460739\\\\\n",
       "\\end{bmatrix} - 0.7\n",
       "\\begin{bmatrix}\n",
       "  0.07983297\\\\\n",
       "  0.92820343\\\\\n",
       "  0.45427093\\\\\n",
       "  0.91625608\\\\\n",
       "  0.8633716\\\\\n",
       "  0.44451127\\\\\n",
       "  0.57978765\\\\\n",
       "  0.78029193\\\\\n",
       "  0.67393864\\\\\n",
       "  0.47460705\\\\\n",
       "  0.46650261\\\\\n",
       "  0.88680817\\\\\n",
       "  0.92763117\\\\\n",
       "  0.75500756\\\\\n",
       "\\end{bmatrix} \\cdot \n",
       "\\begin{bmatrix}\n",
       "  0.03843628 & -0.01887638 & -0.0160568 & -0.00019995 & -0.02935123 & -0.01600389\\\\\n",
       "  -0.00067498 & -0.03070341 & 0.18932589 & -0.19346377\\\\\n",
       "\\end{bmatrix}\\end{gather}"
      ],
      "text/plain": [
       "<IPython.core.display.Latex object>"
      ]
     },
     "metadata": {},
     "output_type": "display_data"
    },
    {
     "data": {
      "text/latex": [
       "\\nabla f_{custo} = \\frac{\\partial E}{\\partial Y} = \n",
       "\\begin{bmatrix}\n",
       "  -0.00643641 & 0.08291804 & -0.09067047 & 0.13863682 & 0.09306656 & -0.03877628\\\\\n",
       "  0.04672515 & 0.04594188 & 0.02557361 & 0.09842879 & 0.02185582 & -0.04733333\\\\\n",
       "  0.0140072 & -0.12844684\\\\\n",
       "\\end{bmatrix}"
      ],
      "text/plain": [
       "<IPython.core.display.Latex object>"
      ]
     },
     "metadata": {},
     "output_type": "display_data"
    },
    {
     "data": {
      "text/latex": [
       "Camada: 1"
      ],
      "text/plain": [
       "<IPython.core.display.Latex object>"
      ]
     },
     "metadata": {},
     "output_type": "display_data"
    },
    {
     "data": {
      "text/latex": [
       "\\nabla = \\frac{\\partial E}{\\partial Y} \\frac{\\partial Y}{\\partial X}"
      ],
      "text/plain": [
       "<IPython.core.display.Latex object>"
      ]
     },
     "metadata": {},
     "output_type": "display_data"
    },
    {
     "data": {
      "text/latex": [
       "\\begin{gather}\n",
       "\\begin{bmatrix}\n",
       "  0.07983297 & 0.92820343 & 0.45427093 & 0.91625608 & 0.8633716 & 0.44451127\\\\\n",
       "  0.57978765 & 0.78029193 & 0.67393864 & 0.47460705 & 0.46650261 & 0.88680817\\\\\n",
       "  0.92763117 & 0.75500756\\\\\n",
       "\\end{bmatrix} = \\sigma(\n",
       "\\begin{bmatrix}\n",
       "  -2.44461866 & 2.55941425 & -0.18342887 & 2.39253229 & 1.84358033 & -0.22287293\\\\\n",
       "  0.32190172 & 1.26736842 & 0.72605347 & -0.10165924 & -0.13419056 & 2.05854471\\\\\n",
       "  2.55085851 & 1.1255004\\\\\n",
       "\\end{bmatrix}) \\end{gather}"
      ],
      "text/plain": [
       "<IPython.core.display.Latex object>"
      ]
     },
     "metadata": {},
     "output_type": "display_data"
    },
    {
     "data": {
      "text/latex": [
       "\\nabla f_{custo} = \\frac{\\partial E}{\\partial Y} = \n",
       "\\begin{bmatrix}\n",
       "  -0.00047282 & 0.00552581 & -0.02247801 & 0.01063772 & 0.01097823 & -0.00957468\\\\\n",
       "  0.01138383 & 0.00787611 & 0.00561968 & 0.02454373 & 0.00543943 & -0.00475129\\\\\n",
       "  0.00094033 & -0.02375896\\\\\n",
       "\\end{bmatrix}"
      ],
      "text/plain": [
       "<IPython.core.display.Latex object>"
      ]
     },
     "metadata": {},
     "output_type": "display_data"
    },
    {
     "data": {
      "text/latex": [
       "Camada: 0"
      ],
      "text/plain": [
       "<IPython.core.display.Latex object>"
      ]
     },
     "metadata": {},
     "output_type": "display_data"
    },
    {
     "data": {
      "text/latex": [
       "W = W - \\lambda (X \\cdot \\nabla f_{custo})"
      ],
      "text/plain": [
       "<IPython.core.display.Latex object>"
      ]
     },
     "metadata": {},
     "output_type": "display_data"
    },
    {
     "data": {
      "text/latex": [
       "\\begin{gather}\n",
       "\\begin{bmatrix}\n",
       "  -0.44760351 & -0.04824307 & 0.21167663 & 0.88857752 & 0.59392319 & 0.42816232\\\\\n",
       "  0.6487837 & 0.04025136 & 0.6969679 & 0.03105259 & 0.05061963 & 0.80606317\\\\\n",
       "  0.92696473 & 0.09472254\\\\\n",
       "  -0.89709165 & -0.04023503 & -0.23112886 & 0.42798347 & -0.63554421 & -0.56757262\\\\\n",
       "  -0.80758049 & -0.40848069 & -0.63915383 & -0.07930721 & -0.54252547 & 0.02955286\\\\\n",
       "  -0.00174773 & 0.37752446\\\\\n",
       "  -0.98938278 & 0.17691304 & -0.81683637 & -0.26368822 & -0.57962367 & -0.25022221\\\\\n",
       "  -0.64193721 & -0.69845106 & -0.78880426 & -0.37217864 & 0.18786603 & -0.14443859\\\\\n",
       "  -0.2424599 & 0.46603706\\\\\n",
       "  0.01431455 & 0.48486213 & -0.4326066 & 0.74899268 & 0.44638313 & -0.14202883\\\\\n",
       "  0.58529526 & 0.87171131 & -0.11268089 & 0.52320545 & 0.43759541 & -0.0608465\\\\\n",
       "  0.80769185 & 0.36045283\\\\\n",
       "  -0.45467961 & 0.65042668 & -0.11957229 & 0.49192562 & 0.91607212 & 0.13632589\\\\\n",
       "  0.00802024 & 0.79973776 & 0.64469306 & 0.25014902 & 0.55563056 & 0.63099036\\\\\n",
       "  0.71644211 & 0.45610811\\\\\n",
       "  -0.07106234 & 0.77355106 & -0.17191199 & -0.03370563 & 0.7725103 & -0.20498569\\\\\n",
       "  0.40690911 & 0.51881931 & 0.18840639 & 0.07117656 & -0.08216491 & 0.65628655\\\\\n",
       "  0.78808929 & 0.11996265\\\\\n",
       "  0.22102879 & 0.88465131 & 0.91297147 & 0.54555659 & 0.08216705 & 0.70087227\\\\\n",
       "  0.9297594 & 0.53385467 & 0.48902602 & 0.15337737 & 0.40820611 & 0.33004115\\\\\n",
       "  0.72356301 & 0.46019048\\\\\n",
       "\\end{bmatrix} = \n",
       "\\begin{bmatrix}\n",
       "  -0.44793448 & -0.044375 & 0.19594202 & 0.89602393 & 0.60160795 & 0.42146004\\\\\n",
       "  0.65675238 & 0.04576464 & 0.70090168 & 0.0482332 & 0.05442723 & 0.80273726\\\\\n",
       "  0.92762296 & 0.07809127\\\\\n",
       "  -0.89742262 & -0.03636697 & -0.24686347 & 0.43542988 & -0.62785945 & -0.57427489\\\\\n",
       "  -0.79961181 & -0.40296741 & -0.63522006 & -0.0621266 & -0.53871787 & 0.02622696\\\\\n",
       "  -0.0010895 & 0.36089319\\\\\n",
       "  -0.98938278 & 0.17691304 & -0.81683637 & -0.26368822 & -0.57962367 & -0.25022221\\\\\n",
       "  -0.64193721 & -0.69845106 & -0.78880426 & -0.37217864 & 0.18786603 & -0.14443859\\\\\n",
       "  -0.2424599 & 0.46603706\\\\\n",
       "  0.01431455 & 0.48486213 & -0.4326066 & 0.74899268 & 0.44638313 & -0.14202883\\\\\n",
       "  0.58529526 & 0.87171131 & -0.11268089 & 0.52320545 & 0.43759541 & -0.0608465\\\\\n",
       "  0.80769185 & 0.36045283\\\\\n",
       "  -0.45501058 & 0.65429475 & -0.1353069 & 0.49937203 & 0.92375688 & 0.12962361\\\\\n",
       "  0.01598892 & 0.80525104 & 0.64862684 & 0.26732963 & 0.55943816 & 0.62766446\\\\\n",
       "  0.71710034 & 0.43947684\\\\\n",
       "  -0.07139331 & 0.77741913 & -0.1876466 & -0.02625922 & 0.78019506 & -0.21168797\\\\\n",
       "  0.41487779 & 0.52433259 & 0.19234016 & 0.08835718 & -0.0783573 & 0.65296064\\\\\n",
       "  0.78874752 & 0.10333138\\\\\n",
       "  0.22069781 & 0.88851938 & 0.89723686 & 0.553003 & 0.08985181 & 0.69416999\\\\\n",
       "  0.93772808 & 0.53936795 & 0.49295979 & 0.17055798 & 0.41201371 & 0.32671524\\\\\n",
       "  0.72422123 & 0.44355921\\\\\n",
       "\\end{bmatrix} - 0.7\n",
       "\\begin{bmatrix}\n",
       "  1\\\\\n",
       "  1\\\\\n",
       "  0\\\\\n",
       "  0\\\\\n",
       "  1\\\\\n",
       "  1\\\\\n",
       "  1\\\\\n",
       "\\end{bmatrix} \\cdot \n",
       "\\begin{bmatrix}\n",
       "  -0.00047282 & 0.00552581 & -0.02247801 & 0.01063772 & 0.01097823 & -0.00957468\\\\\n",
       "  0.01138383 & 0.00787611 & 0.00561968 & 0.02454373 & 0.00543943 & -0.00475129\\\\\n",
       "  0.00094033 & -0.02375896\\\\\n",
       "\\end{bmatrix}\\end{gather}"
      ],
      "text/plain": [
       "<IPython.core.display.Latex object>"
      ]
     },
     "metadata": {},
     "output_type": "display_data"
    }
   ],
   "source": [
    "rede_exemplo_display.treinar(\n",
    "    vetor_x_exemplo_segmentos,\n",
    "    vetor_y_esperado_exemplo_segmentos,\n",
    "    max_n_iteracoes=1000,\n",
    "    taxa_aprendizado=0.7,\n",
    ")\n",
    "\n",
    "for iteracao_log in rede_exemplo_display.logs[0:1]:\n",
    "    for log in iteracao_log:\n",
    "        display(Latex(log))"
   ]
  },
  {
   "cell_type": "markdown",
   "metadata": {},
   "source": [
    "### Validação"
   ]
  },
  {
   "cell_type": "code",
   "execution_count": 209,
   "metadata": {},
   "outputs": [
    {
     "data": {
      "text/latex": [
       "\\begin{gather}X=\n",
       "\\begin{bmatrix}\n",
       "  1 & 1 & 1 & 1 & 1 & 1 & 0\\\\\n",
       "  0 & 1 & 1 & 0 & 0 & 0 & 0\\\\\n",
       "  1 & 1 & 0 & 1 & 1 & 0 & 1\\\\\n",
       "  1 & 1 & 1 & 1 & 0 & 0 & 1\\\\\n",
       "  0 & 1 & 1 & 0 & 0 & 1 & 1\\\\\n",
       "  1 & 0 & 1 & 1 & 0 & 1 & 1\\\\\n",
       "  0 & 0 & 1 & 1 & 1 & 1 & 1\\\\\n",
       "  1 & 1 & 1 & 0 & 0 & 0 & 0\\\\\n",
       "  1 & 1 & 1 & 1 & 1 & 1 & 1\\\\\n",
       "  1 & 1 & 0 & 0 & 1 & 1 & 1\\\\\n",
       "\\end{bmatrix}\\rightarrow\n",
       "\\begin{bmatrix}\n",
       "  0.98 & 0.04 & -0. & -0.08 & -0.07 & -0. & -0.05 & 0.01 & 0.15 & -0.02\\\\\n",
       "  -0.05 & 0.59 & 0.06 & -0.03 & 0.18 & -0.11 & 0.13 & 0.27 & -0.07 & -0.11\\\\\n",
       "  -0.07 & -0.08 & 1.01 & -0.02 & -0.03 & -0.07 & 0.04 & 0.05 & 0.07 & 0.02\\\\\n",
       "  -0.06 & -0.02 & 0.02 & 0.88 & -0.04 & -0.01 & -0.02 & 0.13 & 0.2 & -0.12\\\\\n",
       "  -0.03 & 0.13 & -0.06 & -0.05 & 0.85 & -0.03 & -0.06 & -0.03 & 0.2 & 0.05\\\\\n",
       "  -0.1 & -0.05 & -0.03 & -0.07 & -0.1 & 0.91 & 0. & 0.07 & 0.2 & -0.\\\\\n",
       "  -0.07 & 0.11 & -0.03 & -0.09 & -0.14 & -0.03 & 0.96 & 0.02 & 0.23 & -0.02\\\\\n",
       "  0.01 & 0.28 & -0.06 & 0.03 & -0.14 & 0.04 & -0.07 & 0.85 & 0.06 & 0.1\\\\\n",
       "  -0.03 & -0.05 & 0. & 0.07 & 0.02 & 0. & 0.05 & -0.05 & 0.91 & 0.1\\\\\n",
       "  0.01 & -0.01 & 0. & -0. & 0. & -0. & 0. & 0.01 & -0.01 & 1.\\\\\n",
       "\\end{bmatrix}\\end{gather}"
      ],
      "text/plain": [
       "<IPython.core.display.Latex object>"
      ]
     },
     "execution_count": 209,
     "metadata": {},
     "output_type": "execute_result"
    }
   ],
   "source": [
    "from utils import array_to_latex\n",
    "from IPython.display import Latex\n",
    "\n",
    "validacao_exemplo_display = rede_exemplo_display.predict(vetor_x_exemplo_segmentos)\n",
    "\n",
    "validacao_exemplo_display = np.asarray(validacao_exemplo_display) \\\n",
    "                              .reshape(10, 10)                    \\\n",
    "                              .round(decimals = 2)\n",
    "\n",
    "Latex(r'\\begin{gather}' +\n",
    "      array_to_latex(vetor_x_exemplo_segmentos.reshape(10,7), 'X=') +\n",
    "      r'\\rightarrow' +\n",
    "      array_to_latex(validacao_exemplo_display, '') +\n",
    "      r'\\end{gather}')"
   ]
  }
 ],
 "metadata": {
  "interpreter": {
   "hash": "2308fd1a8fedd2595f1dedf285928c5d92d2b7d305ada798b0578469c13c3676"
  },
  "kernelspec": {
   "display_name": "Python 3.10.2 ('venv': venv)",
   "language": "python",
   "name": "python3"
  },
  "language_info": {
   "codemirror_mode": {
    "name": "ipython",
    "version": 3
   },
   "file_extension": ".py",
   "mimetype": "text/x-python",
   "name": "python",
   "nbconvert_exporter": "python",
   "pygments_lexer": "ipython3",
   "version": "3.10.2"
  },
  "orig_nbformat": 4
 },
 "nbformat": 4,
 "nbformat_minor": 2
}
