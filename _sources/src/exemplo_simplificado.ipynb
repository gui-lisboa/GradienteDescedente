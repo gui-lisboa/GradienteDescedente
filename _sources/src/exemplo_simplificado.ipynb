{
 "cells": [
  {
   "cell_type": "markdown",
   "metadata": {},
   "source": [
    "# Implementação e Exemplos"
   ]
  },
  {
   "cell_type": "markdown",
   "metadata": {},
   "source": [
    "## Função Custo (Erro)\n",
    "\n",
    "### EQM - Erro Quadrático Médio\n",
    "\n",
    "$$\n",
    "EQM = \\frac{1}{n} \\sum_{i} (y_{esperado} - y_{estimado})^2\n",
    "$$\n",
    "$$\n",
    "\\frac{\\partial EQM}{\\partial Y} = \\frac{2}{n} (y_{estimado} - y_{esperado})\n",
    "$$"
   ]
  },
  {
   "cell_type": "code",
   "execution_count": 38,
   "metadata": {},
   "outputs": [],
   "source": [
    "import numpy as np\n",
    "\n",
    "def erro_quadratico_medio(y_esperado: np.ndarray, y_calculado: np.ndarray) -> np.ndarray:\n",
    "    return np.mean(np.power(y_esperado-y_calculado, 2))\n",
    "\n",
    "def derivada_erro_quadratico_medio(y_esperado: np.ndarray, y_calculado: np.ndarray) -> np.ndarray:\n",
    "    n = y_esperado.size\n",
    "    return 2*(y_calculado - y_esperado)/n"
   ]
  },
  {
   "cell_type": "markdown",
   "metadata": {},
   "source": [
    "### Outras opções\n",
    "\n",
    "https://www.tensorflow.org/api_docs/python/tf/keras/losses"
   ]
  },
  {
   "cell_type": "markdown",
   "metadata": {},
   "source": [
    "## Uso em uma Rede Neural\n",
    "\n",
    "https://towardsdatascience.com/math-neural-network-from-scratch-in-python-d6da9f29ce65\n",
    "\n",
    "### Rede Neural - Camadas"
   ]
  },
  {
   "cell_type": "code",
   "execution_count": 39,
   "metadata": {},
   "outputs": [],
   "source": [
    "from abc import ABC\n",
    "import numpy as np\n",
    "from utils import array_to_latex\n",
    "\n",
    "\n",
    "class Camada(ABC):\n",
    "    def __init__(self):\n",
    "        self.entrada: np.ndarray = None\n",
    "        self.saida: np.ndarray = None\n",
    "\n",
    "    def forward_propagation(self, input, logs: list):\n",
    "        raise NotImplementedError\n",
    "\n",
    "    def backward_propagation(\n",
    "        self, output_error, taxa_aprendizado: np.number, logs: list\n",
    "    ):\n",
    "        raise NotImplementedError\n",
    "\n",
    "\n",
    "class FCLayer(Camada):\n",
    "    def __init__(self, tamanho_entrada: int, tamanho_saida: int):\n",
    "        self.pesos = np.random.rand(tamanho_entrada, tamanho_saida)\n",
    "        self.bias = np.random.rand(1, tamanho_saida)\n",
    "\n",
    "    def forward_propagation(self, entrada: np.ndarray, logs: list) -> np.ndarray:\n",
    "        self.entrada = entrada\n",
    "        self.saida = np.dot(self.entrada, self.pesos) + self.bias\n",
    "\n",
    "        logs.append(r\"Y = Xw + b\")\n",
    "        logs.append(\n",
    "            r\"\\begin{gather}\"\n",
    "            + array_to_latex(self.saida, \"\")\n",
    "            + r\" = \"\n",
    "            + array_to_latex(self.entrada, \"\")\n",
    "            + r\" \\cdot \"\n",
    "            + array_to_latex(self.pesos, \"\")\n",
    "            + r\" + \"\n",
    "            + array_to_latex(self.bias, \"\")\n",
    "            + r\"\\end{gather}\"\n",
    "        )\n",
    "\n",
    "        return self.saida\n",
    "\n",
    "    # computes dE/dW, dE/dB for a given output_error=dE/dY. Returns input_error=dE/dX.\n",
    "    def backward_propagation(\n",
    "        self, derivada_erro: np.ndarray, taxa_aprendizado: np.number, logs: list\n",
    "    ) -> np.ndarray:\n",
    "        derivada_erro_entrada = np.dot(derivada_erro, self.pesos.T)\n",
    "        pesos_erro = np.dot(self.entrada.T, derivada_erro)\n",
    "        pesos_atualizados = self.pesos - taxa_aprendizado * pesos_erro\n",
    "        bias_atualizados = self.bias - taxa_aprendizado * derivada_erro\n",
    "\n",
    "        logs.append(r\"W = W - \\lambda (X \\cdot \\nabla f_{custo})\")\n",
    "        logs.append(\n",
    "            r\"\\begin{gather}\"\n",
    "            + array_to_latex(pesos_atualizados, \"\")\n",
    "            + r\" = \"\n",
    "            + array_to_latex(self.pesos, \"\")\n",
    "            + f\" - {taxa_aprendizado}\"\n",
    "            + array_to_latex(self.entrada.T, \"\")\n",
    "            + r\" \\cdot \"\n",
    "            + array_to_latex(derivada_erro, \"\")\n",
    "            + r\"\\end{gather}\"\n",
    "        )\n",
    "\n",
    "        self.pesos = pesos_atualizados\n",
    "        self.bias = bias_atualizados\n",
    "\n",
    "        return derivada_erro_entrada\n",
    "\n",
    "\n",
    "class ActivationLayer(Camada):\n",
    "    def __init__(self, fn_de_ativacao, derivada_fn_de_ativacao):\n",
    "        self.fn_de_ativacao = fn_de_ativacao\n",
    "        self.derivada_fn_de_ativacao = derivada_fn_de_ativacao\n",
    "\n",
    "    def forward_propagation(self, entrada: np.ndarray, logs: list):\n",
    "        self.entrada = entrada\n",
    "        self.saida = self.fn_de_ativacao(self.entrada)\n",
    "\n",
    "        logs.append(r\"Y = \\sigma(X)\")\n",
    "        logs.append(\n",
    "            r\"\\begin{gather}\"\n",
    "            + array_to_latex(self.saida, \"\")\n",
    "            + r\" = \\sigma(\"\n",
    "            + array_to_latex(self.entrada, \"\")\n",
    "            + r\") \"\n",
    "            + r\"\\end{gather}\"\n",
    "        )\n",
    "\n",
    "        return self.saida\n",
    "\n",
    "    # Returns input_error=dE/dX for a given output_error=dE/dY.\n",
    "    # regra da cadeia\n",
    "    def backward_propagation(\n",
    "        self, derivada_erro: np.ndarray, taxa_aprendizado: np.number, logs: list\n",
    "    ):\n",
    "        logs.append(\n",
    "            r\"\\nabla = \\frac{\\partial E}{\\partial Y} \\frac{\\partial Y}{\\partial X}\"\n",
    "        )\n",
    "        logs.append(\n",
    "            r\"\\begin{gather}\"\n",
    "            + array_to_latex(self.saida, \"\")\n",
    "            + r\" = \\sigma(\"\n",
    "            + array_to_latex(self.entrada, \"\")\n",
    "            + r\") \"\n",
    "            + r\"\\end{gather}\"\n",
    "        )\n",
    "\n",
    "        return derivada_erro * self.derivada_fn_de_ativacao(self.entrada)\n"
   ]
  },
  {
   "cell_type": "markdown",
   "metadata": {},
   "source": [
    "### Rede Neural - Rede"
   ]
  },
  {
   "cell_type": "code",
   "execution_count": 40,
   "metadata": {},
   "outputs": [],
   "source": [
    "class RedeNeural:\n",
    "    def __init__(self, fn_custo: callable, derivada_fn_custo: callable):\n",
    "        self.camadas = []\n",
    "        self.logs = []\n",
    "        self.fn_custo = fn_custo\n",
    "        self.derivada_fn_custo = derivada_fn_custo\n",
    "\n",
    "    def add(self, camada):\n",
    "        self.camadas.append(camada)\n",
    "\n",
    "    def predict(self, entrada: np.ndarray) -> np.ndarray:\n",
    "        n_entradas = len(entrada)\n",
    "        resultado = []\n",
    "\n",
    "        for n in range(n_entradas):\n",
    "            saida = entrada[n]\n",
    "            for camada in self.camadas:\n",
    "                saida = camada.forward_propagation(saida, [])\n",
    "            resultado.append(saida)\n",
    "\n",
    "        return resultado\n",
    "\n",
    "    def treinar(\n",
    "        self,\n",
    "        vetor_x: np.ndarray,\n",
    "        y_esperado: np.ndarray,\n",
    "        max_n_iteracoes: int,\n",
    "        taxa_aprendizado: np.number,\n",
    "    ):\n",
    "        n_amostras = len(vetor_x)\n",
    "        for iteracao in range(max_n_iteracoes):\n",
    "            self.logs.append([])\n",
    "            soma_erros = 0\n",
    "            for n in range(n_amostras):\n",
    "\n",
    "                output = vetor_x[n]\n",
    "                for indice_camada, camada in enumerate(self.camadas):\n",
    "                    self.logs[iteracao].append(f\"Camada: {indice_camada}\")\n",
    "                    output = camada.forward_propagation(output, self.logs[iteracao])\n",
    "\n",
    "                erro = self.fn_custo(y_esperado[n], output)\n",
    "                soma_erros += erro\n",
    "                self.logs[iteracao].append(\n",
    "                    r\"f_{custo}(\"\n",
    "                    + array_to_latex(y_esperado[n], \"\")\n",
    "                    + r\",\"\n",
    "                    + array_to_latex(output, \"\")\n",
    "                    + r\") = \"\n",
    "                    + array_to_latex(erro, \"\")\n",
    "                )\n",
    "\n",
    "                valor_derivada_erro = self.derivada_fn_custo(y_esperado[n], output)\n",
    "                for indice_camada, camada in enumerate(reversed(self.camadas)):\n",
    "                    self.logs[iteracao].append(\n",
    "                        r\"\\nabla f_{custo} = \\frac{\\partial E}{\\partial Y} = \"\n",
    "                        + array_to_latex(valor_derivada_erro, \"\")\n",
    "                    )\n",
    "                    self.logs[iteracao].append(\n",
    "                        f\"Camada: {len(self.camadas) - indice_camada -1}\"\n",
    "                    )\n",
    "                    valor_derivada_erro = camada.backward_propagation(\n",
    "                        valor_derivada_erro, taxa_aprendizado, self.logs[iteracao]\n",
    "                    )\n",
    "\n",
    "            media_erros = soma_erros / n_amostras\n",
    "            if iteracao < 5 or np.log10(iteracao + 1).is_integer():\n",
    "                print(\n",
    "                    \"Iteração %d/%d   MédiaErro=%f\"\n",
    "                    % (iteracao + 1, max_n_iteracoes, media_erros)\n",
    "                )\n",
    "            if media_erros < 0.01:\n",
    "                print(\n",
    "                    \"Iteração %d/%d MédiaErro=%f\"\n",
    "                    % (iteracao + 1, max_n_iteracoes, media_erros)\n",
    "                )\n",
    "                break\n"
   ]
  },
  {
   "cell_type": "markdown",
   "metadata": {},
   "source": [
    "### Rede Neural - Função de Ativação (Sigmóide)\n",
    "\n",
    "$$\n",
    "\\sigma(x) = \\frac{1}{1 - e^{-x}} \n",
    "$$\n",
    "\n",
    "$$\n",
    "\\frac{d \\sigma}{dx} = \\sigma(x) (1 - \\sigma(x))\n",
    "$$\n",
    "\n",
    "https://towardsdatascience.com/derivative-of-the-sigmoid-function-536880cf918e"
   ]
  },
  {
   "cell_type": "code",
   "execution_count": 41,
   "metadata": {},
   "outputs": [],
   "source": [
    "import numpy as np\n",
    "\n",
    "\n",
    "def sigmoide(x: np.ndarray) -> np.ndarray:\n",
    "    return 1 / (1 + np.exp(-x))\n",
    "\n",
    "\n",
    "def derivada_sigmoide(x: np.number) -> np.number:\n",
    "    sigmoide_x = sigmoide(x)\n",
    "    return sigmoide_x * (1 - sigmoide_x)\n"
   ]
  },
  {
   "cell_type": "markdown",
   "metadata": {},
   "source": [
    "## Exemplo: Ou Exclusivo (XOR)\n",
    "\n",
    "Operador retorna verdadeiro apenas caso entradas A ou B {(verdadeiro, falso) ou (falso, verdadeiro)} sejam verdadeiras, retornando falso caso ambas sejam verdadeiras ou ainda caso nenhuma seja.\n",
    "\n",
    "### Entradas e Saídas Esperadas"
   ]
  },
  {
   "cell_type": "code",
   "execution_count": 42,
   "metadata": {},
   "outputs": [],
   "source": [
    "vetor_x_exemplo_XOR = np.array([[[0, 0]], [[0, 1]], [[1, 0]], [[1, 1]]])\n",
    "vetor_y_esperado_exemplo_XOR = np.array([[[0]], [[1]], [[1]], [[0]]])\n"
   ]
  },
  {
   "cell_type": "markdown",
   "metadata": {},
   "source": [
    "### Rede\n",
    "\n"
   ]
  },
  {
   "cell_type": "code",
   "execution_count": 43,
   "metadata": {},
   "outputs": [],
   "source": [
    "rede_exemplo_XOR = RedeNeural(erro_quadratico_medio, derivada_erro_quadratico_medio)\n",
    "rede_exemplo_XOR.add(FCLayer(2, 2))\n",
    "rede_exemplo_XOR.add(ActivationLayer(sigmoide, derivada_sigmoide))\n",
    "rede_exemplo_XOR.add(FCLayer(2, 1))\n"
   ]
  },
  {
   "cell_type": "markdown",
   "metadata": {},
   "source": [
    "### Treinamento"
   ]
  },
  {
   "cell_type": "code",
   "execution_count": 44,
   "metadata": {},
   "outputs": [
    {
     "name": "stdout",
     "output_type": "stream",
     "text": [
      "Iteração 1/1000   MédiaErro=2.274404\n",
      "Iteração 2/1000   MédiaErro=0.764638\n",
      "Iteração 3/1000   MédiaErro=0.496162\n",
      "Iteração 4/1000   MédiaErro=0.510273\n",
      "Iteração 5/1000   MédiaErro=0.507174\n",
      "Iteração 10/1000   MédiaErro=0.501011\n",
      "Iteração 100/1000   MédiaErro=0.505923\n",
      "Iteração 196/1000 MédiaErro=0.000763\n"
     ]
    },
    {
     "data": {
      "text/latex": [
       "Camada: 0"
      ],
      "text/plain": [
       "<IPython.core.display.Latex object>"
      ]
     },
     "metadata": {},
     "output_type": "display_data"
    },
    {
     "data": {
      "text/latex": [
       "Y = Xw + b"
      ],
      "text/plain": [
       "<IPython.core.display.Latex object>"
      ]
     },
     "metadata": {},
     "output_type": "display_data"
    },
    {
     "data": {
      "text/latex": [
       "\\begin{gather}\n",
       "\\begin{bmatrix}\n",
       "  0.16934184 & 0.32734158\\\\\n",
       "\\end{bmatrix} = \n",
       "\\begin{bmatrix}\n",
       "  0 & 0\\\\\n",
       "\\end{bmatrix} \\cdot \n",
       "\\begin{bmatrix}\n",
       "  0.9840705 & 0.71803538\\\\\n",
       "  0.69935055 & 0.85686796\\\\\n",
       "\\end{bmatrix} + \n",
       "\\begin{bmatrix}\n",
       "  0.16934184 & 0.32734158\\\\\n",
       "\\end{bmatrix}\\end{gather}"
      ],
      "text/plain": [
       "<IPython.core.display.Latex object>"
      ]
     },
     "metadata": {},
     "output_type": "display_data"
    },
    {
     "data": {
      "text/latex": [
       "Camada: 1"
      ],
      "text/plain": [
       "<IPython.core.display.Latex object>"
      ]
     },
     "metadata": {},
     "output_type": "display_data"
    },
    {
     "data": {
      "text/latex": [
       "Y = \\sigma(X)"
      ],
      "text/plain": [
       "<IPython.core.display.Latex object>"
      ]
     },
     "metadata": {},
     "output_type": "display_data"
    },
    {
     "data": {
      "text/latex": [
       "\\begin{gather}\n",
       "\\begin{bmatrix}\n",
       "  0.54223458 & 0.5811124\\\\\n",
       "\\end{bmatrix} = \\sigma(\n",
       "\\begin{bmatrix}\n",
       "  0.16934184 & 0.32734158\\\\\n",
       "\\end{bmatrix}) \\end{gather}"
      ],
      "text/plain": [
       "<IPython.core.display.Latex object>"
      ]
     },
     "metadata": {},
     "output_type": "display_data"
    },
    {
     "data": {
      "text/latex": [
       "Camada: 2"
      ],
      "text/plain": [
       "<IPython.core.display.Latex object>"
      ]
     },
     "metadata": {},
     "output_type": "display_data"
    },
    {
     "data": {
      "text/latex": [
       "Y = Xw + b"
      ],
      "text/plain": [
       "<IPython.core.display.Latex object>"
      ]
     },
     "metadata": {},
     "output_type": "display_data"
    },
    {
     "data": {
      "text/latex": [
       "\\begin{gather}\n",
       "\\begin{bmatrix}\n",
       "  1.13727396\\\\\n",
       "\\end{bmatrix} = \n",
       "\\begin{bmatrix}\n",
       "  0.54223458 & 0.5811124\\\\\n",
       "\\end{bmatrix} \\cdot \n",
       "\\begin{bmatrix}\n",
       "  0.31102673\\\\\n",
       "  0.19166214\\\\\n",
       "\\end{bmatrix} + \n",
       "\\begin{bmatrix}\n",
       "  0.85724726\\\\\n",
       "\\end{bmatrix}\\end{gather}"
      ],
      "text/plain": [
       "<IPython.core.display.Latex object>"
      ]
     },
     "metadata": {},
     "output_type": "display_data"
    },
    {
     "data": {
      "text/latex": [
       "f_{custo}(\n",
       "\\begin{bmatrix}\n",
       "  0\\\\\n",
       "\\end{bmatrix},\n",
       "\\begin{bmatrix}\n",
       "  1.13727396\\\\\n",
       "\\end{bmatrix}) = \n",
       "\\begin{bmatrix}\n",
       "  1.29339205571195\\\\\n",
       "\\end{bmatrix}"
      ],
      "text/plain": [
       "<IPython.core.display.Latex object>"
      ]
     },
     "metadata": {},
     "output_type": "display_data"
    },
    {
     "data": {
      "text/latex": [
       "\\nabla f_{custo} = \\frac{\\partial E}{\\partial Y} = \n",
       "\\begin{bmatrix}\n",
       "  2.27454792\\\\\n",
       "\\end{bmatrix}"
      ],
      "text/plain": [
       "<IPython.core.display.Latex object>"
      ]
     },
     "metadata": {},
     "output_type": "display_data"
    },
    {
     "data": {
      "text/latex": [
       "Camada: 2"
      ],
      "text/plain": [
       "<IPython.core.display.Latex object>"
      ]
     },
     "metadata": {},
     "output_type": "display_data"
    },
    {
     "data": {
      "text/latex": [
       "W = W - \\lambda (X \\cdot \\nabla f_{custo})"
      ],
      "text/plain": [
       "<IPython.core.display.Latex object>"
      ]
     },
     "metadata": {},
     "output_type": "display_data"
    },
    {
     "data": {
      "text/latex": [
       "\\begin{gather}\n",
       "\\begin{bmatrix}\n",
       "  -0.30564254\\\\\n",
       "  -0.46922186\\\\\n",
       "\\end{bmatrix} = \n",
       "\\begin{bmatrix}\n",
       "  0.31102673\\\\\n",
       "  0.19166214\\\\\n",
       "\\end{bmatrix} - 0.5\n",
       "\\begin{bmatrix}\n",
       "  0.54223458\\\\\n",
       "  0.5811124\\\\\n",
       "\\end{bmatrix} \\cdot \n",
       "\\begin{bmatrix}\n",
       "  2.27454792\\\\\n",
       "\\end{bmatrix}\\end{gather}"
      ],
      "text/plain": [
       "<IPython.core.display.Latex object>"
      ]
     },
     "metadata": {},
     "output_type": "display_data"
    },
    {
     "data": {
      "text/latex": [
       "\\nabla f_{custo} = \\frac{\\partial E}{\\partial Y} = \n",
       "\\begin{bmatrix}\n",
       "  0.70744519 & 0.43594473\\\\\n",
       "\\end{bmatrix}"
      ],
      "text/plain": [
       "<IPython.core.display.Latex object>"
      ]
     },
     "metadata": {},
     "output_type": "display_data"
    },
    {
     "data": {
      "text/latex": [
       "Camada: 1"
      ],
      "text/plain": [
       "<IPython.core.display.Latex object>"
      ]
     },
     "metadata": {},
     "output_type": "display_data"
    },
    {
     "data": {
      "text/latex": [
       "\\nabla = \\frac{\\partial E}{\\partial Y} \\frac{\\partial Y}{\\partial X}"
      ],
      "text/plain": [
       "<IPython.core.display.Latex object>"
      ]
     },
     "metadata": {},
     "output_type": "display_data"
    },
    {
     "data": {
      "text/latex": [
       "\\begin{gather}\n",
       "\\begin{bmatrix}\n",
       "  0.54223458 & 0.5811124\\\\\n",
       "\\end{bmatrix} = \\sigma(\n",
       "\\begin{bmatrix}\n",
       "  0.16934184 & 0.32734158\\\\\n",
       "\\end{bmatrix}) \\end{gather}"
      ],
      "text/plain": [
       "<IPython.core.display.Latex object>"
      ]
     },
     "metadata": {},
     "output_type": "display_data"
    },
    {
     "data": {
      "text/latex": [
       "\\nabla f_{custo} = \\frac{\\partial E}{\\partial Y} = \n",
       "\\begin{bmatrix}\n",
       "  0.17559939 & 0.10611801\\\\\n",
       "\\end{bmatrix}"
      ],
      "text/plain": [
       "<IPython.core.display.Latex object>"
      ]
     },
     "metadata": {},
     "output_type": "display_data"
    },
    {
     "data": {
      "text/latex": [
       "Camada: 0"
      ],
      "text/plain": [
       "<IPython.core.display.Latex object>"
      ]
     },
     "metadata": {},
     "output_type": "display_data"
    },
    {
     "data": {
      "text/latex": [
       "W = W - \\lambda (X \\cdot \\nabla f_{custo})"
      ],
      "text/plain": [
       "<IPython.core.display.Latex object>"
      ]
     },
     "metadata": {},
     "output_type": "display_data"
    },
    {
     "data": {
      "text/latex": [
       "\\begin{gather}\n",
       "\\begin{bmatrix}\n",
       "  0.9840705 & 0.71803538\\\\\n",
       "  0.69935055 & 0.85686796\\\\\n",
       "\\end{bmatrix} = \n",
       "\\begin{bmatrix}\n",
       "  0.9840705 & 0.71803538\\\\\n",
       "  0.69935055 & 0.85686796\\\\\n",
       "\\end{bmatrix} - 0.5\n",
       "\\begin{bmatrix}\n",
       "  0\\\\\n",
       "  0\\\\\n",
       "\\end{bmatrix} \\cdot \n",
       "\\begin{bmatrix}\n",
       "  0.17559939 & 0.10611801\\\\\n",
       "\\end{bmatrix}\\end{gather}"
      ],
      "text/plain": [
       "<IPython.core.display.Latex object>"
      ]
     },
     "metadata": {},
     "output_type": "display_data"
    },
    {
     "data": {
      "text/latex": [
       "Camada: 0"
      ],
      "text/plain": [
       "<IPython.core.display.Latex object>"
      ]
     },
     "metadata": {},
     "output_type": "display_data"
    },
    {
     "data": {
      "text/latex": [
       "Y = Xw + b"
      ],
      "text/plain": [
       "<IPython.core.display.Latex object>"
      ]
     },
     "metadata": {},
     "output_type": "display_data"
    },
    {
     "data": {
      "text/latex": [
       "\\begin{gather}\n",
       "\\begin{bmatrix}\n",
       "  0.78089269 & 1.13115055\\\\\n",
       "\\end{bmatrix} = \n",
       "\\begin{bmatrix}\n",
       "  0 & 1\\\\\n",
       "\\end{bmatrix} \\cdot \n",
       "\\begin{bmatrix}\n",
       "  0.9840705 & 0.71803538\\\\\n",
       "  0.69935055 & 0.85686796\\\\\n",
       "\\end{bmatrix} + \n",
       "\\begin{bmatrix}\n",
       "  0.08154214 & 0.27428258\\\\\n",
       "\\end{bmatrix}\\end{gather}"
      ],
      "text/plain": [
       "<IPython.core.display.Latex object>"
      ]
     },
     "metadata": {},
     "output_type": "display_data"
    },
    {
     "data": {
      "text/latex": [
       "Camada: 1"
      ],
      "text/plain": [
       "<IPython.core.display.Latex object>"
      ]
     },
     "metadata": {},
     "output_type": "display_data"
    },
    {
     "data": {
      "text/latex": [
       "Y = \\sigma(X)"
      ],
      "text/plain": [
       "<IPython.core.display.Latex object>"
      ]
     },
     "metadata": {},
     "output_type": "display_data"
    },
    {
     "data": {
      "text/latex": [
       "\\begin{gather}\n",
       "\\begin{bmatrix}\n",
       "  0.68587248 & 0.75605117\\\\\n",
       "\\end{bmatrix} = \\sigma(\n",
       "\\begin{bmatrix}\n",
       "  0.78089269 & 1.13115055\\\\\n",
       "\\end{bmatrix}) \\end{gather}"
      ],
      "text/plain": [
       "<IPython.core.display.Latex object>"
      ]
     },
     "metadata": {},
     "output_type": "display_data"
    },
    {
     "data": {
      "text/latex": [
       "Camada: 2"
      ],
      "text/plain": [
       "<IPython.core.display.Latex object>"
      ]
     },
     "metadata": {},
     "output_type": "display_data"
    },
    {
     "data": {
      "text/latex": [
       "Y = Xw + b"
      ],
      "text/plain": [
       "<IPython.core.display.Latex object>"
      ]
     },
     "metadata": {},
     "output_type": "display_data"
    },
    {
     "data": {
      "text/latex": [
       "\\begin{gather}\n",
       "\\begin{bmatrix}\n",
       "  -0.84441423\\\\\n",
       "\\end{bmatrix} = \n",
       "\\begin{bmatrix}\n",
       "  0.68587248 & 0.75605117\\\\\n",
       "\\end{bmatrix} \\cdot \n",
       "\\begin{bmatrix}\n",
       "  -0.30564254\\\\\n",
       "  -0.46922186\\\\\n",
       "\\end{bmatrix} + \n",
       "\\begin{bmatrix}\n",
       "  -0.28002669\\\\\n",
       "\\end{bmatrix}\\end{gather}"
      ],
      "text/plain": [
       "<IPython.core.display.Latex object>"
      ]
     },
     "metadata": {},
     "output_type": "display_data"
    },
    {
     "data": {
      "text/latex": [
       "f_{custo}(\n",
       "\\begin{bmatrix}\n",
       "  1\\\\\n",
       "\\end{bmatrix},\n",
       "\\begin{bmatrix}\n",
       "  -0.84441423\\\\\n",
       "\\end{bmatrix}) = \n",
       "\\begin{bmatrix}\n",
       "  3.401863863858748\\\\\n",
       "\\end{bmatrix}"
      ],
      "text/plain": [
       "<IPython.core.display.Latex object>"
      ]
     },
     "metadata": {},
     "output_type": "display_data"
    },
    {
     "data": {
      "text/latex": [
       "\\nabla f_{custo} = \\frac{\\partial E}{\\partial Y} = \n",
       "\\begin{bmatrix}\n",
       "  -3.68882847\\\\\n",
       "\\end{bmatrix}"
      ],
      "text/plain": [
       "<IPython.core.display.Latex object>"
      ]
     },
     "metadata": {},
     "output_type": "display_data"
    },
    {
     "data": {
      "text/latex": [
       "Camada: 2"
      ],
      "text/plain": [
       "<IPython.core.display.Latex object>"
      ]
     },
     "metadata": {},
     "output_type": "display_data"
    },
    {
     "data": {
      "text/latex": [
       "W = W - \\lambda (X \\cdot \\nabla f_{custo})"
      ],
      "text/plain": [
       "<IPython.core.display.Latex object>"
      ]
     },
     "metadata": {},
     "output_type": "display_data"
    },
    {
     "data": {
      "text/latex": [
       "\\begin{gather}\n",
       "\\begin{bmatrix}\n",
       "  0.95939042\\\\\n",
       "  0.92524967\\\\\n",
       "\\end{bmatrix} = \n",
       "\\begin{bmatrix}\n",
       "  -0.30564254\\\\\n",
       "  -0.46922186\\\\\n",
       "\\end{bmatrix} - 0.5\n",
       "\\begin{bmatrix}\n",
       "  0.68587248\\\\\n",
       "  0.75605117\\\\\n",
       "\\end{bmatrix} \\cdot \n",
       "\\begin{bmatrix}\n",
       "  -3.68882847\\\\\n",
       "\\end{bmatrix}\\end{gather}"
      ],
      "text/plain": [
       "<IPython.core.display.Latex object>"
      ]
     },
     "metadata": {},
     "output_type": "display_data"
    },
    {
     "data": {
      "text/latex": [
       "\\nabla f_{custo} = \\frac{\\partial E}{\\partial Y} = \n",
       "\\begin{bmatrix}\n",
       "  1.1274629 & 1.73087895\\\\\n",
       "\\end{bmatrix}"
      ],
      "text/plain": [
       "<IPython.core.display.Latex object>"
      ]
     },
     "metadata": {},
     "output_type": "display_data"
    },
    {
     "data": {
      "text/latex": [
       "Camada: 1"
      ],
      "text/plain": [
       "<IPython.core.display.Latex object>"
      ]
     },
     "metadata": {},
     "output_type": "display_data"
    },
    {
     "data": {
      "text/latex": [
       "\\nabla = \\frac{\\partial E}{\\partial Y} \\frac{\\partial Y}{\\partial X}"
      ],
      "text/plain": [
       "<IPython.core.display.Latex object>"
      ]
     },
     "metadata": {},
     "output_type": "display_data"
    },
    {
     "data": {
      "text/latex": [
       "\\begin{gather}\n",
       "\\begin{bmatrix}\n",
       "  0.68587248 & 0.75605117\\\\\n",
       "\\end{bmatrix} = \\sigma(\n",
       "\\begin{bmatrix}\n",
       "  0.78089269 & 1.13115055\\\\\n",
       "\\end{bmatrix}) \\end{gather}"
      ],
      "text/plain": [
       "<IPython.core.display.Latex object>"
      ]
     },
     "metadata": {},
     "output_type": "display_data"
    },
    {
     "data": {
      "text/latex": [
       "\\nabla f_{custo} = \\frac{\\partial E}{\\partial Y} = \n",
       "\\begin{bmatrix}\n",
       "  0.24291348 & 0.31923951\\\\\n",
       "\\end{bmatrix}"
      ],
      "text/plain": [
       "<IPython.core.display.Latex object>"
      ]
     },
     "metadata": {},
     "output_type": "display_data"
    },
    {
     "data": {
      "text/latex": [
       "Camada: 0"
      ],
      "text/plain": [
       "<IPython.core.display.Latex object>"
      ]
     },
     "metadata": {},
     "output_type": "display_data"
    },
    {
     "data": {
      "text/latex": [
       "W = W - \\lambda (X \\cdot \\nabla f_{custo})"
      ],
      "text/plain": [
       "<IPython.core.display.Latex object>"
      ]
     },
     "metadata": {},
     "output_type": "display_data"
    },
    {
     "data": {
      "text/latex": [
       "\\begin{gather}\n",
       "\\begin{bmatrix}\n",
       "  0.9840705 & 0.71803538\\\\\n",
       "  0.57789381 & 0.69724821\\\\\n",
       "\\end{bmatrix} = \n",
       "\\begin{bmatrix}\n",
       "  0.9840705 & 0.71803538\\\\\n",
       "  0.69935055 & 0.85686796\\\\\n",
       "\\end{bmatrix} - 0.5\n",
       "\\begin{bmatrix}\n",
       "  0\\\\\n",
       "  1\\\\\n",
       "\\end{bmatrix} \\cdot \n",
       "\\begin{bmatrix}\n",
       "  0.24291348 & 0.31923951\\\\\n",
       "\\end{bmatrix}\\end{gather}"
      ],
      "text/plain": [
       "<IPython.core.display.Latex object>"
      ]
     },
     "metadata": {},
     "output_type": "display_data"
    },
    {
     "data": {
      "text/latex": [
       "Camada: 0"
      ],
      "text/plain": [
       "<IPython.core.display.Latex object>"
      ]
     },
     "metadata": {},
     "output_type": "display_data"
    },
    {
     "data": {
      "text/latex": [
       "Y = Xw + b"
      ],
      "text/plain": [
       "<IPython.core.display.Latex object>"
      ]
     },
     "metadata": {},
     "output_type": "display_data"
    },
    {
     "data": {
      "text/latex": [
       "\\begin{gather}\n",
       "\\begin{bmatrix}\n",
       "  0.9441559 & 0.83269821\\\\\n",
       "\\end{bmatrix} = \n",
       "\\begin{bmatrix}\n",
       "  1 & 0\\\\\n",
       "\\end{bmatrix} \\cdot \n",
       "\\begin{bmatrix}\n",
       "  0.9840705 & 0.71803538\\\\\n",
       "  0.57789381 & 0.69724821\\\\\n",
       "\\end{bmatrix} + \n",
       "\\begin{bmatrix}\n",
       "  -0.0399146 & 0.11466283\\\\\n",
       "\\end{bmatrix}\\end{gather}"
      ],
      "text/plain": [
       "<IPython.core.display.Latex object>"
      ]
     },
     "metadata": {},
     "output_type": "display_data"
    },
    {
     "data": {
      "text/latex": [
       "Camada: 1"
      ],
      "text/plain": [
       "<IPython.core.display.Latex object>"
      ]
     },
     "metadata": {},
     "output_type": "display_data"
    },
    {
     "data": {
      "text/latex": [
       "Y = \\sigma(X)"
      ],
      "text/plain": [
       "<IPython.core.display.Latex object>"
      ]
     },
     "metadata": {},
     "output_type": "display_data"
    },
    {
     "data": {
      "text/latex": [
       "\\begin{gather}\n",
       "\\begin{bmatrix}\n",
       "  0.71993837 & 0.69692515\\\\\n",
       "\\end{bmatrix} = \\sigma(\n",
       "\\begin{bmatrix}\n",
       "  0.9441559 & 0.83269821\\\\\n",
       "\\end{bmatrix}) \\end{gather}"
      ],
      "text/plain": [
       "<IPython.core.display.Latex object>"
      ]
     },
     "metadata": {},
     "output_type": "display_data"
    },
    {
     "data": {
      "text/latex": [
       "Camada: 2"
      ],
      "text/plain": [
       "<IPython.core.display.Latex object>"
      ]
     },
     "metadata": {},
     "output_type": "display_data"
    },
    {
     "data": {
      "text/latex": [
       "Y = Xw + b"
      ],
      "text/plain": [
       "<IPython.core.display.Latex object>"
      ]
     },
     "metadata": {},
     "output_type": "display_data"
    },
    {
     "data": {
      "text/latex": [
       "\\begin{gather}\n",
       "\\begin{bmatrix}\n",
       "  2.89991928\\\\\n",
       "\\end{bmatrix} = \n",
       "\\begin{bmatrix}\n",
       "  0.71993837 & 0.69692515\\\\\n",
       "\\end{bmatrix} \\cdot \n",
       "\\begin{bmatrix}\n",
       "  0.95939042\\\\\n",
       "  0.92524967\\\\\n",
       "\\end{bmatrix} + \n",
       "\\begin{bmatrix}\n",
       "  1.56438754\\\\\n",
       "\\end{bmatrix}\\end{gather}"
      ],
      "text/plain": [
       "<IPython.core.display.Latex object>"
      ]
     },
     "metadata": {},
     "output_type": "display_data"
    },
    {
     "data": {
      "text/latex": [
       "f_{custo}(\n",
       "\\begin{bmatrix}\n",
       "  1\\\\\n",
       "\\end{bmatrix},\n",
       "\\begin{bmatrix}\n",
       "  2.89991928\\\\\n",
       "\\end{bmatrix}) = \n",
       "\\begin{bmatrix}\n",
       "  3.609693260143548\\\\\n",
       "\\end{bmatrix}"
      ],
      "text/plain": [
       "<IPython.core.display.Latex object>"
      ]
     },
     "metadata": {},
     "output_type": "display_data"
    },
    {
     "data": {
      "text/latex": [
       "\\nabla f_{custo} = \\frac{\\partial E}{\\partial Y} = \n",
       "\\begin{bmatrix}\n",
       "  3.79983855\\\\\n",
       "\\end{bmatrix}"
      ],
      "text/plain": [
       "<IPython.core.display.Latex object>"
      ]
     },
     "metadata": {},
     "output_type": "display_data"
    },
    {
     "data": {
      "text/latex": [
       "Camada: 2"
      ],
      "text/plain": [
       "<IPython.core.display.Latex object>"
      ]
     },
     "metadata": {},
     "output_type": "display_data"
    },
    {
     "data": {
      "text/latex": [
       "W = W - \\lambda (X \\cdot \\nabla f_{custo})"
      ],
      "text/plain": [
       "<IPython.core.display.Latex object>"
      ]
     },
     "metadata": {},
     "output_type": "display_data"
    },
    {
     "data": {
      "text/latex": [
       "\\begin{gather}\n",
       "\\begin{bmatrix}\n",
       "  -0.40843436\\\\\n",
       "  -0.39885185\\\\\n",
       "\\end{bmatrix} = \n",
       "\\begin{bmatrix}\n",
       "  0.95939042\\\\\n",
       "  0.92524967\\\\\n",
       "\\end{bmatrix} - 0.5\n",
       "\\begin{bmatrix}\n",
       "  0.71993837\\\\\n",
       "  0.69692515\\\\\n",
       "\\end{bmatrix} \\cdot \n",
       "\\begin{bmatrix}\n",
       "  3.79983855\\\\\n",
       "\\end{bmatrix}\\end{gather}"
      ],
      "text/plain": [
       "<IPython.core.display.Latex object>"
      ]
     },
     "metadata": {},
     "output_type": "display_data"
    },
    {
     "data": {
      "text/latex": [
       "\\nabla f_{custo} = \\frac{\\partial E}{\\partial Y} = \n",
       "\\begin{bmatrix}\n",
       "  3.64552871 & 3.51579938\\\\\n",
       "\\end{bmatrix}"
      ],
      "text/plain": [
       "<IPython.core.display.Latex object>"
      ]
     },
     "metadata": {},
     "output_type": "display_data"
    },
    {
     "data": {
      "text/latex": [
       "Camada: 1"
      ],
      "text/plain": [
       "<IPython.core.display.Latex object>"
      ]
     },
     "metadata": {},
     "output_type": "display_data"
    },
    {
     "data": {
      "text/latex": [
       "\\nabla = \\frac{\\partial E}{\\partial Y} \\frac{\\partial Y}{\\partial X}"
      ],
      "text/plain": [
       "<IPython.core.display.Latex object>"
      ]
     },
     "metadata": {},
     "output_type": "display_data"
    },
    {
     "data": {
      "text/latex": [
       "\\begin{gather}\n",
       "\\begin{bmatrix}\n",
       "  0.71993837 & 0.69692515\\\\\n",
       "\\end{bmatrix} = \\sigma(\n",
       "\\begin{bmatrix}\n",
       "  0.9441559 & 0.83269821\\\\\n",
       "\\end{bmatrix}) \\end{gather}"
      ],
      "text/plain": [
       "<IPython.core.display.Latex object>"
      ]
     },
     "metadata": {},
     "output_type": "display_data"
    },
    {
     "data": {
      "text/latex": [
       "\\nabla f_{custo} = \\frac{\\partial E}{\\partial Y} = \n",
       "\\begin{bmatrix}\n",
       "  0.73503744 & 0.74260885\\\\\n",
       "\\end{bmatrix}"
      ],
      "text/plain": [
       "<IPython.core.display.Latex object>"
      ]
     },
     "metadata": {},
     "output_type": "display_data"
    },
    {
     "data": {
      "text/latex": [
       "Camada: 0"
      ],
      "text/plain": [
       "<IPython.core.display.Latex object>"
      ]
     },
     "metadata": {},
     "output_type": "display_data"
    },
    {
     "data": {
      "text/latex": [
       "W = W - \\lambda (X \\cdot \\nabla f_{custo})"
      ],
      "text/plain": [
       "<IPython.core.display.Latex object>"
      ]
     },
     "metadata": {},
     "output_type": "display_data"
    },
    {
     "data": {
      "text/latex": [
       "\\begin{gather}\n",
       "\\begin{bmatrix}\n",
       "  0.61655178 & 0.34673096\\\\\n",
       "  0.57789381 & 0.69724821\\\\\n",
       "\\end{bmatrix} = \n",
       "\\begin{bmatrix}\n",
       "  0.9840705 & 0.71803538\\\\\n",
       "  0.57789381 & 0.69724821\\\\\n",
       "\\end{bmatrix} - 0.5\n",
       "\\begin{bmatrix}\n",
       "  1\\\\\n",
       "  0\\\\\n",
       "\\end{bmatrix} \\cdot \n",
       "\\begin{bmatrix}\n",
       "  0.73503744 & 0.74260885\\\\\n",
       "\\end{bmatrix}\\end{gather}"
      ],
      "text/plain": [
       "<IPython.core.display.Latex object>"
      ]
     },
     "metadata": {},
     "output_type": "display_data"
    },
    {
     "data": {
      "text/latex": [
       "Camada: 0"
      ],
      "text/plain": [
       "<IPython.core.display.Latex object>"
      ]
     },
     "metadata": {},
     "output_type": "display_data"
    },
    {
     "data": {
      "text/latex": [
       "Y = Xw + b"
      ],
      "text/plain": [
       "<IPython.core.display.Latex object>"
      ]
     },
     "metadata": {},
     "output_type": "display_data"
    },
    {
     "data": {
      "text/latex": [
       "\\begin{gather}\n",
       "\\begin{bmatrix}\n",
       "  0.78701227 & 0.78733757\\\\\n",
       "\\end{bmatrix} = \n",
       "\\begin{bmatrix}\n",
       "  1 & 1\\\\\n",
       "\\end{bmatrix} \\cdot \n",
       "\\begin{bmatrix}\n",
       "  0.61655178 & 0.34673096\\\\\n",
       "  0.57789381 & 0.69724821\\\\\n",
       "\\end{bmatrix} + \n",
       "\\begin{bmatrix}\n",
       "  -0.40743332 & -0.2566416\\\\\n",
       "\\end{bmatrix}\\end{gather}"
      ],
      "text/plain": [
       "<IPython.core.display.Latex object>"
      ]
     },
     "metadata": {},
     "output_type": "display_data"
    },
    {
     "data": {
      "text/latex": [
       "Camada: 1"
      ],
      "text/plain": [
       "<IPython.core.display.Latex object>"
      ]
     },
     "metadata": {},
     "output_type": "display_data"
    },
    {
     "data": {
      "text/latex": [
       "Y = \\sigma(X)"
      ],
      "text/plain": [
       "<IPython.core.display.Latex object>"
      ]
     },
     "metadata": {},
     "output_type": "display_data"
    },
    {
     "data": {
      "text/latex": [
       "\\begin{gather}\n",
       "\\begin{bmatrix}\n",
       "  0.68718945 & 0.68725937\\\\\n",
       "\\end{bmatrix} = \\sigma(\n",
       "\\begin{bmatrix}\n",
       "  0.78701227 & 0.78733757\\\\\n",
       "\\end{bmatrix}) \\end{gather}"
      ],
      "text/plain": [
       "<IPython.core.display.Latex object>"
      ]
     },
     "metadata": {},
     "output_type": "display_data"
    },
    {
     "data": {
      "text/latex": [
       "Camada: 2"
      ],
      "text/plain": [
       "<IPython.core.display.Latex object>"
      ]
     },
     "metadata": {},
     "output_type": "display_data"
    },
    {
     "data": {
      "text/latex": [
       "Y = Xw + b"
      ],
      "text/plain": [
       "<IPython.core.display.Latex object>"
      ]
     },
     "metadata": {},
     "output_type": "display_data"
    },
    {
     "data": {
      "text/latex": [
       "\\begin{gather}\n",
       "\\begin{bmatrix}\n",
       "  -0.89031819\\\\\n",
       "\\end{bmatrix} = \n",
       "\\begin{bmatrix}\n",
       "  0.68718945 & 0.68725937\\\\\n",
       "\\end{bmatrix} \\cdot \n",
       "\\begin{bmatrix}\n",
       "  -0.40843436\\\\\n",
       "  -0.39885185\\\\\n",
       "\\end{bmatrix} + \n",
       "\\begin{bmatrix}\n",
       "  -0.33553174\\\\\n",
       "\\end{bmatrix}\\end{gather}"
      ],
      "text/plain": [
       "<IPython.core.display.Latex object>"
      ]
     },
     "metadata": {},
     "output_type": "display_data"
    },
    {
     "data": {
      "text/latex": [
       "f_{custo}(\n",
       "\\begin{bmatrix}\n",
       "  0\\\\\n",
       "\\end{bmatrix},\n",
       "\\begin{bmatrix}\n",
       "  -0.89031819\\\\\n",
       "\\end{bmatrix}) = \n",
       "\\begin{bmatrix}\n",
       "  0.7926664858242649\\\\\n",
       "\\end{bmatrix}"
      ],
      "text/plain": [
       "<IPython.core.display.Latex object>"
      ]
     },
     "metadata": {},
     "output_type": "display_data"
    },
    {
     "data": {
      "text/latex": [
       "\\nabla f_{custo} = \\frac{\\partial E}{\\partial Y} = \n",
       "\\begin{bmatrix}\n",
       "  -1.78063639\\\\\n",
       "\\end{bmatrix}"
      ],
      "text/plain": [
       "<IPython.core.display.Latex object>"
      ]
     },
     "metadata": {},
     "output_type": "display_data"
    },
    {
     "data": {
      "text/latex": [
       "Camada: 2"
      ],
      "text/plain": [
       "<IPython.core.display.Latex object>"
      ]
     },
     "metadata": {},
     "output_type": "display_data"
    },
    {
     "data": {
      "text/latex": [
       "W = W - \\lambda (X \\cdot \\nabla f_{custo})"
      ],
      "text/plain": [
       "<IPython.core.display.Latex object>"
      ]
     },
     "metadata": {},
     "output_type": "display_data"
    },
    {
     "data": {
      "text/latex": [
       "\\begin{gather}\n",
       "\\begin{bmatrix}\n",
       "  0.20338291\\\\\n",
       "  0.21302767\\\\\n",
       "\\end{bmatrix} = \n",
       "\\begin{bmatrix}\n",
       "  -0.40843436\\\\\n",
       "  -0.39885185\\\\\n",
       "\\end{bmatrix} - 0.5\n",
       "\\begin{bmatrix}\n",
       "  0.68718945\\\\\n",
       "  0.68725937\\\\\n",
       "\\end{bmatrix} \\cdot \n",
       "\\begin{bmatrix}\n",
       "  -1.78063639\\\\\n",
       "\\end{bmatrix}\\end{gather}"
      ],
      "text/plain": [
       "<IPython.core.display.Latex object>"
      ]
     },
     "metadata": {},
     "output_type": "display_data"
    },
    {
     "data": {
      "text/latex": [
       "\\nabla f_{custo} = \\frac{\\partial E}{\\partial Y} = \n",
       "\\begin{bmatrix}\n",
       "  0.72727308 & 0.71021013\\\\\n",
       "\\end{bmatrix}"
      ],
      "text/plain": [
       "<IPython.core.display.Latex object>"
      ]
     },
     "metadata": {},
     "output_type": "display_data"
    },
    {
     "data": {
      "text/latex": [
       "Camada: 1"
      ],
      "text/plain": [
       "<IPython.core.display.Latex object>"
      ]
     },
     "metadata": {},
     "output_type": "display_data"
    },
    {
     "data": {
      "text/latex": [
       "\\nabla = \\frac{\\partial E}{\\partial Y} \\frac{\\partial Y}{\\partial X}"
      ],
      "text/plain": [
       "<IPython.core.display.Latex object>"
      ]
     },
     "metadata": {},
     "output_type": "display_data"
    },
    {
     "data": {
      "text/latex": [
       "\\begin{gather}\n",
       "\\begin{bmatrix}\n",
       "  0.68718945 & 0.68725937\\\\\n",
       "\\end{bmatrix} = \\sigma(\n",
       "\\begin{bmatrix}\n",
       "  0.78701227 & 0.78733757\\\\\n",
       "\\end{bmatrix}) \\end{gather}"
      ],
      "text/plain": [
       "<IPython.core.display.Latex object>"
      ]
     },
     "metadata": {},
     "output_type": "display_data"
    },
    {
     "data": {
      "text/latex": [
       "\\nabla f_{custo} = \\frac{\\partial E}{\\partial Y} = \n",
       "\\begin{bmatrix}\n",
       "  0.1563347 & 0.15264825\\\\\n",
       "\\end{bmatrix}"
      ],
      "text/plain": [
       "<IPython.core.display.Latex object>"
      ]
     },
     "metadata": {},
     "output_type": "display_data"
    },
    {
     "data": {
      "text/latex": [
       "Camada: 0"
      ],
      "text/plain": [
       "<IPython.core.display.Latex object>"
      ]
     },
     "metadata": {},
     "output_type": "display_data"
    },
    {
     "data": {
      "text/latex": [
       "W = W - \\lambda (X \\cdot \\nabla f_{custo})"
      ],
      "text/plain": [
       "<IPython.core.display.Latex object>"
      ]
     },
     "metadata": {},
     "output_type": "display_data"
    },
    {
     "data": {
      "text/latex": [
       "\\begin{gather}\n",
       "\\begin{bmatrix}\n",
       "  0.53838443 & 0.27040683\\\\\n",
       "  0.49972646 & 0.62092409\\\\\n",
       "\\end{bmatrix} = \n",
       "\\begin{bmatrix}\n",
       "  0.61655178 & 0.34673096\\\\\n",
       "  0.57789381 & 0.69724821\\\\\n",
       "\\end{bmatrix} - 0.5\n",
       "\\begin{bmatrix}\n",
       "  1\\\\\n",
       "  1\\\\\n",
       "\\end{bmatrix} \\cdot \n",
       "\\begin{bmatrix}\n",
       "  0.1563347 & 0.15264825\\\\\n",
       "\\end{bmatrix}\\end{gather}"
      ],
      "text/plain": [
       "<IPython.core.display.Latex object>"
      ]
     },
     "metadata": {},
     "output_type": "display_data"
    },
    {
     "data": {
      "text/latex": [
       "Última iteração:"
      ],
      "text/plain": [
       "<IPython.core.display.Latex object>"
      ]
     },
     "metadata": {},
     "output_type": "display_data"
    },
    {
     "data": {
      "text/latex": [
       "Camada: 0"
      ],
      "text/plain": [
       "<IPython.core.display.Latex object>"
      ]
     },
     "metadata": {},
     "output_type": "display_data"
    },
    {
     "data": {
      "text/latex": [
       "Y = Xw + b"
      ],
      "text/plain": [
       "<IPython.core.display.Latex object>"
      ]
     },
     "metadata": {},
     "output_type": "display_data"
    },
    {
     "data": {
      "text/latex": [
       "\\begin{gather}\n",
       "\\begin{bmatrix}\n",
       "  -0.72480284 & -5.24674811\\\\\n",
       "\\end{bmatrix} = \n",
       "\\begin{bmatrix}\n",
       "  0 & 0\\\\\n",
       "\\end{bmatrix} \\cdot \n",
       "\\begin{bmatrix}\n",
       "  -2.94685188 & -4.52223766\\\\\n",
       "  3.03267149 & 6.55440194\\\\\n",
       "\\end{bmatrix} + \n",
       "\\begin{bmatrix}\n",
       "  -0.72480284 & -5.24674811\\\\\n",
       "\\end{bmatrix}\\end{gather}"
      ],
      "text/plain": [
       "<IPython.core.display.Latex object>"
      ]
     },
     "metadata": {},
     "output_type": "display_data"
    },
    {
     "data": {
      "text/latex": [
       "Camada: 1"
      ],
      "text/plain": [
       "<IPython.core.display.Latex object>"
      ]
     },
     "metadata": {},
     "output_type": "display_data"
    },
    {
     "data": {
      "text/latex": [
       "Y = \\sigma(X)"
      ],
      "text/plain": [
       "<IPython.core.display.Latex object>"
      ]
     },
     "metadata": {},
     "output_type": "display_data"
    },
    {
     "data": {
      "text/latex": [
       "\\begin{gather}\n",
       "\\begin{bmatrix}\n",
       "  0.32633624 & 0.00523704\\\\\n",
       "\\end{bmatrix} = \\sigma(\n",
       "\\begin{bmatrix}\n",
       "  -0.72480284 & -5.24674811\\\\\n",
       "\\end{bmatrix}) \\end{gather}"
      ],
      "text/plain": [
       "<IPython.core.display.Latex object>"
      ]
     },
     "metadata": {},
     "output_type": "display_data"
    },
    {
     "data": {
      "text/latex": [
       "Camada: 2"
      ],
      "text/plain": [
       "<IPython.core.display.Latex object>"
      ]
     },
     "metadata": {},
     "output_type": "display_data"
    },
    {
     "data": {
      "text/latex": [
       "Y = Xw + b"
      ],
      "text/plain": [
       "<IPython.core.display.Latex object>"
      ]
     },
     "metadata": {},
     "output_type": "display_data"
    },
    {
     "data": {
      "text/latex": [
       "\\begin{gather}\n",
       "\\begin{bmatrix}\n",
       "  0.03425403\\\\\n",
       "\\end{bmatrix} = \n",
       "\\begin{bmatrix}\n",
       "  0.32633624 & 0.00523704\\\\\n",
       "\\end{bmatrix} \\cdot \n",
       "\\begin{bmatrix}\n",
       "  -3.45448352\\\\\n",
       "  3.92618158\\\\\n",
       "\\end{bmatrix} + \n",
       "\\begin{bmatrix}\n",
       "  1.14101564\\\\\n",
       "\\end{bmatrix}\\end{gather}"
      ],
      "text/plain": [
       "<IPython.core.display.Latex object>"
      ]
     },
     "metadata": {},
     "output_type": "display_data"
    },
    {
     "data": {
      "text/latex": [
       "f_{custo}(\n",
       "\\begin{bmatrix}\n",
       "  0\\\\\n",
       "\\end{bmatrix},\n",
       "\\begin{bmatrix}\n",
       "  0.03425403\\\\\n",
       "\\end{bmatrix}) = \n",
       "\\begin{bmatrix}\n",
       "  0.0011733387816158323\\\\\n",
       "\\end{bmatrix}"
      ],
      "text/plain": [
       "<IPython.core.display.Latex object>"
      ]
     },
     "metadata": {},
     "output_type": "display_data"
    },
    {
     "data": {
      "text/latex": [
       "\\nabla f_{custo} = \\frac{\\partial E}{\\partial Y} = \n",
       "\\begin{bmatrix}\n",
       "  0.06850807\\\\\n",
       "\\end{bmatrix}"
      ],
      "text/plain": [
       "<IPython.core.display.Latex object>"
      ]
     },
     "metadata": {},
     "output_type": "display_data"
    },
    {
     "data": {
      "text/latex": [
       "Camada: 2"
      ],
      "text/plain": [
       "<IPython.core.display.Latex object>"
      ]
     },
     "metadata": {},
     "output_type": "display_data"
    },
    {
     "data": {
      "text/latex": [
       "W = W - \\lambda (X \\cdot \\nabla f_{custo})"
      ],
      "text/plain": [
       "<IPython.core.display.Latex object>"
      ]
     },
     "metadata": {},
     "output_type": "display_data"
    },
    {
     "data": {
      "text/latex": [
       "\\begin{gather}\n",
       "\\begin{bmatrix}\n",
       "  -3.46566185\\\\\n",
       "  3.92600219\\\\\n",
       "\\end{bmatrix} = \n",
       "\\begin{bmatrix}\n",
       "  -3.45448352\\\\\n",
       "  3.92618158\\\\\n",
       "\\end{bmatrix} - 0.5\n",
       "\\begin{bmatrix}\n",
       "  0.32633624\\\\\n",
       "  0.00523704\\\\\n",
       "\\end{bmatrix} \\cdot \n",
       "\\begin{bmatrix}\n",
       "  0.06850807\\\\\n",
       "\\end{bmatrix}\\end{gather}"
      ],
      "text/plain": [
       "<IPython.core.display.Latex object>"
      ]
     },
     "metadata": {},
     "output_type": "display_data"
    },
    {
     "data": {
      "text/latex": [
       "\\nabla f_{custo} = \\frac{\\partial E}{\\partial Y} = \n",
       "\\begin{bmatrix}\n",
       "  -0.23665999 & 0.26897511\\\\\n",
       "\\end{bmatrix}"
      ],
      "text/plain": [
       "<IPython.core.display.Latex object>"
      ]
     },
     "metadata": {},
     "output_type": "display_data"
    },
    {
     "data": {
      "text/latex": [
       "Camada: 1"
      ],
      "text/plain": [
       "<IPython.core.display.Latex object>"
      ]
     },
     "metadata": {},
     "output_type": "display_data"
    },
    {
     "data": {
      "text/latex": [
       "\\nabla = \\frac{\\partial E}{\\partial Y} \\frac{\\partial Y}{\\partial X}"
      ],
      "text/plain": [
       "<IPython.core.display.Latex object>"
      ]
     },
     "metadata": {},
     "output_type": "display_data"
    },
    {
     "data": {
      "text/latex": [
       "\\begin{gather}\n",
       "\\begin{bmatrix}\n",
       "  0.32633624 & 0.00523704\\\\\n",
       "\\end{bmatrix} = \\sigma(\n",
       "\\begin{bmatrix}\n",
       "  -0.72480284 & -5.24674811\\\\\n",
       "\\end{bmatrix}) \\end{gather}"
      ],
      "text/plain": [
       "<IPython.core.display.Latex object>"
      ]
     },
     "metadata": {},
     "output_type": "display_data"
    },
    {
     "data": {
      "text/latex": [
       "\\nabla f_{custo} = \\frac{\\partial E}{\\partial Y} = \n",
       "\\begin{bmatrix}\n",
       "  -0.05202754 & 0.00140126\\\\\n",
       "\\end{bmatrix}"
      ],
      "text/plain": [
       "<IPython.core.display.Latex object>"
      ]
     },
     "metadata": {},
     "output_type": "display_data"
    },
    {
     "data": {
      "text/latex": [
       "Camada: 0"
      ],
      "text/plain": [
       "<IPython.core.display.Latex object>"
      ]
     },
     "metadata": {},
     "output_type": "display_data"
    },
    {
     "data": {
      "text/latex": [
       "W = W - \\lambda (X \\cdot \\nabla f_{custo})"
      ],
      "text/plain": [
       "<IPython.core.display.Latex object>"
      ]
     },
     "metadata": {},
     "output_type": "display_data"
    },
    {
     "data": {
      "text/latex": [
       "\\begin{gather}\n",
       "\\begin{bmatrix}\n",
       "  -2.94685188 & -4.52223766\\\\\n",
       "  3.03267149 & 6.55440194\\\\\n",
       "\\end{bmatrix} = \n",
       "\\begin{bmatrix}\n",
       "  -2.94685188 & -4.52223766\\\\\n",
       "  3.03267149 & 6.55440194\\\\\n",
       "\\end{bmatrix} - 0.5\n",
       "\\begin{bmatrix}\n",
       "  0\\\\\n",
       "  0\\\\\n",
       "\\end{bmatrix} \\cdot \n",
       "\\begin{bmatrix}\n",
       "  -0.05202754 & 0.00140126\\\\\n",
       "\\end{bmatrix}\\end{gather}"
      ],
      "text/plain": [
       "<IPython.core.display.Latex object>"
      ]
     },
     "metadata": {},
     "output_type": "display_data"
    },
    {
     "data": {
      "text/latex": [
       "Camada: 0"
      ],
      "text/plain": [
       "<IPython.core.display.Latex object>"
      ]
     },
     "metadata": {},
     "output_type": "display_data"
    },
    {
     "data": {
      "text/latex": [
       "Y = Xw + b"
      ],
      "text/plain": [
       "<IPython.core.display.Latex object>"
      ]
     },
     "metadata": {},
     "output_type": "display_data"
    },
    {
     "data": {
      "text/latex": [
       "\\begin{gather}\n",
       "\\begin{bmatrix}\n",
       "  2.33388243 & 1.3069532\\\\\n",
       "\\end{bmatrix} = \n",
       "\\begin{bmatrix}\n",
       "  0 & 1\\\\\n",
       "\\end{bmatrix} \\cdot \n",
       "\\begin{bmatrix}\n",
       "  -2.94685188 & -4.52223766\\\\\n",
       "  3.03267149 & 6.55440194\\\\\n",
       "\\end{bmatrix} + \n",
       "\\begin{bmatrix}\n",
       "  -0.69878907 & -5.24744874\\\\\n",
       "\\end{bmatrix}\\end{gather}"
      ],
      "text/plain": [
       "<IPython.core.display.Latex object>"
      ]
     },
     "metadata": {},
     "output_type": "display_data"
    },
    {
     "data": {
      "text/latex": [
       "Camada: 1"
      ],
      "text/plain": [
       "<IPython.core.display.Latex object>"
      ]
     },
     "metadata": {},
     "output_type": "display_data"
    },
    {
     "data": {
      "text/latex": [
       "Y = \\sigma(X)"
      ],
      "text/plain": [
       "<IPython.core.display.Latex object>"
      ]
     },
     "metadata": {},
     "output_type": "display_data"
    },
    {
     "data": {
      "text/latex": [
       "\\begin{gather}\n",
       "\\begin{bmatrix}\n",
       "  0.91164456 & 0.78700287\\\\\n",
       "\\end{bmatrix} = \\sigma(\n",
       "\\begin{bmatrix}\n",
       "  2.33388243 & 1.3069532\\\\\n",
       "\\end{bmatrix}) \\end{gather}"
      ],
      "text/plain": [
       "<IPython.core.display.Latex object>"
      ]
     },
     "metadata": {},
     "output_type": "display_data"
    },
    {
     "data": {
      "text/latex": [
       "Camada: 2"
      ],
      "text/plain": [
       "<IPython.core.display.Latex object>"
      ]
     },
     "metadata": {},
     "output_type": "display_data"
    },
    {
     "data": {
      "text/latex": [
       "Y = Xw + b"
      ],
      "text/plain": [
       "<IPython.core.display.Latex object>"
      ]
     },
     "metadata": {},
     "output_type": "display_data"
    },
    {
     "data": {
      "text/latex": [
       "\\begin{gather}\n",
       "\\begin{bmatrix}\n",
       "  1.03708482\\\\\n",
       "\\end{bmatrix} = \n",
       "\\begin{bmatrix}\n",
       "  0.91164456 & 0.78700287\\\\\n",
       "\\end{bmatrix} \\cdot \n",
       "\\begin{bmatrix}\n",
       "  -3.46566185\\\\\n",
       "  3.92600219\\\\\n",
       "\\end{bmatrix} + \n",
       "\\begin{bmatrix}\n",
       "  1.10676161\\\\\n",
       "\\end{bmatrix}\\end{gather}"
      ],
      "text/plain": [
       "<IPython.core.display.Latex object>"
      ]
     },
     "metadata": {},
     "output_type": "display_data"
    },
    {
     "data": {
      "text/latex": [
       "f_{custo}(\n",
       "\\begin{bmatrix}\n",
       "  1\\\\\n",
       "\\end{bmatrix},\n",
       "\\begin{bmatrix}\n",
       "  1.03708482\\\\\n",
       "\\end{bmatrix}) = \n",
       "\\begin{bmatrix}\n",
       "  0.0013752839520433055\\\\\n",
       "\\end{bmatrix}"
      ],
      "text/plain": [
       "<IPython.core.display.Latex object>"
      ]
     },
     "metadata": {},
     "output_type": "display_data"
    },
    {
     "data": {
      "text/latex": [
       "\\nabla f_{custo} = \\frac{\\partial E}{\\partial Y} = \n",
       "\\begin{bmatrix}\n",
       "  0.07416964\\\\\n",
       "\\end{bmatrix}"
      ],
      "text/plain": [
       "<IPython.core.display.Latex object>"
      ]
     },
     "metadata": {},
     "output_type": "display_data"
    },
    {
     "data": {
      "text/latex": [
       "Camada: 2"
      ],
      "text/plain": [
       "<IPython.core.display.Latex object>"
      ]
     },
     "metadata": {},
     "output_type": "display_data"
    },
    {
     "data": {
      "text/latex": [
       "W = W - \\lambda (X \\cdot \\nabla f_{custo})"
      ],
      "text/plain": [
       "<IPython.core.display.Latex object>"
      ]
     },
     "metadata": {},
     "output_type": "display_data"
    },
    {
     "data": {
      "text/latex": [
       "\\begin{gather}\n",
       "\\begin{bmatrix}\n",
       "  -3.49947003\\\\\n",
       "  3.89681633\\\\\n",
       "\\end{bmatrix} = \n",
       "\\begin{bmatrix}\n",
       "  -3.46566185\\\\\n",
       "  3.92600219\\\\\n",
       "\\end{bmatrix} - 0.5\n",
       "\\begin{bmatrix}\n",
       "  0.91164456\\\\\n",
       "  0.78700287\\\\\n",
       "\\end{bmatrix} \\cdot \n",
       "\\begin{bmatrix}\n",
       "  0.07416964\\\\\n",
       "\\end{bmatrix}\\end{gather}"
      ],
      "text/plain": [
       "<IPython.core.display.Latex object>"
      ]
     },
     "metadata": {},
     "output_type": "display_data"
    },
    {
     "data": {
      "text/latex": [
       "\\nabla f_{custo} = \\frac{\\partial E}{\\partial Y} = \n",
       "\\begin{bmatrix}\n",
       "  -0.2570469 & 0.29119018\\\\\n",
       "\\end{bmatrix}"
      ],
      "text/plain": [
       "<IPython.core.display.Latex object>"
      ]
     },
     "metadata": {},
     "output_type": "display_data"
    },
    {
     "data": {
      "text/latex": [
       "Camada: 1"
      ],
      "text/plain": [
       "<IPython.core.display.Latex object>"
      ]
     },
     "metadata": {},
     "output_type": "display_data"
    },
    {
     "data": {
      "text/latex": [
       "\\nabla = \\frac{\\partial E}{\\partial Y} \\frac{\\partial Y}{\\partial X}"
      ],
      "text/plain": [
       "<IPython.core.display.Latex object>"
      ]
     },
     "metadata": {},
     "output_type": "display_data"
    },
    {
     "data": {
      "text/latex": [
       "\\begin{gather}\n",
       "\\begin{bmatrix}\n",
       "  0.91164456 & 0.78700287\\\\\n",
       "\\end{bmatrix} = \\sigma(\n",
       "\\begin{bmatrix}\n",
       "  2.33388243 & 1.3069532\\\\\n",
       "\\end{bmatrix}) \\end{gather}"
      ],
      "text/plain": [
       "<IPython.core.display.Latex object>"
      ]
     },
     "metadata": {},
     "output_type": "display_data"
    },
    {
     "data": {
      "text/latex": [
       "\\nabla f_{custo} = \\frac{\\partial E}{\\partial Y} = \n",
       "\\begin{bmatrix}\n",
       "  -0.02070481 & 0.04881202\\\\\n",
       "\\end{bmatrix}"
      ],
      "text/plain": [
       "<IPython.core.display.Latex object>"
      ]
     },
     "metadata": {},
     "output_type": "display_data"
    },
    {
     "data": {
      "text/latex": [
       "Camada: 0"
      ],
      "text/plain": [
       "<IPython.core.display.Latex object>"
      ]
     },
     "metadata": {},
     "output_type": "display_data"
    },
    {
     "data": {
      "text/latex": [
       "W = W - \\lambda (X \\cdot \\nabla f_{custo})"
      ],
      "text/plain": [
       "<IPython.core.display.Latex object>"
      ]
     },
     "metadata": {},
     "output_type": "display_data"
    },
    {
     "data": {
      "text/latex": [
       "\\begin{gather}\n",
       "\\begin{bmatrix}\n",
       "  -2.94685188 & -4.52223766\\\\\n",
       "  3.0430239 & 6.52999593\\\\\n",
       "\\end{bmatrix} = \n",
       "\\begin{bmatrix}\n",
       "  -2.94685188 & -4.52223766\\\\\n",
       "  3.03267149 & 6.55440194\\\\\n",
       "\\end{bmatrix} - 0.5\n",
       "\\begin{bmatrix}\n",
       "  0\\\\\n",
       "  1\\\\\n",
       "\\end{bmatrix} \\cdot \n",
       "\\begin{bmatrix}\n",
       "  -0.02070481 & 0.04881202\\\\\n",
       "\\end{bmatrix}\\end{gather}"
      ],
      "text/plain": [
       "<IPython.core.display.Latex object>"
      ]
     },
     "metadata": {},
     "output_type": "display_data"
    },
    {
     "data": {
      "text/latex": [
       "Camada: 0"
      ],
      "text/plain": [
       "<IPython.core.display.Latex object>"
      ]
     },
     "metadata": {},
     "output_type": "display_data"
    },
    {
     "data": {
      "text/latex": [
       "Y = Xw + b"
      ],
      "text/plain": [
       "<IPython.core.display.Latex object>"
      ]
     },
     "metadata": {},
     "output_type": "display_data"
    },
    {
     "data": {
      "text/latex": [
       "\\begin{gather}\n",
       "\\begin{bmatrix}\n",
       "  -3.63528854 & -9.79409241\\\\\n",
       "\\end{bmatrix} = \n",
       "\\begin{bmatrix}\n",
       "  1 & 0\\\\\n",
       "\\end{bmatrix} \\cdot \n",
       "\\begin{bmatrix}\n",
       "  -2.94685188 & -4.52223766\\\\\n",
       "  3.0430239 & 6.52999593\\\\\n",
       "\\end{bmatrix} + \n",
       "\\begin{bmatrix}\n",
       "  -0.68843666 & -5.27185475\\\\\n",
       "\\end{bmatrix}\\end{gather}"
      ],
      "text/plain": [
       "<IPython.core.display.Latex object>"
      ]
     },
     "metadata": {},
     "output_type": "display_data"
    },
    {
     "data": {
      "text/latex": [
       "Camada: 1"
      ],
      "text/plain": [
       "<IPython.core.display.Latex object>"
      ]
     },
     "metadata": {},
     "output_type": "display_data"
    },
    {
     "data": {
      "text/latex": [
       "Y = \\sigma(X)"
      ],
      "text/plain": [
       "<IPython.core.display.Latex object>"
      ]
     },
     "metadata": {},
     "output_type": "display_data"
    },
    {
     "data": {
      "text/latex": [
       "\\begin{gather}\n",
       "\\begin{bmatrix}\n",
       "  2.56984909e-02 & 5.57770430e-05\\\\\n",
       "\\end{bmatrix} = \\sigma(\n",
       "\\begin{bmatrix}\n",
       "  -3.63528854 & -9.79409241\\\\\n",
       "\\end{bmatrix}) \\end{gather}"
      ],
      "text/plain": [
       "<IPython.core.display.Latex object>"
      ]
     },
     "metadata": {},
     "output_type": "display_data"
    },
    {
     "data": {
      "text/latex": [
       "Camada: 2"
      ],
      "text/plain": [
       "<IPython.core.display.Latex object>"
      ]
     },
     "metadata": {},
     "output_type": "display_data"
    },
    {
     "data": {
      "text/latex": [
       "Y = Xw + b"
      ],
      "text/plain": [
       "<IPython.core.display.Latex object>"
      ]
     },
     "metadata": {},
     "output_type": "display_data"
    },
    {
     "data": {
      "text/latex": [
       "\\begin{gather}\n",
       "\\begin{bmatrix}\n",
       "  0.97996304\\\\\n",
       "\\end{bmatrix} = \n",
       "\\begin{bmatrix}\n",
       "  2.56984909e-02 & 5.57770430e-05\\\\\n",
       "\\end{bmatrix} \\cdot \n",
       "\\begin{bmatrix}\n",
       "  -3.49947003\\\\\n",
       "  3.89681633\\\\\n",
       "\\end{bmatrix} + \n",
       "\\begin{bmatrix}\n",
       "  1.06967678\\\\\n",
       "\\end{bmatrix}\\end{gather}"
      ],
      "text/plain": [
       "<IPython.core.display.Latex object>"
      ]
     },
     "metadata": {},
     "output_type": "display_data"
    },
    {
     "data": {
      "text/latex": [
       "f_{custo}(\n",
       "\\begin{bmatrix}\n",
       "  1\\\\\n",
       "\\end{bmatrix},\n",
       "\\begin{bmatrix}\n",
       "  0.97996304\\\\\n",
       "\\end{bmatrix}) = \n",
       "\\begin{bmatrix}\n",
       "  0.00040147980415949095\\\\\n",
       "\\end{bmatrix}"
      ],
      "text/plain": [
       "<IPython.core.display.Latex object>"
      ]
     },
     "metadata": {},
     "output_type": "display_data"
    },
    {
     "data": {
      "text/latex": [
       "\\nabla f_{custo} = \\frac{\\partial E}{\\partial Y} = \n",
       "\\begin{bmatrix}\n",
       "  -0.04007392\\\\\n",
       "\\end{bmatrix}"
      ],
      "text/plain": [
       "<IPython.core.display.Latex object>"
      ]
     },
     "metadata": {},
     "output_type": "display_data"
    },
    {
     "data": {
      "text/latex": [
       "Camada: 2"
      ],
      "text/plain": [
       "<IPython.core.display.Latex object>"
      ]
     },
     "metadata": {},
     "output_type": "display_data"
    },
    {
     "data": {
      "text/latex": [
       "W = W - \\lambda (X \\cdot \\nabla f_{custo})"
      ],
      "text/plain": [
       "<IPython.core.display.Latex object>"
      ]
     },
     "metadata": {},
     "output_type": "display_data"
    },
    {
     "data": {
      "text/latex": [
       "\\begin{gather}\n",
       "\\begin{bmatrix}\n",
       "  -3.49895511\\\\\n",
       "  3.89681745\\\\\n",
       "\\end{bmatrix} = \n",
       "\\begin{bmatrix}\n",
       "  -3.49947003\\\\\n",
       "  3.89681633\\\\\n",
       "\\end{bmatrix} - 0.5\n",
       "\\begin{bmatrix}\n",
       "  2.56984909e-02\\\\\n",
       "  5.57770430e-05\\\\\n",
       "\\end{bmatrix} \\cdot \n",
       "\\begin{bmatrix}\n",
       "  -0.04007392\\\\\n",
       "\\end{bmatrix}\\end{gather}"
      ],
      "text/plain": [
       "<IPython.core.display.Latex object>"
      ]
     },
     "metadata": {},
     "output_type": "display_data"
    },
    {
     "data": {
      "text/latex": [
       "\\nabla f_{custo} = \\frac{\\partial E}{\\partial Y} = \n",
       "\\begin{bmatrix}\n",
       "  0.14023749 & -0.15616071\\\\\n",
       "\\end{bmatrix}"
      ],
      "text/plain": [
       "<IPython.core.display.Latex object>"
      ]
     },
     "metadata": {},
     "output_type": "display_data"
    },
    {
     "data": {
      "text/latex": [
       "Camada: 1"
      ],
      "text/plain": [
       "<IPython.core.display.Latex object>"
      ]
     },
     "metadata": {},
     "output_type": "display_data"
    },
    {
     "data": {
      "text/latex": [
       "\\nabla = \\frac{\\partial E}{\\partial Y} \\frac{\\partial Y}{\\partial X}"
      ],
      "text/plain": [
       "<IPython.core.display.Latex object>"
      ]
     },
     "metadata": {},
     "output_type": "display_data"
    },
    {
     "data": {
      "text/latex": [
       "\\begin{gather}\n",
       "\\begin{bmatrix}\n",
       "  2.56984909e-02 & 5.57770430e-05\\\\\n",
       "\\end{bmatrix} = \\sigma(\n",
       "\\begin{bmatrix}\n",
       "  -3.63528854 & -9.79409241\\\\\n",
       "\\end{bmatrix}) \\end{gather}"
      ],
      "text/plain": [
       "<IPython.core.display.Latex object>"
      ]
     },
     "metadata": {},
     "output_type": "display_data"
    },
    {
     "data": {
      "text/latex": [
       "\\nabla f_{custo} = \\frac{\\partial E}{\\partial Y} = \n",
       "\\begin{bmatrix}\n",
       "  3.51127724e-03 & -8.70969701e-06\\\\\n",
       "\\end{bmatrix}"
      ],
      "text/plain": [
       "<IPython.core.display.Latex object>"
      ]
     },
     "metadata": {},
     "output_type": "display_data"
    },
    {
     "data": {
      "text/latex": [
       "Camada: 0"
      ],
      "text/plain": [
       "<IPython.core.display.Latex object>"
      ]
     },
     "metadata": {},
     "output_type": "display_data"
    },
    {
     "data": {
      "text/latex": [
       "W = W - \\lambda (X \\cdot \\nabla f_{custo})"
      ],
      "text/plain": [
       "<IPython.core.display.Latex object>"
      ]
     },
     "metadata": {},
     "output_type": "display_data"
    },
    {
     "data": {
      "text/latex": [
       "\\begin{gather}\n",
       "\\begin{bmatrix}\n",
       "  -2.94860752 & -4.5222333\\\\\n",
       "  3.0430239 & 6.52999593\\\\\n",
       "\\end{bmatrix} = \n",
       "\\begin{bmatrix}\n",
       "  -2.94685188 & -4.52223766\\\\\n",
       "  3.0430239 & 6.52999593\\\\\n",
       "\\end{bmatrix} - 0.5\n",
       "\\begin{bmatrix}\n",
       "  1\\\\\n",
       "  0\\\\\n",
       "\\end{bmatrix} \\cdot \n",
       "\\begin{bmatrix}\n",
       "  3.51127724e-03 & -8.70969701e-06\\\\\n",
       "\\end{bmatrix}\\end{gather}"
      ],
      "text/plain": [
       "<IPython.core.display.Latex object>"
      ]
     },
     "metadata": {},
     "output_type": "display_data"
    },
    {
     "data": {
      "text/latex": [
       "Camada: 0"
      ],
      "text/plain": [
       "<IPython.core.display.Latex object>"
      ]
     },
     "metadata": {},
     "output_type": "display_data"
    },
    {
     "data": {
      "text/latex": [
       "Y = Xw + b"
      ],
      "text/plain": [
       "<IPython.core.display.Latex object>"
      ]
     },
     "metadata": {},
     "output_type": "display_data"
    },
    {
     "data": {
      "text/latex": [
       "\\begin{gather}\n",
       "\\begin{bmatrix}\n",
       "  -0.59577593 & -3.26408777\\\\\n",
       "\\end{bmatrix} = \n",
       "\\begin{bmatrix}\n",
       "  1 & 1\\\\\n",
       "\\end{bmatrix} \\cdot \n",
       "\\begin{bmatrix}\n",
       "  -2.94860752 & -4.5222333\\\\\n",
       "  3.0430239 & 6.52999593\\\\\n",
       "\\end{bmatrix} + \n",
       "\\begin{bmatrix}\n",
       "  -0.6901923 & -5.2718504\\\\\n",
       "\\end{bmatrix}\\end{gather}"
      ],
      "text/plain": [
       "<IPython.core.display.Latex object>"
      ]
     },
     "metadata": {},
     "output_type": "display_data"
    },
    {
     "data": {
      "text/latex": [
       "Camada: 1"
      ],
      "text/plain": [
       "<IPython.core.display.Latex object>"
      ]
     },
     "metadata": {},
     "output_type": "display_data"
    },
    {
     "data": {
      "text/latex": [
       "Y = \\sigma(X)"
      ],
      "text/plain": [
       "<IPython.core.display.Latex object>"
      ]
     },
     "metadata": {},
     "output_type": "display_data"
    },
    {
     "data": {
      "text/latex": [
       "\\begin{gather}\n",
       "\\begin{bmatrix}\n",
       "  0.35531069 & 0.03682395\\\\\n",
       "\\end{bmatrix} = \\sigma(\n",
       "\\begin{bmatrix}\n",
       "  -0.59577593 & -3.26408777\\\\\n",
       "\\end{bmatrix}) \\end{gather}"
      ],
      "text/plain": [
       "<IPython.core.display.Latex object>"
      ]
     },
     "metadata": {},
     "output_type": "display_data"
    },
    {
     "data": {
      "text/latex": [
       "Camada: 2"
      ],
      "text/plain": [
       "<IPython.core.display.Latex object>"
      ]
     },
     "metadata": {},
     "output_type": "display_data"
    },
    {
     "data": {
      "text/latex": [
       "Y = Xw + b"
      ],
      "text/plain": [
       "<IPython.core.display.Latex object>"
      ]
     },
     "metadata": {},
     "output_type": "display_data"
    },
    {
     "data": {
      "text/latex": [
       "\\begin{gather}\n",
       "\\begin{bmatrix}\n",
       "  -0.01000619\\\\\n",
       "\\end{bmatrix} = \n",
       "\\begin{bmatrix}\n",
       "  0.35531069 & 0.03682395\\\\\n",
       "\\end{bmatrix} \\cdot \n",
       "\\begin{bmatrix}\n",
       "  -3.49895511\\\\\n",
       "  3.89681745\\\\\n",
       "\\end{bmatrix} + \n",
       "\\begin{bmatrix}\n",
       "  1.08971375\\\\\n",
       "\\end{bmatrix}\\end{gather}"
      ],
      "text/plain": [
       "<IPython.core.display.Latex object>"
      ]
     },
     "metadata": {},
     "output_type": "display_data"
    },
    {
     "data": {
      "text/latex": [
       "f_{custo}(\n",
       "\\begin{bmatrix}\n",
       "  0\\\\\n",
       "\\end{bmatrix},\n",
       "\\begin{bmatrix}\n",
       "  -0.01000619\\\\\n",
       "\\end{bmatrix}) = \n",
       "\\begin{bmatrix}\n",
       "  0.00010012390735980451\\\\\n",
       "\\end{bmatrix}"
      ],
      "text/plain": [
       "<IPython.core.display.Latex object>"
      ]
     },
     "metadata": {},
     "output_type": "display_data"
    },
    {
     "data": {
      "text/latex": [
       "\\nabla f_{custo} = \\frac{\\partial E}{\\partial Y} = \n",
       "\\begin{bmatrix}\n",
       "  -0.02001239\\\\\n",
       "\\end{bmatrix}"
      ],
      "text/plain": [
       "<IPython.core.display.Latex object>"
      ]
     },
     "metadata": {},
     "output_type": "display_data"
    },
    {
     "data": {
      "text/latex": [
       "Camada: 2"
      ],
      "text/plain": [
       "<IPython.core.display.Latex object>"
      ]
     },
     "metadata": {},
     "output_type": "display_data"
    },
    {
     "data": {
      "text/latex": [
       "W = W - \\lambda (X \\cdot \\nabla f_{custo})"
      ],
      "text/plain": [
       "<IPython.core.display.Latex object>"
      ]
     },
     "metadata": {},
     "output_type": "display_data"
    },
    {
     "data": {
      "text/latex": [
       "\\begin{gather}\n",
       "\\begin{bmatrix}\n",
       "  -3.4953998\\\\\n",
       "  3.89718592\\\\\n",
       "\\end{bmatrix} = \n",
       "\\begin{bmatrix}\n",
       "  -3.49895511\\\\\n",
       "  3.89681745\\\\\n",
       "\\end{bmatrix} - 0.5\n",
       "\\begin{bmatrix}\n",
       "  0.35531069\\\\\n",
       "  0.03682395\\\\\n",
       "\\end{bmatrix} \\cdot \n",
       "\\begin{bmatrix}\n",
       "  -0.02001239\\\\\n",
       "\\end{bmatrix}\\end{gather}"
      ],
      "text/plain": [
       "<IPython.core.display.Latex object>"
      ]
     },
     "metadata": {},
     "output_type": "display_data"
    },
    {
     "data": {
      "text/latex": [
       "\\nabla f_{custo} = \\frac{\\partial E}{\\partial Y} = \n",
       "\\begin{bmatrix}\n",
       "  0.07002244 & -0.07798462\\\\\n",
       "\\end{bmatrix}"
      ],
      "text/plain": [
       "<IPython.core.display.Latex object>"
      ]
     },
     "metadata": {},
     "output_type": "display_data"
    },
    {
     "data": {
      "text/latex": [
       "Camada: 1"
      ],
      "text/plain": [
       "<IPython.core.display.Latex object>"
      ]
     },
     "metadata": {},
     "output_type": "display_data"
    },
    {
     "data": {
      "text/latex": [
       "\\nabla = \\frac{\\partial E}{\\partial Y} \\frac{\\partial Y}{\\partial X}"
      ],
      "text/plain": [
       "<IPython.core.display.Latex object>"
      ]
     },
     "metadata": {},
     "output_type": "display_data"
    },
    {
     "data": {
      "text/latex": [
       "\\begin{gather}\n",
       "\\begin{bmatrix}\n",
       "  0.35531069 & 0.03682395\\\\\n",
       "\\end{bmatrix} = \\sigma(\n",
       "\\begin{bmatrix}\n",
       "  -0.59577593 & -3.26408777\\\\\n",
       "\\end{bmatrix}) \\end{gather}"
      ],
      "text/plain": [
       "<IPython.core.display.Latex object>"
      ]
     },
     "metadata": {},
     "output_type": "display_data"
    },
    {
     "data": {
      "text/latex": [
       "\\nabla f_{custo} = \\frac{\\partial E}{\\partial Y} = \n",
       "\\begin{bmatrix}\n",
       "  0.01603969 & -0.00276595\\\\\n",
       "\\end{bmatrix}"
      ],
      "text/plain": [
       "<IPython.core.display.Latex object>"
      ]
     },
     "metadata": {},
     "output_type": "display_data"
    },
    {
     "data": {
      "text/latex": [
       "Camada: 0"
      ],
      "text/plain": [
       "<IPython.core.display.Latex object>"
      ]
     },
     "metadata": {},
     "output_type": "display_data"
    },
    {
     "data": {
      "text/latex": [
       "W = W - \\lambda (X \\cdot \\nabla f_{custo})"
      ],
      "text/plain": [
       "<IPython.core.display.Latex object>"
      ]
     },
     "metadata": {},
     "output_type": "display_data"
    },
    {
     "data": {
      "text/latex": [
       "\\begin{gather}\n",
       "\\begin{bmatrix}\n",
       "  -2.95662737 & -4.52085033\\\\\n",
       "  3.03500405 & 6.53137891\\\\\n",
       "\\end{bmatrix} = \n",
       "\\begin{bmatrix}\n",
       "  -2.94860752 & -4.5222333\\\\\n",
       "  3.0430239 & 6.52999593\\\\\n",
       "\\end{bmatrix} - 0.5\n",
       "\\begin{bmatrix}\n",
       "  1\\\\\n",
       "  1\\\\\n",
       "\\end{bmatrix} \\cdot \n",
       "\\begin{bmatrix}\n",
       "  0.01603969 & -0.00276595\\\\\n",
       "\\end{bmatrix}\\end{gather}"
      ],
      "text/plain": [
       "<IPython.core.display.Latex object>"
      ]
     },
     "metadata": {},
     "output_type": "display_data"
    }
   ],
   "source": [
    "from IPython.display import Latex\n",
    "\n",
    "rede_exemplo_XOR.treinar(\n",
    "    vetor_x_exemplo_XOR,\n",
    "    vetor_y_esperado_exemplo_XOR,\n",
    "    max_n_iteracoes=1000,\n",
    "    taxa_aprendizado=0.5,\n",
    ")\n",
    "\n",
    "\n",
    "for iteracao_log in rede_exemplo_XOR.logs[0:1]:\n",
    "    for log in iteracao_log:\n",
    "        display(Latex(log))\n",
    "\n",
    "display(Latex(r'Última \\quad iteração:'))\n",
    "\n",
    "for log in rede_exemplo_XOR.logs[-1]:\n",
    "    display(Latex(log))"
   ]
  },
  {
   "cell_type": "markdown",
   "metadata": {},
   "source": [
    "### Validação"
   ]
  },
  {
   "cell_type": "code",
   "execution_count": 45,
   "metadata": {},
   "outputs": [
    {
     "data": {
      "text/latex": [
       "\\begin{gather}X=\n",
       "\\begin{bmatrix}\n",
       "  0 & 0\\\\\n",
       "  0 & 1\\\\\n",
       "  1 & 0\\\\\n",
       "  1 & 1\\\\\n",
       "\\end{bmatrix}\\rightarrow\n",
       "\\begin{bmatrix}\n",
       "  -0.04154866\\\\\n",
       "  0.94896046\\\\\n",
       "  1.01180671\\\\\n",
       "  0.02104749\\\\\n",
       "\\end{bmatrix}\\end{gather}"
      ],
      "text/plain": [
       "<IPython.core.display.Latex object>"
      ]
     },
     "execution_count": 45,
     "metadata": {},
     "output_type": "execute_result"
    }
   ],
   "source": [
    "from utils import array_to_latex\n",
    "from IPython.display import Latex\n",
    "\n",
    "validacao_exemplo_XOR = rede_exemplo_XOR.predict(vetor_x_exemplo_XOR)\n",
    "validacao_exemplo_XOR = np.asarray(validacao_exemplo_XOR) \\\n",
    "                          .reshape(4, 1)\n",
    "\n",
    "Latex(r'\\begin{gather}' +\n",
    "      array_to_latex(vetor_x_exemplo_XOR.reshape(4,2), 'X=') +\n",
    "      r'\\rightarrow' +\n",
    "      array_to_latex(validacao_exemplo_XOR, '') +\n",
    "      r'\\end{gather}')"
   ]
  },
  {
   "cell_type": "markdown",
   "metadata": {},
   "source": [
    "## Exemplo: Display de 7 Segmentos\n",
    "\n",
    "### Entradas e Saídas Esperadas"
   ]
  },
  {
   "cell_type": "code",
   "execution_count": 46,
   "metadata": {},
   "outputs": [
    {
     "data": {
      "text/html": [
       "<div>\n",
       "<style scoped>\n",
       "    .dataframe tbody tr th:only-of-type {\n",
       "        vertical-align: middle;\n",
       "    }\n",
       "\n",
       "    .dataframe tbody tr th {\n",
       "        vertical-align: top;\n",
       "    }\n",
       "\n",
       "    .dataframe thead th {\n",
       "        text-align: right;\n",
       "    }\n",
       "</style>\n",
       "<table border=\"1\" class=\"dataframe\">\n",
       "  <thead>\n",
       "    <tr style=\"text-align: right;\">\n",
       "      <th></th>\n",
       "      <th>A</th>\n",
       "      <th>B</th>\n",
       "      <th>C</th>\n",
       "      <th>D</th>\n",
       "      <th>E</th>\n",
       "      <th>F</th>\n",
       "      <th>G</th>\n",
       "    </tr>\n",
       "  </thead>\n",
       "  <tbody>\n",
       "    <tr>\n",
       "      <th>0</th>\n",
       "      <td>1</td>\n",
       "      <td>1</td>\n",
       "      <td>1</td>\n",
       "      <td>1</td>\n",
       "      <td>1</td>\n",
       "      <td>1</td>\n",
       "      <td>0</td>\n",
       "    </tr>\n",
       "    <tr>\n",
       "      <th>1</th>\n",
       "      <td>0</td>\n",
       "      <td>1</td>\n",
       "      <td>1</td>\n",
       "      <td>0</td>\n",
       "      <td>0</td>\n",
       "      <td>0</td>\n",
       "      <td>0</td>\n",
       "    </tr>\n",
       "    <tr>\n",
       "      <th>2</th>\n",
       "      <td>1</td>\n",
       "      <td>1</td>\n",
       "      <td>0</td>\n",
       "      <td>1</td>\n",
       "      <td>1</td>\n",
       "      <td>0</td>\n",
       "      <td>1</td>\n",
       "    </tr>\n",
       "    <tr>\n",
       "      <th>3</th>\n",
       "      <td>1</td>\n",
       "      <td>1</td>\n",
       "      <td>1</td>\n",
       "      <td>1</td>\n",
       "      <td>0</td>\n",
       "      <td>0</td>\n",
       "      <td>1</td>\n",
       "    </tr>\n",
       "    <tr>\n",
       "      <th>4</th>\n",
       "      <td>0</td>\n",
       "      <td>1</td>\n",
       "      <td>1</td>\n",
       "      <td>0</td>\n",
       "      <td>0</td>\n",
       "      <td>1</td>\n",
       "      <td>1</td>\n",
       "    </tr>\n",
       "    <tr>\n",
       "      <th>5</th>\n",
       "      <td>1</td>\n",
       "      <td>0</td>\n",
       "      <td>1</td>\n",
       "      <td>1</td>\n",
       "      <td>0</td>\n",
       "      <td>1</td>\n",
       "      <td>1</td>\n",
       "    </tr>\n",
       "    <tr>\n",
       "      <th>6</th>\n",
       "      <td>0</td>\n",
       "      <td>0</td>\n",
       "      <td>1</td>\n",
       "      <td>1</td>\n",
       "      <td>1</td>\n",
       "      <td>1</td>\n",
       "      <td>1</td>\n",
       "    </tr>\n",
       "    <tr>\n",
       "      <th>7</th>\n",
       "      <td>1</td>\n",
       "      <td>1</td>\n",
       "      <td>1</td>\n",
       "      <td>0</td>\n",
       "      <td>0</td>\n",
       "      <td>0</td>\n",
       "      <td>0</td>\n",
       "    </tr>\n",
       "    <tr>\n",
       "      <th>8</th>\n",
       "      <td>1</td>\n",
       "      <td>1</td>\n",
       "      <td>1</td>\n",
       "      <td>1</td>\n",
       "      <td>1</td>\n",
       "      <td>1</td>\n",
       "      <td>1</td>\n",
       "    </tr>\n",
       "    <tr>\n",
       "      <th>9</th>\n",
       "      <td>1</td>\n",
       "      <td>1</td>\n",
       "      <td>0</td>\n",
       "      <td>0</td>\n",
       "      <td>1</td>\n",
       "      <td>1</td>\n",
       "      <td>1</td>\n",
       "    </tr>\n",
       "  </tbody>\n",
       "</table>\n",
       "</div>"
      ],
      "text/plain": [
       "   A  B  C  D  E  F  G\n",
       "0  1  1  1  1  1  1  0\n",
       "1  0  1  1  0  0  0  0\n",
       "2  1  1  0  1  1  0  1\n",
       "3  1  1  1  1  0  0  1\n",
       "4  0  1  1  0  0  1  1\n",
       "5  1  0  1  1  0  1  1\n",
       "6  0  0  1  1  1  1  1\n",
       "7  1  1  1  0  0  0  0\n",
       "8  1  1  1  1  1  1  1\n",
       "9  1  1  0  0  1  1  1"
      ]
     },
     "metadata": {},
     "output_type": "display_data"
    },
    {
     "data": {
      "text/latex": [
       "\\begin{gather}Y_{esperado}=\n",
       "\\begin{bmatrix}\n",
       "  1 & 0 & 0 & 0 & 0 & 0 & 0 & 0 & 0 & 0\\\\\n",
       "  0 & 1 & 0 & 0 & 0 & 0 & 0 & 0 & 0 & 0\\\\\n",
       "  0 & 0 & 1 & 0 & 0 & 0 & 0 & 0 & 0 & 0\\\\\n",
       "  0 & 0 & 0 & 1 & 0 & 0 & 0 & 0 & 0 & 0\\\\\n",
       "  0 & 0 & 0 & 0 & 1 & 0 & 0 & 0 & 0 & 0\\\\\n",
       "  0 & 0 & 0 & 0 & 0 & 1 & 0 & 0 & 0 & 0\\\\\n",
       "  0 & 0 & 0 & 0 & 0 & 0 & 1 & 0 & 0 & 0\\\\\n",
       "  0 & 0 & 0 & 0 & 0 & 0 & 0 & 1 & 0 & 0\\\\\n",
       "  0 & 0 & 0 & 0 & 0 & 0 & 0 & 0 & 1 & 0\\\\\n",
       "  0 & 0 & 0 & 0 & 0 & 0 & 0 & 0 & 0 & 1\\\\\n",
       "\\end{bmatrix}\\end{gather}"
      ],
      "text/plain": [
       "<IPython.core.display.Latex object>"
      ]
     },
     "execution_count": 46,
     "metadata": {},
     "output_type": "execute_result"
    }
   ],
   "source": [
    "import pandas as pd\n",
    "from IPython.display import display, Latex\n",
    "\n",
    "segmentos = ['A', 'B', 'C', 'D', 'E', 'F', 'G']\n",
    "\n",
    "tabela_segmentos_digitos = pd.DataFrame([\n",
    "    #A, B, C, D, E, F, G\n",
    "    [1, 1, 1, 1, 1, 1, 0],\n",
    "    [0, 1, 1, 0, 0, 0, 0],\n",
    "    [1, 1, 0, 1, 1, 0, 1],\n",
    "    [1, 1, 1, 1, 0, 0, 1],\n",
    "    [0, 1, 1, 0, 0, 1, 1],\n",
    "    [1, 0, 1, 1, 0, 1, 1],\n",
    "    [0, 0, 1, 1, 1, 1, 1],\n",
    "    [1, 1, 1, 0, 0, 0, 0],\n",
    "    [1, 1, 1, 1, 1, 1, 1],\n",
    "    [1, 1, 0, 0, 1, 1, 1],\n",
    "], columns=segmentos)\n",
    "\n",
    "display(tabela_segmentos_digitos)\n",
    "\n",
    "vetor_y_esperado_exemplo_segmentos = np.array(\n",
    "    [\n",
    "        [[1, 0, 0, 0, 0, 0, 0, 0, 0, 0]],\n",
    "        [[0, 1, 0, 0, 0, 0, 0, 0, 0, 0]],\n",
    "        [[0, 0, 1, 0, 0, 0, 0, 0, 0, 0]],\n",
    "        [[0, 0, 0, 1, 0, 0, 0, 0, 0, 0]],\n",
    "        [[0, 0, 0, 0, 1, 0, 0, 0, 0, 0]],\n",
    "        [[0, 0, 0, 0, 0, 1, 0, 0, 0, 0]],\n",
    "        [[0, 0, 0, 0, 0, 0, 1, 0, 0, 0]],\n",
    "        [[0, 0, 0, 0, 0, 0, 0, 1, 0, 0]],\n",
    "        [[0, 0, 0, 0, 0, 0, 0, 0, 1, 0]],\n",
    "        [[0, 0, 0, 0, 0, 0, 0, 0, 0, 1]],\n",
    "    ]\n",
    ")\n",
    "\n",
    "Latex(r\"\\begin{gather}\" +\n",
    "      array_to_latex(vetor_y_esperado_exemplo_segmentos.reshape(10, 10), r\"Y_{esperado}=\") +\n",
    "      r\"\\end{gather}\")"
   ]
  },
  {
   "cell_type": "markdown",
   "metadata": {},
   "source": [
    "### Rede"
   ]
  },
  {
   "cell_type": "code",
   "execution_count": 47,
   "metadata": {},
   "outputs": [],
   "source": [
    "vetor_x_exemplo_segmentos = tabela_segmentos_digitos.values.reshape((10, 1, 7))\n",
    "\n",
    "rede_exemplo_display = RedeNeural(erro_quadratico_medio, derivada_erro_quadratico_medio)\n",
    "rede_exemplo_display.add(FCLayer(7, 14))\n",
    "rede_exemplo_display.add(ActivationLayer(sigmoide, derivada_sigmoide))\n",
    "rede_exemplo_display.add(FCLayer(14, 10))\n"
   ]
  },
  {
   "cell_type": "markdown",
   "metadata": {},
   "source": [
    "### Treinamento"
   ]
  },
  {
   "cell_type": "code",
   "execution_count": 48,
   "metadata": {},
   "outputs": [
    {
     "name": "stdout",
     "output_type": "stream",
     "text": [
      "Iteração 1/1000   MédiaErro=9.628862\n",
      "Iteração 2/1000   MédiaErro=0.174403\n",
      "Iteração 3/1000   MédiaErro=0.160049\n",
      "Iteração 4/1000   MédiaErro=0.149353\n",
      "Iteração 5/1000   MédiaErro=0.140920\n",
      "Iteração 10/1000   MédiaErro=0.114536\n",
      "Iteração 100/1000   MédiaErro=0.034680\n",
      "Iteração 184/1000 MédiaErro=0.009828\n"
     ]
    },
    {
     "data": {
      "text/latex": [
       "Camada: 0"
      ],
      "text/plain": [
       "<IPython.core.display.Latex object>"
      ]
     },
     "metadata": {},
     "output_type": "display_data"
    },
    {
     "data": {
      "text/latex": [
       "Y = Xw + b"
      ],
      "text/plain": [
       "<IPython.core.display.Latex object>"
      ]
     },
     "metadata": {},
     "output_type": "display_data"
    },
    {
     "data": {
      "text/latex": [
       "\\begin{gather}\n",
       "\\begin{bmatrix}\n",
       "  2.99108444 & 4.01421317 & 4.10954298 & 4.36203063 & 2.91151609 & 3.71681684\\\\\n",
       "  2.38354585 & 2.83402809 & 4.96935545 & 3.07338669 & 3.80563372 & 2.41887929\\\\\n",
       "  4.41824886 & 3.1555902\\\\\n",
       "\\end{bmatrix} = \n",
       "\\begin{bmatrix}\n",
       "  1 & 1 & 1 & 1 & 1 & 1 & 0\\\\\n",
       "\\end{bmatrix} \\cdot \n",
       "\\begin{bmatrix}\n",
       "  0.08914174 & 0.45294087 & 0.45397282 & 0.80671088 & 0.01942211 & 0.50369203\\\\\n",
       "  0.23646303 & 0.6771105 & 0.83371902 & 0.53572192 & 0.38806578 & 0.65010315\\\\\n",
       "  0.53031432 & 0.33789742\\\\\n",
       "  0.14288212 & 0.91208502 & 0.83529832 & 0.34259594 & 0.51082488 & 0.3491693\\\\\n",
       "  0.14866793 & 0.86727619 & 0.99507233 & 0.76368524 & 0.64183758 & 0.24035003\\\\\n",
       "  0.98811869 & 0.82804961\\\\\n",
       "  0.49672183 & 0.61115022 & 0.93499001 & 0.29293357 & 0.21289935 & 0.69307141\\\\\n",
       "  0.90879677 & 0.55307582 & 0.50129607 & 0.40589423 & 0.72163186 & 0.09262195\\\\\n",
       "  0.43728412 & 0.89150045\\\\\n",
       "  0.46546112 & 0.44440386 & 0.90115064 & 0.62828591 & 0.6826425 & 0.08477025\\\\\n",
       "  0.01819644 & 0.19762134 & 0.65987864 & 0.29002063 & 0.23611141 & 0.46146559\\\\\n",
       "  0.68718122 & 0.12815806\\\\\n",
       "  0.95690369 & 0.10897712 & 0.26676497 & 0.93440708 & 0.68280715 & 0.96772979\\\\\n",
       "  0.34322014 & 0.1494595 & 0.57265847 & 0.08953291 & 0.64879392 & 0.27081331\\\\\n",
       "  0.66989966 & 0.39019908\\\\\n",
       "  0.08923143 & 0.52981822 & 0.24200362 & 0.81590003 & 0.03175805 & 0.87476839\\\\\n",
       "  0.20014047 & 0.35826802 & 0.42943456 & 0.57786035 & 0.66207107 & 0.6751028\\\\\n",
       "  0.48538797 & 0.1021485\\\\\n",
       "  0.37706911 & 0.16887675 & 0.5258069 & 0.93209405 & 0.78387831 & 0.76564175\\\\\n",
       "  0.06332383 & 0.38659299 & 0.85460912 & 0.74408787 & 0.11331849 & 0.33666824\\\\\n",
       "  0.21017306 & 0.78062085\\\\\n",
       "\\end{bmatrix} + \n",
       "\\begin{bmatrix}\n",
       "  0.7507425 & 0.95483787 & 0.47536261 & 0.54119724 & 0.77116205 & 0.24361567\\\\\n",
       "  0.52806107 & 0.03121672 & 0.97729635 & 0.41067141 & 0.50712211 & 0.02842245\\\\\n",
       "  0.62006289 & 0.47763708\\\\\n",
       "\\end{bmatrix}\\end{gather}"
      ],
      "text/plain": [
       "<IPython.core.display.Latex object>"
      ]
     },
     "metadata": {},
     "output_type": "display_data"
    },
    {
     "data": {
      "text/latex": [
       "Camada: 1"
      ],
      "text/plain": [
       "<IPython.core.display.Latex object>"
      ]
     },
     "metadata": {},
     "output_type": "display_data"
    },
    {
     "data": {
      "text/latex": [
       "Y = \\sigma(X)"
      ],
      "text/plain": [
       "<IPython.core.display.Latex object>"
      ]
     },
     "metadata": {},
     "output_type": "display_data"
    },
    {
     "data": {
      "text/latex": [
       "\\begin{gather}\n",
       "\\begin{bmatrix}\n",
       "  0.95216972 & 0.98226312 & 0.98384983 & 0.98740811 & 0.94841279 & 0.97626578\\\\\n",
       "  0.91556396 & 0.94448718 & 0.99310031 & 0.95578153 & 0.97823898 & 0.91825566\\\\\n",
       "  0.98808828 & 0.95912843\\\\\n",
       "\\end{bmatrix} = \\sigma(\n",
       "\\begin{bmatrix}\n",
       "  2.99108444 & 4.01421317 & 4.10954298 & 4.36203063 & 2.91151609 & 3.71681684\\\\\n",
       "  2.38354585 & 2.83402809 & 4.96935545 & 3.07338669 & 3.80563372 & 2.41887929\\\\\n",
       "  4.41824886 & 3.1555902\\\\\n",
       "\\end{bmatrix}) \\end{gather}"
      ],
      "text/plain": [
       "<IPython.core.display.Latex object>"
      ]
     },
     "metadata": {},
     "output_type": "display_data"
    },
    {
     "data": {
      "text/latex": [
       "Camada: 2"
      ],
      "text/plain": [
       "<IPython.core.display.Latex object>"
      ]
     },
     "metadata": {},
     "output_type": "display_data"
    },
    {
     "data": {
      "text/latex": [
       "Y = Xw + b"
      ],
      "text/plain": [
       "<IPython.core.display.Latex object>"
      ]
     },
     "metadata": {},
     "output_type": "display_data"
    },
    {
     "data": {
      "text/latex": [
       "\\begin{gather}\n",
       "\\begin{bmatrix}\n",
       "  8.72511512 & 7.466461 & 8.22919736 & 7.8344322 & 8.62528535 & 6.2116263\\\\\n",
       "  7.84771839 & 8.64133107 & 7.11971162 & 6.79238879\\\\\n",
       "\\end{bmatrix} = \n",
       "\\begin{bmatrix}\n",
       "  0.95216972 & 0.98226312 & 0.98384983 & 0.98740811 & 0.94841279 & 0.97626578\\\\\n",
       "  0.91556396 & 0.94448718 & 0.99310031 & 0.95578153 & 0.97823898 & 0.91825566\\\\\n",
       "  0.98808828 & 0.95912843\\\\\n",
       "\\end{bmatrix} \\cdot \n",
       "\\begin{bmatrix}\n",
       "  0.62248244 & 0.06331032 & 0.55445512 & 0.87824033 & 0.68480671 & 0.04508937\\\\\n",
       "  0.13003293 & 0.32810814 & 0.80098119 & 0.11614575\\\\\n",
       "  0.36630982 & 0.17838404 & 0.11277302 & 0.23952193 & 0.60643526 & 0.36375165\\\\\n",
       "  0.53790569 & 0.65272755 & 0.34678814 & 0.77530151\\\\\n",
       "  0.40176875 & 0.61551464 & 0.55546576 & 0.96008934 & 0.1958405 & 0.10301741\\\\\n",
       "  0.41301693 & 0.81228014 & 0.78674685 & 0.6672596\\\\\n",
       "  0.51237889 & 0.69525211 & 0.86322232 & 0.50280688 & 0.13009151 & 0.91792173\\\\\n",
       "  0.94410812 & 0.31080571 & 0.90058121 & 0.70459231\\\\\n",
       "  0.3135137 & 0.9695658 & 0.22887585 & 0.69461755 & 0.81820424 & 0.51204277\\\\\n",
       "  0.7947002 & 0.5458896 & 0.03453806 & 0.02066542\\\\\n",
       "  0.96860209 & 0.45704566 & 0.92948531 & 0.61878418 & 0.73942045 & 0.94735563\\\\\n",
       "  0.47677019 & 0.33478743 & 0.29335393 & 0.35660611\\\\\n",
       "  0.55185864 & 0.85864923 & 0.98958034 & 0.03392892 & 0.45460695 & 0.33265212\\\\\n",
       "  0.16167904 & 0.53121681 & 0.26055845 & 0.11647881\\\\\n",
       "  0.78265333 & 0.79390614 & 0.78737741 & 0.86159572 & 0.575178 & 0.03687968\\\\\n",
       "  0.35699368 & 0.91919328 & 0.91761569 & 0.67557435\\\\\n",
       "  0.67606124 & 0.42113041 & 0.76269217 & 0.84326214 & 0.99754352 & 0.24302165\\\\\n",
       "  0.85629616 & 0.93441956 & 0.21823991 & 0.840675\\\\\n",
       "  0.87843233 & 0.99817988 & 0.15534264 & 0.05531389 & 0.61149247 & 0.73413985\\\\\n",
       "  0.85741638 & 0.7441963 & 0.03973364 & 0.24424447\\\\\n",
       "  0.38471292 & 0.11985417 & 0.48873537 & 0.72520326 & 0.14601588 & 0.40745413\\\\\n",
       "  0.53195506 & 0.47393411 & 0.78693228 & 0.45563569\\\\\n",
       "  0.43017459 & 0.68960779 & 0.91787244 & 0.51761025 & 0.4245628 & 0.65486147\\\\\n",
       "  0.70609742 & 0.74723762 & 0.95614266 & 0.72096617\\\\\n",
       "  0.71755472 & 0.54796114 & 0.38663668 & 0.71263276 & 0.63978902 & 0.05837375\\\\\n",
       "  0.85017172 & 0.68272398 & 0.02117694 & 0.54418675\\\\\n",
       "  0.63407211 & 0.02213148 & 0.81987293 & 0.1000396 & 0.913664 & 0.72660322\\\\\n",
       "  0.00698439 & 0.63254861 & 0.52962814 & 0.63049101\\\\\n",
       "\\end{bmatrix} + \n",
       "\\begin{bmatrix}\n",
       "  0.78446354 & 0.3517483 & 0.02221653 & 0.33902584 & 0.98278809 & 0.35625707\\\\\n",
       "  0.46722022 & 0.31228872 & 0.49733238 & 0.13709081\\\\\n",
       "\\end{bmatrix}\\end{gather}"
      ],
      "text/plain": [
       "<IPython.core.display.Latex object>"
      ]
     },
     "metadata": {},
     "output_type": "display_data"
    },
    {
     "data": {
      "text/latex": [
       "f_{custo}(\n",
       "\\begin{bmatrix}\n",
       "  1 & 0 & 0 & 0 & 0 & 0 & 0 & 0 & 0 & 0\\\\\n",
       "\\end{bmatrix},\n",
       "\\begin{bmatrix}\n",
       "  8.72511512 & 7.466461 & 8.22919736 & 7.8344322 & 8.62528535 & 6.2116263\\\\\n",
       "  7.84771839 & 8.64133107 & 7.11971162 & 6.79238879\\\\\n",
       "\\end{bmatrix}) = \n",
       "\\begin{bmatrix}\n",
       "  59.05894350333957\\\\\n",
       "\\end{bmatrix}"
      ],
      "text/plain": [
       "<IPython.core.display.Latex object>"
      ]
     },
     "metadata": {},
     "output_type": "display_data"
    },
    {
     "data": {
      "text/latex": [
       "\\nabla f_{custo} = \\frac{\\partial E}{\\partial Y} = \n",
       "\\begin{bmatrix}\n",
       "  1.54502302 & 1.4932922 & 1.64583947 & 1.56688644 & 1.72505707 & 1.24232526\\\\\n",
       "  1.56954368 & 1.72826621 & 1.42394232 & 1.35847776\\\\\n",
       "\\end{bmatrix}"
      ],
      "text/plain": [
       "<IPython.core.display.Latex object>"
      ]
     },
     "metadata": {},
     "output_type": "display_data"
    },
    {
     "data": {
      "text/latex": [
       "Camada: 2"
      ],
      "text/plain": [
       "<IPython.core.display.Latex object>"
      ]
     },
     "metadata": {},
     "output_type": "display_data"
    },
    {
     "data": {
      "text/latex": [
       "W = W - \\lambda (X \\cdot \\nabla f_{custo})"
      ],
      "text/plain": [
       "<IPython.core.display.Latex object>"
      ]
     },
     "metadata": {},
     "output_type": "display_data"
    },
    {
     "data": {
      "text/latex": [
       "\\begin{gather}\n",
       "\\begin{bmatrix}\n",
       "  -4.07304461e-01 & -9.31997014e-01 & -5.42527839e-01 & -1.66118950e-01\\\\\n",
       "  -4.64976265e-01 & -7.82943774e-01 & -9.16097450e-01 & -8.23813790e-01\\\\\n",
       "  -1.48103151e-01 & -7.89305223e-01\\\\\n",
       "  -6.96023577e-01 & -8.48380061e-01 & -1.01888018e+00 & -8.37844405e-01\\\\\n",
       "  -5.79686698e-01 & -4.90451556e-01 & -5.41287721e-01 & -5.35600965e-01\\\\\n",
       "  -6.32292083e-01 & -1.58766309e-01\\\\\n",
       "  -6.62280706e-01 & -4.12908056e-01 & -5.78015462e-01 & -1.19017333e-01\\\\\n",
       "  -9.92197478e-01 & -7.52565643e-01 & -6.67919769e-01 & -3.77967961e-01\\\\\n",
       "  -1.93914940e-01 & -2.68317084e-01\\\\\n",
       "  -5.55518895e-01 & -3.36890075e-01 & -2.74358348e-01 & -5.80202587e-01\\\\\n",
       "  -1.06224323e+00 & 5.92443020e-02 & -1.40737994e-01 & -8.83747146e-01\\\\\n",
       "  -8.36273290e-02 & -2.34368059e-01\\\\\n",
       "  -7.12210020e-01 & -2.18143978e-02 & -8.63778797e-01 & -3.45621050e-01\\\\\n",
       "  -3.27042091e-01 & -3.12723243e-01 & -2.47302512e-01 & -6.01487251e-01\\\\\n",
       "  -9.10801524e-01 & -8.81212957e-01\\\\\n",
       "  -8.72450840e-02 & -5.63449393e-01 & -1.95258415e-01 & -4.52004143e-01\\\\\n",
       "  -4.39459476e-01 & 9.83678844e-02 & -5.95834053e-01 & -8.46285580e-01\\\\\n",
       "  -6.79748383e-01 & -5.71758632e-01\\\\\n",
       "  -4.38338530e-01 & -9.83939299e-02 & -6.52295714e-02 & -9.70280406e-01\\\\\n",
       "  -6.50973099e-01 & -4.63547638e-01 & -8.44233299e-01 & -5.76419968e-01\\\\\n",
       "  -6.52038735e-01 & -7.54162477e-01\\\\\n",
       "  -2.38824775e-01 & -1.93370592e-01 & -3.00754585e-01 & -1.74337187e-01\\\\\n",
       "  -5.65328000e-01 & -7.84472512e-01 & -6.80696040e-01 & -2.23434412e-01\\\\\n",
       "  -2.38110012e-02 & -2.22571024e-01\\\\\n",
       "  -3.97992748e-01 & -6.16961858e-01 & -3.81446416e-01 & -2.45990649e-01\\\\\n",
       "  -2.01664776e-01 & -6.20605874e-01 & -2.34803860e-01 & -2.67019643e-01\\\\\n",
       "  -7.71642390e-01 & -1.03698280e-01\\\\\n",
       "  -1.55260793e-01 & -9.02892135e-04 & -9.45801432e-01 & -9.93006890e-01\\\\\n",
       "  -5.42651906e-01 & -9.70342277e-02 & -1.92682220e-01 & -4.12095144e-01\\\\\n",
       "  -9.12950795e-01 & -6.64641096e-01\\\\\n",
       "  -6.73268301e-01 & -9.02703476e-01 & -6.38281656e-01 & -3.47749315e-01\\\\\n",
       "  -1.03524677e+00 & -4.43249568e-01 & -5.42817104e-01 & -7.09526059e-01\\\\\n",
       "  -1.88136847e-01 & -4.74605437e-01\\\\\n",
       "  -5.62933708e-01 & -2.70249020e-01 & -1.40038545e-01 & -4.89551391e-01\\\\\n",
       "  -6.84267597e-01 & -1.43679068e-01 & -3.02772240e-01 & -3.63655541e-01\\\\\n",
       "  4.08624921e-02 & -1.52234756e-01\\\\\n",
       "  -3.51078676e-01 & -4.84892017e-01 & -7.51727601e-01 & -3.71122729e-01\\\\\n",
       "  -5.53367050e-01 & -8.00895168e-01 & -2.35421678e-01 & -5.12651732e-01\\\\\n",
       "  -9.63709562e-01 & -3.95420409e-01\\\\\n",
       "  -4.03240739e-01 & -9.80449819e-01 & -2.85127070e-01 & -9.51952128e-01\\\\\n",
       "  -2.44521888e-01 & -1.07481410e-01 & -1.04679139e+00 & -5.27791870e-01\\\\\n",
       "  -4.26392351e-01 & -2.81577231e-01\\\\\n",
       "\\end{bmatrix} = \n",
       "\\begin{bmatrix}\n",
       "  0.62248244 & 0.06331032 & 0.55445512 & 0.87824033 & 0.68480671 & 0.04508937\\\\\n",
       "  0.13003293 & 0.32810814 & 0.80098119 & 0.11614575\\\\\n",
       "  0.36630982 & 0.17838404 & 0.11277302 & 0.23952193 & 0.60643526 & 0.36375165\\\\\n",
       "  0.53790569 & 0.65272755 & 0.34678814 & 0.77530151\\\\\n",
       "  0.40176875 & 0.61551464 & 0.55546576 & 0.96008934 & 0.1958405 & 0.10301741\\\\\n",
       "  0.41301693 & 0.81228014 & 0.78674685 & 0.6672596\\\\\n",
       "  0.51237889 & 0.69525211 & 0.86322232 & 0.50280688 & 0.13009151 & 0.91792173\\\\\n",
       "  0.94410812 & 0.31080571 & 0.90058121 & 0.70459231\\\\\n",
       "  0.3135137 & 0.9695658 & 0.22887585 & 0.69461755 & 0.81820424 & 0.51204277\\\\\n",
       "  0.7947002 & 0.5458896 & 0.03453806 & 0.02066542\\\\\n",
       "  0.96860209 & 0.45704566 & 0.92948531 & 0.61878418 & 0.73942045 & 0.94735563\\\\\n",
       "  0.47677019 & 0.33478743 & 0.29335393 & 0.35660611\\\\\n",
       "  0.55185864 & 0.85864923 & 0.98958034 & 0.03392892 & 0.45460695 & 0.33265212\\\\\n",
       "  0.16167904 & 0.53121681 & 0.26055845 & 0.11647881\\\\\n",
       "  0.78265333 & 0.79390614 & 0.78737741 & 0.86159572 & 0.575178 & 0.03687968\\\\\n",
       "  0.35699368 & 0.91919328 & 0.91761569 & 0.67557435\\\\\n",
       "  0.67606124 & 0.42113041 & 0.76269217 & 0.84326214 & 0.99754352 & 0.24302165\\\\\n",
       "  0.85629616 & 0.93441956 & 0.21823991 & 0.840675\\\\\n",
       "  0.87843233 & 0.99817988 & 0.15534264 & 0.05531389 & 0.61149247 & 0.73413985\\\\\n",
       "  0.85741638 & 0.7441963 & 0.03973364 & 0.24424447\\\\\n",
       "  0.38471292 & 0.11985417 & 0.48873537 & 0.72520326 & 0.14601588 & 0.40745413\\\\\n",
       "  0.53195506 & 0.47393411 & 0.78693228 & 0.45563569\\\\\n",
       "  0.43017459 & 0.68960779 & 0.91787244 & 0.51761025 & 0.4245628 & 0.65486147\\\\\n",
       "  0.70609742 & 0.74723762 & 0.95614266 & 0.72096617\\\\\n",
       "  0.71755472 & 0.54796114 & 0.38663668 & 0.71263276 & 0.63978902 & 0.05837375\\\\\n",
       "  0.85017172 & 0.68272398 & 0.02117694 & 0.54418675\\\\\n",
       "  0.63407211 & 0.02213148 & 0.81987293 & 0.1000396 & 0.913664 & 0.72660322\\\\\n",
       "  0.00698439 & 0.63254861 & 0.52962814 & 0.63049101\\\\\n",
       "\\end{bmatrix} - 0.7\n",
       "\\begin{bmatrix}\n",
       "  0.95216972\\\\\n",
       "  0.98226312\\\\\n",
       "  0.98384983\\\\\n",
       "  0.98740811\\\\\n",
       "  0.94841279\\\\\n",
       "  0.97626578\\\\\n",
       "  0.91556396\\\\\n",
       "  0.94448718\\\\\n",
       "  0.99310031\\\\\n",
       "  0.95578153\\\\\n",
       "  0.97823898\\\\\n",
       "  0.91825566\\\\\n",
       "  0.98808828\\\\\n",
       "  0.95912843\\\\\n",
       "\\end{bmatrix} \\cdot \n",
       "\\begin{bmatrix}\n",
       "  1.54502302 & 1.4932922 & 1.64583947 & 1.56688644 & 1.72505707 & 1.24232526\\\\\n",
       "  1.56954368 & 1.72826621 & 1.42394232 & 1.35847776\\\\\n",
       "\\end{bmatrix}\\end{gather}"
      ],
      "text/plain": [
       "<IPython.core.display.Latex object>"
      ]
     },
     "metadata": {},
     "output_type": "display_data"
    },
    {
     "data": {
      "text/latex": [
       "\\nabla f_{custo} = \\frac{\\partial E}{\\partial Y} = \n",
       "\\begin{bmatrix}\n",
       "  6.65176683 & 6.41066945 & 8.5030847 & 9.66171365 & 7.71289627 & 9.35990369\\\\\n",
       "  6.71528718 & 10.45201458 & 10.68441658 & 8.17731278 & 6.86566317 & 10.30265355\\\\\n",
       "  8.13978368 & 7.71247742\\\\\n",
       "\\end{bmatrix}"
      ],
      "text/plain": [
       "<IPython.core.display.Latex object>"
      ]
     },
     "metadata": {},
     "output_type": "display_data"
    },
    {
     "data": {
      "text/latex": [
       "Camada: 1"
      ],
      "text/plain": [
       "<IPython.core.display.Latex object>"
      ]
     },
     "metadata": {},
     "output_type": "display_data"
    },
    {
     "data": {
      "text/latex": [
       "\\nabla = \\frac{\\partial E}{\\partial Y} \\frac{\\partial Y}{\\partial X}"
      ],
      "text/plain": [
       "<IPython.core.display.Latex object>"
      ]
     },
     "metadata": {},
     "output_type": "display_data"
    },
    {
     "data": {
      "text/latex": [
       "\\begin{gather}\n",
       "\\begin{bmatrix}\n",
       "  0.95216972 & 0.98226312 & 0.98384983 & 0.98740811 & 0.94841279 & 0.97626578\\\\\n",
       "  0.91556396 & 0.94448718 & 0.99310031 & 0.95578153 & 0.97823898 & 0.91825566\\\\\n",
       "  0.98808828 & 0.95912843\\\\\n",
       "\\end{bmatrix} = \\sigma(\n",
       "\\begin{bmatrix}\n",
       "  2.99108444 & 4.01421317 & 4.10954298 & 4.36203063 & 2.91151609 & 3.71681684\\\\\n",
       "  2.38354585 & 2.83402809 & 4.96935545 & 3.07338669 & 3.80563372 & 2.41887929\\\\\n",
       "  4.41824886 & 3.1555902\\\\\n",
       "\\end{bmatrix}) \\end{gather}"
      ],
      "text/plain": [
       "<IPython.core.display.Latex object>"
      ]
     },
     "metadata": {},
     "output_type": "display_data"
    },
    {
     "data": {
      "text/latex": [
       "\\nabla f_{custo} = \\frac{\\partial E}{\\partial Y} = \n",
       "\\begin{bmatrix}\n",
       "  0.30293837 & 0.11168849 & 0.13510838 & 0.1201273 & 0.37736092 & 0.21687748\\\\\n",
       "  0.51913601 & 0.54801113 & 0.0732105 & 0.34559941 & 0.14615265 & 0.77333986\\\\\n",
       "  0.09580391 & 0.3023375\\\\\n",
       "\\end{bmatrix}"
      ],
      "text/plain": [
       "<IPython.core.display.Latex object>"
      ]
     },
     "metadata": {},
     "output_type": "display_data"
    },
    {
     "data": {
      "text/latex": [
       "Camada: 0"
      ],
      "text/plain": [
       "<IPython.core.display.Latex object>"
      ]
     },
     "metadata": {},
     "output_type": "display_data"
    },
    {
     "data": {
      "text/latex": [
       "W = W - \\lambda (X \\cdot \\nabla f_{custo})"
      ],
      "text/plain": [
       "<IPython.core.display.Latex object>"
      ]
     },
     "metadata": {},
     "output_type": "display_data"
    },
    {
     "data": {
      "text/latex": [
       "\\begin{gather}\n",
       "\\begin{bmatrix}\n",
       "  -0.12291512 & 0.37475893 & 0.35939695 & 0.72262177 & -0.24473053 & 0.35187779\\\\\n",
       "  -0.12693217 & 0.29350271 & 0.78247167 & 0.29380233 & 0.28575893 & 0.10876525\\\\\n",
       "  0.46325158 & 0.12626117\\\\\n",
       "  -0.06917474 & 0.83390308 & 0.74072245 & 0.25850683 & 0.24667223 & 0.19735506\\\\\n",
       "  -0.21472728 & 0.4836684 & 0.94382498 & 0.52176566 & 0.53953073 & -0.30098787\\\\\n",
       "  0.92105595 & 0.61641336\\\\\n",
       "  0.28466497 & 0.53296827 & 0.84041414 & 0.20884446 & -0.0512533 & 0.54125718\\\\\n",
       "  0.54540157 & 0.16946803 & 0.45004872 & 0.16397464 & 0.619325 & -0.44871596\\\\\n",
       "  0.37022138 & 0.6798642\\\\\n",
       "  0.25340426 & 0.36622191 & 0.80657477 & 0.5441968 & 0.41848986 & -0.06704399\\\\\n",
       "  -0.34519877 & -0.18598645 & 0.60863129 & 0.04810105 & 0.13380455 & -0.07987231\\\\\n",
       "  0.62011848 & -0.08347819\\\\\n",
       "  0.74484683 & 0.03079517 & 0.1721891 & 0.85031797 & 0.4186545 & 0.81591555\\\\\n",
       "  -0.02017507 & -0.23414829 & 0.52141112 & -0.15238668 & 0.54648706 & -0.27052459\\\\\n",
       "  0.60283692 & 0.17856283\\\\\n",
       "  -0.12282543 & 0.45163627 & 0.14742775 & 0.73181092 & -0.2323946 & 0.72295415\\\\\n",
       "  -0.16325473 & -0.02533977 & 0.37818721 & 0.33594076 & 0.55976421 & 0.1337649\\\\\n",
       "  0.41832523 & -0.10948776\\\\\n",
       "  0.37706911 & 0.16887675 & 0.5258069 & 0.93209405 & 0.78387831 & 0.76564175\\\\\n",
       "  0.06332383 & 0.38659299 & 0.85460912 & 0.74408787 & 0.11331849 & 0.33666824\\\\\n",
       "  0.21017306 & 0.78062085\\\\\n",
       "\\end{bmatrix} = \n",
       "\\begin{bmatrix}\n",
       "  0.08914174 & 0.45294087 & 0.45397282 & 0.80671088 & 0.01942211 & 0.50369203\\\\\n",
       "  0.23646303 & 0.6771105 & 0.83371902 & 0.53572192 & 0.38806578 & 0.65010315\\\\\n",
       "  0.53031432 & 0.33789742\\\\\n",
       "  0.14288212 & 0.91208502 & 0.83529832 & 0.34259594 & 0.51082488 & 0.3491693\\\\\n",
       "  0.14866793 & 0.86727619 & 0.99507233 & 0.76368524 & 0.64183758 & 0.24035003\\\\\n",
       "  0.98811869 & 0.82804961\\\\\n",
       "  0.49672183 & 0.61115022 & 0.93499001 & 0.29293357 & 0.21289935 & 0.69307141\\\\\n",
       "  0.90879677 & 0.55307582 & 0.50129607 & 0.40589423 & 0.72163186 & 0.09262195\\\\\n",
       "  0.43728412 & 0.89150045\\\\\n",
       "  0.46546112 & 0.44440386 & 0.90115064 & 0.62828591 & 0.6826425 & 0.08477025\\\\\n",
       "  0.01819644 & 0.19762134 & 0.65987864 & 0.29002063 & 0.23611141 & 0.46146559\\\\\n",
       "  0.68718122 & 0.12815806\\\\\n",
       "  0.95690369 & 0.10897712 & 0.26676497 & 0.93440708 & 0.68280715 & 0.96772979\\\\\n",
       "  0.34322014 & 0.1494595 & 0.57265847 & 0.08953291 & 0.64879392 & 0.27081331\\\\\n",
       "  0.66989966 & 0.39019908\\\\\n",
       "  0.08923143 & 0.52981822 & 0.24200362 & 0.81590003 & 0.03175805 & 0.87476839\\\\\n",
       "  0.20014047 & 0.35826802 & 0.42943456 & 0.57786035 & 0.66207107 & 0.6751028\\\\\n",
       "  0.48538797 & 0.1021485\\\\\n",
       "  0.37706911 & 0.16887675 & 0.5258069 & 0.93209405 & 0.78387831 & 0.76564175\\\\\n",
       "  0.06332383 & 0.38659299 & 0.85460912 & 0.74408787 & 0.11331849 & 0.33666824\\\\\n",
       "  0.21017306 & 0.78062085\\\\\n",
       "\\end{bmatrix} - 0.7\n",
       "\\begin{bmatrix}\n",
       "  1\\\\\n",
       "  1\\\\\n",
       "  1\\\\\n",
       "  1\\\\\n",
       "  1\\\\\n",
       "  1\\\\\n",
       "  0\\\\\n",
       "\\end{bmatrix} \\cdot \n",
       "\\begin{bmatrix}\n",
       "  0.30293837 & 0.11168849 & 0.13510838 & 0.1201273 & 0.37736092 & 0.21687748\\\\\n",
       "  0.51913601 & 0.54801113 & 0.0732105 & 0.34559941 & 0.14615265 & 0.77333986\\\\\n",
       "  0.09580391 & 0.3023375\\\\\n",
       "\\end{bmatrix}\\end{gather}"
      ],
      "text/plain": [
       "<IPython.core.display.Latex object>"
      ]
     },
     "metadata": {},
     "output_type": "display_data"
    },
    {
     "data": {
      "text/latex": [
       "Camada: 0"
      ],
      "text/plain": [
       "<IPython.core.display.Latex object>"
      ]
     },
     "metadata": {},
     "output_type": "display_data"
    },
    {
     "data": {
      "text/latex": [
       "Y = Xw + b"
      ],
      "text/plain": [
       "<IPython.core.display.Latex object>"
      ]
     },
     "metadata": {},
     "output_type": "display_data"
    },
    {
     "data": {
      "text/latex": [
       "\\begin{gather}\n",
       "\\begin{bmatrix}\n",
       "  0.75417587 & 2.24352727 & 1.96192333 & 0.92445941 & 0.70242834 & 0.83041366\\\\\n",
       "  0.49534015 & 0.30074536 & 2.31992269 & 0.85449212 & 1.56367098 & -1.26261928\\\\\n",
       "  1.84427747 & 1.56227839\\\\\n",
       "\\end{bmatrix} = \n",
       "\\begin{bmatrix}\n",
       "  0 & 1 & 1 & 0 & 0 & 0 & 0\\\\\n",
       "\\end{bmatrix} \\cdot \n",
       "\\begin{bmatrix}\n",
       "  -0.12291512 & 0.37475893 & 0.35939695 & 0.72262177 & -0.24473053 & 0.35187779\\\\\n",
       "  -0.12693217 & 0.29350271 & 0.78247167 & 0.29380233 & 0.28575893 & 0.10876525\\\\\n",
       "  0.46325158 & 0.12626117\\\\\n",
       "  -0.06917474 & 0.83390308 & 0.74072245 & 0.25850683 & 0.24667223 & 0.19735506\\\\\n",
       "  -0.21472728 & 0.4836684 & 0.94382498 & 0.52176566 & 0.53953073 & -0.30098787\\\\\n",
       "  0.92105595 & 0.61641336\\\\\n",
       "  0.28466497 & 0.53296827 & 0.84041414 & 0.20884446 & -0.0512533 & 0.54125718\\\\\n",
       "  0.54540157 & 0.16946803 & 0.45004872 & 0.16397464 & 0.619325 & -0.44871596\\\\\n",
       "  0.37022138 & 0.6798642\\\\\n",
       "  0.25340426 & 0.36622191 & 0.80657477 & 0.5441968 & 0.41848986 & -0.06704399\\\\\n",
       "  -0.34519877 & -0.18598645 & 0.60863129 & 0.04810105 & 0.13380455 & -0.07987231\\\\\n",
       "  0.62011848 & -0.08347819\\\\\n",
       "  0.74484683 & 0.03079517 & 0.1721891 & 0.85031797 & 0.4186545 & 0.81591555\\\\\n",
       "  -0.02017507 & -0.23414829 & 0.52141112 & -0.15238668 & 0.54648706 & -0.27052459\\\\\n",
       "  0.60283692 & 0.17856283\\\\\n",
       "  -0.12282543 & 0.45163627 & 0.14742775 & 0.73181092 & -0.2323946 & 0.72295415\\\\\n",
       "  -0.16325473 & -0.02533977 & 0.37818721 & 0.33594076 & 0.55976421 & 0.1337649\\\\\n",
       "  0.41832523 & -0.10948776\\\\\n",
       "  0.37706911 & 0.16887675 & 0.5258069 & 0.93209405 & 0.78387831 & 0.76564175\\\\\n",
       "  0.06332383 & 0.38659299 & 0.85460912 & 0.74408787 & 0.11331849 & 0.33666824\\\\\n",
       "  0.21017306 & 0.78062085\\\\\n",
       "\\end{bmatrix} + \n",
       "\\begin{bmatrix}\n",
       "  0.53868564 & 0.87665592 & 0.38078674 & 0.45710813 & 0.50700941 & 0.09180143\\\\\n",
       "  0.16466586 & -0.35239107 & 0.92604899 & 0.16875182 & 0.40481525 & -0.51291546\\\\\n",
       "  0.55300015 & 0.26600083\\\\\n",
       "\\end{bmatrix}\\end{gather}"
      ],
      "text/plain": [
       "<IPython.core.display.Latex object>"
      ]
     },
     "metadata": {},
     "output_type": "display_data"
    },
    {
     "data": {
      "text/latex": [
       "Camada: 1"
      ],
      "text/plain": [
       "<IPython.core.display.Latex object>"
      ]
     },
     "metadata": {},
     "output_type": "display_data"
    },
    {
     "data": {
      "text/latex": [
       "Y = \\sigma(X)"
      ],
      "text/plain": [
       "<IPython.core.display.Latex object>"
      ]
     },
     "metadata": {},
     "output_type": "display_data"
    },
    {
     "data": {
      "text/latex": [
       "\\begin{gather}\n",
       "\\begin{bmatrix}\n",
       "  0.68008792 & 0.90409075 & 0.87674095 & 0.71594987 & 0.66872595 & 0.69644239\\\\\n",
       "  0.62136363 & 0.57462472 & 0.91051364 & 0.70150862 & 0.82687948 & 0.22052333\\\\\n",
       "  0.86345381 & 0.82668004\\\\\n",
       "\\end{bmatrix} = \\sigma(\n",
       "\\begin{bmatrix}\n",
       "  0.75417587 & 2.24352727 & 1.96192333 & 0.92445941 & 0.70242834 & 0.83041366\\\\\n",
       "  0.49534015 & 0.30074536 & 2.31992269 & 0.85449212 & 1.56367098 & -1.26261928\\\\\n",
       "  1.84427747 & 1.56227839\\\\\n",
       "\\end{bmatrix}) \\end{gather}"
      ],
      "text/plain": [
       "<IPython.core.display.Latex object>"
      ]
     },
     "metadata": {},
     "output_type": "display_data"
    },
    {
     "data": {
      "text/latex": [
       "Camada: 2"
      ],
      "text/plain": [
       "<IPython.core.display.Latex object>"
      ]
     },
     "metadata": {},
     "output_type": "display_data"
    },
    {
     "data": {
      "text/latex": [
       "Y = Xw + b"
      ],
      "text/plain": [
       "<IPython.core.display.Latex object>"
      ]
     },
     "metadata": {},
     "output_type": "display_data"
    },
    {
     "data": {
      "text/latex": [
       "\\begin{gather}\n",
       "\\begin{bmatrix}\n",
       "  -4.91697059 & -5.87447928 & -6.50441907 & -5.82048905 & -6.20074427 & -4.79779835\\\\\n",
       "  -5.85948699 & -6.46233706 & -5.57720159 & -5.04209544\\\\\n",
       "\\end{bmatrix} = \n",
       "\\begin{bmatrix}\n",
       "  0.68008792 & 0.90409075 & 0.87674095 & 0.71594987 & 0.66872595 & 0.69644239\\\\\n",
       "  0.62136363 & 0.57462472 & 0.91051364 & 0.70150862 & 0.82687948 & 0.22052333\\\\\n",
       "  0.86345381 & 0.82668004\\\\\n",
       "\\end{bmatrix} \\cdot \n",
       "\\begin{bmatrix}\n",
       "  -4.07304461e-01 & -9.31997014e-01 & -5.42527839e-01 & -1.66118950e-01\\\\\n",
       "  -4.64976265e-01 & -7.82943774e-01 & -9.16097450e-01 & -8.23813790e-01\\\\\n",
       "  -1.48103151e-01 & -7.89305223e-01\\\\\n",
       "  -6.96023577e-01 & -8.48380061e-01 & -1.01888018e+00 & -8.37844405e-01\\\\\n",
       "  -5.79686698e-01 & -4.90451556e-01 & -5.41287721e-01 & -5.35600965e-01\\\\\n",
       "  -6.32292083e-01 & -1.58766309e-01\\\\\n",
       "  -6.62280706e-01 & -4.12908056e-01 & -5.78015462e-01 & -1.19017333e-01\\\\\n",
       "  -9.92197478e-01 & -7.52565643e-01 & -6.67919769e-01 & -3.77967961e-01\\\\\n",
       "  -1.93914940e-01 & -2.68317084e-01\\\\\n",
       "  -5.55518895e-01 & -3.36890075e-01 & -2.74358348e-01 & -5.80202587e-01\\\\\n",
       "  -1.06224323e+00 & 5.92443020e-02 & -1.40737994e-01 & -8.83747146e-01\\\\\n",
       "  -8.36273290e-02 & -2.34368059e-01\\\\\n",
       "  -7.12210020e-01 & -2.18143978e-02 & -8.63778797e-01 & -3.45621050e-01\\\\\n",
       "  -3.27042091e-01 & -3.12723243e-01 & -2.47302512e-01 & -6.01487251e-01\\\\\n",
       "  -9.10801524e-01 & -8.81212957e-01\\\\\n",
       "  -8.72450840e-02 & -5.63449393e-01 & -1.95258415e-01 & -4.52004143e-01\\\\\n",
       "  -4.39459476e-01 & 9.83678844e-02 & -5.95834053e-01 & -8.46285580e-01\\\\\n",
       "  -6.79748383e-01 & -5.71758632e-01\\\\\n",
       "  -4.38338530e-01 & -9.83939299e-02 & -6.52295714e-02 & -9.70280406e-01\\\\\n",
       "  -6.50973099e-01 & -4.63547638e-01 & -8.44233299e-01 & -5.76419968e-01\\\\\n",
       "  -6.52038735e-01 & -7.54162477e-01\\\\\n",
       "  -2.38824775e-01 & -1.93370592e-01 & -3.00754585e-01 & -1.74337187e-01\\\\\n",
       "  -5.65328000e-01 & -7.84472512e-01 & -6.80696040e-01 & -2.23434412e-01\\\\\n",
       "  -2.38110012e-02 & -2.22571024e-01\\\\\n",
       "  -3.97992748e-01 & -6.16961858e-01 & -3.81446416e-01 & -2.45990649e-01\\\\\n",
       "  -2.01664776e-01 & -6.20605874e-01 & -2.34803860e-01 & -2.67019643e-01\\\\\n",
       "  -7.71642390e-01 & -1.03698280e-01\\\\\n",
       "  -1.55260793e-01 & -9.02892135e-04 & -9.45801432e-01 & -9.93006890e-01\\\\\n",
       "  -5.42651906e-01 & -9.70342277e-02 & -1.92682220e-01 & -4.12095144e-01\\\\\n",
       "  -9.12950795e-01 & -6.64641096e-01\\\\\n",
       "  -6.73268301e-01 & -9.02703476e-01 & -6.38281656e-01 & -3.47749315e-01\\\\\n",
       "  -1.03524677e+00 & -4.43249568e-01 & -5.42817104e-01 & -7.09526059e-01\\\\\n",
       "  -1.88136847e-01 & -4.74605437e-01\\\\\n",
       "  -5.62933708e-01 & -2.70249020e-01 & -1.40038545e-01 & -4.89551391e-01\\\\\n",
       "  -6.84267597e-01 & -1.43679068e-01 & -3.02772240e-01 & -3.63655541e-01\\\\\n",
       "  4.08624921e-02 & -1.52234756e-01\\\\\n",
       "  -3.51078676e-01 & -4.84892017e-01 & -7.51727601e-01 & -3.71122729e-01\\\\\n",
       "  -5.53367050e-01 & -8.00895168e-01 & -2.35421678e-01 & -5.12651732e-01\\\\\n",
       "  -9.63709562e-01 & -3.95420409e-01\\\\\n",
       "  -4.03240739e-01 & -9.80449819e-01 & -2.85127070e-01 & -9.51952128e-01\\\\\n",
       "  -2.44521888e-01 & -1.07481410e-01 & -1.04679139e+00 & -5.27791870e-01\\\\\n",
       "  -4.26392351e-01 & -2.81577231e-01\\\\\n",
       "\\end{bmatrix} + \n",
       "\\begin{bmatrix}\n",
       "  -0.29705258 & -0.69355624 & -1.1298711 & -0.75779466 & -0.22475186 & -0.51337061\\\\\n",
       "  -0.63146035 & -0.89749763 & -0.49942724 & -0.81384362\\\\\n",
       "\\end{bmatrix}\\end{gather}"
      ],
      "text/plain": [
       "<IPython.core.display.Latex object>"
      ]
     },
     "metadata": {},
     "output_type": "display_data"
    },
    {
     "data": {
      "text/latex": [
       "f_{custo}(\n",
       "\\begin{bmatrix}\n",
       "  0 & 1 & 0 & 0 & 0 & 0 & 0 & 0 & 0 & 0\\\\\n",
       "\\end{bmatrix},\n",
       "\\begin{bmatrix}\n",
       "  -4.91697059 & -5.87447928 & -6.50441907 & -5.82048905 & -6.20074427 & -4.79779835\\\\\n",
       "  -5.85948699 & -6.46233706 & -5.57720159 & -5.04209544\\\\\n",
       "\\end{bmatrix}) = \n",
       "\\begin{bmatrix}\n",
       "  34.17120159088271\\\\\n",
       "\\end{bmatrix}"
      ],
      "text/plain": [
       "<IPython.core.display.Latex object>"
      ]
     },
     "metadata": {},
     "output_type": "display_data"
    },
    {
     "data": {
      "text/latex": [
       "\\nabla f_{custo} = \\frac{\\partial E}{\\partial Y} = \n",
       "\\begin{bmatrix}\n",
       "  -0.98339412 & -1.37489586 & -1.30088381 & -1.16409781 & -1.24014885 & -0.95955967\\\\\n",
       "  -1.1718974 & -1.29246741 & -1.11544032 & -1.00841909\\\\\n",
       "\\end{bmatrix}"
      ],
      "text/plain": [
       "<IPython.core.display.Latex object>"
      ]
     },
     "metadata": {},
     "output_type": "display_data"
    },
    {
     "data": {
      "text/latex": [
       "Camada: 2"
      ],
      "text/plain": [
       "<IPython.core.display.Latex object>"
      ]
     },
     "metadata": {},
     "output_type": "display_data"
    },
    {
     "data": {
      "text/latex": [
       "W = W - \\lambda (X \\cdot \\nabla f_{custo})"
      ],
      "text/plain": [
       "<IPython.core.display.Latex object>"
      ]
     },
     "metadata": {},
     "output_type": "display_data"
    },
    {
     "data": {
      "text/latex": [
       "\\begin{gather}\n",
       "\\begin{bmatrix}\n",
       "  0.06085166 & -0.27746197 & 0.07677292 & 0.38806325 & 0.12541091 & -0.32613432\\\\\n",
       "  -0.35820217 & -0.20851976 & 0.38291509 & -0.30923568\\\\\n",
       "  -0.07366931 & 0.02174137 & -0.19559826 & -0.10112936 & 0.20515827 & 0.11681876\\\\\n",
       "  0.20036339 & 0.28235451 & 0.07362941 & 0.47942535\\\\\n",
       "  -0.05875338 & 0.43089119 & 0.22036122 & 0.59541122 & -0.23109498 & -0.16366596\\\\\n",
       "  0.05129554 & 0.41524341 & 0.4906516 & 0.35056853\\\\\n",
       "  -0.06267627 & 0.35215948 & 0.37759897 & 0.00320239 & -0.44072414 & 0.54014194\\\\\n",
       "  0.44657586 & -0.23600783 & 0.47539222 & 0.2710162\\\\\n",
       "  -0.25187521 & 0.62178557 & -0.25482447 & 0.19930264 & 0.25348171 & 0.13645447\\\\\n",
       "  0.30127223 & 0.00352729 & -0.38865481 & -0.40916375\\\\\n",
       "  0.39216906 & 0.10682563 & 0.43893503 & 0.1155048 & 0.16512509 & 0.5661625\\\\\n",
       "  -0.02452274 & -0.21619522 & -0.13596044 & -0.08014457\\\\\n",
       "  -0.0106068 & 0.49962326 & 0.50059575 & -0.46395078 & -0.11156473 & -0.04618281\\\\\n",
       "  -0.33451121 & -0.0142554 & -0.16687291 & -0.31554602\\\\\n",
       "  0.15673302 & 0.35966381 & 0.22250941 & 0.29390637 & -0.06649387 & -0.39850182\\\\\n",
       "  -0.20931519 & 0.29644419 & 0.4248607 & 0.18305275\\\\\n",
       "  0.22878288 & 0.25934114 & 0.4476843 & 0.49595821 & 0.58875594 & -0.00902135\\\\\n",
       "  0.51211614 & 0.5567468 & -0.06070585 & 0.53902726\\\\\n",
       "  0.32764082 & 0.67424801 & -0.30699459 & -0.42136964 & 0.06633067 & 0.37416334\\\\\n",
       "  0.38278507 & 0.22257878 & -0.3652071 & -0.16945082\\\\\n",
       "  -0.10406441 & -0.10689225 & 0.11469024 & 0.3260487 & -0.31742921 & 0.11215858\\\\\n",
       "  0.13549544 & 0.03857429 & 0.45749745 & 0.1090833\\\\\n",
       "  -0.41113077 & -0.05801139 & 0.06077411 & -0.30985389 & -0.49283037 & 0.00444464\\\\\n",
       "  -0.12187074 & -0.16414209 & 0.21304892 & 0.0034312\\\\\n",
       "  0.2433021 & 0.34611933 & 0.03454956 & 0.33247856 & 0.19620083 & -0.22092035\\\\\n",
       "  0.47289382 & 0.26853841 & -0.28951773 & 0.2140859\\\\\n",
       "  0.16582587 & -0.18483054 & 0.46766321 & -0.27831663 & 0.47312253 & 0.44779277\\\\\n",
       "  -0.36864245 & 0.22012804 & 0.21908622 & 0.30197072\\\\\n",
       "\\end{bmatrix} = \n",
       "\\begin{bmatrix}\n",
       "  -4.07304461e-01 & -9.31997014e-01 & -5.42527839e-01 & -1.66118950e-01\\\\\n",
       "  -4.64976265e-01 & -7.82943774e-01 & -9.16097450e-01 & -8.23813790e-01\\\\\n",
       "  -1.48103151e-01 & -7.89305223e-01\\\\\n",
       "  -6.96023577e-01 & -8.48380061e-01 & -1.01888018e+00 & -8.37844405e-01\\\\\n",
       "  -5.79686698e-01 & -4.90451556e-01 & -5.41287721e-01 & -5.35600965e-01\\\\\n",
       "  -6.32292083e-01 & -1.58766309e-01\\\\\n",
       "  -6.62280706e-01 & -4.12908056e-01 & -5.78015462e-01 & -1.19017333e-01\\\\\n",
       "  -9.92197478e-01 & -7.52565643e-01 & -6.67919769e-01 & -3.77967961e-01\\\\\n",
       "  -1.93914940e-01 & -2.68317084e-01\\\\\n",
       "  -5.55518895e-01 & -3.36890075e-01 & -2.74358348e-01 & -5.80202587e-01\\\\\n",
       "  -1.06224323e+00 & 5.92443020e-02 & -1.40737994e-01 & -8.83747146e-01\\\\\n",
       "  -8.36273290e-02 & -2.34368059e-01\\\\\n",
       "  -7.12210020e-01 & -2.18143978e-02 & -8.63778797e-01 & -3.45621050e-01\\\\\n",
       "  -3.27042091e-01 & -3.12723243e-01 & -2.47302512e-01 & -6.01487251e-01\\\\\n",
       "  -9.10801524e-01 & -8.81212957e-01\\\\\n",
       "  -8.72450840e-02 & -5.63449393e-01 & -1.95258415e-01 & -4.52004143e-01\\\\\n",
       "  -4.39459476e-01 & 9.83678844e-02 & -5.95834053e-01 & -8.46285580e-01\\\\\n",
       "  -6.79748383e-01 & -5.71758632e-01\\\\\n",
       "  -4.38338530e-01 & -9.83939299e-02 & -6.52295714e-02 & -9.70280406e-01\\\\\n",
       "  -6.50973099e-01 & -4.63547638e-01 & -8.44233299e-01 & -5.76419968e-01\\\\\n",
       "  -6.52038735e-01 & -7.54162477e-01\\\\\n",
       "  -2.38824775e-01 & -1.93370592e-01 & -3.00754585e-01 & -1.74337187e-01\\\\\n",
       "  -5.65328000e-01 & -7.84472512e-01 & -6.80696040e-01 & -2.23434412e-01\\\\\n",
       "  -2.38110012e-02 & -2.22571024e-01\\\\\n",
       "  -3.97992748e-01 & -6.16961858e-01 & -3.81446416e-01 & -2.45990649e-01\\\\\n",
       "  -2.01664776e-01 & -6.20605874e-01 & -2.34803860e-01 & -2.67019643e-01\\\\\n",
       "  -7.71642390e-01 & -1.03698280e-01\\\\\n",
       "  -1.55260793e-01 & -9.02892135e-04 & -9.45801432e-01 & -9.93006890e-01\\\\\n",
       "  -5.42651906e-01 & -9.70342277e-02 & -1.92682220e-01 & -4.12095144e-01\\\\\n",
       "  -9.12950795e-01 & -6.64641096e-01\\\\\n",
       "  -6.73268301e-01 & -9.02703476e-01 & -6.38281656e-01 & -3.47749315e-01\\\\\n",
       "  -1.03524677e+00 & -4.43249568e-01 & -5.42817104e-01 & -7.09526059e-01\\\\\n",
       "  -1.88136847e-01 & -4.74605437e-01\\\\\n",
       "  -5.62933708e-01 & -2.70249020e-01 & -1.40038545e-01 & -4.89551391e-01\\\\\n",
       "  -6.84267597e-01 & -1.43679068e-01 & -3.02772240e-01 & -3.63655541e-01\\\\\n",
       "  4.08624921e-02 & -1.52234756e-01\\\\\n",
       "  -3.51078676e-01 & -4.84892017e-01 & -7.51727601e-01 & -3.71122729e-01\\\\\n",
       "  -5.53367050e-01 & -8.00895168e-01 & -2.35421678e-01 & -5.12651732e-01\\\\\n",
       "  -9.63709562e-01 & -3.95420409e-01\\\\\n",
       "  -4.03240739e-01 & -9.80449819e-01 & -2.85127070e-01 & -9.51952128e-01\\\\\n",
       "  -2.44521888e-01 & -1.07481410e-01 & -1.04679139e+00 & -5.27791870e-01\\\\\n",
       "  -4.26392351e-01 & -2.81577231e-01\\\\\n",
       "\\end{bmatrix} - 0.7\n",
       "\\begin{bmatrix}\n",
       "  0.68008792\\\\\n",
       "  0.90409075\\\\\n",
       "  0.87674095\\\\\n",
       "  0.71594987\\\\\n",
       "  0.66872595\\\\\n",
       "  0.69644239\\\\\n",
       "  0.62136363\\\\\n",
       "  0.57462472\\\\\n",
       "  0.91051364\\\\\n",
       "  0.70150862\\\\\n",
       "  0.82687948\\\\\n",
       "  0.22052333\\\\\n",
       "  0.86345381\\\\\n",
       "  0.82668004\\\\\n",
       "\\end{bmatrix} \\cdot \n",
       "\\begin{bmatrix}\n",
       "  -0.98339412 & -1.37489586 & -1.30088381 & -1.16409781 & -1.24014885 & -0.95955967\\\\\n",
       "  -1.1718974 & -1.29246741 & -1.11544032 & -1.00841909\\\\\n",
       "\\end{bmatrix}\\end{gather}"
      ],
      "text/plain": [
       "<IPython.core.display.Latex object>"
      ]
     },
     "metadata": {},
     "output_type": "display_data"
    },
    {
     "data": {
      "text/latex": [
       "\\nabla f_{custo} = \\frac{\\partial E}{\\partial Y} = \n",
       "\\begin{bmatrix}\n",
       "  7.00848046 & 7.53316014 & 5.82019283 & 4.93906235 & 5.93383827 & 5.21811537\\\\\n",
       "  6.25498445 & 3.8862469 & 4.45339196 & 5.75334035 & 7.08916221 & 3.59643955\\\\\n",
       "  6.28880807 & 6.29847088\\\\\n",
       "\\end{bmatrix}"
      ],
      "text/plain": [
       "<IPython.core.display.Latex object>"
      ]
     },
     "metadata": {},
     "output_type": "display_data"
    },
    {
     "data": {
      "text/latex": [
       "Camada: 1"
      ],
      "text/plain": [
       "<IPython.core.display.Latex object>"
      ]
     },
     "metadata": {},
     "output_type": "display_data"
    },
    {
     "data": {
      "text/latex": [
       "\\nabla = \\frac{\\partial E}{\\partial Y} \\frac{\\partial Y}{\\partial X}"
      ],
      "text/plain": [
       "<IPython.core.display.Latex object>"
      ]
     },
     "metadata": {},
     "output_type": "display_data"
    },
    {
     "data": {
      "text/latex": [
       "\\begin{gather}\n",
       "\\begin{bmatrix}\n",
       "  0.68008792 & 0.90409075 & 0.87674095 & 0.71594987 & 0.66872595 & 0.69644239\\\\\n",
       "  0.62136363 & 0.57462472 & 0.91051364 & 0.70150862 & 0.82687948 & 0.22052333\\\\\n",
       "  0.86345381 & 0.82668004\\\\\n",
       "\\end{bmatrix} = \\sigma(\n",
       "\\begin{bmatrix}\n",
       "  0.75417587 & 2.24352727 & 1.96192333 & 0.92445941 & 0.70242834 & 0.83041366\\\\\n",
       "  0.49534015 & 0.30074536 & 2.31992269 & 0.85449212 & 1.56367098 & -1.26261928\\\\\n",
       "  1.84427747 & 1.56227839\\\\\n",
       "\\end{bmatrix}) \\end{gather}"
      ],
      "text/plain": [
       "<IPython.core.display.Latex object>"
      ]
     },
     "metadata": {},
     "output_type": "display_data"
    },
    {
     "data": {
      "text/latex": [
       "\\nabla f_{custo} = \\frac{\\partial E}{\\partial Y} = \n",
       "\\begin{bmatrix}\n",
       "  1.52482347 & 0.65320535 & 0.62896645 & 1.00443564 & 1.31453242 & 1.1031638\\\\\n",
       "  1.47161564 & 0.94991981 & 0.36285592 & 1.20471654 & 1.01481217 & 0.61820202\\\\\n",
       "  0.74145881 & 0.90244584\\\\\n",
       "\\end{bmatrix}"
      ],
      "text/plain": [
       "<IPython.core.display.Latex object>"
      ]
     },
     "metadata": {},
     "output_type": "display_data"
    },
    {
     "data": {
      "text/latex": [
       "Camada: 0"
      ],
      "text/plain": [
       "<IPython.core.display.Latex object>"
      ]
     },
     "metadata": {},
     "output_type": "display_data"
    },
    {
     "data": {
      "text/latex": [
       "W = W - \\lambda (X \\cdot \\nabla f_{custo})"
      ],
      "text/plain": [
       "<IPython.core.display.Latex object>"
      ]
     },
     "metadata": {},
     "output_type": "display_data"
    },
    {
     "data": {
      "text/latex": [
       "\\begin{gather}\n",
       "\\begin{bmatrix}\n",
       "  -0.12291512 & 0.37475893 & 0.35939695 & 0.72262177 & -0.24473053 & 0.35187779\\\\\n",
       "  -0.12693217 & 0.29350271 & 0.78247167 & 0.29380233 & 0.28575893 & 0.10876525\\\\\n",
       "  0.46325158 & 0.12626117\\\\\n",
       "  -1.13655117 & 0.37665933 & 0.30044594 & -0.44459812 & -0.67350046 & -0.5748596\\\\\n",
       "  -1.24485822 & -0.18127547 & 0.68982583 & -0.32153592 & -0.17083779 & -0.73372929\\\\\n",
       "  0.40203478 & -0.01529873\\\\\n",
       "  -0.78271146 & 0.07572453 & 0.40013763 & -0.49426049 & -0.97142599 & -0.23095748\\\\\n",
       "  -0.48472938 & -0.49547584 & 0.19604958 & -0.67932694 & -0.09104352 & -0.88145737\\\\\n",
       "  -0.14879979 & 0.04815211\\\\\n",
       "  0.25340426 & 0.36622191 & 0.80657477 & 0.5441968 & 0.41848986 & -0.06704399\\\\\n",
       "  -0.34519877 & -0.18598645 & 0.60863129 & 0.04810105 & 0.13380455 & -0.07987231\\\\\n",
       "  0.62011848 & -0.08347819\\\\\n",
       "  0.74484683 & 0.03079517 & 0.1721891 & 0.85031797 & 0.4186545 & 0.81591555\\\\\n",
       "  -0.02017507 & -0.23414829 & 0.52141112 & -0.15238668 & 0.54648706 & -0.27052459\\\\\n",
       "  0.60283692 & 0.17856283\\\\\n",
       "  -0.12282543 & 0.45163627 & 0.14742775 & 0.73181092 & -0.2323946 & 0.72295415\\\\\n",
       "  -0.16325473 & -0.02533977 & 0.37818721 & 0.33594076 & 0.55976421 & 0.1337649\\\\\n",
       "  0.41832523 & -0.10948776\\\\\n",
       "  0.37706911 & 0.16887675 & 0.5258069 & 0.93209405 & 0.78387831 & 0.76564175\\\\\n",
       "  0.06332383 & 0.38659299 & 0.85460912 & 0.74408787 & 0.11331849 & 0.33666824\\\\\n",
       "  0.21017306 & 0.78062085\\\\\n",
       "\\end{bmatrix} = \n",
       "\\begin{bmatrix}\n",
       "  -0.12291512 & 0.37475893 & 0.35939695 & 0.72262177 & -0.24473053 & 0.35187779\\\\\n",
       "  -0.12693217 & 0.29350271 & 0.78247167 & 0.29380233 & 0.28575893 & 0.10876525\\\\\n",
       "  0.46325158 & 0.12626117\\\\\n",
       "  -0.06917474 & 0.83390308 & 0.74072245 & 0.25850683 & 0.24667223 & 0.19735506\\\\\n",
       "  -0.21472728 & 0.4836684 & 0.94382498 & 0.52176566 & 0.53953073 & -0.30098787\\\\\n",
       "  0.92105595 & 0.61641336\\\\\n",
       "  0.28466497 & 0.53296827 & 0.84041414 & 0.20884446 & -0.0512533 & 0.54125718\\\\\n",
       "  0.54540157 & 0.16946803 & 0.45004872 & 0.16397464 & 0.619325 & -0.44871596\\\\\n",
       "  0.37022138 & 0.6798642\\\\\n",
       "  0.25340426 & 0.36622191 & 0.80657477 & 0.5441968 & 0.41848986 & -0.06704399\\\\\n",
       "  -0.34519877 & -0.18598645 & 0.60863129 & 0.04810105 & 0.13380455 & -0.07987231\\\\\n",
       "  0.62011848 & -0.08347819\\\\\n",
       "  0.74484683 & 0.03079517 & 0.1721891 & 0.85031797 & 0.4186545 & 0.81591555\\\\\n",
       "  -0.02017507 & -0.23414829 & 0.52141112 & -0.15238668 & 0.54648706 & -0.27052459\\\\\n",
       "  0.60283692 & 0.17856283\\\\\n",
       "  -0.12282543 & 0.45163627 & 0.14742775 & 0.73181092 & -0.2323946 & 0.72295415\\\\\n",
       "  -0.16325473 & -0.02533977 & 0.37818721 & 0.33594076 & 0.55976421 & 0.1337649\\\\\n",
       "  0.41832523 & -0.10948776\\\\\n",
       "  0.37706911 & 0.16887675 & 0.5258069 & 0.93209405 & 0.78387831 & 0.76564175\\\\\n",
       "  0.06332383 & 0.38659299 & 0.85460912 & 0.74408787 & 0.11331849 & 0.33666824\\\\\n",
       "  0.21017306 & 0.78062085\\\\\n",
       "\\end{bmatrix} - 0.7\n",
       "\\begin{bmatrix}\n",
       "  0\\\\\n",
       "  1\\\\\n",
       "  1\\\\\n",
       "  0\\\\\n",
       "  0\\\\\n",
       "  0\\\\\n",
       "  0\\\\\n",
       "\\end{bmatrix} \\cdot \n",
       "\\begin{bmatrix}\n",
       "  1.52482347 & 0.65320535 & 0.62896645 & 1.00443564 & 1.31453242 & 1.1031638\\\\\n",
       "  1.47161564 & 0.94991981 & 0.36285592 & 1.20471654 & 1.01481217 & 0.61820202\\\\\n",
       "  0.74145881 & 0.90244584\\\\\n",
       "\\end{bmatrix}\\end{gather}"
      ],
      "text/plain": [
       "<IPython.core.display.Latex object>"
      ]
     },
     "metadata": {},
     "output_type": "display_data"
    },
    {
     "data": {
      "text/latex": [
       "Camada: 0"
      ],
      "text/plain": [
       "<IPython.core.display.Latex object>"
      ]
     },
     "metadata": {},
     "output_type": "display_data"
    },
    {
     "data": {
      "text/latex": [
       "Y = Xw + b"
      ],
      "text/plain": [
       "<IPython.core.display.Latex object>"
      ]
     },
     "metadata": {},
     "output_type": "display_data"
    },
    {
     "data": {
      "text/latex": [
       "\\begin{gather}\n",
       "\\begin{bmatrix}\n",
       "  -0.41283688 & 1.73672426 & 2.10492389 & 2.35863564 & 0.28962839 & 0.61111827\\\\\n",
       "  -2.53930549 & -0.93864945 & 4.12899889 & -0.06248112 & 0.60297797 & -1.58434957\\\\\n",
       "  2.3323938 & 0.62095667\\\\\n",
       "\\end{bmatrix} = \n",
       "\\begin{bmatrix}\n",
       "  1 & 1 & 0 & 1 & 1 & 0 & 1\\\\\n",
       "\\end{bmatrix} \\cdot \n",
       "\\begin{bmatrix}\n",
       "  -0.12291512 & 0.37475893 & 0.35939695 & 0.72262177 & -0.24473053 & 0.35187779\\\\\n",
       "  -0.12693217 & 0.29350271 & 0.78247167 & 0.29380233 & 0.28575893 & 0.10876525\\\\\n",
       "  0.46325158 & 0.12626117\\\\\n",
       "  -1.13655117 & 0.37665933 & 0.30044594 & -0.44459812 & -0.67350046 & -0.5748596\\\\\n",
       "  -1.24485822 & -0.18127547 & 0.68982583 & -0.32153592 & -0.17083779 & -0.73372929\\\\\n",
       "  0.40203478 & -0.01529873\\\\\n",
       "  -0.78271146 & 0.07572453 & 0.40013763 & -0.49426049 & -0.97142599 & -0.23095748\\\\\n",
       "  -0.48472938 & -0.49547584 & 0.19604958 & -0.67932694 & -0.09104352 & -0.88145737\\\\\n",
       "  -0.14879979 & 0.04815211\\\\\n",
       "  0.25340426 & 0.36622191 & 0.80657477 & 0.5441968 & 0.41848986 & -0.06704399\\\\\n",
       "  -0.34519877 & -0.18598645 & 0.60863129 & 0.04810105 & 0.13380455 & -0.07987231\\\\\n",
       "  0.62011848 & -0.08347819\\\\\n",
       "  0.74484683 & 0.03079517 & 0.1721891 & 0.85031797 & 0.4186545 & 0.81591555\\\\\n",
       "  -0.02017507 & -0.23414829 & 0.52141112 & -0.15238668 & 0.54648706 & -0.27052459\\\\\n",
       "  0.60283692 & 0.17856283\\\\\n",
       "  -0.12282543 & 0.45163627 & 0.14742775 & 0.73181092 & -0.2323946 & 0.72295415\\\\\n",
       "  -0.16325473 & -0.02533977 & 0.37818721 & 0.33594076 & 0.55976421 & 0.1337649\\\\\n",
       "  0.41832523 & -0.10948776\\\\\n",
       "  0.37706911 & 0.16887675 & 0.5258069 & 0.93209405 & 0.78387831 & 0.76564175\\\\\n",
       "  0.06332383 & 0.38659299 & 0.85460912 & 0.74408787 & 0.11331849 & 0.33666824\\\\\n",
       "  0.21017306 & 0.78062085\\\\\n",
       "\\end{bmatrix} + \n",
       "\\begin{bmatrix}\n",
       "  -0.52869079 & 0.41941218 & -0.05948977 & -0.24599682 & -0.41316329 & -0.68041323\\\\\n",
       "  -0.86546509 & -1.01733493 & 0.67204985 & -0.67454976 & -0.30555327 & -0.94565687\\\\\n",
       "  0.03397898 & -0.36571126\\\\\n",
       "\\end{bmatrix}\\end{gather}"
      ],
      "text/plain": [
       "<IPython.core.display.Latex object>"
      ]
     },
     "metadata": {},
     "output_type": "display_data"
    },
    {
     "data": {
      "text/latex": [
       "Camada: 1"
      ],
      "text/plain": [
       "<IPython.core.display.Latex object>"
      ]
     },
     "metadata": {},
     "output_type": "display_data"
    },
    {
     "data": {
      "text/latex": [
       "Y = \\sigma(X)"
      ],
      "text/plain": [
       "<IPython.core.display.Latex object>"
      ]
     },
     "metadata": {},
     "output_type": "display_data"
    },
    {
     "data": {
      "text/latex": [
       "\\begin{gather}\n",
       "\\begin{bmatrix}\n",
       "  0.39823209 & 0.85027051 & 0.89138083 & 0.91361819 & 0.57190515 & 0.64819585\\\\\n",
       "  0.07314825 & 0.28117323 & 0.98415608 & 0.4843848 & 0.64633732 & 0.17018036\\\\\n",
       "  0.91152458 & 0.6504361\\\\\n",
       "\\end{bmatrix} = \\sigma(\n",
       "\\begin{bmatrix}\n",
       "  -0.41283688 & 1.73672426 & 2.10492389 & 2.35863564 & 0.28962839 & 0.61111827\\\\\n",
       "  -2.53930549 & -0.93864945 & 4.12899889 & -0.06248112 & 0.60297797 & -1.58434957\\\\\n",
       "  2.3323938 & 0.62095667\\\\\n",
       "\\end{bmatrix}) \\end{gather}"
      ],
      "text/plain": [
       "<IPython.core.display.Latex object>"
      ]
     },
     "metadata": {},
     "output_type": "display_data"
    },
    {
     "data": {
      "text/latex": [
       "Camada: 2"
      ],
      "text/plain": [
       "<IPython.core.display.Latex object>"
      ]
     },
     "metadata": {},
     "output_type": "display_data"
    },
    {
     "data": {
      "text/latex": [
       "Y = Xw + b"
      ],
      "text/plain": [
       "<IPython.core.display.Latex object>"
      ]
     },
     "metadata": {},
     "output_type": "display_data"
    },
    {
     "data": {
      "text/latex": [
       "\\begin{gather}\n",
       "\\begin{bmatrix}\n",
       "  0.9730008 & 2.14335343 & 1.13641512 & 1.46087982 & 1.29333039 & 1.14045885\\\\\n",
       "  1.69091708 & 1.3036732 & 1.13891838 & 1.39012777\\\\\n",
       "\\end{bmatrix} = \n",
       "\\begin{bmatrix}\n",
       "  0.39823209 & 0.85027051 & 0.89138083 & 0.91361819 & 0.57190515 & 0.64819585\\\\\n",
       "  0.07314825 & 0.28117323 & 0.98415608 & 0.4843848 & 0.64633732 & 0.17018036\\\\\n",
       "  0.91152458 & 0.6504361\\\\\n",
       "\\end{bmatrix} \\cdot \n",
       "\\begin{bmatrix}\n",
       "  0.06085166 & -0.27746197 & 0.07677292 & 0.38806325 & 0.12541091 & -0.32613432\\\\\n",
       "  -0.35820217 & -0.20851976 & 0.38291509 & -0.30923568\\\\\n",
       "  -0.07366931 & 0.02174137 & -0.19559826 & -0.10112936 & 0.20515827 & 0.11681876\\\\\n",
       "  0.20036339 & 0.28235451 & 0.07362941 & 0.47942535\\\\\n",
       "  -0.05875338 & 0.43089119 & 0.22036122 & 0.59541122 & -0.23109498 & -0.16366596\\\\\n",
       "  0.05129554 & 0.41524341 & 0.4906516 & 0.35056853\\\\\n",
       "  -0.06267627 & 0.35215948 & 0.37759897 & 0.00320239 & -0.44072414 & 0.54014194\\\\\n",
       "  0.44657586 & -0.23600783 & 0.47539222 & 0.2710162\\\\\n",
       "  -0.25187521 & 0.62178557 & -0.25482447 & 0.19930264 & 0.25348171 & 0.13645447\\\\\n",
       "  0.30127223 & 0.00352729 & -0.38865481 & -0.40916375\\\\\n",
       "  0.39216906 & 0.10682563 & 0.43893503 & 0.1155048 & 0.16512509 & 0.5661625\\\\\n",
       "  -0.02452274 & -0.21619522 & -0.13596044 & -0.08014457\\\\\n",
       "  -0.0106068 & 0.49962326 & 0.50059575 & -0.46395078 & -0.11156473 & -0.04618281\\\\\n",
       "  -0.33451121 & -0.0142554 & -0.16687291 & -0.31554602\\\\\n",
       "  0.15673302 & 0.35966381 & 0.22250941 & 0.29390637 & -0.06649387 & -0.39850182\\\\\n",
       "  -0.20931519 & 0.29644419 & 0.4248607 & 0.18305275\\\\\n",
       "  0.22878288 & 0.25934114 & 0.4476843 & 0.49595821 & 0.58875594 & -0.00902135\\\\\n",
       "  0.51211614 & 0.5567468 & -0.06070585 & 0.53902726\\\\\n",
       "  0.32764082 & 0.67424801 & -0.30699459 & -0.42136964 & 0.06633067 & 0.37416334\\\\\n",
       "  0.38278507 & 0.22257878 & -0.3652071 & -0.16945082\\\\\n",
       "  -0.10406441 & -0.10689225 & 0.11469024 & 0.3260487 & -0.31742921 & 0.11215858\\\\\n",
       "  0.13549544 & 0.03857429 & 0.45749745 & 0.1090833\\\\\n",
       "  -0.41113077 & -0.05801139 & 0.06077411 & -0.30985389 & -0.49283037 & 0.00444464\\\\\n",
       "  -0.12187074 & -0.16414209 & 0.21304892 & 0.0034312\\\\\n",
       "  0.2433021 & 0.34611933 & 0.03454956 & 0.33247856 & 0.19620083 & -0.22092035\\\\\n",
       "  0.47289382 & 0.26853841 & -0.28951773 & 0.2140859\\\\\n",
       "  0.16582587 & -0.18483054 & 0.46766321 & -0.27831663 & 0.47312253 & 0.44779277\\\\\n",
       "  -0.36864245 & 0.22012804 & 0.21908622 & 0.30197072\\\\\n",
       "\\end{bmatrix} + \n",
       "\\begin{bmatrix}\n",
       "  0.3913233 & 0.26887086 & -0.21925243 & 0.0570738 & 0.64335234 & 0.15832116\\\\\n",
       "  0.18886783 & 0.00722956 & 0.28138098 & -0.10795026\\\\\n",
       "\\end{bmatrix}\\end{gather}"
      ],
      "text/plain": [
       "<IPython.core.display.Latex object>"
      ]
     },
     "metadata": {},
     "output_type": "display_data"
    },
    {
     "data": {
      "text/latex": [
       "f_{custo}(\n",
       "\\begin{bmatrix}\n",
       "  0 & 0 & 1 & 0 & 0 & 0 & 0 & 0 & 0 & 0\\\\\n",
       "\\end{bmatrix},\n",
       "\\begin{bmatrix}\n",
       "  0.9730008 & 2.14335343 & 1.13641512 & 1.46087982 & 1.29333039 & 1.14045885\\\\\n",
       "  1.69091708 & 1.3036732 & 1.13891838 & 1.39012777\\\\\n",
       "\\end{bmatrix}) = \n",
       "\\begin{bmatrix}\n",
       "  1.8455177995641634\\\\\n",
       "\\end{bmatrix}"
      ],
      "text/plain": [
       "<IPython.core.display.Latex object>"
      ]
     },
     "metadata": {},
     "output_type": "display_data"
    },
    {
     "data": {
      "text/latex": [
       "\\nabla f_{custo} = \\frac{\\partial E}{\\partial Y} = \n",
       "\\begin{bmatrix}\n",
       "  0.19460016 & 0.42867069 & 0.02728302 & 0.29217596 & 0.25866608 & 0.22809177\\\\\n",
       "  0.33818342 & 0.26073464 & 0.22778368 & 0.27802555\\\\\n",
       "\\end{bmatrix}"
      ],
      "text/plain": [
       "<IPython.core.display.Latex object>"
      ]
     },
     "metadata": {},
     "output_type": "display_data"
    },
    {
     "data": {
      "text/latex": [
       "Camada: 2"
      ],
      "text/plain": [
       "<IPython.core.display.Latex object>"
      ]
     },
     "metadata": {},
     "output_type": "display_data"
    },
    {
     "data": {
      "text/latex": [
       "W = W - \\lambda (X \\cdot \\nabla f_{custo})"
      ],
      "text/plain": [
       "<IPython.core.display.Latex object>"
      ]
     },
     "metadata": {},
     "output_type": "display_data"
    },
    {
     "data": {
      "text/latex": [
       "\\begin{gather}\n",
       "\\begin{bmatrix}\n",
       "  0.00660444 & -0.39695927 & 0.06916743 & 0.30661556 & 0.05330452 & -0.38971774\\\\\n",
       "  -0.45247501 & -0.28120279 & 0.31941755 & -0.38673876\\\\\n",
       "  -0.18949326 & -0.23339886 & -0.21183683 & -0.27502939 & 0.05120298 & -0.01893904\\\\\n",
       "  -0.00091978 & 0.12716803 & -0.06194501 & 0.3139475\\\\\n",
       "  -0.18017738 & 0.16341501 & 0.20333752 & 0.41310318 & -0.39249397 & -0.30598761\\\\\n",
       "  -0.15971961 & 0.25255371 & 0.3485222 & 0.17708988\\\\\n",
       "  -0.18712944 & 0.07801054 & 0.36015058 & -0.18365371 & -0.60614957 & 0.39426978\\\\\n",
       "  0.23029649 & -0.40275617 & 0.3297171 & 0.09320976\\\\\n",
       "  -0.32978019 & 0.45017429 & -0.26574678 & 0.08233478 & 0.14992899 & 0.04514167\\\\\n",
       "  0.16588604 & -0.10085355 & -0.47984427 & -0.52046673\\\\\n",
       "  0.30387175 & -0.08767816 & 0.42655571 & -0.01706628 & 0.04775869 & 0.46266881\\\\\n",
       "  -0.1779691 & -0.33450019 & -0.23931434 & -0.20629508\\\\\n",
       "  -0.02057106 & 0.47767371 & 0.49919875 & -0.47891129 & -0.12480941 & -0.05786196\\\\\n",
       "  -0.35182747 & -0.027606 & -0.17853629 & -0.32978198\\\\\n",
       "  0.11843157 & 0.2752923 & 0.21713953 & 0.23639993 & -0.11740485 & -0.44339513\\\\\n",
       "  -0.27587688 & 0.24512607 & 0.38002803 & 0.12833141\\\\\n",
       "  0.09472103 & -0.03597406 & 0.42888878 & 0.29467548 & 0.41055848 & -0.16615589\\\\\n",
       "  0.27913845 & 0.3771243 & -0.21762814 & 0.34749288\\\\\n",
       "  0.26165787 & 0.52889892 & -0.31624543 & -0.52043756 & -0.02137507 & 0.29682441\\\\\n",
       "  0.26811743 & 0.13417165 & -0.44244156 & -0.26372077\\\\\n",
       "  -0.19210855 & -0.30083836 & 0.10234641 & 0.19385774 & -0.43445909 & 0.00896162\\\\\n",
       "  -0.01751096 & -0.07939148 & 0.35443989 & -0.0167055\\\\\n",
       "  -0.43431276 & -0.10907733 & 0.05752399 & -0.34465971 & -0.52364429 & -0.02272708\\\\\n",
       "  -0.16215726 & -0.19520243 & 0.1859139 & -0.02968895\\\\\n",
       "  0.11913412 & 0.07259862 & 0.01714116 & 0.14605065 & 0.03115449 & -0.36645823\\\\\n",
       "  0.25711007 & 0.10217218 & -0.43485902 & 0.03668692\\\\\n",
       "  0.07722339 & -0.38000656 & 0.45524111 & -0.41134588 & 0.3553505 & 0.34394139\\\\\n",
       "  -0.52261914 & 0.10141419 & 0.11537512 & 0.17538422\\\\\n",
       "\\end{bmatrix} = \n",
       "\\begin{bmatrix}\n",
       "  0.06085166 & -0.27746197 & 0.07677292 & 0.38806325 & 0.12541091 & -0.32613432\\\\\n",
       "  -0.35820217 & -0.20851976 & 0.38291509 & -0.30923568\\\\\n",
       "  -0.07366931 & 0.02174137 & -0.19559826 & -0.10112936 & 0.20515827 & 0.11681876\\\\\n",
       "  0.20036339 & 0.28235451 & 0.07362941 & 0.47942535\\\\\n",
       "  -0.05875338 & 0.43089119 & 0.22036122 & 0.59541122 & -0.23109498 & -0.16366596\\\\\n",
       "  0.05129554 & 0.41524341 & 0.4906516 & 0.35056853\\\\\n",
       "  -0.06267627 & 0.35215948 & 0.37759897 & 0.00320239 & -0.44072414 & 0.54014194\\\\\n",
       "  0.44657586 & -0.23600783 & 0.47539222 & 0.2710162\\\\\n",
       "  -0.25187521 & 0.62178557 & -0.25482447 & 0.19930264 & 0.25348171 & 0.13645447\\\\\n",
       "  0.30127223 & 0.00352729 & -0.38865481 & -0.40916375\\\\\n",
       "  0.39216906 & 0.10682563 & 0.43893503 & 0.1155048 & 0.16512509 & 0.5661625\\\\\n",
       "  -0.02452274 & -0.21619522 & -0.13596044 & -0.08014457\\\\\n",
       "  -0.0106068 & 0.49962326 & 0.50059575 & -0.46395078 & -0.11156473 & -0.04618281\\\\\n",
       "  -0.33451121 & -0.0142554 & -0.16687291 & -0.31554602\\\\\n",
       "  0.15673302 & 0.35966381 & 0.22250941 & 0.29390637 & -0.06649387 & -0.39850182\\\\\n",
       "  -0.20931519 & 0.29644419 & 0.4248607 & 0.18305275\\\\\n",
       "  0.22878288 & 0.25934114 & 0.4476843 & 0.49595821 & 0.58875594 & -0.00902135\\\\\n",
       "  0.51211614 & 0.5567468 & -0.06070585 & 0.53902726\\\\\n",
       "  0.32764082 & 0.67424801 & -0.30699459 & -0.42136964 & 0.06633067 & 0.37416334\\\\\n",
       "  0.38278507 & 0.22257878 & -0.3652071 & -0.16945082\\\\\n",
       "  -0.10406441 & -0.10689225 & 0.11469024 & 0.3260487 & -0.31742921 & 0.11215858\\\\\n",
       "  0.13549544 & 0.03857429 & 0.45749745 & 0.1090833\\\\\n",
       "  -0.41113077 & -0.05801139 & 0.06077411 & -0.30985389 & -0.49283037 & 0.00444464\\\\\n",
       "  -0.12187074 & -0.16414209 & 0.21304892 & 0.0034312\\\\\n",
       "  0.2433021 & 0.34611933 & 0.03454956 & 0.33247856 & 0.19620083 & -0.22092035\\\\\n",
       "  0.47289382 & 0.26853841 & -0.28951773 & 0.2140859\\\\\n",
       "  0.16582587 & -0.18483054 & 0.46766321 & -0.27831663 & 0.47312253 & 0.44779277\\\\\n",
       "  -0.36864245 & 0.22012804 & 0.21908622 & 0.30197072\\\\\n",
       "\\end{bmatrix} - 0.7\n",
       "\\begin{bmatrix}\n",
       "  0.39823209\\\\\n",
       "  0.85027051\\\\\n",
       "  0.89138083\\\\\n",
       "  0.91361819\\\\\n",
       "  0.57190515\\\\\n",
       "  0.64819585\\\\\n",
       "  0.07314825\\\\\n",
       "  0.28117323\\\\\n",
       "  0.98415608\\\\\n",
       "  0.4843848\\\\\n",
       "  0.64633732\\\\\n",
       "  0.17018036\\\\\n",
       "  0.91152458\\\\\n",
       "  0.6504361\\\\\n",
       "\\end{bmatrix} \\cdot \n",
       "\\begin{bmatrix}\n",
       "  0.19460016 & 0.42867069 & 0.02728302 & 0.29217596 & 0.25866608 & 0.22809177\\\\\n",
       "  0.33818342 & 0.26073464 & 0.22778368 & 0.27802555\\\\\n",
       "\\end{bmatrix}\\end{gather}"
      ],
      "text/plain": [
       "<IPython.core.display.Latex object>"
      ]
     },
     "metadata": {},
     "output_type": "display_data"
    },
    {
     "data": {
      "text/latex": [
       "\\nabla f_{custo} = \\frac{\\partial E}{\\partial Y} = \n",
       "\\begin{bmatrix}\n",
       "  -0.2078297 & 0.33125589 & 0.59099176 & 0.43232803 & 0.26601437 & 0.22176707\\\\\n",
       "  -0.19176347 & 0.32270203 & 0.91743578 & 0.38098625 & 0.1662128 & -0.35474153\\\\\n",
       "  0.51767913 & 0.17558482\\\\\n",
       "\\end{bmatrix}"
      ],
      "text/plain": [
       "<IPython.core.display.Latex object>"
      ]
     },
     "metadata": {},
     "output_type": "display_data"
    },
    {
     "data": {
      "text/latex": [
       "Camada: 1"
      ],
      "text/plain": [
       "<IPython.core.display.Latex object>"
      ]
     },
     "metadata": {},
     "output_type": "display_data"
    },
    {
     "data": {
      "text/latex": [
       "\\nabla = \\frac{\\partial E}{\\partial Y} \\frac{\\partial Y}{\\partial X}"
      ],
      "text/plain": [
       "<IPython.core.display.Latex object>"
      ]
     },
     "metadata": {},
     "output_type": "display_data"
    },
    {
     "data": {
      "text/latex": [
       "\\begin{gather}\n",
       "\\begin{bmatrix}\n",
       "  0.39823209 & 0.85027051 & 0.89138083 & 0.91361819 & 0.57190515 & 0.64819585\\\\\n",
       "  0.07314825 & 0.28117323 & 0.98415608 & 0.4843848 & 0.64633732 & 0.17018036\\\\\n",
       "  0.91152458 & 0.6504361\\\\\n",
       "\\end{bmatrix} = \\sigma(\n",
       "\\begin{bmatrix}\n",
       "  -0.41283688 & 1.73672426 & 2.10492389 & 2.35863564 & 0.28962839 & 0.61111827\\\\\n",
       "  -2.53930549 & -0.93864945 & 4.12899889 & -0.06248112 & 0.60297797 & -1.58434957\\\\\n",
       "  2.3323938 & 0.62095667\\\\\n",
       "\\end{bmatrix}) \\end{gather}"
      ],
      "text/plain": [
       "<IPython.core.display.Latex object>"
      ]
     },
     "metadata": {},
     "output_type": "display_data"
    },
    {
     "data": {
      "text/latex": [
       "\\nabla f_{custo} = \\frac{\\partial E}{\\partial Y} = \n",
       "\\begin{bmatrix}\n",
       "  -0.04980499 & 0.04217238 & 0.05722044 & 0.03411932 & 0.0651282 & 0.05057132\\\\\n",
       "  -0.0130011 & 0.06522287 & 0.01430547 & 0.09515366 & 0.03799382 & -0.05009625\\\\\n",
       "  0.04174954 & 0.03992254\\\\\n",
       "\\end{bmatrix}"
      ],
      "text/plain": [
       "<IPython.core.display.Latex object>"
      ]
     },
     "metadata": {},
     "output_type": "display_data"
    },
    {
     "data": {
      "text/latex": [
       "Camada: 0"
      ],
      "text/plain": [
       "<IPython.core.display.Latex object>"
      ]
     },
     "metadata": {},
     "output_type": "display_data"
    },
    {
     "data": {
      "text/latex": [
       "W = W - \\lambda (X \\cdot \\nabla f_{custo})"
      ],
      "text/plain": [
       "<IPython.core.display.Latex object>"
      ]
     },
     "metadata": {},
     "output_type": "display_data"
    },
    {
     "data": {
      "text/latex": [
       "\\begin{gather}\n",
       "\\begin{bmatrix}\n",
       "  -0.08805162 & 0.34523826 & 0.31934265 & 0.69873824 & -0.29032028 & 0.31647787\\\\\n",
       "  -0.1178314 & 0.2478467 & 0.77245784 & 0.22719476 & 0.25916325 & 0.14383262\\\\\n",
       "  0.4340269 & 0.09831539\\\\\n",
       "  -1.10168768 & 0.34713867 & 0.26039163 & -0.46848165 & -0.71909021 & -0.61025952\\\\\n",
       "  -1.23575745 & -0.22693148 & 0.679812 & -0.38814349 & -0.19743347 & -0.69866192\\\\\n",
       "  0.3728101 & -0.04324451\\\\\n",
       "  -0.78271146 & 0.07572453 & 0.40013763 & -0.49426049 & -0.97142599 & -0.23095748\\\\\n",
       "  -0.48472938 & -0.49547584 & 0.19604958 & -0.67932694 & -0.09104352 & -0.88145737\\\\\n",
       "  -0.14879979 & 0.04815211\\\\\n",
       "  0.28826776 & 0.33670125 & 0.76652047 & 0.52031327 & 0.37290011 & -0.10244391\\\\\n",
       "  -0.336098 & -0.23164246 & 0.59861746 & -0.01850652 & 0.10720888 & -0.04480494\\\\\n",
       "  0.5908938 & -0.11142397\\\\\n",
       "  0.77971033 & 0.00127451 & 0.13213479 & 0.82643444 & 0.37306476 & 0.78051562\\\\\n",
       "  -0.0110743 & -0.2798043 & 0.51139729 & -0.21899424 & 0.51989139 & -0.23545722\\\\\n",
       "  0.57361224 & 0.15061705\\\\\n",
       "  -0.12282543 & 0.45163627 & 0.14742775 & 0.73181092 & -0.2323946 & 0.72295415\\\\\n",
       "  -0.16325473 & -0.02533977 & 0.37818721 & 0.33594076 & 0.55976421 & 0.1337649\\\\\n",
       "  0.41832523 & -0.10948776\\\\\n",
       "  0.4119326 & 0.13935608 & 0.48575259 & 0.90821052 & 0.73828857 & 0.73024183\\\\\n",
       "  0.0724246 & 0.34093698 & 0.84459529 & 0.67748031 & 0.08672282 & 0.37173562\\\\\n",
       "  0.18094839 & 0.75267507\\\\\n",
       "\\end{bmatrix} = \n",
       "\\begin{bmatrix}\n",
       "  -0.12291512 & 0.37475893 & 0.35939695 & 0.72262177 & -0.24473053 & 0.35187779\\\\\n",
       "  -0.12693217 & 0.29350271 & 0.78247167 & 0.29380233 & 0.28575893 & 0.10876525\\\\\n",
       "  0.46325158 & 0.12626117\\\\\n",
       "  -1.13655117 & 0.37665933 & 0.30044594 & -0.44459812 & -0.67350046 & -0.5748596\\\\\n",
       "  -1.24485822 & -0.18127547 & 0.68982583 & -0.32153592 & -0.17083779 & -0.73372929\\\\\n",
       "  0.40203478 & -0.01529873\\\\\n",
       "  -0.78271146 & 0.07572453 & 0.40013763 & -0.49426049 & -0.97142599 & -0.23095748\\\\\n",
       "  -0.48472938 & -0.49547584 & 0.19604958 & -0.67932694 & -0.09104352 & -0.88145737\\\\\n",
       "  -0.14879979 & 0.04815211\\\\\n",
       "  0.25340426 & 0.36622191 & 0.80657477 & 0.5441968 & 0.41848986 & -0.06704399\\\\\n",
       "  -0.34519877 & -0.18598645 & 0.60863129 & 0.04810105 & 0.13380455 & -0.07987231\\\\\n",
       "  0.62011848 & -0.08347819\\\\\n",
       "  0.74484683 & 0.03079517 & 0.1721891 & 0.85031797 & 0.4186545 & 0.81591555\\\\\n",
       "  -0.02017507 & -0.23414829 & 0.52141112 & -0.15238668 & 0.54648706 & -0.27052459\\\\\n",
       "  0.60283692 & 0.17856283\\\\\n",
       "  -0.12282543 & 0.45163627 & 0.14742775 & 0.73181092 & -0.2323946 & 0.72295415\\\\\n",
       "  -0.16325473 & -0.02533977 & 0.37818721 & 0.33594076 & 0.55976421 & 0.1337649\\\\\n",
       "  0.41832523 & -0.10948776\\\\\n",
       "  0.37706911 & 0.16887675 & 0.5258069 & 0.93209405 & 0.78387831 & 0.76564175\\\\\n",
       "  0.06332383 & 0.38659299 & 0.85460912 & 0.74408787 & 0.11331849 & 0.33666824\\\\\n",
       "  0.21017306 & 0.78062085\\\\\n",
       "\\end{bmatrix} - 0.7\n",
       "\\begin{bmatrix}\n",
       "  1\\\\\n",
       "  1\\\\\n",
       "  0\\\\\n",
       "  1\\\\\n",
       "  1\\\\\n",
       "  0\\\\\n",
       "  1\\\\\n",
       "\\end{bmatrix} \\cdot \n",
       "\\begin{bmatrix}\n",
       "  -0.04980499 & 0.04217238 & 0.05722044 & 0.03411932 & 0.0651282 & 0.05057132\\\\\n",
       "  -0.0130011 & 0.06522287 & 0.01430547 & 0.09515366 & 0.03799382 & -0.05009625\\\\\n",
       "  0.04174954 & 0.03992254\\\\\n",
       "\\end{bmatrix}\\end{gather}"
      ],
      "text/plain": [
       "<IPython.core.display.Latex object>"
      ]
     },
     "metadata": {},
     "output_type": "display_data"
    },
    {
     "data": {
      "text/latex": [
       "Camada: 0"
      ],
      "text/plain": [
       "<IPython.core.display.Latex object>"
      ]
     },
     "metadata": {},
     "output_type": "display_data"
    },
    {
     "data": {
      "text/latex": [
       "Y = Xw + b"
      ],
      "text/plain": [
       "<IPython.core.display.Latex object>"
      ]
     },
     "metadata": {},
     "output_type": "display_data"
    },
    {
     "data": {
      "text/latex": [
       "\\begin{gather}\n",
       "\\begin{bmatrix}\n",
       "  -1.7660777 & 1.6340503 & 2.13260088 & 0.89463954 & -1.32840082 & -0.61275437\\\\\n",
       "  -2.95835595 & -1.42825704 & 3.75356819 & -0.92245921 & -0.16753097 & -2.01994549\\\\\n",
       "  1.4346337 & 0.35081706\\\\\n",
       "\\end{bmatrix} = \n",
       "\\begin{bmatrix}\n",
       "  1 & 1 & 1 & 1 & 0 & 0 & 1\\\\\n",
       "\\end{bmatrix} \\cdot \n",
       "\\begin{bmatrix}\n",
       "  -0.08805162 & 0.34523826 & 0.31934265 & 0.69873824 & -0.29032028 & 0.31647787\\\\\n",
       "  -0.1178314 & 0.2478467 & 0.77245784 & 0.22719476 & 0.25916325 & 0.14383262\\\\\n",
       "  0.4340269 & 0.09831539\\\\\n",
       "  -1.10168768 & 0.34713867 & 0.26039163 & -0.46848165 & -0.71909021 & -0.61025952\\\\\n",
       "  -1.23575745 & -0.22693148 & 0.679812 & -0.38814349 & -0.19743347 & -0.69866192\\\\\n",
       "  0.3728101 & -0.04324451\\\\\n",
       "  -0.78271146 & 0.07572453 & 0.40013763 & -0.49426049 & -0.97142599 & -0.23095748\\\\\n",
       "  -0.48472938 & -0.49547584 & 0.19604958 & -0.67932694 & -0.09104352 & -0.88145737\\\\\n",
       "  -0.14879979 & 0.04815211\\\\\n",
       "  0.28826776 & 0.33670125 & 0.76652047 & 0.52031327 & 0.37290011 & -0.10244391\\\\\n",
       "  -0.336098 & -0.23164246 & 0.59861746 & -0.01850652 & 0.10720888 & -0.04480494\\\\\n",
       "  0.5908938 & -0.11142397\\\\\n",
       "  0.77971033 & 0.00127451 & 0.13213479 & 0.82643444 & 0.37306476 & 0.78051562\\\\\n",
       "  -0.0110743 & -0.2798043 & 0.51139729 & -0.21899424 & 0.51989139 & -0.23545722\\\\\n",
       "  0.57361224 & 0.15061705\\\\\n",
       "  -0.12282543 & 0.45163627 & 0.14742775 & 0.73181092 & -0.2323946 & 0.72295415\\\\\n",
       "  -0.16325473 & -0.02533977 & 0.37818721 & 0.33594076 & 0.55976421 & 0.1337649\\\\\n",
       "  0.41832523 & -0.10948776\\\\\n",
       "  0.4119326 & 0.13935608 & 0.48575259 & 0.90821052 & 0.73828857 & 0.73024183\\\\\n",
       "  0.0724246 & 0.34093698 & 0.84459529 & 0.67748031 & 0.08672282 & 0.37173562\\\\\n",
       "  0.18094839 & 0.75267507\\\\\n",
       "\\end{bmatrix} + \n",
       "\\begin{bmatrix}\n",
       "  -0.49382729 & 0.38989151 & -0.09954408 & -0.26988035 & -0.45875303 & -0.71581315\\\\\n",
       "  -0.85636432 & -1.06299094 & 0.66203602 & -0.74115733 & -0.33214894 & -0.9105895\\\\\n",
       "  0.0047543 & -0.39365704\\\\\n",
       "\\end{bmatrix}\\end{gather}"
      ],
      "text/plain": [
       "<IPython.core.display.Latex object>"
      ]
     },
     "metadata": {},
     "output_type": "display_data"
    },
    {
     "data": {
      "text/latex": [
       "Camada: 1"
      ],
      "text/plain": [
       "<IPython.core.display.Latex object>"
      ]
     },
     "metadata": {},
     "output_type": "display_data"
    },
    {
     "data": {
      "text/latex": [
       "Y = \\sigma(X)"
      ],
      "text/plain": [
       "<IPython.core.display.Latex object>"
      ]
     },
     "metadata": {},
     "output_type": "display_data"
    },
    {
     "data": {
      "text/latex": [
       "\\begin{gather}\n",
       "\\begin{bmatrix}\n",
       "  0.14603078 & 0.83672373 & 0.89403167 & 0.70984668 & 0.20942401 & 0.35143115\\\\\n",
       "  0.04934307 & 0.1933704 & 0.9771026 & 0.28445708 & 0.45821494 & 0.11712463\\\\\n",
       "  0.80762227 & 0.5868157\\\\\n",
       "\\end{bmatrix} = \\sigma(\n",
       "\\begin{bmatrix}\n",
       "  -1.7660777 & 1.6340503 & 2.13260088 & 0.89463954 & -1.32840082 & -0.61275437\\\\\n",
       "  -2.95835595 & -1.42825704 & 3.75356819 & -0.92245921 & -0.16753097 & -2.01994549\\\\\n",
       "  1.4346337 & 0.35081706\\\\\n",
       "\\end{bmatrix}) \\end{gather}"
      ],
      "text/plain": [
       "<IPython.core.display.Latex object>"
      ]
     },
     "metadata": {},
     "output_type": "display_data"
    },
    {
     "data": {
      "text/latex": [
       "Camada: 2"
      ],
      "text/plain": [
       "<IPython.core.display.Latex object>"
      ]
     },
     "metadata": {},
     "output_type": "display_data"
    },
    {
     "data": {
      "text/latex": [
       "Y = Xw + b"
      ],
      "text/plain": [
       "<IPython.core.display.Latex object>"
      ]
     },
     "metadata": {},
     "output_type": "display_data"
    },
    {
     "data": {
      "text/latex": [
       "\\begin{gather}\n",
       "\\begin{bmatrix}\n",
       "  0.03282701 & -0.14240293 & 0.85654499 & 0.00440667 & 0.11941565 & -0.15493944\\\\\n",
       "  0.03043045 & 0.22675627 & 0.10465423 & 0.34111262\\\\\n",
       "\\end{bmatrix} = \n",
       "\\begin{bmatrix}\n",
       "  0.14603078 & 0.83672373 & 0.89403167 & 0.70984668 & 0.20942401 & 0.35143115\\\\\n",
       "  0.04934307 & 0.1933704 & 0.9771026 & 0.28445708 & 0.45821494 & 0.11712463\\\\\n",
       "  0.80762227 & 0.5868157\\\\\n",
       "\\end{bmatrix} \\cdot \n",
       "\\begin{bmatrix}\n",
       "  0.00660444 & -0.39695927 & 0.06916743 & 0.30661556 & 0.05330452 & -0.38971774\\\\\n",
       "  -0.45247501 & -0.28120279 & 0.31941755 & -0.38673876\\\\\n",
       "  -0.18949326 & -0.23339886 & -0.21183683 & -0.27502939 & 0.05120298 & -0.01893904\\\\\n",
       "  -0.00091978 & 0.12716803 & -0.06194501 & 0.3139475\\\\\n",
       "  -0.18017738 & 0.16341501 & 0.20333752 & 0.41310318 & -0.39249397 & -0.30598761\\\\\n",
       "  -0.15971961 & 0.25255371 & 0.3485222 & 0.17708988\\\\\n",
       "  -0.18712944 & 0.07801054 & 0.36015058 & -0.18365371 & -0.60614957 & 0.39426978\\\\\n",
       "  0.23029649 & -0.40275617 & 0.3297171 & 0.09320976\\\\\n",
       "  -0.32978019 & 0.45017429 & -0.26574678 & 0.08233478 & 0.14992899 & 0.04514167\\\\\n",
       "  0.16588604 & -0.10085355 & -0.47984427 & -0.52046673\\\\\n",
       "  0.30387175 & -0.08767816 & 0.42655571 & -0.01706628 & 0.04775869 & 0.46266881\\\\\n",
       "  -0.1779691 & -0.33450019 & -0.23931434 & -0.20629508\\\\\n",
       "  -0.02057106 & 0.47767371 & 0.49919875 & -0.47891129 & -0.12480941 & -0.05786196\\\\\n",
       "  -0.35182747 & -0.027606 & -0.17853629 & -0.32978198\\\\\n",
       "  0.11843157 & 0.2752923 & 0.21713953 & 0.23639993 & -0.11740485 & -0.44339513\\\\\n",
       "  -0.27587688 & 0.24512607 & 0.38002803 & 0.12833141\\\\\n",
       "  0.09472103 & -0.03597406 & 0.42888878 & 0.29467548 & 0.41055848 & -0.16615589\\\\\n",
       "  0.27913845 & 0.3771243 & -0.21762814 & 0.34749288\\\\\n",
       "  0.26165787 & 0.52889892 & -0.31624543 & -0.52043756 & -0.02137507 & 0.29682441\\\\\n",
       "  0.26811743 & 0.13417165 & -0.44244156 & -0.26372077\\\\\n",
       "  -0.19210855 & -0.30083836 & 0.10234641 & 0.19385774 & -0.43445909 & 0.00896162\\\\\n",
       "  -0.01751096 & -0.07939148 & 0.35443989 & -0.0167055\\\\\n",
       "  -0.43431276 & -0.10907733 & 0.05752399 & -0.34465971 & -0.52364429 & -0.02272708\\\\\n",
       "  -0.16215726 & -0.19520243 & 0.1859139 & -0.02968895\\\\\n",
       "  0.11913412 & 0.07259862 & 0.01714116 & 0.14605065 & 0.03115449 & -0.36645823\\\\\n",
       "  0.25711007 & 0.10217218 & -0.43485902 & 0.03668692\\\\\n",
       "  0.07722339 & -0.38000656 & 0.45524111 & -0.41134588 & 0.3553505 & 0.34394139\\\\\n",
       "  -0.52261914 & 0.10141419 & 0.11537512 & 0.17538422\\\\\n",
       "\\end{bmatrix} + \n",
       "\\begin{bmatrix}\n",
       "  0.25510319 & -0.03119862 & -0.23835055 & -0.14744937 & 0.46228609 & -0.00134308\\\\\n",
       "  -0.04786056 & -0.17528469 & 0.12193241 & -0.30256815\\\\\n",
       "\\end{bmatrix}\\end{gather}"
      ],
      "text/plain": [
       "<IPython.core.display.Latex object>"
      ]
     },
     "metadata": {},
     "output_type": "display_data"
    },
    {
     "data": {
      "text/latex": [
       "f_{custo}(\n",
       "\\begin{bmatrix}\n",
       "  0 & 0 & 0 & 1 & 0 & 0 & 0 & 0 & 0 & 0\\\\\n",
       "\\end{bmatrix},\n",
       "\\begin{bmatrix}\n",
       "  0.03282701 & -0.14240293 & 0.85654499 & 0.00440667 & 0.11941565 & -0.15493944\\\\\n",
       "  0.03043045 & 0.22675627 & 0.10465423 & 0.34111262\\\\\n",
       "\\end{bmatrix}) = \n",
       "\\begin{bmatrix}\n",
       "  0.1964152678697889\\\\\n",
       "\\end{bmatrix}"
      ],
      "text/plain": [
       "<IPython.core.display.Latex object>"
      ]
     },
     "metadata": {},
     "output_type": "display_data"
    },
    {
     "data": {
      "text/latex": [
       "\\nabla f_{custo} = \\frac{\\partial E}{\\partial Y} = \n",
       "\\begin{bmatrix}\n",
       "  0.0065654 & -0.02848059 & 0.171309 & -0.19911867 & 0.02388313 & -0.03098789\\\\\n",
       "  0.00608609 & 0.04535125 & 0.02093085 & 0.06822252\\\\\n",
       "\\end{bmatrix}"
      ],
      "text/plain": [
       "<IPython.core.display.Latex object>"
      ]
     },
     "metadata": {},
     "output_type": "display_data"
    },
    {
     "data": {
      "text/latex": [
       "Camada: 2"
      ],
      "text/plain": [
       "<IPython.core.display.Latex object>"
      ]
     },
     "metadata": {},
     "output_type": "display_data"
    },
    {
     "data": {
      "text/latex": [
       "W = W - \\lambda (X \\cdot \\nabla f_{custo})"
      ],
      "text/plain": [
       "<IPython.core.display.Latex object>"
      ]
     },
     "metadata": {},
     "output_type": "display_data"
    },
    {
     "data": {
      "text/latex": [
       "\\begin{gather}\n",
       "\\begin{bmatrix}\n",
       "  0.00593331 & -0.39404794 & 0.05165596 & 0.32696978 & 0.05086315 & -0.38655011\\\\\n",
       "  -0.45309714 & -0.28583867 & 0.31727797 & -0.39371258\\\\\n",
       "  -0.19333865 & -0.21671759 & -0.31217364 & -0.15840427 & 0.03721447 & -0.00078923\\\\\n",
       "  -0.00448444 & 0.1006055 & -0.07420435 & 0.27398911\\\\\n",
       "  -0.18428615 & 0.18123879 & 0.09612855 & 0.53771606 & -0.40744056 & -0.2865947\\\\\n",
       "  -0.16352842 & 0.22417189 & 0.33542321 & 0.13439471\\\\\n",
       "  -0.19039174 & 0.09216234 & 0.2750284 & -0.0847131 & -0.61801692 & 0.40966744\\\\\n",
       "  0.22727236 & -0.42529088 & 0.31931672 & 0.05931049\\\\\n",
       "  -0.33074266 & 0.45434945 & -0.29086013 & 0.11152494 & 0.1464278 & 0.04968439\\\\\n",
       "  0.16499384 & -0.10750189 & -0.48291266 & -0.53046793\\\\\n",
       "  0.30225665 & -0.08067188 & 0.38441338 & 0.03191727 & 0.0418834 & 0.47029188\\\\\n",
       "  -0.17946629 & -0.34565668 & -0.24446337 & -0.22307795\\\\\n",
       "  -0.02079783 & 0.47865743 & 0.49328171 & -0.4720337 & -0.12563433 & -0.05679164\\\\\n",
       "  -0.35203769 & -0.02917244 & -0.17925924 & -0.33213839\\\\\n",
       "  0.11754288 & 0.27914741 & 0.19395127 & 0.26335249 & -0.12063766 & -0.43920063\\\\\n",
       "  -0.27670069 & 0.23898736 & 0.37719485 & 0.11909686\\\\\n",
       "  0.09023048 & -0.01649414 & 0.31171825 & 0.43086704 & 0.3942231 & -0.14496104\\\\\n",
       "  0.27497574 & 0.34610532 & -0.23194424 & 0.30083059\\\\\n",
       "  0.26035057 & 0.53456997 & -0.35035647 & -0.48078906 & -0.02613068 & 0.30299471\\\\\n",
       "  0.26690557 & 0.12514131 & -0.44660931 & -0.27730523\\\\\n",
       "  -0.19421441 & -0.2917032 & 0.04739897 & 0.25772514 & -0.44211962 & 0.018901\\\\\n",
       "  -0.01946307 & -0.09393791 & 0.34772631 & -0.03858791\\\\\n",
       "  -0.43485104 & -0.10674228 & 0.04347884 & -0.32833452 & -0.5256024 & -0.02018647\\\\\n",
       "  -0.16265625 & -0.19892066 & 0.18419784 & -0.03528232\\\\\n",
       "  0.11542247 & 0.08869971 & -0.07970592 & 0.25861952 & 0.0176525 & -0.34893967\\\\\n",
       "  0.25366938 & 0.07653351 & -0.44669197 & -0.00188171\\\\\n",
       "  0.07452651 & -0.36830757 & 0.38487234 & -0.32955371 & 0.34554 & 0.35667031\\\\\n",
       "  -0.52511913 & 0.08278521 & 0.10677733 & 0.14736039\\\\\n",
       "\\end{bmatrix} = \n",
       "\\begin{bmatrix}\n",
       "  0.00660444 & -0.39695927 & 0.06916743 & 0.30661556 & 0.05330452 & -0.38971774\\\\\n",
       "  -0.45247501 & -0.28120279 & 0.31941755 & -0.38673876\\\\\n",
       "  -0.18949326 & -0.23339886 & -0.21183683 & -0.27502939 & 0.05120298 & -0.01893904\\\\\n",
       "  -0.00091978 & 0.12716803 & -0.06194501 & 0.3139475\\\\\n",
       "  -0.18017738 & 0.16341501 & 0.20333752 & 0.41310318 & -0.39249397 & -0.30598761\\\\\n",
       "  -0.15971961 & 0.25255371 & 0.3485222 & 0.17708988\\\\\n",
       "  -0.18712944 & 0.07801054 & 0.36015058 & -0.18365371 & -0.60614957 & 0.39426978\\\\\n",
       "  0.23029649 & -0.40275617 & 0.3297171 & 0.09320976\\\\\n",
       "  -0.32978019 & 0.45017429 & -0.26574678 & 0.08233478 & 0.14992899 & 0.04514167\\\\\n",
       "  0.16588604 & -0.10085355 & -0.47984427 & -0.52046673\\\\\n",
       "  0.30387175 & -0.08767816 & 0.42655571 & -0.01706628 & 0.04775869 & 0.46266881\\\\\n",
       "  -0.1779691 & -0.33450019 & -0.23931434 & -0.20629508\\\\\n",
       "  -0.02057106 & 0.47767371 & 0.49919875 & -0.47891129 & -0.12480941 & -0.05786196\\\\\n",
       "  -0.35182747 & -0.027606 & -0.17853629 & -0.32978198\\\\\n",
       "  0.11843157 & 0.2752923 & 0.21713953 & 0.23639993 & -0.11740485 & -0.44339513\\\\\n",
       "  -0.27587688 & 0.24512607 & 0.38002803 & 0.12833141\\\\\n",
       "  0.09472103 & -0.03597406 & 0.42888878 & 0.29467548 & 0.41055848 & -0.16615589\\\\\n",
       "  0.27913845 & 0.3771243 & -0.21762814 & 0.34749288\\\\\n",
       "  0.26165787 & 0.52889892 & -0.31624543 & -0.52043756 & -0.02137507 & 0.29682441\\\\\n",
       "  0.26811743 & 0.13417165 & -0.44244156 & -0.26372077\\\\\n",
       "  -0.19210855 & -0.30083836 & 0.10234641 & 0.19385774 & -0.43445909 & 0.00896162\\\\\n",
       "  -0.01751096 & -0.07939148 & 0.35443989 & -0.0167055\\\\\n",
       "  -0.43431276 & -0.10907733 & 0.05752399 & -0.34465971 & -0.52364429 & -0.02272708\\\\\n",
       "  -0.16215726 & -0.19520243 & 0.1859139 & -0.02968895\\\\\n",
       "  0.11913412 & 0.07259862 & 0.01714116 & 0.14605065 & 0.03115449 & -0.36645823\\\\\n",
       "  0.25711007 & 0.10217218 & -0.43485902 & 0.03668692\\\\\n",
       "  0.07722339 & -0.38000656 & 0.45524111 & -0.41134588 & 0.3553505 & 0.34394139\\\\\n",
       "  -0.52261914 & 0.10141419 & 0.11537512 & 0.17538422\\\\\n",
       "\\end{bmatrix} - 0.7\n",
       "\\begin{bmatrix}\n",
       "  0.14603078\\\\\n",
       "  0.83672373\\\\\n",
       "  0.89403167\\\\\n",
       "  0.70984668\\\\\n",
       "  0.20942401\\\\\n",
       "  0.35143115\\\\\n",
       "  0.04934307\\\\\n",
       "  0.1933704\\\\\n",
       "  0.9771026\\\\\n",
       "  0.28445708\\\\\n",
       "  0.45821494\\\\\n",
       "  0.11712463\\\\\n",
       "  0.80762227\\\\\n",
       "  0.5868157\\\\\n",
       "\\end{bmatrix} \\cdot \n",
       "\\begin{bmatrix}\n",
       "  0.0065654 & -0.02848059 & 0.171309 & -0.19911867 & 0.02388313 & -0.03098789\\\\\n",
       "  0.00608609 & 0.04535125 & 0.02093085 & 0.06822252\\\\\n",
       "\\end{bmatrix}\\end{gather}"
      ],
      "text/plain": [
       "<IPython.core.display.Latex object>"
      ]
     },
     "metadata": {},
     "output_type": "display_data"
    },
    {
     "data": {
      "text/latex": [
       "\\nabla f_{custo} = \\frac{\\partial E}{\\partial Y} = \n",
       "\\begin{bmatrix}\n",
       "  -0.05971059 & 0.0515703 & -0.02329423 & 0.06451758 & -0.12383898 & 0.03243055\\\\\n",
       "  0.13632142 & 0.02014643 & 0.06935143 & 0.00686348 & -0.02184304 & 0.05896201\\\\\n",
       "  -0.01573129 & 0.18485083\\\\\n",
       "\\end{bmatrix}"
      ],
      "text/plain": [
       "<IPython.core.display.Latex object>"
      ]
     },
     "metadata": {},
     "output_type": "display_data"
    },
    {
     "data": {
      "text/latex": [
       "Camada: 1"
      ],
      "text/plain": [
       "<IPython.core.display.Latex object>"
      ]
     },
     "metadata": {},
     "output_type": "display_data"
    },
    {
     "data": {
      "text/latex": [
       "\\nabla = \\frac{\\partial E}{\\partial Y} \\frac{\\partial Y}{\\partial X}"
      ],
      "text/plain": [
       "<IPython.core.display.Latex object>"
      ]
     },
     "metadata": {},
     "output_type": "display_data"
    },
    {
     "data": {
      "text/latex": [
       "\\begin{gather}\n",
       "\\begin{bmatrix}\n",
       "  0.14603078 & 0.83672373 & 0.89403167 & 0.70984668 & 0.20942401 & 0.35143115\\\\\n",
       "  0.04934307 & 0.1933704 & 0.9771026 & 0.28445708 & 0.45821494 & 0.11712463\\\\\n",
       "  0.80762227 & 0.5868157\\\\\n",
       "\\end{bmatrix} = \\sigma(\n",
       "\\begin{bmatrix}\n",
       "  -1.7660777 & 1.6340503 & 2.13260088 & 0.89463954 & -1.32840082 & -0.61275437\\\\\n",
       "  -2.95835595 & -1.42825704 & 3.75356819 & -0.92245921 & -0.16753097 & -2.01994549\\\\\n",
       "  1.4346337 & 0.35081706\\\\\n",
       "\\end{bmatrix}) \\end{gather}"
      ],
      "text/plain": [
       "<IPython.core.display.Latex object>"
      ]
     },
     "metadata": {},
     "output_type": "display_data"
    },
    {
     "data": {
      "text/latex": [
       "\\nabla f_{custo} = \\frac{\\partial E}{\\partial Y} = \n",
       "\\begin{bmatrix}\n",
       "  -0.00744626 & 0.00704539 & -0.00220687 & 0.01328832 & -0.02050347 & 0.00739181\\\\\n",
       "  0.00639461 & 0.00314241 & 0.00155161 & 0.001397 & -0.00542262 & 0.00609705\\\\\n",
       "  -0.00244415 & 0.04481949\\\\\n",
       "\\end{bmatrix}"
      ],
      "text/plain": [
       "<IPython.core.display.Latex object>"
      ]
     },
     "metadata": {},
     "output_type": "display_data"
    },
    {
     "data": {
      "text/latex": [
       "Camada: 0"
      ],
      "text/plain": [
       "<IPython.core.display.Latex object>"
      ]
     },
     "metadata": {},
     "output_type": "display_data"
    },
    {
     "data": {
      "text/latex": [
       "W = W - \\lambda (X \\cdot \\nabla f_{custo})"
      ],
      "text/plain": [
       "<IPython.core.display.Latex object>"
      ]
     },
     "metadata": {},
     "output_type": "display_data"
    },
    {
     "data": {
      "text/latex": [
       "\\begin{gather}\n",
       "\\begin{bmatrix}\n",
       "  -0.08283924 & 0.34030649 & 0.32088746 & 0.68943642 & -0.27596784 & 0.31130361\\\\\n",
       "  -0.12230763 & 0.24564701 & 0.77137171 & 0.22621686 & 0.26295909 & 0.13956469\\\\\n",
       "  0.4357378 & 0.06694175\\\\\n",
       "  -1.0964753 & 0.3422069 & 0.26193644 & -0.47778347 & -0.70473778 & -0.61543379\\\\\n",
       "  -1.24023368 & -0.22913116 & 0.67872588 & -0.38912139 & -0.19363763 & -0.70292986\\\\\n",
       "  0.37452101 & -0.07461815\\\\\n",
       "  -0.77749908 & 0.07079276 & 0.40168244 & -0.50356232 & -0.95707356 & -0.23613175\\\\\n",
       "  -0.4892056 & -0.49767552 & 0.19496345 & -0.68030484 & -0.08724768 & -0.88572531\\\\\n",
       "  -0.14708889 & 0.01677847\\\\\n",
       "  0.29348014 & 0.33176948 & 0.76806528 & 0.51101144 & 0.38725255 & -0.10761817\\\\\n",
       "  -0.34057423 & -0.23384214 & 0.59753133 & -0.01948442 & 0.11100471 & -0.04907287\\\\\n",
       "  0.5926047 & -0.14279762\\\\\n",
       "  0.77971033 & 0.00127451 & 0.13213479 & 0.82643444 & 0.37306476 & 0.78051562\\\\\n",
       "  -0.0110743 & -0.2798043 & 0.51139729 & -0.21899424 & 0.51989139 & -0.23545722\\\\\n",
       "  0.57361224 & 0.15061705\\\\\n",
       "  -0.12282543 & 0.45163627 & 0.14742775 & 0.73181092 & -0.2323946 & 0.72295415\\\\\n",
       "  -0.16325473 & -0.02533977 & 0.37818721 & 0.33594076 & 0.55976421 & 0.1337649\\\\\n",
       "  0.41832523 & -0.10948776\\\\\n",
       "  0.41714498 & 0.13442431 & 0.4872974 & 0.89890869 & 0.752641 & 0.72506756\\\\\n",
       "  0.06794837 & 0.3387373 & 0.84350917 & 0.6765024 & 0.09051866 & 0.36746768\\\\\n",
       "  0.18265929 & 0.72130143\\\\\n",
       "\\end{bmatrix} = \n",
       "\\begin{bmatrix}\n",
       "  -0.08805162 & 0.34523826 & 0.31934265 & 0.69873824 & -0.29032028 & 0.31647787\\\\\n",
       "  -0.1178314 & 0.2478467 & 0.77245784 & 0.22719476 & 0.25916325 & 0.14383262\\\\\n",
       "  0.4340269 & 0.09831539\\\\\n",
       "  -1.10168768 & 0.34713867 & 0.26039163 & -0.46848165 & -0.71909021 & -0.61025952\\\\\n",
       "  -1.23575745 & -0.22693148 & 0.679812 & -0.38814349 & -0.19743347 & -0.69866192\\\\\n",
       "  0.3728101 & -0.04324451\\\\\n",
       "  -0.78271146 & 0.07572453 & 0.40013763 & -0.49426049 & -0.97142599 & -0.23095748\\\\\n",
       "  -0.48472938 & -0.49547584 & 0.19604958 & -0.67932694 & -0.09104352 & -0.88145737\\\\\n",
       "  -0.14879979 & 0.04815211\\\\\n",
       "  0.28826776 & 0.33670125 & 0.76652047 & 0.52031327 & 0.37290011 & -0.10244391\\\\\n",
       "  -0.336098 & -0.23164246 & 0.59861746 & -0.01850652 & 0.10720888 & -0.04480494\\\\\n",
       "  0.5908938 & -0.11142397\\\\\n",
       "  0.77971033 & 0.00127451 & 0.13213479 & 0.82643444 & 0.37306476 & 0.78051562\\\\\n",
       "  -0.0110743 & -0.2798043 & 0.51139729 & -0.21899424 & 0.51989139 & -0.23545722\\\\\n",
       "  0.57361224 & 0.15061705\\\\\n",
       "  -0.12282543 & 0.45163627 & 0.14742775 & 0.73181092 & -0.2323946 & 0.72295415\\\\\n",
       "  -0.16325473 & -0.02533977 & 0.37818721 & 0.33594076 & 0.55976421 & 0.1337649\\\\\n",
       "  0.41832523 & -0.10948776\\\\\n",
       "  0.4119326 & 0.13935608 & 0.48575259 & 0.90821052 & 0.73828857 & 0.73024183\\\\\n",
       "  0.0724246 & 0.34093698 & 0.84459529 & 0.67748031 & 0.08672282 & 0.37173562\\\\\n",
       "  0.18094839 & 0.75267507\\\\\n",
       "\\end{bmatrix} - 0.7\n",
       "\\begin{bmatrix}\n",
       "  1\\\\\n",
       "  1\\\\\n",
       "  1\\\\\n",
       "  1\\\\\n",
       "  0\\\\\n",
       "  0\\\\\n",
       "  1\\\\\n",
       "\\end{bmatrix} \\cdot \n",
       "\\begin{bmatrix}\n",
       "  -0.00744626 & 0.00704539 & -0.00220687 & 0.01328832 & -0.02050347 & 0.00739181\\\\\n",
       "  0.00639461 & 0.00314241 & 0.00155161 & 0.001397 & -0.00542262 & 0.00609705\\\\\n",
       "  -0.00244415 & 0.04481949\\\\\n",
       "\\end{bmatrix}\\end{gather}"
      ],
      "text/plain": [
       "<IPython.core.display.Latex object>"
      ]
     },
     "metadata": {},
     "output_type": "display_data"
    },
    {
     "data": {
      "text/latex": [
       "Camada: 0"
      ],
      "text/plain": [
       "<IPython.core.display.Latex object>"
      ]
     },
     "metadata": {},
     "output_type": "display_data"
    },
    {
     "data": {
      "text/latex": [
       "Y = Xw + b"
      ],
      "text/plain": [
       "<IPython.core.display.Latex object>"
      ]
     },
     "metadata": {},
     "output_type": "display_data"
    },
    {
     "data": {
      "text/latex": [
       "\\begin{gather}\n",
       "\\begin{bmatrix}\n",
       "  -2.06826974 & 1.38401998 & 1.20034476 & 0.37019164 & -1.58596553 & -0.12453124\\\\\n",
       "  -2.68558619 & -1.47859978 & 2.7563356 & -0.79911829 & 0.04104445 & -2.00228002\\\\\n",
       "  0.83488184 & 0.1289433\\\\\n",
       "\\end{bmatrix} = \n",
       "\\begin{bmatrix}\n",
       "  0 & 1 & 1 & 0 & 0 & 1 & 1\\\\\n",
       "\\end{bmatrix} \\cdot \n",
       "\\begin{bmatrix}\n",
       "  -0.08283924 & 0.34030649 & 0.32088746 & 0.68943642 & -0.27596784 & 0.31130361\\\\\n",
       "  -0.12230763 & 0.24564701 & 0.77137171 & 0.22621686 & 0.26295909 & 0.13956469\\\\\n",
       "  0.4357378 & 0.06694175\\\\\n",
       "  -1.0964753 & 0.3422069 & 0.26193644 & -0.47778347 & -0.70473778 & -0.61543379\\\\\n",
       "  -1.24023368 & -0.22913116 & 0.67872588 & -0.38912139 & -0.19363763 & -0.70292986\\\\\n",
       "  0.37452101 & -0.07461815\\\\\n",
       "  -0.77749908 & 0.07079276 & 0.40168244 & -0.50356232 & -0.95707356 & -0.23613175\\\\\n",
       "  -0.4892056 & -0.49767552 & 0.19496345 & -0.68030484 & -0.08724768 & -0.88572531\\\\\n",
       "  -0.14708889 & 0.01677847\\\\\n",
       "  0.29348014 & 0.33176948 & 0.76806528 & 0.51101144 & 0.38725255 & -0.10761817\\\\\n",
       "  -0.34057423 & -0.23384214 & 0.59753133 & -0.01948442 & 0.11100471 & -0.04907287\\\\\n",
       "  0.5926047 & -0.14279762\\\\\n",
       "  0.77971033 & 0.00127451 & 0.13213479 & 0.82643444 & 0.37306476 & 0.78051562\\\\\n",
       "  -0.0110743 & -0.2798043 & 0.51139729 & -0.21899424 & 0.51989139 & -0.23545722\\\\\n",
       "  0.57361224 & 0.15061705\\\\\n",
       "  -0.12282543 & 0.45163627 & 0.14742775 & 0.73181092 & -0.2323946 & 0.72295415\\\\\n",
       "  -0.16325473 & -0.02533977 & 0.37818721 & 0.33594076 & 0.55976421 & 0.1337649\\\\\n",
       "  0.41832523 & -0.10948776\\\\\n",
       "  0.41714498 & 0.13442431 & 0.4872974 & 0.89890869 & 0.752641 & 0.72506756\\\\\n",
       "  0.06794837 & 0.3387373 & 0.84350917 & 0.6765024 & 0.09051866 & 0.36746768\\\\\n",
       "  0.18265929 & 0.72130143\\\\\n",
       "\\end{bmatrix} + \n",
       "\\begin{bmatrix}\n",
       "  -0.48861491 & 0.38495974 & -0.09799927 & -0.27918218 & -0.4444006 & -0.72098742\\\\\n",
       "  -0.86084054 & -1.06519063 & 0.66094989 & -0.74213523 & -0.32835311 & -0.91485744\\\\\n",
       "  0.0064652 & -0.42503069\\\\\n",
       "\\end{bmatrix}\\end{gather}"
      ],
      "text/plain": [
       "<IPython.core.display.Latex object>"
      ]
     },
     "metadata": {},
     "output_type": "display_data"
    },
    {
     "data": {
      "text/latex": [
       "Camada: 1"
      ],
      "text/plain": [
       "<IPython.core.display.Latex object>"
      ]
     },
     "metadata": {},
     "output_type": "display_data"
    },
    {
     "data": {
      "text/latex": [
       "Y = \\sigma(X)"
      ],
      "text/plain": [
       "<IPython.core.display.Latex object>"
      ]
     },
     "metadata": {},
     "output_type": "display_data"
    },
    {
     "data": {
      "text/latex": [
       "\\begin{gather}\n",
       "\\begin{bmatrix}\n",
       "  0.1122193 & 0.79963585 & 0.76858611 & 0.59150528 & 0.16995228 & 0.46890736\\\\\n",
       "  0.06382926 & 0.18563901 & 0.94027016 & 0.31021416 & 0.51025967 & 0.11896374\\\\\n",
       "  0.69738618 & 0.53219124\\\\\n",
       "\\end{bmatrix} = \\sigma(\n",
       "\\begin{bmatrix}\n",
       "  -2.06826974 & 1.38401998 & 1.20034476 & 0.37019164 & -1.58596553 & -0.12453124\\\\\n",
       "  -2.68558619 & -1.47859978 & 2.7563356 & -0.79911829 & 0.04104445 & -2.00228002\\\\\n",
       "  0.83488184 & 0.1289433\\\\\n",
       "\\end{bmatrix}) \\end{gather}"
      ],
      "text/plain": [
       "<IPython.core.display.Latex object>"
      ]
     },
     "metadata": {},
     "output_type": "display_data"
    },
    {
     "data": {
      "text/latex": [
       "Camada: 2"
      ],
      "text/plain": [
       "<IPython.core.display.Latex object>"
      ]
     },
     "metadata": {},
     "output_type": "display_data"
    },
    {
     "data": {
      "text/latex": [
       "Y = Xw + b"
      ],
      "text/plain": [
       "<IPython.core.display.Latex object>"
      ]
     },
     "metadata": {},
     "output_type": "display_data"
    },
    {
     "data": {
      "text/latex": [
       "\\begin{gather}\n",
       "\\begin{bmatrix}\n",
       "  0.08325872 & -0.05857466 & 0.19579309 & 0.671215 & 0.08708193 & 0.05360106\\\\\n",
       "  -0.01824492 & 0.01431336 & -0.01987652 & 0.01917606\\\\\n",
       "\\end{bmatrix} = \n",
       "\\begin{bmatrix}\n",
       "  0.1122193 & 0.79963585 & 0.76858611 & 0.59150528 & 0.16995228 & 0.46890736\\\\\n",
       "  0.06382926 & 0.18563901 & 0.94027016 & 0.31021416 & 0.51025967 & 0.11896374\\\\\n",
       "  0.69738618 & 0.53219124\\\\\n",
       "\\end{bmatrix} \\cdot \n",
       "\\begin{bmatrix}\n",
       "  0.00593331 & -0.39404794 & 0.05165596 & 0.32696978 & 0.05086315 & -0.38655011\\\\\n",
       "  -0.45309714 & -0.28583867 & 0.31727797 & -0.39371258\\\\\n",
       "  -0.19333865 & -0.21671759 & -0.31217364 & -0.15840427 & 0.03721447 & -0.00078923\\\\\n",
       "  -0.00448444 & 0.1006055 & -0.07420435 & 0.27398911\\\\\n",
       "  -0.18428615 & 0.18123879 & 0.09612855 & 0.53771606 & -0.40744056 & -0.2865947\\\\\n",
       "  -0.16352842 & 0.22417189 & 0.33542321 & 0.13439471\\\\\n",
       "  -0.19039174 & 0.09216234 & 0.2750284 & -0.0847131 & -0.61801692 & 0.40966744\\\\\n",
       "  0.22727236 & -0.42529088 & 0.31931672 & 0.05931049\\\\\n",
       "  -0.33074266 & 0.45434945 & -0.29086013 & 0.11152494 & 0.1464278 & 0.04968439\\\\\n",
       "  0.16499384 & -0.10750189 & -0.48291266 & -0.53046793\\\\\n",
       "  0.30225665 & -0.08067188 & 0.38441338 & 0.03191727 & 0.0418834 & 0.47029188\\\\\n",
       "  -0.17946629 & -0.34565668 & -0.24446337 & -0.22307795\\\\\n",
       "  -0.02079783 & 0.47865743 & 0.49328171 & -0.4720337 & -0.12563433 & -0.05679164\\\\\n",
       "  -0.35203769 & -0.02917244 & -0.17925924 & -0.33213839\\\\\n",
       "  0.11754288 & 0.27914741 & 0.19395127 & 0.26335249 & -0.12063766 & -0.43920063\\\\\n",
       "  -0.27670069 & 0.23898736 & 0.37719485 & 0.11909686\\\\\n",
       "  0.09023048 & -0.01649414 & 0.31171825 & 0.43086704 & 0.3942231 & -0.14496104\\\\\n",
       "  0.27497574 & 0.34610532 & -0.23194424 & 0.30083059\\\\\n",
       "  0.26035057 & 0.53456997 & -0.35035647 & -0.48078906 & -0.02613068 & 0.30299471\\\\\n",
       "  0.26690557 & 0.12514131 & -0.44660931 & -0.27730523\\\\\n",
       "  -0.19421441 & -0.2917032 & 0.04739897 & 0.25772514 & -0.44211962 & 0.018901\\\\\n",
       "  -0.01946307 & -0.09393791 & 0.34772631 & -0.03858791\\\\\n",
       "  -0.43485104 & -0.10674228 & 0.04347884 & -0.32833452 & -0.5256024 & -0.02018647\\\\\n",
       "  -0.16265625 & -0.19892066 & 0.18419784 & -0.03528232\\\\\n",
       "  0.11542247 & 0.08869971 & -0.07970592 & 0.25861952 & 0.0176525 & -0.34893967\\\\\n",
       "  0.25366938 & 0.07653351 & -0.44669197 & -0.00188171\\\\\n",
       "  0.07452651 & -0.36830757 & 0.38487234 & -0.32955371 & 0.34554 & 0.35667031\\\\\n",
       "  -0.52511913 & 0.08278521 & 0.10677733 & 0.14736039\\\\\n",
       "\\end{bmatrix} + \n",
       "\\begin{bmatrix}\n",
       "  0.25050741 & -0.01126221 & -0.35826685 & -0.00806631 & 0.4455679 & 0.02034844\\\\\n",
       "  -0.05212083 & -0.20703056 & 0.10728081 & -0.35032391\\\\\n",
       "\\end{bmatrix}\\end{gather}"
      ],
      "text/plain": [
       "<IPython.core.display.Latex object>"
      ]
     },
     "metadata": {},
     "output_type": "display_data"
    },
    {
     "data": {
      "text/latex": [
       "f_{custo}(\n",
       "\\begin{bmatrix}\n",
       "  0 & 0 & 0 & 0 & 1 & 0 & 0 & 0 & 0 & 0\\\\\n",
       "\\end{bmatrix},\n",
       "\\begin{bmatrix}\n",
       "  0.08325872 & -0.05857466 & 0.19579309 & 0.671215 & 0.08708193 & 0.05360106\\\\\n",
       "  -0.01824492 & 0.01431336 & -0.01987652 & 0.01917606\\\\\n",
       "\\end{bmatrix}) = \n",
       "\\begin{bmatrix}\n",
       "  0.13368205290471863\\\\\n",
       "\\end{bmatrix}"
      ],
      "text/plain": [
       "<IPython.core.display.Latex object>"
      ]
     },
     "metadata": {},
     "output_type": "display_data"
    },
    {
     "data": {
      "text/latex": [
       "\\nabla f_{custo} = \\frac{\\partial E}{\\partial Y} = \n",
       "\\begin{bmatrix}\n",
       "  0.01665174 & -0.01171493 & 0.03915862 & 0.134243 & -0.18258361 & 0.01072021\\\\\n",
       "  -0.00364898 & 0.00286267 & -0.0039753 & 0.00383521\\\\\n",
       "\\end{bmatrix}"
      ],
      "text/plain": [
       "<IPython.core.display.Latex object>"
      ]
     },
     "metadata": {},
     "output_type": "display_data"
    },
    {
     "data": {
      "text/latex": [
       "Camada: 2"
      ],
      "text/plain": [
       "<IPython.core.display.Latex object>"
      ]
     },
     "metadata": {},
     "output_type": "display_data"
    },
    {
     "data": {
      "text/latex": [
       "W = W - \\lambda (X \\cdot \\nabla f_{custo})"
      ],
      "text/plain": [
       "<IPython.core.display.Latex object>"
      ]
     },
     "metadata": {},
     "output_type": "display_data"
    },
    {
     "data": {
      "text/latex": [
       "\\begin{gather}\n",
       "\\begin{bmatrix}\n",
       "  0.00462526 & -0.39312769 & 0.04857992 & 0.31642452 & 0.06520573 & -0.38739222\\\\\n",
       "  -0.4528105 & -0.28606354 & 0.31759024 & -0.39401385\\\\\n",
       "  -0.20265939 & -0.21016021 & -0.33409249 & -0.23354613 & 0.13941475 & -0.00678981\\\\\n",
       "  -0.00244194 & 0.09900314 & -0.07197919 & 0.27184237\\\\\n",
       "  -0.19324496 & 0.18754155 & 0.07506081 & 0.46549194 & -0.3092087 & -0.29236228\\\\\n",
       "  -0.16156523 & 0.22263175 & 0.33756197 & 0.13233133\\\\\n",
       "  -0.19728646 & 0.09701295 & 0.25881463 & -0.14029691 & -0.5424175 & 0.4052287\\\\\n",
       "  0.22878324 & -0.42647618 & 0.3209627 & 0.0577225\\\\\n",
       "  -0.33272366 & 0.45574314 & -0.2955187 & 0.09555451 & 0.16814915 & 0.04840905\\\\\n",
       "  0.16542794 & -0.10784246 & -0.48243973 & -0.53092419\\\\\n",
       "  0.29679096 & -0.07682663 & 0.37156015 & -0.012146 & 0.10181376 & 0.46677313\\\\\n",
       "  -0.17826856 & -0.34659631 & -0.24315853 & -0.2243368\\\\\n",
       "  -0.02154184 & 0.47918086 & 0.49153209 & -0.47803175 & -0.11747641 & -0.05727062\\\\\n",
       "  -0.35187465 & -0.02930034 & -0.17908163 & -0.33230975\\\\\n",
       "  0.11537903 & 0.28066974 & 0.18886271 & 0.24590798 & -0.09691141 & -0.44059369\\\\\n",
       "  -0.27622651 & 0.23861536 & 0.37771143 & 0.11859848\\\\\n",
       "  0.07927048 & -0.0087835 & 0.28594447 & 0.34250975 & 0.51439764 & -0.15201697\\\\\n",
       "  0.27737746 & 0.34422114 & -0.22932774 & 0.2983063\\\\\n",
       "  0.25673464 & 0.53711386 & -0.35885976 & -0.50993991 & 0.01351734 & 0.30066682\\\\\n",
       "  0.26769795 & 0.12451968 & -0.44574608 & -0.27813805\\\\\n",
       "  -0.2001621 & -0.28751884 & 0.03341223 & 0.20977599 & -0.37690408 & 0.01507193\\\\\n",
       "  -0.01815972 & -0.09496041 & 0.34914622 & -0.03995778\\\\\n",
       "  -0.4362377 & -0.10576673 & 0.04021792 & -0.33951356 & -0.51039782 & -0.02107919\\\\\n",
       "  -0.16235238 & -0.19915904 & 0.18452888 & -0.0356017\\\\\n",
       "  0.10729358 & 0.09441859 & -0.09882199 & 0.19308607 & 0.10678441 & -0.35417296\\\\\n",
       "  0.25545071 & 0.07513603 & -0.44475135 & -0.00375394\\\\\n",
       "  0.06832317 & -0.36394336 & 0.37028443 & -0.37956378 & 0.41355858 & 0.35267667\\\\\n",
       "  -0.52375976 & 0.08171877 & 0.10825827 & 0.14593164\\\\\n",
       "\\end{bmatrix} = \n",
       "\\begin{bmatrix}\n",
       "  0.00593331 & -0.39404794 & 0.05165596 & 0.32696978 & 0.05086315 & -0.38655011\\\\\n",
       "  -0.45309714 & -0.28583867 & 0.31727797 & -0.39371258\\\\\n",
       "  -0.19333865 & -0.21671759 & -0.31217364 & -0.15840427 & 0.03721447 & -0.00078923\\\\\n",
       "  -0.00448444 & 0.1006055 & -0.07420435 & 0.27398911\\\\\n",
       "  -0.18428615 & 0.18123879 & 0.09612855 & 0.53771606 & -0.40744056 & -0.2865947\\\\\n",
       "  -0.16352842 & 0.22417189 & 0.33542321 & 0.13439471\\\\\n",
       "  -0.19039174 & 0.09216234 & 0.2750284 & -0.0847131 & -0.61801692 & 0.40966744\\\\\n",
       "  0.22727236 & -0.42529088 & 0.31931672 & 0.05931049\\\\\n",
       "  -0.33074266 & 0.45434945 & -0.29086013 & 0.11152494 & 0.1464278 & 0.04968439\\\\\n",
       "  0.16499384 & -0.10750189 & -0.48291266 & -0.53046793\\\\\n",
       "  0.30225665 & -0.08067188 & 0.38441338 & 0.03191727 & 0.0418834 & 0.47029188\\\\\n",
       "  -0.17946629 & -0.34565668 & -0.24446337 & -0.22307795\\\\\n",
       "  -0.02079783 & 0.47865743 & 0.49328171 & -0.4720337 & -0.12563433 & -0.05679164\\\\\n",
       "  -0.35203769 & -0.02917244 & -0.17925924 & -0.33213839\\\\\n",
       "  0.11754288 & 0.27914741 & 0.19395127 & 0.26335249 & -0.12063766 & -0.43920063\\\\\n",
       "  -0.27670069 & 0.23898736 & 0.37719485 & 0.11909686\\\\\n",
       "  0.09023048 & -0.01649414 & 0.31171825 & 0.43086704 & 0.3942231 & -0.14496104\\\\\n",
       "  0.27497574 & 0.34610532 & -0.23194424 & 0.30083059\\\\\n",
       "  0.26035057 & 0.53456997 & -0.35035647 & -0.48078906 & -0.02613068 & 0.30299471\\\\\n",
       "  0.26690557 & 0.12514131 & -0.44660931 & -0.27730523\\\\\n",
       "  -0.19421441 & -0.2917032 & 0.04739897 & 0.25772514 & -0.44211962 & 0.018901\\\\\n",
       "  -0.01946307 & -0.09393791 & 0.34772631 & -0.03858791\\\\\n",
       "  -0.43485104 & -0.10674228 & 0.04347884 & -0.32833452 & -0.5256024 & -0.02018647\\\\\n",
       "  -0.16265625 & -0.19892066 & 0.18419784 & -0.03528232\\\\\n",
       "  0.11542247 & 0.08869971 & -0.07970592 & 0.25861952 & 0.0176525 & -0.34893967\\\\\n",
       "  0.25366938 & 0.07653351 & -0.44669197 & -0.00188171\\\\\n",
       "  0.07452651 & -0.36830757 & 0.38487234 & -0.32955371 & 0.34554 & 0.35667031\\\\\n",
       "  -0.52511913 & 0.08278521 & 0.10677733 & 0.14736039\\\\\n",
       "\\end{bmatrix} - 0.7\n",
       "\\begin{bmatrix}\n",
       "  0.1122193\\\\\n",
       "  0.79963585\\\\\n",
       "  0.76858611\\\\\n",
       "  0.59150528\\\\\n",
       "  0.16995228\\\\\n",
       "  0.46890736\\\\\n",
       "  0.06382926\\\\\n",
       "  0.18563901\\\\\n",
       "  0.94027016\\\\\n",
       "  0.31021416\\\\\n",
       "  0.51025967\\\\\n",
       "  0.11896374\\\\\n",
       "  0.69738618\\\\\n",
       "  0.53219124\\\\\n",
       "\\end{bmatrix} \\cdot \n",
       "\\begin{bmatrix}\n",
       "  0.01665174 & -0.01171493 & 0.03915862 & 0.134243 & -0.18258361 & 0.01072021\\\\\n",
       "  -0.00364898 & 0.00286267 & -0.0039753 & 0.00383521\\\\\n",
       "\\end{bmatrix}\\end{gather}"
      ],
      "text/plain": [
       "<IPython.core.display.Latex object>"
      ]
     },
     "metadata": {},
     "output_type": "display_data"
    },
    {
     "data": {
      "text/latex": [
       "\\nabla f_{custo} = \\frac{\\partial E}{\\partial Y} = \n",
       "\\begin{bmatrix}\n",
       "  0.03526438 & -0.0393226 & 0.14249707 & 0.10929035 & -0.03447558 & 0.02249197\\\\\n",
       "  -0.02703494 & 0.05960445 & 0.00027357 & -0.07207381 & 0.11583537 & 0.04654192\\\\\n",
       "  0.02657777 & -0.08058605\\\\\n",
       "\\end{bmatrix}"
      ],
      "text/plain": [
       "<IPython.core.display.Latex object>"
      ]
     },
     "metadata": {},
     "output_type": "display_data"
    },
    {
     "data": {
      "text/latex": [
       "Camada: 1"
      ],
      "text/plain": [
       "<IPython.core.display.Latex object>"
      ]
     },
     "metadata": {},
     "output_type": "display_data"
    },
    {
     "data": {
      "text/latex": [
       "\\nabla = \\frac{\\partial E}{\\partial Y} \\frac{\\partial Y}{\\partial X}"
      ],
      "text/plain": [
       "<IPython.core.display.Latex object>"
      ]
     },
     "metadata": {},
     "output_type": "display_data"
    },
    {
     "data": {
      "text/latex": [
       "\\begin{gather}\n",
       "\\begin{bmatrix}\n",
       "  0.1122193 & 0.79963585 & 0.76858611 & 0.59150528 & 0.16995228 & 0.46890736\\\\\n",
       "  0.06382926 & 0.18563901 & 0.94027016 & 0.31021416 & 0.51025967 & 0.11896374\\\\\n",
       "  0.69738618 & 0.53219124\\\\\n",
       "\\end{bmatrix} = \\sigma(\n",
       "\\begin{bmatrix}\n",
       "  -2.06826974 & 1.38401998 & 1.20034476 & 0.37019164 & -1.58596553 & -0.12453124\\\\\n",
       "  -2.68558619 & -1.47859978 & 2.7563356 & -0.79911829 & 0.04104445 & -2.00228002\\\\\n",
       "  0.83488184 & 0.1289433\\\\\n",
       "\\end{bmatrix}) \\end{gather}"
      ],
      "text/plain": [
       "<IPython.core.display.Latex object>"
      ]
     },
     "metadata": {},
     "output_type": "display_data"
    },
    {
     "data": {
      "text/latex": [
       "\\nabla f_{custo} = \\frac{\\partial E}{\\partial Y} = \n",
       "\\begin{bmatrix}\n",
       "  3.51325391e-03 & -6.30020306e-03 & 2.53447432e-02 & 2.64074756e-02\\\\\n",
       "  -4.86341795e-03 & 5.60124906e-03 & -1.61547514e-03 & 9.01083114e-03\\\\\n",
       "  1.53645201e-05 & -1.54224501e-02 & 2.89466484e-02 & 4.87812243e-03\\\\\n",
       "  5.60893821e-03 & -2.00630038e-02\\\\\n",
       "\\end{bmatrix}"
      ],
      "text/plain": [
       "<IPython.core.display.Latex object>"
      ]
     },
     "metadata": {},
     "output_type": "display_data"
    },
    {
     "data": {
      "text/latex": [
       "Camada: 0"
      ],
      "text/plain": [
       "<IPython.core.display.Latex object>"
      ]
     },
     "metadata": {},
     "output_type": "display_data"
    },
    {
     "data": {
      "text/latex": [
       "W = W - \\lambda (X \\cdot \\nabla f_{custo})"
      ],
      "text/plain": [
       "<IPython.core.display.Latex object>"
      ]
     },
     "metadata": {},
     "output_type": "display_data"
    },
    {
     "data": {
      "text/latex": [
       "\\begin{gather}\n",
       "\\begin{bmatrix}\n",
       "  -0.08283924 & 0.34030649 & 0.32088746 & 0.68943642 & -0.27596784 & 0.31130361\\\\\n",
       "  -0.12230763 & 0.24564701 & 0.77137171 & 0.22621686 & 0.26295909 & 0.13956469\\\\\n",
       "  0.4357378 & 0.06694175\\\\\n",
       "  -1.09893457 & 0.34661704 & 0.24419512 & -0.49626871 & -0.70133338 & -0.61935466\\\\\n",
       "  -1.23910285 & -0.23543874 & 0.67871512 & -0.37832568 & -0.21390028 & -0.70634454\\\\\n",
       "  0.37059475 & -0.06057405\\\\\n",
       "  -0.77995836 & 0.0752029 & 0.38394112 & -0.52204755 & -0.95366917 & -0.24005262\\\\\n",
       "  -0.48807477 & -0.5039831 & 0.1949527 & -0.66950912 & -0.10751034 & -0.88913999\\\\\n",
       "  -0.15101515 & 0.03082257\\\\\n",
       "  0.29348014 & 0.33176948 & 0.76806528 & 0.51101144 & 0.38725255 & -0.10761817\\\\\n",
       "  -0.34057423 & -0.23384214 & 0.59753133 & -0.01948442 & 0.11100471 & -0.04907287\\\\\n",
       "  0.5926047 & -0.14279762\\\\\n",
       "  0.77971033 & 0.00127451 & 0.13213479 & 0.82643444 & 0.37306476 & 0.78051562\\\\\n",
       "  -0.0110743 & -0.2798043 & 0.51139729 & -0.21899424 & 0.51989139 & -0.23545722\\\\\n",
       "  0.57361224 & 0.15061705\\\\\n",
       "  -0.12528471 & 0.45604641 & 0.12968643 & 0.71332568 & -0.22899021 & 0.71903327\\\\\n",
       "  -0.1621239 & -0.03164735 & 0.37817645 & 0.34673648 & 0.53950156 & 0.13035022\\\\\n",
       "  0.41439897 & -0.09544365\\\\\n",
       "  0.4146857 & 0.13883445 & 0.46955608 & 0.88042346 & 0.75604539 & 0.72114669\\\\\n",
       "  0.06907921 & 0.33242972 & 0.84349841 & 0.68729812 & 0.070256 & 0.36405299\\\\\n",
       "  0.17873303 & 0.73534553\\\\\n",
       "\\end{bmatrix} = \n",
       "\\begin{bmatrix}\n",
       "  -0.08283924 & 0.34030649 & 0.32088746 & 0.68943642 & -0.27596784 & 0.31130361\\\\\n",
       "  -0.12230763 & 0.24564701 & 0.77137171 & 0.22621686 & 0.26295909 & 0.13956469\\\\\n",
       "  0.4357378 & 0.06694175\\\\\n",
       "  -1.0964753 & 0.3422069 & 0.26193644 & -0.47778347 & -0.70473778 & -0.61543379\\\\\n",
       "  -1.24023368 & -0.22913116 & 0.67872588 & -0.38912139 & -0.19363763 & -0.70292986\\\\\n",
       "  0.37452101 & -0.07461815\\\\\n",
       "  -0.77749908 & 0.07079276 & 0.40168244 & -0.50356232 & -0.95707356 & -0.23613175\\\\\n",
       "  -0.4892056 & -0.49767552 & 0.19496345 & -0.68030484 & -0.08724768 & -0.88572531\\\\\n",
       "  -0.14708889 & 0.01677847\\\\\n",
       "  0.29348014 & 0.33176948 & 0.76806528 & 0.51101144 & 0.38725255 & -0.10761817\\\\\n",
       "  -0.34057423 & -0.23384214 & 0.59753133 & -0.01948442 & 0.11100471 & -0.04907287\\\\\n",
       "  0.5926047 & -0.14279762\\\\\n",
       "  0.77971033 & 0.00127451 & 0.13213479 & 0.82643444 & 0.37306476 & 0.78051562\\\\\n",
       "  -0.0110743 & -0.2798043 & 0.51139729 & -0.21899424 & 0.51989139 & -0.23545722\\\\\n",
       "  0.57361224 & 0.15061705\\\\\n",
       "  -0.12282543 & 0.45163627 & 0.14742775 & 0.73181092 & -0.2323946 & 0.72295415\\\\\n",
       "  -0.16325473 & -0.02533977 & 0.37818721 & 0.33594076 & 0.55976421 & 0.1337649\\\\\n",
       "  0.41832523 & -0.10948776\\\\\n",
       "  0.41714498 & 0.13442431 & 0.4872974 & 0.89890869 & 0.752641 & 0.72506756\\\\\n",
       "  0.06794837 & 0.3387373 & 0.84350917 & 0.6765024 & 0.09051866 & 0.36746768\\\\\n",
       "  0.18265929 & 0.72130143\\\\\n",
       "\\end{bmatrix} - 0.7\n",
       "\\begin{bmatrix}\n",
       "  0\\\\\n",
       "  1\\\\\n",
       "  1\\\\\n",
       "  0\\\\\n",
       "  0\\\\\n",
       "  1\\\\\n",
       "  1\\\\\n",
       "\\end{bmatrix} \\cdot \n",
       "\\begin{bmatrix}\n",
       "  3.51325391e-03 & -6.30020306e-03 & 2.53447432e-02 & 2.64074756e-02\\\\\n",
       "  -4.86341795e-03 & 5.60124906e-03 & -1.61547514e-03 & 9.01083114e-03\\\\\n",
       "  1.53645201e-05 & -1.54224501e-02 & 2.89466484e-02 & 4.87812243e-03\\\\\n",
       "  5.60893821e-03 & -2.00630038e-02\\\\\n",
       "\\end{bmatrix}\\end{gather}"
      ],
      "text/plain": [
       "<IPython.core.display.Latex object>"
      ]
     },
     "metadata": {},
     "output_type": "display_data"
    },
    {
     "data": {
      "text/latex": [
       "Camada: 0"
      ],
      "text/plain": [
       "<IPython.core.display.Latex object>"
      ]
     },
     "metadata": {},
     "output_type": "display_data"
    },
    {
     "data": {
      "text/latex": [
       "Y = Xw + b"
      ],
      "text/plain": [
       "<IPython.core.display.Latex object>"
      ]
     },
     "metadata": {},
     "output_type": "display_data"
    },
    {
     "data": {
      "text/latex": [
       "\\begin{gather}\n",
       "\\begin{bmatrix}\n",
       "  -0.77099067 & 1.73152962 & 1.95639577 & 1.97448204 & -0.75632548 & 0.67890448\\\\\n",
       "  -1.90371104 & -1.26289407 & 3.44646975 & -0.1600816 & 0.52759526 & -1.22251709\\\\\n",
       "  1.47299831 & 0.183882\\\\\n",
       "\\end{bmatrix} = \n",
       "\\begin{bmatrix}\n",
       "  1 & 0 & 1 & 1 & 0 & 1 & 1\\\\\n",
       "\\end{bmatrix} \\cdot \n",
       "\\begin{bmatrix}\n",
       "  -0.08283924 & 0.34030649 & 0.32088746 & 0.68943642 & -0.27596784 & 0.31130361\\\\\n",
       "  -0.12230763 & 0.24564701 & 0.77137171 & 0.22621686 & 0.26295909 & 0.13956469\\\\\n",
       "  0.4357378 & 0.06694175\\\\\n",
       "  -1.09893457 & 0.34661704 & 0.24419512 & -0.49626871 & -0.70133338 & -0.61935466\\\\\n",
       "  -1.23910285 & -0.23543874 & 0.67871512 & -0.37832568 & -0.21390028 & -0.70634454\\\\\n",
       "  0.37059475 & -0.06057405\\\\\n",
       "  -0.77995836 & 0.0752029 & 0.38394112 & -0.52204755 & -0.95366917 & -0.24005262\\\\\n",
       "  -0.48807477 & -0.5039831 & 0.1949527 & -0.66950912 & -0.10751034 & -0.88913999\\\\\n",
       "  -0.15101515 & 0.03082257\\\\\n",
       "  0.29348014 & 0.33176948 & 0.76806528 & 0.51101144 & 0.38725255 & -0.10761817\\\\\n",
       "  -0.34057423 & -0.23384214 & 0.59753133 & -0.01948442 & 0.11100471 & -0.04907287\\\\\n",
       "  0.5926047 & -0.14279762\\\\\n",
       "  0.77971033 & 0.00127451 & 0.13213479 & 0.82643444 & 0.37306476 & 0.78051562\\\\\n",
       "  -0.0110743 & -0.2798043 & 0.51139729 & -0.21899424 & 0.51989139 & -0.23545722\\\\\n",
       "  0.57361224 & 0.15061705\\\\\n",
       "  -0.12528471 & 0.45604641 & 0.12968643 & 0.71332568 & -0.22899021 & 0.71903327\\\\\n",
       "  -0.1621239 & -0.03164735 & 0.37817645 & 0.34673648 & 0.53950156 & 0.13035022\\\\\n",
       "  0.41439897 & -0.09544365\\\\\n",
       "  0.4146857 & 0.13883445 & 0.46955608 & 0.88042346 & 0.75604539 & 0.72114669\\\\\n",
       "  0.06907921 & 0.33242972 & 0.84349841 & 0.68729812 & 0.070256 & 0.36405299\\\\\n",
       "  0.17873303 & 0.73534553\\\\\n",
       "\\end{bmatrix} + \n",
       "\\begin{bmatrix}\n",
       "  -0.49107419 & 0.38936988 & -0.11574059 & -0.29766741 & -0.44099621 & -0.72490829\\\\\n",
       "  -0.85970971 & -1.07149821 & 0.66093914 & -0.73133951 & -0.34861576 & -0.91827212\\\\\n",
       "  0.00253895 & -0.41098658\\\\\n",
       "\\end{bmatrix}\\end{gather}"
      ],
      "text/plain": [
       "<IPython.core.display.Latex object>"
      ]
     },
     "metadata": {},
     "output_type": "display_data"
    },
    {
     "data": {
      "text/latex": [
       "Camada: 1"
      ],
      "text/plain": [
       "<IPython.core.display.Latex object>"
      ]
     },
     "metadata": {},
     "output_type": "display_data"
    },
    {
     "data": {
      "text/latex": [
       "Y = \\sigma(X)"
      ],
      "text/plain": [
       "<IPython.core.display.Latex object>"
      ]
     },
     "metadata": {},
     "output_type": "display_data"
    },
    {
     "data": {
      "text/latex": [
       "\\begin{gather}\n",
       "\\begin{bmatrix}\n",
       "  0.31626484 & 0.84960797 & 0.87614236 & 0.87809171 & 0.31944457 & 0.66349415\\\\\n",
       "  0.12968903 & 0.2204761 & 0.96912569 & 0.46006485 & 0.62892207 & 0.22749379\\\\\n",
       "  0.81351269 & 0.5458414\\\\\n",
       "\\end{bmatrix} = \\sigma(\n",
       "\\begin{bmatrix}\n",
       "  -0.77099067 & 1.73152962 & 1.95639577 & 1.97448204 & -0.75632548 & 0.67890448\\\\\n",
       "  -1.90371104 & -1.26289407 & 3.44646975 & -0.1600816 & 0.52759526 & -1.22251709\\\\\n",
       "  1.47299831 & 0.183882\\\\\n",
       "\\end{bmatrix}) \\end{gather}"
      ],
      "text/plain": [
       "<IPython.core.display.Latex object>"
      ]
     },
     "metadata": {},
     "output_type": "display_data"
    },
    {
     "data": {
      "text/latex": [
       "Camada: 2"
      ],
      "text/plain": [
       "<IPython.core.display.Latex object>"
      ]
     },
     "metadata": {},
     "output_type": "display_data"
    },
    {
     "data": {
      "text/latex": [
       "Y = Xw + b"
      ],
      "text/plain": [
       "<IPython.core.display.Latex object>"
      ]
     },
     "metadata": {},
     "output_type": "display_data"
    },
    {
     "data": {
      "text/latex": [
       "\\begin{gather}\n",
       "\\begin{bmatrix}\n",
       "  -0.06674765 & 0.07404951 & 0.16028173 & 0.20086692 & 0.51409561 & 0.10489926\\\\\n",
       "  -0.04194201 & -0.21884564 & 0.00306991 & -0.210924\\\\\n",
       "\\end{bmatrix} = \n",
       "\\begin{bmatrix}\n",
       "  0.31626484 & 0.84960797 & 0.87614236 & 0.87809171 & 0.31944457 & 0.66349415\\\\\n",
       "  0.12968903 & 0.2204761 & 0.96912569 & 0.46006485 & 0.62892207 & 0.22749379\\\\\n",
       "  0.81351269 & 0.5458414\\\\\n",
       "\\end{bmatrix} \\cdot \n",
       "\\begin{bmatrix}\n",
       "  0.00462526 & -0.39312769 & 0.04857992 & 0.31642452 & 0.06520573 & -0.38739222\\\\\n",
       "  -0.4528105 & -0.28606354 & 0.31759024 & -0.39401385\\\\\n",
       "  -0.20265939 & -0.21016021 & -0.33409249 & -0.23354613 & 0.13941475 & -0.00678981\\\\\n",
       "  -0.00244194 & 0.09900314 & -0.07197919 & 0.27184237\\\\\n",
       "  -0.19324496 & 0.18754155 & 0.07506081 & 0.46549194 & -0.3092087 & -0.29236228\\\\\n",
       "  -0.16156523 & 0.22263175 & 0.33756197 & 0.13233133\\\\\n",
       "  -0.19728646 & 0.09701295 & 0.25881463 & -0.14029691 & -0.5424175 & 0.4052287\\\\\n",
       "  0.22878324 & -0.42647618 & 0.3209627 & 0.0577225\\\\\n",
       "  -0.33272366 & 0.45574314 & -0.2955187 & 0.09555451 & 0.16814915 & 0.04840905\\\\\n",
       "  0.16542794 & -0.10784246 & -0.48243973 & -0.53092419\\\\\n",
       "  0.29679096 & -0.07682663 & 0.37156015 & -0.012146 & 0.10181376 & 0.46677313\\\\\n",
       "  -0.17826856 & -0.34659631 & -0.24315853 & -0.2243368\\\\\n",
       "  -0.02154184 & 0.47918086 & 0.49153209 & -0.47803175 & -0.11747641 & -0.05727062\\\\\n",
       "  -0.35187465 & -0.02930034 & -0.17908163 & -0.33230975\\\\\n",
       "  0.11537903 & 0.28066974 & 0.18886271 & 0.24590798 & -0.09691141 & -0.44059369\\\\\n",
       "  -0.27622651 & 0.23861536 & 0.37771143 & 0.11859848\\\\\n",
       "  0.07927048 & -0.0087835 & 0.28594447 & 0.34250975 & 0.51439764 & -0.15201697\\\\\n",
       "  0.27737746 & 0.34422114 & -0.22932774 & 0.2983063\\\\\n",
       "  0.25673464 & 0.53711386 & -0.35885976 & -0.50993991 & 0.01351734 & 0.30066682\\\\\n",
       "  0.26769795 & 0.12451968 & -0.44574608 & -0.27813805\\\\\n",
       "  -0.2001621 & -0.28751884 & 0.03341223 & 0.20977599 & -0.37690408 & 0.01507193\\\\\n",
       "  -0.01815972 & -0.09496041 & 0.34914622 & -0.03995778\\\\\n",
       "  -0.4362377 & -0.10576673 & 0.04021792 & -0.33951356 & -0.51039782 & -0.02107919\\\\\n",
       "  -0.16235238 & -0.19915904 & 0.18452888 & -0.0356017\\\\\n",
       "  0.10729358 & 0.09441859 & -0.09882199 & 0.19308607 & 0.10678441 & -0.35417296\\\\\n",
       "  0.25545071 & 0.07513603 & -0.44475135 & -0.00375394\\\\\n",
       "  0.06832317 & -0.36394336 & 0.37028443 & -0.37956378 & 0.41355858 & 0.35267667\\\\\n",
       "  -0.52375976 & 0.08171877 & 0.10825827 & 0.14593164\\\\\n",
       "\\end{bmatrix} + \n",
       "\\begin{bmatrix}\n",
       "  0.23885119 & -0.00306176 & -0.38567788 & -0.10203641 & 0.57337643 & 0.0128443\\\\\n",
       "  -0.04956654 & -0.20903443 & 0.11006353 & -0.35300856\\\\\n",
       "\\end{bmatrix}\\end{gather}"
      ],
      "text/plain": [
       "<IPython.core.display.Latex object>"
      ]
     },
     "metadata": {},
     "output_type": "display_data"
    },
    {
     "data": {
      "text/latex": [
       "f_{custo}(\n",
       "\\begin{bmatrix}\n",
       "  0 & 0 & 0 & 0 & 0 & 1 & 0 & 0 & 0 & 0\\\\\n",
       "\\end{bmatrix},\n",
       "\\begin{bmatrix}\n",
       "  -0.06674765 & 0.07404951 & 0.16028173 & 0.20086692 & 0.51409561 & 0.10489926\\\\\n",
       "  -0.04194201 & -0.21884564 & 0.00306991 & -0.210924\\\\\n",
       "\\end{bmatrix}) = \n",
       "\\begin{bmatrix}\n",
       "  0.12356268713258096\\\\\n",
       "\\end{bmatrix}"
      ],
      "text/plain": [
       "<IPython.core.display.Latex object>"
      ]
     },
     "metadata": {},
     "output_type": "display_data"
    },
    {
     "data": {
      "text/latex": [
       "\\nabla f_{custo} = \\frac{\\partial E}{\\partial Y} = \n",
       "\\begin{bmatrix}\n",
       "  -0.01334953 & 0.0148099 & 0.03205635 & 0.04017338 & 0.10281912 & -0.17902015\\\\\n",
       "  -0.0083884 & -0.04376913 & 0.00061398 & -0.0421848\\\\\n",
       "\\end{bmatrix}"
      ],
      "text/plain": [
       "<IPython.core.display.Latex object>"
      ]
     },
     "metadata": {},
     "output_type": "display_data"
    },
    {
     "data": {
      "text/latex": [
       "Camada: 2"
      ],
      "text/plain": [
       "<IPython.core.display.Latex object>"
      ]
     },
     "metadata": {},
     "output_type": "display_data"
    },
    {
     "data": {
      "text/latex": [
       "W = W - \\lambda (X \\cdot \\nabla f_{custo})"
      ],
      "text/plain": [
       "<IPython.core.display.Latex object>"
      ]
     },
     "metadata": {},
     "output_type": "display_data"
    },
    {
     "data": {
      "text/latex": [
       "\\begin{gather}\n",
       "\\begin{bmatrix}\n",
       "  0.00758065 & -0.39640639 & 0.04148311 & 0.30753072 & 0.04244308 & -0.34775977\\\\\n",
       "  -0.45095343 & -0.27637369 & 0.31745431 & -0.38467475\\\\\n",
       "  -0.19472008 & -0.21896804 & -0.35315722 & -0.25743827 & 0.07826559 & 0.09967805\\\\\n",
       "  0.00254686 & 0.12503376 & -0.07234434 & 0.29693075\\\\\n",
       "  -0.1850577 & 0.17845864 & 0.05540067 & 0.44085362 & -0.37226763 & -0.18256929\\\\\n",
       "  -0.15642063 & 0.24947534 & 0.33718541 & 0.15820325\\\\\n",
       "  -0.18908098 & 0.08790983 & 0.23911074 & -0.16499005 & -0.60561673 & 0.51526597\\\\\n",
       "  0.23393929 & -0.39957286 & 0.32058531 & 0.08365199\\\\\n",
       "  -0.32973856 & 0.45243148 & -0.30268686 & 0.08657129 & 0.14515764 & 0.08843996\\\\\n",
       "  0.16730368 & -0.09805519 & -0.48257703 & -0.5214912\\\\\n",
       "  0.30299109 & -0.08370503 & 0.35667171 & -0.03080436 & 0.05405984 & 0.54991831\\\\\n",
       "  -0.1743726 & -0.32626792 & -0.2434437 & -0.20474424\\\\\n",
       "  -0.02032994 & 0.47783638 & 0.48862194 & -0.48167878 & -0.12681057 & -0.04101876\\\\\n",
       "  -0.35111313 & -0.02532688 & -0.17913736 & -0.32848012\\\\\n",
       "  0.11743931 & 0.27838408 & 0.18391535 & 0.23970789 & -0.11277982 & -0.41296493\\\\\n",
       "  -0.2749319 & 0.24537039 & 0.37761667 & 0.125109\\\\\n",
       "  0.08832664 & -0.01883036 & 0.26419783 & 0.31525661 & 0.44464639 & -0.03057185\\\\\n",
       "  0.28306805 & 0.37391359 & -0.22974426 & 0.32692396\\\\\n",
       "  0.2610338 & 0.5323444 & -0.36918336 & -0.52287756 & -0.01959509 & 0.35831943\\\\\n",
       "  0.27039939 & 0.13861533 & -0.44594381 & -0.26455263\\\\\n",
       "  -0.19428504 & -0.29403883 & 0.01929957 & 0.19208984 & -0.42216973 & 0.09388474\\\\\n",
       "  -0.01446677 & -0.07569125 & 0.34887592 & -0.02138611\\\\\n",
       "  -0.43411185 & -0.10812514 & 0.03511308 & -0.34591099 & -0.52677132 & 0.00742899\\\\\n",
       "  -0.16101656 & -0.192189 & 0.18443111 & -0.02888395\\\\\n",
       "  0.11489559 & 0.08598496 & -0.11707676 & 0.17020898 & 0.04823314 & -0.25222835\\\\\n",
       "  0.26022756 & 0.10006075 & -0.44510098 & 0.02026857\\\\\n",
       "  0.07342388 & -0.36960206 & 0.35803605 & -0.39491358 & 0.37427253 & 0.4210783\\\\\n",
       "  -0.52055465 & 0.09844247 & 0.10802367 & 0.16204999\\\\\n",
       "\\end{bmatrix} = \n",
       "\\begin{bmatrix}\n",
       "  0.00462526 & -0.39312769 & 0.04857992 & 0.31642452 & 0.06520573 & -0.38739222\\\\\n",
       "  -0.4528105 & -0.28606354 & 0.31759024 & -0.39401385\\\\\n",
       "  -0.20265939 & -0.21016021 & -0.33409249 & -0.23354613 & 0.13941475 & -0.00678981\\\\\n",
       "  -0.00244194 & 0.09900314 & -0.07197919 & 0.27184237\\\\\n",
       "  -0.19324496 & 0.18754155 & 0.07506081 & 0.46549194 & -0.3092087 & -0.29236228\\\\\n",
       "  -0.16156523 & 0.22263175 & 0.33756197 & 0.13233133\\\\\n",
       "  -0.19728646 & 0.09701295 & 0.25881463 & -0.14029691 & -0.5424175 & 0.4052287\\\\\n",
       "  0.22878324 & -0.42647618 & 0.3209627 & 0.0577225\\\\\n",
       "  -0.33272366 & 0.45574314 & -0.2955187 & 0.09555451 & 0.16814915 & 0.04840905\\\\\n",
       "  0.16542794 & -0.10784246 & -0.48243973 & -0.53092419\\\\\n",
       "  0.29679096 & -0.07682663 & 0.37156015 & -0.012146 & 0.10181376 & 0.46677313\\\\\n",
       "  -0.17826856 & -0.34659631 & -0.24315853 & -0.2243368\\\\\n",
       "  -0.02154184 & 0.47918086 & 0.49153209 & -0.47803175 & -0.11747641 & -0.05727062\\\\\n",
       "  -0.35187465 & -0.02930034 & -0.17908163 & -0.33230975\\\\\n",
       "  0.11537903 & 0.28066974 & 0.18886271 & 0.24590798 & -0.09691141 & -0.44059369\\\\\n",
       "  -0.27622651 & 0.23861536 & 0.37771143 & 0.11859848\\\\\n",
       "  0.07927048 & -0.0087835 & 0.28594447 & 0.34250975 & 0.51439764 & -0.15201697\\\\\n",
       "  0.27737746 & 0.34422114 & -0.22932774 & 0.2983063\\\\\n",
       "  0.25673464 & 0.53711386 & -0.35885976 & -0.50993991 & 0.01351734 & 0.30066682\\\\\n",
       "  0.26769795 & 0.12451968 & -0.44574608 & -0.27813805\\\\\n",
       "  -0.2001621 & -0.28751884 & 0.03341223 & 0.20977599 & -0.37690408 & 0.01507193\\\\\n",
       "  -0.01815972 & -0.09496041 & 0.34914622 & -0.03995778\\\\\n",
       "  -0.4362377 & -0.10576673 & 0.04021792 & -0.33951356 & -0.51039782 & -0.02107919\\\\\n",
       "  -0.16235238 & -0.19915904 & 0.18452888 & -0.0356017\\\\\n",
       "  0.10729358 & 0.09441859 & -0.09882199 & 0.19308607 & 0.10678441 & -0.35417296\\\\\n",
       "  0.25545071 & 0.07513603 & -0.44475135 & -0.00375394\\\\\n",
       "  0.06832317 & -0.36394336 & 0.37028443 & -0.37956378 & 0.41355858 & 0.35267667\\\\\n",
       "  -0.52375976 & 0.08171877 & 0.10825827 & 0.14593164\\\\\n",
       "\\end{bmatrix} - 0.7\n",
       "\\begin{bmatrix}\n",
       "  0.31626484\\\\\n",
       "  0.84960797\\\\\n",
       "  0.87614236\\\\\n",
       "  0.87809171\\\\\n",
       "  0.31944457\\\\\n",
       "  0.66349415\\\\\n",
       "  0.12968903\\\\\n",
       "  0.2204761\\\\\n",
       "  0.96912569\\\\\n",
       "  0.46006485\\\\\n",
       "  0.62892207\\\\\n",
       "  0.22749379\\\\\n",
       "  0.81351269\\\\\n",
       "  0.5458414\\\\\n",
       "\\end{bmatrix} \\cdot \n",
       "\\begin{bmatrix}\n",
       "  -0.01334953 & 0.0148099 & 0.03205635 & 0.04017338 & 0.10281912 & -0.17902015\\\\\n",
       "  -0.0083884 & -0.04376913 & 0.00061398 & -0.0421848\\\\\n",
       "\\end{bmatrix}\\end{gather}"
      ],
      "text/plain": [
       "<IPython.core.display.Latex object>"
      ]
     },
     "metadata": {},
     "output_type": "display_data"
    },
    {
     "data": {
      "text/latex": [
       "\\nabla f_{custo} = \\frac{\\partial E}{\\partial Y} = \n",
       "\\begin{bmatrix}\n",
       "  0.11757612 & -0.02077376 & 0.0332457 & -0.10707469 & 0.03961268 & -0.04079038\\\\\n",
       "  0.02025312 & 0.07456241 & 0.07172401 & -0.07613416 & -0.02733005 & -0.04510401\\\\\n",
       "  0.07339246 & -0.03556782\\\\\n",
       "\\end{bmatrix}"
      ],
      "text/plain": [
       "<IPython.core.display.Latex object>"
      ]
     },
     "metadata": {},
     "output_type": "display_data"
    },
    {
     "data": {
      "text/latex": [
       "Camada: 1"
      ],
      "text/plain": [
       "<IPython.core.display.Latex object>"
      ]
     },
     "metadata": {},
     "output_type": "display_data"
    },
    {
     "data": {
      "text/latex": [
       "\\nabla = \\frac{\\partial E}{\\partial Y} \\frac{\\partial Y}{\\partial X}"
      ],
      "text/plain": [
       "<IPython.core.display.Latex object>"
      ]
     },
     "metadata": {},
     "output_type": "display_data"
    },
    {
     "data": {
      "text/latex": [
       "\\begin{gather}\n",
       "\\begin{bmatrix}\n",
       "  0.31626484 & 0.84960797 & 0.87614236 & 0.87809171 & 0.31944457 & 0.66349415\\\\\n",
       "  0.12968903 & 0.2204761 & 0.96912569 & 0.46006485 & 0.62892207 & 0.22749379\\\\\n",
       "  0.81351269 & 0.5458414\\\\\n",
       "\\end{bmatrix} = \\sigma(\n",
       "\\begin{bmatrix}\n",
       "  -0.77099067 & 1.73152962 & 1.95639577 & 1.97448204 & -0.75632548 & 0.67890448\\\\\n",
       "  -1.90371104 & -1.26289407 & 3.44646975 & -0.1600816 & 0.52759526 & -1.22251709\\\\\n",
       "  1.47299831 & 0.183882\\\\\n",
       "\\end{bmatrix}) \\end{gather}"
      ],
      "text/plain": [
       "<IPython.core.display.Latex object>"
      ]
     },
     "metadata": {},
     "output_type": "display_data"
    },
    {
     "data": {
      "text/latex": [
       "\\nabla f_{custo} = \\frac{\\partial E}{\\partial Y} = \n",
       "\\begin{bmatrix}\n",
       "  0.02542482 & -0.00265435 & 0.00360772 & -0.01146199 & 0.00861179 & -0.00910725\\\\\n",
       "  0.00228597 & 0.01281477 & 0.00214606 & -0.01891212 & -0.00637826 & -0.0079266\\\\\n",
       "  0.01113436 & -0.00881721\\\\\n",
       "\\end{bmatrix}"
      ],
      "text/plain": [
       "<IPython.core.display.Latex object>"
      ]
     },
     "metadata": {},
     "output_type": "display_data"
    },
    {
     "data": {
      "text/latex": [
       "Camada: 0"
      ],
      "text/plain": [
       "<IPython.core.display.Latex object>"
      ]
     },
     "metadata": {},
     "output_type": "display_data"
    },
    {
     "data": {
      "text/latex": [
       "W = W - \\lambda (X \\cdot \\nabla f_{custo})"
      ],
      "text/plain": [
       "<IPython.core.display.Latex object>"
      ]
     },
     "metadata": {},
     "output_type": "display_data"
    },
    {
     "data": {
      "text/latex": [
       "\\begin{gather}\n",
       "\\begin{bmatrix}\n",
       "  -0.10063662 & 0.34216454 & 0.31836205 & 0.69745981 & -0.28199609 & 0.31767869\\\\\n",
       "  -0.12390781 & 0.23667667 & 0.76986947 & 0.23945535 & 0.26742387 & 0.1451133\\\\\n",
       "  0.42794375 & 0.0731138\\\\\n",
       "  -1.09893457 & 0.34661704 & 0.24419512 & -0.49626871 & -0.70133338 & -0.61935466\\\\\n",
       "  -1.23910285 & -0.23543874 & 0.67871512 & -0.37832568 & -0.21390028 & -0.70634454\\\\\n",
       "  0.37059475 & -0.06057405\\\\\n",
       "  -0.79775574 & 0.07706094 & 0.38141571 & -0.51402416 & -0.95969742 & -0.23367754\\\\\n",
       "  -0.48967495 & -0.51295344 & 0.19345045 & -0.65627064 & -0.10304555 & -0.88359138\\\\\n",
       "  -0.1588092 & 0.03699462\\\\\n",
       "  0.27568276 & 0.33362752 & 0.76553987 & 0.51903484 & 0.3812243 & -0.1012431\\\\\n",
       "  -0.3421744 & -0.24281248 & 0.59602909 & -0.00624594 & 0.1154695 & -0.04352426\\\\\n",
       "  0.58481065 & -0.13662557\\\\\n",
       "  0.77971033 & 0.00127451 & 0.13213479 & 0.82643444 & 0.37306476 & 0.78051562\\\\\n",
       "  -0.0110743 & -0.2798043 & 0.51139729 & -0.21899424 & 0.51989139 & -0.23545722\\\\\n",
       "  0.57361224 & 0.15061705\\\\\n",
       "  -0.14308209 & 0.45790446 & 0.12716102 & 0.72134908 & -0.23501846 & 0.72540835\\\\\n",
       "  -0.16372408 & -0.04061769 & 0.37667421 & 0.35997496 & 0.54396634 & 0.13589883\\\\\n",
       "  0.40660493 & -0.0892716\\\\\n",
       "  0.39688833 & 0.1406925 & 0.46703068 & 0.88844685 & 0.75001714 & 0.72752177\\\\\n",
       "  0.06747903 & 0.32345938 & 0.84199617 & 0.7005366 & 0.07472079 & 0.36960161\\\\\n",
       "  0.17093898 & 0.74151758\\\\\n",
       "\\end{bmatrix} = \n",
       "\\begin{bmatrix}\n",
       "  -0.08283924 & 0.34030649 & 0.32088746 & 0.68943642 & -0.27596784 & 0.31130361\\\\\n",
       "  -0.12230763 & 0.24564701 & 0.77137171 & 0.22621686 & 0.26295909 & 0.13956469\\\\\n",
       "  0.4357378 & 0.06694175\\\\\n",
       "  -1.09893457 & 0.34661704 & 0.24419512 & -0.49626871 & -0.70133338 & -0.61935466\\\\\n",
       "  -1.23910285 & -0.23543874 & 0.67871512 & -0.37832568 & -0.21390028 & -0.70634454\\\\\n",
       "  0.37059475 & -0.06057405\\\\\n",
       "  -0.77995836 & 0.0752029 & 0.38394112 & -0.52204755 & -0.95366917 & -0.24005262\\\\\n",
       "  -0.48807477 & -0.5039831 & 0.1949527 & -0.66950912 & -0.10751034 & -0.88913999\\\\\n",
       "  -0.15101515 & 0.03082257\\\\\n",
       "  0.29348014 & 0.33176948 & 0.76806528 & 0.51101144 & 0.38725255 & -0.10761817\\\\\n",
       "  -0.34057423 & -0.23384214 & 0.59753133 & -0.01948442 & 0.11100471 & -0.04907287\\\\\n",
       "  0.5926047 & -0.14279762\\\\\n",
       "  0.77971033 & 0.00127451 & 0.13213479 & 0.82643444 & 0.37306476 & 0.78051562\\\\\n",
       "  -0.0110743 & -0.2798043 & 0.51139729 & -0.21899424 & 0.51989139 & -0.23545722\\\\\n",
       "  0.57361224 & 0.15061705\\\\\n",
       "  -0.12528471 & 0.45604641 & 0.12968643 & 0.71332568 & -0.22899021 & 0.71903327\\\\\n",
       "  -0.1621239 & -0.03164735 & 0.37817645 & 0.34673648 & 0.53950156 & 0.13035022\\\\\n",
       "  0.41439897 & -0.09544365\\\\\n",
       "  0.4146857 & 0.13883445 & 0.46955608 & 0.88042346 & 0.75604539 & 0.72114669\\\\\n",
       "  0.06907921 & 0.33242972 & 0.84349841 & 0.68729812 & 0.070256 & 0.36405299\\\\\n",
       "  0.17873303 & 0.73534553\\\\\n",
       "\\end{bmatrix} - 0.7\n",
       "\\begin{bmatrix}\n",
       "  1\\\\\n",
       "  0\\\\\n",
       "  1\\\\\n",
       "  1\\\\\n",
       "  0\\\\\n",
       "  1\\\\\n",
       "  1\\\\\n",
       "\\end{bmatrix} \\cdot \n",
       "\\begin{bmatrix}\n",
       "  0.02542482 & -0.00265435 & 0.00360772 & -0.01146199 & 0.00861179 & -0.00910725\\\\\n",
       "  0.00228597 & 0.01281477 & 0.00214606 & -0.01891212 & -0.00637826 & -0.0079266\\\\\n",
       "  0.01113436 & -0.00881721\\\\\n",
       "\\end{bmatrix}\\end{gather}"
      ],
      "text/plain": [
       "<IPython.core.display.Latex object>"
      ]
     },
     "metadata": {},
     "output_type": "display_data"
    },
    {
     "data": {
      "text/latex": [
       "Camada: 0"
      ],
      "text/plain": [
       "<IPython.core.display.Latex object>"
      ]
     },
     "metadata": {},
     "output_type": "display_data"
    },
    {
     "data": {
      "text/latex": [
       "Y = Xw + b"
      ],
      "text/plain": [
       "<IPython.core.display.Latex object>"
      ]
     },
     "metadata": {},
     "output_type": "display_data"
    },
    {
     "data": {
      "text/latex": [
       "\\begin{gather}\n",
       "\\begin{bmatrix}\n",
       "  2.57202305e-03 & 1.40178787e+00 & 1.75501608e+00 & 2.15159703e+00\\\\\n",
       "  -1.37434135e-01 & 1.17999189e+00 & -1.80047858e+00 & -1.83319709e+00\\\\\n",
       "  3.17898411e+00 & -5.39100283e-01 & 8.06851482e-01 & -1.56979592e+00\\\\\n",
       "  1.57190251e+00 & 2.98417549e-01\\\\\n",
       "\\end{bmatrix} = \n",
       "\\begin{bmatrix}\n",
       "  0 & 0 & 1 & 1 & 1 & 1 & 1\\\\\n",
       "\\end{bmatrix} \\cdot \n",
       "\\begin{bmatrix}\n",
       "  -0.10063662 & 0.34216454 & 0.31836205 & 0.69745981 & -0.28199609 & 0.31767869\\\\\n",
       "  -0.12390781 & 0.23667667 & 0.76986947 & 0.23945535 & 0.26742387 & 0.1451133\\\\\n",
       "  0.42794375 & 0.0731138\\\\\n",
       "  -1.09893457 & 0.34661704 & 0.24419512 & -0.49626871 & -0.70133338 & -0.61935466\\\\\n",
       "  -1.23910285 & -0.23543874 & 0.67871512 & -0.37832568 & -0.21390028 & -0.70634454\\\\\n",
       "  0.37059475 & -0.06057405\\\\\n",
       "  -0.79775574 & 0.07706094 & 0.38141571 & -0.51402416 & -0.95969742 & -0.23367754\\\\\n",
       "  -0.48967495 & -0.51295344 & 0.19345045 & -0.65627064 & -0.10304555 & -0.88359138\\\\\n",
       "  -0.1588092 & 0.03699462\\\\\n",
       "  0.27568276 & 0.33362752 & 0.76553987 & 0.51903484 & 0.3812243 & -0.1012431\\\\\n",
       "  -0.3421744 & -0.24281248 & 0.59602909 & -0.00624594 & 0.1154695 & -0.04352426\\\\\n",
       "  0.58481065 & -0.13662557\\\\\n",
       "  0.77971033 & 0.00127451 & 0.13213479 & 0.82643444 & 0.37306476 & 0.78051562\\\\\n",
       "  -0.0110743 & -0.2798043 & 0.51139729 & -0.21899424 & 0.51989139 & -0.23545722\\\\\n",
       "  0.57361224 & 0.15061705\\\\\n",
       "  -0.14308209 & 0.45790446 & 0.12716102 & 0.72134908 & -0.23501846 & 0.72540835\\\\\n",
       "  -0.16372408 & -0.04061769 & 0.37667421 & 0.35997496 & 0.54396634 & 0.13589883\\\\\n",
       "  0.40660493 & -0.0892716\\\\\n",
       "  0.39688833 & 0.1406925 & 0.46703068 & 0.88844685 & 0.75001714 & 0.72752177\\\\\n",
       "  0.06747903 & 0.32345938 & 0.84199617 & 0.7005366 & 0.07472079 & 0.36960161\\\\\n",
       "  0.17093898 & 0.74151758\\\\\n",
       "\\end{bmatrix} + \n",
       "\\begin{bmatrix}\n",
       "  -0.50887157 & 0.39122793 & -0.118266 & -0.28964402 & -0.44702446 & -0.71853321\\\\\n",
       "  -0.86130989 & -1.08046855 & 0.6594369 & -0.71810103 & -0.34415098 & -0.91272351\\\\\n",
       "  -0.0052551 & -0.40481454\\\\\n",
       "\\end{bmatrix}\\end{gather}"
      ],
      "text/plain": [
       "<IPython.core.display.Latex object>"
      ]
     },
     "metadata": {},
     "output_type": "display_data"
    },
    {
     "data": {
      "text/latex": [
       "Camada: 1"
      ],
      "text/plain": [
       "<IPython.core.display.Latex object>"
      ]
     },
     "metadata": {},
     "output_type": "display_data"
    },
    {
     "data": {
      "text/latex": [
       "Y = \\sigma(X)"
      ],
      "text/plain": [
       "<IPython.core.display.Latex object>"
      ]
     },
     "metadata": {},
     "output_type": "display_data"
    },
    {
     "data": {
      "text/latex": [
       "\\begin{gather}\n",
       "\\begin{bmatrix}\n",
       "  0.50064301 & 0.80246744 & 0.85258436 & 0.89581792 & 0.46569545 & 0.76494635\\\\\n",
       "  0.14179282 & 0.13785785 & 0.96003571 & 0.3683969 & 0.69143817 & 0.17224549\\\\\n",
       "  0.82805466 & 0.57405563\\\\\n",
       "\\end{bmatrix} = \\sigma(\n",
       "\\begin{bmatrix}\n",
       "  2.57202305e-03 & 1.40178787e+00 & 1.75501608e+00 & 2.15159703e+00\\\\\n",
       "  -1.37434135e-01 & 1.17999189e+00 & -1.80047858e+00 & -1.83319709e+00\\\\\n",
       "  3.17898411e+00 & -5.39100283e-01 & 8.06851482e-01 & -1.56979592e+00\\\\\n",
       "  1.57190251e+00 & 2.98417549e-01\\\\\n",
       "\\end{bmatrix}) \\end{gather}"
      ],
      "text/plain": [
       "<IPython.core.display.Latex object>"
      ]
     },
     "metadata": {},
     "output_type": "display_data"
    },
    {
     "data": {
      "text/latex": [
       "Camada: 2"
      ],
      "text/plain": [
       "<IPython.core.display.Latex object>"
      ]
     },
     "metadata": {},
     "output_type": "display_data"
    },
    {
     "data": {
      "text/latex": [
       "Y = Xw + b"
      ],
      "text/plain": [
       "<IPython.core.display.Latex object>"
      ]
     },
     "metadata": {},
     "output_type": "display_data"
    },
    {
     "data": {
      "text/latex": [
       "\\begin{gather}\n",
       "\\begin{bmatrix}\n",
       "  -0.03076332 & -0.08877205 & 0.06281178 & 0.1242903 & 0.09278162 & 0.95078184\\\\\n",
       "  -0.0840845 & -0.16271351 & -0.01753194 & -0.1903262\\\\\n",
       "\\end{bmatrix} = \n",
       "\\begin{bmatrix}\n",
       "  0.50064301 & 0.80246744 & 0.85258436 & 0.89581792 & 0.46569545 & 0.76494635\\\\\n",
       "  0.14179282 & 0.13785785 & 0.96003571 & 0.3683969 & 0.69143817 & 0.17224549\\\\\n",
       "  0.82805466 & 0.57405563\\\\\n",
       "\\end{bmatrix} \\cdot \n",
       "\\begin{bmatrix}\n",
       "  0.00758065 & -0.39640639 & 0.04148311 & 0.30753072 & 0.04244308 & -0.34775977\\\\\n",
       "  -0.45095343 & -0.27637369 & 0.31745431 & -0.38467475\\\\\n",
       "  -0.19472008 & -0.21896804 & -0.35315722 & -0.25743827 & 0.07826559 & 0.09967805\\\\\n",
       "  0.00254686 & 0.12503376 & -0.07234434 & 0.29693075\\\\\n",
       "  -0.1850577 & 0.17845864 & 0.05540067 & 0.44085362 & -0.37226763 & -0.18256929\\\\\n",
       "  -0.15642063 & 0.24947534 & 0.33718541 & 0.15820325\\\\\n",
       "  -0.18908098 & 0.08790983 & 0.23911074 & -0.16499005 & -0.60561673 & 0.51526597\\\\\n",
       "  0.23393929 & -0.39957286 & 0.32058531 & 0.08365199\\\\\n",
       "  -0.32973856 & 0.45243148 & -0.30268686 & 0.08657129 & 0.14515764 & 0.08843996\\\\\n",
       "  0.16730368 & -0.09805519 & -0.48257703 & -0.5214912\\\\\n",
       "  0.30299109 & -0.08370503 & 0.35667171 & -0.03080436 & 0.05405984 & 0.54991831\\\\\n",
       "  -0.1743726 & -0.32626792 & -0.2434437 & -0.20474424\\\\\n",
       "  -0.02032994 & 0.47783638 & 0.48862194 & -0.48167878 & -0.12681057 & -0.04101876\\\\\n",
       "  -0.35111313 & -0.02532688 & -0.17913736 & -0.32848012\\\\\n",
       "  0.11743931 & 0.27838408 & 0.18391535 & 0.23970789 & -0.11277982 & -0.41296493\\\\\n",
       "  -0.2749319 & 0.24537039 & 0.37761667 & 0.125109\\\\\n",
       "  0.08832664 & -0.01883036 & 0.26419783 & 0.31525661 & 0.44464639 & -0.03057185\\\\\n",
       "  0.28306805 & 0.37391359 & -0.22974426 & 0.32692396\\\\\n",
       "  0.2610338 & 0.5323444 & -0.36918336 & -0.52287756 & -0.01959509 & 0.35831943\\\\\n",
       "  0.27039939 & 0.13861533 & -0.44594381 & -0.26455263\\\\\n",
       "  -0.19428504 & -0.29403883 & 0.01929957 & 0.19208984 & -0.42216973 & 0.09388474\\\\\n",
       "  -0.01446677 & -0.07569125 & 0.34887592 & -0.02138611\\\\\n",
       "  -0.43411185 & -0.10812514 & 0.03511308 & -0.34591099 & -0.52677132 & 0.00742899\\\\\n",
       "  -0.16101656 & -0.192189 & 0.18443111 & -0.02888395\\\\\n",
       "  0.11489559 & 0.08598496 & -0.11707676 & 0.17020898 & 0.04823314 & -0.25222835\\\\\n",
       "  0.26022756 & 0.10006075 & -0.44510098 & 0.02026857\\\\\n",
       "  0.07342388 & -0.36960206 & 0.35803605 & -0.39491358 & 0.37427253 & 0.4210783\\\\\n",
       "  -0.52055465 & 0.09844247 & 0.10802367 & 0.16204999\\\\\n",
       "\\end{bmatrix} + \n",
       "\\begin{bmatrix}\n",
       "  0.24819586 & -0.01342869 & -0.40811732 & -0.13015777 & 0.50140304 & 0.1381584\\\\\n",
       "  -0.04369466 & -0.17839604 & 0.10963374 & -0.3234792\\\\\n",
       "\\end{bmatrix}\\end{gather}"
      ],
      "text/plain": [
       "<IPython.core.display.Latex object>"
      ]
     },
     "metadata": {},
     "output_type": "display_data"
    },
    {
     "data": {
      "text/latex": [
       "f_{custo}(\n",
       "\\begin{bmatrix}\n",
       "  0 & 0 & 0 & 0 & 0 & 0 & 1 & 0 & 0 & 0\\\\\n",
       "\\end{bmatrix},\n",
       "\\begin{bmatrix}\n",
       "  -0.03076332 & -0.08877205 & 0.06281178 & 0.1242903 & 0.09278162 & 0.95078184\\\\\n",
       "  -0.0840845 & -0.16271351 & -0.01753194 & -0.1903262\\\\\n",
       "\\end{bmatrix}) = \n",
       "\\begin{bmatrix}\n",
       "  0.2179061108856993\\\\\n",
       "\\end{bmatrix}"
      ],
      "text/plain": [
       "<IPython.core.display.Latex object>"
      ]
     },
     "metadata": {},
     "output_type": "display_data"
    },
    {
     "data": {
      "text/latex": [
       "\\nabla f_{custo} = \\frac{\\partial E}{\\partial Y} = \n",
       "\\begin{bmatrix}\n",
       "  -0.00615266 & -0.01775441 & 0.01256236 & 0.02485806 & 0.01855632 & 0.19015637\\\\\n",
       "  -0.2168169 & -0.0325427 & -0.00350639 & -0.03806524\\\\\n",
       "\\end{bmatrix}"
      ],
      "text/plain": [
       "<IPython.core.display.Latex object>"
      ]
     },
     "metadata": {},
     "output_type": "display_data"
    },
    {
     "data": {
      "text/latex": [
       "Camada: 2"
      ],
      "text/plain": [
       "<IPython.core.display.Latex object>"
      ]
     },
     "metadata": {},
     "output_type": "display_data"
    },
    {
     "data": {
      "text/latex": [
       "W = W - \\lambda (X \\cdot \\nabla f_{custo})"
      ],
      "text/plain": [
       "<IPython.core.display.Latex object>"
      ]
     },
     "metadata": {},
     "output_type": "display_data"
    },
    {
     "data": {
      "text/latex": [
       "\\begin{gather}\n",
       "\\begin{bmatrix}\n",
       "  0.00973685 & -0.39018435 & 0.03708063 & 0.29881921 & 0.03594002 & -0.41440009\\\\\n",
       "  -0.37496992 & -0.2649691 & 0.31868313 & -0.37133478\\\\\n",
       "  -0.19126396 & -0.20899491 & -0.36021383 & -0.27140172 & 0.067842 & -0.00713796\\\\\n",
       "  0.12433881 & 0.14331388 & -0.07037471 & 0.31831303\\\\\n",
       "  -0.18138573 & 0.18905463 & 0.04790334 & 0.42601811 & -0.38334221 & -0.29605633\\\\\n",
       "  -0.02702234 & 0.26889712 & 0.33927806 & 0.18092093\\\\\n",
       "  -0.18522282 & 0.09904314 & 0.23123323 & -0.18057786 & -0.61725289 & 0.39602414\\\\\n",
       "  0.36989921 & -0.37916622 & 0.32278407 & 0.10752166\\\\\n",
       "  -0.32773287 & 0.45821918 & -0.30678202 & 0.07846789 & 0.13910852 & 0.02645149\\\\\n",
       "  0.23798314 & -0.0874467 & -0.48143399 & -0.50908243\\\\\n",
       "  0.30628561 & -0.07419821 & 0.34994504 & -0.04411492 & 0.04412362 & 0.44809672\\\\\n",
       "  -0.0582753 & -0.30884253 & -0.24156616 & -0.18436173\\\\\n",
       "  -0.01971925 & 0.47959859 & 0.48737506 & -0.48414607 & -0.12865237 & -0.05989272\\\\\n",
       "  -0.32959298 & -0.02209686 & -0.17878934 & -0.32470195\\\\\n",
       "  0.11803305 & 0.28009739 & 0.18270308 & 0.23730907 & -0.11457052 & -0.43131511\\\\\n",
       "  -0.25400897 & 0.24851078 & 0.37795504 & 0.12878231\\\\\n",
       "  0.09246139 & -0.00689895 & 0.25575562 & 0.29855138 & 0.43217607 & -0.15836169\\\\\n",
       "  0.42877443 & 0.3957831 & -0.22738788 & 0.35250475\\\\\n",
       "  0.26262043 & 0.53692287 & -0.37242291 & -0.52928791 & -0.02438035 & 0.30928232\\\\\n",
       "  0.32631167 & 0.14700737 & -0.44503959 & -0.25473645\\\\\n",
       "  -0.1913071 & -0.28544558 & 0.0132193 & 0.18005837 & -0.43115112 & 0.00184778\\\\\n",
       "  0.09047407 & -0.05994036 & 0.35057303 & -0.00296228\\\\\n",
       "  -0.43337001 & -0.10598446 & 0.03359842 & -0.34890818 & -0.52900869 & -0.01549851\\\\\n",
       "  -0.13487455 & -0.18826527 & 0.18485388 & -0.02429436\\\\\n",
       "  0.11846191 & 0.0962761 & -0.12435839 & 0.1558003 & 0.03747719 & -0.36245025\\\\\n",
       "  0.38590293 & 0.11892375 & -0.44306855 & 0.04233264\\\\\n",
       "  0.07589626 & -0.36246764 & 0.35298801 & -0.40490252 & 0.36681588 & 0.34466606\\\\\n",
       "  -0.43342917 & 0.11151939 & 0.10943268 & 0.17734609\\\\\n",
       "\\end{bmatrix} = \n",
       "\\begin{bmatrix}\n",
       "  0.00758065 & -0.39640639 & 0.04148311 & 0.30753072 & 0.04244308 & -0.34775977\\\\\n",
       "  -0.45095343 & -0.27637369 & 0.31745431 & -0.38467475\\\\\n",
       "  -0.19472008 & -0.21896804 & -0.35315722 & -0.25743827 & 0.07826559 & 0.09967805\\\\\n",
       "  0.00254686 & 0.12503376 & -0.07234434 & 0.29693075\\\\\n",
       "  -0.1850577 & 0.17845864 & 0.05540067 & 0.44085362 & -0.37226763 & -0.18256929\\\\\n",
       "  -0.15642063 & 0.24947534 & 0.33718541 & 0.15820325\\\\\n",
       "  -0.18908098 & 0.08790983 & 0.23911074 & -0.16499005 & -0.60561673 & 0.51526597\\\\\n",
       "  0.23393929 & -0.39957286 & 0.32058531 & 0.08365199\\\\\n",
       "  -0.32973856 & 0.45243148 & -0.30268686 & 0.08657129 & 0.14515764 & 0.08843996\\\\\n",
       "  0.16730368 & -0.09805519 & -0.48257703 & -0.5214912\\\\\n",
       "  0.30299109 & -0.08370503 & 0.35667171 & -0.03080436 & 0.05405984 & 0.54991831\\\\\n",
       "  -0.1743726 & -0.32626792 & -0.2434437 & -0.20474424\\\\\n",
       "  -0.02032994 & 0.47783638 & 0.48862194 & -0.48167878 & -0.12681057 & -0.04101876\\\\\n",
       "  -0.35111313 & -0.02532688 & -0.17913736 & -0.32848012\\\\\n",
       "  0.11743931 & 0.27838408 & 0.18391535 & 0.23970789 & -0.11277982 & -0.41296493\\\\\n",
       "  -0.2749319 & 0.24537039 & 0.37761667 & 0.125109\\\\\n",
       "  0.08832664 & -0.01883036 & 0.26419783 & 0.31525661 & 0.44464639 & -0.03057185\\\\\n",
       "  0.28306805 & 0.37391359 & -0.22974426 & 0.32692396\\\\\n",
       "  0.2610338 & 0.5323444 & -0.36918336 & -0.52287756 & -0.01959509 & 0.35831943\\\\\n",
       "  0.27039939 & 0.13861533 & -0.44594381 & -0.26455263\\\\\n",
       "  -0.19428504 & -0.29403883 & 0.01929957 & 0.19208984 & -0.42216973 & 0.09388474\\\\\n",
       "  -0.01446677 & -0.07569125 & 0.34887592 & -0.02138611\\\\\n",
       "  -0.43411185 & -0.10812514 & 0.03511308 & -0.34591099 & -0.52677132 & 0.00742899\\\\\n",
       "  -0.16101656 & -0.192189 & 0.18443111 & -0.02888395\\\\\n",
       "  0.11489559 & 0.08598496 & -0.11707676 & 0.17020898 & 0.04823314 & -0.25222835\\\\\n",
       "  0.26022756 & 0.10006075 & -0.44510098 & 0.02026857\\\\\n",
       "  0.07342388 & -0.36960206 & 0.35803605 & -0.39491358 & 0.37427253 & 0.4210783\\\\\n",
       "  -0.52055465 & 0.09844247 & 0.10802367 & 0.16204999\\\\\n",
       "\\end{bmatrix} - 0.7\n",
       "\\begin{bmatrix}\n",
       "  0.50064301\\\\\n",
       "  0.80246744\\\\\n",
       "  0.85258436\\\\\n",
       "  0.89581792\\\\\n",
       "  0.46569545\\\\\n",
       "  0.76494635\\\\\n",
       "  0.14179282\\\\\n",
       "  0.13785785\\\\\n",
       "  0.96003571\\\\\n",
       "  0.3683969\\\\\n",
       "  0.69143817\\\\\n",
       "  0.17224549\\\\\n",
       "  0.82805466\\\\\n",
       "  0.57405563\\\\\n",
       "\\end{bmatrix} \\cdot \n",
       "\\begin{bmatrix}\n",
       "  -0.00615266 & -0.01775441 & 0.01256236 & 0.02485806 & 0.01855632 & 0.19015637\\\\\n",
       "  -0.2168169 & -0.0325427 & -0.00350639 & -0.03806524\\\\\n",
       "\\end{bmatrix}\\end{gather}"
      ],
      "text/plain": [
       "<IPython.core.display.Latex object>"
      ]
     },
     "metadata": {},
     "output_type": "display_data"
    },
    {
     "data": {
      "text/latex": [
       "\\nabla f_{custo} = \\frac{\\partial E}{\\partial Y} = \n",
       "\\begin{bmatrix}\n",
       "  0.0701138 & -0.00101368 & -0.01340805 & 0.04322097 & 0.00031617 & 0.16598226\\\\\n",
       "  0.06573617 & -0.03247822 & -0.0717969 & -0.0124241 & 0.02664276 & 0.02968905\\\\\n",
       "  -0.10542983 & 0.19092136\\\\\n",
       "\\end{bmatrix}"
      ],
      "text/plain": [
       "<IPython.core.display.Latex object>"
      ]
     },
     "metadata": {},
     "output_type": "display_data"
    },
    {
     "data": {
      "text/latex": [
       "Camada: 1"
      ],
      "text/plain": [
       "<IPython.core.display.Latex object>"
      ]
     },
     "metadata": {},
     "output_type": "display_data"
    },
    {
     "data": {
      "text/latex": [
       "\\nabla = \\frac{\\partial E}{\\partial Y} \\frac{\\partial Y}{\\partial X}"
      ],
      "text/plain": [
       "<IPython.core.display.Latex object>"
      ]
     },
     "metadata": {},
     "output_type": "display_data"
    },
    {
     "data": {
      "text/latex": [
       "\\begin{gather}\n",
       "\\begin{bmatrix}\n",
       "  0.50064301 & 0.80246744 & 0.85258436 & 0.89581792 & 0.46569545 & 0.76494635\\\\\n",
       "  0.14179282 & 0.13785785 & 0.96003571 & 0.3683969 & 0.69143817 & 0.17224549\\\\\n",
       "  0.82805466 & 0.57405563\\\\\n",
       "\\end{bmatrix} = \\sigma(\n",
       "\\begin{bmatrix}\n",
       "  2.57202305e-03 & 1.40178787e+00 & 1.75501608e+00 & 2.15159703e+00\\\\\n",
       "  -1.37434135e-01 & 1.17999189e+00 & -1.80047858e+00 & -1.83319709e+00\\\\\n",
       "  3.17898411e+00 & -5.39100283e-01 & 8.06851482e-01 & -1.56979592e+00\\\\\n",
       "  1.57190251e+00 & 2.98417549e-01\\\\\n",
       "\\end{bmatrix}) \\end{gather}"
      ],
      "text/plain": [
       "<IPython.core.display.Latex object>"
      ]
     },
     "metadata": {},
     "output_type": "display_data"
    },
    {
     "data": {
      "text/latex": [
       "\\nabla f_{custo} = \\frac{\\partial E}{\\partial Y} = \n",
       "\\begin{bmatrix}\n",
       "  1.75284221e-02 & -1.60682066e-04 & -1.68518043e-03 & 4.03373441e-03\\\\\n",
       "  7.86701274e-05 & 2.98441812e-02 & 7.99927811e-03 & -3.86013631e-03\\\\\n",
       "  -2.75464227e-03 & -2.89084818e-03 & 5.68427060e-03 & 4.23297484e-03\\\\\n",
       "  -1.50111140e-02 & 4.66832828e-02\\\\\n",
       "\\end{bmatrix}"
      ],
      "text/plain": [
       "<IPython.core.display.Latex object>"
      ]
     },
     "metadata": {},
     "output_type": "display_data"
    },
    {
     "data": {
      "text/latex": [
       "Camada: 0"
      ],
      "text/plain": [
       "<IPython.core.display.Latex object>"
      ]
     },
     "metadata": {},
     "output_type": "display_data"
    },
    {
     "data": {
      "text/latex": [
       "W = W - \\lambda (X \\cdot \\nabla f_{custo})"
      ],
      "text/plain": [
       "<IPython.core.display.Latex object>"
      ]
     },
     "metadata": {},
     "output_type": "display_data"
    },
    {
     "data": {
      "text/latex": [
       "\\begin{gather}\n",
       "\\begin{bmatrix}\n",
       "  -0.10063662 & 0.34216454 & 0.31836205 & 0.69745981 & -0.28199609 & 0.31767869\\\\\n",
       "  -0.12390781 & 0.23667667 & 0.76986947 & 0.23945535 & 0.26742387 & 0.1451133\\\\\n",
       "  0.42794375 & 0.0731138\\\\\n",
       "  -1.09893457 & 0.34661704 & 0.24419512 & -0.49626871 & -0.70133338 & -0.61935466\\\\\n",
       "  -1.23910285 & -0.23543874 & 0.67871512 & -0.37832568 & -0.21390028 & -0.70634454\\\\\n",
       "  0.37059475 & -0.06057405\\\\\n",
       "  -0.81002563 & 0.07717342 & 0.38259534 & -0.51684778 & -0.95975249 & -0.25456847\\\\\n",
       "  -0.49527444 & -0.51025135 & 0.1953787 & -0.65424705 & -0.10702454 & -0.88655446\\\\\n",
       "  -0.14830142 & 0.00431632\\\\\n",
       "  0.26341286 & 0.33374 & 0.7667195 & 0.51621122 & 0.38116923 & -0.12213402\\\\\n",
       "  -0.3477739 & -0.24011039 & 0.59795734 & -0.00422234 & 0.11149051 & -0.04648734\\\\\n",
       "  0.59531843 & -0.16930387\\\\\n",
       "  0.76744043 & 0.00138699 & 0.13331442 & 0.82361083 & 0.37300969 & 0.7596247\\\\\n",
       "  -0.01667379 & -0.27710221 & 0.51332554 & -0.21697065 & 0.5159124 & -0.2384203\\\\\n",
       "  0.58412002 & 0.11793876\\\\\n",
       "  -0.15535198 & 0.45801694 & 0.12834065 & 0.71852546 & -0.23507353 & 0.70451742\\\\\n",
       "  -0.16932357 & -0.03791559 & 0.37860246 & 0.36199856 & 0.53998735 & 0.13293575\\\\\n",
       "  0.41711271 & -0.1219499\\\\\n",
       "  0.38461843 & 0.14080498 & 0.46821031 & 0.88562324 & 0.74996207 & 0.70663084\\\\\n",
       "  0.06187954 & 0.32616147 & 0.84392442 & 0.7025602 & 0.0707418 & 0.36663853\\\\\n",
       "  0.18144676 & 0.70883928\\\\\n",
       "\\end{bmatrix} = \n",
       "\\begin{bmatrix}\n",
       "  -0.10063662 & 0.34216454 & 0.31836205 & 0.69745981 & -0.28199609 & 0.31767869\\\\\n",
       "  -0.12390781 & 0.23667667 & 0.76986947 & 0.23945535 & 0.26742387 & 0.1451133\\\\\n",
       "  0.42794375 & 0.0731138\\\\\n",
       "  -1.09893457 & 0.34661704 & 0.24419512 & -0.49626871 & -0.70133338 & -0.61935466\\\\\n",
       "  -1.23910285 & -0.23543874 & 0.67871512 & -0.37832568 & -0.21390028 & -0.70634454\\\\\n",
       "  0.37059475 & -0.06057405\\\\\n",
       "  -0.79775574 & 0.07706094 & 0.38141571 & -0.51402416 & -0.95969742 & -0.23367754\\\\\n",
       "  -0.48967495 & -0.51295344 & 0.19345045 & -0.65627064 & -0.10304555 & -0.88359138\\\\\n",
       "  -0.1588092 & 0.03699462\\\\\n",
       "  0.27568276 & 0.33362752 & 0.76553987 & 0.51903484 & 0.3812243 & -0.1012431\\\\\n",
       "  -0.3421744 & -0.24281248 & 0.59602909 & -0.00624594 & 0.1154695 & -0.04352426\\\\\n",
       "  0.58481065 & -0.13662557\\\\\n",
       "  0.77971033 & 0.00127451 & 0.13213479 & 0.82643444 & 0.37306476 & 0.78051562\\\\\n",
       "  -0.0110743 & -0.2798043 & 0.51139729 & -0.21899424 & 0.51989139 & -0.23545722\\\\\n",
       "  0.57361224 & 0.15061705\\\\\n",
       "  -0.14308209 & 0.45790446 & 0.12716102 & 0.72134908 & -0.23501846 & 0.72540835\\\\\n",
       "  -0.16372408 & -0.04061769 & 0.37667421 & 0.35997496 & 0.54396634 & 0.13589883\\\\\n",
       "  0.40660493 & -0.0892716\\\\\n",
       "  0.39688833 & 0.1406925 & 0.46703068 & 0.88844685 & 0.75001714 & 0.72752177\\\\\n",
       "  0.06747903 & 0.32345938 & 0.84199617 & 0.7005366 & 0.07472079 & 0.36960161\\\\\n",
       "  0.17093898 & 0.74151758\\\\\n",
       "\\end{bmatrix} - 0.7\n",
       "\\begin{bmatrix}\n",
       "  0\\\\\n",
       "  0\\\\\n",
       "  1\\\\\n",
       "  1\\\\\n",
       "  1\\\\\n",
       "  1\\\\\n",
       "  1\\\\\n",
       "\\end{bmatrix} \\cdot \n",
       "\\begin{bmatrix}\n",
       "  1.75284221e-02 & -1.60682066e-04 & -1.68518043e-03 & 4.03373441e-03\\\\\n",
       "  7.86701274e-05 & 2.98441812e-02 & 7.99927811e-03 & -3.86013631e-03\\\\\n",
       "  -2.75464227e-03 & -2.89084818e-03 & 5.68427060e-03 & 4.23297484e-03\\\\\n",
       "  -1.50111140e-02 & 4.66832828e-02\\\\\n",
       "\\end{bmatrix}\\end{gather}"
      ],
      "text/plain": [
       "<IPython.core.display.Latex object>"
      ]
     },
     "metadata": {},
     "output_type": "display_data"
    },
    {
     "data": {
      "text/latex": [
       "Camada: 0"
      ],
      "text/plain": [
       "<IPython.core.display.Latex object>"
      ]
     },
     "metadata": {},
     "output_type": "display_data"
    },
    {
     "data": {
      "text/latex": [
       "Y = Xw + b"
      ],
      "text/plain": [
       "<IPython.core.display.Latex object>"
      ]
     },
     "metadata": {},
     "output_type": "display_data"
    },
    {
     "data": {
      "text/latex": [
       "\\begin{gather}\n",
       "\\begin{bmatrix}\n",
       "  -2.53073829 & 1.15729541 & 0.82806615 & -0.60812431 & -2.39016149 & -1.29566858\\\\\n",
       "  -2.72519448 & -1.58677987 & 2.30532845 & -1.50919481 & -0.40163092 & -2.36347229\\\\\n",
       "  0.65548977 & -0.42063677\\\\\n",
       "\\end{bmatrix} = \n",
       "\\begin{bmatrix}\n",
       "  1 & 1 & 1 & 0 & 0 & 0 & 0\\\\\n",
       "\\end{bmatrix} \\cdot \n",
       "\\begin{bmatrix}\n",
       "  -0.10063662 & 0.34216454 & 0.31836205 & 0.69745981 & -0.28199609 & 0.31767869\\\\\n",
       "  -0.12390781 & 0.23667667 & 0.76986947 & 0.23945535 & 0.26742387 & 0.1451133\\\\\n",
       "  0.42794375 & 0.0731138\\\\\n",
       "  -1.09893457 & 0.34661704 & 0.24419512 & -0.49626871 & -0.70133338 & -0.61935466\\\\\n",
       "  -1.23910285 & -0.23543874 & 0.67871512 & -0.37832568 & -0.21390028 & -0.70634454\\\\\n",
       "  0.37059475 & -0.06057405\\\\\n",
       "  -0.81002563 & 0.07717342 & 0.38259534 & -0.51684778 & -0.95975249 & -0.25456847\\\\\n",
       "  -0.49527444 & -0.51025135 & 0.1953787 & -0.65424705 & -0.10702454 & -0.88655446\\\\\n",
       "  -0.14830142 & 0.00431632\\\\\n",
       "  0.26341286 & 0.33374 & 0.7667195 & 0.51621122 & 0.38116923 & -0.12213402\\\\\n",
       "  -0.3477739 & -0.24011039 & 0.59795734 & -0.00422234 & 0.11149051 & -0.04648734\\\\\n",
       "  0.59531843 & -0.16930387\\\\\n",
       "  0.76744043 & 0.00138699 & 0.13331442 & 0.82361083 & 0.37300969 & 0.7596247\\\\\n",
       "  -0.01667379 & -0.27710221 & 0.51332554 & -0.21697065 & 0.5159124 & -0.2384203\\\\\n",
       "  0.58412002 & 0.11793876\\\\\n",
       "  -0.15535198 & 0.45801694 & 0.12834065 & 0.71852546 & -0.23507353 & 0.70451742\\\\\n",
       "  -0.16932357 & -0.03791559 & 0.37860246 & 0.36199856 & 0.53998735 & 0.13293575\\\\\n",
       "  0.41711271 & -0.1219499\\\\\n",
       "  0.38461843 & 0.14080498 & 0.46821031 & 0.88562324 & 0.74996207 & 0.70663084\\\\\n",
       "  0.06187954 & 0.32616147 & 0.84392442 & 0.7025602 & 0.0707418 & 0.36663853\\\\\n",
       "  0.18144676 & 0.70883928\\\\\n",
       "\\end{bmatrix} + \n",
       "\\begin{bmatrix}\n",
       "  -0.52114146 & 0.39134041 & -0.11708637 & -0.29246763 & -0.44707953 & -0.73942414\\\\\n",
       "  -0.86690938 & -1.07776645 & 0.66136515 & -0.71607744 & -0.34812997 & -0.91568659\\\\\n",
       "  0.00525268 & -0.43749283\\\\\n",
       "\\end{bmatrix}\\end{gather}"
      ],
      "text/plain": [
       "<IPython.core.display.Latex object>"
      ]
     },
     "metadata": {},
     "output_type": "display_data"
    },
    {
     "data": {
      "text/latex": [
       "Camada: 1"
      ],
      "text/plain": [
       "<IPython.core.display.Latex object>"
      ]
     },
     "metadata": {},
     "output_type": "display_data"
    },
    {
     "data": {
      "text/latex": [
       "Y = \\sigma(X)"
      ],
      "text/plain": [
       "<IPython.core.display.Latex object>"
      ]
     },
     "metadata": {},
     "output_type": "display_data"
    },
    {
     "data": {
      "text/latex": [
       "\\begin{gather}\n",
       "\\begin{bmatrix}\n",
       "  0.07373121 & 0.76084093 & 0.69594587 & 0.35248719 & 0.08392602 & 0.21489489\\\\\n",
       "  0.06150296 & 0.16983743 & 0.90931738 & 0.18105815 & 0.40092056 & 0.08600086\\\\\n",
       "  0.6582465 & 0.39636439\\\\\n",
       "\\end{bmatrix} = \\sigma(\n",
       "\\begin{bmatrix}\n",
       "  -2.53073829 & 1.15729541 & 0.82806615 & -0.60812431 & -2.39016149 & -1.29566858\\\\\n",
       "  -2.72519448 & -1.58677987 & 2.30532845 & -1.50919481 & -0.40163092 & -2.36347229\\\\\n",
       "  0.65548977 & -0.42063677\\\\\n",
       "\\end{bmatrix}) \\end{gather}"
      ],
      "text/plain": [
       "<IPython.core.display.Latex object>"
      ]
     },
     "metadata": {},
     "output_type": "display_data"
    },
    {
     "data": {
      "text/latex": [
       "Camada: 2"
      ],
      "text/plain": [
       "<IPython.core.display.Latex object>"
      ]
     },
     "metadata": {},
     "output_type": "display_data"
    },
    {
     "data": {
      "text/latex": [
       "Y = Xw + b"
      ],
      "text/plain": [
       "<IPython.core.display.Latex object>"
      ]
     },
     "metadata": {},
     "output_type": "display_data"
    },
    {
     "data": {
      "text/latex": [
       "\\begin{gather}\n",
       "\\begin{bmatrix}\n",
       "  0.09904028 & -0.03562927 & -0.23156267 & 0.06834231 & 0.3923876 & -0.26636852\\\\\n",
       "  0.78652001 & 0.42328319 & 0.01364686 & 0.37064113\\\\\n",
       "\\end{bmatrix} = \n",
       "\\begin{bmatrix}\n",
       "  0.07373121 & 0.76084093 & 0.69594587 & 0.35248719 & 0.08392602 & 0.21489489\\\\\n",
       "  0.06150296 & 0.16983743 & 0.90931738 & 0.18105815 & 0.40092056 & 0.08600086\\\\\n",
       "  0.6582465 & 0.39636439\\\\\n",
       "\\end{bmatrix} \\cdot \n",
       "\\begin{bmatrix}\n",
       "  0.00973685 & -0.39018435 & 0.03708063 & 0.29881921 & 0.03594002 & -0.41440009\\\\\n",
       "  -0.37496992 & -0.2649691 & 0.31868313 & -0.37133478\\\\\n",
       "  -0.19126396 & -0.20899491 & -0.36021383 & -0.27140172 & 0.067842 & -0.00713796\\\\\n",
       "  0.12433881 & 0.14331388 & -0.07037471 & 0.31831303\\\\\n",
       "  -0.18138573 & 0.18905463 & 0.04790334 & 0.42601811 & -0.38334221 & -0.29605633\\\\\n",
       "  -0.02702234 & 0.26889712 & 0.33927806 & 0.18092093\\\\\n",
       "  -0.18522282 & 0.09904314 & 0.23123323 & -0.18057786 & -0.61725289 & 0.39602414\\\\\n",
       "  0.36989921 & -0.37916622 & 0.32278407 & 0.10752166\\\\\n",
       "  -0.32773287 & 0.45821918 & -0.30678202 & 0.07846789 & 0.13910852 & 0.02645149\\\\\n",
       "  0.23798314 & -0.0874467 & -0.48143399 & -0.50908243\\\\\n",
       "  0.30628561 & -0.07419821 & 0.34994504 & -0.04411492 & 0.04412362 & 0.44809672\\\\\n",
       "  -0.0582753 & -0.30884253 & -0.24156616 & -0.18436173\\\\\n",
       "  -0.01971925 & 0.47959859 & 0.48737506 & -0.48414607 & -0.12865237 & -0.05989272\\\\\n",
       "  -0.32959298 & -0.02209686 & -0.17878934 & -0.32470195\\\\\n",
       "  0.11803305 & 0.28009739 & 0.18270308 & 0.23730907 & -0.11457052 & -0.43131511\\\\\n",
       "  -0.25400897 & 0.24851078 & 0.37795504 & 0.12878231\\\\\n",
       "  0.09246139 & -0.00689895 & 0.25575562 & 0.29855138 & 0.43217607 & -0.15836169\\\\\n",
       "  0.42877443 & 0.3957831 & -0.22738788 & 0.35250475\\\\\n",
       "  0.26262043 & 0.53692287 & -0.37242291 & -0.52928791 & -0.02438035 & 0.30928232\\\\\n",
       "  0.32631167 & 0.14700737 & -0.44503959 & -0.25473645\\\\\n",
       "  -0.1913071 & -0.28544558 & 0.0132193 & 0.18005837 & -0.43115112 & 0.00184778\\\\\n",
       "  0.09047407 & -0.05994036 & 0.35057303 & -0.00296228\\\\\n",
       "  -0.43337001 & -0.10598446 & 0.03359842 & -0.34890818 & -0.52900869 & -0.01549851\\\\\n",
       "  -0.13487455 & -0.18826527 & 0.18485388 & -0.02429436\\\\\n",
       "  0.11846191 & 0.0962761 & -0.12435839 & 0.1558003 & 0.03747719 & -0.36245025\\\\\n",
       "  0.38590293 & 0.11892375 & -0.44306855 & 0.04233264\\\\\n",
       "  0.07589626 & -0.36246764 & 0.35298801 & -0.40490252 & 0.36681588 & 0.34466606\\\\\n",
       "  -0.43342917 & 0.11151939 & 0.10943268 & 0.17734609\\\\\n",
       "\\end{bmatrix} + \n",
       "\\begin{bmatrix}\n",
       "  0.25250273 & -0.0010006 & -0.41691097 & -0.14755842 & 0.48841361 & 0.00504894\\\\\n",
       "  0.10807717 & -0.15561615 & 0.11208821 & -0.29683353\\\\\n",
       "\\end{bmatrix}\\end{gather}"
      ],
      "text/plain": [
       "<IPython.core.display.Latex object>"
      ]
     },
     "metadata": {},
     "output_type": "display_data"
    },
    {
     "data": {
      "text/latex": [
       "f_{custo}(\n",
       "\\begin{bmatrix}\n",
       "  0 & 0 & 0 & 0 & 0 & 0 & 0 & 1 & 0 & 0\\\\\n",
       "\\end{bmatrix},\n",
       "\\begin{bmatrix}\n",
       "  0.09904028 & -0.03562927 & -0.23156267 & 0.06834231 & 0.3923876 & -0.26636852\\\\\n",
       "  0.78652001 & 0.42328319 & 0.01364686 & 0.37064113\\\\\n",
       "\\end{bmatrix}) = \n",
       "\\begin{bmatrix}\n",
       "  0.13830676739516648\\\\\n",
       "\\end{bmatrix}"
      ],
      "text/plain": [
       "<IPython.core.display.Latex object>"
      ]
     },
     "metadata": {},
     "output_type": "display_data"
    },
    {
     "data": {
      "text/latex": [
       "\\nabla f_{custo} = \\frac{\\partial E}{\\partial Y} = \n",
       "\\begin{bmatrix}\n",
       "  0.01980806 & -0.00712585 & -0.04631253 & 0.01366846 & 0.07847752 & -0.0532737\\\\\n",
       "  0.157304 & -0.11534336 & 0.00272937 & 0.07412823\\\\\n",
       "\\end{bmatrix}"
      ],
      "text/plain": [
       "<IPython.core.display.Latex object>"
      ]
     },
     "metadata": {},
     "output_type": "display_data"
    },
    {
     "data": {
      "text/latex": [
       "Camada: 2"
      ],
      "text/plain": [
       "<IPython.core.display.Latex object>"
      ]
     },
     "metadata": {},
     "output_type": "display_data"
    },
    {
     "data": {
      "text/latex": [
       "W = W - \\lambda (X \\cdot \\nabla f_{custo})"
      ],
      "text/plain": [
       "<IPython.core.display.Latex object>"
      ]
     },
     "metadata": {},
     "output_type": "display_data"
    },
    {
     "data": {
      "text/latex": [
       "\\begin{gather}\n",
       "\\begin{bmatrix}\n",
       "  0.00871452 & -0.38981657 & 0.0394709 & 0.29811375 & 0.03188965 & -0.41165054\\\\\n",
       "  -0.38308867 & -0.25901602 & 0.31854226 & -0.37516067\\\\\n",
       "  -0.20181351 & -0.20519976 & -0.3355483 & -0.27868139 & 0.02604576 & 0.02123501\\\\\n",
       "  0.04056049 & 0.20474444 & -0.07182834 & 0.27883318\\\\\n",
       "  -0.19103547 & 0.19252608 & 0.07046505 & 0.41935935 & -0.42157349 & -0.2701034\\\\\n",
       "  -0.10365489 & 0.32508803 & 0.33794841 & 0.14480847\\\\\n",
       "  -0.19011028 & 0.10080138 & 0.24266043 & -0.18395043 & -0.63661652 & 0.40916894\\\\\n",
       "  0.33108586 & -0.35070628 & 0.32211062 & 0.08923118\\\\\n",
       "  -0.32889656 & 0.45863781 & -0.30406124 & 0.07766489 & 0.13449811 & 0.02958123\\\\\n",
       "  0.22874181 & -0.08067048 & -0.48159434 & -0.51343733\\\\\n",
       "  0.30330596 & -0.07312629 & 0.35691167 & -0.04617102 & 0.03231853 & 0.45611049\\\\\n",
       "  -0.08193797 & -0.29149184 & -0.24197673 & -0.19551258\\\\\n",
       "  -0.02057203 & 0.47990538 & 0.48936891 & -0.48473452 & -0.13203099 & -0.05759918\\\\\n",
       "  -0.33636524 & -0.01713109 & -0.17890684 & -0.32789333\\\\\n",
       "  0.11567814 & 0.28094455 & 0.188209 & 0.23568408 & -0.12390041 & -0.4249816\\\\\n",
       "  -0.27271024 & 0.26222351 & 0.37763055 & 0.11996949\\\\\n",
       "  0.07985312 & -0.00236319 & 0.28523457 & 0.2898511 & 0.38222339 & -0.12445179\\\\\n",
       "  0.32864694 & 0.4692017 & -0.22912518 & 0.30532049\\\\\n",
       "  0.26010994 & 0.53782601 & -0.36655323 & -0.53102026 & -0.03432665 & 0.31603427\\\\\n",
       "  0.30637484 & 0.16162607 & -0.44538551 & -0.26413151\\\\\n",
       "  -0.19686612 & -0.28344575 & 0.02621666 & 0.1762224 & -0.45317539 & 0.01679875\\\\\n",
       "  0.04632758 & -0.02756989 & 0.34980705 & -0.02376595\\\\\n",
       "  -0.43456247 & -0.10555548 & 0.03638646 & -0.34973103 & -0.53373309 & -0.01229141\\\\\n",
       "  -0.14434434 & -0.18132153 & 0.18468957 & -0.02875692\\\\\n",
       "  0.1093349 & 0.0995595 & -0.10301884 & 0.14950225 & 0.0013169 & -0.33790319\\\\\n",
       "  0.31342156 & 0.1720708 & -0.44432617 & 0.00817638\\\\\n",
       "  0.07040041 & -0.36049054 & 0.36583766 & -0.4086949 & 0.34504189 & 0.35944712\\\\\n",
       "  -0.47707397 & 0.14352199 & 0.1086754 & 0.15677883\\\\\n",
       "\\end{bmatrix} = \n",
       "\\begin{bmatrix}\n",
       "  0.00973685 & -0.39018435 & 0.03708063 & 0.29881921 & 0.03594002 & -0.41440009\\\\\n",
       "  -0.37496992 & -0.2649691 & 0.31868313 & -0.37133478\\\\\n",
       "  -0.19126396 & -0.20899491 & -0.36021383 & -0.27140172 & 0.067842 & -0.00713796\\\\\n",
       "  0.12433881 & 0.14331388 & -0.07037471 & 0.31831303\\\\\n",
       "  -0.18138573 & 0.18905463 & 0.04790334 & 0.42601811 & -0.38334221 & -0.29605633\\\\\n",
       "  -0.02702234 & 0.26889712 & 0.33927806 & 0.18092093\\\\\n",
       "  -0.18522282 & 0.09904314 & 0.23123323 & -0.18057786 & -0.61725289 & 0.39602414\\\\\n",
       "  0.36989921 & -0.37916622 & 0.32278407 & 0.10752166\\\\\n",
       "  -0.32773287 & 0.45821918 & -0.30678202 & 0.07846789 & 0.13910852 & 0.02645149\\\\\n",
       "  0.23798314 & -0.0874467 & -0.48143399 & -0.50908243\\\\\n",
       "  0.30628561 & -0.07419821 & 0.34994504 & -0.04411492 & 0.04412362 & 0.44809672\\\\\n",
       "  -0.0582753 & -0.30884253 & -0.24156616 & -0.18436173\\\\\n",
       "  -0.01971925 & 0.47959859 & 0.48737506 & -0.48414607 & -0.12865237 & -0.05989272\\\\\n",
       "  -0.32959298 & -0.02209686 & -0.17878934 & -0.32470195\\\\\n",
       "  0.11803305 & 0.28009739 & 0.18270308 & 0.23730907 & -0.11457052 & -0.43131511\\\\\n",
       "  -0.25400897 & 0.24851078 & 0.37795504 & 0.12878231\\\\\n",
       "  0.09246139 & -0.00689895 & 0.25575562 & 0.29855138 & 0.43217607 & -0.15836169\\\\\n",
       "  0.42877443 & 0.3957831 & -0.22738788 & 0.35250475\\\\\n",
       "  0.26262043 & 0.53692287 & -0.37242291 & -0.52928791 & -0.02438035 & 0.30928232\\\\\n",
       "  0.32631167 & 0.14700737 & -0.44503959 & -0.25473645\\\\\n",
       "  -0.1913071 & -0.28544558 & 0.0132193 & 0.18005837 & -0.43115112 & 0.00184778\\\\\n",
       "  0.09047407 & -0.05994036 & 0.35057303 & -0.00296228\\\\\n",
       "  -0.43337001 & -0.10598446 & 0.03359842 & -0.34890818 & -0.52900869 & -0.01549851\\\\\n",
       "  -0.13487455 & -0.18826527 & 0.18485388 & -0.02429436\\\\\n",
       "  0.11846191 & 0.0962761 & -0.12435839 & 0.1558003 & 0.03747719 & -0.36245025\\\\\n",
       "  0.38590293 & 0.11892375 & -0.44306855 & 0.04233264\\\\\n",
       "  0.07589626 & -0.36246764 & 0.35298801 & -0.40490252 & 0.36681588 & 0.34466606\\\\\n",
       "  -0.43342917 & 0.11151939 & 0.10943268 & 0.17734609\\\\\n",
       "\\end{bmatrix} - 0.7\n",
       "\\begin{bmatrix}\n",
       "  0.07373121\\\\\n",
       "  0.76084093\\\\\n",
       "  0.69594587\\\\\n",
       "  0.35248719\\\\\n",
       "  0.08392602\\\\\n",
       "  0.21489489\\\\\n",
       "  0.06150296\\\\\n",
       "  0.16983743\\\\\n",
       "  0.90931738\\\\\n",
       "  0.18105815\\\\\n",
       "  0.40092056\\\\\n",
       "  0.08600086\\\\\n",
       "  0.6582465\\\\\n",
       "  0.39636439\\\\\n",
       "\\end{bmatrix} \\cdot \n",
       "\\begin{bmatrix}\n",
       "  0.01980806 & -0.00712585 & -0.04631253 & 0.01366846 & 0.07847752 & -0.0532737\\\\\n",
       "  0.157304 & -0.11534336 & 0.00272937 & 0.07412823\\\\\n",
       "\\end{bmatrix}\\end{gather}"
      ],
      "text/plain": [
       "<IPython.core.display.Latex object>"
      ]
     },
     "metadata": {},
     "output_type": "display_data"
    },
    {
     "data": {
      "text/latex": [
       "\\nabla f_{custo} = \\frac{\\partial E}{\\partial Y} = \n",
       "\\begin{bmatrix}\n",
       "  -0.02484095 & 0.0428104 & -0.03657617 & 0.02368228 & 0.02350186 & -0.01849297\\\\\n",
       "  -0.113758 & -0.04893189 & 0.08377621 & 0.00727531 & -0.01195767 & -0.0556412\\\\\n",
       "  0.08071529 & -0.07496888\\\\\n",
       "\\end{bmatrix}"
      ],
      "text/plain": [
       "<IPython.core.display.Latex object>"
      ]
     },
     "metadata": {},
     "output_type": "display_data"
    },
    {
     "data": {
      "text/latex": [
       "Camada: 1"
      ],
      "text/plain": [
       "<IPython.core.display.Latex object>"
      ]
     },
     "metadata": {},
     "output_type": "display_data"
    },
    {
     "data": {
      "text/latex": [
       "\\nabla = \\frac{\\partial E}{\\partial Y} \\frac{\\partial Y}{\\partial X}"
      ],
      "text/plain": [
       "<IPython.core.display.Latex object>"
      ]
     },
     "metadata": {},
     "output_type": "display_data"
    },
    {
     "data": {
      "text/latex": [
       "\\begin{gather}\n",
       "\\begin{bmatrix}\n",
       "  0.07373121 & 0.76084093 & 0.69594587 & 0.35248719 & 0.08392602 & 0.21489489\\\\\n",
       "  0.06150296 & 0.16983743 & 0.90931738 & 0.18105815 & 0.40092056 & 0.08600086\\\\\n",
       "  0.6582465 & 0.39636439\\\\\n",
       "\\end{bmatrix} = \\sigma(\n",
       "\\begin{bmatrix}\n",
       "  -2.53073829 & 1.15729541 & 0.82806615 & -0.60812431 & -2.39016149 & -1.29566858\\\\\n",
       "  -2.72519448 & -1.58677987 & 2.30532845 & -1.50919481 & -0.40163092 & -2.36347229\\\\\n",
       "  0.65548977 & -0.42063677\\\\\n",
       "\\end{bmatrix}) \\end{gather}"
      ],
      "text/plain": [
       "<IPython.core.display.Latex object>"
      ]
     },
     "metadata": {},
     "output_type": "display_data"
    },
    {
     "data": {
      "text/latex": [
       "\\nabla f_{custo} = \\frac{\\partial E}{\\partial Y} = \n",
       "\\begin{bmatrix}\n",
       "  -0.00169651 & 0.00778987 & -0.00773971 & 0.00540524 & 0.00180688 & -0.00312004\\\\\n",
       "  -0.00656615 & -0.00689904 & 0.00690813 & 0.00107875 & -0.00287203 & -0.00437366\\\\\n",
       "  0.01815755 & -0.01793703\\\\\n",
       "\\end{bmatrix}"
      ],
      "text/plain": [
       "<IPython.core.display.Latex object>"
      ]
     },
     "metadata": {},
     "output_type": "display_data"
    },
    {
     "data": {
      "text/latex": [
       "Camada: 0"
      ],
      "text/plain": [
       "<IPython.core.display.Latex object>"
      ]
     },
     "metadata": {},
     "output_type": "display_data"
    },
    {
     "data": {
      "text/latex": [
       "W = W - \\lambda (X \\cdot \\nabla f_{custo})"
      ],
      "text/plain": [
       "<IPython.core.display.Latex object>"
      ]
     },
     "metadata": {},
     "output_type": "display_data"
    },
    {
     "data": {
      "text/latex": [
       "\\begin{gather}\n",
       "\\begin{bmatrix}\n",
       "  -0.09944906 & 0.33671163 & 0.32377985 & 0.69367614 & -0.28326091 & 0.31986272\\\\\n",
       "  -0.1193115 & 0.241506 & 0.76503378 & 0.23870022 & 0.2694343 & 0.14817487\\\\\n",
       "  0.41523347 & 0.08566972\\\\\n",
       "  -1.09774702 & 0.34116413 & 0.24961292 & -0.50005238 & -0.7025982 & -0.61717063\\\\\n",
       "  -1.23450654 & -0.23060942 & 0.67387943 & -0.3790808 & -0.21188986 & -0.70328298\\\\\n",
       "  0.35788446 & -0.04801813\\\\\n",
       "  -0.80883807 & 0.07172052 & 0.38801314 & -0.52063145 & -0.9610173 & -0.25238444\\\\\n",
       "  -0.49067814 & -0.50542202 & 0.19054302 & -0.65500217 & -0.10501412 & -0.8834929\\\\\n",
       "  -0.1610117 & 0.01687224\\\\\n",
       "  0.26341286 & 0.33374 & 0.7667195 & 0.51621122 & 0.38116923 & -0.12213402\\\\\n",
       "  -0.3477739 & -0.24011039 & 0.59795734 & -0.00422234 & 0.11149051 & -0.04648734\\\\\n",
       "  0.59531843 & -0.16930387\\\\\n",
       "  0.76744043 & 0.00138699 & 0.13331442 & 0.82361083 & 0.37300969 & 0.7596247\\\\\n",
       "  -0.01667379 & -0.27710221 & 0.51332554 & -0.21697065 & 0.5159124 & -0.2384203\\\\\n",
       "  0.58412002 & 0.11793876\\\\\n",
       "  -0.15535198 & 0.45801694 & 0.12834065 & 0.71852546 & -0.23507353 & 0.70451742\\\\\n",
       "  -0.16932357 & -0.03791559 & 0.37860246 & 0.36199856 & 0.53998735 & 0.13293575\\\\\n",
       "  0.41711271 & -0.1219499\\\\\n",
       "  0.38461843 & 0.14080498 & 0.46821031 & 0.88562324 & 0.74996207 & 0.70663084\\\\\n",
       "  0.06187954 & 0.32616147 & 0.84392442 & 0.7025602 & 0.0707418 & 0.36663853\\\\\n",
       "  0.18144676 & 0.70883928\\\\\n",
       "\\end{bmatrix} = \n",
       "\\begin{bmatrix}\n",
       "  -0.10063662 & 0.34216454 & 0.31836205 & 0.69745981 & -0.28199609 & 0.31767869\\\\\n",
       "  -0.12390781 & 0.23667667 & 0.76986947 & 0.23945535 & 0.26742387 & 0.1451133\\\\\n",
       "  0.42794375 & 0.0731138\\\\\n",
       "  -1.09893457 & 0.34661704 & 0.24419512 & -0.49626871 & -0.70133338 & -0.61935466\\\\\n",
       "  -1.23910285 & -0.23543874 & 0.67871512 & -0.37832568 & -0.21390028 & -0.70634454\\\\\n",
       "  0.37059475 & -0.06057405\\\\\n",
       "  -0.81002563 & 0.07717342 & 0.38259534 & -0.51684778 & -0.95975249 & -0.25456847\\\\\n",
       "  -0.49527444 & -0.51025135 & 0.1953787 & -0.65424705 & -0.10702454 & -0.88655446\\\\\n",
       "  -0.14830142 & 0.00431632\\\\\n",
       "  0.26341286 & 0.33374 & 0.7667195 & 0.51621122 & 0.38116923 & -0.12213402\\\\\n",
       "  -0.3477739 & -0.24011039 & 0.59795734 & -0.00422234 & 0.11149051 & -0.04648734\\\\\n",
       "  0.59531843 & -0.16930387\\\\\n",
       "  0.76744043 & 0.00138699 & 0.13331442 & 0.82361083 & 0.37300969 & 0.7596247\\\\\n",
       "  -0.01667379 & -0.27710221 & 0.51332554 & -0.21697065 & 0.5159124 & -0.2384203\\\\\n",
       "  0.58412002 & 0.11793876\\\\\n",
       "  -0.15535198 & 0.45801694 & 0.12834065 & 0.71852546 & -0.23507353 & 0.70451742\\\\\n",
       "  -0.16932357 & -0.03791559 & 0.37860246 & 0.36199856 & 0.53998735 & 0.13293575\\\\\n",
       "  0.41711271 & -0.1219499\\\\\n",
       "  0.38461843 & 0.14080498 & 0.46821031 & 0.88562324 & 0.74996207 & 0.70663084\\\\\n",
       "  0.06187954 & 0.32616147 & 0.84392442 & 0.7025602 & 0.0707418 & 0.36663853\\\\\n",
       "  0.18144676 & 0.70883928\\\\\n",
       "\\end{bmatrix} - 0.7\n",
       "\\begin{bmatrix}\n",
       "  1\\\\\n",
       "  1\\\\\n",
       "  1\\\\\n",
       "  0\\\\\n",
       "  0\\\\\n",
       "  0\\\\\n",
       "  0\\\\\n",
       "\\end{bmatrix} \\cdot \n",
       "\\begin{bmatrix}\n",
       "  -0.00169651 & 0.00778987 & -0.00773971 & 0.00540524 & 0.00180688 & -0.00312004\\\\\n",
       "  -0.00656615 & -0.00689904 & 0.00690813 & 0.00107875 & -0.00287203 & -0.00437366\\\\\n",
       "  0.01815755 & -0.01793703\\\\\n",
       "\\end{bmatrix}\\end{gather}"
      ],
      "text/plain": [
       "<IPython.core.display.Latex object>"
      ]
     },
     "metadata": {},
     "output_type": "display_data"
    },
    {
     "data": {
      "text/latex": [
       "Camada: 0"
      ],
      "text/plain": [
       "<IPython.core.display.Latex object>"
      ]
     },
     "metadata": {},
     "output_type": "display_data"
    },
    {
     "data": {
      "text/latex": [
       "Y = Xw + b"
      ],
      "text/plain": [
       "<IPython.core.display.Latex object>"
      ]
     },
     "metadata": {},
     "output_type": "display_data"
    },
    {
     "data": {
      "text/latex": [
       "\\begin{gather}\n",
       "\\begin{bmatrix}\n",
       "  -1.26586831 & 2.06943269 & 2.3463222 & 2.32071176 & -1.12615329 & 0.76170647\\\\\n",
       "  -3.17870098 & -1.79642928 & 4.61979545 & -0.66884956 & 0.84454283 & -2.1365594\\\\\n",
       "  2.38264654 & 0.16511119\\\\\n",
       "\\end{bmatrix} = \n",
       "\\begin{bmatrix}\n",
       "  1 & 1 & 1 & 1 & 1 & 1 & 1\\\\\n",
       "\\end{bmatrix} \\cdot \n",
       "\\begin{bmatrix}\n",
       "  -0.09944906 & 0.33671163 & 0.32377985 & 0.69367614 & -0.28326091 & 0.31986272\\\\\n",
       "  -0.1193115 & 0.241506 & 0.76503378 & 0.23870022 & 0.2694343 & 0.14817487\\\\\n",
       "  0.41523347 & 0.08566972\\\\\n",
       "  -1.09774702 & 0.34116413 & 0.24961292 & -0.50005238 & -0.7025982 & -0.61717063\\\\\n",
       "  -1.23450654 & -0.23060942 & 0.67387943 & -0.3790808 & -0.21188986 & -0.70328298\\\\\n",
       "  0.35788446 & -0.04801813\\\\\n",
       "  -0.80883807 & 0.07172052 & 0.38801314 & -0.52063145 & -0.9610173 & -0.25238444\\\\\n",
       "  -0.49067814 & -0.50542202 & 0.19054302 & -0.65500217 & -0.10501412 & -0.8834929\\\\\n",
       "  -0.1610117 & 0.01687224\\\\\n",
       "  0.26341286 & 0.33374 & 0.7667195 & 0.51621122 & 0.38116923 & -0.12213402\\\\\n",
       "  -0.3477739 & -0.24011039 & 0.59795734 & -0.00422234 & 0.11149051 & -0.04648734\\\\\n",
       "  0.59531843 & -0.16930387\\\\\n",
       "  0.76744043 & 0.00138699 & 0.13331442 & 0.82361083 & 0.37300969 & 0.7596247\\\\\n",
       "  -0.01667379 & -0.27710221 & 0.51332554 & -0.21697065 & 0.5159124 & -0.2384203\\\\\n",
       "  0.58412002 & 0.11793876\\\\\n",
       "  -0.15535198 & 0.45801694 & 0.12834065 & 0.71852546 & -0.23507353 & 0.70451742\\\\\n",
       "  -0.16932357 & -0.03791559 & 0.37860246 & 0.36199856 & 0.53998735 & 0.13293575\\\\\n",
       "  0.41711271 & -0.1219499\\\\\n",
       "  0.38461843 & 0.14080498 & 0.46821031 & 0.88562324 & 0.74996207 & 0.70663084\\\\\n",
       "  0.06187954 & 0.32616147 & 0.84392442 & 0.7025602 & 0.0707418 & 0.36663853\\\\\n",
       "  0.18144676 & 0.70883928\\\\\n",
       "\\end{bmatrix} + \n",
       "\\begin{bmatrix}\n",
       "  -0.51995391 & 0.3858875 & -0.11166857 & -0.2962513 & -0.44834434 & -0.73724011\\\\\n",
       "  -0.86231308 & -1.07293713 & 0.65652946 & -0.71683256 & -0.34611954 & -0.91262503\\\\\n",
       "  -0.00745761 & -0.42493691\\\\\n",
       "\\end{bmatrix}\\end{gather}"
      ],
      "text/plain": [
       "<IPython.core.display.Latex object>"
      ]
     },
     "metadata": {},
     "output_type": "display_data"
    },
    {
     "data": {
      "text/latex": [
       "Camada: 1"
      ],
      "text/plain": [
       "<IPython.core.display.Latex object>"
      ]
     },
     "metadata": {},
     "output_type": "display_data"
    },
    {
     "data": {
      "text/latex": [
       "Y = \\sigma(X)"
      ],
      "text/plain": [
       "<IPython.core.display.Latex object>"
      ]
     },
     "metadata": {},
     "output_type": "display_data"
    },
    {
     "data": {
      "text/latex": [
       "\\begin{gather}\n",
       "\\begin{bmatrix}\n",
       "  0.21996535 & 0.88789651 & 0.91264145 & 0.91057791 & 0.2448717 & 0.68172411\\\\\n",
       "  0.03997516 & 0.14228628 & 0.99024136 & 0.33875449 & 0.69942112 & 0.10559389\\\\\n",
       "  0.91549441 & 0.54118428\\\\\n",
       "\\end{bmatrix} = \\sigma(\n",
       "\\begin{bmatrix}\n",
       "  -1.26586831 & 2.06943269 & 2.3463222 & 2.32071176 & -1.12615329 & 0.76170647\\\\\n",
       "  -3.17870098 & -1.79642928 & 4.61979545 & -0.66884956 & 0.84454283 & -2.1365594\\\\\n",
       "  2.38264654 & 0.16511119\\\\\n",
       "\\end{bmatrix}) \\end{gather}"
      ],
      "text/plain": [
       "<IPython.core.display.Latex object>"
      ]
     },
     "metadata": {},
     "output_type": "display_data"
    },
    {
     "data": {
      "text/latex": [
       "Camada: 2"
      ],
      "text/plain": [
       "<IPython.core.display.Latex object>"
      ]
     },
     "metadata": {},
     "output_type": "display_data"
    },
    {
     "data": {
      "text/latex": [
       "Y = Xw + b"
      ],
      "text/plain": [
       "<IPython.core.display.Latex object>"
      ]
     },
     "metadata": {},
     "output_type": "display_data"
    },
    {
     "data": {
      "text/latex": [
       "\\begin{gather}\n",
       "\\begin{bmatrix}\n",
       "  -0.02241917 & -0.00833446 & 0.11086049 & -0.01291856 & -0.28727209 & 0.23158322\\\\\n",
       "  0.57963252 & 0.56158679 & 0.02032621 & 0.06022799\\\\\n",
       "\\end{bmatrix} = \n",
       "\\begin{bmatrix}\n",
       "  0.21996535 & 0.88789651 & 0.91264145 & 0.91057791 & 0.2448717 & 0.68172411\\\\\n",
       "  0.03997516 & 0.14228628 & 0.99024136 & 0.33875449 & 0.69942112 & 0.10559389\\\\\n",
       "  0.91549441 & 0.54118428\\\\\n",
       "\\end{bmatrix} \\cdot \n",
       "\\begin{bmatrix}\n",
       "  0.00871452 & -0.38981657 & 0.0394709 & 0.29811375 & 0.03188965 & -0.41165054\\\\\n",
       "  -0.38308867 & -0.25901602 & 0.31854226 & -0.37516067\\\\\n",
       "  -0.20181351 & -0.20519976 & -0.3355483 & -0.27868139 & 0.02604576 & 0.02123501\\\\\n",
       "  0.04056049 & 0.20474444 & -0.07182834 & 0.27883318\\\\\n",
       "  -0.19103547 & 0.19252608 & 0.07046505 & 0.41935935 & -0.42157349 & -0.2701034\\\\\n",
       "  -0.10365489 & 0.32508803 & 0.33794841 & 0.14480847\\\\\n",
       "  -0.19011028 & 0.10080138 & 0.24266043 & -0.18395043 & -0.63661652 & 0.40916894\\\\\n",
       "  0.33108586 & -0.35070628 & 0.32211062 & 0.08923118\\\\\n",
       "  -0.32889656 & 0.45863781 & -0.30406124 & 0.07766489 & 0.13449811 & 0.02958123\\\\\n",
       "  0.22874181 & -0.08067048 & -0.48159434 & -0.51343733\\\\\n",
       "  0.30330596 & -0.07312629 & 0.35691167 & -0.04617102 & 0.03231853 & 0.45611049\\\\\n",
       "  -0.08193797 & -0.29149184 & -0.24197673 & -0.19551258\\\\\n",
       "  -0.02057203 & 0.47990538 & 0.48936891 & -0.48473452 & -0.13203099 & -0.05759918\\\\\n",
       "  -0.33636524 & -0.01713109 & -0.17890684 & -0.32789333\\\\\n",
       "  0.11567814 & 0.28094455 & 0.188209 & 0.23568408 & -0.12390041 & -0.4249816\\\\\n",
       "  -0.27271024 & 0.26222351 & 0.37763055 & 0.11996949\\\\\n",
       "  0.07985312 & -0.00236319 & 0.28523457 & 0.2898511 & 0.38222339 & -0.12445179\\\\\n",
       "  0.32864694 & 0.4692017 & -0.22912518 & 0.30532049\\\\\n",
       "  0.26010994 & 0.53782601 & -0.36655323 & -0.53102026 & -0.03432665 & 0.31603427\\\\\n",
       "  0.30637484 & 0.16162607 & -0.44538551 & -0.26413151\\\\\n",
       "  -0.19686612 & -0.28344575 & 0.02621666 & 0.1762224 & -0.45317539 & 0.01679875\\\\\n",
       "  0.04632758 & -0.02756989 & 0.34980705 & -0.02376595\\\\\n",
       "  -0.43456247 & -0.10555548 & 0.03638646 & -0.34973103 & -0.53373309 & -0.01229141\\\\\n",
       "  -0.14434434 & -0.18132153 & 0.18468957 & -0.02875692\\\\\n",
       "  0.1093349 & 0.0995595 & -0.10301884 & 0.14950225 & 0.0013169 & -0.33790319\\\\\n",
       "  0.31342156 & 0.1720708 & -0.44432617 & 0.00817638\\\\\n",
       "  0.07040041 & -0.36049054 & 0.36583766 & -0.4086949 & 0.34504189 & 0.35944712\\\\\n",
       "  -0.47707397 & 0.14352199 & 0.1086754 & 0.15677883\\\\\n",
       "\\end{bmatrix} + \n",
       "\\begin{bmatrix}\n",
       "  0.23863709 & 0.00398749 & -0.3844922 & -0.15712634 & 0.43347935 & 0.04234053\\\\\n",
       "  -0.00203563 & -0.0748758 & 0.11017765 & -0.34872329\\\\\n",
       "\\end{bmatrix}\\end{gather}"
      ],
      "text/plain": [
       "<IPython.core.display.Latex object>"
      ]
     },
     "metadata": {},
     "output_type": "display_data"
    },
    {
     "data": {
      "text/latex": [
       "f_{custo}(\n",
       "\\begin{bmatrix}\n",
       "  0 & 0 & 0 & 0 & 0 & 0 & 0 & 0 & 1 & 0\\\\\n",
       "\\end{bmatrix},\n",
       "\\begin{bmatrix}\n",
       "  -0.02241917 & -0.00833446 & 0.11086049 & -0.01291856 & -0.28727209 & 0.23158322\\\\\n",
       "  0.57963252 & 0.56158679 & 0.02032621 & 0.06022799\\\\\n",
       "\\end{bmatrix}) = \n",
       "\\begin{bmatrix}\n",
       "  0.17639267807888193\\\\\n",
       "\\end{bmatrix}"
      ],
      "text/plain": [
       "<IPython.core.display.Latex object>"
      ]
     },
     "metadata": {},
     "output_type": "display_data"
    },
    {
     "data": {
      "text/latex": [
       "\\nabla f_{custo} = \\frac{\\partial E}{\\partial Y} = \n",
       "\\begin{bmatrix}\n",
       "  -0.00448383 & -0.00166689 & 0.0221721 & -0.00258371 & -0.05745442 & 0.04631664\\\\\n",
       "  0.1159265 & 0.11231736 & -0.19593476 & 0.0120456\\\\\n",
       "\\end{bmatrix}"
      ],
      "text/plain": [
       "<IPython.core.display.Latex object>"
      ]
     },
     "metadata": {},
     "output_type": "display_data"
    },
    {
     "data": {
      "text/latex": [
       "Camada: 2"
      ],
      "text/plain": [
       "<IPython.core.display.Latex object>"
      ]
     },
     "metadata": {},
     "output_type": "display_data"
    },
    {
     "data": {
      "text/latex": [
       "W = W - \\lambda (X \\cdot \\nabla f_{custo})"
      ],
      "text/plain": [
       "<IPython.core.display.Latex object>"
      ]
     },
     "metadata": {},
     "output_type": "display_data"
    },
    {
     "data": {
      "text/latex": [
       "\\begin{gather}\n",
       "\\begin{bmatrix}\n",
       "  9.40492526e-03 & -3.89559911e-01 & 3.60569396e-02 & 2.98511583e-01\\\\\n",
       "  4.07362331e-02 & -4.18782179e-01 & -4.00938542e-01 & -2.76310164e-01\\\\\n",
       "  3.48711461e-01 & -3.77015404e-01\\\\\n",
       "  -1.99026681e-01 & -2.04163739e-01 & -3.49328872e-01 & -2.77075536e-01\\\\\n",
       "  6.17552664e-02 & -7.55205575e-03 & -3.14910298e-02 & 1.34936111e-01\\\\\n",
       "  4.99505107e-02 & 2.71346509e-01\\\\\n",
       "  -1.88170976e-01 & 1.93590967e-01 & 5.63004286e-02 & 4.21009952e-01\\\\\n",
       "  -3.84868790e-01 & -2.99692741e-01 & -1.77714421e-01 & 2.53334198e-01\\\\\n",
       "  4.63121139e-01 & 1.37113148e-01\\\\\n",
       "  -1.87252260e-01 & 1.01863861e-01 & 2.28527836e-01 & -1.82303559e-01\\\\\n",
       "  -5.99994810e-01 & 3.79646505e-01 & 2.57193780e-01 & -4.22297877e-01\\\\\n",
       "  4.47000329e-01 & 8.15532619e-02\\\\\n",
       "  -3.28127981e-01 & 4.58923536e-01 & -3.07861763e-01 & 7.81077647e-02\\\\\n",
       "  1.44346380e-01 & 2.16420806e-02 & 2.08870823e-01 & -9.99228205e-02\\\\\n",
       "  -4.48009123e-01 & -5.15502070e-01\\\\\n",
       "  3.05445676e-01 & -7.23308406e-02 & 3.46330992e-01 & -4.49380500e-02\\\\\n",
       "  5.97361737e-02 & 4.34007867e-01 & -1.37258899e-01 & -3.45090453e-01\\\\\n",
       "  -1.48475311e-01 & -2.01260819e-01\\\\\n",
       "  -2.04465612e-02 & 4.79952021e-01 & 4.88748480e-01 & -4.84662222e-01\\\\\n",
       "  -1.30423270e-01 & -5.88952393e-02 & -3.39609165e-01 & -2.02740179e-02\\\\\n",
       "  -1.73424077e-01 & -3.28230393e-01\\\\\n",
       "  1.16124733e-01 & 2.81110574e-01 & 1.86000647e-01 & 2.35941419e-01\\\\\n",
       "  -1.18177927e-01 & -4.29594761e-01 & -2.84256566e-01 & 2.51036661e-01\\\\\n",
       "  3.97145733e-01 & 1.18769743e-01\\\\\n",
       "  8.29611766e-02 & -1.20775342e-03 & 2.69865562e-01 & 2.91642045e-01\\\\\n",
       "  4.22049010e-01 & -1.56557052e-01 & 2.48290290e-01 & 3.91346800e-01\\\\\n",
       "  -9.33092934e-02 & 2.96970859e-01\\\\\n",
       "  2.61173188e-01 & 5.38221275e-01 & -3.71810853e-01 & -5.30407587e-01\\\\\n",
       "  -2.07025901e-02 & 3.05051289e-01 & 2.78885408e-01 & 1.34992460e-01\\\\\n",
       "  -3.98923863e-01 & -2.66987861e-01\\\\\n",
       "  -1.94670862e-01 & -2.82629644e-01 & 1.53613141e-02 & 1.77487369e-01\\\\\n",
       "  -4.25046008e-01 & -5.87764074e-03 & -1.04294281e-02 & -8.25598869e-02\\\\\n",
       "  4.45735684e-01 & -2.96634113e-02\\\\\n",
       "  -4.34231042e-01 & -1.05432266e-01 & 3.47475932e-02 & -3.49540050e-01\\\\\n",
       "  -5.29486300e-01 & -1.57149341e-02 & -1.52913136e-01 & -1.89623545e-01\\\\\n",
       "  1.99172231e-01 & -2.96472790e-02\\\\\n",
       "  1.12208347e-01 & 1.00627716e-01 & -1.17227742e-01 & 1.51158010e-01\\\\\n",
       "  3.81363398e-02 & -3.67585033e-01 & 2.39130519e-01 & 1.00092665e-01\\\\\n",
       "  -3.18762143e-01 & 4.57010621e-04\\\\\n",
       "  7.20990208e-02 & -3.59859074e-01 & 3.57438223e-01 & -4.07716118e-01\\\\\n",
       "  3.66807289e-01 & 3.41901036e-01 & -5.20990286e-01 & 1.00972921e-01\\\\\n",
       "  1.82901165e-01 & 1.52215613e-01\\\\\n",
       "\\end{bmatrix} = \n",
       "\\begin{bmatrix}\n",
       "  0.00871452 & -0.38981657 & 0.0394709 & 0.29811375 & 0.03188965 & -0.41165054\\\\\n",
       "  -0.38308867 & -0.25901602 & 0.31854226 & -0.37516067\\\\\n",
       "  -0.20181351 & -0.20519976 & -0.3355483 & -0.27868139 & 0.02604576 & 0.02123501\\\\\n",
       "  0.04056049 & 0.20474444 & -0.07182834 & 0.27883318\\\\\n",
       "  -0.19103547 & 0.19252608 & 0.07046505 & 0.41935935 & -0.42157349 & -0.2701034\\\\\n",
       "  -0.10365489 & 0.32508803 & 0.33794841 & 0.14480847\\\\\n",
       "  -0.19011028 & 0.10080138 & 0.24266043 & -0.18395043 & -0.63661652 & 0.40916894\\\\\n",
       "  0.33108586 & -0.35070628 & 0.32211062 & 0.08923118\\\\\n",
       "  -0.32889656 & 0.45863781 & -0.30406124 & 0.07766489 & 0.13449811 & 0.02958123\\\\\n",
       "  0.22874181 & -0.08067048 & -0.48159434 & -0.51343733\\\\\n",
       "  0.30330596 & -0.07312629 & 0.35691167 & -0.04617102 & 0.03231853 & 0.45611049\\\\\n",
       "  -0.08193797 & -0.29149184 & -0.24197673 & -0.19551258\\\\\n",
       "  -0.02057203 & 0.47990538 & 0.48936891 & -0.48473452 & -0.13203099 & -0.05759918\\\\\n",
       "  -0.33636524 & -0.01713109 & -0.17890684 & -0.32789333\\\\\n",
       "  0.11567814 & 0.28094455 & 0.188209 & 0.23568408 & -0.12390041 & -0.4249816\\\\\n",
       "  -0.27271024 & 0.26222351 & 0.37763055 & 0.11996949\\\\\n",
       "  0.07985312 & -0.00236319 & 0.28523457 & 0.2898511 & 0.38222339 & -0.12445179\\\\\n",
       "  0.32864694 & 0.4692017 & -0.22912518 & 0.30532049\\\\\n",
       "  0.26010994 & 0.53782601 & -0.36655323 & -0.53102026 & -0.03432665 & 0.31603427\\\\\n",
       "  0.30637484 & 0.16162607 & -0.44538551 & -0.26413151\\\\\n",
       "  -0.19686612 & -0.28344575 & 0.02621666 & 0.1762224 & -0.45317539 & 0.01679875\\\\\n",
       "  0.04632758 & -0.02756989 & 0.34980705 & -0.02376595\\\\\n",
       "  -0.43456247 & -0.10555548 & 0.03638646 & -0.34973103 & -0.53373309 & -0.01229141\\\\\n",
       "  -0.14434434 & -0.18132153 & 0.18468957 & -0.02875692\\\\\n",
       "  0.1093349 & 0.0995595 & -0.10301884 & 0.14950225 & 0.0013169 & -0.33790319\\\\\n",
       "  0.31342156 & 0.1720708 & -0.44432617 & 0.00817638\\\\\n",
       "  0.07040041 & -0.36049054 & 0.36583766 & -0.4086949 & 0.34504189 & 0.35944712\\\\\n",
       "  -0.47707397 & 0.14352199 & 0.1086754 & 0.15677883\\\\\n",
       "\\end{bmatrix} - 0.7\n",
       "\\begin{bmatrix}\n",
       "  0.21996535\\\\\n",
       "  0.88789651\\\\\n",
       "  0.91264145\\\\\n",
       "  0.91057791\\\\\n",
       "  0.2448717\\\\\n",
       "  0.68172411\\\\\n",
       "  0.03997516\\\\\n",
       "  0.14228628\\\\\n",
       "  0.99024136\\\\\n",
       "  0.33875449\\\\\n",
       "  0.69942112\\\\\n",
       "  0.10559389\\\\\n",
       "  0.91549441\\\\\n",
       "  0.54118428\\\\\n",
       "\\end{bmatrix} \\cdot \n",
       "\\begin{bmatrix}\n",
       "  -0.00448383 & -0.00166689 & 0.0221721 & -0.00258371 & -0.05745442 & 0.04631664\\\\\n",
       "  0.1159265 & 0.11231736 & -0.19593476 & 0.0120456\\\\\n",
       "\\end{bmatrix}\\end{gather}"
      ],
      "text/plain": [
       "<IPython.core.display.Latex object>"
      ]
     },
     "metadata": {},
     "output_type": "display_data"
    },
    {
     "data": {
      "text/latex": [
       "\\nabla f_{custo} = \\frac{\\partial E}{\\partial Y} = \n",
       "\\begin{bmatrix}\n",
       "  -0.16061751 & 0.03914503 & -0.02724937 & -0.00097887 & 0.09304342 & 0.02888157\\\\\n",
       "  0.00649964 & -0.08469597 & 0.11686638 & 0.14554708 & -0.03825547 & -0.03970154\\\\\n",
       "  0.12376502 & -0.05231352\\\\\n",
       "\\end{bmatrix}"
      ],
      "text/plain": [
       "<IPython.core.display.Latex object>"
      ]
     },
     "metadata": {},
     "output_type": "display_data"
    },
    {
     "data": {
      "text/latex": [
       "Camada: 1"
      ],
      "text/plain": [
       "<IPython.core.display.Latex object>"
      ]
     },
     "metadata": {},
     "output_type": "display_data"
    },
    {
     "data": {
      "text/latex": [
       "\\nabla = \\frac{\\partial E}{\\partial Y} \\frac{\\partial Y}{\\partial X}"
      ],
      "text/plain": [
       "<IPython.core.display.Latex object>"
      ]
     },
     "metadata": {},
     "output_type": "display_data"
    },
    {
     "data": {
      "text/latex": [
       "\\begin{gather}\n",
       "\\begin{bmatrix}\n",
       "  0.21996535 & 0.88789651 & 0.91264145 & 0.91057791 & 0.2448717 & 0.68172411\\\\\n",
       "  0.03997516 & 0.14228628 & 0.99024136 & 0.33875449 & 0.69942112 & 0.10559389\\\\\n",
       "  0.91549441 & 0.54118428\\\\\n",
       "\\end{bmatrix} = \\sigma(\n",
       "\\begin{bmatrix}\n",
       "  -1.26586831 & 2.06943269 & 2.3463222 & 2.32071176 & -1.12615329 & 0.76170647\\\\\n",
       "  -3.17870098 & -1.79642928 & 4.61979545 & -0.66884956 & 0.84454283 & -2.1365594\\\\\n",
       "  2.38264654 & 0.16511119\\\\\n",
       "\\end{bmatrix}) \\end{gather}"
      ],
      "text/plain": [
       "<IPython.core.display.Latex object>"
      ]
     },
     "metadata": {},
     "output_type": "display_data"
    },
    {
     "data": {
      "text/latex": [
       "\\nabla f_{custo} = \\frac{\\partial E}{\\partial Y} = \n",
       "\\begin{bmatrix}\n",
       "  -2.75588482e-02 & 3.89635133e-03 & -2.17251176e-03 & -7.97056329e-05\\\\\n",
       "  1.72046176e-02 & 6.26661691e-03 & 2.49437557e-04 & -1.03363724e-02\\\\\n",
       "  1.12932784e-03 & 3.26025302e-02 & -8.04249379e-03 & -3.74956515e-03\\\\\n",
       "  9.57500623e-03 & -1.29896492e-02\\\\\n",
       "\\end{bmatrix}"
      ],
      "text/plain": [
       "<IPython.core.display.Latex object>"
      ]
     },
     "metadata": {},
     "output_type": "display_data"
    },
    {
     "data": {
      "text/latex": [
       "Camada: 0"
      ],
      "text/plain": [
       "<IPython.core.display.Latex object>"
      ]
     },
     "metadata": {},
     "output_type": "display_data"
    },
    {
     "data": {
      "text/latex": [
       "W = W - \\lambda (X \\cdot \\nabla f_{custo})"
      ],
      "text/plain": [
       "<IPython.core.display.Latex object>"
      ]
     },
     "metadata": {},
     "output_type": "display_data"
    },
    {
     "data": {
      "text/latex": [
       "\\begin{gather}\n",
       "\\begin{bmatrix}\n",
       "  -0.08015787 & 0.33398419 & 0.32530061 & 0.69373193 & -0.29530414 & 0.31547608\\\\\n",
       "  -0.11948611 & 0.24874146 & 0.76424325 & 0.21587845 & 0.27506404 & 0.15079956\\\\\n",
       "  0.40853096 & 0.09476247\\\\\n",
       "  -1.07845582 & 0.33843669 & 0.25113368 & -0.49999658 & -0.71464143 & -0.62155726\\\\\n",
       "  -1.23468115 & -0.22337396 & 0.67308891 & -0.40190258 & -0.20626012 & -0.70065828\\\\\n",
       "  0.35118196 & -0.03892537\\\\\n",
       "  -0.78954688 & 0.06899307 & 0.38953389 & -0.52057565 & -0.97306054 & -0.25677107\\\\\n",
       "  -0.49085274 & -0.49818656 & 0.18975249 & -0.67782395 & -0.09938437 & -0.8808682\\\\\n",
       "  -0.16771421 & 0.025965\\\\\n",
       "  0.28270406 & 0.33101256 & 0.76824026 & 0.51626702 & 0.36912599 & -0.12652066\\\\\n",
       "  -0.3479485 & -0.23287493 & 0.59716681 & -0.02704411 & 0.11712025 & -0.04386264\\\\\n",
       "  0.58861593 & -0.16021111\\\\\n",
       "  0.78673163 & -0.00134046 & 0.13483517 & 0.82366662 & 0.36096646 & 0.75523807\\\\\n",
       "  -0.0168484 & -0.26986675 & 0.51253501 & -0.23979242 & 0.52154214 & -0.23579561\\\\\n",
       "  0.57741752 & 0.12703151\\\\\n",
       "  -0.13606079 & 0.45528949 & 0.12986141 & 0.71858126 & -0.24711676 & 0.70013079\\\\\n",
       "  -0.16949818 & -0.03068013 & 0.37781193 & 0.33917678 & 0.5456171 & 0.13556045\\\\\n",
       "  0.4104102 & -0.11285715\\\\\n",
       "  0.40390963 & 0.13807753 & 0.46973106 & 0.88567903 & 0.73791884 & 0.70224421\\\\\n",
       "  0.06170493 & 0.33339693 & 0.84313389 & 0.67973843 & 0.07637154 & 0.36926322\\\\\n",
       "  0.17474426 & 0.71793204\\\\\n",
       "\\end{bmatrix} = \n",
       "\\begin{bmatrix}\n",
       "  -0.09944906 & 0.33671163 & 0.32377985 & 0.69367614 & -0.28326091 & 0.31986272\\\\\n",
       "  -0.1193115 & 0.241506 & 0.76503378 & 0.23870022 & 0.2694343 & 0.14817487\\\\\n",
       "  0.41523347 & 0.08566972\\\\\n",
       "  -1.09774702 & 0.34116413 & 0.24961292 & -0.50005238 & -0.7025982 & -0.61717063\\\\\n",
       "  -1.23450654 & -0.23060942 & 0.67387943 & -0.3790808 & -0.21188986 & -0.70328298\\\\\n",
       "  0.35788446 & -0.04801813\\\\\n",
       "  -0.80883807 & 0.07172052 & 0.38801314 & -0.52063145 & -0.9610173 & -0.25238444\\\\\n",
       "  -0.49067814 & -0.50542202 & 0.19054302 & -0.65500217 & -0.10501412 & -0.8834929\\\\\n",
       "  -0.1610117 & 0.01687224\\\\\n",
       "  0.26341286 & 0.33374 & 0.7667195 & 0.51621122 & 0.38116923 & -0.12213402\\\\\n",
       "  -0.3477739 & -0.24011039 & 0.59795734 & -0.00422234 & 0.11149051 & -0.04648734\\\\\n",
       "  0.59531843 & -0.16930387\\\\\n",
       "  0.76744043 & 0.00138699 & 0.13331442 & 0.82361083 & 0.37300969 & 0.7596247\\\\\n",
       "  -0.01667379 & -0.27710221 & 0.51332554 & -0.21697065 & 0.5159124 & -0.2384203\\\\\n",
       "  0.58412002 & 0.11793876\\\\\n",
       "  -0.15535198 & 0.45801694 & 0.12834065 & 0.71852546 & -0.23507353 & 0.70451742\\\\\n",
       "  -0.16932357 & -0.03791559 & 0.37860246 & 0.36199856 & 0.53998735 & 0.13293575\\\\\n",
       "  0.41711271 & -0.1219499\\\\\n",
       "  0.38461843 & 0.14080498 & 0.46821031 & 0.88562324 & 0.74996207 & 0.70663084\\\\\n",
       "  0.06187954 & 0.32616147 & 0.84392442 & 0.7025602 & 0.0707418 & 0.36663853\\\\\n",
       "  0.18144676 & 0.70883928\\\\\n",
       "\\end{bmatrix} - 0.7\n",
       "\\begin{bmatrix}\n",
       "  1\\\\\n",
       "  1\\\\\n",
       "  1\\\\\n",
       "  1\\\\\n",
       "  1\\\\\n",
       "  1\\\\\n",
       "  1\\\\\n",
       "\\end{bmatrix} \\cdot \n",
       "\\begin{bmatrix}\n",
       "  -2.75588482e-02 & 3.89635133e-03 & -2.17251176e-03 & -7.97056329e-05\\\\\n",
       "  1.72046176e-02 & 6.26661691e-03 & 2.49437557e-04 & -1.03363724e-02\\\\\n",
       "  1.12932784e-03 & 3.26025302e-02 & -8.04249379e-03 & -3.74956515e-03\\\\\n",
       "  9.57500623e-03 & -1.29896492e-02\\\\\n",
       "\\end{bmatrix}\\end{gather}"
      ],
      "text/plain": [
       "<IPython.core.display.Latex object>"
      ]
     },
     "metadata": {},
     "output_type": "display_data"
    },
    {
     "data": {
      "text/latex": [
       "Camada: 0"
      ],
      "text/plain": [
       "<IPython.core.display.Latex object>"
      ]
     },
     "metadata": {},
     "output_type": "display_data"
    },
    {
     "data": {
      "text/latex": [
       "Y = Xw + b"
      ],
      "text/plain": [
       "<IPython.core.display.Latex object>"
      ]
     },
     "metadata": {},
     "output_type": "display_data"
    },
    {
     "data": {
      "text/latex": [
       "\\begin{gather}\n",
       "\\begin{bmatrix}\n",
       "  -0.60469594 & 1.6476075 & 1.20071412 & 2.32546675 & -0.61856461 & 1.10990514\\\\\n",
       "  -2.34129659 & -1.00748411 & 3.82655192 & -0.14655567 & 0.87184491 & -1.19083099\\\\\n",
       "  1.90812479 & 0.37209934\\\\\n",
       "\\end{bmatrix} = \n",
       "\\begin{bmatrix}\n",
       "  1 & 1 & 0 & 0 & 1 & 1 & 1\\\\\n",
       "\\end{bmatrix} \\cdot \n",
       "\\begin{bmatrix}\n",
       "  -0.08015787 & 0.33398419 & 0.32530061 & 0.69373193 & -0.29530414 & 0.31547608\\\\\n",
       "  -0.11948611 & 0.24874146 & 0.76424325 & 0.21587845 & 0.27506404 & 0.15079956\\\\\n",
       "  0.40853096 & 0.09476247\\\\\n",
       "  -1.07845582 & 0.33843669 & 0.25113368 & -0.49999658 & -0.71464143 & -0.62155726\\\\\n",
       "  -1.23468115 & -0.22337396 & 0.67308891 & -0.40190258 & -0.20626012 & -0.70065828\\\\\n",
       "  0.35118196 & -0.03892537\\\\\n",
       "  -0.78954688 & 0.06899307 & 0.38953389 & -0.52057565 & -0.97306054 & -0.25677107\\\\\n",
       "  -0.49085274 & -0.49818656 & 0.18975249 & -0.67782395 & -0.09938437 & -0.8808682\\\\\n",
       "  -0.16771421 & 0.025965\\\\\n",
       "  0.28270406 & 0.33101256 & 0.76824026 & 0.51626702 & 0.36912599 & -0.12652066\\\\\n",
       "  -0.3479485 & -0.23287493 & 0.59716681 & -0.02704411 & 0.11712025 & -0.04386264\\\\\n",
       "  0.58861593 & -0.16021111\\\\\n",
       "  0.78673163 & -0.00134046 & 0.13483517 & 0.82366662 & 0.36096646 & 0.75523807\\\\\n",
       "  -0.0168484 & -0.26986675 & 0.51253501 & -0.23979242 & 0.52154214 & -0.23579561\\\\\n",
       "  0.57741752 & 0.12703151\\\\\n",
       "  -0.13606079 & 0.45528949 & 0.12986141 & 0.71858126 & -0.24711676 & 0.70013079\\\\\n",
       "  -0.16949818 & -0.03068013 & 0.37781193 & 0.33917678 & 0.5456171 & 0.13556045\\\\\n",
       "  0.4104102 & -0.11285715\\\\\n",
       "  0.40390963 & 0.13807753 & 0.46973106 & 0.88567903 & 0.73791884 & 0.70224421\\\\\n",
       "  0.06170493 & 0.33339693 & 0.84313389 & 0.67973843 & 0.07637154 & 0.36926322\\\\\n",
       "  0.17474426 & 0.71793204\\\\\n",
       "\\end{bmatrix} + \n",
       "\\begin{bmatrix}\n",
       "  -0.50066271 & 0.38316006 & -0.11014781 & -0.29619551 & -0.46038758 & -0.74162674\\\\\n",
       "  -0.86248768 & -1.06570167 & 0.65573893 & -0.73965433 & -0.3404898 & -0.91000033\\\\\n",
       "  -0.01416011 & -0.41584416\\\\\n",
       "\\end{bmatrix}\\end{gather}"
      ],
      "text/plain": [
       "<IPython.core.display.Latex object>"
      ]
     },
     "metadata": {},
     "output_type": "display_data"
    },
    {
     "data": {
      "text/latex": [
       "Camada: 1"
      ],
      "text/plain": [
       "<IPython.core.display.Latex object>"
      ]
     },
     "metadata": {},
     "output_type": "display_data"
    },
    {
     "data": {
      "text/latex": [
       "Y = \\sigma(X)"
      ],
      "text/plain": [
       "<IPython.core.display.Latex object>"
      ]
     },
     "metadata": {},
     "output_type": "display_data"
    },
    {
     "data": {
      "text/latex": [
       "\\begin{gather}\n",
       "\\begin{bmatrix}\n",
       "  0.35327007 & 0.83856743 & 0.7686518 & 0.91096434 & 0.35010798 & 0.75211143\\\\\n",
       "  0.08776006 & 0.2674725 & 0.97867985 & 0.46342652 & 0.70512944 & 0.23311035\\\\\n",
       "  0.87080833 & 0.59196616\\\\\n",
       "\\end{bmatrix} = \\sigma(\n",
       "\\begin{bmatrix}\n",
       "  -0.60469594 & 1.6476075 & 1.20071412 & 2.32546675 & -0.61856461 & 1.10990514\\\\\n",
       "  -2.34129659 & -1.00748411 & 3.82655192 & -0.14655567 & 0.87184491 & -1.19083099\\\\\n",
       "  1.90812479 & 0.37209934\\\\\n",
       "\\end{bmatrix}) \\end{gather}"
      ],
      "text/plain": [
       "<IPython.core.display.Latex object>"
      ]
     },
     "metadata": {},
     "output_type": "display_data"
    },
    {
     "data": {
      "text/latex": [
       "Camada: 2"
      ],
      "text/plain": [
       "<IPython.core.display.Latex object>"
      ]
     },
     "metadata": {},
     "output_type": "display_data"
    },
    {
     "data": {
      "text/latex": [
       "Y = Xw + b"
      ],
      "text/plain": [
       "<IPython.core.display.Latex object>"
      ]
     },
     "metadata": {},
     "output_type": "display_data"
    },
    {
     "data": {
      "text/latex": [
       "\\begin{gather}\n",
       "\\begin{bmatrix}\n",
       "  0.01122486 & 0.06048893 & 0.03682793 & -0.13698452 & -0.01945741 & 0.04769328\\\\\n",
       "  -0.06041075 & -0.06701587 & 0.91330195 & -0.18241961\\\\\n",
       "\\end{bmatrix} = \n",
       "\\begin{bmatrix}\n",
       "  0.35327007 & 0.83856743 & 0.7686518 & 0.91096434 & 0.35010798 & 0.75211143\\\\\n",
       "  0.08776006 & 0.2674725 & 0.97867985 & 0.46342652 & 0.70512944 & 0.23311035\\\\\n",
       "  0.87080833 & 0.59196616\\\\\n",
       "\\end{bmatrix} \\cdot \n",
       "\\begin{bmatrix}\n",
       "  9.40492526e-03 & -3.89559911e-01 & 3.60569396e-02 & 2.98511583e-01\\\\\n",
       "  4.07362331e-02 & -4.18782179e-01 & -4.00938542e-01 & -2.76310164e-01\\\\\n",
       "  3.48711461e-01 & -3.77015404e-01\\\\\n",
       "  -1.99026681e-01 & -2.04163739e-01 & -3.49328872e-01 & -2.77075536e-01\\\\\n",
       "  6.17552664e-02 & -7.55205575e-03 & -3.14910298e-02 & 1.34936111e-01\\\\\n",
       "  4.99505107e-02 & 2.71346509e-01\\\\\n",
       "  -1.88170976e-01 & 1.93590967e-01 & 5.63004286e-02 & 4.21009952e-01\\\\\n",
       "  -3.84868790e-01 & -2.99692741e-01 & -1.77714421e-01 & 2.53334198e-01\\\\\n",
       "  4.63121139e-01 & 1.37113148e-01\\\\\n",
       "  -1.87252260e-01 & 1.01863861e-01 & 2.28527836e-01 & -1.82303559e-01\\\\\n",
       "  -5.99994810e-01 & 3.79646505e-01 & 2.57193780e-01 & -4.22297877e-01\\\\\n",
       "  4.47000329e-01 & 8.15532619e-02\\\\\n",
       "  -3.28127981e-01 & 4.58923536e-01 & -3.07861763e-01 & 7.81077647e-02\\\\\n",
       "  1.44346380e-01 & 2.16420806e-02 & 2.08870823e-01 & -9.99228205e-02\\\\\n",
       "  -4.48009123e-01 & -5.15502070e-01\\\\\n",
       "  3.05445676e-01 & -7.23308406e-02 & 3.46330992e-01 & -4.49380500e-02\\\\\n",
       "  5.97361737e-02 & 4.34007867e-01 & -1.37258899e-01 & -3.45090453e-01\\\\\n",
       "  -1.48475311e-01 & -2.01260819e-01\\\\\n",
       "  -2.04465612e-02 & 4.79952021e-01 & 4.88748480e-01 & -4.84662222e-01\\\\\n",
       "  -1.30423270e-01 & -5.88952393e-02 & -3.39609165e-01 & -2.02740179e-02\\\\\n",
       "  -1.73424077e-01 & -3.28230393e-01\\\\\n",
       "  1.16124733e-01 & 2.81110574e-01 & 1.86000647e-01 & 2.35941419e-01\\\\\n",
       "  -1.18177927e-01 & -4.29594761e-01 & -2.84256566e-01 & 2.51036661e-01\\\\\n",
       "  3.97145733e-01 & 1.18769743e-01\\\\\n",
       "  8.29611766e-02 & -1.20775342e-03 & 2.69865562e-01 & 2.91642045e-01\\\\\n",
       "  4.22049010e-01 & -1.56557052e-01 & 2.48290290e-01 & 3.91346800e-01\\\\\n",
       "  -9.33092934e-02 & 2.96970859e-01\\\\\n",
       "  2.61173188e-01 & 5.38221275e-01 & -3.71810853e-01 & -5.30407587e-01\\\\\n",
       "  -2.07025901e-02 & 3.05051289e-01 & 2.78885408e-01 & 1.34992460e-01\\\\\n",
       "  -3.98923863e-01 & -2.66987861e-01\\\\\n",
       "  -1.94670862e-01 & -2.82629644e-01 & 1.53613141e-02 & 1.77487369e-01\\\\\n",
       "  -4.25046008e-01 & -5.87764074e-03 & -1.04294281e-02 & -8.25598869e-02\\\\\n",
       "  4.45735684e-01 & -2.96634113e-02\\\\\n",
       "  -4.34231042e-01 & -1.05432266e-01 & 3.47475932e-02 & -3.49540050e-01\\\\\n",
       "  -5.29486300e-01 & -1.57149341e-02 & -1.52913136e-01 & -1.89623545e-01\\\\\n",
       "  1.99172231e-01 & -2.96472790e-02\\\\\n",
       "  1.12208347e-01 & 1.00627716e-01 & -1.17227742e-01 & 1.51158010e-01\\\\\n",
       "  3.81363398e-02 & -3.67585033e-01 & 2.39130519e-01 & 1.00092665e-01\\\\\n",
       "  -3.18762143e-01 & 4.57010621e-04\\\\\n",
       "  7.20990208e-02 & -3.59859074e-01 & 3.57438223e-01 & -4.07716118e-01\\\\\n",
       "  3.66807289e-01 & 3.41901036e-01 & -5.20990286e-01 & 1.00972921e-01\\\\\n",
       "  1.82901165e-01 & 1.52215613e-01\\\\\n",
       "\\end{bmatrix} + \n",
       "\\begin{bmatrix}\n",
       "  0.24177577 & 0.00515432 & -0.40001267 & -0.15531774 & 0.47369744 & 0.00991888\\\\\n",
       "  -0.08318418 & -0.15349795 & 0.24733198 & -0.35715521\\\\\n",
       "\\end{bmatrix}\\end{gather}"
      ],
      "text/plain": [
       "<IPython.core.display.Latex object>"
      ]
     },
     "metadata": {},
     "output_type": "display_data"
    },
    {
     "data": {
      "text/latex": [
       "f_{custo}(\n",
       "\\begin{bmatrix}\n",
       "  0 & 0 & 0 & 0 & 0 & 0 & 0 & 0 & 0 & 1\\\\\n",
       "\\end{bmatrix},\n",
       "\\begin{bmatrix}\n",
       "  0.01122486 & 0.06048893 & 0.03682793 & -0.13698452 & -0.01945741 & 0.04769328\\\\\n",
       "  -0.06041075 & -0.06701587 & 0.91330195 & -0.18241961\\\\\n",
       "\\end{bmatrix}) = \n",
       "\\begin{bmatrix}\n",
       "  0.22669363626374855\\\\\n",
       "\\end{bmatrix}"
      ],
      "text/plain": [
       "<IPython.core.display.Latex object>"
      ]
     },
     "metadata": {},
     "output_type": "display_data"
    },
    {
     "data": {
      "text/latex": [
       "\\nabla f_{custo} = \\frac{\\partial E}{\\partial Y} = \n",
       "\\begin{bmatrix}\n",
       "  0.00224497 & 0.01209779 & 0.00736559 & -0.0273969 & -0.00389148 & 0.00953866\\\\\n",
       "  -0.01208215 & -0.01340317 & 0.18266039 & -0.23648392\\\\\n",
       "\\end{bmatrix}"
      ],
      "text/plain": [
       "<IPython.core.display.Latex object>"
      ]
     },
     "metadata": {},
     "output_type": "display_data"
    },
    {
     "data": {
      "text/latex": [
       "Camada: 2"
      ],
      "text/plain": [
       "<IPython.core.display.Latex object>"
      ]
     },
     "metadata": {},
     "output_type": "display_data"
    },
    {
     "data": {
      "text/latex": [
       "W = W - \\lambda (X \\cdot \\nabla f_{custo})"
      ],
      "text/plain": [
       "<IPython.core.display.Latex object>"
      ]
     },
     "metadata": {},
     "output_type": "display_data"
    },
    {
     "data": {
      "text/latex": [
       "\\begin{gather}\n",
       "\\begin{bmatrix}\n",
       "  0.00884977 & -0.39255156 & 0.03423551 & 0.30528654 & 0.04169855 & -0.42114098\\\\\n",
       "  -0.39795076 & -0.27299571 & 0.30354155 & -0.31853552\\\\\n",
       "  -0.20034447 & -0.2112651 & -0.35365245 & -0.26099363 & 0.06403955 & -0.01315122\\\\\n",
       "  -0.02439884 & 0.14280374 & -0.05727063 & 0.41016191\\\\\n",
       "  -0.1893789 & 0.18708168 & 0.05233733 & 0.43575103 & -0.38277495 & -0.30482507\\\\\n",
       "  -0.17121354 & 0.26054586 & 0.36483957 & 0.2643548\\\\\n",
       "  -0.18868382 & 0.09414941 & 0.22383099 & -0.16483324 & -0.59751331 & 0.37356394\\\\\n",
       "  0.26489827 & -0.41375101 & 0.33052236 & 0.23235315\\\\\n",
       "  -0.32867817 & 0.45595866 & -0.30966689 & 0.08482208 & 0.14530009 & 0.01930439\\\\\n",
       "  0.21183186 & -0.09663803 & -0.49277473 & -0.45754563\\\\\n",
       "  0.30426375 & -0.07870006 & 0.34245317 & -0.03051418 & 0.06178495 & 0.42898597\\\\\n",
       "  -0.13089791 & -0.33803398 & -0.24464199 & -0.07675724\\\\\n",
       "  -0.02058447 & 0.47920883 & 0.488296 & -0.48297917 & -0.13018421 & -0.05948122\\\\\n",
       "  -0.33886693 & -0.01945063 & -0.18464528 & -0.3137027\\\\\n",
       "  0.11570441 & 0.2788455 & 0.18462158 & 0.24107096 & -0.11744932 & -0.43138069\\\\\n",
       "  -0.28199442 & 0.25354615 & 0.36294609 & 0.16304681\\\\\n",
       "  0.0814232 & -0.00949565 & 0.26481958 & 0.310411 & 0.42471497 & -0.16309176\\\\\n",
       "  0.25656748 & 0.40052899 & -0.21844552 & 0.45898029\\\\\n",
       "  0.26044492 & 0.53429677 & -0.37420024 & -0.52152007 & -0.0194402 & 0.30195696\\\\\n",
       "  0.28280484 & 0.13934043 & -0.45817863 & -0.19027282\\\\\n",
       "  -0.19577896 & -0.288601 & 0.01172573 & 0.19101022 & -0.42312521 & -0.01058583\\\\\n",
       "  -0.00446579 & -0.07594421 & 0.35557623 & 0.08706283\\\\\n",
       "  -0.43459737 & -0.10740635 & 0.0335457 & -0.3450695 & -0.5288513 & -0.01727143\\\\\n",
       "  -0.1509416 & -0.18743645 & 0.16936621 & 0.00894152\\\\\n",
       "  0.11083989 & 0.09325332 & -0.12171755 & 0.16785823 & 0.04050845 & -0.37339947\\\\\n",
       "  0.24649538 & 0.10826278 & -0.43010568 & 0.14460953\\\\\n",
       "  0.07116876 & -0.36487211 & 0.3543861 & -0.39636349 & 0.36841983 & 0.33794844\\\\\n",
       "  -0.51598373 & 0.10652688 & 0.10721103 & 0.25020895\\\\\n",
       "\\end{bmatrix} = \n",
       "\\begin{bmatrix}\n",
       "  9.40492526e-03 & -3.89559911e-01 & 3.60569396e-02 & 2.98511583e-01\\\\\n",
       "  4.07362331e-02 & -4.18782179e-01 & -4.00938542e-01 & -2.76310164e-01\\\\\n",
       "  3.48711461e-01 & -3.77015404e-01\\\\\n",
       "  -1.99026681e-01 & -2.04163739e-01 & -3.49328872e-01 & -2.77075536e-01\\\\\n",
       "  6.17552664e-02 & -7.55205575e-03 & -3.14910298e-02 & 1.34936111e-01\\\\\n",
       "  4.99505107e-02 & 2.71346509e-01\\\\\n",
       "  -1.88170976e-01 & 1.93590967e-01 & 5.63004286e-02 & 4.21009952e-01\\\\\n",
       "  -3.84868790e-01 & -2.99692741e-01 & -1.77714421e-01 & 2.53334198e-01\\\\\n",
       "  4.63121139e-01 & 1.37113148e-01\\\\\n",
       "  -1.87252260e-01 & 1.01863861e-01 & 2.28527836e-01 & -1.82303559e-01\\\\\n",
       "  -5.99994810e-01 & 3.79646505e-01 & 2.57193780e-01 & -4.22297877e-01\\\\\n",
       "  4.47000329e-01 & 8.15532619e-02\\\\\n",
       "  -3.28127981e-01 & 4.58923536e-01 & -3.07861763e-01 & 7.81077647e-02\\\\\n",
       "  1.44346380e-01 & 2.16420806e-02 & 2.08870823e-01 & -9.99228205e-02\\\\\n",
       "  -4.48009123e-01 & -5.15502070e-01\\\\\n",
       "  3.05445676e-01 & -7.23308406e-02 & 3.46330992e-01 & -4.49380500e-02\\\\\n",
       "  5.97361737e-02 & 4.34007867e-01 & -1.37258899e-01 & -3.45090453e-01\\\\\n",
       "  -1.48475311e-01 & -2.01260819e-01\\\\\n",
       "  -2.04465612e-02 & 4.79952021e-01 & 4.88748480e-01 & -4.84662222e-01\\\\\n",
       "  -1.30423270e-01 & -5.88952393e-02 & -3.39609165e-01 & -2.02740179e-02\\\\\n",
       "  -1.73424077e-01 & -3.28230393e-01\\\\\n",
       "  1.16124733e-01 & 2.81110574e-01 & 1.86000647e-01 & 2.35941419e-01\\\\\n",
       "  -1.18177927e-01 & -4.29594761e-01 & -2.84256566e-01 & 2.51036661e-01\\\\\n",
       "  3.97145733e-01 & 1.18769743e-01\\\\\n",
       "  8.29611766e-02 & -1.20775342e-03 & 2.69865562e-01 & 2.91642045e-01\\\\\n",
       "  4.22049010e-01 & -1.56557052e-01 & 2.48290290e-01 & 3.91346800e-01\\\\\n",
       "  -9.33092934e-02 & 2.96970859e-01\\\\\n",
       "  2.61173188e-01 & 5.38221275e-01 & -3.71810853e-01 & -5.30407587e-01\\\\\n",
       "  -2.07025901e-02 & 3.05051289e-01 & 2.78885408e-01 & 1.34992460e-01\\\\\n",
       "  -3.98923863e-01 & -2.66987861e-01\\\\\n",
       "  -1.94670862e-01 & -2.82629644e-01 & 1.53613141e-02 & 1.77487369e-01\\\\\n",
       "  -4.25046008e-01 & -5.87764074e-03 & -1.04294281e-02 & -8.25598869e-02\\\\\n",
       "  4.45735684e-01 & -2.96634113e-02\\\\\n",
       "  -4.34231042e-01 & -1.05432266e-01 & 3.47475932e-02 & -3.49540050e-01\\\\\n",
       "  -5.29486300e-01 & -1.57149341e-02 & -1.52913136e-01 & -1.89623545e-01\\\\\n",
       "  1.99172231e-01 & -2.96472790e-02\\\\\n",
       "  1.12208347e-01 & 1.00627716e-01 & -1.17227742e-01 & 1.51158010e-01\\\\\n",
       "  3.81363398e-02 & -3.67585033e-01 & 2.39130519e-01 & 1.00092665e-01\\\\\n",
       "  -3.18762143e-01 & 4.57010621e-04\\\\\n",
       "  7.20990208e-02 & -3.59859074e-01 & 3.57438223e-01 & -4.07716118e-01\\\\\n",
       "  3.66807289e-01 & 3.41901036e-01 & -5.20990286e-01 & 1.00972921e-01\\\\\n",
       "  1.82901165e-01 & 1.52215613e-01\\\\\n",
       "\\end{bmatrix} - 0.7\n",
       "\\begin{bmatrix}\n",
       "  0.35327007\\\\\n",
       "  0.83856743\\\\\n",
       "  0.7686518\\\\\n",
       "  0.91096434\\\\\n",
       "  0.35010798\\\\\n",
       "  0.75211143\\\\\n",
       "  0.08776006\\\\\n",
       "  0.2674725\\\\\n",
       "  0.97867985\\\\\n",
       "  0.46342652\\\\\n",
       "  0.70512944\\\\\n",
       "  0.23311035\\\\\n",
       "  0.87080833\\\\\n",
       "  0.59196616\\\\\n",
       "\\end{bmatrix} \\cdot \n",
       "\\begin{bmatrix}\n",
       "  0.00224497 & 0.01209779 & 0.00736559 & -0.0273969 & -0.00389148 & 0.00953866\\\\\n",
       "  -0.01208215 & -0.01340317 & 0.18266039 & -0.23648392\\\\\n",
       "\\end{bmatrix}\\end{gather}"
      ],
      "text/plain": [
       "<IPython.core.display.Latex object>"
      ]
     },
     "metadata": {},
     "output_type": "display_data"
    },
    {
     "data": {
      "text/latex": [
       "\\nabla f_{custo} = \\frac{\\partial E}{\\partial Y} = \n",
       "\\begin{bmatrix}\n",
       "  0.14464393 & -0.05468429 & 0.04035947 & 0.07836183 & 0.03894265 & 0.03425824\\\\\n",
       "  0.07290282 & 0.03945498 & -0.10448439 & 0.00697276 & 0.08265806 & 0.05727356\\\\\n",
       "  -0.06975417 & 0.01379869\\\\\n",
       "\\end{bmatrix}"
      ],
      "text/plain": [
       "<IPython.core.display.Latex object>"
      ]
     },
     "metadata": {},
     "output_type": "display_data"
    },
    {
     "data": {
      "text/latex": [
       "Camada: 1"
      ],
      "text/plain": [
       "<IPython.core.display.Latex object>"
      ]
     },
     "metadata": {},
     "output_type": "display_data"
    },
    {
     "data": {
      "text/latex": [
       "\\nabla = \\frac{\\partial E}{\\partial Y} \\frac{\\partial Y}{\\partial X}"
      ],
      "text/plain": [
       "<IPython.core.display.Latex object>"
      ]
     },
     "metadata": {},
     "output_type": "display_data"
    },
    {
     "data": {
      "text/latex": [
       "\\begin{gather}\n",
       "\\begin{bmatrix}\n",
       "  0.35327007 & 0.83856743 & 0.7686518 & 0.91096434 & 0.35010798 & 0.75211143\\\\\n",
       "  0.08776006 & 0.2674725 & 0.97867985 & 0.46342652 & 0.70512944 & 0.23311035\\\\\n",
       "  0.87080833 & 0.59196616\\\\\n",
       "\\end{bmatrix} = \\sigma(\n",
       "\\begin{bmatrix}\n",
       "  -0.60469594 & 1.6476075 & 1.20071412 & 2.32546675 & -0.61856461 & 1.10990514\\\\\n",
       "  -2.34129659 & -1.00748411 & 3.82655192 & -0.14655567 & 0.87184491 & -1.19083099\\\\\n",
       "  1.90812479 & 0.37209934\\\\\n",
       "\\end{bmatrix}) \\end{gather}"
      ],
      "text/plain": [
       "<IPython.core.display.Latex object>"
      ]
     },
     "metadata": {},
     "output_type": "display_data"
    },
    {
     "data": {
      "text/latex": [
       "\\nabla f_{custo} = \\frac{\\partial E}{\\partial Y} = \n",
       "\\begin{bmatrix}\n",
       "  0.03304685 & -0.00740273 & 0.00717697 & 0.0063558 & 0.00886071 & 0.0063871\\\\\n",
       "  0.00583647 & 0.00773045 & -0.00218013 & 0.00173386 & 0.01718642 & 0.01023879\\\\\n",
       "  -0.00784743 & 0.00333297\\\\\n",
       "\\end{bmatrix}"
      ],
      "text/plain": [
       "<IPython.core.display.Latex object>"
      ]
     },
     "metadata": {},
     "output_type": "display_data"
    },
    {
     "data": {
      "text/latex": [
       "Camada: 0"
      ],
      "text/plain": [
       "<IPython.core.display.Latex object>"
      ]
     },
     "metadata": {},
     "output_type": "display_data"
    },
    {
     "data": {
      "text/latex": [
       "W = W - \\lambda (X \\cdot \\nabla f_{custo})"
      ],
      "text/plain": [
       "<IPython.core.display.Latex object>"
      ]
     },
     "metadata": {},
     "output_type": "display_data"
    },
    {
     "data": {
      "text/latex": [
       "\\begin{gather}\n",
       "\\begin{bmatrix}\n",
       "  -0.10329066 & 0.3391661 & 0.32027673 & 0.68928287 & -0.30150664 & 0.31100511\\\\\n",
       "  -0.12357164 & 0.24333014 & 0.76576934 & 0.21466474 & 0.26303355 & 0.14363241\\\\\n",
       "  0.41402416 & 0.09242939\\\\\n",
       "  -1.10158861 & 0.3436186 & 0.2461098 & -0.50444564 & -0.72084393 & -0.62602823\\\\\n",
       "  -1.23876668 & -0.22878527 & 0.674615 & -0.40311628 & -0.21829061 & -0.70782544\\\\\n",
       "  0.35667516 & -0.04125845\\\\\n",
       "  -0.78954688 & 0.06899307 & 0.38953389 & -0.52057565 & -0.97306054 & -0.25677107\\\\\n",
       "  -0.49085274 & -0.49818656 & 0.18975249 & -0.67782395 & -0.09938437 & -0.8808682\\\\\n",
       "  -0.16771421 & 0.025965\\\\\n",
       "  0.28270406 & 0.33101256 & 0.76824026 & 0.51626702 & 0.36912599 & -0.12652066\\\\\n",
       "  -0.3479485 & -0.23287493 & 0.59716681 & -0.02704411 & 0.11712025 & -0.04386264\\\\\n",
       "  0.58861593 & -0.16021111\\\\\n",
       "  0.76359883 & 0.00384145 & 0.12981129 & 0.81921757 & 0.35476396 & 0.7507671\\\\\n",
       "  -0.02093393 & -0.27527806 & 0.5140611 & -0.24100613 & 0.50951165 & -0.24296276\\\\\n",
       "  0.58291072 & 0.12469843\\\\\n",
       "  -0.15919358 & 0.4604714 & 0.12483753 & 0.7141322 & -0.25331926 & 0.69565982\\\\\n",
       "  -0.17358371 & -0.03609145 & 0.37933802 & 0.33796308 & 0.5335866 & 0.12839329\\\\\n",
       "  0.4159034 & -0.11519022\\\\\n",
       "  0.38077683 & 0.14325944 & 0.46470718 & 0.88122997 & 0.73171634 & 0.69777324\\\\\n",
       "  0.0576194 & 0.32798561 & 0.84465998 & 0.67852472 & 0.06434105 & 0.36209607\\\\\n",
       "  0.18023746 & 0.71559896\\\\\n",
       "\\end{bmatrix} = \n",
       "\\begin{bmatrix}\n",
       "  -0.08015787 & 0.33398419 & 0.32530061 & 0.69373193 & -0.29530414 & 0.31547608\\\\\n",
       "  -0.11948611 & 0.24874146 & 0.76424325 & 0.21587845 & 0.27506404 & 0.15079956\\\\\n",
       "  0.40853096 & 0.09476247\\\\\n",
       "  -1.07845582 & 0.33843669 & 0.25113368 & -0.49999658 & -0.71464143 & -0.62155726\\\\\n",
       "  -1.23468115 & -0.22337396 & 0.67308891 & -0.40190258 & -0.20626012 & -0.70065828\\\\\n",
       "  0.35118196 & -0.03892537\\\\\n",
       "  -0.78954688 & 0.06899307 & 0.38953389 & -0.52057565 & -0.97306054 & -0.25677107\\\\\n",
       "  -0.49085274 & -0.49818656 & 0.18975249 & -0.67782395 & -0.09938437 & -0.8808682\\\\\n",
       "  -0.16771421 & 0.025965\\\\\n",
       "  0.28270406 & 0.33101256 & 0.76824026 & 0.51626702 & 0.36912599 & -0.12652066\\\\\n",
       "  -0.3479485 & -0.23287493 & 0.59716681 & -0.02704411 & 0.11712025 & -0.04386264\\\\\n",
       "  0.58861593 & -0.16021111\\\\\n",
       "  0.78673163 & -0.00134046 & 0.13483517 & 0.82366662 & 0.36096646 & 0.75523807\\\\\n",
       "  -0.0168484 & -0.26986675 & 0.51253501 & -0.23979242 & 0.52154214 & -0.23579561\\\\\n",
       "  0.57741752 & 0.12703151\\\\\n",
       "  -0.13606079 & 0.45528949 & 0.12986141 & 0.71858126 & -0.24711676 & 0.70013079\\\\\n",
       "  -0.16949818 & -0.03068013 & 0.37781193 & 0.33917678 & 0.5456171 & 0.13556045\\\\\n",
       "  0.4104102 & -0.11285715\\\\\n",
       "  0.40390963 & 0.13807753 & 0.46973106 & 0.88567903 & 0.73791884 & 0.70224421\\\\\n",
       "  0.06170493 & 0.33339693 & 0.84313389 & 0.67973843 & 0.07637154 & 0.36926322\\\\\n",
       "  0.17474426 & 0.71793204\\\\\n",
       "\\end{bmatrix} - 0.7\n",
       "\\begin{bmatrix}\n",
       "  1\\\\\n",
       "  1\\\\\n",
       "  0\\\\\n",
       "  0\\\\\n",
       "  1\\\\\n",
       "  1\\\\\n",
       "  1\\\\\n",
       "\\end{bmatrix} \\cdot \n",
       "\\begin{bmatrix}\n",
       "  0.03304685 & -0.00740273 & 0.00717697 & 0.0063558 & 0.00886071 & 0.0063871\\\\\n",
       "  0.00583647 & 0.00773045 & -0.00218013 & 0.00173386 & 0.01718642 & 0.01023879\\\\\n",
       "  -0.00784743 & 0.00333297\\\\\n",
       "\\end{bmatrix}\\end{gather}"
      ],
      "text/plain": [
       "<IPython.core.display.Latex object>"
      ]
     },
     "metadata": {},
     "output_type": "display_data"
    }
   ],
   "source": [
    "rede_exemplo_display.treinar(\n",
    "    vetor_x_exemplo_segmentos,\n",
    "    vetor_y_esperado_exemplo_segmentos,\n",
    "    max_n_iteracoes=1000,\n",
    "    taxa_aprendizado=0.7,\n",
    ")\n",
    "\n",
    "for log in rede_exemplo_display.logs[0]:\n",
    "    display(Latex(log))\n"
   ]
  },
  {
   "cell_type": "markdown",
   "metadata": {},
   "source": [
    "### Validação"
   ]
  },
  {
   "cell_type": "code",
   "execution_count": 49,
   "metadata": {},
   "outputs": [
    {
     "data": {
      "text/latex": [
       "\\begin{gather}X=\n",
       "\\begin{bmatrix}\n",
       "  1 & 1 & 1 & 1 & 1 & 1 & 0\\\\\n",
       "  0 & 1 & 1 & 0 & 0 & 0 & 0\\\\\n",
       "  1 & 1 & 0 & 1 & 1 & 0 & 1\\\\\n",
       "  1 & 1 & 1 & 1 & 0 & 0 & 1\\\\\n",
       "  0 & 1 & 1 & 0 & 0 & 1 & 1\\\\\n",
       "  1 & 0 & 1 & 1 & 0 & 1 & 1\\\\\n",
       "  0 & 0 & 1 & 1 & 1 & 1 & 1\\\\\n",
       "  1 & 1 & 1 & 0 & 0 & 0 & 0\\\\\n",
       "  1 & 1 & 1 & 1 & 1 & 1 & 1\\\\\n",
       "  1 & 1 & 0 & 0 & 1 & 1 & 1\\\\\n",
       "\\end{bmatrix}\\rightarrow\n",
       "\\begin{bmatrix}\n",
       "  0.9 & 0.04 & 0.02 & -0.09 & -0.01 & -0.05 & -0.02 & 0.07 & 0.17 & -0.02\\\\\n",
       "  -0.02 & 0.78 & 0.02 & -0.16 & 0.04 & 0.05 & 0.01 & 0.19 & 0.04 & -0.11\\\\\n",
       "  -0.06 & -0.02 & 0.95 & 0.01 & -0.08 & -0.07 & 0.03 & 0.05 & 0.06 & 0.04\\\\\n",
       "  -0.15 & -0.12 & 0.13 & 0.76 & 0.08 & 0.04 & -0.07 & 0.21 & 0.28 & -0.16\\\\\n",
       "  -0.1 & 0.04 & -0.08 & 0.02 & 0.92 & -0.08 & 0.02 & 0.04 & 0.12 & 0.06\\\\\n",
       "  -0.12 & -0.04 & -0.06 & -0.07 & -0.08 & 0.94 & 0.03 & 0.14 & 0.17 & 0.02\\\\\n",
       "  -0.16 & 0.02 & -0.01 & -0.06 & -0.03 & -0.04 & 1. & 0.08 & 0.21 & -0.03\\\\\n",
       "  -0.04 & 0.17 & -0.05 & 0.13 & -0.06 & -0.08 & 0.01 & 0.91 & -0. & 0.1\\\\\n",
       "  0.14 & -0.01 & -0.04 & 0.12 & -0.02 & 0.02 & 0.05 & -0.12 & 0.79 & 0.06\\\\\n",
       "  0. & -0.03 & 0.02 & -0.05 & 0.02 & 0.01 & -0.02 & 0.03 & 0.03 & 0.99\\\\\n",
       "\\end{bmatrix}\\end{gather}"
      ],
      "text/plain": [
       "<IPython.core.display.Latex object>"
      ]
     },
     "execution_count": 49,
     "metadata": {},
     "output_type": "execute_result"
    }
   ],
   "source": [
    "from utils import array_to_latex\n",
    "from IPython.display import Latex\n",
    "\n",
    "validacao_exemplo_display = rede_exemplo_display.predict(vetor_x_exemplo_segmentos)\n",
    "\n",
    "validacao_exemplo_display = np.asarray(validacao_exemplo_display) \\\n",
    "                              .reshape(10, 10)                    \\\n",
    "                              .round(decimals = 2)\n",
    "\n",
    "Latex(r'\\begin{gather}' +\n",
    "      array_to_latex(vetor_x_exemplo_segmentos.reshape(10,7), 'X=') +\n",
    "      r'\\rightarrow' +\n",
    "      array_to_latex(validacao_exemplo_display, '') +\n",
    "      r'\\end{gather}')"
   ]
  }
 ],
 "metadata": {
  "interpreter": {
   "hash": "2308fd1a8fedd2595f1dedf285928c5d92d2b7d305ada798b0578469c13c3676"
  },
  "kernelspec": {
   "display_name": "Python 3.10.2 ('venv': venv)",
   "language": "python",
   "name": "python3"
  },
  "language_info": {
   "codemirror_mode": {
    "name": "ipython",
    "version": 3
   },
   "file_extension": ".py",
   "mimetype": "text/x-python",
   "name": "python",
   "nbconvert_exporter": "python",
   "pygments_lexer": "ipython3",
   "version": "3.10.2"
  },
  "orig_nbformat": 4
 },
 "nbformat": 4,
 "nbformat_minor": 2
}
